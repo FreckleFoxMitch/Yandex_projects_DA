{
 "cells": [
  {
   "cell_type": "markdown",
   "metadata": {
    "toc": true
   },
   "source": [
    "<h1>Table of Contents<span class=\"tocSkip\"></span></h1>\n",
    "<div class=\"toc\"><ul class=\"toc-item\"><li><span><a href=\"#Описание-проекта\" data-toc-modified-id=\"Описание-проекта-1\"><span class=\"toc-item-num\">1&nbsp;&nbsp;</span>Описание проекта</a></span></li><li><span><a href=\"#Обзор-данных\" data-toc-modified-id=\"Обзор-данных-2\"><span class=\"toc-item-num\">2&nbsp;&nbsp;</span>Обзор данных</a></span></li><li><span><a href=\"#Предобработка-данных\" data-toc-modified-id=\"Предобработка-данных-3\"><span class=\"toc-item-num\">3&nbsp;&nbsp;</span>Предобработка данных</a></span><ul class=\"toc-item\"><li><span><a href=\"#Таблица-users\" data-toc-modified-id=\"Таблица-users-3.1\"><span class=\"toc-item-num\">3.1&nbsp;&nbsp;</span>Таблица users</a></span></li><li><span><a href=\"#Таблица-calls\" data-toc-modified-id=\"Таблица-calls-3.2\"><span class=\"toc-item-num\">3.2&nbsp;&nbsp;</span>Таблица calls</a></span></li><li><span><a href=\"#Таблица-messages\" data-toc-modified-id=\"Таблица-messages-3.3\"><span class=\"toc-item-num\">3.3&nbsp;&nbsp;</span>Таблица messages</a></span></li><li><span><a href=\"#Таблица-internet\" data-toc-modified-id=\"Таблица-internet-3.4\"><span class=\"toc-item-num\">3.4&nbsp;&nbsp;</span>Таблица internet</a></span></li><li><span><a href=\"#Промежуточный-вывод\" data-toc-modified-id=\"Промежуточный-вывод-3.5\"><span class=\"toc-item-num\">3.5&nbsp;&nbsp;</span>Промежуточный вывод</a></span></li></ul></li><li><span><a href=\"#Проведение-расчётов-и-объединение-таблиц\" data-toc-modified-id=\"Проведение-расчётов-и-объединение-таблиц-4\"><span class=\"toc-item-num\">4&nbsp;&nbsp;</span>Проведение расчётов и объединение таблиц</a></span><ul class=\"toc-item\"><li><span><a href=\"#Исходящие-звонки-и-минуты-по-месяцам\" data-toc-modified-id=\"Исходящие-звонки-и-минуты-по-месяцам-4.1\"><span class=\"toc-item-num\">4.1&nbsp;&nbsp;</span>Исходящие звонки и минуты по месяцам</a></span></li><li><span><a href=\"#Отправленные-сообщения-по-месяцам\" data-toc-modified-id=\"Отправленные-сообщения-по-месяцам-4.2\"><span class=\"toc-item-num\">4.2&nbsp;&nbsp;</span>Отправленные сообщения по месяцам</a></span></li><li><span><a href=\"#Интернет-трафик-по-месяцам\" data-toc-modified-id=\"Интернет-трафик-по-месяцам-4.3\"><span class=\"toc-item-num\">4.3&nbsp;&nbsp;</span>Интернет-трафик по месяцам</a></span></li><li><span><a href=\"#Объединение-таблиц\" data-toc-modified-id=\"Объединение-таблиц-4.4\"><span class=\"toc-item-num\">4.4&nbsp;&nbsp;</span>Объединение таблиц</a></span></li><li><span><a href=\"#Расчёт-выручки-по-пользователям\" data-toc-modified-id=\"Расчёт-выручки-по-пользователям-4.5\"><span class=\"toc-item-num\">4.5&nbsp;&nbsp;</span>Расчёт выручки по пользователям</a></span></li><li><span><a href=\"#Промежуточный-вывод\" data-toc-modified-id=\"Промежуточный-вывод-4.6\"><span class=\"toc-item-num\">4.6&nbsp;&nbsp;</span>Промежуточный вывод</a></span></li></ul></li><li><span><a href=\"#Исследовательский-и-статистический-анализ-данных\" data-toc-modified-id=\"Исследовательский-и-статистический-анализ-данных-5\"><span class=\"toc-item-num\">5&nbsp;&nbsp;</span>Исследовательский и статистический анализ данных</a></span><ul class=\"toc-item\"><li><span><a href=\"#Анализ-звонков,-сообщений-и-интернет-трафика-по-месяцам\" data-toc-modified-id=\"Анализ-звонков,-сообщений-и-интернет-трафика-по-месяцам-5.1\"><span class=\"toc-item-num\">5.1&nbsp;&nbsp;</span>Анализ звонков, сообщений и интернет-трафика по месяцам</a></span></li><li><span><a href=\"#Анализ-поведения-пользователей-различных-тарифов\" data-toc-modified-id=\"Анализ-поведения-пользователей-различных-тарифов-5.2\"><span class=\"toc-item-num\">5.2&nbsp;&nbsp;</span>Анализ поведения пользователей различных тарифов</a></span></li><li><span><a href=\"#Промежуточный-вывод\" data-toc-modified-id=\"Промежуточный-вывод-5.3\"><span class=\"toc-item-num\">5.3&nbsp;&nbsp;</span>Промежуточный вывод</a></span></li></ul></li><li><span><a href=\"#Проверка-гипотез\" data-toc-modified-id=\"Проверка-гипотез-6\"><span class=\"toc-item-num\">6&nbsp;&nbsp;</span>Проверка гипотез</a></span><ul class=\"toc-item\"><li><span><a href=\"#Средняя-выручка-пользователей-тарифов-«Ультра»-и-«Смарт»-различаются\" data-toc-modified-id=\"Средняя-выручка-пользователей-тарифов-«Ультра»-и-«Смарт»-различаются-6.1\"><span class=\"toc-item-num\">6.1&nbsp;&nbsp;</span>Средняя выручка пользователей тарифов «Ультра» и «Смарт» различаются</a></span></li><li><span><a href=\"#Средняя-выручка-пользователей-из-Москвы-отличается-от-выручки-пользователей-из-других-регионов\" data-toc-modified-id=\"Средняя-выручка-пользователей-из-Москвы-отличается-от-выручки-пользователей-из-других-регионов-6.2\"><span class=\"toc-item-num\">6.2&nbsp;&nbsp;</span>Средняя выручка пользователей из Москвы отличается от выручки пользователей из других регионов</a></span></li></ul></li><li><span><a href=\"#Общий-вывод\" data-toc-modified-id=\"Общий-вывод-7\"><span class=\"toc-item-num\">7&nbsp;&nbsp;</span>Общий вывод</a></span></li></ul></div>"
   ]
  },
  {
   "cell_type": "markdown",
   "metadata": {},
   "source": [
    "# Определение перспективного тарифа для телеком-компании"
   ]
  },
  {
   "cell_type": "markdown",
   "metadata": {},
   "source": [
    "## Описание проекта\n",
    "\n",
    "Мы выступаем в роли аналитика компании «Мегалайн» — федерального оператора сотовой связи. Клиентам предлагают два тарифных плана: «Смарт» и «Ультра». Нам предстоит сделать предварительный анализ тарифов на небольшой выборке клиентов. В нашем распоряжении данные 500 пользователей «Мегалайна»: кто они, откуда, каким тарифом пользуются, сколько звонков и сообщений каждый отправил за 2018 год.\n",
    "\n",
    "**Цель исследования:** \n",
    "*определить, на каком из тарифов стоит сосредоточить рекламное продвижение.*\n",
    "\n",
    "Данные о пользователях мы получим из пяти файлов: `/datasets/calls.csv`, `/datasets/internet.csv`, `/datasets/messages.csv`, `/datasets/tariffs.csv`, `/datasets/users.csv`. \n",
    "\n",
    "**Описание данных**\n",
    "\n",
    "Таблица `users` (информация о пользователях):\n",
    "* *user_id* — уникальный идентификатор пользователя\n",
    "* *first_name* — имя пользователя\n",
    "* *last_name* — фамилия пользователя\n",
    "* *age* — возраст пользователя (годы)\n",
    "* *reg_date* — дата подключения тарифа (день, месяц, год)\n",
    "* *churn_date* — дата прекращения пользования тарифом (если значение пропущено, то тариф ещё действовал на момент выгрузки данных)\n",
    "* *city* — город проживания пользователя\n",
    "* *tariff* — название тарифного плана\n",
    "\n",
    "Таблица `calls` (информация о звонках):\n",
    "* *id* — уникальный номер звонка\n",
    "* *call_date* — дата звонка\n",
    "* *duration* — длительность звонка в минутах\n",
    "* *user_id* — идентификатор пользователя, сделавшего звонок\n",
    "\n",
    "Таблица `messages` (информация о сообщениях):\n",
    "* *id* — уникальный номер сообщения\n",
    "* *message_date* — дата сообщения\n",
    "* *user_id* — идентификатор пользователя, отправившего сообщение\n",
    "\n",
    "Таблица `internet` (информация об интернет-сессиях):\n",
    "* *id* — уникальный номер сессии\n",
    "* *mb_used* — объём потраченного за сессию интернет-трафика (в мегабайтах)\n",
    "* *session_date* — дата интернет-сессии\n",
    "* *user_id* — идентификатор пользователя\n",
    "\n",
    "Таблица `tariffs` (информация о тарифах):\n",
    "* *tariff_name* — название тарифа\n",
    "* *rub_monthly_fee* — ежемесячная абонентская плата в рублях\n",
    "* *minutes_included* — количество минут разговора в месяц, включённых в абонентскую плату\n",
    "* *messages_included* — количество сообщений в месяц, включённых в абонентскую плату\n",
    "* *mb_per_month_included* — объём интернет-трафика, включённого в абонентскую плату (в мегабайтах)\n",
    "* *rub_per_minute* — стоимость минуты разговора сверх тарифного пакета (например, если в тарифе 100 минут разговора в месяц, то со 101 минуты будет взиматься плата)\n",
    "* *rub_per_message* — стоимость отправки сообщения сверх тарифного пакета\n",
    "* *rub_per_gb* — стоимость дополнительного гигабайта интернет-трафика сверх тарифного пакета (1 гигабайт = 1024 мегабайта)\n",
    "\n",
    "**Ход исследования**\n",
    "\n",
    "Предварительно разделим исследование на четыре этапа:\n",
    " 1. Обзор данных.\n",
    " 2. Предобработка данных.\n",
    " 3. Проведение расчётов.\n",
    " 4. Исследовательский анализ данных.\n",
    " 5. Проверка гипотез\n",
    " \n",
    "О качестве данных ничего не известно. Поэтому до выполнения расчётов и проведения исследовательского анализа понадобится обзор данных. Мы проверим данные на ошибки и оценим их влияние на исследование. Затем, на этапе предобработки мы поищем возможность исправить самые критичные ошибки данных. Также хорошим решением будет объединить все данные в один датафрейм, чтобы сделать доступ к ним более удобным."
   ]
  },
  {
   "cell_type": "markdown",
   "metadata": {},
   "source": [
    "## Обзор данных\n",
    "Составим первое впечатление о данных. Для этого сперва импортируем все необходимые библиотеки:"
   ]
  },
  {
   "cell_type": "code",
   "execution_count": 1,
   "metadata": {},
   "outputs": [],
   "source": [
    "import pandas as pd\n",
    "import numpy as np\n",
    "from matplotlib import pyplot as plt\n",
    "import math\n",
    "from scipy import stats as st\n",
    "import datetime\n",
    "pd.options.mode.chained_assignment = None  # отключаем предупреждения Pandas\n",
    "pd.set_option('display.max_columns', None) # выводим все столбцы в таблице   "
   ]
  },
  {
   "cell_type": "markdown",
   "metadata": {},
   "source": [
    "Далее прочитаем все файлы и сохраним их в соответствующих переменных:"
   ]
  },
  {
   "cell_type": "code",
   "execution_count": 2,
   "metadata": {},
   "outputs": [],
   "source": [
    "users = pd.read_csv('/datasets/users.csv')\n",
    "calls = pd.read_csv('/datasets/calls.csv')\n",
    "messages = pd.read_csv('/datasets/messages.csv')\n",
    "internet = pd.read_csv('/datasets/internet.csv')\n",
    "tariffs = pd.read_csv('/datasets/tariffs.csv')"
   ]
  },
  {
   "cell_type": "markdown",
   "metadata": {},
   "source": [
    "Отобразим первые пять строк таблицы `users`:"
   ]
  },
  {
   "cell_type": "code",
   "execution_count": 3,
   "metadata": {},
   "outputs": [
    {
     "data": {
      "text/html": [
       "<div>\n",
       "<style scoped>\n",
       "    .dataframe tbody tr th:only-of-type {\n",
       "        vertical-align: middle;\n",
       "    }\n",
       "\n",
       "    .dataframe tbody tr th {\n",
       "        vertical-align: top;\n",
       "    }\n",
       "\n",
       "    .dataframe thead th {\n",
       "        text-align: right;\n",
       "    }\n",
       "</style>\n",
       "<table border=\"1\" class=\"dataframe\">\n",
       "  <thead>\n",
       "    <tr style=\"text-align: right;\">\n",
       "      <th></th>\n",
       "      <th>user_id</th>\n",
       "      <th>age</th>\n",
       "      <th>churn_date</th>\n",
       "      <th>city</th>\n",
       "      <th>first_name</th>\n",
       "      <th>last_name</th>\n",
       "      <th>reg_date</th>\n",
       "      <th>tariff</th>\n",
       "    </tr>\n",
       "  </thead>\n",
       "  <tbody>\n",
       "    <tr>\n",
       "      <th>0</th>\n",
       "      <td>1000</td>\n",
       "      <td>52</td>\n",
       "      <td>NaN</td>\n",
       "      <td>Краснодар</td>\n",
       "      <td>Рафаил</td>\n",
       "      <td>Верещагин</td>\n",
       "      <td>2018-05-25</td>\n",
       "      <td>ultra</td>\n",
       "    </tr>\n",
       "    <tr>\n",
       "      <th>1</th>\n",
       "      <td>1001</td>\n",
       "      <td>41</td>\n",
       "      <td>NaN</td>\n",
       "      <td>Москва</td>\n",
       "      <td>Иван</td>\n",
       "      <td>Ежов</td>\n",
       "      <td>2018-11-01</td>\n",
       "      <td>smart</td>\n",
       "    </tr>\n",
       "    <tr>\n",
       "      <th>2</th>\n",
       "      <td>1002</td>\n",
       "      <td>59</td>\n",
       "      <td>NaN</td>\n",
       "      <td>Стерлитамак</td>\n",
       "      <td>Евгений</td>\n",
       "      <td>Абрамович</td>\n",
       "      <td>2018-06-17</td>\n",
       "      <td>smart</td>\n",
       "    </tr>\n",
       "    <tr>\n",
       "      <th>3</th>\n",
       "      <td>1003</td>\n",
       "      <td>23</td>\n",
       "      <td>NaN</td>\n",
       "      <td>Москва</td>\n",
       "      <td>Белла</td>\n",
       "      <td>Белякова</td>\n",
       "      <td>2018-08-17</td>\n",
       "      <td>ultra</td>\n",
       "    </tr>\n",
       "    <tr>\n",
       "      <th>4</th>\n",
       "      <td>1004</td>\n",
       "      <td>68</td>\n",
       "      <td>NaN</td>\n",
       "      <td>Новокузнецк</td>\n",
       "      <td>Татьяна</td>\n",
       "      <td>Авдеенко</td>\n",
       "      <td>2018-05-14</td>\n",
       "      <td>ultra</td>\n",
       "    </tr>\n",
       "  </tbody>\n",
       "</table>\n",
       "</div>"
      ],
      "text/plain": [
       "   user_id  age churn_date         city first_name  last_name    reg_date  \\\n",
       "0     1000   52        NaN    Краснодар     Рафаил  Верещагин  2018-05-25   \n",
       "1     1001   41        NaN       Москва       Иван       Ежов  2018-11-01   \n",
       "2     1002   59        NaN  Стерлитамак    Евгений  Абрамович  2018-06-17   \n",
       "3     1003   23        NaN       Москва      Белла   Белякова  2018-08-17   \n",
       "4     1004   68        NaN  Новокузнецк    Татьяна   Авдеенко  2018-05-14   \n",
       "\n",
       "  tariff  \n",
       "0  ultra  \n",
       "1  smart  \n",
       "2  smart  \n",
       "3  ultra  \n",
       "4  ultra  "
      ]
     },
     "metadata": {},
     "output_type": "display_data"
    }
   ],
   "source": [
    "display(users.head())"
   ]
  },
  {
   "cell_type": "markdown",
   "metadata": {},
   "source": [
    "Отобразим первые пять строк таблицы `calls`:"
   ]
  },
  {
   "cell_type": "code",
   "execution_count": 4,
   "metadata": {},
   "outputs": [
    {
     "data": {
      "text/html": [
       "<div>\n",
       "<style scoped>\n",
       "    .dataframe tbody tr th:only-of-type {\n",
       "        vertical-align: middle;\n",
       "    }\n",
       "\n",
       "    .dataframe tbody tr th {\n",
       "        vertical-align: top;\n",
       "    }\n",
       "\n",
       "    .dataframe thead th {\n",
       "        text-align: right;\n",
       "    }\n",
       "</style>\n",
       "<table border=\"1\" class=\"dataframe\">\n",
       "  <thead>\n",
       "    <tr style=\"text-align: right;\">\n",
       "      <th></th>\n",
       "      <th>id</th>\n",
       "      <th>call_date</th>\n",
       "      <th>duration</th>\n",
       "      <th>user_id</th>\n",
       "    </tr>\n",
       "  </thead>\n",
       "  <tbody>\n",
       "    <tr>\n",
       "      <th>0</th>\n",
       "      <td>1000_0</td>\n",
       "      <td>2018-07-25</td>\n",
       "      <td>0.00</td>\n",
       "      <td>1000</td>\n",
       "    </tr>\n",
       "    <tr>\n",
       "      <th>1</th>\n",
       "      <td>1000_1</td>\n",
       "      <td>2018-08-17</td>\n",
       "      <td>0.00</td>\n",
       "      <td>1000</td>\n",
       "    </tr>\n",
       "    <tr>\n",
       "      <th>2</th>\n",
       "      <td>1000_2</td>\n",
       "      <td>2018-06-11</td>\n",
       "      <td>2.85</td>\n",
       "      <td>1000</td>\n",
       "    </tr>\n",
       "    <tr>\n",
       "      <th>3</th>\n",
       "      <td>1000_3</td>\n",
       "      <td>2018-09-21</td>\n",
       "      <td>13.80</td>\n",
       "      <td>1000</td>\n",
       "    </tr>\n",
       "    <tr>\n",
       "      <th>4</th>\n",
       "      <td>1000_4</td>\n",
       "      <td>2018-12-15</td>\n",
       "      <td>5.18</td>\n",
       "      <td>1000</td>\n",
       "    </tr>\n",
       "  </tbody>\n",
       "</table>\n",
       "</div>"
      ],
      "text/plain": [
       "       id   call_date  duration  user_id\n",
       "0  1000_0  2018-07-25      0.00     1000\n",
       "1  1000_1  2018-08-17      0.00     1000\n",
       "2  1000_2  2018-06-11      2.85     1000\n",
       "3  1000_3  2018-09-21     13.80     1000\n",
       "4  1000_4  2018-12-15      5.18     1000"
      ]
     },
     "metadata": {},
     "output_type": "display_data"
    }
   ],
   "source": [
    "display(calls.head())"
   ]
  },
  {
   "cell_type": "markdown",
   "metadata": {},
   "source": [
    "Отобразим первые пять строк таблицы `messages`:"
   ]
  },
  {
   "cell_type": "code",
   "execution_count": 5,
   "metadata": {},
   "outputs": [
    {
     "data": {
      "text/html": [
       "<div>\n",
       "<style scoped>\n",
       "    .dataframe tbody tr th:only-of-type {\n",
       "        vertical-align: middle;\n",
       "    }\n",
       "\n",
       "    .dataframe tbody tr th {\n",
       "        vertical-align: top;\n",
       "    }\n",
       "\n",
       "    .dataframe thead th {\n",
       "        text-align: right;\n",
       "    }\n",
       "</style>\n",
       "<table border=\"1\" class=\"dataframe\">\n",
       "  <thead>\n",
       "    <tr style=\"text-align: right;\">\n",
       "      <th></th>\n",
       "      <th>id</th>\n",
       "      <th>message_date</th>\n",
       "      <th>user_id</th>\n",
       "    </tr>\n",
       "  </thead>\n",
       "  <tbody>\n",
       "    <tr>\n",
       "      <th>0</th>\n",
       "      <td>1000_0</td>\n",
       "      <td>2018-06-27</td>\n",
       "      <td>1000</td>\n",
       "    </tr>\n",
       "    <tr>\n",
       "      <th>1</th>\n",
       "      <td>1000_1</td>\n",
       "      <td>2018-10-08</td>\n",
       "      <td>1000</td>\n",
       "    </tr>\n",
       "    <tr>\n",
       "      <th>2</th>\n",
       "      <td>1000_2</td>\n",
       "      <td>2018-08-04</td>\n",
       "      <td>1000</td>\n",
       "    </tr>\n",
       "    <tr>\n",
       "      <th>3</th>\n",
       "      <td>1000_3</td>\n",
       "      <td>2018-06-16</td>\n",
       "      <td>1000</td>\n",
       "    </tr>\n",
       "    <tr>\n",
       "      <th>4</th>\n",
       "      <td>1000_4</td>\n",
       "      <td>2018-12-05</td>\n",
       "      <td>1000</td>\n",
       "    </tr>\n",
       "  </tbody>\n",
       "</table>\n",
       "</div>"
      ],
      "text/plain": [
       "       id message_date  user_id\n",
       "0  1000_0   2018-06-27     1000\n",
       "1  1000_1   2018-10-08     1000\n",
       "2  1000_2   2018-08-04     1000\n",
       "3  1000_3   2018-06-16     1000\n",
       "4  1000_4   2018-12-05     1000"
      ]
     },
     "metadata": {},
     "output_type": "display_data"
    }
   ],
   "source": [
    "display(messages.head())"
   ]
  },
  {
   "cell_type": "markdown",
   "metadata": {},
   "source": [
    "Отобразим первые пять строк таблицы `internet`:"
   ]
  },
  {
   "cell_type": "code",
   "execution_count": 6,
   "metadata": {},
   "outputs": [
    {
     "data": {
      "text/html": [
       "<div>\n",
       "<style scoped>\n",
       "    .dataframe tbody tr th:only-of-type {\n",
       "        vertical-align: middle;\n",
       "    }\n",
       "\n",
       "    .dataframe tbody tr th {\n",
       "        vertical-align: top;\n",
       "    }\n",
       "\n",
       "    .dataframe thead th {\n",
       "        text-align: right;\n",
       "    }\n",
       "</style>\n",
       "<table border=\"1\" class=\"dataframe\">\n",
       "  <thead>\n",
       "    <tr style=\"text-align: right;\">\n",
       "      <th></th>\n",
       "      <th>Unnamed: 0</th>\n",
       "      <th>id</th>\n",
       "      <th>mb_used</th>\n",
       "      <th>session_date</th>\n",
       "      <th>user_id</th>\n",
       "    </tr>\n",
       "  </thead>\n",
       "  <tbody>\n",
       "    <tr>\n",
       "      <th>0</th>\n",
       "      <td>0</td>\n",
       "      <td>1000_0</td>\n",
       "      <td>112.95</td>\n",
       "      <td>2018-11-25</td>\n",
       "      <td>1000</td>\n",
       "    </tr>\n",
       "    <tr>\n",
       "      <th>1</th>\n",
       "      <td>1</td>\n",
       "      <td>1000_1</td>\n",
       "      <td>1052.81</td>\n",
       "      <td>2018-09-07</td>\n",
       "      <td>1000</td>\n",
       "    </tr>\n",
       "    <tr>\n",
       "      <th>2</th>\n",
       "      <td>2</td>\n",
       "      <td>1000_2</td>\n",
       "      <td>1197.26</td>\n",
       "      <td>2018-06-25</td>\n",
       "      <td>1000</td>\n",
       "    </tr>\n",
       "    <tr>\n",
       "      <th>3</th>\n",
       "      <td>3</td>\n",
       "      <td>1000_3</td>\n",
       "      <td>550.27</td>\n",
       "      <td>2018-08-22</td>\n",
       "      <td>1000</td>\n",
       "    </tr>\n",
       "    <tr>\n",
       "      <th>4</th>\n",
       "      <td>4</td>\n",
       "      <td>1000_4</td>\n",
       "      <td>302.56</td>\n",
       "      <td>2018-09-24</td>\n",
       "      <td>1000</td>\n",
       "    </tr>\n",
       "  </tbody>\n",
       "</table>\n",
       "</div>"
      ],
      "text/plain": [
       "   Unnamed: 0      id  mb_used session_date  user_id\n",
       "0           0  1000_0   112.95   2018-11-25     1000\n",
       "1           1  1000_1  1052.81   2018-09-07     1000\n",
       "2           2  1000_2  1197.26   2018-06-25     1000\n",
       "3           3  1000_3   550.27   2018-08-22     1000\n",
       "4           4  1000_4   302.56   2018-09-24     1000"
      ]
     },
     "metadata": {},
     "output_type": "display_data"
    }
   ],
   "source": [
    "display(internet.head())"
   ]
  },
  {
   "cell_type": "markdown",
   "metadata": {},
   "source": [
    "Отобразим первые пять строк таблицы `tariffs`:"
   ]
  },
  {
   "cell_type": "code",
   "execution_count": 7,
   "metadata": {
    "scrolled": true
   },
   "outputs": [
    {
     "data": {
      "text/html": [
       "<div>\n",
       "<style scoped>\n",
       "    .dataframe tbody tr th:only-of-type {\n",
       "        vertical-align: middle;\n",
       "    }\n",
       "\n",
       "    .dataframe tbody tr th {\n",
       "        vertical-align: top;\n",
       "    }\n",
       "\n",
       "    .dataframe thead th {\n",
       "        text-align: right;\n",
       "    }\n",
       "</style>\n",
       "<table border=\"1\" class=\"dataframe\">\n",
       "  <thead>\n",
       "    <tr style=\"text-align: right;\">\n",
       "      <th></th>\n",
       "      <th>messages_included</th>\n",
       "      <th>mb_per_month_included</th>\n",
       "      <th>minutes_included</th>\n",
       "      <th>rub_monthly_fee</th>\n",
       "      <th>rub_per_gb</th>\n",
       "      <th>rub_per_message</th>\n",
       "      <th>rub_per_minute</th>\n",
       "      <th>tariff_name</th>\n",
       "    </tr>\n",
       "  </thead>\n",
       "  <tbody>\n",
       "    <tr>\n",
       "      <th>0</th>\n",
       "      <td>50</td>\n",
       "      <td>15360</td>\n",
       "      <td>500</td>\n",
       "      <td>550</td>\n",
       "      <td>200</td>\n",
       "      <td>3</td>\n",
       "      <td>3</td>\n",
       "      <td>smart</td>\n",
       "    </tr>\n",
       "    <tr>\n",
       "      <th>1</th>\n",
       "      <td>1000</td>\n",
       "      <td>30720</td>\n",
       "      <td>3000</td>\n",
       "      <td>1950</td>\n",
       "      <td>150</td>\n",
       "      <td>1</td>\n",
       "      <td>1</td>\n",
       "      <td>ultra</td>\n",
       "    </tr>\n",
       "  </tbody>\n",
       "</table>\n",
       "</div>"
      ],
      "text/plain": [
       "   messages_included  mb_per_month_included  minutes_included  \\\n",
       "0                 50                  15360               500   \n",
       "1               1000                  30720              3000   \n",
       "\n",
       "   rub_monthly_fee  rub_per_gb  rub_per_message  rub_per_minute tariff_name  \n",
       "0              550         200                3               3       smart  \n",
       "1             1950         150                1               1       ultra  "
      ]
     },
     "metadata": {},
     "output_type": "display_data"
    }
   ],
   "source": [
    "display(tariffs)"
   ]
  },
  {
   "cell_type": "markdown",
   "metadata": {},
   "source": [
    "Данная таблица является \"словарём\", содержащим информацию о тарифных планах. Вносить какие-либо изменения здесь не требуется, поэтому отдельно изучать её мы не будем.\n",
    "\n",
    "Итак, мы видим, что в четырёх таблицах из пяти (исключая `tariffs`) представлены данные о пользователях. По этой причине имеет смысл их объединить. Но прежде требуется изучить каждую из таблиц и убедиться, что все данные в них содержатся в нужном формате и не содержат артефактов. Сделать это возможно на этапе предобработки."
   ]
  },
  {
   "cell_type": "markdown",
   "metadata": {},
   "source": [
    "## Предобработка данных"
   ]
  },
  {
   "cell_type": "markdown",
   "metadata": {},
   "source": [
    "### Таблица users\n",
    "Получим полную информацию о таблице:"
   ]
  },
  {
   "cell_type": "code",
   "execution_count": 8,
   "metadata": {},
   "outputs": [
    {
     "name": "stdout",
     "output_type": "stream",
     "text": [
      "<class 'pandas.core.frame.DataFrame'>\n",
      "RangeIndex: 500 entries, 0 to 499\n",
      "Data columns (total 8 columns):\n",
      " #   Column      Non-Null Count  Dtype \n",
      "---  ------      --------------  ----- \n",
      " 0   user_id     500 non-null    int64 \n",
      " 1   age         500 non-null    int64 \n",
      " 2   churn_date  38 non-null     object\n",
      " 3   city        500 non-null    object\n",
      " 4   first_name  500 non-null    object\n",
      " 5   last_name   500 non-null    object\n",
      " 6   reg_date    500 non-null    object\n",
      " 7   tariff      500 non-null    object\n",
      "dtypes: int64(2), object(6)\n",
      "memory usage: 31.4+ KB\n"
     ]
    }
   ],
   "source": [
    "users.info()"
   ]
  },
  {
   "cell_type": "markdown",
   "metadata": {},
   "source": [
    "В датафрейме восемь столбцов, все поименованы в соответствии с общепринятым стилем. Представленные типы данных - `int` и `object`.\n",
    "\n",
    "Пропуски содержатся только в столбце `churn_date`. Поскольку там указана дата прекращения пользования тарифом а в документации говорится, что если значение пропущено, то тариф ещё действовал на момент выгрузки данных, то эти пропуски несут такую же информацию, как и присутствующие значения, и видоизменять их не требуется."
   ]
  },
  {
   "cell_type": "markdown",
   "metadata": {},
   "source": [
    "Из документации в **пункте 1** мы знаем, что столбцы `churn_date` и `reg_date` содержат даты, поэтому для удобства их лучше перевести в формат `datetime`:"
   ]
  },
  {
   "cell_type": "code",
   "execution_count": 9,
   "metadata": {},
   "outputs": [],
   "source": [
    "users['churn_date'] = pd.to_datetime(users['churn_date'], format='%Y-%m-%d')\n",
    "users['reg_date'] = pd.to_datetime(users['reg_date'],\n",
    "format='%Y-%m-%d')"
   ]
  },
  {
   "cell_type": "markdown",
   "metadata": {},
   "source": [
    "Для проверки выведем обновлённые типы данных:"
   ]
  },
  {
   "cell_type": "code",
   "execution_count": 10,
   "metadata": {},
   "outputs": [
    {
     "data": {
      "text/plain": [
       "user_id                int64\n",
       "age                    int64\n",
       "churn_date    datetime64[ns]\n",
       "city                  object\n",
       "first_name            object\n",
       "last_name             object\n",
       "reg_date      datetime64[ns]\n",
       "tariff                object\n",
       "dtype: object"
      ]
     },
     "execution_count": 10,
     "metadata": {},
     "output_type": "execute_result"
    }
   ],
   "source": [
    "users.dtypes"
   ]
  },
  {
   "cell_type": "markdown",
   "metadata": {},
   "source": [
    "Посмотрим на значения столбца `tariff`:"
   ]
  },
  {
   "cell_type": "code",
   "execution_count": 11,
   "metadata": {},
   "outputs": [
    {
     "data": {
      "text/plain": [
       "smart    351\n",
       "ultra    149\n",
       "Name: tariff, dtype: int64"
      ]
     },
     "execution_count": 11,
     "metadata": {},
     "output_type": "execute_result"
    }
   ],
   "source": [
    "users.tariff.value_counts()"
   ]
  },
  {
   "cell_type": "markdown",
   "metadata": {},
   "source": [
    "Здесь указаны два тарифа, \"smart\" и \"ultra\", их значения совпадают со значениями таблицы-\"словаря\" `tariffs`. Однако, само наименование столбца легко перепутать с названием вышеуказанного \"словаря\". Исправим это переименованием колонки, и проверим результат:"
   ]
  },
  {
   "cell_type": "code",
   "execution_count": 12,
   "metadata": {},
   "outputs": [
    {
     "data": {
      "text/plain": [
       "Index(['user_id', 'age', 'churn_date', 'city', 'first_name', 'last_name',\n",
       "       'reg_date', 'tariff_name'],\n",
       "      dtype='object')"
      ]
     },
     "execution_count": 12,
     "metadata": {},
     "output_type": "execute_result"
    }
   ],
   "source": [
    "users = users.rename(columns={'tariff': 'tariff_name'})\n",
    "users.columns"
   ]
  },
  {
   "cell_type": "markdown",
   "metadata": {},
   "source": [
    "Проверим таблицу на дубликаты:"
   ]
  },
  {
   "cell_type": "code",
   "execution_count": 13,
   "metadata": {},
   "outputs": [
    {
     "data": {
      "text/plain": [
       "0"
      ]
     },
     "execution_count": 13,
     "metadata": {},
     "output_type": "execute_result"
    }
   ],
   "source": [
    "users.duplicated().sum()"
   ]
  },
  {
   "cell_type": "markdown",
   "metadata": {},
   "source": [
    "Дубликатов не обнаружено.\n",
    "\n",
    "Все необходимые изменения внесены, можно переходить к следующей таблице."
   ]
  },
  {
   "cell_type": "markdown",
   "metadata": {},
   "source": [
    "### Таблица calls\n",
    "Получим полную информацию о таблице:"
   ]
  },
  {
   "cell_type": "code",
   "execution_count": 14,
   "metadata": {},
   "outputs": [
    {
     "name": "stdout",
     "output_type": "stream",
     "text": [
      "<class 'pandas.core.frame.DataFrame'>\n",
      "RangeIndex: 202607 entries, 0 to 202606\n",
      "Data columns (total 4 columns):\n",
      " #   Column     Non-Null Count   Dtype  \n",
      "---  ------     --------------   -----  \n",
      " 0   id         202607 non-null  object \n",
      " 1   call_date  202607 non-null  object \n",
      " 2   duration   202607 non-null  float64\n",
      " 3   user_id    202607 non-null  int64  \n",
      "dtypes: float64(1), int64(1), object(2)\n",
      "memory usage: 6.2+ MB\n"
     ]
    }
   ],
   "source": [
    "calls.info()"
   ]
  },
  {
   "cell_type": "markdown",
   "metadata": {},
   "source": [
    "В датафрейме четыре столбца, все поименованы в соответствии с общепринятым стилем. Представленные типы данных - `float` и `object`. Пропусков таблица не содержит.\n",
    "\n",
    "Сперва переведём столбец `call_date` в формат `datetime` и проверим изменение типа данных:"
   ]
  },
  {
   "cell_type": "code",
   "execution_count": 15,
   "metadata": {},
   "outputs": [
    {
     "data": {
      "text/plain": [
       "id                   object\n",
       "call_date    datetime64[ns]\n",
       "duration            float64\n",
       "user_id               int64\n",
       "dtype: object"
      ]
     },
     "execution_count": 15,
     "metadata": {},
     "output_type": "execute_result"
    }
   ],
   "source": [
    "calls['call_date'] = pd.to_datetime(calls.call_date, format='%Y-%m-%d')\n",
    "calls.dtypes"
   ]
  },
  {
   "cell_type": "markdown",
   "metadata": {},
   "source": [
    "Далее рассмотрим столбец `duration`. В описании проекта указывалось, что «Мегалайн» всегда округляет секунды до минут. Каждый звонок округляется отдельно: даже если он длился всего 1 секунду, будет засчитан как 1 минута. Используем `ceil` модуля `math`, поскольку нам требуется округление в б*о*льшую сторону:"
   ]
  },
  {
   "cell_type": "code",
   "execution_count": 16,
   "metadata": {},
   "outputs": [
    {
     "data": {
      "text/plain": [
       "0     0.0\n",
       "1     0.0\n",
       "2     3.0\n",
       "3    14.0\n",
       "4     6.0\n",
       "5     0.0\n",
       "6     0.0\n",
       "7    19.0\n",
       "8    19.0\n",
       "9     0.0\n",
       "Name: duration, dtype: float64"
      ]
     },
     "execution_count": 16,
     "metadata": {},
     "output_type": "execute_result"
    }
   ],
   "source": [
    "calls['duration'] = np.ceil(calls['duration'])\n",
    "calls.duration.head(10)"
   ]
  },
  {
   "cell_type": "markdown",
   "metadata": {},
   "source": [
    "Выше мы видим звонки нулевой продолжительности. В описании проекта отмечено, что это не ошибка: нулями обозначены пропущенные звонки, поэтому их не нужно удалять.\n",
    "\n",
    "В дальнейших расчётах нам потребуется количество сделанных звонков и израсходованных минут разговора по месяцам. Создадим столбец `month` с указанием месяца и проверим изменения выводом перечня столбцов:"
   ]
  },
  {
   "cell_type": "code",
   "execution_count": 17,
   "metadata": {},
   "outputs": [
    {
     "data": {
      "text/plain": [
       "Index(['id', 'call_date', 'duration', 'user_id', 'month'], dtype='object')"
      ]
     },
     "execution_count": 17,
     "metadata": {},
     "output_type": "execute_result"
    }
   ],
   "source": [
    "calls['month'] = calls.call_date.dt.month\n",
    "calls.columns"
   ]
  },
  {
   "cell_type": "markdown",
   "metadata": {},
   "source": [
    "Проверим таблицу на наличие дубликатов:"
   ]
  },
  {
   "cell_type": "code",
   "execution_count": 18,
   "metadata": {},
   "outputs": [
    {
     "data": {
      "text/plain": [
       "0"
      ]
     },
     "execution_count": 18,
     "metadata": {},
     "output_type": "execute_result"
    }
   ],
   "source": [
    "users.duplicated().sum()"
   ]
  },
  {
   "cell_type": "markdown",
   "metadata": {},
   "source": [
    "Дубликатов не обнаружено.\n",
    "\n",
    "Все необходимые изменения внесены, можно двигаться дальше."
   ]
  },
  {
   "cell_type": "markdown",
   "metadata": {},
   "source": [
    "### Таблица messages\n",
    "Получим полную информацию о таблице:"
   ]
  },
  {
   "cell_type": "code",
   "execution_count": 19,
   "metadata": {},
   "outputs": [
    {
     "name": "stdout",
     "output_type": "stream",
     "text": [
      "<class 'pandas.core.frame.DataFrame'>\n",
      "RangeIndex: 123036 entries, 0 to 123035\n",
      "Data columns (total 3 columns):\n",
      " #   Column        Non-Null Count   Dtype \n",
      "---  ------        --------------   ----- \n",
      " 0   id            123036 non-null  object\n",
      " 1   message_date  123036 non-null  object\n",
      " 2   user_id       123036 non-null  int64 \n",
      "dtypes: int64(1), object(2)\n",
      "memory usage: 2.8+ MB\n"
     ]
    }
   ],
   "source": [
    "messages.info()"
   ]
  },
  {
   "cell_type": "markdown",
   "metadata": {},
   "source": [
    "В датафрейме три столбца, все поименованы в соответствии с общепринятым стилем. Представленные типы данных - `int` и `object`. Пропусков таблица не содержит.\n",
    "\n",
    "Переведём столбец `message_date` в формат `datetime` и проверим изменение типа данных:"
   ]
  },
  {
   "cell_type": "code",
   "execution_count": 20,
   "metadata": {},
   "outputs": [
    {
     "data": {
      "text/plain": [
       "id                      object\n",
       "message_date    datetime64[ns]\n",
       "user_id                  int64\n",
       "dtype: object"
      ]
     },
     "execution_count": 20,
     "metadata": {},
     "output_type": "execute_result"
    }
   ],
   "source": [
    "messages['message_date'] = pd.to_datetime(messages.message_date, format='%Y-%m-%d')\n",
    "messages.dtypes"
   ]
  },
  {
   "cell_type": "markdown",
   "metadata": {},
   "source": [
    "Аналогично пункту выше, создадим столбец `month` с указанием месяца и проверим изменения выводом перечня столбцов:"
   ]
  },
  {
   "cell_type": "code",
   "execution_count": 21,
   "metadata": {},
   "outputs": [
    {
     "data": {
      "text/plain": [
       "Index(['id', 'message_date', 'user_id', 'month'], dtype='object')"
      ]
     },
     "execution_count": 21,
     "metadata": {},
     "output_type": "execute_result"
    }
   ],
   "source": [
    "messages['month'] = messages.message_date.dt.month\n",
    "messages.columns"
   ]
  },
  {
   "cell_type": "markdown",
   "metadata": {},
   "source": [
    "Проверим таблицу на наличие дубликатов:"
   ]
  },
  {
   "cell_type": "code",
   "execution_count": 22,
   "metadata": {},
   "outputs": [
    {
     "data": {
      "text/plain": [
       "0"
      ]
     },
     "execution_count": 22,
     "metadata": {},
     "output_type": "execute_result"
    }
   ],
   "source": [
    "users.duplicated().sum()"
   ]
  },
  {
   "cell_type": "markdown",
   "metadata": {},
   "source": [
    "Дубликатов не обнаружено.\n",
    "\n",
    "Все необходимые изменения внесены, можно приступить к рассмотрению следующей таблицы."
   ]
  },
  {
   "cell_type": "markdown",
   "metadata": {},
   "source": [
    "### Таблица internet\n",
    "Получим полную информацию о таблице:"
   ]
  },
  {
   "cell_type": "code",
   "execution_count": 23,
   "metadata": {},
   "outputs": [
    {
     "name": "stdout",
     "output_type": "stream",
     "text": [
      "<class 'pandas.core.frame.DataFrame'>\n",
      "RangeIndex: 149396 entries, 0 to 149395\n",
      "Data columns (total 5 columns):\n",
      " #   Column        Non-Null Count   Dtype  \n",
      "---  ------        --------------   -----  \n",
      " 0   Unnamed: 0    149396 non-null  int64  \n",
      " 1   id            149396 non-null  object \n",
      " 2   mb_used       149396 non-null  float64\n",
      " 3   session_date  149396 non-null  object \n",
      " 4   user_id       149396 non-null  int64  \n",
      "dtypes: float64(1), int64(2), object(2)\n",
      "memory usage: 5.7+ MB\n"
     ]
    }
   ],
   "source": [
    "internet.info()"
   ]
  },
  {
   "cell_type": "markdown",
   "metadata": {},
   "source": [
    "В датафрейме пять столбцов, все поименованы в соответствии с общепринятым стилем. Представленные типы данных - `int`, `float` и `object`. Пропусков таблица не содержит.\n",
    "\n",
    "Переведём столбец `session_date` в формат `datetime` и проверим изменение типа данных:"
   ]
  },
  {
   "cell_type": "code",
   "execution_count": 24,
   "metadata": {},
   "outputs": [
    {
     "data": {
      "text/plain": [
       "Unnamed: 0               int64\n",
       "id                      object\n",
       "mb_used                float64\n",
       "session_date    datetime64[ns]\n",
       "user_id                  int64\n",
       "dtype: object"
      ]
     },
     "execution_count": 24,
     "metadata": {},
     "output_type": "execute_result"
    }
   ],
   "source": [
    "internet['session_date'] = pd.to_datetime(internet.session_date, format='%Y-%m-%d')\n",
    "internet.dtypes"
   ]
  },
  {
   "cell_type": "markdown",
   "metadata": {},
   "source": [
    "Здесь также создадим столбец `month` с указанием месяца и проверим изменения выводом перечня столбцов:"
   ]
  },
  {
   "cell_type": "code",
   "execution_count": 25,
   "metadata": {},
   "outputs": [
    {
     "data": {
      "text/plain": [
       "Index(['Unnamed: 0', 'id', 'mb_used', 'session_date', 'user_id', 'month'], dtype='object')"
      ]
     },
     "execution_count": 25,
     "metadata": {},
     "output_type": "execute_result"
    }
   ],
   "source": [
    "internet['month'] = internet.session_date.dt.month\n",
    "internet.columns"
   ]
  },
  {
   "cell_type": "markdown",
   "metadata": {},
   "source": [
    "Проверим таблицу на наличие дубликатов:"
   ]
  },
  {
   "cell_type": "code",
   "execution_count": 26,
   "metadata": {},
   "outputs": [
    {
     "data": {
      "text/plain": [
       "0"
      ]
     },
     "execution_count": 26,
     "metadata": {},
     "output_type": "execute_result"
    }
   ],
   "source": [
    "users.duplicated().sum()"
   ]
  },
  {
   "cell_type": "markdown",
   "metadata": {},
   "source": [
    "Дубликатов не обнаружено."
   ]
  },
  {
   "cell_type": "markdown",
   "metadata": {},
   "source": [
    "### Промежуточный вывод\n",
    "Предобработка выявила следующие проблемы в данных:\n",
    "\n",
    "* некорректный стиль представления заголовков\n",
    "* пропущенные значения\n",
    "* неудобный тип представления данных\n",
    "\n",
    "Были внесены изменения:\n",
    "\n",
    "* `users`:\n",
    "  - тип данных в столбцах `churn_date` и `reg_date` изменён на `datetime`\n",
    "  - столбец `tariff` переименован в `tariff_name`\n",
    "\n",
    "\n",
    "* `calls`:\n",
    "  - тип данных в столбце `call_date` изменён на `datetime`\n",
    "  - значения столбца `duration` округлены до минут\n",
    "  - добавлен столбец с месяцами `month`\n",
    "  \n",
    "  \n",
    "* `messages`:\n",
    "  - тип данных в столбце `message_date` изменён на `datetime`\n",
    "  - добавлен столбец с месяцами `month`\n",
    "  \n",
    "  \n",
    "* `internet`:\n",
    "  - тип данных в столбце `session_date` изменён на `datetime`\n",
    "  - добавлен столбец с месяцами `month`\n",
    "  \n",
    "Помимо этого, была проведена проверка на дубликаты, которые обнаружены не были.Также, с целью сохранения правдоподобности данных, пропущенные значения в столбце `churn_date` были оставлены без изменения.\n",
    "\n",
    "В процессе предобработки нам не встретились явные аномалии (к примеру, отрицательные значения) в данных. Вероятно, они отсутствуют.\n",
    "\n",
    "Теперь, когда все изменения внесены в таблицы, можно приступить к выполнению расчётов и объединению таблиц в один общий датафрейм."
   ]
  },
  {
   "cell_type": "markdown",
   "metadata": {},
   "source": [
    "## Проведение расчётов и объединение таблиц"
   ]
  },
  {
   "cell_type": "markdown",
   "metadata": {},
   "source": [
    "###  Исходящие звонки и минуты по месяцам\n",
    "Создадим сводную таблицу `calls_by_month`, где рассчитаем количество сделанных звонков и израсходованных минут разговора по месяцам, и выведем первые пять её строк на экран:"
   ]
  },
  {
   "cell_type": "code",
   "execution_count": 27,
   "metadata": {
    "scrolled": true
   },
   "outputs": [
    {
     "data": {
      "text/html": [
       "<div>\n",
       "<style scoped>\n",
       "    .dataframe tbody tr th:only-of-type {\n",
       "        vertical-align: middle;\n",
       "    }\n",
       "\n",
       "    .dataframe tbody tr th {\n",
       "        vertical-align: top;\n",
       "    }\n",
       "\n",
       "    .dataframe thead th {\n",
       "        text-align: right;\n",
       "    }\n",
       "</style>\n",
       "<table border=\"1\" class=\"dataframe\">\n",
       "  <thead>\n",
       "    <tr style=\"text-align: right;\">\n",
       "      <th></th>\n",
       "      <th>user_id</th>\n",
       "      <th>month</th>\n",
       "      <th>calls_per_month</th>\n",
       "      <th>minutes_per_month</th>\n",
       "    </tr>\n",
       "  </thead>\n",
       "  <tbody>\n",
       "    <tr>\n",
       "      <th>0</th>\n",
       "      <td>1000</td>\n",
       "      <td>5</td>\n",
       "      <td>22</td>\n",
       "      <td>159.0</td>\n",
       "    </tr>\n",
       "    <tr>\n",
       "      <th>1</th>\n",
       "      <td>1000</td>\n",
       "      <td>6</td>\n",
       "      <td>43</td>\n",
       "      <td>172.0</td>\n",
       "    </tr>\n",
       "    <tr>\n",
       "      <th>2</th>\n",
       "      <td>1000</td>\n",
       "      <td>7</td>\n",
       "      <td>47</td>\n",
       "      <td>340.0</td>\n",
       "    </tr>\n",
       "    <tr>\n",
       "      <th>3</th>\n",
       "      <td>1000</td>\n",
       "      <td>8</td>\n",
       "      <td>52</td>\n",
       "      <td>408.0</td>\n",
       "    </tr>\n",
       "    <tr>\n",
       "      <th>4</th>\n",
       "      <td>1000</td>\n",
       "      <td>9</td>\n",
       "      <td>58</td>\n",
       "      <td>466.0</td>\n",
       "    </tr>\n",
       "  </tbody>\n",
       "</table>\n",
       "</div>"
      ],
      "text/plain": [
       "   user_id  month  calls_per_month  minutes_per_month\n",
       "0     1000      5               22              159.0\n",
       "1     1000      6               43              172.0\n",
       "2     1000      7               47              340.0\n",
       "3     1000      8               52              408.0\n",
       "4     1000      9               58              466.0"
      ]
     },
     "metadata": {},
     "output_type": "display_data"
    }
   ],
   "source": [
    "calls_by_month = (\n",
    "    calls\n",
    "    .pivot_table(index = ['user_id', 'month'], values='duration', aggfunc=['count', 'sum'])\n",
    "    .reset_index()\n",
    ")\n",
    "calls_by_month.columns = ['user_id','month', 'calls_per_month', 'minutes_per_month']\n",
    "display(calls_by_month.head())"
   ]
  },
  {
   "cell_type": "markdown",
   "metadata": {},
   "source": [
    "Данные этой таблицы мы в дальнейшем будем использовать при создании общего датафрейма."
   ]
  },
  {
   "cell_type": "markdown",
   "metadata": {},
   "source": [
    "###  Отправленные сообщения по месяцам\n",
    "Создадим сводную таблицу `messages_by_month`, где рассчитаем количество отправленных сообщений по месяцам, и выведем первые пять её строк на экран:"
   ]
  },
  {
   "cell_type": "code",
   "execution_count": 28,
   "metadata": {},
   "outputs": [
    {
     "data": {
      "text/html": [
       "<div>\n",
       "<style scoped>\n",
       "    .dataframe tbody tr th:only-of-type {\n",
       "        vertical-align: middle;\n",
       "    }\n",
       "\n",
       "    .dataframe tbody tr th {\n",
       "        vertical-align: top;\n",
       "    }\n",
       "\n",
       "    .dataframe thead th {\n",
       "        text-align: right;\n",
       "    }\n",
       "</style>\n",
       "<table border=\"1\" class=\"dataframe\">\n",
       "  <thead>\n",
       "    <tr style=\"text-align: right;\">\n",
       "      <th></th>\n",
       "      <th>user_id</th>\n",
       "      <th>month</th>\n",
       "      <th>messages_per_month</th>\n",
       "    </tr>\n",
       "  </thead>\n",
       "  <tbody>\n",
       "    <tr>\n",
       "      <th>0</th>\n",
       "      <td>1000</td>\n",
       "      <td>5</td>\n",
       "      <td>22</td>\n",
       "    </tr>\n",
       "    <tr>\n",
       "      <th>1</th>\n",
       "      <td>1000</td>\n",
       "      <td>6</td>\n",
       "      <td>60</td>\n",
       "    </tr>\n",
       "    <tr>\n",
       "      <th>2</th>\n",
       "      <td>1000</td>\n",
       "      <td>7</td>\n",
       "      <td>75</td>\n",
       "    </tr>\n",
       "    <tr>\n",
       "      <th>3</th>\n",
       "      <td>1000</td>\n",
       "      <td>8</td>\n",
       "      <td>81</td>\n",
       "    </tr>\n",
       "    <tr>\n",
       "      <th>4</th>\n",
       "      <td>1000</td>\n",
       "      <td>9</td>\n",
       "      <td>57</td>\n",
       "    </tr>\n",
       "  </tbody>\n",
       "</table>\n",
       "</div>"
      ],
      "text/plain": [
       "   user_id  month  messages_per_month\n",
       "0     1000      5                  22\n",
       "1     1000      6                  60\n",
       "2     1000      7                  75\n",
       "3     1000      8                  81\n",
       "4     1000      9                  57"
      ]
     },
     "metadata": {},
     "output_type": "display_data"
    }
   ],
   "source": [
    "messages_by_month = (\n",
    "    messages\n",
    "    .pivot_table(index = ['user_id', 'month'], values='message_date', aggfunc='count')\n",
    "    .reset_index()\n",
    ")\n",
    "messages_by_month.columns = ['user_id','month', 'messages_per_month']\n",
    "display(messages_by_month.head())"
   ]
  },
  {
   "cell_type": "markdown",
   "metadata": {},
   "source": [
    "Данные этой таблицы мы в дальнейшем будем использовать при создании общего датафрейма."
   ]
  },
  {
   "cell_type": "markdown",
   "metadata": {},
   "source": [
    "###  Интернет-трафик по месяцам\n",
    "Создадим сводную таблицу `internet_by_month`, где рассчитаем объём израсходованного интернет-трафика по месяцам, и выведем первые пять её строк на экран:"
   ]
  },
  {
   "cell_type": "code",
   "execution_count": 29,
   "metadata": {},
   "outputs": [
    {
     "data": {
      "text/html": [
       "<div>\n",
       "<style scoped>\n",
       "    .dataframe tbody tr th:only-of-type {\n",
       "        vertical-align: middle;\n",
       "    }\n",
       "\n",
       "    .dataframe tbody tr th {\n",
       "        vertical-align: top;\n",
       "    }\n",
       "\n",
       "    .dataframe thead th {\n",
       "        text-align: right;\n",
       "    }\n",
       "</style>\n",
       "<table border=\"1\" class=\"dataframe\">\n",
       "  <thead>\n",
       "    <tr style=\"text-align: right;\">\n",
       "      <th></th>\n",
       "      <th>user_id</th>\n",
       "      <th>month</th>\n",
       "      <th>mb_per_month</th>\n",
       "    </tr>\n",
       "  </thead>\n",
       "  <tbody>\n",
       "    <tr>\n",
       "      <th>0</th>\n",
       "      <td>1000</td>\n",
       "      <td>5</td>\n",
       "      <td>2253.49</td>\n",
       "    </tr>\n",
       "    <tr>\n",
       "      <th>1</th>\n",
       "      <td>1000</td>\n",
       "      <td>6</td>\n",
       "      <td>23233.77</td>\n",
       "    </tr>\n",
       "    <tr>\n",
       "      <th>2</th>\n",
       "      <td>1000</td>\n",
       "      <td>7</td>\n",
       "      <td>14003.64</td>\n",
       "    </tr>\n",
       "    <tr>\n",
       "      <th>3</th>\n",
       "      <td>1000</td>\n",
       "      <td>8</td>\n",
       "      <td>14055.93</td>\n",
       "    </tr>\n",
       "    <tr>\n",
       "      <th>4</th>\n",
       "      <td>1000</td>\n",
       "      <td>9</td>\n",
       "      <td>14568.91</td>\n",
       "    </tr>\n",
       "  </tbody>\n",
       "</table>\n",
       "</div>"
      ],
      "text/plain": [
       "   user_id  month  mb_per_month\n",
       "0     1000      5       2253.49\n",
       "1     1000      6      23233.77\n",
       "2     1000      7      14003.64\n",
       "3     1000      8      14055.93\n",
       "4     1000      9      14568.91"
      ]
     },
     "metadata": {},
     "output_type": "display_data"
    }
   ],
   "source": [
    "internet_by_month = (\n",
    "    internet\n",
    "    .pivot_table(index = ['user_id', 'month'], values='mb_used', aggfunc='sum')\n",
    "    .reset_index()\n",
    ")\n",
    "internet_by_month.columns = ['user_id','month', 'mb_per_month']\n",
    "display(internet_by_month.head())"
   ]
  },
  {
   "cell_type": "markdown",
   "metadata": {},
   "source": [
    "Данные этой таблицы мы в дальнейшем будем использовать при создании общего датафрейма."
   ]
  },
  {
   "cell_type": "markdown",
   "metadata": {},
   "source": [
    "### Объединение таблиц\n",
    "Итак, мы будем объединять данные в один общий датафрейм `df`. Поскольку объединение по всем звонкам, сообщениям и интернет-трафику потребляет слишком много памяти, мы будем использовать агрегированные данные по месяцам, которые рассчитали выше.\n",
    "\n",
    "Сперва определим общий датафрейм `df` и приравняем его к результату слияния таблиц `users` и `tariffs` по столбцу `tariff_name`. Таким образом, у каждого пользователя появятся подробные данные о тарифе, который он использует. Результат выведем на экран в виде первых пяти строк:"
   ]
  },
  {
   "cell_type": "code",
   "execution_count": 30,
   "metadata": {},
   "outputs": [
    {
     "data": {
      "text/html": [
       "<div>\n",
       "<style scoped>\n",
       "    .dataframe tbody tr th:only-of-type {\n",
       "        vertical-align: middle;\n",
       "    }\n",
       "\n",
       "    .dataframe tbody tr th {\n",
       "        vertical-align: top;\n",
       "    }\n",
       "\n",
       "    .dataframe thead th {\n",
       "        text-align: right;\n",
       "    }\n",
       "</style>\n",
       "<table border=\"1\" class=\"dataframe\">\n",
       "  <thead>\n",
       "    <tr style=\"text-align: right;\">\n",
       "      <th></th>\n",
       "      <th>user_id</th>\n",
       "      <th>age</th>\n",
       "      <th>churn_date</th>\n",
       "      <th>city</th>\n",
       "      <th>first_name</th>\n",
       "      <th>last_name</th>\n",
       "      <th>reg_date</th>\n",
       "      <th>tariff_name</th>\n",
       "      <th>messages_included</th>\n",
       "      <th>mb_per_month_included</th>\n",
       "      <th>minutes_included</th>\n",
       "      <th>rub_monthly_fee</th>\n",
       "      <th>rub_per_gb</th>\n",
       "      <th>rub_per_message</th>\n",
       "      <th>rub_per_minute</th>\n",
       "    </tr>\n",
       "  </thead>\n",
       "  <tbody>\n",
       "    <tr>\n",
       "      <th>0</th>\n",
       "      <td>1000</td>\n",
       "      <td>52</td>\n",
       "      <td>NaT</td>\n",
       "      <td>Краснодар</td>\n",
       "      <td>Рафаил</td>\n",
       "      <td>Верещагин</td>\n",
       "      <td>2018-05-25</td>\n",
       "      <td>ultra</td>\n",
       "      <td>1000</td>\n",
       "      <td>30720</td>\n",
       "      <td>3000</td>\n",
       "      <td>1950</td>\n",
       "      <td>150</td>\n",
       "      <td>1</td>\n",
       "      <td>1</td>\n",
       "    </tr>\n",
       "    <tr>\n",
       "      <th>1</th>\n",
       "      <td>1001</td>\n",
       "      <td>41</td>\n",
       "      <td>NaT</td>\n",
       "      <td>Москва</td>\n",
       "      <td>Иван</td>\n",
       "      <td>Ежов</td>\n",
       "      <td>2018-11-01</td>\n",
       "      <td>smart</td>\n",
       "      <td>50</td>\n",
       "      <td>15360</td>\n",
       "      <td>500</td>\n",
       "      <td>550</td>\n",
       "      <td>200</td>\n",
       "      <td>3</td>\n",
       "      <td>3</td>\n",
       "    </tr>\n",
       "    <tr>\n",
       "      <th>2</th>\n",
       "      <td>1002</td>\n",
       "      <td>59</td>\n",
       "      <td>NaT</td>\n",
       "      <td>Стерлитамак</td>\n",
       "      <td>Евгений</td>\n",
       "      <td>Абрамович</td>\n",
       "      <td>2018-06-17</td>\n",
       "      <td>smart</td>\n",
       "      <td>50</td>\n",
       "      <td>15360</td>\n",
       "      <td>500</td>\n",
       "      <td>550</td>\n",
       "      <td>200</td>\n",
       "      <td>3</td>\n",
       "      <td>3</td>\n",
       "    </tr>\n",
       "    <tr>\n",
       "      <th>3</th>\n",
       "      <td>1003</td>\n",
       "      <td>23</td>\n",
       "      <td>NaT</td>\n",
       "      <td>Москва</td>\n",
       "      <td>Белла</td>\n",
       "      <td>Белякова</td>\n",
       "      <td>2018-08-17</td>\n",
       "      <td>ultra</td>\n",
       "      <td>1000</td>\n",
       "      <td>30720</td>\n",
       "      <td>3000</td>\n",
       "      <td>1950</td>\n",
       "      <td>150</td>\n",
       "      <td>1</td>\n",
       "      <td>1</td>\n",
       "    </tr>\n",
       "    <tr>\n",
       "      <th>4</th>\n",
       "      <td>1004</td>\n",
       "      <td>68</td>\n",
       "      <td>NaT</td>\n",
       "      <td>Новокузнецк</td>\n",
       "      <td>Татьяна</td>\n",
       "      <td>Авдеенко</td>\n",
       "      <td>2018-05-14</td>\n",
       "      <td>ultra</td>\n",
       "      <td>1000</td>\n",
       "      <td>30720</td>\n",
       "      <td>3000</td>\n",
       "      <td>1950</td>\n",
       "      <td>150</td>\n",
       "      <td>1</td>\n",
       "      <td>1</td>\n",
       "    </tr>\n",
       "  </tbody>\n",
       "</table>\n",
       "</div>"
      ],
      "text/plain": [
       "   user_id  age churn_date         city first_name  last_name   reg_date  \\\n",
       "0     1000   52        NaT    Краснодар     Рафаил  Верещагин 2018-05-25   \n",
       "1     1001   41        NaT       Москва       Иван       Ежов 2018-11-01   \n",
       "2     1002   59        NaT  Стерлитамак    Евгений  Абрамович 2018-06-17   \n",
       "3     1003   23        NaT       Москва      Белла   Белякова 2018-08-17   \n",
       "4     1004   68        NaT  Новокузнецк    Татьяна   Авдеенко 2018-05-14   \n",
       "\n",
       "  tariff_name  messages_included  mb_per_month_included  minutes_included  \\\n",
       "0       ultra               1000                  30720              3000   \n",
       "1       smart                 50                  15360               500   \n",
       "2       smart                 50                  15360               500   \n",
       "3       ultra               1000                  30720              3000   \n",
       "4       ultra               1000                  30720              3000   \n",
       "\n",
       "   rub_monthly_fee  rub_per_gb  rub_per_message  rub_per_minute  \n",
       "0             1950         150                1               1  \n",
       "1              550         200                3               3  \n",
       "2              550         200                3               3  \n",
       "3             1950         150                1               1  \n",
       "4             1950         150                1               1  "
      ]
     },
     "metadata": {},
     "output_type": "display_data"
    }
   ],
   "source": [
    "df = users.merge(tariffs, on='tariff_name', how='left')\n",
    "display(df.head())"
   ]
  },
  {
   "cell_type": "markdown",
   "metadata": {},
   "source": [
    "Далее добавим в сформированный датафрейм `df` агрегированные данные по звонкам из таблицы `calls_by_month`. Объединение проведём по столбцу `user_id`:"
   ]
  },
  {
   "cell_type": "code",
   "execution_count": 31,
   "metadata": {},
   "outputs": [
    {
     "data": {
      "text/html": [
       "<div>\n",
       "<style scoped>\n",
       "    .dataframe tbody tr th:only-of-type {\n",
       "        vertical-align: middle;\n",
       "    }\n",
       "\n",
       "    .dataframe tbody tr th {\n",
       "        vertical-align: top;\n",
       "    }\n",
       "\n",
       "    .dataframe thead th {\n",
       "        text-align: right;\n",
       "    }\n",
       "</style>\n",
       "<table border=\"1\" class=\"dataframe\">\n",
       "  <thead>\n",
       "    <tr style=\"text-align: right;\">\n",
       "      <th></th>\n",
       "      <th>user_id</th>\n",
       "      <th>age</th>\n",
       "      <th>churn_date</th>\n",
       "      <th>city</th>\n",
       "      <th>first_name</th>\n",
       "      <th>last_name</th>\n",
       "      <th>reg_date</th>\n",
       "      <th>tariff_name</th>\n",
       "      <th>messages_included</th>\n",
       "      <th>mb_per_month_included</th>\n",
       "      <th>minutes_included</th>\n",
       "      <th>rub_monthly_fee</th>\n",
       "      <th>rub_per_gb</th>\n",
       "      <th>rub_per_message</th>\n",
       "      <th>rub_per_minute</th>\n",
       "      <th>month</th>\n",
       "      <th>calls_per_month</th>\n",
       "      <th>minutes_per_month</th>\n",
       "    </tr>\n",
       "  </thead>\n",
       "  <tbody>\n",
       "    <tr>\n",
       "      <th>0</th>\n",
       "      <td>1000</td>\n",
       "      <td>52</td>\n",
       "      <td>NaT</td>\n",
       "      <td>Краснодар</td>\n",
       "      <td>Рафаил</td>\n",
       "      <td>Верещагин</td>\n",
       "      <td>2018-05-25</td>\n",
       "      <td>ultra</td>\n",
       "      <td>1000</td>\n",
       "      <td>30720</td>\n",
       "      <td>3000</td>\n",
       "      <td>1950</td>\n",
       "      <td>150</td>\n",
       "      <td>1</td>\n",
       "      <td>1</td>\n",
       "      <td>5.0</td>\n",
       "      <td>22.0</td>\n",
       "      <td>159.0</td>\n",
       "    </tr>\n",
       "    <tr>\n",
       "      <th>1</th>\n",
       "      <td>1000</td>\n",
       "      <td>52</td>\n",
       "      <td>NaT</td>\n",
       "      <td>Краснодар</td>\n",
       "      <td>Рафаил</td>\n",
       "      <td>Верещагин</td>\n",
       "      <td>2018-05-25</td>\n",
       "      <td>ultra</td>\n",
       "      <td>1000</td>\n",
       "      <td>30720</td>\n",
       "      <td>3000</td>\n",
       "      <td>1950</td>\n",
       "      <td>150</td>\n",
       "      <td>1</td>\n",
       "      <td>1</td>\n",
       "      <td>6.0</td>\n",
       "      <td>43.0</td>\n",
       "      <td>172.0</td>\n",
       "    </tr>\n",
       "    <tr>\n",
       "      <th>2</th>\n",
       "      <td>1000</td>\n",
       "      <td>52</td>\n",
       "      <td>NaT</td>\n",
       "      <td>Краснодар</td>\n",
       "      <td>Рафаил</td>\n",
       "      <td>Верещагин</td>\n",
       "      <td>2018-05-25</td>\n",
       "      <td>ultra</td>\n",
       "      <td>1000</td>\n",
       "      <td>30720</td>\n",
       "      <td>3000</td>\n",
       "      <td>1950</td>\n",
       "      <td>150</td>\n",
       "      <td>1</td>\n",
       "      <td>1</td>\n",
       "      <td>7.0</td>\n",
       "      <td>47.0</td>\n",
       "      <td>340.0</td>\n",
       "    </tr>\n",
       "    <tr>\n",
       "      <th>3</th>\n",
       "      <td>1000</td>\n",
       "      <td>52</td>\n",
       "      <td>NaT</td>\n",
       "      <td>Краснодар</td>\n",
       "      <td>Рафаил</td>\n",
       "      <td>Верещагин</td>\n",
       "      <td>2018-05-25</td>\n",
       "      <td>ultra</td>\n",
       "      <td>1000</td>\n",
       "      <td>30720</td>\n",
       "      <td>3000</td>\n",
       "      <td>1950</td>\n",
       "      <td>150</td>\n",
       "      <td>1</td>\n",
       "      <td>1</td>\n",
       "      <td>8.0</td>\n",
       "      <td>52.0</td>\n",
       "      <td>408.0</td>\n",
       "    </tr>\n",
       "    <tr>\n",
       "      <th>4</th>\n",
       "      <td>1000</td>\n",
       "      <td>52</td>\n",
       "      <td>NaT</td>\n",
       "      <td>Краснодар</td>\n",
       "      <td>Рафаил</td>\n",
       "      <td>Верещагин</td>\n",
       "      <td>2018-05-25</td>\n",
       "      <td>ultra</td>\n",
       "      <td>1000</td>\n",
       "      <td>30720</td>\n",
       "      <td>3000</td>\n",
       "      <td>1950</td>\n",
       "      <td>150</td>\n",
       "      <td>1</td>\n",
       "      <td>1</td>\n",
       "      <td>9.0</td>\n",
       "      <td>58.0</td>\n",
       "      <td>466.0</td>\n",
       "    </tr>\n",
       "  </tbody>\n",
       "</table>\n",
       "</div>"
      ],
      "text/plain": [
       "   user_id  age churn_date       city first_name  last_name   reg_date  \\\n",
       "0     1000   52        NaT  Краснодар     Рафаил  Верещагин 2018-05-25   \n",
       "1     1000   52        NaT  Краснодар     Рафаил  Верещагин 2018-05-25   \n",
       "2     1000   52        NaT  Краснодар     Рафаил  Верещагин 2018-05-25   \n",
       "3     1000   52        NaT  Краснодар     Рафаил  Верещагин 2018-05-25   \n",
       "4     1000   52        NaT  Краснодар     Рафаил  Верещагин 2018-05-25   \n",
       "\n",
       "  tariff_name  messages_included  mb_per_month_included  minutes_included  \\\n",
       "0       ultra               1000                  30720              3000   \n",
       "1       ultra               1000                  30720              3000   \n",
       "2       ultra               1000                  30720              3000   \n",
       "3       ultra               1000                  30720              3000   \n",
       "4       ultra               1000                  30720              3000   \n",
       "\n",
       "   rub_monthly_fee  rub_per_gb  rub_per_message  rub_per_minute  month  \\\n",
       "0             1950         150                1               1    5.0   \n",
       "1             1950         150                1               1    6.0   \n",
       "2             1950         150                1               1    7.0   \n",
       "3             1950         150                1               1    8.0   \n",
       "4             1950         150                1               1    9.0   \n",
       "\n",
       "   calls_per_month  minutes_per_month  \n",
       "0             22.0              159.0  \n",
       "1             43.0              172.0  \n",
       "2             47.0              340.0  \n",
       "3             52.0              408.0  \n",
       "4             58.0              466.0  "
      ]
     },
     "metadata": {},
     "output_type": "display_data"
    }
   ],
   "source": [
    "df = df.merge(calls_by_month, on='user_id', how='outer')\n",
    "display(df.head())"
   ]
  },
  {
   "cell_type": "markdown",
   "metadata": {},
   "source": [
    "Теперь внесём в датафрейм `df` агрегированные данные по сообщениям из таблицы `messages_by_month`. Объединение проведём по столбцам `user_id` и `month`:"
   ]
  },
  {
   "cell_type": "code",
   "execution_count": 32,
   "metadata": {},
   "outputs": [
    {
     "data": {
      "text/html": [
       "<div>\n",
       "<style scoped>\n",
       "    .dataframe tbody tr th:only-of-type {\n",
       "        vertical-align: middle;\n",
       "    }\n",
       "\n",
       "    .dataframe tbody tr th {\n",
       "        vertical-align: top;\n",
       "    }\n",
       "\n",
       "    .dataframe thead th {\n",
       "        text-align: right;\n",
       "    }\n",
       "</style>\n",
       "<table border=\"1\" class=\"dataframe\">\n",
       "  <thead>\n",
       "    <tr style=\"text-align: right;\">\n",
       "      <th></th>\n",
       "      <th>user_id</th>\n",
       "      <th>age</th>\n",
       "      <th>churn_date</th>\n",
       "      <th>city</th>\n",
       "      <th>first_name</th>\n",
       "      <th>last_name</th>\n",
       "      <th>reg_date</th>\n",
       "      <th>tariff_name</th>\n",
       "      <th>messages_included</th>\n",
       "      <th>mb_per_month_included</th>\n",
       "      <th>minutes_included</th>\n",
       "      <th>rub_monthly_fee</th>\n",
       "      <th>rub_per_gb</th>\n",
       "      <th>rub_per_message</th>\n",
       "      <th>rub_per_minute</th>\n",
       "      <th>month</th>\n",
       "      <th>calls_per_month</th>\n",
       "      <th>minutes_per_month</th>\n",
       "      <th>messages_per_month</th>\n",
       "    </tr>\n",
       "  </thead>\n",
       "  <tbody>\n",
       "    <tr>\n",
       "      <th>0</th>\n",
       "      <td>1000</td>\n",
       "      <td>52.0</td>\n",
       "      <td>NaT</td>\n",
       "      <td>Краснодар</td>\n",
       "      <td>Рафаил</td>\n",
       "      <td>Верещагин</td>\n",
       "      <td>2018-05-25</td>\n",
       "      <td>ultra</td>\n",
       "      <td>1000.0</td>\n",
       "      <td>30720.0</td>\n",
       "      <td>3000.0</td>\n",
       "      <td>1950.0</td>\n",
       "      <td>150.0</td>\n",
       "      <td>1.0</td>\n",
       "      <td>1.0</td>\n",
       "      <td>5.0</td>\n",
       "      <td>22.0</td>\n",
       "      <td>159.0</td>\n",
       "      <td>22.0</td>\n",
       "    </tr>\n",
       "    <tr>\n",
       "      <th>1</th>\n",
       "      <td>1000</td>\n",
       "      <td>52.0</td>\n",
       "      <td>NaT</td>\n",
       "      <td>Краснодар</td>\n",
       "      <td>Рафаил</td>\n",
       "      <td>Верещагин</td>\n",
       "      <td>2018-05-25</td>\n",
       "      <td>ultra</td>\n",
       "      <td>1000.0</td>\n",
       "      <td>30720.0</td>\n",
       "      <td>3000.0</td>\n",
       "      <td>1950.0</td>\n",
       "      <td>150.0</td>\n",
       "      <td>1.0</td>\n",
       "      <td>1.0</td>\n",
       "      <td>6.0</td>\n",
       "      <td>43.0</td>\n",
       "      <td>172.0</td>\n",
       "      <td>60.0</td>\n",
       "    </tr>\n",
       "    <tr>\n",
       "      <th>2</th>\n",
       "      <td>1000</td>\n",
       "      <td>52.0</td>\n",
       "      <td>NaT</td>\n",
       "      <td>Краснодар</td>\n",
       "      <td>Рафаил</td>\n",
       "      <td>Верещагин</td>\n",
       "      <td>2018-05-25</td>\n",
       "      <td>ultra</td>\n",
       "      <td>1000.0</td>\n",
       "      <td>30720.0</td>\n",
       "      <td>3000.0</td>\n",
       "      <td>1950.0</td>\n",
       "      <td>150.0</td>\n",
       "      <td>1.0</td>\n",
       "      <td>1.0</td>\n",
       "      <td>7.0</td>\n",
       "      <td>47.0</td>\n",
       "      <td>340.0</td>\n",
       "      <td>75.0</td>\n",
       "    </tr>\n",
       "    <tr>\n",
       "      <th>3</th>\n",
       "      <td>1000</td>\n",
       "      <td>52.0</td>\n",
       "      <td>NaT</td>\n",
       "      <td>Краснодар</td>\n",
       "      <td>Рафаил</td>\n",
       "      <td>Верещагин</td>\n",
       "      <td>2018-05-25</td>\n",
       "      <td>ultra</td>\n",
       "      <td>1000.0</td>\n",
       "      <td>30720.0</td>\n",
       "      <td>3000.0</td>\n",
       "      <td>1950.0</td>\n",
       "      <td>150.0</td>\n",
       "      <td>1.0</td>\n",
       "      <td>1.0</td>\n",
       "      <td>8.0</td>\n",
       "      <td>52.0</td>\n",
       "      <td>408.0</td>\n",
       "      <td>81.0</td>\n",
       "    </tr>\n",
       "    <tr>\n",
       "      <th>4</th>\n",
       "      <td>1000</td>\n",
       "      <td>52.0</td>\n",
       "      <td>NaT</td>\n",
       "      <td>Краснодар</td>\n",
       "      <td>Рафаил</td>\n",
       "      <td>Верещагин</td>\n",
       "      <td>2018-05-25</td>\n",
       "      <td>ultra</td>\n",
       "      <td>1000.0</td>\n",
       "      <td>30720.0</td>\n",
       "      <td>3000.0</td>\n",
       "      <td>1950.0</td>\n",
       "      <td>150.0</td>\n",
       "      <td>1.0</td>\n",
       "      <td>1.0</td>\n",
       "      <td>9.0</td>\n",
       "      <td>58.0</td>\n",
       "      <td>466.0</td>\n",
       "      <td>57.0</td>\n",
       "    </tr>\n",
       "  </tbody>\n",
       "</table>\n",
       "</div>"
      ],
      "text/plain": [
       "   user_id   age churn_date       city first_name  last_name   reg_date  \\\n",
       "0     1000  52.0        NaT  Краснодар     Рафаил  Верещагин 2018-05-25   \n",
       "1     1000  52.0        NaT  Краснодар     Рафаил  Верещагин 2018-05-25   \n",
       "2     1000  52.0        NaT  Краснодар     Рафаил  Верещагин 2018-05-25   \n",
       "3     1000  52.0        NaT  Краснодар     Рафаил  Верещагин 2018-05-25   \n",
       "4     1000  52.0        NaT  Краснодар     Рафаил  Верещагин 2018-05-25   \n",
       "\n",
       "  tariff_name  messages_included  mb_per_month_included  minutes_included  \\\n",
       "0       ultra             1000.0                30720.0            3000.0   \n",
       "1       ultra             1000.0                30720.0            3000.0   \n",
       "2       ultra             1000.0                30720.0            3000.0   \n",
       "3       ultra             1000.0                30720.0            3000.0   \n",
       "4       ultra             1000.0                30720.0            3000.0   \n",
       "\n",
       "   rub_monthly_fee  rub_per_gb  rub_per_message  rub_per_minute  month  \\\n",
       "0           1950.0       150.0              1.0             1.0    5.0   \n",
       "1           1950.0       150.0              1.0             1.0    6.0   \n",
       "2           1950.0       150.0              1.0             1.0    7.0   \n",
       "3           1950.0       150.0              1.0             1.0    8.0   \n",
       "4           1950.0       150.0              1.0             1.0    9.0   \n",
       "\n",
       "   calls_per_month  minutes_per_month  messages_per_month  \n",
       "0             22.0              159.0                22.0  \n",
       "1             43.0              172.0                60.0  \n",
       "2             47.0              340.0                75.0  \n",
       "3             52.0              408.0                81.0  \n",
       "4             58.0              466.0                57.0  "
      ]
     },
     "metadata": {},
     "output_type": "display_data"
    }
   ],
   "source": [
    "df = df.merge(messages_by_month, on=['user_id', 'month'], how='outer')\n",
    "display(df.head())"
   ]
  },
  {
   "cell_type": "markdown",
   "metadata": {},
   "source": [
    "И наконец добавим в датафрейм `df` агрегированные данные по интернет-трафику из таблицы `internet_by_month`. Объединение проведём по столбцам `user_id` и `month`:"
   ]
  },
  {
   "cell_type": "code",
   "execution_count": 33,
   "metadata": {},
   "outputs": [
    {
     "data": {
      "text/html": [
       "<div>\n",
       "<style scoped>\n",
       "    .dataframe tbody tr th:only-of-type {\n",
       "        vertical-align: middle;\n",
       "    }\n",
       "\n",
       "    .dataframe tbody tr th {\n",
       "        vertical-align: top;\n",
       "    }\n",
       "\n",
       "    .dataframe thead th {\n",
       "        text-align: right;\n",
       "    }\n",
       "</style>\n",
       "<table border=\"1\" class=\"dataframe\">\n",
       "  <thead>\n",
       "    <tr style=\"text-align: right;\">\n",
       "      <th></th>\n",
       "      <th>user_id</th>\n",
       "      <th>age</th>\n",
       "      <th>churn_date</th>\n",
       "      <th>city</th>\n",
       "      <th>first_name</th>\n",
       "      <th>last_name</th>\n",
       "      <th>reg_date</th>\n",
       "      <th>tariff_name</th>\n",
       "      <th>messages_included</th>\n",
       "      <th>mb_per_month_included</th>\n",
       "      <th>minutes_included</th>\n",
       "      <th>rub_monthly_fee</th>\n",
       "      <th>rub_per_gb</th>\n",
       "      <th>rub_per_message</th>\n",
       "      <th>rub_per_minute</th>\n",
       "      <th>month</th>\n",
       "      <th>calls_per_month</th>\n",
       "      <th>minutes_per_month</th>\n",
       "      <th>messages_per_month</th>\n",
       "      <th>mb_per_month</th>\n",
       "    </tr>\n",
       "  </thead>\n",
       "  <tbody>\n",
       "    <tr>\n",
       "      <th>0</th>\n",
       "      <td>1000</td>\n",
       "      <td>52.0</td>\n",
       "      <td>NaT</td>\n",
       "      <td>Краснодар</td>\n",
       "      <td>Рафаил</td>\n",
       "      <td>Верещагин</td>\n",
       "      <td>2018-05-25</td>\n",
       "      <td>ultra</td>\n",
       "      <td>1000.0</td>\n",
       "      <td>30720.0</td>\n",
       "      <td>3000.0</td>\n",
       "      <td>1950.0</td>\n",
       "      <td>150.0</td>\n",
       "      <td>1.0</td>\n",
       "      <td>1.0</td>\n",
       "      <td>5.0</td>\n",
       "      <td>22.0</td>\n",
       "      <td>159.0</td>\n",
       "      <td>22.0</td>\n",
       "      <td>2253.49</td>\n",
       "    </tr>\n",
       "    <tr>\n",
       "      <th>1</th>\n",
       "      <td>1000</td>\n",
       "      <td>52.0</td>\n",
       "      <td>NaT</td>\n",
       "      <td>Краснодар</td>\n",
       "      <td>Рафаил</td>\n",
       "      <td>Верещагин</td>\n",
       "      <td>2018-05-25</td>\n",
       "      <td>ultra</td>\n",
       "      <td>1000.0</td>\n",
       "      <td>30720.0</td>\n",
       "      <td>3000.0</td>\n",
       "      <td>1950.0</td>\n",
       "      <td>150.0</td>\n",
       "      <td>1.0</td>\n",
       "      <td>1.0</td>\n",
       "      <td>6.0</td>\n",
       "      <td>43.0</td>\n",
       "      <td>172.0</td>\n",
       "      <td>60.0</td>\n",
       "      <td>23233.77</td>\n",
       "    </tr>\n",
       "    <tr>\n",
       "      <th>2</th>\n",
       "      <td>1000</td>\n",
       "      <td>52.0</td>\n",
       "      <td>NaT</td>\n",
       "      <td>Краснодар</td>\n",
       "      <td>Рафаил</td>\n",
       "      <td>Верещагин</td>\n",
       "      <td>2018-05-25</td>\n",
       "      <td>ultra</td>\n",
       "      <td>1000.0</td>\n",
       "      <td>30720.0</td>\n",
       "      <td>3000.0</td>\n",
       "      <td>1950.0</td>\n",
       "      <td>150.0</td>\n",
       "      <td>1.0</td>\n",
       "      <td>1.0</td>\n",
       "      <td>7.0</td>\n",
       "      <td>47.0</td>\n",
       "      <td>340.0</td>\n",
       "      <td>75.0</td>\n",
       "      <td>14003.64</td>\n",
       "    </tr>\n",
       "    <tr>\n",
       "      <th>3</th>\n",
       "      <td>1000</td>\n",
       "      <td>52.0</td>\n",
       "      <td>NaT</td>\n",
       "      <td>Краснодар</td>\n",
       "      <td>Рафаил</td>\n",
       "      <td>Верещагин</td>\n",
       "      <td>2018-05-25</td>\n",
       "      <td>ultra</td>\n",
       "      <td>1000.0</td>\n",
       "      <td>30720.0</td>\n",
       "      <td>3000.0</td>\n",
       "      <td>1950.0</td>\n",
       "      <td>150.0</td>\n",
       "      <td>1.0</td>\n",
       "      <td>1.0</td>\n",
       "      <td>8.0</td>\n",
       "      <td>52.0</td>\n",
       "      <td>408.0</td>\n",
       "      <td>81.0</td>\n",
       "      <td>14055.93</td>\n",
       "    </tr>\n",
       "    <tr>\n",
       "      <th>4</th>\n",
       "      <td>1000</td>\n",
       "      <td>52.0</td>\n",
       "      <td>NaT</td>\n",
       "      <td>Краснодар</td>\n",
       "      <td>Рафаил</td>\n",
       "      <td>Верещагин</td>\n",
       "      <td>2018-05-25</td>\n",
       "      <td>ultra</td>\n",
       "      <td>1000.0</td>\n",
       "      <td>30720.0</td>\n",
       "      <td>3000.0</td>\n",
       "      <td>1950.0</td>\n",
       "      <td>150.0</td>\n",
       "      <td>1.0</td>\n",
       "      <td>1.0</td>\n",
       "      <td>9.0</td>\n",
       "      <td>58.0</td>\n",
       "      <td>466.0</td>\n",
       "      <td>57.0</td>\n",
       "      <td>14568.91</td>\n",
       "    </tr>\n",
       "  </tbody>\n",
       "</table>\n",
       "</div>"
      ],
      "text/plain": [
       "   user_id   age churn_date       city first_name  last_name   reg_date  \\\n",
       "0     1000  52.0        NaT  Краснодар     Рафаил  Верещагин 2018-05-25   \n",
       "1     1000  52.0        NaT  Краснодар     Рафаил  Верещагин 2018-05-25   \n",
       "2     1000  52.0        NaT  Краснодар     Рафаил  Верещагин 2018-05-25   \n",
       "3     1000  52.0        NaT  Краснодар     Рафаил  Верещагин 2018-05-25   \n",
       "4     1000  52.0        NaT  Краснодар     Рафаил  Верещагин 2018-05-25   \n",
       "\n",
       "  tariff_name  messages_included  mb_per_month_included  minutes_included  \\\n",
       "0       ultra             1000.0                30720.0            3000.0   \n",
       "1       ultra             1000.0                30720.0            3000.0   \n",
       "2       ultra             1000.0                30720.0            3000.0   \n",
       "3       ultra             1000.0                30720.0            3000.0   \n",
       "4       ultra             1000.0                30720.0            3000.0   \n",
       "\n",
       "   rub_monthly_fee  rub_per_gb  rub_per_message  rub_per_minute  month  \\\n",
       "0           1950.0       150.0              1.0             1.0    5.0   \n",
       "1           1950.0       150.0              1.0             1.0    6.0   \n",
       "2           1950.0       150.0              1.0             1.0    7.0   \n",
       "3           1950.0       150.0              1.0             1.0    8.0   \n",
       "4           1950.0       150.0              1.0             1.0    9.0   \n",
       "\n",
       "   calls_per_month  minutes_per_month  messages_per_month  mb_per_month  \n",
       "0             22.0              159.0                22.0       2253.49  \n",
       "1             43.0              172.0                60.0      23233.77  \n",
       "2             47.0              340.0                75.0      14003.64  \n",
       "3             52.0              408.0                81.0      14055.93  \n",
       "4             58.0              466.0                57.0      14568.91  "
      ]
     },
     "metadata": {},
     "output_type": "display_data"
    }
   ],
   "source": [
    "df = df.merge(internet_by_month, on=['user_id', 'month'], how='outer')\n",
    "display(df.head())"
   ]
  },
  {
   "cell_type": "markdown",
   "metadata": {},
   "source": [
    "Наш основной датафрейм готов, теперь по его данным будет удобно рассчитывать помесячную выручку с каждого пользователя. Но прежде необходимо выполнить дополнительную проверку.\n",
    "\n",
    "Изучим датафрейм `df` на содержание дубликатов (они могут появиться в результате многократного объединения нескольких таблиц):"
   ]
  },
  {
   "cell_type": "code",
   "execution_count": 34,
   "metadata": {},
   "outputs": [
    {
     "data": {
      "text/plain": [
       "0"
      ]
     },
     "execution_count": 34,
     "metadata": {},
     "output_type": "execute_result"
    }
   ],
   "source": [
    "df.duplicated().sum()"
   ]
  },
  {
   "cell_type": "markdown",
   "metadata": {},
   "source": [
    "Дубликатов не обнаружено.\n",
    "\n",
    "Теперь взглянем на содержание пропущенных значений в столбцах:"
   ]
  },
  {
   "cell_type": "code",
   "execution_count": 35,
   "metadata": {},
   "outputs": [
    {
     "data": {
      "text/plain": [
       "user_id                     0\n",
       "age                        40\n",
       "churn_date               3033\n",
       "city                       40\n",
       "first_name                 40\n",
       "last_name                  40\n",
       "reg_date                   40\n",
       "tariff_name                40\n",
       "messages_included          40\n",
       "mb_per_month_included      40\n",
       "minutes_included           40\n",
       "rub_monthly_fee            40\n",
       "rub_per_gb                 40\n",
       "rub_per_message            40\n",
       "rub_per_minute             40\n",
       "month                       8\n",
       "calls_per_month            48\n",
       "minutes_per_month          48\n",
       "messages_per_month        505\n",
       "mb_per_month               19\n",
       "dtype: int64"
      ]
     },
     "execution_count": 35,
     "metadata": {},
     "output_type": "execute_result"
    }
   ],
   "source": [
    "df.isna().sum()"
   ]
  },
  {
   "cell_type": "markdown",
   "metadata": {},
   "source": [
    "Выше представлено немалое количество пропущенных значений, которых не было в изначальных таблицах. Это произошло из-за способа объединения таблиц со звонками, сообщениями и интернет трафиком. Указанный там тип `outer` нужен для того, чтобы не потерять данные о пользователях, которые периодически используют только одну или две опции тарифа из трёх перечисленных. \n",
    "\n",
    "Выведем на экран строки, содержащие пропуски в столбце `tariff_name` и изучим их:"
   ]
  },
  {
   "cell_type": "code",
   "execution_count": 36,
   "metadata": {
    "scrolled": true
   },
   "outputs": [
    {
     "data": {
      "text/html": [
       "<div>\n",
       "<style scoped>\n",
       "    .dataframe tbody tr th:only-of-type {\n",
       "        vertical-align: middle;\n",
       "    }\n",
       "\n",
       "    .dataframe tbody tr th {\n",
       "        vertical-align: top;\n",
       "    }\n",
       "\n",
       "    .dataframe thead th {\n",
       "        text-align: right;\n",
       "    }\n",
       "</style>\n",
       "<table border=\"1\" class=\"dataframe\">\n",
       "  <thead>\n",
       "    <tr style=\"text-align: right;\">\n",
       "      <th></th>\n",
       "      <th>user_id</th>\n",
       "      <th>age</th>\n",
       "      <th>churn_date</th>\n",
       "      <th>city</th>\n",
       "      <th>first_name</th>\n",
       "      <th>last_name</th>\n",
       "      <th>reg_date</th>\n",
       "      <th>tariff_name</th>\n",
       "      <th>messages_included</th>\n",
       "      <th>mb_per_month_included</th>\n",
       "      <th>minutes_included</th>\n",
       "      <th>rub_monthly_fee</th>\n",
       "      <th>rub_per_gb</th>\n",
       "      <th>rub_per_message</th>\n",
       "      <th>rub_per_minute</th>\n",
       "      <th>month</th>\n",
       "      <th>calls_per_month</th>\n",
       "      <th>minutes_per_month</th>\n",
       "      <th>messages_per_month</th>\n",
       "      <th>mb_per_month</th>\n",
       "    </tr>\n",
       "  </thead>\n",
       "  <tbody>\n",
       "    <tr>\n",
       "      <th>3182</th>\n",
       "      <td>1091</td>\n",
       "      <td>NaN</td>\n",
       "      <td>NaT</td>\n",
       "      <td>NaN</td>\n",
       "      <td>NaN</td>\n",
       "      <td>NaN</td>\n",
       "      <td>NaT</td>\n",
       "      <td>NaN</td>\n",
       "      <td>NaN</td>\n",
       "      <td>NaN</td>\n",
       "      <td>NaN</td>\n",
       "      <td>NaN</td>\n",
       "      <td>NaN</td>\n",
       "      <td>NaN</td>\n",
       "      <td>NaN</td>\n",
       "      <td>5.0</td>\n",
       "      <td>NaN</td>\n",
       "      <td>NaN</td>\n",
       "      <td>30.0</td>\n",
       "      <td>10703.37</td>\n",
       "    </tr>\n",
       "    <tr>\n",
       "      <th>3183</th>\n",
       "      <td>1091</td>\n",
       "      <td>NaN</td>\n",
       "      <td>NaT</td>\n",
       "      <td>NaN</td>\n",
       "      <td>NaN</td>\n",
       "      <td>NaN</td>\n",
       "      <td>NaT</td>\n",
       "      <td>NaN</td>\n",
       "      <td>NaN</td>\n",
       "      <td>NaN</td>\n",
       "      <td>NaN</td>\n",
       "      <td>NaN</td>\n",
       "      <td>NaN</td>\n",
       "      <td>NaN</td>\n",
       "      <td>NaN</td>\n",
       "      <td>6.0</td>\n",
       "      <td>NaN</td>\n",
       "      <td>NaN</td>\n",
       "      <td>30.0</td>\n",
       "      <td>10236.19</td>\n",
       "    </tr>\n",
       "    <tr>\n",
       "      <th>3184</th>\n",
       "      <td>1091</td>\n",
       "      <td>NaN</td>\n",
       "      <td>NaT</td>\n",
       "      <td>NaN</td>\n",
       "      <td>NaN</td>\n",
       "      <td>NaN</td>\n",
       "      <td>NaT</td>\n",
       "      <td>NaN</td>\n",
       "      <td>NaN</td>\n",
       "      <td>NaN</td>\n",
       "      <td>NaN</td>\n",
       "      <td>NaN</td>\n",
       "      <td>NaN</td>\n",
       "      <td>NaN</td>\n",
       "      <td>NaN</td>\n",
       "      <td>7.0</td>\n",
       "      <td>NaN</td>\n",
       "      <td>NaN</td>\n",
       "      <td>35.0</td>\n",
       "      <td>16444.98</td>\n",
       "    </tr>\n",
       "    <tr>\n",
       "      <th>3185</th>\n",
       "      <td>1091</td>\n",
       "      <td>NaN</td>\n",
       "      <td>NaT</td>\n",
       "      <td>NaN</td>\n",
       "      <td>NaN</td>\n",
       "      <td>NaN</td>\n",
       "      <td>NaT</td>\n",
       "      <td>NaN</td>\n",
       "      <td>NaN</td>\n",
       "      <td>NaN</td>\n",
       "      <td>NaN</td>\n",
       "      <td>NaN</td>\n",
       "      <td>NaN</td>\n",
       "      <td>NaN</td>\n",
       "      <td>NaN</td>\n",
       "      <td>8.0</td>\n",
       "      <td>NaN</td>\n",
       "      <td>NaN</td>\n",
       "      <td>31.0</td>\n",
       "      <td>12633.88</td>\n",
       "    </tr>\n",
       "    <tr>\n",
       "      <th>3186</th>\n",
       "      <td>1091</td>\n",
       "      <td>NaN</td>\n",
       "      <td>NaT</td>\n",
       "      <td>NaN</td>\n",
       "      <td>NaN</td>\n",
       "      <td>NaN</td>\n",
       "      <td>NaT</td>\n",
       "      <td>NaN</td>\n",
       "      <td>NaN</td>\n",
       "      <td>NaN</td>\n",
       "      <td>NaN</td>\n",
       "      <td>NaN</td>\n",
       "      <td>NaN</td>\n",
       "      <td>NaN</td>\n",
       "      <td>NaN</td>\n",
       "      <td>9.0</td>\n",
       "      <td>NaN</td>\n",
       "      <td>NaN</td>\n",
       "      <td>32.0</td>\n",
       "      <td>16597.11</td>\n",
       "    </tr>\n",
       "    <tr>\n",
       "      <th>3187</th>\n",
       "      <td>1091</td>\n",
       "      <td>NaN</td>\n",
       "      <td>NaT</td>\n",
       "      <td>NaN</td>\n",
       "      <td>NaN</td>\n",
       "      <td>NaN</td>\n",
       "      <td>NaT</td>\n",
       "      <td>NaN</td>\n",
       "      <td>NaN</td>\n",
       "      <td>NaN</td>\n",
       "      <td>NaN</td>\n",
       "      <td>NaN</td>\n",
       "      <td>NaN</td>\n",
       "      <td>NaN</td>\n",
       "      <td>NaN</td>\n",
       "      <td>10.0</td>\n",
       "      <td>NaN</td>\n",
       "      <td>NaN</td>\n",
       "      <td>44.0</td>\n",
       "      <td>15644.73</td>\n",
       "    </tr>\n",
       "    <tr>\n",
       "      <th>3188</th>\n",
       "      <td>1091</td>\n",
       "      <td>NaN</td>\n",
       "      <td>NaT</td>\n",
       "      <td>NaN</td>\n",
       "      <td>NaN</td>\n",
       "      <td>NaN</td>\n",
       "      <td>NaT</td>\n",
       "      <td>NaN</td>\n",
       "      <td>NaN</td>\n",
       "      <td>NaN</td>\n",
       "      <td>NaN</td>\n",
       "      <td>NaN</td>\n",
       "      <td>NaN</td>\n",
       "      <td>NaN</td>\n",
       "      <td>NaN</td>\n",
       "      <td>11.0</td>\n",
       "      <td>NaN</td>\n",
       "      <td>NaN</td>\n",
       "      <td>28.0</td>\n",
       "      <td>11864.25</td>\n",
       "    </tr>\n",
       "    <tr>\n",
       "      <th>3189</th>\n",
       "      <td>1091</td>\n",
       "      <td>NaN</td>\n",
       "      <td>NaT</td>\n",
       "      <td>NaN</td>\n",
       "      <td>NaN</td>\n",
       "      <td>NaN</td>\n",
       "      <td>NaT</td>\n",
       "      <td>NaN</td>\n",
       "      <td>NaN</td>\n",
       "      <td>NaN</td>\n",
       "      <td>NaN</td>\n",
       "      <td>NaN</td>\n",
       "      <td>NaN</td>\n",
       "      <td>NaN</td>\n",
       "      <td>NaN</td>\n",
       "      <td>12.0</td>\n",
       "      <td>NaN</td>\n",
       "      <td>NaN</td>\n",
       "      <td>42.0</td>\n",
       "      <td>13280.45</td>\n",
       "    </tr>\n",
       "    <tr>\n",
       "      <th>3190</th>\n",
       "      <td>1106</td>\n",
       "      <td>NaN</td>\n",
       "      <td>NaT</td>\n",
       "      <td>NaN</td>\n",
       "      <td>NaN</td>\n",
       "      <td>NaN</td>\n",
       "      <td>NaT</td>\n",
       "      <td>NaN</td>\n",
       "      <td>NaN</td>\n",
       "      <td>NaN</td>\n",
       "      <td>NaN</td>\n",
       "      <td>NaN</td>\n",
       "      <td>NaN</td>\n",
       "      <td>NaN</td>\n",
       "      <td>NaN</td>\n",
       "      <td>4.0</td>\n",
       "      <td>NaN</td>\n",
       "      <td>NaN</td>\n",
       "      <td>9.0</td>\n",
       "      <td>2923.49</td>\n",
       "    </tr>\n",
       "    <tr>\n",
       "      <th>3191</th>\n",
       "      <td>1106</td>\n",
       "      <td>NaN</td>\n",
       "      <td>NaT</td>\n",
       "      <td>NaN</td>\n",
       "      <td>NaN</td>\n",
       "      <td>NaN</td>\n",
       "      <td>NaT</td>\n",
       "      <td>NaN</td>\n",
       "      <td>NaN</td>\n",
       "      <td>NaN</td>\n",
       "      <td>NaN</td>\n",
       "      <td>NaN</td>\n",
       "      <td>NaN</td>\n",
       "      <td>NaN</td>\n",
       "      <td>NaN</td>\n",
       "      <td>5.0</td>\n",
       "      <td>NaN</td>\n",
       "      <td>NaN</td>\n",
       "      <td>28.0</td>\n",
       "      <td>16573.01</td>\n",
       "    </tr>\n",
       "    <tr>\n",
       "      <th>3192</th>\n",
       "      <td>1106</td>\n",
       "      <td>NaN</td>\n",
       "      <td>NaT</td>\n",
       "      <td>NaN</td>\n",
       "      <td>NaN</td>\n",
       "      <td>NaN</td>\n",
       "      <td>NaT</td>\n",
       "      <td>NaN</td>\n",
       "      <td>NaN</td>\n",
       "      <td>NaN</td>\n",
       "      <td>NaN</td>\n",
       "      <td>NaN</td>\n",
       "      <td>NaN</td>\n",
       "      <td>NaN</td>\n",
       "      <td>NaN</td>\n",
       "      <td>6.0</td>\n",
       "      <td>NaN</td>\n",
       "      <td>NaN</td>\n",
       "      <td>30.0</td>\n",
       "      <td>20016.74</td>\n",
       "    </tr>\n",
       "    <tr>\n",
       "      <th>3193</th>\n",
       "      <td>1106</td>\n",
       "      <td>NaN</td>\n",
       "      <td>NaT</td>\n",
       "      <td>NaN</td>\n",
       "      <td>NaN</td>\n",
       "      <td>NaN</td>\n",
       "      <td>NaT</td>\n",
       "      <td>NaN</td>\n",
       "      <td>NaN</td>\n",
       "      <td>NaN</td>\n",
       "      <td>NaN</td>\n",
       "      <td>NaN</td>\n",
       "      <td>NaN</td>\n",
       "      <td>NaN</td>\n",
       "      <td>NaN</td>\n",
       "      <td>7.0</td>\n",
       "      <td>NaN</td>\n",
       "      <td>NaN</td>\n",
       "      <td>24.0</td>\n",
       "      <td>21626.86</td>\n",
       "    </tr>\n",
       "    <tr>\n",
       "      <th>3194</th>\n",
       "      <td>1106</td>\n",
       "      <td>NaN</td>\n",
       "      <td>NaT</td>\n",
       "      <td>NaN</td>\n",
       "      <td>NaN</td>\n",
       "      <td>NaN</td>\n",
       "      <td>NaT</td>\n",
       "      <td>NaN</td>\n",
       "      <td>NaN</td>\n",
       "      <td>NaN</td>\n",
       "      <td>NaN</td>\n",
       "      <td>NaN</td>\n",
       "      <td>NaN</td>\n",
       "      <td>NaN</td>\n",
       "      <td>NaN</td>\n",
       "      <td>8.0</td>\n",
       "      <td>NaN</td>\n",
       "      <td>NaN</td>\n",
       "      <td>25.0</td>\n",
       "      <td>19088.67</td>\n",
       "    </tr>\n",
       "    <tr>\n",
       "      <th>3195</th>\n",
       "      <td>1106</td>\n",
       "      <td>NaN</td>\n",
       "      <td>NaT</td>\n",
       "      <td>NaN</td>\n",
       "      <td>NaN</td>\n",
       "      <td>NaN</td>\n",
       "      <td>NaT</td>\n",
       "      <td>NaN</td>\n",
       "      <td>NaN</td>\n",
       "      <td>NaN</td>\n",
       "      <td>NaN</td>\n",
       "      <td>NaN</td>\n",
       "      <td>NaN</td>\n",
       "      <td>NaN</td>\n",
       "      <td>NaN</td>\n",
       "      <td>9.0</td>\n",
       "      <td>NaN</td>\n",
       "      <td>NaN</td>\n",
       "      <td>23.0</td>\n",
       "      <td>21934.03</td>\n",
       "    </tr>\n",
       "    <tr>\n",
       "      <th>3196</th>\n",
       "      <td>1106</td>\n",
       "      <td>NaN</td>\n",
       "      <td>NaT</td>\n",
       "      <td>NaN</td>\n",
       "      <td>NaN</td>\n",
       "      <td>NaN</td>\n",
       "      <td>NaT</td>\n",
       "      <td>NaN</td>\n",
       "      <td>NaN</td>\n",
       "      <td>NaN</td>\n",
       "      <td>NaN</td>\n",
       "      <td>NaN</td>\n",
       "      <td>NaN</td>\n",
       "      <td>NaN</td>\n",
       "      <td>NaN</td>\n",
       "      <td>10.0</td>\n",
       "      <td>NaN</td>\n",
       "      <td>NaN</td>\n",
       "      <td>33.0</td>\n",
       "      <td>14010.32</td>\n",
       "    </tr>\n",
       "    <tr>\n",
       "      <th>3197</th>\n",
       "      <td>1106</td>\n",
       "      <td>NaN</td>\n",
       "      <td>NaT</td>\n",
       "      <td>NaN</td>\n",
       "      <td>NaN</td>\n",
       "      <td>NaN</td>\n",
       "      <td>NaT</td>\n",
       "      <td>NaN</td>\n",
       "      <td>NaN</td>\n",
       "      <td>NaN</td>\n",
       "      <td>NaN</td>\n",
       "      <td>NaN</td>\n",
       "      <td>NaN</td>\n",
       "      <td>NaN</td>\n",
       "      <td>NaN</td>\n",
       "      <td>11.0</td>\n",
       "      <td>NaN</td>\n",
       "      <td>NaN</td>\n",
       "      <td>29.0</td>\n",
       "      <td>21289.27</td>\n",
       "    </tr>\n",
       "    <tr>\n",
       "      <th>3198</th>\n",
       "      <td>1106</td>\n",
       "      <td>NaN</td>\n",
       "      <td>NaT</td>\n",
       "      <td>NaN</td>\n",
       "      <td>NaN</td>\n",
       "      <td>NaN</td>\n",
       "      <td>NaT</td>\n",
       "      <td>NaN</td>\n",
       "      <td>NaN</td>\n",
       "      <td>NaN</td>\n",
       "      <td>NaN</td>\n",
       "      <td>NaN</td>\n",
       "      <td>NaN</td>\n",
       "      <td>NaN</td>\n",
       "      <td>NaN</td>\n",
       "      <td>12.0</td>\n",
       "      <td>NaN</td>\n",
       "      <td>NaN</td>\n",
       "      <td>24.0</td>\n",
       "      <td>18701.51</td>\n",
       "    </tr>\n",
       "    <tr>\n",
       "      <th>3199</th>\n",
       "      <td>1231</td>\n",
       "      <td>NaN</td>\n",
       "      <td>NaT</td>\n",
       "      <td>NaN</td>\n",
       "      <td>NaN</td>\n",
       "      <td>NaN</td>\n",
       "      <td>NaT</td>\n",
       "      <td>NaN</td>\n",
       "      <td>NaN</td>\n",
       "      <td>NaN</td>\n",
       "      <td>NaN</td>\n",
       "      <td>NaN</td>\n",
       "      <td>NaN</td>\n",
       "      <td>NaN</td>\n",
       "      <td>NaN</td>\n",
       "      <td>5.0</td>\n",
       "      <td>NaN</td>\n",
       "      <td>NaN</td>\n",
       "      <td>55.0</td>\n",
       "      <td>10858.89</td>\n",
       "    </tr>\n",
       "    <tr>\n",
       "      <th>3200</th>\n",
       "      <td>1231</td>\n",
       "      <td>NaN</td>\n",
       "      <td>NaT</td>\n",
       "      <td>NaN</td>\n",
       "      <td>NaN</td>\n",
       "      <td>NaN</td>\n",
       "      <td>NaT</td>\n",
       "      <td>NaN</td>\n",
       "      <td>NaN</td>\n",
       "      <td>NaN</td>\n",
       "      <td>NaN</td>\n",
       "      <td>NaN</td>\n",
       "      <td>NaN</td>\n",
       "      <td>NaN</td>\n",
       "      <td>NaN</td>\n",
       "      <td>6.0</td>\n",
       "      <td>NaN</td>\n",
       "      <td>NaN</td>\n",
       "      <td>201.0</td>\n",
       "      <td>27825.92</td>\n",
       "    </tr>\n",
       "    <tr>\n",
       "      <th>3201</th>\n",
       "      <td>1231</td>\n",
       "      <td>NaN</td>\n",
       "      <td>NaT</td>\n",
       "      <td>NaN</td>\n",
       "      <td>NaN</td>\n",
       "      <td>NaN</td>\n",
       "      <td>NaT</td>\n",
       "      <td>NaN</td>\n",
       "      <td>NaN</td>\n",
       "      <td>NaN</td>\n",
       "      <td>NaN</td>\n",
       "      <td>NaN</td>\n",
       "      <td>NaN</td>\n",
       "      <td>NaN</td>\n",
       "      <td>NaN</td>\n",
       "      <td>7.0</td>\n",
       "      <td>NaN</td>\n",
       "      <td>NaN</td>\n",
       "      <td>211.0</td>\n",
       "      <td>27695.83</td>\n",
       "    </tr>\n",
       "    <tr>\n",
       "      <th>3202</th>\n",
       "      <td>1231</td>\n",
       "      <td>NaN</td>\n",
       "      <td>NaT</td>\n",
       "      <td>NaN</td>\n",
       "      <td>NaN</td>\n",
       "      <td>NaN</td>\n",
       "      <td>NaT</td>\n",
       "      <td>NaN</td>\n",
       "      <td>NaN</td>\n",
       "      <td>NaN</td>\n",
       "      <td>NaN</td>\n",
       "      <td>NaN</td>\n",
       "      <td>NaN</td>\n",
       "      <td>NaN</td>\n",
       "      <td>NaN</td>\n",
       "      <td>8.0</td>\n",
       "      <td>NaN</td>\n",
       "      <td>NaN</td>\n",
       "      <td>180.0</td>\n",
       "      <td>32045.70</td>\n",
       "    </tr>\n",
       "    <tr>\n",
       "      <th>3203</th>\n",
       "      <td>1231</td>\n",
       "      <td>NaN</td>\n",
       "      <td>NaT</td>\n",
       "      <td>NaN</td>\n",
       "      <td>NaN</td>\n",
       "      <td>NaN</td>\n",
       "      <td>NaT</td>\n",
       "      <td>NaN</td>\n",
       "      <td>NaN</td>\n",
       "      <td>NaN</td>\n",
       "      <td>NaN</td>\n",
       "      <td>NaN</td>\n",
       "      <td>NaN</td>\n",
       "      <td>NaN</td>\n",
       "      <td>NaN</td>\n",
       "      <td>9.0</td>\n",
       "      <td>NaN</td>\n",
       "      <td>NaN</td>\n",
       "      <td>188.0</td>\n",
       "      <td>33189.47</td>\n",
       "    </tr>\n",
       "    <tr>\n",
       "      <th>3204</th>\n",
       "      <td>1231</td>\n",
       "      <td>NaN</td>\n",
       "      <td>NaT</td>\n",
       "      <td>NaN</td>\n",
       "      <td>NaN</td>\n",
       "      <td>NaN</td>\n",
       "      <td>NaT</td>\n",
       "      <td>NaN</td>\n",
       "      <td>NaN</td>\n",
       "      <td>NaN</td>\n",
       "      <td>NaN</td>\n",
       "      <td>NaN</td>\n",
       "      <td>NaN</td>\n",
       "      <td>NaN</td>\n",
       "      <td>NaN</td>\n",
       "      <td>10.0</td>\n",
       "      <td>NaN</td>\n",
       "      <td>NaN</td>\n",
       "      <td>185.0</td>\n",
       "      <td>31032.93</td>\n",
       "    </tr>\n",
       "    <tr>\n",
       "      <th>3205</th>\n",
       "      <td>1231</td>\n",
       "      <td>NaN</td>\n",
       "      <td>NaT</td>\n",
       "      <td>NaN</td>\n",
       "      <td>NaN</td>\n",
       "      <td>NaN</td>\n",
       "      <td>NaT</td>\n",
       "      <td>NaN</td>\n",
       "      <td>NaN</td>\n",
       "      <td>NaN</td>\n",
       "      <td>NaN</td>\n",
       "      <td>NaN</td>\n",
       "      <td>NaN</td>\n",
       "      <td>NaN</td>\n",
       "      <td>NaN</td>\n",
       "      <td>11.0</td>\n",
       "      <td>NaN</td>\n",
       "      <td>NaN</td>\n",
       "      <td>173.0</td>\n",
       "      <td>27431.63</td>\n",
       "    </tr>\n",
       "    <tr>\n",
       "      <th>3206</th>\n",
       "      <td>1231</td>\n",
       "      <td>NaN</td>\n",
       "      <td>NaT</td>\n",
       "      <td>NaN</td>\n",
       "      <td>NaN</td>\n",
       "      <td>NaN</td>\n",
       "      <td>NaT</td>\n",
       "      <td>NaN</td>\n",
       "      <td>NaN</td>\n",
       "      <td>NaN</td>\n",
       "      <td>NaN</td>\n",
       "      <td>NaN</td>\n",
       "      <td>NaN</td>\n",
       "      <td>NaN</td>\n",
       "      <td>NaN</td>\n",
       "      <td>12.0</td>\n",
       "      <td>NaN</td>\n",
       "      <td>NaN</td>\n",
       "      <td>191.0</td>\n",
       "      <td>32448.00</td>\n",
       "    </tr>\n",
       "    <tr>\n",
       "      <th>3207</th>\n",
       "      <td>1328</td>\n",
       "      <td>NaN</td>\n",
       "      <td>NaT</td>\n",
       "      <td>NaN</td>\n",
       "      <td>NaN</td>\n",
       "      <td>NaN</td>\n",
       "      <td>NaT</td>\n",
       "      <td>NaN</td>\n",
       "      <td>NaN</td>\n",
       "      <td>NaN</td>\n",
       "      <td>NaN</td>\n",
       "      <td>NaN</td>\n",
       "      <td>NaN</td>\n",
       "      <td>NaN</td>\n",
       "      <td>NaN</td>\n",
       "      <td>10.0</td>\n",
       "      <td>NaN</td>\n",
       "      <td>NaN</td>\n",
       "      <td>6.0</td>\n",
       "      <td>22427.98</td>\n",
       "    </tr>\n",
       "    <tr>\n",
       "      <th>3208</th>\n",
       "      <td>1328</td>\n",
       "      <td>NaN</td>\n",
       "      <td>NaT</td>\n",
       "      <td>NaN</td>\n",
       "      <td>NaN</td>\n",
       "      <td>NaN</td>\n",
       "      <td>NaT</td>\n",
       "      <td>NaN</td>\n",
       "      <td>NaN</td>\n",
       "      <td>NaN</td>\n",
       "      <td>NaN</td>\n",
       "      <td>NaN</td>\n",
       "      <td>NaN</td>\n",
       "      <td>NaN</td>\n",
       "      <td>NaN</td>\n",
       "      <td>11.0</td>\n",
       "      <td>NaN</td>\n",
       "      <td>NaN</td>\n",
       "      <td>8.0</td>\n",
       "      <td>35525.58</td>\n",
       "    </tr>\n",
       "    <tr>\n",
       "      <th>3209</th>\n",
       "      <td>1328</td>\n",
       "      <td>NaN</td>\n",
       "      <td>NaT</td>\n",
       "      <td>NaN</td>\n",
       "      <td>NaN</td>\n",
       "      <td>NaN</td>\n",
       "      <td>NaT</td>\n",
       "      <td>NaN</td>\n",
       "      <td>NaN</td>\n",
       "      <td>NaN</td>\n",
       "      <td>NaN</td>\n",
       "      <td>NaN</td>\n",
       "      <td>NaN</td>\n",
       "      <td>NaN</td>\n",
       "      <td>NaN</td>\n",
       "      <td>12.0</td>\n",
       "      <td>NaN</td>\n",
       "      <td>NaN</td>\n",
       "      <td>7.0</td>\n",
       "      <td>39419.73</td>\n",
       "    </tr>\n",
       "    <tr>\n",
       "      <th>3210</th>\n",
       "      <td>1373</td>\n",
       "      <td>NaN</td>\n",
       "      <td>NaT</td>\n",
       "      <td>NaN</td>\n",
       "      <td>NaN</td>\n",
       "      <td>NaN</td>\n",
       "      <td>NaT</td>\n",
       "      <td>NaN</td>\n",
       "      <td>NaN</td>\n",
       "      <td>NaN</td>\n",
       "      <td>NaN</td>\n",
       "      <td>NaN</td>\n",
       "      <td>NaN</td>\n",
       "      <td>NaN</td>\n",
       "      <td>NaN</td>\n",
       "      <td>6.0</td>\n",
       "      <td>NaN</td>\n",
       "      <td>NaN</td>\n",
       "      <td>48.0</td>\n",
       "      <td>12442.88</td>\n",
       "    </tr>\n",
       "    <tr>\n",
       "      <th>3211</th>\n",
       "      <td>1473</td>\n",
       "      <td>NaN</td>\n",
       "      <td>NaT</td>\n",
       "      <td>NaN</td>\n",
       "      <td>NaN</td>\n",
       "      <td>NaN</td>\n",
       "      <td>NaT</td>\n",
       "      <td>NaN</td>\n",
       "      <td>NaN</td>\n",
       "      <td>NaN</td>\n",
       "      <td>NaN</td>\n",
       "      <td>NaN</td>\n",
       "      <td>NaN</td>\n",
       "      <td>NaN</td>\n",
       "      <td>NaN</td>\n",
       "      <td>8.0</td>\n",
       "      <td>NaN</td>\n",
       "      <td>NaN</td>\n",
       "      <td>17.0</td>\n",
       "      <td>12905.40</td>\n",
       "    </tr>\n",
       "    <tr>\n",
       "      <th>3212</th>\n",
       "      <td>1473</td>\n",
       "      <td>NaN</td>\n",
       "      <td>NaT</td>\n",
       "      <td>NaN</td>\n",
       "      <td>NaN</td>\n",
       "      <td>NaN</td>\n",
       "      <td>NaT</td>\n",
       "      <td>NaN</td>\n",
       "      <td>NaN</td>\n",
       "      <td>NaN</td>\n",
       "      <td>NaN</td>\n",
       "      <td>NaN</td>\n",
       "      <td>NaN</td>\n",
       "      <td>NaN</td>\n",
       "      <td>NaN</td>\n",
       "      <td>9.0</td>\n",
       "      <td>NaN</td>\n",
       "      <td>NaN</td>\n",
       "      <td>19.0</td>\n",
       "      <td>17289.85</td>\n",
       "    </tr>\n",
       "    <tr>\n",
       "      <th>3213</th>\n",
       "      <td>1473</td>\n",
       "      <td>NaN</td>\n",
       "      <td>NaT</td>\n",
       "      <td>NaN</td>\n",
       "      <td>NaN</td>\n",
       "      <td>NaN</td>\n",
       "      <td>NaT</td>\n",
       "      <td>NaN</td>\n",
       "      <td>NaN</td>\n",
       "      <td>NaN</td>\n",
       "      <td>NaN</td>\n",
       "      <td>NaN</td>\n",
       "      <td>NaN</td>\n",
       "      <td>NaN</td>\n",
       "      <td>NaN</td>\n",
       "      <td>10.0</td>\n",
       "      <td>NaN</td>\n",
       "      <td>NaN</td>\n",
       "      <td>20.0</td>\n",
       "      <td>13688.65</td>\n",
       "    </tr>\n",
       "    <tr>\n",
       "      <th>3214</th>\n",
       "      <td>1473</td>\n",
       "      <td>NaN</td>\n",
       "      <td>NaT</td>\n",
       "      <td>NaN</td>\n",
       "      <td>NaN</td>\n",
       "      <td>NaN</td>\n",
       "      <td>NaT</td>\n",
       "      <td>NaN</td>\n",
       "      <td>NaN</td>\n",
       "      <td>NaN</td>\n",
       "      <td>NaN</td>\n",
       "      <td>NaN</td>\n",
       "      <td>NaN</td>\n",
       "      <td>NaN</td>\n",
       "      <td>NaN</td>\n",
       "      <td>11.0</td>\n",
       "      <td>NaN</td>\n",
       "      <td>NaN</td>\n",
       "      <td>14.0</td>\n",
       "      <td>21673.80</td>\n",
       "    </tr>\n",
       "    <tr>\n",
       "      <th>3215</th>\n",
       "      <td>1473</td>\n",
       "      <td>NaN</td>\n",
       "      <td>NaT</td>\n",
       "      <td>NaN</td>\n",
       "      <td>NaN</td>\n",
       "      <td>NaN</td>\n",
       "      <td>NaT</td>\n",
       "      <td>NaN</td>\n",
       "      <td>NaN</td>\n",
       "      <td>NaN</td>\n",
       "      <td>NaN</td>\n",
       "      <td>NaN</td>\n",
       "      <td>NaN</td>\n",
       "      <td>NaN</td>\n",
       "      <td>NaN</td>\n",
       "      <td>12.0</td>\n",
       "      <td>NaN</td>\n",
       "      <td>NaN</td>\n",
       "      <td>20.0</td>\n",
       "      <td>18418.26</td>\n",
       "    </tr>\n",
       "    <tr>\n",
       "      <th>3216</th>\n",
       "      <td>1489</td>\n",
       "      <td>NaN</td>\n",
       "      <td>NaT</td>\n",
       "      <td>NaN</td>\n",
       "      <td>NaN</td>\n",
       "      <td>NaN</td>\n",
       "      <td>NaT</td>\n",
       "      <td>NaN</td>\n",
       "      <td>NaN</td>\n",
       "      <td>NaN</td>\n",
       "      <td>NaN</td>\n",
       "      <td>NaN</td>\n",
       "      <td>NaN</td>\n",
       "      <td>NaN</td>\n",
       "      <td>NaN</td>\n",
       "      <td>8.0</td>\n",
       "      <td>NaN</td>\n",
       "      <td>NaN</td>\n",
       "      <td>17.0</td>\n",
       "      <td>11050.56</td>\n",
       "    </tr>\n",
       "    <tr>\n",
       "      <th>3217</th>\n",
       "      <td>1489</td>\n",
       "      <td>NaN</td>\n",
       "      <td>NaT</td>\n",
       "      <td>NaN</td>\n",
       "      <td>NaN</td>\n",
       "      <td>NaN</td>\n",
       "      <td>NaT</td>\n",
       "      <td>NaN</td>\n",
       "      <td>NaN</td>\n",
       "      <td>NaN</td>\n",
       "      <td>NaN</td>\n",
       "      <td>NaN</td>\n",
       "      <td>NaN</td>\n",
       "      <td>NaN</td>\n",
       "      <td>NaN</td>\n",
       "      <td>9.0</td>\n",
       "      <td>NaN</td>\n",
       "      <td>NaN</td>\n",
       "      <td>32.0</td>\n",
       "      <td>17206.30</td>\n",
       "    </tr>\n",
       "    <tr>\n",
       "      <th>3218</th>\n",
       "      <td>1489</td>\n",
       "      <td>NaN</td>\n",
       "      <td>NaT</td>\n",
       "      <td>NaN</td>\n",
       "      <td>NaN</td>\n",
       "      <td>NaN</td>\n",
       "      <td>NaT</td>\n",
       "      <td>NaN</td>\n",
       "      <td>NaN</td>\n",
       "      <td>NaN</td>\n",
       "      <td>NaN</td>\n",
       "      <td>NaN</td>\n",
       "      <td>NaN</td>\n",
       "      <td>NaN</td>\n",
       "      <td>NaN</td>\n",
       "      <td>10.0</td>\n",
       "      <td>NaN</td>\n",
       "      <td>NaN</td>\n",
       "      <td>21.0</td>\n",
       "      <td>19559.44</td>\n",
       "    </tr>\n",
       "    <tr>\n",
       "      <th>3219</th>\n",
       "      <td>1489</td>\n",
       "      <td>NaN</td>\n",
       "      <td>NaT</td>\n",
       "      <td>NaN</td>\n",
       "      <td>NaN</td>\n",
       "      <td>NaN</td>\n",
       "      <td>NaT</td>\n",
       "      <td>NaN</td>\n",
       "      <td>NaN</td>\n",
       "      <td>NaN</td>\n",
       "      <td>NaN</td>\n",
       "      <td>NaN</td>\n",
       "      <td>NaN</td>\n",
       "      <td>NaN</td>\n",
       "      <td>NaN</td>\n",
       "      <td>11.0</td>\n",
       "      <td>NaN</td>\n",
       "      <td>NaN</td>\n",
       "      <td>20.0</td>\n",
       "      <td>17491.56</td>\n",
       "    </tr>\n",
       "    <tr>\n",
       "      <th>3220</th>\n",
       "      <td>1489</td>\n",
       "      <td>NaN</td>\n",
       "      <td>NaT</td>\n",
       "      <td>NaN</td>\n",
       "      <td>NaN</td>\n",
       "      <td>NaN</td>\n",
       "      <td>NaT</td>\n",
       "      <td>NaN</td>\n",
       "      <td>NaN</td>\n",
       "      <td>NaN</td>\n",
       "      <td>NaN</td>\n",
       "      <td>NaN</td>\n",
       "      <td>NaN</td>\n",
       "      <td>NaN</td>\n",
       "      <td>NaN</td>\n",
       "      <td>12.0</td>\n",
       "      <td>NaN</td>\n",
       "      <td>NaN</td>\n",
       "      <td>35.0</td>\n",
       "      <td>17322.51</td>\n",
       "    </tr>\n",
       "    <tr>\n",
       "      <th>3221</th>\n",
       "      <td>1476</td>\n",
       "      <td>NaN</td>\n",
       "      <td>NaT</td>\n",
       "      <td>NaN</td>\n",
       "      <td>NaN</td>\n",
       "      <td>NaN</td>\n",
       "      <td>NaT</td>\n",
       "      <td>NaN</td>\n",
       "      <td>NaN</td>\n",
       "      <td>NaN</td>\n",
       "      <td>NaN</td>\n",
       "      <td>NaN</td>\n",
       "      <td>NaN</td>\n",
       "      <td>NaN</td>\n",
       "      <td>NaN</td>\n",
       "      <td>4.0</td>\n",
       "      <td>NaN</td>\n",
       "      <td>NaN</td>\n",
       "      <td>NaN</td>\n",
       "      <td>530.78</td>\n",
       "    </tr>\n",
       "  </tbody>\n",
       "</table>\n",
       "</div>"
      ],
      "text/plain": [
       "      user_id  age churn_date city first_name last_name reg_date tariff_name  \\\n",
       "3182     1091  NaN        NaT  NaN        NaN       NaN      NaT         NaN   \n",
       "3183     1091  NaN        NaT  NaN        NaN       NaN      NaT         NaN   \n",
       "3184     1091  NaN        NaT  NaN        NaN       NaN      NaT         NaN   \n",
       "3185     1091  NaN        NaT  NaN        NaN       NaN      NaT         NaN   \n",
       "3186     1091  NaN        NaT  NaN        NaN       NaN      NaT         NaN   \n",
       "3187     1091  NaN        NaT  NaN        NaN       NaN      NaT         NaN   \n",
       "3188     1091  NaN        NaT  NaN        NaN       NaN      NaT         NaN   \n",
       "3189     1091  NaN        NaT  NaN        NaN       NaN      NaT         NaN   \n",
       "3190     1106  NaN        NaT  NaN        NaN       NaN      NaT         NaN   \n",
       "3191     1106  NaN        NaT  NaN        NaN       NaN      NaT         NaN   \n",
       "3192     1106  NaN        NaT  NaN        NaN       NaN      NaT         NaN   \n",
       "3193     1106  NaN        NaT  NaN        NaN       NaN      NaT         NaN   \n",
       "3194     1106  NaN        NaT  NaN        NaN       NaN      NaT         NaN   \n",
       "3195     1106  NaN        NaT  NaN        NaN       NaN      NaT         NaN   \n",
       "3196     1106  NaN        NaT  NaN        NaN       NaN      NaT         NaN   \n",
       "3197     1106  NaN        NaT  NaN        NaN       NaN      NaT         NaN   \n",
       "3198     1106  NaN        NaT  NaN        NaN       NaN      NaT         NaN   \n",
       "3199     1231  NaN        NaT  NaN        NaN       NaN      NaT         NaN   \n",
       "3200     1231  NaN        NaT  NaN        NaN       NaN      NaT         NaN   \n",
       "3201     1231  NaN        NaT  NaN        NaN       NaN      NaT         NaN   \n",
       "3202     1231  NaN        NaT  NaN        NaN       NaN      NaT         NaN   \n",
       "3203     1231  NaN        NaT  NaN        NaN       NaN      NaT         NaN   \n",
       "3204     1231  NaN        NaT  NaN        NaN       NaN      NaT         NaN   \n",
       "3205     1231  NaN        NaT  NaN        NaN       NaN      NaT         NaN   \n",
       "3206     1231  NaN        NaT  NaN        NaN       NaN      NaT         NaN   \n",
       "3207     1328  NaN        NaT  NaN        NaN       NaN      NaT         NaN   \n",
       "3208     1328  NaN        NaT  NaN        NaN       NaN      NaT         NaN   \n",
       "3209     1328  NaN        NaT  NaN        NaN       NaN      NaT         NaN   \n",
       "3210     1373  NaN        NaT  NaN        NaN       NaN      NaT         NaN   \n",
       "3211     1473  NaN        NaT  NaN        NaN       NaN      NaT         NaN   \n",
       "3212     1473  NaN        NaT  NaN        NaN       NaN      NaT         NaN   \n",
       "3213     1473  NaN        NaT  NaN        NaN       NaN      NaT         NaN   \n",
       "3214     1473  NaN        NaT  NaN        NaN       NaN      NaT         NaN   \n",
       "3215     1473  NaN        NaT  NaN        NaN       NaN      NaT         NaN   \n",
       "3216     1489  NaN        NaT  NaN        NaN       NaN      NaT         NaN   \n",
       "3217     1489  NaN        NaT  NaN        NaN       NaN      NaT         NaN   \n",
       "3218     1489  NaN        NaT  NaN        NaN       NaN      NaT         NaN   \n",
       "3219     1489  NaN        NaT  NaN        NaN       NaN      NaT         NaN   \n",
       "3220     1489  NaN        NaT  NaN        NaN       NaN      NaT         NaN   \n",
       "3221     1476  NaN        NaT  NaN        NaN       NaN      NaT         NaN   \n",
       "\n",
       "      messages_included  mb_per_month_included  minutes_included  \\\n",
       "3182                NaN                    NaN               NaN   \n",
       "3183                NaN                    NaN               NaN   \n",
       "3184                NaN                    NaN               NaN   \n",
       "3185                NaN                    NaN               NaN   \n",
       "3186                NaN                    NaN               NaN   \n",
       "3187                NaN                    NaN               NaN   \n",
       "3188                NaN                    NaN               NaN   \n",
       "3189                NaN                    NaN               NaN   \n",
       "3190                NaN                    NaN               NaN   \n",
       "3191                NaN                    NaN               NaN   \n",
       "3192                NaN                    NaN               NaN   \n",
       "3193                NaN                    NaN               NaN   \n",
       "3194                NaN                    NaN               NaN   \n",
       "3195                NaN                    NaN               NaN   \n",
       "3196                NaN                    NaN               NaN   \n",
       "3197                NaN                    NaN               NaN   \n",
       "3198                NaN                    NaN               NaN   \n",
       "3199                NaN                    NaN               NaN   \n",
       "3200                NaN                    NaN               NaN   \n",
       "3201                NaN                    NaN               NaN   \n",
       "3202                NaN                    NaN               NaN   \n",
       "3203                NaN                    NaN               NaN   \n",
       "3204                NaN                    NaN               NaN   \n",
       "3205                NaN                    NaN               NaN   \n",
       "3206                NaN                    NaN               NaN   \n",
       "3207                NaN                    NaN               NaN   \n",
       "3208                NaN                    NaN               NaN   \n",
       "3209                NaN                    NaN               NaN   \n",
       "3210                NaN                    NaN               NaN   \n",
       "3211                NaN                    NaN               NaN   \n",
       "3212                NaN                    NaN               NaN   \n",
       "3213                NaN                    NaN               NaN   \n",
       "3214                NaN                    NaN               NaN   \n",
       "3215                NaN                    NaN               NaN   \n",
       "3216                NaN                    NaN               NaN   \n",
       "3217                NaN                    NaN               NaN   \n",
       "3218                NaN                    NaN               NaN   \n",
       "3219                NaN                    NaN               NaN   \n",
       "3220                NaN                    NaN               NaN   \n",
       "3221                NaN                    NaN               NaN   \n",
       "\n",
       "      rub_monthly_fee  rub_per_gb  rub_per_message  rub_per_minute  month  \\\n",
       "3182              NaN         NaN              NaN             NaN    5.0   \n",
       "3183              NaN         NaN              NaN             NaN    6.0   \n",
       "3184              NaN         NaN              NaN             NaN    7.0   \n",
       "3185              NaN         NaN              NaN             NaN    8.0   \n",
       "3186              NaN         NaN              NaN             NaN    9.0   \n",
       "3187              NaN         NaN              NaN             NaN   10.0   \n",
       "3188              NaN         NaN              NaN             NaN   11.0   \n",
       "3189              NaN         NaN              NaN             NaN   12.0   \n",
       "3190              NaN         NaN              NaN             NaN    4.0   \n",
       "3191              NaN         NaN              NaN             NaN    5.0   \n",
       "3192              NaN         NaN              NaN             NaN    6.0   \n",
       "3193              NaN         NaN              NaN             NaN    7.0   \n",
       "3194              NaN         NaN              NaN             NaN    8.0   \n",
       "3195              NaN         NaN              NaN             NaN    9.0   \n",
       "3196              NaN         NaN              NaN             NaN   10.0   \n",
       "3197              NaN         NaN              NaN             NaN   11.0   \n",
       "3198              NaN         NaN              NaN             NaN   12.0   \n",
       "3199              NaN         NaN              NaN             NaN    5.0   \n",
       "3200              NaN         NaN              NaN             NaN    6.0   \n",
       "3201              NaN         NaN              NaN             NaN    7.0   \n",
       "3202              NaN         NaN              NaN             NaN    8.0   \n",
       "3203              NaN         NaN              NaN             NaN    9.0   \n",
       "3204              NaN         NaN              NaN             NaN   10.0   \n",
       "3205              NaN         NaN              NaN             NaN   11.0   \n",
       "3206              NaN         NaN              NaN             NaN   12.0   \n",
       "3207              NaN         NaN              NaN             NaN   10.0   \n",
       "3208              NaN         NaN              NaN             NaN   11.0   \n",
       "3209              NaN         NaN              NaN             NaN   12.0   \n",
       "3210              NaN         NaN              NaN             NaN    6.0   \n",
       "3211              NaN         NaN              NaN             NaN    8.0   \n",
       "3212              NaN         NaN              NaN             NaN    9.0   \n",
       "3213              NaN         NaN              NaN             NaN   10.0   \n",
       "3214              NaN         NaN              NaN             NaN   11.0   \n",
       "3215              NaN         NaN              NaN             NaN   12.0   \n",
       "3216              NaN         NaN              NaN             NaN    8.0   \n",
       "3217              NaN         NaN              NaN             NaN    9.0   \n",
       "3218              NaN         NaN              NaN             NaN   10.0   \n",
       "3219              NaN         NaN              NaN             NaN   11.0   \n",
       "3220              NaN         NaN              NaN             NaN   12.0   \n",
       "3221              NaN         NaN              NaN             NaN    4.0   \n",
       "\n",
       "      calls_per_month  minutes_per_month  messages_per_month  mb_per_month  \n",
       "3182              NaN                NaN                30.0      10703.37  \n",
       "3183              NaN                NaN                30.0      10236.19  \n",
       "3184              NaN                NaN                35.0      16444.98  \n",
       "3185              NaN                NaN                31.0      12633.88  \n",
       "3186              NaN                NaN                32.0      16597.11  \n",
       "3187              NaN                NaN                44.0      15644.73  \n",
       "3188              NaN                NaN                28.0      11864.25  \n",
       "3189              NaN                NaN                42.0      13280.45  \n",
       "3190              NaN                NaN                 9.0       2923.49  \n",
       "3191              NaN                NaN                28.0      16573.01  \n",
       "3192              NaN                NaN                30.0      20016.74  \n",
       "3193              NaN                NaN                24.0      21626.86  \n",
       "3194              NaN                NaN                25.0      19088.67  \n",
       "3195              NaN                NaN                23.0      21934.03  \n",
       "3196              NaN                NaN                33.0      14010.32  \n",
       "3197              NaN                NaN                29.0      21289.27  \n",
       "3198              NaN                NaN                24.0      18701.51  \n",
       "3199              NaN                NaN                55.0      10858.89  \n",
       "3200              NaN                NaN               201.0      27825.92  \n",
       "3201              NaN                NaN               211.0      27695.83  \n",
       "3202              NaN                NaN               180.0      32045.70  \n",
       "3203              NaN                NaN               188.0      33189.47  \n",
       "3204              NaN                NaN               185.0      31032.93  \n",
       "3205              NaN                NaN               173.0      27431.63  \n",
       "3206              NaN                NaN               191.0      32448.00  \n",
       "3207              NaN                NaN                 6.0      22427.98  \n",
       "3208              NaN                NaN                 8.0      35525.58  \n",
       "3209              NaN                NaN                 7.0      39419.73  \n",
       "3210              NaN                NaN                48.0      12442.88  \n",
       "3211              NaN                NaN                17.0      12905.40  \n",
       "3212              NaN                NaN                19.0      17289.85  \n",
       "3213              NaN                NaN                20.0      13688.65  \n",
       "3214              NaN                NaN                14.0      21673.80  \n",
       "3215              NaN                NaN                20.0      18418.26  \n",
       "3216              NaN                NaN                17.0      11050.56  \n",
       "3217              NaN                NaN                32.0      17206.30  \n",
       "3218              NaN                NaN                21.0      19559.44  \n",
       "3219              NaN                NaN                20.0      17491.56  \n",
       "3220              NaN                NaN                35.0      17322.51  \n",
       "3221              NaN                NaN                 NaN        530.78  "
      ]
     },
     "metadata": {},
     "output_type": "display_data"
    }
   ],
   "source": [
    "display(df[df.tariff_name.isna()])"
   ]
  },
  {
   "cell_type": "markdown",
   "metadata": {},
   "source": [
    "Выше мы видим, что у некоторых пользователей указаны только `user_id`, `messages_per_month` и `mb_per_month`. Поскольку их тарифный план не указан, то в этом случае рассчитать выручку `monthly_revenue`, столь необходимую для дальнейшей проверки гипотез, не представляется возможным.\n",
    "\n",
    "Выведем на экран количество пользователей, тариф для которых не указан:"
   ]
  },
  {
   "cell_type": "code",
   "execution_count": 37,
   "metadata": {},
   "outputs": [
    {
     "data": {
      "text/plain": [
       "1106    9\n",
       "1091    8\n",
       "1231    8\n",
       "1473    5\n",
       "1489    5\n",
       "1328    3\n",
       "1476    1\n",
       "1373    1\n",
       "Name: user_id, dtype: int64"
      ]
     },
     "metadata": {},
     "output_type": "display_data"
    }
   ],
   "source": [
    "display(df.loc[df.tariff_name.isna(), 'user_id'].value_counts())"
   ]
  },
  {
   "cell_type": "markdown",
   "metadata": {},
   "source": [
    "Таких пользователей девять, т.е. примерно 2% от всей выборки в 500 человек. Дабы не искажать данные заполнением пропусков, нами принято решение об изъятии данных пользователей из последующего анализа.\n",
    "\n",
    "Сбросим строки, содержащие пропущенные значения в столбце `tariff_name` и выведем обновлённое количество пропущенных значений в датафрейме `df` на экран:"
   ]
  },
  {
   "cell_type": "code",
   "execution_count": 38,
   "metadata": {},
   "outputs": [
    {
     "data": {
      "text/plain": [
       "user_id                     0\n",
       "age                         0\n",
       "churn_date               2993\n",
       "city                        0\n",
       "first_name                  0\n",
       "last_name                   0\n",
       "reg_date                    0\n",
       "tariff_name                 0\n",
       "messages_included           0\n",
       "mb_per_month_included       0\n",
       "minutes_included            0\n",
       "rub_monthly_fee             0\n",
       "rub_per_gb                  0\n",
       "rub_per_message             0\n",
       "rub_per_minute              0\n",
       "month                       8\n",
       "calls_per_month             8\n",
       "minutes_per_month           8\n",
       "messages_per_month        504\n",
       "mb_per_month               19\n",
       "dtype: int64"
      ]
     },
     "execution_count": 38,
     "metadata": {},
     "output_type": "execute_result"
    }
   ],
   "source": [
    "df = df.dropna(subset=['tariff_name'])\n",
    "df.isna().sum()"
   ]
  },
  {
   "cell_type": "markdown",
   "metadata": {},
   "source": [
    "Далее заменим на нули отсутствующие значения месяцев, количества звонков, минут разговора, сообщений и интернет-трафика и выведем обновлённое количество пропусков на экран:"
   ]
  },
  {
   "cell_type": "code",
   "execution_count": 39,
   "metadata": {},
   "outputs": [
    {
     "data": {
      "text/plain": [
       "user_id                     0\n",
       "age                         0\n",
       "churn_date               2993\n",
       "city                        0\n",
       "first_name                  0\n",
       "last_name                   0\n",
       "reg_date                    0\n",
       "tariff_name                 0\n",
       "messages_included           0\n",
       "mb_per_month_included       0\n",
       "minutes_included            0\n",
       "rub_monthly_fee             0\n",
       "rub_per_gb                  0\n",
       "rub_per_message             0\n",
       "rub_per_minute              0\n",
       "month                       0\n",
       "calls_per_month             0\n",
       "minutes_per_month           0\n",
       "messages_per_month          0\n",
       "mb_per_month                0\n",
       "dtype: int64"
      ]
     },
     "execution_count": 39,
     "metadata": {},
     "output_type": "execute_result"
    }
   ],
   "source": [
    "df['month'] = df.month.fillna(0)\n",
    "df['calls_per_month'] = df.calls_per_month.fillna(0)\n",
    "df['minutes_per_month'] = df.minutes_per_month.fillna(0)\n",
    "df['messages_per_month'] = df.messages_per_month.fillna(0)\n",
    "df['mb_per_month'] = df.mb_per_month.fillna(0)\n",
    "df.isna().sum()"
   ]
  },
  {
   "cell_type": "markdown",
   "metadata": {},
   "source": [
    "Выведем сводную информацию по датафрейму `df`:"
   ]
  },
  {
   "cell_type": "code",
   "execution_count": 40,
   "metadata": {},
   "outputs": [
    {
     "name": "stdout",
     "output_type": "stream",
     "text": [
      "<class 'pandas.core.frame.DataFrame'>\n",
      "Int64Index: 3182 entries, 0 to 3181\n",
      "Data columns (total 20 columns):\n",
      " #   Column                 Non-Null Count  Dtype         \n",
      "---  ------                 --------------  -----         \n",
      " 0   user_id                3182 non-null   int64         \n",
      " 1   age                    3182 non-null   float64       \n",
      " 2   churn_date             189 non-null    datetime64[ns]\n",
      " 3   city                   3182 non-null   object        \n",
      " 4   first_name             3182 non-null   object        \n",
      " 5   last_name              3182 non-null   object        \n",
      " 6   reg_date               3182 non-null   datetime64[ns]\n",
      " 7   tariff_name            3182 non-null   object        \n",
      " 8   messages_included      3182 non-null   float64       \n",
      " 9   mb_per_month_included  3182 non-null   float64       \n",
      " 10  minutes_included       3182 non-null   float64       \n",
      " 11  rub_monthly_fee        3182 non-null   float64       \n",
      " 12  rub_per_gb             3182 non-null   float64       \n",
      " 13  rub_per_message        3182 non-null   float64       \n",
      " 14  rub_per_minute         3182 non-null   float64       \n",
      " 15  month                  3182 non-null   float64       \n",
      " 16  calls_per_month        3182 non-null   float64       \n",
      " 17  minutes_per_month      3182 non-null   float64       \n",
      " 18  messages_per_month     3182 non-null   float64       \n",
      " 19  mb_per_month           3182 non-null   float64       \n",
      "dtypes: datetime64[ns](2), float64(13), int64(1), object(4)\n",
      "memory usage: 522.0+ KB\n"
     ]
    }
   ],
   "source": [
    "df.info()"
   ]
  },
  {
   "cell_type": "markdown",
   "metadata": {},
   "source": [
    "Мы убедились, что предоставленных данных достаточно, а их типы представления удобны для дальнейшего расчёта выручки по каждому из пользователей."
   ]
  },
  {
   "cell_type": "markdown",
   "metadata": {},
   "source": [
    "### Расчёт выручки по пользователям\n",
    "Перед нами стоит задача - рассчитать помесячную выручку с каждого пользователя. Для этого необходимо: \n",
    "* вычесть бесплатный лимит из суммарного количества звонков, сообщений и интернет-трафика; \n",
    "* остаток умножить на значение из тарифного плана; \n",
    "* прибавить абонентскую плату, соответствующую тарифному плану.\n",
    "\n",
    "Отметим отдельно, что для веб-трафика отдельные сессии не считаются. Вместо этого общая сумма за месяц округляется в бо́льшую сторону. Если абонент использует 1025 мегабайт в этом месяце, с него возьмут плату за 2 гигабайта. Примем, что неиспользованные за предыдущий месяц звонки, смс, интернет на следующий месяц не переносятся.\n",
    "\n",
    "Для начала определим функцию расчёта выручки `revenue_calculation`:"
   ]
  },
  {
   "cell_type": "code",
   "execution_count": 41,
   "metadata": {},
   "outputs": [],
   "source": [
    "def revenue_calculation(row):\n",
    "    minutes_over_limit = 0\n",
    "    messages_over_limit = 0\n",
    "    gb_over_limit = 0\n",
    "    \n",
    "    # считаем превышение лимита по звонкам\n",
    "    if (row['minutes_per_month'] > row['minutes_included']):\n",
    "        minutes_over_limit = (row['minutes_per_month'] - row['minutes_included']) * row['rub_per_minute']\n",
    "    \n",
    "    # считаем превышение лимита по сообщениям\n",
    "    if (row['messages_per_month'] > row['messages_included']):\n",
    "        messages_over_limit = (row['messages_per_month'] - row['messages_included']) * row['rub_per_message']\n",
    "    \n",
    "    # считаем превышение лимита по интернет-трафику в Гб\n",
    "    if (row['mb_per_month'] > row['mb_per_month_included']):\n",
    "        over_limit = row['mb_per_month'] - row['mb_per_month_included']\n",
    "        # превышение по трафику считаем с точностью до Гб и округляем в большую сторону\n",
    "        gb_over_limit = np.ceil(over_limit / 1024) * row['rub_per_gb']\n",
    "    \n",
    "    # рассчитываем выручку как сумму превышений в руб. по минутам, сообщениям и трафику\n",
    "    # и прибавляем к абонентской плате за тариф\n",
    "    revenue = minutes_over_limit + messages_over_limit + gb_over_limit + row['rub_monthly_fee']\n",
    "    \n",
    "    return revenue\n"
   ]
  },
  {
   "cell_type": "markdown",
   "metadata": {},
   "source": [
    "Применим функцию расчёта выручки к датафрейму `df`, создав столбец с выручкой в месяц по каждому пользователю `monthly_revenue`:"
   ]
  },
  {
   "cell_type": "code",
   "execution_count": 42,
   "metadata": {},
   "outputs": [],
   "source": [
    "df['monthly_revenue'] = df.apply(revenue_calculation, axis=1)"
   ]
  },
  {
   "cell_type": "markdown",
   "metadata": {},
   "source": [
    "Выведем пять случайных строк изменённого датафрейма на экран:"
   ]
  },
  {
   "cell_type": "code",
   "execution_count": 43,
   "metadata": {},
   "outputs": [
    {
     "data": {
      "text/html": [
       "<div>\n",
       "<style scoped>\n",
       "    .dataframe tbody tr th:only-of-type {\n",
       "        vertical-align: middle;\n",
       "    }\n",
       "\n",
       "    .dataframe tbody tr th {\n",
       "        vertical-align: top;\n",
       "    }\n",
       "\n",
       "    .dataframe thead th {\n",
       "        text-align: right;\n",
       "    }\n",
       "</style>\n",
       "<table border=\"1\" class=\"dataframe\">\n",
       "  <thead>\n",
       "    <tr style=\"text-align: right;\">\n",
       "      <th></th>\n",
       "      <th>user_id</th>\n",
       "      <th>age</th>\n",
       "      <th>churn_date</th>\n",
       "      <th>city</th>\n",
       "      <th>first_name</th>\n",
       "      <th>last_name</th>\n",
       "      <th>reg_date</th>\n",
       "      <th>tariff_name</th>\n",
       "      <th>messages_included</th>\n",
       "      <th>mb_per_month_included</th>\n",
       "      <th>minutes_included</th>\n",
       "      <th>rub_monthly_fee</th>\n",
       "      <th>rub_per_gb</th>\n",
       "      <th>rub_per_message</th>\n",
       "      <th>rub_per_minute</th>\n",
       "      <th>month</th>\n",
       "      <th>calls_per_month</th>\n",
       "      <th>minutes_per_month</th>\n",
       "      <th>messages_per_month</th>\n",
       "      <th>mb_per_month</th>\n",
       "      <th>monthly_revenue</th>\n",
       "    </tr>\n",
       "  </thead>\n",
       "  <tbody>\n",
       "    <tr>\n",
       "      <th>1876</th>\n",
       "      <td>1299</td>\n",
       "      <td>37.0</td>\n",
       "      <td>NaT</td>\n",
       "      <td>Уфа</td>\n",
       "      <td>Мариетта</td>\n",
       "      <td>Симонова</td>\n",
       "      <td>2018-01-27</td>\n",
       "      <td>smart</td>\n",
       "      <td>50.0</td>\n",
       "      <td>15360.0</td>\n",
       "      <td>500.0</td>\n",
       "      <td>550.0</td>\n",
       "      <td>200.0</td>\n",
       "      <td>3.0</td>\n",
       "      <td>3.0</td>\n",
       "      <td>5.0</td>\n",
       "      <td>61.0</td>\n",
       "      <td>520.0</td>\n",
       "      <td>40.0</td>\n",
       "      <td>15516.53</td>\n",
       "      <td>810.0</td>\n",
       "    </tr>\n",
       "    <tr>\n",
       "      <th>2264</th>\n",
       "      <td>1362</td>\n",
       "      <td>47.0</td>\n",
       "      <td>NaT</td>\n",
       "      <td>Владимир</td>\n",
       "      <td>Нина</td>\n",
       "      <td>Колесова</td>\n",
       "      <td>2018-08-02</td>\n",
       "      <td>smart</td>\n",
       "      <td>50.0</td>\n",
       "      <td>15360.0</td>\n",
       "      <td>500.0</td>\n",
       "      <td>550.0</td>\n",
       "      <td>200.0</td>\n",
       "      <td>3.0</td>\n",
       "      <td>3.0</td>\n",
       "      <td>9.0</td>\n",
       "      <td>70.0</td>\n",
       "      <td>507.0</td>\n",
       "      <td>13.0</td>\n",
       "      <td>10671.47</td>\n",
       "      <td>571.0</td>\n",
       "    </tr>\n",
       "    <tr>\n",
       "      <th>1712</th>\n",
       "      <td>1274</td>\n",
       "      <td>53.0</td>\n",
       "      <td>NaT</td>\n",
       "      <td>Волгоград</td>\n",
       "      <td>Аксён</td>\n",
       "      <td>Еремин</td>\n",
       "      <td>2018-05-03</td>\n",
       "      <td>smart</td>\n",
       "      <td>50.0</td>\n",
       "      <td>15360.0</td>\n",
       "      <td>500.0</td>\n",
       "      <td>550.0</td>\n",
       "      <td>200.0</td>\n",
       "      <td>3.0</td>\n",
       "      <td>3.0</td>\n",
       "      <td>8.0</td>\n",
       "      <td>90.0</td>\n",
       "      <td>709.0</td>\n",
       "      <td>75.0</td>\n",
       "      <td>14950.63</td>\n",
       "      <td>1252.0</td>\n",
       "    </tr>\n",
       "    <tr>\n",
       "      <th>132</th>\n",
       "      <td>1018</td>\n",
       "      <td>71.0</td>\n",
       "      <td>NaT</td>\n",
       "      <td>Уфа</td>\n",
       "      <td>Матвей</td>\n",
       "      <td>Золотов</td>\n",
       "      <td>2018-04-01</td>\n",
       "      <td>ultra</td>\n",
       "      <td>1000.0</td>\n",
       "      <td>30720.0</td>\n",
       "      <td>3000.0</td>\n",
       "      <td>1950.0</td>\n",
       "      <td>150.0</td>\n",
       "      <td>1.0</td>\n",
       "      <td>1.0</td>\n",
       "      <td>9.0</td>\n",
       "      <td>81.0</td>\n",
       "      <td>520.0</td>\n",
       "      <td>21.0</td>\n",
       "      <td>7510.08</td>\n",
       "      <td>1950.0</td>\n",
       "    </tr>\n",
       "    <tr>\n",
       "      <th>2238</th>\n",
       "      <td>1358</td>\n",
       "      <td>64.0</td>\n",
       "      <td>NaT</td>\n",
       "      <td>Ставрополь</td>\n",
       "      <td>Демьян</td>\n",
       "      <td>Логинов</td>\n",
       "      <td>2018-02-21</td>\n",
       "      <td>smart</td>\n",
       "      <td>50.0</td>\n",
       "      <td>15360.0</td>\n",
       "      <td>500.0</td>\n",
       "      <td>550.0</td>\n",
       "      <td>200.0</td>\n",
       "      <td>3.0</td>\n",
       "      <td>3.0</td>\n",
       "      <td>8.0</td>\n",
       "      <td>75.0</td>\n",
       "      <td>573.0</td>\n",
       "      <td>55.0</td>\n",
       "      <td>11258.67</td>\n",
       "      <td>784.0</td>\n",
       "    </tr>\n",
       "  </tbody>\n",
       "</table>\n",
       "</div>"
      ],
      "text/plain": [
       "      user_id   age churn_date        city first_name last_name   reg_date  \\\n",
       "1876     1299  37.0        NaT         Уфа   Мариетта  Симонова 2018-01-27   \n",
       "2264     1362  47.0        NaT    Владимир       Нина  Колесова 2018-08-02   \n",
       "1712     1274  53.0        NaT   Волгоград      Аксён    Еремин 2018-05-03   \n",
       "132      1018  71.0        NaT         Уфа     Матвей   Золотов 2018-04-01   \n",
       "2238     1358  64.0        NaT  Ставрополь     Демьян   Логинов 2018-02-21   \n",
       "\n",
       "     tariff_name  messages_included  mb_per_month_included  minutes_included  \\\n",
       "1876       smart               50.0                15360.0             500.0   \n",
       "2264       smart               50.0                15360.0             500.0   \n",
       "1712       smart               50.0                15360.0             500.0   \n",
       "132        ultra             1000.0                30720.0            3000.0   \n",
       "2238       smart               50.0                15360.0             500.0   \n",
       "\n",
       "      rub_monthly_fee  rub_per_gb  rub_per_message  rub_per_minute  month  \\\n",
       "1876            550.0       200.0              3.0             3.0    5.0   \n",
       "2264            550.0       200.0              3.0             3.0    9.0   \n",
       "1712            550.0       200.0              3.0             3.0    8.0   \n",
       "132            1950.0       150.0              1.0             1.0    9.0   \n",
       "2238            550.0       200.0              3.0             3.0    8.0   \n",
       "\n",
       "      calls_per_month  minutes_per_month  messages_per_month  mb_per_month  \\\n",
       "1876             61.0              520.0                40.0      15516.53   \n",
       "2264             70.0              507.0                13.0      10671.47   \n",
       "1712             90.0              709.0                75.0      14950.63   \n",
       "132              81.0              520.0                21.0       7510.08   \n",
       "2238             75.0              573.0                55.0      11258.67   \n",
       "\n",
       "      monthly_revenue  \n",
       "1876            810.0  \n",
       "2264            571.0  \n",
       "1712           1252.0  \n",
       "132            1950.0  \n",
       "2238            784.0  "
      ]
     },
     "metadata": {},
     "output_type": "display_data"
    }
   ],
   "source": [
    "display(df.sample(5))"
   ]
  },
  {
   "cell_type": "markdown",
   "metadata": {},
   "source": [
    "### Промежуточный вывод\n",
    "Мы провели расчёты и добавили в таблицу:\n",
    "* количество сделанных звонков и израсходованных минут разговора по месяцам\n",
    "* количество отправленных сообщений по месяцам\n",
    "* объём израсходованного интернет-трафика по месяцам\n",
    "\n",
    "Также мы провели объединение таблиц в один общий датафрейм, содержащий данные о пользователях, их тарифных планах и агрегированные по месяцах данные по звонкам, сообщениям и интернет-трафику. Данный датафрейм был проверен на дубликаты и пропуски, последние в необходимом количестве были сброшены. Далее, по информации, представленной в датафрейме, мы рассчитали месячную выручку с каждого пользователя \"Мегалайн\".\n",
    "\n",
    "Далее мы проведём подробное исследование предоставленных данных и изучим характер их распределения."
   ]
  },
  {
   "cell_type": "markdown",
   "metadata": {},
   "source": [
    "## Исследовательский и статистический анализ данных"
   ]
  },
  {
   "cell_type": "markdown",
   "metadata": {},
   "source": [
    "### Анализ звонков, сообщений и интернет-трафика по месяцам\n",
    "Рассмотрим, как меняется среднее количество исходящих минут, сообщений и интернет-трафика у пользователей различных тарифных планов в зависимости от месяца.\n",
    "\n",
    "Напомним, описание тарифов звучит так:\n",
    "\n",
    "* *Тариф «Смарт»*\n",
    "1. Ежемесячная плата: 550 рублей\n",
    "2. Включено 500 минут разговора, 50 сообщений и 15 Гб интернет-трафика\n",
    "  \n",
    "* *Тариф «Ультра»*\n",
    "1. Ежемесячная плата: 1950 рублей\n",
    "2. Включено 3000 минут разговора, 1000 сообщений и 30 Гб интернет-трафика"
   ]
  },
  {
   "cell_type": "markdown",
   "metadata": {},
   "source": [
    "* **Минуты разговора**"
   ]
  },
  {
   "cell_type": "code",
   "execution_count": 44,
   "metadata": {
    "scrolled": true
   },
   "outputs": [
    {
     "data": {
      "image/png": "[encoded data removed]",
      "text/plain": [
       "<Figure size 576x288 with 1 Axes>"
      ]
     },
     "metadata": {
      "needs_background": "light"
     },
     "output_type": "display_data"
    }
   ],
   "source": [
    "(\n",
    "    df\n",
    "    .pivot_table(\n",
    "        index='month', \n",
    "        columns='tariff_name', \n",
    "        values='minutes_per_month', \n",
    "        aggfunc='mean')\n",
    "    .plot(kind='bar', grid=True, figsize=(8,4))\n",
    ")\n",
    "plt.title('minutes_per_month')\n",
    "plt.show()"
   ]
  },
  {
   "cell_type": "markdown",
   "metadata": {},
   "source": [
    "По графику мы видим следующее:\n",
    "\n",
    "* у пользователей \"Смарт\":\n",
    "  * минимальное количество минут разговора (около 200 мин.) приходится на январь, максимальное (около 480 мин.) - на декабрь;\n",
    "  * в среднем пользователям достаточно выделенного тарифом лимита в 500 мин.\n",
    "  \n",
    "  \n",
    "* у пользователей \"Ультра\":\n",
    "  * минимальное количество минут разговора (около 300 мин.) приходится на февраль, максимальное (около 620 мин.) - на декабрь;\n",
    "  * в среднем пользователям более чем достаточно выделенного тарифом лимита в 3000 мин.\n",
    "  \n",
    "\n",
    "Если судить по усреднённым значениям, то пользователи тарифа \"Ультра\" тратят больше минут на разговоры, чем пользователи тарифа \"Смарт\" - это может быть обусловлено б*о*льшим лимитом минут, заложенным в первый тариф.\n",
    "\n",
    "Кроме того, мы можем наблюдать некоторый рост звонков, приходящийся на декабрь, присущий для обоих тарифов. Это может быть связано с окончанием года и приближающимися новогодними праздниками."
   ]
  },
  {
   "cell_type": "markdown",
   "metadata": {},
   "source": [
    "* **Сообщения**"
   ]
  },
  {
   "cell_type": "code",
   "execution_count": 45,
   "metadata": {},
   "outputs": [
    {
     "data": {
      "image/png": "[encoded data removed]",
      "text/plain": [
       "<Figure size 576x288 with 1 Axes>"
      ]
     },
     "metadata": {
      "needs_background": "light"
     },
     "output_type": "display_data"
    }
   ],
   "source": [
    "(\n",
    "    df\n",
    "    .pivot_table(\n",
    "        index='month', \n",
    "        columns='tariff_name', \n",
    "        values='messages_per_month', \n",
    "        aggfunc='mean')\n",
    "    .plot(kind='bar', grid=True, figsize=(8,4))\n",
    ")\n",
    "plt.title('messages_per_month')\n",
    "plt.show()"
   ]
  },
  {
   "cell_type": "markdown",
   "metadata": {},
   "source": [
    "По графику прослеживается, что:\n",
    "\n",
    "* у пользователей \"Смарт\":\n",
    "  * минимальное количество сообщений (около 18) приходится на январь, максимальное (около 36) - на декабрь, что лишь немного превосходит среднее количество сообщений с мая по ноябрь;\n",
    "  * в среднем пользователям достаточно выделенного тарифом лимита в 50 сообщений.\n",
    "  \n",
    "  \n",
    "* у пользователей \"Ультра\":\n",
    "  * минимальное количество сообщений (около 22) приходится на февраль, максимальное (около 61) - на декабрь, что немногим выше среднего количества сообщений в октябре;\n",
    "  * в среднем пользователям более чем достаточно выделенного тарифом лимита в 1000 сообщений.\n",
    "  \n",
    "\n",
    "Если судить по усреднённым значениям, то пользователи тарифа \"Ультра\" отправляют больше сообщений, нежели пользователи тарифа \"Смарт\" - это может быть обусловлено б*о*льшим лимитом, заложенным в первый тариф."
   ]
  },
  {
   "cell_type": "markdown",
   "metadata": {},
   "source": [
    "* **Интернет-трафик (в Мб)**"
   ]
  },
  {
   "cell_type": "code",
   "execution_count": 46,
   "metadata": {},
   "outputs": [
    {
     "data": {
      "image/png": "[encoded data removed]",
      "text/plain": [
       "<Figure size 576x288 with 1 Axes>"
      ]
     },
     "metadata": {
      "needs_background": "light"
     },
     "output_type": "display_data"
    }
   ],
   "source": [
    "(\n",
    "    df\n",
    "    .pivot_table(\n",
    "        index='month', \n",
    "        columns='tariff_name', \n",
    "        values='mb_per_month', \n",
    "        aggfunc='mean')\n",
    "    .plot(kind='bar', grid=True, figsize=(8,4))\n",
    ")\n",
    "plt.title('mb_per_month')\n",
    "plt.show()"
   ]
  },
  {
   "cell_type": "markdown",
   "metadata": {},
   "source": [
    "По графику видно, что:\n",
    "\n",
    "* у пользователей \"Смарт\":\n",
    "  * минимальное количество интернет-трафика (около 8000 Мб) приходится на январь, максимальное (около 17000 Мб) - на декабрь;\n",
    "  * в среднем пользователи часто превышают лимит в 15 Гб (15360 Мб).\n",
    "  \n",
    "  \n",
    "* у пользователей \"Ультра\":\n",
    "  * минимальное количество интернет-трафика (около 13000 Мб) приходится на февраль; максимальное (около 22000 Мб) - на декабрь;\n",
    "  * в среднем пользователям более чем достаточно выделенного тарифом лимита в 30 Гб (30720 Мб).\n",
    "  \n",
    "\n",
    "Если судить по усреднённым значениям, то пользователи тарифа \"Ультра\" пользуются интернетом чаще пользователей тарифа \"Смарт\" - это может быть обусловлено б*о*льшим лимитом, заложенным в первый тариф. Однако, пользователи \"Смарт\" часто выходят за границу установленного тарифом лимита."
   ]
  },
  {
   "cell_type": "markdown",
   "metadata": {},
   "source": [
    "Отдельно отметим, что, несмотря на информативность представленных данных, по средним величинам сложно делать однозначный вывод об использовании пользователями опций тарифа. Для последнего лучше изучить распределение значений по каждому из рассматриваемых выше параметров и рассчитать их среднее, дисперсию и стандартное отклонение."
   ]
  },
  {
   "cell_type": "markdown",
   "metadata": {},
   "source": [
    "### Анализ поведения пользователей различных тарифов\n",
    "Для начала разделим всех абонентов датафрейма `df` на пользователей тарифа \"Смарт\" `smart_users` и пользователей тарифа \"Ультра\" `ultra_users`:"
   ]
  },
  {
   "cell_type": "code",
   "execution_count": 47,
   "metadata": {},
   "outputs": [],
   "source": [
    "smart_users = df.query('tariff_name == \"smart\"')\n",
    "ultra_users = df.query('tariff_name == \"ultra\"')"
   ]
  },
  {
   "cell_type": "markdown",
   "metadata": {},
   "source": [
    "Далее изучим подробнее характеристики распределения значений, исходя из тарифных планов."
   ]
  },
  {
   "cell_type": "markdown",
   "metadata": {},
   "source": [
    "* **Тариф \"Смарт\"**\n",
    "\n",
    "Получим описание распределения данных в столбцах `minutes_per_month`, `messages_per_month` и `mb_per_month` таблицы `smart_users`:"
   ]
  },
  {
   "cell_type": "code",
   "execution_count": 48,
   "metadata": {},
   "outputs": [
    {
     "data": {
      "text/html": [
       "<div>\n",
       "<style scoped>\n",
       "    .dataframe tbody tr th:only-of-type {\n",
       "        vertical-align: middle;\n",
       "    }\n",
       "\n",
       "    .dataframe tbody tr th {\n",
       "        vertical-align: top;\n",
       "    }\n",
       "\n",
       "    .dataframe thead th {\n",
       "        text-align: right;\n",
       "    }\n",
       "</style>\n",
       "<table border=\"1\" class=\"dataframe\">\n",
       "  <thead>\n",
       "    <tr style=\"text-align: right;\">\n",
       "      <th></th>\n",
       "      <th>minutes_per_month</th>\n",
       "      <th>messages_per_month</th>\n",
       "      <th>mb_per_month</th>\n",
       "    </tr>\n",
       "  </thead>\n",
       "  <tbody>\n",
       "    <tr>\n",
       "      <th>count</th>\n",
       "      <td>2225.000000</td>\n",
       "      <td>2225.000000</td>\n",
       "      <td>2225.000000</td>\n",
       "    </tr>\n",
       "    <tr>\n",
       "      <th>mean</th>\n",
       "      <td>418.686292</td>\n",
       "      <td>33.366292</td>\n",
       "      <td>16194.796112</td>\n",
       "    </tr>\n",
       "    <tr>\n",
       "      <th>std</th>\n",
       "      <td>189.656900</td>\n",
       "      <td>28.264460</td>\n",
       "      <td>5893.675710</td>\n",
       "    </tr>\n",
       "    <tr>\n",
       "      <th>min</th>\n",
       "      <td>0.000000</td>\n",
       "      <td>0.000000</td>\n",
       "      <td>0.000000</td>\n",
       "    </tr>\n",
       "    <tr>\n",
       "      <th>25%</th>\n",
       "      <td>284.000000</td>\n",
       "      <td>10.000000</td>\n",
       "      <td>12625.710000</td>\n",
       "    </tr>\n",
       "    <tr>\n",
       "      <th>50%</th>\n",
       "      <td>422.000000</td>\n",
       "      <td>28.000000</td>\n",
       "      <td>16476.730000</td>\n",
       "    </tr>\n",
       "    <tr>\n",
       "      <th>75%</th>\n",
       "      <td>545.000000</td>\n",
       "      <td>51.000000</td>\n",
       "      <td>20046.380000</td>\n",
       "    </tr>\n",
       "    <tr>\n",
       "      <th>max</th>\n",
       "      <td>1435.000000</td>\n",
       "      <td>143.000000</td>\n",
       "      <td>38552.450000</td>\n",
       "    </tr>\n",
       "  </tbody>\n",
       "</table>\n",
       "</div>"
      ],
      "text/plain": [
       "       minutes_per_month  messages_per_month  mb_per_month\n",
       "count        2225.000000         2225.000000   2225.000000\n",
       "mean          418.686292           33.366292  16194.796112\n",
       "std           189.656900           28.264460   5893.675710\n",
       "min             0.000000            0.000000      0.000000\n",
       "25%           284.000000           10.000000  12625.710000\n",
       "50%           422.000000           28.000000  16476.730000\n",
       "75%           545.000000           51.000000  20046.380000\n",
       "max          1435.000000          143.000000  38552.450000"
      ]
     },
     "execution_count": 48,
     "metadata": {},
     "output_type": "execute_result"
    }
   ],
   "source": [
    "smart_users[['minutes_per_month', 'messages_per_month', 'mb_per_month']].describe()"
   ]
  },
  {
   "cell_type": "markdown",
   "metadata": {},
   "source": [
    "Исходя из данных выше, можно сказать, что у пользователей тарифа \"Смарт\" (включено 500 минут разговора, 50 сообщений и 15 Гб интернет-трафика):\n",
    "* *минуты разговора в месяц*\n",
    "\n",
    "    Количество минут разговора в основном варьируется от 284 мин. (первый квартиль) до 545 мин. (третий квартиль). Минимальное количество потраченного времени на звонки - 0 мин., максимальное - 1435 мин. Среднее значение составляет 419 мин., что укладывается в предоставленный тарифом лимит. Однако, стандартное отклонение составляет 190 мин., что говорит о большой степени разброса значений вокруг среднего.\n",
    "    \n",
    "    \n",
    "* *сообщения в месяц*\n",
    "\n",
    "    Количество отправленных в месяц сообщений в основном варьируется от 10 (первый квартиль) до 51 (третий квартиль). Минимальное количество сообщений - 0, максимальное - 143. Среднее значение составляет 33 сообщения, что более чем укладывается в предоставленный тарифом лимит. Однако, стандартное отклонение в 28 сообщений также указывает нам на большую степени разброса вокруг среднего.\n",
    "    \n",
    "\n",
    "* *интернет-трафик в месяц*\n",
    "\n",
    "    Количество исходящего интернет-трафика за месяц в основном варьируется от 12 Гб (первый квартиль) до 19.6 Гб (третий квартиль). Минимальное использованного трафика - 0 Гб, максимальное - почти 38 Гб. Среднее значение составляет почти 16 Гб, что на 1 Гб превышает предоставленный тарифом лимит. Вдобавок, стандартное отклонение в 5.7 Гб дополнительно указывает нам на большую степени разброса вокруг среднего.\n",
    "    \n",
    "Предварительно можно заключить, что, несмотря на то, что средние значения по звонкам и сообщениям соответствуют лимитам, их стандартные отклонения довольно велики, что может свидетельствовать о том, что большому количеству пользователей всё же приходится переплачивать за услуги сверх тарифного пакета. Относительно интернет-трафика за месяц можно сказать, что даже среднее его значение по выборке не укладывается в предоставленный тарифом лимит."
   ]
  },
  {
   "cell_type": "markdown",
   "metadata": {},
   "source": [
    "* **Тариф \"Ультра\"**\n",
    "\n",
    "Получим описание распределения данных в столбцах `minutes_per_month`, `messages_per_month` и `mb_per_month` таблицы `ultra_users`:"
   ]
  },
  {
   "cell_type": "code",
   "execution_count": 49,
   "metadata": {
    "scrolled": true
   },
   "outputs": [
    {
     "data": {
      "text/html": [
       "<div>\n",
       "<style scoped>\n",
       "    .dataframe tbody tr th:only-of-type {\n",
       "        vertical-align: middle;\n",
       "    }\n",
       "\n",
       "    .dataframe tbody tr th {\n",
       "        vertical-align: top;\n",
       "    }\n",
       "\n",
       "    .dataframe thead th {\n",
       "        text-align: right;\n",
       "    }\n",
       "</style>\n",
       "<table border=\"1\" class=\"dataframe\">\n",
       "  <thead>\n",
       "    <tr style=\"text-align: right;\">\n",
       "      <th></th>\n",
       "      <th>minutes_per_month</th>\n",
       "      <th>messages_per_month</th>\n",
       "      <th>mb_per_month</th>\n",
       "    </tr>\n",
       "  </thead>\n",
       "  <tbody>\n",
       "    <tr>\n",
       "      <th>count</th>\n",
       "      <td>957.000000</td>\n",
       "      <td>957.000000</td>\n",
       "      <td>957.000000</td>\n",
       "    </tr>\n",
       "    <tr>\n",
       "      <th>mean</th>\n",
       "      <td>542.031348</td>\n",
       "      <td>48.726228</td>\n",
       "      <td>19340.434556</td>\n",
       "    </tr>\n",
       "    <tr>\n",
       "      <th>std</th>\n",
       "      <td>308.978539</td>\n",
       "      <td>46.903402</td>\n",
       "      <td>10211.330843</td>\n",
       "    </tr>\n",
       "    <tr>\n",
       "      <th>min</th>\n",
       "      <td>0.000000</td>\n",
       "      <td>0.000000</td>\n",
       "      <td>0.000000</td>\n",
       "    </tr>\n",
       "    <tr>\n",
       "      <th>25%</th>\n",
       "      <td>308.000000</td>\n",
       "      <td>5.000000</td>\n",
       "      <td>11412.690000</td>\n",
       "    </tr>\n",
       "    <tr>\n",
       "      <th>50%</th>\n",
       "      <td>525.000000</td>\n",
       "      <td>39.000000</td>\n",
       "      <td>19300.030000</td>\n",
       "    </tr>\n",
       "    <tr>\n",
       "      <th>75%</th>\n",
       "      <td>756.000000</td>\n",
       "      <td>79.000000</td>\n",
       "      <td>26788.150000</td>\n",
       "    </tr>\n",
       "    <tr>\n",
       "      <th>max</th>\n",
       "      <td>1673.000000</td>\n",
       "      <td>224.000000</td>\n",
       "      <td>49745.690000</td>\n",
       "    </tr>\n",
       "  </tbody>\n",
       "</table>\n",
       "</div>"
      ],
      "text/plain": [
       "       minutes_per_month  messages_per_month  mb_per_month\n",
       "count         957.000000          957.000000    957.000000\n",
       "mean          542.031348           48.726228  19340.434556\n",
       "std           308.978539           46.903402  10211.330843\n",
       "min             0.000000            0.000000      0.000000\n",
       "25%           308.000000            5.000000  11412.690000\n",
       "50%           525.000000           39.000000  19300.030000\n",
       "75%           756.000000           79.000000  26788.150000\n",
       "max          1673.000000          224.000000  49745.690000"
      ]
     },
     "execution_count": 49,
     "metadata": {},
     "output_type": "execute_result"
    }
   ],
   "source": [
    "ultra_users[['minutes_per_month', 'messages_per_month', 'mb_per_month']].describe()"
   ]
  },
  {
   "cell_type": "markdown",
   "metadata": {},
   "source": [
    "Исходя из данных выше, можно судить, что у пользователей тарифа \"Ультра\" (включено 3000 минут разговора, 1000 сообщений и 30 Гб интернет-трафика):\n",
    "* *минуты разговора в месяц*\n",
    "\n",
    "    Количество минут разговора в основном варьируется от 308 мин. (первый квартиль) до 756 мин. (третий квартиль). Минимальное количество потраченного времени на звонки - 0 мин., максимальное - 1673 мин. Среднее значение составляет 542 мин., а стандартное отклонение - почти 309 мин.; последнее говорит о большой степени разброса значений вокруг среднего. Однако, даже с учётом этого, значения укладываются в предусмотренный тарифом лимит.\n",
    "    \n",
    "    \n",
    "* *сообщения в месяц*\n",
    "\n",
    "    Количество отправленных в месяц сообщений в основном варьируется от 5 (первый квартиль) до 79 (третий квартиль). Минимальное количество сообщений - 0, максимальное - 224. Среднее значение составляет почти 49 сообщений, что более чем укладывается в предоставленный тарифом лимит. Стандартное отклонение почти в 47 сообщений также указывает нам на большую степени разброса вокруг среднего. Однако, даже с учётом этого, значения укладываются в предусмотренный тарифом лимит.\n",
    "    \n",
    "\n",
    "* *интернет-трафик в месяц*\n",
    "\n",
    "    Количество исходящего интернет-трафика за месяц в основном варьируется от 11 Гб (первый квартиль) до 26 Гб (третий квартиль). Минимальное использованного трафика - 0 Гб, максимальное - 48,6 Гб. Среднее значение составляет примерно 19 Гб. Вдобавок, стандартное отклонение в 10 Гб дополнительно указывает нам на большую степени разброса вокруг среднего. Но, несмотря на это, значения по большей части что укладываются в лимит тарифа.\n",
    "    \n",
    "Предварительно можно сказать, что тариф \"Ультра\" более оптимизирован - несмотря на более высокую абонентскую плату, пользователям наверняка реже приходится платить за дополнительные опции сверх тарифа."
   ]
  },
  {
   "cell_type": "markdown",
   "metadata": {},
   "source": [
    "Далее изучим распределения характеристик (минуты, сообщения и звонки в месяц) для каждого тарифа и рассмотрим три параметра:\n",
    "* среднее значение\n",
    "* дисперсия (метрика разброса данных)\n",
    "* стандартное отклонение (метрика разброса данных)\n",
    "\n",
    "Поскольку все рассматриваемые нами переменные являются непрерывными, то для визуализации решено использовать не стандартную частотную гистограмму, а кривую плотностей, по которой можно оценить, сколько значений попало в любой интервал."
   ]
  },
  {
   "cell_type": "markdown",
   "metadata": {},
   "source": [
    "* **Распределение для минут разговора в месяц**"
   ]
  },
  {
   "cell_type": "code",
   "execution_count": 50,
   "metadata": {},
   "outputs": [
    {
     "data": {
      "image/png": "[encoded data removed]",
      "text/plain": [
       "<Figure size 432x288 with 1 Axes>"
      ]
     },
     "metadata": {
      "needs_background": "light"
     },
     "output_type": "display_data"
    }
   ],
   "source": [
    "df.groupby('tariff_name').minutes_per_month.plot.density(legend=True, grid=True)\n",
    "plt.title('Density plot for Minutes per month')\n",
    "plt.show()"
   ]
  },
  {
   "cell_type": "markdown",
   "metadata": {},
   "source": [
    "Как мы видим, оба графика имеют форму колокола, что говорит о том, что они относятся к нормальному типу распределения. Большинство значений в тарифе \"Смарт\" приходится на 450 мин. разговоров в месяц, в тарифе \"Ультра\" - на 500 мин.\n",
    "Кривая, соответствующая тарифу \"Ультра\", имеет более сглаженный характер, что определяется меньшим количеством абонентов, подключенных к этому тарифу, относительно пользователей тарифа \"Смарт\".\n",
    "\n",
    "Мы убедились в нормальном распределении переменных `minutes_per_month`, поэтому можем рассчитать метрики локации этих данных.\n",
    "\n",
    "Рассчитаем средние значения `minutes_per_month` для двух тарифов:"
   ]
  },
  {
   "cell_type": "code",
   "execution_count": 51,
   "metadata": {},
   "outputs": [],
   "source": [
    "smart_minutes_mean = smart_users.minutes_per_month.mean()\n",
    "ultra_munutes_mean = ultra_users.minutes_per_month.mean()"
   ]
  },
  {
   "cell_type": "markdown",
   "metadata": {},
   "source": [
    "Теперь рассчитаем диперсию данных `minutes_per_month` для двух тарифов. Поскольку из описания проекта известно, что датасет — не вся совокупность, а выборка из неё (500 пользователей), то вместо дисперсии совокупности будем считать её оценку по имеющейся выборке:"
   ]
  },
  {
   "cell_type": "code",
   "execution_count": 52,
   "metadata": {},
   "outputs": [],
   "source": [
    "smart_minutes_variance = np.var(smart_users.minutes_per_month, ddof=1)\n",
    "ultra_minutes_variance = np.var(ultra_users.minutes_per_month, ddof=1)"
   ]
  },
  {
   "cell_type": "markdown",
   "metadata": {},
   "source": [
    "Наконец, рассчитаем стандартное отклонение данных `minutes_per_month` для двух тарифов. Поскольку дисперсия уже была рассчитана выше, мы можем его получить, взяв из неё квадратный корень:"
   ]
  },
  {
   "cell_type": "code",
   "execution_count": 53,
   "metadata": {},
   "outputs": [],
   "source": [
    "smart_minutes_sigma = np.sqrt(smart_minutes_variance)\n",
    "ultra_minutes_sigma = np.sqrt(ultra_minutes_variance)"
   ]
  },
  {
   "cell_type": "markdown",
   "metadata": {},
   "source": [
    "Теперь, для упрощения визуализации, объединим все полученные данные в таблицу с метриками `minutes_metrics`:"
   ]
  },
  {
   "cell_type": "code",
   "execution_count": 54,
   "metadata": {},
   "outputs": [
    {
     "data": {
      "text/html": [
       "<div>\n",
       "<style scoped>\n",
       "    .dataframe tbody tr th:only-of-type {\n",
       "        vertical-align: middle;\n",
       "    }\n",
       "\n",
       "    .dataframe tbody tr th {\n",
       "        vertical-align: top;\n",
       "    }\n",
       "\n",
       "    .dataframe thead th {\n",
       "        text-align: right;\n",
       "    }\n",
       "</style>\n",
       "<table border=\"1\" class=\"dataframe\">\n",
       "  <thead>\n",
       "    <tr style=\"text-align: right;\">\n",
       "      <th></th>\n",
       "      <th>minutes_metrics</th>\n",
       "      <th>smart</th>\n",
       "      <th>ultra</th>\n",
       "    </tr>\n",
       "  </thead>\n",
       "  <tbody>\n",
       "    <tr>\n",
       "      <th>0</th>\n",
       "      <td>mean</td>\n",
       "      <td>418.686292</td>\n",
       "      <td>542.031348</td>\n",
       "    </tr>\n",
       "    <tr>\n",
       "      <th>1</th>\n",
       "      <td>variance</td>\n",
       "      <td>35969.739673</td>\n",
       "      <td>95467.737510</td>\n",
       "    </tr>\n",
       "    <tr>\n",
       "      <th>2</th>\n",
       "      <td>st deviation</td>\n",
       "      <td>189.656900</td>\n",
       "      <td>308.978539</td>\n",
       "    </tr>\n",
       "  </tbody>\n",
       "</table>\n",
       "</div>"
      ],
      "text/plain": [
       "  minutes_metrics         smart         ultra\n",
       "0            mean    418.686292    542.031348\n",
       "1        variance  35969.739673  95467.737510\n",
       "2    st deviation    189.656900    308.978539"
      ]
     },
     "metadata": {},
     "output_type": "display_data"
    }
   ],
   "source": [
    "minutes_metrics = pd.DataFrame([\n",
    "    ['mean', smart_minutes_mean, ultra_munutes_mean],\n",
    "    ['variance', smart_minutes_variance, ultra_minutes_variance],\n",
    "    ['st deviation', smart_minutes_sigma, ultra_minutes_sigma]],\n",
    "    columns=['minutes_metrics', 'smart', 'ultra']\n",
    ")\n",
    "display(minutes_metrics)"
   ]
  },
  {
   "cell_type": "markdown",
   "metadata": {},
   "source": [
    "* **Распределение для сообщений в месяц**"
   ]
  },
  {
   "cell_type": "code",
   "execution_count": 55,
   "metadata": {},
   "outputs": [
    {
     "data": {
      "image/png": "[encoded data removed]",
      "text/plain": [
       "<Figure size 432x288 with 1 Axes>"
      ]
     },
     "metadata": {
      "needs_background": "light"
     },
     "output_type": "display_data"
    }
   ],
   "source": [
    "df.groupby('tariff_name').messages_per_month.plot.density(legend=True, grid=True)\n",
    "plt.title('Density plot for Messages per month')\n",
    "plt.show()"
   ]
  },
  {
   "cell_type": "markdown",
   "metadata": {},
   "source": [
    "Оба графика имеют форму, близкой к форме колокола, что подтверждает нормальный тип распределения. Также они имеют положительную скошенность, тогда как их средние значения смещены влево. Большинство значений в тарифе \"Смарт\" приходится на 30 сообщений в месяц, в тарифе \"Ультра\" - на 50 сообщений. Кривая, соответствующая тарифу \"Ультра\", имеет более сглаженный характер, что определяется меньшим количеством абонентов, подключенных к этому тарифу, относительно пользователей тарифа \"Смарт\".\n",
    "\n",
    "Мы убедились в нормальном распределении переменных `messages_per_month`, поэтому можем рассчитать метрики локации этих данных.\n",
    "\n",
    "Рассчитаем средние значения `messages_per_month` для двух тарифов:"
   ]
  },
  {
   "cell_type": "code",
   "execution_count": 56,
   "metadata": {},
   "outputs": [],
   "source": [
    "smart_messages_mean = smart_users.messages_per_month.mean()\n",
    "ultra_messages_mean = ultra_users.messages_per_month.mean()"
   ]
  },
  {
   "cell_type": "markdown",
   "metadata": {},
   "source": [
    "Теперь рассчитаем оценку дисперсии `messages_per_month` по выборке данных для двух тарифов:"
   ]
  },
  {
   "cell_type": "code",
   "execution_count": 57,
   "metadata": {},
   "outputs": [],
   "source": [
    "smart_messages_variance = np.var(smart_users.messages_per_month, ddof=1)\n",
    "ultra_messages_variance = np.var(ultra_users.messages_per_month, ddof=1)"
   ]
  },
  {
   "cell_type": "markdown",
   "metadata": {},
   "source": [
    "Наконец, рассчитаем стандартное отклонение данных `messages_per_month` для двух тарифов:"
   ]
  },
  {
   "cell_type": "code",
   "execution_count": 58,
   "metadata": {},
   "outputs": [],
   "source": [
    "smart_messages_sigma = np.sqrt(smart_messages_variance)\n",
    "ultra_messages_sigma = np.sqrt(ultra_messages_variance)"
   ]
  },
  {
   "cell_type": "markdown",
   "metadata": {},
   "source": [
    "Отобразим все полученные данные в таблице с метриками `messages_metrics`:"
   ]
  },
  {
   "cell_type": "code",
   "execution_count": 59,
   "metadata": {},
   "outputs": [
    {
     "data": {
      "text/html": [
       "<div>\n",
       "<style scoped>\n",
       "    .dataframe tbody tr th:only-of-type {\n",
       "        vertical-align: middle;\n",
       "    }\n",
       "\n",
       "    .dataframe tbody tr th {\n",
       "        vertical-align: top;\n",
       "    }\n",
       "\n",
       "    .dataframe thead th {\n",
       "        text-align: right;\n",
       "    }\n",
       "</style>\n",
       "<table border=\"1\" class=\"dataframe\">\n",
       "  <thead>\n",
       "    <tr style=\"text-align: right;\">\n",
       "      <th></th>\n",
       "      <th>messages_metrics</th>\n",
       "      <th>smart</th>\n",
       "      <th>ultra</th>\n",
       "    </tr>\n",
       "  </thead>\n",
       "  <tbody>\n",
       "    <tr>\n",
       "      <th>0</th>\n",
       "      <td>mean</td>\n",
       "      <td>33.366292</td>\n",
       "      <td>48.726228</td>\n",
       "    </tr>\n",
       "    <tr>\n",
       "      <th>1</th>\n",
       "      <td>variance</td>\n",
       "      <td>798.879709</td>\n",
       "      <td>2199.929154</td>\n",
       "    </tr>\n",
       "    <tr>\n",
       "      <th>2</th>\n",
       "      <td>st deviation</td>\n",
       "      <td>28.264460</td>\n",
       "      <td>46.903402</td>\n",
       "    </tr>\n",
       "  </tbody>\n",
       "</table>\n",
       "</div>"
      ],
      "text/plain": [
       "  messages_metrics       smart        ultra\n",
       "0             mean   33.366292    48.726228\n",
       "1         variance  798.879709  2199.929154\n",
       "2     st deviation   28.264460    46.903402"
      ]
     },
     "metadata": {},
     "output_type": "display_data"
    }
   ],
   "source": [
    "messages_metrics = pd.DataFrame([\n",
    "    ['mean', smart_messages_mean, ultra_messages_mean],\n",
    "    ['variance', smart_messages_variance, ultra_messages_variance],\n",
    "    ['st deviation', smart_messages_sigma, ultra_messages_sigma]],\n",
    "    columns=['messages_metrics', 'smart', 'ultra']\n",
    ")\n",
    "display(messages_metrics)"
   ]
  },
  {
   "cell_type": "markdown",
   "metadata": {},
   "source": [
    "* **Распределение для интернет-трафика в месяц**"
   ]
  },
  {
   "cell_type": "code",
   "execution_count": 60,
   "metadata": {},
   "outputs": [
    {
     "data": {
      "image/png": "[encoded data removed]",
      "text/plain": [
       "<Figure size 432x288 with 1 Axes>"
      ]
     },
     "metadata": {
      "needs_background": "light"
     },
     "output_type": "display_data"
    }
   ],
   "source": [
    "df.groupby('tariff_name').mb_per_month.plot.density(legend=True, grid=True)\n",
    "plt.title('Density plot for Mb per month')\n",
    "plt.show()"
   ]
  },
  {
   "cell_type": "markdown",
   "metadata": {},
   "source": [
    "Мы видим, что оба графика тяготеют к нормальному типу распределения. Большинство значений в тарифе \"Смарт\" приходится на 16 Гб интернет-трафика в месяц, в тарифе \"Ультра\" - на 20 Гб.\n",
    "Кривая, соответствующая тарифу \"Ультра\", имеет более сглаженный характер, что определяется меньшим количеством абонентов, подключенных к этому тарифу, относительно пользователей тарифа \"Смарт\".\n",
    "\n",
    "Мы убедились в нормальном распределении переменных `mb_per_month`, поэтому можем рассчитать метрики локации этих данных.\n",
    "\n",
    "Рассчитаем средние значения `mb_per_month` для двух тарифов:"
   ]
  },
  {
   "cell_type": "code",
   "execution_count": 61,
   "metadata": {},
   "outputs": [],
   "source": [
    "smart_mb_mean = smart_users.mb_per_month.mean()\n",
    "ultra_mb_mean = ultra_users.mb_per_month.mean()"
   ]
  },
  {
   "cell_type": "markdown",
   "metadata": {},
   "source": [
    "Теперь рассчитаем оценку дисперсии `mb_per_month` по выборке данных для двух тарифов:"
   ]
  },
  {
   "cell_type": "code",
   "execution_count": 62,
   "metadata": {},
   "outputs": [],
   "source": [
    "smart_mb_variance = np.var(smart_users.mb_per_month, ddof=1)\n",
    "ultra_mb_variance = np.var(ultra_users.mb_per_month, ddof=1)"
   ]
  },
  {
   "cell_type": "markdown",
   "metadata": {},
   "source": [
    "И наконец, рассчитаем стандартное отклонение данных `mb_per_month` для двух тарифов:"
   ]
  },
  {
   "cell_type": "code",
   "execution_count": 63,
   "metadata": {},
   "outputs": [],
   "source": [
    "smart_mb_sigma = np.sqrt(smart_mb_variance)\n",
    "ultra_mb_sigma = np.sqrt(ultra_mb_variance)"
   ]
  },
  {
   "cell_type": "markdown",
   "metadata": {},
   "source": [
    "Отобразим все полученные данные в таблице с метриками `mb_metrics`:"
   ]
  },
  {
   "cell_type": "code",
   "execution_count": 64,
   "metadata": {
    "scrolled": true
   },
   "outputs": [
    {
     "data": {
      "text/html": [
       "<div>\n",
       "<style scoped>\n",
       "    .dataframe tbody tr th:only-of-type {\n",
       "        vertical-align: middle;\n",
       "    }\n",
       "\n",
       "    .dataframe tbody tr th {\n",
       "        vertical-align: top;\n",
       "    }\n",
       "\n",
       "    .dataframe thead th {\n",
       "        text-align: right;\n",
       "    }\n",
       "</style>\n",
       "<table border=\"1\" class=\"dataframe\">\n",
       "  <thead>\n",
       "    <tr style=\"text-align: right;\">\n",
       "      <th></th>\n",
       "      <th>mb_metrics</th>\n",
       "      <th>smart</th>\n",
       "      <th>ultra</th>\n",
       "    </tr>\n",
       "  </thead>\n",
       "  <tbody>\n",
       "    <tr>\n",
       "      <th>0</th>\n",
       "      <td>mean</td>\n",
       "      <td>1.619480e+04</td>\n",
       "      <td>1.934043e+04</td>\n",
       "    </tr>\n",
       "    <tr>\n",
       "      <th>1</th>\n",
       "      <td>variance</td>\n",
       "      <td>3.473541e+07</td>\n",
       "      <td>1.042713e+08</td>\n",
       "    </tr>\n",
       "    <tr>\n",
       "      <th>2</th>\n",
       "      <td>st deviation</td>\n",
       "      <td>5.893676e+03</td>\n",
       "      <td>1.021133e+04</td>\n",
       "    </tr>\n",
       "  </tbody>\n",
       "</table>\n",
       "</div>"
      ],
      "text/plain": [
       "     mb_metrics         smart         ultra\n",
       "0          mean  1.619480e+04  1.934043e+04\n",
       "1      variance  3.473541e+07  1.042713e+08\n",
       "2  st deviation  5.893676e+03  1.021133e+04"
      ]
     },
     "metadata": {},
     "output_type": "display_data"
    }
   ],
   "source": [
    "mb_metrics = pd.DataFrame([\n",
    "    ['mean', smart_mb_mean, ultra_mb_mean],\n",
    "    ['variance', smart_mb_variance, ultra_mb_variance],\n",
    "    ['st deviation', smart_mb_sigma, ultra_mb_sigma]],\n",
    "    columns=['mb_metrics', 'smart', 'ultra']\n",
    ")\n",
    "display(mb_metrics)"
   ]
  },
  {
   "cell_type": "markdown",
   "metadata": {},
   "source": [
    "### Промежуточный вывод\n",
    "Нами были проведены исследовательский и статистический анализы данных абонентов компании \"Мегалайн\".\n",
    "\n",
    "**Исследовательский анализ данных**\n",
    "\n",
    "В первом случае было рассмотрено изменение среднего количества исходящих минут, сообщений и интернет-трафика у пользователей различных тарифных планов в зависимости от месяца.\n",
    "\n",
    "Было выявлено, что: \n",
    "* у пользователей \"Смарт\":\n",
    "  * минимальное количество минут разговора, сообщений и интернет-трафика приходится на январь, максимальное - на декабрь;\n",
    "  * в среднем пользователям достаточно выделенного тарифом лимита на минуты и сообщения, однако пользователи часто превышают лимит в 15 Гб интернет-трафика.\n",
    "  \n",
    "  \n",
    "* у пользователей \"Ультра\":\n",
    "  * минимальное количество минут разговора, сообщений и интернет-трафика приходится на февраль, максимальное - на декабрь;\n",
    "  * в среднем пользователи редко превышают выделенный тарифом лимит минут, сообщений и интернет-трафика.\n",
    "\n",
    "Если судить по усреднённым значениям, то пользователи тарифа \"Ультра\" тратят больше минут на разговоры, чаще отправляют сообщения и чаще пользуются интернетом, чем пользователи тарифа \"Смарт\" - это может быть обусловлено б*о*льшим лимитом минут, заложенным в первый тариф.\n",
    "\n",
    "**Статистический анализ данных**\n",
    "\n",
    "Этот анализ показал нам несколько иную картину.\n",
    "\n",
    "* у пользователей \"Смарт\":\n",
    "  * Определённому количеству пользователей всё же приходится переплачивать за услуги сверх тарифного пакета. Относительно интернет-трафика за месяц можно сказать, что даже среднее его значение по выборке не укладывается в предоставленный тарифом лимит.\n",
    "  \n",
    "\n",
    "* у пользователей \"Ультра\":\n",
    "  * В этом случае пользователи реже вынуждены платить за дополнительные опции сверх тарифа; однако абонентская плата у данного тарифа гораздо выше и нивелирует эту разницу.\n",
    "  \n",
    "Также мы выявили, что распределения минут разговоров, сообщений и израсходованного интернет-трафика в месяц близки к нормальному типу для обоих тарифных планов, что позволило нам рассчитать дисперсию и стандартное отклонение для характеристик выше.\n",
    "\n",
    "Далее мы переходим к финальной части - установлению гипотез и их последующей проверке."
   ]
  },
  {
   "cell_type": "markdown",
   "metadata": {},
   "source": [
    "## Проверка гипотез\n",
    "Перед нами стоит задача - проверить предположения, звучащие как:\n",
    "\n",
    "* средняя выручка пользователей тарифов «Ультра» и «Смарт» различаются;\n",
    "* средняя выручка пользователей из Москвы отличается от выручки пользователей из других регионов.\n",
    "\n",
    "Мы можем воспользоваться статистическим методом и сформулировать нулевые и альтернативные гипотезы для обоих рассматриваемых случаев на основе статистической гипотезы о равенстве средних двух генеральных совокупностей. Сравнение будет производиться при помощи t-теста."
   ]
  },
  {
   "cell_type": "markdown",
   "metadata": {},
   "source": [
    "### Средняя выручка пользователей тарифов «Ультра» и «Смарт» различаются\n",
    "Прежде, чем формулировать нулевую и альтернативную гипотезы для данного случая, требуется изучить аспекты, необходимые для проведения t-теста:\n",
    "\n",
    "* *Генеральные совокупности не должны зависеть друг от друга.*\n",
    "  \n",
    "  В данном случае пользователи выбирали тарифные планы, исходя из собственных предпочтений и финансовых возможностей, поэтому рассматриваемые выборки генеральных совокупностей друг от друга не зависят.\n",
    "  \n",
    "  \n",
    "* *Выборочные средние должны быть нормально распределены.*\n",
    "\n",
    "   Поскольку рассматриваемые выборки довольно велики, а величины являются непрерывными, то можно предположить, что в подобных ситуациях распределение всегда будет стремиться к нормальному.\n",
    "   \n",
    "   \n",
    "* *Дисперсии рассматриваемых генеральных совокупностей должны быть равны.*\n",
    "\n",
    "  В этом случае мы не можем утверждать наверняка, поскольку дисперсии для значений выручки отдельно не рассчитывались. Однако, ввиду того, что у тарифа \"Смарт\" было обнаружено превышение лимита по нескольким показателям, то можно предположить, что и дисперсия выручки данного тарифа будет отличаться от дисперсии выручки тарифа \"Ультра\". В данном случае мы примем для t-теста параметр `equal_var = False`.\n",
    "  \n",
    "Нулевая гипотеза будет звучать так:\n",
    "\n",
    "*Средняя выручка пользователей тарифа «Ультра» равна средней выручке пользователей «Смарт»*\n",
    "\n",
    "Альтернативная гипотеза будет звучать следующим образом:\n",
    "\n",
    "*Средняя выручка пользователей тарифа «Ультра» отличается от средней выручки пользователей «Смарт»*\n",
    "\n",
    "Критический уровень значимости `alpha` примем равным 0.05. Таким образом, вероятность достоверности вывода будет минимум 95%:"
   ]
  },
  {
   "cell_type": "code",
   "execution_count": 65,
   "metadata": {},
   "outputs": [
    {
     "name": "stdout",
     "output_type": "stream",
     "text": [
      "p-значение: 2.796424815525196e-246\n",
      "Отвергаем нулевую гипотезу\n"
     ]
    }
   ],
   "source": [
    "alpha = .05\n",
    "\n",
    "results = st.ttest_ind(smart_users.monthly_revenue, ultra_users.monthly_revenue, equal_var = False)\n",
    "print('p-значение:', results.pvalue)\n",
    "\n",
    "if (results.pvalue < alpha):\n",
    "    print('Отвергаем нулевую гипотезу')\n",
    "else:\n",
    "    print('Не получилось отвергнуть нулевую гипотезу')"
   ]
  },
  {
   "cell_type": "markdown",
   "metadata": {},
   "source": [
    "Исходя из вывода выше, можно утверждать только то, что выручки по обоим представленным тарифам различаются. Но, поскольку рассматриваемая гипотеза была двусторонней, то мы не можем точно сказать, в какую сторону расположено это отличие.\n",
    "\n",
    "Выведем средние значения выручки по разным тарифам и определим, где она выше:"
   ]
  },
  {
   "cell_type": "code",
   "execution_count": 66,
   "metadata": {},
   "outputs": [
    {
     "name": "stdout",
     "output_type": "stream",
     "text": [
      "cредняя выручка Smart:  1290.2251685393258\n",
      "cредняя выручка Ultra:  2070.219435736677\n"
     ]
    }
   ],
   "source": [
    "print('cредняя выручка Smart: ', smart_users.monthly_revenue.mean())\n",
    "print('cредняя выручка Ultra: ', ultra_users.monthly_revenue.mean())"
   ]
  },
  {
   "cell_type": "markdown",
   "metadata": {},
   "source": [
    "Теперь мы видим, что выручка с пользователей, использующих тариф \"Смарт\" ниже выручки с пользователей с тарифом \"Ультра\". Т.е. можно предположить, что несмотря на сверхлимитные переплаты тарифа \"Смарт\", преобладает высокое влияние абонентской платы тарифа \"Ультра\". "
   ]
  },
  {
   "cell_type": "markdown",
   "metadata": {},
   "source": [
    "### Средняя выручка пользователей из Москвы отличается от выручки пользователей из других регионов\n",
    "Для начала сформируем два среза данных: в `moscow_users` будут содержаться все абоненты из Москвы, в `other_users` - пользователи из других городов:"
   ]
  },
  {
   "cell_type": "code",
   "execution_count": 67,
   "metadata": {},
   "outputs": [],
   "source": [
    "moscow_users = df.query('city == \"Москва\"')\n",
    "other_users = df.query('city != \"Москва\"')"
   ]
  },
  {
   "cell_type": "markdown",
   "metadata": {},
   "source": [
    "Далее рассмотрим аспекты, необходимые для проведения t-теста:\n",
    "\n",
    "* *Генеральные совокупности не должны зависеть друг от друга.*\n",
    "  \n",
    "  В данном случае проживание пользователей в городах никак не зависит друг от друга, и пользователи одних городов никоим образом не влияют на выручку с пользователей из других. Значит, наши выборки из генеральных совокупностей (а значит, и сами генеральные совокупности) не зависят друг от друга.\n",
    "  \n",
    "  \n",
    "* *Выборочные средние должны быть нормально распределены.*\n",
    "\n",
    "   Поскольку рассматриваемые выборки довольно велики, а величины являются непрерывными, то можно предположить, что в подобных ситуациях распределение всегда будет стремиться к нормальному.\n",
    "   \n",
    "   \n",
    "* *Дисперсии рассматриваемых генеральных совокупностей должны быть равны.*\n",
    "\n",
    "  В этом случае мы не можем утверждать наверняка, поскольку дисперсии для значений выручки отдельно не рассчитывались. Однако, ввиду того, что в Москве проживает больше жителей, чем в других городах, и уровень их дохода (а значит, и уровень прибыли с них) имеет б*о*льшую степень разброса, то можно предположить, что и дисперсии будут отличаться. В данном случае мы примем для t-теста параметр `equal_var = False`.\n",
    "  \n",
    "Нулевая гипотеза будет звучать как:\n",
    "\n",
    "*Средняя выручка пользователей из Москвы равна выручке пользователей из других регионов*\n",
    "\n",
    "Тогда альтернативная гипотеза будет звучать следующим образом:\n",
    "\n",
    "*Средняя выручка пользователей из Москвы отличается от выручки пользователей из других регионов*\n",
    "\n",
    "Критический уровень значимости `alpha` примем равным 0.05. Таким образом, вероятность достоверности вывода будет как минимум 95%:"
   ]
  },
  {
   "cell_type": "code",
   "execution_count": 68,
   "metadata": {
    "scrolled": true
   },
   "outputs": [
    {
     "name": "stdout",
     "output_type": "stream",
     "text": [
      "p-значение: 0.4452390325541491\n",
      "Не получилось отвергнуть нулевую гипотезу\n"
     ]
    }
   ],
   "source": [
    "moscow_revenue = moscow_users['monthly_revenue']\n",
    "others_revenue = other_users['monthly_revenue']\n",
    "\n",
    "alpha = 0.05\n",
    "\n",
    "results = st.ttest_ind(moscow_revenue, others_revenue, equal_var = False)\n",
    "print('p-значение:', results.pvalue)\n",
    "\n",
    "if (results.pvalue < alpha):\n",
    "    print('Отвергаем нулевую гипотезу')\n",
    "else:\n",
    "    print('Не получилось отвергнуть нулевую гипотезу')"
   ]
  },
  {
   "cell_type": "markdown",
   "metadata": {},
   "source": [
    "Таким образом можно заключить, что с погрешностью 5% средняя выручка пользователей из Москвы не отличается от выручки пользователей из других регионов."
   ]
  },
  {
   "cell_type": "markdown",
   "metadata": {},
   "source": [
    "## Общий вывод\n",
    "Мы провели масштабное исследование абонентов компании \"Мегалайн\". Рассматривалась выборка из 500 пользователей по данным за 2018 год.\n",
    "\n",
    "Исследование велось в несколько этапов:\n",
    "\n",
    "1. **Обзор данных**\n",
    "\n",
    "   Рассматриваемые нами данные содержались в следующих файлах:\n",
    "* данные о пользователях: `/datasets/users.csv`\n",
    "* данные о звонках: `/datasets/calls.csv`\n",
    "* данные о сообщениях: `/datasets/messages.csv`\n",
    "* данные об интернет-трафике: `/datasets/internet.csv`\n",
    "* данные о тарифных планах: `/datasets/tariffs.csv'`\n",
    "\n",
    "\n",
    "2. ***Предобработка данных***\n",
    "\n",
    "   Были внесены следующие изменения:\n",
    "\n",
    "* `users`:\n",
    "    - тип данных в столбцах `churn_date` и `reg_date` изменён на `datetime`\n",
    "    - столбец `tariff` переименован в `tariff_name`\n",
    "\n",
    "\n",
    "* `calls`:\n",
    "    - тип данных в столбце `call_date` изменён на `datetime`\n",
    "    - значения столбца `duration` округлены до минут\n",
    "    - добавлен столбец с месяцами `month`\n",
    "  \n",
    "  \n",
    "* `messages`:\n",
    "    - тип данных в столбце `message_date` изменён на `datetime`\n",
    "    - добавлен столбец с месяцами `month`\n",
    "  \n",
    "  \n",
    "* `internet`:\n",
    "    - тип данных в столбце `session_date` изменён на `datetime`\n",
    "    - добавлен столбец с месяцами `month`\n",
    "  \n",
    "    Помимо этого, была проведена проверка на дубликаты, которые обнаружены не были.Также, с целью сохранения правдоподобности данных, пропущенные значения в столбце `churn_date` были оставлены без изменения.\n",
    "\n",
    "\n",
    "3. ***Проведение расчётов и объединение таблиц***\n",
    "\n",
    "   Были посчитаны и добавлены в таблицу:\n",
    "\n",
    "* количество сделанных звонков и израсходованных минут разговора по месяцам;\n",
    "* количество отправленных сообщений по месяцам;\n",
    "* объём израсходованного интернет-трафика по месяцам;\n",
    "* месячная выручка с каждого пользователя.\n",
    "    \n",
    "   Все характеристики, кроме количества звонков, принимали непосредственное участие в дальнейшем исследовательском анализе данных.\n",
    "\n",
    "   Также мы провели объединение таблиц в один общий датафрейм, содержащий данные о пользователях, их тарифных планах и агрегированные по месяцах данные по звонкам, сообщениям и интернет-трафику. Данный датафрейм был проверен на дубликаты и пропуски, последние в необходимом количестве были сброшены. Месячная выручка была рассчитана непосредственно по данным общего датафрейма.\n",
    "\n",
    "3. ***Исследовательский и статистический анализ данных***\n",
    "\n",
    "* **Исследовательский анализ данных**\n",
    "\n",
    "  Рассматривалось изменение среднего количества исходящих минут, сообщений и интернет-трафика у пользователей различных тарифных планов в зависимости от месяца.\n",
    "\n",
    "  Было выявлено, что: \n",
    "* у пользователей \"Смарт\":\n",
    "  * минимальное количество минут разговора, сообщений и интернет-трафика (200 мин., 18 сообщений, 8 Гб) приходится на январь, максимальное (480 мин., 36 сообщений, 17 Гб) - на декабрь;\n",
    "  * в среднем пользователям достаточно выделенного тарифом лимита на минуты и сообщения, однако пользователи часто превышают лимит в 15 Гб интернет-трафика.\n",
    "  \n",
    "  \n",
    "* у пользователей \"Ультра\":\n",
    "  * минимальное количество минут разговора, сообщений и интернет-трафика (300 мин., 22 сообщения, 13 Гб) приходится на февраль, максимальное (620 мин., 61 сообщение, 22 Гб.) - на декабрь;\n",
    "  * в среднем пользователи почти не превышают выделенный тарифом лимит минут, сообщений и интернет-трафика.\n",
    "\n",
    "  Если судить по усреднённым значениям, то пользователи тарифа \"Ультра\" тратят больше минут на разговоры, чаще отправляют сообщения и чаще пользуются интернетом, чем пользователи тарифа \"Смарт\" - это обусловлено б*о*льшим лимитом минут, заложенным в первый тариф.\n",
    "\n",
    "\n",
    "* **Статистический анализ данных**\n",
    "\n",
    "  Этот анализ выявил, что распределения минут разговоров, сообщений и израсходованного интернет-трафика в месяц близки к нормальному типу для обоих тарифных планов, что позволило нам рассчитать дисперсию и стандартное отклонение для характеристик выше. \n",
    "  \n",
    "  Кроме того:\n",
    "\n",
    "* у пользователей \"Смарт\":\n",
    "  * Определённому количеству пользователей всё же приходится переплачивать за услуги сверх тарифного пакета. Относительно интернет-трафика за месяц можно сказать, что даже среднее его значение по выборке не укладывается в предоставленный тарифом лимит.\n",
    "  \n",
    "\n",
    "* у пользователей \"Ультра\":\n",
    "  * В этом случае пользователи реже вынуждены платить за дополнительные опции сверх тарифа; однако абонентская плата у данного тарифа гораздо выше (1950 руб. против 550 руб.)\n",
    "  \n",
    "\n",
    "4. ***Проверка гипотез***\n",
    "\n",
    "* **Средняя выручка пользователей тарифов «Ультра» и «Смарт» различаются**\n",
    "  \n",
    "  Перед нами стоял вопрос о том, что более значимо при формировании выручки - переплаты в тарифе \"Смарт\" или влияние высокой абонентской платы тарифа \"Ультра\". В ходе статистической проверки можно сказать, что с достоверностью в 95% средняя выручка пользователей \"Ультра\" выше средней выручки \"Смарт\" (т.е. второй фактор перевешивает первый). \n",
    "    \n",
    "\n",
    "* **Средняя выручка пользователей из Москвы отличается от выручки пользователей из других регионов**   \n",
    "    \n",
    "  Далее нами было рассмотрено, оказывает ли решающее значение на формирование выручки город проживания абонента. В ходе статистической проверки можно сказать, что с достоверностью в 95% средняя выручка пользователей из Москвы не отличается от выручки пользователей из других регионов.\n",
    "\n",
    "Исходя из вышеизложенного разумно выдвинуть следующие рекомендации:\n",
    "\n",
    "* Лучшим выбором будет сосредоточиться на рекламном продвижении тарифного плана \"Ультра\", поскольку он является наиболее экономически выгодным, а его пользователи (исходя из редких превышений по лимитам) предположительно более довольны его использованием.\n",
    "\n",
    "\n",
    "* Не имеет смысла сосредотачиваться на продвижении в столице, поскольку ее абоненты вносят такой же вклад, как и пользователи из регионов. Однако, будет не лишним провести отдельное исследование предпочтения тарифных планов в зависимости от города, чтобы сделать рекламную политику более сфокусированной.\n",
    "   \n",
    "   \n",
    "* Относительно тарифа \"Смарт\" можно сказать следующее: несмотря на частые выходы за лимиты, абоненты всё же выбирают его вдвое чаще, чем тариф \"Ультра\". Это обуславливается большей его доступностью ввиду сниженной абонентской платы. Однако стоит вынести на рассмотрение вопрос о повышении выручки с данного тарифа - либо за счёт привлечения большего количества пользователей, либо разумным повышением его лимитов и, как следствие, абонентской платы."
   ]
  }
 ],
 "metadata": {
  "ExecuteTimeLog": [
   {
    "duration": 934,
    "start_time": "2022-06-06T10:18:16.377Z"
   },
   {
    "duration": 88,
    "start_time": "2022-06-06T10:21:28.442Z"
   },
   {
    "duration": 241,
    "start_time": "2022-06-06T10:29:30.260Z"
   },
   {
    "duration": 4,
    "start_time": "2022-06-06T10:30:35.486Z"
   },
   {
    "duration": 9,
    "start_time": "2022-06-06T10:32:51.281Z"
   },
   {
    "duration": 0,
    "start_time": "2022-06-06T10:32:51.292Z"
   },
   {
    "duration": 0,
    "start_time": "2022-06-06T10:32:51.293Z"
   },
   {
    "duration": 669,
    "start_time": "2022-06-06T10:33:11.478Z"
   },
   {
    "duration": 48,
    "start_time": "2022-06-06T10:33:12.150Z"
   },
   {
    "duration": 164,
    "start_time": "2022-06-06T10:33:12.199Z"
   },
   {
    "duration": 314,
    "start_time": "2022-06-06T10:35:03.443Z"
   },
   {
    "duration": 344,
    "start_time": "2022-06-06T10:37:24.831Z"
   },
   {
    "duration": 73,
    "start_time": "2022-06-06T10:38:47.381Z"
   },
   {
    "duration": 31,
    "start_time": "2022-06-06T10:39:17.086Z"
   },
   {
    "duration": 502,
    "start_time": "2022-06-06T11:01:05.725Z"
   },
   {
    "duration": 1144,
    "start_time": "2022-06-06T11:03:07.786Z"
   },
   {
    "duration": 444,
    "start_time": "2022-06-06T11:03:08.932Z"
   },
   {
    "duration": 15,
    "start_time": "2022-06-06T11:03:09.378Z"
   },
   {
    "duration": 11,
    "start_time": "2022-06-06T11:03:09.395Z"
   },
   {
    "duration": 16,
    "start_time": "2022-06-06T11:03:09.410Z"
   },
   {
    "duration": 20,
    "start_time": "2022-06-06T11:03:09.428Z"
   },
   {
    "duration": 17,
    "start_time": "2022-06-06T11:03:09.450Z"
   },
   {
    "duration": 1192,
    "start_time": "2022-06-06T11:05:04.676Z"
   },
   {
    "duration": 505,
    "start_time": "2022-06-06T11:05:05.874Z"
   },
   {
    "duration": 17,
    "start_time": "2022-06-06T11:05:06.381Z"
   },
   {
    "duration": 28,
    "start_time": "2022-06-06T11:05:06.400Z"
   },
   {
    "duration": 16,
    "start_time": "2022-06-06T11:05:06.430Z"
   },
   {
    "duration": 27,
    "start_time": "2022-06-06T11:05:06.447Z"
   },
   {
    "duration": 31,
    "start_time": "2022-06-06T11:05:06.476Z"
   },
   {
    "duration": 4,
    "start_time": "2022-06-06T11:10:31.449Z"
   },
   {
    "duration": 16,
    "start_time": "2022-06-06T11:17:19.421Z"
   },
   {
    "duration": 10,
    "start_time": "2022-06-06T11:18:24.076Z"
   },
   {
    "duration": 11,
    "start_time": "2022-06-06T12:29:07.324Z"
   },
   {
    "duration": 8,
    "start_time": "2022-06-06T12:30:37.104Z"
   },
   {
    "duration": 161,
    "start_time": "2022-06-06T12:31:27.430Z"
   },
   {
    "duration": 13,
    "start_time": "2022-06-06T12:31:35.976Z"
   },
   {
    "duration": 9,
    "start_time": "2022-06-06T12:31:43.753Z"
   },
   {
    "duration": 1329,
    "start_time": "2022-06-06T12:31:54.354Z"
   },
   {
    "duration": 577,
    "start_time": "2022-06-06T12:31:55.686Z"
   },
   {
    "duration": 22,
    "start_time": "2022-06-06T12:31:56.264Z"
   },
   {
    "duration": 38,
    "start_time": "2022-06-06T12:31:56.288Z"
   },
   {
    "duration": 36,
    "start_time": "2022-06-06T12:31:56.330Z"
   },
   {
    "duration": 36,
    "start_time": "2022-06-06T12:31:56.369Z"
   },
   {
    "duration": 22,
    "start_time": "2022-06-06T12:31:56.407Z"
   },
   {
    "duration": 61,
    "start_time": "2022-06-06T12:31:56.431Z"
   },
   {
    "duration": 16,
    "start_time": "2022-06-06T12:31:56.493Z"
   },
   {
    "duration": 12,
    "start_time": "2022-06-06T12:31:56.510Z"
   },
   {
    "duration": 6,
    "start_time": "2022-06-06T12:32:56.216Z"
   },
   {
    "duration": 116,
    "start_time": "2022-06-06T12:33:06.034Z"
   },
   {
    "duration": 7,
    "start_time": "2022-06-06T12:33:09.532Z"
   },
   {
    "duration": 16,
    "start_time": "2022-06-06T12:33:16.954Z"
   },
   {
    "duration": 7,
    "start_time": "2022-06-06T12:33:22.009Z"
   },
   {
    "duration": 8,
    "start_time": "2022-06-06T12:41:25.787Z"
   },
   {
    "duration": 5,
    "start_time": "2022-06-06T12:54:07.187Z"
   },
   {
    "duration": 7,
    "start_time": "2022-06-06T12:55:52.379Z"
   },
   {
    "duration": 8,
    "start_time": "2022-06-06T12:56:58.547Z"
   },
   {
    "duration": 26,
    "start_time": "2022-06-06T13:00:33.191Z"
   },
   {
    "duration": 12,
    "start_time": "2022-06-06T13:03:12.661Z"
   },
   {
    "duration": 40,
    "start_time": "2022-06-06T13:05:30.729Z"
   },
   {
    "duration": 5,
    "start_time": "2022-06-06T13:12:08.066Z"
   },
   {
    "duration": 10,
    "start_time": "2022-06-06T13:12:10.722Z"
   },
   {
    "duration": 1168,
    "start_time": "2022-06-06T13:12:25.167Z"
   },
   {
    "duration": 440,
    "start_time": "2022-06-06T13:12:26.337Z"
   },
   {
    "duration": 14,
    "start_time": "2022-06-06T13:12:26.779Z"
   },
   {
    "duration": 11,
    "start_time": "2022-06-06T13:12:26.795Z"
   },
   {
    "duration": 16,
    "start_time": "2022-06-06T13:12:26.807Z"
   },
   {
    "duration": 13,
    "start_time": "2022-06-06T13:12:26.824Z"
   },
   {
    "duration": 17,
    "start_time": "2022-06-06T13:12:26.839Z"
   },
   {
    "duration": 17,
    "start_time": "2022-06-06T13:12:26.858Z"
   },
   {
    "duration": 10,
    "start_time": "2022-06-06T13:12:26.877Z"
   },
   {
    "duration": 15,
    "start_time": "2022-06-06T13:12:26.890Z"
   },
   {
    "duration": 20,
    "start_time": "2022-06-06T13:12:26.907Z"
   },
   {
    "duration": 6,
    "start_time": "2022-06-06T13:12:26.929Z"
   },
   {
    "duration": 11,
    "start_time": "2022-06-06T13:12:26.937Z"
   },
   {
    "duration": 41,
    "start_time": "2022-06-06T13:12:26.950Z"
   },
   {
    "duration": 59,
    "start_time": "2022-06-06T13:12:26.993Z"
   },
   {
    "duration": 2,
    "start_time": "2022-06-06T13:12:27.054Z"
   },
   {
    "duration": 26,
    "start_time": "2022-06-06T13:12:27.058Z"
   },
   {
    "duration": 9,
    "start_time": "2022-06-06T13:12:52.656Z"
   },
   {
    "duration": 6,
    "start_time": "2022-06-06T13:12:57.505Z"
   },
   {
    "duration": 10,
    "start_time": "2022-06-06T13:12:59.600Z"
   },
   {
    "duration": 1188,
    "start_time": "2022-06-06T13:15:53.502Z"
   },
   {
    "duration": 428,
    "start_time": "2022-06-06T13:15:54.692Z"
   },
   {
    "duration": 14,
    "start_time": "2022-06-06T13:15:55.121Z"
   },
   {
    "duration": 9,
    "start_time": "2022-06-06T13:15:55.137Z"
   },
   {
    "duration": 14,
    "start_time": "2022-06-06T13:15:55.147Z"
   },
   {
    "duration": 18,
    "start_time": "2022-06-06T13:15:55.163Z"
   },
   {
    "duration": 12,
    "start_time": "2022-06-06T13:15:55.183Z"
   },
   {
    "duration": 16,
    "start_time": "2022-06-06T13:15:55.196Z"
   },
   {
    "duration": 6,
    "start_time": "2022-06-06T13:15:55.226Z"
   },
   {
    "duration": 9,
    "start_time": "2022-06-06T13:15:55.234Z"
   },
   {
    "duration": 7,
    "start_time": "2022-06-06T13:15:55.245Z"
   },
   {
    "duration": 8,
    "start_time": "2022-06-06T13:15:55.253Z"
   },
   {
    "duration": 9,
    "start_time": "2022-06-06T13:15:55.263Z"
   },
   {
    "duration": 53,
    "start_time": "2022-06-06T13:15:55.273Z"
   },
   {
    "duration": 37,
    "start_time": "2022-06-06T13:15:55.328Z"
   },
   {
    "duration": 3,
    "start_time": "2022-06-06T13:15:55.367Z"
   },
   {
    "duration": 23,
    "start_time": "2022-06-06T13:15:55.372Z"
   },
   {
    "duration": 30,
    "start_time": "2022-06-06T13:15:55.397Z"
   },
   {
    "duration": 9,
    "start_time": "2022-06-06T13:36:02.319Z"
   },
   {
    "duration": 1108,
    "start_time": "2022-06-06T13:36:38.024Z"
   },
   {
    "duration": 434,
    "start_time": "2022-06-06T13:36:39.134Z"
   },
   {
    "duration": 15,
    "start_time": "2022-06-06T13:36:39.569Z"
   },
   {
    "duration": 10,
    "start_time": "2022-06-06T13:36:39.585Z"
   },
   {
    "duration": 16,
    "start_time": "2022-06-06T13:36:39.598Z"
   },
   {
    "duration": 14,
    "start_time": "2022-06-06T13:36:39.615Z"
   },
   {
    "duration": 11,
    "start_time": "2022-06-06T13:36:39.631Z"
   },
   {
    "duration": 15,
    "start_time": "2022-06-06T13:36:39.644Z"
   },
   {
    "duration": 39,
    "start_time": "2022-06-06T13:36:39.660Z"
   },
   {
    "duration": 17,
    "start_time": "2022-06-06T13:36:39.701Z"
   },
   {
    "duration": 16,
    "start_time": "2022-06-06T13:36:39.719Z"
   },
   {
    "duration": 17,
    "start_time": "2022-06-06T13:36:39.736Z"
   },
   {
    "duration": 18,
    "start_time": "2022-06-06T13:36:39.755Z"
   },
   {
    "duration": 25,
    "start_time": "2022-06-06T13:36:39.776Z"
   },
   {
    "duration": 51,
    "start_time": "2022-06-06T13:36:39.803Z"
   },
   {
    "duration": 9,
    "start_time": "2022-06-06T13:36:39.856Z"
   },
   {
    "duration": 13,
    "start_time": "2022-06-06T13:36:39.867Z"
   },
   {
    "duration": 11,
    "start_time": "2022-06-06T13:37:06.015Z"
   },
   {
    "duration": 9,
    "start_time": "2022-06-06T13:40:17.458Z"
   },
   {
    "duration": 117,
    "start_time": "2022-06-06T13:45:22.795Z"
   },
   {
    "duration": 23,
    "start_time": "2022-06-06T13:46:33.103Z"
   },
   {
    "duration": 33,
    "start_time": "2022-06-06T13:46:46.172Z"
   },
   {
    "duration": 7,
    "start_time": "2022-06-06T13:49:12.775Z"
   },
   {
    "duration": 20,
    "start_time": "2022-06-06T13:50:51.797Z"
   },
   {
    "duration": 8,
    "start_time": "2022-06-06T13:53:58.078Z"
   },
   {
    "duration": 23,
    "start_time": "2022-06-06T13:54:15.211Z"
   },
   {
    "duration": 17,
    "start_time": "2022-06-06T13:56:48.368Z"
   },
   {
    "duration": 9,
    "start_time": "2022-06-06T13:56:53.424Z"
   },
   {
    "duration": 8,
    "start_time": "2022-06-06T13:59:02.574Z"
   },
   {
    "duration": 9,
    "start_time": "2022-06-06T14:11:52.527Z"
   },
   {
    "duration": 23,
    "start_time": "2022-06-06T14:12:25.424Z"
   },
   {
    "duration": 28,
    "start_time": "2022-06-06T14:15:47.004Z"
   },
   {
    "duration": 22,
    "start_time": "2022-06-06T14:18:20.193Z"
   },
   {
    "duration": 8,
    "start_time": "2022-06-06T14:21:57.189Z"
   },
   {
    "duration": 1102,
    "start_time": "2022-06-06T14:34:54.737Z"
   },
   {
    "duration": 479,
    "start_time": "2022-06-06T14:34:55.841Z"
   },
   {
    "duration": 15,
    "start_time": "2022-06-06T14:34:56.321Z"
   },
   {
    "duration": 8,
    "start_time": "2022-06-06T14:34:56.338Z"
   },
   {
    "duration": 13,
    "start_time": "2022-06-06T14:34:56.347Z"
   },
   {
    "duration": 11,
    "start_time": "2022-06-06T14:34:56.361Z"
   },
   {
    "duration": 10,
    "start_time": "2022-06-06T14:34:56.374Z"
   },
   {
    "duration": 26,
    "start_time": "2022-06-06T14:34:56.386Z"
   },
   {
    "duration": 14,
    "start_time": "2022-06-06T14:34:56.414Z"
   },
   {
    "duration": 10,
    "start_time": "2022-06-06T14:34:56.431Z"
   },
   {
    "duration": 8,
    "start_time": "2022-06-06T14:34:56.442Z"
   },
   {
    "duration": 7,
    "start_time": "2022-06-06T14:34:56.451Z"
   },
   {
    "duration": 11,
    "start_time": "2022-06-06T14:34:56.460Z"
   },
   {
    "duration": 28,
    "start_time": "2022-06-06T14:34:56.473Z"
   },
   {
    "duration": 51,
    "start_time": "2022-06-06T14:34:56.503Z"
   },
   {
    "duration": 6,
    "start_time": "2022-06-06T14:34:56.556Z"
   },
   {
    "duration": 30,
    "start_time": "2022-06-06T14:34:56.564Z"
   },
   {
    "duration": 7,
    "start_time": "2022-06-06T14:34:56.596Z"
   },
   {
    "duration": 19,
    "start_time": "2022-06-06T14:34:56.626Z"
   },
   {
    "duration": 23,
    "start_time": "2022-06-06T14:34:56.646Z"
   },
   {
    "duration": 17,
    "start_time": "2022-06-06T14:34:56.671Z"
   },
   {
    "duration": 6,
    "start_time": "2022-06-06T14:34:56.690Z"
   },
   {
    "duration": 22,
    "start_time": "2022-06-06T14:34:56.727Z"
   },
   {
    "duration": 34,
    "start_time": "2022-06-06T14:34:56.751Z"
   },
   {
    "duration": 19,
    "start_time": "2022-06-06T14:34:56.786Z"
   },
   {
    "duration": 24,
    "start_time": "2022-06-06T14:34:56.806Z"
   },
   {
    "duration": 1047,
    "start_time": "2022-06-07T12:09:43.879Z"
   },
   {
    "duration": 439,
    "start_time": "2022-06-07T12:09:44.928Z"
   },
   {
    "duration": 16,
    "start_time": "2022-06-07T12:09:45.369Z"
   },
   {
    "duration": 10,
    "start_time": "2022-06-07T12:09:45.386Z"
   },
   {
    "duration": 8,
    "start_time": "2022-06-07T12:09:45.398Z"
   },
   {
    "duration": 10,
    "start_time": "2022-06-07T12:09:45.407Z"
   },
   {
    "duration": 10,
    "start_time": "2022-06-07T12:09:45.418Z"
   },
   {
    "duration": 38,
    "start_time": "2022-06-07T12:09:45.430Z"
   },
   {
    "duration": 8,
    "start_time": "2022-06-07T12:09:45.470Z"
   },
   {
    "duration": 7,
    "start_time": "2022-06-07T12:09:45.479Z"
   },
   {
    "duration": 8,
    "start_time": "2022-06-07T12:09:45.487Z"
   },
   {
    "duration": 8,
    "start_time": "2022-06-07T12:09:45.496Z"
   },
   {
    "duration": 7,
    "start_time": "2022-06-07T12:09:45.505Z"
   },
   {
    "duration": 24,
    "start_time": "2022-06-07T12:09:45.515Z"
   },
   {
    "duration": 57,
    "start_time": "2022-06-07T12:09:45.540Z"
   },
   {
    "duration": 6,
    "start_time": "2022-06-07T12:09:45.598Z"
   },
   {
    "duration": 32,
    "start_time": "2022-06-07T12:09:45.606Z"
   },
   {
    "duration": 17,
    "start_time": "2022-06-07T12:09:45.645Z"
   },
   {
    "duration": 20,
    "start_time": "2022-06-07T12:09:45.663Z"
   },
   {
    "duration": 19,
    "start_time": "2022-06-07T12:09:45.684Z"
   },
   {
    "duration": 13,
    "start_time": "2022-06-07T12:09:45.705Z"
   },
   {
    "duration": 19,
    "start_time": "2022-06-07T12:09:45.719Z"
   },
   {
    "duration": 36,
    "start_time": "2022-06-07T12:09:45.742Z"
   },
   {
    "duration": 25,
    "start_time": "2022-06-07T12:09:45.779Z"
   },
   {
    "duration": 16,
    "start_time": "2022-06-07T12:09:45.806Z"
   },
   {
    "duration": 31,
    "start_time": "2022-06-07T12:09:45.823Z"
   },
   {
    "duration": 100,
    "start_time": "2022-06-07T12:34:18.014Z"
   },
   {
    "duration": 20,
    "start_time": "2022-06-07T12:45:43.968Z"
   },
   {
    "duration": 25,
    "start_time": "2022-06-07T12:49:20.195Z"
   },
   {
    "duration": 106,
    "start_time": "2022-06-07T12:51:17.317Z"
   },
   {
    "duration": 16,
    "start_time": "2022-06-07T12:51:33.022Z"
   },
   {
    "duration": 31,
    "start_time": "2022-06-07T13:02:02.559Z"
   },
   {
    "duration": 23,
    "start_time": "2022-06-07T13:04:22.347Z"
   },
   {
    "duration": 36,
    "start_time": "2022-06-07T13:13:00.519Z"
   },
   {
    "duration": 15,
    "start_time": "2022-06-07T13:19:29.941Z"
   },
   {
    "duration": 8,
    "start_time": "2022-06-07T13:20:55.486Z"
   },
   {
    "duration": 21,
    "start_time": "2022-06-07T13:23:21.730Z"
   },
   {
    "duration": 23,
    "start_time": "2022-06-07T13:26:10.021Z"
   },
   {
    "duration": 992,
    "start_time": "2022-06-07T13:27:56.083Z"
   },
   {
    "duration": 483,
    "start_time": "2022-06-07T13:27:57.077Z"
   },
   {
    "duration": 14,
    "start_time": "2022-06-07T13:27:57.562Z"
   },
   {
    "duration": 7,
    "start_time": "2022-06-07T13:27:57.577Z"
   },
   {
    "duration": 7,
    "start_time": "2022-06-07T13:27:57.586Z"
   },
   {
    "duration": 9,
    "start_time": "2022-06-07T13:27:57.594Z"
   },
   {
    "duration": 9,
    "start_time": "2022-06-07T13:27:57.604Z"
   },
   {
    "duration": 11,
    "start_time": "2022-06-07T13:27:57.614Z"
   },
   {
    "duration": 27,
    "start_time": "2022-06-07T13:27:57.627Z"
   },
   {
    "duration": 7,
    "start_time": "2022-06-07T13:27:57.655Z"
   },
   {
    "duration": 9,
    "start_time": "2022-06-07T13:27:57.664Z"
   },
   {
    "duration": 5,
    "start_time": "2022-06-07T13:27:57.675Z"
   },
   {
    "duration": 8,
    "start_time": "2022-06-07T13:27:57.681Z"
   },
   {
    "duration": 23,
    "start_time": "2022-06-07T13:27:57.692Z"
   },
   {
    "duration": 43,
    "start_time": "2022-06-07T13:27:57.717Z"
   },
   {
    "duration": 7,
    "start_time": "2022-06-07T13:27:57.761Z"
   },
   {
    "duration": 23,
    "start_time": "2022-06-07T13:27:57.769Z"
   },
   {
    "duration": 5,
    "start_time": "2022-06-07T13:27:57.793Z"
   },
   {
    "duration": 38,
    "start_time": "2022-06-07T13:27:57.799Z"
   },
   {
    "duration": 19,
    "start_time": "2022-06-07T13:27:57.839Z"
   },
   {
    "duration": 14,
    "start_time": "2022-06-07T13:27:57.860Z"
   },
   {
    "duration": 5,
    "start_time": "2022-06-07T13:27:57.875Z"
   },
   {
    "duration": 46,
    "start_time": "2022-06-07T13:27:57.882Z"
   },
   {
    "duration": 23,
    "start_time": "2022-06-07T13:27:57.930Z"
   },
   {
    "duration": 20,
    "start_time": "2022-06-07T13:27:57.956Z"
   },
   {
    "duration": 6,
    "start_time": "2022-06-07T13:27:57.977Z"
   },
   {
    "duration": 80,
    "start_time": "2022-06-07T13:27:57.984Z"
   },
   {
    "duration": 16,
    "start_time": "2022-06-07T13:27:58.066Z"
   },
   {
    "duration": 23,
    "start_time": "2022-06-07T13:27:58.084Z"
   },
   {
    "duration": 29,
    "start_time": "2022-06-07T13:27:58.109Z"
   },
   {
    "duration": 35,
    "start_time": "2022-06-07T13:27:58.140Z"
   },
   {
    "duration": 17,
    "start_time": "2022-06-07T13:27:58.176Z"
   },
   {
    "duration": 17,
    "start_time": "2022-06-07T13:27:58.195Z"
   },
   {
    "duration": 12,
    "start_time": "2022-06-07T13:27:58.214Z"
   },
   {
    "duration": 7,
    "start_time": "2022-06-07T13:27:58.227Z"
   },
   {
    "duration": 31,
    "start_time": "2022-06-07T13:27:58.235Z"
   },
   {
    "duration": 11,
    "start_time": "2022-06-07T13:30:07.216Z"
   },
   {
    "duration": 4,
    "start_time": "2022-06-07T13:42:57.762Z"
   },
   {
    "duration": 9,
    "start_time": "2022-06-07T13:43:16.787Z"
   },
   {
    "duration": 899,
    "start_time": "2022-06-07T14:14:42.086Z"
   },
   {
    "duration": 539,
    "start_time": "2022-06-07T14:14:42.987Z"
   },
   {
    "duration": 12,
    "start_time": "2022-06-07T14:14:43.527Z"
   },
   {
    "duration": 30,
    "start_time": "2022-06-07T14:14:43.540Z"
   },
   {
    "duration": 46,
    "start_time": "2022-06-07T14:14:43.571Z"
   },
   {
    "duration": 26,
    "start_time": "2022-06-07T14:14:43.618Z"
   },
   {
    "duration": 42,
    "start_time": "2022-06-07T14:14:43.645Z"
   },
   {
    "duration": 43,
    "start_time": "2022-06-07T14:14:43.688Z"
   },
   {
    "duration": 23,
    "start_time": "2022-06-07T14:14:43.733Z"
   },
   {
    "duration": 41,
    "start_time": "2022-06-07T14:14:43.757Z"
   },
   {
    "duration": 18,
    "start_time": "2022-06-07T14:14:43.800Z"
   },
   {
    "duration": 36,
    "start_time": "2022-06-07T14:14:43.819Z"
   },
   {
    "duration": 25,
    "start_time": "2022-06-07T14:14:43.857Z"
   },
   {
    "duration": 45,
    "start_time": "2022-06-07T14:14:43.884Z"
   },
   {
    "duration": 38,
    "start_time": "2022-06-07T14:14:43.930Z"
   },
   {
    "duration": 15,
    "start_time": "2022-06-07T14:14:43.970Z"
   },
   {
    "duration": 60,
    "start_time": "2022-06-07T14:14:43.986Z"
   },
   {
    "duration": 12,
    "start_time": "2022-06-07T14:14:44.048Z"
   },
   {
    "duration": 51,
    "start_time": "2022-06-07T14:14:44.061Z"
   },
   {
    "duration": 24,
    "start_time": "2022-06-07T14:14:44.113Z"
   },
   {
    "duration": 34,
    "start_time": "2022-06-07T14:14:44.138Z"
   },
   {
    "duration": 5,
    "start_time": "2022-06-07T14:14:44.174Z"
   },
   {
    "duration": 51,
    "start_time": "2022-06-07T14:14:44.180Z"
   },
   {
    "duration": 22,
    "start_time": "2022-06-07T14:14:44.232Z"
   },
   {
    "duration": 45,
    "start_time": "2022-06-07T14:14:44.256Z"
   },
   {
    "duration": 15,
    "start_time": "2022-06-07T14:14:44.302Z"
   },
   {
    "duration": 62,
    "start_time": "2022-06-07T14:14:44.318Z"
   },
   {
    "duration": 24,
    "start_time": "2022-06-07T14:14:44.381Z"
   },
   {
    "duration": 37,
    "start_time": "2022-06-07T14:14:44.407Z"
   },
   {
    "duration": 15,
    "start_time": "2022-06-07T14:14:44.446Z"
   },
   {
    "duration": 76,
    "start_time": "2022-06-07T14:14:44.462Z"
   },
   {
    "duration": 33,
    "start_time": "2022-06-07T14:14:44.539Z"
   },
   {
    "duration": 24,
    "start_time": "2022-06-07T14:14:44.574Z"
   },
   {
    "duration": 8,
    "start_time": "2022-06-07T14:14:44.599Z"
   },
   {
    "duration": 11,
    "start_time": "2022-06-07T14:14:44.608Z"
   },
   {
    "duration": 38,
    "start_time": "2022-06-07T14:14:44.620Z"
   },
   {
    "duration": 6,
    "start_time": "2022-06-07T14:14:44.659Z"
   },
   {
    "duration": 36,
    "start_time": "2022-06-07T14:14:44.666Z"
   },
   {
    "duration": 7,
    "start_time": "2022-06-07T14:22:13.098Z"
   },
   {
    "duration": 18,
    "start_time": "2022-06-07T14:27:54.483Z"
   },
   {
    "duration": 7,
    "start_time": "2022-06-07T14:29:48.278Z"
   },
   {
    "duration": 4,
    "start_time": "2022-06-07T14:40:01.262Z"
   },
   {
    "duration": 7,
    "start_time": "2022-06-07T14:40:22.233Z"
   },
   {
    "duration": 114,
    "start_time": "2022-06-07T14:41:04.562Z"
   },
   {
    "duration": 9,
    "start_time": "2022-06-07T14:41:29.297Z"
   },
   {
    "duration": 5,
    "start_time": "2022-06-07T14:41:38.195Z"
   },
   {
    "duration": 19,
    "start_time": "2022-06-07T14:46:14.482Z"
   },
   {
    "duration": 5,
    "start_time": "2022-06-07T15:15:28.468Z"
   },
   {
    "duration": 4,
    "start_time": "2022-06-07T15:28:23.046Z"
   },
   {
    "duration": 28,
    "start_time": "2022-06-07T15:29:40.994Z"
   },
   {
    "duration": 4,
    "start_time": "2022-06-07T15:30:32.240Z"
   },
   {
    "duration": 116,
    "start_time": "2022-06-07T15:30:34.877Z"
   },
   {
    "duration": 22,
    "start_time": "2022-06-07T15:30:37.937Z"
   },
   {
    "duration": 19,
    "start_time": "2022-06-07T15:31:01.948Z"
   },
   {
    "duration": 29,
    "start_time": "2022-06-07T15:31:14.914Z"
   },
   {
    "duration": 4,
    "start_time": "2022-06-07T15:33:49.415Z"
   },
   {
    "duration": 127,
    "start_time": "2022-06-07T15:33:51.751Z"
   },
   {
    "duration": 31,
    "start_time": "2022-06-07T15:33:57.619Z"
   },
   {
    "duration": 12,
    "start_time": "2022-06-07T15:36:46.751Z"
   },
   {
    "duration": 17,
    "start_time": "2022-06-07T15:36:59.389Z"
   },
   {
    "duration": 10,
    "start_time": "2022-06-08T08:21:08.388Z"
   },
   {
    "duration": 1171,
    "start_time": "2022-06-08T08:21:19.150Z"
   },
   {
    "duration": 913,
    "start_time": "2022-06-08T08:21:20.323Z"
   },
   {
    "duration": 14,
    "start_time": "2022-06-08T08:21:21.237Z"
   },
   {
    "duration": 8,
    "start_time": "2022-06-08T08:21:21.253Z"
   },
   {
    "duration": 13,
    "start_time": "2022-06-08T08:21:21.262Z"
   },
   {
    "duration": 27,
    "start_time": "2022-06-08T08:21:21.276Z"
   },
   {
    "duration": 24,
    "start_time": "2022-06-08T08:21:21.304Z"
   },
   {
    "duration": 23,
    "start_time": "2022-06-08T08:21:21.329Z"
   },
   {
    "duration": 28,
    "start_time": "2022-06-08T08:21:21.354Z"
   },
   {
    "duration": 16,
    "start_time": "2022-06-08T08:21:21.385Z"
   },
   {
    "duration": 28,
    "start_time": "2022-06-08T08:21:21.402Z"
   },
   {
    "duration": 14,
    "start_time": "2022-06-08T08:21:21.432Z"
   },
   {
    "duration": 28,
    "start_time": "2022-06-08T08:21:21.448Z"
   },
   {
    "duration": 35,
    "start_time": "2022-06-08T08:21:21.478Z"
   },
   {
    "duration": 32,
    "start_time": "2022-06-08T08:21:21.515Z"
   },
   {
    "duration": 8,
    "start_time": "2022-06-08T08:21:21.549Z"
   },
   {
    "duration": 43,
    "start_time": "2022-06-08T08:21:21.558Z"
   },
   {
    "duration": 6,
    "start_time": "2022-06-08T08:21:21.603Z"
   },
   {
    "duration": 33,
    "start_time": "2022-06-08T08:21:21.610Z"
   },
   {
    "duration": 27,
    "start_time": "2022-06-08T08:21:21.644Z"
   },
   {
    "duration": 16,
    "start_time": "2022-06-08T08:21:21.672Z"
   },
   {
    "duration": 12,
    "start_time": "2022-06-08T08:21:21.689Z"
   },
   {
    "duration": 39,
    "start_time": "2022-06-08T08:21:21.702Z"
   },
   {
    "duration": 32,
    "start_time": "2022-06-08T08:21:21.743Z"
   },
   {
    "duration": 17,
    "start_time": "2022-06-08T08:21:21.776Z"
   },
   {
    "duration": 6,
    "start_time": "2022-06-08T08:21:21.794Z"
   },
   {
    "duration": 68,
    "start_time": "2022-06-08T08:21:21.801Z"
   },
   {
    "duration": 18,
    "start_time": "2022-06-08T08:21:21.872Z"
   },
   {
    "duration": 40,
    "start_time": "2022-06-08T08:21:21.892Z"
   },
   {
    "duration": 13,
    "start_time": "2022-06-08T08:21:21.934Z"
   },
   {
    "duration": 19,
    "start_time": "2022-06-08T08:21:21.949Z"
   },
   {
    "duration": 24,
    "start_time": "2022-06-08T08:21:21.970Z"
   },
   {
    "duration": 50,
    "start_time": "2022-06-08T08:21:21.995Z"
   },
   {
    "duration": 9,
    "start_time": "2022-06-08T08:21:22.046Z"
   },
   {
    "duration": 6,
    "start_time": "2022-06-08T08:21:22.057Z"
   },
   {
    "duration": 11,
    "start_time": "2022-06-08T08:21:22.065Z"
   },
   {
    "duration": 4,
    "start_time": "2022-06-08T08:21:22.078Z"
   },
   {
    "duration": 105,
    "start_time": "2022-06-08T08:21:22.083Z"
   },
   {
    "duration": 17,
    "start_time": "2022-06-08T08:21:22.190Z"
   },
   {
    "duration": 26,
    "start_time": "2022-06-08T08:21:22.208Z"
   },
   {
    "duration": 8,
    "start_time": "2022-06-08T08:21:22.236Z"
   },
   {
    "duration": 7,
    "start_time": "2022-06-08T08:21:22.246Z"
   },
   {
    "duration": 5,
    "start_time": "2022-06-08T08:21:22.255Z"
   },
   {
    "duration": 1012,
    "start_time": "2022-06-08T08:22:29.519Z"
   },
   {
    "duration": 391,
    "start_time": "2022-06-08T08:22:30.533Z"
   },
   {
    "duration": 12,
    "start_time": "2022-06-08T08:22:30.926Z"
   },
   {
    "duration": 8,
    "start_time": "2022-06-08T08:22:30.940Z"
   },
   {
    "duration": 13,
    "start_time": "2022-06-08T08:22:30.950Z"
   },
   {
    "duration": 17,
    "start_time": "2022-06-08T08:22:30.965Z"
   },
   {
    "duration": 10,
    "start_time": "2022-06-08T08:22:30.984Z"
   },
   {
    "duration": 32,
    "start_time": "2022-06-08T08:22:30.996Z"
   },
   {
    "duration": 11,
    "start_time": "2022-06-08T08:22:31.030Z"
   },
   {
    "duration": 9,
    "start_time": "2022-06-08T08:22:31.043Z"
   },
   {
    "duration": 7,
    "start_time": "2022-06-08T08:22:31.053Z"
   },
   {
    "duration": 10,
    "start_time": "2022-06-08T08:22:31.061Z"
   },
   {
    "duration": 9,
    "start_time": "2022-06-08T08:22:31.072Z"
   },
   {
    "duration": 22,
    "start_time": "2022-06-08T08:22:31.082Z"
   },
   {
    "duration": 40,
    "start_time": "2022-06-08T08:22:31.106Z"
   },
   {
    "duration": 6,
    "start_time": "2022-06-08T08:22:31.147Z"
   },
   {
    "duration": 26,
    "start_time": "2022-06-08T08:22:31.154Z"
   },
   {
    "duration": 5,
    "start_time": "2022-06-08T08:22:31.183Z"
   },
   {
    "duration": 37,
    "start_time": "2022-06-08T08:22:31.190Z"
   },
   {
    "duration": 20,
    "start_time": "2022-06-08T08:22:31.228Z"
   },
   {
    "duration": 15,
    "start_time": "2022-06-08T08:22:31.249Z"
   },
   {
    "duration": 6,
    "start_time": "2022-06-08T08:22:31.266Z"
   },
   {
    "duration": 40,
    "start_time": "2022-06-08T08:22:31.274Z"
   },
   {
    "duration": 37,
    "start_time": "2022-06-08T08:22:31.315Z"
   },
   {
    "duration": 18,
    "start_time": "2022-06-08T08:22:31.354Z"
   },
   {
    "duration": 5,
    "start_time": "2022-06-08T08:22:31.373Z"
   },
   {
    "duration": 78,
    "start_time": "2022-06-08T08:22:31.380Z"
   },
   {
    "duration": 20,
    "start_time": "2022-06-08T08:22:31.461Z"
   },
   {
    "duration": 27,
    "start_time": "2022-06-08T08:22:31.483Z"
   },
   {
    "duration": 27,
    "start_time": "2022-06-08T08:22:31.511Z"
   },
   {
    "duration": 20,
    "start_time": "2022-06-08T08:22:31.540Z"
   },
   {
    "duration": 22,
    "start_time": "2022-06-08T08:22:31.562Z"
   },
   {
    "duration": 42,
    "start_time": "2022-06-08T08:22:31.586Z"
   },
   {
    "duration": 9,
    "start_time": "2022-06-08T08:22:31.629Z"
   },
   {
    "duration": 12,
    "start_time": "2022-06-08T08:22:31.639Z"
   },
   {
    "duration": 12,
    "start_time": "2022-06-08T08:22:31.652Z"
   },
   {
    "duration": 4,
    "start_time": "2022-06-08T08:22:31.666Z"
   },
   {
    "duration": 130,
    "start_time": "2022-06-08T08:22:31.672Z"
   },
   {
    "duration": 24,
    "start_time": "2022-06-08T08:22:31.804Z"
   },
   {
    "duration": 23,
    "start_time": "2022-06-08T08:22:31.831Z"
   },
   {
    "duration": 14,
    "start_time": "2022-06-08T08:22:31.856Z"
   },
   {
    "duration": 9,
    "start_time": "2022-06-08T08:22:31.872Z"
   },
   {
    "duration": 6,
    "start_time": "2022-06-08T08:22:31.883Z"
   },
   {
    "duration": 1065,
    "start_time": "2022-06-08T08:31:55.843Z"
   },
   {
    "duration": 392,
    "start_time": "2022-06-08T08:31:56.910Z"
   },
   {
    "duration": 14,
    "start_time": "2022-06-08T08:31:57.304Z"
   },
   {
    "duration": 8,
    "start_time": "2022-06-08T08:31:57.319Z"
   },
   {
    "duration": 9,
    "start_time": "2022-06-08T08:31:57.329Z"
   },
   {
    "duration": 10,
    "start_time": "2022-06-08T08:31:57.339Z"
   },
   {
    "duration": 11,
    "start_time": "2022-06-08T08:31:57.351Z"
   },
   {
    "duration": 13,
    "start_time": "2022-06-08T08:31:57.364Z"
   },
   {
    "duration": 9,
    "start_time": "2022-06-08T08:31:57.378Z"
   },
   {
    "duration": 7,
    "start_time": "2022-06-08T08:31:57.389Z"
   },
   {
    "duration": 7,
    "start_time": "2022-06-08T08:31:57.397Z"
   },
   {
    "duration": 23,
    "start_time": "2022-06-08T08:31:57.405Z"
   },
   {
    "duration": 6,
    "start_time": "2022-06-08T08:31:57.429Z"
   },
   {
    "duration": 24,
    "start_time": "2022-06-08T08:31:57.438Z"
   },
   {
    "duration": 28,
    "start_time": "2022-06-08T08:31:57.464Z"
   },
   {
    "duration": 7,
    "start_time": "2022-06-08T08:31:57.494Z"
   },
   {
    "duration": 45,
    "start_time": "2022-06-08T08:31:57.502Z"
   },
   {
    "duration": 7,
    "start_time": "2022-06-08T08:31:57.548Z"
   },
   {
    "duration": 25,
    "start_time": "2022-06-08T08:31:57.557Z"
   },
   {
    "duration": 47,
    "start_time": "2022-06-08T08:31:57.584Z"
   },
   {
    "duration": 14,
    "start_time": "2022-06-08T08:31:57.632Z"
   },
   {
    "duration": 5,
    "start_time": "2022-06-08T08:31:57.648Z"
   },
   {
    "duration": 23,
    "start_time": "2022-06-08T08:31:57.654Z"
   },
   {
    "duration": 24,
    "start_time": "2022-06-08T08:31:57.678Z"
   },
   {
    "duration": 39,
    "start_time": "2022-06-08T08:31:57.704Z"
   },
   {
    "duration": 6,
    "start_time": "2022-06-08T08:31:57.745Z"
   },
   {
    "duration": 57,
    "start_time": "2022-06-08T08:31:57.752Z"
   },
   {
    "duration": 23,
    "start_time": "2022-06-08T08:31:57.827Z"
   },
   {
    "duration": 26,
    "start_time": "2022-06-08T08:31:57.851Z"
   },
   {
    "duration": 14,
    "start_time": "2022-06-08T08:31:57.878Z"
   },
   {
    "duration": 45,
    "start_time": "2022-06-08T08:31:57.894Z"
   },
   {
    "duration": 21,
    "start_time": "2022-06-08T08:31:57.941Z"
   },
   {
    "duration": 22,
    "start_time": "2022-06-08T08:31:57.964Z"
   },
   {
    "duration": 10,
    "start_time": "2022-06-08T08:31:57.987Z"
   },
   {
    "duration": 34,
    "start_time": "2022-06-08T08:31:57.999Z"
   },
   {
    "duration": 16,
    "start_time": "2022-06-08T08:31:58.035Z"
   },
   {
    "duration": 6,
    "start_time": "2022-06-08T08:31:58.053Z"
   },
   {
    "duration": 113,
    "start_time": "2022-06-08T08:31:58.061Z"
   },
   {
    "duration": 19,
    "start_time": "2022-06-08T08:31:58.176Z"
   },
   {
    "duration": 7,
    "start_time": "2022-06-08T08:31:58.197Z"
   },
   {
    "duration": 23,
    "start_time": "2022-06-08T08:31:58.208Z"
   },
   {
    "duration": 13,
    "start_time": "2022-06-08T08:31:58.232Z"
   },
   {
    "duration": 5,
    "start_time": "2022-06-08T08:31:58.247Z"
   },
   {
    "duration": 21,
    "start_time": "2022-06-08T08:37:21.769Z"
   },
   {
    "duration": 31,
    "start_time": "2022-06-08T08:37:40.227Z"
   },
   {
    "duration": 951,
    "start_time": "2022-06-08T08:39:07.370Z"
   },
   {
    "duration": 396,
    "start_time": "2022-06-08T08:39:08.323Z"
   },
   {
    "duration": 12,
    "start_time": "2022-06-08T08:39:08.720Z"
   },
   {
    "duration": 18,
    "start_time": "2022-06-08T08:39:08.734Z"
   },
   {
    "duration": 23,
    "start_time": "2022-06-08T08:39:08.753Z"
   },
   {
    "duration": 21,
    "start_time": "2022-06-08T08:39:08.778Z"
   },
   {
    "duration": 18,
    "start_time": "2022-06-08T08:39:08.801Z"
   },
   {
    "duration": 17,
    "start_time": "2022-06-08T08:39:08.820Z"
   },
   {
    "duration": 15,
    "start_time": "2022-06-08T08:39:08.839Z"
   },
   {
    "duration": 15,
    "start_time": "2022-06-08T08:39:08.856Z"
   },
   {
    "duration": 10,
    "start_time": "2022-06-08T08:39:08.872Z"
   },
   {
    "duration": 9,
    "start_time": "2022-06-08T08:39:08.884Z"
   },
   {
    "duration": 11,
    "start_time": "2022-06-08T08:39:08.894Z"
   },
   {
    "duration": 24,
    "start_time": "2022-06-08T08:39:08.906Z"
   },
   {
    "duration": 31,
    "start_time": "2022-06-08T08:39:08.931Z"
   },
   {
    "duration": 6,
    "start_time": "2022-06-08T08:39:08.964Z"
   },
   {
    "duration": 24,
    "start_time": "2022-06-08T08:39:08.971Z"
   },
   {
    "duration": 6,
    "start_time": "2022-06-08T08:39:08.997Z"
   },
   {
    "duration": 39,
    "start_time": "2022-06-08T08:39:09.004Z"
   },
   {
    "duration": 20,
    "start_time": "2022-06-08T08:39:09.044Z"
   },
   {
    "duration": 14,
    "start_time": "2022-06-08T08:39:09.066Z"
   },
   {
    "duration": 5,
    "start_time": "2022-06-08T08:39:09.081Z"
   },
   {
    "duration": 46,
    "start_time": "2022-06-08T08:39:09.087Z"
   },
   {
    "duration": 27,
    "start_time": "2022-06-08T08:39:09.134Z"
   },
   {
    "duration": 18,
    "start_time": "2022-06-08T08:39:09.162Z"
   },
   {
    "duration": 5,
    "start_time": "2022-06-08T08:39:09.181Z"
   },
   {
    "duration": 84,
    "start_time": "2022-06-08T08:39:09.187Z"
   },
   {
    "duration": 22,
    "start_time": "2022-06-08T08:39:09.274Z"
   },
   {
    "duration": 41,
    "start_time": "2022-06-08T08:39:09.298Z"
   },
   {
    "duration": 14,
    "start_time": "2022-06-08T08:39:09.340Z"
   },
   {
    "duration": 18,
    "start_time": "2022-06-08T08:39:09.356Z"
   },
   {
    "duration": 23,
    "start_time": "2022-06-08T08:39:09.375Z"
   },
   {
    "duration": 46,
    "start_time": "2022-06-08T08:39:09.399Z"
   },
   {
    "duration": 9,
    "start_time": "2022-06-08T08:39:09.447Z"
   },
   {
    "duration": 6,
    "start_time": "2022-06-08T08:39:09.457Z"
   },
   {
    "duration": 31,
    "start_time": "2022-06-08T08:39:09.464Z"
   },
   {
    "duration": 6,
    "start_time": "2022-06-08T08:39:09.496Z"
   },
   {
    "duration": 115,
    "start_time": "2022-06-08T08:39:09.503Z"
   },
   {
    "duration": 23,
    "start_time": "2022-06-08T08:39:09.619Z"
   },
   {
    "duration": 20,
    "start_time": "2022-06-08T08:56:50.992Z"
   },
   {
    "duration": 125,
    "start_time": "2022-06-08T08:57:41.231Z"
   },
   {
    "duration": 24,
    "start_time": "2022-06-08T08:58:07.017Z"
   },
   {
    "duration": 34,
    "start_time": "2022-06-08T08:58:18.217Z"
   },
   {
    "duration": 36,
    "start_time": "2022-06-08T08:59:11.626Z"
   },
   {
    "duration": 36,
    "start_time": "2022-06-08T08:59:26.703Z"
   },
   {
    "duration": 28,
    "start_time": "2022-06-08T09:00:18.158Z"
   },
   {
    "duration": 9,
    "start_time": "2022-06-08T09:00:27.222Z"
   },
   {
    "duration": 27,
    "start_time": "2022-06-08T09:31:16.269Z"
   },
   {
    "duration": 22,
    "start_time": "2022-06-08T09:32:13.097Z"
   },
   {
    "duration": 23,
    "start_time": "2022-06-08T09:33:17.053Z"
   },
   {
    "duration": 1831,
    "start_time": "2022-06-08T09:54:28.052Z"
   },
   {
    "duration": 146,
    "start_time": "2022-06-08T09:54:49.244Z"
   },
   {
    "duration": 210,
    "start_time": "2022-06-08T09:55:00.724Z"
   },
   {
    "duration": 174,
    "start_time": "2022-06-08T09:55:17.774Z"
   },
   {
    "duration": 227,
    "start_time": "2022-06-08T09:55:56.149Z"
   },
   {
    "duration": 14,
    "start_time": "2022-06-08T10:01:14.022Z"
   },
   {
    "duration": 15,
    "start_time": "2022-06-08T10:01:26.536Z"
   },
   {
    "duration": 278,
    "start_time": "2022-06-08T10:01:35.367Z"
   },
   {
    "duration": 159,
    "start_time": "2022-06-08T10:02:09.517Z"
   },
   {
    "duration": 159,
    "start_time": "2022-06-08T10:02:46.743Z"
   },
   {
    "duration": 148,
    "start_time": "2022-06-08T10:02:58.999Z"
   },
   {
    "duration": 130,
    "start_time": "2022-06-08T10:03:45.357Z"
   },
   {
    "duration": 292,
    "start_time": "2022-06-08T10:04:07.409Z"
   },
   {
    "duration": 301,
    "start_time": "2022-06-08T10:05:48.743Z"
   },
   {
    "duration": 290,
    "start_time": "2022-06-08T10:07:07.194Z"
   },
   {
    "duration": 153,
    "start_time": "2022-06-08T10:08:04.203Z"
   },
   {
    "duration": 289,
    "start_time": "2022-06-08T10:11:30.714Z"
   },
   {
    "duration": 179,
    "start_time": "2022-06-08T10:13:45.927Z"
   },
   {
    "duration": 209,
    "start_time": "2022-06-08T10:13:54.799Z"
   },
   {
    "duration": 177,
    "start_time": "2022-06-08T10:14:13.643Z"
   },
   {
    "duration": 253,
    "start_time": "2022-06-08T10:16:10.923Z"
   },
   {
    "duration": 147,
    "start_time": "2022-06-08T10:16:25.613Z"
   },
   {
    "duration": 236,
    "start_time": "2022-06-08T10:20:24.318Z"
   },
   {
    "duration": 171,
    "start_time": "2022-06-08T10:21:05.596Z"
   },
   {
    "duration": 190,
    "start_time": "2022-06-08T10:21:45.495Z"
   },
   {
    "duration": 152,
    "start_time": "2022-06-08T10:23:47.024Z"
   },
   {
    "duration": 347,
    "start_time": "2022-06-08T10:26:02.602Z"
   },
   {
    "duration": 3,
    "start_time": "2022-06-08T10:26:13.285Z"
   },
   {
    "duration": 250,
    "start_time": "2022-06-08T11:16:19.696Z"
   },
   {
    "duration": 146,
    "start_time": "2022-06-08T11:17:49.512Z"
   },
   {
    "duration": 276,
    "start_time": "2022-06-08T11:18:20.161Z"
   },
   {
    "duration": 171,
    "start_time": "2022-06-08T11:21:20.811Z"
   },
   {
    "duration": 791,
    "start_time": "2022-06-08T11:29:46.178Z"
   },
   {
    "duration": 702,
    "start_time": "2022-06-08T11:31:18.055Z"
   },
   {
    "duration": 725,
    "start_time": "2022-06-08T11:32:07.946Z"
   },
   {
    "duration": 214,
    "start_time": "2022-06-08T11:34:14.569Z"
   },
   {
    "duration": 247,
    "start_time": "2022-06-08T11:38:36.004Z"
   },
   {
    "duration": 265,
    "start_time": "2022-06-08T11:41:36.445Z"
   },
   {
    "duration": 59,
    "start_time": "2022-06-08T11:42:16.578Z"
   },
   {
    "duration": 139,
    "start_time": "2022-06-08T11:42:22.842Z"
   },
   {
    "duration": 129,
    "start_time": "2022-06-08T11:42:46.591Z"
   },
   {
    "duration": 118,
    "start_time": "2022-06-08T11:43:07.447Z"
   },
   {
    "duration": 199,
    "start_time": "2022-06-08T11:43:29.981Z"
   },
   {
    "duration": 195,
    "start_time": "2022-06-08T11:45:56.506Z"
   },
   {
    "duration": 225,
    "start_time": "2022-06-08T11:50:23.769Z"
   },
   {
    "duration": 192,
    "start_time": "2022-06-08T11:51:02.242Z"
   },
   {
    "duration": 205,
    "start_time": "2022-06-08T11:52:42.103Z"
   },
   {
    "duration": 25,
    "start_time": "2022-06-08T11:53:02.934Z"
   },
   {
    "duration": 22,
    "start_time": "2022-06-08T11:53:06.518Z"
   },
   {
    "duration": 210,
    "start_time": "2022-06-08T11:53:11.989Z"
   },
   {
    "duration": 232,
    "start_time": "2022-06-08T11:53:20.953Z"
   },
   {
    "duration": 243,
    "start_time": "2022-06-08T11:53:28.749Z"
   },
   {
    "duration": 208,
    "start_time": "2022-06-08T11:53:37.581Z"
   },
   {
    "duration": 342,
    "start_time": "2022-06-08T11:54:29.147Z"
   },
   {
    "duration": 191,
    "start_time": "2022-06-08T11:54:44.011Z"
   },
   {
    "duration": 218,
    "start_time": "2022-06-08T12:16:27.143Z"
   },
   {
    "duration": 227,
    "start_time": "2022-06-08T12:19:23.151Z"
   },
   {
    "duration": 205,
    "start_time": "2022-06-08T12:50:19.977Z"
   },
   {
    "duration": 1087,
    "start_time": "2022-06-08T13:19:05.533Z"
   },
   {
    "duration": 413,
    "start_time": "2022-06-08T13:19:06.622Z"
   },
   {
    "duration": 16,
    "start_time": "2022-06-08T13:19:07.036Z"
   },
   {
    "duration": 9,
    "start_time": "2022-06-08T13:19:07.054Z"
   },
   {
    "duration": 9,
    "start_time": "2022-06-08T13:19:07.065Z"
   },
   {
    "duration": 11,
    "start_time": "2022-06-08T13:19:07.076Z"
   },
   {
    "duration": 15,
    "start_time": "2022-06-08T13:19:07.088Z"
   },
   {
    "duration": 29,
    "start_time": "2022-06-08T13:19:07.104Z"
   },
   {
    "duration": 11,
    "start_time": "2022-06-08T13:19:07.135Z"
   },
   {
    "duration": 21,
    "start_time": "2022-06-08T13:19:07.148Z"
   },
   {
    "duration": 8,
    "start_time": "2022-06-08T13:19:07.171Z"
   },
   {
    "duration": 9,
    "start_time": "2022-06-08T13:19:07.180Z"
   },
   {
    "duration": 10,
    "start_time": "2022-06-08T13:19:07.191Z"
   },
   {
    "duration": 50,
    "start_time": "2022-06-08T13:19:07.202Z"
   },
   {
    "duration": 34,
    "start_time": "2022-06-08T13:19:07.253Z"
   },
   {
    "duration": 8,
    "start_time": "2022-06-08T13:19:07.288Z"
   },
   {
    "duration": 42,
    "start_time": "2022-06-08T13:19:07.298Z"
   },
   {
    "duration": 7,
    "start_time": "2022-06-08T13:19:07.341Z"
   },
   {
    "duration": 23,
    "start_time": "2022-06-08T13:19:07.349Z"
   },
   {
    "duration": 21,
    "start_time": "2022-06-08T13:19:07.373Z"
   },
   {
    "duration": 36,
    "start_time": "2022-06-08T13:19:07.396Z"
   },
   {
    "duration": 5,
    "start_time": "2022-06-08T13:19:07.434Z"
   },
   {
    "duration": 20,
    "start_time": "2022-06-08T13:19:07.440Z"
   },
   {
    "duration": 24,
    "start_time": "2022-06-08T13:19:07.462Z"
   },
   {
    "duration": 49,
    "start_time": "2022-06-08T13:19:07.487Z"
   },
   {
    "duration": 7,
    "start_time": "2022-06-08T13:19:07.537Z"
   },
   {
    "duration": 59,
    "start_time": "2022-06-08T13:19:07.545Z"
   },
   {
    "duration": 38,
    "start_time": "2022-06-08T13:19:07.608Z"
   },
   {
    "duration": 29,
    "start_time": "2022-06-08T13:19:07.647Z"
   },
   {
    "duration": 16,
    "start_time": "2022-06-08T13:19:07.677Z"
   },
   {
    "duration": 43,
    "start_time": "2022-06-08T13:19:07.695Z"
   },
   {
    "duration": 26,
    "start_time": "2022-06-08T13:19:07.740Z"
   },
   {
    "duration": 27,
    "start_time": "2022-06-08T13:19:07.768Z"
   },
   {
    "duration": 36,
    "start_time": "2022-06-08T13:19:07.797Z"
   },
   {
    "duration": 11,
    "start_time": "2022-06-08T13:19:07.834Z"
   },
   {
    "duration": 15,
    "start_time": "2022-06-08T13:19:07.847Z"
   },
   {
    "duration": 11,
    "start_time": "2022-06-08T13:19:07.864Z"
   },
   {
    "duration": 115,
    "start_time": "2022-06-08T13:19:07.877Z"
   },
   {
    "duration": 21,
    "start_time": "2022-06-08T13:19:07.994Z"
   },
   {
    "duration": 223,
    "start_time": "2022-06-08T13:19:08.016Z"
   },
   {
    "duration": 269,
    "start_time": "2022-06-08T13:19:08.241Z"
   },
   {
    "duration": 209,
    "start_time": "2022-06-08T13:19:08.512Z"
   },
   {
    "duration": 9,
    "start_time": "2022-06-08T13:19:08.727Z"
   },
   {
    "duration": 24,
    "start_time": "2022-06-08T13:19:08.737Z"
   },
   {
    "duration": 18,
    "start_time": "2022-06-08T13:19:08.762Z"
   },
   {
    "duration": 198,
    "start_time": "2022-06-08T13:19:08.781Z"
   },
   {
    "duration": 157,
    "start_time": "2022-06-08T13:19:08.980Z"
   },
   {
    "duration": 8,
    "start_time": "2022-06-08T13:19:09.139Z"
   },
   {
    "duration": 146,
    "start_time": "2022-06-08T13:19:23.054Z"
   },
   {
    "duration": 1047,
    "start_time": "2022-06-08T13:19:34.680Z"
   },
   {
    "duration": 409,
    "start_time": "2022-06-08T13:19:35.729Z"
   },
   {
    "duration": 14,
    "start_time": "2022-06-08T13:19:36.140Z"
   },
   {
    "duration": 9,
    "start_time": "2022-06-08T13:19:36.156Z"
   },
   {
    "duration": 11,
    "start_time": "2022-06-08T13:19:36.168Z"
   },
   {
    "duration": 19,
    "start_time": "2022-06-08T13:19:36.181Z"
   },
   {
    "duration": 25,
    "start_time": "2022-06-08T13:19:36.202Z"
   },
   {
    "duration": 14,
    "start_time": "2022-06-08T13:19:36.229Z"
   },
   {
    "duration": 31,
    "start_time": "2022-06-08T13:19:36.246Z"
   },
   {
    "duration": 23,
    "start_time": "2022-06-08T13:19:36.281Z"
   },
   {
    "duration": 22,
    "start_time": "2022-06-08T13:19:36.306Z"
   },
   {
    "duration": 17,
    "start_time": "2022-06-08T13:19:36.330Z"
   },
   {
    "duration": 30,
    "start_time": "2022-06-08T13:19:36.349Z"
   },
   {
    "duration": 39,
    "start_time": "2022-06-08T13:19:36.383Z"
   },
   {
    "duration": 44,
    "start_time": "2022-06-08T13:19:36.424Z"
   },
   {
    "duration": 8,
    "start_time": "2022-06-08T13:19:36.470Z"
   },
   {
    "duration": 31,
    "start_time": "2022-06-08T13:19:36.480Z"
   },
   {
    "duration": 16,
    "start_time": "2022-06-08T13:19:36.513Z"
   },
   {
    "duration": 18,
    "start_time": "2022-06-08T13:19:36.530Z"
   },
   {
    "duration": 21,
    "start_time": "2022-06-08T13:19:36.549Z"
   },
   {
    "duration": 15,
    "start_time": "2022-06-08T13:19:36.571Z"
   },
   {
    "duration": 6,
    "start_time": "2022-06-08T13:19:36.587Z"
   },
   {
    "duration": 54,
    "start_time": "2022-06-08T13:19:36.594Z"
   },
   {
    "duration": 25,
    "start_time": "2022-06-08T13:19:36.649Z"
   },
   {
    "duration": 17,
    "start_time": "2022-06-08T13:19:36.676Z"
   },
   {
    "duration": 6,
    "start_time": "2022-06-08T13:19:36.695Z"
   },
   {
    "duration": 56,
    "start_time": "2022-06-08T13:19:36.728Z"
   },
   {
    "duration": 22,
    "start_time": "2022-06-08T13:19:36.786Z"
   },
   {
    "duration": 28,
    "start_time": "2022-06-08T13:19:36.827Z"
   },
   {
    "duration": 14,
    "start_time": "2022-06-08T13:19:36.857Z"
   },
   {
    "duration": 27,
    "start_time": "2022-06-08T13:19:36.873Z"
   },
   {
    "duration": 42,
    "start_time": "2022-06-08T13:19:36.901Z"
   },
   {
    "duration": 26,
    "start_time": "2022-06-08T13:19:36.945Z"
   },
   {
    "duration": 10,
    "start_time": "2022-06-08T13:19:36.972Z"
   },
   {
    "duration": 8,
    "start_time": "2022-06-08T13:19:36.984Z"
   },
   {
    "duration": 38,
    "start_time": "2022-06-08T13:19:36.994Z"
   },
   {
    "duration": 5,
    "start_time": "2022-06-08T13:19:37.033Z"
   },
   {
    "duration": 115,
    "start_time": "2022-06-08T13:19:37.040Z"
   },
   {
    "duration": 23,
    "start_time": "2022-06-08T13:19:37.157Z"
   },
   {
    "duration": 230,
    "start_time": "2022-06-08T13:19:37.181Z"
   },
   {
    "duration": 279,
    "start_time": "2022-06-08T13:19:37.414Z"
   },
   {
    "duration": 198,
    "start_time": "2022-06-08T13:19:37.695Z"
   },
   {
    "duration": 9,
    "start_time": "2022-06-08T13:19:37.894Z"
   },
   {
    "duration": 27,
    "start_time": "2022-06-08T13:19:37.905Z"
   },
   {
    "duration": 16,
    "start_time": "2022-06-08T13:19:37.934Z"
   },
   {
    "duration": 190,
    "start_time": "2022-06-08T13:19:37.951Z"
   },
   {
    "duration": 309,
    "start_time": "2022-06-08T13:19:38.143Z"
   },
   {
    "duration": 0,
    "start_time": "2022-06-08T13:19:38.453Z"
   },
   {
    "duration": 142,
    "start_time": "2022-06-08T13:19:46.206Z"
   },
   {
    "duration": 1025,
    "start_time": "2022-06-08T13:19:55.164Z"
   },
   {
    "duration": 458,
    "start_time": "2022-06-08T13:19:56.191Z"
   },
   {
    "duration": 13,
    "start_time": "2022-06-08T13:19:56.651Z"
   },
   {
    "duration": 17,
    "start_time": "2022-06-08T13:19:56.666Z"
   },
   {
    "duration": 23,
    "start_time": "2022-06-08T13:19:56.685Z"
   },
   {
    "duration": 12,
    "start_time": "2022-06-08T13:19:56.710Z"
   },
   {
    "duration": 15,
    "start_time": "2022-06-08T13:19:56.724Z"
   },
   {
    "duration": 46,
    "start_time": "2022-06-08T13:19:56.740Z"
   },
   {
    "duration": 30,
    "start_time": "2022-06-08T13:19:56.787Z"
   },
   {
    "duration": 34,
    "start_time": "2022-06-08T13:19:56.820Z"
   },
   {
    "duration": 28,
    "start_time": "2022-06-08T13:19:56.856Z"
   },
   {
    "duration": 19,
    "start_time": "2022-06-08T13:19:56.886Z"
   },
   {
    "duration": 40,
    "start_time": "2022-06-08T13:19:56.907Z"
   },
   {
    "duration": 56,
    "start_time": "2022-06-08T13:19:56.949Z"
   },
   {
    "duration": 38,
    "start_time": "2022-06-08T13:19:57.006Z"
   },
   {
    "duration": 26,
    "start_time": "2022-06-08T13:19:57.046Z"
   },
   {
    "duration": 54,
    "start_time": "2022-06-08T13:19:57.074Z"
   },
   {
    "duration": 6,
    "start_time": "2022-06-08T13:19:57.129Z"
   },
   {
    "duration": 50,
    "start_time": "2022-06-08T13:19:57.136Z"
   },
   {
    "duration": 35,
    "start_time": "2022-06-08T13:19:57.188Z"
   },
   {
    "duration": 30,
    "start_time": "2022-06-08T13:19:57.225Z"
   },
   {
    "duration": 14,
    "start_time": "2022-06-08T13:19:57.257Z"
   },
   {
    "duration": 45,
    "start_time": "2022-06-08T13:19:57.273Z"
   },
   {
    "duration": 29,
    "start_time": "2022-06-08T13:19:57.320Z"
   },
   {
    "duration": 21,
    "start_time": "2022-06-08T13:19:57.350Z"
   },
   {
    "duration": 11,
    "start_time": "2022-06-08T13:19:57.373Z"
   },
   {
    "duration": 76,
    "start_time": "2022-06-08T13:19:57.385Z"
   },
   {
    "duration": 20,
    "start_time": "2022-06-08T13:19:57.464Z"
   },
   {
    "duration": 51,
    "start_time": "2022-06-08T13:19:57.488Z"
   },
   {
    "duration": 15,
    "start_time": "2022-06-08T13:19:57.541Z"
   },
   {
    "duration": 41,
    "start_time": "2022-06-08T13:19:57.557Z"
   },
   {
    "duration": 41,
    "start_time": "2022-06-08T13:19:57.600Z"
   },
   {
    "duration": 29,
    "start_time": "2022-06-08T13:19:57.643Z"
   },
   {
    "duration": 9,
    "start_time": "2022-06-08T13:19:57.673Z"
   },
   {
    "duration": 32,
    "start_time": "2022-06-08T13:19:57.684Z"
   },
   {
    "duration": 45,
    "start_time": "2022-06-08T13:19:57.718Z"
   },
   {
    "duration": 13,
    "start_time": "2022-06-08T13:19:57.765Z"
   },
   {
    "duration": 149,
    "start_time": "2022-06-08T13:19:57.780Z"
   },
   {
    "duration": 22,
    "start_time": "2022-06-08T13:19:57.931Z"
   },
   {
    "duration": 209,
    "start_time": "2022-06-08T13:19:57.955Z"
   },
   {
    "duration": 276,
    "start_time": "2022-06-08T13:19:58.166Z"
   },
   {
    "duration": 197,
    "start_time": "2022-06-08T13:19:58.443Z"
   },
   {
    "duration": 9,
    "start_time": "2022-06-08T13:19:58.643Z"
   },
   {
    "duration": 18,
    "start_time": "2022-06-08T13:19:58.654Z"
   },
   {
    "duration": 17,
    "start_time": "2022-06-08T13:19:58.674Z"
   },
   {
    "duration": 204,
    "start_time": "2022-06-08T13:19:58.692Z"
   },
   {
    "duration": 151,
    "start_time": "2022-06-08T13:19:58.898Z"
   },
   {
    "duration": 19,
    "start_time": "2022-06-08T13:19:59.051Z"
   },
   {
    "duration": 1065,
    "start_time": "2022-06-08T13:54:01.835Z"
   },
   {
    "duration": 412,
    "start_time": "2022-06-08T13:54:02.902Z"
   },
   {
    "duration": 11,
    "start_time": "2022-06-08T13:54:03.316Z"
   },
   {
    "duration": 18,
    "start_time": "2022-06-08T13:54:03.329Z"
   },
   {
    "duration": 12,
    "start_time": "2022-06-08T13:54:03.348Z"
   },
   {
    "duration": 20,
    "start_time": "2022-06-08T13:54:03.361Z"
   },
   {
    "duration": 14,
    "start_time": "2022-06-08T13:54:03.383Z"
   },
   {
    "duration": 17,
    "start_time": "2022-06-08T13:54:03.398Z"
   },
   {
    "duration": 21,
    "start_time": "2022-06-08T13:54:03.417Z"
   },
   {
    "duration": 8,
    "start_time": "2022-06-08T13:54:03.440Z"
   },
   {
    "duration": 12,
    "start_time": "2022-06-08T13:54:03.449Z"
   },
   {
    "duration": 7,
    "start_time": "2022-06-08T13:54:03.462Z"
   },
   {
    "duration": 17,
    "start_time": "2022-06-08T13:54:03.470Z"
   },
   {
    "duration": 27,
    "start_time": "2022-06-08T13:54:03.489Z"
   },
   {
    "duration": 34,
    "start_time": "2022-06-08T13:54:03.518Z"
   },
   {
    "duration": 7,
    "start_time": "2022-06-08T13:54:03.553Z"
   },
   {
    "duration": 25,
    "start_time": "2022-06-08T13:54:03.562Z"
   },
   {
    "duration": 7,
    "start_time": "2022-06-08T13:54:03.588Z"
   },
   {
    "duration": 44,
    "start_time": "2022-06-08T13:54:03.597Z"
   },
   {
    "duration": 23,
    "start_time": "2022-06-08T13:54:03.643Z"
   },
   {
    "duration": 15,
    "start_time": "2022-06-08T13:54:03.668Z"
   },
   {
    "duration": 6,
    "start_time": "2022-06-08T13:54:03.685Z"
   },
   {
    "duration": 47,
    "start_time": "2022-06-08T13:54:03.692Z"
   },
   {
    "duration": 28,
    "start_time": "2022-06-08T13:54:03.741Z"
   },
   {
    "duration": 18,
    "start_time": "2022-06-08T13:54:03.770Z"
   },
   {
    "duration": 5,
    "start_time": "2022-06-08T13:54:03.789Z"
   },
   {
    "duration": 88,
    "start_time": "2022-06-08T13:54:03.796Z"
   },
   {
    "duration": 21,
    "start_time": "2022-06-08T13:54:03.888Z"
   },
   {
    "duration": 42,
    "start_time": "2022-06-08T13:54:03.910Z"
   },
   {
    "duration": 14,
    "start_time": "2022-06-08T13:54:03.954Z"
   },
   {
    "duration": 23,
    "start_time": "2022-06-08T13:54:03.970Z"
   },
   {
    "duration": 41,
    "start_time": "2022-06-08T13:54:03.994Z"
   },
   {
    "duration": 23,
    "start_time": "2022-06-08T13:54:04.037Z"
   },
   {
    "duration": 10,
    "start_time": "2022-06-08T13:54:04.062Z"
   },
   {
    "duration": 15,
    "start_time": "2022-06-08T13:54:04.073Z"
   },
   {
    "duration": 13,
    "start_time": "2022-06-08T13:54:04.089Z"
   },
   {
    "duration": 25,
    "start_time": "2022-06-08T13:54:04.103Z"
   },
   {
    "duration": 124,
    "start_time": "2022-06-08T13:54:04.129Z"
   },
   {
    "duration": 22,
    "start_time": "2022-06-08T13:54:04.254Z"
   },
   {
    "duration": 207,
    "start_time": "2022-06-08T13:54:04.278Z"
   },
   {
    "duration": 265,
    "start_time": "2022-06-08T13:54:04.486Z"
   },
   {
    "duration": 211,
    "start_time": "2022-06-08T13:54:04.752Z"
   },
   {
    "duration": 11,
    "start_time": "2022-06-08T13:54:04.966Z"
   },
   {
    "duration": 22,
    "start_time": "2022-06-08T13:54:04.978Z"
   },
   {
    "duration": 33,
    "start_time": "2022-06-08T13:54:05.001Z"
   },
   {
    "duration": 194,
    "start_time": "2022-06-08T13:54:05.036Z"
   },
   {
    "duration": 153,
    "start_time": "2022-06-08T13:54:05.232Z"
   },
   {
    "duration": 20,
    "start_time": "2022-06-08T13:54:05.387Z"
   },
   {
    "duration": 1033,
    "start_time": "2022-06-08T14:15:00.182Z"
   },
   {
    "duration": 452,
    "start_time": "2022-06-08T14:15:01.216Z"
   },
   {
    "duration": 12,
    "start_time": "2022-06-08T14:15:01.670Z"
   },
   {
    "duration": 53,
    "start_time": "2022-06-08T14:15:01.684Z"
   },
   {
    "duration": 27,
    "start_time": "2022-06-08T14:15:01.738Z"
   },
   {
    "duration": 18,
    "start_time": "2022-06-08T14:15:01.767Z"
   },
   {
    "duration": 20,
    "start_time": "2022-06-08T14:15:01.787Z"
   },
   {
    "duration": 32,
    "start_time": "2022-06-08T14:15:01.809Z"
   },
   {
    "duration": 25,
    "start_time": "2022-06-08T14:15:01.843Z"
   },
   {
    "duration": 11,
    "start_time": "2022-06-08T14:15:01.871Z"
   },
   {
    "duration": 18,
    "start_time": "2022-06-08T14:15:01.883Z"
   },
   {
    "duration": 36,
    "start_time": "2022-06-08T14:15:01.902Z"
   },
   {
    "duration": 21,
    "start_time": "2022-06-08T14:15:01.939Z"
   },
   {
    "duration": 39,
    "start_time": "2022-06-08T14:15:01.962Z"
   },
   {
    "duration": 41,
    "start_time": "2022-06-08T14:15:02.003Z"
   },
   {
    "duration": 8,
    "start_time": "2022-06-08T14:15:02.046Z"
   },
   {
    "duration": 33,
    "start_time": "2022-06-08T14:15:02.057Z"
   },
   {
    "duration": 56,
    "start_time": "2022-06-08T14:15:02.091Z"
   },
   {
    "duration": 26,
    "start_time": "2022-06-08T14:15:02.149Z"
   },
   {
    "duration": 24,
    "start_time": "2022-06-08T14:15:02.177Z"
   },
   {
    "duration": 22,
    "start_time": "2022-06-08T14:15:02.203Z"
   },
   {
    "duration": 12,
    "start_time": "2022-06-08T14:15:02.227Z"
   },
   {
    "duration": 31,
    "start_time": "2022-06-08T14:15:02.242Z"
   },
   {
    "duration": 25,
    "start_time": "2022-06-08T14:15:02.274Z"
   },
   {
    "duration": 17,
    "start_time": "2022-06-08T14:15:02.301Z"
   },
   {
    "duration": 6,
    "start_time": "2022-06-08T14:15:02.327Z"
   },
   {
    "duration": 77,
    "start_time": "2022-06-08T14:15:02.335Z"
   },
   {
    "duration": 23,
    "start_time": "2022-06-08T14:15:02.415Z"
   },
   {
    "duration": 209,
    "start_time": "2022-06-08T14:15:02.443Z"
   },
   {
    "duration": 15,
    "start_time": "2022-06-08T14:15:02.654Z"
   },
   {
    "duration": 19,
    "start_time": "2022-06-08T14:15:02.670Z"
   },
   {
    "duration": 46,
    "start_time": "2022-06-08T14:15:02.690Z"
   },
   {
    "duration": 27,
    "start_time": "2022-06-08T14:15:02.738Z"
   },
   {
    "duration": 9,
    "start_time": "2022-06-08T14:15:02.766Z"
   },
   {
    "duration": 12,
    "start_time": "2022-06-08T14:15:02.777Z"
   },
   {
    "duration": 16,
    "start_time": "2022-06-08T14:15:02.790Z"
   },
   {
    "duration": 21,
    "start_time": "2022-06-08T14:15:02.808Z"
   },
   {
    "duration": 120,
    "start_time": "2022-06-08T14:15:02.834Z"
   },
   {
    "duration": 22,
    "start_time": "2022-06-08T14:15:02.956Z"
   },
   {
    "duration": 220,
    "start_time": "2022-06-08T14:15:02.980Z"
   },
   {
    "duration": 301,
    "start_time": "2022-06-08T14:15:03.202Z"
   },
   {
    "duration": 215,
    "start_time": "2022-06-08T14:15:03.504Z"
   },
   {
    "duration": 12,
    "start_time": "2022-06-08T14:15:03.720Z"
   },
   {
    "duration": 33,
    "start_time": "2022-06-08T14:15:03.733Z"
   },
   {
    "duration": 17,
    "start_time": "2022-06-08T14:15:03.767Z"
   },
   {
    "duration": 201,
    "start_time": "2022-06-08T14:15:03.785Z"
   },
   {
    "duration": 154,
    "start_time": "2022-06-08T14:15:03.988Z"
   },
   {
    "duration": 21,
    "start_time": "2022-06-08T14:15:04.144Z"
   },
   {
    "duration": 54,
    "start_time": "2022-06-09T08:03:49.087Z"
   },
   {
    "duration": 1458,
    "start_time": "2022-06-09T08:04:02.949Z"
   },
   {
    "duration": 1404,
    "start_time": "2022-06-09T08:04:04.410Z"
   },
   {
    "duration": 15,
    "start_time": "2022-06-09T08:04:05.816Z"
   },
   {
    "duration": 14,
    "start_time": "2022-06-09T08:04:05.833Z"
   },
   {
    "duration": 33,
    "start_time": "2022-06-09T08:04:05.849Z"
   },
   {
    "duration": 20,
    "start_time": "2022-06-09T08:04:05.889Z"
   },
   {
    "duration": 18,
    "start_time": "2022-06-09T08:04:05.910Z"
   },
   {
    "duration": 17,
    "start_time": "2022-06-09T08:04:05.930Z"
   },
   {
    "duration": 13,
    "start_time": "2022-06-09T08:04:05.949Z"
   },
   {
    "duration": 42,
    "start_time": "2022-06-09T08:04:05.965Z"
   },
   {
    "duration": 31,
    "start_time": "2022-06-09T08:04:06.009Z"
   },
   {
    "duration": 15,
    "start_time": "2022-06-09T08:04:06.042Z"
   },
   {
    "duration": 41,
    "start_time": "2022-06-09T08:04:06.059Z"
   },
   {
    "duration": 44,
    "start_time": "2022-06-09T08:04:06.102Z"
   },
   {
    "duration": 59,
    "start_time": "2022-06-09T08:04:06.148Z"
   },
   {
    "duration": 8,
    "start_time": "2022-06-09T08:04:06.210Z"
   },
   {
    "duration": 66,
    "start_time": "2022-06-09T08:04:06.220Z"
   },
   {
    "duration": 9,
    "start_time": "2022-06-09T08:04:06.290Z"
   },
   {
    "duration": 18,
    "start_time": "2022-06-09T08:04:06.300Z"
   },
   {
    "duration": 24,
    "start_time": "2022-06-09T08:04:06.320Z"
   },
   {
    "duration": 28,
    "start_time": "2022-06-09T08:04:06.346Z"
   },
   {
    "duration": 9,
    "start_time": "2022-06-09T08:04:06.377Z"
   },
   {
    "duration": 34,
    "start_time": "2022-06-09T08:04:06.388Z"
   },
   {
    "duration": 63,
    "start_time": "2022-06-09T08:04:06.424Z"
   },
   {
    "duration": 30,
    "start_time": "2022-06-09T08:04:06.489Z"
   },
   {
    "duration": 6,
    "start_time": "2022-06-09T08:04:06.521Z"
   },
   {
    "duration": 96,
    "start_time": "2022-06-09T08:04:06.529Z"
   },
   {
    "duration": 22,
    "start_time": "2022-06-09T08:04:06.630Z"
   },
   {
    "duration": 44,
    "start_time": "2022-06-09T08:04:06.670Z"
   },
   {
    "duration": 33,
    "start_time": "2022-06-09T08:04:06.716Z"
   },
   {
    "duration": 41,
    "start_time": "2022-06-09T08:04:06.751Z"
   },
   {
    "duration": 42,
    "start_time": "2022-06-09T08:04:06.794Z"
   },
   {
    "duration": 59,
    "start_time": "2022-06-09T08:04:06.837Z"
   },
   {
    "duration": 11,
    "start_time": "2022-06-09T08:04:06.898Z"
   },
   {
    "duration": 20,
    "start_time": "2022-06-09T08:04:06.910Z"
   },
   {
    "duration": 13,
    "start_time": "2022-06-09T08:04:06.931Z"
   },
   {
    "duration": 5,
    "start_time": "2022-06-09T08:04:06.946Z"
   },
   {
    "duration": 252,
    "start_time": "2022-06-09T08:04:06.952Z"
   },
   {
    "duration": 34,
    "start_time": "2022-06-09T08:04:07.206Z"
   },
   {
    "duration": 359,
    "start_time": "2022-06-09T08:04:07.242Z"
   },
   {
    "duration": 291,
    "start_time": "2022-06-09T08:04:07.603Z"
   },
   {
    "duration": 245,
    "start_time": "2022-06-09T08:04:07.896Z"
   },
   {
    "duration": 9,
    "start_time": "2022-06-09T08:04:08.143Z"
   },
   {
    "duration": 36,
    "start_time": "2022-06-09T08:04:08.154Z"
   },
   {
    "duration": 29,
    "start_time": "2022-06-09T08:04:08.193Z"
   },
   {
    "duration": 281,
    "start_time": "2022-06-09T08:04:08.224Z"
   },
   {
    "duration": 231,
    "start_time": "2022-06-09T08:04:08.507Z"
   },
   {
    "duration": 251,
    "start_time": "2022-06-09T08:04:08.740Z"
   },
   {
    "duration": 234,
    "start_time": "2022-06-09T08:04:08.993Z"
   },
   {
    "duration": 196,
    "start_time": "2022-06-09T08:04:09.229Z"
   },
   {
    "duration": 35,
    "start_time": "2022-06-09T08:04:09.427Z"
   },
   {
    "duration": 157,
    "start_time": "2022-06-09T08:04:36.947Z"
   },
   {
    "duration": 265,
    "start_time": "2022-06-09T08:04:45.438Z"
   },
   {
    "duration": 283,
    "start_time": "2022-06-09T08:06:25.732Z"
   },
   {
    "duration": 188,
    "start_time": "2022-06-09T08:06:58.798Z"
   },
   {
    "duration": 141,
    "start_time": "2022-06-09T08:07:10.906Z"
   },
   {
    "duration": 174,
    "start_time": "2022-06-09T08:07:21.541Z"
   },
   {
    "duration": 229,
    "start_time": "2022-06-09T08:07:39.276Z"
   },
   {
    "duration": 13,
    "start_time": "2022-06-09T08:08:48.604Z"
   },
   {
    "duration": 287,
    "start_time": "2022-06-09T08:11:01.458Z"
   },
   {
    "duration": 331,
    "start_time": "2022-06-09T08:11:37.549Z"
   },
   {
    "duration": 11,
    "start_time": "2022-06-09T08:16:19.100Z"
   },
   {
    "duration": 255,
    "start_time": "2022-06-09T08:16:35.427Z"
   },
   {
    "duration": 247,
    "start_time": "2022-06-09T08:16:58.404Z"
   },
   {
    "duration": 292,
    "start_time": "2022-06-09T08:17:10.687Z"
   },
   {
    "duration": 271,
    "start_time": "2022-06-09T08:17:26.641Z"
   },
   {
    "duration": 238,
    "start_time": "2022-06-09T08:18:17.886Z"
   },
   {
    "duration": 351,
    "start_time": "2022-06-09T08:19:19.652Z"
   },
   {
    "duration": 246,
    "start_time": "2022-06-09T08:20:49.996Z"
   },
   {
    "duration": 347,
    "start_time": "2022-06-09T08:21:04.030Z"
   },
   {
    "duration": 293,
    "start_time": "2022-06-09T08:21:13.501Z"
   },
   {
    "duration": 254,
    "start_time": "2022-06-09T08:21:34.374Z"
   },
   {
    "duration": 46,
    "start_time": "2022-06-09T08:21:43.983Z"
   },
   {
    "duration": 316,
    "start_time": "2022-06-09T08:21:49.981Z"
   },
   {
    "duration": 304,
    "start_time": "2022-06-09T08:22:47.120Z"
   },
   {
    "duration": 312,
    "start_time": "2022-06-09T08:30:04.010Z"
   },
   {
    "duration": 5,
    "start_time": "2022-06-09T08:49:47.919Z"
   },
   {
    "duration": 6,
    "start_time": "2022-06-09T08:54:56.607Z"
   },
   {
    "duration": 5,
    "start_time": "2022-06-09T09:05:40.899Z"
   },
   {
    "duration": 5,
    "start_time": "2022-06-09T09:06:57.296Z"
   },
   {
    "duration": 20,
    "start_time": "2022-06-09T09:11:39.980Z"
   },
   {
    "duration": 21,
    "start_time": "2022-06-09T09:13:03.377Z"
   },
   {
    "duration": 7,
    "start_time": "2022-06-09T09:17:44.448Z"
   },
   {
    "duration": 11,
    "start_time": "2022-06-09T09:17:58.489Z"
   },
   {
    "duration": 16,
    "start_time": "2022-06-09T09:18:27.684Z"
   },
   {
    "duration": 21,
    "start_time": "2022-06-09T09:19:24.980Z"
   },
   {
    "duration": 61,
    "start_time": "2022-06-09T09:20:23.148Z"
   },
   {
    "duration": 9,
    "start_time": "2022-06-09T09:20:39.220Z"
   },
   {
    "duration": 16,
    "start_time": "2022-06-09T09:22:26.789Z"
   },
   {
    "duration": 16,
    "start_time": "2022-06-09T09:25:54.958Z"
   },
   {
    "duration": 4,
    "start_time": "2022-06-09T09:26:16.553Z"
   },
   {
    "duration": 3,
    "start_time": "2022-06-09T09:26:29.854Z"
   },
   {
    "duration": 1635,
    "start_time": "2022-06-09T09:27:25.847Z"
   },
   {
    "duration": 1144,
    "start_time": "2022-06-09T09:27:27.501Z"
   },
   {
    "duration": 19,
    "start_time": "2022-06-09T09:27:28.648Z"
   },
   {
    "duration": 67,
    "start_time": "2022-06-09T09:27:28.671Z"
   },
   {
    "duration": 11,
    "start_time": "2022-06-09T09:27:28.740Z"
   },
   {
    "duration": 50,
    "start_time": "2022-06-09T09:27:28.753Z"
   },
   {
    "duration": 31,
    "start_time": "2022-06-09T09:27:28.805Z"
   },
   {
    "duration": 17,
    "start_time": "2022-06-09T09:27:28.839Z"
   },
   {
    "duration": 67,
    "start_time": "2022-06-09T09:27:28.862Z"
   },
   {
    "duration": 9,
    "start_time": "2022-06-09T09:27:28.933Z"
   },
   {
    "duration": 10,
    "start_time": "2022-06-09T09:27:28.944Z"
   },
   {
    "duration": 40,
    "start_time": "2022-06-09T09:27:28.955Z"
   },
   {
    "duration": 54,
    "start_time": "2022-06-09T09:27:28.998Z"
   },
   {
    "duration": 65,
    "start_time": "2022-06-09T09:27:29.055Z"
   },
   {
    "duration": 80,
    "start_time": "2022-06-09T09:27:29.122Z"
   },
   {
    "duration": 12,
    "start_time": "2022-06-09T09:27:29.221Z"
   },
   {
    "duration": 58,
    "start_time": "2022-06-09T09:27:29.236Z"
   },
   {
    "duration": 15,
    "start_time": "2022-06-09T09:27:29.313Z"
   },
   {
    "duration": 40,
    "start_time": "2022-06-09T09:27:29.330Z"
   },
   {
    "duration": 81,
    "start_time": "2022-06-09T09:27:29.372Z"
   },
   {
    "duration": 35,
    "start_time": "2022-06-09T09:27:29.455Z"
   },
   {
    "duration": 45,
    "start_time": "2022-06-09T09:27:29.492Z"
   },
   {
    "duration": 50,
    "start_time": "2022-06-09T09:27:29.540Z"
   },
   {
    "duration": 56,
    "start_time": "2022-06-09T09:27:29.599Z"
   },
   {
    "duration": 34,
    "start_time": "2022-06-09T09:27:29.658Z"
   },
   {
    "duration": 18,
    "start_time": "2022-06-09T09:27:29.693Z"
   },
   {
    "duration": 149,
    "start_time": "2022-06-09T09:27:29.713Z"
   },
   {
    "duration": 41,
    "start_time": "2022-06-09T09:27:29.868Z"
   },
   {
    "duration": 118,
    "start_time": "2022-06-09T09:27:29.911Z"
   },
   {
    "duration": 48,
    "start_time": "2022-06-09T09:27:30.031Z"
   },
   {
    "duration": 76,
    "start_time": "2022-06-09T09:27:30.081Z"
   },
   {
    "duration": 74,
    "start_time": "2022-06-09T09:27:30.168Z"
   },
   {
    "duration": 74,
    "start_time": "2022-06-09T09:27:30.245Z"
   },
   {
    "duration": 22,
    "start_time": "2022-06-09T09:27:30.323Z"
   },
   {
    "duration": 51,
    "start_time": "2022-06-09T09:27:30.347Z"
   },
   {
    "duration": 111,
    "start_time": "2022-06-09T09:27:30.404Z"
   },
   {
    "duration": 21,
    "start_time": "2022-06-09T09:27:30.518Z"
   },
   {
    "duration": 310,
    "start_time": "2022-06-09T09:27:30.542Z"
   },
   {
    "duration": 84,
    "start_time": "2022-06-09T09:27:30.854Z"
   },
   {
    "duration": 353,
    "start_time": "2022-06-09T09:27:30.940Z"
   },
   {
    "duration": 348,
    "start_time": "2022-06-09T09:27:31.294Z"
   },
   {
    "duration": 379,
    "start_time": "2022-06-09T09:27:31.644Z"
   },
   {
    "duration": 14,
    "start_time": "2022-06-09T09:27:32.026Z"
   },
   {
    "duration": 56,
    "start_time": "2022-06-09T09:27:32.042Z"
   },
   {
    "duration": 47,
    "start_time": "2022-06-09T09:27:32.104Z"
   },
   {
    "duration": 432,
    "start_time": "2022-06-09T09:27:32.154Z"
   },
   {
    "duration": 8,
    "start_time": "2022-06-09T09:27:32.588Z"
   },
   {
    "duration": 43,
    "start_time": "2022-06-09T09:27:32.598Z"
   },
   {
    "duration": 6,
    "start_time": "2022-06-09T09:27:32.643Z"
   },
   {
    "duration": 41,
    "start_time": "2022-06-09T09:27:32.651Z"
   },
   {
    "duration": 123,
    "start_time": "2022-06-09T09:27:32.695Z"
   },
   {
    "duration": 1677,
    "start_time": "2022-06-09T09:28:28.204Z"
   },
   {
    "duration": 766,
    "start_time": "2022-06-09T09:28:29.883Z"
   },
   {
    "duration": 43,
    "start_time": "2022-06-09T09:28:30.651Z"
   },
   {
    "duration": 28,
    "start_time": "2022-06-09T09:28:30.712Z"
   },
   {
    "duration": 27,
    "start_time": "2022-06-09T09:28:30.743Z"
   },
   {
    "duration": 84,
    "start_time": "2022-06-09T09:28:30.772Z"
   },
   {
    "duration": 85,
    "start_time": "2022-06-09T09:28:30.858Z"
   },
   {
    "duration": 56,
    "start_time": "2022-06-09T09:28:30.946Z"
   },
   {
    "duration": 28,
    "start_time": "2022-06-09T09:28:31.011Z"
   },
   {
    "duration": 14,
    "start_time": "2022-06-09T09:28:31.041Z"
   },
   {
    "duration": 81,
    "start_time": "2022-06-09T09:28:31.057Z"
   },
   {
    "duration": 16,
    "start_time": "2022-06-09T09:28:31.140Z"
   },
   {
    "duration": 81,
    "start_time": "2022-06-09T09:28:31.158Z"
   },
   {
    "duration": 78,
    "start_time": "2022-06-09T09:28:31.244Z"
   },
   {
    "duration": 72,
    "start_time": "2022-06-09T09:28:31.330Z"
   },
   {
    "duration": 15,
    "start_time": "2022-06-09T09:28:31.403Z"
   },
   {
    "duration": 106,
    "start_time": "2022-06-09T09:28:31.420Z"
   },
   {
    "duration": 23,
    "start_time": "2022-06-09T09:28:31.532Z"
   },
   {
    "duration": 82,
    "start_time": "2022-06-09T09:28:31.557Z"
   },
   {
    "duration": 37,
    "start_time": "2022-06-09T09:28:31.641Z"
   },
   {
    "duration": 51,
    "start_time": "2022-06-09T09:28:31.694Z"
   },
   {
    "duration": 8,
    "start_time": "2022-06-09T09:28:31.747Z"
   },
   {
    "duration": 78,
    "start_time": "2022-06-09T09:28:31.756Z"
   },
   {
    "duration": 87,
    "start_time": "2022-06-09T09:28:31.836Z"
   },
   {
    "duration": 53,
    "start_time": "2022-06-09T09:28:31.925Z"
   },
   {
    "duration": 35,
    "start_time": "2022-06-09T09:28:31.988Z"
   },
   {
    "duration": 114,
    "start_time": "2022-06-09T09:28:32.028Z"
   },
   {
    "duration": 71,
    "start_time": "2022-06-09T09:28:32.146Z"
   },
   {
    "duration": 75,
    "start_time": "2022-06-09T09:28:32.223Z"
   },
   {
    "duration": 37,
    "start_time": "2022-06-09T09:28:32.301Z"
   },
   {
    "duration": 112,
    "start_time": "2022-06-09T09:28:32.342Z"
   },
   {
    "duration": 130,
    "start_time": "2022-06-09T09:28:32.456Z"
   },
   {
    "duration": 57,
    "start_time": "2022-06-09T09:28:32.589Z"
   },
   {
    "duration": 31,
    "start_time": "2022-06-09T09:28:32.649Z"
   },
   {
    "duration": 126,
    "start_time": "2022-06-09T09:28:32.682Z"
   },
   {
    "duration": 162,
    "start_time": "2022-06-09T09:28:32.810Z"
   },
   {
    "duration": 69,
    "start_time": "2022-06-09T09:28:32.984Z"
   },
   {
    "duration": 419,
    "start_time": "2022-06-09T09:28:33.055Z"
   },
   {
    "duration": 39,
    "start_time": "2022-06-09T09:28:33.479Z"
   },
   {
    "duration": 460,
    "start_time": "2022-06-09T09:28:33.523Z"
   },
   {
    "duration": 440,
    "start_time": "2022-06-09T09:28:33.991Z"
   },
   {
    "duration": 381,
    "start_time": "2022-06-09T09:28:34.433Z"
   },
   {
    "duration": 10,
    "start_time": "2022-06-09T09:28:34.819Z"
   },
   {
    "duration": 57,
    "start_time": "2022-06-09T09:28:34.833Z"
   },
   {
    "duration": 36,
    "start_time": "2022-06-09T09:28:34.903Z"
   },
   {
    "duration": 368,
    "start_time": "2022-06-09T09:28:34.941Z"
   },
   {
    "duration": 4,
    "start_time": "2022-06-09T09:28:35.311Z"
   },
   {
    "duration": 28,
    "start_time": "2022-06-09T09:28:35.326Z"
   },
   {
    "duration": 57,
    "start_time": "2022-06-09T09:28:35.356Z"
   },
   {
    "duration": 38,
    "start_time": "2022-06-09T09:28:35.416Z"
   },
   {
    "duration": 90,
    "start_time": "2022-06-09T09:28:35.455Z"
   },
   {
    "duration": 475,
    "start_time": "2022-06-09T09:40:37.412Z"
   },
   {
    "duration": 4,
    "start_time": "2022-06-09T09:52:04.679Z"
   },
   {
    "duration": 13,
    "start_time": "2022-06-09T09:54:32.083Z"
   },
   {
    "duration": 6,
    "start_time": "2022-06-09T09:54:43.105Z"
   },
   {
    "duration": 3,
    "start_time": "2022-06-09T09:55:40.316Z"
   },
   {
    "duration": 9,
    "start_time": "2022-06-09T10:00:24.703Z"
   },
   {
    "duration": 12,
    "start_time": "2022-06-09T10:00:40.086Z"
   },
   {
    "duration": 349,
    "start_time": "2022-06-09T10:03:20.819Z"
   },
   {
    "duration": 4,
    "start_time": "2022-06-09T10:06:25.348Z"
   },
   {
    "duration": 5,
    "start_time": "2022-06-09T10:08:00.187Z"
   },
   {
    "duration": 3,
    "start_time": "2022-06-09T10:09:14.386Z"
   },
   {
    "duration": 9,
    "start_time": "2022-06-09T10:10:59.619Z"
   },
   {
    "duration": 1157,
    "start_time": "2022-06-09T10:47:34.702Z"
   },
   {
    "duration": 1317,
    "start_time": "2022-06-09T10:47:35.861Z"
   },
   {
    "duration": 22,
    "start_time": "2022-06-09T10:47:37.183Z"
   },
   {
    "duration": 11,
    "start_time": "2022-06-09T10:47:37.209Z"
   },
   {
    "duration": 12,
    "start_time": "2022-06-09T10:47:37.222Z"
   },
   {
    "duration": 14,
    "start_time": "2022-06-09T10:47:37.236Z"
   },
   {
    "duration": 60,
    "start_time": "2022-06-09T10:47:37.252Z"
   },
   {
    "duration": 20,
    "start_time": "2022-06-09T10:47:37.315Z"
   },
   {
    "duration": 19,
    "start_time": "2022-06-09T10:47:37.337Z"
   },
   {
    "duration": 63,
    "start_time": "2022-06-09T10:47:37.359Z"
   },
   {
    "duration": 19,
    "start_time": "2022-06-09T10:47:37.424Z"
   },
   {
    "duration": 10,
    "start_time": "2022-06-09T10:47:37.445Z"
   },
   {
    "duration": 59,
    "start_time": "2022-06-09T10:47:37.457Z"
   },
   {
    "duration": 32,
    "start_time": "2022-06-09T10:47:37.518Z"
   },
   {
    "duration": 97,
    "start_time": "2022-06-09T10:47:37.553Z"
   },
   {
    "duration": 10,
    "start_time": "2022-06-09T10:47:37.652Z"
   },
   {
    "duration": 58,
    "start_time": "2022-06-09T10:47:37.664Z"
   },
   {
    "duration": 6,
    "start_time": "2022-06-09T10:47:37.723Z"
   },
   {
    "duration": 29,
    "start_time": "2022-06-09T10:47:37.730Z"
   },
   {
    "duration": 36,
    "start_time": "2022-06-09T10:47:37.762Z"
   },
   {
    "duration": 28,
    "start_time": "2022-06-09T10:47:37.800Z"
   },
   {
    "duration": 6,
    "start_time": "2022-06-09T10:47:37.830Z"
   },
   {
    "duration": 53,
    "start_time": "2022-06-09T10:47:37.837Z"
   },
   {
    "duration": 37,
    "start_time": "2022-06-09T10:47:37.894Z"
   },
   {
    "duration": 18,
    "start_time": "2022-06-09T10:47:37.932Z"
   },
   {
    "duration": 6,
    "start_time": "2022-06-09T10:47:37.951Z"
   },
   {
    "duration": 100,
    "start_time": "2022-06-09T10:47:37.961Z"
   },
   {
    "duration": 46,
    "start_time": "2022-06-09T10:47:38.074Z"
   },
   {
    "duration": 34,
    "start_time": "2022-06-09T10:47:38.122Z"
   },
   {
    "duration": 21,
    "start_time": "2022-06-09T10:47:38.157Z"
   },
   {
    "duration": 21,
    "start_time": "2022-06-09T10:47:38.179Z"
   },
   {
    "duration": 33,
    "start_time": "2022-06-09T10:47:38.205Z"
   },
   {
    "duration": 32,
    "start_time": "2022-06-09T10:47:38.240Z"
   },
   {
    "duration": 12,
    "start_time": "2022-06-09T10:47:38.274Z"
   },
   {
    "duration": 31,
    "start_time": "2022-06-09T10:47:38.289Z"
   },
   {
    "duration": 14,
    "start_time": "2022-06-09T10:47:38.321Z"
   },
   {
    "duration": 5,
    "start_time": "2022-06-09T10:47:38.336Z"
   },
   {
    "duration": 160,
    "start_time": "2022-06-09T10:47:38.342Z"
   },
   {
    "duration": 22,
    "start_time": "2022-06-09T10:47:38.505Z"
   },
   {
    "duration": 273,
    "start_time": "2022-06-09T10:47:38.528Z"
   },
   {
    "duration": 250,
    "start_time": "2022-06-09T10:47:38.803Z"
   },
   {
    "duration": 244,
    "start_time": "2022-06-09T10:47:39.058Z"
   },
   {
    "duration": 11,
    "start_time": "2022-06-09T10:47:39.305Z"
   },
   {
    "duration": 19,
    "start_time": "2022-06-09T10:47:39.318Z"
   },
   {
    "duration": 51,
    "start_time": "2022-06-09T10:47:39.339Z"
   },
   {
    "duration": 297,
    "start_time": "2022-06-09T10:47:39.395Z"
   },
   {
    "duration": 10,
    "start_time": "2022-06-09T10:47:39.694Z"
   },
   {
    "duration": 20,
    "start_time": "2022-06-09T10:47:39.706Z"
   },
   {
    "duration": 19,
    "start_time": "2022-06-09T10:47:39.727Z"
   },
   {
    "duration": 50,
    "start_time": "2022-06-09T10:47:39.747Z"
   },
   {
    "duration": 245,
    "start_time": "2022-06-09T10:47:39.799Z"
   },
   {
    "duration": 4,
    "start_time": "2022-06-09T10:47:40.046Z"
   },
   {
    "duration": 54,
    "start_time": "2022-06-09T10:47:40.062Z"
   },
   {
    "duration": 22,
    "start_time": "2022-06-09T10:47:40.118Z"
   },
   {
    "duration": 13,
    "start_time": "2022-06-09T10:47:40.142Z"
   },
   {
    "duration": 317,
    "start_time": "2022-06-09T10:47:40.157Z"
   },
   {
    "duration": 5,
    "start_time": "2022-06-09T10:47:40.478Z"
   },
   {
    "duration": 26,
    "start_time": "2022-06-09T10:47:40.491Z"
   },
   {
    "duration": 21,
    "start_time": "2022-06-09T10:47:40.518Z"
   },
   {
    "duration": 54,
    "start_time": "2022-06-09T10:47:40.541Z"
   },
   {
    "duration": 70,
    "start_time": "2022-06-09T10:47:40.596Z"
   },
   {
    "duration": 52,
    "start_time": "2022-06-09T13:40:57.030Z"
   },
   {
    "duration": 1267,
    "start_time": "2022-06-09T13:41:09.593Z"
   },
   {
    "duration": 1165,
    "start_time": "2022-06-09T13:41:10.862Z"
   },
   {
    "duration": 18,
    "start_time": "2022-06-09T13:41:12.030Z"
   },
   {
    "duration": 13,
    "start_time": "2022-06-09T13:41:12.051Z"
   },
   {
    "duration": 22,
    "start_time": "2022-06-09T13:41:12.065Z"
   },
   {
    "duration": 13,
    "start_time": "2022-06-09T13:41:12.089Z"
   },
   {
    "duration": 18,
    "start_time": "2022-06-09T13:41:12.104Z"
   },
   {
    "duration": 21,
    "start_time": "2022-06-09T13:41:12.123Z"
   },
   {
    "duration": 14,
    "start_time": "2022-06-09T13:41:12.146Z"
   },
   {
    "duration": 16,
    "start_time": "2022-06-09T13:41:12.163Z"
   },
   {
    "duration": 11,
    "start_time": "2022-06-09T13:41:12.181Z"
   },
   {
    "duration": 15,
    "start_time": "2022-06-09T13:41:12.194Z"
   },
   {
    "duration": 8,
    "start_time": "2022-06-09T13:41:12.211Z"
   },
   {
    "duration": 31,
    "start_time": "2022-06-09T13:41:12.221Z"
   },
   {
    "duration": 37,
    "start_time": "2022-06-09T13:41:12.254Z"
   },
   {
    "duration": 8,
    "start_time": "2022-06-09T13:41:12.293Z"
   },
   {
    "duration": 29,
    "start_time": "2022-06-09T13:41:12.302Z"
   },
   {
    "duration": 30,
    "start_time": "2022-06-09T13:41:12.332Z"
   },
   {
    "duration": 20,
    "start_time": "2022-06-09T13:41:12.364Z"
   },
   {
    "duration": 24,
    "start_time": "2022-06-09T13:41:12.387Z"
   },
   {
    "duration": 45,
    "start_time": "2022-06-09T13:41:12.413Z"
   },
   {
    "duration": 8,
    "start_time": "2022-06-09T13:41:12.460Z"
   },
   {
    "duration": 24,
    "start_time": "2022-06-09T13:41:12.470Z"
   },
   {
    "duration": 31,
    "start_time": "2022-06-09T13:41:12.495Z"
   },
   {
    "duration": 45,
    "start_time": "2022-06-09T13:41:12.528Z"
   },
   {
    "duration": 7,
    "start_time": "2022-06-09T13:41:12.575Z"
   },
   {
    "duration": 82,
    "start_time": "2022-06-09T13:41:12.583Z"
   },
   {
    "duration": 21,
    "start_time": "2022-06-09T13:41:12.669Z"
   },
   {
    "duration": 44,
    "start_time": "2022-06-09T13:41:12.692Z"
   },
   {
    "duration": 26,
    "start_time": "2022-06-09T13:41:12.738Z"
   },
   {
    "duration": 31,
    "start_time": "2022-06-09T13:41:12.765Z"
   },
   {
    "duration": 27,
    "start_time": "2022-06-09T13:41:12.798Z"
   },
   {
    "duration": 49,
    "start_time": "2022-06-09T13:41:12.827Z"
   },
   {
    "duration": 12,
    "start_time": "2022-06-09T13:41:12.878Z"
   },
   {
    "duration": 9,
    "start_time": "2022-06-09T13:41:12.892Z"
   },
   {
    "duration": 15,
    "start_time": "2022-06-09T13:41:12.902Z"
   },
   {
    "duration": 6,
    "start_time": "2022-06-09T13:41:12.918Z"
   },
   {
    "duration": 136,
    "start_time": "2022-06-09T13:41:12.958Z"
   },
   {
    "duration": 24,
    "start_time": "2022-06-09T13:41:13.096Z"
   },
   {
    "duration": 256,
    "start_time": "2022-06-09T13:41:13.122Z"
   },
   {
    "duration": 247,
    "start_time": "2022-06-09T13:41:13.380Z"
   },
   {
    "duration": 242,
    "start_time": "2022-06-09T13:41:13.629Z"
   },
   {
    "duration": 10,
    "start_time": "2022-06-09T13:41:13.872Z"
   },
   {
    "duration": 25,
    "start_time": "2022-06-09T13:41:13.884Z"
   },
   {
    "duration": 19,
    "start_time": "2022-06-09T13:41:13.910Z"
   },
   {
    "duration": 268,
    "start_time": "2022-06-09T13:41:13.931Z"
   },
   {
    "duration": 4,
    "start_time": "2022-06-09T13:41:14.201Z"
   },
   {
    "duration": 7,
    "start_time": "2022-06-09T13:41:14.207Z"
   },
   {
    "duration": 5,
    "start_time": "2022-06-09T13:41:14.216Z"
   },
   {
    "duration": 11,
    "start_time": "2022-06-09T13:41:14.222Z"
   },
   {
    "duration": 229,
    "start_time": "2022-06-09T13:41:14.235Z"
   },
   {
    "duration": 4,
    "start_time": "2022-06-09T13:41:14.466Z"
   },
   {
    "duration": 8,
    "start_time": "2022-06-09T13:41:14.472Z"
   },
   {
    "duration": 7,
    "start_time": "2022-06-09T13:41:14.482Z"
   },
   {
    "duration": 17,
    "start_time": "2022-06-09T13:41:14.490Z"
   },
   {
    "duration": 256,
    "start_time": "2022-06-09T13:41:14.509Z"
   },
   {
    "duration": 4,
    "start_time": "2022-06-09T13:41:14.767Z"
   },
   {
    "duration": 13,
    "start_time": "2022-06-09T13:41:14.773Z"
   },
   {
    "duration": 13,
    "start_time": "2022-06-09T13:41:14.788Z"
   },
   {
    "duration": 13,
    "start_time": "2022-06-09T13:41:14.803Z"
   },
   {
    "duration": 251,
    "start_time": "2022-06-09T13:41:14.818Z"
   },
   {
    "duration": 25,
    "start_time": "2022-06-09T13:41:15.071Z"
   },
   {
    "duration": 139,
    "start_time": "2022-06-09T13:42:59.694Z"
   },
   {
    "duration": 3,
    "start_time": "2022-06-09T14:21:02.720Z"
   },
   {
    "duration": 3,
    "start_time": "2022-06-09T14:21:06.414Z"
   },
   {
    "duration": 3,
    "start_time": "2022-06-09T14:21:13.314Z"
   },
   {
    "duration": 8,
    "start_time": "2022-06-09T14:25:25.107Z"
   },
   {
    "duration": 6,
    "start_time": "2022-06-09T14:25:58.707Z"
   },
   {
    "duration": 5,
    "start_time": "2022-06-09T14:26:42.664Z"
   },
   {
    "duration": 5,
    "start_time": "2022-06-09T14:26:57.168Z"
   },
   {
    "duration": 1001,
    "start_time": "2022-06-09T14:28:38.308Z"
   },
   {
    "duration": 423,
    "start_time": "2022-06-09T14:28:39.311Z"
   },
   {
    "duration": 15,
    "start_time": "2022-06-09T14:28:39.735Z"
   },
   {
    "duration": 9,
    "start_time": "2022-06-09T14:28:39.751Z"
   },
   {
    "duration": 10,
    "start_time": "2022-06-09T14:28:39.762Z"
   },
   {
    "duration": 18,
    "start_time": "2022-06-09T14:28:39.774Z"
   },
   {
    "duration": 9,
    "start_time": "2022-06-09T14:28:39.794Z"
   },
   {
    "duration": 29,
    "start_time": "2022-06-09T14:28:39.805Z"
   },
   {
    "duration": 9,
    "start_time": "2022-06-09T14:28:39.836Z"
   },
   {
    "duration": 12,
    "start_time": "2022-06-09T14:28:39.847Z"
   },
   {
    "duration": 10,
    "start_time": "2022-06-09T14:28:39.861Z"
   },
   {
    "duration": 20,
    "start_time": "2022-06-09T14:28:39.873Z"
   },
   {
    "duration": 13,
    "start_time": "2022-06-09T14:28:39.894Z"
   },
   {
    "duration": 48,
    "start_time": "2022-06-09T14:28:39.910Z"
   },
   {
    "duration": 36,
    "start_time": "2022-06-09T14:28:39.960Z"
   },
   {
    "duration": 8,
    "start_time": "2022-06-09T14:28:39.998Z"
   },
   {
    "duration": 31,
    "start_time": "2022-06-09T14:28:40.008Z"
   },
   {
    "duration": 22,
    "start_time": "2022-06-09T14:28:40.041Z"
   },
   {
    "duration": 33,
    "start_time": "2022-06-09T14:28:40.065Z"
   },
   {
    "duration": 24,
    "start_time": "2022-06-09T14:28:40.099Z"
   },
   {
    "duration": 42,
    "start_time": "2022-06-09T14:28:40.125Z"
   },
   {
    "duration": 6,
    "start_time": "2022-06-09T14:28:40.169Z"
   },
   {
    "duration": 23,
    "start_time": "2022-06-09T14:28:40.177Z"
   },
   {
    "duration": 60,
    "start_time": "2022-06-09T14:28:40.201Z"
   },
   {
    "duration": 20,
    "start_time": "2022-06-09T14:28:40.262Z"
   },
   {
    "duration": 6,
    "start_time": "2022-06-09T14:28:40.284Z"
   },
   {
    "duration": 78,
    "start_time": "2022-06-09T14:28:40.291Z"
   },
   {
    "duration": 21,
    "start_time": "2022-06-09T14:28:40.371Z"
   },
   {
    "duration": 44,
    "start_time": "2022-06-09T14:28:40.394Z"
   },
   {
    "duration": 21,
    "start_time": "2022-06-09T14:28:40.440Z"
   },
   {
    "duration": 67,
    "start_time": "2022-06-09T14:28:40.462Z"
   },
   {
    "duration": 27,
    "start_time": "2022-06-09T14:28:40.530Z"
   },
   {
    "duration": 27,
    "start_time": "2022-06-09T14:28:40.559Z"
   },
   {
    "duration": 9,
    "start_time": "2022-06-09T14:28:40.588Z"
   },
   {
    "duration": 9,
    "start_time": "2022-06-09T14:28:40.599Z"
   },
   {
    "duration": 15,
    "start_time": "2022-06-09T14:28:40.609Z"
   },
   {
    "duration": 8,
    "start_time": "2022-06-09T14:28:40.626Z"
   },
   {
    "duration": 144,
    "start_time": "2022-06-09T14:28:40.635Z"
   },
   {
    "duration": 24,
    "start_time": "2022-06-09T14:28:40.781Z"
   },
   {
    "duration": 250,
    "start_time": "2022-06-09T14:28:40.806Z"
   },
   {
    "duration": 230,
    "start_time": "2022-06-09T14:28:41.060Z"
   },
   {
    "duration": 222,
    "start_time": "2022-06-09T14:28:41.291Z"
   },
   {
    "duration": 10,
    "start_time": "2022-06-09T14:28:41.515Z"
   },
   {
    "duration": 32,
    "start_time": "2022-06-09T14:28:41.527Z"
   },
   {
    "duration": 19,
    "start_time": "2022-06-09T14:28:41.561Z"
   },
   {
    "duration": 268,
    "start_time": "2022-06-09T14:28:41.581Z"
   },
   {
    "duration": 10,
    "start_time": "2022-06-09T14:28:41.851Z"
   },
   {
    "duration": 13,
    "start_time": "2022-06-09T14:28:41.865Z"
   },
   {
    "duration": 22,
    "start_time": "2022-06-09T14:28:41.881Z"
   },
   {
    "duration": 33,
    "start_time": "2022-06-09T14:28:41.905Z"
   },
   {
    "duration": 246,
    "start_time": "2022-06-09T14:28:41.940Z"
   },
   {
    "duration": 4,
    "start_time": "2022-06-09T14:28:42.188Z"
   },
   {
    "duration": 8,
    "start_time": "2022-06-09T14:28:42.194Z"
   },
   {
    "duration": 8,
    "start_time": "2022-06-09T14:28:42.204Z"
   },
   {
    "duration": 30,
    "start_time": "2022-06-09T14:28:42.214Z"
   },
   {
    "duration": 208,
    "start_time": "2022-06-09T14:28:42.246Z"
   },
   {
    "duration": 5,
    "start_time": "2022-06-09T14:28:42.455Z"
   },
   {
    "duration": 14,
    "start_time": "2022-06-09T14:28:42.462Z"
   },
   {
    "duration": 10,
    "start_time": "2022-06-09T14:28:42.478Z"
   },
   {
    "duration": 11,
    "start_time": "2022-06-09T14:28:42.490Z"
   },
   {
    "duration": 9,
    "start_time": "2022-06-09T14:28:42.503Z"
   },
   {
    "duration": 23,
    "start_time": "2022-06-09T14:28:42.514Z"
   },
   {
    "duration": 109,
    "start_time": "2022-06-09T14:29:03.959Z"
   },
   {
    "duration": 6,
    "start_time": "2022-06-09T14:29:11.161Z"
   },
   {
    "duration": 4,
    "start_time": "2022-06-09T14:30:11.481Z"
   },
   {
    "duration": 5,
    "start_time": "2022-06-09T14:30:25.907Z"
   },
   {
    "duration": 6,
    "start_time": "2022-06-09T14:31:19.959Z"
   },
   {
    "duration": 7,
    "start_time": "2022-06-09T14:31:44.857Z"
   },
   {
    "duration": 5,
    "start_time": "2022-06-09T15:06:41.876Z"
   },
   {
    "duration": 5,
    "start_time": "2022-06-09T15:11:33.007Z"
   },
   {
    "duration": 1163,
    "start_time": "2022-06-09T15:14:11.819Z"
   },
   {
    "duration": 463,
    "start_time": "2022-06-09T15:14:12.984Z"
   },
   {
    "duration": 19,
    "start_time": "2022-06-09T15:14:13.449Z"
   },
   {
    "duration": 17,
    "start_time": "2022-06-09T15:14:13.471Z"
   },
   {
    "duration": 11,
    "start_time": "2022-06-09T15:14:13.490Z"
   },
   {
    "duration": 19,
    "start_time": "2022-06-09T15:14:13.502Z"
   },
   {
    "duration": 10,
    "start_time": "2022-06-09T15:14:13.522Z"
   },
   {
    "duration": 13,
    "start_time": "2022-06-09T15:14:13.534Z"
   },
   {
    "duration": 9,
    "start_time": "2022-06-09T15:14:13.561Z"
   },
   {
    "duration": 13,
    "start_time": "2022-06-09T15:14:13.572Z"
   },
   {
    "duration": 9,
    "start_time": "2022-06-09T15:14:13.586Z"
   },
   {
    "duration": 6,
    "start_time": "2022-06-09T15:14:13.597Z"
   },
   {
    "duration": 14,
    "start_time": "2022-06-09T15:14:13.605Z"
   },
   {
    "duration": 56,
    "start_time": "2022-06-09T15:14:13.623Z"
   },
   {
    "duration": 43,
    "start_time": "2022-06-09T15:14:13.681Z"
   },
   {
    "duration": 9,
    "start_time": "2022-06-09T15:14:13.726Z"
   },
   {
    "duration": 26,
    "start_time": "2022-06-09T15:14:13.758Z"
   },
   {
    "duration": 7,
    "start_time": "2022-06-09T15:14:13.786Z"
   },
   {
    "duration": 33,
    "start_time": "2022-06-09T15:14:13.795Z"
   },
   {
    "duration": 42,
    "start_time": "2022-06-09T15:14:13.831Z"
   },
   {
    "duration": 17,
    "start_time": "2022-06-09T15:14:13.875Z"
   },
   {
    "duration": 6,
    "start_time": "2022-06-09T15:14:13.894Z"
   },
   {
    "duration": 55,
    "start_time": "2022-06-09T15:14:13.902Z"
   },
   {
    "duration": 37,
    "start_time": "2022-06-09T15:14:13.959Z"
   },
   {
    "duration": 26,
    "start_time": "2022-06-09T15:14:13.998Z"
   },
   {
    "duration": 7,
    "start_time": "2022-06-09T15:14:14.026Z"
   },
   {
    "duration": 74,
    "start_time": "2022-06-09T15:14:14.034Z"
   },
   {
    "duration": 22,
    "start_time": "2022-06-09T15:14:14.109Z"
   },
   {
    "duration": 48,
    "start_time": "2022-06-09T15:14:14.133Z"
   },
   {
    "duration": 16,
    "start_time": "2022-06-09T15:14:14.182Z"
   },
   {
    "duration": 22,
    "start_time": "2022-06-09T15:14:14.200Z"
   },
   {
    "duration": 49,
    "start_time": "2022-06-09T15:14:14.224Z"
   },
   {
    "duration": 30,
    "start_time": "2022-06-09T15:14:14.275Z"
   },
   {
    "duration": 11,
    "start_time": "2022-06-09T15:14:14.307Z"
   },
   {
    "duration": 10,
    "start_time": "2022-06-09T15:14:14.320Z"
   },
   {
    "duration": 37,
    "start_time": "2022-06-09T15:14:14.332Z"
   },
   {
    "duration": 5,
    "start_time": "2022-06-09T15:14:14.372Z"
   },
   {
    "duration": 147,
    "start_time": "2022-06-09T15:14:14.379Z"
   },
   {
    "duration": 34,
    "start_time": "2022-06-09T15:14:14.528Z"
   },
   {
    "duration": 266,
    "start_time": "2022-06-09T15:14:14.563Z"
   },
   {
    "duration": 244,
    "start_time": "2022-06-09T15:14:14.833Z"
   },
   {
    "duration": 231,
    "start_time": "2022-06-09T15:14:15.079Z"
   },
   {
    "duration": 10,
    "start_time": "2022-06-09T15:14:15.311Z"
   },
   {
    "duration": 25,
    "start_time": "2022-06-09T15:14:15.322Z"
   },
   {
    "duration": 30,
    "start_time": "2022-06-09T15:14:15.348Z"
   },
   {
    "duration": 250,
    "start_time": "2022-06-09T15:14:15.380Z"
   },
   {
    "duration": 4,
    "start_time": "2022-06-09T15:14:15.632Z"
   },
   {
    "duration": 10,
    "start_time": "2022-06-09T15:14:15.638Z"
   },
   {
    "duration": 11,
    "start_time": "2022-06-09T15:14:15.650Z"
   },
   {
    "duration": 21,
    "start_time": "2022-06-09T15:14:15.662Z"
   },
   {
    "duration": 215,
    "start_time": "2022-06-09T15:14:15.684Z"
   },
   {
    "duration": 4,
    "start_time": "2022-06-09T15:14:15.901Z"
   },
   {
    "duration": 16,
    "start_time": "2022-06-09T15:14:15.907Z"
   },
   {
    "duration": 21,
    "start_time": "2022-06-09T15:14:15.925Z"
   },
   {
    "duration": 21,
    "start_time": "2022-06-09T15:14:15.948Z"
   },
   {
    "duration": 231,
    "start_time": "2022-06-09T15:14:15.970Z"
   },
   {
    "duration": 4,
    "start_time": "2022-06-09T15:14:16.203Z"
   },
   {
    "duration": 7,
    "start_time": "2022-06-09T15:14:16.209Z"
   },
   {
    "duration": 5,
    "start_time": "2022-06-09T15:14:16.218Z"
   },
   {
    "duration": 18,
    "start_time": "2022-06-09T15:14:16.225Z"
   },
   {
    "duration": 6,
    "start_time": "2022-06-09T15:14:16.258Z"
   },
   {
    "duration": 12,
    "start_time": "2022-06-09T15:14:16.265Z"
   },
   {
    "duration": 37,
    "start_time": "2022-06-09T15:14:16.279Z"
   },
   {
    "duration": 5,
    "start_time": "2022-06-09T15:21:34.906Z"
   },
   {
    "duration": 9,
    "start_time": "2022-06-09T15:35:17.850Z"
   },
   {
    "duration": 9,
    "start_time": "2022-06-09T15:44:35.193Z"
   },
   {
    "duration": 5,
    "start_time": "2022-06-09T15:45:54.004Z"
   },
   {
    "duration": 1285,
    "start_time": "2022-06-09T15:46:20.644Z"
   },
   {
    "duration": 558,
    "start_time": "2022-06-09T15:46:21.931Z"
   },
   {
    "duration": 16,
    "start_time": "2022-06-09T15:46:22.490Z"
   },
   {
    "duration": 8,
    "start_time": "2022-06-09T15:46:22.508Z"
   },
   {
    "duration": 9,
    "start_time": "2022-06-09T15:46:22.519Z"
   },
   {
    "duration": 11,
    "start_time": "2022-06-09T15:46:22.529Z"
   },
   {
    "duration": 21,
    "start_time": "2022-06-09T15:46:22.542Z"
   },
   {
    "duration": 18,
    "start_time": "2022-06-09T15:46:22.565Z"
   },
   {
    "duration": 7,
    "start_time": "2022-06-09T15:46:22.585Z"
   },
   {
    "duration": 7,
    "start_time": "2022-06-09T15:46:22.594Z"
   },
   {
    "duration": 7,
    "start_time": "2022-06-09T15:46:22.603Z"
   },
   {
    "duration": 10,
    "start_time": "2022-06-09T15:46:22.612Z"
   },
   {
    "duration": 40,
    "start_time": "2022-06-09T15:46:22.624Z"
   },
   {
    "duration": 28,
    "start_time": "2022-06-09T15:46:22.667Z"
   },
   {
    "duration": 41,
    "start_time": "2022-06-09T15:46:22.697Z"
   },
   {
    "duration": 27,
    "start_time": "2022-06-09T15:46:22.740Z"
   },
   {
    "duration": 31,
    "start_time": "2022-06-09T15:46:22.769Z"
   },
   {
    "duration": 7,
    "start_time": "2022-06-09T15:46:22.802Z"
   },
   {
    "duration": 53,
    "start_time": "2022-06-09T15:46:22.810Z"
   },
   {
    "duration": 24,
    "start_time": "2022-06-09T15:46:22.865Z"
   },
   {
    "duration": 17,
    "start_time": "2022-06-09T15:46:22.891Z"
   },
   {
    "duration": 6,
    "start_time": "2022-06-09T15:46:22.910Z"
   },
   {
    "duration": 53,
    "start_time": "2022-06-09T15:46:22.918Z"
   },
   {
    "duration": 34,
    "start_time": "2022-06-09T15:46:22.973Z"
   },
   {
    "duration": 29,
    "start_time": "2022-06-09T15:46:23.009Z"
   },
   {
    "duration": 22,
    "start_time": "2022-06-09T15:46:23.041Z"
   },
   {
    "duration": 102,
    "start_time": "2022-06-09T15:46:23.066Z"
   },
   {
    "duration": 22,
    "start_time": "2022-06-09T15:46:23.170Z"
   },
   {
    "duration": 37,
    "start_time": "2022-06-09T15:46:23.194Z"
   },
   {
    "duration": 36,
    "start_time": "2022-06-09T15:46:23.233Z"
   },
   {
    "duration": 21,
    "start_time": "2022-06-09T15:46:23.271Z"
   },
   {
    "duration": 28,
    "start_time": "2022-06-09T15:46:23.294Z"
   },
   {
    "duration": 56,
    "start_time": "2022-06-09T15:46:23.324Z"
   },
   {
    "duration": 11,
    "start_time": "2022-06-09T15:46:23.382Z"
   },
   {
    "duration": 18,
    "start_time": "2022-06-09T15:46:23.395Z"
   },
   {
    "duration": 41,
    "start_time": "2022-06-09T15:46:23.415Z"
   },
   {
    "duration": 6,
    "start_time": "2022-06-09T15:46:23.458Z"
   },
   {
    "duration": 178,
    "start_time": "2022-06-09T15:46:23.466Z"
   },
   {
    "duration": 27,
    "start_time": "2022-06-09T15:46:23.646Z"
   },
   {
    "duration": 282,
    "start_time": "2022-06-09T15:46:23.675Z"
   },
   {
    "duration": 245,
    "start_time": "2022-06-09T15:46:23.961Z"
   },
   {
    "duration": 231,
    "start_time": "2022-06-09T15:46:24.207Z"
   },
   {
    "duration": 9,
    "start_time": "2022-06-09T15:46:24.440Z"
   },
   {
    "duration": 24,
    "start_time": "2022-06-09T15:46:24.459Z"
   },
   {
    "duration": 21,
    "start_time": "2022-06-09T15:46:24.484Z"
   },
   {
    "duration": 255,
    "start_time": "2022-06-09T15:46:24.507Z"
   },
   {
    "duration": 4,
    "start_time": "2022-06-09T15:46:24.763Z"
   },
   {
    "duration": 13,
    "start_time": "2022-06-09T15:46:24.769Z"
   },
   {
    "duration": 15,
    "start_time": "2022-06-09T15:46:24.784Z"
   },
   {
    "duration": 42,
    "start_time": "2022-06-09T15:46:24.801Z"
   },
   {
    "duration": 223,
    "start_time": "2022-06-09T15:46:24.845Z"
   },
   {
    "duration": 5,
    "start_time": "2022-06-09T15:46:25.069Z"
   },
   {
    "duration": 28,
    "start_time": "2022-06-09T15:46:25.075Z"
   },
   {
    "duration": 19,
    "start_time": "2022-06-09T15:46:25.105Z"
   },
   {
    "duration": 40,
    "start_time": "2022-06-09T15:46:25.126Z"
   },
   {
    "duration": 245,
    "start_time": "2022-06-09T15:46:25.168Z"
   },
   {
    "duration": 4,
    "start_time": "2022-06-09T15:46:25.415Z"
   },
   {
    "duration": 33,
    "start_time": "2022-06-09T15:46:25.421Z"
   },
   {
    "duration": 17,
    "start_time": "2022-06-09T15:46:25.456Z"
   },
   {
    "duration": 23,
    "start_time": "2022-06-09T15:46:25.475Z"
   },
   {
    "duration": 23,
    "start_time": "2022-06-09T15:46:25.500Z"
   },
   {
    "duration": 25,
    "start_time": "2022-06-09T15:46:25.525Z"
   },
   {
    "duration": 33,
    "start_time": "2022-06-09T15:46:25.551Z"
   },
   {
    "duration": 17,
    "start_time": "2022-06-09T15:46:25.586Z"
   },
   {
    "duration": 57,
    "start_time": "2022-06-09T15:46:25.605Z"
   },
   {
    "duration": 5,
    "start_time": "2022-06-09T15:48:36.703Z"
   },
   {
    "duration": 5,
    "start_time": "2022-06-09T15:49:26.860Z"
   },
   {
    "duration": 7,
    "start_time": "2022-06-09T15:49:34.113Z"
   },
   {
    "duration": 6,
    "start_time": "2022-06-09T15:50:48.599Z"
   },
   {
    "duration": 5,
    "start_time": "2022-06-09T15:50:54.099Z"
   },
   {
    "duration": 10,
    "start_time": "2022-06-09T15:50:58.208Z"
   },
   {
    "duration": 6,
    "start_time": "2022-06-09T15:52:13.012Z"
   },
   {
    "duration": 5,
    "start_time": "2022-06-09T15:52:28.301Z"
   },
   {
    "duration": 7,
    "start_time": "2022-06-09T15:52:55.091Z"
   },
   {
    "duration": 5,
    "start_time": "2022-06-09T15:53:17.503Z"
   },
   {
    "duration": 7,
    "start_time": "2022-06-09T15:54:00.104Z"
   },
   {
    "duration": 5,
    "start_time": "2022-06-09T15:54:03.467Z"
   },
   {
    "duration": 5,
    "start_time": "2022-06-09T15:54:07.405Z"
   },
   {
    "duration": 4,
    "start_time": "2022-06-09T15:54:29.311Z"
   },
   {
    "duration": 7,
    "start_time": "2022-06-09T15:54:31.907Z"
   },
   {
    "duration": 1173,
    "start_time": "2022-06-09T15:55:03.152Z"
   },
   {
    "duration": 445,
    "start_time": "2022-06-09T15:55:04.327Z"
   },
   {
    "duration": 15,
    "start_time": "2022-06-09T15:55:04.774Z"
   },
   {
    "duration": 10,
    "start_time": "2022-06-09T15:55:04.790Z"
   },
   {
    "duration": 9,
    "start_time": "2022-06-09T15:55:04.802Z"
   },
   {
    "duration": 11,
    "start_time": "2022-06-09T15:55:04.813Z"
   },
   {
    "duration": 11,
    "start_time": "2022-06-09T15:55:04.826Z"
   },
   {
    "duration": 25,
    "start_time": "2022-06-09T15:55:04.839Z"
   },
   {
    "duration": 7,
    "start_time": "2022-06-09T15:55:04.866Z"
   },
   {
    "duration": 7,
    "start_time": "2022-06-09T15:55:04.874Z"
   },
   {
    "duration": 8,
    "start_time": "2022-06-09T15:55:04.883Z"
   },
   {
    "duration": 8,
    "start_time": "2022-06-09T15:55:04.892Z"
   },
   {
    "duration": 9,
    "start_time": "2022-06-09T15:55:04.902Z"
   },
   {
    "duration": 58,
    "start_time": "2022-06-09T15:55:04.914Z"
   },
   {
    "duration": 38,
    "start_time": "2022-06-09T15:55:04.974Z"
   },
   {
    "duration": 8,
    "start_time": "2022-06-09T15:55:05.014Z"
   },
   {
    "duration": 49,
    "start_time": "2022-06-09T15:55:05.024Z"
   },
   {
    "duration": 6,
    "start_time": "2022-06-09T15:55:05.075Z"
   },
   {
    "duration": 21,
    "start_time": "2022-06-09T15:55:05.083Z"
   },
   {
    "duration": 53,
    "start_time": "2022-06-09T15:55:05.106Z"
   },
   {
    "duration": 18,
    "start_time": "2022-06-09T15:55:05.161Z"
   },
   {
    "duration": 6,
    "start_time": "2022-06-09T15:55:05.181Z"
   },
   {
    "duration": 29,
    "start_time": "2022-06-09T15:55:05.189Z"
   },
   {
    "duration": 53,
    "start_time": "2022-06-09T15:55:05.220Z"
   },
   {
    "duration": 20,
    "start_time": "2022-06-09T15:55:05.275Z"
   },
   {
    "duration": 8,
    "start_time": "2022-06-09T15:55:05.297Z"
   },
   {
    "duration": 84,
    "start_time": "2022-06-09T15:55:05.307Z"
   },
   {
    "duration": 23,
    "start_time": "2022-06-09T15:55:05.392Z"
   },
   {
    "duration": 43,
    "start_time": "2022-06-09T15:55:05.417Z"
   },
   {
    "duration": 18,
    "start_time": "2022-06-09T15:55:05.462Z"
   },
   {
    "duration": 31,
    "start_time": "2022-06-09T15:55:05.482Z"
   },
   {
    "duration": 58,
    "start_time": "2022-06-09T15:55:05.515Z"
   },
   {
    "duration": 30,
    "start_time": "2022-06-09T15:55:05.575Z"
   },
   {
    "duration": 11,
    "start_time": "2022-06-09T15:55:05.606Z"
   },
   {
    "duration": 16,
    "start_time": "2022-06-09T15:55:05.618Z"
   },
   {
    "duration": 34,
    "start_time": "2022-06-09T15:55:05.636Z"
   },
   {
    "duration": 5,
    "start_time": "2022-06-09T15:55:05.672Z"
   },
   {
    "duration": 141,
    "start_time": "2022-06-09T15:55:05.679Z"
   },
   {
    "duration": 25,
    "start_time": "2022-06-09T15:55:05.822Z"
   },
   {
    "duration": 252,
    "start_time": "2022-06-09T15:55:05.849Z"
   },
   {
    "duration": 258,
    "start_time": "2022-06-09T15:55:06.105Z"
   },
   {
    "duration": 256,
    "start_time": "2022-06-09T15:55:06.365Z"
   },
   {
    "duration": 11,
    "start_time": "2022-06-09T15:55:06.622Z"
   },
   {
    "duration": 31,
    "start_time": "2022-06-09T15:55:06.635Z"
   },
   {
    "duration": 21,
    "start_time": "2022-06-09T15:55:06.668Z"
   },
   {
    "duration": 269,
    "start_time": "2022-06-09T15:55:06.690Z"
   },
   {
    "duration": 5,
    "start_time": "2022-06-09T15:55:06.960Z"
   },
   {
    "duration": 14,
    "start_time": "2022-06-09T15:55:06.967Z"
   },
   {
    "duration": 9,
    "start_time": "2022-06-09T15:55:06.983Z"
   },
   {
    "duration": 25,
    "start_time": "2022-06-09T15:55:06.994Z"
   },
   {
    "duration": 204,
    "start_time": "2022-06-09T15:55:07.021Z"
   },
   {
    "duration": 4,
    "start_time": "2022-06-09T15:55:07.227Z"
   },
   {
    "duration": 12,
    "start_time": "2022-06-09T15:55:07.232Z"
   },
   {
    "duration": 9,
    "start_time": "2022-06-09T15:55:07.246Z"
   },
   {
    "duration": 14,
    "start_time": "2022-06-09T15:55:07.256Z"
   },
   {
    "duration": 221,
    "start_time": "2022-06-09T15:55:07.271Z"
   },
   {
    "duration": 5,
    "start_time": "2022-06-09T15:55:07.493Z"
   },
   {
    "duration": 9,
    "start_time": "2022-06-09T15:55:07.499Z"
   },
   {
    "duration": 7,
    "start_time": "2022-06-09T15:55:07.510Z"
   },
   {
    "duration": 14,
    "start_time": "2022-06-09T15:55:07.518Z"
   },
   {
    "duration": 6,
    "start_time": "2022-06-09T15:55:07.534Z"
   },
   {
    "duration": 20,
    "start_time": "2022-06-09T15:55:07.541Z"
   },
   {
    "duration": 10,
    "start_time": "2022-06-09T15:55:07.563Z"
   },
   {
    "duration": 6,
    "start_time": "2022-06-09T15:55:07.575Z"
   },
   {
    "duration": 26,
    "start_time": "2022-06-09T15:55:07.582Z"
   },
   {
    "duration": 23,
    "start_time": "2022-06-09T15:55:25.170Z"
   },
   {
    "duration": 7,
    "start_time": "2022-06-09T15:56:16.753Z"
   },
   {
    "duration": 8,
    "start_time": "2022-06-09T15:56:43.948Z"
   },
   {
    "duration": 8,
    "start_time": "2022-06-09T15:56:54.962Z"
   },
   {
    "duration": 132,
    "start_time": "2022-06-09T15:57:41.811Z"
   },
   {
    "duration": 6,
    "start_time": "2022-06-09T15:59:14.647Z"
   },
   {
    "duration": 10,
    "start_time": "2022-06-09T15:59:27.134Z"
   },
   {
    "duration": 7,
    "start_time": "2022-06-09T15:59:35.227Z"
   },
   {
    "duration": 8,
    "start_time": "2022-06-09T16:02:02.746Z"
   },
   {
    "duration": 5,
    "start_time": "2022-06-09T16:04:21.621Z"
   },
   {
    "duration": 5,
    "start_time": "2022-06-09T16:05:30.333Z"
   },
   {
    "duration": 12,
    "start_time": "2022-06-09T16:06:23.838Z"
   },
   {
    "duration": 1267,
    "start_time": "2022-06-09T16:06:33.505Z"
   },
   {
    "duration": 436,
    "start_time": "2022-06-09T16:06:34.774Z"
   },
   {
    "duration": 14,
    "start_time": "2022-06-09T16:06:35.212Z"
   },
   {
    "duration": 8,
    "start_time": "2022-06-09T16:06:35.228Z"
   },
   {
    "duration": 11,
    "start_time": "2022-06-09T16:06:35.239Z"
   },
   {
    "duration": 13,
    "start_time": "2022-06-09T16:06:35.251Z"
   },
   {
    "duration": 10,
    "start_time": "2022-06-09T16:06:35.265Z"
   },
   {
    "duration": 14,
    "start_time": "2022-06-09T16:06:35.277Z"
   },
   {
    "duration": 10,
    "start_time": "2022-06-09T16:06:35.292Z"
   },
   {
    "duration": 11,
    "start_time": "2022-06-09T16:06:35.304Z"
   },
   {
    "duration": 13,
    "start_time": "2022-06-09T16:06:35.317Z"
   },
   {
    "duration": 28,
    "start_time": "2022-06-09T16:06:35.332Z"
   },
   {
    "duration": 14,
    "start_time": "2022-06-09T16:06:35.362Z"
   },
   {
    "duration": 29,
    "start_time": "2022-06-09T16:06:35.380Z"
   },
   {
    "duration": 54,
    "start_time": "2022-06-09T16:06:35.412Z"
   },
   {
    "duration": 9,
    "start_time": "2022-06-09T16:06:35.468Z"
   },
   {
    "duration": 32,
    "start_time": "2022-06-09T16:06:35.479Z"
   },
   {
    "duration": 8,
    "start_time": "2022-06-09T16:06:35.512Z"
   },
   {
    "duration": 55,
    "start_time": "2022-06-09T16:06:35.522Z"
   },
   {
    "duration": 24,
    "start_time": "2022-06-09T16:06:35.579Z"
   },
   {
    "duration": 18,
    "start_time": "2022-06-09T16:06:35.605Z"
   },
   {
    "duration": 6,
    "start_time": "2022-06-09T16:06:35.625Z"
   },
   {
    "duration": 24,
    "start_time": "2022-06-09T16:06:35.659Z"
   },
   {
    "duration": 29,
    "start_time": "2022-06-09T16:06:35.686Z"
   },
   {
    "duration": 50,
    "start_time": "2022-06-09T16:06:35.717Z"
   },
   {
    "duration": 6,
    "start_time": "2022-06-09T16:06:35.769Z"
   },
   {
    "duration": 61,
    "start_time": "2022-06-09T16:06:35.777Z"
   },
   {
    "duration": 44,
    "start_time": "2022-06-09T16:06:35.840Z"
   },
   {
    "duration": 35,
    "start_time": "2022-06-09T16:06:35.886Z"
   },
   {
    "duration": 16,
    "start_time": "2022-06-09T16:06:35.923Z"
   },
   {
    "duration": 19,
    "start_time": "2022-06-09T16:06:35.959Z"
   },
   {
    "duration": 27,
    "start_time": "2022-06-09T16:06:35.980Z"
   },
   {
    "duration": 54,
    "start_time": "2022-06-09T16:06:36.009Z"
   },
   {
    "duration": 10,
    "start_time": "2022-06-09T16:06:36.064Z"
   },
   {
    "duration": 8,
    "start_time": "2022-06-09T16:06:36.076Z"
   },
   {
    "duration": 13,
    "start_time": "2022-06-09T16:06:36.086Z"
   },
   {
    "duration": 5,
    "start_time": "2022-06-09T16:06:36.101Z"
   },
   {
    "duration": 162,
    "start_time": "2022-06-09T16:06:36.107Z"
   },
   {
    "duration": 28,
    "start_time": "2022-06-09T16:06:36.270Z"
   },
   {
    "duration": 256,
    "start_time": "2022-06-09T16:06:36.299Z"
   },
   {
    "duration": 233,
    "start_time": "2022-06-09T16:06:36.560Z"
   },
   {
    "duration": 222,
    "start_time": "2022-06-09T16:06:36.794Z"
   },
   {
    "duration": 9,
    "start_time": "2022-06-09T16:06:37.018Z"
   },
   {
    "duration": 31,
    "start_time": "2022-06-09T16:06:37.028Z"
   },
   {
    "duration": 17,
    "start_time": "2022-06-09T16:06:37.061Z"
   },
   {
    "duration": 239,
    "start_time": "2022-06-09T16:06:37.079Z"
   },
   {
    "duration": 4,
    "start_time": "2022-06-09T16:06:37.320Z"
   },
   {
    "duration": 12,
    "start_time": "2022-06-09T16:06:37.325Z"
   },
   {
    "duration": 6,
    "start_time": "2022-06-09T16:06:37.339Z"
   },
   {
    "duration": 19,
    "start_time": "2022-06-09T16:06:37.346Z"
   },
   {
    "duration": 236,
    "start_time": "2022-06-09T16:06:37.367Z"
   },
   {
    "duration": 4,
    "start_time": "2022-06-09T16:06:37.605Z"
   },
   {
    "duration": 12,
    "start_time": "2022-06-09T16:06:37.611Z"
   },
   {
    "duration": 6,
    "start_time": "2022-06-09T16:06:37.625Z"
   },
   {
    "duration": 18,
    "start_time": "2022-06-09T16:06:37.632Z"
   },
   {
    "duration": 223,
    "start_time": "2022-06-09T16:06:37.658Z"
   },
   {
    "duration": 4,
    "start_time": "2022-06-09T16:06:37.883Z"
   },
   {
    "duration": 7,
    "start_time": "2022-06-09T16:06:37.889Z"
   },
   {
    "duration": 13,
    "start_time": "2022-06-09T16:06:37.898Z"
   },
   {
    "duration": 15,
    "start_time": "2022-06-09T16:06:37.913Z"
   },
   {
    "duration": 7,
    "start_time": "2022-06-09T16:06:37.930Z"
   },
   {
    "duration": 8,
    "start_time": "2022-06-09T16:06:37.938Z"
   },
   {
    "duration": 9,
    "start_time": "2022-06-09T16:06:37.958Z"
   },
   {
    "duration": 15,
    "start_time": "2022-06-09T16:06:37.968Z"
   },
   {
    "duration": 7,
    "start_time": "2022-06-09T16:06:37.984Z"
   },
   {
    "duration": 11,
    "start_time": "2022-06-09T16:06:37.993Z"
   },
   {
    "duration": 5,
    "start_time": "2022-06-09T16:06:38.006Z"
   },
   {
    "duration": 27,
    "start_time": "2022-06-09T16:06:38.013Z"
   },
   {
    "duration": 56,
    "start_time": "2022-06-10T08:20:02.375Z"
   },
   {
    "duration": 1225,
    "start_time": "2022-06-10T08:20:12.638Z"
   },
   {
    "duration": 921,
    "start_time": "2022-06-10T08:20:13.865Z"
   },
   {
    "duration": 15,
    "start_time": "2022-06-10T08:20:14.787Z"
   },
   {
    "duration": 8,
    "start_time": "2022-06-10T08:20:14.804Z"
   },
   {
    "duration": 8,
    "start_time": "2022-06-10T08:20:14.814Z"
   },
   {
    "duration": 9,
    "start_time": "2022-06-10T08:20:14.824Z"
   },
   {
    "duration": 13,
    "start_time": "2022-06-10T08:20:14.834Z"
   },
   {
    "duration": 15,
    "start_time": "2022-06-10T08:20:14.848Z"
   },
   {
    "duration": 6,
    "start_time": "2022-06-10T08:20:14.865Z"
   },
   {
    "duration": 13,
    "start_time": "2022-06-10T08:20:14.874Z"
   },
   {
    "duration": 9,
    "start_time": "2022-06-10T08:20:14.888Z"
   },
   {
    "duration": 10,
    "start_time": "2022-06-10T08:20:14.898Z"
   },
   {
    "duration": 23,
    "start_time": "2022-06-10T08:20:14.910Z"
   },
   {
    "duration": 24,
    "start_time": "2022-06-10T08:20:14.935Z"
   },
   {
    "duration": 35,
    "start_time": "2022-06-10T08:20:14.961Z"
   },
   {
    "duration": 28,
    "start_time": "2022-06-10T08:20:14.998Z"
   },
   {
    "duration": 23,
    "start_time": "2022-06-10T08:20:15.028Z"
   },
   {
    "duration": 5,
    "start_time": "2022-06-10T08:20:15.053Z"
   },
   {
    "duration": 21,
    "start_time": "2022-06-10T08:20:15.060Z"
   },
   {
    "duration": 42,
    "start_time": "2022-06-10T08:20:15.082Z"
   },
   {
    "duration": 16,
    "start_time": "2022-06-10T08:20:15.126Z"
   },
   {
    "duration": 6,
    "start_time": "2022-06-10T08:20:15.144Z"
   },
   {
    "duration": 41,
    "start_time": "2022-06-10T08:20:15.152Z"
   },
   {
    "duration": 60,
    "start_time": "2022-06-10T08:20:15.195Z"
   },
   {
    "duration": 24,
    "start_time": "2022-06-10T08:20:15.257Z"
   },
   {
    "duration": 7,
    "start_time": "2022-06-10T08:20:15.283Z"
   },
   {
    "duration": 87,
    "start_time": "2022-06-10T08:20:15.291Z"
   },
   {
    "duration": 22,
    "start_time": "2022-06-10T08:20:15.382Z"
   },
   {
    "duration": 44,
    "start_time": "2022-06-10T08:20:15.406Z"
   },
   {
    "duration": 15,
    "start_time": "2022-06-10T08:20:15.451Z"
   },
   {
    "duration": 20,
    "start_time": "2022-06-10T08:20:15.468Z"
   },
   {
    "duration": 46,
    "start_time": "2022-06-10T08:20:15.489Z"
   },
   {
    "duration": 28,
    "start_time": "2022-06-10T08:20:15.537Z"
   },
   {
    "duration": 10,
    "start_time": "2022-06-10T08:20:15.567Z"
   },
   {
    "duration": 7,
    "start_time": "2022-06-10T08:20:15.578Z"
   },
   {
    "duration": 59,
    "start_time": "2022-06-10T08:20:15.587Z"
   },
   {
    "duration": 11,
    "start_time": "2022-06-10T08:20:15.648Z"
   },
   {
    "duration": 5,
    "start_time": "2022-06-10T08:20:15.660Z"
   },
   {
    "duration": 139,
    "start_time": "2022-06-10T08:20:15.667Z"
   },
   {
    "duration": 27,
    "start_time": "2022-06-10T08:20:15.808Z"
   },
   {
    "duration": 247,
    "start_time": "2022-06-10T08:20:15.836Z"
   },
   {
    "duration": 238,
    "start_time": "2022-06-10T08:20:16.085Z"
   },
   {
    "duration": 198,
    "start_time": "2022-06-10T08:20:16.325Z"
   },
   {
    "duration": 8,
    "start_time": "2022-06-10T08:20:16.525Z"
   },
   {
    "duration": 46,
    "start_time": "2022-06-10T08:20:16.534Z"
   },
   {
    "duration": 27,
    "start_time": "2022-06-10T08:20:16.582Z"
   },
   {
    "duration": 219,
    "start_time": "2022-06-10T08:20:16.611Z"
   },
   {
    "duration": 4,
    "start_time": "2022-06-10T08:20:16.832Z"
   },
   {
    "duration": 18,
    "start_time": "2022-06-10T08:20:16.837Z"
   },
   {
    "duration": 20,
    "start_time": "2022-06-10T08:20:16.857Z"
   },
   {
    "duration": 24,
    "start_time": "2022-06-10T08:20:16.878Z"
   },
   {
    "duration": 214,
    "start_time": "2022-06-10T08:20:16.904Z"
   },
   {
    "duration": 4,
    "start_time": "2022-06-10T08:20:17.121Z"
   },
   {
    "duration": 24,
    "start_time": "2022-06-10T08:20:17.126Z"
   },
   {
    "duration": 39,
    "start_time": "2022-06-10T08:20:17.151Z"
   },
   {
    "duration": 26,
    "start_time": "2022-06-10T08:20:17.192Z"
   },
   {
    "duration": 226,
    "start_time": "2022-06-10T08:20:17.219Z"
   },
   {
    "duration": 4,
    "start_time": "2022-06-10T08:20:17.447Z"
   },
   {
    "duration": 23,
    "start_time": "2022-06-10T08:20:17.453Z"
   },
   {
    "duration": 18,
    "start_time": "2022-06-10T08:20:17.478Z"
   },
   {
    "duration": 24,
    "start_time": "2022-06-10T08:20:17.498Z"
   },
   {
    "duration": 28,
    "start_time": "2022-06-10T08:20:17.523Z"
   },
   {
    "duration": 11,
    "start_time": "2022-06-10T08:20:17.553Z"
   },
   {
    "duration": 15,
    "start_time": "2022-06-10T08:20:17.566Z"
   },
   {
    "duration": 5,
    "start_time": "2022-06-10T08:20:17.583Z"
   },
   {
    "duration": 16,
    "start_time": "2022-06-10T08:20:17.589Z"
   },
   {
    "duration": 22,
    "start_time": "2022-06-10T08:20:17.607Z"
   },
   {
    "duration": 18,
    "start_time": "2022-06-10T08:20:17.631Z"
   },
   {
    "duration": 42,
    "start_time": "2022-06-10T08:20:17.651Z"
   },
   {
    "duration": 35,
    "start_time": "2022-06-10T08:21:42.797Z"
   },
   {
    "duration": 6,
    "start_time": "2022-06-10T08:27:03.902Z"
   },
   {
    "duration": 94,
    "start_time": "2022-06-10T08:27:16.569Z"
   },
   {
    "duration": 6,
    "start_time": "2022-06-10T08:27:57.744Z"
   },
   {
    "duration": 33,
    "start_time": "2022-06-10T08:28:23.200Z"
   },
   {
    "duration": 13,
    "start_time": "2022-06-10T08:29:10.399Z"
   },
   {
    "duration": 31,
    "start_time": "2022-06-10T08:29:19.517Z"
   },
   {
    "duration": 11,
    "start_time": "2022-06-10T08:30:56.220Z"
   },
   {
    "duration": 6,
    "start_time": "2022-06-10T08:31:25.126Z"
   },
   {
    "duration": 5,
    "start_time": "2022-06-10T08:32:56.102Z"
   },
   {
    "duration": 13,
    "start_time": "2022-06-10T08:33:04.120Z"
   },
   {
    "duration": 6,
    "start_time": "2022-06-10T08:33:07.926Z"
   },
   {
    "duration": 10,
    "start_time": "2022-06-10T08:51:15.542Z"
   },
   {
    "duration": 1084,
    "start_time": "2022-06-10T08:51:58.011Z"
   },
   {
    "duration": 411,
    "start_time": "2022-06-10T08:51:59.096Z"
   },
   {
    "duration": 14,
    "start_time": "2022-06-10T08:51:59.509Z"
   },
   {
    "duration": 8,
    "start_time": "2022-06-10T08:51:59.525Z"
   },
   {
    "duration": 7,
    "start_time": "2022-06-10T08:51:59.536Z"
   },
   {
    "duration": 10,
    "start_time": "2022-06-10T08:51:59.545Z"
   },
   {
    "duration": 11,
    "start_time": "2022-06-10T08:51:59.556Z"
   },
   {
    "duration": 14,
    "start_time": "2022-06-10T08:51:59.568Z"
   },
   {
    "duration": 6,
    "start_time": "2022-06-10T08:51:59.583Z"
   },
   {
    "duration": 33,
    "start_time": "2022-06-10T08:51:59.591Z"
   },
   {
    "duration": 10,
    "start_time": "2022-06-10T08:51:59.626Z"
   },
   {
    "duration": 7,
    "start_time": "2022-06-10T08:51:59.638Z"
   },
   {
    "duration": 11,
    "start_time": "2022-06-10T08:51:59.646Z"
   },
   {
    "duration": 25,
    "start_time": "2022-06-10T08:51:59.660Z"
   },
   {
    "duration": 56,
    "start_time": "2022-06-10T08:51:59.687Z"
   },
   {
    "duration": 7,
    "start_time": "2022-06-10T08:51:59.744Z"
   },
   {
    "duration": 27,
    "start_time": "2022-06-10T08:51:59.752Z"
   },
   {
    "duration": 6,
    "start_time": "2022-06-10T08:51:59.780Z"
   },
   {
    "duration": 38,
    "start_time": "2022-06-10T08:51:59.787Z"
   },
   {
    "duration": 21,
    "start_time": "2022-06-10T08:51:59.827Z"
   },
   {
    "duration": 15,
    "start_time": "2022-06-10T08:51:59.849Z"
   },
   {
    "duration": 5,
    "start_time": "2022-06-10T08:51:59.866Z"
   },
   {
    "duration": 24,
    "start_time": "2022-06-10T08:51:59.873Z"
   },
   {
    "duration": 30,
    "start_time": "2022-06-10T08:51:59.923Z"
   },
   {
    "duration": 18,
    "start_time": "2022-06-10T08:51:59.955Z"
   },
   {
    "duration": 6,
    "start_time": "2022-06-10T08:51:59.975Z"
   },
   {
    "duration": 84,
    "start_time": "2022-06-10T08:51:59.982Z"
   },
   {
    "duration": 21,
    "start_time": "2022-06-10T08:52:00.068Z"
   },
   {
    "duration": 48,
    "start_time": "2022-06-10T08:52:00.091Z"
   },
   {
    "duration": 16,
    "start_time": "2022-06-10T08:52:00.140Z"
   },
   {
    "duration": 24,
    "start_time": "2022-06-10T08:52:00.157Z"
   },
   {
    "duration": 43,
    "start_time": "2022-06-10T08:52:00.182Z"
   },
   {
    "duration": 26,
    "start_time": "2022-06-10T08:52:00.226Z"
   },
   {
    "duration": 9,
    "start_time": "2022-06-10T08:52:00.254Z"
   },
   {
    "duration": 7,
    "start_time": "2022-06-10T08:52:00.264Z"
   },
   {
    "duration": 61,
    "start_time": "2022-06-10T08:52:00.273Z"
   },
   {
    "duration": 5,
    "start_time": "2022-06-10T08:52:00.336Z"
   },
   {
    "duration": 101,
    "start_time": "2022-06-10T08:52:00.343Z"
   },
   {
    "duration": 0,
    "start_time": "2022-06-10T08:52:00.446Z"
   },
   {
    "duration": 0,
    "start_time": "2022-06-10T08:52:00.447Z"
   },
   {
    "duration": 0,
    "start_time": "2022-06-10T08:52:00.448Z"
   },
   {
    "duration": 0,
    "start_time": "2022-06-10T08:52:00.449Z"
   },
   {
    "duration": 0,
    "start_time": "2022-06-10T08:52:00.450Z"
   },
   {
    "duration": 0,
    "start_time": "2022-06-10T08:52:00.451Z"
   },
   {
    "duration": 0,
    "start_time": "2022-06-10T08:52:00.452Z"
   },
   {
    "duration": 0,
    "start_time": "2022-06-10T08:52:00.454Z"
   },
   {
    "duration": 0,
    "start_time": "2022-06-10T08:52:00.455Z"
   },
   {
    "duration": 0,
    "start_time": "2022-06-10T08:52:00.455Z"
   },
   {
    "duration": 0,
    "start_time": "2022-06-10T08:52:00.456Z"
   },
   {
    "duration": 0,
    "start_time": "2022-06-10T08:52:00.457Z"
   },
   {
    "duration": 0,
    "start_time": "2022-06-10T08:52:00.458Z"
   },
   {
    "duration": 0,
    "start_time": "2022-06-10T08:52:00.459Z"
   },
   {
    "duration": 0,
    "start_time": "2022-06-10T08:52:00.460Z"
   },
   {
    "duration": 0,
    "start_time": "2022-06-10T08:52:00.461Z"
   },
   {
    "duration": 0,
    "start_time": "2022-06-10T08:52:00.462Z"
   },
   {
    "duration": 0,
    "start_time": "2022-06-10T08:52:00.463Z"
   },
   {
    "duration": 0,
    "start_time": "2022-06-10T08:52:00.464Z"
   },
   {
    "duration": 0,
    "start_time": "2022-06-10T08:52:00.465Z"
   },
   {
    "duration": 0,
    "start_time": "2022-06-10T08:52:00.466Z"
   },
   {
    "duration": 0,
    "start_time": "2022-06-10T08:52:00.466Z"
   },
   {
    "duration": 0,
    "start_time": "2022-06-10T08:52:00.468Z"
   },
   {
    "duration": 0,
    "start_time": "2022-06-10T08:52:00.468Z"
   },
   {
    "duration": 0,
    "start_time": "2022-06-10T08:52:00.469Z"
   },
   {
    "duration": 0,
    "start_time": "2022-06-10T08:52:00.470Z"
   },
   {
    "duration": 0,
    "start_time": "2022-06-10T08:52:00.471Z"
   },
   {
    "duration": 0,
    "start_time": "2022-06-10T08:52:00.472Z"
   },
   {
    "duration": 0,
    "start_time": "2022-06-10T08:52:00.472Z"
   },
   {
    "duration": 0,
    "start_time": "2022-06-10T08:52:00.474Z"
   },
   {
    "duration": 10,
    "start_time": "2022-06-10T08:52:34.678Z"
   },
   {
    "duration": 1030,
    "start_time": "2022-06-10T08:52:52.736Z"
   },
   {
    "duration": 404,
    "start_time": "2022-06-10T08:52:53.768Z"
   },
   {
    "duration": 12,
    "start_time": "2022-06-10T08:52:54.174Z"
   },
   {
    "duration": 8,
    "start_time": "2022-06-10T08:52:54.188Z"
   },
   {
    "duration": 12,
    "start_time": "2022-06-10T08:52:54.197Z"
   },
   {
    "duration": 11,
    "start_time": "2022-06-10T08:52:54.210Z"
   },
   {
    "duration": 9,
    "start_time": "2022-06-10T08:52:54.223Z"
   },
   {
    "duration": 12,
    "start_time": "2022-06-10T08:52:54.234Z"
   },
   {
    "duration": 9,
    "start_time": "2022-06-10T08:52:54.247Z"
   },
   {
    "duration": 10,
    "start_time": "2022-06-10T08:52:54.258Z"
   },
   {
    "duration": 9,
    "start_time": "2022-06-10T08:52:54.269Z"
   },
   {
    "duration": 7,
    "start_time": "2022-06-10T08:52:54.279Z"
   },
   {
    "duration": 10,
    "start_time": "2022-06-10T08:52:54.287Z"
   },
   {
    "duration": 46,
    "start_time": "2022-06-10T08:52:54.299Z"
   },
   {
    "duration": 37,
    "start_time": "2022-06-10T08:52:54.347Z"
   },
   {
    "duration": 7,
    "start_time": "2022-06-10T08:52:54.386Z"
   },
   {
    "duration": 47,
    "start_time": "2022-06-10T08:52:54.395Z"
   },
   {
    "duration": 8,
    "start_time": "2022-06-10T08:52:54.444Z"
   },
   {
    "duration": 28,
    "start_time": "2022-06-10T08:52:54.453Z"
   },
   {
    "duration": 21,
    "start_time": "2022-06-10T08:52:54.483Z"
   },
   {
    "duration": 16,
    "start_time": "2022-06-10T08:52:54.523Z"
   },
   {
    "duration": 7,
    "start_time": "2022-06-10T08:52:54.541Z"
   },
   {
    "duration": 33,
    "start_time": "2022-06-10T08:52:54.550Z"
   },
   {
    "duration": 45,
    "start_time": "2022-06-10T08:52:54.585Z"
   },
   {
    "duration": 18,
    "start_time": "2022-06-10T08:52:54.632Z"
   },
   {
    "duration": 5,
    "start_time": "2022-06-10T08:52:54.651Z"
   },
   {
    "duration": 78,
    "start_time": "2022-06-10T08:52:54.658Z"
   },
   {
    "duration": 21,
    "start_time": "2022-06-10T08:52:54.740Z"
   },
   {
    "duration": 30,
    "start_time": "2022-06-10T08:52:54.763Z"
   },
   {
    "duration": 37,
    "start_time": "2022-06-10T08:52:54.795Z"
   },
   {
    "duration": 21,
    "start_time": "2022-06-10T08:52:54.834Z"
   },
   {
    "duration": 26,
    "start_time": "2022-06-10T08:52:54.856Z"
   },
   {
    "duration": 48,
    "start_time": "2022-06-10T08:52:54.884Z"
   },
   {
    "duration": 10,
    "start_time": "2022-06-10T08:52:54.933Z"
   },
   {
    "duration": 8,
    "start_time": "2022-06-10T08:52:54.944Z"
   },
   {
    "duration": 32,
    "start_time": "2022-06-10T08:52:54.953Z"
   },
   {
    "duration": 5,
    "start_time": "2022-06-10T08:52:54.987Z"
   },
   {
    "duration": 11,
    "start_time": "2022-06-10T08:52:55.023Z"
   },
   {
    "duration": 12,
    "start_time": "2022-06-10T08:52:55.035Z"
   },
   {
    "duration": 13,
    "start_time": "2022-06-10T08:52:55.049Z"
   },
   {
    "duration": 163,
    "start_time": "2022-06-10T08:52:55.063Z"
   },
   {
    "duration": 24,
    "start_time": "2022-06-10T08:52:55.227Z"
   },
   {
    "duration": 227,
    "start_time": "2022-06-10T08:52:55.252Z"
   },
   {
    "duration": 230,
    "start_time": "2022-06-10T08:52:55.481Z"
   },
   {
    "duration": 204,
    "start_time": "2022-06-10T08:52:55.713Z"
   },
   {
    "duration": 9,
    "start_time": "2022-06-10T08:52:55.919Z"
   },
   {
    "duration": 22,
    "start_time": "2022-06-10T08:52:55.930Z"
   },
   {
    "duration": 17,
    "start_time": "2022-06-10T08:52:55.961Z"
   },
   {
    "duration": 236,
    "start_time": "2022-06-10T08:52:55.980Z"
   },
   {
    "duration": 6,
    "start_time": "2022-06-10T08:52:56.217Z"
   },
   {
    "duration": 7,
    "start_time": "2022-06-10T08:52:56.224Z"
   },
   {
    "duration": 5,
    "start_time": "2022-06-10T08:52:56.232Z"
   },
   {
    "duration": 12,
    "start_time": "2022-06-10T08:52:56.238Z"
   },
   {
    "duration": 194,
    "start_time": "2022-06-10T08:52:56.252Z"
   },
   {
    "duration": 4,
    "start_time": "2022-06-10T08:52:56.448Z"
   },
   {
    "duration": 12,
    "start_time": "2022-06-10T08:52:56.453Z"
   },
   {
    "duration": 7,
    "start_time": "2022-06-10T08:52:56.467Z"
   },
   {
    "duration": 14,
    "start_time": "2022-06-10T08:52:56.475Z"
   },
   {
    "duration": 208,
    "start_time": "2022-06-10T08:52:56.490Z"
   },
   {
    "duration": 4,
    "start_time": "2022-06-10T08:52:56.699Z"
   },
   {
    "duration": 7,
    "start_time": "2022-06-10T08:52:56.704Z"
   },
   {
    "duration": 11,
    "start_time": "2022-06-10T08:52:56.712Z"
   },
   {
    "duration": 9,
    "start_time": "2022-06-10T08:52:56.724Z"
   },
   {
    "duration": 6,
    "start_time": "2022-06-10T08:52:56.734Z"
   },
   {
    "duration": 5,
    "start_time": "2022-06-10T08:52:56.742Z"
   },
   {
    "duration": 11,
    "start_time": "2022-06-10T08:52:56.749Z"
   },
   {
    "duration": 7,
    "start_time": "2022-06-10T08:52:56.761Z"
   },
   {
    "duration": 29,
    "start_time": "2022-06-10T08:52:56.770Z"
   },
   {
    "duration": 1145,
    "start_time": "2022-06-10T10:31:13.246Z"
   },
   {
    "duration": 438,
    "start_time": "2022-06-10T10:31:14.392Z"
   },
   {
    "duration": 14,
    "start_time": "2022-06-10T10:31:14.831Z"
   },
   {
    "duration": 8,
    "start_time": "2022-06-10T10:31:14.848Z"
   },
   {
    "duration": 10,
    "start_time": "2022-06-10T10:31:14.858Z"
   },
   {
    "duration": 12,
    "start_time": "2022-06-10T10:31:14.869Z"
   },
   {
    "duration": 10,
    "start_time": "2022-06-10T10:31:14.883Z"
   },
   {
    "duration": 34,
    "start_time": "2022-06-10T10:31:14.895Z"
   },
   {
    "duration": 7,
    "start_time": "2022-06-10T10:31:14.931Z"
   },
   {
    "duration": 9,
    "start_time": "2022-06-10T10:31:14.941Z"
   },
   {
    "duration": 10,
    "start_time": "2022-06-10T10:31:14.951Z"
   },
   {
    "duration": 9,
    "start_time": "2022-06-10T10:31:14.962Z"
   },
   {
    "duration": 11,
    "start_time": "2022-06-10T10:31:14.973Z"
   },
   {
    "duration": 68,
    "start_time": "2022-06-10T10:31:14.986Z"
   },
   {
    "duration": 36,
    "start_time": "2022-06-10T10:31:15.057Z"
   },
   {
    "duration": 8,
    "start_time": "2022-06-10T10:31:15.095Z"
   },
   {
    "duration": 23,
    "start_time": "2022-06-10T10:31:15.123Z"
   },
   {
    "duration": 6,
    "start_time": "2022-06-10T10:31:15.148Z"
   },
   {
    "duration": 19,
    "start_time": "2022-06-10T10:31:15.156Z"
   },
   {
    "duration": 49,
    "start_time": "2022-06-10T10:31:15.177Z"
   },
   {
    "duration": 18,
    "start_time": "2022-06-10T10:31:15.227Z"
   },
   {
    "duration": 8,
    "start_time": "2022-06-10T10:31:15.246Z"
   },
   {
    "duration": 26,
    "start_time": "2022-06-10T10:31:15.255Z"
   },
   {
    "duration": 58,
    "start_time": "2022-06-10T10:31:15.283Z"
   },
   {
    "duration": 19,
    "start_time": "2022-06-10T10:31:15.343Z"
   },
   {
    "duration": 7,
    "start_time": "2022-06-10T10:31:15.363Z"
   },
   {
    "duration": 84,
    "start_time": "2022-06-10T10:31:15.372Z"
   },
   {
    "duration": 20,
    "start_time": "2022-06-10T10:31:15.460Z"
   },
   {
    "duration": 45,
    "start_time": "2022-06-10T10:31:15.482Z"
   },
   {
    "duration": 14,
    "start_time": "2022-06-10T10:31:15.528Z"
   },
   {
    "duration": 24,
    "start_time": "2022-06-10T10:31:15.544Z"
   },
   {
    "duration": 25,
    "start_time": "2022-06-10T10:31:15.570Z"
   },
   {
    "duration": 50,
    "start_time": "2022-06-10T10:31:15.596Z"
   },
   {
    "duration": 10,
    "start_time": "2022-06-10T10:31:15.647Z"
   },
   {
    "duration": 8,
    "start_time": "2022-06-10T10:31:15.659Z"
   },
   {
    "duration": 58,
    "start_time": "2022-06-10T10:31:15.669Z"
   },
   {
    "duration": 6,
    "start_time": "2022-06-10T10:31:15.728Z"
   },
   {
    "duration": 12,
    "start_time": "2022-06-10T10:31:15.736Z"
   },
   {
    "duration": 12,
    "start_time": "2022-06-10T10:31:15.749Z"
   },
   {
    "duration": 5,
    "start_time": "2022-06-10T10:31:15.763Z"
   },
   {
    "duration": 144,
    "start_time": "2022-06-10T10:31:15.770Z"
   },
   {
    "duration": 28,
    "start_time": "2022-06-10T10:31:15.915Z"
   },
   {
    "duration": 245,
    "start_time": "2022-06-10T10:31:15.945Z"
   },
   {
    "duration": 222,
    "start_time": "2022-06-10T10:31:16.191Z"
   },
   {
    "duration": 208,
    "start_time": "2022-06-10T10:31:16.415Z"
   },
   {
    "duration": 14,
    "start_time": "2022-06-10T10:31:16.625Z"
   },
   {
    "duration": 27,
    "start_time": "2022-06-10T10:31:16.641Z"
   },
   {
    "duration": 20,
    "start_time": "2022-06-10T10:31:16.670Z"
   },
   {
    "duration": 244,
    "start_time": "2022-06-10T10:31:16.692Z"
   },
   {
    "duration": 4,
    "start_time": "2022-06-10T10:31:16.938Z"
   },
   {
    "duration": 7,
    "start_time": "2022-06-10T10:31:16.944Z"
   },
   {
    "duration": 4,
    "start_time": "2022-06-10T10:31:16.953Z"
   },
   {
    "duration": 14,
    "start_time": "2022-06-10T10:31:16.959Z"
   },
   {
    "duration": 233,
    "start_time": "2022-06-10T10:31:16.975Z"
   },
   {
    "duration": 4,
    "start_time": "2022-06-10T10:31:17.209Z"
   },
   {
    "duration": 5,
    "start_time": "2022-06-10T10:31:17.222Z"
   },
   {
    "duration": 6,
    "start_time": "2022-06-10T10:31:17.228Z"
   },
   {
    "duration": 12,
    "start_time": "2022-06-10T10:31:17.235Z"
   },
   {
    "duration": 218,
    "start_time": "2022-06-10T10:31:17.249Z"
   },
   {
    "duration": 4,
    "start_time": "2022-06-10T10:31:17.469Z"
   },
   {
    "duration": 6,
    "start_time": "2022-06-10T10:31:17.474Z"
   },
   {
    "duration": 5,
    "start_time": "2022-06-10T10:31:17.482Z"
   },
   {
    "duration": 12,
    "start_time": "2022-06-10T10:31:17.488Z"
   },
   {
    "duration": 24,
    "start_time": "2022-06-10T10:31:17.501Z"
   },
   {
    "duration": 5,
    "start_time": "2022-06-10T10:31:17.526Z"
   },
   {
    "duration": 10,
    "start_time": "2022-06-10T10:31:17.533Z"
   },
   {
    "duration": 16,
    "start_time": "2022-06-10T10:31:17.546Z"
   },
   {
    "duration": 1104,
    "start_time": "2022-06-10T10:34:31.969Z"
   },
   {
    "duration": 449,
    "start_time": "2022-06-10T10:34:33.075Z"
   },
   {
    "duration": 15,
    "start_time": "2022-06-10T10:34:33.526Z"
   },
   {
    "duration": 38,
    "start_time": "2022-06-10T10:34:33.543Z"
   },
   {
    "duration": 24,
    "start_time": "2022-06-10T10:34:33.583Z"
   },
   {
    "duration": 37,
    "start_time": "2022-06-10T10:34:33.609Z"
   },
   {
    "duration": 25,
    "start_time": "2022-06-10T10:34:33.648Z"
   },
   {
    "duration": 41,
    "start_time": "2022-06-10T10:34:33.675Z"
   },
   {
    "duration": 26,
    "start_time": "2022-06-10T10:34:33.718Z"
   },
   {
    "duration": 34,
    "start_time": "2022-06-10T10:34:33.748Z"
   },
   {
    "duration": 40,
    "start_time": "2022-06-10T10:34:33.783Z"
   },
   {
    "duration": 42,
    "start_time": "2022-06-10T10:34:33.826Z"
   },
   {
    "duration": 28,
    "start_time": "2022-06-10T10:34:33.870Z"
   },
   {
    "duration": 42,
    "start_time": "2022-06-10T10:34:33.900Z"
   },
   {
    "duration": 38,
    "start_time": "2022-06-10T10:34:33.944Z"
   },
   {
    "duration": 9,
    "start_time": "2022-06-10T10:34:33.984Z"
   },
   {
    "duration": 48,
    "start_time": "2022-06-10T10:34:33.994Z"
   },
   {
    "duration": 6,
    "start_time": "2022-06-10T10:34:34.044Z"
   },
   {
    "duration": 29,
    "start_time": "2022-06-10T10:34:34.051Z"
   },
   {
    "duration": 22,
    "start_time": "2022-06-10T10:34:34.081Z"
   },
   {
    "duration": 24,
    "start_time": "2022-06-10T10:34:34.105Z"
   },
   {
    "duration": 7,
    "start_time": "2022-06-10T10:34:34.131Z"
   },
   {
    "duration": 43,
    "start_time": "2022-06-10T10:34:34.139Z"
   },
   {
    "duration": 30,
    "start_time": "2022-06-10T10:34:34.185Z"
   },
   {
    "duration": 22,
    "start_time": "2022-06-10T10:34:34.222Z"
   },
   {
    "duration": 5,
    "start_time": "2022-06-10T10:34:34.246Z"
   },
   {
    "duration": 72,
    "start_time": "2022-06-10T10:34:34.253Z"
   },
   {
    "duration": 21,
    "start_time": "2022-06-10T10:34:34.329Z"
   },
   {
    "duration": 38,
    "start_time": "2022-06-10T10:34:34.351Z"
   },
   {
    "duration": 17,
    "start_time": "2022-06-10T10:34:34.391Z"
   },
   {
    "duration": 43,
    "start_time": "2022-06-10T10:34:34.409Z"
   },
   {
    "duration": 41,
    "start_time": "2022-06-10T10:34:34.454Z"
   },
   {
    "duration": 27,
    "start_time": "2022-06-10T10:34:34.496Z"
   },
   {
    "duration": 10,
    "start_time": "2022-06-10T10:34:34.524Z"
   },
   {
    "duration": 11,
    "start_time": "2022-06-10T10:34:34.536Z"
   },
   {
    "duration": 45,
    "start_time": "2022-06-10T10:34:34.548Z"
   },
   {
    "duration": 20,
    "start_time": "2022-06-10T10:34:34.595Z"
   },
   {
    "duration": 22,
    "start_time": "2022-06-10T10:34:34.617Z"
   },
   {
    "duration": 20,
    "start_time": "2022-06-10T10:34:34.641Z"
   },
   {
    "duration": 7,
    "start_time": "2022-06-10T10:34:34.663Z"
   },
   {
    "duration": 155,
    "start_time": "2022-06-10T10:34:34.671Z"
   },
   {
    "duration": 22,
    "start_time": "2022-06-10T10:34:34.827Z"
   },
   {
    "duration": 264,
    "start_time": "2022-06-10T10:34:34.851Z"
   },
   {
    "duration": 227,
    "start_time": "2022-06-10T10:34:35.117Z"
   },
   {
    "duration": 204,
    "start_time": "2022-06-10T10:34:35.345Z"
   },
   {
    "duration": 10,
    "start_time": "2022-06-10T10:34:35.551Z"
   },
   {
    "duration": 22,
    "start_time": "2022-06-10T10:34:35.563Z"
   },
   {
    "duration": 16,
    "start_time": "2022-06-10T10:34:35.587Z"
   },
   {
    "duration": 229,
    "start_time": "2022-06-10T10:34:35.624Z"
   },
   {
    "duration": 4,
    "start_time": "2022-06-10T10:34:35.855Z"
   },
   {
    "duration": 7,
    "start_time": "2022-06-10T10:34:35.860Z"
   },
   {
    "duration": 8,
    "start_time": "2022-06-10T10:34:35.869Z"
   },
   {
    "duration": 13,
    "start_time": "2022-06-10T10:34:35.879Z"
   },
   {
    "duration": 225,
    "start_time": "2022-06-10T10:34:35.894Z"
   },
   {
    "duration": 4,
    "start_time": "2022-06-10T10:34:36.121Z"
   },
   {
    "duration": 6,
    "start_time": "2022-06-10T10:34:36.128Z"
   },
   {
    "duration": 12,
    "start_time": "2022-06-10T10:34:36.136Z"
   },
   {
    "duration": 11,
    "start_time": "2022-06-10T10:34:36.150Z"
   },
   {
    "duration": 206,
    "start_time": "2022-06-10T10:34:36.162Z"
   },
   {
    "duration": 4,
    "start_time": "2022-06-10T10:34:36.370Z"
   },
   {
    "duration": 6,
    "start_time": "2022-06-10T10:34:36.375Z"
   },
   {
    "duration": 5,
    "start_time": "2022-06-10T10:34:36.383Z"
   },
   {
    "duration": 12,
    "start_time": "2022-06-10T10:34:36.389Z"
   },
   {
    "duration": 20,
    "start_time": "2022-06-10T10:34:36.403Z"
   },
   {
    "duration": 4,
    "start_time": "2022-06-10T10:34:36.424Z"
   },
   {
    "duration": 18,
    "start_time": "2022-06-10T10:34:36.430Z"
   },
   {
    "duration": 7,
    "start_time": "2022-06-10T10:34:36.450Z"
   },
   {
    "duration": 39,
    "start_time": "2022-06-10T15:12:36.922Z"
   },
   {
    "duration": 37,
    "start_time": "2022-06-12T09:59:32.538Z"
   },
   {
    "duration": 42,
    "start_time": "2022-06-12T09:59:42.904Z"
   },
   {
    "duration": 1210,
    "start_time": "2022-06-12T09:59:49.585Z"
   },
   {
    "duration": 882,
    "start_time": "2022-06-12T09:59:50.797Z"
   },
   {
    "duration": 13,
    "start_time": "2022-06-12T09:59:51.681Z"
   },
   {
    "duration": 15,
    "start_time": "2022-06-12T09:59:51.696Z"
   },
   {
    "duration": 13,
    "start_time": "2022-06-12T09:59:51.713Z"
   },
   {
    "duration": 13,
    "start_time": "2022-06-12T09:59:51.727Z"
   },
   {
    "duration": 11,
    "start_time": "2022-06-12T09:59:51.741Z"
   },
   {
    "duration": 13,
    "start_time": "2022-06-12T09:59:51.754Z"
   },
   {
    "duration": 10,
    "start_time": "2022-06-12T09:59:51.768Z"
   },
   {
    "duration": 10,
    "start_time": "2022-06-12T09:59:51.780Z"
   },
   {
    "duration": 17,
    "start_time": "2022-06-12T09:59:51.791Z"
   },
   {
    "duration": 27,
    "start_time": "2022-06-12T09:59:51.810Z"
   },
   {
    "duration": 19,
    "start_time": "2022-06-12T09:59:51.839Z"
   },
   {
    "duration": 44,
    "start_time": "2022-06-12T09:59:51.859Z"
   },
   {
    "duration": 34,
    "start_time": "2022-06-12T09:59:51.905Z"
   },
   {
    "duration": 10,
    "start_time": "2022-06-12T09:59:51.941Z"
   },
   {
    "duration": 42,
    "start_time": "2022-06-12T09:59:51.953Z"
   },
   {
    "duration": 6,
    "start_time": "2022-06-12T09:59:51.996Z"
   },
   {
    "duration": 25,
    "start_time": "2022-06-12T09:59:52.003Z"
   },
   {
    "duration": 23,
    "start_time": "2022-06-12T09:59:52.029Z"
   },
   {
    "duration": 15,
    "start_time": "2022-06-12T09:59:52.053Z"
   },
   {
    "duration": 5,
    "start_time": "2022-06-12T09:59:52.070Z"
   },
   {
    "duration": 23,
    "start_time": "2022-06-12T09:59:52.076Z"
   },
   {
    "duration": 56,
    "start_time": "2022-06-12T09:59:52.100Z"
   },
   {
    "duration": 19,
    "start_time": "2022-06-12T09:59:52.157Z"
   },
   {
    "duration": 6,
    "start_time": "2022-06-12T09:59:52.178Z"
   },
   {
    "duration": 89,
    "start_time": "2022-06-12T09:59:52.185Z"
   },
   {
    "duration": 22,
    "start_time": "2022-06-12T09:59:52.278Z"
   },
   {
    "duration": 47,
    "start_time": "2022-06-12T09:59:52.302Z"
   },
   {
    "duration": 16,
    "start_time": "2022-06-12T09:59:52.350Z"
   },
   {
    "duration": 23,
    "start_time": "2022-06-12T09:59:52.367Z"
   },
   {
    "duration": 47,
    "start_time": "2022-06-12T09:59:52.392Z"
   },
   {
    "duration": 26,
    "start_time": "2022-06-12T09:59:52.441Z"
   },
   {
    "duration": 9,
    "start_time": "2022-06-12T09:59:52.469Z"
   },
   {
    "duration": 7,
    "start_time": "2022-06-12T09:59:52.480Z"
   },
   {
    "duration": 62,
    "start_time": "2022-06-12T09:59:52.489Z"
   },
   {
    "duration": 8,
    "start_time": "2022-06-12T09:59:52.553Z"
   },
   {
    "duration": 13,
    "start_time": "2022-06-12T09:59:52.563Z"
   },
   {
    "duration": 18,
    "start_time": "2022-06-12T09:59:52.578Z"
   },
   {
    "duration": 6,
    "start_time": "2022-06-12T09:59:52.622Z"
   },
   {
    "duration": 146,
    "start_time": "2022-06-12T09:59:52.630Z"
   },
   {
    "duration": 21,
    "start_time": "2022-06-12T09:59:52.778Z"
   },
   {
    "duration": 223,
    "start_time": "2022-06-12T09:59:52.801Z"
   },
   {
    "duration": 206,
    "start_time": "2022-06-12T09:59:53.026Z"
   },
   {
    "duration": 203,
    "start_time": "2022-06-12T09:59:53.234Z"
   },
   {
    "duration": 9,
    "start_time": "2022-06-12T09:59:53.439Z"
   },
   {
    "duration": 16,
    "start_time": "2022-06-12T09:59:53.450Z"
   },
   {
    "duration": 16,
    "start_time": "2022-06-12T09:59:53.468Z"
   },
   {
    "duration": 233,
    "start_time": "2022-06-12T09:59:53.485Z"
   },
   {
    "duration": 4,
    "start_time": "2022-06-12T09:59:53.723Z"
   },
   {
    "duration": 7,
    "start_time": "2022-06-12T09:59:53.728Z"
   },
   {
    "duration": 7,
    "start_time": "2022-06-12T09:59:53.736Z"
   },
   {
    "duration": 11,
    "start_time": "2022-06-12T09:59:53.744Z"
   },
   {
    "duration": 221,
    "start_time": "2022-06-12T09:59:53.756Z"
   },
   {
    "duration": 6,
    "start_time": "2022-06-12T09:59:53.979Z"
   },
   {
    "duration": 17,
    "start_time": "2022-06-12T09:59:53.987Z"
   },
   {
    "duration": 6,
    "start_time": "2022-06-12T09:59:54.006Z"
   },
   {
    "duration": 13,
    "start_time": "2022-06-12T09:59:54.014Z"
   },
   {
    "duration": 215,
    "start_time": "2022-06-12T09:59:54.029Z"
   },
   {
    "duration": 3,
    "start_time": "2022-06-12T09:59:54.246Z"
   },
   {
    "duration": 8,
    "start_time": "2022-06-12T09:59:54.251Z"
   },
   {
    "duration": 8,
    "start_time": "2022-06-12T09:59:54.260Z"
   },
   {
    "duration": 14,
    "start_time": "2022-06-12T09:59:54.269Z"
   },
   {
    "duration": 8,
    "start_time": "2022-06-12T09:59:54.284Z"
   },
   {
    "duration": 8,
    "start_time": "2022-06-12T09:59:54.294Z"
   },
   {
    "duration": 20,
    "start_time": "2022-06-12T09:59:54.304Z"
   },
   {
    "duration": 6,
    "start_time": "2022-06-12T09:59:54.325Z"
   },
   {
    "duration": 22,
    "start_time": "2022-06-12T10:03:59.814Z"
   },
   {
    "duration": 30,
    "start_time": "2022-06-12T10:04:10.614Z"
   },
   {
    "duration": 41,
    "start_time": "2022-06-12T10:19:31.778Z"
   },
   {
    "duration": 78,
    "start_time": "2022-06-12T10:20:43.322Z"
   },
   {
    "duration": 29,
    "start_time": "2022-06-12T10:20:49.129Z"
   },
   {
    "duration": 38,
    "start_time": "2022-06-12T10:21:26.275Z"
   },
   {
    "duration": 37,
    "start_time": "2022-06-12T10:23:41.136Z"
   },
   {
    "duration": 28,
    "start_time": "2022-06-12T10:23:50.038Z"
   },
   {
    "duration": 39,
    "start_time": "2022-06-12T10:28:38.001Z"
   },
   {
    "duration": 26,
    "start_time": "2022-06-12T10:28:49.021Z"
   },
   {
    "duration": 29,
    "start_time": "2022-06-12T10:28:53.433Z"
   },
   {
    "duration": 27,
    "start_time": "2022-06-12T10:29:55.431Z"
   },
   {
    "duration": 3,
    "start_time": "2022-06-12T10:30:03.883Z"
   },
   {
    "duration": 442,
    "start_time": "2022-06-12T10:30:03.888Z"
   },
   {
    "duration": 9,
    "start_time": "2022-06-12T10:30:04.333Z"
   },
   {
    "duration": 20,
    "start_time": "2022-06-12T10:30:04.344Z"
   },
   {
    "duration": 13,
    "start_time": "2022-06-12T10:30:04.366Z"
   },
   {
    "duration": 14,
    "start_time": "2022-06-12T10:30:04.380Z"
   },
   {
    "duration": 14,
    "start_time": "2022-06-12T10:30:04.395Z"
   },
   {
    "duration": 14,
    "start_time": "2022-06-12T10:30:04.411Z"
   },
   {
    "duration": 6,
    "start_time": "2022-06-12T10:30:04.427Z"
   },
   {
    "duration": 7,
    "start_time": "2022-06-12T10:30:04.435Z"
   },
   {
    "duration": 10,
    "start_time": "2022-06-12T10:30:04.445Z"
   },
   {
    "duration": 12,
    "start_time": "2022-06-12T10:30:04.456Z"
   },
   {
    "duration": 13,
    "start_time": "2022-06-12T10:30:04.469Z"
   },
   {
    "duration": 39,
    "start_time": "2022-06-12T10:30:04.484Z"
   },
   {
    "duration": 33,
    "start_time": "2022-06-12T10:30:04.525Z"
   },
   {
    "duration": 8,
    "start_time": "2022-06-12T10:30:04.560Z"
   },
   {
    "duration": 55,
    "start_time": "2022-06-12T10:30:04.570Z"
   },
   {
    "duration": 24,
    "start_time": "2022-06-12T10:30:04.627Z"
   },
   {
    "duration": 7,
    "start_time": "2022-06-12T10:30:04.652Z"
   },
   {
    "duration": 19,
    "start_time": "2022-06-12T10:30:04.661Z"
   },
   {
    "duration": 56,
    "start_time": "2022-06-12T10:30:04.682Z"
   },
   {
    "duration": 17,
    "start_time": "2022-06-12T10:30:04.740Z"
   },
   {
    "duration": 7,
    "start_time": "2022-06-12T10:30:04.759Z"
   },
   {
    "duration": 23,
    "start_time": "2022-06-12T10:30:04.768Z"
   },
   {
    "duration": 55,
    "start_time": "2022-06-12T10:30:04.793Z"
   },
   {
    "duration": 19,
    "start_time": "2022-06-12T10:30:04.850Z"
   },
   {
    "duration": 7,
    "start_time": "2022-06-12T10:30:04.870Z"
   },
   {
    "duration": 88,
    "start_time": "2022-06-12T10:30:04.878Z"
   },
   {
    "duration": 23,
    "start_time": "2022-06-12T10:30:04.970Z"
   },
   {
    "duration": 52,
    "start_time": "2022-06-12T10:30:04.994Z"
   },
   {
    "duration": 18,
    "start_time": "2022-06-12T10:30:05.048Z"
   },
   {
    "duration": 37,
    "start_time": "2022-06-12T10:30:05.069Z"
   },
   {
    "duration": 40,
    "start_time": "2022-06-12T10:30:05.108Z"
   },
   {
    "duration": 33,
    "start_time": "2022-06-12T10:30:05.150Z"
   },
   {
    "duration": 10,
    "start_time": "2022-06-12T10:30:05.185Z"
   },
   {
    "duration": 29,
    "start_time": "2022-06-12T10:30:05.197Z"
   },
   {
    "duration": 41,
    "start_time": "2022-06-12T10:30:05.228Z"
   },
   {
    "duration": 7,
    "start_time": "2022-06-12T10:30:05.271Z"
   },
   {
    "duration": 21,
    "start_time": "2022-06-12T10:30:05.280Z"
   },
   {
    "duration": 29,
    "start_time": "2022-06-12T10:30:05.303Z"
   },
   {
    "duration": 11,
    "start_time": "2022-06-12T10:30:05.334Z"
   },
   {
    "duration": 131,
    "start_time": "2022-06-12T10:30:05.346Z"
   },
   {
    "duration": 23,
    "start_time": "2022-06-12T10:30:05.479Z"
   },
   {
    "duration": 226,
    "start_time": "2022-06-12T10:30:05.504Z"
   },
   {
    "duration": 328,
    "start_time": "2022-06-12T10:30:05.732Z"
   },
   {
    "duration": 230,
    "start_time": "2022-06-12T10:30:06.062Z"
   },
   {
    "duration": 9,
    "start_time": "2022-06-12T10:30:06.294Z"
   },
   {
    "duration": 34,
    "start_time": "2022-06-12T10:30:06.304Z"
   },
   {
    "duration": 19,
    "start_time": "2022-06-12T10:30:06.340Z"
   },
   {
    "duration": 257,
    "start_time": "2022-06-12T10:30:06.361Z"
   },
   {
    "duration": 4,
    "start_time": "2022-06-12T10:30:06.622Z"
   },
   {
    "duration": 12,
    "start_time": "2022-06-12T10:30:06.628Z"
   },
   {
    "duration": 9,
    "start_time": "2022-06-12T10:30:06.642Z"
   },
   {
    "duration": 15,
    "start_time": "2022-06-12T10:30:06.653Z"
   },
   {
    "duration": 201,
    "start_time": "2022-06-12T10:30:06.670Z"
   },
   {
    "duration": 5,
    "start_time": "2022-06-12T10:30:06.872Z"
   },
   {
    "duration": 13,
    "start_time": "2022-06-12T10:30:06.879Z"
   },
   {
    "duration": 6,
    "start_time": "2022-06-12T10:30:06.894Z"
   },
   {
    "duration": 21,
    "start_time": "2022-06-12T10:30:06.902Z"
   },
   {
    "duration": 242,
    "start_time": "2022-06-12T10:30:06.925Z"
   },
   {
    "duration": 4,
    "start_time": "2022-06-12T10:30:07.169Z"
   },
   {
    "duration": 10,
    "start_time": "2022-06-12T10:30:07.175Z"
   },
   {
    "duration": 4,
    "start_time": "2022-06-12T10:30:07.187Z"
   },
   {
    "duration": 13,
    "start_time": "2022-06-12T10:30:07.193Z"
   },
   {
    "duration": 22,
    "start_time": "2022-06-12T10:30:07.208Z"
   },
   {
    "duration": 15,
    "start_time": "2022-06-12T10:30:07.232Z"
   },
   {
    "duration": 15,
    "start_time": "2022-06-12T10:30:07.249Z"
   },
   {
    "duration": 14,
    "start_time": "2022-06-12T10:30:07.266Z"
   },
   {
    "duration": 28,
    "start_time": "2022-06-12T10:30:55.010Z"
   },
   {
    "duration": 28,
    "start_time": "2022-06-12T10:31:04.437Z"
   },
   {
    "duration": 1048,
    "start_time": "2022-06-12T10:31:17.241Z"
   },
   {
    "duration": 416,
    "start_time": "2022-06-12T10:31:18.291Z"
   },
   {
    "duration": 15,
    "start_time": "2022-06-12T10:31:18.709Z"
   },
   {
    "duration": 24,
    "start_time": "2022-06-12T10:31:18.726Z"
   },
   {
    "duration": 13,
    "start_time": "2022-06-12T10:31:18.751Z"
   },
   {
    "duration": 17,
    "start_time": "2022-06-12T10:31:18.766Z"
   },
   {
    "duration": 24,
    "start_time": "2022-06-12T10:31:18.785Z"
   },
   {
    "duration": 24,
    "start_time": "2022-06-12T10:31:18.811Z"
   },
   {
    "duration": 22,
    "start_time": "2022-06-12T10:31:18.837Z"
   },
   {
    "duration": 7,
    "start_time": "2022-06-12T10:31:18.861Z"
   },
   {
    "duration": 13,
    "start_time": "2022-06-12T10:31:18.870Z"
   },
   {
    "duration": 18,
    "start_time": "2022-06-12T10:31:18.884Z"
   },
   {
    "duration": 17,
    "start_time": "2022-06-12T10:31:18.903Z"
   },
   {
    "duration": 48,
    "start_time": "2022-06-12T10:31:18.922Z"
   },
   {
    "duration": 41,
    "start_time": "2022-06-12T10:31:18.972Z"
   },
   {
    "duration": 9,
    "start_time": "2022-06-12T10:31:19.015Z"
   },
   {
    "duration": 25,
    "start_time": "2022-06-12T10:31:19.025Z"
   },
   {
    "duration": 7,
    "start_time": "2022-06-12T10:31:19.052Z"
   },
   {
    "duration": 20,
    "start_time": "2022-06-12T10:31:19.060Z"
   },
   {
    "duration": 51,
    "start_time": "2022-06-12T10:31:19.082Z"
   },
   {
    "duration": 17,
    "start_time": "2022-06-12T10:31:19.134Z"
   },
   {
    "duration": 6,
    "start_time": "2022-06-12T10:31:19.152Z"
   },
   {
    "duration": 24,
    "start_time": "2022-06-12T10:31:19.160Z"
   },
   {
    "duration": 62,
    "start_time": "2022-06-12T10:31:19.186Z"
   },
   {
    "duration": 24,
    "start_time": "2022-06-12T10:31:19.249Z"
   },
   {
    "duration": 7,
    "start_time": "2022-06-12T10:31:19.275Z"
   },
   {
    "duration": 81,
    "start_time": "2022-06-12T10:31:19.284Z"
   },
   {
    "duration": 22,
    "start_time": "2022-06-12T10:31:19.369Z"
   },
   {
    "duration": 46,
    "start_time": "2022-06-12T10:31:19.392Z"
   },
   {
    "duration": 17,
    "start_time": "2022-06-12T10:31:19.440Z"
   },
   {
    "duration": 19,
    "start_time": "2022-06-12T10:31:19.458Z"
   },
   {
    "duration": 57,
    "start_time": "2022-06-12T10:31:19.479Z"
   },
   {
    "duration": 30,
    "start_time": "2022-06-12T10:31:19.538Z"
   },
   {
    "duration": 11,
    "start_time": "2022-06-12T10:31:19.569Z"
   },
   {
    "duration": 15,
    "start_time": "2022-06-12T10:31:19.581Z"
   },
   {
    "duration": 53,
    "start_time": "2022-06-12T10:31:19.598Z"
   },
   {
    "duration": 5,
    "start_time": "2022-06-12T10:31:19.653Z"
   },
   {
    "duration": 35,
    "start_time": "2022-06-12T10:31:19.660Z"
   },
   {
    "duration": 13,
    "start_time": "2022-06-12T10:31:19.697Z"
   },
   {
    "duration": 20,
    "start_time": "2022-06-12T10:31:19.711Z"
   },
   {
    "duration": 178,
    "start_time": "2022-06-12T10:31:19.733Z"
   },
   {
    "duration": 23,
    "start_time": "2022-06-12T10:31:19.913Z"
   },
   {
    "duration": 293,
    "start_time": "2022-06-12T10:31:19.938Z"
   },
   {
    "duration": 240,
    "start_time": "2022-06-12T10:31:20.234Z"
   },
   {
    "duration": 451,
    "start_time": "2022-06-12T10:31:20.475Z"
   },
   {
    "duration": 9,
    "start_time": "2022-06-12T10:31:20.927Z"
   },
   {
    "duration": 26,
    "start_time": "2022-06-12T10:31:20.938Z"
   },
   {
    "duration": 67,
    "start_time": "2022-06-12T10:31:20.965Z"
   },
   {
    "duration": 502,
    "start_time": "2022-06-12T10:31:21.034Z"
   },
   {
    "duration": 5,
    "start_time": "2022-06-12T10:31:21.538Z"
   },
   {
    "duration": 12,
    "start_time": "2022-06-12T10:31:21.544Z"
   },
   {
    "duration": 6,
    "start_time": "2022-06-12T10:31:21.559Z"
   },
   {
    "duration": 58,
    "start_time": "2022-06-12T10:31:21.567Z"
   },
   {
    "duration": 421,
    "start_time": "2022-06-12T10:31:21.626Z"
   },
   {
    "duration": 4,
    "start_time": "2022-06-12T10:31:22.048Z"
   },
   {
    "duration": 9,
    "start_time": "2022-06-12T10:31:22.053Z"
   },
   {
    "duration": 7,
    "start_time": "2022-06-12T10:31:22.063Z"
   },
   {
    "duration": 13,
    "start_time": "2022-06-12T10:31:22.123Z"
   },
   {
    "duration": 341,
    "start_time": "2022-06-12T10:31:22.137Z"
   },
   {
    "duration": 5,
    "start_time": "2022-06-12T10:31:22.479Z"
   },
   {
    "duration": 9,
    "start_time": "2022-06-12T10:31:22.487Z"
   },
   {
    "duration": 5,
    "start_time": "2022-06-12T10:31:22.498Z"
   },
   {
    "duration": 25,
    "start_time": "2022-06-12T10:31:22.505Z"
   },
   {
    "duration": 12,
    "start_time": "2022-06-12T10:31:22.533Z"
   },
   {
    "duration": 29,
    "start_time": "2022-06-12T10:31:22.547Z"
   },
   {
    "duration": 16,
    "start_time": "2022-06-12T10:31:22.578Z"
   },
   {
    "duration": 11,
    "start_time": "2022-06-12T10:31:22.597Z"
   },
   {
    "duration": 33,
    "start_time": "2022-06-12T10:35:12.631Z"
   },
   {
    "duration": 47,
    "start_time": "2022-06-12T10:36:28.338Z"
   },
   {
    "duration": 37,
    "start_time": "2022-06-12T10:38:44.593Z"
   },
   {
    "duration": 1073,
    "start_time": "2022-06-12T10:44:04.622Z"
   },
   {
    "duration": 471,
    "start_time": "2022-06-12T10:44:05.697Z"
   },
   {
    "duration": 20,
    "start_time": "2022-06-12T10:44:06.169Z"
   },
   {
    "duration": 16,
    "start_time": "2022-06-12T10:44:06.192Z"
   },
   {
    "duration": 13,
    "start_time": "2022-06-12T10:44:06.210Z"
   },
   {
    "duration": 30,
    "start_time": "2022-06-12T10:44:06.225Z"
   },
   {
    "duration": 16,
    "start_time": "2022-06-12T10:44:06.257Z"
   },
   {
    "duration": 22,
    "start_time": "2022-06-12T10:44:06.275Z"
   },
   {
    "duration": 19,
    "start_time": "2022-06-12T10:44:06.299Z"
   },
   {
    "duration": 10,
    "start_time": "2022-06-12T10:44:06.321Z"
   },
   {
    "duration": 8,
    "start_time": "2022-06-12T10:44:06.334Z"
   },
   {
    "duration": 11,
    "start_time": "2022-06-12T10:44:06.344Z"
   },
   {
    "duration": 9,
    "start_time": "2022-06-12T10:44:06.358Z"
   },
   {
    "duration": 40,
    "start_time": "2022-06-12T10:44:06.369Z"
   },
   {
    "duration": 39,
    "start_time": "2022-06-12T10:44:06.424Z"
   },
   {
    "duration": 11,
    "start_time": "2022-06-12T10:44:06.466Z"
   },
   {
    "duration": 53,
    "start_time": "2022-06-12T10:44:06.479Z"
   },
   {
    "duration": 7,
    "start_time": "2022-06-12T10:44:06.534Z"
   },
   {
    "duration": 33,
    "start_time": "2022-06-12T10:44:06.543Z"
   },
   {
    "duration": 24,
    "start_time": "2022-06-12T10:44:06.580Z"
   },
   {
    "duration": 29,
    "start_time": "2022-06-12T10:44:06.606Z"
   },
   {
    "duration": 8,
    "start_time": "2022-06-12T10:44:06.637Z"
   },
   {
    "duration": 23,
    "start_time": "2022-06-12T10:44:06.648Z"
   },
   {
    "duration": 63,
    "start_time": "2022-06-12T10:44:06.673Z"
   },
   {
    "duration": 19,
    "start_time": "2022-06-12T10:44:06.738Z"
   },
   {
    "duration": 7,
    "start_time": "2022-06-12T10:44:06.759Z"
   },
   {
    "duration": 108,
    "start_time": "2022-06-12T10:44:06.770Z"
   },
   {
    "duration": 23,
    "start_time": "2022-06-12T10:44:06.884Z"
   },
   {
    "duration": 48,
    "start_time": "2022-06-12T10:44:06.909Z"
   },
   {
    "duration": 18,
    "start_time": "2022-06-12T10:44:06.959Z"
   },
   {
    "duration": 46,
    "start_time": "2022-06-12T10:44:06.979Z"
   },
   {
    "duration": 43,
    "start_time": "2022-06-12T10:44:07.027Z"
   },
   {
    "duration": 51,
    "start_time": "2022-06-12T10:44:07.072Z"
   },
   {
    "duration": 16,
    "start_time": "2022-06-12T10:44:07.126Z"
   },
   {
    "duration": 12,
    "start_time": "2022-06-12T10:44:07.143Z"
   },
   {
    "duration": 84,
    "start_time": "2022-06-12T10:44:07.158Z"
   },
   {
    "duration": 6,
    "start_time": "2022-06-12T10:44:07.244Z"
   },
   {
    "duration": 25,
    "start_time": "2022-06-12T10:44:07.254Z"
   },
   {
    "duration": 14,
    "start_time": "2022-06-12T10:44:07.281Z"
   },
   {
    "duration": 28,
    "start_time": "2022-06-12T10:44:07.297Z"
   },
   {
    "duration": 206,
    "start_time": "2022-06-12T10:44:07.328Z"
   },
   {
    "duration": 25,
    "start_time": "2022-06-12T10:44:07.536Z"
   },
   {
    "duration": 233,
    "start_time": "2022-06-12T10:44:07.563Z"
   },
   {
    "duration": 250,
    "start_time": "2022-06-12T10:44:07.798Z"
   },
   {
    "duration": 264,
    "start_time": "2022-06-12T10:44:08.051Z"
   },
   {
    "duration": 14,
    "start_time": "2022-06-12T10:44:08.317Z"
   },
   {
    "duration": 28,
    "start_time": "2022-06-12T10:44:08.333Z"
   },
   {
    "duration": 27,
    "start_time": "2022-06-12T10:44:08.363Z"
   },
   {
    "duration": 264,
    "start_time": "2022-06-12T10:44:08.392Z"
   },
   {
    "duration": 4,
    "start_time": "2022-06-12T10:44:08.658Z"
   },
   {
    "duration": 9,
    "start_time": "2022-06-12T10:44:08.663Z"
   },
   {
    "duration": 14,
    "start_time": "2022-06-12T10:44:08.674Z"
   },
   {
    "duration": 16,
    "start_time": "2022-06-12T10:44:08.690Z"
   },
   {
    "duration": 236,
    "start_time": "2022-06-12T10:44:08.708Z"
   },
   {
    "duration": 4,
    "start_time": "2022-06-12T10:44:08.946Z"
   },
   {
    "duration": 18,
    "start_time": "2022-06-12T10:44:08.952Z"
   },
   {
    "duration": 13,
    "start_time": "2022-06-12T10:44:08.972Z"
   },
   {
    "duration": 22,
    "start_time": "2022-06-12T10:44:08.987Z"
   },
   {
    "duration": 235,
    "start_time": "2022-06-12T10:44:09.011Z"
   },
   {
    "duration": 4,
    "start_time": "2022-06-12T10:44:09.248Z"
   },
   {
    "duration": 15,
    "start_time": "2022-06-12T10:44:09.254Z"
   },
   {
    "duration": 26,
    "start_time": "2022-06-12T10:44:09.272Z"
   },
   {
    "duration": 18,
    "start_time": "2022-06-12T10:44:09.300Z"
   },
   {
    "duration": 8,
    "start_time": "2022-06-12T10:44:09.320Z"
   },
   {
    "duration": 10,
    "start_time": "2022-06-12T10:44:09.331Z"
   },
   {
    "duration": 12,
    "start_time": "2022-06-12T10:44:09.344Z"
   },
   {
    "duration": 9,
    "start_time": "2022-06-12T10:44:09.358Z"
   },
   {
    "duration": 5,
    "start_time": "2022-06-12T11:13:00.595Z"
   },
   {
    "duration": 12,
    "start_time": "2022-06-12T11:13:04.962Z"
   },
   {
    "duration": 11,
    "start_time": "2022-06-12T11:14:01.454Z"
   },
   {
    "duration": 1062,
    "start_time": "2022-06-12T11:14:13.812Z"
   },
   {
    "duration": 401,
    "start_time": "2022-06-12T11:14:14.875Z"
   },
   {
    "duration": 13,
    "start_time": "2022-06-12T11:14:15.278Z"
   },
   {
    "duration": 17,
    "start_time": "2022-06-12T11:14:15.293Z"
   },
   {
    "duration": 11,
    "start_time": "2022-06-12T11:14:15.312Z"
   },
   {
    "duration": 12,
    "start_time": "2022-06-12T11:14:15.324Z"
   },
   {
    "duration": 12,
    "start_time": "2022-06-12T11:14:15.337Z"
   },
   {
    "duration": 14,
    "start_time": "2022-06-12T11:14:15.350Z"
   },
   {
    "duration": 8,
    "start_time": "2022-06-12T11:14:15.365Z"
   },
   {
    "duration": 17,
    "start_time": "2022-06-12T11:14:15.375Z"
   },
   {
    "duration": 23,
    "start_time": "2022-06-12T11:14:15.393Z"
   },
   {
    "duration": 12,
    "start_time": "2022-06-12T11:14:15.418Z"
   },
   {
    "duration": 12,
    "start_time": "2022-06-12T11:14:15.432Z"
   },
   {
    "duration": 30,
    "start_time": "2022-06-12T11:14:15.445Z"
   },
   {
    "duration": 46,
    "start_time": "2022-06-12T11:14:15.477Z"
   },
   {
    "duration": 9,
    "start_time": "2022-06-12T11:14:15.525Z"
   },
   {
    "duration": 24,
    "start_time": "2022-06-12T11:14:15.535Z"
   },
   {
    "duration": 7,
    "start_time": "2022-06-12T11:14:15.561Z"
   },
   {
    "duration": 19,
    "start_time": "2022-06-12T11:14:15.569Z"
   },
   {
    "duration": 24,
    "start_time": "2022-06-12T11:14:15.622Z"
   },
   {
    "duration": 17,
    "start_time": "2022-06-12T11:14:15.647Z"
   },
   {
    "duration": 7,
    "start_time": "2022-06-12T11:14:15.666Z"
   },
   {
    "duration": 30,
    "start_time": "2022-06-12T11:14:15.674Z"
   },
   {
    "duration": 28,
    "start_time": "2022-06-12T11:14:15.722Z"
   },
   {
    "duration": 19,
    "start_time": "2022-06-12T11:14:15.752Z"
   },
   {
    "duration": 6,
    "start_time": "2022-06-12T11:14:15.772Z"
   },
   {
    "duration": 84,
    "start_time": "2022-06-12T11:14:15.780Z"
   },
   {
    "duration": 21,
    "start_time": "2022-06-12T11:14:15.868Z"
   },
   {
    "duration": 43,
    "start_time": "2022-06-12T11:14:15.891Z"
   },
   {
    "duration": 15,
    "start_time": "2022-06-12T11:14:15.936Z"
   },
   {
    "duration": 29,
    "start_time": "2022-06-12T11:14:15.953Z"
   },
   {
    "duration": 25,
    "start_time": "2022-06-12T11:14:15.984Z"
   },
   {
    "duration": 27,
    "start_time": "2022-06-12T11:14:16.024Z"
   },
   {
    "duration": 10,
    "start_time": "2022-06-12T11:14:16.052Z"
   },
   {
    "duration": 8,
    "start_time": "2022-06-12T11:14:16.063Z"
   },
   {
    "duration": 55,
    "start_time": "2022-06-12T11:14:16.072Z"
   },
   {
    "duration": 6,
    "start_time": "2022-06-12T11:14:16.128Z"
   },
   {
    "duration": 19,
    "start_time": "2022-06-12T11:14:16.135Z"
   },
   {
    "duration": 14,
    "start_time": "2022-06-12T11:14:16.155Z"
   },
   {
    "duration": 17,
    "start_time": "2022-06-12T11:14:16.170Z"
   },
   {
    "duration": 5,
    "start_time": "2022-06-12T11:14:16.189Z"
   },
   {
    "duration": 159,
    "start_time": "2022-06-12T11:14:16.195Z"
   },
   {
    "duration": 33,
    "start_time": "2022-06-12T11:14:16.357Z"
   },
   {
    "duration": 240,
    "start_time": "2022-06-12T11:14:16.392Z"
   },
   {
    "duration": 217,
    "start_time": "2022-06-12T11:14:16.633Z"
   },
   {
    "duration": 205,
    "start_time": "2022-06-12T11:14:16.852Z"
   },
   {
    "duration": 11,
    "start_time": "2022-06-12T11:14:17.058Z"
   },
   {
    "duration": 20,
    "start_time": "2022-06-12T11:14:17.070Z"
   },
   {
    "duration": 45,
    "start_time": "2022-06-12T11:14:17.092Z"
   },
   {
    "duration": 223,
    "start_time": "2022-06-12T11:14:17.139Z"
   },
   {
    "duration": 4,
    "start_time": "2022-06-12T11:14:17.365Z"
   },
   {
    "duration": 14,
    "start_time": "2022-06-12T11:14:17.371Z"
   },
   {
    "duration": 5,
    "start_time": "2022-06-12T11:14:17.387Z"
   },
   {
    "duration": 14,
    "start_time": "2022-06-12T11:14:17.394Z"
   },
   {
    "duration": 200,
    "start_time": "2022-06-12T11:14:17.423Z"
   },
   {
    "duration": 4,
    "start_time": "2022-06-12T11:14:17.625Z"
   },
   {
    "duration": 11,
    "start_time": "2022-06-12T11:14:17.630Z"
   },
   {
    "duration": 24,
    "start_time": "2022-06-12T11:14:17.643Z"
   },
   {
    "duration": 20,
    "start_time": "2022-06-12T11:14:17.669Z"
   },
   {
    "duration": 216,
    "start_time": "2022-06-12T11:14:17.690Z"
   },
   {
    "duration": 4,
    "start_time": "2022-06-12T11:14:17.908Z"
   },
   {
    "duration": 23,
    "start_time": "2022-06-12T11:14:17.913Z"
   },
   {
    "duration": 12,
    "start_time": "2022-06-12T11:14:17.938Z"
   },
   {
    "duration": 26,
    "start_time": "2022-06-12T11:14:17.952Z"
   },
   {
    "duration": 13,
    "start_time": "2022-06-12T11:14:17.980Z"
   },
   {
    "duration": 8,
    "start_time": "2022-06-12T11:14:17.995Z"
   },
   {
    "duration": 12,
    "start_time": "2022-06-12T11:14:18.006Z"
   },
   {
    "duration": 9,
    "start_time": "2022-06-12T11:14:18.021Z"
   },
   {
    "duration": 1098,
    "start_time": "2022-06-12T11:20:24.892Z"
   },
   {
    "duration": 415,
    "start_time": "2022-06-12T11:20:25.993Z"
   },
   {
    "duration": 14,
    "start_time": "2022-06-12T11:20:26.410Z"
   },
   {
    "duration": 8,
    "start_time": "2022-06-12T11:20:26.426Z"
   },
   {
    "duration": 9,
    "start_time": "2022-06-12T11:20:26.437Z"
   },
   {
    "duration": 11,
    "start_time": "2022-06-12T11:20:26.448Z"
   },
   {
    "duration": 9,
    "start_time": "2022-06-12T11:20:26.461Z"
   },
   {
    "duration": 13,
    "start_time": "2022-06-12T11:20:26.472Z"
   },
   {
    "duration": 36,
    "start_time": "2022-06-12T11:20:26.487Z"
   },
   {
    "duration": 10,
    "start_time": "2022-06-12T11:20:26.525Z"
   },
   {
    "duration": 7,
    "start_time": "2022-06-12T11:20:26.537Z"
   },
   {
    "duration": 6,
    "start_time": "2022-06-12T11:20:26.546Z"
   },
   {
    "duration": 10,
    "start_time": "2022-06-12T11:20:26.554Z"
   },
   {
    "duration": 24,
    "start_time": "2022-06-12T11:20:26.567Z"
   },
   {
    "duration": 54,
    "start_time": "2022-06-12T11:20:26.593Z"
   },
   {
    "duration": 8,
    "start_time": "2022-06-12T11:20:26.648Z"
   },
   {
    "duration": 23,
    "start_time": "2022-06-12T11:20:26.657Z"
   },
   {
    "duration": 6,
    "start_time": "2022-06-12T11:20:26.682Z"
   },
   {
    "duration": 44,
    "start_time": "2022-06-12T11:20:26.689Z"
   },
   {
    "duration": 22,
    "start_time": "2022-06-12T11:20:26.735Z"
   },
   {
    "duration": 15,
    "start_time": "2022-06-12T11:20:26.759Z"
   },
   {
    "duration": 6,
    "start_time": "2022-06-12T11:20:26.775Z"
   },
   {
    "duration": 45,
    "start_time": "2022-06-12T11:20:26.782Z"
   },
   {
    "duration": 26,
    "start_time": "2022-06-12T11:20:26.829Z"
   },
   {
    "duration": 18,
    "start_time": "2022-06-12T11:20:26.857Z"
   },
   {
    "duration": 5,
    "start_time": "2022-06-12T11:20:26.877Z"
   },
   {
    "duration": 96,
    "start_time": "2022-06-12T11:20:26.884Z"
   },
   {
    "duration": 22,
    "start_time": "2022-06-12T11:20:26.982Z"
   },
   {
    "duration": 45,
    "start_time": "2022-06-12T11:20:27.005Z"
   },
   {
    "duration": 16,
    "start_time": "2022-06-12T11:20:27.052Z"
   },
   {
    "duration": 26,
    "start_time": "2022-06-12T11:20:27.070Z"
   },
   {
    "duration": 41,
    "start_time": "2022-06-12T11:20:27.098Z"
   },
   {
    "duration": 30,
    "start_time": "2022-06-12T11:20:27.141Z"
   },
   {
    "duration": 10,
    "start_time": "2022-06-12T11:20:27.173Z"
   },
   {
    "duration": 7,
    "start_time": "2022-06-12T11:20:27.185Z"
   },
   {
    "duration": 60,
    "start_time": "2022-06-12T11:20:27.194Z"
   },
   {
    "duration": 5,
    "start_time": "2022-06-12T11:20:27.256Z"
   },
   {
    "duration": 22,
    "start_time": "2022-06-12T11:20:27.263Z"
   },
   {
    "duration": 9,
    "start_time": "2022-06-12T11:20:27.287Z"
   },
   {
    "duration": 26,
    "start_time": "2022-06-12T11:20:27.298Z"
   },
   {
    "duration": 4,
    "start_time": "2022-06-12T11:20:27.328Z"
   },
   {
    "duration": 127,
    "start_time": "2022-06-12T11:20:27.334Z"
   },
   {
    "duration": 22,
    "start_time": "2022-06-12T11:20:27.463Z"
   },
   {
    "duration": 249,
    "start_time": "2022-06-12T11:20:27.486Z"
   },
   {
    "duration": 242,
    "start_time": "2022-06-12T11:20:27.737Z"
   },
   {
    "duration": 225,
    "start_time": "2022-06-12T11:20:27.980Z"
   },
   {
    "duration": 17,
    "start_time": "2022-06-12T11:20:28.206Z"
   },
   {
    "duration": 19,
    "start_time": "2022-06-12T11:20:28.224Z"
   },
   {
    "duration": 17,
    "start_time": "2022-06-12T11:20:28.244Z"
   },
   {
    "duration": 242,
    "start_time": "2022-06-12T11:20:28.263Z"
   },
   {
    "duration": 4,
    "start_time": "2022-06-12T11:20:28.506Z"
   },
   {
    "duration": 12,
    "start_time": "2022-06-12T11:20:28.511Z"
   },
   {
    "duration": 5,
    "start_time": "2022-06-12T11:20:28.524Z"
   },
   {
    "duration": 11,
    "start_time": "2022-06-12T11:20:28.531Z"
   },
   {
    "duration": 213,
    "start_time": "2022-06-12T11:20:28.543Z"
   },
   {
    "duration": 3,
    "start_time": "2022-06-12T11:20:28.758Z"
   },
   {
    "duration": 8,
    "start_time": "2022-06-12T11:20:28.763Z"
   },
   {
    "duration": 6,
    "start_time": "2022-06-12T11:20:28.772Z"
   },
   {
    "duration": 12,
    "start_time": "2022-06-12T11:20:28.780Z"
   },
   {
    "duration": 235,
    "start_time": "2022-06-12T11:20:28.793Z"
   },
   {
    "duration": 5,
    "start_time": "2022-06-12T11:20:29.030Z"
   },
   {
    "duration": 13,
    "start_time": "2022-06-12T11:20:29.037Z"
   },
   {
    "duration": 4,
    "start_time": "2022-06-12T11:20:29.053Z"
   },
   {
    "duration": 11,
    "start_time": "2022-06-12T11:20:29.059Z"
   },
   {
    "duration": 7,
    "start_time": "2022-06-12T11:20:29.071Z"
   },
   {
    "duration": 5,
    "start_time": "2022-06-12T11:20:29.080Z"
   },
   {
    "duration": 10,
    "start_time": "2022-06-12T11:20:29.087Z"
   },
   {
    "duration": 28,
    "start_time": "2022-06-12T11:20:29.098Z"
   },
   {
    "duration": 1108,
    "start_time": "2022-06-12T11:32:47.975Z"
   },
   {
    "duration": 431,
    "start_time": "2022-06-12T11:32:49.085Z"
   },
   {
    "duration": 13,
    "start_time": "2022-06-12T11:32:49.519Z"
   },
   {
    "duration": 10,
    "start_time": "2022-06-12T11:32:49.535Z"
   },
   {
    "duration": 9,
    "start_time": "2022-06-12T11:32:49.547Z"
   },
   {
    "duration": 10,
    "start_time": "2022-06-12T11:32:49.558Z"
   },
   {
    "duration": 9,
    "start_time": "2022-06-12T11:32:49.570Z"
   },
   {
    "duration": 21,
    "start_time": "2022-06-12T11:32:49.580Z"
   },
   {
    "duration": 27,
    "start_time": "2022-06-12T11:32:49.603Z"
   },
   {
    "duration": 6,
    "start_time": "2022-06-12T11:32:49.633Z"
   },
   {
    "duration": 6,
    "start_time": "2022-06-12T11:32:49.640Z"
   },
   {
    "duration": 9,
    "start_time": "2022-06-12T11:32:49.648Z"
   },
   {
    "duration": 9,
    "start_time": "2022-06-12T11:32:49.658Z"
   },
   {
    "duration": 30,
    "start_time": "2022-06-12T11:32:49.669Z"
   },
   {
    "duration": 50,
    "start_time": "2022-06-12T11:32:49.701Z"
   },
   {
    "duration": 7,
    "start_time": "2022-06-12T11:32:49.752Z"
   },
   {
    "duration": 23,
    "start_time": "2022-06-12T11:32:49.761Z"
   },
   {
    "duration": 6,
    "start_time": "2022-06-12T11:32:49.785Z"
   },
   {
    "duration": 46,
    "start_time": "2022-06-12T11:32:49.792Z"
   },
   {
    "duration": 22,
    "start_time": "2022-06-12T11:32:49.840Z"
   },
   {
    "duration": 15,
    "start_time": "2022-06-12T11:32:49.863Z"
   },
   {
    "duration": 6,
    "start_time": "2022-06-12T11:32:49.880Z"
   },
   {
    "duration": 58,
    "start_time": "2022-06-12T11:32:49.887Z"
   },
   {
    "duration": 32,
    "start_time": "2022-06-12T11:32:49.946Z"
   },
   {
    "duration": 20,
    "start_time": "2022-06-12T11:32:49.982Z"
   },
   {
    "duration": 6,
    "start_time": "2022-06-12T11:32:50.024Z"
   },
   {
    "duration": 66,
    "start_time": "2022-06-12T11:32:50.032Z"
   },
   {
    "duration": 38,
    "start_time": "2022-06-12T11:32:50.102Z"
   },
   {
    "duration": 35,
    "start_time": "2022-06-12T11:32:50.142Z"
   },
   {
    "duration": 17,
    "start_time": "2022-06-12T11:32:50.179Z"
   },
   {
    "duration": 42,
    "start_time": "2022-06-12T11:32:50.198Z"
   },
   {
    "duration": 28,
    "start_time": "2022-06-12T11:32:50.242Z"
   },
   {
    "duration": 54,
    "start_time": "2022-06-12T11:32:50.272Z"
   },
   {
    "duration": 14,
    "start_time": "2022-06-12T11:32:50.328Z"
   },
   {
    "duration": 9,
    "start_time": "2022-06-12T11:32:50.344Z"
   },
   {
    "duration": 33,
    "start_time": "2022-06-12T11:32:50.355Z"
   },
   {
    "duration": 37,
    "start_time": "2022-06-12T11:32:50.390Z"
   },
   {
    "duration": 12,
    "start_time": "2022-06-12T11:32:50.429Z"
   },
   {
    "duration": 10,
    "start_time": "2022-06-12T11:32:50.443Z"
   },
   {
    "duration": 11,
    "start_time": "2022-06-12T11:32:50.455Z"
   },
   {
    "duration": 5,
    "start_time": "2022-06-12T11:32:50.468Z"
   },
   {
    "duration": 178,
    "start_time": "2022-06-12T11:32:50.475Z"
   },
   {
    "duration": 24,
    "start_time": "2022-06-12T11:32:50.655Z"
   },
   {
    "duration": 244,
    "start_time": "2022-06-12T11:32:50.681Z"
   },
   {
    "duration": 235,
    "start_time": "2022-06-12T11:32:50.926Z"
   },
   {
    "duration": 235,
    "start_time": "2022-06-12T11:32:51.163Z"
   },
   {
    "duration": 10,
    "start_time": "2022-06-12T11:32:51.399Z"
   },
   {
    "duration": 31,
    "start_time": "2022-06-12T11:32:51.410Z"
   },
   {
    "duration": 20,
    "start_time": "2022-06-12T11:32:51.443Z"
   },
   {
    "duration": 258,
    "start_time": "2022-06-12T11:32:51.465Z"
   },
   {
    "duration": 4,
    "start_time": "2022-06-12T11:32:51.725Z"
   },
   {
    "duration": 13,
    "start_time": "2022-06-12T11:32:51.731Z"
   },
   {
    "duration": 10,
    "start_time": "2022-06-12T11:32:51.746Z"
   },
   {
    "duration": 24,
    "start_time": "2022-06-12T11:32:51.757Z"
   },
   {
    "duration": 236,
    "start_time": "2022-06-12T11:32:51.784Z"
   },
   {
    "duration": 4,
    "start_time": "2022-06-12T11:32:52.022Z"
   },
   {
    "duration": 11,
    "start_time": "2022-06-12T11:32:52.027Z"
   },
   {
    "duration": 10,
    "start_time": "2022-06-12T11:32:52.040Z"
   },
   {
    "duration": 12,
    "start_time": "2022-06-12T11:32:52.052Z"
   },
   {
    "duration": 222,
    "start_time": "2022-06-12T11:32:52.066Z"
   },
   {
    "duration": 4,
    "start_time": "2022-06-12T11:32:52.290Z"
   },
   {
    "duration": 10,
    "start_time": "2022-06-12T11:32:52.295Z"
   },
   {
    "duration": 16,
    "start_time": "2022-06-12T11:32:52.307Z"
   },
   {
    "duration": 13,
    "start_time": "2022-06-12T11:32:52.325Z"
   },
   {
    "duration": 12,
    "start_time": "2022-06-12T11:32:52.341Z"
   },
   {
    "duration": 5,
    "start_time": "2022-06-12T11:32:52.355Z"
   },
   {
    "duration": 9,
    "start_time": "2022-06-12T11:32:52.363Z"
   },
   {
    "duration": 6,
    "start_time": "2022-06-12T11:32:52.374Z"
   },
   {
    "duration": 7,
    "start_time": "2022-06-12T12:14:20.327Z"
   },
   {
    "duration": 5,
    "start_time": "2022-06-12T12:14:45.497Z"
   },
   {
    "duration": 56,
    "start_time": "2022-06-12T12:14:50.640Z"
   },
   {
    "duration": 5,
    "start_time": "2022-06-12T12:14:54.978Z"
   },
   {
    "duration": 7,
    "start_time": "2022-06-12T12:14:59.151Z"
   },
   {
    "duration": 1130,
    "start_time": "2022-06-12T12:39:06.236Z"
   },
   {
    "duration": 472,
    "start_time": "2022-06-12T12:39:07.368Z"
   },
   {
    "duration": 15,
    "start_time": "2022-06-12T12:39:07.842Z"
   },
   {
    "duration": 9,
    "start_time": "2022-06-12T12:39:07.859Z"
   },
   {
    "duration": 10,
    "start_time": "2022-06-12T12:39:07.869Z"
   },
   {
    "duration": 11,
    "start_time": "2022-06-12T12:39:07.881Z"
   },
   {
    "duration": 13,
    "start_time": "2022-06-12T12:39:07.894Z"
   },
   {
    "duration": 16,
    "start_time": "2022-06-12T12:39:07.927Z"
   },
   {
    "duration": 19,
    "start_time": "2022-06-12T12:39:07.949Z"
   },
   {
    "duration": 8,
    "start_time": "2022-06-12T12:39:07.971Z"
   },
   {
    "duration": 17,
    "start_time": "2022-06-12T12:39:07.981Z"
   },
   {
    "duration": 11,
    "start_time": "2022-06-12T12:39:08.000Z"
   },
   {
    "duration": 14,
    "start_time": "2022-06-12T12:39:08.013Z"
   },
   {
    "duration": 57,
    "start_time": "2022-06-12T12:39:08.034Z"
   },
   {
    "duration": 50,
    "start_time": "2022-06-12T12:39:08.093Z"
   },
   {
    "duration": 10,
    "start_time": "2022-06-12T12:39:08.146Z"
   },
   {
    "duration": 36,
    "start_time": "2022-06-12T12:39:08.157Z"
   },
   {
    "duration": 9,
    "start_time": "2022-06-12T12:39:08.196Z"
   },
   {
    "duration": 38,
    "start_time": "2022-06-12T12:39:08.223Z"
   },
   {
    "duration": 26,
    "start_time": "2022-06-12T12:39:08.263Z"
   },
   {
    "duration": 21,
    "start_time": "2022-06-12T12:39:08.291Z"
   },
   {
    "duration": 20,
    "start_time": "2022-06-12T12:39:08.314Z"
   },
   {
    "duration": 36,
    "start_time": "2022-06-12T12:39:08.338Z"
   },
   {
    "duration": 29,
    "start_time": "2022-06-12T12:39:08.375Z"
   },
   {
    "duration": 38,
    "start_time": "2022-06-12T12:39:08.406Z"
   },
   {
    "duration": 7,
    "start_time": "2022-06-12T12:39:08.446Z"
   },
   {
    "duration": 85,
    "start_time": "2022-06-12T12:39:08.455Z"
   },
   {
    "duration": 33,
    "start_time": "2022-06-12T12:39:08.547Z"
   },
   {
    "duration": 52,
    "start_time": "2022-06-12T12:39:08.583Z"
   },
   {
    "duration": 24,
    "start_time": "2022-06-12T12:39:08.637Z"
   },
   {
    "duration": 25,
    "start_time": "2022-06-12T12:39:08.663Z"
   },
   {
    "duration": 56,
    "start_time": "2022-06-12T12:39:08.691Z"
   },
   {
    "duration": 39,
    "start_time": "2022-06-12T12:39:08.749Z"
   },
   {
    "duration": 13,
    "start_time": "2022-06-12T12:39:08.790Z"
   },
   {
    "duration": 17,
    "start_time": "2022-06-12T12:39:08.823Z"
   },
   {
    "duration": 48,
    "start_time": "2022-06-12T12:39:08.845Z"
   },
   {
    "duration": 6,
    "start_time": "2022-06-12T12:39:08.894Z"
   },
   {
    "duration": 13,
    "start_time": "2022-06-12T12:39:08.902Z"
   },
   {
    "duration": 28,
    "start_time": "2022-06-12T12:39:08.916Z"
   },
   {
    "duration": 38,
    "start_time": "2022-06-12T12:39:08.945Z"
   },
   {
    "duration": 7,
    "start_time": "2022-06-12T12:39:08.985Z"
   },
   {
    "duration": 174,
    "start_time": "2022-06-12T12:39:08.994Z"
   },
   {
    "duration": 25,
    "start_time": "2022-06-12T12:39:09.170Z"
   },
   {
    "duration": 297,
    "start_time": "2022-06-12T12:39:09.197Z"
   },
   {
    "duration": 343,
    "start_time": "2022-06-12T12:39:09.496Z"
   },
   {
    "duration": 232,
    "start_time": "2022-06-12T12:39:09.844Z"
   },
   {
    "duration": 10,
    "start_time": "2022-06-12T12:39:10.078Z"
   },
   {
    "duration": 25,
    "start_time": "2022-06-12T12:39:10.090Z"
   },
   {
    "duration": 29,
    "start_time": "2022-06-12T12:39:10.116Z"
   },
   {
    "duration": 258,
    "start_time": "2022-06-12T12:39:10.147Z"
   },
   {
    "duration": 4,
    "start_time": "2022-06-12T12:39:10.406Z"
   },
   {
    "duration": 19,
    "start_time": "2022-06-12T12:39:10.412Z"
   },
   {
    "duration": 15,
    "start_time": "2022-06-12T12:39:10.438Z"
   },
   {
    "duration": 12,
    "start_time": "2022-06-12T12:39:10.455Z"
   },
   {
    "duration": 235,
    "start_time": "2022-06-12T12:39:10.469Z"
   },
   {
    "duration": 3,
    "start_time": "2022-06-12T12:39:10.706Z"
   },
   {
    "duration": 21,
    "start_time": "2022-06-12T12:39:10.711Z"
   },
   {
    "duration": 16,
    "start_time": "2022-06-12T12:39:10.734Z"
   },
   {
    "duration": 15,
    "start_time": "2022-06-12T12:39:10.752Z"
   },
   {
    "duration": 234,
    "start_time": "2022-06-12T12:39:10.770Z"
   },
   {
    "duration": 5,
    "start_time": "2022-06-12T12:39:11.006Z"
   },
   {
    "duration": 32,
    "start_time": "2022-06-12T12:39:11.013Z"
   },
   {
    "duration": 4,
    "start_time": "2022-06-12T12:39:11.047Z"
   },
   {
    "duration": 20,
    "start_time": "2022-06-12T12:39:11.054Z"
   },
   {
    "duration": 10,
    "start_time": "2022-06-12T12:39:11.076Z"
   },
   {
    "duration": 9,
    "start_time": "2022-06-12T12:39:11.089Z"
   },
   {
    "duration": 13,
    "start_time": "2022-06-12T12:39:11.100Z"
   },
   {
    "duration": 34,
    "start_time": "2022-06-12T12:39:11.115Z"
   },
   {
    "duration": 1100,
    "start_time": "2022-06-12T23:45:22.705Z"
   },
   {
    "duration": 1164,
    "start_time": "2022-06-12T23:45:23.807Z"
   },
   {
    "duration": 14,
    "start_time": "2022-06-12T23:45:24.973Z"
   },
   {
    "duration": 8,
    "start_time": "2022-06-12T23:45:24.990Z"
   },
   {
    "duration": 11,
    "start_time": "2022-06-12T23:45:24.999Z"
   },
   {
    "duration": 11,
    "start_time": "2022-06-12T23:45:25.011Z"
   },
   {
    "duration": 25,
    "start_time": "2022-06-12T23:45:25.024Z"
   },
   {
    "duration": 21,
    "start_time": "2022-06-12T23:45:25.051Z"
   },
   {
    "duration": 11,
    "start_time": "2022-06-12T23:45:25.073Z"
   },
   {
    "duration": 8,
    "start_time": "2022-06-12T23:45:25.086Z"
   },
   {
    "duration": 8,
    "start_time": "2022-06-12T23:45:25.095Z"
   },
   {
    "duration": 9,
    "start_time": "2022-06-12T23:45:25.105Z"
   },
   {
    "duration": 9,
    "start_time": "2022-06-12T23:45:25.115Z"
   },
   {
    "duration": 33,
    "start_time": "2022-06-12T23:45:25.125Z"
   },
   {
    "duration": 34,
    "start_time": "2022-06-12T23:45:25.159Z"
   },
   {
    "duration": 7,
    "start_time": "2022-06-12T23:45:25.195Z"
   },
   {
    "duration": 48,
    "start_time": "2022-06-12T23:45:25.203Z"
   },
   {
    "duration": 10,
    "start_time": "2022-06-12T23:45:25.253Z"
   },
   {
    "duration": 38,
    "start_time": "2022-06-12T23:45:25.265Z"
   },
   {
    "duration": 53,
    "start_time": "2022-06-12T23:45:25.305Z"
   },
   {
    "duration": 19,
    "start_time": "2022-06-12T23:45:25.360Z"
   },
   {
    "duration": 8,
    "start_time": "2022-06-12T23:45:25.381Z"
   },
   {
    "duration": 52,
    "start_time": "2022-06-12T23:45:25.391Z"
   },
   {
    "duration": 44,
    "start_time": "2022-06-12T23:45:25.445Z"
   },
   {
    "duration": 19,
    "start_time": "2022-06-12T23:45:25.491Z"
   },
   {
    "duration": 27,
    "start_time": "2022-06-12T23:45:25.511Z"
   },
   {
    "duration": 61,
    "start_time": "2022-06-12T23:45:25.540Z"
   },
   {
    "duration": 37,
    "start_time": "2022-06-12T23:45:25.604Z"
   },
   {
    "duration": 28,
    "start_time": "2022-06-12T23:45:25.642Z"
   },
   {
    "duration": 15,
    "start_time": "2022-06-12T23:45:25.671Z"
   },
   {
    "duration": 28,
    "start_time": "2022-06-12T23:45:25.687Z"
   },
   {
    "duration": 37,
    "start_time": "2022-06-12T23:45:25.729Z"
   },
   {
    "duration": 26,
    "start_time": "2022-06-12T23:45:25.768Z"
   },
   {
    "duration": 9,
    "start_time": "2022-06-12T23:45:25.796Z"
   },
   {
    "duration": 36,
    "start_time": "2022-06-12T23:45:25.806Z"
   },
   {
    "duration": 38,
    "start_time": "2022-06-12T23:45:25.843Z"
   },
   {
    "duration": 5,
    "start_time": "2022-06-12T23:45:25.882Z"
   },
   {
    "duration": 12,
    "start_time": "2022-06-12T23:45:25.889Z"
   },
   {
    "duration": 8,
    "start_time": "2022-06-12T23:45:25.902Z"
   },
   {
    "duration": 33,
    "start_time": "2022-06-12T23:45:25.912Z"
   },
   {
    "duration": 4,
    "start_time": "2022-06-12T23:45:25.947Z"
   },
   {
    "duration": 125,
    "start_time": "2022-06-12T23:45:25.953Z"
   },
   {
    "duration": 23,
    "start_time": "2022-06-12T23:45:26.080Z"
   },
   {
    "duration": 265,
    "start_time": "2022-06-12T23:45:26.105Z"
   },
   {
    "duration": 274,
    "start_time": "2022-06-12T23:45:26.372Z"
   },
   {
    "duration": 204,
    "start_time": "2022-06-12T23:45:26.648Z"
   },
   {
    "duration": 9,
    "start_time": "2022-06-12T23:45:26.854Z"
   },
   {
    "duration": 18,
    "start_time": "2022-06-12T23:45:26.865Z"
   },
   {
    "duration": 17,
    "start_time": "2022-06-12T23:45:26.884Z"
   },
   {
    "duration": 223,
    "start_time": "2022-06-12T23:45:26.927Z"
   },
   {
    "duration": 4,
    "start_time": "2022-06-12T23:45:27.153Z"
   },
   {
    "duration": 9,
    "start_time": "2022-06-12T23:45:27.159Z"
   },
   {
    "duration": 5,
    "start_time": "2022-06-12T23:45:27.169Z"
   },
   {
    "duration": 11,
    "start_time": "2022-06-12T23:45:27.176Z"
   },
   {
    "duration": 226,
    "start_time": "2022-06-12T23:45:27.189Z"
   },
   {
    "duration": 3,
    "start_time": "2022-06-12T23:45:27.417Z"
   },
   {
    "duration": 23,
    "start_time": "2022-06-12T23:45:27.421Z"
   },
   {
    "duration": 6,
    "start_time": "2022-06-12T23:45:27.446Z"
   },
   {
    "duration": 10,
    "start_time": "2022-06-12T23:45:27.454Z"
   },
   {
    "duration": 191,
    "start_time": "2022-06-12T23:45:27.466Z"
   },
   {
    "duration": 4,
    "start_time": "2022-06-12T23:45:27.658Z"
   },
   {
    "duration": 6,
    "start_time": "2022-06-12T23:45:27.663Z"
   },
   {
    "duration": 9,
    "start_time": "2022-06-12T23:45:27.671Z"
   },
   {
    "duration": 10,
    "start_time": "2022-06-12T23:45:27.682Z"
   },
   {
    "duration": 7,
    "start_time": "2022-06-12T23:45:27.693Z"
   },
   {
    "duration": 6,
    "start_time": "2022-06-12T23:45:27.701Z"
   },
   {
    "duration": 17,
    "start_time": "2022-06-12T23:45:27.728Z"
   },
   {
    "duration": 7,
    "start_time": "2022-06-12T23:45:27.746Z"
   }
  ],
  "kernelspec": {
   "display_name": "Python 3",
   "language": "python",
   "name": "python3"
  },
  "language_info": {
   "codemirror_mode": {
    "name": "ipython",
    "version": 3
   },
   "file_extension": ".py",
   "mimetype": "text/x-python",
   "name": "python",
   "nbconvert_exporter": "python",
   "pygments_lexer": "ipython3",
   "version": "3.9.10"
  },
  "toc": {
   "base_numbering": 1,
   "nav_menu": {},
   "number_sections": true,
   "sideBar": true,
   "skip_h1_title": true,
   "title_cell": "Table of Contents",
   "title_sidebar": "Contents",
   "toc_cell": true,
   "toc_position": {
    "height": "calc(100% - 180px)",
    "left": "10px",
    "top": "150px",
    "width": "235.594px"
   },
   "toc_section_display": true,
   "toc_window_display": true
  }
 },
 "nbformat": 4,
 "nbformat_minor": 2
}
