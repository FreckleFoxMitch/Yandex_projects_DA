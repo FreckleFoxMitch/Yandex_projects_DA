{
 "cells": [
  {
   "cell_type": "markdown",
   "metadata": {},
   "source": [
    "# Исследование объявлений о продаже квартир\n",
    "\n",
    "В нашем распоряжении данные сервиса Яндекc Недвижимость — архив объявлений о продаже квартир в Санкт-Петербурге и соседних населённых пунктах за несколько лет. Нужно научиться определять рыночную стоимость объектов недвижимости. Наша задача — установить параметры. Это позволит построить автоматизированную систему: она отследит аномалии и мошенническую деятельность. \n",
    "\n",
    "По каждой квартире на продажу доступны два вида данных. Первые вписаны пользователем, вторые получены автоматически на основе картографических данных. Например, расстояние до центра, аэропорта, ближайшего парка и водоёма. \n",
    "\n",
    "**Ход исследования**\n",
    "\n",
    "Данные о заемщиках мы получим из файла `datasets/real_estate_data.csv`. О качестве данных ничего не известно. Поэтому до выполнения расчётов и проведения исследовательского анализа понадобится обзор данных. \n",
    "\n",
    "Мы проверим данные на ошибки и оценим их влияние на исследование. Затем, на этапе предобработки мы поищем возможность исправить самые критичные ошибки данных.\n",
    " \n",
    "Таким образом, предварительно разделим исследование на четыре этапа:\n",
    " 1. Обзор данных.\n",
    " 2. Предобработка данных.\n",
    " 3. Проведение расчётов.\n",
    " 4. Исследовательский анализ данных."
   ]
  },
  {
   "cell_type": "markdown",
   "metadata": {},
   "source": [
    "## Изучение данных из файла"
   ]
  },
  {
   "cell_type": "markdown",
   "metadata": {},
   "source": [
    "Составим первое впечатление о данных. Для этого сперва импортируем библиотеку `pandas` и метод `pyplot` библиотеки `matplotlib`:"
   ]
  },
  {
   "cell_type": "code",
   "execution_count": 1,
   "metadata": {},
   "outputs": [],
   "source": [
    "import pandas as pd\n",
    "import matplotlib.pyplot as plt\n",
    "pd.options.mode.chained_assignment = None  # отключаем предупреждения Pandas\n",
    "pd.set_option('display.max_columns', 50)  # выводим все столбцы в таблице (до 50 шт.)   "
   ]
  },
  {
   "cell_type": "markdown",
   "metadata": {},
   "source": [
    "Прежде мы открыли файл в MS Excel - и обратили внимание, что разделителем в данном датасете выступает не привычная запятая, а значок табуляции.\n",
    "\n",
    "С учетом этого фактора прочитаем файл `real_estate_data.csv` из папки `/datasets` и сохраним его в переменной `df`:"
   ]
  },
  {
   "cell_type": "code",
   "execution_count": 2,
   "metadata": {},
   "outputs": [],
   "source": [
    "df = pd.read_csv('/datasets/real_estate_data.csv', sep='\\t')"
   ]
  },
  {
   "cell_type": "markdown",
   "metadata": {},
   "source": [
    "Отобразим первые пять строк таблицы:"
   ]
  },
  {
   "cell_type": "code",
   "execution_count": 3,
   "metadata": {},
   "outputs": [
    {
     "data": {
      "text/html": [
       "<div>\n",
       "<style scoped>\n",
       "    .dataframe tbody tr th:only-of-type {\n",
       "        vertical-align: middle;\n",
       "    }\n",
       "\n",
       "    .dataframe tbody tr th {\n",
       "        vertical-align: top;\n",
       "    }\n",
       "\n",
       "    .dataframe thead th {\n",
       "        text-align: right;\n",
       "    }\n",
       "</style>\n",
       "<table border=\"1\" class=\"dataframe\">\n",
       "  <thead>\n",
       "    <tr style=\"text-align: right;\">\n",
       "      <th></th>\n",
       "      <th>total_images</th>\n",
       "      <th>last_price</th>\n",
       "      <th>total_area</th>\n",
       "      <th>first_day_exposition</th>\n",
       "      <th>rooms</th>\n",
       "      <th>ceiling_height</th>\n",
       "      <th>floors_total</th>\n",
       "      <th>living_area</th>\n",
       "      <th>floor</th>\n",
       "      <th>is_apartment</th>\n",
       "      <th>studio</th>\n",
       "      <th>open_plan</th>\n",
       "      <th>kitchen_area</th>\n",
       "      <th>balcony</th>\n",
       "      <th>locality_name</th>\n",
       "      <th>airports_nearest</th>\n",
       "      <th>cityCenters_nearest</th>\n",
       "      <th>parks_around3000</th>\n",
       "      <th>parks_nearest</th>\n",
       "      <th>ponds_around3000</th>\n",
       "      <th>ponds_nearest</th>\n",
       "      <th>days_exposition</th>\n",
       "    </tr>\n",
       "  </thead>\n",
       "  <tbody>\n",
       "    <tr>\n",
       "      <th>0</th>\n",
       "      <td>20</td>\n",
       "      <td>13000000.0</td>\n",
       "      <td>108.0</td>\n",
       "      <td>2019-03-07T00:00:00</td>\n",
       "      <td>3</td>\n",
       "      <td>2.70</td>\n",
       "      <td>16.0</td>\n",
       "      <td>51.0</td>\n",
       "      <td>8</td>\n",
       "      <td>NaN</td>\n",
       "      <td>False</td>\n",
       "      <td>False</td>\n",
       "      <td>25.0</td>\n",
       "      <td>NaN</td>\n",
       "      <td>Санкт-Петербург</td>\n",
       "      <td>18863.0</td>\n",
       "      <td>16028.0</td>\n",
       "      <td>1.0</td>\n",
       "      <td>482.0</td>\n",
       "      <td>2.0</td>\n",
       "      <td>755.0</td>\n",
       "      <td>NaN</td>\n",
       "    </tr>\n",
       "    <tr>\n",
       "      <th>1</th>\n",
       "      <td>7</td>\n",
       "      <td>3350000.0</td>\n",
       "      <td>40.4</td>\n",
       "      <td>2018-12-04T00:00:00</td>\n",
       "      <td>1</td>\n",
       "      <td>NaN</td>\n",
       "      <td>11.0</td>\n",
       "      <td>18.6</td>\n",
       "      <td>1</td>\n",
       "      <td>NaN</td>\n",
       "      <td>False</td>\n",
       "      <td>False</td>\n",
       "      <td>11.0</td>\n",
       "      <td>2.0</td>\n",
       "      <td>посёлок Шушары</td>\n",
       "      <td>12817.0</td>\n",
       "      <td>18603.0</td>\n",
       "      <td>0.0</td>\n",
       "      <td>NaN</td>\n",
       "      <td>0.0</td>\n",
       "      <td>NaN</td>\n",
       "      <td>81.0</td>\n",
       "    </tr>\n",
       "    <tr>\n",
       "      <th>2</th>\n",
       "      <td>10</td>\n",
       "      <td>5196000.0</td>\n",
       "      <td>56.0</td>\n",
       "      <td>2015-08-20T00:00:00</td>\n",
       "      <td>2</td>\n",
       "      <td>NaN</td>\n",
       "      <td>5.0</td>\n",
       "      <td>34.3</td>\n",
       "      <td>4</td>\n",
       "      <td>NaN</td>\n",
       "      <td>False</td>\n",
       "      <td>False</td>\n",
       "      <td>8.3</td>\n",
       "      <td>0.0</td>\n",
       "      <td>Санкт-Петербург</td>\n",
       "      <td>21741.0</td>\n",
       "      <td>13933.0</td>\n",
       "      <td>1.0</td>\n",
       "      <td>90.0</td>\n",
       "      <td>2.0</td>\n",
       "      <td>574.0</td>\n",
       "      <td>558.0</td>\n",
       "    </tr>\n",
       "    <tr>\n",
       "      <th>3</th>\n",
       "      <td>0</td>\n",
       "      <td>64900000.0</td>\n",
       "      <td>159.0</td>\n",
       "      <td>2015-07-24T00:00:00</td>\n",
       "      <td>3</td>\n",
       "      <td>NaN</td>\n",
       "      <td>14.0</td>\n",
       "      <td>NaN</td>\n",
       "      <td>9</td>\n",
       "      <td>NaN</td>\n",
       "      <td>False</td>\n",
       "      <td>False</td>\n",
       "      <td>NaN</td>\n",
       "      <td>0.0</td>\n",
       "      <td>Санкт-Петербург</td>\n",
       "      <td>28098.0</td>\n",
       "      <td>6800.0</td>\n",
       "      <td>2.0</td>\n",
       "      <td>84.0</td>\n",
       "      <td>3.0</td>\n",
       "      <td>234.0</td>\n",
       "      <td>424.0</td>\n",
       "    </tr>\n",
       "    <tr>\n",
       "      <th>4</th>\n",
       "      <td>2</td>\n",
       "      <td>10000000.0</td>\n",
       "      <td>100.0</td>\n",
       "      <td>2018-06-19T00:00:00</td>\n",
       "      <td>2</td>\n",
       "      <td>3.03</td>\n",
       "      <td>14.0</td>\n",
       "      <td>32.0</td>\n",
       "      <td>13</td>\n",
       "      <td>NaN</td>\n",
       "      <td>False</td>\n",
       "      <td>False</td>\n",
       "      <td>41.0</td>\n",
       "      <td>NaN</td>\n",
       "      <td>Санкт-Петербург</td>\n",
       "      <td>31856.0</td>\n",
       "      <td>8098.0</td>\n",
       "      <td>2.0</td>\n",
       "      <td>112.0</td>\n",
       "      <td>1.0</td>\n",
       "      <td>48.0</td>\n",
       "      <td>121.0</td>\n",
       "    </tr>\n",
       "  </tbody>\n",
       "</table>\n",
       "</div>"
      ],
      "text/plain": [
       "   total_images  last_price  total_area first_day_exposition  rooms  \\\n",
       "0            20  13000000.0       108.0  2019-03-07T00:00:00      3   \n",
       "1             7   3350000.0        40.4  2018-12-04T00:00:00      1   \n",
       "2            10   5196000.0        56.0  2015-08-20T00:00:00      2   \n",
       "3             0  64900000.0       159.0  2015-07-24T00:00:00      3   \n",
       "4             2  10000000.0       100.0  2018-06-19T00:00:00      2   \n",
       "\n",
       "   ceiling_height  floors_total  living_area  floor is_apartment  studio  \\\n",
       "0            2.70          16.0         51.0      8          NaN   False   \n",
       "1             NaN          11.0         18.6      1          NaN   False   \n",
       "2             NaN           5.0         34.3      4          NaN   False   \n",
       "3             NaN          14.0          NaN      9          NaN   False   \n",
       "4            3.03          14.0         32.0     13          NaN   False   \n",
       "\n",
       "   open_plan  kitchen_area  balcony    locality_name  airports_nearest  \\\n",
       "0      False          25.0      NaN  Санкт-Петербург           18863.0   \n",
       "1      False          11.0      2.0   посёлок Шушары           12817.0   \n",
       "2      False           8.3      0.0  Санкт-Петербург           21741.0   \n",
       "3      False           NaN      0.0  Санкт-Петербург           28098.0   \n",
       "4      False          41.0      NaN  Санкт-Петербург           31856.0   \n",
       "\n",
       "   cityCenters_nearest  parks_around3000  parks_nearest  ponds_around3000  \\\n",
       "0              16028.0               1.0          482.0               2.0   \n",
       "1              18603.0               0.0            NaN               0.0   \n",
       "2              13933.0               1.0           90.0               2.0   \n",
       "3               6800.0               2.0           84.0               3.0   \n",
       "4               8098.0               2.0          112.0               1.0   \n",
       "\n",
       "   ponds_nearest  days_exposition  \n",
       "0          755.0              NaN  \n",
       "1            NaN             81.0  \n",
       "2          574.0            558.0  \n",
       "3          234.0            424.0  \n",
       "4           48.0            121.0  "
      ]
     },
     "metadata": {},
     "output_type": "display_data"
    }
   ],
   "source": [
    "display(df.head())"
   ]
  },
  {
   "cell_type": "markdown",
   "metadata": {},
   "source": [
    "Здесь мы видим, что в датафрейме подавляющим большинством представлены количественные значения; категории указаны в столбцах `is_apartment` и `locality_name`.\n",
    "\n",
    "Также, мы уже можем наблюдать отсутствующие значения в следующих столбцах:\n",
    "* `ceiling_height`\n",
    "* `living_area`\n",
    "* `is_apartment`\n",
    "* `kitchen_area`\n",
    "* `balcony`\n",
    "* `parks_nearest`\n",
    "* `ponds_nearest`\n",
    "* `days_exposition`\n",
    "\n",
    "К тому же, таблица слишком объёмна - мы можем видеть только двадцать столбцов из имеющихся двадцати двух.\n",
    "\n",
    "Для получения более полной информации о датафрейме вызовем метод `info()`:"
   ]
  },
  {
   "cell_type": "code",
   "execution_count": 4,
   "metadata": {},
   "outputs": [
    {
     "name": "stdout",
     "output_type": "stream",
     "text": [
      "<class 'pandas.core.frame.DataFrame'>\n",
      "RangeIndex: 23699 entries, 0 to 23698\n",
      "Data columns (total 22 columns):\n",
      " #   Column                Non-Null Count  Dtype  \n",
      "---  ------                --------------  -----  \n",
      " 0   total_images          23699 non-null  int64  \n",
      " 1   last_price            23699 non-null  float64\n",
      " 2   total_area            23699 non-null  float64\n",
      " 3   first_day_exposition  23699 non-null  object \n",
      " 4   rooms                 23699 non-null  int64  \n",
      " 5   ceiling_height        14504 non-null  float64\n",
      " 6   floors_total          23613 non-null  float64\n",
      " 7   living_area           21796 non-null  float64\n",
      " 8   floor                 23699 non-null  int64  \n",
      " 9   is_apartment          2775 non-null   object \n",
      " 10  studio                23699 non-null  bool   \n",
      " 11  open_plan             23699 non-null  bool   \n",
      " 12  kitchen_area          21421 non-null  float64\n",
      " 13  balcony               12180 non-null  float64\n",
      " 14  locality_name         23650 non-null  object \n",
      " 15  airports_nearest      18157 non-null  float64\n",
      " 16  cityCenters_nearest   18180 non-null  float64\n",
      " 17  parks_around3000      18181 non-null  float64\n",
      " 18  parks_nearest         8079 non-null   float64\n",
      " 19  ponds_around3000      18181 non-null  float64\n",
      " 20  ponds_nearest         9110 non-null   float64\n",
      " 21  days_exposition       20518 non-null  float64\n",
      "dtypes: bool(2), float64(14), int64(3), object(3)\n",
      "memory usage: 3.7+ MB\n"
     ]
    }
   ],
   "source": [
    "df.info()"
   ]
  },
  {
   "cell_type": "markdown",
   "metadata": {},
   "source": [
    "Как мы видим, в датафрейме двадцать два столбца, большинство из них (кроме `cityCenters_nearest`) поименованы в соответствии с общепринятым стилем. Представленные типы данных - `float`, `int`, `bool` и `object`.\n",
    "\n",
    "Согласно документации к данным:\n",
    "* `airports_nearest` — расстояние до ближайшего аэропорта в метрах (м)\n",
    "* `balcony` — число балконов\n",
    "* `ceiling_height` — высота потолков (м)\n",
    "* `cityCenters_nearest` — расстояние до центра города (м)\n",
    "* `days_exposition` — сколько дней было размещено объявление (от публикации до снятия)\n",
    "* `first_day_exposition` — дата публикации\n",
    "* `floor` — этаж\n",
    "* `floors_total` — всего этажей в доме\n",
    "* `is_apartment` — апартаменты (булев тип)\n",
    "* `kitchen_area` — площадь кухни в квадратных метрах (м²)\n",
    "* `last_price` — цена на момент снятия с публикации\n",
    "* `living_area` — жилая площадь в квадратных метрах (м²)\n",
    "* `locality_name` — название населённого пункта\n",
    "* `open_plan` — свободная планировка (булев тип)\n",
    "* `parks_around3000` — число парков в радиусе 3 км\n",
    "* `parks_nearest` — расстояние до ближайшего парка (м)\n",
    "* `ponds_around3000` — число водоёмов в радиусе 3 км\n",
    "* `ponds_nearest` — расстояние до ближайшего водоёма (м)\n",
    "* `rooms` — число комнат\n",
    "* `studio` — квартира-студия (булев тип)\n",
    "* `total_area` — площадь квартиры в квадратных метрах (м²)\n",
    "* `total_images` — число фотографий квартиры в объявлении\n",
    "\n",
    "Количество значений в столбцах различается. Значит, в данных есть пропуски, которые необходимо исследовать."
   ]
  },
  {
   "cell_type": "markdown",
   "metadata": {},
   "source": [
    "### Промежуточный вывод\n",
    "В каждой строке таблицы — данные из объявлений о продаже квартир. Всего представлено двадцать два столбца.\n",
    "\n",
    "Предварительно можно утверждать, что, данных достаточно для определения рыночной стоимости недвижимости. Однако, во многих столбцах встречаются пропуски. До этапов расчётов и исследовательского анализа необходимо заполнить пропущенные значения - или обосновать их отсутствие.\n",
    "\n",
    "Интерес представляют и типы данных:\n",
    "* в столбце `floors_total` указан вещественный тип данных; его оптимальнее перевести в целочисленный, для возможности сравнения со столбцом `floor`;\n",
    "* столбец `balcony` аналогично лучше перевести в целочисленный формат;\n",
    "* поскольку столбец `days_exposition` отражает количество дней, то лучший вариант его представления - также целочисленный;\n",
    "* так как в столбцах `parks_around3000` и `ponds_around3000` значится число парков и прудов соответственно, то их также будет рациональнее перевести в целочисленный формат;\n",
    "* в документации столбец `is_apartment` указан как булев тип, в таблице же тип его данных указан как `object`;\n",
    "* столбец с датой публикации `first_day_exposition` удобнее всего будет перевести в формат `datetime`.\n",
    "\n",
    "Для облегчения работы с данными необходимо привести наименование столбца `cityCenters_nearest` к общему стилю.\n",
    "\n",
    "Чтобы двигаться дальше, нужно устранить проблемы в данных."
   ]
  },
  {
   "cell_type": "markdown",
   "metadata": {},
   "source": [
    "## Предобработка данных"
   ]
  },
  {
   "cell_type": "markdown",
   "metadata": {},
   "source": [
    "### Стиль заголовков\n",
    "Приведём столбец `cityCenters_nearest` к общему стилю и сохраним результат в текущий датафрейм:"
   ]
  },
  {
   "cell_type": "code",
   "execution_count": 5,
   "metadata": {},
   "outputs": [],
   "source": [
    "df = df.rename(columns={'cityCenters_nearest': 'city_centers_nearest'})"
   ]
  },
  {
   "cell_type": "markdown",
   "metadata": {},
   "source": [
    "Проверим результат при помощи `columns`:"
   ]
  },
  {
   "cell_type": "code",
   "execution_count": 6,
   "metadata": {},
   "outputs": [
    {
     "data": {
      "text/plain": [
       "Index(['total_images', 'last_price', 'total_area', 'first_day_exposition',\n",
       "       'rooms', 'ceiling_height', 'floors_total', 'living_area', 'floor',\n",
       "       'is_apartment', 'studio', 'open_plan', 'kitchen_area', 'balcony',\n",
       "       'locality_name', 'airports_nearest', 'city_centers_nearest',\n",
       "       'parks_around3000', 'parks_nearest', 'ponds_around3000',\n",
       "       'ponds_nearest', 'days_exposition'],\n",
       "      dtype='object')"
      ]
     },
     "execution_count": 6,
     "metadata": {},
     "output_type": "execute_result"
    }
   ],
   "source": [
    "df.columns"
   ]
  },
  {
   "cell_type": "markdown",
   "metadata": {},
   "source": [
    "### Заполнение пропусков\n",
    "Сразу оговорим, что в данном исследовании мы не будем акцентироваться на заполнении абсолютно всех пропущенных значений. В некоторых случаях заменить их может быть затруднительно, в других же - повлияет на распределение и исказит итоговые выводы. В качестве ориентира примем, что допустимый  процент отсутствия значений в каждом столбце - 1% (за исключением отдельно оговоренных случаев).\n",
    "\n",
    "Итак, для начала посчитаем, сколько в таблице пропущенных значений:"
   ]
  },
  {
   "cell_type": "code",
   "execution_count": 7,
   "metadata": {},
   "outputs": [
    {
     "data": {
      "text/plain": [
       "total_images                0\n",
       "last_price                  0\n",
       "total_area                  0\n",
       "first_day_exposition        0\n",
       "rooms                       0\n",
       "ceiling_height           9195\n",
       "floors_total               86\n",
       "living_area              1903\n",
       "floor                       0\n",
       "is_apartment            20924\n",
       "studio                      0\n",
       "open_plan                   0\n",
       "kitchen_area             2278\n",
       "balcony                 11519\n",
       "locality_name              49\n",
       "airports_nearest         5542\n",
       "city_centers_nearest     5519\n",
       "parks_around3000         5518\n",
       "parks_nearest           15620\n",
       "ponds_around3000         5518\n",
       "ponds_nearest           14589\n",
       "days_exposition          3181\n",
       "dtype: int64"
      ]
     },
     "execution_count": 7,
     "metadata": {},
     "output_type": "execute_result"
    }
   ],
   "source": [
    "df.isna().sum()"
   ]
  },
  {
   "cell_type": "markdown",
   "metadata": {},
   "source": [
    "Подавляющее большинство пропущенных значений находится в столбце `is_apartment` - 20924 из 23699. Также очень много пропусков в столбцах `balcony`, `parks_nearest` и `ponds_nearest`. Последние два имеет смысл рассматривать в связке со столбцами `parks_around3000` и `ponds_around3000`, соответственно. Пропуски присутствуют и в столбце `ceiling_height`, который будет фигурировать в наших дальнейших расчётах, причём их доля весьма значительна - примерно 40% от всего объёма датасета.\n",
    "\n",
    "Нам известно, что по каждой квартире на продажу доступны два вида данных. Первые вписаны пользователем, вторые — получены автоматически на основе картографических данных. Дабы упорядочить процесс изучения отсутствующих значений примем, что:\n",
    "1. В первую очередь будут рассматриваться столбцы данных, предоставленные авторами объявлений - `ceiling_height`, `living_area`, `is_apartment`, `kitchen_area`, `balcony`, `days_exposition`;\n",
    "2. Далее будет изучена картографическая информация - столбцы `airports_nearest`, `city_centers_nearest`, `parks_around3000`, `parks_nearest`, `ponds_around3000`, `ponds_nearest`.\n",
    "\n",
    "Такое разделение уместно, поскольку в первом типе данных характер пропусков носит случайный характер, а во втором - технологический.\n",
    "\n",
    "Начнём заполнение пропусков со столбца `is_apartment`. Сперва посмотрим, какие значения в нём представлены:"
   ]
  },
  {
   "cell_type": "code",
   "execution_count": 8,
   "metadata": {},
   "outputs": [
    {
     "data": {
      "text/plain": [
       "False    2725\n",
       "True       50\n",
       "Name: is_apartment, dtype: int64"
      ]
     },
     "execution_count": 8,
     "metadata": {},
     "output_type": "execute_result"
    }
   ],
   "source": [
    "df.is_apartment.value_counts()"
   ]
  },
  {
   "cell_type": "markdown",
   "metadata": {},
   "source": [
    "Пропуски составляют почти 90% от всего набора данных, то есть сбросить их ни в коем случае нельзя. Значит, остается только вариант заполнения недостающих данных.\n",
    "\n",
    "Информация, по всей видимости, вносилась непосредственно авторами объявлений, и восстановить значения в рамках учебного проекта не представляется возможным. Поскольку у `is_apartment` нет явных взаимосвязей с другими столбцами, то заполнять пропуски мы будем исходя из предположения ниже.\n",
    "\n",
    "Из информации в **пункте 1** мы знаем, что данные в этом столбце представлены в формате `object` и содержат значения `True`, `False` и `NaN`. Предположим, что все пропуски - это значения `False`, и заполним их ниже:"
   ]
  },
  {
   "cell_type": "code",
   "execution_count": 9,
   "metadata": {},
   "outputs": [],
   "source": [
    "df['is_apartment'] = df.is_apartment.fillna(False)"
   ]
  },
  {
   "cell_type": "markdown",
   "metadata": {},
   "source": [
    "Проверим отсутствие пропусков:"
   ]
  },
  {
   "cell_type": "code",
   "execution_count": 10,
   "metadata": {},
   "outputs": [
    {
     "data": {
      "text/plain": [
       "0"
      ]
     },
     "execution_count": 10,
     "metadata": {},
     "output_type": "execute_result"
    }
   ],
   "source": [
    "df.is_apartment.isna().sum()"
   ]
  },
  {
   "cell_type": "markdown",
   "metadata": {},
   "source": [
    "Ранее было замечено, что в документации столбец `is_apartment` указан как булев тип, а в датафрейме он имел тип `object`. Последний не только определяет строчный тип данных, но и указывает, что в столбце могут содержаться данные разных типов. В нашем случае это могло указывать на наличие в столбце помимо булевых `True` и `False` значений `NaN`, относящихся к типу `float`.\n",
    "\n",
    "Проверим это предположение, вызвав метод `dtypes` к столбцу:"
   ]
  },
  {
   "cell_type": "code",
   "execution_count": 11,
   "metadata": {},
   "outputs": [
    {
     "data": {
      "text/plain": [
       "dtype('bool')"
      ]
     },
     "execution_count": 11,
     "metadata": {},
     "output_type": "execute_result"
    }
   ],
   "source": [
    "df.is_apartment.dtypes"
   ]
  },
  {
   "cell_type": "markdown",
   "metadata": {},
   "source": [
    "Наша догадка подтвердилась - а значит, в дальнейшем менять тип данных в этом столбце не потребуется.\n",
    "\n",
    "Далее рассмотрим столбец с количеством балконов `balcony` и проверим количество уникальных значений в нём:"
   ]
  },
  {
   "cell_type": "code",
   "execution_count": 12,
   "metadata": {},
   "outputs": [
    {
     "data": {
      "text/plain": [
       "1.0    4195\n",
       "0.0    3758\n",
       "2.0    3659\n",
       "5.0     304\n",
       "4.0     183\n",
       "3.0      81\n",
       "Name: balcony, dtype: int64"
      ]
     },
     "execution_count": 12,
     "metadata": {},
     "output_type": "execute_result"
    }
   ],
   "source": [
    "df.balcony.value_counts()"
   ]
  },
  {
   "cell_type": "markdown",
   "metadata": {},
   "source": [
    "Эти данные, по всей видимости, также вносились вручную. Здесь можно предположить логичную замену. Если человек не указал число балконов — скорее всего, их нет. Такие пропуски правильно заменить на 0:"
   ]
  },
  {
   "cell_type": "code",
   "execution_count": 13,
   "metadata": {},
   "outputs": [],
   "source": [
    "df['balcony'] = df.balcony.fillna(0)"
   ]
  },
  {
   "cell_type": "markdown",
   "metadata": {},
   "source": [
    "Проверим отсутствие пропусков:"
   ]
  },
  {
   "cell_type": "code",
   "execution_count": 14,
   "metadata": {},
   "outputs": [
    {
     "data": {
      "text/plain": [
       "0"
      ]
     },
     "execution_count": 14,
     "metadata": {},
     "output_type": "execute_result"
    }
   ],
   "source": [
    "df.balcony.isna().sum()"
   ]
  },
  {
   "cell_type": "markdown",
   "metadata": {},
   "source": [
    "Теперь внимательно рассмотрим столбец `ceiling_height`. Заполнять пропуски здесь логичнее всего медианным значением. Но если это будет медиана по всему столбцу, то мы рискуем усреднить данные и сильно повлиять на распределение. Рациональнее будет заполнить пропущенные значения медианой в разрезе населённого пункта `locality_name`, поскольку высота потолков в разных населённых пунктах варьируется в зависимости от множества факторов (типа застройки, года и т.п.)\n",
    "\n",
    "Используем метод `fillna()` совместно с группировкой и методом `transform()`. Последний позволит нам модифицировать медианные значения под каждый из населённых пунктов:"
   ]
  },
  {
   "cell_type": "code",
   "execution_count": 15,
   "metadata": {},
   "outputs": [],
   "source": [
    "df['ceiling_height'] = df['ceiling_height'].fillna(df.groupby('locality_name')['ceiling_height'].transform('median'))"
   ]
  },
  {
   "cell_type": "markdown",
   "metadata": {},
   "source": [
    "Проверим отсутствие пропусков в столбце:"
   ]
  },
  {
   "cell_type": "code",
   "execution_count": 16,
   "metadata": {},
   "outputs": [
    {
     "data": {
      "text/plain": [
       "156"
      ]
     },
     "execution_count": 16,
     "metadata": {},
     "output_type": "execute_result"
    }
   ],
   "source": [
    "df.ceiling_height.isna().sum()"
   ]
  },
  {
   "cell_type": "markdown",
   "metadata": {},
   "source": [
    "Как мы видим, пропущенные значения присутствуют (хоть и в небольшом количестве) в таблице, несмотря на проведённую выше замену. Изучим эту особенность.\n",
    "\n",
    "Проведём группировку по населённому пункту - и при помощи агрегатной функции выведем количество значений в столбце `ceiling_height`. Взглянем на последние 10 строк:"
   ]
  },
  {
   "cell_type": "code",
   "execution_count": 17,
   "metadata": {},
   "outputs": [
    {
     "data": {
      "text/html": [
       "<div>\n",
       "<style scoped>\n",
       "    .dataframe tbody tr th:only-of-type {\n",
       "        vertical-align: middle;\n",
       "    }\n",
       "\n",
       "    .dataframe tbody tr th {\n",
       "        vertical-align: top;\n",
       "    }\n",
       "\n",
       "    .dataframe thead th {\n",
       "        text-align: right;\n",
       "    }\n",
       "</style>\n",
       "<table border=\"1\" class=\"dataframe\">\n",
       "  <thead>\n",
       "    <tr style=\"text-align: right;\">\n",
       "      <th></th>\n",
       "      <th>locality_name</th>\n",
       "      <th>ceiling_height</th>\n",
       "    </tr>\n",
       "  </thead>\n",
       "  <tbody>\n",
       "    <tr>\n",
       "      <th>354</th>\n",
       "      <td>садовое товарищество Садко</td>\n",
       "      <td>0</td>\n",
       "    </tr>\n",
       "    <tr>\n",
       "      <th>355</th>\n",
       "      <td>село Копорье</td>\n",
       "      <td>5</td>\n",
       "    </tr>\n",
       "    <tr>\n",
       "      <th>356</th>\n",
       "      <td>село Никольское</td>\n",
       "      <td>0</td>\n",
       "    </tr>\n",
       "    <tr>\n",
       "      <th>357</th>\n",
       "      <td>село Павлово</td>\n",
       "      <td>7</td>\n",
       "    </tr>\n",
       "    <tr>\n",
       "      <th>358</th>\n",
       "      <td>село Паша</td>\n",
       "      <td>0</td>\n",
       "    </tr>\n",
       "    <tr>\n",
       "      <th>359</th>\n",
       "      <td>село Путилово</td>\n",
       "      <td>2</td>\n",
       "    </tr>\n",
       "    <tr>\n",
       "      <th>360</th>\n",
       "      <td>село Рождествено</td>\n",
       "      <td>0</td>\n",
       "    </tr>\n",
       "    <tr>\n",
       "      <th>361</th>\n",
       "      <td>село Русско-Высоцкое</td>\n",
       "      <td>9</td>\n",
       "    </tr>\n",
       "    <tr>\n",
       "      <th>362</th>\n",
       "      <td>село Старая Ладога</td>\n",
       "      <td>0</td>\n",
       "    </tr>\n",
       "    <tr>\n",
       "      <th>363</th>\n",
       "      <td>село Шум</td>\n",
       "      <td>0</td>\n",
       "    </tr>\n",
       "  </tbody>\n",
       "</table>\n",
       "</div>"
      ],
      "text/plain": [
       "                  locality_name  ceiling_height\n",
       "354  садовое товарищество Садко               0\n",
       "355                село Копорье               5\n",
       "356             село Никольское               0\n",
       "357                село Павлово               7\n",
       "358                   село Паша               0\n",
       "359               село Путилово               2\n",
       "360            село Рождествено               0\n",
       "361        село Русско-Высоцкое               9\n",
       "362          село Старая Ладога               0\n",
       "363                    село Шум               0"
      ]
     },
     "execution_count": 17,
     "metadata": {},
     "output_type": "execute_result"
    }
   ],
   "source": [
    "df.groupby('locality_name').agg({\n",
    "    'ceiling_height': 'count'\n",
    "}).reset_index().tail(10)"
   ]
  },
  {
   "cell_type": "markdown",
   "metadata": {},
   "source": [
    "Исходя из данных группировки можно предположить, что оставшиеся пропуски в `ceiling_height` связаны с тем, что для некоторых населённых пунктов данные по высоте потолков отсутствуют. Именно поэтому медианное значение для этого параметра рассчитать невозможно.\n",
    "\n",
    "С другой стороны, выше представлены преимущественно сёла, количество квартир в которых по определению намного меньше, чем в городах. В дальнейшем исследовании мы предпочтём объединить подобные населённые пункты в одну категорию - и проводить расчёты уже по ней. К тому же, как уже упоминалось ранее, количество пропусков невелико, и мы можем допустить их присутствие в датасете."
   ]
  },
  {
   "cell_type": "markdown",
   "metadata": {},
   "source": [
    "Теперь изучим столбцы `living_area` и `kitchen_area`. Поочерёдно выведем их количество на экран:"
   ]
  },
  {
   "cell_type": "code",
   "execution_count": 18,
   "metadata": {},
   "outputs": [
    {
     "data": {
      "text/plain": [
       "1903"
      ]
     },
     "execution_count": 18,
     "metadata": {},
     "output_type": "execute_result"
    }
   ],
   "source": [
    "df.living_area.isna().sum()"
   ]
  },
  {
   "cell_type": "code",
   "execution_count": 19,
   "metadata": {},
   "outputs": [
    {
     "data": {
      "text/plain": [
       "2278"
      ]
     },
     "execution_count": 19,
     "metadata": {},
     "output_type": "execute_result"
    }
   ],
   "source": [
    "df.kitchen_area.isna().sum()"
   ]
  },
  {
   "cell_type": "markdown",
   "metadata": {},
   "source": [
    "Далее проверим, есть ли между ними пересечения. Рассмотрим их совместно с общей площадью квартиры `total_area` и сосчитаем, сколько пропусков есть в обоих вышеуказанных столбцах при известной площади квартиры:"
   ]
  },
  {
   "cell_type": "code",
   "execution_count": 20,
   "metadata": {},
   "outputs": [
    {
     "data": {
      "text/plain": [
       "1464"
      ]
     },
     "execution_count": 20,
     "metadata": {},
     "output_type": "execute_result"
    }
   ],
   "source": [
    "df.loc[(df.living_area.isna()) & (df.kitchen_area.isna()), 'total_area'].count()"
   ]
  },
  {
   "cell_type": "markdown",
   "metadata": {},
   "source": [
    "Вероятно, имеет смысл рассматривать эти пропуски совместно ещё с одним параметром, учитывающим свободную планировку - `open_plan`. Как мы знаем, при свободной планировке разделение на жилую и кухонную зону может быть весьма условным. Посчитаем, у скольких строк с пропусками значение `open_plan` будет `True`:"
   ]
  },
  {
   "cell_type": "code",
   "execution_count": 21,
   "metadata": {},
   "outputs": [
    {
     "data": {
      "text/plain": [
       "False    1459\n",
       "True        5\n",
       "Name: open_plan, dtype: int64"
      ]
     },
     "execution_count": 21,
     "metadata": {},
     "output_type": "execute_result"
    }
   ],
   "source": [
    "df.loc[(df.living_area.isna()) & (df.kitchen_area.isna()), 'open_plan'].value_counts()"
   ]
  },
  {
   "cell_type": "markdown",
   "metadata": {},
   "source": [
    "Проверим, является ли рассматриваемая недвижимость апартаментами. Сосчитаем, у скольких строк с пропусками значение `is_apartment` будет `True`:"
   ]
  },
  {
   "cell_type": "code",
   "execution_count": 22,
   "metadata": {},
   "outputs": [
    {
     "data": {
      "text/plain": [
       "False    1458\n",
       "True        6\n",
       "Name: is_apartment, dtype: int64"
      ]
     },
     "execution_count": 22,
     "metadata": {},
     "output_type": "execute_result"
    }
   ],
   "source": [
    "df.loc[(df.living_area.isna()) & (df.kitchen_area.isna()), 'is_apartment'].value_counts()"
   ]
  },
  {
   "cell_type": "markdown",
   "metadata": {},
   "source": [
    "Проверим, являются ли эти квартиры студиями. Сосчитаем, у скольких строк с пропусками значение `studio` будет `True`:"
   ]
  },
  {
   "cell_type": "code",
   "execution_count": 23,
   "metadata": {},
   "outputs": [
    {
     "data": {
      "text/plain": [
       "False    1454\n",
       "True       10\n",
       "Name: studio, dtype: int64"
      ]
     },
     "execution_count": 23,
     "metadata": {},
     "output_type": "execute_result"
    }
   ],
   "source": [
    "df.loc[(df.living_area.isna()) & (df.kitchen_area.isna()), 'studio'].value_counts()"
   ]
  },
  {
   "cell_type": "markdown",
   "metadata": {},
   "source": [
    "Выходит, около полутора тысяч квартир с отсутствующими значениями площади кухни и жилой площади в нашей выборке не являются ни студиями, ни апартаментами, ни квартирами со свободной планировкой. Это заставляет усомниться в достоверности предоставленных данных.\n",
    "\n",
    "Количество пропусков составляет примерно 6% от общего объёма представленных данных. На данный момент мы не располагаем достаточной информацией по заполнению пропущенных значений. Для того, чтобы не исказить грядущую модель автоматизированной системы, лучшим решением будет проверить данные на достоверность и провести повторное исследование."
   ]
  },
  {
   "cell_type": "markdown",
   "metadata": {},
   "source": [
    "Относительно пропущенных значений в столбце `days_exposition` можно сказать следующее. В датафрейме представлена дата публикации `first_day_exposition`, но, увы, нет столбца с датой снятия публикации. Также не указана дата составления самого датафрейма. Это делает заполнение пропусков в столбце `days_exposition` крайне затруднительным. Заполнять их медианой по столбцу привело бы к искажению выборки; поэтому рациональным решением будет никак не видоизменять эти пропущенные значения.\n",
    "\n",
    "Нам осталось рассмотреть пропуски в картографических данных, указанных в столбцах `airports_nearest`, `city_centers_nearest`, `parks_around3000`, `parks_nearest`, `ponds_around3000`, `ponds_nearest`. Как мы видели выше, в них отсутствует от пяти до пятнадцати тысяч значений. Ввиду особенностей данной информации мы не можем предложить заполнение их каким бы то ни было медианным значением, и лучшим выходом станет запрос на обогащение данных по вышеуказанным столбцам.\n",
    "\n",
    "На данном этапе работы с данными мы вынуждены исключить столбцы `airports_nearest`, `city_centers_nearest`, `parks_around3000`, `parks_nearest`, `ponds_around3000`, `ponds_nearest` как факторы влияния на рыночную стоимость жилья. Это необходимо будет учитывать при дальнейшем построении автоматизированной системы."
   ]
  },
  {
   "cell_type": "markdown",
   "metadata": {},
   "source": [
    "Напоследок проверим, сколько пропущенных данных осталось после всех внесенных корректив:"
   ]
  },
  {
   "cell_type": "code",
   "execution_count": 24,
   "metadata": {},
   "outputs": [
    {
     "data": {
      "text/plain": [
       "total_images                0\n",
       "last_price                  0\n",
       "total_area                  0\n",
       "first_day_exposition        0\n",
       "rooms                       0\n",
       "ceiling_height            156\n",
       "floors_total               86\n",
       "living_area              1903\n",
       "floor                       0\n",
       "is_apartment                0\n",
       "studio                      0\n",
       "open_plan                   0\n",
       "kitchen_area             2278\n",
       "balcony                     0\n",
       "locality_name              49\n",
       "airports_nearest         5542\n",
       "city_centers_nearest     5519\n",
       "parks_around3000         5518\n",
       "parks_nearest           15620\n",
       "ponds_around3000         5518\n",
       "ponds_nearest           14589\n",
       "days_exposition          3181\n",
       "dtype: int64"
      ]
     },
     "execution_count": 24,
     "metadata": {},
     "output_type": "execute_result"
    }
   ],
   "source": [
    "df.isna().sum()"
   ]
  },
  {
   "cell_type": "markdown",
   "metadata": {},
   "source": [
    "### Изменение типов данных\n",
    "В **пункте 1.1** мы упоминали, что тип данных в столбце `floors_total` предпочтительнее будет заменить на целочисленный. Однако далее, в **пункте 2.2** выяснилось, что в данном столбце наличествуют пропуски, имеющие тип данных `float`. Аналогичное можно сказать и о столбцах `days_exposition`, `parks_around3000` и `ponds_around3000` - во всех них также содержатся пропущенные значения. Поскольку мы ранее решили не заполнять пропуски во всех этих столбцах, то возможность изменения типа данных на целочисленный у нас отсутствует.\n",
    "\n",
    "Двигаемся дальше. Изменим тип данных для столбца `balcony` на целочисленный:"
   ]
  },
  {
   "cell_type": "code",
   "execution_count": 25,
   "metadata": {},
   "outputs": [],
   "source": [
    "df['balcony'] = df.balcony.astype('int')"
   ]
  },
  {
   "cell_type": "markdown",
   "metadata": {},
   "source": [
    "Проверим изменение типа данных:"
   ]
  },
  {
   "cell_type": "code",
   "execution_count": 26,
   "metadata": {},
   "outputs": [
    {
     "data": {
      "text/plain": [
       "dtype('int64')"
      ]
     },
     "execution_count": 26,
     "metadata": {},
     "output_type": "execute_result"
    }
   ],
   "source": [
    "df.balcony.dtypes"
   ]
  },
  {
   "cell_type": "markdown",
   "metadata": {},
   "source": [
    "Для упрощения дальнейшей работы с датой и временем переведём столбец с датой публикации `first_day_exposition` в формат `datetime`. Сперва выведем на экран, в каком виде представлена дата в таблице:"
   ]
  },
  {
   "cell_type": "code",
   "execution_count": 27,
   "metadata": {},
   "outputs": [
    {
     "data": {
      "text/plain": [
       "11194    2016-12-17T00:00:00\n",
       "Name: first_day_exposition, dtype: object"
      ]
     },
     "execution_count": 27,
     "metadata": {},
     "output_type": "execute_result"
    }
   ],
   "source": [
    "df.first_day_exposition.sample()"
   ]
  },
  {
   "cell_type": "markdown",
   "metadata": {},
   "source": [
    "Далее преобразуем её в тип данных `datetime`:"
   ]
  },
  {
   "cell_type": "code",
   "execution_count": 28,
   "metadata": {},
   "outputs": [],
   "source": [
    "df['first_day_exposition']= pd.to_datetime(df['first_day_exposition'], format='%Y-%m-%dT%H:%M:%S')"
   ]
  },
  {
   "cell_type": "markdown",
   "metadata": {},
   "source": [
    "Выведем на экран информацию по датафрейму, чтобы проверить внесённые изменения:"
   ]
  },
  {
   "cell_type": "code",
   "execution_count": 29,
   "metadata": {},
   "outputs": [
    {
     "name": "stdout",
     "output_type": "stream",
     "text": [
      "<class 'pandas.core.frame.DataFrame'>\n",
      "RangeIndex: 23699 entries, 0 to 23698\n",
      "Data columns (total 22 columns):\n",
      " #   Column                Non-Null Count  Dtype         \n",
      "---  ------                --------------  -----         \n",
      " 0   total_images          23699 non-null  int64         \n",
      " 1   last_price            23699 non-null  float64       \n",
      " 2   total_area            23699 non-null  float64       \n",
      " 3   first_day_exposition  23699 non-null  datetime64[ns]\n",
      " 4   rooms                 23699 non-null  int64         \n",
      " 5   ceiling_height        23543 non-null  float64       \n",
      " 6   floors_total          23613 non-null  float64       \n",
      " 7   living_area           21796 non-null  float64       \n",
      " 8   floor                 23699 non-null  int64         \n",
      " 9   is_apartment          23699 non-null  bool          \n",
      " 10  studio                23699 non-null  bool          \n",
      " 11  open_plan             23699 non-null  bool          \n",
      " 12  kitchen_area          21421 non-null  float64       \n",
      " 13  balcony               23699 non-null  int64         \n",
      " 14  locality_name         23650 non-null  object        \n",
      " 15  airports_nearest      18157 non-null  float64       \n",
      " 16  city_centers_nearest  18180 non-null  float64       \n",
      " 17  parks_around3000      18181 non-null  float64       \n",
      " 18  parks_nearest         8079 non-null   float64       \n",
      " 19  ponds_around3000      18181 non-null  float64       \n",
      " 20  ponds_nearest         9110 non-null   float64       \n",
      " 21  days_exposition       20518 non-null  float64       \n",
      "dtypes: bool(3), datetime64[ns](1), float64(13), int64(4), object(1)\n",
      "memory usage: 3.5+ MB\n"
     ]
    }
   ],
   "source": [
    "df.info()"
   ]
  },
  {
   "cell_type": "markdown",
   "metadata": {},
   "source": [
    "### Промежуточный вывод\n",
    "Предобработка выявила следующие проблемы в данных:\n",
    "\n",
    "* некорректный стиль представления заголовков\n",
    "* пропущенные значения\n",
    "* неудобный тип представления данных\n",
    "\n",
    "Мы привели заголовки к стандартному виду и изменили тип данных там, где это казалось уместным. Также мы изучили пропущенные значения и предложили рациональные варианты их замены там, где это было возможно. В остальных случаях, для сохранения правдоподобности данных, пропущенные значения были оставлены без изменения.\n",
    "\n",
    "В процессе предобработки нам не встретились явные аномалии (к примеру, отрицательные значения) в данных. Вероятно, они отсутствуют. При этом нельзя исключать возможность наличия выбросов. Это необходимо будет изучить дополнительно."
   ]
  },
  {
   "cell_type": "markdown",
   "metadata": {},
   "source": [
    "## Расчёты и добавление результатов в таблицу"
   ]
  },
  {
   "cell_type": "markdown",
   "metadata": {},
   "source": [
    "* **Цена квадратного метра**\n",
    "\n",
    "Рассчитаем и добавим в таблицу цену квадратного метра жилья. Столбец назовём `sqmeter_cost`:"
   ]
  },
  {
   "cell_type": "code",
   "execution_count": 30,
   "metadata": {},
   "outputs": [],
   "source": [
    "df['sqmeter_cost'] = df.last_price / df.total_area"
   ]
  },
  {
   "cell_type": "markdown",
   "metadata": {},
   "source": [
    "Проверим получившийся результат выводом первых пяти строк вышеуказанных столбцов:"
   ]
  },
  {
   "cell_type": "code",
   "execution_count": 31,
   "metadata": {},
   "outputs": [
    {
     "data": {
      "text/html": [
       "<div>\n",
       "<style scoped>\n",
       "    .dataframe tbody tr th:only-of-type {\n",
       "        vertical-align: middle;\n",
       "    }\n",
       "\n",
       "    .dataframe tbody tr th {\n",
       "        vertical-align: top;\n",
       "    }\n",
       "\n",
       "    .dataframe thead th {\n",
       "        text-align: right;\n",
       "    }\n",
       "</style>\n",
       "<table border=\"1\" class=\"dataframe\">\n",
       "  <thead>\n",
       "    <tr style=\"text-align: right;\">\n",
       "      <th></th>\n",
       "      <th>last_price</th>\n",
       "      <th>total_area</th>\n",
       "      <th>sqmeter_cost</th>\n",
       "    </tr>\n",
       "  </thead>\n",
       "  <tbody>\n",
       "    <tr>\n",
       "      <th>0</th>\n",
       "      <td>13000000.0</td>\n",
       "      <td>108.0</td>\n",
       "      <td>120370.370370</td>\n",
       "    </tr>\n",
       "    <tr>\n",
       "      <th>1</th>\n",
       "      <td>3350000.0</td>\n",
       "      <td>40.4</td>\n",
       "      <td>82920.792079</td>\n",
       "    </tr>\n",
       "    <tr>\n",
       "      <th>2</th>\n",
       "      <td>5196000.0</td>\n",
       "      <td>56.0</td>\n",
       "      <td>92785.714286</td>\n",
       "    </tr>\n",
       "    <tr>\n",
       "      <th>3</th>\n",
       "      <td>64900000.0</td>\n",
       "      <td>159.0</td>\n",
       "      <td>408176.100629</td>\n",
       "    </tr>\n",
       "    <tr>\n",
       "      <th>4</th>\n",
       "      <td>10000000.0</td>\n",
       "      <td>100.0</td>\n",
       "      <td>100000.000000</td>\n",
       "    </tr>\n",
       "  </tbody>\n",
       "</table>\n",
       "</div>"
      ],
      "text/plain": [
       "   last_price  total_area   sqmeter_cost\n",
       "0  13000000.0       108.0  120370.370370\n",
       "1   3350000.0        40.4   82920.792079\n",
       "2   5196000.0        56.0   92785.714286\n",
       "3  64900000.0       159.0  408176.100629\n",
       "4  10000000.0       100.0  100000.000000"
      ]
     },
     "execution_count": 31,
     "metadata": {},
     "output_type": "execute_result"
    }
   ],
   "source": [
    "df[['last_price', 'total_area', 'sqmeter_cost']].head()"
   ]
  },
  {
   "cell_type": "markdown",
   "metadata": {},
   "source": [
    "* **День недели, месяц и год публикации объявления**\n",
    "\n",
    "Поскольку мы заранее изменили тип данных столбца `first_day_exposition` на `datetime`, можно запросить его атрибуты и сохранить их в соответствующие столбцы. \n",
    "\n",
    "Сперва сохраним день недели публикации:"
   ]
  },
  {
   "cell_type": "code",
   "execution_count": 32,
   "metadata": {},
   "outputs": [],
   "source": [
    "df['day'] = df['first_day_exposition'].dt.weekday"
   ]
  },
  {
   "cell_type": "markdown",
   "metadata": {},
   "source": [
    "Выведем первые пять строк этого столбца на экран:"
   ]
  },
  {
   "cell_type": "code",
   "execution_count": 33,
   "metadata": {},
   "outputs": [
    {
     "data": {
      "text/plain": [
       "0    3\n",
       "1    1\n",
       "2    3\n",
       "3    4\n",
       "4    1\n",
       "Name: day, dtype: int64"
      ]
     },
     "execution_count": 33,
     "metadata": {},
     "output_type": "execute_result"
    }
   ],
   "source": [
    "df.day.head()"
   ]
  },
  {
   "cell_type": "markdown",
   "metadata": {},
   "source": [
    "Вышло не слишком информативно. Понять, к какому дню недели относятся данные цифры нам поможет созданный словарь с расшифровками по дням недели `dict_of_weekdays` и функция `map`:"
   ]
  },
  {
   "cell_type": "code",
   "execution_count": 34,
   "metadata": {},
   "outputs": [],
   "source": [
    "dict_of_weekdays = {1: 'понедельник', 2: 'вторник', 3: 'среда', 4: 'четверг', \n",
    "                    5: 'пятница', 6: 'суббота', 7: 'воскресенье'}\n",
    "\n",
    "df['day'] = df['day'].map(dict_of_weekdays)"
   ]
  },
  {
   "cell_type": "markdown",
   "metadata": {},
   "source": [
    "Далее сохраним месяц публикации:"
   ]
  },
  {
   "cell_type": "code",
   "execution_count": 35,
   "metadata": {},
   "outputs": [],
   "source": [
    "df['month'] = df['first_day_exposition'].dt.month"
   ]
  },
  {
   "cell_type": "markdown",
   "metadata": {},
   "source": [
    "Проведём с ним аналогичную замену на значения соответствующего словаря:"
   ]
  },
  {
   "cell_type": "code",
   "execution_count": 36,
   "metadata": {},
   "outputs": [],
   "source": [
    "dict_of_months = {1: 'январь', 2: 'февраль', 3: 'март', 4: 'апрель', \n",
    "                    5: 'май', 6: 'июнь', 7: 'июль', 8: 'август', 9: 'сентябрь', 10: 'октябрь', \n",
    "                    11: 'ноябрь', 12: 'декабрь'}\n",
    "\n",
    "df['month'] = df['month'].map(dict_of_months)"
   ]
  },
  {
   "cell_type": "markdown",
   "metadata": {},
   "source": [
    "Наконец сохраним год публикации:"
   ]
  },
  {
   "cell_type": "code",
   "execution_count": 37,
   "metadata": {},
   "outputs": [],
   "source": [
    "df['year'] = df['first_day_exposition'].dt.year"
   ]
  },
  {
   "cell_type": "markdown",
   "metadata": {},
   "source": [
    "Выведем рассматриваемые параметры на экран:"
   ]
  },
  {
   "cell_type": "code",
   "execution_count": 38,
   "metadata": {},
   "outputs": [
    {
     "data": {
      "text/html": [
       "<div>\n",
       "<style scoped>\n",
       "    .dataframe tbody tr th:only-of-type {\n",
       "        vertical-align: middle;\n",
       "    }\n",
       "\n",
       "    .dataframe tbody tr th {\n",
       "        vertical-align: top;\n",
       "    }\n",
       "\n",
       "    .dataframe thead th {\n",
       "        text-align: right;\n",
       "    }\n",
       "</style>\n",
       "<table border=\"1\" class=\"dataframe\">\n",
       "  <thead>\n",
       "    <tr style=\"text-align: right;\">\n",
       "      <th></th>\n",
       "      <th>first_day_exposition</th>\n",
       "      <th>day</th>\n",
       "      <th>month</th>\n",
       "      <th>year</th>\n",
       "    </tr>\n",
       "  </thead>\n",
       "  <tbody>\n",
       "    <tr>\n",
       "      <th>0</th>\n",
       "      <td>2019-03-07</td>\n",
       "      <td>среда</td>\n",
       "      <td>март</td>\n",
       "      <td>2019</td>\n",
       "    </tr>\n",
       "    <tr>\n",
       "      <th>1</th>\n",
       "      <td>2018-12-04</td>\n",
       "      <td>понедельник</td>\n",
       "      <td>декабрь</td>\n",
       "      <td>2018</td>\n",
       "    </tr>\n",
       "    <tr>\n",
       "      <th>2</th>\n",
       "      <td>2015-08-20</td>\n",
       "      <td>среда</td>\n",
       "      <td>август</td>\n",
       "      <td>2015</td>\n",
       "    </tr>\n",
       "    <tr>\n",
       "      <th>3</th>\n",
       "      <td>2015-07-24</td>\n",
       "      <td>четверг</td>\n",
       "      <td>июль</td>\n",
       "      <td>2015</td>\n",
       "    </tr>\n",
       "    <tr>\n",
       "      <th>4</th>\n",
       "      <td>2018-06-19</td>\n",
       "      <td>понедельник</td>\n",
       "      <td>июнь</td>\n",
       "      <td>2018</td>\n",
       "    </tr>\n",
       "  </tbody>\n",
       "</table>\n",
       "</div>"
      ],
      "text/plain": [
       "  first_day_exposition          day    month  year\n",
       "0           2019-03-07        среда     март  2019\n",
       "1           2018-12-04  понедельник  декабрь  2018\n",
       "2           2015-08-20        среда   август  2015\n",
       "3           2015-07-24      четверг     июль  2015\n",
       "4           2018-06-19  понедельник     июнь  2018"
      ]
     },
     "execution_count": 38,
     "metadata": {},
     "output_type": "execute_result"
    }
   ],
   "source": [
    "df[['first_day_exposition', 'day', 'month', 'year']].head()"
   ]
  },
  {
   "cell_type": "markdown",
   "metadata": {},
   "source": [
    "* **Этаж квартиры (варианты — первый, последний, другой)**\n",
    "\n",
    "Для того, чтобы разнести этажи по категориям, нам потребуется создать собственную функцию, которая будет сравнивать этаж `floor` с этажностью дома `floors_total`. Определим такую функцию:"
   ]
  },
  {
   "cell_type": "code",
   "execution_count": 39,
   "metadata": {},
   "outputs": [],
   "source": [
    "def group_floor(row):\n",
    "    if row['floor'] == 1:\n",
    "        return 'первый'\n",
    "    \n",
    "    elif row['floor'] == row['floors_total']:\n",
    "        return 'последний'\n",
    "    \n",
    "    return 'другой'"
   ]
  },
  {
   "cell_type": "markdown",
   "metadata": {},
   "source": [
    "Сохраним результаты этой функции в столбец `group_floor`:"
   ]
  },
  {
   "cell_type": "code",
   "execution_count": 40,
   "metadata": {},
   "outputs": [],
   "source": [
    "df['group_floor'] = df.apply(group_floor, axis=1)"
   ]
  },
  {
   "cell_type": "markdown",
   "metadata": {},
   "source": [
    "Проверим получившийся результат выводом первых двадцати строк вышеуказанных столбцов:"
   ]
  },
  {
   "cell_type": "code",
   "execution_count": 41,
   "metadata": {
    "scrolled": true
   },
   "outputs": [
    {
     "data": {
      "text/html": [
       "<div>\n",
       "<style scoped>\n",
       "    .dataframe tbody tr th:only-of-type {\n",
       "        vertical-align: middle;\n",
       "    }\n",
       "\n",
       "    .dataframe tbody tr th {\n",
       "        vertical-align: top;\n",
       "    }\n",
       "\n",
       "    .dataframe thead th {\n",
       "        text-align: right;\n",
       "    }\n",
       "</style>\n",
       "<table border=\"1\" class=\"dataframe\">\n",
       "  <thead>\n",
       "    <tr style=\"text-align: right;\">\n",
       "      <th></th>\n",
       "      <th>floor</th>\n",
       "      <th>floors_total</th>\n",
       "      <th>group_floor</th>\n",
       "    </tr>\n",
       "  </thead>\n",
       "  <tbody>\n",
       "    <tr>\n",
       "      <th>0</th>\n",
       "      <td>8</td>\n",
       "      <td>16.0</td>\n",
       "      <td>другой</td>\n",
       "    </tr>\n",
       "    <tr>\n",
       "      <th>1</th>\n",
       "      <td>1</td>\n",
       "      <td>11.0</td>\n",
       "      <td>первый</td>\n",
       "    </tr>\n",
       "    <tr>\n",
       "      <th>2</th>\n",
       "      <td>4</td>\n",
       "      <td>5.0</td>\n",
       "      <td>другой</td>\n",
       "    </tr>\n",
       "    <tr>\n",
       "      <th>3</th>\n",
       "      <td>9</td>\n",
       "      <td>14.0</td>\n",
       "      <td>другой</td>\n",
       "    </tr>\n",
       "    <tr>\n",
       "      <th>4</th>\n",
       "      <td>13</td>\n",
       "      <td>14.0</td>\n",
       "      <td>другой</td>\n",
       "    </tr>\n",
       "    <tr>\n",
       "      <th>5</th>\n",
       "      <td>5</td>\n",
       "      <td>12.0</td>\n",
       "      <td>другой</td>\n",
       "    </tr>\n",
       "    <tr>\n",
       "      <th>6</th>\n",
       "      <td>6</td>\n",
       "      <td>26.0</td>\n",
       "      <td>другой</td>\n",
       "    </tr>\n",
       "    <tr>\n",
       "      <th>7</th>\n",
       "      <td>22</td>\n",
       "      <td>24.0</td>\n",
       "      <td>другой</td>\n",
       "    </tr>\n",
       "    <tr>\n",
       "      <th>8</th>\n",
       "      <td>26</td>\n",
       "      <td>27.0</td>\n",
       "      <td>другой</td>\n",
       "    </tr>\n",
       "    <tr>\n",
       "      <th>9</th>\n",
       "      <td>7</td>\n",
       "      <td>9.0</td>\n",
       "      <td>другой</td>\n",
       "    </tr>\n",
       "    <tr>\n",
       "      <th>10</th>\n",
       "      <td>3</td>\n",
       "      <td>12.0</td>\n",
       "      <td>другой</td>\n",
       "    </tr>\n",
       "    <tr>\n",
       "      <th>11</th>\n",
       "      <td>4</td>\n",
       "      <td>5.0</td>\n",
       "      <td>другой</td>\n",
       "    </tr>\n",
       "    <tr>\n",
       "      <th>12</th>\n",
       "      <td>5</td>\n",
       "      <td>5.0</td>\n",
       "      <td>последний</td>\n",
       "    </tr>\n",
       "    <tr>\n",
       "      <th>13</th>\n",
       "      <td>5</td>\n",
       "      <td>5.0</td>\n",
       "      <td>последний</td>\n",
       "    </tr>\n",
       "    <tr>\n",
       "      <th>14</th>\n",
       "      <td>1</td>\n",
       "      <td>6.0</td>\n",
       "      <td>первый</td>\n",
       "    </tr>\n",
       "    <tr>\n",
       "      <th>15</th>\n",
       "      <td>5</td>\n",
       "      <td>14.0</td>\n",
       "      <td>другой</td>\n",
       "    </tr>\n",
       "    <tr>\n",
       "      <th>16</th>\n",
       "      <td>1</td>\n",
       "      <td>5.0</td>\n",
       "      <td>первый</td>\n",
       "    </tr>\n",
       "    <tr>\n",
       "      <th>17</th>\n",
       "      <td>7</td>\n",
       "      <td>17.0</td>\n",
       "      <td>другой</td>\n",
       "    </tr>\n",
       "    <tr>\n",
       "      <th>18</th>\n",
       "      <td>2</td>\n",
       "      <td>5.0</td>\n",
       "      <td>другой</td>\n",
       "    </tr>\n",
       "    <tr>\n",
       "      <th>19</th>\n",
       "      <td>8</td>\n",
       "      <td>16.0</td>\n",
       "      <td>другой</td>\n",
       "    </tr>\n",
       "  </tbody>\n",
       "</table>\n",
       "</div>"
      ],
      "text/plain": [
       "    floor  floors_total group_floor\n",
       "0       8          16.0      другой\n",
       "1       1          11.0      первый\n",
       "2       4           5.0      другой\n",
       "3       9          14.0      другой\n",
       "4      13          14.0      другой\n",
       "5       5          12.0      другой\n",
       "6       6          26.0      другой\n",
       "7      22          24.0      другой\n",
       "8      26          27.0      другой\n",
       "9       7           9.0      другой\n",
       "10      3          12.0      другой\n",
       "11      4           5.0      другой\n",
       "12      5           5.0   последний\n",
       "13      5           5.0   последний\n",
       "14      1           6.0      первый\n",
       "15      5          14.0      другой\n",
       "16      1           5.0      первый\n",
       "17      7          17.0      другой\n",
       "18      2           5.0      другой\n",
       "19      8          16.0      другой"
      ]
     },
     "execution_count": 41,
     "metadata": {},
     "output_type": "execute_result"
    }
   ],
   "source": [
    "df[['floor', 'floors_total', 'group_floor']].head(20)"
   ]
  },
  {
   "cell_type": "markdown",
   "metadata": {},
   "source": [
    "* **Соотношение жилой и общей площади**\n",
    "\n",
    "Рассчитаем и добавим в таблицу отношение жилой площади к общей. Столбец назовём `living_ratio`:"
   ]
  },
  {
   "cell_type": "code",
   "execution_count": 42,
   "metadata": {},
   "outputs": [],
   "source": [
    "df['living_ratio'] = df.living_area / df.total_area"
   ]
  },
  {
   "cell_type": "markdown",
   "metadata": {},
   "source": [
    "Выведем рассматриваемые параметры на экран:"
   ]
  },
  {
   "cell_type": "code",
   "execution_count": 43,
   "metadata": {},
   "outputs": [
    {
     "data": {
      "text/html": [
       "<div>\n",
       "<style scoped>\n",
       "    .dataframe tbody tr th:only-of-type {\n",
       "        vertical-align: middle;\n",
       "    }\n",
       "\n",
       "    .dataframe tbody tr th {\n",
       "        vertical-align: top;\n",
       "    }\n",
       "\n",
       "    .dataframe thead th {\n",
       "        text-align: right;\n",
       "    }\n",
       "</style>\n",
       "<table border=\"1\" class=\"dataframe\">\n",
       "  <thead>\n",
       "    <tr style=\"text-align: right;\">\n",
       "      <th></th>\n",
       "      <th>living_area</th>\n",
       "      <th>total_area</th>\n",
       "      <th>living_ratio</th>\n",
       "    </tr>\n",
       "  </thead>\n",
       "  <tbody>\n",
       "    <tr>\n",
       "      <th>0</th>\n",
       "      <td>51.0</td>\n",
       "      <td>108.0</td>\n",
       "      <td>0.472222</td>\n",
       "    </tr>\n",
       "    <tr>\n",
       "      <th>1</th>\n",
       "      <td>18.6</td>\n",
       "      <td>40.4</td>\n",
       "      <td>0.460396</td>\n",
       "    </tr>\n",
       "    <tr>\n",
       "      <th>2</th>\n",
       "      <td>34.3</td>\n",
       "      <td>56.0</td>\n",
       "      <td>0.612500</td>\n",
       "    </tr>\n",
       "    <tr>\n",
       "      <th>3</th>\n",
       "      <td>NaN</td>\n",
       "      <td>159.0</td>\n",
       "      <td>NaN</td>\n",
       "    </tr>\n",
       "    <tr>\n",
       "      <th>4</th>\n",
       "      <td>32.0</td>\n",
       "      <td>100.0</td>\n",
       "      <td>0.320000</td>\n",
       "    </tr>\n",
       "  </tbody>\n",
       "</table>\n",
       "</div>"
      ],
      "text/plain": [
       "   living_area  total_area  living_ratio\n",
       "0         51.0       108.0      0.472222\n",
       "1         18.6        40.4      0.460396\n",
       "2         34.3        56.0      0.612500\n",
       "3          NaN       159.0           NaN\n",
       "4         32.0       100.0      0.320000"
      ]
     },
     "execution_count": 43,
     "metadata": {},
     "output_type": "execute_result"
    }
   ],
   "source": [
    "df[['living_area', 'total_area', 'living_ratio']].head()"
   ]
  },
  {
   "cell_type": "markdown",
   "metadata": {},
   "source": [
    "* **Соотношение площади кухни и общей площади**\n",
    "\n",
    "Рассчитаем и добавим в таблицу отношение площади кухни к общей. Столбец назовём `kitchen_ratio`:"
   ]
  },
  {
   "cell_type": "code",
   "execution_count": 44,
   "metadata": {},
   "outputs": [],
   "source": [
    "df['kitchen_ratio'] = df.kitchen_area / df.total_area"
   ]
  },
  {
   "cell_type": "markdown",
   "metadata": {},
   "source": [
    "Выведем рассматриваемые параметры на экран:"
   ]
  },
  {
   "cell_type": "code",
   "execution_count": 45,
   "metadata": {},
   "outputs": [
    {
     "data": {
      "text/html": [
       "<div>\n",
       "<style scoped>\n",
       "    .dataframe tbody tr th:only-of-type {\n",
       "        vertical-align: middle;\n",
       "    }\n",
       "\n",
       "    .dataframe tbody tr th {\n",
       "        vertical-align: top;\n",
       "    }\n",
       "\n",
       "    .dataframe thead th {\n",
       "        text-align: right;\n",
       "    }\n",
       "</style>\n",
       "<table border=\"1\" class=\"dataframe\">\n",
       "  <thead>\n",
       "    <tr style=\"text-align: right;\">\n",
       "      <th></th>\n",
       "      <th>kitchen_area</th>\n",
       "      <th>total_area</th>\n",
       "      <th>kitchen_ratio</th>\n",
       "    </tr>\n",
       "  </thead>\n",
       "  <tbody>\n",
       "    <tr>\n",
       "      <th>0</th>\n",
       "      <td>25.0</td>\n",
       "      <td>108.0</td>\n",
       "      <td>0.231481</td>\n",
       "    </tr>\n",
       "    <tr>\n",
       "      <th>1</th>\n",
       "      <td>11.0</td>\n",
       "      <td>40.4</td>\n",
       "      <td>0.272277</td>\n",
       "    </tr>\n",
       "    <tr>\n",
       "      <th>2</th>\n",
       "      <td>8.3</td>\n",
       "      <td>56.0</td>\n",
       "      <td>0.148214</td>\n",
       "    </tr>\n",
       "    <tr>\n",
       "      <th>3</th>\n",
       "      <td>NaN</td>\n",
       "      <td>159.0</td>\n",
       "      <td>NaN</td>\n",
       "    </tr>\n",
       "    <tr>\n",
       "      <th>4</th>\n",
       "      <td>41.0</td>\n",
       "      <td>100.0</td>\n",
       "      <td>0.410000</td>\n",
       "    </tr>\n",
       "  </tbody>\n",
       "</table>\n",
       "</div>"
      ],
      "text/plain": [
       "   kitchen_area  total_area  kitchen_ratio\n",
       "0          25.0       108.0       0.231481\n",
       "1          11.0        40.4       0.272277\n",
       "2           8.3        56.0       0.148214\n",
       "3           NaN       159.0            NaN\n",
       "4          41.0       100.0       0.410000"
      ]
     },
     "execution_count": 45,
     "metadata": {},
     "output_type": "execute_result"
    }
   ],
   "source": [
    "df[['kitchen_area', 'total_area', 'kitchen_ratio']].head()"
   ]
  },
  {
   "cell_type": "markdown",
   "metadata": {},
   "source": [
    "### Промежуточный вывод\n",
    "Мы провели расчёты и добавили в таблицу:\n",
    "* цену квадратного метра;\n",
    "* день недели, месяц и год публикации объявления;\n",
    "* этаж квартиры (варианты — первый, последний, другой);\n",
    "* соотношение жилой и общей площади, а также отношение площади кухни к общей.\n",
    "\n",
    "Далее мы проведём подробное исследование предоставленных данных и изучим, насколько им можно доверять и в каких пределах."
   ]
  },
  {
   "cell_type": "markdown",
   "metadata": {},
   "source": [
    "## Исследовательский анализ данных"
   ]
  },
  {
   "cell_type": "markdown",
   "metadata": {},
   "source": [
    "### Изучение площади, цены, числа комнат, высоты потолков\n",
    "\n",
    "Для начала получим описание распределения данных в вышеуказанных столбцах:"
   ]
  },
  {
   "cell_type": "code",
   "execution_count": 46,
   "metadata": {
    "scrolled": true
   },
   "outputs": [
    {
     "data": {
      "text/html": [
       "<div>\n",
       "<style scoped>\n",
       "    .dataframe tbody tr th:only-of-type {\n",
       "        vertical-align: middle;\n",
       "    }\n",
       "\n",
       "    .dataframe tbody tr th {\n",
       "        vertical-align: top;\n",
       "    }\n",
       "\n",
       "    .dataframe thead th {\n",
       "        text-align: right;\n",
       "    }\n",
       "</style>\n",
       "<table border=\"1\" class=\"dataframe\">\n",
       "  <thead>\n",
       "    <tr style=\"text-align: right;\">\n",
       "      <th></th>\n",
       "      <th>total_area</th>\n",
       "      <th>last_price</th>\n",
       "      <th>rooms</th>\n",
       "      <th>ceiling_height</th>\n",
       "    </tr>\n",
       "  </thead>\n",
       "  <tbody>\n",
       "    <tr>\n",
       "      <th>count</th>\n",
       "      <td>23699.000000</td>\n",
       "      <td>2.369900e+04</td>\n",
       "      <td>23699.000000</td>\n",
       "      <td>23543.000000</td>\n",
       "    </tr>\n",
       "    <tr>\n",
       "      <th>mean</th>\n",
       "      <td>60.348651</td>\n",
       "      <td>6.541549e+06</td>\n",
       "      <td>2.070636</td>\n",
       "      <td>2.734102</td>\n",
       "    </tr>\n",
       "    <tr>\n",
       "      <th>std</th>\n",
       "      <td>35.654083</td>\n",
       "      <td>1.088701e+07</td>\n",
       "      <td>1.078405</td>\n",
       "      <td>1.012723</td>\n",
       "    </tr>\n",
       "    <tr>\n",
       "      <th>min</th>\n",
       "      <td>12.000000</td>\n",
       "      <td>1.219000e+04</td>\n",
       "      <td>0.000000</td>\n",
       "      <td>1.000000</td>\n",
       "    </tr>\n",
       "    <tr>\n",
       "      <th>25%</th>\n",
       "      <td>40.000000</td>\n",
       "      <td>3.400000e+06</td>\n",
       "      <td>1.000000</td>\n",
       "      <td>2.550000</td>\n",
       "    </tr>\n",
       "    <tr>\n",
       "      <th>50%</th>\n",
       "      <td>52.000000</td>\n",
       "      <td>4.650000e+06</td>\n",
       "      <td>2.000000</td>\n",
       "      <td>2.700000</td>\n",
       "    </tr>\n",
       "    <tr>\n",
       "      <th>75%</th>\n",
       "      <td>69.900000</td>\n",
       "      <td>6.800000e+06</td>\n",
       "      <td>3.000000</td>\n",
       "      <td>2.700000</td>\n",
       "    </tr>\n",
       "    <tr>\n",
       "      <th>max</th>\n",
       "      <td>900.000000</td>\n",
       "      <td>7.630000e+08</td>\n",
       "      <td>19.000000</td>\n",
       "      <td>100.000000</td>\n",
       "    </tr>\n",
       "  </tbody>\n",
       "</table>\n",
       "</div>"
      ],
      "text/plain": [
       "         total_area    last_price         rooms  ceiling_height\n",
       "count  23699.000000  2.369900e+04  23699.000000    23543.000000\n",
       "mean      60.348651  6.541549e+06      2.070636        2.734102\n",
       "std       35.654083  1.088701e+07      1.078405        1.012723\n",
       "min       12.000000  1.219000e+04      0.000000        1.000000\n",
       "25%       40.000000  3.400000e+06      1.000000        2.550000\n",
       "50%       52.000000  4.650000e+06      2.000000        2.700000\n",
       "75%       69.900000  6.800000e+06      3.000000        2.700000\n",
       "max      900.000000  7.630000e+08     19.000000      100.000000"
      ]
     },
     "execution_count": 46,
     "metadata": {},
     "output_type": "execute_result"
    }
   ],
   "source": [
    "df[['total_area', 'last_price', 'rooms', 'ceiling_height']].describe()"
   ]
  },
  {
   "cell_type": "markdown",
   "metadata": {},
   "source": [
    "Исходя из информации выше, можно сказать следующее:\n",
    "* *площадь недвижимости*\n",
    "\n",
    "    Общие площади недвижимости представлены в диапазоне от 12 кв. метров до 900 кв. метров. Если первые, вероятно, являются комнатами в общежитиях, то метраж последних вызывает вопросы. Данная площадь больше характерна для особняка, нежели для квартиры. Медианное значение площади составляет 52 кв. метра, что равносильно двухкомнатной квартире.\n",
    "    \n",
    "    \n",
    "* *цены*\n",
    "\n",
    "    Стоимость квартир колеблется от 12 тысяч (скорее всего, также за комнату, но значение довольно сомнительное) и до 763 млн включительно. Последнее, хоть и теоретически имеет место быть, всё же сильно искажает нашу статистику (стандартное отклонение параметра). Медиана цены на недвижимость - 4.65 млн. На момент исследования (май 2022 г.) она больше характерна для однокомнатных квартир, но поскольку рассматриваемые данные охватывают диапазон до 2019 г., а цены на жильё за это время значительно выросли, то можно предположить, что на тот момент медиана отражала уже упомянутые ранее двухкомнатные квартиры.\n",
    "    \n",
    "\n",
    "* *количество комнат*\n",
    "\n",
    "    Минимальное количество комнат - 0 (характерно для квартир-студий), максимальное - 19. Можно допустить, что последние отражают недвижимость нежилого фонда либо общежития. Медианное значение по количеству комнат - 2.\n",
    "    \n",
    "    \n",
    "* *высоты потолков*\n",
    "\n",
    "    Высоты потолков находятся в диапазоне от 1 метра до 100 метров включительно. И то, и другое крайне сложно себе представить, так что эти данные можно считать ошибочными. Медианное значение по высоте потолков - 2.7 метра, это стандартное значение для недвижимости в РФ.\n",
    "     \n",
    "Предварительно можно заключить, что среднестатистической недвижимостью на продажу в Санкт-Петербурге и его окрестностях является двухкомнатная квартира.\n",
    "\n",
    "Далее мы посмотрим по графикам, каким образом распределяются значимые для нас параметры оценки.\n",
    "При построении учтем результаты метода `describe`:\n",
    "* в значениях всех параметров справа наличествуют \"выбросы\" (их мы рассмотрим позднее)\n",
    "* нам стали известны диапазоны, относительно которых можно уточнить графики"
   ]
  },
  {
   "cell_type": "markdown",
   "metadata": {},
   "source": [
    "* **Площадь недвижимости**"
   ]
  },
  {
   "cell_type": "code",
   "execution_count": 47,
   "metadata": {},
   "outputs": [
    {
     "data": {
      "image/png": "[encoded data removed]",
      "text/plain": [
       "<Figure size 432x288 with 1 Axes>"
      ]
     },
     "metadata": {
      "needs_background": "light"
     },
     "output_type": "display_data"
    }
   ],
   "source": [
    "df.total_area.hist(range=(df.total_area.min(), 200), bins=3)\n",
    "plt.title('total_area')\n",
    "plt.show()"
   ]
  },
  {
   "cell_type": "markdown",
   "metadata": {},
   "source": [
    "Как мы видим, большинство проданных квартир имеют площадь от 12 метров до 75 метров. Далее прослеживается тенденция - при увеличении площади недвижимости количество ощутимо падает.\n",
    "\n",
    "* **Стоимость недвижимости**"
   ]
  },
  {
   "cell_type": "code",
   "execution_count": 48,
   "metadata": {},
   "outputs": [
    {
     "data": {
      "image/png": "[encoded data removed]",
      "text/plain": [
       "<Figure size 432x288 with 1 Axes>"
      ]
     },
     "metadata": {
      "needs_background": "light"
     },
     "output_type": "display_data"
    }
   ],
   "source": [
    "df.last_price.hist(range=(df.last_price.min(), 20000000), bins=100)\n",
    "plt.title('last_price')\n",
    "plt.show()"
   ]
  },
  {
   "cell_type": "markdown",
   "metadata": {},
   "source": [
    "Здесь мы наблюдаем распределение значений, приближенное к нормальному (Гаусса). Основное количество проданных квартир приходится на интервал от 2.5 млн до 5 млн.\n",
    "\n",
    "* **Количество комнат**"
   ]
  },
  {
   "cell_type": "code",
   "execution_count": 49,
   "metadata": {},
   "outputs": [
    {
     "data": {
      "image/png": "[encoded data removed]",
      "text/plain": [
       "<Figure size 432x288 with 1 Axes>"
      ]
     },
     "metadata": {
      "needs_background": "light"
     },
     "output_type": "display_data"
    }
   ],
   "source": [
    "df.rooms.hist(range=(df.rooms.min(), 6), bins=3)\n",
    "plt.title('rooms')\n",
    "plt.show()"
   ]
  },
  {
   "cell_type": "markdown",
   "metadata": {},
   "source": [
    "В таблице преобладают квартиры с 2-4 комнатами, квартир-студий и однокомнатных квартир примерно наполовину меньше. Недвижимость с четырьмя и более комнатами представлена в наименьшем количестве.\n",
    "\n",
    "* **Высоты потолков**\n",
    "\n",
    "Здесь в качестве границ диапазона примем значения от 2.3 метров до 5 метров включительно:"
   ]
  },
  {
   "cell_type": "code",
   "execution_count": 50,
   "metadata": {},
   "outputs": [
    {
     "data": {
      "image/png": "[encoded data removed]",
      "text/plain": [
       "<Figure size 432x288 with 1 Axes>"
      ]
     },
     "metadata": {
      "needs_background": "light"
     },
     "output_type": "display_data"
    }
   ],
   "source": [
    "df.ceiling_height.hist(range=(2.3, 5), bins=10)\n",
    "plt.title('ceiling_height')\n",
    "plt.show()"
   ]
  },
  {
   "cell_type": "markdown",
   "metadata": {},
   "source": [
    "Мы наблюдаем, что для подавляющего большинства проданных квартир характерны потолки высотой 2.7 метра, но недвижимость с более низкими потолками составляет половину от этого количества и также имеет место быть."
   ]
  },
  {
   "cell_type": "markdown",
   "metadata": {},
   "source": [
    "### Изучение времени продажи квартиры"
   ]
  },
  {
   "cell_type": "markdown",
   "metadata": {},
   "source": [
    "Перед нами стоит следующий вопрос:\n",
    "\n",
    "*Изучите время продажи квартиры. Постройте гистограмму. Посчитайте среднее и медиану. Опишите, сколько обычно занимает продажа. Когда можно считать, что продажи прошли очень быстро, а когда необычно долго?*\n",
    "\n",
    "Ранее в **пункте 3** мы выделили из столбца `first_day_exposition` день недели, месяц и год для каждого объявления. Изучим при помощи гистограмм эти параметры и рассмотрим, в какие дни, месяцы и годы объявлений больше всего.\n",
    "\n",
    "* **Дни недели**\n",
    "\n",
    "Создадим сводную таблицу по дням недели и построим по ней круговую диаграмму:"
   ]
  },
  {
   "cell_type": "code",
   "execution_count": 51,
   "metadata": {},
   "outputs": [
    {
     "data": {
      "image/png": "[encoded data removed]",
      "text/plain": [
       "<Figure size 432x288 with 1 Axes>"
      ]
     },
     "metadata": {},
     "output_type": "display_data"
    }
   ],
   "source": [
    "(\n",
    "    df.pivot_table(\n",
    "    index='day', \n",
    "    values='days_exposition', \n",
    "    aggfunc='count')\n",
    "    .plot(kind='pie', y=\"days_exposition\", legend=False)\n",
    ")\n",
    "plt.show()"
   ]
  },
  {
   "cell_type": "markdown",
   "metadata": {},
   "source": [
    "Здесь мы видим, что большинство объявлений подаётся с понедельника по четверг, т.е. в самые продуктивные рабочие дни. В пятницу и субботу объявлений подаётся наполовину меньше, в воскресение же подач нет - по-видимому, приём объявлений в этот день не производится."
   ]
  },
  {
   "cell_type": "markdown",
   "metadata": {},
   "source": [
    "* **Месяцы**\n",
    "\n",
    "Создадим сводную таблицу по месяцам и построим по ней круговую диаграмму:"
   ]
  },
  {
   "cell_type": "code",
   "execution_count": 52,
   "metadata": {},
   "outputs": [
    {
     "data": {
      "image/png": "[encoded data removed]",
      "text/plain": [
       "<Figure size 432x288 with 1 Axes>"
      ]
     },
     "metadata": {},
     "output_type": "display_data"
    }
   ],
   "source": [
    "(\n",
    "    df.pivot_table(\n",
    "    index='month', \n",
    "    values='days_exposition', \n",
    "    aggfunc='count')\n",
    "    .plot(kind='pie', y=\"days_exposition\", legend=False)\n",
    ")\n",
    "plt.show()"
   ]
  },
  {
   "cell_type": "markdown",
   "metadata": {},
   "source": [
    "Чего следовало ожидать, объявления подаются круглый год. Больше всех приходится на февраль, март, сентябрь, октябрь и ноябрь. Когда новогодние праздники позади, а до летнего отпуска ещё далеко, люди чаще прочего задумываются об улучшении жилищных условий."
   ]
  },
  {
   "cell_type": "markdown",
   "metadata": {},
   "source": [
    "* **Годы**\n",
    "\n",
    "Создадим сводную таблицу по годам продаж и построим по ней круговую диаграмму:"
   ]
  },
  {
   "cell_type": "code",
   "execution_count": 53,
   "metadata": {},
   "outputs": [
    {
     "data": {
      "image/png": "[encoded data removed]",
      "text/plain": [
       "<Figure size 432x288 with 1 Axes>"
      ]
     },
     "metadata": {},
     "output_type": "display_data"
    }
   ],
   "source": [
    "(\n",
    "    df.pivot_table(\n",
    "    index='year', \n",
    "    values='days_exposition', \n",
    "    aggfunc='count')\n",
    "    .plot(kind='pie', y=\"days_exposition\", legend=False)\n",
    ")\n",
    "plt.show()"
   ]
  },
  {
   "cell_type": "markdown",
   "metadata": {},
   "source": [
    "Здесь же выводы стоит делать не сколько по годам, когда продажи квартир шли хорошо, сколько о работе сервиса \"Яндекс Недвижимость\". По данным Википедии, с 2014 года сервис перешёл к самостоятельному размещению объявлений, что ознаменовало наблюдаемый по диаграмме рост. Количество объявлений увеличивалось вплоть до 2019 года, после которого резко пошло на спад. Чтобы понять причину данного спада, потребуется изучить, представлены ли данные в датафрейме за весь период 2019 года, либо рассмотреть влияние сторонних факторов."
   ]
  },
  {
   "cell_type": "markdown",
   "metadata": {},
   "source": [
    "Далее рассмотрим столбец `days_exposition`. Сперва запросим по нему информацию:"
   ]
  },
  {
   "cell_type": "code",
   "execution_count": 54,
   "metadata": {},
   "outputs": [
    {
     "data": {
      "text/html": [
       "<div>\n",
       "<style scoped>\n",
       "    .dataframe tbody tr th:only-of-type {\n",
       "        vertical-align: middle;\n",
       "    }\n",
       "\n",
       "    .dataframe tbody tr th {\n",
       "        vertical-align: top;\n",
       "    }\n",
       "\n",
       "    .dataframe thead th {\n",
       "        text-align: right;\n",
       "    }\n",
       "</style>\n",
       "<table border=\"1\" class=\"dataframe\">\n",
       "  <thead>\n",
       "    <tr style=\"text-align: right;\">\n",
       "      <th></th>\n",
       "      <th>days_exposition</th>\n",
       "    </tr>\n",
       "  </thead>\n",
       "  <tbody>\n",
       "    <tr>\n",
       "      <th>count</th>\n",
       "      <td>20518.000000</td>\n",
       "    </tr>\n",
       "    <tr>\n",
       "      <th>mean</th>\n",
       "      <td>180.888634</td>\n",
       "    </tr>\n",
       "    <tr>\n",
       "      <th>std</th>\n",
       "      <td>219.727988</td>\n",
       "    </tr>\n",
       "    <tr>\n",
       "      <th>min</th>\n",
       "      <td>1.000000</td>\n",
       "    </tr>\n",
       "    <tr>\n",
       "      <th>25%</th>\n",
       "      <td>45.000000</td>\n",
       "    </tr>\n",
       "    <tr>\n",
       "      <th>50%</th>\n",
       "      <td>95.000000</td>\n",
       "    </tr>\n",
       "    <tr>\n",
       "      <th>75%</th>\n",
       "      <td>232.000000</td>\n",
       "    </tr>\n",
       "    <tr>\n",
       "      <th>max</th>\n",
       "      <td>1580.000000</td>\n",
       "    </tr>\n",
       "  </tbody>\n",
       "</table>\n",
       "</div>"
      ],
      "text/plain": [
       "       days_exposition\n",
       "count     20518.000000\n",
       "mean        180.888634\n",
       "std         219.727988\n",
       "min           1.000000\n",
       "25%          45.000000\n",
       "50%          95.000000\n",
       "75%         232.000000\n",
       "max        1580.000000"
      ]
     },
     "execution_count": 54,
     "metadata": {},
     "output_type": "execute_result"
    }
   ],
   "source": [
    "df.days_exposition.describe().to_frame()"
   ]
  },
  {
   "cell_type": "markdown",
   "metadata": {},
   "source": [
    "Среднее значение составляет 180 дней (полгода), его явно искажает максимум, равный в пересчете 4.5 годам. Медиана внушает куда больше доверия: она составляет 95 дней (три месяца).\n",
    "\n",
    "Минимальное время, за которое была продана недвижимость, составляет 1 день. Это вызывает вопросы: даже если квартира быстро нашла своего покупателя, срок слишком короткий, чтобы по всем правилам оформить сделку. Стоит запросить подробную информацию по этому объявлению: в данных либо ошибка, либо они заведомо-ложные.\n",
    "\n",
    "Как упоминалось выше, самая необычная по длительности продажа составляет 4.5 года. Довольно долго, но порой встречаются и такие случаи.\n",
    "\n",
    "С учётом сводки выше построим гистограмму распределения:"
   ]
  },
  {
   "cell_type": "code",
   "execution_count": 55,
   "metadata": {},
   "outputs": [
    {
     "data": {
      "image/png": "[encoded data removed]",
      "text/plain": [
       "<Figure size 432x288 with 1 Axes>"
      ]
     },
     "metadata": {
      "needs_background": "light"
     },
     "output_type": "display_data"
    }
   ],
   "source": [
    "df.days_exposition.hist(range=(df.days_exposition.min(), 200), bins=60)\n",
    "plt.title('days_exposition')\n",
    "plt.show()"
   ]
  },
  {
   "cell_type": "markdown",
   "metadata": {},
   "source": [
    "Распределение данных напоминает распределение Пуассона (что свойственно для временных величин). Однако, в районе 45 и 60 дней наблюдаются аномальные всплески. До того, как их интерпретировать, стоит уточнить у отдела разработки, с чем это может быть связано.  "
   ]
  },
  {
   "cell_type": "markdown",
   "metadata": {},
   "source": [
    "### Изучение выбросов и составление достоверного среза данных\n",
    "\n",
    "Следующее на повестке:\n",
    "\n",
    "*Уберите редкие и выбивающиеся значения. Опишите, какие особенности обнаружили.*\n",
    "\n",
    "Изучим на предмет выбросов следующие столбцы:\n",
    "\n",
    "* `total_area`\n",
    "* `last_price`\n",
    "* `rooms`\n",
    "* `ceiling_height`\n",
    "* `days_exposition`\n",
    "\n",
    "Сделать это лучше всего через диаграмму размаха (\"ящик с усами\"). Нарисуем диаграмму и запросим по ней данные для каждого рассматриваемого параметра."
   ]
  },
  {
   "cell_type": "markdown",
   "metadata": {},
   "source": [
    "* **Площадь недвижимости**"
   ]
  },
  {
   "cell_type": "code",
   "execution_count": 56,
   "metadata": {
    "scrolled": true
   },
   "outputs": [
    {
     "data": {
      "text/plain": [
       "<AxesSubplot:>"
      ]
     },
     "execution_count": 56,
     "metadata": {},
     "output_type": "execute_result"
    },
    {
     "data": {
      "image/png": "[encoded data removed]",
      "text/plain": [
       "<Figure size 432x288 with 1 Axes>"
      ]
     },
     "metadata": {
      "needs_background": "light"
     },
     "output_type": "display_data"
    }
   ],
   "source": [
    "boxplot = df.boxplot('total_area')\n",
    "plt.ylim(df.total_area.min(), 400)\n",
    "boxplot"
   ]
  },
  {
   "cell_type": "markdown",
   "metadata": {},
   "source": [
    "Как мы видим, выбросов со стороны правого \"уса\" (т.е. квартир с большой площадью) очень много и они оказывают влияние на характер распределения значений. Такой тип можно назвать распределением с тяжёлыми хвостами. Т.е. недвижимость большой площади хоть и встречается редко, но все же имеет значение. Исключив её, мы рискуем сильно обеднить наши данные. Именно по этой причине мы предпочтём не включать данный фактор в наш будущий срез с достоверными данными."
   ]
  },
  {
   "cell_type": "markdown",
   "metadata": {},
   "source": [
    "* **Стоимость недвижимости**"
   ]
  },
  {
   "cell_type": "code",
   "execution_count": 57,
   "metadata": {},
   "outputs": [
    {
     "data": {
      "text/plain": [
       "<AxesSubplot:>"
      ]
     },
     "execution_count": 57,
     "metadata": {},
     "output_type": "execute_result"
    },
    {
     "data": {
      "image/png": "[encoded data removed]",
      "text/plain": [
       "<Figure size 432x288 with 1 Axes>"
      ]
     },
     "metadata": {
      "needs_background": "light"
     },
     "output_type": "display_data"
    }
   ],
   "source": [
    "boxplot = df.boxplot('last_price')\n",
    "plt.ylim(df.last_price.min(), 30000000)\n",
    "boxplot"
   ]
  },
  {
   "cell_type": "markdown",
   "metadata": {},
   "source": [
    "Здесь наблюдается огромное число выбросов. Запросим сводку по рассматриваемому столбцу:"
   ]
  },
  {
   "cell_type": "code",
   "execution_count": 58,
   "metadata": {},
   "outputs": [
    {
     "data": {
      "text/html": [
       "<div>\n",
       "<style scoped>\n",
       "    .dataframe tbody tr th:only-of-type {\n",
       "        vertical-align: middle;\n",
       "    }\n",
       "\n",
       "    .dataframe tbody tr th {\n",
       "        vertical-align: top;\n",
       "    }\n",
       "\n",
       "    .dataframe thead th {\n",
       "        text-align: right;\n",
       "    }\n",
       "</style>\n",
       "<table border=\"1\" class=\"dataframe\">\n",
       "  <thead>\n",
       "    <tr style=\"text-align: right;\">\n",
       "      <th></th>\n",
       "      <th>last_price</th>\n",
       "    </tr>\n",
       "  </thead>\n",
       "  <tbody>\n",
       "    <tr>\n",
       "      <th>count</th>\n",
       "      <td>2.369900e+04</td>\n",
       "    </tr>\n",
       "    <tr>\n",
       "      <th>mean</th>\n",
       "      <td>6.541549e+06</td>\n",
       "    </tr>\n",
       "    <tr>\n",
       "      <th>std</th>\n",
       "      <td>1.088701e+07</td>\n",
       "    </tr>\n",
       "    <tr>\n",
       "      <th>min</th>\n",
       "      <td>1.219000e+04</td>\n",
       "    </tr>\n",
       "    <tr>\n",
       "      <th>25%</th>\n",
       "      <td>3.400000e+06</td>\n",
       "    </tr>\n",
       "    <tr>\n",
       "      <th>50%</th>\n",
       "      <td>4.650000e+06</td>\n",
       "    </tr>\n",
       "    <tr>\n",
       "      <th>75%</th>\n",
       "      <td>6.800000e+06</td>\n",
       "    </tr>\n",
       "    <tr>\n",
       "      <th>max</th>\n",
       "      <td>7.630000e+08</td>\n",
       "    </tr>\n",
       "  </tbody>\n",
       "</table>\n",
       "</div>"
      ],
      "text/plain": [
       "         last_price\n",
       "count  2.369900e+04\n",
       "mean   6.541549e+06\n",
       "std    1.088701e+07\n",
       "min    1.219000e+04\n",
       "25%    3.400000e+06\n",
       "50%    4.650000e+06\n",
       "75%    6.800000e+06\n",
       "max    7.630000e+08"
      ]
     },
     "execution_count": 58,
     "metadata": {},
     "output_type": "execute_result"
    }
   ],
   "source": [
    "df.last_price.describe().to_frame()"
   ]
  },
  {
   "cell_type": "code",
   "execution_count": 59,
   "metadata": {},
   "outputs": [
    {
     "data": {
      "text/plain": [
       "763000000.0"
      ]
     },
     "execution_count": 59,
     "metadata": {},
     "output_type": "execute_result"
    }
   ],
   "source": [
    "7.630000e+08"
   ]
  },
  {
   "cell_type": "markdown",
   "metadata": {},
   "source": [
    "Вопрос установления границ здесь сложен. С одной стороны, данное распределение также относится распределению с тяжёлыми хвостами, которыми нельзя пренебречь. С другой же - максимальная цена за недвижимость означена как 763 млн, а это приводит наше стандартное отклонение к значению почти 11 млн. Последнее при медиане 4.65 млн абсолютно недопустимо.\n",
    "\n",
    "По этой причине в текущем исследовании мы примем, что оно не включает в себя элитное жильё, и установим правую границу для `last_price` - **100 000 000**.\n",
    "\n",
    "* **Количество комнат**"
   ]
  },
  {
   "cell_type": "code",
   "execution_count": 60,
   "metadata": {},
   "outputs": [
    {
     "data": {
      "image/png": "[encoded data removed]",
      "text/plain": [
       "<Figure size 432x288 with 1 Axes>"
      ]
     },
     "metadata": {
      "needs_background": "light"
     },
     "output_type": "display_data"
    }
   ],
   "source": [
    "boxplot = df.boxplot('rooms')"
   ]
  },
  {
   "cell_type": "markdown",
   "metadata": {},
   "source": [
    "Выбросов здесь значительно меньше. Для того, чтобы не обеднять наши данные, мы также исключим этот фактор из влияния на конечный срез.\n",
    "\n",
    "* **Высоты потолков**"
   ]
  },
  {
   "cell_type": "code",
   "execution_count": 61,
   "metadata": {},
   "outputs": [
    {
     "data": {
      "text/plain": [
       "<AxesSubplot:>"
      ]
     },
     "execution_count": 61,
     "metadata": {},
     "output_type": "execute_result"
    },
    {
     "data": {
      "image/png": "[encoded data removed]",
      "text/plain": [
       "<Figure size 432x288 with 1 Axes>"
      ]
     },
     "metadata": {
      "needs_background": "light"
     },
     "output_type": "display_data"
    }
   ],
   "source": [
    "boxplot, data = df.boxplot('ceiling_height', return_type='both')\n",
    "plt.ylim(df.ceiling_height.min(), 5)\n",
    "boxplot"
   ]
  },
  {
   "cell_type": "markdown",
   "metadata": {},
   "source": [
    "Здесь также наблюдается огромное число выбросов, причём с обеих сторон. Запросим данные \"ящика с усами\" для определения границ межквартильного размаха:"
   ]
  },
  {
   "cell_type": "code",
   "execution_count": 62,
   "metadata": {},
   "outputs": [
    {
     "name": "stdout",
     "output_type": "stream",
     "text": [
      "whiskers [array([2.55, 2.34]), array([2.7 , 2.92])]\n",
      "caps [array([2.34, 2.34]), array([2.92, 2.92])]\n",
      "boxes [array([2.55, 2.55, 2.7 , 2.7 , 2.55])]\n",
      "medians [array([2.7, 2.7])]\n",
      "fliers [array([2.0, 2.3, 2.0, ..., 3.05, 3.7, 3.0], dtype=object)]\n",
      "means []\n"
     ]
    }
   ],
   "source": [
    "for key, values_list in data.items():\n",
    "    print(key, [x.get_ydata() for x in values_list])"
   ]
  },
  {
   "cell_type": "markdown",
   "metadata": {},
   "source": [
    "В данном случае назвать это распределением с тяжёлыми хвостами не выйдет: согласно СНиП, потолки в жилой недвижимости не могут быть ниже 2.3 метров. Также можно допустить, что потолков высотой 100 метров в квартире быть не может.\n",
    "\n",
    "Опираясь на это, установим левую границу для `ceiling_height` - **2.3**, а правую - **5**."
   ]
  },
  {
   "cell_type": "markdown",
   "metadata": {},
   "source": [
    "* **Время продажи**\n",
    "\n",
    "Выведем диаграмму \"ящик с усами\" и её данные для этого параметра:"
   ]
  },
  {
   "cell_type": "code",
   "execution_count": 63,
   "metadata": {},
   "outputs": [
    {
     "data": {
      "text/plain": [
       "<AxesSubplot:>"
      ]
     },
     "execution_count": 63,
     "metadata": {},
     "output_type": "execute_result"
    },
    {
     "data": {
      "image/png": "[encoded data removed]",
      "text/plain": [
       "<Figure size 432x288 with 1 Axes>"
      ]
     },
     "metadata": {
      "needs_background": "light"
     },
     "output_type": "display_data"
    }
   ],
   "source": [
    "boxplot, data = df.boxplot('days_exposition', return_type='both')\n",
    "boxplot"
   ]
  },
  {
   "cell_type": "markdown",
   "metadata": {},
   "source": [
    "Здесь также наблюдается большое число выбросов со стороны правого \"уса\". Запросим данные \"ящика с усами\" для определения границ межквартильного размаха:"
   ]
  },
  {
   "cell_type": "code",
   "execution_count": 64,
   "metadata": {},
   "outputs": [
    {
     "name": "stdout",
     "output_type": "stream",
     "text": [
      "whiskers [array([45.,  1.]), array([232., 512.])]\n",
      "caps [array([1., 1.]), array([512., 512.])]\n",
      "boxes [array([ 45.,  45., 232., 232.,  45.])]\n",
      "medians [array([95., 95.])]\n",
      "fliers [array([558.0, 571.0, 615.0, ..., 721.0000000000001, 519.0, 602.0],\n",
      "      dtype=object)]\n",
      "means []\n"
     ]
    }
   ],
   "source": [
    "for key, values_list in data.items():\n",
    "    print(key, [x.get_ydata() for x in values_list])"
   ]
  },
  {
   "cell_type": "markdown",
   "metadata": {},
   "source": [
    "В **пункте 4.2** уже упоминалось, что минимальное время продажи (1 день) весьма и весьма сомнительно, тогда как максимальное (4.5 года) имеет право на существование.\n",
    "\n",
    "Установим правую границу для `days_exposition` - **7**."
   ]
  },
  {
   "cell_type": "markdown",
   "metadata": {},
   "source": [
    "Теперь оценим, какое количество потерь в данных будет, если удалить все значения, охарактеризованные выше как выбросы. Для этого запросим срез с данными, обратившись при помощи `query` и задав все границы, и рассчитаем отношение количества его строк к общему.\n",
    "\n",
    "Чтобы не лишить нашу выборку весомой части данных, все условия будут рассматриваться совместно:"
   ]
  },
  {
   "cell_type": "code",
   "execution_count": 65,
   "metadata": {},
   "outputs": [
    {
     "data": {
      "text/plain": [
       "0.821469260306342"
      ]
     },
     "execution_count": 65,
     "metadata": {},
     "output_type": "execute_result"
    }
   ],
   "source": [
    "len(df.query('last_price < 100000000 and 2.3 < ceiling_height < 5 and days_exposition > 7')) / len(df)"
   ]
  },
  {
   "cell_type": "markdown",
   "metadata": {},
   "source": [
    "Потерь оказалось слишком много - около 18%. При формировании достоверного среза данных мы можем пожертвовать не более чем 10% от всего объема; в противном случае наша выборка будет обеднена.\n",
    "\n",
    "Рассмотрим, какими условиями можно пожертвовать в данной ситуации:\n",
    "\n",
    "* `ceiling_height` в жилье квартирного типа физически не может быть больше или меньше указанных выше значений, поэтому этот параметр убирать нельзя;\n",
    "\n",
    "* `last_price` ввиду того, что ранее мы решили исключить недвижимость класса \"люкс\", также должен присутствовать;\n",
    "\n",
    "* `days_exposition` и его границами мы можем поступиться, поскольку предположение о связи раннего снятия квартир с продажи с мошеннической деятельностью должно быть проверено в отдельном исследовании.\n",
    "\n",
    "Уберём условие для `days_exposition` и оценим отношение объёма достоверной выборки к общему:"
   ]
  },
  {
   "cell_type": "code",
   "execution_count": 66,
   "metadata": {},
   "outputs": [
    {
     "data": {
      "text/plain": [
       "0.9893666399426136"
      ]
     },
     "execution_count": 66,
     "metadata": {},
     "output_type": "execute_result"
    }
   ],
   "source": [
    "len(df.query('last_price < 100000000 and 2.3 < ceiling_height < 5')) / len(df)"
   ]
  },
  {
   "cell_type": "markdown",
   "metadata": {},
   "source": [
    "Мы получили примерно 2% отбракованных данных. Это немного, и результат нас устраивает.\n",
    "\n",
    "Теперь можно создать срез с достоверными данными `good_data`, запросив его при помощи `query` и задав все границы, перечисленные выше:"
   ]
  },
  {
   "cell_type": "code",
   "execution_count": 67,
   "metadata": {},
   "outputs": [],
   "source": [
    "good_data = (\n",
    "    df.query('last_price < 100000000 and 2.3 < ceiling_height < 5')\n",
    "    .reset_index(drop=True)\n",
    ")"
   ]
  },
  {
   "cell_type": "markdown",
   "metadata": {},
   "source": [
    "Выведем информацию о получившемся датафрейме на экран:"
   ]
  },
  {
   "cell_type": "code",
   "execution_count": 68,
   "metadata": {},
   "outputs": [
    {
     "name": "stdout",
     "output_type": "stream",
     "text": [
      "<class 'pandas.core.frame.DataFrame'>\n",
      "RangeIndex: 23447 entries, 0 to 23446\n",
      "Data columns (total 29 columns):\n",
      " #   Column                Non-Null Count  Dtype         \n",
      "---  ------                --------------  -----         \n",
      " 0   total_images          23447 non-null  int64         \n",
      " 1   last_price            23447 non-null  float64       \n",
      " 2   total_area            23447 non-null  float64       \n",
      " 3   first_day_exposition  23447 non-null  datetime64[ns]\n",
      " 4   rooms                 23447 non-null  int64         \n",
      " 5   ceiling_height        23447 non-null  float64       \n",
      " 6   floors_total          23363 non-null  float64       \n",
      " 7   living_area           21583 non-null  float64       \n",
      " 8   floor                 23447 non-null  int64         \n",
      " 9   is_apartment          23447 non-null  bool          \n",
      " 10  studio                23447 non-null  bool          \n",
      " 11  open_plan             23447 non-null  bool          \n",
      " 12  kitchen_area          21224 non-null  float64       \n",
      " 13  balcony               23447 non-null  int64         \n",
      " 14  locality_name         23433 non-null  object        \n",
      " 15  airports_nearest      18057 non-null  float64       \n",
      " 16  city_centers_nearest  18080 non-null  float64       \n",
      " 17  parks_around3000      18081 non-null  float64       \n",
      " 18  parks_nearest         8027 non-null   float64       \n",
      " 19  ponds_around3000      18081 non-null  float64       \n",
      " 20  ponds_nearest         9042 non-null   float64       \n",
      " 21  days_exposition       20309 non-null  float64       \n",
      " 22  sqmeter_cost          23447 non-null  float64       \n",
      " 23  day                   19869 non-null  object        \n",
      " 24  month                 23447 non-null  object        \n",
      " 25  year                  23447 non-null  int64         \n",
      " 26  group_floor           23447 non-null  object        \n",
      " 27  living_ratio          21583 non-null  float64       \n",
      " 28  kitchen_ratio         21224 non-null  float64       \n",
      "dtypes: bool(3), datetime64[ns](1), float64(16), int64(5), object(4)\n",
      "memory usage: 4.7+ MB\n"
     ]
    }
   ],
   "source": [
    "good_data.info()"
   ]
  },
  {
   "cell_type": "markdown",
   "metadata": {},
   "source": [
    "### Факторы влияния на стоимость квартиры\n",
    "\n",
    "Наш следующий вопрос звучит так:\n",
    "\n",
    "*Какие факторы больше всего влияют на стоимость квартиры? Изучите, зависит ли цена от квадратного метра, числа комнат, этажа (первого или последнего), удалённости от центра. Также изучите зависимость от даты размещения: дня недели, месяца и года*\n",
    "\n",
    "В дальнейшем мы будем работать со срезом данных `good_data`, созданным в **пункте 4.3**. Исходя из него, выясним, как соотносятся вышеназванные характеристики с конечной ценой на квартиру и степень их влияния на неё."
   ]
  },
  {
   "cell_type": "markdown",
   "metadata": {},
   "source": [
    "* **Связь цены за квартиру с кв.метром**\n",
    "\n",
    "Для определения взаимосвязи построим *hexbin*-график:"
   ]
  },
  {
   "cell_type": "code",
   "execution_count": 69,
   "metadata": {},
   "outputs": [
    {
     "data": {
      "image/png": "[encoded data removed]",
      "text/plain": [
       "<Figure size 432x288 with 2 Axes>"
      ]
     },
     "metadata": {
      "needs_background": "light"
     },
     "output_type": "display_data"
    }
   ],
   "source": [
    "(\n",
    "    good_data\n",
    "    .pivot_table(index='sqmeter_cost', values='last_price', aggfunc = 'median')\n",
    "    .reset_index()\n",
    "    .plot(x='sqmeter_cost', y='last_price', xlim=(0, 150000), ylim=(0, 10000000), gridsize=(100,100), kind='hexbin', sharex=False, grid=True)\n",
    ")\n",
    "plt.show()"
   ]
  },
  {
   "cell_type": "markdown",
   "metadata": {},
   "source": [
    "Здесь прослеживается повышение частоты встречания определённой цены за квадратный метр (80 тыс. и 100 тыс.) с конечной ценой в 3.5 млн.\n",
    "\n",
    "Выведем на экран коэффициент корреляции Пирсона:"
   ]
  },
  {
   "cell_type": "code",
   "execution_count": 70,
   "metadata": {},
   "outputs": [
    {
     "data": {
      "text/plain": [
       "0.7122471351024503"
      ]
     },
     "execution_count": 70,
     "metadata": {},
     "output_type": "execute_result"
    }
   ],
   "source": [
    "good_data['last_price'].corr(good_data['sqmeter_cost'])"
   ]
  },
  {
   "cell_type": "markdown",
   "metadata": {},
   "source": [
    "Значение коэффициента равно 0.7, то есть присутствует сильная взаимосвязь: с повышением цены за кв.метр растет и конечная стоимость недвижимости. С другой стороны, оно и неудивительно: цена за кв.метр вычислена искусственно из стоимости за квартиру, поэтому в полной мере верить этой взаимосвязи нельзя.\n",
    "\n",
    "* **Связь цены за квартиру с количеством комнат**\n",
    "\n",
    "Для выяснения связи этого параметра построим иной график:"
   ]
  },
  {
   "cell_type": "code",
   "execution_count": 71,
   "metadata": {},
   "outputs": [
    {
     "data": {
      "image/png": "[encoded data removed]",
      "text/plain": [
       "<Figure size 360x360 with 1 Axes>"
      ]
     },
     "metadata": {
      "needs_background": "light"
     },
     "output_type": "display_data"
    }
   ],
   "source": [
    "(\n",
    "    good_data\n",
    "    .pivot_table(index='rooms', values='last_price', aggfunc = 'median')\n",
    "    .reset_index()\n",
    "    .plot(x='rooms', y='last_price', xlim=(0, 6), ylim=(2000000, 10000000), figsize=(5,5), grid=True)\n",
    ")\n",
    "plt.show()"
   ]
  },
  {
   "cell_type": "markdown",
   "metadata": {},
   "source": [
    "Если судить только по графику, то с увеличением количества комнат растёт и стоимость жилья. Но так ли это?\n",
    "\n",
    "Выведем на экран коэффициент корреляции Пирсона:"
   ]
  },
  {
   "cell_type": "code",
   "execution_count": 72,
   "metadata": {},
   "outputs": [
    {
     "data": {
      "text/plain": [
       "0.4730242956056732"
      ]
     },
     "execution_count": 72,
     "metadata": {},
     "output_type": "execute_result"
    }
   ],
   "source": [
    "good_data['last_price'].corr(good_data['rooms'])"
   ]
  },
  {
   "cell_type": "markdown",
   "metadata": {},
   "source": [
    "Влияние количество комнат на конечную стоимость неоспоримо, но тем не менее не настолько весомо, чтобы однозначно определять её формирование. В конце концов, в выборке могут присутствовать бывшие общежития с большим количеством комнат, стоимость которых несравнима со стоимостью многокомнатных квартир."
   ]
  },
  {
   "cell_type": "markdown",
   "metadata": {},
   "source": [
    "* **Связь цены за квартиру с этажом (первый, последний)**\n",
    "\n",
    "Построим столбчатую диаграмму:"
   ]
  },
  {
   "cell_type": "code",
   "execution_count": 73,
   "metadata": {},
   "outputs": [
    {
     "data": {
      "image/png": "[encoded data removed]",
      "text/plain": [
       "<Figure size 360x360 with 1 Axes>"
      ]
     },
     "metadata": {
      "needs_background": "light"
     },
     "output_type": "display_data"
    }
   ],
   "source": [
    "(\n",
    "    good_data\n",
    "    .pivot_table(index='group_floor', values='last_price', aggfunc = 'median')\n",
    "    .reset_index()\n",
    "    .query('group_floor != \"другой\"')\n",
    "    .plot(x='group_floor', y='last_price', ylim=(2000000, 5000000), kind='bar', figsize=(5,5), grid=True)\n",
    ")\n",
    "plt.show()"
   ]
  },
  {
   "cell_type": "markdown",
   "metadata": {},
   "source": [
    "Как видно выше, квартиры на первых этажах в среднем на 20% дешевле, чем на последних (чем красивее вид из окна, тем дороже квартира).\n",
    "\n",
    "* **Связь цены за квартиру с удалённостью от центра**\n",
    "\n",
    "Построим диаграмму рассеяния:"
   ]
  },
  {
   "cell_type": "code",
   "execution_count": 74,
   "metadata": {},
   "outputs": [
    {
     "data": {
      "image/png": "[encoded data removed]",
      "text/plain": [
       "<Figure size 432x288 with 1 Axes>"
      ]
     },
     "metadata": {
      "needs_background": "light"
     },
     "output_type": "display_data"
    }
   ],
   "source": [
    "(\n",
    "    good_data\n",
    "    .pivot_table(index='city_centers_nearest', values='last_price', aggfunc = 'median')\n",
    "    .reset_index()\n",
    "    .plot(x='city_centers_nearest', y='last_price', xlim=(1000, 60000), ylim=(0, 10000000), figsize=(6,4), alpha=0.05, kind='scatter', grid=True)\n",
    ")\n",
    "plt.show()"
   ]
  },
  {
   "cell_type": "markdown",
   "metadata": {},
   "source": [
    "Исходя из картины выше можно судить, что:\n",
    "* самые дорогие квартиры приходятся на центр города\n",
    "* наибольшее количество продаваемых квартир приходятся на диапазон от 10 км до 18 км удалённости от центра.\n",
    "\n",
    "Проверим коэффициент Пирсона для данного параметра:"
   ]
  },
  {
   "cell_type": "code",
   "execution_count": 75,
   "metadata": {},
   "outputs": [
    {
     "data": {
      "text/plain": [
       "-0.3010002333283049"
      ]
     },
     "execution_count": 75,
     "metadata": {},
     "output_type": "execute_result"
    }
   ],
   "source": [
    "good_data['last_price'].corr(good_data['city_centers_nearest'])"
   ]
  },
  {
   "cell_type": "markdown",
   "metadata": {},
   "source": [
    "Присутствует некоторая отрицательная взаимосвязь, но она нелинейна, и не может однозначно определять конечную стоимость."
   ]
  },
  {
   "cell_type": "markdown",
   "metadata": {},
   "source": [
    "* **Связь цены за квартиру с днём недели**\n",
    "\n",
    "Построим график:"
   ]
  },
  {
   "cell_type": "code",
   "execution_count": 76,
   "metadata": {},
   "outputs": [
    {
     "data": {
      "image/png": "[encoded data removed]",
      "text/plain": [
       "<Figure size 432x360 with 1 Axes>"
      ]
     },
     "metadata": {
      "needs_background": "light"
     },
     "output_type": "display_data"
    }
   ],
   "source": [
    "(\n",
    "    good_data\n",
    "    .pivot_table(index='day', values='last_price', aggfunc = 'median')\n",
    "    .reset_index()\n",
    "    .plot(x='day', y='last_price', ylim=(4000000, 5000000), style='o-', figsize=(6,5), grid=True)\n",
    ")\n",
    "plt.show()"
   ]
  },
  {
   "cell_type": "markdown",
   "metadata": {},
   "source": [
    "Крайне занятная особенность: по графику можно решить, что люди предпочитают снижать стоимость квартир по четвергам, пятницам и субботам.\n",
    "\n",
    "Для ответа на данный вопрос лучше связаться с отделом разработки, чтобы уточнить, с чем это может быть связано.\n",
    "\n",
    "* **Связь цены за квартиру с месяцем**\n",
    "\n",
    "Построим столбчатую диаграмму:"
   ]
  },
  {
   "cell_type": "code",
   "execution_count": 77,
   "metadata": {},
   "outputs": [
    {
     "data": {
      "image/png": "[encoded data removed]",
      "text/plain": [
       "<Figure size 432x360 with 1 Axes>"
      ]
     },
     "metadata": {
      "needs_background": "light"
     },
     "output_type": "display_data"
    }
   ],
   "source": [
    "(\n",
    "    good_data\n",
    "    .pivot_table(index='month', values='last_price', aggfunc = 'median')\n",
    "    .reset_index()\n",
    "    .plot(x='month', y='last_price', ylim=(4300000, 4900000), kind='bar', figsize=(6,5), grid=True)\n",
    ")\n",
    "plt.show()"
   ]
  },
  {
   "cell_type": "markdown",
   "metadata": {},
   "source": [
    "По графику выше можно сказать, что:\n",
    "* самая высокая стоимость жилья регистрируется в апреле;\n",
    "* самая низкая - в июне.\n",
    "\n",
    "На последнее, вероятно, влияет начало сезона отпусков.\n",
    "\n",
    "* **Связь цены за квартиру с годом**\n",
    "\n",
    "Построим график:"
   ]
  },
  {
   "cell_type": "code",
   "execution_count": 78,
   "metadata": {},
   "outputs": [
    {
     "data": {
      "image/png": "[encoded data removed]",
      "text/plain": [
       "<Figure size 360x360 with 1 Axes>"
      ]
     },
     "metadata": {
      "needs_background": "light"
     },
     "output_type": "display_data"
    }
   ],
   "source": [
    "(\n",
    "    good_data\n",
    "    .pivot_table(index='year', values='last_price', aggfunc = 'median')\n",
    "    .reset_index()\n",
    "    .plot(x='year', y='last_price', ylim=(3000000, 8000000), style='o-', figsize=(5,5), grid=True)\n",
    ")\n",
    "plt.show()"
   ]
  },
  {
   "cell_type": "markdown",
   "metadata": {},
   "source": [
    "Наивысшая медианная стоимость недвижимости приходится на 2014 год. Далее начинается спад, затем - небольшое повышение, начиная с 2019 года."
   ]
  },
  {
   "cell_type": "markdown",
   "metadata": {},
   "source": [
    "### Самые популярные населённые пункты\n",
    "\n",
    "Следующее, что мы рассмотрим:\n",
    "\n",
    "*Выберите 10 населённых пунктов с наибольшим числом объявлений. Посчитайте среднюю цену квадратного метра в этих населённых пунктах. Выделите населённые пункты с самой высокой и низкой стоимостью жилья. Эти данные можно найти по имени в столбце `locality_name`*\n",
    "\n",
    "Для этого поочерёдно выполним следующее:\n",
    "* сгруппируем данные по `locality_name` и рассчитаем количество объявлений и среднюю стоимость кв.метра, результат сохраним в таблицу `top_10`\n",
    "* уберём мульти-индекс из названий столбцов новой таблицы их путём переименования\n",
    "* отсортируем таблицу `top_10` по убыванию количества объявлений, выберем 10 первых населённых пунктов и пересохраним результат обратно в `top_10`"
   ]
  },
  {
   "cell_type": "code",
   "execution_count": 79,
   "metadata": {},
   "outputs": [
    {
     "data": {
      "text/html": [
       "<div>\n",
       "<style scoped>\n",
       "    .dataframe tbody tr th:only-of-type {\n",
       "        vertical-align: middle;\n",
       "    }\n",
       "\n",
       "    .dataframe tbody tr th {\n",
       "        vertical-align: top;\n",
       "    }\n",
       "\n",
       "    .dataframe thead th {\n",
       "        text-align: right;\n",
       "    }\n",
       "</style>\n",
       "<table border=\"1\" class=\"dataframe\">\n",
       "  <thead>\n",
       "    <tr style=\"text-align: right;\">\n",
       "      <th></th>\n",
       "      <th>locality_name</th>\n",
       "      <th>count</th>\n",
       "      <th>mean_sqm_cost</th>\n",
       "    </tr>\n",
       "  </thead>\n",
       "  <tbody>\n",
       "    <tr>\n",
       "      <th>33</th>\n",
       "      <td>Санкт-Петербург</td>\n",
       "      <td>15657</td>\n",
       "      <td>113560.376119</td>\n",
       "    </tr>\n",
       "    <tr>\n",
       "      <th>227</th>\n",
       "      <td>посёлок Мурино</td>\n",
       "      <td>520</td>\n",
       "      <td>85725.241381</td>\n",
       "    </tr>\n",
       "    <tr>\n",
       "      <th>253</th>\n",
       "      <td>посёлок Шушары</td>\n",
       "      <td>440</td>\n",
       "      <td>78677.364217</td>\n",
       "    </tr>\n",
       "    <tr>\n",
       "      <th>3</th>\n",
       "      <td>Всеволожск</td>\n",
       "      <td>397</td>\n",
       "      <td>68719.320400</td>\n",
       "    </tr>\n",
       "    <tr>\n",
       "      <th>32</th>\n",
       "      <td>Пушкин</td>\n",
       "      <td>369</td>\n",
       "      <td>103125.819291</td>\n",
       "    </tr>\n",
       "    <tr>\n",
       "      <th>13</th>\n",
       "      <td>Колпино</td>\n",
       "      <td>338</td>\n",
       "      <td>75424.579098</td>\n",
       "    </tr>\n",
       "    <tr>\n",
       "      <th>230</th>\n",
       "      <td>посёлок Парголово</td>\n",
       "      <td>327</td>\n",
       "      <td>90175.913458</td>\n",
       "    </tr>\n",
       "    <tr>\n",
       "      <th>6</th>\n",
       "      <td>Гатчина</td>\n",
       "      <td>306</td>\n",
       "      <td>68757.678644</td>\n",
       "    </tr>\n",
       "    <tr>\n",
       "      <th>87</th>\n",
       "      <td>деревня Кудрово</td>\n",
       "      <td>299</td>\n",
       "      <td>92473.547576</td>\n",
       "    </tr>\n",
       "    <tr>\n",
       "      <th>4</th>\n",
       "      <td>Выборг</td>\n",
       "      <td>235</td>\n",
       "      <td>58238.143141</td>\n",
       "    </tr>\n",
       "  </tbody>\n",
       "</table>\n",
       "</div>"
      ],
      "text/plain": [
       "         locality_name  count  mean_sqm_cost\n",
       "33     Санкт-Петербург  15657  113560.376119\n",
       "227     посёлок Мурино    520   85725.241381\n",
       "253     посёлок Шушары    440   78677.364217\n",
       "3           Всеволожск    397   68719.320400\n",
       "32              Пушкин    369  103125.819291\n",
       "13             Колпино    338   75424.579098\n",
       "230  посёлок Парголово    327   90175.913458\n",
       "6              Гатчина    306   68757.678644\n",
       "87     деревня Кудрово    299   92473.547576\n",
       "4               Выборг    235   58238.143141"
      ]
     },
     "metadata": {},
     "output_type": "display_data"
    }
   ],
   "source": [
    "top_10 = (\n",
    "    good_data\n",
    "    .pivot_table(index = 'locality_name', values = 'sqmeter_cost', aggfunc=['count', 'mean'])\n",
    "    .reset_index()\n",
    ")\n",
    "top_10.columns = ['locality_name','count', 'mean_sqm_cost']\n",
    "top_10 = top_10.sort_values('count', ascending = False).head(10)\n",
    "display(top_10)"
   ]
  },
  {
   "cell_type": "markdown",
   "metadata": {},
   "source": [
    "Из данной выборки десяти наиболее популярных населённых пунктов видно, что самое дорогое жильё находится в Санкт-Петербурге и Пушкине, а самое дешёвое - в Выборге.\n",
    "\n",
    "Выведем описательную статистику для цены за кв. метр сводной таблицы `top_10`:"
   ]
  },
  {
   "cell_type": "code",
   "execution_count": 80,
   "metadata": {},
   "outputs": [
    {
     "data": {
      "text/plain": [
       "count        10.000000\n",
       "mean      83487.798332\n",
       "std       16935.425597\n",
       "min       58238.143141\n",
       "25%       70424.403757\n",
       "50%       82201.302799\n",
       "75%       91899.139046\n",
       "max      113560.376119\n",
       "Name: mean_sqm_cost, dtype: float64"
      ]
     },
     "execution_count": 80,
     "metadata": {},
     "output_type": "execute_result"
    }
   ],
   "source": [
    "top_10.mean_sqm_cost.describe()"
   ]
  },
  {
   "cell_type": "markdown",
   "metadata": {},
   "source": [
    "В большинстве населённых пунктов стоимость жилья колеблется в пределах от 70 до 92 тыс. за кв.метр. Медианное значение цены составляет 82 тыс. за кв. метр. Это на 33,5 тыс. выше цены за кв. метр в Санкт-Петербурге (самый дорогой и популярный город) - и почти на 22 тыс. ниже, чем в Выборге (самый дешёвый и наименее популярный город выборки). \n",
    "\n",
    "Напрашивается вывод: высокая цена на недвижимость напрямую связана с количеством проживающих в населённом пункте людей и, как следствие, его популярностью."
   ]
  },
  {
   "cell_type": "markdown",
   "metadata": {},
   "source": [
    "Теперь посмотрим на распределение значений цены за кв.метр `sqmeter_cost` по этим населённым пунктам. Для этого выполним следующее:\n",
    "* из достоверного среза данных `good_data` запросим все города, указанные в индексах `top_10`;\n",
    "* по этим данным построим диаграммы \"ящик с усами\" для `sqmeter_cost` по каждому из городов.\n",
    "\n",
    "Для более визуального сравнения отобразим все диаграммы на одной плоскости:"
   ]
  },
  {
   "cell_type": "code",
   "execution_count": 81,
   "metadata": {},
   "outputs": [
    {
     "data": {
      "image/png": "[encoded data removed]",
      "text/plain": [
       "<Figure size 1296x504 with 1 Axes>"
      ]
     },
     "metadata": {
      "needs_background": "light"
     },
     "output_type": "display_data"
    }
   ],
   "source": [
    "(\n",
    "    good_data\n",
    "    .query('locality_name in @top_10.locality_name')\n",
    "    .boxplot(column='sqmeter_cost', by='locality_name', figsize=(18, 7))\n",
    ")\n",
    "plt.ylim(0, 200000)\n",
    "plt.show()"
   ]
  },
  {
   "cell_type": "markdown",
   "metadata": {},
   "source": [
    "Выше мы можем наблюдать сразу несколько особенностей:\n",
    "* колебание медианной цены за кв.метр площади (в Санкт-Петербурге она наивысшая, как мы уже отмечали ранее);\n",
    "* различная ширина размаха допустимых значений (в Санкт-Петербурге она несравнимо больше, чем в других населённых пунктах);\n",
    "* наличие выбросов и их количество (в Санкт-Петербурге, опять же, очень много дорогого жилья).\n",
    "\n",
    "Исходя из этого, имеет смысл рассматривать Санкт-Петербург отдельно от всех остальных городов, что мы в дальнейшем и сделаем."
   ]
  },
  {
   "cell_type": "markdown",
   "metadata": {},
   "source": [
    "### Зависимость цены от удалённости от центра (Санкт-Петербург)\n",
    "\n",
    "Теперь рассмотрим следующее:\n",
    "\n",
    "*Изучите предложения квартир: для каждой квартиры есть информация о расстоянии до центра. Выделите квартиры в Санкт-Петербурге (`locality_name`). Ваша задача — выяснить, какая область входит в центр. Создайте столбец с расстоянием до центра в километрах: округлите до целых значений. После этого посчитайте среднюю цену для каждого километра. Постройте график: он должен показывать, как цена зависит от удалённости от центра. Определите границу, где график сильно меняется — это и будет центральная зона*\n",
    "\n",
    "Выполним требуемые действия:"
   ]
  },
  {
   "cell_type": "code",
   "execution_count": 82,
   "metadata": {},
   "outputs": [
    {
     "data": {
      "image/png": "[encoded data removed]",
      "text/plain": [
       "<Figure size 576x432 with 1 Axes>"
      ]
     },
     "metadata": {
      "needs_background": "light"
     },
     "output_type": "display_data"
    }
   ],
   "source": [
    "spb_data = good_data.query('locality_name == \"Санкт-Петербург\"')\n",
    "spb_data['city_center_km'] = round(spb_data.city_centers_nearest / 1000)\n",
    "(\n",
    "    spb_data\n",
    "    .pivot_table(index='city_center_km', values='sqmeter_cost', aggfunc='mean')\n",
    "    .reset_index()\n",
    "    .plot(x='city_center_km', y='sqmeter_cost', figsize=(8,6), grid=True)\n",
    ")\n",
    "plt.show()"
   ]
  },
  {
   "cell_type": "markdown",
   "metadata": {},
   "source": [
    "По графику выше мы видим, что падение цены за кв.метр начинается в районе 7 км удалённости от центра города. Можно считать, это значение и является границей центральной зоны.\n",
    "\n",
    "Однако, и в районе центра есть области с низкой стоимостью жилья - вероятно, это старые дома и бывшие коммунальные квартиры.\n",
    "\n",
    "В районе 27 км от центра Санкт-Петербурга наблюдается резкий пик цены за кв. метр площади - по всей видимости, это районы с недавней застройкой элит-класса."
   ]
  },
  {
   "cell_type": "markdown",
   "metadata": {},
   "source": [
    "### Сравнение центральной зоны Санкт-Петербурга со всей выборкой\n",
    "И, наконец, последний пункт нашего исследования:\n",
    "\n",
    "*Выделите сегмент квартир в центре. Проанализируйте эту территорию и изучите следующие параметры: площадь, цена, число комнат, высота потолков. Также выделите факторы, которые влияют на стоимость квартиры (число комнат, этаж, удалённость от центра, дата размещения объявления). Сделайте выводы. Отличаются ли они от общих выводов по всей базе?*\n",
    "\n",
    "Для начала выделим из датафрейма `spb_data` центральную зону (в пределах удалённости 7 км от центра) и запросим по ее параметрам (`total_area`, `last_price`, `rooms`, `ceiling_height`) сводную информацию:"
   ]
  },
  {
   "cell_type": "code",
   "execution_count": 83,
   "metadata": {},
   "outputs": [
    {
     "data": {
      "text/html": [
       "<div>\n",
       "<style scoped>\n",
       "    .dataframe tbody tr th:only-of-type {\n",
       "        vertical-align: middle;\n",
       "    }\n",
       "\n",
       "    .dataframe tbody tr th {\n",
       "        vertical-align: top;\n",
       "    }\n",
       "\n",
       "    .dataframe thead th {\n",
       "        text-align: right;\n",
       "    }\n",
       "</style>\n",
       "<table border=\"1\" class=\"dataframe\">\n",
       "  <thead>\n",
       "    <tr style=\"text-align: right;\">\n",
       "      <th></th>\n",
       "      <th>total_area</th>\n",
       "      <th>last_price</th>\n",
       "      <th>rooms</th>\n",
       "      <th>ceiling_height</th>\n",
       "    </tr>\n",
       "  </thead>\n",
       "  <tbody>\n",
       "    <tr>\n",
       "      <th>count</th>\n",
       "      <td>3483.000000</td>\n",
       "      <td>3.483000e+03</td>\n",
       "      <td>3483.000000</td>\n",
       "      <td>3483.000000</td>\n",
       "    </tr>\n",
       "    <tr>\n",
       "      <th>mean</th>\n",
       "      <td>90.865507</td>\n",
       "      <td>1.313732e+07</td>\n",
       "      <td>2.813379</td>\n",
       "      <td>2.948361</td>\n",
       "    </tr>\n",
       "    <tr>\n",
       "      <th>std</th>\n",
       "      <td>53.794770</td>\n",
       "      <td>1.230685e+07</td>\n",
       "      <td>1.432243</td>\n",
       "      <td>0.337238</td>\n",
       "    </tr>\n",
       "    <tr>\n",
       "      <th>min</th>\n",
       "      <td>12.000000</td>\n",
       "      <td>1.600000e+06</td>\n",
       "      <td>0.000000</td>\n",
       "      <td>2.400000</td>\n",
       "    </tr>\n",
       "    <tr>\n",
       "      <th>25%</th>\n",
       "      <td>56.700000</td>\n",
       "      <td>6.650000e+06</td>\n",
       "      <td>2.000000</td>\n",
       "      <td>2.700000</td>\n",
       "    </tr>\n",
       "    <tr>\n",
       "      <th>50%</th>\n",
       "      <td>78.000000</td>\n",
       "      <td>9.100000e+06</td>\n",
       "      <td>3.000000</td>\n",
       "      <td>2.800000</td>\n",
       "    </tr>\n",
       "    <tr>\n",
       "      <th>75%</th>\n",
       "      <td>108.950000</td>\n",
       "      <td>1.400000e+07</td>\n",
       "      <td>3.000000</td>\n",
       "      <td>3.120000</td>\n",
       "    </tr>\n",
       "    <tr>\n",
       "      <th>max</th>\n",
       "      <td>590.000000</td>\n",
       "      <td>9.900000e+07</td>\n",
       "      <td>19.000000</td>\n",
       "      <td>4.800000</td>\n",
       "    </tr>\n",
       "  </tbody>\n",
       "</table>\n",
       "</div>"
      ],
      "text/plain": [
       "        total_area    last_price        rooms  ceiling_height\n",
       "count  3483.000000  3.483000e+03  3483.000000     3483.000000\n",
       "mean     90.865507  1.313732e+07     2.813379        2.948361\n",
       "std      53.794770  1.230685e+07     1.432243        0.337238\n",
       "min      12.000000  1.600000e+06     0.000000        2.400000\n",
       "25%      56.700000  6.650000e+06     2.000000        2.700000\n",
       "50%      78.000000  9.100000e+06     3.000000        2.800000\n",
       "75%     108.950000  1.400000e+07     3.000000        3.120000\n",
       "max     590.000000  9.900000e+07    19.000000        4.800000"
      ]
     },
     "execution_count": 83,
     "metadata": {},
     "output_type": "execute_result"
    }
   ],
   "source": [
    "center_data = spb_data.query('city_center_km <= 7')\n",
    "center_data[['total_area', 'last_price', 'rooms', 'ceiling_height']].describe()"
   ]
  },
  {
   "cell_type": "markdown",
   "metadata": {},
   "source": [
    "Можем заметить следующее:\n",
    "\n",
    "* *площадь недвижимости*\n",
    "\n",
    "    Общие площади недвижимости представлены в диапазоне от 12 кв. метров до 590 кв. метров. Медианное значение площади составляет 76 кв. метров, что равносильно трёхкомнатной квартире.\n",
    "    \n",
    "    \n",
    "* *цены*\n",
    "\n",
    "    Стоимость квартир колеблется от 1.68 млн и до 99 млн включительно. Медианная цена на недвижимость - 8.77 млн.\n",
    "    \n",
    "\n",
    "* *количество комнат*\n",
    "\n",
    "    Минимальное количество комнат - 0 (квартиры-студии), максимальное - 19. Можно допустить, что последние отражают недвижимость нежилого фонда либо общежития. Медианное значение по количеству комнат - 3.\n",
    "    \n",
    "    \n",
    "* *высоты потолков*\n",
    "\n",
    "    Высоты потолков находятся в диапазоне от 2.4 метра до 4.8 метров включительно. Медиана высоты потолков - 2.75 метра.\n",
    "    \n",
    "Мы уже можем наблюдать отличия от анализа по всему объёму выборки, который рассматривался в **пункте 4.1**.\n",
    "\n",
    "Взглянем поближе на характер распределения параметров. Ниже будут выведены попарно две гистограммы:\n",
    "* синего цвета - для всей выборки данных,\n",
    "* оранжевого цвета - для центра Санкт-Петербурга\n",
    "\n",
    "\n",
    "* **Площадь недвижимости**"
   ]
  },
  {
   "cell_type": "code",
   "execution_count": 84,
   "metadata": {},
   "outputs": [
    {
     "data": {
      "image/png": "[encoded data removed]",
      "text/plain": [
       "<Figure size 432x288 with 1 Axes>"
      ]
     },
     "metadata": {
      "needs_background": "light"
     },
     "output_type": "display_data"
    }
   ],
   "source": [
    "good_data.total_area.hist(range=(df.total_area.min(), 200), bins=3)\n",
    "center_data.total_area.hist(range=(df.total_area.min(), 200), bins=3)\n",
    "plt.title('total_area')\n",
    "plt.show()"
   ]
  },
  {
   "cell_type": "markdown",
   "metadata": {},
   "source": [
    "Распределения по площадям практически повторяют друг друга - с той лишь разницей, что на центр Санкт-Петербурга приходится меньшее количество объявлений. Кроме того, в центре количество квартир с площадью до 75 кв. метров не намного превышает количество квартир большей площади (75-130 кв. метров) - в отличие от показателей основной выборки, где различие более заметно.\n",
    "\n",
    "* **Стоимость недвижимости**"
   ]
  },
  {
   "cell_type": "code",
   "execution_count": 85,
   "metadata": {},
   "outputs": [
    {
     "data": {
      "image/png": "[encoded data removed]",
      "text/plain": [
       "<Figure size 432x288 with 1 Axes>"
      ]
     },
     "metadata": {
      "needs_background": "light"
     },
     "output_type": "display_data"
    }
   ],
   "source": [
    "good_data.last_price.hist(range=(df.last_price.min(), 20000000), bins=100)\n",
    "center_data.last_price.hist(range=(df.last_price.min(), 20000000), bins=100)\n",
    "plt.title('last_price')\n",
    "plt.show()"
   ]
  },
  {
   "cell_type": "markdown",
   "metadata": {},
   "source": [
    "В случае стоимостей недвижимости центр Санкт-Петербурга более равномерный, чем основная выборка - резкие пики в гистограмме отсутствуют. Также график подтверждает отличие медианной цены за жильё в центре города от той же стоимости по всему городу и окрестностям.\n",
    "\n",
    "* **Количество комнат**"
   ]
  },
  {
   "cell_type": "code",
   "execution_count": 86,
   "metadata": {},
   "outputs": [
    {
     "data": {
      "image/png": "[encoded data removed]",
      "text/plain": [
       "<Figure size 432x288 with 1 Axes>"
      ]
     },
     "metadata": {
      "needs_background": "light"
     },
     "output_type": "display_data"
    }
   ],
   "source": [
    "good_data.rooms.hist(range=(df.rooms.min(), 6), bins=3)\n",
    "center_data.rooms.hist(range=(df.rooms.min(), 6), bins=3)\n",
    "plt.title('rooms')\n",
    "plt.show()"
   ]
  },
  {
   "cell_type": "markdown",
   "metadata": {},
   "source": [
    "В обоих случаях распределения по количеству комнат практически повторяют друг друга - опять же, с поправкой, что на центр Санкт-Петербурга приходится меньшее количество объявлений.\n",
    "\n",
    "* **Высоты потолков**"
   ]
  },
  {
   "cell_type": "code",
   "execution_count": 87,
   "metadata": {},
   "outputs": [
    {
     "data": {
      "image/png": "[encoded data removed]",
      "text/plain": [
       "<Figure size 432x288 with 1 Axes>"
      ]
     },
     "metadata": {
      "needs_background": "light"
     },
     "output_type": "display_data"
    }
   ],
   "source": [
    "good_data.ceiling_height.hist(range=(2.3, 5), bins=10)\n",
    "center_data.ceiling_height.hist(range=(2.3, 5), bins=10)\n",
    "plt.title('ceiling_height')\n",
    "plt.show()"
   ]
  },
  {
   "cell_type": "markdown",
   "metadata": {},
   "source": [
    "Из графика выше видно, что в центре Санкт-Петербурга преобладает недвижимость с высокими потолками (от 2.6 до 2.8 метров). Это может быть связано с тем, что там располагаются дома старой застройки, доя которых низкие потолки не характерны. В остальном же распределения практически повторяют друг друга - опять же, с учётом меньшего числа объявлений в центре города.\n",
    "\n",
    "* **Факторы влияния на стоимость квартиры в центре (число комнат, этаж, удалённость от центра, дата размещения объявления)**\n",
    "\n",
    "Для определения взаимосвязи с количественными параметрами (число комнат, этаж, удалённость от центра) выведем на экран значения коэффициентов корреляции Пирсона:"
   ]
  },
  {
   "cell_type": "code",
   "execution_count": 88,
   "metadata": {},
   "outputs": [
    {
     "data": {
      "text/html": [
       "<div>\n",
       "<style scoped>\n",
       "    .dataframe tbody tr th:only-of-type {\n",
       "        vertical-align: middle;\n",
       "    }\n",
       "\n",
       "    .dataframe tbody tr th {\n",
       "        vertical-align: top;\n",
       "    }\n",
       "\n",
       "    .dataframe thead th {\n",
       "        text-align: right;\n",
       "    }\n",
       "</style>\n",
       "<table border=\"1\" class=\"dataframe\">\n",
       "  <thead>\n",
       "    <tr style=\"text-align: right;\">\n",
       "      <th></th>\n",
       "      <th>last_price</th>\n",
       "    </tr>\n",
       "  </thead>\n",
       "  <tbody>\n",
       "    <tr>\n",
       "      <th>rooms</th>\n",
       "      <td>0.400820</td>\n",
       "    </tr>\n",
       "    <tr>\n",
       "      <th>floor</th>\n",
       "      <td>0.141106</td>\n",
       "    </tr>\n",
       "    <tr>\n",
       "      <th>city_centers_nearest</th>\n",
       "      <td>-0.039929</td>\n",
       "    </tr>\n",
       "    <tr>\n",
       "      <th>last_price</th>\n",
       "      <td>1.000000</td>\n",
       "    </tr>\n",
       "  </tbody>\n",
       "</table>\n",
       "</div>"
      ],
      "text/plain": [
       "                      last_price\n",
       "rooms                   0.400820\n",
       "floor                   0.141106\n",
       "city_centers_nearest   -0.039929\n",
       "last_price              1.000000"
      ]
     },
     "execution_count": 88,
     "metadata": {},
     "output_type": "execute_result"
    }
   ],
   "source": [
    "center_data[['rooms', 'floor', 'city_centers_nearest', 'last_price']].corr()[['last_price']]"
   ]
  },
  {
   "cell_type": "markdown",
   "metadata": {},
   "source": [
    "Мы можем наблюдать лишь условное влияние количества комнат на стоимость квартиры в центре Санкт-Петербурга; впрочем, даже оно не определяет в полной мере конечную стоимость жилья. Вероятно, влияют и иные факторы в совокупности. К примеру, много комнат может быть как у недвижимости элитного класса, так и у бывших общежитий/коммунальных квартир.\n",
    "\n",
    "Далее рассмотрим влияние дня недели, месяца и года продажи на цену недвижимости в центре Санкт-Петербурга.\n",
    "\n",
    "* *Связь цены за квартиру в центре с днём недели*"
   ]
  },
  {
   "cell_type": "code",
   "execution_count": 89,
   "metadata": {},
   "outputs": [
    {
     "data": {
      "image/png": "[encoded data removed]",
      "text/plain": [
       "<Figure size 432x360 with 1 Axes>"
      ]
     },
     "metadata": {
      "needs_background": "light"
     },
     "output_type": "display_data"
    }
   ],
   "source": [
    "(\n",
    "    center_data\n",
    "    .pivot_table(index='day', values='last_price', aggfunc = 'median')\n",
    "    .reset_index()\n",
    "    .plot(x='day', y='last_price', style='o-', figsize=(6,5), grid=True)\n",
    ")\n",
    "plt.show()"
   ]
  },
  {
   "cell_type": "markdown",
   "metadata": {},
   "source": [
    "Очень интересная зависимость - стоимость квартиры в пятницу и субботу отличается примерно на 1 млн. Однозначно сказать, чем это может быть вызвано, довольно затруднительно. Лучше запросить уточнения у отдела разработки.\n",
    "\n",
    "* *Связь цены за квартиру в центре с месяцем*"
   ]
  },
  {
   "cell_type": "code",
   "execution_count": 90,
   "metadata": {},
   "outputs": [
    {
     "data": {
      "image/png": "[encoded data removed]",
      "text/plain": [
       "<Figure size 432x360 with 1 Axes>"
      ]
     },
     "metadata": {
      "needs_background": "light"
     },
     "output_type": "display_data"
    }
   ],
   "source": [
    "(\n",
    "    center_data\n",
    "    .pivot_table(index='month', values='last_price', aggfunc = 'median')\n",
    "    .reset_index()\n",
    "    .plot(x='month', y='last_price', ylim=(8400000, 10000000), kind='bar', figsize=(6,5), grid=True)\n",
    ")\n",
    "plt.show()"
   ]
  },
  {
   "cell_type": "markdown",
   "metadata": {},
   "source": [
    "Самые дорогие (9.9 млн) продажи квартир в центре Санкт-Петербурга приходятся на январь, самые дешёвые (около 8.5 млн) - на декабрь.\n",
    "\n",
    "* *Связь цены за квартиру в центре с годом*"
   ]
  },
  {
   "cell_type": "code",
   "execution_count": 91,
   "metadata": {},
   "outputs": [
    {
     "data": {
      "image/png": "[encoded data removed]",
      "text/plain": [
       "<Figure size 360x360 with 1 Axes>"
      ]
     },
     "metadata": {
      "needs_background": "light"
     },
     "output_type": "display_data"
    }
   ],
   "source": [
    "(\n",
    "    center_data\n",
    "    .pivot_table(index='year', values='last_price', aggfunc = 'median')\n",
    "    .reset_index()\n",
    "    .plot(x='year', y='last_price', ylim=(6000000, 20000000), style='o-', figsize=(5,5), grid=True)\n",
    ")\n",
    "plt.show()"
   ]
  },
  {
   "cell_type": "markdown",
   "metadata": {},
   "source": [
    "Здесь наблюдается та же тенденция, что была в общей выборке: резкое падение стоимости жилья, начиная с 2014 г. Только график куда менее плавный, а медианная цена за 2014 год составляет почти 20 млн (против 7.3 млн по общей выборке)."
   ]
  },
  {
   "cell_type": "markdown",
   "metadata": {},
   "source": [
    "## Общий вывод\n",
    "Мы провели масштабное исследование недвижимости Санкт-Петербурга и его окрестностей. Был изучен датафрейм на неполные 24 тыс. наблюдений, содержащий 22 различные характеристики жилой недвижимости.\n",
    "\n",
    "Исследование велось в несколько этапов:\n",
    "\n",
    "1. ***Предобработка данных***\n",
    "\n",
    "* Заголовок `cityCenters_nearest` был приведён к стандартному виду.\n",
    "\n",
    "* Типы данных были приведены к привычному (в случае с `balcony`) или удобному для анализа виду (`first_day_exposition`).\n",
    "    \n",
    "* Пропуски были изучены, оценены и в случаях, где они носили случайный характер, а информация предоставлялась авторами объявлений (`ceiling_height`, `is_apartment`, `balcony`) - заменены. \n",
    "    \n",
    "  Картографические данные (`airports_nearest`, `parks_around3000`, `parks_nearest`, `ponds_around3000`, `ponds_nearest`) ввиду большого количества пропущенных значений и невозможности их замены из дальнейшего исследования пришлось исключить.\n",
    "\n",
    "  Во всех остальных случаях, для сохранения правдоподобности данных, пропущенные значения были оставлены без изменения.\n",
    "\n",
    "\n",
    "2. ***Расчёты и добавление результатов в таблицу***\n",
    "\n",
    "   Были посчитаны и добавлены в таблицу:\n",
    "\n",
    "    * цена квадратного метра;\n",
    "    * день недели, месяц и год публикации объявления;\n",
    "    * этаж квартиры (варианты — первый, последний, другой);\n",
    "    * соотношение жилой и общей площади, а также отношение площади кухни к общей.\n",
    "    \n",
    "   Все характеристики, кроме соотношений площадей, принимали непосредственное участие в дальнейшем исследовательском анализе данных.\n",
    "\n",
    "\n",
    "3. ***Исследовательский анализ данных***\n",
    "\n",
    "* **Изучение площади, цены, числа комнат, высоты потолков**   \n",
    "    \n",
    "  Исследование показало, что большинство проданных квартир имеют площадь до 75 метров, стоимость от 2.5 млн до 5 млн, количество комнат от 2 до 4 и потолки высотой 2.7 метра.  Наиболее типичной недвижимостью на продажу в Санкт-Петербурге и Ленинградской области является двухкомнатная квартира площадью 52 кв. метра, ценой 4.65 млн и потолками высотой 2.7 метра. \n",
    "  \n",
    "\n",
    "* **Изучение времени продажи квартир**\n",
    "    \n",
    "  Медианное время продажи составляет три месяца. Самые необычные по длительности продажи - один день (самая быстрая) и 4.5 года (самая долгая). \n",
    "       \n",
    "  Наибольшее количество заявок подаётся по будням, с понедельника по четверг; в воскресенье объявления не подаются. В разбивке по месяцам всех объявлений приходится на февраль, март, сентябрь, октябрь и ноябрь. \n",
    "       \n",
    "  Для сервиса \"Яндекс Недвижимость\" самыми продуктивными годами были 2017 и 2018 гг.\n",
    "   \n",
    "   \n",
    "* **Изучение выбросов и составление достоверного среза данных**\n",
    "    \n",
    "  Выбросы изучались в столбцах:\n",
    "\n",
    "    * `total_area`\n",
    "    * `last_price`\n",
    "    * `rooms`\n",
    "    * `ceiling_height`\n",
    "    * `days_exposition`\n",
    "       \n",
    "  Были оценены потери данных при фильтрации и по границам параметров `last_price` и `ceiling_height` подготовлен достоверный срез данных. Отфильтрованные значения составили порядка 2% от всего объёма датасета.\n",
    "     \n",
    "     \n",
    "* **Факторы влияния на стоимость квартиры**\n",
    "     \n",
    "  Было выявлено, что на высокую стоимость квартиры влияют большое количество комнат, последний этаж и приближенность к центру города. Однако, все эти связи нелинейны и не могут однозначно определять стоимость - влияет непосредственно совокупность факторов.\n",
    "       \n",
    "  По временным характеристикам можно отметить, что люди снижают стоимость квартир по четвергам, пятницам и субботам; самая высокая стоимость жилья регистрируется в апреле, а самая низкая - в июне; самым дорогим с точки зрения цен на квартиры был 2014 год.\n",
    "       \n",
    "       \n",
    "* **Самые популярные населённые пункты**\n",
    "    \n",
    "  Был составлен список 10 населённых пунктов с наибольшим числом объявлений, возглавил который Санкт-Петербург, а замкнул Выборг. В этих населённых пунктах стоимость жилья колеблется в пределах от 70 до 92 тыс. за кв.метр. Медианное значение цены составляет примерно 83 тыс. за кв. метр. Это на 33,5 тыс. выше цены за кв. метр в Санкт-Петербурге (самый дорогой и популярный город) - и почти на 22 тыс. ниже, чем в Выборге (самый дешёвый и наименее популярный город выборки).\n",
    "\n",
    "  Можно сказать, что популярность города и количество проживающих в нём людей является ещё одним фактором, определяющим стоимость недвижимости.\n",
    "  \n",
    "  \n",
    "* **Зависимость цены от удалённости от центра (Санкт-Петербург)**\n",
    "    \n",
    "  По соответствующему графику было определено, что граница центральной зоны Санкт-Петербурга - 7 км удалённости от центра города. Именно там цена за недвижимость демонстрирует резкое падение.\n",
    "\n",
    "  Также было замечено, что в районе 27 км от центра наблюдается резкий пик цены за кв. метр площади - по всей видимости, это районы с недавней застройкой элит-класса.\n",
    " \n",
    " \n",
    "* **Сравнение центральной зоны Санкт-Петербурга со всей выборкой**\n",
    "    \n",
    "  Типичные квартиры на продажу в центре Санкт-Петербурга в корне отличаются от типичных квартир основной выборки: это уже трёхкомнатная квартира площадью 76 кв. метров, ценой 8.77 млн и потолками высотой 2.75 метра. Стоимость жилья почти вдвое выше значения по всей выборке данных.\n",
    "    \n",
    "  На цену квартиры в центре города главным образом влияет число комнат, день и месяц выставления объявления. Стоимость квартиры в пятницу и субботу отличается примерно на 1 млн; самые дорогие (9.9 млн) квартиры приходятся на январь, самые дешёвые (около 8.5 млн) - на декабрь. Относительно годов наблюдается та же динамика, что и по всей выборке в целом - с поправкой лишь на порядок цен за квартиру.\n",
    "      \n",
    "      \n",
    "В целом можно сказать, что предоставленных данных достаточно для создания автоматизированной системы. Однако всё же необходимо запросить некоторые дополнительные данные, для того, чтобы уточнить результаты исследования и сделать данные более достоверными."
   ]
  }
 ],
 "metadata": {
  "ExecuteTimeLog": [
   {
    "duration": 857,
    "start_time": "2022-05-23T09:09:14.798Z"
   },
   {
    "duration": 131,
    "start_time": "2022-05-23T09:10:26.308Z"
   },
   {
    "duration": 12,
    "start_time": "2022-05-23T09:11:13.231Z"
   },
   {
    "duration": 83,
    "start_time": "2022-05-23T09:11:40.752Z"
   },
   {
    "duration": 28,
    "start_time": "2022-05-23T09:11:44.586Z"
   },
   {
    "duration": 51,
    "start_time": "2022-05-23T09:14:29.321Z"
   },
   {
    "duration": 33,
    "start_time": "2022-05-23T09:34:15.798Z"
   },
   {
    "duration": 23,
    "start_time": "2022-05-23T09:34:38.171Z"
   },
   {
    "duration": 25,
    "start_time": "2022-05-23T09:34:53.858Z"
   },
   {
    "duration": 16,
    "start_time": "2022-05-23T09:35:02.047Z"
   },
   {
    "duration": 5,
    "start_time": "2022-05-23T10:30:14.146Z"
   },
   {
    "duration": 15,
    "start_time": "2022-05-23T10:30:21.836Z"
   },
   {
    "duration": 85,
    "start_time": "2022-05-23T10:30:39.651Z"
   },
   {
    "duration": 16,
    "start_time": "2022-05-23T10:30:55.675Z"
   },
   {
    "duration": 13,
    "start_time": "2022-05-23T10:38:36.869Z"
   },
   {
    "duration": 7,
    "start_time": "2022-05-23T11:00:31.386Z"
   },
   {
    "duration": 6,
    "start_time": "2022-05-23T12:15:14.791Z"
   },
   {
    "duration": 6,
    "start_time": "2022-05-23T12:15:43.463Z"
   },
   {
    "duration": 9,
    "start_time": "2022-05-23T12:16:14.543Z"
   },
   {
    "duration": 8,
    "start_time": "2022-05-23T12:16:25.477Z"
   },
   {
    "duration": 10,
    "start_time": "2022-05-23T12:16:32.651Z"
   },
   {
    "duration": 8,
    "start_time": "2022-05-23T12:17:35.456Z"
   },
   {
    "duration": 5,
    "start_time": "2022-05-23T12:17:46.962Z"
   },
   {
    "duration": 5,
    "start_time": "2022-05-23T12:19:58.139Z"
   },
   {
    "duration": 7,
    "start_time": "2022-05-23T12:36:53.681Z"
   },
   {
    "duration": 3,
    "start_time": "2022-05-23T12:40:29.867Z"
   },
   {
    "duration": 4,
    "start_time": "2022-05-23T12:40:58.582Z"
   },
   {
    "duration": 5,
    "start_time": "2022-05-23T12:42:15.329Z"
   },
   {
    "duration": 6,
    "start_time": "2022-05-23T12:49:09.448Z"
   },
   {
    "duration": 7,
    "start_time": "2022-05-23T12:50:04.405Z"
   },
   {
    "duration": 6,
    "start_time": "2022-05-23T12:50:54.440Z"
   },
   {
    "duration": 9,
    "start_time": "2022-05-23T12:59:10.979Z"
   },
   {
    "duration": 13,
    "start_time": "2022-05-23T13:03:04.486Z"
   },
   {
    "duration": 374,
    "start_time": "2022-05-23T13:10:06.556Z"
   },
   {
    "duration": 387,
    "start_time": "2022-05-23T13:11:30.761Z"
   },
   {
    "duration": 6963,
    "start_time": "2022-05-23T13:11:53.291Z"
   },
   {
    "duration": 6892,
    "start_time": "2022-05-23T13:12:54.657Z"
   },
   {
    "duration": 7121,
    "start_time": "2022-05-23T13:13:06.989Z"
   },
   {
    "duration": 9,
    "start_time": "2022-05-23T13:13:31.095Z"
   },
   {
    "duration": 7,
    "start_time": "2022-05-23T13:14:09.340Z"
   },
   {
    "duration": 8,
    "start_time": "2022-05-23T13:20:34.645Z"
   },
   {
    "duration": 10,
    "start_time": "2022-05-23T13:36:17.248Z"
   },
   {
    "duration": 9,
    "start_time": "2022-05-23T13:48:29.836Z"
   },
   {
    "duration": 4,
    "start_time": "2022-05-23T13:57:48.992Z"
   },
   {
    "duration": 7965,
    "start_time": "2022-05-23T13:59:03.378Z"
   },
   {
    "duration": 25,
    "start_time": "2022-05-23T13:59:21.312Z"
   },
   {
    "duration": 15,
    "start_time": "2022-05-23T13:59:53.117Z"
   },
   {
    "duration": 16,
    "start_time": "2022-05-23T14:00:15.955Z"
   },
   {
    "duration": 3,
    "start_time": "2022-05-23T14:00:52.316Z"
   },
   {
    "duration": 13,
    "start_time": "2022-05-23T14:00:54.739Z"
   },
   {
    "duration": 13,
    "start_time": "2022-05-23T14:01:00.978Z"
   },
   {
    "duration": 4,
    "start_time": "2022-05-23T14:04:49.594Z"
   },
   {
    "duration": 12,
    "start_time": "2022-05-23T14:05:23.472Z"
   },
   {
    "duration": 15,
    "start_time": "2022-05-23T14:07:04.378Z"
   },
   {
    "duration": 423,
    "start_time": "2022-05-23T14:07:27.970Z"
   },
   {
    "duration": 127,
    "start_time": "2022-05-23T14:07:28.404Z"
   },
   {
    "duration": 48,
    "start_time": "2022-05-23T14:07:28.533Z"
   },
   {
    "duration": 29,
    "start_time": "2022-05-23T14:07:28.583Z"
   },
   {
    "duration": 6,
    "start_time": "2022-05-23T14:07:28.622Z"
   },
   {
    "duration": 6,
    "start_time": "2022-05-23T14:07:28.630Z"
   },
   {
    "duration": 12,
    "start_time": "2022-05-23T14:07:28.638Z"
   },
   {
    "duration": 7,
    "start_time": "2022-05-23T14:07:28.652Z"
   },
   {
    "duration": 14,
    "start_time": "2022-05-23T14:07:28.660Z"
   },
   {
    "duration": 9,
    "start_time": "2022-05-23T14:07:28.677Z"
   },
   {
    "duration": 36,
    "start_time": "2022-05-23T14:07:28.688Z"
   },
   {
    "duration": 8,
    "start_time": "2022-05-23T14:07:28.726Z"
   },
   {
    "duration": 6,
    "start_time": "2022-05-23T14:07:28.735Z"
   },
   {
    "duration": 8,
    "start_time": "2022-05-23T14:07:28.743Z"
   },
   {
    "duration": 11,
    "start_time": "2022-05-23T14:07:28.752Z"
   },
   {
    "duration": 3,
    "start_time": "2022-05-23T14:08:11.357Z"
   },
   {
    "duration": 601,
    "start_time": "2022-05-23T14:08:29.958Z"
   },
   {
    "duration": 661,
    "start_time": "2022-05-23T14:09:41.334Z"
   },
   {
    "duration": 6,
    "start_time": "2022-05-23T14:10:32.380Z"
   },
   {
    "duration": 9,
    "start_time": "2022-05-23T14:11:50.189Z"
   },
   {
    "duration": 56,
    "start_time": "2022-05-23T14:12:55.336Z"
   },
   {
    "duration": 432,
    "start_time": "2022-05-23T14:13:01.276Z"
   },
   {
    "duration": 99,
    "start_time": "2022-05-23T14:13:01.710Z"
   },
   {
    "duration": 51,
    "start_time": "2022-05-23T14:13:01.811Z"
   },
   {
    "duration": 41,
    "start_time": "2022-05-23T14:13:01.864Z"
   },
   {
    "duration": 5,
    "start_time": "2022-05-23T14:13:01.907Z"
   },
   {
    "duration": 19,
    "start_time": "2022-05-23T14:13:01.914Z"
   },
   {
    "duration": 50,
    "start_time": "2022-05-23T14:13:01.936Z"
   },
   {
    "duration": 8,
    "start_time": "2022-05-23T14:13:01.988Z"
   },
   {
    "duration": 25,
    "start_time": "2022-05-23T14:13:01.998Z"
   },
   {
    "duration": 26,
    "start_time": "2022-05-23T14:13:02.026Z"
   },
   {
    "duration": 12,
    "start_time": "2022-05-23T14:13:02.054Z"
   },
   {
    "duration": 16,
    "start_time": "2022-05-23T14:13:02.068Z"
   },
   {
    "duration": 12,
    "start_time": "2022-05-23T14:13:02.086Z"
   },
   {
    "duration": 11,
    "start_time": "2022-05-23T14:13:02.100Z"
   },
   {
    "duration": 7,
    "start_time": "2022-05-23T14:13:02.113Z"
   },
   {
    "duration": 32,
    "start_time": "2022-05-23T14:13:02.122Z"
   },
   {
    "duration": 461,
    "start_time": "2022-05-23T14:13:50.106Z"
   },
   {
    "duration": 87,
    "start_time": "2022-05-23T14:13:50.569Z"
   },
   {
    "duration": 33,
    "start_time": "2022-05-23T14:13:50.658Z"
   },
   {
    "duration": 31,
    "start_time": "2022-05-23T14:13:50.693Z"
   },
   {
    "duration": 5,
    "start_time": "2022-05-23T14:13:50.726Z"
   },
   {
    "duration": 9,
    "start_time": "2022-05-23T14:13:50.732Z"
   },
   {
    "duration": 17,
    "start_time": "2022-05-23T14:13:50.743Z"
   },
   {
    "duration": 8,
    "start_time": "2022-05-23T14:13:50.762Z"
   },
   {
    "duration": 8,
    "start_time": "2022-05-23T14:13:50.772Z"
   },
   {
    "duration": 7,
    "start_time": "2022-05-23T14:13:50.781Z"
   },
   {
    "duration": 35,
    "start_time": "2022-05-23T14:13:50.789Z"
   },
   {
    "duration": 10,
    "start_time": "2022-05-23T14:13:50.826Z"
   },
   {
    "duration": 5,
    "start_time": "2022-05-23T14:13:50.837Z"
   },
   {
    "duration": 6,
    "start_time": "2022-05-23T14:13:50.844Z"
   },
   {
    "duration": 5,
    "start_time": "2022-05-23T14:13:50.852Z"
   },
   {
    "duration": 10,
    "start_time": "2022-05-23T14:13:50.859Z"
   },
   {
    "duration": 209,
    "start_time": "2022-05-23T14:28:41.113Z"
   },
   {
    "duration": 9,
    "start_time": "2022-05-23T14:28:56.234Z"
   },
   {
    "duration": 460,
    "start_time": "2022-05-23T14:29:44.603Z"
   },
   {
    "duration": 91,
    "start_time": "2022-05-23T14:29:45.066Z"
   },
   {
    "duration": 44,
    "start_time": "2022-05-23T14:29:45.159Z"
   },
   {
    "duration": 31,
    "start_time": "2022-05-23T14:29:45.205Z"
   },
   {
    "duration": 6,
    "start_time": "2022-05-23T14:29:45.239Z"
   },
   {
    "duration": 11,
    "start_time": "2022-05-23T14:29:45.247Z"
   },
   {
    "duration": 21,
    "start_time": "2022-05-23T14:29:45.260Z"
   },
   {
    "duration": 8,
    "start_time": "2022-05-23T14:29:45.283Z"
   },
   {
    "duration": 33,
    "start_time": "2022-05-23T14:29:45.293Z"
   },
   {
    "duration": 7,
    "start_time": "2022-05-23T14:29:45.328Z"
   },
   {
    "duration": 8,
    "start_time": "2022-05-23T14:29:45.338Z"
   },
   {
    "duration": 9,
    "start_time": "2022-05-23T14:29:45.348Z"
   },
   {
    "duration": 4,
    "start_time": "2022-05-23T14:29:45.359Z"
   },
   {
    "duration": 6,
    "start_time": "2022-05-23T14:29:45.367Z"
   },
   {
    "duration": 49,
    "start_time": "2022-05-23T14:29:45.375Z"
   },
   {
    "duration": 17,
    "start_time": "2022-05-23T14:29:45.426Z"
   },
   {
    "duration": 7,
    "start_time": "2022-05-23T14:29:45.444Z"
   },
   {
    "duration": 15,
    "start_time": "2022-05-23T14:29:45.453Z"
   },
   {
    "duration": 9,
    "start_time": "2022-05-24T08:35:38.408Z"
   },
   {
    "duration": 65,
    "start_time": "2022-05-24T08:38:38.416Z"
   },
   {
    "duration": 446,
    "start_time": "2022-05-24T08:39:00.680Z"
   },
   {
    "duration": 156,
    "start_time": "2022-05-24T08:39:01.128Z"
   },
   {
    "duration": 36,
    "start_time": "2022-05-24T08:39:01.286Z"
   },
   {
    "duration": 17,
    "start_time": "2022-05-24T08:39:01.324Z"
   },
   {
    "duration": 12,
    "start_time": "2022-05-24T08:39:01.343Z"
   },
   {
    "duration": 12,
    "start_time": "2022-05-24T08:39:01.357Z"
   },
   {
    "duration": 22,
    "start_time": "2022-05-24T08:39:01.371Z"
   },
   {
    "duration": 8,
    "start_time": "2022-05-24T08:39:01.394Z"
   },
   {
    "duration": 16,
    "start_time": "2022-05-24T08:39:01.404Z"
   },
   {
    "duration": 6,
    "start_time": "2022-05-24T08:39:01.423Z"
   },
   {
    "duration": 8,
    "start_time": "2022-05-24T08:39:01.431Z"
   },
   {
    "duration": 31,
    "start_time": "2022-05-24T08:39:01.441Z"
   },
   {
    "duration": 11,
    "start_time": "2022-05-24T08:39:01.474Z"
   },
   {
    "duration": 10,
    "start_time": "2022-05-24T08:39:01.487Z"
   },
   {
    "duration": 8,
    "start_time": "2022-05-24T08:39:01.498Z"
   },
   {
    "duration": 18,
    "start_time": "2022-05-24T08:39:01.508Z"
   },
   {
    "duration": 8,
    "start_time": "2022-05-24T08:39:01.527Z"
   },
   {
    "duration": 6,
    "start_time": "2022-05-24T08:39:01.536Z"
   },
   {
    "duration": 654,
    "start_time": "2022-05-24T08:39:01.543Z"
   },
   {
    "duration": 9,
    "start_time": "2022-05-24T08:39:02.198Z"
   },
   {
    "duration": 651,
    "start_time": "2022-05-24T08:39:38.554Z"
   },
   {
    "duration": 482,
    "start_time": "2022-05-24T08:40:53.201Z"
   },
   {
    "duration": 99,
    "start_time": "2022-05-24T08:40:53.685Z"
   },
   {
    "duration": 36,
    "start_time": "2022-05-24T08:40:53.787Z"
   },
   {
    "duration": 30,
    "start_time": "2022-05-24T08:40:53.825Z"
   },
   {
    "duration": 5,
    "start_time": "2022-05-24T08:40:53.858Z"
   },
   {
    "duration": 10,
    "start_time": "2022-05-24T08:40:53.865Z"
   },
   {
    "duration": 15,
    "start_time": "2022-05-24T08:40:53.877Z"
   },
   {
    "duration": 9,
    "start_time": "2022-05-24T08:40:53.893Z"
   },
   {
    "duration": 51,
    "start_time": "2022-05-24T08:40:53.904Z"
   },
   {
    "duration": 22,
    "start_time": "2022-05-24T08:40:53.962Z"
   },
   {
    "duration": 9,
    "start_time": "2022-05-24T08:40:53.986Z"
   },
   {
    "duration": 9,
    "start_time": "2022-05-24T08:40:53.997Z"
   },
   {
    "duration": 7,
    "start_time": "2022-05-24T08:40:54.008Z"
   },
   {
    "duration": 6,
    "start_time": "2022-05-24T08:40:54.017Z"
   },
   {
    "duration": 20,
    "start_time": "2022-05-24T08:40:54.024Z"
   },
   {
    "duration": 19,
    "start_time": "2022-05-24T08:40:54.046Z"
   },
   {
    "duration": 8,
    "start_time": "2022-05-24T08:40:54.067Z"
   },
   {
    "duration": 11,
    "start_time": "2022-05-24T08:40:54.076Z"
   },
   {
    "duration": 712,
    "start_time": "2022-05-24T08:40:54.089Z"
   },
   {
    "duration": 9,
    "start_time": "2022-05-24T08:40:54.802Z"
   },
   {
    "duration": 439,
    "start_time": "2022-05-24T08:41:16.461Z"
   },
   {
    "duration": 107,
    "start_time": "2022-05-24T08:41:16.902Z"
   },
   {
    "duration": 55,
    "start_time": "2022-05-24T08:41:17.012Z"
   },
   {
    "duration": 19,
    "start_time": "2022-05-24T08:41:17.069Z"
   },
   {
    "duration": 6,
    "start_time": "2022-05-24T08:41:17.091Z"
   },
   {
    "duration": 14,
    "start_time": "2022-05-24T08:41:17.100Z"
   },
   {
    "duration": 37,
    "start_time": "2022-05-24T08:41:17.116Z"
   },
   {
    "duration": 23,
    "start_time": "2022-05-24T08:41:17.156Z"
   },
   {
    "duration": 23,
    "start_time": "2022-05-24T08:41:17.181Z"
   },
   {
    "duration": 10,
    "start_time": "2022-05-24T08:41:17.207Z"
   },
   {
    "duration": 15,
    "start_time": "2022-05-24T08:41:17.219Z"
   },
   {
    "duration": 14,
    "start_time": "2022-05-24T08:41:17.236Z"
   },
   {
    "duration": 5,
    "start_time": "2022-05-24T08:41:17.252Z"
   },
   {
    "duration": 7,
    "start_time": "2022-05-24T08:41:17.258Z"
   },
   {
    "duration": 9,
    "start_time": "2022-05-24T08:41:17.267Z"
   },
   {
    "duration": 18,
    "start_time": "2022-05-24T08:41:17.278Z"
   },
   {
    "duration": 6,
    "start_time": "2022-05-24T08:41:17.298Z"
   },
   {
    "duration": 6,
    "start_time": "2022-05-24T08:41:17.306Z"
   },
   {
    "duration": 616,
    "start_time": "2022-05-24T08:41:17.314Z"
   },
   {
    "duration": 14,
    "start_time": "2022-05-24T08:41:17.932Z"
   },
   {
    "duration": 583,
    "start_time": "2022-05-24T08:41:34.886Z"
   },
   {
    "duration": 393,
    "start_time": "2022-05-24T08:46:06.399Z"
   },
   {
    "duration": 105,
    "start_time": "2022-05-24T08:46:06.794Z"
   },
   {
    "duration": 48,
    "start_time": "2022-05-24T08:46:06.901Z"
   },
   {
    "duration": 19,
    "start_time": "2022-05-24T08:46:06.951Z"
   },
   {
    "duration": 7,
    "start_time": "2022-05-24T08:46:06.973Z"
   },
   {
    "duration": 13,
    "start_time": "2022-05-24T08:46:06.982Z"
   },
   {
    "duration": 26,
    "start_time": "2022-05-24T08:46:06.997Z"
   },
   {
    "duration": 21,
    "start_time": "2022-05-24T08:46:07.025Z"
   },
   {
    "duration": 11,
    "start_time": "2022-05-24T08:46:07.050Z"
   },
   {
    "duration": 16,
    "start_time": "2022-05-24T08:46:07.063Z"
   },
   {
    "duration": 15,
    "start_time": "2022-05-24T08:46:07.082Z"
   },
   {
    "duration": 25,
    "start_time": "2022-05-24T08:46:07.098Z"
   },
   {
    "duration": 13,
    "start_time": "2022-05-24T08:46:07.125Z"
   },
   {
    "duration": 11,
    "start_time": "2022-05-24T08:46:07.140Z"
   },
   {
    "duration": 10,
    "start_time": "2022-05-24T08:46:07.153Z"
   },
   {
    "duration": 14,
    "start_time": "2022-05-24T08:46:07.164Z"
   },
   {
    "duration": 5,
    "start_time": "2022-05-24T08:46:07.180Z"
   },
   {
    "duration": 6,
    "start_time": "2022-05-24T08:46:07.187Z"
   },
   {
    "duration": 530,
    "start_time": "2022-05-24T08:46:07.195Z"
   },
   {
    "duration": 18,
    "start_time": "2022-05-24T08:46:07.727Z"
   },
   {
    "duration": 3,
    "start_time": "2022-05-24T08:46:57.682Z"
   },
   {
    "duration": 618,
    "start_time": "2022-05-24T08:47:00.080Z"
   },
   {
    "duration": 461,
    "start_time": "2022-05-24T08:49:00.536Z"
   },
   {
    "duration": 93,
    "start_time": "2022-05-24T08:49:00.999Z"
   },
   {
    "duration": 42,
    "start_time": "2022-05-24T08:49:01.093Z"
   },
   {
    "duration": 21,
    "start_time": "2022-05-24T08:49:01.137Z"
   },
   {
    "duration": 5,
    "start_time": "2022-05-24T08:49:01.160Z"
   },
   {
    "duration": 18,
    "start_time": "2022-05-24T08:49:01.167Z"
   },
   {
    "duration": 17,
    "start_time": "2022-05-24T08:49:01.187Z"
   },
   {
    "duration": 12,
    "start_time": "2022-05-24T08:49:01.206Z"
   },
   {
    "duration": 28,
    "start_time": "2022-05-24T08:49:01.220Z"
   },
   {
    "duration": 9,
    "start_time": "2022-05-24T08:49:01.249Z"
   },
   {
    "duration": 6,
    "start_time": "2022-05-24T08:49:01.260Z"
   },
   {
    "duration": 12,
    "start_time": "2022-05-24T08:49:01.268Z"
   },
   {
    "duration": 4,
    "start_time": "2022-05-24T08:49:01.282Z"
   },
   {
    "duration": 14,
    "start_time": "2022-05-24T08:49:01.288Z"
   },
   {
    "duration": 7,
    "start_time": "2022-05-24T08:49:01.304Z"
   },
   {
    "duration": 33,
    "start_time": "2022-05-24T08:49:01.313Z"
   },
   {
    "duration": 6,
    "start_time": "2022-05-24T08:49:01.348Z"
   },
   {
    "duration": 23,
    "start_time": "2022-05-24T08:49:01.356Z"
   },
   {
    "duration": 11,
    "start_time": "2022-05-24T08:51:01.576Z"
   },
   {
    "duration": 6,
    "start_time": "2022-05-24T08:51:42.359Z"
   },
   {
    "duration": 12,
    "start_time": "2022-05-24T08:53:23.240Z"
   },
   {
    "duration": 477,
    "start_time": "2022-05-24T09:02:13.513Z"
   },
   {
    "duration": 98,
    "start_time": "2022-05-24T09:02:13.991Z"
   },
   {
    "duration": 35,
    "start_time": "2022-05-24T09:02:14.090Z"
   },
   {
    "duration": 28,
    "start_time": "2022-05-24T09:02:14.127Z"
   },
   {
    "duration": 4,
    "start_time": "2022-05-24T09:02:14.157Z"
   },
   {
    "duration": 5,
    "start_time": "2022-05-24T09:02:14.163Z"
   },
   {
    "duration": 11,
    "start_time": "2022-05-24T09:02:14.170Z"
   },
   {
    "duration": 7,
    "start_time": "2022-05-24T09:02:14.182Z"
   },
   {
    "duration": 7,
    "start_time": "2022-05-24T09:02:14.191Z"
   },
   {
    "duration": 41,
    "start_time": "2022-05-24T09:02:14.201Z"
   },
   {
    "duration": 4,
    "start_time": "2022-05-24T09:02:14.243Z"
   },
   {
    "duration": 9,
    "start_time": "2022-05-24T09:02:14.249Z"
   },
   {
    "duration": 4,
    "start_time": "2022-05-24T09:02:14.260Z"
   },
   {
    "duration": 9,
    "start_time": "2022-05-24T09:02:14.266Z"
   },
   {
    "duration": 14,
    "start_time": "2022-05-24T09:02:14.276Z"
   },
   {
    "duration": 18,
    "start_time": "2022-05-24T09:02:14.292Z"
   },
   {
    "duration": 33,
    "start_time": "2022-05-24T09:02:14.311Z"
   },
   {
    "duration": 13,
    "start_time": "2022-05-24T09:02:14.346Z"
   },
   {
    "duration": 77,
    "start_time": "2022-05-24T09:05:51.224Z"
   },
   {
    "duration": 3,
    "start_time": "2022-05-24T09:08:38.339Z"
   },
   {
    "duration": 588,
    "start_time": "2022-05-24T09:08:52.788Z"
   },
   {
    "duration": 436,
    "start_time": "2022-05-24T09:12:41.369Z"
   },
   {
    "duration": 95,
    "start_time": "2022-05-24T09:12:41.807Z"
   },
   {
    "duration": 50,
    "start_time": "2022-05-24T09:12:41.903Z"
   },
   {
    "duration": 21,
    "start_time": "2022-05-24T09:12:41.955Z"
   },
   {
    "duration": 5,
    "start_time": "2022-05-24T09:12:41.978Z"
   },
   {
    "duration": 10,
    "start_time": "2022-05-24T09:12:41.985Z"
   },
   {
    "duration": 12,
    "start_time": "2022-05-24T09:12:41.996Z"
   },
   {
    "duration": 8,
    "start_time": "2022-05-24T09:12:42.010Z"
   },
   {
    "duration": 38,
    "start_time": "2022-05-24T09:12:42.020Z"
   },
   {
    "duration": 8,
    "start_time": "2022-05-24T09:12:42.062Z"
   },
   {
    "duration": 8,
    "start_time": "2022-05-24T09:12:42.071Z"
   },
   {
    "duration": 7,
    "start_time": "2022-05-24T09:12:42.081Z"
   },
   {
    "duration": 4,
    "start_time": "2022-05-24T09:12:42.089Z"
   },
   {
    "duration": 12,
    "start_time": "2022-05-24T09:12:42.094Z"
   },
   {
    "duration": 4,
    "start_time": "2022-05-24T09:12:42.108Z"
   },
   {
    "duration": 5,
    "start_time": "2022-05-24T09:12:42.114Z"
   },
   {
    "duration": 28,
    "start_time": "2022-05-24T09:12:42.121Z"
   },
   {
    "duration": 16,
    "start_time": "2022-05-24T09:12:42.151Z"
   },
   {
    "duration": 0,
    "start_time": "2022-05-24T09:12:42.168Z"
   },
   {
    "duration": 8,
    "start_time": "2022-05-24T09:13:50.381Z"
   },
   {
    "duration": 9,
    "start_time": "2022-05-24T09:15:05.211Z"
   },
   {
    "duration": 13,
    "start_time": "2022-05-24T09:16:19.016Z"
   },
   {
    "duration": 15,
    "start_time": "2022-05-24T09:17:09.771Z"
   },
   {
    "duration": 20,
    "start_time": "2022-05-24T09:17:45.432Z"
   },
   {
    "duration": 11,
    "start_time": "2022-05-24T09:18:49.219Z"
   },
   {
    "duration": 16,
    "start_time": "2022-05-24T09:19:08.005Z"
   },
   {
    "duration": 12,
    "start_time": "2022-05-24T09:20:05.815Z"
   },
   {
    "duration": 10,
    "start_time": "2022-05-24T09:24:33.378Z"
   },
   {
    "duration": 5,
    "start_time": "2022-05-24T09:26:19.057Z"
   },
   {
    "duration": 18,
    "start_time": "2022-05-24T09:34:18.105Z"
   },
   {
    "duration": 11,
    "start_time": "2022-05-24T09:34:39.744Z"
   },
   {
    "duration": 10,
    "start_time": "2022-05-24T09:36:58.442Z"
   },
   {
    "duration": 93,
    "start_time": "2022-05-24T09:38:24.869Z"
   },
   {
    "duration": 31,
    "start_time": "2022-05-24T09:38:34.262Z"
   },
   {
    "duration": 20,
    "start_time": "2022-05-24T09:38:39.831Z"
   },
   {
    "duration": 9,
    "start_time": "2022-05-24T09:40:22.465Z"
   },
   {
    "duration": 9,
    "start_time": "2022-05-24T09:40:37.886Z"
   },
   {
    "duration": 12,
    "start_time": "2022-05-24T09:41:18.124Z"
   },
   {
    "duration": 10,
    "start_time": "2022-05-24T09:41:29.851Z"
   },
   {
    "duration": 10,
    "start_time": "2022-05-24T09:42:45.574Z"
   },
   {
    "duration": 12,
    "start_time": "2022-05-24T09:43:13.984Z"
   },
   {
    "duration": 12,
    "start_time": "2022-05-24T09:44:52.707Z"
   },
   {
    "duration": 8,
    "start_time": "2022-05-24T09:45:07.448Z"
   },
   {
    "duration": 16,
    "start_time": "2022-05-24T09:46:26.490Z"
   },
   {
    "duration": 8,
    "start_time": "2022-05-24T09:54:58.523Z"
   },
   {
    "duration": 6,
    "start_time": "2022-05-24T10:28:25.343Z"
   },
   {
    "duration": 8,
    "start_time": "2022-05-24T10:29:10.258Z"
   },
   {
    "duration": 467,
    "start_time": "2022-05-24T12:08:50.040Z"
   },
   {
    "duration": 151,
    "start_time": "2022-05-24T12:08:50.509Z"
   },
   {
    "duration": 40,
    "start_time": "2022-05-24T12:08:50.664Z"
   },
   {
    "duration": 19,
    "start_time": "2022-05-24T12:08:50.706Z"
   },
   {
    "duration": 3,
    "start_time": "2022-05-24T12:08:50.727Z"
   },
   {
    "duration": 5,
    "start_time": "2022-05-24T12:08:50.732Z"
   },
   {
    "duration": 18,
    "start_time": "2022-05-24T12:08:50.759Z"
   },
   {
    "duration": 9,
    "start_time": "2022-05-24T12:08:50.780Z"
   },
   {
    "duration": 7,
    "start_time": "2022-05-24T12:08:50.791Z"
   },
   {
    "duration": 6,
    "start_time": "2022-05-24T12:08:50.800Z"
   },
   {
    "duration": 8,
    "start_time": "2022-05-24T12:08:50.808Z"
   },
   {
    "duration": 45,
    "start_time": "2022-05-24T12:08:50.818Z"
   },
   {
    "duration": 17,
    "start_time": "2022-05-24T12:08:50.866Z"
   },
   {
    "duration": 15,
    "start_time": "2022-05-24T12:08:50.887Z"
   },
   {
    "duration": 12,
    "start_time": "2022-05-24T12:08:50.904Z"
   },
   {
    "duration": 9,
    "start_time": "2022-05-24T12:08:50.918Z"
   },
   {
    "duration": 17,
    "start_time": "2022-05-24T12:08:50.929Z"
   },
   {
    "duration": 16,
    "start_time": "2022-05-24T12:08:50.947Z"
   },
   {
    "duration": 16,
    "start_time": "2022-05-24T12:08:50.965Z"
   },
   {
    "duration": 28,
    "start_time": "2022-05-24T12:08:50.982Z"
   },
   {
    "duration": 6,
    "start_time": "2022-05-24T12:09:53.401Z"
   },
   {
    "duration": 7,
    "start_time": "2022-05-24T12:10:10.579Z"
   },
   {
    "duration": 9,
    "start_time": "2022-05-24T12:14:39.010Z"
   },
   {
    "duration": 5,
    "start_time": "2022-05-24T12:16:39.022Z"
   },
   {
    "duration": 6,
    "start_time": "2022-05-24T12:19:46.402Z"
   },
   {
    "duration": 6,
    "start_time": "2022-05-24T12:20:36.827Z"
   },
   {
    "duration": 5,
    "start_time": "2022-05-24T12:22:59.662Z"
   },
   {
    "duration": 6,
    "start_time": "2022-05-24T12:23:14.015Z"
   },
   {
    "duration": 6,
    "start_time": "2022-05-24T12:25:14.338Z"
   },
   {
    "duration": 36,
    "start_time": "2022-05-24T12:25:38.580Z"
   },
   {
    "duration": 7,
    "start_time": "2022-05-24T12:25:48.302Z"
   },
   {
    "duration": 6,
    "start_time": "2022-05-24T12:25:59.245Z"
   },
   {
    "duration": 7,
    "start_time": "2022-05-24T12:26:07.304Z"
   },
   {
    "duration": 6,
    "start_time": "2022-05-24T12:26:19.669Z"
   },
   {
    "duration": 8,
    "start_time": "2022-05-24T12:31:21.897Z"
   },
   {
    "duration": 5,
    "start_time": "2022-05-24T12:39:12.209Z"
   },
   {
    "duration": 5,
    "start_time": "2022-05-24T12:41:52.426Z"
   },
   {
    "duration": 4,
    "start_time": "2022-05-24T12:42:09.446Z"
   },
   {
    "duration": 5,
    "start_time": "2022-05-24T12:42:22.785Z"
   },
   {
    "duration": 8,
    "start_time": "2022-05-24T12:47:10.855Z"
   },
   {
    "duration": 66,
    "start_time": "2022-05-24T12:53:49.424Z"
   },
   {
    "duration": 390,
    "start_time": "2022-05-24T12:54:08.010Z"
   },
   {
    "duration": 135,
    "start_time": "2022-05-24T12:54:08.402Z"
   },
   {
    "duration": 37,
    "start_time": "2022-05-24T12:54:08.539Z"
   },
   {
    "duration": 20,
    "start_time": "2022-05-24T12:54:08.580Z"
   },
   {
    "duration": 4,
    "start_time": "2022-05-24T12:54:08.601Z"
   },
   {
    "duration": 7,
    "start_time": "2022-05-24T12:54:08.606Z"
   },
   {
    "duration": 13,
    "start_time": "2022-05-24T12:54:08.614Z"
   },
   {
    "duration": 35,
    "start_time": "2022-05-24T12:54:08.628Z"
   },
   {
    "duration": 9,
    "start_time": "2022-05-24T12:54:08.665Z"
   },
   {
    "duration": 8,
    "start_time": "2022-05-24T12:54:08.676Z"
   },
   {
    "duration": 9,
    "start_time": "2022-05-24T12:54:08.685Z"
   },
   {
    "duration": 7,
    "start_time": "2022-05-24T12:54:08.696Z"
   },
   {
    "duration": 4,
    "start_time": "2022-05-24T12:54:08.705Z"
   },
   {
    "duration": 6,
    "start_time": "2022-05-24T12:54:08.710Z"
   },
   {
    "duration": 9,
    "start_time": "2022-05-24T12:54:08.717Z"
   },
   {
    "duration": 8,
    "start_time": "2022-05-24T12:54:08.728Z"
   },
   {
    "duration": 17,
    "start_time": "2022-05-24T12:54:08.760Z"
   },
   {
    "duration": 9,
    "start_time": "2022-05-24T12:54:08.778Z"
   },
   {
    "duration": 10,
    "start_time": "2022-05-24T12:54:08.788Z"
   },
   {
    "duration": 8,
    "start_time": "2022-05-24T12:54:08.799Z"
   },
   {
    "duration": 7,
    "start_time": "2022-05-24T12:54:08.808Z"
   },
   {
    "duration": 8,
    "start_time": "2022-05-24T12:54:08.816Z"
   },
   {
    "duration": 96,
    "start_time": "2022-05-24T12:54:08.825Z"
   },
   {
    "duration": 0,
    "start_time": "2022-05-24T12:54:08.923Z"
   },
   {
    "duration": 6,
    "start_time": "2022-05-24T12:56:12.263Z"
   },
   {
    "duration": 7,
    "start_time": "2022-05-24T12:58:28.877Z"
   },
   {
    "duration": 6,
    "start_time": "2022-05-24T13:03:11.556Z"
   },
   {
    "duration": 12,
    "start_time": "2022-05-24T13:24:23.775Z"
   },
   {
    "duration": 7,
    "start_time": "2022-05-24T13:24:49.697Z"
   },
   {
    "duration": 9,
    "start_time": "2022-05-24T13:28:17.989Z"
   },
   {
    "duration": 7,
    "start_time": "2022-05-24T13:33:11.047Z"
   },
   {
    "duration": 6,
    "start_time": "2022-05-24T13:38:23.803Z"
   },
   {
    "duration": 417,
    "start_time": "2022-05-24T13:39:49.144Z"
   },
   {
    "duration": 122,
    "start_time": "2022-05-24T13:39:49.563Z"
   },
   {
    "duration": 30,
    "start_time": "2022-05-24T13:39:49.687Z"
   },
   {
    "duration": 13,
    "start_time": "2022-05-24T13:39:49.719Z"
   },
   {
    "duration": 4,
    "start_time": "2022-05-24T13:39:49.733Z"
   },
   {
    "duration": 12,
    "start_time": "2022-05-24T13:39:49.738Z"
   },
   {
    "duration": 15,
    "start_time": "2022-05-24T13:39:49.751Z"
   },
   {
    "duration": 9,
    "start_time": "2022-05-24T13:39:49.767Z"
   },
   {
    "duration": 23,
    "start_time": "2022-05-24T13:39:49.778Z"
   },
   {
    "duration": 14,
    "start_time": "2022-05-24T13:39:49.803Z"
   },
   {
    "duration": 26,
    "start_time": "2022-05-24T13:39:49.818Z"
   },
   {
    "duration": 27,
    "start_time": "2022-05-24T13:39:49.845Z"
   },
   {
    "duration": 14,
    "start_time": "2022-05-24T13:39:49.873Z"
   },
   {
    "duration": 28,
    "start_time": "2022-05-24T13:39:49.888Z"
   },
   {
    "duration": 20,
    "start_time": "2022-05-24T13:39:49.917Z"
   },
   {
    "duration": 28,
    "start_time": "2022-05-24T13:39:49.939Z"
   },
   {
    "duration": 20,
    "start_time": "2022-05-24T13:39:49.968Z"
   },
   {
    "duration": 36,
    "start_time": "2022-05-24T13:39:49.989Z"
   },
   {
    "duration": 30,
    "start_time": "2022-05-24T13:39:50.026Z"
   },
   {
    "duration": 27,
    "start_time": "2022-05-24T13:39:50.057Z"
   },
   {
    "duration": 27,
    "start_time": "2022-05-24T13:39:50.085Z"
   },
   {
    "duration": 18,
    "start_time": "2022-05-24T13:39:50.114Z"
   },
   {
    "duration": 22,
    "start_time": "2022-05-24T13:39:50.133Z"
   },
   {
    "duration": 23,
    "start_time": "2022-05-24T13:39:50.157Z"
   },
   {
    "duration": 78,
    "start_time": "2022-05-24T13:46:14.930Z"
   },
   {
    "duration": 1063,
    "start_time": "2022-05-24T13:46:27.988Z"
   },
   {
    "duration": 346,
    "start_time": "2022-05-24T14:33:35.516Z"
   },
   {
    "duration": 87,
    "start_time": "2022-05-24T14:33:35.864Z"
   },
   {
    "duration": 28,
    "start_time": "2022-05-24T14:33:35.953Z"
   },
   {
    "duration": 13,
    "start_time": "2022-05-24T14:33:35.982Z"
   },
   {
    "duration": 4,
    "start_time": "2022-05-24T14:33:35.996Z"
   },
   {
    "duration": 8,
    "start_time": "2022-05-24T14:33:36.001Z"
   },
   {
    "duration": 10,
    "start_time": "2022-05-24T14:33:36.010Z"
   },
   {
    "duration": 6,
    "start_time": "2022-05-24T14:33:36.021Z"
   },
   {
    "duration": 6,
    "start_time": "2022-05-24T14:33:36.028Z"
   },
   {
    "duration": 29,
    "start_time": "2022-05-24T14:33:36.035Z"
   },
   {
    "duration": 5,
    "start_time": "2022-05-24T14:33:36.065Z"
   },
   {
    "duration": 7,
    "start_time": "2022-05-24T14:33:36.071Z"
   },
   {
    "duration": 4,
    "start_time": "2022-05-24T14:33:36.079Z"
   },
   {
    "duration": 7,
    "start_time": "2022-05-24T14:33:36.086Z"
   },
   {
    "duration": 12,
    "start_time": "2022-05-24T14:33:36.094Z"
   },
   {
    "duration": 9,
    "start_time": "2022-05-24T14:33:36.107Z"
   },
   {
    "duration": 12,
    "start_time": "2022-05-24T14:33:36.117Z"
   },
   {
    "duration": 4,
    "start_time": "2022-05-24T14:33:36.131Z"
   },
   {
    "duration": 23,
    "start_time": "2022-05-24T14:33:36.136Z"
   },
   {
    "duration": 5,
    "start_time": "2022-05-24T14:33:36.160Z"
   },
   {
    "duration": 7,
    "start_time": "2022-05-24T14:33:36.167Z"
   },
   {
    "duration": 6,
    "start_time": "2022-05-24T14:33:36.175Z"
   },
   {
    "duration": 9,
    "start_time": "2022-05-24T14:33:36.182Z"
   },
   {
    "duration": 13,
    "start_time": "2022-05-24T14:33:36.192Z"
   },
   {
    "duration": 54,
    "start_time": "2022-05-25T07:12:57.349Z"
   },
   {
    "duration": 674,
    "start_time": "2022-05-25T07:13:02.753Z"
   },
   {
    "duration": 295,
    "start_time": "2022-05-25T07:13:03.429Z"
   },
   {
    "duration": 31,
    "start_time": "2022-05-25T07:13:03.725Z"
   },
   {
    "duration": 13,
    "start_time": "2022-05-25T07:13:03.758Z"
   },
   {
    "duration": 4,
    "start_time": "2022-05-25T07:13:03.772Z"
   },
   {
    "duration": 5,
    "start_time": "2022-05-25T07:13:03.777Z"
   },
   {
    "duration": 13,
    "start_time": "2022-05-25T07:13:03.784Z"
   },
   {
    "duration": 6,
    "start_time": "2022-05-25T07:13:03.798Z"
   },
   {
    "duration": 15,
    "start_time": "2022-05-25T07:13:03.806Z"
   },
   {
    "duration": 8,
    "start_time": "2022-05-25T07:13:03.823Z"
   },
   {
    "duration": 14,
    "start_time": "2022-05-25T07:13:03.832Z"
   },
   {
    "duration": 13,
    "start_time": "2022-05-25T07:13:03.847Z"
   },
   {
    "duration": 3,
    "start_time": "2022-05-25T07:13:03.862Z"
   },
   {
    "duration": 13,
    "start_time": "2022-05-25T07:13:03.867Z"
   },
   {
    "duration": 15,
    "start_time": "2022-05-25T07:13:03.881Z"
   },
   {
    "duration": 4,
    "start_time": "2022-05-25T07:13:03.897Z"
   },
   {
    "duration": 18,
    "start_time": "2022-05-25T07:13:03.902Z"
   },
   {
    "duration": 26,
    "start_time": "2022-05-25T07:13:03.922Z"
   },
   {
    "duration": 12,
    "start_time": "2022-05-25T07:13:03.950Z"
   },
   {
    "duration": 7,
    "start_time": "2022-05-25T07:13:03.964Z"
   },
   {
    "duration": 8,
    "start_time": "2022-05-25T07:13:03.972Z"
   },
   {
    "duration": 6,
    "start_time": "2022-05-25T07:13:03.982Z"
   },
   {
    "duration": 6,
    "start_time": "2022-05-25T07:13:03.994Z"
   },
   {
    "duration": 9,
    "start_time": "2022-05-25T07:13:04.002Z"
   },
   {
    "duration": 34,
    "start_time": "2022-05-25T07:13:04.012Z"
   },
   {
    "duration": 6,
    "start_time": "2022-05-25T07:15:05.934Z"
   },
   {
    "duration": 35,
    "start_time": "2022-05-25T07:15:36.552Z"
   },
   {
    "duration": 26,
    "start_time": "2022-05-25T07:18:13.014Z"
   },
   {
    "duration": 35,
    "start_time": "2022-05-25T07:18:28.147Z"
   },
   {
    "duration": 6,
    "start_time": "2022-05-25T07:20:07.351Z"
   },
   {
    "duration": 10,
    "start_time": "2022-05-25T07:20:20.446Z"
   },
   {
    "duration": 6,
    "start_time": "2022-05-25T07:20:27.035Z"
   },
   {
    "duration": 29,
    "start_time": "2022-05-25T07:20:35.487Z"
   },
   {
    "duration": 42,
    "start_time": "2022-05-25T07:22:51.263Z"
   },
   {
    "duration": 4,
    "start_time": "2022-05-25T07:31:33.896Z"
   },
   {
    "duration": 4,
    "start_time": "2022-05-25T07:31:44.593Z"
   },
   {
    "duration": 4,
    "start_time": "2022-05-25T07:31:49.251Z"
   },
   {
    "duration": 3,
    "start_time": "2022-05-25T07:32:00.959Z"
   },
   {
    "duration": 4,
    "start_time": "2022-05-25T07:32:07.139Z"
   },
   {
    "duration": 4,
    "start_time": "2022-05-25T07:32:23.635Z"
   },
   {
    "duration": 3,
    "start_time": "2022-05-25T07:44:34.054Z"
   },
   {
    "duration": 3,
    "start_time": "2022-05-25T07:49:13.120Z"
   },
   {
    "duration": 6,
    "start_time": "2022-05-25T07:52:01.245Z"
   },
   {
    "duration": 8,
    "start_time": "2022-05-25T07:52:15.955Z"
   },
   {
    "duration": 4,
    "start_time": "2022-05-25T07:52:22.557Z"
   },
   {
    "duration": 13,
    "start_time": "2022-05-25T07:53:59.566Z"
   },
   {
    "duration": 4,
    "start_time": "2022-05-25T08:04:02.581Z"
   },
   {
    "duration": 6,
    "start_time": "2022-05-25T08:18:01.661Z"
   },
   {
    "duration": 8,
    "start_time": "2022-05-25T08:21:18.144Z"
   },
   {
    "duration": 9,
    "start_time": "2022-05-25T08:21:26.155Z"
   },
   {
    "duration": 4,
    "start_time": "2022-05-25T08:21:54.383Z"
   },
   {
    "duration": 5,
    "start_time": "2022-05-25T08:22:25.967Z"
   },
   {
    "duration": 7,
    "start_time": "2022-05-25T08:22:55.822Z"
   },
   {
    "duration": 5,
    "start_time": "2022-05-25T08:23:07.291Z"
   },
   {
    "duration": 2,
    "start_time": "2022-05-25T08:23:38.261Z"
   },
   {
    "duration": 99,
    "start_time": "2022-05-25T08:23:38.265Z"
   },
   {
    "duration": 23,
    "start_time": "2022-05-25T08:23:38.366Z"
   },
   {
    "duration": 26,
    "start_time": "2022-05-25T08:23:38.394Z"
   },
   {
    "duration": 4,
    "start_time": "2022-05-25T08:23:38.423Z"
   },
   {
    "duration": 29,
    "start_time": "2022-05-25T08:23:38.428Z"
   },
   {
    "duration": 20,
    "start_time": "2022-05-25T08:23:38.459Z"
   },
   {
    "duration": 26,
    "start_time": "2022-05-25T08:23:38.480Z"
   },
   {
    "duration": 21,
    "start_time": "2022-05-25T08:23:38.507Z"
   },
   {
    "duration": 19,
    "start_time": "2022-05-25T08:23:38.530Z"
   },
   {
    "duration": 24,
    "start_time": "2022-05-25T08:23:38.550Z"
   },
   {
    "duration": 18,
    "start_time": "2022-05-25T08:23:38.575Z"
   },
   {
    "duration": 19,
    "start_time": "2022-05-25T08:23:38.594Z"
   },
   {
    "duration": 19,
    "start_time": "2022-05-25T08:23:38.616Z"
   },
   {
    "duration": 16,
    "start_time": "2022-05-25T08:23:38.636Z"
   },
   {
    "duration": 22,
    "start_time": "2022-05-25T08:23:38.653Z"
   },
   {
    "duration": 19,
    "start_time": "2022-05-25T08:23:38.676Z"
   },
   {
    "duration": 8,
    "start_time": "2022-05-25T08:23:38.696Z"
   },
   {
    "duration": 23,
    "start_time": "2022-05-25T08:23:38.705Z"
   },
   {
    "duration": 9,
    "start_time": "2022-05-25T08:23:38.730Z"
   },
   {
    "duration": 22,
    "start_time": "2022-05-25T08:23:38.741Z"
   },
   {
    "duration": 11,
    "start_time": "2022-05-25T08:23:38.765Z"
   },
   {
    "duration": 16,
    "start_time": "2022-05-25T08:23:38.777Z"
   },
   {
    "duration": 26,
    "start_time": "2022-05-25T08:23:38.795Z"
   },
   {
    "duration": 14,
    "start_time": "2022-05-25T08:23:38.823Z"
   },
   {
    "duration": 20,
    "start_time": "2022-05-25T08:23:38.839Z"
   },
   {
    "duration": 8,
    "start_time": "2022-05-25T08:23:38.860Z"
   },
   {
    "duration": 26,
    "start_time": "2022-05-25T08:23:38.869Z"
   },
   {
    "duration": 27,
    "start_time": "2022-05-25T08:23:38.898Z"
   },
   {
    "duration": 5,
    "start_time": "2022-05-25T08:24:09.786Z"
   },
   {
    "duration": 12,
    "start_time": "2022-05-25T08:24:31.122Z"
   },
   {
    "duration": 21,
    "start_time": "2022-05-25T08:26:39.551Z"
   },
   {
    "duration": 413,
    "start_time": "2022-05-25T08:53:29.318Z"
   },
   {
    "duration": 94,
    "start_time": "2022-05-25T08:53:29.733Z"
   },
   {
    "duration": 33,
    "start_time": "2022-05-25T08:53:29.829Z"
   },
   {
    "duration": 14,
    "start_time": "2022-05-25T08:53:29.864Z"
   },
   {
    "duration": 16,
    "start_time": "2022-05-25T08:53:29.879Z"
   },
   {
    "duration": 4,
    "start_time": "2022-05-25T08:53:29.896Z"
   },
   {
    "duration": 12,
    "start_time": "2022-05-25T08:53:29.902Z"
   },
   {
    "duration": 6,
    "start_time": "2022-05-25T08:53:29.916Z"
   },
   {
    "duration": 8,
    "start_time": "2022-05-25T08:53:29.923Z"
   },
   {
    "duration": 7,
    "start_time": "2022-05-25T08:53:29.934Z"
   },
   {
    "duration": 7,
    "start_time": "2022-05-25T08:53:29.942Z"
   },
   {
    "duration": 8,
    "start_time": "2022-05-25T08:53:29.951Z"
   },
   {
    "duration": 4,
    "start_time": "2022-05-25T08:53:29.995Z"
   },
   {
    "duration": 8,
    "start_time": "2022-05-25T08:53:30.001Z"
   },
   {
    "duration": 16,
    "start_time": "2022-05-25T08:53:30.011Z"
   },
   {
    "duration": 13,
    "start_time": "2022-05-25T08:53:30.030Z"
   },
   {
    "duration": 17,
    "start_time": "2022-05-25T08:53:30.045Z"
   },
   {
    "duration": 5,
    "start_time": "2022-05-25T08:53:30.063Z"
   },
   {
    "duration": 24,
    "start_time": "2022-05-25T08:53:30.070Z"
   },
   {
    "duration": 6,
    "start_time": "2022-05-25T08:53:30.096Z"
   },
   {
    "duration": 12,
    "start_time": "2022-05-25T08:53:30.103Z"
   },
   {
    "duration": 8,
    "start_time": "2022-05-25T08:53:30.116Z"
   },
   {
    "duration": 15,
    "start_time": "2022-05-25T08:53:30.126Z"
   },
   {
    "duration": 18,
    "start_time": "2022-05-25T08:53:30.142Z"
   },
   {
    "duration": 5,
    "start_time": "2022-05-25T08:53:30.161Z"
   },
   {
    "duration": 7,
    "start_time": "2022-05-25T08:53:30.168Z"
   },
   {
    "duration": 22,
    "start_time": "2022-05-25T08:53:30.177Z"
   },
   {
    "duration": 11,
    "start_time": "2022-05-25T08:53:30.201Z"
   },
   {
    "duration": 18,
    "start_time": "2022-05-25T08:53:30.214Z"
   },
   {
    "duration": 81,
    "start_time": "2022-05-25T08:53:30.233Z"
   },
   {
    "duration": 11,
    "start_time": "2022-05-25T08:58:11.348Z"
   },
   {
    "duration": 10,
    "start_time": "2022-05-25T09:02:17.367Z"
   },
   {
    "duration": 4,
    "start_time": "2022-05-25T09:11:51.268Z"
   },
   {
    "duration": 5,
    "start_time": "2022-05-25T09:17:07.936Z"
   },
   {
    "duration": 4,
    "start_time": "2022-05-25T09:17:28.054Z"
   },
   {
    "duration": 4,
    "start_time": "2022-05-25T09:17:49.907Z"
   },
   {
    "duration": 459,
    "start_time": "2022-05-25T09:20:18.574Z"
   },
   {
    "duration": 8,
    "start_time": "2022-05-25T09:29:35.006Z"
   },
   {
    "duration": 25,
    "start_time": "2022-05-25T10:02:29.113Z"
   },
   {
    "duration": 4,
    "start_time": "2022-05-25T10:05:18.356Z"
   },
   {
    "duration": 25,
    "start_time": "2022-05-25T10:05:21.890Z"
   },
   {
    "duration": 26,
    "start_time": "2022-05-25T10:09:26.276Z"
   },
   {
    "duration": 10,
    "start_time": "2022-05-25T10:10:06.457Z"
   },
   {
    "duration": 13,
    "start_time": "2022-05-25T10:10:14.531Z"
   },
   {
    "duration": 22,
    "start_time": "2022-05-25T10:10:24.696Z"
   },
   {
    "duration": 6,
    "start_time": "2022-05-25T10:15:01.497Z"
   },
   {
    "duration": 25,
    "start_time": "2022-05-25T10:15:08.188Z"
   },
   {
    "duration": 6,
    "start_time": "2022-05-25T10:15:46.219Z"
   },
   {
    "duration": 8,
    "start_time": "2022-05-25T10:16:14.052Z"
   },
   {
    "duration": 41,
    "start_time": "2022-05-25T10:16:17.340Z"
   },
   {
    "duration": 6,
    "start_time": "2022-05-25T10:17:10.541Z"
   },
   {
    "duration": 7,
    "start_time": "2022-05-25T10:17:14.131Z"
   },
   {
    "duration": 8,
    "start_time": "2022-05-25T10:17:16.620Z"
   },
   {
    "duration": 33,
    "start_time": "2022-05-25T10:17:22.696Z"
   },
   {
    "duration": 3,
    "start_time": "2022-05-25T10:21:23.992Z"
   },
   {
    "duration": 376,
    "start_time": "2022-05-25T10:22:35.848Z"
   },
   {
    "duration": 90,
    "start_time": "2022-05-25T10:22:36.225Z"
   },
   {
    "duration": 33,
    "start_time": "2022-05-25T10:22:36.317Z"
   },
   {
    "duration": 15,
    "start_time": "2022-05-25T10:22:36.352Z"
   },
   {
    "duration": 26,
    "start_time": "2022-05-25T10:22:36.369Z"
   },
   {
    "duration": 4,
    "start_time": "2022-05-25T10:22:36.397Z"
   },
   {
    "duration": 11,
    "start_time": "2022-05-25T10:22:36.403Z"
   },
   {
    "duration": 6,
    "start_time": "2022-05-25T10:22:36.416Z"
   },
   {
    "duration": 9,
    "start_time": "2022-05-25T10:22:36.424Z"
   },
   {
    "duration": 6,
    "start_time": "2022-05-25T10:22:36.436Z"
   },
   {
    "duration": 8,
    "start_time": "2022-05-25T10:22:36.443Z"
   },
   {
    "duration": 6,
    "start_time": "2022-05-25T10:22:36.495Z"
   },
   {
    "duration": 7,
    "start_time": "2022-05-25T10:22:36.503Z"
   },
   {
    "duration": 7,
    "start_time": "2022-05-25T10:22:36.511Z"
   },
   {
    "duration": 7,
    "start_time": "2022-05-25T10:22:36.520Z"
   },
   {
    "duration": 4,
    "start_time": "2022-05-25T10:22:36.528Z"
   },
   {
    "duration": 11,
    "start_time": "2022-05-25T10:22:36.534Z"
   },
   {
    "duration": 4,
    "start_time": "2022-05-25T10:22:36.546Z"
   },
   {
    "duration": 5,
    "start_time": "2022-05-25T10:22:36.594Z"
   },
   {
    "duration": 9,
    "start_time": "2022-05-25T10:22:36.600Z"
   },
   {
    "duration": 7,
    "start_time": "2022-05-25T10:22:36.610Z"
   },
   {
    "duration": 6,
    "start_time": "2022-05-25T10:22:36.618Z"
   },
   {
    "duration": 13,
    "start_time": "2022-05-25T10:22:36.626Z"
   },
   {
    "duration": 8,
    "start_time": "2022-05-25T10:22:36.641Z"
   },
   {
    "duration": 6,
    "start_time": "2022-05-25T10:22:36.650Z"
   },
   {
    "duration": 39,
    "start_time": "2022-05-25T10:22:36.657Z"
   },
   {
    "duration": 7,
    "start_time": "2022-05-25T10:22:36.698Z"
   },
   {
    "duration": 9,
    "start_time": "2022-05-25T10:22:36.707Z"
   },
   {
    "duration": 17,
    "start_time": "2022-05-25T10:22:36.717Z"
   },
   {
    "duration": 9,
    "start_time": "2022-05-25T10:22:36.735Z"
   },
   {
    "duration": 60,
    "start_time": "2022-05-25T10:22:36.745Z"
   },
   {
    "duration": 3,
    "start_time": "2022-05-25T10:22:36.807Z"
   },
   {
    "duration": 14,
    "start_time": "2022-05-25T10:22:36.811Z"
   },
   {
    "duration": 2,
    "start_time": "2022-05-25T10:22:36.827Z"
   },
   {
    "duration": 9,
    "start_time": "2022-05-25T10:22:36.830Z"
   },
   {
    "duration": 7,
    "start_time": "2022-05-25T10:22:36.840Z"
   },
   {
    "duration": 10,
    "start_time": "2022-05-25T10:22:36.849Z"
   },
   {
    "duration": 50,
    "start_time": "2022-05-25T10:22:36.860Z"
   },
   {
    "duration": 424,
    "start_time": "2022-05-25T10:30:51.962Z"
   },
   {
    "duration": 100,
    "start_time": "2022-05-25T10:30:52.388Z"
   },
   {
    "duration": 36,
    "start_time": "2022-05-25T10:30:52.490Z"
   },
   {
    "duration": 15,
    "start_time": "2022-05-25T10:30:52.528Z"
   },
   {
    "duration": 4,
    "start_time": "2022-05-25T10:30:52.545Z"
   },
   {
    "duration": 13,
    "start_time": "2022-05-25T10:30:52.550Z"
   },
   {
    "duration": 13,
    "start_time": "2022-05-25T10:30:52.564Z"
   },
   {
    "duration": 18,
    "start_time": "2022-05-25T10:30:52.579Z"
   },
   {
    "duration": 7,
    "start_time": "2022-05-25T10:30:52.599Z"
   },
   {
    "duration": 15,
    "start_time": "2022-05-25T10:30:52.607Z"
   },
   {
    "duration": 9,
    "start_time": "2022-05-25T10:30:52.623Z"
   },
   {
    "duration": 12,
    "start_time": "2022-05-25T10:30:52.633Z"
   },
   {
    "duration": 3,
    "start_time": "2022-05-25T10:30:52.646Z"
   },
   {
    "duration": 6,
    "start_time": "2022-05-25T10:30:52.652Z"
   },
   {
    "duration": 7,
    "start_time": "2022-05-25T10:30:52.660Z"
   },
   {
    "duration": 8,
    "start_time": "2022-05-25T10:30:52.668Z"
   },
   {
    "duration": 23,
    "start_time": "2022-05-25T10:30:52.677Z"
   },
   {
    "duration": 5,
    "start_time": "2022-05-25T10:30:52.702Z"
   },
   {
    "duration": 5,
    "start_time": "2022-05-25T10:30:52.709Z"
   },
   {
    "duration": 7,
    "start_time": "2022-05-25T10:30:52.715Z"
   },
   {
    "duration": 7,
    "start_time": "2022-05-25T10:30:52.723Z"
   },
   {
    "duration": 7,
    "start_time": "2022-05-25T10:30:52.731Z"
   },
   {
    "duration": 6,
    "start_time": "2022-05-25T10:30:52.739Z"
   },
   {
    "duration": 50,
    "start_time": "2022-05-25T10:30:52.747Z"
   },
   {
    "duration": 4,
    "start_time": "2022-05-25T10:30:52.799Z"
   },
   {
    "duration": 5,
    "start_time": "2022-05-25T10:30:52.805Z"
   },
   {
    "duration": 8,
    "start_time": "2022-05-25T10:30:52.812Z"
   },
   {
    "duration": 10,
    "start_time": "2022-05-25T10:30:52.822Z"
   },
   {
    "duration": 13,
    "start_time": "2022-05-25T10:30:52.833Z"
   },
   {
    "duration": 8,
    "start_time": "2022-05-25T10:30:52.848Z"
   },
   {
    "duration": 54,
    "start_time": "2022-05-25T10:30:52.858Z"
   },
   {
    "duration": 4,
    "start_time": "2022-05-25T10:30:52.914Z"
   },
   {
    "duration": 15,
    "start_time": "2022-05-25T10:30:52.919Z"
   },
   {
    "duration": 9,
    "start_time": "2022-05-25T10:30:52.935Z"
   },
   {
    "duration": 6,
    "start_time": "2022-05-25T10:30:52.945Z"
   },
   {
    "duration": 42,
    "start_time": "2022-05-25T10:30:52.953Z"
   },
   {
    "duration": 23,
    "start_time": "2022-05-25T10:35:02.638Z"
   },
   {
    "duration": 6,
    "start_time": "2022-05-25T10:35:28.947Z"
   },
   {
    "duration": 452,
    "start_time": "2022-05-25T10:36:02.769Z"
   },
   {
    "duration": 95,
    "start_time": "2022-05-25T10:36:03.223Z"
   },
   {
    "duration": 32,
    "start_time": "2022-05-25T10:36:03.319Z"
   },
   {
    "duration": 16,
    "start_time": "2022-05-25T10:36:03.353Z"
   },
   {
    "duration": 25,
    "start_time": "2022-05-25T10:36:03.370Z"
   },
   {
    "duration": 5,
    "start_time": "2022-05-25T10:36:03.396Z"
   },
   {
    "duration": 15,
    "start_time": "2022-05-25T10:36:03.402Z"
   },
   {
    "duration": 5,
    "start_time": "2022-05-25T10:36:03.419Z"
   },
   {
    "duration": 7,
    "start_time": "2022-05-25T10:36:03.426Z"
   },
   {
    "duration": 5,
    "start_time": "2022-05-25T10:36:03.436Z"
   },
   {
    "duration": 5,
    "start_time": "2022-05-25T10:36:03.442Z"
   },
   {
    "duration": 7,
    "start_time": "2022-05-25T10:36:03.449Z"
   },
   {
    "duration": 6,
    "start_time": "2022-05-25T10:36:03.457Z"
   },
   {
    "duration": 31,
    "start_time": "2022-05-25T10:36:03.464Z"
   },
   {
    "duration": 8,
    "start_time": "2022-05-25T10:36:03.497Z"
   },
   {
    "duration": 9,
    "start_time": "2022-05-25T10:36:03.506Z"
   },
   {
    "duration": 12,
    "start_time": "2022-05-25T10:36:03.517Z"
   },
   {
    "duration": 4,
    "start_time": "2022-05-25T10:36:03.531Z"
   },
   {
    "duration": 6,
    "start_time": "2022-05-25T10:36:03.537Z"
   },
   {
    "duration": 6,
    "start_time": "2022-05-25T10:36:03.544Z"
   },
   {
    "duration": 6,
    "start_time": "2022-05-25T10:36:03.552Z"
   },
   {
    "duration": 10,
    "start_time": "2022-05-25T10:36:03.594Z"
   },
   {
    "duration": 8,
    "start_time": "2022-05-25T10:36:03.606Z"
   },
   {
    "duration": 10,
    "start_time": "2022-05-25T10:36:03.615Z"
   },
   {
    "duration": 5,
    "start_time": "2022-05-25T10:36:03.626Z"
   },
   {
    "duration": 5,
    "start_time": "2022-05-25T10:36:03.632Z"
   },
   {
    "duration": 7,
    "start_time": "2022-05-25T10:36:03.638Z"
   },
   {
    "duration": 7,
    "start_time": "2022-05-25T10:36:03.648Z"
   },
   {
    "duration": 40,
    "start_time": "2022-05-25T10:36:03.657Z"
   },
   {
    "duration": 8,
    "start_time": "2022-05-25T10:36:03.699Z"
   },
   {
    "duration": 21,
    "start_time": "2022-05-25T10:36:03.709Z"
   },
   {
    "duration": 4,
    "start_time": "2022-05-25T10:36:03.731Z"
   },
   {
    "duration": 11,
    "start_time": "2022-05-25T10:36:03.736Z"
   },
   {
    "duration": 5,
    "start_time": "2022-05-25T10:36:03.749Z"
   },
   {
    "duration": 6,
    "start_time": "2022-05-25T10:36:03.759Z"
   },
   {
    "duration": 39,
    "start_time": "2022-05-25T10:36:03.767Z"
   },
   {
    "duration": 25,
    "start_time": "2022-05-25T10:36:03.808Z"
   },
   {
    "duration": 6,
    "start_time": "2022-05-25T10:40:07.388Z"
   },
   {
    "duration": 23,
    "start_time": "2022-05-25T10:40:12.730Z"
   },
   {
    "duration": 5,
    "start_time": "2022-05-25T10:44:15.045Z"
   },
   {
    "duration": 461,
    "start_time": "2022-05-25T10:46:42.591Z"
   },
   {
    "duration": 95,
    "start_time": "2022-05-25T10:46:43.054Z"
   },
   {
    "duration": 46,
    "start_time": "2022-05-25T10:46:43.150Z"
   },
   {
    "duration": 22,
    "start_time": "2022-05-25T10:46:43.199Z"
   },
   {
    "duration": 5,
    "start_time": "2022-05-25T10:46:43.223Z"
   },
   {
    "duration": 6,
    "start_time": "2022-05-25T10:46:43.229Z"
   },
   {
    "duration": 16,
    "start_time": "2022-05-25T10:46:43.237Z"
   },
   {
    "duration": 7,
    "start_time": "2022-05-25T10:46:43.254Z"
   },
   {
    "duration": 35,
    "start_time": "2022-05-25T10:46:43.263Z"
   },
   {
    "duration": 13,
    "start_time": "2022-05-25T10:46:43.301Z"
   },
   {
    "duration": 7,
    "start_time": "2022-05-25T10:46:43.316Z"
   },
   {
    "duration": 9,
    "start_time": "2022-05-25T10:46:43.325Z"
   },
   {
    "duration": 4,
    "start_time": "2022-05-25T10:46:43.336Z"
   },
   {
    "duration": 22,
    "start_time": "2022-05-25T10:46:43.341Z"
   },
   {
    "duration": 10,
    "start_time": "2022-05-25T10:46:43.365Z"
   },
   {
    "duration": 19,
    "start_time": "2022-05-25T10:46:43.377Z"
   },
   {
    "duration": 12,
    "start_time": "2022-05-25T10:46:43.398Z"
   },
   {
    "duration": 4,
    "start_time": "2022-05-25T10:46:43.412Z"
   },
   {
    "duration": 7,
    "start_time": "2022-05-25T10:46:43.417Z"
   },
   {
    "duration": 7,
    "start_time": "2022-05-25T10:46:43.426Z"
   },
   {
    "duration": 7,
    "start_time": "2022-05-25T10:46:43.434Z"
   },
   {
    "duration": 6,
    "start_time": "2022-05-25T10:46:43.443Z"
   },
   {
    "duration": 44,
    "start_time": "2022-05-25T10:46:43.451Z"
   },
   {
    "duration": 10,
    "start_time": "2022-05-25T10:46:43.498Z"
   },
   {
    "duration": 6,
    "start_time": "2022-05-25T10:46:43.510Z"
   },
   {
    "duration": 8,
    "start_time": "2022-05-25T10:46:43.517Z"
   },
   {
    "duration": 11,
    "start_time": "2022-05-25T10:46:43.527Z"
   },
   {
    "duration": 9,
    "start_time": "2022-05-25T10:46:43.541Z"
   },
   {
    "duration": 44,
    "start_time": "2022-05-25T10:46:43.552Z"
   },
   {
    "duration": 12,
    "start_time": "2022-05-25T10:46:43.598Z"
   },
   {
    "duration": 25,
    "start_time": "2022-05-25T10:46:43.611Z"
   },
   {
    "duration": 4,
    "start_time": "2022-05-25T10:46:43.638Z"
   },
   {
    "duration": 10,
    "start_time": "2022-05-25T10:46:43.644Z"
   },
   {
    "duration": 6,
    "start_time": "2022-05-25T10:46:43.656Z"
   },
   {
    "duration": 6,
    "start_time": "2022-05-25T10:46:43.695Z"
   },
   {
    "duration": 12,
    "start_time": "2022-05-25T10:46:43.703Z"
   },
   {
    "duration": 9,
    "start_time": "2022-05-25T10:46:43.716Z"
   },
   {
    "duration": 9,
    "start_time": "2022-05-25T10:46:43.726Z"
   },
   {
    "duration": 23,
    "start_time": "2022-05-25T10:46:43.737Z"
   },
   {
    "duration": 427,
    "start_time": "2022-05-25T10:47:57.119Z"
   },
   {
    "duration": 99,
    "start_time": "2022-05-25T10:47:57.548Z"
   },
   {
    "duration": 33,
    "start_time": "2022-05-25T10:47:57.649Z"
   },
   {
    "duration": 21,
    "start_time": "2022-05-25T10:47:57.684Z"
   },
   {
    "duration": 5,
    "start_time": "2022-05-25T10:47:57.707Z"
   },
   {
    "duration": 4,
    "start_time": "2022-05-25T10:47:57.714Z"
   },
   {
    "duration": 11,
    "start_time": "2022-05-25T10:47:57.720Z"
   },
   {
    "duration": 6,
    "start_time": "2022-05-25T10:47:57.733Z"
   },
   {
    "duration": 8,
    "start_time": "2022-05-25T10:47:57.740Z"
   },
   {
    "duration": 6,
    "start_time": "2022-05-25T10:47:57.751Z"
   },
   {
    "duration": 6,
    "start_time": "2022-05-25T10:47:57.795Z"
   },
   {
    "duration": 11,
    "start_time": "2022-05-25T10:47:57.803Z"
   },
   {
    "duration": 4,
    "start_time": "2022-05-25T10:47:57.816Z"
   },
   {
    "duration": 11,
    "start_time": "2022-05-25T10:47:57.822Z"
   },
   {
    "duration": 16,
    "start_time": "2022-05-25T10:47:57.834Z"
   },
   {
    "duration": 16,
    "start_time": "2022-05-25T10:47:57.851Z"
   },
   {
    "duration": 32,
    "start_time": "2022-05-25T10:47:57.869Z"
   },
   {
    "duration": 4,
    "start_time": "2022-05-25T10:47:57.903Z"
   },
   {
    "duration": 7,
    "start_time": "2022-05-25T10:47:57.909Z"
   },
   {
    "duration": 5,
    "start_time": "2022-05-25T10:47:57.918Z"
   },
   {
    "duration": 7,
    "start_time": "2022-05-25T10:47:57.925Z"
   },
   {
    "duration": 7,
    "start_time": "2022-05-25T10:47:57.934Z"
   },
   {
    "duration": 9,
    "start_time": "2022-05-25T10:47:57.942Z"
   },
   {
    "duration": 8,
    "start_time": "2022-05-25T10:47:57.995Z"
   },
   {
    "duration": 5,
    "start_time": "2022-05-25T10:47:58.005Z"
   },
   {
    "duration": 7,
    "start_time": "2022-05-25T10:47:58.011Z"
   },
   {
    "duration": 10,
    "start_time": "2022-05-25T10:47:58.019Z"
   },
   {
    "duration": 12,
    "start_time": "2022-05-25T10:47:58.032Z"
   },
   {
    "duration": 53,
    "start_time": "2022-05-25T10:47:58.046Z"
   },
   {
    "duration": 9,
    "start_time": "2022-05-25T10:47:58.102Z"
   },
   {
    "duration": 24,
    "start_time": "2022-05-25T10:47:58.113Z"
   },
   {
    "duration": 5,
    "start_time": "2022-05-25T10:47:58.138Z"
   },
   {
    "duration": 10,
    "start_time": "2022-05-25T10:47:58.144Z"
   },
   {
    "duration": 40,
    "start_time": "2022-05-25T10:47:58.156Z"
   },
   {
    "duration": 7,
    "start_time": "2022-05-25T10:47:58.198Z"
   },
   {
    "duration": 7,
    "start_time": "2022-05-25T10:47:58.207Z"
   },
   {
    "duration": 7,
    "start_time": "2022-05-25T10:47:58.216Z"
   },
   {
    "duration": 8,
    "start_time": "2022-05-25T10:47:58.224Z"
   },
   {
    "duration": 26,
    "start_time": "2022-05-25T10:47:58.234Z"
   },
   {
    "duration": 4,
    "start_time": "2022-05-25T10:53:48.910Z"
   },
   {
    "duration": 314,
    "start_time": "2022-05-25T10:54:19.177Z"
   },
   {
    "duration": 10,
    "start_time": "2022-05-25T10:54:40.299Z"
   },
   {
    "duration": 10,
    "start_time": "2022-05-25T10:54:45.970Z"
   },
   {
    "duration": 314,
    "start_time": "2022-05-25T10:57:09.091Z"
   },
   {
    "duration": 45,
    "start_time": "2022-05-25T10:57:41.924Z"
   },
   {
    "duration": 11,
    "start_time": "2022-05-25T10:58:09.398Z"
   },
   {
    "duration": 73,
    "start_time": "2022-05-25T11:09:21.475Z"
   },
   {
    "duration": 3,
    "start_time": "2022-05-25T11:09:26.406Z"
   },
   {
    "duration": 17,
    "start_time": "2022-05-25T11:09:28.975Z"
   },
   {
    "duration": 44,
    "start_time": "2022-05-25T11:11:39.602Z"
   },
   {
    "duration": 10,
    "start_time": "2022-05-25T11:11:47.505Z"
   },
   {
    "duration": 13,
    "start_time": "2022-05-25T11:14:07.156Z"
   },
   {
    "duration": 9,
    "start_time": "2022-05-25T11:14:29.448Z"
   },
   {
    "duration": 417,
    "start_time": "2022-05-25T11:14:54.608Z"
   },
   {
    "duration": 89,
    "start_time": "2022-05-25T11:14:55.028Z"
   },
   {
    "duration": 30,
    "start_time": "2022-05-25T11:14:55.120Z"
   },
   {
    "duration": 13,
    "start_time": "2022-05-25T11:14:55.152Z"
   },
   {
    "duration": 4,
    "start_time": "2022-05-25T11:14:55.166Z"
   },
   {
    "duration": 34,
    "start_time": "2022-05-25T11:14:55.171Z"
   },
   {
    "duration": 18,
    "start_time": "2022-05-25T11:14:55.206Z"
   },
   {
    "duration": 7,
    "start_time": "2022-05-25T11:14:55.225Z"
   },
   {
    "duration": 9,
    "start_time": "2022-05-25T11:14:55.233Z"
   },
   {
    "duration": 6,
    "start_time": "2022-05-25T11:14:55.244Z"
   },
   {
    "duration": 5,
    "start_time": "2022-05-25T11:14:55.251Z"
   },
   {
    "duration": 7,
    "start_time": "2022-05-25T11:14:55.258Z"
   },
   {
    "duration": 6,
    "start_time": "2022-05-25T11:14:55.266Z"
   },
   {
    "duration": 8,
    "start_time": "2022-05-25T11:14:55.273Z"
   },
   {
    "duration": 7,
    "start_time": "2022-05-25T11:14:55.293Z"
   },
   {
    "duration": 5,
    "start_time": "2022-05-25T11:14:55.302Z"
   },
   {
    "duration": 12,
    "start_time": "2022-05-25T11:14:55.308Z"
   },
   {
    "duration": 5,
    "start_time": "2022-05-25T11:14:55.321Z"
   },
   {
    "duration": 6,
    "start_time": "2022-05-25T11:14:55.327Z"
   },
   {
    "duration": 6,
    "start_time": "2022-05-25T11:14:55.334Z"
   },
   {
    "duration": 7,
    "start_time": "2022-05-25T11:14:55.342Z"
   },
   {
    "duration": 8,
    "start_time": "2022-05-25T11:14:55.351Z"
   },
   {
    "duration": 39,
    "start_time": "2022-05-25T11:14:55.360Z"
   },
   {
    "duration": 11,
    "start_time": "2022-05-25T11:14:55.400Z"
   },
   {
    "duration": 5,
    "start_time": "2022-05-25T11:14:55.413Z"
   },
   {
    "duration": 8,
    "start_time": "2022-05-25T11:14:55.419Z"
   },
   {
    "duration": 7,
    "start_time": "2022-05-25T11:14:55.429Z"
   },
   {
    "duration": 7,
    "start_time": "2022-05-25T11:14:55.441Z"
   },
   {
    "duration": 45,
    "start_time": "2022-05-25T11:14:55.450Z"
   },
   {
    "duration": 9,
    "start_time": "2022-05-25T11:14:55.497Z"
   },
   {
    "duration": 26,
    "start_time": "2022-05-25T11:14:55.508Z"
   },
   {
    "duration": 4,
    "start_time": "2022-05-25T11:14:55.536Z"
   },
   {
    "duration": 15,
    "start_time": "2022-05-25T11:14:55.541Z"
   },
   {
    "duration": 5,
    "start_time": "2022-05-25T11:14:55.558Z"
   },
   {
    "duration": 30,
    "start_time": "2022-05-25T11:14:55.565Z"
   },
   {
    "duration": 5,
    "start_time": "2022-05-25T11:14:55.596Z"
   },
   {
    "duration": 9,
    "start_time": "2022-05-25T11:14:55.602Z"
   },
   {
    "duration": 9,
    "start_time": "2022-05-25T11:14:55.613Z"
   },
   {
    "duration": 6,
    "start_time": "2022-05-25T11:14:55.624Z"
   },
   {
    "duration": 9,
    "start_time": "2022-05-25T11:14:55.632Z"
   },
   {
    "duration": 2,
    "start_time": "2022-05-25T11:14:55.643Z"
   },
   {
    "duration": 322,
    "start_time": "2022-05-25T11:14:55.647Z"
   },
   {
    "duration": 12,
    "start_time": "2022-05-25T11:14:55.972Z"
   },
   {
    "duration": 17,
    "start_time": "2022-05-25T11:14:55.985Z"
   },
   {
    "duration": 14,
    "start_time": "2022-05-25T11:14:56.003Z"
   },
   {
    "duration": 4,
    "start_time": "2022-05-25T11:19:27.618Z"
   },
   {
    "duration": 11,
    "start_time": "2022-05-25T11:20:26.387Z"
   },
   {
    "duration": 435,
    "start_time": "2022-05-25T11:20:51.967Z"
   },
   {
    "duration": 91,
    "start_time": "2022-05-25T11:20:52.403Z"
   },
   {
    "duration": 36,
    "start_time": "2022-05-25T11:20:52.496Z"
   },
   {
    "duration": 13,
    "start_time": "2022-05-25T11:20:52.534Z"
   },
   {
    "duration": 11,
    "start_time": "2022-05-25T11:20:52.548Z"
   },
   {
    "duration": 13,
    "start_time": "2022-05-25T11:20:52.561Z"
   },
   {
    "duration": 25,
    "start_time": "2022-05-25T11:20:52.575Z"
   },
   {
    "duration": 9,
    "start_time": "2022-05-25T11:20:52.602Z"
   },
   {
    "duration": 12,
    "start_time": "2022-05-25T11:20:52.613Z"
   },
   {
    "duration": 16,
    "start_time": "2022-05-25T11:20:52.628Z"
   },
   {
    "duration": 10,
    "start_time": "2022-05-25T11:20:52.645Z"
   },
   {
    "duration": 21,
    "start_time": "2022-05-25T11:20:52.656Z"
   },
   {
    "duration": 9,
    "start_time": "2022-05-25T11:20:52.679Z"
   },
   {
    "duration": 31,
    "start_time": "2022-05-25T11:20:52.689Z"
   },
   {
    "duration": 31,
    "start_time": "2022-05-25T11:20:52.721Z"
   },
   {
    "duration": 6,
    "start_time": "2022-05-25T11:20:52.753Z"
   },
   {
    "duration": 25,
    "start_time": "2022-05-25T11:20:52.760Z"
   },
   {
    "duration": 4,
    "start_time": "2022-05-25T11:20:52.787Z"
   },
   {
    "duration": 10,
    "start_time": "2022-05-25T11:20:52.792Z"
   },
   {
    "duration": 17,
    "start_time": "2022-05-25T11:20:52.803Z"
   },
   {
    "duration": 17,
    "start_time": "2022-05-25T11:20:52.822Z"
   },
   {
    "duration": 24,
    "start_time": "2022-05-25T11:20:52.841Z"
   },
   {
    "duration": 19,
    "start_time": "2022-05-25T11:20:52.867Z"
   },
   {
    "duration": 24,
    "start_time": "2022-05-25T11:20:52.888Z"
   },
   {
    "duration": 18,
    "start_time": "2022-05-25T11:20:52.914Z"
   },
   {
    "duration": 21,
    "start_time": "2022-05-25T11:20:52.933Z"
   },
   {
    "duration": 32,
    "start_time": "2022-05-25T11:20:52.956Z"
   },
   {
    "duration": 24,
    "start_time": "2022-05-25T11:20:52.991Z"
   },
   {
    "duration": 24,
    "start_time": "2022-05-25T11:20:53.017Z"
   },
   {
    "duration": 8,
    "start_time": "2022-05-25T11:20:53.043Z"
   },
   {
    "duration": 23,
    "start_time": "2022-05-25T11:20:53.053Z"
   },
   {
    "duration": 5,
    "start_time": "2022-05-25T11:20:53.078Z"
   },
   {
    "duration": 26,
    "start_time": "2022-05-25T11:20:53.084Z"
   },
   {
    "duration": 5,
    "start_time": "2022-05-25T11:20:53.112Z"
   },
   {
    "duration": 15,
    "start_time": "2022-05-25T11:20:53.118Z"
   },
   {
    "duration": 24,
    "start_time": "2022-05-25T11:20:53.135Z"
   },
   {
    "duration": 15,
    "start_time": "2022-05-25T11:20:53.161Z"
   },
   {
    "duration": 23,
    "start_time": "2022-05-25T11:20:53.178Z"
   },
   {
    "duration": 17,
    "start_time": "2022-05-25T11:20:53.203Z"
   },
   {
    "duration": 24,
    "start_time": "2022-05-25T11:20:53.222Z"
   },
   {
    "duration": 5,
    "start_time": "2022-05-25T11:20:53.248Z"
   },
   {
    "duration": 300,
    "start_time": "2022-05-25T11:20:53.254Z"
   },
   {
    "duration": 12,
    "start_time": "2022-05-25T11:20:53.555Z"
   },
   {
    "duration": 8,
    "start_time": "2022-05-25T11:20:53.569Z"
   },
   {
    "duration": 26,
    "start_time": "2022-05-25T11:20:53.578Z"
   },
   {
    "duration": 5,
    "start_time": "2022-05-25T11:20:53.606Z"
   },
   {
    "duration": 28,
    "start_time": "2022-05-25T11:20:53.613Z"
   },
   {
    "duration": 4,
    "start_time": "2022-05-25T11:27:24.081Z"
   },
   {
    "duration": 108,
    "start_time": "2022-05-25T11:27:24.087Z"
   },
   {
    "duration": 26,
    "start_time": "2022-05-25T11:27:24.197Z"
   },
   {
    "duration": 15,
    "start_time": "2022-05-25T11:27:24.225Z"
   },
   {
    "duration": 5,
    "start_time": "2022-05-25T11:27:24.243Z"
   },
   {
    "duration": 8,
    "start_time": "2022-05-25T11:27:24.249Z"
   },
   {
    "duration": 40,
    "start_time": "2022-05-25T11:27:24.258Z"
   },
   {
    "duration": 9,
    "start_time": "2022-05-25T11:27:24.300Z"
   },
   {
    "duration": 9,
    "start_time": "2022-05-25T11:27:24.311Z"
   },
   {
    "duration": 9,
    "start_time": "2022-05-25T11:27:24.322Z"
   },
   {
    "duration": 8,
    "start_time": "2022-05-25T11:27:24.334Z"
   },
   {
    "duration": 12,
    "start_time": "2022-05-25T11:27:24.344Z"
   },
   {
    "duration": 5,
    "start_time": "2022-05-25T11:27:24.358Z"
   },
   {
    "duration": 32,
    "start_time": "2022-05-25T11:27:24.365Z"
   },
   {
    "duration": 8,
    "start_time": "2022-05-25T11:27:24.399Z"
   },
   {
    "duration": 6,
    "start_time": "2022-05-25T11:27:24.409Z"
   },
   {
    "duration": 18,
    "start_time": "2022-05-25T11:27:24.417Z"
   },
   {
    "duration": 4,
    "start_time": "2022-05-25T11:27:24.437Z"
   },
   {
    "duration": 7,
    "start_time": "2022-05-25T11:27:24.443Z"
   },
   {
    "duration": 6,
    "start_time": "2022-05-25T11:27:24.452Z"
   },
   {
    "duration": 35,
    "start_time": "2022-05-25T11:27:24.460Z"
   },
   {
    "duration": 6,
    "start_time": "2022-05-25T11:27:24.497Z"
   },
   {
    "duration": 7,
    "start_time": "2022-05-25T11:27:24.505Z"
   },
   {
    "duration": 15,
    "start_time": "2022-05-25T11:27:24.513Z"
   },
   {
    "duration": 5,
    "start_time": "2022-05-25T11:27:24.529Z"
   },
   {
    "duration": 9,
    "start_time": "2022-05-25T11:27:24.536Z"
   },
   {
    "duration": 13,
    "start_time": "2022-05-25T11:27:24.546Z"
   },
   {
    "duration": 21,
    "start_time": "2022-05-25T11:27:24.561Z"
   },
   {
    "duration": 12,
    "start_time": "2022-05-25T11:27:24.593Z"
   },
   {
    "duration": 8,
    "start_time": "2022-05-25T11:27:24.606Z"
   },
   {
    "duration": 20,
    "start_time": "2022-05-25T11:27:24.615Z"
   },
   {
    "duration": 3,
    "start_time": "2022-05-25T11:27:24.636Z"
   },
   {
    "duration": 15,
    "start_time": "2022-05-25T11:27:24.640Z"
   },
   {
    "duration": 9,
    "start_time": "2022-05-25T11:27:24.657Z"
   },
   {
    "duration": 28,
    "start_time": "2022-05-25T11:27:24.668Z"
   },
   {
    "duration": 6,
    "start_time": "2022-05-25T11:27:24.698Z"
   },
   {
    "duration": 12,
    "start_time": "2022-05-25T11:27:24.705Z"
   },
   {
    "duration": 10,
    "start_time": "2022-05-25T11:27:24.718Z"
   },
   {
    "duration": 19,
    "start_time": "2022-05-25T11:27:24.729Z"
   },
   {
    "duration": 9,
    "start_time": "2022-05-25T11:27:24.749Z"
   },
   {
    "duration": 3,
    "start_time": "2022-05-25T11:27:24.760Z"
   },
   {
    "duration": 315,
    "start_time": "2022-05-25T11:27:24.764Z"
   },
   {
    "duration": 17,
    "start_time": "2022-05-25T11:27:25.081Z"
   },
   {
    "duration": 5,
    "start_time": "2022-05-25T11:27:25.100Z"
   },
   {
    "duration": 12,
    "start_time": "2022-05-25T11:27:25.107Z"
   },
   {
    "duration": 4,
    "start_time": "2022-05-25T11:27:25.120Z"
   },
   {
    "duration": 14,
    "start_time": "2022-05-25T11:27:25.126Z"
   },
   {
    "duration": 6,
    "start_time": "2022-05-25T11:44:23.725Z"
   },
   {
    "duration": 5,
    "start_time": "2022-05-25T11:44:37.518Z"
   },
   {
    "duration": 10,
    "start_time": "2022-05-25T11:45:08.338Z"
   },
   {
    "duration": 443,
    "start_time": "2022-05-25T11:47:35.755Z"
   },
   {
    "duration": 91,
    "start_time": "2022-05-25T11:47:36.200Z"
   },
   {
    "duration": 29,
    "start_time": "2022-05-25T11:47:36.293Z"
   },
   {
    "duration": 15,
    "start_time": "2022-05-25T11:47:36.324Z"
   },
   {
    "duration": 9,
    "start_time": "2022-05-25T11:47:36.341Z"
   },
   {
    "duration": 12,
    "start_time": "2022-05-25T11:47:36.352Z"
   },
   {
    "duration": 20,
    "start_time": "2022-05-25T11:47:36.365Z"
   },
   {
    "duration": 17,
    "start_time": "2022-05-25T11:47:36.387Z"
   },
   {
    "duration": 28,
    "start_time": "2022-05-25T11:47:36.406Z"
   },
   {
    "duration": 15,
    "start_time": "2022-05-25T11:47:36.437Z"
   },
   {
    "duration": 13,
    "start_time": "2022-05-25T11:47:36.453Z"
   },
   {
    "duration": 31,
    "start_time": "2022-05-25T11:47:36.468Z"
   },
   {
    "duration": 22,
    "start_time": "2022-05-25T11:47:36.500Z"
   },
   {
    "duration": 32,
    "start_time": "2022-05-25T11:47:36.524Z"
   },
   {
    "duration": 28,
    "start_time": "2022-05-25T11:47:36.558Z"
   },
   {
    "duration": 8,
    "start_time": "2022-05-25T11:47:36.588Z"
   },
   {
    "duration": 27,
    "start_time": "2022-05-25T11:47:36.598Z"
   },
   {
    "duration": 10,
    "start_time": "2022-05-25T11:47:36.627Z"
   },
   {
    "duration": 15,
    "start_time": "2022-05-25T11:47:36.639Z"
   },
   {
    "duration": 22,
    "start_time": "2022-05-25T11:47:36.656Z"
   },
   {
    "duration": 30,
    "start_time": "2022-05-25T11:47:36.680Z"
   },
   {
    "duration": 17,
    "start_time": "2022-05-25T11:47:36.712Z"
   },
   {
    "duration": 10,
    "start_time": "2022-05-25T11:47:36.731Z"
   },
   {
    "duration": 26,
    "start_time": "2022-05-25T11:47:36.742Z"
   },
   {
    "duration": 21,
    "start_time": "2022-05-25T11:47:36.769Z"
   },
   {
    "duration": 19,
    "start_time": "2022-05-25T11:47:36.792Z"
   },
   {
    "duration": 34,
    "start_time": "2022-05-25T11:47:36.813Z"
   },
   {
    "duration": 23,
    "start_time": "2022-05-25T11:47:36.850Z"
   },
   {
    "duration": 24,
    "start_time": "2022-05-25T11:47:36.875Z"
   },
   {
    "duration": 21,
    "start_time": "2022-05-25T11:47:36.901Z"
   },
   {
    "duration": 38,
    "start_time": "2022-05-25T11:47:36.923Z"
   },
   {
    "duration": 4,
    "start_time": "2022-05-25T11:47:36.963Z"
   },
   {
    "duration": 39,
    "start_time": "2022-05-25T11:47:36.968Z"
   },
   {
    "duration": 8,
    "start_time": "2022-05-25T11:47:37.009Z"
   },
   {
    "duration": 26,
    "start_time": "2022-05-25T11:47:37.019Z"
   },
   {
    "duration": 12,
    "start_time": "2022-05-25T11:47:37.046Z"
   },
   {
    "duration": 15,
    "start_time": "2022-05-25T11:47:37.060Z"
   },
   {
    "duration": 5,
    "start_time": "2022-05-25T11:47:37.076Z"
   },
   {
    "duration": 10,
    "start_time": "2022-05-25T11:47:37.082Z"
   },
   {
    "duration": 10,
    "start_time": "2022-05-25T11:47:37.094Z"
   },
   {
    "duration": 3,
    "start_time": "2022-05-25T11:47:37.106Z"
   },
   {
    "duration": 341,
    "start_time": "2022-05-25T11:47:37.110Z"
   },
   {
    "duration": 15,
    "start_time": "2022-05-25T11:47:37.453Z"
   },
   {
    "duration": 4,
    "start_time": "2022-05-25T11:47:37.469Z"
   },
   {
    "duration": 28,
    "start_time": "2022-05-25T11:47:37.475Z"
   },
   {
    "duration": 4,
    "start_time": "2022-05-25T11:47:37.505Z"
   },
   {
    "duration": 14,
    "start_time": "2022-05-25T11:47:37.511Z"
   },
   {
    "duration": 4,
    "start_time": "2022-05-25T11:47:37.526Z"
   },
   {
    "duration": 24,
    "start_time": "2022-05-25T11:55:07.561Z"
   },
   {
    "duration": 3,
    "start_time": "2022-05-25T12:01:25.827Z"
   },
   {
    "duration": 4,
    "start_time": "2022-05-25T12:01:48.365Z"
   },
   {
    "duration": 4,
    "start_time": "2022-05-25T12:03:03.231Z"
   },
   {
    "duration": 3,
    "start_time": "2022-05-25T13:28:03.071Z"
   },
   {
    "duration": 5,
    "start_time": "2022-05-25T13:30:46.459Z"
   },
   {
    "duration": 424,
    "start_time": "2022-05-25T13:54:59.216Z"
   },
   {
    "duration": 181,
    "start_time": "2022-05-25T13:54:59.642Z"
   },
   {
    "duration": 31,
    "start_time": "2022-05-25T13:54:59.825Z"
   },
   {
    "duration": 14,
    "start_time": "2022-05-25T13:54:59.858Z"
   },
   {
    "duration": 5,
    "start_time": "2022-05-25T13:54:59.873Z"
   },
   {
    "duration": 6,
    "start_time": "2022-05-25T13:54:59.879Z"
   },
   {
    "duration": 8,
    "start_time": "2022-05-25T13:54:59.894Z"
   },
   {
    "duration": 5,
    "start_time": "2022-05-25T13:54:59.904Z"
   },
   {
    "duration": 9,
    "start_time": "2022-05-25T13:54:59.911Z"
   },
   {
    "duration": 6,
    "start_time": "2022-05-25T13:54:59.922Z"
   },
   {
    "duration": 6,
    "start_time": "2022-05-25T13:54:59.929Z"
   },
   {
    "duration": 10,
    "start_time": "2022-05-25T13:54:59.936Z"
   },
   {
    "duration": 5,
    "start_time": "2022-05-25T13:54:59.948Z"
   },
   {
    "duration": 12,
    "start_time": "2022-05-25T13:54:59.954Z"
   },
   {
    "duration": 36,
    "start_time": "2022-05-25T13:54:59.968Z"
   },
   {
    "duration": 9,
    "start_time": "2022-05-25T13:55:00.006Z"
   },
   {
    "duration": 28,
    "start_time": "2022-05-25T13:55:00.017Z"
   },
   {
    "duration": 10,
    "start_time": "2022-05-25T13:55:00.047Z"
   },
   {
    "duration": 17,
    "start_time": "2022-05-25T13:55:00.059Z"
   },
   {
    "duration": 20,
    "start_time": "2022-05-25T13:55:00.078Z"
   },
   {
    "duration": 23,
    "start_time": "2022-05-25T13:55:00.100Z"
   },
   {
    "duration": 9,
    "start_time": "2022-05-25T13:55:00.124Z"
   },
   {
    "duration": 9,
    "start_time": "2022-05-25T13:55:00.135Z"
   },
   {
    "duration": 9,
    "start_time": "2022-05-25T13:55:00.146Z"
   },
   {
    "duration": 5,
    "start_time": "2022-05-25T13:55:00.156Z"
   },
   {
    "duration": 6,
    "start_time": "2022-05-25T13:55:00.162Z"
   },
   {
    "duration": 12,
    "start_time": "2022-05-25T13:55:00.170Z"
   },
   {
    "duration": 10,
    "start_time": "2022-05-25T13:55:00.185Z"
   },
   {
    "duration": 15,
    "start_time": "2022-05-25T13:55:00.197Z"
   },
   {
    "duration": 4,
    "start_time": "2022-05-25T13:55:00.214Z"
   },
   {
    "duration": 17,
    "start_time": "2022-05-25T13:55:00.219Z"
   },
   {
    "duration": 9,
    "start_time": "2022-05-25T13:55:00.238Z"
   },
   {
    "duration": 13,
    "start_time": "2022-05-25T13:55:00.248Z"
   },
   {
    "duration": 14,
    "start_time": "2022-05-25T13:55:00.262Z"
   },
   {
    "duration": 19,
    "start_time": "2022-05-25T13:55:00.277Z"
   },
   {
    "duration": 18,
    "start_time": "2022-05-25T13:55:00.298Z"
   },
   {
    "duration": 37,
    "start_time": "2022-05-25T13:55:00.318Z"
   },
   {
    "duration": 47,
    "start_time": "2022-05-25T13:55:00.357Z"
   },
   {
    "duration": 21,
    "start_time": "2022-05-25T13:55:00.405Z"
   },
   {
    "duration": 328,
    "start_time": "2022-05-25T13:55:00.427Z"
   },
   {
    "duration": 11,
    "start_time": "2022-05-25T13:55:00.756Z"
   },
   {
    "duration": 20,
    "start_time": "2022-05-25T13:55:00.768Z"
   },
   {
    "duration": 31,
    "start_time": "2022-05-25T13:55:00.790Z"
   },
   {
    "duration": 6,
    "start_time": "2022-05-25T13:55:00.822Z"
   },
   {
    "duration": 38,
    "start_time": "2022-05-25T13:55:00.830Z"
   },
   {
    "duration": 27,
    "start_time": "2022-05-25T13:55:00.870Z"
   },
   {
    "duration": 687,
    "start_time": "2022-05-25T13:59:23.600Z"
   },
   {
    "duration": 666,
    "start_time": "2022-05-25T14:02:58.251Z"
   },
   {
    "duration": 161,
    "start_time": "2022-05-25T14:02:58.919Z"
   },
   {
    "duration": 43,
    "start_time": "2022-05-25T14:02:59.083Z"
   },
   {
    "duration": 21,
    "start_time": "2022-05-25T14:02:59.130Z"
   },
   {
    "duration": 7,
    "start_time": "2022-05-25T14:02:59.154Z"
   },
   {
    "duration": 14,
    "start_time": "2022-05-25T14:02:59.163Z"
   },
   {
    "duration": 25,
    "start_time": "2022-05-25T14:02:59.193Z"
   },
   {
    "duration": 9,
    "start_time": "2022-05-25T14:02:59.221Z"
   },
   {
    "duration": 29,
    "start_time": "2022-05-25T14:02:59.232Z"
   },
   {
    "duration": 18,
    "start_time": "2022-05-25T14:02:59.265Z"
   },
   {
    "duration": 18,
    "start_time": "2022-05-25T14:02:59.285Z"
   },
   {
    "duration": 37,
    "start_time": "2022-05-25T14:02:59.304Z"
   },
   {
    "duration": 13,
    "start_time": "2022-05-25T14:02:59.342Z"
   },
   {
    "duration": 27,
    "start_time": "2022-05-25T14:02:59.356Z"
   },
   {
    "duration": 22,
    "start_time": "2022-05-25T14:02:59.385Z"
   },
   {
    "duration": 9,
    "start_time": "2022-05-25T14:02:59.409Z"
   },
   {
    "duration": 50,
    "start_time": "2022-05-25T14:02:59.419Z"
   },
   {
    "duration": 6,
    "start_time": "2022-05-25T14:02:59.471Z"
   },
   {
    "duration": 6,
    "start_time": "2022-05-25T14:02:59.478Z"
   },
   {
    "duration": 14,
    "start_time": "2022-05-25T14:02:59.486Z"
   },
   {
    "duration": 9,
    "start_time": "2022-05-25T14:02:59.502Z"
   },
   {
    "duration": 7,
    "start_time": "2022-05-25T14:02:59.513Z"
   },
   {
    "duration": 8,
    "start_time": "2022-05-25T14:02:59.522Z"
   },
   {
    "duration": 9,
    "start_time": "2022-05-25T14:02:59.531Z"
   },
   {
    "duration": 5,
    "start_time": "2022-05-25T14:02:59.542Z"
   },
   {
    "duration": 6,
    "start_time": "2022-05-25T14:02:59.550Z"
   },
   {
    "duration": 41,
    "start_time": "2022-05-25T14:02:59.558Z"
   },
   {
    "duration": 11,
    "start_time": "2022-05-25T14:02:59.603Z"
   },
   {
    "duration": 24,
    "start_time": "2022-05-25T14:02:59.617Z"
   },
   {
    "duration": 6,
    "start_time": "2022-05-25T14:02:59.643Z"
   },
   {
    "duration": 19,
    "start_time": "2022-05-25T14:02:59.650Z"
   },
   {
    "duration": 7,
    "start_time": "2022-05-25T14:02:59.693Z"
   },
   {
    "duration": 7,
    "start_time": "2022-05-25T14:02:59.701Z"
   },
   {
    "duration": 7,
    "start_time": "2022-05-25T14:02:59.709Z"
   },
   {
    "duration": 10,
    "start_time": "2022-05-25T14:02:59.717Z"
   },
   {
    "duration": 6,
    "start_time": "2022-05-25T14:02:59.728Z"
   },
   {
    "duration": 9,
    "start_time": "2022-05-25T14:02:59.735Z"
   },
   {
    "duration": 16,
    "start_time": "2022-05-25T14:02:59.745Z"
   },
   {
    "duration": 33,
    "start_time": "2022-05-25T14:02:59.762Z"
   },
   {
    "duration": 320,
    "start_time": "2022-05-25T14:02:59.797Z"
   },
   {
    "duration": 12,
    "start_time": "2022-05-25T14:03:00.119Z"
   },
   {
    "duration": 4,
    "start_time": "2022-05-25T14:03:00.133Z"
   },
   {
    "duration": 17,
    "start_time": "2022-05-25T14:03:00.139Z"
   },
   {
    "duration": 4,
    "start_time": "2022-05-25T14:03:00.158Z"
   },
   {
    "duration": 38,
    "start_time": "2022-05-25T14:03:00.163Z"
   },
   {
    "duration": 25,
    "start_time": "2022-05-25T14:03:00.203Z"
   },
   {
    "duration": 682,
    "start_time": "2022-05-25T14:04:53.035Z"
   },
   {
    "duration": 98,
    "start_time": "2022-05-25T14:04:53.719Z"
   },
   {
    "duration": 31,
    "start_time": "2022-05-25T14:04:53.819Z"
   },
   {
    "duration": 16,
    "start_time": "2022-05-25T14:04:53.852Z"
   },
   {
    "duration": 27,
    "start_time": "2022-05-25T14:04:53.870Z"
   },
   {
    "duration": 25,
    "start_time": "2022-05-25T14:04:53.899Z"
   },
   {
    "duration": 15,
    "start_time": "2022-05-25T14:04:53.926Z"
   },
   {
    "duration": 11,
    "start_time": "2022-05-25T14:04:53.942Z"
   },
   {
    "duration": 11,
    "start_time": "2022-05-25T14:04:53.955Z"
   },
   {
    "duration": 8,
    "start_time": "2022-05-25T14:04:53.969Z"
   },
   {
    "duration": 8,
    "start_time": "2022-05-25T14:04:53.979Z"
   },
   {
    "duration": 10,
    "start_time": "2022-05-25T14:04:53.994Z"
   },
   {
    "duration": 5,
    "start_time": "2022-05-25T14:04:54.006Z"
   },
   {
    "duration": 10,
    "start_time": "2022-05-25T14:04:54.012Z"
   },
   {
    "duration": 16,
    "start_time": "2022-05-25T14:04:54.024Z"
   },
   {
    "duration": 7,
    "start_time": "2022-05-25T14:04:54.042Z"
   },
   {
    "duration": 22,
    "start_time": "2022-05-25T14:04:54.051Z"
   },
   {
    "duration": 21,
    "start_time": "2022-05-25T14:04:54.075Z"
   },
   {
    "duration": 4,
    "start_time": "2022-05-25T14:04:54.098Z"
   },
   {
    "duration": 11,
    "start_time": "2022-05-25T14:04:54.104Z"
   },
   {
    "duration": 13,
    "start_time": "2022-05-25T14:04:54.116Z"
   },
   {
    "duration": 9,
    "start_time": "2022-05-25T14:04:54.130Z"
   },
   {
    "duration": 11,
    "start_time": "2022-05-25T14:04:54.141Z"
   },
   {
    "duration": 17,
    "start_time": "2022-05-25T14:04:54.154Z"
   },
   {
    "duration": 24,
    "start_time": "2022-05-25T14:04:54.173Z"
   },
   {
    "duration": 5,
    "start_time": "2022-05-25T14:04:54.198Z"
   },
   {
    "duration": 21,
    "start_time": "2022-05-25T14:04:54.205Z"
   },
   {
    "duration": 17,
    "start_time": "2022-05-25T14:04:54.230Z"
   },
   {
    "duration": 17,
    "start_time": "2022-05-25T14:04:54.249Z"
   },
   {
    "duration": 5,
    "start_time": "2022-05-25T14:04:54.268Z"
   },
   {
    "duration": 38,
    "start_time": "2022-05-25T14:04:54.275Z"
   },
   {
    "duration": 9,
    "start_time": "2022-05-25T14:04:54.316Z"
   },
   {
    "duration": 6,
    "start_time": "2022-05-25T14:04:54.327Z"
   },
   {
    "duration": 14,
    "start_time": "2022-05-25T14:04:54.336Z"
   },
   {
    "duration": 26,
    "start_time": "2022-05-25T14:04:54.352Z"
   },
   {
    "duration": 17,
    "start_time": "2022-05-25T14:04:54.380Z"
   },
   {
    "duration": 12,
    "start_time": "2022-05-25T14:04:54.398Z"
   },
   {
    "duration": 14,
    "start_time": "2022-05-25T14:04:54.412Z"
   },
   {
    "duration": 3,
    "start_time": "2022-05-25T14:04:54.428Z"
   },
   {
    "duration": 335,
    "start_time": "2022-05-25T14:04:54.433Z"
   },
   {
    "duration": 12,
    "start_time": "2022-05-25T14:04:54.770Z"
   },
   {
    "duration": 14,
    "start_time": "2022-05-25T14:04:54.784Z"
   },
   {
    "duration": 26,
    "start_time": "2022-05-25T14:04:54.800Z"
   },
   {
    "duration": 12,
    "start_time": "2022-05-25T14:04:54.828Z"
   },
   {
    "duration": 24,
    "start_time": "2022-05-25T14:04:54.842Z"
   },
   {
    "duration": 30,
    "start_time": "2022-05-25T14:04:54.869Z"
   },
   {
    "duration": 966,
    "start_time": "2022-05-25T14:06:55.337Z"
   },
   {
    "duration": 968,
    "start_time": "2022-05-25T14:07:17.457Z"
   },
   {
    "duration": 802,
    "start_time": "2022-05-25T14:07:57.191Z"
   },
   {
    "duration": 128,
    "start_time": "2022-05-25T14:07:57.996Z"
   },
   {
    "duration": 44,
    "start_time": "2022-05-25T14:07:58.126Z"
   },
   {
    "duration": 31,
    "start_time": "2022-05-25T14:07:58.172Z"
   },
   {
    "duration": 6,
    "start_time": "2022-05-25T14:07:58.205Z"
   },
   {
    "duration": 11,
    "start_time": "2022-05-25T14:07:58.212Z"
   },
   {
    "duration": 14,
    "start_time": "2022-05-25T14:07:58.224Z"
   },
   {
    "duration": 8,
    "start_time": "2022-05-25T14:07:58.239Z"
   },
   {
    "duration": 15,
    "start_time": "2022-05-25T14:07:58.249Z"
   },
   {
    "duration": 29,
    "start_time": "2022-05-25T14:07:58.266Z"
   },
   {
    "duration": 13,
    "start_time": "2022-05-25T14:07:58.298Z"
   },
   {
    "duration": 17,
    "start_time": "2022-05-25T14:07:58.313Z"
   },
   {
    "duration": 4,
    "start_time": "2022-05-25T14:07:58.332Z"
   },
   {
    "duration": 14,
    "start_time": "2022-05-25T14:07:58.341Z"
   },
   {
    "duration": 22,
    "start_time": "2022-05-25T14:07:58.357Z"
   },
   {
    "duration": 18,
    "start_time": "2022-05-25T14:07:58.382Z"
   },
   {
    "duration": 30,
    "start_time": "2022-05-25T14:07:58.402Z"
   },
   {
    "duration": 6,
    "start_time": "2022-05-25T14:07:58.434Z"
   },
   {
    "duration": 10,
    "start_time": "2022-05-25T14:07:58.442Z"
   },
   {
    "duration": 9,
    "start_time": "2022-05-25T14:07:58.454Z"
   },
   {
    "duration": 12,
    "start_time": "2022-05-25T14:07:58.466Z"
   },
   {
    "duration": 12,
    "start_time": "2022-05-25T14:07:58.496Z"
   },
   {
    "duration": 10,
    "start_time": "2022-05-25T14:07:58.510Z"
   },
   {
    "duration": 9,
    "start_time": "2022-05-25T14:07:58.523Z"
   },
   {
    "duration": 7,
    "start_time": "2022-05-25T14:07:58.534Z"
   },
   {
    "duration": 8,
    "start_time": "2022-05-25T14:07:58.543Z"
   },
   {
    "duration": 46,
    "start_time": "2022-05-25T14:07:58.553Z"
   },
   {
    "duration": 13,
    "start_time": "2022-05-25T14:07:58.601Z"
   },
   {
    "duration": 21,
    "start_time": "2022-05-25T14:07:58.616Z"
   },
   {
    "duration": 5,
    "start_time": "2022-05-25T14:07:58.639Z"
   },
   {
    "duration": 21,
    "start_time": "2022-05-25T14:07:58.646Z"
   },
   {
    "duration": 5,
    "start_time": "2022-05-25T14:07:58.668Z"
   },
   {
    "duration": 5,
    "start_time": "2022-05-25T14:07:58.695Z"
   },
   {
    "duration": 9,
    "start_time": "2022-05-25T14:07:58.702Z"
   },
   {
    "duration": 8,
    "start_time": "2022-05-25T14:07:58.713Z"
   },
   {
    "duration": 7,
    "start_time": "2022-05-25T14:07:58.723Z"
   },
   {
    "duration": 10,
    "start_time": "2022-05-25T14:07:58.731Z"
   },
   {
    "duration": 11,
    "start_time": "2022-05-25T14:07:58.742Z"
   },
   {
    "duration": 3,
    "start_time": "2022-05-25T14:07:58.754Z"
   },
   {
    "duration": 434,
    "start_time": "2022-05-25T14:07:58.758Z"
   },
   {
    "duration": 15,
    "start_time": "2022-05-25T14:07:59.197Z"
   },
   {
    "duration": 10,
    "start_time": "2022-05-25T14:07:59.214Z"
   },
   {
    "duration": 19,
    "start_time": "2022-05-25T14:07:59.226Z"
   },
   {
    "duration": 9,
    "start_time": "2022-05-25T14:07:59.247Z"
   },
   {
    "duration": 18,
    "start_time": "2022-05-25T14:07:59.258Z"
   },
   {
    "duration": 26,
    "start_time": "2022-05-25T14:07:59.295Z"
   },
   {
    "duration": 826,
    "start_time": "2022-05-25T14:07:59.323Z"
   },
   {
    "duration": 75,
    "start_time": "2022-05-25T14:08:54.842Z"
   },
   {
    "duration": 107,
    "start_time": "2022-05-25T14:09:02.962Z"
   },
   {
    "duration": 111,
    "start_time": "2022-05-25T14:10:55.074Z"
   },
   {
    "duration": 7,
    "start_time": "2022-05-25T14:11:38.415Z"
   },
   {
    "duration": 104,
    "start_time": "2022-05-25T14:13:10.131Z"
   },
   {
    "duration": 5,
    "start_time": "2022-05-25T14:13:26.911Z"
   },
   {
    "duration": 69,
    "start_time": "2022-05-26T08:27:22.268Z"
   },
   {
    "duration": 869,
    "start_time": "2022-05-26T08:27:36.070Z"
   },
   {
    "duration": 131,
    "start_time": "2022-05-26T08:27:36.941Z"
   },
   {
    "duration": 27,
    "start_time": "2022-05-26T08:27:37.074Z"
   },
   {
    "duration": 13,
    "start_time": "2022-05-26T08:27:37.103Z"
   },
   {
    "duration": 4,
    "start_time": "2022-05-26T08:27:37.118Z"
   },
   {
    "duration": 5,
    "start_time": "2022-05-26T08:27:37.123Z"
   },
   {
    "duration": 10,
    "start_time": "2022-05-26T08:27:37.130Z"
   },
   {
    "duration": 39,
    "start_time": "2022-05-26T08:27:37.141Z"
   },
   {
    "duration": 13,
    "start_time": "2022-05-26T08:27:37.183Z"
   },
   {
    "duration": 12,
    "start_time": "2022-05-26T08:27:37.197Z"
   },
   {
    "duration": 5,
    "start_time": "2022-05-26T08:27:37.211Z"
   },
   {
    "duration": 10,
    "start_time": "2022-05-26T08:27:37.217Z"
   },
   {
    "duration": 3,
    "start_time": "2022-05-26T08:27:37.229Z"
   },
   {
    "duration": 14,
    "start_time": "2022-05-26T08:27:37.234Z"
   },
   {
    "duration": 34,
    "start_time": "2022-05-26T08:27:37.250Z"
   },
   {
    "duration": 5,
    "start_time": "2022-05-26T08:27:37.286Z"
   },
   {
    "duration": 21,
    "start_time": "2022-05-26T08:27:37.293Z"
   },
   {
    "duration": 5,
    "start_time": "2022-05-26T08:27:37.316Z"
   },
   {
    "duration": 7,
    "start_time": "2022-05-26T08:27:37.322Z"
   },
   {
    "duration": 10,
    "start_time": "2022-05-26T08:27:37.331Z"
   },
   {
    "duration": 34,
    "start_time": "2022-05-26T08:27:37.342Z"
   },
   {
    "duration": 7,
    "start_time": "2022-05-26T08:27:37.377Z"
   },
   {
    "duration": 6,
    "start_time": "2022-05-26T08:27:37.385Z"
   },
   {
    "duration": 10,
    "start_time": "2022-05-26T08:27:37.392Z"
   },
   {
    "duration": 5,
    "start_time": "2022-05-26T08:27:37.403Z"
   },
   {
    "duration": 4,
    "start_time": "2022-05-26T08:27:37.409Z"
   },
   {
    "duration": 8,
    "start_time": "2022-05-26T08:27:37.414Z"
   },
   {
    "duration": 52,
    "start_time": "2022-05-26T08:27:37.424Z"
   },
   {
    "duration": 17,
    "start_time": "2022-05-26T08:27:37.479Z"
   },
   {
    "duration": 5,
    "start_time": "2022-05-26T08:27:37.498Z"
   },
   {
    "duration": 17,
    "start_time": "2022-05-26T08:27:37.505Z"
   },
   {
    "duration": 6,
    "start_time": "2022-05-26T08:27:37.524Z"
   },
   {
    "duration": 5,
    "start_time": "2022-05-26T08:27:37.532Z"
   },
   {
    "duration": 40,
    "start_time": "2022-05-26T08:27:37.539Z"
   },
   {
    "duration": 7,
    "start_time": "2022-05-26T08:27:37.581Z"
   },
   {
    "duration": 6,
    "start_time": "2022-05-26T08:27:37.590Z"
   },
   {
    "duration": 11,
    "start_time": "2022-05-26T08:27:37.597Z"
   },
   {
    "duration": 12,
    "start_time": "2022-05-26T08:27:37.610Z"
   },
   {
    "duration": 3,
    "start_time": "2022-05-26T08:27:37.624Z"
   },
   {
    "duration": 327,
    "start_time": "2022-05-26T08:27:37.629Z"
   },
   {
    "duration": 22,
    "start_time": "2022-05-26T08:27:37.960Z"
   },
   {
    "duration": 4,
    "start_time": "2022-05-26T08:27:37.983Z"
   },
   {
    "duration": 17,
    "start_time": "2022-05-26T08:27:37.989Z"
   },
   {
    "duration": 5,
    "start_time": "2022-05-26T08:27:38.008Z"
   },
   {
    "duration": 12,
    "start_time": "2022-05-26T08:27:38.015Z"
   },
   {
    "duration": 56,
    "start_time": "2022-05-26T08:27:38.028Z"
   },
   {
    "duration": 123,
    "start_time": "2022-05-26T08:27:38.085Z"
   },
   {
    "duration": 6,
    "start_time": "2022-05-26T08:27:38.212Z"
   },
   {
    "duration": 113,
    "start_time": "2022-05-26T08:27:38.220Z"
   },
   {
    "duration": 1,
    "start_time": "2022-05-26T08:27:38.335Z"
   },
   {
    "duration": 0,
    "start_time": "2022-05-26T08:27:38.337Z"
   },
   {
    "duration": 116,
    "start_time": "2022-05-26T08:28:06.416Z"
   },
   {
    "duration": 121,
    "start_time": "2022-05-26T08:34:21.123Z"
   },
   {
    "duration": 103,
    "start_time": "2022-05-26T08:34:27.028Z"
   },
   {
    "duration": 162,
    "start_time": "2022-05-26T08:34:31.493Z"
   },
   {
    "duration": 118,
    "start_time": "2022-05-26T08:35:05.685Z"
   },
   {
    "duration": 112,
    "start_time": "2022-05-26T08:35:10.625Z"
   },
   {
    "duration": 179,
    "start_time": "2022-05-26T08:35:20.239Z"
   },
   {
    "duration": 122,
    "start_time": "2022-05-26T08:36:57.723Z"
   },
   {
    "duration": 111,
    "start_time": "2022-05-26T08:43:29.089Z"
   },
   {
    "duration": 6,
    "start_time": "2022-05-26T08:45:58.406Z"
   },
   {
    "duration": 111,
    "start_time": "2022-05-26T08:50:20.052Z"
   },
   {
    "duration": 27,
    "start_time": "2022-05-26T09:06:14.439Z"
   },
   {
    "duration": 159,
    "start_time": "2022-05-26T09:07:27.312Z"
   },
   {
    "duration": 563,
    "start_time": "2022-05-26T09:07:44.726Z"
   },
   {
    "duration": 112,
    "start_time": "2022-05-26T09:08:17.724Z"
   },
   {
    "duration": 450,
    "start_time": "2022-05-26T09:08:24.375Z"
   },
   {
    "duration": 115,
    "start_time": "2022-05-26T09:10:06.710Z"
   },
   {
    "duration": 492,
    "start_time": "2022-05-26T09:10:15.014Z"
   },
   {
    "duration": 775,
    "start_time": "2022-05-26T09:15:31.839Z"
   },
   {
    "duration": 984,
    "start_time": "2022-05-26T09:15:41.606Z"
   },
   {
    "duration": 537,
    "start_time": "2022-05-26T09:16:02.728Z"
   },
   {
    "duration": 961,
    "start_time": "2022-05-26T09:16:15.483Z"
   },
   {
    "duration": 877,
    "start_time": "2022-05-26T09:22:20.319Z"
   },
   {
    "duration": 133,
    "start_time": "2022-05-26T09:25:20.272Z"
   },
   {
    "duration": 234,
    "start_time": "2022-05-26T09:25:31.866Z"
   },
   {
    "duration": 137,
    "start_time": "2022-05-26T09:25:59.117Z"
   },
   {
    "duration": 117,
    "start_time": "2022-05-26T09:26:07.055Z"
   },
   {
    "duration": 128,
    "start_time": "2022-05-26T09:26:17.509Z"
   },
   {
    "duration": 128,
    "start_time": "2022-05-26T09:27:25.677Z"
   },
   {
    "duration": 119,
    "start_time": "2022-05-26T09:29:08.884Z"
   },
   {
    "duration": 108,
    "start_time": "2022-05-26T09:29:28.508Z"
   },
   {
    "duration": 223,
    "start_time": "2022-05-26T09:36:08.477Z"
   },
   {
    "duration": 297,
    "start_time": "2022-05-26T09:43:52.858Z"
   },
   {
    "duration": 4,
    "start_time": "2022-05-26T09:45:25.749Z"
   },
   {
    "duration": 199,
    "start_time": "2022-05-26T09:49:30.746Z"
   },
   {
    "duration": 121,
    "start_time": "2022-05-26T09:51:04.062Z"
   },
   {
    "duration": 129,
    "start_time": "2022-05-26T09:51:19.941Z"
   },
   {
    "duration": 106,
    "start_time": "2022-05-26T09:56:19.683Z"
   },
   {
    "duration": 144,
    "start_time": "2022-05-26T09:56:30.569Z"
   },
   {
    "duration": 25,
    "start_time": "2022-05-26T09:57:52.695Z"
   },
   {
    "duration": 110,
    "start_time": "2022-05-26T10:04:40.603Z"
   },
   {
    "duration": 132,
    "start_time": "2022-05-26T10:04:44.465Z"
   },
   {
    "duration": 126,
    "start_time": "2022-05-26T10:05:00.437Z"
   },
   {
    "duration": 26,
    "start_time": "2022-05-26T10:09:34.376Z"
   },
   {
    "duration": 23,
    "start_time": "2022-05-26T10:09:40.466Z"
   },
   {
    "duration": 75,
    "start_time": "2022-05-26T11:13:16.346Z"
   },
   {
    "duration": 75,
    "start_time": "2022-05-26T11:13:23.748Z"
   },
   {
    "duration": 74,
    "start_time": "2022-05-26T11:13:32.453Z"
   },
   {
    "duration": 78,
    "start_time": "2022-05-26T11:14:14.356Z"
   },
   {
    "duration": 8,
    "start_time": "2022-05-26T11:14:35.748Z"
   },
   {
    "duration": 109,
    "start_time": "2022-05-26T11:15:27.954Z"
   },
   {
    "duration": 9,
    "start_time": "2022-05-26T11:16:11.529Z"
   },
   {
    "duration": 9,
    "start_time": "2022-05-26T11:16:17.178Z"
   },
   {
    "duration": 733,
    "start_time": "2022-05-26T11:22:05.274Z"
   },
   {
    "duration": 12,
    "start_time": "2022-05-26T11:22:27.418Z"
   },
   {
    "duration": 13,
    "start_time": "2022-05-26T11:26:10.626Z"
   },
   {
    "duration": 15,
    "start_time": "2022-05-26T11:27:00.188Z"
   },
   {
    "duration": 660,
    "start_time": "2022-05-26T11:27:12.818Z"
   },
   {
    "duration": 86,
    "start_time": "2022-05-26T11:27:13.480Z"
   },
   {
    "duration": 28,
    "start_time": "2022-05-26T11:27:13.568Z"
   },
   {
    "duration": 17,
    "start_time": "2022-05-26T11:27:13.598Z"
   },
   {
    "duration": 4,
    "start_time": "2022-05-26T11:27:13.617Z"
   },
   {
    "duration": 8,
    "start_time": "2022-05-26T11:27:13.623Z"
   },
   {
    "duration": 13,
    "start_time": "2022-05-26T11:27:13.633Z"
   },
   {
    "duration": 27,
    "start_time": "2022-05-26T11:27:13.648Z"
   },
   {
    "duration": 6,
    "start_time": "2022-05-26T11:27:13.676Z"
   },
   {
    "duration": 5,
    "start_time": "2022-05-26T11:27:13.685Z"
   },
   {
    "duration": 8,
    "start_time": "2022-05-26T11:27:13.692Z"
   },
   {
    "duration": 8,
    "start_time": "2022-05-26T11:27:13.701Z"
   },
   {
    "duration": 5,
    "start_time": "2022-05-26T11:27:13.710Z"
   },
   {
    "duration": 5,
    "start_time": "2022-05-26T11:27:13.716Z"
   },
   {
    "duration": 11,
    "start_time": "2022-05-26T11:27:13.723Z"
   },
   {
    "duration": 6,
    "start_time": "2022-05-26T11:27:13.735Z"
   },
   {
    "duration": 34,
    "start_time": "2022-05-26T11:27:13.742Z"
   },
   {
    "duration": 4,
    "start_time": "2022-05-26T11:27:13.778Z"
   },
   {
    "duration": 11,
    "start_time": "2022-05-26T11:27:13.783Z"
   },
   {
    "duration": 9,
    "start_time": "2022-05-26T11:27:13.795Z"
   },
   {
    "duration": 8,
    "start_time": "2022-05-26T11:27:13.806Z"
   },
   {
    "duration": 7,
    "start_time": "2022-05-26T11:27:13.816Z"
   },
   {
    "duration": 13,
    "start_time": "2022-05-26T11:27:13.824Z"
   },
   {
    "duration": 12,
    "start_time": "2022-05-26T11:27:13.838Z"
   },
   {
    "duration": 25,
    "start_time": "2022-05-26T11:27:13.852Z"
   },
   {
    "duration": 5,
    "start_time": "2022-05-26T11:27:13.879Z"
   },
   {
    "duration": 8,
    "start_time": "2022-05-26T11:27:13.886Z"
   },
   {
    "duration": 8,
    "start_time": "2022-05-26T11:27:13.897Z"
   },
   {
    "duration": 14,
    "start_time": "2022-05-26T11:27:13.906Z"
   },
   {
    "duration": 4,
    "start_time": "2022-05-26T11:27:13.922Z"
   },
   {
    "duration": 14,
    "start_time": "2022-05-26T11:27:13.927Z"
   },
   {
    "duration": 35,
    "start_time": "2022-05-26T11:27:13.942Z"
   },
   {
    "duration": 8,
    "start_time": "2022-05-26T11:27:13.978Z"
   },
   {
    "duration": 16,
    "start_time": "2022-05-26T11:27:13.987Z"
   },
   {
    "duration": 6,
    "start_time": "2022-05-26T11:27:14.005Z"
   },
   {
    "duration": 8,
    "start_time": "2022-05-26T11:27:14.012Z"
   },
   {
    "duration": 11,
    "start_time": "2022-05-26T11:27:14.021Z"
   },
   {
    "duration": 9,
    "start_time": "2022-05-26T11:27:14.034Z"
   },
   {
    "duration": 3,
    "start_time": "2022-05-26T11:27:14.044Z"
   },
   {
    "duration": 301,
    "start_time": "2022-05-26T11:27:14.048Z"
   },
   {
    "duration": 10,
    "start_time": "2022-05-26T11:27:14.350Z"
   },
   {
    "duration": 14,
    "start_time": "2022-05-26T11:27:14.362Z"
   },
   {
    "duration": 14,
    "start_time": "2022-05-26T11:27:14.377Z"
   },
   {
    "duration": 3,
    "start_time": "2022-05-26T11:27:14.392Z"
   },
   {
    "duration": 12,
    "start_time": "2022-05-26T11:27:14.397Z"
   },
   {
    "duration": 22,
    "start_time": "2022-05-26T11:27:14.410Z"
   },
   {
    "duration": 947,
    "start_time": "2022-05-26T11:27:14.433Z"
   },
   {
    "duration": 123,
    "start_time": "2022-05-26T11:27:15.382Z"
   },
   {
    "duration": 218,
    "start_time": "2022-05-26T11:27:15.506Z"
   },
   {
    "duration": 116,
    "start_time": "2022-05-26T11:27:15.725Z"
   },
   {
    "duration": 136,
    "start_time": "2022-05-26T11:27:15.842Z"
   },
   {
    "duration": 82,
    "start_time": "2022-05-26T11:27:15.979Z"
   },
   {
    "duration": 0,
    "start_time": "2022-05-26T11:27:16.062Z"
   },
   {
    "duration": 0,
    "start_time": "2022-05-26T11:27:16.063Z"
   },
   {
    "duration": 0,
    "start_time": "2022-05-26T11:27:16.075Z"
   },
   {
    "duration": 0,
    "start_time": "2022-05-26T11:27:16.076Z"
   },
   {
    "duration": 0,
    "start_time": "2022-05-26T11:27:16.076Z"
   },
   {
    "duration": 0,
    "start_time": "2022-05-26T11:27:16.077Z"
   },
   {
    "duration": 0,
    "start_time": "2022-05-26T11:27:16.078Z"
   },
   {
    "duration": 0,
    "start_time": "2022-05-26T11:27:16.078Z"
   },
   {
    "duration": 0,
    "start_time": "2022-05-26T11:27:16.079Z"
   },
   {
    "duration": 130,
    "start_time": "2022-05-26T11:39:39.875Z"
   },
   {
    "duration": 1049,
    "start_time": "2022-05-26T11:40:16.722Z"
   },
   {
    "duration": 125,
    "start_time": "2022-05-26T11:40:59.726Z"
   },
   {
    "duration": 17,
    "start_time": "2022-05-26T11:42:06.867Z"
   },
   {
    "duration": 1948,
    "start_time": "2022-05-26T11:43:18.128Z"
   },
   {
    "duration": 14,
    "start_time": "2022-05-26T11:43:45.649Z"
   },
   {
    "duration": 176,
    "start_time": "2022-05-26T11:43:54.963Z"
   },
   {
    "duration": 14,
    "start_time": "2022-05-26T11:44:20.338Z"
   },
   {
    "duration": 1613,
    "start_time": "2022-05-26T11:44:39.244Z"
   },
   {
    "duration": 113,
    "start_time": "2022-05-26T11:45:09.504Z"
   },
   {
    "duration": 104,
    "start_time": "2022-05-26T11:45:16.862Z"
   },
   {
    "duration": 116,
    "start_time": "2022-05-26T11:45:21.245Z"
   },
   {
    "duration": 125,
    "start_time": "2022-05-26T11:45:25.660Z"
   },
   {
    "duration": 126,
    "start_time": "2022-05-26T11:45:31.935Z"
   },
   {
    "duration": 119,
    "start_time": "2022-05-26T11:45:39.572Z"
   },
   {
    "duration": 100,
    "start_time": "2022-05-26T11:48:06.859Z"
   },
   {
    "duration": 3,
    "start_time": "2022-05-26T11:48:18.524Z"
   },
   {
    "duration": 91,
    "start_time": "2022-05-26T11:48:18.529Z"
   },
   {
    "duration": 25,
    "start_time": "2022-05-26T11:48:18.622Z"
   },
   {
    "duration": 34,
    "start_time": "2022-05-26T11:48:18.648Z"
   },
   {
    "duration": 4,
    "start_time": "2022-05-26T11:48:18.684Z"
   },
   {
    "duration": 6,
    "start_time": "2022-05-26T11:48:18.689Z"
   },
   {
    "duration": 22,
    "start_time": "2022-05-26T11:48:18.697Z"
   },
   {
    "duration": 5,
    "start_time": "2022-05-26T11:48:18.721Z"
   },
   {
    "duration": 8,
    "start_time": "2022-05-26T11:48:18.727Z"
   },
   {
    "duration": 8,
    "start_time": "2022-05-26T11:48:18.736Z"
   },
   {
    "duration": 130,
    "start_time": "2022-05-26T11:48:18.746Z"
   },
   {
    "duration": 7,
    "start_time": "2022-05-26T11:48:18.877Z"
   },
   {
    "duration": 4,
    "start_time": "2022-05-26T11:48:18.885Z"
   },
   {
    "duration": 6,
    "start_time": "2022-05-26T11:48:18.890Z"
   },
   {
    "duration": 9,
    "start_time": "2022-05-26T11:48:18.898Z"
   },
   {
    "duration": 7,
    "start_time": "2022-05-26T11:48:18.909Z"
   },
   {
    "duration": 11,
    "start_time": "2022-05-26T11:48:18.917Z"
   },
   {
    "duration": 5,
    "start_time": "2022-05-26T11:48:18.929Z"
   },
   {
    "duration": 40,
    "start_time": "2022-05-26T11:48:18.935Z"
   },
   {
    "duration": 6,
    "start_time": "2022-05-26T11:48:18.977Z"
   },
   {
    "duration": 8,
    "start_time": "2022-05-26T11:48:18.984Z"
   },
   {
    "duration": 7,
    "start_time": "2022-05-26T11:48:18.993Z"
   },
   {
    "duration": 7,
    "start_time": "2022-05-26T11:48:19.001Z"
   },
   {
    "duration": 8,
    "start_time": "2022-05-26T11:48:19.009Z"
   },
   {
    "duration": 3,
    "start_time": "2022-05-26T11:48:19.019Z"
   },
   {
    "duration": 5,
    "start_time": "2022-05-26T11:48:19.023Z"
   },
   {
    "duration": 7,
    "start_time": "2022-05-26T11:48:19.029Z"
   },
   {
    "duration": 39,
    "start_time": "2022-05-26T11:48:19.037Z"
   },
   {
    "duration": 13,
    "start_time": "2022-05-26T11:48:19.079Z"
   },
   {
    "duration": 4,
    "start_time": "2022-05-26T11:48:19.093Z"
   },
   {
    "duration": 15,
    "start_time": "2022-05-26T11:48:19.098Z"
   },
   {
    "duration": 5,
    "start_time": "2022-05-26T11:48:19.114Z"
   },
   {
    "duration": 4,
    "start_time": "2022-05-26T11:48:19.121Z"
   },
   {
    "duration": 7,
    "start_time": "2022-05-26T11:48:19.127Z"
   },
   {
    "duration": 7,
    "start_time": "2022-05-26T11:48:19.135Z"
   },
   {
    "duration": 36,
    "start_time": "2022-05-26T11:48:19.143Z"
   },
   {
    "duration": 7,
    "start_time": "2022-05-26T11:48:19.180Z"
   },
   {
    "duration": 11,
    "start_time": "2022-05-26T11:48:19.189Z"
   },
   {
    "duration": 3,
    "start_time": "2022-05-26T11:48:19.201Z"
   },
   {
    "duration": 314,
    "start_time": "2022-05-26T11:48:19.205Z"
   },
   {
    "duration": 12,
    "start_time": "2022-05-26T11:48:19.521Z"
   },
   {
    "duration": 4,
    "start_time": "2022-05-26T11:48:19.534Z"
   },
   {
    "duration": 13,
    "start_time": "2022-05-26T11:48:19.539Z"
   },
   {
    "duration": 23,
    "start_time": "2022-05-26T11:48:19.553Z"
   },
   {
    "duration": 13,
    "start_time": "2022-05-26T11:48:19.578Z"
   },
   {
    "duration": 22,
    "start_time": "2022-05-26T11:48:19.592Z"
   },
   {
    "duration": 924,
    "start_time": "2022-05-26T11:48:19.616Z"
   },
   {
    "duration": 262,
    "start_time": "2022-05-26T11:48:20.541Z"
   },
   {
    "duration": 228,
    "start_time": "2022-05-26T11:48:20.804Z"
   },
   {
    "duration": 119,
    "start_time": "2022-05-26T11:48:21.033Z"
   },
   {
    "duration": 139,
    "start_time": "2022-05-26T11:48:21.153Z"
   },
   {
    "duration": 109,
    "start_time": "2022-05-26T11:48:21.293Z"
   },
   {
    "duration": 0,
    "start_time": "2022-05-26T11:48:21.404Z"
   },
   {
    "duration": 0,
    "start_time": "2022-05-26T11:48:21.405Z"
   },
   {
    "duration": 0,
    "start_time": "2022-05-26T11:48:21.406Z"
   },
   {
    "duration": 0,
    "start_time": "2022-05-26T11:48:21.406Z"
   },
   {
    "duration": 0,
    "start_time": "2022-05-26T11:48:21.407Z"
   },
   {
    "duration": 0,
    "start_time": "2022-05-26T11:48:21.409Z"
   },
   {
    "duration": 0,
    "start_time": "2022-05-26T11:48:21.410Z"
   },
   {
    "duration": 0,
    "start_time": "2022-05-26T11:48:21.411Z"
   },
   {
    "duration": 0,
    "start_time": "2022-05-26T11:48:21.413Z"
   },
   {
    "duration": 6,
    "start_time": "2022-05-26T11:48:32.753Z"
   },
   {
    "duration": 111,
    "start_time": "2022-05-26T11:49:07.120Z"
   },
   {
    "duration": 102,
    "start_time": "2022-05-26T11:49:13.448Z"
   },
   {
    "duration": 139,
    "start_time": "2022-05-26T11:50:12.385Z"
   },
   {
    "duration": 126,
    "start_time": "2022-05-26T11:50:27.459Z"
   },
   {
    "duration": 108,
    "start_time": "2022-05-26T11:50:57.489Z"
   },
   {
    "duration": 10,
    "start_time": "2022-05-26T11:52:25.811Z"
   },
   {
    "duration": 122,
    "start_time": "2022-05-26T11:53:18.631Z"
   },
   {
    "duration": 129,
    "start_time": "2022-05-26T11:53:33.973Z"
   },
   {
    "duration": 174,
    "start_time": "2022-05-26T12:00:17.142Z"
   },
   {
    "duration": 170,
    "start_time": "2022-05-26T12:00:30.215Z"
   },
   {
    "duration": 272,
    "start_time": "2022-05-26T12:00:54.497Z"
   },
   {
    "duration": 222,
    "start_time": "2022-05-26T12:08:39.196Z"
   },
   {
    "duration": 53,
    "start_time": "2022-05-26T12:13:54.886Z"
   },
   {
    "duration": 61,
    "start_time": "2022-05-26T12:14:00.546Z"
   },
   {
    "duration": 161,
    "start_time": "2022-05-26T12:14:05.165Z"
   },
   {
    "duration": 159,
    "start_time": "2022-05-26T12:15:04.466Z"
   },
   {
    "duration": 166,
    "start_time": "2022-05-26T12:15:17.082Z"
   },
   {
    "duration": 96,
    "start_time": "2022-05-26T12:15:26.622Z"
   },
   {
    "duration": 89,
    "start_time": "2022-05-26T12:17:29.200Z"
   },
   {
    "duration": 169,
    "start_time": "2022-05-26T12:18:03.441Z"
   },
   {
    "duration": 101,
    "start_time": "2022-05-26T12:18:12.275Z"
   },
   {
    "duration": 66,
    "start_time": "2022-05-26T12:18:50.914Z"
   },
   {
    "duration": 86,
    "start_time": "2022-05-26T12:18:59.533Z"
   },
   {
    "duration": 32,
    "start_time": "2022-05-26T12:19:16.206Z"
   },
   {
    "duration": 85,
    "start_time": "2022-05-26T12:19:20.612Z"
   },
   {
    "duration": 3,
    "start_time": "2022-05-26T12:19:28.066Z"
   },
   {
    "duration": 83,
    "start_time": "2022-05-26T12:19:28.071Z"
   },
   {
    "duration": 22,
    "start_time": "2022-05-26T12:19:28.156Z"
   },
   {
    "duration": 19,
    "start_time": "2022-05-26T12:19:28.179Z"
   },
   {
    "duration": 4,
    "start_time": "2022-05-26T12:19:28.200Z"
   },
   {
    "duration": 5,
    "start_time": "2022-05-26T12:19:28.206Z"
   },
   {
    "duration": 13,
    "start_time": "2022-05-26T12:19:28.213Z"
   },
   {
    "duration": 6,
    "start_time": "2022-05-26T12:19:28.228Z"
   },
   {
    "duration": 7,
    "start_time": "2022-05-26T12:19:28.236Z"
   },
   {
    "duration": 5,
    "start_time": "2022-05-26T12:19:28.245Z"
   },
   {
    "duration": 3,
    "start_time": "2022-05-26T12:19:28.276Z"
   },
   {
    "duration": 7,
    "start_time": "2022-05-26T12:19:28.280Z"
   },
   {
    "duration": 3,
    "start_time": "2022-05-26T12:19:28.288Z"
   },
   {
    "duration": 9,
    "start_time": "2022-05-26T12:19:28.292Z"
   },
   {
    "duration": 10,
    "start_time": "2022-05-26T12:19:28.302Z"
   },
   {
    "duration": 6,
    "start_time": "2022-05-26T12:19:28.313Z"
   },
   {
    "duration": 14,
    "start_time": "2022-05-26T12:19:28.320Z"
   },
   {
    "duration": 4,
    "start_time": "2022-05-26T12:19:28.336Z"
   },
   {
    "duration": 6,
    "start_time": "2022-05-26T12:19:28.341Z"
   },
   {
    "duration": 28,
    "start_time": "2022-05-26T12:19:28.348Z"
   },
   {
    "duration": 5,
    "start_time": "2022-05-26T12:19:28.377Z"
   },
   {
    "duration": 5,
    "start_time": "2022-05-26T12:19:28.384Z"
   },
   {
    "duration": 7,
    "start_time": "2022-05-26T12:19:28.390Z"
   },
   {
    "duration": 15,
    "start_time": "2022-05-26T12:19:28.398Z"
   },
   {
    "duration": 4,
    "start_time": "2022-05-26T12:19:28.415Z"
   },
   {
    "duration": 5,
    "start_time": "2022-05-26T12:19:28.420Z"
   },
   {
    "duration": 7,
    "start_time": "2022-05-26T12:19:28.426Z"
   },
   {
    "duration": 41,
    "start_time": "2022-05-26T12:19:28.434Z"
   },
   {
    "duration": 11,
    "start_time": "2022-05-26T12:19:28.478Z"
   },
   {
    "duration": 3,
    "start_time": "2022-05-26T12:19:28.490Z"
   },
   {
    "duration": 14,
    "start_time": "2022-05-26T12:19:28.495Z"
   },
   {
    "duration": 5,
    "start_time": "2022-05-26T12:19:28.510Z"
   },
   {
    "duration": 7,
    "start_time": "2022-05-26T12:19:28.516Z"
   },
   {
    "duration": 6,
    "start_time": "2022-05-26T12:19:28.524Z"
   },
   {
    "duration": 7,
    "start_time": "2022-05-26T12:19:28.531Z"
   },
   {
    "duration": 35,
    "start_time": "2022-05-26T12:19:28.540Z"
   },
   {
    "duration": 5,
    "start_time": "2022-05-26T12:19:28.576Z"
   },
   {
    "duration": 11,
    "start_time": "2022-05-26T12:19:28.582Z"
   },
   {
    "duration": 2,
    "start_time": "2022-05-26T12:19:28.595Z"
   },
   {
    "duration": 298,
    "start_time": "2022-05-26T12:19:28.599Z"
   },
   {
    "duration": 12,
    "start_time": "2022-05-26T12:19:28.898Z"
   },
   {
    "duration": 6,
    "start_time": "2022-05-26T12:19:28.911Z"
   },
   {
    "duration": 12,
    "start_time": "2022-05-26T12:19:28.919Z"
   },
   {
    "duration": 4,
    "start_time": "2022-05-26T12:19:28.932Z"
   },
   {
    "duration": 13,
    "start_time": "2022-05-26T12:19:28.937Z"
   },
   {
    "duration": 43,
    "start_time": "2022-05-26T12:19:28.951Z"
   },
   {
    "duration": 1026,
    "start_time": "2022-05-26T12:19:28.995Z"
   },
   {
    "duration": 128,
    "start_time": "2022-05-26T12:19:30.022Z"
   },
   {
    "duration": 229,
    "start_time": "2022-05-26T12:19:30.151Z"
   },
   {
    "duration": 135,
    "start_time": "2022-05-26T12:19:30.381Z"
   },
   {
    "duration": 137,
    "start_time": "2022-05-26T12:19:30.517Z"
   },
   {
    "duration": 94,
    "start_time": "2022-05-26T12:19:30.655Z"
   },
   {
    "duration": 249,
    "start_time": "2022-05-26T12:19:30.751Z"
   },
   {
    "duration": 119,
    "start_time": "2022-05-26T12:19:31.002Z"
   },
   {
    "duration": 102,
    "start_time": "2022-05-26T12:19:31.122Z"
   },
   {
    "duration": 4,
    "start_time": "2022-05-26T12:19:31.225Z"
   },
   {
    "duration": 123,
    "start_time": "2022-05-26T12:19:31.230Z"
   },
   {
    "duration": 122,
    "start_time": "2022-05-26T12:19:31.354Z"
   },
   {
    "duration": 4,
    "start_time": "2022-05-26T12:19:31.477Z"
   },
   {
    "duration": 338,
    "start_time": "2022-05-26T12:19:31.483Z"
   },
   {
    "duration": 219,
    "start_time": "2022-05-26T12:19:31.874Z"
   },
   {
    "duration": 5,
    "start_time": "2022-05-26T12:19:32.094Z"
   },
   {
    "duration": 772,
    "start_time": "2022-05-26T12:20:37.137Z"
   },
   {
    "duration": 1168,
    "start_time": "2022-05-26T12:20:42.965Z"
   },
   {
    "duration": 83,
    "start_time": "2022-05-26T12:21:15.549Z"
   },
   {
    "duration": 119,
    "start_time": "2022-05-26T12:23:20.838Z"
   },
   {
    "duration": 34,
    "start_time": "2022-05-26T12:32:41.897Z"
   },
   {
    "duration": 81,
    "start_time": "2022-05-26T12:33:16.255Z"
   },
   {
    "duration": 80,
    "start_time": "2022-05-26T12:34:50.818Z"
   },
   {
    "duration": 119,
    "start_time": "2022-05-26T12:35:07.566Z"
   },
   {
    "duration": 80,
    "start_time": "2022-05-26T12:35:19.457Z"
   },
   {
    "duration": 129,
    "start_time": "2022-05-26T12:55:22.899Z"
   },
   {
    "duration": 125,
    "start_time": "2022-05-26T12:55:32.416Z"
   },
   {
    "duration": 135,
    "start_time": "2022-05-26T12:57:23.046Z"
   },
   {
    "duration": 212,
    "start_time": "2022-05-26T12:57:33.406Z"
   },
   {
    "duration": 9,
    "start_time": "2022-05-26T12:58:18.033Z"
   },
   {
    "duration": 11,
    "start_time": "2022-05-26T13:06:03.039Z"
   },
   {
    "duration": 9,
    "start_time": "2022-05-26T13:06:19.068Z"
   },
   {
    "duration": 12,
    "start_time": "2022-05-26T13:06:26.459Z"
   },
   {
    "duration": 126,
    "start_time": "2022-05-26T13:24:42.224Z"
   },
   {
    "duration": 140,
    "start_time": "2022-05-26T13:26:02.628Z"
   },
   {
    "duration": 132,
    "start_time": "2022-05-26T13:26:10.045Z"
   },
   {
    "duration": 181,
    "start_time": "2022-05-26T13:26:15.829Z"
   },
   {
    "duration": 214,
    "start_time": "2022-05-26T13:30:51.344Z"
   },
   {
    "duration": 397,
    "start_time": "2022-05-26T13:31:50.919Z"
   },
   {
    "duration": 129,
    "start_time": "2022-05-26T13:32:06.316Z"
   },
   {
    "duration": 188,
    "start_time": "2022-05-26T13:32:10.385Z"
   },
   {
    "duration": 182,
    "start_time": "2022-05-26T13:35:03.288Z"
   },
   {
    "duration": 202,
    "start_time": "2022-05-26T14:00:03.988Z"
   },
   {
    "duration": 186,
    "start_time": "2022-05-26T14:00:17.422Z"
   },
   {
    "duration": 112,
    "start_time": "2022-05-26T14:08:50.287Z"
   },
   {
    "duration": 5,
    "start_time": "2022-05-26T14:09:17.920Z"
   },
   {
    "duration": 954,
    "start_time": "2022-05-26T14:11:42.387Z"
   },
   {
    "duration": 663,
    "start_time": "2022-05-26T14:15:37.907Z"
   },
   {
    "duration": 818,
    "start_time": "2022-05-26T14:15:48.208Z"
   },
   {
    "duration": 733,
    "start_time": "2022-05-26T14:16:34.306Z"
   },
   {
    "duration": 925,
    "start_time": "2022-05-26T14:18:11.090Z"
   },
   {
    "duration": 922,
    "start_time": "2022-05-26T14:18:35.820Z"
   },
   {
    "duration": 742,
    "start_time": "2022-05-26T14:18:45.891Z"
   },
   {
    "duration": 848,
    "start_time": "2022-05-26T14:19:18.317Z"
   },
   {
    "duration": 772,
    "start_time": "2022-05-26T14:19:22.208Z"
   },
   {
    "duration": 885,
    "start_time": "2022-05-26T14:19:25.674Z"
   },
   {
    "duration": 739,
    "start_time": "2022-05-26T14:19:28.859Z"
   },
   {
    "duration": 104,
    "start_time": "2022-05-26T14:21:07.647Z"
   },
   {
    "duration": 359,
    "start_time": "2022-05-26T14:21:21.476Z"
   },
   {
    "duration": 723,
    "start_time": "2022-05-26T14:31:40.187Z"
   },
   {
    "duration": 117,
    "start_time": "2022-05-26T14:34:10.907Z"
   },
   {
    "duration": 5,
    "start_time": "2022-05-26T14:36:40.780Z"
   },
   {
    "duration": 647,
    "start_time": "2022-05-26T14:51:37.308Z"
   },
   {
    "duration": 94,
    "start_time": "2022-05-26T14:51:37.957Z"
   },
   {
    "duration": 30,
    "start_time": "2022-05-26T14:51:38.053Z"
   },
   {
    "duration": 16,
    "start_time": "2022-05-26T14:51:38.085Z"
   },
   {
    "duration": 5,
    "start_time": "2022-05-26T14:51:38.104Z"
   },
   {
    "duration": 5,
    "start_time": "2022-05-26T14:51:38.110Z"
   },
   {
    "duration": 10,
    "start_time": "2022-05-26T14:51:38.117Z"
   },
   {
    "duration": 7,
    "start_time": "2022-05-26T14:51:38.129Z"
   },
   {
    "duration": 42,
    "start_time": "2022-05-26T14:51:38.137Z"
   },
   {
    "duration": 6,
    "start_time": "2022-05-26T14:51:38.180Z"
   },
   {
    "duration": 6,
    "start_time": "2022-05-26T14:51:38.187Z"
   },
   {
    "duration": 8,
    "start_time": "2022-05-26T14:51:38.195Z"
   },
   {
    "duration": 3,
    "start_time": "2022-05-26T14:51:38.204Z"
   },
   {
    "duration": 5,
    "start_time": "2022-05-26T14:51:38.210Z"
   },
   {
    "duration": 12,
    "start_time": "2022-05-26T14:51:38.216Z"
   },
   {
    "duration": 4,
    "start_time": "2022-05-26T14:51:38.230Z"
   },
   {
    "duration": 40,
    "start_time": "2022-05-26T14:51:38.235Z"
   },
   {
    "duration": 3,
    "start_time": "2022-05-26T14:51:38.277Z"
   },
   {
    "duration": 5,
    "start_time": "2022-05-26T14:51:38.282Z"
   },
   {
    "duration": 5,
    "start_time": "2022-05-26T14:51:38.289Z"
   },
   {
    "duration": 6,
    "start_time": "2022-05-26T14:51:38.296Z"
   },
   {
    "duration": 7,
    "start_time": "2022-05-26T14:51:38.303Z"
   },
   {
    "duration": 8,
    "start_time": "2022-05-26T14:51:38.312Z"
   },
   {
    "duration": 8,
    "start_time": "2022-05-26T14:51:38.322Z"
   },
   {
    "duration": 4,
    "start_time": "2022-05-26T14:51:38.331Z"
   },
   {
    "duration": 39,
    "start_time": "2022-05-26T14:51:38.336Z"
   },
   {
    "duration": 5,
    "start_time": "2022-05-26T14:51:38.377Z"
   },
   {
    "duration": 9,
    "start_time": "2022-05-26T14:51:38.383Z"
   },
   {
    "duration": 13,
    "start_time": "2022-05-26T14:51:38.393Z"
   },
   {
    "duration": 4,
    "start_time": "2022-05-26T14:51:38.408Z"
   },
   {
    "duration": 15,
    "start_time": "2022-05-26T14:51:38.413Z"
   },
   {
    "duration": 5,
    "start_time": "2022-05-26T14:51:38.429Z"
   },
   {
    "duration": 3,
    "start_time": "2022-05-26T14:51:38.436Z"
   },
   {
    "duration": 36,
    "start_time": "2022-05-26T14:51:38.441Z"
   },
   {
    "duration": 7,
    "start_time": "2022-05-26T14:51:38.479Z"
   },
   {
    "duration": 4,
    "start_time": "2022-05-26T14:51:38.488Z"
   },
   {
    "duration": 9,
    "start_time": "2022-05-26T14:51:38.493Z"
   },
   {
    "duration": 9,
    "start_time": "2022-05-26T14:51:38.504Z"
   },
   {
    "duration": 3,
    "start_time": "2022-05-26T14:51:38.514Z"
   },
   {
    "duration": 326,
    "start_time": "2022-05-26T14:51:38.518Z"
   },
   {
    "duration": 11,
    "start_time": "2022-05-26T14:51:38.847Z"
   },
   {
    "duration": 3,
    "start_time": "2022-05-26T14:51:38.860Z"
   },
   {
    "duration": 23,
    "start_time": "2022-05-26T14:51:38.864Z"
   },
   {
    "duration": 3,
    "start_time": "2022-05-26T14:51:38.889Z"
   },
   {
    "duration": 16,
    "start_time": "2022-05-26T14:51:38.893Z"
   },
   {
    "duration": 22,
    "start_time": "2022-05-26T14:51:38.911Z"
   },
   {
    "duration": 156,
    "start_time": "2022-05-26T14:51:38.934Z"
   },
   {
    "duration": 229,
    "start_time": "2022-05-26T14:51:39.092Z"
   },
   {
    "duration": 125,
    "start_time": "2022-05-26T14:51:39.322Z"
   },
   {
    "duration": 126,
    "start_time": "2022-05-26T14:51:39.449Z"
   },
   {
    "duration": 155,
    "start_time": "2022-05-26T14:51:39.576Z"
   },
   {
    "duration": 126,
    "start_time": "2022-05-26T14:51:39.732Z"
   },
   {
    "duration": 102,
    "start_time": "2022-05-26T14:51:39.860Z"
   },
   {
    "duration": 20,
    "start_time": "2022-05-26T14:51:39.964Z"
   },
   {
    "duration": 190,
    "start_time": "2022-05-26T14:51:39.986Z"
   },
   {
    "duration": 114,
    "start_time": "2022-05-26T14:51:40.178Z"
   },
   {
    "duration": 5,
    "start_time": "2022-05-26T14:51:40.294Z"
   },
   {
    "duration": 135,
    "start_time": "2022-05-26T14:51:40.301Z"
   },
   {
    "duration": 7,
    "start_time": "2022-05-26T14:51:40.438Z"
   },
   {
    "duration": 135,
    "start_time": "2022-05-26T14:51:40.446Z"
   },
   {
    "duration": 6,
    "start_time": "2022-05-26T14:51:40.583Z"
   },
   {
    "duration": 122,
    "start_time": "2022-05-26T14:51:40.591Z"
   },
   {
    "duration": 5,
    "start_time": "2022-05-26T14:51:40.714Z"
   },
   {
    "duration": 129,
    "start_time": "2022-05-26T14:51:40.721Z"
   },
   {
    "duration": 5,
    "start_time": "2022-05-26T14:51:40.851Z"
   },
   {
    "duration": 835,
    "start_time": "2022-05-26T14:51:40.858Z"
   },
   {
    "duration": 892,
    "start_time": "2022-05-27T07:14:17.467Z"
   },
   {
    "duration": 351,
    "start_time": "2022-05-27T07:14:18.361Z"
   },
   {
    "duration": 37,
    "start_time": "2022-05-27T07:14:18.713Z"
   },
   {
    "duration": 15,
    "start_time": "2022-05-27T07:14:18.752Z"
   },
   {
    "duration": 5,
    "start_time": "2022-05-27T07:14:18.768Z"
   },
   {
    "duration": 4,
    "start_time": "2022-05-27T07:14:18.775Z"
   },
   {
    "duration": 12,
    "start_time": "2022-05-27T07:14:18.781Z"
   },
   {
    "duration": 36,
    "start_time": "2022-05-27T07:14:18.794Z"
   },
   {
    "duration": 22,
    "start_time": "2022-05-27T07:14:18.831Z"
   },
   {
    "duration": 8,
    "start_time": "2022-05-27T07:14:18.855Z"
   },
   {
    "duration": 17,
    "start_time": "2022-05-27T07:14:18.866Z"
   },
   {
    "duration": 9,
    "start_time": "2022-05-27T07:14:18.885Z"
   },
   {
    "duration": 6,
    "start_time": "2022-05-27T07:14:18.896Z"
   },
   {
    "duration": 10,
    "start_time": "2022-05-27T07:14:18.903Z"
   },
   {
    "duration": 20,
    "start_time": "2022-05-27T07:14:18.915Z"
   },
   {
    "duration": 5,
    "start_time": "2022-05-27T07:14:18.936Z"
   },
   {
    "duration": 14,
    "start_time": "2022-05-27T07:14:18.943Z"
   },
   {
    "duration": 4,
    "start_time": "2022-05-27T07:14:18.959Z"
   },
   {
    "duration": 5,
    "start_time": "2022-05-27T07:14:18.965Z"
   },
   {
    "duration": 6,
    "start_time": "2022-05-27T07:14:18.971Z"
   },
   {
    "duration": 8,
    "start_time": "2022-05-27T07:14:18.979Z"
   },
   {
    "duration": 6,
    "start_time": "2022-05-27T07:14:18.988Z"
   },
   {
    "duration": 39,
    "start_time": "2022-05-27T07:14:18.996Z"
   },
   {
    "duration": 20,
    "start_time": "2022-05-27T07:14:19.036Z"
   },
   {
    "duration": 4,
    "start_time": "2022-05-27T07:14:19.058Z"
   },
   {
    "duration": 4,
    "start_time": "2022-05-27T07:14:19.063Z"
   },
   {
    "duration": 8,
    "start_time": "2022-05-27T07:14:19.069Z"
   },
   {
    "duration": 12,
    "start_time": "2022-05-27T07:14:19.080Z"
   },
   {
    "duration": 16,
    "start_time": "2022-05-27T07:14:19.094Z"
   },
   {
    "duration": 25,
    "start_time": "2022-05-27T07:14:19.112Z"
   },
   {
    "duration": 20,
    "start_time": "2022-05-27T07:14:19.138Z"
   },
   {
    "duration": 5,
    "start_time": "2022-05-27T07:14:19.159Z"
   },
   {
    "duration": 6,
    "start_time": "2022-05-27T07:14:19.166Z"
   },
   {
    "duration": 6,
    "start_time": "2022-05-27T07:14:19.174Z"
   },
   {
    "duration": 7,
    "start_time": "2022-05-27T07:14:19.182Z"
   },
   {
    "duration": 5,
    "start_time": "2022-05-27T07:14:19.190Z"
   },
   {
    "duration": 10,
    "start_time": "2022-05-27T07:14:19.197Z"
   },
   {
    "duration": 29,
    "start_time": "2022-05-27T07:14:19.208Z"
   },
   {
    "duration": 16,
    "start_time": "2022-05-27T07:14:19.238Z"
   },
   {
    "duration": 326,
    "start_time": "2022-05-27T07:14:19.256Z"
   },
   {
    "duration": 11,
    "start_time": "2022-05-27T07:14:19.584Z"
   },
   {
    "duration": 4,
    "start_time": "2022-05-27T07:14:19.596Z"
   },
   {
    "duration": 40,
    "start_time": "2022-05-27T07:14:19.602Z"
   },
   {
    "duration": 4,
    "start_time": "2022-05-27T07:14:19.644Z"
   },
   {
    "duration": 16,
    "start_time": "2022-05-27T07:14:19.649Z"
   },
   {
    "duration": 23,
    "start_time": "2022-05-27T07:14:19.667Z"
   },
   {
    "duration": 168,
    "start_time": "2022-05-27T07:14:19.691Z"
   },
   {
    "duration": 284,
    "start_time": "2022-05-27T07:14:19.860Z"
   },
   {
    "duration": 152,
    "start_time": "2022-05-27T07:14:20.146Z"
   },
   {
    "duration": 158,
    "start_time": "2022-05-27T07:14:20.299Z"
   },
   {
    "duration": 181,
    "start_time": "2022-05-27T07:14:20.460Z"
   },
   {
    "duration": 139,
    "start_time": "2022-05-27T07:14:20.643Z"
   },
   {
    "duration": 98,
    "start_time": "2022-05-27T07:14:20.784Z"
   },
   {
    "duration": 12,
    "start_time": "2022-05-27T07:14:20.884Z"
   },
   {
    "duration": 226,
    "start_time": "2022-05-27T07:14:20.897Z"
   },
   {
    "duration": 121,
    "start_time": "2022-05-27T07:14:21.125Z"
   },
   {
    "duration": 6,
    "start_time": "2022-05-27T07:14:21.247Z"
   },
   {
    "duration": 146,
    "start_time": "2022-05-27T07:14:21.255Z"
   },
   {
    "duration": 5,
    "start_time": "2022-05-27T07:14:21.403Z"
   },
   {
    "duration": 143,
    "start_time": "2022-05-27T07:14:21.410Z"
   },
   {
    "duration": 6,
    "start_time": "2022-05-27T07:14:21.555Z"
   },
   {
    "duration": 126,
    "start_time": "2022-05-27T07:14:21.563Z"
   },
   {
    "duration": 5,
    "start_time": "2022-05-27T07:14:21.691Z"
   },
   {
    "duration": 162,
    "start_time": "2022-05-27T07:14:21.698Z"
   },
   {
    "duration": 6,
    "start_time": "2022-05-27T07:14:21.862Z"
   },
   {
    "duration": 973,
    "start_time": "2022-05-27T07:14:21.869Z"
   },
   {
    "duration": 117,
    "start_time": "2022-05-27T07:15:35.070Z"
   },
   {
    "duration": 107,
    "start_time": "2022-05-27T07:16:02.603Z"
   },
   {
    "duration": 119,
    "start_time": "2022-05-27T07:16:40.371Z"
   },
   {
    "duration": 120,
    "start_time": "2022-05-27T07:16:49.176Z"
   },
   {
    "duration": 36,
    "start_time": "2022-05-27T07:18:11.683Z"
   },
   {
    "duration": 108,
    "start_time": "2022-05-27T07:18:29.006Z"
   },
   {
    "duration": 93,
    "start_time": "2022-05-27T07:18:37.827Z"
   },
   {
    "duration": 155,
    "start_time": "2022-05-27T07:19:25.408Z"
   },
   {
    "duration": 101,
    "start_time": "2022-05-27T07:20:12.541Z"
   },
   {
    "duration": 799,
    "start_time": "2022-05-27T07:23:01.559Z"
   },
   {
    "duration": 94,
    "start_time": "2022-05-27T07:23:02.360Z"
   },
   {
    "duration": 27,
    "start_time": "2022-05-27T07:23:02.455Z"
   },
   {
    "duration": 13,
    "start_time": "2022-05-27T07:23:02.484Z"
   },
   {
    "duration": 4,
    "start_time": "2022-05-27T07:23:02.499Z"
   },
   {
    "duration": 34,
    "start_time": "2022-05-27T07:23:02.505Z"
   },
   {
    "duration": 13,
    "start_time": "2022-05-27T07:23:02.542Z"
   },
   {
    "duration": 6,
    "start_time": "2022-05-27T07:23:02.556Z"
   },
   {
    "duration": 5,
    "start_time": "2022-05-27T07:23:02.564Z"
   },
   {
    "duration": 8,
    "start_time": "2022-05-27T07:23:02.571Z"
   },
   {
    "duration": 8,
    "start_time": "2022-05-27T07:23:02.580Z"
   },
   {
    "duration": 11,
    "start_time": "2022-05-27T07:23:02.589Z"
   },
   {
    "duration": 4,
    "start_time": "2022-05-27T07:23:02.602Z"
   },
   {
    "duration": 27,
    "start_time": "2022-05-27T07:23:02.608Z"
   },
   {
    "duration": 14,
    "start_time": "2022-05-27T07:23:02.637Z"
   },
   {
    "duration": 9,
    "start_time": "2022-05-27T07:23:02.652Z"
   },
   {
    "duration": 14,
    "start_time": "2022-05-27T07:23:02.662Z"
   },
   {
    "duration": 4,
    "start_time": "2022-05-27T07:23:02.678Z"
   },
   {
    "duration": 7,
    "start_time": "2022-05-27T07:23:02.683Z"
   },
   {
    "duration": 7,
    "start_time": "2022-05-27T07:23:02.692Z"
   },
   {
    "duration": 30,
    "start_time": "2022-05-27T07:23:02.700Z"
   },
   {
    "duration": 23,
    "start_time": "2022-05-27T07:23:02.731Z"
   },
   {
    "duration": 8,
    "start_time": "2022-05-27T07:23:02.755Z"
   },
   {
    "duration": 11,
    "start_time": "2022-05-27T07:23:02.764Z"
   },
   {
    "duration": 22,
    "start_time": "2022-05-27T07:23:02.777Z"
   },
   {
    "duration": 5,
    "start_time": "2022-05-27T07:23:02.801Z"
   },
   {
    "duration": 12,
    "start_time": "2022-05-27T07:23:02.807Z"
   },
   {
    "duration": 27,
    "start_time": "2022-05-27T07:23:02.823Z"
   },
   {
    "duration": 19,
    "start_time": "2022-05-27T07:23:02.852Z"
   },
   {
    "duration": 6,
    "start_time": "2022-05-27T07:23:02.873Z"
   },
   {
    "duration": 17,
    "start_time": "2022-05-27T07:23:02.880Z"
   },
   {
    "duration": 5,
    "start_time": "2022-05-27T07:23:02.899Z"
   },
   {
    "duration": 6,
    "start_time": "2022-05-27T07:23:02.906Z"
   },
   {
    "duration": 9,
    "start_time": "2022-05-27T07:23:02.914Z"
   },
   {
    "duration": 23,
    "start_time": "2022-05-27T07:23:02.926Z"
   },
   {
    "duration": 6,
    "start_time": "2022-05-27T07:23:02.950Z"
   },
   {
    "duration": 18,
    "start_time": "2022-05-27T07:23:02.957Z"
   },
   {
    "duration": 14,
    "start_time": "2022-05-27T07:23:02.976Z"
   },
   {
    "duration": 5,
    "start_time": "2022-05-27T07:23:02.992Z"
   },
   {
    "duration": 337,
    "start_time": "2022-05-27T07:23:02.999Z"
   },
   {
    "duration": 13,
    "start_time": "2022-05-27T07:23:03.338Z"
   },
   {
    "duration": 6,
    "start_time": "2022-05-27T07:23:03.353Z"
   },
   {
    "duration": 15,
    "start_time": "2022-05-27T07:23:03.360Z"
   },
   {
    "duration": 4,
    "start_time": "2022-05-27T07:23:03.377Z"
   },
   {
    "duration": 14,
    "start_time": "2022-05-27T07:23:03.382Z"
   },
   {
    "duration": 42,
    "start_time": "2022-05-27T07:23:03.398Z"
   },
   {
    "duration": 151,
    "start_time": "2022-05-27T07:23:03.441Z"
   },
   {
    "duration": 262,
    "start_time": "2022-05-27T07:23:03.594Z"
   },
   {
    "duration": 146,
    "start_time": "2022-05-27T07:23:03.858Z"
   },
   {
    "duration": 151,
    "start_time": "2022-05-27T07:23:04.006Z"
   },
   {
    "duration": 173,
    "start_time": "2022-05-27T07:23:04.159Z"
   },
   {
    "duration": 150,
    "start_time": "2022-05-27T07:23:04.333Z"
   },
   {
    "duration": 106,
    "start_time": "2022-05-27T07:23:04.484Z"
   },
   {
    "duration": 19,
    "start_time": "2022-05-27T07:23:04.591Z"
   },
   {
    "duration": 210,
    "start_time": "2022-05-27T07:23:04.612Z"
   },
   {
    "duration": 138,
    "start_time": "2022-05-27T07:23:04.824Z"
   },
   {
    "duration": 6,
    "start_time": "2022-05-27T07:23:04.964Z"
   },
   {
    "duration": 127,
    "start_time": "2022-05-27T07:23:04.972Z"
   },
   {
    "duration": 5,
    "start_time": "2022-05-27T07:23:05.101Z"
   },
   {
    "duration": 135,
    "start_time": "2022-05-27T07:23:05.107Z"
   },
   {
    "duration": 5,
    "start_time": "2022-05-27T07:23:05.244Z"
   },
   {
    "duration": 136,
    "start_time": "2022-05-27T07:23:05.251Z"
   },
   {
    "duration": 6,
    "start_time": "2022-05-27T07:23:05.389Z"
   },
   {
    "duration": 155,
    "start_time": "2022-05-27T07:23:05.396Z"
   },
   {
    "duration": 6,
    "start_time": "2022-05-27T07:23:05.553Z"
   },
   {
    "duration": 1667,
    "start_time": "2022-05-27T07:23:05.560Z"
   },
   {
    "duration": 140,
    "start_time": "2022-05-27T07:24:31.404Z"
   },
   {
    "duration": 115,
    "start_time": "2022-05-27T07:24:40.065Z"
   },
   {
    "duration": 11,
    "start_time": "2022-05-27T07:35:19.678Z"
   },
   {
    "duration": 15,
    "start_time": "2022-05-27T07:35:32.699Z"
   },
   {
    "duration": 23,
    "start_time": "2022-05-27T07:36:30.687Z"
   },
   {
    "duration": 23,
    "start_time": "2022-05-27T07:36:56.921Z"
   },
   {
    "duration": 14,
    "start_time": "2022-05-27T07:39:00.566Z"
   },
   {
    "duration": 15,
    "start_time": "2022-05-27T07:39:03.000Z"
   },
   {
    "duration": 664,
    "start_time": "2022-05-27T07:56:39.864Z"
   },
   {
    "duration": 110,
    "start_time": "2022-05-27T07:56:40.530Z"
   },
   {
    "duration": 29,
    "start_time": "2022-05-27T07:56:40.642Z"
   },
   {
    "duration": 15,
    "start_time": "2022-05-27T07:56:40.674Z"
   },
   {
    "duration": 5,
    "start_time": "2022-05-27T07:56:40.690Z"
   },
   {
    "duration": 6,
    "start_time": "2022-05-27T07:56:40.696Z"
   },
   {
    "duration": 37,
    "start_time": "2022-05-27T07:56:40.703Z"
   },
   {
    "duration": 6,
    "start_time": "2022-05-27T07:56:40.742Z"
   },
   {
    "duration": 7,
    "start_time": "2022-05-27T07:56:40.750Z"
   },
   {
    "duration": 11,
    "start_time": "2022-05-27T07:56:40.760Z"
   },
   {
    "duration": 6,
    "start_time": "2022-05-27T07:56:40.773Z"
   },
   {
    "duration": 15,
    "start_time": "2022-05-27T07:56:40.781Z"
   },
   {
    "duration": 4,
    "start_time": "2022-05-27T07:56:40.798Z"
   },
   {
    "duration": 6,
    "start_time": "2022-05-27T07:56:40.827Z"
   },
   {
    "duration": 9,
    "start_time": "2022-05-27T07:56:40.834Z"
   },
   {
    "duration": 4,
    "start_time": "2022-05-27T07:56:40.845Z"
   },
   {
    "duration": 13,
    "start_time": "2022-05-27T07:56:40.851Z"
   },
   {
    "duration": 4,
    "start_time": "2022-05-27T07:56:40.866Z"
   },
   {
    "duration": 8,
    "start_time": "2022-05-27T07:56:40.871Z"
   },
   {
    "duration": 7,
    "start_time": "2022-05-27T07:56:40.880Z"
   },
   {
    "duration": 39,
    "start_time": "2022-05-27T07:56:40.889Z"
   },
   {
    "duration": 7,
    "start_time": "2022-05-27T07:56:40.929Z"
   },
   {
    "duration": 13,
    "start_time": "2022-05-27T07:56:40.937Z"
   },
   {
    "duration": 10,
    "start_time": "2022-05-27T07:56:40.951Z"
   },
   {
    "duration": 5,
    "start_time": "2022-05-27T07:56:40.962Z"
   },
   {
    "duration": 7,
    "start_time": "2022-05-27T07:56:40.968Z"
   },
   {
    "duration": 11,
    "start_time": "2022-05-27T07:56:40.976Z"
   },
   {
    "duration": 7,
    "start_time": "2022-05-27T07:56:40.992Z"
   },
   {
    "duration": 14,
    "start_time": "2022-05-27T07:56:41.028Z"
   },
   {
    "duration": 5,
    "start_time": "2022-05-27T07:56:41.044Z"
   },
   {
    "duration": 30,
    "start_time": "2022-05-27T07:56:41.051Z"
   },
   {
    "duration": 6,
    "start_time": "2022-05-27T07:56:41.083Z"
   },
   {
    "duration": 7,
    "start_time": "2022-05-27T07:56:41.091Z"
   },
   {
    "duration": 28,
    "start_time": "2022-05-27T07:56:41.100Z"
   },
   {
    "duration": 7,
    "start_time": "2022-05-27T07:56:41.129Z"
   },
   {
    "duration": 5,
    "start_time": "2022-05-27T07:56:41.137Z"
   },
   {
    "duration": 7,
    "start_time": "2022-05-27T07:56:41.144Z"
   },
   {
    "duration": 10,
    "start_time": "2022-05-27T07:56:41.153Z"
   },
   {
    "duration": 3,
    "start_time": "2022-05-27T07:56:41.164Z"
   },
   {
    "duration": 359,
    "start_time": "2022-05-27T07:56:41.168Z"
   },
   {
    "duration": 11,
    "start_time": "2022-05-27T07:56:41.529Z"
   },
   {
    "duration": 15,
    "start_time": "2022-05-27T07:56:41.542Z"
   },
   {
    "duration": 15,
    "start_time": "2022-05-27T07:56:41.558Z"
   },
   {
    "duration": 3,
    "start_time": "2022-05-27T07:56:41.575Z"
   },
   {
    "duration": 15,
    "start_time": "2022-05-27T07:56:41.579Z"
   },
   {
    "duration": 37,
    "start_time": "2022-05-27T07:56:41.596Z"
   },
   {
    "duration": 151,
    "start_time": "2022-05-27T07:56:41.635Z"
   },
   {
    "duration": 257,
    "start_time": "2022-05-27T07:56:41.787Z"
   },
   {
    "duration": 140,
    "start_time": "2022-05-27T07:56:42.045Z"
   },
   {
    "duration": 142,
    "start_time": "2022-05-27T07:56:42.187Z"
   },
   {
    "duration": 165,
    "start_time": "2022-05-27T07:56:42.330Z"
   },
   {
    "duration": 131,
    "start_time": "2022-05-27T07:56:42.496Z"
   },
   {
    "duration": 88,
    "start_time": "2022-05-27T07:56:42.628Z"
   },
   {
    "duration": 16,
    "start_time": "2022-05-27T07:56:42.718Z"
   },
   {
    "duration": 209,
    "start_time": "2022-05-27T07:56:42.736Z"
   },
   {
    "duration": 125,
    "start_time": "2022-05-27T07:56:42.946Z"
   },
   {
    "duration": 114,
    "start_time": "2022-05-27T07:56:43.072Z"
   },
   {
    "duration": 6,
    "start_time": "2022-05-27T07:56:43.188Z"
   },
   {
    "duration": 133,
    "start_time": "2022-05-27T07:56:43.195Z"
   },
   {
    "duration": 5,
    "start_time": "2022-05-27T07:56:43.330Z"
   },
   {
    "duration": 136,
    "start_time": "2022-05-27T07:56:43.336Z"
   },
   {
    "duration": 5,
    "start_time": "2022-05-27T07:56:43.474Z"
   },
   {
    "duration": 156,
    "start_time": "2022-05-27T07:56:43.480Z"
   },
   {
    "duration": 6,
    "start_time": "2022-05-27T07:56:43.638Z"
   },
   {
    "duration": 17,
    "start_time": "2022-05-27T07:56:43.646Z"
   },
   {
    "duration": 17,
    "start_time": "2022-05-27T07:56:43.665Z"
   },
   {
    "duration": 122,
    "start_time": "2022-05-27T07:57:15.765Z"
   },
   {
    "duration": 202,
    "start_time": "2022-05-27T07:57:46.859Z"
   },
   {
    "duration": 12,
    "start_time": "2022-05-27T07:58:35.099Z"
   },
   {
    "duration": 4,
    "start_time": "2022-05-27T08:01:52.854Z"
   },
   {
    "duration": 4,
    "start_time": "2022-05-27T08:02:51.764Z"
   },
   {
    "duration": 108,
    "start_time": "2022-05-27T08:07:52.103Z"
   },
   {
    "duration": 16,
    "start_time": "2022-05-27T08:27:06.309Z"
   },
   {
    "duration": 11,
    "start_time": "2022-05-27T08:28:18.784Z"
   },
   {
    "duration": 16,
    "start_time": "2022-05-27T08:28:22.067Z"
   },
   {
    "duration": 18,
    "start_time": "2022-05-27T08:28:38.016Z"
   },
   {
    "duration": 19,
    "start_time": "2022-05-27T08:28:58.313Z"
   },
   {
    "duration": 17,
    "start_time": "2022-05-27T08:29:04.712Z"
   },
   {
    "duration": 12,
    "start_time": "2022-05-27T08:30:01.119Z"
   },
   {
    "duration": 12,
    "start_time": "2022-05-27T08:30:05.310Z"
   },
   {
    "duration": 22,
    "start_time": "2022-05-27T08:31:08.821Z"
   },
   {
    "duration": 4,
    "start_time": "2022-05-27T08:54:55.445Z"
   },
   {
    "duration": 146,
    "start_time": "2022-05-27T08:57:23.011Z"
   },
   {
    "duration": 37,
    "start_time": "2022-05-27T09:04:19.079Z"
   },
   {
    "duration": 253,
    "start_time": "2022-05-27T09:04:26.343Z"
   },
   {
    "duration": 59,
    "start_time": "2022-05-27T09:07:06.795Z"
   },
   {
    "duration": 311,
    "start_time": "2022-05-27T09:07:11.455Z"
   },
   {
    "duration": 275,
    "start_time": "2022-05-27T09:08:30.906Z"
   },
   {
    "duration": 306,
    "start_time": "2022-05-27T09:08:36.228Z"
   },
   {
    "duration": 272,
    "start_time": "2022-05-27T09:08:48.604Z"
   },
   {
    "duration": 366,
    "start_time": "2022-05-27T09:08:58.792Z"
   },
   {
    "duration": 273,
    "start_time": "2022-05-27T09:09:07.158Z"
   },
   {
    "duration": 258,
    "start_time": "2022-05-27T09:10:04.302Z"
   },
   {
    "duration": 225,
    "start_time": "2022-05-27T09:10:09.050Z"
   },
   {
    "duration": 316,
    "start_time": "2022-05-27T09:10:31.742Z"
   },
   {
    "duration": 240,
    "start_time": "2022-05-27T09:10:38.568Z"
   },
   {
    "duration": 213,
    "start_time": "2022-05-27T09:11:23.994Z"
   },
   {
    "duration": 272,
    "start_time": "2022-05-27T09:11:36.011Z"
   },
   {
    "duration": 241,
    "start_time": "2022-05-27T09:11:42.118Z"
   },
   {
    "duration": 259,
    "start_time": "2022-05-27T09:11:45.749Z"
   },
   {
    "duration": 289,
    "start_time": "2022-05-27T09:13:01.069Z"
   },
   {
    "duration": 249,
    "start_time": "2022-05-27T09:13:57.174Z"
   },
   {
    "duration": 251,
    "start_time": "2022-05-27T09:14:07.459Z"
   },
   {
    "duration": 246,
    "start_time": "2022-05-27T09:15:41.499Z"
   },
   {
    "duration": 321,
    "start_time": "2022-05-27T09:15:50.067Z"
   },
   {
    "duration": 7,
    "start_time": "2022-05-27T09:18:16.704Z"
   },
   {
    "duration": 337,
    "start_time": "2022-05-27T09:40:40.583Z"
   },
   {
    "duration": 125,
    "start_time": "2022-05-27T09:42:01.121Z"
   },
   {
    "duration": 132,
    "start_time": "2022-05-27T09:42:32.705Z"
   },
   {
    "duration": 127,
    "start_time": "2022-05-27T09:42:51.390Z"
   },
   {
    "duration": 140,
    "start_time": "2022-05-27T09:43:11.022Z"
   },
   {
    "duration": 158,
    "start_time": "2022-05-27T09:43:46.120Z"
   },
   {
    "duration": 14,
    "start_time": "2022-05-27T09:45:20.455Z"
   },
   {
    "duration": 169,
    "start_time": "2022-05-27T09:45:37.440Z"
   },
   {
    "duration": 16,
    "start_time": "2022-05-27T09:46:04.340Z"
   },
   {
    "duration": 147,
    "start_time": "2022-05-27T09:46:20.440Z"
   },
   {
    "duration": 125,
    "start_time": "2022-05-27T09:49:44.320Z"
   },
   {
    "duration": 128,
    "start_time": "2022-05-27T09:50:02.221Z"
   },
   {
    "duration": 184,
    "start_time": "2022-05-27T09:52:30.459Z"
   },
   {
    "duration": 11,
    "start_time": "2022-05-27T09:52:39.893Z"
   },
   {
    "duration": 155,
    "start_time": "2022-05-27T09:52:45.442Z"
   },
   {
    "duration": 42,
    "start_time": "2022-05-27T10:00:38.079Z"
   },
   {
    "duration": 179,
    "start_time": "2022-05-27T10:00:45.236Z"
   },
   {
    "duration": 187,
    "start_time": "2022-05-27T10:01:54.608Z"
   },
   {
    "duration": 11,
    "start_time": "2022-05-27T10:02:01.674Z"
   },
   {
    "duration": 802,
    "start_time": "2022-05-27T10:07:32.750Z"
   },
   {
    "duration": 137,
    "start_time": "2022-05-27T10:07:33.554Z"
   },
   {
    "duration": 35,
    "start_time": "2022-05-27T10:07:33.693Z"
   },
   {
    "duration": 74,
    "start_time": "2022-05-27T10:07:33.730Z"
   },
   {
    "duration": 14,
    "start_time": "2022-05-27T10:07:33.806Z"
   },
   {
    "duration": 61,
    "start_time": "2022-05-27T10:07:33.822Z"
   },
   {
    "duration": 31,
    "start_time": "2022-05-27T10:07:33.885Z"
   },
   {
    "duration": 8,
    "start_time": "2022-05-27T10:07:33.918Z"
   },
   {
    "duration": 20,
    "start_time": "2022-05-27T10:07:33.942Z"
   },
   {
    "duration": 13,
    "start_time": "2022-05-27T10:07:33.965Z"
   },
   {
    "duration": 10,
    "start_time": "2022-05-27T10:07:33.980Z"
   },
   {
    "duration": 25,
    "start_time": "2022-05-27T10:07:33.992Z"
   },
   {
    "duration": 60,
    "start_time": "2022-05-27T10:07:34.019Z"
   },
   {
    "duration": 14,
    "start_time": "2022-05-27T10:07:34.081Z"
   },
   {
    "duration": 24,
    "start_time": "2022-05-27T10:07:34.097Z"
   },
   {
    "duration": 45,
    "start_time": "2022-05-27T10:07:34.123Z"
   },
   {
    "duration": 35,
    "start_time": "2022-05-27T10:07:34.170Z"
   },
   {
    "duration": 12,
    "start_time": "2022-05-27T10:07:34.207Z"
   },
   {
    "duration": 66,
    "start_time": "2022-05-27T10:07:34.220Z"
   },
   {
    "duration": 105,
    "start_time": "2022-05-27T10:07:34.288Z"
   },
   {
    "duration": 72,
    "start_time": "2022-05-27T10:07:34.394Z"
   },
   {
    "duration": 31,
    "start_time": "2022-05-27T10:07:34.468Z"
   },
   {
    "duration": 19,
    "start_time": "2022-05-27T10:07:34.500Z"
   },
   {
    "duration": 41,
    "start_time": "2022-05-27T10:07:34.520Z"
   },
   {
    "duration": 14,
    "start_time": "2022-05-27T10:07:34.562Z"
   },
   {
    "duration": 17,
    "start_time": "2022-05-27T10:07:34.578Z"
   },
   {
    "duration": 75,
    "start_time": "2022-05-27T10:07:34.597Z"
   },
   {
    "duration": 26,
    "start_time": "2022-05-27T10:07:34.676Z"
   },
   {
    "duration": 47,
    "start_time": "2022-05-27T10:07:34.704Z"
   },
   {
    "duration": 19,
    "start_time": "2022-05-27T10:07:34.754Z"
   },
   {
    "duration": 30,
    "start_time": "2022-05-27T10:07:34.775Z"
   },
   {
    "duration": 27,
    "start_time": "2022-05-27T10:07:34.808Z"
   },
   {
    "duration": 40,
    "start_time": "2022-05-27T10:07:34.841Z"
   },
   {
    "duration": 10,
    "start_time": "2022-05-27T10:07:34.883Z"
   },
   {
    "duration": 21,
    "start_time": "2022-05-27T10:07:34.895Z"
   },
   {
    "duration": 32,
    "start_time": "2022-05-27T10:07:34.918Z"
   },
   {
    "duration": 33,
    "start_time": "2022-05-27T10:07:34.952Z"
   },
   {
    "duration": 53,
    "start_time": "2022-05-27T10:07:34.988Z"
   },
   {
    "duration": 14,
    "start_time": "2022-05-27T10:07:35.043Z"
   },
   {
    "duration": 372,
    "start_time": "2022-05-27T10:07:35.060Z"
   },
   {
    "duration": 14,
    "start_time": "2022-05-27T10:07:35.440Z"
   },
   {
    "duration": 43,
    "start_time": "2022-05-27T10:07:35.456Z"
   },
   {
    "duration": 54,
    "start_time": "2022-05-27T10:07:35.500Z"
   },
   {
    "duration": 25,
    "start_time": "2022-05-27T10:07:35.556Z"
   },
   {
    "duration": 52,
    "start_time": "2022-05-27T10:07:35.583Z"
   },
   {
    "duration": 60,
    "start_time": "2022-05-27T10:07:35.636Z"
   },
   {
    "duration": 173,
    "start_time": "2022-05-27T10:07:35.698Z"
   },
   {
    "duration": 265,
    "start_time": "2022-05-27T10:07:35.873Z"
   },
   {
    "duration": 161,
    "start_time": "2022-05-27T10:07:36.141Z"
   },
   {
    "duration": 195,
    "start_time": "2022-05-27T10:07:36.304Z"
   },
   {
    "duration": 198,
    "start_time": "2022-05-27T10:07:36.502Z"
   },
   {
    "duration": 154,
    "start_time": "2022-05-27T10:07:36.701Z"
   },
   {
    "duration": 103,
    "start_time": "2022-05-27T10:07:36.858Z"
   },
   {
    "duration": 11,
    "start_time": "2022-05-27T10:07:36.962Z"
   },
   {
    "duration": 202,
    "start_time": "2022-05-27T10:07:36.974Z"
   },
   {
    "duration": 139,
    "start_time": "2022-05-27T10:07:37.178Z"
   },
   {
    "duration": 128,
    "start_time": "2022-05-27T10:07:37.318Z"
   },
   {
    "duration": 11,
    "start_time": "2022-05-27T10:07:37.447Z"
   },
   {
    "duration": 7,
    "start_time": "2022-05-27T10:07:37.460Z"
   },
   {
    "duration": 137,
    "start_time": "2022-05-27T10:07:37.469Z"
   },
   {
    "duration": 140,
    "start_time": "2022-05-27T10:07:37.608Z"
   },
   {
    "duration": 5,
    "start_time": "2022-05-27T10:07:37.750Z"
   },
   {
    "duration": 141,
    "start_time": "2022-05-27T10:07:37.757Z"
   },
   {
    "duration": 6,
    "start_time": "2022-05-27T10:07:37.899Z"
   },
   {
    "duration": 35,
    "start_time": "2022-05-27T10:07:37.907Z"
   },
   {
    "duration": 20,
    "start_time": "2022-05-27T10:07:37.944Z"
   },
   {
    "duration": 5,
    "start_time": "2022-05-27T10:07:37.966Z"
   },
   {
    "duration": 291,
    "start_time": "2022-05-27T10:07:37.973Z"
   },
   {
    "duration": 6,
    "start_time": "2022-05-27T10:07:38.265Z"
   },
   {
    "duration": 760,
    "start_time": "2022-05-27T10:08:23.412Z"
   },
   {
    "duration": 102,
    "start_time": "2022-05-27T10:08:24.174Z"
   },
   {
    "duration": 32,
    "start_time": "2022-05-27T10:08:24.278Z"
   },
   {
    "duration": 33,
    "start_time": "2022-05-27T10:08:24.312Z"
   },
   {
    "duration": 5,
    "start_time": "2022-05-27T10:08:24.347Z"
   },
   {
    "duration": 11,
    "start_time": "2022-05-27T10:08:24.353Z"
   },
   {
    "duration": 13,
    "start_time": "2022-05-27T10:08:24.366Z"
   },
   {
    "duration": 7,
    "start_time": "2022-05-27T10:08:24.380Z"
   },
   {
    "duration": 10,
    "start_time": "2022-05-27T10:08:24.389Z"
   },
   {
    "duration": 10,
    "start_time": "2022-05-27T10:08:24.400Z"
   },
   {
    "duration": 24,
    "start_time": "2022-05-27T10:08:24.412Z"
   },
   {
    "duration": 14,
    "start_time": "2022-05-27T10:08:24.439Z"
   },
   {
    "duration": 4,
    "start_time": "2022-05-27T10:08:24.455Z"
   },
   {
    "duration": 7,
    "start_time": "2022-05-27T10:08:24.463Z"
   },
   {
    "duration": 11,
    "start_time": "2022-05-27T10:08:24.471Z"
   },
   {
    "duration": 11,
    "start_time": "2022-05-27T10:08:24.483Z"
   },
   {
    "duration": 14,
    "start_time": "2022-05-27T10:08:24.495Z"
   },
   {
    "duration": 22,
    "start_time": "2022-05-27T10:08:24.510Z"
   },
   {
    "duration": 7,
    "start_time": "2022-05-27T10:08:24.534Z"
   },
   {
    "duration": 10,
    "start_time": "2022-05-27T10:08:24.543Z"
   },
   {
    "duration": 8,
    "start_time": "2022-05-27T10:08:24.555Z"
   },
   {
    "duration": 13,
    "start_time": "2022-05-27T10:08:24.565Z"
   },
   {
    "duration": 9,
    "start_time": "2022-05-27T10:08:24.579Z"
   },
   {
    "duration": 8,
    "start_time": "2022-05-27T10:08:24.590Z"
   },
   {
    "duration": 36,
    "start_time": "2022-05-27T10:08:24.599Z"
   },
   {
    "duration": 5,
    "start_time": "2022-05-27T10:08:24.639Z"
   },
   {
    "duration": 9,
    "start_time": "2022-05-27T10:08:24.646Z"
   },
   {
    "duration": 11,
    "start_time": "2022-05-27T10:08:24.656Z"
   },
   {
    "duration": 14,
    "start_time": "2022-05-27T10:08:24.669Z"
   },
   {
    "duration": 5,
    "start_time": "2022-05-27T10:08:24.685Z"
   },
   {
    "duration": 17,
    "start_time": "2022-05-27T10:08:24.691Z"
   },
   {
    "duration": 21,
    "start_time": "2022-05-27T10:08:24.709Z"
   },
   {
    "duration": 4,
    "start_time": "2022-05-27T10:08:24.732Z"
   },
   {
    "duration": 9,
    "start_time": "2022-05-27T10:08:24.740Z"
   },
   {
    "duration": 8,
    "start_time": "2022-05-27T10:08:24.750Z"
   },
   {
    "duration": 5,
    "start_time": "2022-05-27T10:08:24.759Z"
   },
   {
    "duration": 13,
    "start_time": "2022-05-27T10:08:24.765Z"
   },
   {
    "duration": 11,
    "start_time": "2022-05-27T10:08:24.779Z"
   },
   {
    "duration": 2,
    "start_time": "2022-05-27T10:08:24.792Z"
   },
   {
    "duration": 384,
    "start_time": "2022-05-27T10:08:24.796Z"
   },
   {
    "duration": 12,
    "start_time": "2022-05-27T10:08:25.184Z"
   },
   {
    "duration": 23,
    "start_time": "2022-05-27T10:08:25.198Z"
   },
   {
    "duration": 35,
    "start_time": "2022-05-27T10:08:25.223Z"
   },
   {
    "duration": 5,
    "start_time": "2022-05-27T10:08:25.259Z"
   },
   {
    "duration": 20,
    "start_time": "2022-05-27T10:08:25.265Z"
   },
   {
    "duration": 25,
    "start_time": "2022-05-27T10:08:25.287Z"
   },
   {
    "duration": 154,
    "start_time": "2022-05-27T10:08:25.314Z"
   },
   {
    "duration": 245,
    "start_time": "2022-05-27T10:08:25.470Z"
   },
   {
    "duration": 128,
    "start_time": "2022-05-27T10:08:25.717Z"
   },
   {
    "duration": 134,
    "start_time": "2022-05-27T10:08:25.846Z"
   },
   {
    "duration": 157,
    "start_time": "2022-05-27T10:08:25.981Z"
   },
   {
    "duration": 146,
    "start_time": "2022-05-27T10:08:26.140Z"
   },
   {
    "duration": 107,
    "start_time": "2022-05-27T10:08:26.288Z"
   },
   {
    "duration": 13,
    "start_time": "2022-05-27T10:08:26.397Z"
   },
   {
    "duration": 244,
    "start_time": "2022-05-27T10:08:26.412Z"
   },
   {
    "duration": 126,
    "start_time": "2022-05-27T10:08:26.658Z"
   },
   {
    "duration": 120,
    "start_time": "2022-05-27T10:08:26.785Z"
   },
   {
    "duration": 33,
    "start_time": "2022-05-27T10:08:26.907Z"
   },
   {
    "duration": 3,
    "start_time": "2022-05-27T10:08:26.942Z"
   },
   {
    "duration": 118,
    "start_time": "2022-05-27T10:08:26.947Z"
   },
   {
    "duration": 128,
    "start_time": "2022-05-27T10:08:27.067Z"
   },
   {
    "duration": 5,
    "start_time": "2022-05-27T10:08:27.196Z"
   },
   {
    "duration": 142,
    "start_time": "2022-05-27T10:08:27.203Z"
   },
   {
    "duration": 5,
    "start_time": "2022-05-27T10:08:27.347Z"
   },
   {
    "duration": 17,
    "start_time": "2022-05-27T10:08:27.354Z"
   },
   {
    "duration": 19,
    "start_time": "2022-05-27T10:08:27.373Z"
   },
   {
    "duration": 5,
    "start_time": "2022-05-27T10:08:27.394Z"
   },
   {
    "duration": 287,
    "start_time": "2022-05-27T10:08:27.400Z"
   },
   {
    "duration": 5,
    "start_time": "2022-05-27T10:08:27.689Z"
   },
   {
    "duration": 717,
    "start_time": "2022-05-27T10:12:12.702Z"
   },
   {
    "duration": 97,
    "start_time": "2022-05-27T10:12:13.421Z"
   },
   {
    "duration": 33,
    "start_time": "2022-05-27T10:12:13.520Z"
   },
   {
    "duration": 18,
    "start_time": "2022-05-27T10:12:13.556Z"
   },
   {
    "duration": 5,
    "start_time": "2022-05-27T10:12:13.576Z"
   },
   {
    "duration": 5,
    "start_time": "2022-05-27T10:12:13.583Z"
   },
   {
    "duration": 18,
    "start_time": "2022-05-27T10:12:13.590Z"
   },
   {
    "duration": 11,
    "start_time": "2022-05-27T10:12:13.631Z"
   },
   {
    "duration": 13,
    "start_time": "2022-05-27T10:12:13.644Z"
   },
   {
    "duration": 16,
    "start_time": "2022-05-27T10:12:13.659Z"
   },
   {
    "duration": 17,
    "start_time": "2022-05-27T10:12:13.677Z"
   },
   {
    "duration": 9,
    "start_time": "2022-05-27T10:12:13.695Z"
   },
   {
    "duration": 6,
    "start_time": "2022-05-27T10:12:13.707Z"
   },
   {
    "duration": 7,
    "start_time": "2022-05-27T10:12:13.714Z"
   },
   {
    "duration": 15,
    "start_time": "2022-05-27T10:12:13.722Z"
   },
   {
    "duration": 20,
    "start_time": "2022-05-27T10:12:13.739Z"
   },
   {
    "duration": 13,
    "start_time": "2022-05-27T10:12:13.761Z"
   },
   {
    "duration": 6,
    "start_time": "2022-05-27T10:12:13.776Z"
   },
   {
    "duration": 8,
    "start_time": "2022-05-27T10:12:13.783Z"
   },
   {
    "duration": 13,
    "start_time": "2022-05-27T10:12:13.793Z"
   },
   {
    "duration": 38,
    "start_time": "2022-05-27T10:12:13.809Z"
   },
   {
    "duration": 10,
    "start_time": "2022-05-27T10:12:13.849Z"
   },
   {
    "duration": 13,
    "start_time": "2022-05-27T10:12:13.861Z"
   },
   {
    "duration": 15,
    "start_time": "2022-05-27T10:12:13.876Z"
   },
   {
    "duration": 10,
    "start_time": "2022-05-27T10:12:13.892Z"
   },
   {
    "duration": 10,
    "start_time": "2022-05-27T10:12:13.904Z"
   },
   {
    "duration": 12,
    "start_time": "2022-05-27T10:12:13.916Z"
   },
   {
    "duration": 24,
    "start_time": "2022-05-27T10:12:13.930Z"
   },
   {
    "duration": 18,
    "start_time": "2022-05-27T10:12:13.955Z"
   },
   {
    "duration": 4,
    "start_time": "2022-05-27T10:12:13.975Z"
   },
   {
    "duration": 16,
    "start_time": "2022-05-27T10:12:13.981Z"
   },
   {
    "duration": 6,
    "start_time": "2022-05-27T10:12:13.998Z"
   },
   {
    "duration": 6,
    "start_time": "2022-05-27T10:12:14.005Z"
   },
   {
    "duration": 24,
    "start_time": "2022-05-27T10:12:14.012Z"
   },
   {
    "duration": 18,
    "start_time": "2022-05-27T10:12:14.038Z"
   },
   {
    "duration": 6,
    "start_time": "2022-05-27T10:12:14.058Z"
   },
   {
    "duration": 8,
    "start_time": "2022-05-27T10:12:14.066Z"
   },
   {
    "duration": 12,
    "start_time": "2022-05-27T10:12:14.076Z"
   },
   {
    "duration": 3,
    "start_time": "2022-05-27T10:12:14.090Z"
   },
   {
    "duration": 372,
    "start_time": "2022-05-27T10:12:14.097Z"
   },
   {
    "duration": 14,
    "start_time": "2022-05-27T10:12:14.471Z"
   },
   {
    "duration": 5,
    "start_time": "2022-05-27T10:12:14.487Z"
   },
   {
    "duration": 17,
    "start_time": "2022-05-27T10:12:14.494Z"
   },
   {
    "duration": 18,
    "start_time": "2022-05-27T10:12:14.513Z"
   },
   {
    "duration": 13,
    "start_time": "2022-05-27T10:12:14.532Z"
   },
   {
    "duration": 24,
    "start_time": "2022-05-27T10:12:14.547Z"
   },
   {
    "duration": 170,
    "start_time": "2022-05-27T10:12:14.573Z"
   },
   {
    "duration": 267,
    "start_time": "2022-05-27T10:12:14.745Z"
   },
   {
    "duration": 140,
    "start_time": "2022-05-27T10:12:15.013Z"
   },
   {
    "duration": 154,
    "start_time": "2022-05-27T10:12:15.155Z"
   },
   {
    "duration": 181,
    "start_time": "2022-05-27T10:12:15.311Z"
   },
   {
    "duration": 142,
    "start_time": "2022-05-27T10:12:15.494Z"
   },
   {
    "duration": 100,
    "start_time": "2022-05-27T10:12:15.639Z"
   },
   {
    "duration": 13,
    "start_time": "2022-05-27T10:12:15.740Z"
   },
   {
    "duration": 210,
    "start_time": "2022-05-27T10:12:15.755Z"
   },
   {
    "duration": 148,
    "start_time": "2022-05-27T10:12:15.967Z"
   },
   {
    "duration": 137,
    "start_time": "2022-05-27T10:12:16.116Z"
   },
   {
    "duration": 13,
    "start_time": "2022-05-27T10:12:16.256Z"
   },
   {
    "duration": 9,
    "start_time": "2022-05-27T10:12:16.271Z"
   },
   {
    "duration": 167,
    "start_time": "2022-05-27T10:12:16.281Z"
   },
   {
    "duration": 199,
    "start_time": "2022-05-27T10:12:16.450Z"
   },
   {
    "duration": 7,
    "start_time": "2022-05-27T10:12:16.651Z"
   },
   {
    "duration": 140,
    "start_time": "2022-05-27T10:12:16.660Z"
   },
   {
    "duration": 6,
    "start_time": "2022-05-27T10:12:16.802Z"
   },
   {
    "duration": 34,
    "start_time": "2022-05-27T10:12:16.809Z"
   },
   {
    "duration": 21,
    "start_time": "2022-05-27T10:12:16.846Z"
   },
   {
    "duration": 4,
    "start_time": "2022-05-27T10:12:16.869Z"
   },
   {
    "duration": 310,
    "start_time": "2022-05-27T10:12:16.875Z"
   },
   {
    "duration": 5,
    "start_time": "2022-05-27T10:12:17.186Z"
   },
   {
    "duration": 743,
    "start_time": "2022-05-27T10:15:04.790Z"
   },
   {
    "duration": 100,
    "start_time": "2022-05-27T10:15:05.538Z"
   },
   {
    "duration": 30,
    "start_time": "2022-05-27T10:15:05.640Z"
   },
   {
    "duration": 17,
    "start_time": "2022-05-27T10:15:05.672Z"
   },
   {
    "duration": 7,
    "start_time": "2022-05-27T10:15:05.690Z"
   },
   {
    "duration": 11,
    "start_time": "2022-05-27T10:15:05.698Z"
   },
   {
    "duration": 13,
    "start_time": "2022-05-27T10:15:05.730Z"
   },
   {
    "duration": 28,
    "start_time": "2022-05-27T10:15:05.746Z"
   },
   {
    "duration": 15,
    "start_time": "2022-05-27T10:15:05.776Z"
   },
   {
    "duration": 15,
    "start_time": "2022-05-27T10:15:05.795Z"
   },
   {
    "duration": 36,
    "start_time": "2022-05-27T10:15:05.812Z"
   },
   {
    "duration": 27,
    "start_time": "2022-05-27T10:15:05.850Z"
   },
   {
    "duration": 4,
    "start_time": "2022-05-27T10:15:05.879Z"
   },
   {
    "duration": 9,
    "start_time": "2022-05-27T10:15:05.885Z"
   },
   {
    "duration": 17,
    "start_time": "2022-05-27T10:15:05.895Z"
   },
   {
    "duration": 44,
    "start_time": "2022-05-27T10:15:05.915Z"
   },
   {
    "duration": 21,
    "start_time": "2022-05-27T10:15:05.962Z"
   },
   {
    "duration": 6,
    "start_time": "2022-05-27T10:15:05.985Z"
   },
   {
    "duration": 10,
    "start_time": "2022-05-27T10:15:05.993Z"
   },
   {
    "duration": 8,
    "start_time": "2022-05-27T10:15:06.005Z"
   },
   {
    "duration": 16,
    "start_time": "2022-05-27T10:15:06.014Z"
   },
   {
    "duration": 24,
    "start_time": "2022-05-27T10:15:06.032Z"
   },
   {
    "duration": 16,
    "start_time": "2022-05-27T10:15:06.058Z"
   },
   {
    "duration": 10,
    "start_time": "2022-05-27T10:15:06.075Z"
   },
   {
    "duration": 6,
    "start_time": "2022-05-27T10:15:06.086Z"
   },
   {
    "duration": 17,
    "start_time": "2022-05-27T10:15:06.093Z"
   },
   {
    "duration": 10,
    "start_time": "2022-05-27T10:15:06.111Z"
   },
   {
    "duration": 33,
    "start_time": "2022-05-27T10:15:06.125Z"
   },
   {
    "duration": 18,
    "start_time": "2022-05-27T10:15:06.159Z"
   },
   {
    "duration": 10,
    "start_time": "2022-05-27T10:15:06.180Z"
   },
   {
    "duration": 49,
    "start_time": "2022-05-27T10:15:06.191Z"
   },
   {
    "duration": 8,
    "start_time": "2022-05-27T10:15:06.245Z"
   },
   {
    "duration": 17,
    "start_time": "2022-05-27T10:15:06.255Z"
   },
   {
    "duration": 17,
    "start_time": "2022-05-27T10:15:06.274Z"
   },
   {
    "duration": 11,
    "start_time": "2022-05-27T10:15:06.293Z"
   },
   {
    "duration": 9,
    "start_time": "2022-05-27T10:15:06.306Z"
   },
   {
    "duration": 17,
    "start_time": "2022-05-27T10:15:06.317Z"
   },
   {
    "duration": 30,
    "start_time": "2022-05-27T10:15:06.337Z"
   },
   {
    "duration": 12,
    "start_time": "2022-05-27T10:15:06.369Z"
   },
   {
    "duration": 389,
    "start_time": "2022-05-27T10:15:06.383Z"
   },
   {
    "duration": 12,
    "start_time": "2022-05-27T10:15:06.774Z"
   },
   {
    "duration": 5,
    "start_time": "2022-05-27T10:15:06.787Z"
   },
   {
    "duration": 34,
    "start_time": "2022-05-27T10:15:06.794Z"
   },
   {
    "duration": 7,
    "start_time": "2022-05-27T10:15:06.833Z"
   },
   {
    "duration": 19,
    "start_time": "2022-05-27T10:15:06.842Z"
   },
   {
    "duration": 24,
    "start_time": "2022-05-27T10:15:06.863Z"
   },
   {
    "duration": 166,
    "start_time": "2022-05-27T10:15:06.888Z"
   },
   {
    "duration": 263,
    "start_time": "2022-05-27T10:15:07.056Z"
   },
   {
    "duration": 139,
    "start_time": "2022-05-27T10:15:07.320Z"
   },
   {
    "duration": 152,
    "start_time": "2022-05-27T10:15:07.461Z"
   },
   {
    "duration": 174,
    "start_time": "2022-05-27T10:15:07.614Z"
   },
   {
    "duration": 162,
    "start_time": "2022-05-27T10:15:07.790Z"
   },
   {
    "duration": 129,
    "start_time": "2022-05-27T10:15:07.954Z"
   },
   {
    "duration": 12,
    "start_time": "2022-05-27T10:15:08.084Z"
   },
   {
    "duration": 208,
    "start_time": "2022-05-27T10:15:08.098Z"
   },
   {
    "duration": 143,
    "start_time": "2022-05-27T10:15:08.308Z"
   },
   {
    "duration": 142,
    "start_time": "2022-05-27T10:15:08.453Z"
   },
   {
    "duration": 12,
    "start_time": "2022-05-27T10:15:08.597Z"
   },
   {
    "duration": 21,
    "start_time": "2022-05-27T10:15:08.611Z"
   },
   {
    "duration": 137,
    "start_time": "2022-05-27T10:15:08.633Z"
   },
   {
    "duration": 139,
    "start_time": "2022-05-27T10:15:08.772Z"
   },
   {
    "duration": 8,
    "start_time": "2022-05-27T10:15:08.913Z"
   },
   {
    "duration": 145,
    "start_time": "2022-05-27T10:15:08.928Z"
   },
   {
    "duration": 6,
    "start_time": "2022-05-27T10:15:09.075Z"
   },
   {
    "duration": 22,
    "start_time": "2022-05-27T10:15:09.082Z"
   },
   {
    "duration": 41,
    "start_time": "2022-05-27T10:15:09.107Z"
   },
   {
    "duration": 4,
    "start_time": "2022-05-27T10:15:09.150Z"
   },
   {
    "duration": 312,
    "start_time": "2022-05-27T10:15:09.156Z"
   },
   {
    "duration": 5,
    "start_time": "2022-05-27T10:15:09.470Z"
   },
   {
    "duration": 686,
    "start_time": "2022-05-27T10:17:22.370Z"
   },
   {
    "duration": 106,
    "start_time": "2022-05-27T10:17:23.058Z"
   },
   {
    "duration": 28,
    "start_time": "2022-05-27T10:17:23.166Z"
   },
   {
    "duration": 15,
    "start_time": "2022-05-27T10:17:23.195Z"
   },
   {
    "duration": 4,
    "start_time": "2022-05-27T10:17:23.213Z"
   },
   {
    "duration": 13,
    "start_time": "2022-05-27T10:17:23.228Z"
   },
   {
    "duration": 27,
    "start_time": "2022-05-27T10:17:23.242Z"
   },
   {
    "duration": 10,
    "start_time": "2022-05-27T10:17:23.271Z"
   },
   {
    "duration": 22,
    "start_time": "2022-05-27T10:17:23.283Z"
   },
   {
    "duration": 7,
    "start_time": "2022-05-27T10:17:23.307Z"
   },
   {
    "duration": 15,
    "start_time": "2022-05-27T10:17:23.315Z"
   },
   {
    "duration": 10,
    "start_time": "2022-05-27T10:17:23.338Z"
   },
   {
    "duration": 6,
    "start_time": "2022-05-27T10:17:23.350Z"
   },
   {
    "duration": 7,
    "start_time": "2022-05-27T10:17:23.359Z"
   },
   {
    "duration": 10,
    "start_time": "2022-05-27T10:17:23.367Z"
   },
   {
    "duration": 11,
    "start_time": "2022-05-27T10:17:23.378Z"
   },
   {
    "duration": 13,
    "start_time": "2022-05-27T10:17:23.390Z"
   },
   {
    "duration": 5,
    "start_time": "2022-05-27T10:17:23.404Z"
   },
   {
    "duration": 10,
    "start_time": "2022-05-27T10:17:23.410Z"
   },
   {
    "duration": 20,
    "start_time": "2022-05-27T10:17:23.428Z"
   },
   {
    "duration": 6,
    "start_time": "2022-05-27T10:17:23.450Z"
   },
   {
    "duration": 7,
    "start_time": "2022-05-27T10:17:23.458Z"
   },
   {
    "duration": 15,
    "start_time": "2022-05-27T10:17:23.466Z"
   },
   {
    "duration": 9,
    "start_time": "2022-05-27T10:17:23.483Z"
   },
   {
    "duration": 5,
    "start_time": "2022-05-27T10:17:23.493Z"
   },
   {
    "duration": 8,
    "start_time": "2022-05-27T10:17:23.499Z"
   },
   {
    "duration": 8,
    "start_time": "2022-05-27T10:17:23.509Z"
   },
   {
    "duration": 15,
    "start_time": "2022-05-27T10:17:23.527Z"
   },
   {
    "duration": 17,
    "start_time": "2022-05-27T10:17:23.543Z"
   },
   {
    "duration": 6,
    "start_time": "2022-05-27T10:17:23.563Z"
   },
   {
    "duration": 22,
    "start_time": "2022-05-27T10:17:23.570Z"
   },
   {
    "duration": 5,
    "start_time": "2022-05-27T10:17:23.593Z"
   },
   {
    "duration": 5,
    "start_time": "2022-05-27T10:17:23.600Z"
   },
   {
    "duration": 28,
    "start_time": "2022-05-27T10:17:23.606Z"
   },
   {
    "duration": 19,
    "start_time": "2022-05-27T10:17:23.636Z"
   },
   {
    "duration": 8,
    "start_time": "2022-05-27T10:17:23.656Z"
   },
   {
    "duration": 18,
    "start_time": "2022-05-27T10:17:23.665Z"
   },
   {
    "duration": 10,
    "start_time": "2022-05-27T10:17:23.685Z"
   },
   {
    "duration": 3,
    "start_time": "2022-05-27T10:17:23.697Z"
   },
   {
    "duration": 332,
    "start_time": "2022-05-27T10:17:23.701Z"
   },
   {
    "duration": 11,
    "start_time": "2022-05-27T10:17:24.040Z"
   },
   {
    "duration": 6,
    "start_time": "2022-05-27T10:17:24.053Z"
   },
   {
    "duration": 17,
    "start_time": "2022-05-27T10:17:24.060Z"
   },
   {
    "duration": 4,
    "start_time": "2022-05-27T10:17:24.078Z"
   },
   {
    "duration": 13,
    "start_time": "2022-05-27T10:17:24.083Z"
   },
   {
    "duration": 51,
    "start_time": "2022-05-27T10:17:24.098Z"
   },
   {
    "duration": 141,
    "start_time": "2022-05-27T10:17:24.151Z"
   },
   {
    "duration": 256,
    "start_time": "2022-05-27T10:17:24.294Z"
   },
   {
    "duration": 142,
    "start_time": "2022-05-27T10:17:24.551Z"
   },
   {
    "duration": 141,
    "start_time": "2022-05-27T10:17:24.695Z"
   },
   {
    "duration": 166,
    "start_time": "2022-05-27T10:17:24.842Z"
   },
   {
    "duration": 143,
    "start_time": "2022-05-27T10:17:25.010Z"
   },
   {
    "duration": 105,
    "start_time": "2022-05-27T10:17:25.155Z"
   },
   {
    "duration": 12,
    "start_time": "2022-05-27T10:17:25.262Z"
   },
   {
    "duration": 222,
    "start_time": "2022-05-27T10:17:25.275Z"
   },
   {
    "duration": 141,
    "start_time": "2022-05-27T10:17:25.499Z"
   },
   {
    "duration": 114,
    "start_time": "2022-05-27T10:17:25.642Z"
   },
   {
    "duration": 12,
    "start_time": "2022-05-27T10:17:25.758Z"
   },
   {
    "duration": 4,
    "start_time": "2022-05-27T10:17:25.771Z"
   },
   {
    "duration": 133,
    "start_time": "2022-05-27T10:17:25.776Z"
   },
   {
    "duration": 132,
    "start_time": "2022-05-27T10:17:25.911Z"
   },
   {
    "duration": 5,
    "start_time": "2022-05-27T10:17:26.045Z"
   },
   {
    "duration": 154,
    "start_time": "2022-05-27T10:17:26.052Z"
   },
   {
    "duration": 7,
    "start_time": "2022-05-27T10:17:26.208Z"
   },
   {
    "duration": 35,
    "start_time": "2022-05-27T10:17:26.238Z"
   },
   {
    "duration": 18,
    "start_time": "2022-05-27T10:17:26.275Z"
   },
   {
    "duration": 5,
    "start_time": "2022-05-27T10:17:26.295Z"
   },
   {
    "duration": 340,
    "start_time": "2022-05-27T10:17:26.303Z"
   },
   {
    "duration": 6,
    "start_time": "2022-05-27T10:17:26.644Z"
   },
   {
    "duration": 278,
    "start_time": "2022-05-27T10:18:43.674Z"
   },
   {
    "duration": 127,
    "start_time": "2022-05-27T10:19:01.440Z"
   },
   {
    "duration": 140,
    "start_time": "2022-05-27T10:19:13.712Z"
   },
   {
    "duration": 165,
    "start_time": "2022-05-27T10:19:46.723Z"
   },
   {
    "duration": 137,
    "start_time": "2022-05-27T10:19:51.725Z"
   },
   {
    "duration": 133,
    "start_time": "2022-05-27T10:20:05.743Z"
   },
   {
    "duration": 150,
    "start_time": "2022-05-27T10:20:29.997Z"
   },
   {
    "duration": 165,
    "start_time": "2022-05-27T10:20:44.726Z"
   },
   {
    "duration": 145,
    "start_time": "2022-05-27T10:20:53.045Z"
   },
   {
    "duration": 6,
    "start_time": "2022-05-27T10:21:22.273Z"
   },
   {
    "duration": 145,
    "start_time": "2022-05-27T10:33:57.739Z"
   },
   {
    "duration": 150,
    "start_time": "2022-05-27T10:34:26.518Z"
   },
   {
    "duration": 190,
    "start_time": "2022-05-27T10:34:42.651Z"
   },
   {
    "duration": 133,
    "start_time": "2022-05-27T10:34:50.691Z"
   },
   {
    "duration": 152,
    "start_time": "2022-05-27T10:35:37.477Z"
   },
   {
    "duration": 136,
    "start_time": "2022-05-27T10:35:48.120Z"
   },
   {
    "duration": 295,
    "start_time": "2022-05-27T10:39:20.009Z"
   },
   {
    "duration": 131,
    "start_time": "2022-05-27T10:40:03.973Z"
   },
   {
    "duration": 185,
    "start_time": "2022-05-27T10:40:16.219Z"
   },
   {
    "duration": 127,
    "start_time": "2022-05-27T10:40:24.586Z"
   },
   {
    "duration": 138,
    "start_time": "2022-05-27T10:40:35.811Z"
   },
   {
    "duration": 147,
    "start_time": "2022-05-27T10:40:47.651Z"
   },
   {
    "duration": 162,
    "start_time": "2022-05-27T10:40:58.518Z"
   },
   {
    "duration": 171,
    "start_time": "2022-05-27T10:44:33.924Z"
   },
   {
    "duration": 251,
    "start_time": "2022-05-27T10:44:43.573Z"
   },
   {
    "duration": 147,
    "start_time": "2022-05-27T10:44:51.641Z"
   },
   {
    "duration": 168,
    "start_time": "2022-05-27T10:45:04.368Z"
   },
   {
    "duration": 166,
    "start_time": "2022-05-27T10:45:35.755Z"
   },
   {
    "duration": 143,
    "start_time": "2022-05-27T10:45:42.205Z"
   },
   {
    "duration": 190,
    "start_time": "2022-05-27T10:49:54.681Z"
   },
   {
    "duration": 149,
    "start_time": "2022-05-27T10:54:00.155Z"
   },
   {
    "duration": 161,
    "start_time": "2022-05-27T10:54:11.764Z"
   },
   {
    "duration": 136,
    "start_time": "2022-05-27T10:54:25.681Z"
   },
   {
    "duration": 154,
    "start_time": "2022-05-27T10:54:34.951Z"
   },
   {
    "duration": 162,
    "start_time": "2022-05-27T10:54:54.185Z"
   },
   {
    "duration": 241,
    "start_time": "2022-05-27T10:56:32.648Z"
   },
   {
    "duration": 160,
    "start_time": "2022-05-27T10:57:44.194Z"
   },
   {
    "duration": 144,
    "start_time": "2022-05-27T10:58:00.164Z"
   },
   {
    "duration": 157,
    "start_time": "2022-05-27T10:58:11.285Z"
   },
   {
    "duration": 140,
    "start_time": "2022-05-27T10:58:25.852Z"
   },
   {
    "duration": 157,
    "start_time": "2022-05-27T10:59:05.231Z"
   },
   {
    "duration": 160,
    "start_time": "2022-05-27T10:59:15.778Z"
   },
   {
    "duration": 200,
    "start_time": "2022-05-27T11:00:08.670Z"
   },
   {
    "duration": 205,
    "start_time": "2022-05-27T11:00:14.741Z"
   },
   {
    "duration": 153,
    "start_time": "2022-05-27T11:01:32.649Z"
   },
   {
    "duration": 150,
    "start_time": "2022-05-27T11:02:43.240Z"
   },
   {
    "duration": 296,
    "start_time": "2022-05-27T11:02:58.518Z"
   },
   {
    "duration": 198,
    "start_time": "2022-05-27T11:03:09.351Z"
   },
   {
    "duration": 199,
    "start_time": "2022-05-27T11:03:22.175Z"
   },
   {
    "duration": 272,
    "start_time": "2022-05-27T11:15:41.351Z"
   },
   {
    "duration": 300,
    "start_time": "2022-05-27T11:16:09.347Z"
   },
   {
    "duration": 255,
    "start_time": "2022-05-27T11:16:29.789Z"
   },
   {
    "duration": 164,
    "start_time": "2022-05-27T11:17:23.540Z"
   },
   {
    "duration": 178,
    "start_time": "2022-05-27T11:17:38.384Z"
   },
   {
    "duration": 177,
    "start_time": "2022-05-27T11:17:45.681Z"
   },
   {
    "duration": 170,
    "start_time": "2022-05-27T11:18:03.221Z"
   },
   {
    "duration": 178,
    "start_time": "2022-05-27T11:18:09.568Z"
   },
   {
    "duration": 256,
    "start_time": "2022-05-27T11:18:16.691Z"
   },
   {
    "duration": 170,
    "start_time": "2022-05-27T11:18:27.495Z"
   },
   {
    "duration": 235,
    "start_time": "2022-05-27T11:18:35.561Z"
   },
   {
    "duration": 168,
    "start_time": "2022-05-27T11:18:50.188Z"
   },
   {
    "duration": 168,
    "start_time": "2022-05-27T11:19:16.504Z"
   },
   {
    "duration": 147,
    "start_time": "2022-05-27T11:19:29.040Z"
   },
   {
    "duration": 141,
    "start_time": "2022-05-27T11:19:35.555Z"
   },
   {
    "duration": 170,
    "start_time": "2022-05-27T11:19:47.485Z"
   },
   {
    "duration": 191,
    "start_time": "2022-05-27T11:20:00.110Z"
   },
   {
    "duration": 190,
    "start_time": "2022-05-27T11:20:51.278Z"
   },
   {
    "duration": 222,
    "start_time": "2022-05-27T11:20:59.311Z"
   },
   {
    "duration": 173,
    "start_time": "2022-05-27T11:21:09.010Z"
   },
   {
    "duration": 230,
    "start_time": "2022-05-27T11:21:16.587Z"
   },
   {
    "duration": 194,
    "start_time": "2022-05-27T11:21:25.157Z"
   },
   {
    "duration": 193,
    "start_time": "2022-05-27T11:21:39.754Z"
   },
   {
    "duration": 311,
    "start_time": "2022-05-27T11:21:45.964Z"
   },
   {
    "duration": 191,
    "start_time": "2022-05-27T11:21:53.799Z"
   },
   {
    "duration": 7,
    "start_time": "2022-05-27T11:26:19.354Z"
   },
   {
    "duration": 752,
    "start_time": "2022-05-27T11:28:27.467Z"
   },
   {
    "duration": 94,
    "start_time": "2022-05-27T11:28:28.221Z"
   },
   {
    "duration": 38,
    "start_time": "2022-05-27T11:28:28.317Z"
   },
   {
    "duration": 25,
    "start_time": "2022-05-27T11:28:28.358Z"
   },
   {
    "duration": 5,
    "start_time": "2022-05-27T11:28:28.385Z"
   },
   {
    "duration": 35,
    "start_time": "2022-05-27T11:28:28.392Z"
   },
   {
    "duration": 14,
    "start_time": "2022-05-27T11:28:28.429Z"
   },
   {
    "duration": 6,
    "start_time": "2022-05-27T11:28:28.445Z"
   },
   {
    "duration": 8,
    "start_time": "2022-05-27T11:28:28.452Z"
   },
   {
    "duration": 5,
    "start_time": "2022-05-27T11:28:28.462Z"
   },
   {
    "duration": 10,
    "start_time": "2022-05-27T11:28:28.468Z"
   },
   {
    "duration": 49,
    "start_time": "2022-05-27T11:28:28.480Z"
   },
   {
    "duration": 4,
    "start_time": "2022-05-27T11:28:28.531Z"
   },
   {
    "duration": 13,
    "start_time": "2022-05-27T11:28:28.536Z"
   },
   {
    "duration": 11,
    "start_time": "2022-05-27T11:28:28.550Z"
   },
   {
    "duration": 5,
    "start_time": "2022-05-27T11:28:28.562Z"
   },
   {
    "duration": 15,
    "start_time": "2022-05-27T11:28:28.569Z"
   },
   {
    "duration": 45,
    "start_time": "2022-05-27T11:28:28.585Z"
   },
   {
    "duration": 11,
    "start_time": "2022-05-27T11:28:28.632Z"
   },
   {
    "duration": 11,
    "start_time": "2022-05-27T11:28:28.644Z"
   },
   {
    "duration": 9,
    "start_time": "2022-05-27T11:28:28.656Z"
   },
   {
    "duration": 10,
    "start_time": "2022-05-27T11:28:28.666Z"
   },
   {
    "duration": 49,
    "start_time": "2022-05-27T11:28:28.678Z"
   },
   {
    "duration": 8,
    "start_time": "2022-05-27T11:28:28.729Z"
   },
   {
    "duration": 8,
    "start_time": "2022-05-27T11:28:28.739Z"
   },
   {
    "duration": 6,
    "start_time": "2022-05-27T11:28:28.749Z"
   },
   {
    "duration": 7,
    "start_time": "2022-05-27T11:28:28.758Z"
   },
   {
    "duration": 11,
    "start_time": "2022-05-27T11:28:28.769Z"
   },
   {
    "duration": 53,
    "start_time": "2022-05-27T11:28:28.782Z"
   },
   {
    "duration": 8,
    "start_time": "2022-05-27T11:28:28.837Z"
   },
   {
    "duration": 21,
    "start_time": "2022-05-27T11:28:28.847Z"
   },
   {
    "duration": 7,
    "start_time": "2022-05-27T11:28:28.870Z"
   },
   {
    "duration": 6,
    "start_time": "2022-05-27T11:28:28.879Z"
   },
   {
    "duration": 43,
    "start_time": "2022-05-27T11:28:28.886Z"
   },
   {
    "duration": 11,
    "start_time": "2022-05-27T11:28:28.931Z"
   },
   {
    "duration": 12,
    "start_time": "2022-05-27T11:28:28.944Z"
   },
   {
    "duration": 22,
    "start_time": "2022-05-27T11:28:28.957Z"
   },
   {
    "duration": 20,
    "start_time": "2022-05-27T11:28:28.981Z"
   },
   {
    "duration": 4,
    "start_time": "2022-05-27T11:28:29.003Z"
   },
   {
    "duration": 331,
    "start_time": "2022-05-27T11:28:29.008Z"
   },
   {
    "duration": 12,
    "start_time": "2022-05-27T11:28:29.341Z"
   },
   {
    "duration": 12,
    "start_time": "2022-05-27T11:28:29.354Z"
   },
   {
    "duration": 13,
    "start_time": "2022-05-27T11:28:29.368Z"
   },
   {
    "duration": 4,
    "start_time": "2022-05-27T11:28:29.383Z"
   },
   {
    "duration": 42,
    "start_time": "2022-05-27T11:28:29.389Z"
   },
   {
    "duration": 29,
    "start_time": "2022-05-27T11:28:29.434Z"
   },
   {
    "duration": 208,
    "start_time": "2022-05-27T11:28:29.465Z"
   },
   {
    "duration": 311,
    "start_time": "2022-05-27T11:28:29.675Z"
   },
   {
    "duration": 157,
    "start_time": "2022-05-27T11:28:29.988Z"
   },
   {
    "duration": 154,
    "start_time": "2022-05-27T11:28:30.147Z"
   },
   {
    "duration": 183,
    "start_time": "2022-05-27T11:28:30.303Z"
   },
   {
    "duration": 151,
    "start_time": "2022-05-27T11:28:30.489Z"
   },
   {
    "duration": 104,
    "start_time": "2022-05-27T11:28:30.643Z"
   },
   {
    "duration": 14,
    "start_time": "2022-05-27T11:28:30.749Z"
   },
   {
    "duration": 210,
    "start_time": "2022-05-27T11:28:30.766Z"
   },
   {
    "duration": 157,
    "start_time": "2022-05-27T11:28:30.979Z"
   },
   {
    "duration": 148,
    "start_time": "2022-05-27T11:28:31.138Z"
   },
   {
    "duration": 12,
    "start_time": "2022-05-27T11:28:31.291Z"
   },
   {
    "duration": 27,
    "start_time": "2022-05-27T11:28:31.304Z"
   },
   {
    "duration": 131,
    "start_time": "2022-05-27T11:28:31.332Z"
   },
   {
    "duration": 140,
    "start_time": "2022-05-27T11:28:31.466Z"
   },
   {
    "duration": 20,
    "start_time": "2022-05-27T11:28:31.609Z"
   },
   {
    "duration": 146,
    "start_time": "2022-05-27T11:28:31.630Z"
   },
   {
    "duration": 6,
    "start_time": "2022-05-27T11:28:31.777Z"
   },
   {
    "duration": 35,
    "start_time": "2022-05-27T11:28:31.785Z"
   },
   {
    "duration": 30,
    "start_time": "2022-05-27T11:28:31.822Z"
   },
   {
    "duration": 5,
    "start_time": "2022-05-27T11:28:31.854Z"
   },
   {
    "duration": 359,
    "start_time": "2022-05-27T11:28:31.861Z"
   },
   {
    "duration": 8,
    "start_time": "2022-05-27T11:28:32.222Z"
   },
   {
    "duration": 242,
    "start_time": "2022-05-27T11:28:32.232Z"
   },
   {
    "duration": 5,
    "start_time": "2022-05-27T11:28:32.476Z"
   },
   {
    "duration": 165,
    "start_time": "2022-05-27T11:28:32.483Z"
   },
   {
    "duration": 180,
    "start_time": "2022-05-27T11:28:32.650Z"
   },
   {
    "duration": 6,
    "start_time": "2022-05-27T11:28:32.832Z"
   },
   {
    "duration": 158,
    "start_time": "2022-05-27T11:28:32.839Z"
   },
   {
    "duration": 188,
    "start_time": "2022-05-27T11:28:32.999Z"
   },
   {
    "duration": 159,
    "start_time": "2022-05-27T11:28:33.188Z"
   },
   {
    "duration": 80,
    "start_time": "2022-05-27T13:09:56.820Z"
   },
   {
    "duration": 2787,
    "start_time": "2022-05-27T13:10:04.716Z"
   },
   {
    "duration": 1175,
    "start_time": "2022-05-27T13:10:07.515Z"
   },
   {
    "duration": 88,
    "start_time": "2022-05-27T13:10:08.694Z"
   },
   {
    "duration": 43,
    "start_time": "2022-05-27T13:10:08.785Z"
   },
   {
    "duration": 7,
    "start_time": "2022-05-27T13:10:08.831Z"
   },
   {
    "duration": 5,
    "start_time": "2022-05-27T13:10:08.862Z"
   },
   {
    "duration": 71,
    "start_time": "2022-05-27T13:10:08.878Z"
   },
   {
    "duration": 41,
    "start_time": "2022-05-27T13:10:08.958Z"
   },
   {
    "duration": 69,
    "start_time": "2022-05-27T13:10:09.001Z"
   },
   {
    "duration": 23,
    "start_time": "2022-05-27T13:10:09.074Z"
   },
   {
    "duration": 64,
    "start_time": "2022-05-27T13:10:09.099Z"
   },
   {
    "duration": 57,
    "start_time": "2022-05-27T13:10:09.165Z"
   },
   {
    "duration": 13,
    "start_time": "2022-05-27T13:10:09.224Z"
   },
   {
    "duration": 57,
    "start_time": "2022-05-27T13:10:09.240Z"
   },
   {
    "duration": 39,
    "start_time": "2022-05-27T13:10:09.299Z"
   },
   {
    "duration": 7,
    "start_time": "2022-05-27T13:10:09.340Z"
   },
   {
    "duration": 79,
    "start_time": "2022-05-27T13:10:09.349Z"
   },
   {
    "duration": 6,
    "start_time": "2022-05-27T13:10:09.431Z"
   },
   {
    "duration": 25,
    "start_time": "2022-05-27T13:10:09.439Z"
   },
   {
    "duration": 72,
    "start_time": "2022-05-27T13:10:09.467Z"
   },
   {
    "duration": 85,
    "start_time": "2022-05-27T13:10:09.541Z"
   },
   {
    "duration": 9,
    "start_time": "2022-05-27T13:10:09.628Z"
   },
   {
    "duration": 12,
    "start_time": "2022-05-27T13:10:09.639Z"
   },
   {
    "duration": 55,
    "start_time": "2022-05-27T13:10:09.657Z"
   },
   {
    "duration": 19,
    "start_time": "2022-05-27T13:10:09.718Z"
   },
   {
    "duration": 6,
    "start_time": "2022-05-27T13:10:09.739Z"
   },
   {
    "duration": 12,
    "start_time": "2022-05-27T13:10:09.746Z"
   },
   {
    "duration": 71,
    "start_time": "2022-05-27T13:10:09.768Z"
   },
   {
    "duration": 37,
    "start_time": "2022-05-27T13:10:09.841Z"
   },
   {
    "duration": 39,
    "start_time": "2022-05-27T13:10:09.885Z"
   },
   {
    "duration": 22,
    "start_time": "2022-05-27T13:10:09.927Z"
   },
   {
    "duration": 30,
    "start_time": "2022-05-27T13:10:09.951Z"
   },
   {
    "duration": 48,
    "start_time": "2022-05-27T13:10:09.983Z"
   },
   {
    "duration": 12,
    "start_time": "2022-05-27T13:10:10.033Z"
   },
   {
    "duration": 84,
    "start_time": "2022-05-27T13:10:10.048Z"
   },
   {
    "duration": 89,
    "start_time": "2022-05-27T13:10:10.135Z"
   },
   {
    "duration": 84,
    "start_time": "2022-05-27T13:10:10.226Z"
   },
   {
    "duration": 30,
    "start_time": "2022-05-27T13:10:10.312Z"
   },
   {
    "duration": 3,
    "start_time": "2022-05-27T13:10:10.345Z"
   },
   {
    "duration": 606,
    "start_time": "2022-05-27T13:10:10.351Z"
   },
   {
    "duration": 26,
    "start_time": "2022-05-27T13:10:10.965Z"
   },
   {
    "duration": 28,
    "start_time": "2022-05-27T13:10:10.999Z"
   },
   {
    "duration": 17,
    "start_time": "2022-05-27T13:10:11.029Z"
   },
   {
    "duration": 13,
    "start_time": "2022-05-27T13:10:11.047Z"
   },
   {
    "duration": 73,
    "start_time": "2022-05-27T13:10:11.062Z"
   },
   {
    "duration": 39,
    "start_time": "2022-05-27T13:10:11.137Z"
   },
   {
    "duration": 341,
    "start_time": "2022-05-27T13:10:11.183Z"
   },
   {
    "duration": 533,
    "start_time": "2022-05-27T13:10:11.528Z"
   },
   {
    "duration": 204,
    "start_time": "2022-05-27T13:10:12.071Z"
   },
   {
    "duration": 355,
    "start_time": "2022-05-27T13:10:12.279Z"
   },
   {
    "duration": 220,
    "start_time": "2022-05-27T13:10:12.639Z"
   },
   {
    "duration": 219,
    "start_time": "2022-05-27T13:10:12.866Z"
   },
   {
    "duration": 158,
    "start_time": "2022-05-27T13:10:13.092Z"
   },
   {
    "duration": 37,
    "start_time": "2022-05-27T13:10:13.253Z"
   },
   {
    "duration": 440,
    "start_time": "2022-05-27T13:10:13.295Z"
   },
   {
    "duration": 201,
    "start_time": "2022-05-27T13:10:13.737Z"
   },
   {
    "duration": 179,
    "start_time": "2022-05-27T13:10:13.942Z"
   },
   {
    "duration": 51,
    "start_time": "2022-05-27T13:10:14.123Z"
   },
   {
    "duration": 70,
    "start_time": "2022-05-27T13:10:14.181Z"
   },
   {
    "duration": 256,
    "start_time": "2022-05-27T13:10:14.257Z"
   },
   {
    "duration": 162,
    "start_time": "2022-05-27T13:10:14.515Z"
   },
   {
    "duration": 8,
    "start_time": "2022-05-27T13:10:14.678Z"
   },
   {
    "duration": 241,
    "start_time": "2022-05-27T13:10:14.687Z"
   },
   {
    "duration": 6,
    "start_time": "2022-05-27T13:10:14.930Z"
   },
   {
    "duration": 230,
    "start_time": "2022-05-27T13:10:14.937Z"
   },
   {
    "duration": 33,
    "start_time": "2022-05-27T13:10:15.169Z"
   },
   {
    "duration": 593,
    "start_time": "2022-05-27T13:10:15.205Z"
   },
   {
    "duration": 8,
    "start_time": "2022-05-27T13:10:15.802Z"
   },
   {
    "duration": 298,
    "start_time": "2022-05-27T13:10:15.813Z"
   },
   {
    "duration": 20,
    "start_time": "2022-05-27T13:10:16.113Z"
   },
   {
    "duration": 378,
    "start_time": "2022-05-27T13:10:16.137Z"
   },
   {
    "duration": 324,
    "start_time": "2022-05-27T13:10:16.518Z"
   },
   {
    "duration": 15,
    "start_time": "2022-05-27T13:10:16.846Z"
   },
   {
    "duration": 334,
    "start_time": "2022-05-27T13:10:16.865Z"
   },
   {
    "duration": 300,
    "start_time": "2022-05-27T13:10:17.205Z"
   },
   {
    "duration": 187,
    "start_time": "2022-05-27T13:10:17.508Z"
   },
   {
    "duration": 84,
    "start_time": "2022-05-27T13:10:17.697Z"
   },
   {
    "duration": 0,
    "start_time": "2022-05-27T13:10:17.786Z"
   },
   {
    "duration": 20,
    "start_time": "2022-05-27T13:10:30.878Z"
   },
   {
    "duration": 36,
    "start_time": "2022-05-27T13:10:48.283Z"
   },
   {
    "duration": 141,
    "start_time": "2022-05-27T13:11:31.199Z"
   },
   {
    "duration": 56,
    "start_time": "2022-05-27T13:11:44.667Z"
   },
   {
    "duration": 46,
    "start_time": "2022-05-27T13:11:47.508Z"
   },
   {
    "duration": 25,
    "start_time": "2022-05-27T13:12:23.212Z"
   },
   {
    "duration": 106,
    "start_time": "2022-05-27T13:12:28.836Z"
   },
   {
    "duration": 85,
    "start_time": "2022-05-27T13:18:51.268Z"
   },
   {
    "duration": 39,
    "start_time": "2022-05-27T13:23:51.383Z"
   },
   {
    "duration": 98,
    "start_time": "2022-05-27T13:25:12.820Z"
   },
   {
    "duration": 129,
    "start_time": "2022-05-27T13:25:26.764Z"
   },
   {
    "duration": 56,
    "start_time": "2022-05-27T13:25:45.632Z"
   },
   {
    "duration": 0,
    "start_time": "2022-05-27T13:26:33.337Z"
   },
   {
    "duration": 1251,
    "start_time": "2022-05-27T13:26:47.287Z"
   },
   {
    "duration": 813,
    "start_time": "2022-05-27T13:26:48.544Z"
   },
   {
    "duration": 80,
    "start_time": "2022-05-27T13:26:49.370Z"
   },
   {
    "duration": 89,
    "start_time": "2022-05-27T13:26:49.463Z"
   },
   {
    "duration": 34,
    "start_time": "2022-05-27T13:26:49.563Z"
   },
   {
    "duration": 159,
    "start_time": "2022-05-27T13:26:49.607Z"
   },
   {
    "duration": 122,
    "start_time": "2022-05-27T13:26:49.772Z"
   },
   {
    "duration": 73,
    "start_time": "2022-05-27T13:26:49.900Z"
   },
   {
    "duration": 72,
    "start_time": "2022-05-27T13:26:49.985Z"
   },
   {
    "duration": 120,
    "start_time": "2022-05-27T13:26:50.066Z"
   },
   {
    "duration": 122,
    "start_time": "2022-05-27T13:26:50.192Z"
   },
   {
    "duration": 135,
    "start_time": "2022-05-27T13:26:50.318Z"
   },
   {
    "duration": 107,
    "start_time": "2022-05-27T13:26:50.459Z"
   },
   {
    "duration": 119,
    "start_time": "2022-05-27T13:26:50.583Z"
   },
   {
    "duration": 117,
    "start_time": "2022-05-27T13:26:50.713Z"
   },
   {
    "duration": 130,
    "start_time": "2022-05-27T13:26:50.832Z"
   },
   {
    "duration": 98,
    "start_time": "2022-05-27T13:26:50.964Z"
   },
   {
    "duration": 33,
    "start_time": "2022-05-27T13:26:51.069Z"
   },
   {
    "duration": 134,
    "start_time": "2022-05-27T13:26:51.105Z"
   },
   {
    "duration": 113,
    "start_time": "2022-05-27T13:26:51.241Z"
   },
   {
    "duration": 96,
    "start_time": "2022-05-27T13:26:51.362Z"
   },
   {
    "duration": 71,
    "start_time": "2022-05-27T13:26:51.469Z"
   },
   {
    "duration": 127,
    "start_time": "2022-05-27T13:26:51.547Z"
   },
   {
    "duration": 129,
    "start_time": "2022-05-27T13:26:51.688Z"
   },
   {
    "duration": 87,
    "start_time": "2022-05-27T13:26:51.829Z"
   },
   {
    "duration": 182,
    "start_time": "2022-05-27T13:26:51.928Z"
   },
   {
    "duration": 231,
    "start_time": "2022-05-27T13:26:52.123Z"
   },
   {
    "duration": 181,
    "start_time": "2022-05-27T13:26:52.365Z"
   },
   {
    "duration": 160,
    "start_time": "2022-05-27T13:26:52.558Z"
   },
   {
    "duration": 146,
    "start_time": "2022-05-27T13:26:52.732Z"
   },
   {
    "duration": 169,
    "start_time": "2022-05-27T13:26:52.885Z"
   },
   {
    "duration": 124,
    "start_time": "2022-05-27T13:26:53.068Z"
   },
   {
    "duration": 184,
    "start_time": "2022-05-27T13:26:53.202Z"
   },
   {
    "duration": 185,
    "start_time": "2022-05-27T13:26:53.393Z"
   },
   {
    "duration": 137,
    "start_time": "2022-05-27T13:26:53.585Z"
   },
   {
    "duration": 127,
    "start_time": "2022-05-27T13:26:53.724Z"
   },
   {
    "duration": 137,
    "start_time": "2022-05-27T13:26:53.852Z"
   },
   {
    "duration": 182,
    "start_time": "2022-05-27T13:26:53.996Z"
   },
   {
    "duration": 102,
    "start_time": "2022-05-27T13:26:54.184Z"
   },
   {
    "duration": 750,
    "start_time": "2022-05-27T13:26:54.289Z"
   },
   {
    "duration": 27,
    "start_time": "2022-05-27T13:26:55.045Z"
   },
   {
    "duration": 164,
    "start_time": "2022-05-27T13:26:55.074Z"
   },
   {
    "duration": 168,
    "start_time": "2022-05-27T13:26:55.242Z"
   },
   {
    "duration": 84,
    "start_time": "2022-05-27T13:26:55.430Z"
   },
   {
    "duration": 179,
    "start_time": "2022-05-27T13:26:55.533Z"
   },
   {
    "duration": 161,
    "start_time": "2022-05-27T13:26:55.726Z"
   },
   {
    "duration": 486,
    "start_time": "2022-05-27T13:26:55.896Z"
   },
   {
    "duration": 593,
    "start_time": "2022-05-27T13:26:56.395Z"
   },
   {
    "duration": 204,
    "start_time": "2022-05-27T13:26:56.994Z"
   },
   {
    "duration": 466,
    "start_time": "2022-05-27T13:26:57.204Z"
   },
   {
    "duration": 381,
    "start_time": "2022-05-27T13:26:57.677Z"
   },
   {
    "duration": 305,
    "start_time": "2022-05-27T13:26:58.065Z"
   },
   {
    "duration": 259,
    "start_time": "2022-05-27T13:26:58.377Z"
   },
   {
    "duration": 24,
    "start_time": "2022-05-27T13:26:58.638Z"
   },
   {
    "duration": 384,
    "start_time": "2022-05-27T13:26:58.664Z"
   },
   {
    "duration": 469,
    "start_time": "2022-05-27T13:26:59.053Z"
   },
   {
    "duration": 399,
    "start_time": "2022-05-27T13:26:59.541Z"
   },
   {
    "duration": 32,
    "start_time": "2022-05-27T13:26:59.948Z"
   },
   {
    "duration": 160,
    "start_time": "2022-05-27T13:26:59.988Z"
   },
   {
    "duration": 385,
    "start_time": "2022-05-27T13:27:00.162Z"
   },
   {
    "duration": 270,
    "start_time": "2022-05-27T13:27:00.562Z"
   },
   {
    "duration": 16,
    "start_time": "2022-05-27T13:27:00.840Z"
   },
   {
    "duration": 596,
    "start_time": "2022-05-27T13:27:00.864Z"
   },
   {
    "duration": 27,
    "start_time": "2022-05-27T13:27:01.475Z"
   },
   {
    "duration": 206,
    "start_time": "2022-05-27T13:27:01.516Z"
   },
   {
    "duration": 225,
    "start_time": "2022-05-27T13:27:01.741Z"
   },
   {
    "duration": 673,
    "start_time": "2022-05-27T13:27:01.977Z"
   },
   {
    "duration": 28,
    "start_time": "2022-05-27T13:27:02.662Z"
   },
   {
    "duration": 709,
    "start_time": "2022-05-27T13:27:02.697Z"
   },
   {
    "duration": 10,
    "start_time": "2022-05-27T13:27:03.415Z"
   },
   {
    "duration": 354,
    "start_time": "2022-05-27T13:27:03.432Z"
   },
   {
    "duration": 516,
    "start_time": "2022-05-27T13:27:03.792Z"
   },
   {
    "duration": 15,
    "start_time": "2022-05-27T13:27:04.309Z"
   },
   {
    "duration": 586,
    "start_time": "2022-05-27T13:27:04.326Z"
   },
   {
    "duration": 472,
    "start_time": "2022-05-27T13:27:04.918Z"
   },
   {
    "duration": 319,
    "start_time": "2022-05-27T13:27:05.407Z"
   },
   {
    "duration": 45,
    "start_time": "2022-05-27T13:27:05.731Z"
   },
   {
    "duration": 109,
    "start_time": "2022-05-27T13:27:05.782Z"
   },
   {
    "duration": 159,
    "start_time": "2022-05-27T13:27:05.907Z"
   },
   {
    "duration": 56,
    "start_time": "2022-05-27T13:40:41.477Z"
   },
   {
    "duration": 13,
    "start_time": "2022-05-27T13:41:12.501Z"
   },
   {
    "duration": 294,
    "start_time": "2022-05-27T13:47:19.378Z"
   },
   {
    "duration": 27,
    "start_time": "2022-05-27T13:47:50.276Z"
   },
   {
    "duration": 28,
    "start_time": "2022-05-27T13:48:19.476Z"
   },
   {
    "duration": 5,
    "start_time": "2022-05-27T13:49:55.527Z"
   },
   {
    "duration": 12,
    "start_time": "2022-05-27T13:49:59.550Z"
   },
   {
    "duration": 32,
    "start_time": "2022-05-27T13:52:51.879Z"
   },
   {
    "duration": 28,
    "start_time": "2022-05-27T13:53:03.772Z"
   },
   {
    "duration": 16,
    "start_time": "2022-05-27T13:55:05.306Z"
   },
   {
    "duration": 1087,
    "start_time": "2022-05-27T13:55:55.455Z"
   },
   {
    "duration": 567,
    "start_time": "2022-05-27T13:55:56.616Z"
   },
   {
    "duration": 69,
    "start_time": "2022-05-27T13:55:57.187Z"
   },
   {
    "duration": 67,
    "start_time": "2022-05-27T13:55:57.262Z"
   },
   {
    "duration": 96,
    "start_time": "2022-05-27T13:55:57.334Z"
   },
   {
    "duration": 63,
    "start_time": "2022-05-27T13:55:57.433Z"
   },
   {
    "duration": 209,
    "start_time": "2022-05-27T13:55:57.498Z"
   },
   {
    "duration": 95,
    "start_time": "2022-05-27T13:55:57.713Z"
   },
   {
    "duration": 168,
    "start_time": "2022-05-27T13:55:57.813Z"
   },
   {
    "duration": 112,
    "start_time": "2022-05-27T13:55:57.997Z"
   },
   {
    "duration": 156,
    "start_time": "2022-05-27T13:55:58.116Z"
   },
   {
    "duration": 187,
    "start_time": "2022-05-27T13:55:58.276Z"
   },
   {
    "duration": 72,
    "start_time": "2022-05-27T13:55:58.475Z"
   },
   {
    "duration": 15,
    "start_time": "2022-05-27T13:55:58.551Z"
   },
   {
    "duration": 85,
    "start_time": "2022-05-27T13:55:58.570Z"
   },
   {
    "duration": 105,
    "start_time": "2022-05-27T13:55:58.661Z"
   },
   {
    "duration": 170,
    "start_time": "2022-05-27T13:55:58.772Z"
   },
   {
    "duration": 105,
    "start_time": "2022-05-27T13:55:58.949Z"
   },
   {
    "duration": 134,
    "start_time": "2022-05-27T13:55:59.056Z"
   },
   {
    "duration": 100,
    "start_time": "2022-05-27T13:55:59.194Z"
   },
   {
    "duration": 100,
    "start_time": "2022-05-27T13:55:59.298Z"
   },
   {
    "duration": 38,
    "start_time": "2022-05-27T13:55:59.405Z"
   },
   {
    "duration": 130,
    "start_time": "2022-05-27T13:55:59.451Z"
   },
   {
    "duration": 98,
    "start_time": "2022-05-27T13:55:59.584Z"
   },
   {
    "duration": 105,
    "start_time": "2022-05-27T13:55:59.689Z"
   },
   {
    "duration": 83,
    "start_time": "2022-05-27T13:55:59.796Z"
   },
   {
    "duration": 56,
    "start_time": "2022-05-27T13:55:59.881Z"
   },
   {
    "duration": 28,
    "start_time": "2022-05-27T13:55:59.939Z"
   },
   {
    "duration": 57,
    "start_time": "2022-05-27T13:55:59.976Z"
   },
   {
    "duration": 41,
    "start_time": "2022-05-27T13:56:00.042Z"
   },
   {
    "duration": 152,
    "start_time": "2022-05-27T13:56:00.089Z"
   },
   {
    "duration": 96,
    "start_time": "2022-05-27T13:56:00.248Z"
   },
   {
    "duration": 107,
    "start_time": "2022-05-27T13:56:00.351Z"
   },
   {
    "duration": 121,
    "start_time": "2022-05-27T13:56:00.463Z"
   },
   {
    "duration": 137,
    "start_time": "2022-05-27T13:56:00.594Z"
   },
   {
    "duration": 85,
    "start_time": "2022-05-27T13:56:00.738Z"
   },
   {
    "duration": 67,
    "start_time": "2022-05-27T13:56:00.829Z"
   },
   {
    "duration": 215,
    "start_time": "2022-05-27T13:56:00.903Z"
   },
   {
    "duration": 138,
    "start_time": "2022-05-27T13:56:01.126Z"
   },
   {
    "duration": 788,
    "start_time": "2022-05-27T13:56:01.270Z"
   },
   {
    "duration": 23,
    "start_time": "2022-05-27T13:56:02.066Z"
   },
   {
    "duration": 94,
    "start_time": "2022-05-27T13:56:02.096Z"
   },
   {
    "duration": 211,
    "start_time": "2022-05-27T13:56:02.196Z"
   },
   {
    "duration": 207,
    "start_time": "2022-05-27T13:56:02.415Z"
   },
   {
    "duration": 176,
    "start_time": "2022-05-27T13:56:02.628Z"
   },
   {
    "duration": 164,
    "start_time": "2022-05-27T13:56:02.810Z"
   },
   {
    "duration": 247,
    "start_time": "2022-05-27T13:56:02.980Z"
   },
   {
    "duration": 412,
    "start_time": "2022-05-27T13:56:03.233Z"
   },
   {
    "duration": 216,
    "start_time": "2022-05-27T13:56:03.650Z"
   },
   {
    "duration": 231,
    "start_time": "2022-05-27T13:56:03.871Z"
   },
   {
    "duration": 273,
    "start_time": "2022-05-27T13:56:04.108Z"
   },
   {
    "duration": 235,
    "start_time": "2022-05-27T13:56:04.383Z"
   },
   {
    "duration": 165,
    "start_time": "2022-05-27T13:56:04.620Z"
   },
   {
    "duration": 22,
    "start_time": "2022-05-27T13:56:04.787Z"
   },
   {
    "duration": 326,
    "start_time": "2022-05-27T13:56:04.814Z"
   },
   {
    "duration": 226,
    "start_time": "2022-05-27T13:56:05.146Z"
   },
   {
    "duration": 211,
    "start_time": "2022-05-27T13:56:05.379Z"
   },
   {
    "duration": 19,
    "start_time": "2022-05-27T13:56:05.596Z"
   },
   {
    "duration": 19,
    "start_time": "2022-05-27T13:56:05.620Z"
   },
   {
    "duration": 239,
    "start_time": "2022-05-27T13:56:05.644Z"
   },
   {
    "duration": 193,
    "start_time": "2022-05-27T13:56:05.888Z"
   },
   {
    "duration": 11,
    "start_time": "2022-05-27T13:56:06.087Z"
   },
   {
    "duration": 411,
    "start_time": "2022-05-27T13:56:06.104Z"
   },
   {
    "duration": 13,
    "start_time": "2022-05-27T13:56:06.521Z"
   },
   {
    "duration": 167,
    "start_time": "2022-05-27T13:56:06.544Z"
   },
   {
    "duration": 200,
    "start_time": "2022-05-27T13:56:06.722Z"
   },
   {
    "duration": 566,
    "start_time": "2022-05-27T13:56:06.932Z"
   },
   {
    "duration": 20,
    "start_time": "2022-05-27T13:56:07.509Z"
   },
   {
    "duration": 538,
    "start_time": "2022-05-27T13:56:07.534Z"
   },
   {
    "duration": 10,
    "start_time": "2022-05-27T13:56:08.078Z"
   },
   {
    "duration": 399,
    "start_time": "2022-05-27T13:56:08.096Z"
   },
   {
    "duration": 336,
    "start_time": "2022-05-27T13:56:08.501Z"
   },
   {
    "duration": 26,
    "start_time": "2022-05-27T13:56:08.853Z"
   },
   {
    "duration": 382,
    "start_time": "2022-05-27T13:56:08.886Z"
   },
   {
    "duration": 338,
    "start_time": "2022-05-27T13:56:09.274Z"
   },
   {
    "duration": 214,
    "start_time": "2022-05-27T13:56:09.618Z"
   },
   {
    "duration": 36,
    "start_time": "2022-05-27T13:56:09.838Z"
   },
   {
    "duration": 16,
    "start_time": "2022-05-27T13:56:09.880Z"
   },
   {
    "duration": 70,
    "start_time": "2022-05-27T13:56:09.902Z"
   },
   {
    "duration": 106,
    "start_time": "2022-05-27T13:56:09.979Z"
   },
   {
    "duration": 6,
    "start_time": "2022-05-27T13:56:53.816Z"
   },
   {
    "duration": 306,
    "start_time": "2022-05-27T13:56:53.824Z"
   },
   {
    "duration": 110,
    "start_time": "2022-05-27T13:56:54.144Z"
   },
   {
    "duration": 135,
    "start_time": "2022-05-27T13:56:54.267Z"
   },
   {
    "duration": 93,
    "start_time": "2022-05-27T13:56:54.416Z"
   },
   {
    "duration": 131,
    "start_time": "2022-05-27T13:56:54.527Z"
   },
   {
    "duration": 151,
    "start_time": "2022-05-27T13:56:54.675Z"
   },
   {
    "duration": 128,
    "start_time": "2022-05-27T13:56:54.828Z"
   },
   {
    "duration": 184,
    "start_time": "2022-05-27T13:56:54.958Z"
   },
   {
    "duration": 129,
    "start_time": "2022-05-27T13:56:55.149Z"
   },
   {
    "duration": 119,
    "start_time": "2022-05-27T13:56:55.283Z"
   },
   {
    "duration": 190,
    "start_time": "2022-05-27T13:56:55.404Z"
   },
   {
    "duration": 115,
    "start_time": "2022-05-27T13:56:55.599Z"
   },
   {
    "duration": 126,
    "start_time": "2022-05-27T13:56:55.721Z"
   },
   {
    "duration": 227,
    "start_time": "2022-05-27T13:56:55.851Z"
   },
   {
    "duration": 184,
    "start_time": "2022-05-27T13:56:56.082Z"
   },
   {
    "duration": 222,
    "start_time": "2022-05-27T13:56:56.272Z"
   },
   {
    "duration": 121,
    "start_time": "2022-05-27T13:56:56.500Z"
   },
   {
    "duration": 146,
    "start_time": "2022-05-27T13:56:56.640Z"
   },
   {
    "duration": 142,
    "start_time": "2022-05-27T13:56:56.788Z"
   },
   {
    "duration": 146,
    "start_time": "2022-05-27T13:56:56.932Z"
   },
   {
    "duration": 126,
    "start_time": "2022-05-27T13:56:57.080Z"
   },
   {
    "duration": 185,
    "start_time": "2022-05-27T13:56:57.212Z"
   },
   {
    "duration": 110,
    "start_time": "2022-05-27T13:56:57.403Z"
   },
   {
    "duration": 55,
    "start_time": "2022-05-27T13:56:57.531Z"
   },
   {
    "duration": 104,
    "start_time": "2022-05-27T13:56:57.594Z"
   },
   {
    "duration": 134,
    "start_time": "2022-05-27T13:56:57.704Z"
   },
   {
    "duration": 41,
    "start_time": "2022-05-27T13:56:57.844Z"
   },
   {
    "duration": 41,
    "start_time": "2022-05-27T13:56:57.891Z"
   },
   {
    "duration": 95,
    "start_time": "2022-05-27T13:56:57.938Z"
   },
   {
    "duration": 151,
    "start_time": "2022-05-27T13:56:58.042Z"
   },
   {
    "duration": 52,
    "start_time": "2022-05-27T13:56:58.202Z"
   },
   {
    "duration": 57,
    "start_time": "2022-05-27T13:56:58.257Z"
   },
   {
    "duration": 124,
    "start_time": "2022-05-27T13:56:58.327Z"
   },
   {
    "duration": 118,
    "start_time": "2022-05-27T13:56:58.456Z"
   },
   {
    "duration": 97,
    "start_time": "2022-05-27T13:56:58.577Z"
   },
   {
    "duration": 66,
    "start_time": "2022-05-27T13:56:58.691Z"
   },
   {
    "duration": 115,
    "start_time": "2022-05-27T13:56:58.764Z"
   },
   {
    "duration": 108,
    "start_time": "2022-05-27T13:56:58.884Z"
   },
   {
    "duration": 796,
    "start_time": "2022-05-27T13:56:59.003Z"
   },
   {
    "duration": 41,
    "start_time": "2022-05-27T13:56:59.814Z"
   },
   {
    "duration": 92,
    "start_time": "2022-05-27T13:56:59.865Z"
   },
   {
    "duration": 181,
    "start_time": "2022-05-27T13:56:59.973Z"
   },
   {
    "duration": 108,
    "start_time": "2022-05-27T13:57:00.160Z"
   },
   {
    "duration": 174,
    "start_time": "2022-05-27T13:57:00.275Z"
   },
   {
    "duration": 264,
    "start_time": "2022-05-27T13:57:00.453Z"
   },
   {
    "duration": 372,
    "start_time": "2022-05-27T13:57:00.722Z"
   },
   {
    "duration": 594,
    "start_time": "2022-05-27T13:57:01.101Z"
   },
   {
    "duration": 254,
    "start_time": "2022-05-27T13:57:01.702Z"
   },
   {
    "duration": 317,
    "start_time": "2022-05-27T13:57:01.963Z"
   },
   {
    "duration": 168,
    "start_time": "2022-05-27T13:57:02.287Z"
   },
   {
    "duration": 251,
    "start_time": "2022-05-27T13:57:02.459Z"
   },
   {
    "duration": 178,
    "start_time": "2022-05-27T13:57:02.716Z"
   },
   {
    "duration": 31,
    "start_time": "2022-05-27T13:57:02.900Z"
   },
   {
    "duration": 573,
    "start_time": "2022-05-27T13:57:02.937Z"
   },
   {
    "duration": 194,
    "start_time": "2022-05-27T13:57:03.516Z"
   },
   {
    "duration": 184,
    "start_time": "2022-05-27T13:57:03.716Z"
   },
   {
    "duration": 20,
    "start_time": "2022-05-27T13:57:03.906Z"
   },
   {
    "duration": 87,
    "start_time": "2022-05-27T13:57:03.931Z"
   },
   {
    "duration": 270,
    "start_time": "2022-05-27T13:57:04.028Z"
   },
   {
    "duration": 378,
    "start_time": "2022-05-27T13:57:04.315Z"
   },
   {
    "duration": 11,
    "start_time": "2022-05-27T13:57:04.706Z"
   },
   {
    "duration": 405,
    "start_time": "2022-05-27T13:57:04.728Z"
   },
   {
    "duration": 16,
    "start_time": "2022-05-27T13:57:05.143Z"
   },
   {
    "duration": 134,
    "start_time": "2022-05-27T13:57:05.191Z"
   },
   {
    "duration": 82,
    "start_time": "2022-05-27T13:57:05.331Z"
   },
   {
    "duration": 725,
    "start_time": "2022-05-27T13:57:05.419Z"
   },
   {
    "duration": 6,
    "start_time": "2022-05-27T13:57:06.147Z"
   },
   {
    "duration": 349,
    "start_time": "2022-05-27T13:57:06.157Z"
   },
   {
    "duration": 13,
    "start_time": "2022-05-27T13:57:06.511Z"
   },
   {
    "duration": 361,
    "start_time": "2022-05-27T13:57:06.527Z"
   },
   {
    "duration": 280,
    "start_time": "2022-05-27T13:57:06.892Z"
   },
   {
    "duration": 11,
    "start_time": "2022-05-27T13:57:07.178Z"
   },
   {
    "duration": 339,
    "start_time": "2022-05-27T13:57:07.198Z"
   },
   {
    "duration": 275,
    "start_time": "2022-05-27T13:57:07.541Z"
   },
   {
    "duration": 277,
    "start_time": "2022-05-27T13:57:07.823Z"
   },
   {
    "duration": 52,
    "start_time": "2022-05-27T13:57:08.110Z"
   },
   {
    "duration": 173,
    "start_time": "2022-05-27T13:57:08.164Z"
   },
   {
    "duration": 80,
    "start_time": "2022-05-27T13:57:08.344Z"
   },
   {
    "duration": 18,
    "start_time": "2022-05-27T13:57:08.427Z"
   },
   {
    "duration": 22,
    "start_time": "2022-05-27T13:57:15.750Z"
   },
   {
    "duration": 21,
    "start_time": "2022-05-27T13:57:41.376Z"
   },
   {
    "duration": 146,
    "start_time": "2022-05-27T13:57:55.075Z"
   },
   {
    "duration": 12,
    "start_time": "2022-05-27T13:58:01.752Z"
   },
   {
    "duration": 29,
    "start_time": "2022-05-27T13:58:30.804Z"
   },
   {
    "duration": 34,
    "start_time": "2022-05-27T13:58:40.183Z"
   },
   {
    "duration": 17,
    "start_time": "2022-05-27T13:58:54.491Z"
   },
   {
    "duration": 197,
    "start_time": "2022-05-27T14:02:57.126Z"
   },
   {
    "duration": 281,
    "start_time": "2022-05-27T14:03:07.899Z"
   },
   {
    "duration": 413,
    "start_time": "2022-05-27T14:04:10.855Z"
   },
   {
    "duration": 243,
    "start_time": "2022-05-27T14:09:49.232Z"
   },
   {
    "duration": 239,
    "start_time": "2022-05-27T14:10:00.371Z"
   },
   {
    "duration": 272,
    "start_time": "2022-05-27T14:10:09.102Z"
   },
   {
    "duration": 9584,
    "start_time": "2022-05-27T14:32:43.964Z"
   },
   {
    "duration": 139,
    "start_time": "2022-05-27T14:32:53.550Z"
   },
   {
    "duration": 49,
    "start_time": "2022-05-27T14:32:53.692Z"
   },
   {
    "duration": 35,
    "start_time": "2022-05-27T14:32:53.744Z"
   },
   {
    "duration": 24,
    "start_time": "2022-05-27T14:32:53.782Z"
   },
   {
    "duration": 77,
    "start_time": "2022-05-27T14:32:53.828Z"
   },
   {
    "duration": 103,
    "start_time": "2022-05-27T14:32:53.910Z"
   },
   {
    "duration": 104,
    "start_time": "2022-05-27T14:32:54.020Z"
   },
   {
    "duration": 106,
    "start_time": "2022-05-27T14:32:54.126Z"
   },
   {
    "duration": 126,
    "start_time": "2022-05-27T14:32:54.239Z"
   },
   {
    "duration": 72,
    "start_time": "2022-05-27T14:32:54.372Z"
   },
   {
    "duration": 110,
    "start_time": "2022-05-27T14:32:54.456Z"
   },
   {
    "duration": 99,
    "start_time": "2022-05-27T14:32:54.584Z"
   },
   {
    "duration": 72,
    "start_time": "2022-05-27T14:32:54.685Z"
   },
   {
    "duration": 22,
    "start_time": "2022-05-27T14:32:54.765Z"
   },
   {
    "duration": 144,
    "start_time": "2022-05-27T14:32:54.794Z"
   },
   {
    "duration": 158,
    "start_time": "2022-05-27T14:32:54.950Z"
   },
   {
    "duration": 159,
    "start_time": "2022-05-27T14:32:55.124Z"
   },
   {
    "duration": 93,
    "start_time": "2022-05-27T14:32:55.299Z"
   },
   {
    "duration": 114,
    "start_time": "2022-05-27T14:32:55.400Z"
   },
   {
    "duration": 129,
    "start_time": "2022-05-27T14:32:55.522Z"
   },
   {
    "duration": 120,
    "start_time": "2022-05-27T14:32:55.653Z"
   },
   {
    "duration": 77,
    "start_time": "2022-05-27T14:32:55.775Z"
   },
   {
    "duration": 63,
    "start_time": "2022-05-27T14:32:55.854Z"
   },
   {
    "duration": 87,
    "start_time": "2022-05-27T14:32:55.919Z"
   },
   {
    "duration": 68,
    "start_time": "2022-05-27T14:32:56.008Z"
   },
   {
    "duration": 80,
    "start_time": "2022-05-27T14:32:56.078Z"
   },
   {
    "duration": 105,
    "start_time": "2022-05-27T14:32:56.160Z"
   },
   {
    "duration": 76,
    "start_time": "2022-05-27T14:32:56.276Z"
   },
   {
    "duration": 28,
    "start_time": "2022-05-27T14:32:56.357Z"
   },
   {
    "duration": 74,
    "start_time": "2022-05-27T14:32:56.395Z"
   },
   {
    "duration": 16,
    "start_time": "2022-05-27T14:32:56.474Z"
   },
   {
    "duration": 66,
    "start_time": "2022-05-27T14:32:56.495Z"
   },
   {
    "duration": 133,
    "start_time": "2022-05-27T14:32:56.568Z"
   },
   {
    "duration": 115,
    "start_time": "2022-05-27T14:32:56.711Z"
   },
   {
    "duration": 97,
    "start_time": "2022-05-27T14:32:56.837Z"
   },
   {
    "duration": 83,
    "start_time": "2022-05-27T14:32:56.936Z"
   },
   {
    "duration": 143,
    "start_time": "2022-05-27T14:32:57.022Z"
   },
   {
    "duration": 99,
    "start_time": "2022-05-27T14:32:57.168Z"
   },
   {
    "duration": 854,
    "start_time": "2022-05-27T14:32:57.271Z"
   },
   {
    "duration": 18,
    "start_time": "2022-05-27T14:32:58.128Z"
   },
   {
    "duration": 105,
    "start_time": "2022-05-27T14:32:58.151Z"
   },
   {
    "duration": 160,
    "start_time": "2022-05-27T14:32:58.266Z"
   },
   {
    "duration": 98,
    "start_time": "2022-05-27T14:32:58.444Z"
   },
   {
    "duration": 153,
    "start_time": "2022-05-27T14:32:58.548Z"
   },
   {
    "duration": 147,
    "start_time": "2022-05-27T14:32:58.708Z"
   },
   {
    "duration": 688,
    "start_time": "2022-05-27T14:32:58.857Z"
   },
   {
    "duration": 533,
    "start_time": "2022-05-27T14:32:59.559Z"
   },
   {
    "duration": 244,
    "start_time": "2022-05-27T14:33:00.102Z"
   },
   {
    "duration": 205,
    "start_time": "2022-05-27T14:33:00.352Z"
   },
   {
    "duration": 227,
    "start_time": "2022-05-27T14:33:00.563Z"
   },
   {
    "duration": 220,
    "start_time": "2022-05-27T14:33:00.800Z"
   },
   {
    "duration": 145,
    "start_time": "2022-05-27T14:33:01.029Z"
   },
   {
    "duration": 82,
    "start_time": "2022-05-27T14:33:01.180Z"
   },
   {
    "duration": 542,
    "start_time": "2022-05-27T14:33:01.268Z"
   },
   {
    "duration": 226,
    "start_time": "2022-05-27T14:33:01.816Z"
   },
   {
    "duration": 168,
    "start_time": "2022-05-27T14:33:02.050Z"
   },
   {
    "duration": 32,
    "start_time": "2022-05-27T14:33:02.225Z"
   },
   {
    "duration": 103,
    "start_time": "2022-05-27T14:33:02.263Z"
   },
   {
    "duration": 375,
    "start_time": "2022-05-27T14:33:02.377Z"
   },
   {
    "duration": 226,
    "start_time": "2022-05-27T14:33:02.758Z"
   },
   {
    "duration": 18,
    "start_time": "2022-05-27T14:33:02.990Z"
   },
   {
    "duration": 382,
    "start_time": "2022-05-27T14:33:03.014Z"
   },
   {
    "duration": 12,
    "start_time": "2022-05-27T14:33:03.401Z"
   },
   {
    "duration": 102,
    "start_time": "2022-05-27T14:33:03.418Z"
   },
   {
    "duration": 136,
    "start_time": "2022-05-27T14:33:03.530Z"
   },
   {
    "duration": 637,
    "start_time": "2022-05-27T14:33:03.672Z"
   },
   {
    "duration": 9,
    "start_time": "2022-05-27T14:33:04.314Z"
   },
   {
    "duration": 500,
    "start_time": "2022-05-27T14:33:04.328Z"
   },
   {
    "duration": 19,
    "start_time": "2022-05-27T14:33:04.835Z"
   },
   {
    "duration": 544,
    "start_time": "2022-05-27T14:33:04.861Z"
   },
   {
    "duration": 427,
    "start_time": "2022-05-27T14:33:05.411Z"
   },
   {
    "duration": 25,
    "start_time": "2022-05-27T14:33:05.853Z"
   },
   {
    "duration": 576,
    "start_time": "2022-05-27T14:33:05.888Z"
   },
   {
    "duration": 450,
    "start_time": "2022-05-27T14:33:06.471Z"
   },
   {
    "duration": 259,
    "start_time": "2022-05-27T14:33:06.928Z"
   },
   {
    "duration": 105,
    "start_time": "2022-05-27T14:33:07.194Z"
   },
   {
    "duration": 537,
    "start_time": "2022-05-27T14:33:07.316Z"
   },
   {
    "duration": 15,
    "start_time": "2022-05-27T14:33:07.859Z"
   },
   {
    "duration": 162,
    "start_time": "2022-05-27T14:43:01.530Z"
   },
   {
    "duration": 49,
    "start_time": "2022-05-27T14:43:17.333Z"
   },
   {
    "duration": 25,
    "start_time": "2022-05-27T14:45:26.390Z"
   },
   {
    "duration": 986,
    "start_time": "2022-05-28T07:36:22.342Z"
   },
   {
    "duration": 306,
    "start_time": "2022-05-28T07:36:23.331Z"
   },
   {
    "duration": 31,
    "start_time": "2022-05-28T07:36:23.638Z"
   },
   {
    "duration": 15,
    "start_time": "2022-05-28T07:36:23.671Z"
   },
   {
    "duration": 16,
    "start_time": "2022-05-28T07:36:23.689Z"
   },
   {
    "duration": 14,
    "start_time": "2022-05-28T07:36:23.707Z"
   },
   {
    "duration": 25,
    "start_time": "2022-05-28T07:36:23.723Z"
   },
   {
    "duration": 7,
    "start_time": "2022-05-28T07:36:23.750Z"
   },
   {
    "duration": 19,
    "start_time": "2022-05-28T07:36:23.759Z"
   },
   {
    "duration": 16,
    "start_time": "2022-05-28T07:36:23.779Z"
   },
   {
    "duration": 11,
    "start_time": "2022-05-28T07:36:23.797Z"
   },
   {
    "duration": 23,
    "start_time": "2022-05-28T07:36:23.809Z"
   },
   {
    "duration": 4,
    "start_time": "2022-05-28T07:36:23.834Z"
   },
   {
    "duration": 16,
    "start_time": "2022-05-28T07:36:23.841Z"
   },
   {
    "duration": 14,
    "start_time": "2022-05-28T07:36:23.858Z"
   },
   {
    "duration": 12,
    "start_time": "2022-05-28T07:36:23.873Z"
   },
   {
    "duration": 23,
    "start_time": "2022-05-28T07:36:23.887Z"
   },
   {
    "duration": 16,
    "start_time": "2022-05-28T07:36:23.911Z"
   },
   {
    "duration": 15,
    "start_time": "2022-05-28T07:36:23.928Z"
   },
   {
    "duration": 19,
    "start_time": "2022-05-28T07:36:23.944Z"
   },
   {
    "duration": 18,
    "start_time": "2022-05-28T07:36:23.964Z"
   },
   {
    "duration": 12,
    "start_time": "2022-05-28T07:36:23.984Z"
   },
   {
    "duration": 24,
    "start_time": "2022-05-28T07:36:23.997Z"
   },
   {
    "duration": 14,
    "start_time": "2022-05-28T07:36:24.022Z"
   },
   {
    "duration": 17,
    "start_time": "2022-05-28T07:36:24.038Z"
   },
   {
    "duration": 14,
    "start_time": "2022-05-28T07:36:24.057Z"
   },
   {
    "duration": 28,
    "start_time": "2022-05-28T07:36:24.072Z"
   },
   {
    "duration": 16,
    "start_time": "2022-05-28T07:36:24.102Z"
   },
   {
    "duration": 18,
    "start_time": "2022-05-28T07:36:24.120Z"
   },
   {
    "duration": 11,
    "start_time": "2022-05-28T07:36:24.140Z"
   },
   {
    "duration": 25,
    "start_time": "2022-05-28T07:36:24.153Z"
   },
   {
    "duration": 7,
    "start_time": "2022-05-28T07:36:24.180Z"
   },
   {
    "duration": 9,
    "start_time": "2022-05-28T07:36:24.188Z"
   },
   {
    "duration": 19,
    "start_time": "2022-05-28T07:36:24.199Z"
   },
   {
    "duration": 11,
    "start_time": "2022-05-28T07:36:24.219Z"
   },
   {
    "duration": 14,
    "start_time": "2022-05-28T07:36:24.231Z"
   },
   {
    "duration": 23,
    "start_time": "2022-05-28T07:36:24.247Z"
   },
   {
    "duration": 15,
    "start_time": "2022-05-28T07:36:24.272Z"
   },
   {
    "duration": 10,
    "start_time": "2022-05-28T07:36:24.289Z"
   },
   {
    "duration": 349,
    "start_time": "2022-05-28T07:36:24.301Z"
   },
   {
    "duration": 17,
    "start_time": "2022-05-28T07:36:24.655Z"
   },
   {
    "duration": 18,
    "start_time": "2022-05-28T07:36:24.674Z"
   },
   {
    "duration": 19,
    "start_time": "2022-05-28T07:36:24.694Z"
   },
   {
    "duration": 7,
    "start_time": "2022-05-28T07:36:24.715Z"
   },
   {
    "duration": 30,
    "start_time": "2022-05-28T07:36:24.724Z"
   },
   {
    "duration": 33,
    "start_time": "2022-05-28T07:36:24.756Z"
   },
   {
    "duration": 152,
    "start_time": "2022-05-28T07:36:24.791Z"
   },
   {
    "duration": 266,
    "start_time": "2022-05-28T07:36:24.945Z"
   },
   {
    "duration": 144,
    "start_time": "2022-05-28T07:36:25.213Z"
   },
   {
    "duration": 139,
    "start_time": "2022-05-28T07:36:25.364Z"
   },
   {
    "duration": 171,
    "start_time": "2022-05-28T07:36:25.504Z"
   },
   {
    "duration": 142,
    "start_time": "2022-05-28T07:36:25.677Z"
   },
   {
    "duration": 105,
    "start_time": "2022-05-28T07:36:25.821Z"
   },
   {
    "duration": 12,
    "start_time": "2022-05-28T07:36:25.929Z"
   },
   {
    "duration": 215,
    "start_time": "2022-05-28T07:36:25.943Z"
   },
   {
    "duration": 138,
    "start_time": "2022-05-28T07:36:26.164Z"
   },
   {
    "duration": 123,
    "start_time": "2022-05-28T07:36:26.304Z"
   },
   {
    "duration": 10,
    "start_time": "2022-05-28T07:36:26.429Z"
   },
   {
    "duration": 4,
    "start_time": "2022-05-28T07:36:26.441Z"
   },
   {
    "duration": 119,
    "start_time": "2022-05-28T07:36:26.464Z"
   },
   {
    "duration": 132,
    "start_time": "2022-05-28T07:36:26.585Z"
   },
   {
    "duration": 7,
    "start_time": "2022-05-28T07:36:26.718Z"
   },
   {
    "duration": 140,
    "start_time": "2022-05-28T07:36:26.726Z"
   },
   {
    "duration": 6,
    "start_time": "2022-05-28T07:36:26.868Z"
   },
   {
    "duration": 17,
    "start_time": "2022-05-28T07:36:26.875Z"
   },
   {
    "duration": 15,
    "start_time": "2022-05-28T07:36:26.894Z"
   },
   {
    "duration": 299,
    "start_time": "2022-05-28T07:36:26.910Z"
   },
   {
    "duration": 5,
    "start_time": "2022-05-28T07:36:27.211Z"
   },
   {
    "duration": 252,
    "start_time": "2022-05-28T07:36:27.218Z"
   },
   {
    "duration": 6,
    "start_time": "2022-05-28T07:36:27.472Z"
   },
   {
    "duration": 148,
    "start_time": "2022-05-28T07:36:27.480Z"
   },
   {
    "duration": 198,
    "start_time": "2022-05-28T07:36:27.629Z"
   },
   {
    "duration": 5,
    "start_time": "2022-05-28T07:36:27.829Z"
   },
   {
    "duration": 135,
    "start_time": "2022-05-28T07:36:27.835Z"
   },
   {
    "duration": 190,
    "start_time": "2022-05-28T07:36:27.972Z"
   },
   {
    "duration": 140,
    "start_time": "2022-05-28T07:36:28.165Z"
   },
   {
    "duration": 22,
    "start_time": "2022-05-28T07:36:28.307Z"
   },
   {
    "duration": 183,
    "start_time": "2022-05-28T07:36:28.330Z"
   },
   {
    "duration": 7,
    "start_time": "2022-05-28T07:36:28.514Z"
   },
   {
    "duration": 6,
    "start_time": "2022-05-28T07:36:28.523Z"
   },
   {
    "duration": 349,
    "start_time": "2022-05-28T07:41:49.417Z"
   },
   {
    "duration": 646,
    "start_time": "2022-05-28T07:42:32.166Z"
   },
   {
    "duration": 1194,
    "start_time": "2022-05-28T07:43:43.943Z"
   },
   {
    "duration": 196,
    "start_time": "2022-05-28T07:46:16.180Z"
   },
   {
    "duration": 7,
    "start_time": "2022-05-28T07:47:29.321Z"
   },
   {
    "duration": 25,
    "start_time": "2022-05-28T07:49:46.812Z"
   },
   {
    "duration": 23,
    "start_time": "2022-05-28T07:50:00.007Z"
   },
   {
    "duration": 102,
    "start_time": "2022-05-28T07:50:19.815Z"
   },
   {
    "duration": 24,
    "start_time": "2022-05-28T07:50:26.043Z"
   },
   {
    "duration": 28,
    "start_time": "2022-05-28T07:50:38.509Z"
   },
   {
    "duration": 8,
    "start_time": "2022-05-28T07:53:06.632Z"
   },
   {
    "duration": 4,
    "start_time": "2022-05-28T08:07:58.277Z"
   },
   {
    "duration": 13,
    "start_time": "2022-05-28T08:19:20.939Z"
   },
   {
    "duration": 12,
    "start_time": "2022-05-28T08:19:42.246Z"
   },
   {
    "duration": 145,
    "start_time": "2022-05-28T08:22:24.364Z"
   },
   {
    "duration": 279,
    "start_time": "2022-05-28T08:23:10.529Z"
   },
   {
    "duration": 174,
    "start_time": "2022-05-28T08:24:07.107Z"
   },
   {
    "duration": 168,
    "start_time": "2022-05-28T08:24:34.761Z"
   },
   {
    "duration": 166,
    "start_time": "2022-05-28T08:24:55.384Z"
   },
   {
    "duration": 155,
    "start_time": "2022-05-28T08:27:00.851Z"
   },
   {
    "duration": 169,
    "start_time": "2022-05-28T08:27:08.308Z"
   },
   {
    "duration": 14,
    "start_time": "2022-05-28T08:27:44.851Z"
   },
   {
    "duration": 163,
    "start_time": "2022-05-28T08:27:52.111Z"
   },
   {
    "duration": 702,
    "start_time": "2022-05-28T08:36:28.102Z"
   },
   {
    "duration": 112,
    "start_time": "2022-05-28T08:36:28.806Z"
   },
   {
    "duration": 45,
    "start_time": "2022-05-28T08:36:28.920Z"
   },
   {
    "duration": 20,
    "start_time": "2022-05-28T08:36:28.968Z"
   },
   {
    "duration": 5,
    "start_time": "2022-05-28T08:36:28.991Z"
   },
   {
    "duration": 14,
    "start_time": "2022-05-28T08:36:28.998Z"
   },
   {
    "duration": 17,
    "start_time": "2022-05-28T08:36:29.014Z"
   },
   {
    "duration": 33,
    "start_time": "2022-05-28T08:36:29.033Z"
   },
   {
    "duration": 16,
    "start_time": "2022-05-28T08:36:29.068Z"
   },
   {
    "duration": 9,
    "start_time": "2022-05-28T08:36:29.086Z"
   },
   {
    "duration": 9,
    "start_time": "2022-05-28T08:36:29.097Z"
   },
   {
    "duration": 12,
    "start_time": "2022-05-28T08:36:29.108Z"
   },
   {
    "duration": 5,
    "start_time": "2022-05-28T08:36:29.124Z"
   },
   {
    "duration": 35,
    "start_time": "2022-05-28T08:36:29.130Z"
   },
   {
    "duration": 14,
    "start_time": "2022-05-28T08:36:29.167Z"
   },
   {
    "duration": 8,
    "start_time": "2022-05-28T08:36:29.183Z"
   },
   {
    "duration": 12,
    "start_time": "2022-05-28T08:36:29.193Z"
   },
   {
    "duration": 4,
    "start_time": "2022-05-28T08:36:29.207Z"
   },
   {
    "duration": 7,
    "start_time": "2022-05-28T08:36:29.213Z"
   },
   {
    "duration": 8,
    "start_time": "2022-05-28T08:36:29.221Z"
   },
   {
    "duration": 39,
    "start_time": "2022-05-28T08:36:29.231Z"
   },
   {
    "duration": 6,
    "start_time": "2022-05-28T08:36:29.272Z"
   },
   {
    "duration": 7,
    "start_time": "2022-05-28T08:36:29.280Z"
   },
   {
    "duration": 9,
    "start_time": "2022-05-28T08:36:29.288Z"
   },
   {
    "duration": 6,
    "start_time": "2022-05-28T08:36:29.298Z"
   },
   {
    "duration": 5,
    "start_time": "2022-05-28T08:36:29.305Z"
   },
   {
    "duration": 8,
    "start_time": "2022-05-28T08:36:29.311Z"
   },
   {
    "duration": 51,
    "start_time": "2022-05-28T08:36:29.320Z"
   },
   {
    "duration": 17,
    "start_time": "2022-05-28T08:36:29.373Z"
   },
   {
    "duration": 5,
    "start_time": "2022-05-28T08:36:29.392Z"
   },
   {
    "duration": 16,
    "start_time": "2022-05-28T08:36:29.398Z"
   },
   {
    "duration": 6,
    "start_time": "2022-05-28T08:36:29.415Z"
   },
   {
    "duration": 5,
    "start_time": "2022-05-28T08:36:29.423Z"
   },
   {
    "duration": 39,
    "start_time": "2022-05-28T08:36:29.430Z"
   },
   {
    "duration": 10,
    "start_time": "2022-05-28T08:36:29.471Z"
   },
   {
    "duration": 9,
    "start_time": "2022-05-28T08:36:29.482Z"
   },
   {
    "duration": 9,
    "start_time": "2022-05-28T08:36:29.492Z"
   },
   {
    "duration": 10,
    "start_time": "2022-05-28T08:36:29.503Z"
   },
   {
    "duration": 3,
    "start_time": "2022-05-28T08:36:29.515Z"
   },
   {
    "duration": 370,
    "start_time": "2022-05-28T08:36:29.522Z"
   },
   {
    "duration": 12,
    "start_time": "2022-05-28T08:36:29.893Z"
   },
   {
    "duration": 5,
    "start_time": "2022-05-28T08:36:29.907Z"
   },
   {
    "duration": 13,
    "start_time": "2022-05-28T08:36:29.914Z"
   },
   {
    "duration": 4,
    "start_time": "2022-05-28T08:36:29.929Z"
   },
   {
    "duration": 36,
    "start_time": "2022-05-28T08:36:29.935Z"
   },
   {
    "duration": 25,
    "start_time": "2022-05-28T08:36:29.973Z"
   },
   {
    "duration": 172,
    "start_time": "2022-05-28T08:36:30.000Z"
   },
   {
    "duration": 272,
    "start_time": "2022-05-28T08:36:30.174Z"
   },
   {
    "duration": 157,
    "start_time": "2022-05-28T08:36:30.448Z"
   },
   {
    "duration": 162,
    "start_time": "2022-05-28T08:36:30.606Z"
   },
   {
    "duration": 181,
    "start_time": "2022-05-28T08:36:30.770Z"
   },
   {
    "duration": 156,
    "start_time": "2022-05-28T08:36:30.953Z"
   },
   {
    "duration": 108,
    "start_time": "2022-05-28T08:36:31.111Z"
   },
   {
    "duration": 12,
    "start_time": "2022-05-28T08:36:31.221Z"
   },
   {
    "duration": 234,
    "start_time": "2022-05-28T08:36:31.235Z"
   },
   {
    "duration": 147,
    "start_time": "2022-05-28T08:36:31.471Z"
   },
   {
    "duration": 131,
    "start_time": "2022-05-28T08:36:31.619Z"
   },
   {
    "duration": 21,
    "start_time": "2022-05-28T08:36:31.752Z"
   },
   {
    "duration": 20,
    "start_time": "2022-05-28T08:36:31.775Z"
   },
   {
    "duration": 126,
    "start_time": "2022-05-28T08:36:31.797Z"
   },
   {
    "duration": 159,
    "start_time": "2022-05-28T08:36:31.924Z"
   },
   {
    "duration": 8,
    "start_time": "2022-05-28T08:36:32.085Z"
   },
   {
    "duration": 155,
    "start_time": "2022-05-28T08:36:32.095Z"
   },
   {
    "duration": 15,
    "start_time": "2022-05-28T08:36:32.252Z"
   },
   {
    "duration": 32,
    "start_time": "2022-05-28T08:36:32.268Z"
   },
   {
    "duration": 24,
    "start_time": "2022-05-28T08:36:32.302Z"
   },
   {
    "duration": 313,
    "start_time": "2022-05-28T08:36:32.328Z"
   },
   {
    "duration": 5,
    "start_time": "2022-05-28T08:36:32.642Z"
   },
   {
    "duration": 237,
    "start_time": "2022-05-28T08:36:32.649Z"
   },
   {
    "duration": 5,
    "start_time": "2022-05-28T08:36:32.888Z"
   },
   {
    "duration": 149,
    "start_time": "2022-05-28T08:36:32.894Z"
   },
   {
    "duration": 191,
    "start_time": "2022-05-28T08:36:33.045Z"
   },
   {
    "duration": 5,
    "start_time": "2022-05-28T08:36:33.239Z"
   },
   {
    "duration": 159,
    "start_time": "2022-05-28T08:36:33.245Z"
   },
   {
    "duration": 193,
    "start_time": "2022-05-28T08:36:33.406Z"
   },
   {
    "duration": 173,
    "start_time": "2022-05-28T08:36:33.601Z"
   },
   {
    "duration": 22,
    "start_time": "2022-05-28T08:36:33.776Z"
   },
   {
    "duration": 181,
    "start_time": "2022-05-28T08:36:33.800Z"
   },
   {
    "duration": 27,
    "start_time": "2022-05-28T08:36:33.983Z"
   },
   {
    "duration": 180,
    "start_time": "2022-05-28T08:36:34.011Z"
   },
   {
    "duration": 24,
    "start_time": "2022-05-28T08:36:34.193Z"
   },
   {
    "duration": 209,
    "start_time": "2022-05-28T08:36:34.218Z"
   },
   {
    "duration": 4,
    "start_time": "2022-05-28T08:36:34.429Z"
   },
   {
    "duration": 156,
    "start_time": "2022-05-28T08:36:58.705Z"
   },
   {
    "duration": 157,
    "start_time": "2022-05-28T08:37:15.655Z"
   },
   {
    "duration": 3,
    "start_time": "2022-05-28T08:37:27.013Z"
   },
   {
    "duration": 101,
    "start_time": "2022-05-28T08:37:27.020Z"
   },
   {
    "duration": 53,
    "start_time": "2022-05-28T08:37:27.123Z"
   },
   {
    "duration": 20,
    "start_time": "2022-05-28T08:37:27.178Z"
   },
   {
    "duration": 5,
    "start_time": "2022-05-28T08:37:27.201Z"
   },
   {
    "duration": 12,
    "start_time": "2022-05-28T08:37:27.207Z"
   },
   {
    "duration": 13,
    "start_time": "2022-05-28T08:37:27.220Z"
   },
   {
    "duration": 8,
    "start_time": "2022-05-28T08:37:27.265Z"
   },
   {
    "duration": 10,
    "start_time": "2022-05-28T08:37:27.275Z"
   },
   {
    "duration": 7,
    "start_time": "2022-05-28T08:37:27.287Z"
   },
   {
    "duration": 5,
    "start_time": "2022-05-28T08:37:27.296Z"
   },
   {
    "duration": 7,
    "start_time": "2022-05-28T08:37:27.303Z"
   },
   {
    "duration": 128,
    "start_time": "2022-05-28T08:37:27.312Z"
   },
   {
    "duration": 7,
    "start_time": "2022-05-28T08:37:27.442Z"
   },
   {
    "duration": 22,
    "start_time": "2022-05-28T08:37:27.451Z"
   },
   {
    "duration": 7,
    "start_time": "2022-05-28T08:37:27.475Z"
   },
   {
    "duration": 16,
    "start_time": "2022-05-28T08:37:27.484Z"
   },
   {
    "duration": 4,
    "start_time": "2022-05-28T08:37:27.501Z"
   },
   {
    "duration": 6,
    "start_time": "2022-05-28T08:37:27.507Z"
   },
   {
    "duration": 7,
    "start_time": "2022-05-28T08:37:27.514Z"
   },
   {
    "duration": 10,
    "start_time": "2022-05-28T08:37:27.522Z"
   },
   {
    "duration": 8,
    "start_time": "2022-05-28T08:37:27.564Z"
   },
   {
    "duration": 6,
    "start_time": "2022-05-28T08:37:27.574Z"
   },
   {
    "duration": 7,
    "start_time": "2022-05-28T08:37:27.582Z"
   },
   {
    "duration": 7,
    "start_time": "2022-05-28T08:37:27.591Z"
   },
   {
    "duration": 7,
    "start_time": "2022-05-28T08:37:27.600Z"
   },
   {
    "duration": 6,
    "start_time": "2022-05-28T08:37:27.609Z"
   },
   {
    "duration": 9,
    "start_time": "2022-05-28T08:37:27.617Z"
   },
   {
    "duration": 48,
    "start_time": "2022-05-28T08:37:27.630Z"
   },
   {
    "duration": 4,
    "start_time": "2022-05-28T08:37:27.680Z"
   },
   {
    "duration": 19,
    "start_time": "2022-05-28T08:37:27.685Z"
   },
   {
    "duration": 6,
    "start_time": "2022-05-28T08:37:27.706Z"
   },
   {
    "duration": 10,
    "start_time": "2022-05-28T08:37:27.713Z"
   },
   {
    "duration": 9,
    "start_time": "2022-05-28T08:37:27.724Z"
   },
   {
    "duration": 34,
    "start_time": "2022-05-28T08:37:27.734Z"
   },
   {
    "duration": 5,
    "start_time": "2022-05-28T08:37:27.770Z"
   },
   {
    "duration": 13,
    "start_time": "2022-05-28T08:37:27.776Z"
   },
   {
    "duration": 17,
    "start_time": "2022-05-28T08:37:27.790Z"
   },
   {
    "duration": 3,
    "start_time": "2022-05-28T08:37:27.809Z"
   },
   {
    "duration": 368,
    "start_time": "2022-05-28T08:37:27.814Z"
   },
   {
    "duration": 12,
    "start_time": "2022-05-28T08:37:28.184Z"
   },
   {
    "duration": 8,
    "start_time": "2022-05-28T08:37:28.197Z"
   },
   {
    "duration": 13,
    "start_time": "2022-05-28T08:37:28.206Z"
   },
   {
    "duration": 4,
    "start_time": "2022-05-28T08:37:28.220Z"
   },
   {
    "duration": 16,
    "start_time": "2022-05-28T08:37:28.225Z"
   },
   {
    "duration": 26,
    "start_time": "2022-05-28T08:37:28.264Z"
   },
   {
    "duration": 162,
    "start_time": "2022-05-28T08:37:28.291Z"
   },
   {
    "duration": 273,
    "start_time": "2022-05-28T08:37:28.455Z"
   },
   {
    "duration": 157,
    "start_time": "2022-05-28T08:37:28.730Z"
   },
   {
    "duration": 199,
    "start_time": "2022-05-28T08:37:28.890Z"
   },
   {
    "duration": 116,
    "start_time": "2022-05-28T08:37:29.091Z"
   },
   {
    "duration": 148,
    "start_time": "2022-05-28T08:37:29.208Z"
   },
   {
    "duration": 109,
    "start_time": "2022-05-28T08:37:29.358Z"
   },
   {
    "duration": 12,
    "start_time": "2022-05-28T08:37:29.469Z"
   },
   {
    "duration": 315,
    "start_time": "2022-05-28T08:37:29.483Z"
   },
   {
    "duration": 133,
    "start_time": "2022-05-28T08:37:29.800Z"
   },
   {
    "duration": 136,
    "start_time": "2022-05-28T08:37:29.935Z"
   },
   {
    "duration": 12,
    "start_time": "2022-05-28T08:37:30.072Z"
   },
   {
    "duration": 4,
    "start_time": "2022-05-28T08:37:30.085Z"
   },
   {
    "duration": 136,
    "start_time": "2022-05-28T08:37:30.090Z"
   },
   {
    "duration": 145,
    "start_time": "2022-05-28T08:37:30.228Z"
   },
   {
    "duration": 6,
    "start_time": "2022-05-28T08:37:30.375Z"
   },
   {
    "duration": 151,
    "start_time": "2022-05-28T08:37:30.383Z"
   },
   {
    "duration": 6,
    "start_time": "2022-05-28T08:37:30.535Z"
   },
   {
    "duration": 30,
    "start_time": "2022-05-28T08:37:30.543Z"
   },
   {
    "duration": 26,
    "start_time": "2022-05-28T08:37:30.575Z"
   },
   {
    "duration": 298,
    "start_time": "2022-05-28T08:37:30.603Z"
   },
   {
    "duration": 6,
    "start_time": "2022-05-28T08:37:30.902Z"
   },
   {
    "duration": 177,
    "start_time": "2022-05-28T08:37:30.909Z"
   },
   {
    "duration": 6,
    "start_time": "2022-05-28T08:37:31.088Z"
   },
   {
    "duration": 168,
    "start_time": "2022-05-28T08:37:31.096Z"
   },
   {
    "duration": 182,
    "start_time": "2022-05-28T08:37:31.267Z"
   },
   {
    "duration": 15,
    "start_time": "2022-05-28T08:37:31.451Z"
   },
   {
    "duration": 250,
    "start_time": "2022-05-28T08:37:31.468Z"
   },
   {
    "duration": 229,
    "start_time": "2022-05-28T08:37:31.720Z"
   },
   {
    "duration": 164,
    "start_time": "2022-05-28T08:37:31.951Z"
   },
   {
    "duration": 23,
    "start_time": "2022-05-28T08:37:32.117Z"
   },
   {
    "duration": 186,
    "start_time": "2022-05-28T08:37:32.142Z"
   },
   {
    "duration": 38,
    "start_time": "2022-05-28T08:37:32.330Z"
   },
   {
    "duration": 159,
    "start_time": "2022-05-28T08:37:32.369Z"
   },
   {
    "duration": 205,
    "start_time": "2022-05-28T08:37:32.530Z"
   },
   {
    "duration": 5,
    "start_time": "2022-05-28T08:37:32.736Z"
   },
   {
    "duration": 397,
    "start_time": "2022-05-28T08:40:34.612Z"
   },
   {
    "duration": 142,
    "start_time": "2022-05-28T08:41:34.830Z"
   },
   {
    "duration": 187,
    "start_time": "2022-05-28T08:42:01.727Z"
   },
   {
    "duration": 261,
    "start_time": "2022-05-28T08:42:42.328Z"
   },
   {
    "duration": 146,
    "start_time": "2022-05-28T08:43:09.296Z"
   },
   {
    "duration": 150,
    "start_time": "2022-05-28T08:43:19.245Z"
   },
   {
    "duration": 164,
    "start_time": "2022-05-28T08:44:34.943Z"
   },
   {
    "duration": 128,
    "start_time": "2022-05-28T09:02:32.738Z"
   },
   {
    "duration": 141,
    "start_time": "2022-05-28T09:02:44.095Z"
   },
   {
    "duration": 421,
    "start_time": "2022-05-28T09:17:40.376Z"
   },
   {
    "duration": 10,
    "start_time": "2022-05-28T09:17:52.063Z"
   },
   {
    "duration": 15,
    "start_time": "2022-05-28T09:18:16.978Z"
   },
   {
    "duration": 14,
    "start_time": "2022-05-28T09:19:00.931Z"
   },
   {
    "duration": 15,
    "start_time": "2022-05-28T09:19:47.472Z"
   },
   {
    "duration": 12,
    "start_time": "2022-05-28T09:20:05.484Z"
   },
   {
    "duration": 238,
    "start_time": "2022-05-28T09:32:56.976Z"
   },
   {
    "duration": 251,
    "start_time": "2022-05-28T09:33:22.137Z"
   },
   {
    "duration": 315,
    "start_time": "2022-05-28T09:34:42.912Z"
   },
   {
    "duration": 203,
    "start_time": "2022-05-28T09:34:50.933Z"
   },
   {
    "duration": 330,
    "start_time": "2022-05-28T09:35:42.081Z"
   },
   {
    "duration": 442,
    "start_time": "2022-05-28T09:35:46.829Z"
   },
   {
    "duration": 294,
    "start_time": "2022-05-28T09:35:58.618Z"
   },
   {
    "duration": 278,
    "start_time": "2022-05-28T09:36:18.092Z"
   },
   {
    "duration": 162,
    "start_time": "2022-05-28T09:38:43.187Z"
   },
   {
    "duration": 254,
    "start_time": "2022-05-28T09:38:57.394Z"
   },
   {
    "duration": 223,
    "start_time": "2022-05-28T09:39:03.111Z"
   },
   {
    "duration": 190,
    "start_time": "2022-05-28T09:39:13.396Z"
   },
   {
    "duration": 210,
    "start_time": "2022-05-28T09:39:23.489Z"
   },
   {
    "duration": 181,
    "start_time": "2022-05-28T09:39:49.737Z"
   },
   {
    "duration": 255,
    "start_time": "2022-05-28T09:42:01.989Z"
   },
   {
    "duration": 305,
    "start_time": "2022-05-28T09:42:16.950Z"
   },
   {
    "duration": 367,
    "start_time": "2022-05-28T09:47:46.887Z"
   },
   {
    "duration": 323,
    "start_time": "2022-05-28T09:47:57.246Z"
   },
   {
    "duration": 348,
    "start_time": "2022-05-28T09:48:01.862Z"
   },
   {
    "duration": 672,
    "start_time": "2022-05-28T12:53:33.577Z"
   },
   {
    "duration": 92,
    "start_time": "2022-05-28T12:53:34.251Z"
   },
   {
    "duration": 29,
    "start_time": "2022-05-28T12:53:34.345Z"
   },
   {
    "duration": 17,
    "start_time": "2022-05-28T12:53:34.376Z"
   },
   {
    "duration": 5,
    "start_time": "2022-05-28T12:53:34.395Z"
   },
   {
    "duration": 6,
    "start_time": "2022-05-28T12:53:34.401Z"
   },
   {
    "duration": 37,
    "start_time": "2022-05-28T12:53:34.409Z"
   },
   {
    "duration": 7,
    "start_time": "2022-05-28T12:53:34.448Z"
   },
   {
    "duration": 10,
    "start_time": "2022-05-28T12:53:34.456Z"
   },
   {
    "duration": 9,
    "start_time": "2022-05-28T12:53:34.469Z"
   },
   {
    "duration": 12,
    "start_time": "2022-05-28T12:53:34.480Z"
   },
   {
    "duration": 11,
    "start_time": "2022-05-28T12:53:34.494Z"
   },
   {
    "duration": 6,
    "start_time": "2022-05-28T12:53:34.506Z"
   },
   {
    "duration": 28,
    "start_time": "2022-05-28T12:53:34.514Z"
   },
   {
    "duration": 7,
    "start_time": "2022-05-28T12:53:34.543Z"
   },
   {
    "duration": 5,
    "start_time": "2022-05-28T12:53:34.588Z"
   },
   {
    "duration": 13,
    "start_time": "2022-05-28T12:53:34.597Z"
   },
   {
    "duration": 4,
    "start_time": "2022-05-28T12:53:34.612Z"
   },
   {
    "duration": 11,
    "start_time": "2022-05-28T12:53:34.618Z"
   },
   {
    "duration": 11,
    "start_time": "2022-05-28T12:53:34.630Z"
   },
   {
    "duration": 10,
    "start_time": "2022-05-28T12:53:34.644Z"
   },
   {
    "duration": 9,
    "start_time": "2022-05-28T12:53:34.656Z"
   },
   {
    "duration": 14,
    "start_time": "2022-05-28T12:53:34.666Z"
   },
   {
    "duration": 11,
    "start_time": "2022-05-28T12:53:34.681Z"
   },
   {
    "duration": 5,
    "start_time": "2022-05-28T12:53:34.693Z"
   },
   {
    "duration": 6,
    "start_time": "2022-05-28T12:53:34.700Z"
   },
   {
    "duration": 11,
    "start_time": "2022-05-28T12:53:34.708Z"
   },
   {
    "duration": 25,
    "start_time": "2022-05-28T12:53:34.720Z"
   },
   {
    "duration": 15,
    "start_time": "2022-05-28T12:53:34.865Z"
   },
   {
    "duration": 6,
    "start_time": "2022-05-28T12:53:35.098Z"
   },
   {
    "duration": 19,
    "start_time": "2022-05-28T12:53:35.106Z"
   },
   {
    "duration": 7,
    "start_time": "2022-05-28T12:53:35.126Z"
   },
   {
    "duration": 13,
    "start_time": "2022-05-28T12:53:35.134Z"
   },
   {
    "duration": 20,
    "start_time": "2022-05-28T12:53:35.149Z"
   },
   {
    "duration": 17,
    "start_time": "2022-05-28T12:53:35.170Z"
   },
   {
    "duration": 7,
    "start_time": "2022-05-28T12:53:35.189Z"
   },
   {
    "duration": 8,
    "start_time": "2022-05-28T12:53:35.197Z"
   },
   {
    "duration": 13,
    "start_time": "2022-05-28T12:53:35.207Z"
   },
   {
    "duration": 3,
    "start_time": "2022-05-28T12:53:35.221Z"
   },
   {
    "duration": 313,
    "start_time": "2022-05-28T12:53:35.226Z"
   },
   {
    "duration": 12,
    "start_time": "2022-05-28T12:53:35.541Z"
   },
   {
    "duration": 11,
    "start_time": "2022-05-28T12:53:35.555Z"
   },
   {
    "duration": 17,
    "start_time": "2022-05-28T12:53:35.567Z"
   },
   {
    "duration": 4,
    "start_time": "2022-05-28T12:53:35.587Z"
   },
   {
    "duration": 13,
    "start_time": "2022-05-28T12:53:35.593Z"
   },
   {
    "duration": 25,
    "start_time": "2022-05-28T12:53:35.749Z"
   },
   {
    "duration": 150,
    "start_time": "2022-05-28T12:53:35.776Z"
   },
   {
    "duration": 260,
    "start_time": "2022-05-28T12:53:35.927Z"
   },
   {
    "duration": 136,
    "start_time": "2022-05-28T12:53:36.189Z"
   },
   {
    "duration": 144,
    "start_time": "2022-05-28T12:53:36.328Z"
   },
   {
    "duration": 161,
    "start_time": "2022-05-28T12:53:36.473Z"
   },
   {
    "duration": 133,
    "start_time": "2022-05-28T12:53:36.640Z"
   },
   {
    "duration": 113,
    "start_time": "2022-05-28T12:53:36.774Z"
   },
   {
    "duration": 16,
    "start_time": "2022-05-28T12:53:36.889Z"
   },
   {
    "duration": 263,
    "start_time": "2022-05-28T12:53:36.907Z"
   },
   {
    "duration": 130,
    "start_time": "2022-05-28T12:53:37.172Z"
   },
   {
    "duration": 128,
    "start_time": "2022-05-28T12:53:37.304Z"
   },
   {
    "duration": 12,
    "start_time": "2022-05-28T12:53:37.441Z"
   },
   {
    "duration": 3,
    "start_time": "2022-05-28T12:53:37.457Z"
   },
   {
    "duration": 136,
    "start_time": "2022-05-28T12:53:37.463Z"
   },
   {
    "duration": 143,
    "start_time": "2022-05-28T12:53:37.601Z"
   },
   {
    "duration": 6,
    "start_time": "2022-05-28T12:53:37.747Z"
   },
   {
    "duration": 141,
    "start_time": "2022-05-28T12:53:37.755Z"
   },
   {
    "duration": 5,
    "start_time": "2022-05-28T12:53:37.898Z"
   },
   {
    "duration": 22,
    "start_time": "2022-05-28T12:53:37.904Z"
   },
   {
    "duration": 18,
    "start_time": "2022-05-28T12:53:37.941Z"
   },
   {
    "duration": 294,
    "start_time": "2022-05-28T12:53:37.961Z"
   },
   {
    "duration": 6,
    "start_time": "2022-05-28T12:53:38.257Z"
   },
   {
    "duration": 236,
    "start_time": "2022-05-28T12:53:38.265Z"
   },
   {
    "duration": 5,
    "start_time": "2022-05-28T12:53:38.503Z"
   },
   {
    "duration": 141,
    "start_time": "2022-05-28T12:53:38.510Z"
   },
   {
    "duration": 181,
    "start_time": "2022-05-28T12:53:38.652Z"
   },
   {
    "duration": 5,
    "start_time": "2022-05-28T12:53:38.834Z"
   },
   {
    "duration": 138,
    "start_time": "2022-05-28T12:53:38.841Z"
   },
   {
    "duration": 195,
    "start_time": "2022-05-28T12:53:38.980Z"
   },
   {
    "duration": 143,
    "start_time": "2022-05-28T12:53:39.178Z"
   },
   {
    "duration": 30,
    "start_time": "2022-05-28T12:53:39.323Z"
   },
   {
    "duration": 172,
    "start_time": "2022-05-28T12:53:39.357Z"
   },
   {
    "duration": 33,
    "start_time": "2022-05-28T12:53:39.531Z"
   },
   {
    "duration": 143,
    "start_time": "2022-05-28T12:53:39.565Z"
   },
   {
    "duration": 408,
    "start_time": "2022-05-28T12:53:39.710Z"
   },
   {
    "duration": 230,
    "start_time": "2022-05-28T12:53:40.120Z"
   },
   {
    "duration": 152,
    "start_time": "2022-05-28T12:53:40.352Z"
   },
   {
    "duration": 11,
    "start_time": "2022-05-28T12:53:40.505Z"
   },
   {
    "duration": 161,
    "start_time": "2022-05-28T12:53:40.517Z"
   },
   {
    "duration": 188,
    "start_time": "2022-05-28T12:53:40.680Z"
   },
   {
    "duration": 156,
    "start_time": "2022-05-28T12:53:40.870Z"
   },
   {
    "duration": 14,
    "start_time": "2022-05-29T10:30:43.297Z"
   },
   {
    "duration": 58,
    "start_time": "2022-05-29T10:31:21.727Z"
   },
   {
    "duration": 903,
    "start_time": "2022-05-29T10:31:34.662Z"
   },
   {
    "duration": 150,
    "start_time": "2022-05-29T10:31:35.567Z"
   },
   {
    "duration": 31,
    "start_time": "2022-05-29T10:31:35.718Z"
   },
   {
    "duration": 24,
    "start_time": "2022-05-29T10:31:35.751Z"
   },
   {
    "duration": 6,
    "start_time": "2022-05-29T10:31:35.777Z"
   },
   {
    "duration": 8,
    "start_time": "2022-05-29T10:31:35.784Z"
   },
   {
    "duration": 15,
    "start_time": "2022-05-29T10:31:35.794Z"
   },
   {
    "duration": 35,
    "start_time": "2022-05-29T10:31:35.811Z"
   },
   {
    "duration": 9,
    "start_time": "2022-05-29T10:31:35.847Z"
   },
   {
    "duration": 12,
    "start_time": "2022-05-29T10:31:35.858Z"
   },
   {
    "duration": 14,
    "start_time": "2022-05-29T10:31:35.872Z"
   },
   {
    "duration": 13,
    "start_time": "2022-05-29T10:31:35.888Z"
   },
   {
    "duration": 4,
    "start_time": "2022-05-29T10:31:35.903Z"
   },
   {
    "duration": 33,
    "start_time": "2022-05-29T10:31:35.909Z"
   },
   {
    "duration": 10,
    "start_time": "2022-05-29T10:31:35.944Z"
   },
   {
    "duration": 8,
    "start_time": "2022-05-29T10:31:35.956Z"
   },
   {
    "duration": 12,
    "start_time": "2022-05-29T10:31:35.966Z"
   },
   {
    "duration": 5,
    "start_time": "2022-05-29T10:31:35.980Z"
   },
   {
    "duration": 8,
    "start_time": "2022-05-29T10:31:35.987Z"
   },
   {
    "duration": 45,
    "start_time": "2022-05-29T10:31:35.997Z"
   },
   {
    "duration": 8,
    "start_time": "2022-05-29T10:31:36.044Z"
   },
   {
    "duration": 10,
    "start_time": "2022-05-29T10:31:36.054Z"
   },
   {
    "duration": 9,
    "start_time": "2022-05-29T10:31:36.066Z"
   },
   {
    "duration": 15,
    "start_time": "2022-05-29T10:31:36.077Z"
   },
   {
    "duration": 5,
    "start_time": "2022-05-29T10:31:36.094Z"
   },
   {
    "duration": 40,
    "start_time": "2022-05-29T10:31:36.101Z"
   },
   {
    "duration": 6,
    "start_time": "2022-05-29T10:31:36.143Z"
   },
   {
    "duration": 13,
    "start_time": "2022-05-29T10:31:36.155Z"
   },
   {
    "duration": 20,
    "start_time": "2022-05-29T10:31:36.171Z"
   },
   {
    "duration": 7,
    "start_time": "2022-05-29T10:31:36.194Z"
   },
   {
    "duration": 50,
    "start_time": "2022-05-29T10:31:36.203Z"
   },
   {
    "duration": 6,
    "start_time": "2022-05-29T10:31:36.254Z"
   },
   {
    "duration": 7,
    "start_time": "2022-05-29T10:31:36.262Z"
   },
   {
    "duration": 9,
    "start_time": "2022-05-29T10:31:36.271Z"
   },
   {
    "duration": 11,
    "start_time": "2022-05-29T10:31:36.282Z"
   },
   {
    "duration": 6,
    "start_time": "2022-05-29T10:31:36.294Z"
   },
   {
    "duration": 43,
    "start_time": "2022-05-29T10:31:36.302Z"
   },
   {
    "duration": 14,
    "start_time": "2022-05-29T10:31:36.348Z"
   },
   {
    "duration": 4,
    "start_time": "2022-05-29T10:31:36.364Z"
   },
   {
    "duration": 370,
    "start_time": "2022-05-29T10:31:36.370Z"
   },
   {
    "duration": 13,
    "start_time": "2022-05-29T10:31:36.742Z"
   },
   {
    "duration": 5,
    "start_time": "2022-05-29T10:31:36.756Z"
   },
   {
    "duration": 16,
    "start_time": "2022-05-29T10:31:36.763Z"
   },
   {
    "duration": 4,
    "start_time": "2022-05-29T10:31:36.781Z"
   },
   {
    "duration": 22,
    "start_time": "2022-05-29T10:31:36.788Z"
   },
   {
    "duration": 59,
    "start_time": "2022-05-29T10:31:36.812Z"
   },
   {
    "duration": 244,
    "start_time": "2022-05-29T10:31:36.873Z"
   },
   {
    "duration": 303,
    "start_time": "2022-05-29T10:31:37.119Z"
   },
   {
    "duration": 145,
    "start_time": "2022-05-29T10:31:37.424Z"
   },
   {
    "duration": 246,
    "start_time": "2022-05-29T10:31:37.571Z"
   },
   {
    "duration": 133,
    "start_time": "2022-05-29T10:31:37.819Z"
   },
   {
    "duration": 166,
    "start_time": "2022-05-29T10:31:37.954Z"
   },
   {
    "duration": 156,
    "start_time": "2022-05-29T10:31:38.122Z"
   },
   {
    "duration": 13,
    "start_time": "2022-05-29T10:31:38.280Z"
   },
   {
    "duration": 239,
    "start_time": "2022-05-29T10:31:38.294Z"
   },
   {
    "duration": 155,
    "start_time": "2022-05-29T10:31:38.535Z"
   },
   {
    "duration": 165,
    "start_time": "2022-05-29T10:31:38.692Z"
   },
   {
    "duration": 13,
    "start_time": "2022-05-29T10:31:38.859Z"
   },
   {
    "duration": 6,
    "start_time": "2022-05-29T10:31:38.874Z"
   },
   {
    "duration": 143,
    "start_time": "2022-05-29T10:31:38.881Z"
   },
   {
    "duration": 156,
    "start_time": "2022-05-29T10:31:39.026Z"
   },
   {
    "duration": 6,
    "start_time": "2022-05-29T10:31:39.184Z"
   },
   {
    "duration": 137,
    "start_time": "2022-05-29T10:31:39.192Z"
   },
   {
    "duration": 14,
    "start_time": "2022-05-29T10:31:39.331Z"
   },
   {
    "duration": 9,
    "start_time": "2022-05-29T10:31:39.347Z"
   },
   {
    "duration": 138,
    "start_time": "2022-05-29T10:31:39.358Z"
   },
   {
    "duration": 18,
    "start_time": "2022-05-29T10:31:39.498Z"
   },
   {
    "duration": 280,
    "start_time": "2022-05-29T10:31:39.518Z"
   },
   {
    "duration": 10,
    "start_time": "2022-05-29T10:31:39.802Z"
   },
   {
    "duration": 218,
    "start_time": "2022-05-29T10:31:39.814Z"
   },
   {
    "duration": 13,
    "start_time": "2022-05-29T10:31:40.034Z"
   },
   {
    "duration": 178,
    "start_time": "2022-05-29T10:31:40.049Z"
   },
   {
    "duration": 244,
    "start_time": "2022-05-29T10:31:40.229Z"
   },
   {
    "duration": 8,
    "start_time": "2022-05-29T10:31:40.475Z"
   },
   {
    "duration": 164,
    "start_time": "2022-05-29T10:31:40.486Z"
   },
   {
    "duration": 237,
    "start_time": "2022-05-29T10:31:40.653Z"
   },
   {
    "duration": 180,
    "start_time": "2022-05-29T10:31:40.892Z"
   },
   {
    "duration": 36,
    "start_time": "2022-05-29T10:31:41.074Z"
   },
   {
    "duration": 280,
    "start_time": "2022-05-29T10:31:41.113Z"
   },
   {
    "duration": 33,
    "start_time": "2022-05-29T10:31:41.395Z"
   },
   {
    "duration": 167,
    "start_time": "2022-05-29T10:31:41.442Z"
   },
   {
    "duration": 466,
    "start_time": "2022-05-29T10:31:41.615Z"
   },
   {
    "duration": 147,
    "start_time": "2022-05-29T10:31:42.083Z"
   },
   {
    "duration": 157,
    "start_time": "2022-05-29T10:31:42.232Z"
   },
   {
    "duration": 11,
    "start_time": "2022-05-29T10:31:42.390Z"
   },
   {
    "duration": 208,
    "start_time": "2022-05-29T10:31:42.403Z"
   },
   {
    "duration": 214,
    "start_time": "2022-05-29T10:31:42.613Z"
   },
   {
    "duration": 141,
    "start_time": "2022-05-29T10:31:42.829Z"
   },
   {
    "duration": 5,
    "start_time": "2022-05-29T10:34:26.067Z"
   },
   {
    "duration": 18,
    "start_time": "2022-05-29T10:34:32.999Z"
   },
   {
    "duration": 4,
    "start_time": "2022-05-29T10:34:37.226Z"
   },
   {
    "duration": 166,
    "start_time": "2022-05-29T10:34:37.232Z"
   },
   {
    "duration": 41,
    "start_time": "2022-05-29T10:34:37.400Z"
   },
   {
    "duration": 23,
    "start_time": "2022-05-29T10:34:37.444Z"
   },
   {
    "duration": 7,
    "start_time": "2022-05-29T10:34:37.470Z"
   },
   {
    "duration": 6,
    "start_time": "2022-05-29T10:34:37.479Z"
   },
   {
    "duration": 13,
    "start_time": "2022-05-29T10:34:37.486Z"
   },
   {
    "duration": 47,
    "start_time": "2022-05-29T10:34:37.500Z"
   },
   {
    "duration": 25,
    "start_time": "2022-05-29T10:34:37.548Z"
   },
   {
    "duration": 14,
    "start_time": "2022-05-29T10:34:37.575Z"
   },
   {
    "duration": 6,
    "start_time": "2022-05-29T10:34:37.593Z"
   },
   {
    "duration": 10,
    "start_time": "2022-05-29T10:34:37.601Z"
   },
   {
    "duration": 12,
    "start_time": "2022-05-29T10:34:37.613Z"
   },
   {
    "duration": 7,
    "start_time": "2022-05-29T10:34:37.642Z"
   },
   {
    "duration": 17,
    "start_time": "2022-05-29T10:34:37.651Z"
   },
   {
    "duration": 21,
    "start_time": "2022-05-29T10:34:37.670Z"
   },
   {
    "duration": 15,
    "start_time": "2022-05-29T10:34:37.693Z"
   },
   {
    "duration": 6,
    "start_time": "2022-05-29T10:34:37.710Z"
   },
   {
    "duration": 29,
    "start_time": "2022-05-29T10:34:37.717Z"
   },
   {
    "duration": 26,
    "start_time": "2022-05-29T10:34:37.748Z"
   },
   {
    "duration": 8,
    "start_time": "2022-05-29T10:34:37.776Z"
   },
   {
    "duration": 14,
    "start_time": "2022-05-29T10:34:37.786Z"
   },
   {
    "duration": 9,
    "start_time": "2022-05-29T10:34:37.803Z"
   },
   {
    "duration": 28,
    "start_time": "2022-05-29T10:34:37.814Z"
   },
   {
    "duration": 6,
    "start_time": "2022-05-29T10:34:37.845Z"
   },
   {
    "duration": 25,
    "start_time": "2022-05-29T10:34:37.853Z"
   },
   {
    "duration": 12,
    "start_time": "2022-05-29T10:34:37.881Z"
   },
   {
    "duration": 10,
    "start_time": "2022-05-29T10:34:37.895Z"
   },
   {
    "duration": 14,
    "start_time": "2022-05-29T10:34:37.909Z"
   },
   {
    "duration": 19,
    "start_time": "2022-05-29T10:34:37.926Z"
   },
   {
    "duration": 38,
    "start_time": "2022-05-29T10:34:37.947Z"
   },
   {
    "duration": 7,
    "start_time": "2022-05-29T10:34:37.987Z"
   },
   {
    "duration": 7,
    "start_time": "2022-05-29T10:34:37.996Z"
   },
   {
    "duration": 11,
    "start_time": "2022-05-29T10:34:38.005Z"
   },
   {
    "duration": 8,
    "start_time": "2022-05-29T10:34:38.018Z"
   },
   {
    "duration": 18,
    "start_time": "2022-05-29T10:34:38.028Z"
   },
   {
    "duration": 36,
    "start_time": "2022-05-29T10:34:38.048Z"
   },
   {
    "duration": 13,
    "start_time": "2022-05-29T10:34:38.086Z"
   },
   {
    "duration": 4,
    "start_time": "2022-05-29T10:34:38.101Z"
   },
   {
    "duration": 426,
    "start_time": "2022-05-29T10:34:38.107Z"
   },
   {
    "duration": 20,
    "start_time": "2022-05-29T10:34:38.535Z"
   },
   {
    "duration": 32,
    "start_time": "2022-05-29T10:34:38.557Z"
   },
   {
    "duration": 17,
    "start_time": "2022-05-29T10:34:38.592Z"
   },
   {
    "duration": 4,
    "start_time": "2022-05-29T10:34:38.611Z"
   },
   {
    "duration": 19,
    "start_time": "2022-05-29T10:34:38.617Z"
   },
   {
    "duration": 47,
    "start_time": "2022-05-29T10:34:38.638Z"
   },
   {
    "duration": 226,
    "start_time": "2022-05-29T10:34:38.687Z"
   },
   {
    "duration": 407,
    "start_time": "2022-05-29T10:34:38.914Z"
   },
   {
    "duration": 167,
    "start_time": "2022-05-29T10:34:39.323Z"
   },
   {
    "duration": 203,
    "start_time": "2022-05-29T10:34:39.491Z"
   },
   {
    "duration": 117,
    "start_time": "2022-05-29T10:34:39.696Z"
   },
   {
    "duration": 201,
    "start_time": "2022-05-29T10:34:39.815Z"
   },
   {
    "duration": 122,
    "start_time": "2022-05-29T10:34:40.018Z"
   },
   {
    "duration": 20,
    "start_time": "2022-05-29T10:34:40.152Z"
   },
   {
    "duration": 237,
    "start_time": "2022-05-29T10:34:40.176Z"
   },
   {
    "duration": 158,
    "start_time": "2022-05-29T10:34:40.415Z"
   },
   {
    "duration": 150,
    "start_time": "2022-05-29T10:34:40.575Z"
   },
   {
    "duration": 21,
    "start_time": "2022-05-29T10:34:40.727Z"
   },
   {
    "duration": 23,
    "start_time": "2022-05-29T10:34:40.749Z"
   },
   {
    "duration": 176,
    "start_time": "2022-05-29T10:34:40.774Z"
   },
   {
    "duration": 237,
    "start_time": "2022-05-29T10:34:40.952Z"
   },
   {
    "duration": 6,
    "start_time": "2022-05-29T10:34:41.192Z"
   },
   {
    "duration": 157,
    "start_time": "2022-05-29T10:34:41.200Z"
   },
   {
    "duration": 9,
    "start_time": "2022-05-29T10:34:41.359Z"
   },
   {
    "duration": 21,
    "start_time": "2022-05-29T10:34:41.370Z"
   },
   {
    "duration": 6,
    "start_time": "2022-05-29T10:34:41.393Z"
   },
   {
    "duration": 47,
    "start_time": "2022-05-29T10:34:41.400Z"
   },
   {
    "duration": 361,
    "start_time": "2022-05-29T10:34:41.449Z"
   },
   {
    "duration": 7,
    "start_time": "2022-05-29T10:34:41.812Z"
   },
   {
    "duration": 185,
    "start_time": "2022-05-29T10:34:41.820Z"
   },
   {
    "duration": 6,
    "start_time": "2022-05-29T10:34:42.007Z"
   },
   {
    "duration": 187,
    "start_time": "2022-05-29T10:34:42.014Z"
   },
   {
    "duration": 207,
    "start_time": "2022-05-29T10:34:42.205Z"
   },
   {
    "duration": 6,
    "start_time": "2022-05-29T10:34:42.414Z"
   },
   {
    "duration": 201,
    "start_time": "2022-05-29T10:34:42.422Z"
   },
   {
    "duration": 210,
    "start_time": "2022-05-29T10:34:42.625Z"
   },
   {
    "duration": 213,
    "start_time": "2022-05-29T10:34:42.840Z"
   },
   {
    "duration": 31,
    "start_time": "2022-05-29T10:34:43.055Z"
   },
   {
    "duration": 220,
    "start_time": "2022-05-29T10:34:43.088Z"
   },
   {
    "duration": 38,
    "start_time": "2022-05-29T10:34:43.310Z"
   },
   {
    "duration": 185,
    "start_time": "2022-05-29T10:34:43.350Z"
   },
   {
    "duration": 546,
    "start_time": "2022-05-29T10:34:43.536Z"
   },
   {
    "duration": 201,
    "start_time": "2022-05-29T10:34:44.090Z"
   },
   {
    "duration": 356,
    "start_time": "2022-05-29T10:34:44.293Z"
   },
   {
    "duration": 11,
    "start_time": "2022-05-29T10:34:44.652Z"
   },
   {
    "duration": 409,
    "start_time": "2022-05-29T10:34:44.665Z"
   },
   {
    "duration": 566,
    "start_time": "2022-05-29T10:34:45.076Z"
   },
   {
    "duration": 431,
    "start_time": "2022-05-29T10:34:45.644Z"
   },
   {
    "duration": 20,
    "start_time": "2022-05-29T10:39:30.528Z"
   },
   {
    "duration": 18,
    "start_time": "2022-05-29T10:39:34.179Z"
   },
   {
    "duration": 14,
    "start_time": "2022-05-29T10:43:03.670Z"
   },
   {
    "duration": 16,
    "start_time": "2022-05-29T10:43:33.317Z"
   },
   {
    "duration": 20,
    "start_time": "2022-05-29T10:47:57.822Z"
   },
   {
    "duration": 47,
    "start_time": "2022-05-29T10:48:12.339Z"
   },
   {
    "duration": 12,
    "start_time": "2022-05-29T10:54:35.118Z"
   },
   {
    "duration": 15,
    "start_time": "2022-05-29T11:02:24.682Z"
   },
   {
    "duration": 4,
    "start_time": "2022-05-29T11:02:29.266Z"
   },
   {
    "duration": 126,
    "start_time": "2022-05-29T11:02:29.273Z"
   },
   {
    "duration": 43,
    "start_time": "2022-05-29T11:02:29.401Z"
   },
   {
    "duration": 23,
    "start_time": "2022-05-29T11:02:29.445Z"
   },
   {
    "duration": 30,
    "start_time": "2022-05-29T11:02:29.472Z"
   },
   {
    "duration": 9,
    "start_time": "2022-05-29T11:02:29.504Z"
   },
   {
    "duration": 18,
    "start_time": "2022-05-29T11:02:29.515Z"
   },
   {
    "duration": 12,
    "start_time": "2022-05-29T11:02:29.534Z"
   },
   {
    "duration": 44,
    "start_time": "2022-05-29T11:02:29.548Z"
   },
   {
    "duration": 14,
    "start_time": "2022-05-29T11:02:29.594Z"
   },
   {
    "duration": 14,
    "start_time": "2022-05-29T11:02:29.610Z"
   },
   {
    "duration": 12,
    "start_time": "2022-05-29T11:02:29.626Z"
   },
   {
    "duration": 46,
    "start_time": "2022-05-29T11:02:29.642Z"
   },
   {
    "duration": 13,
    "start_time": "2022-05-29T11:02:29.690Z"
   },
   {
    "duration": 14,
    "start_time": "2022-05-29T11:02:29.704Z"
   },
   {
    "duration": 9,
    "start_time": "2022-05-29T11:02:29.720Z"
   },
   {
    "duration": 23,
    "start_time": "2022-05-29T11:02:29.731Z"
   },
   {
    "duration": 38,
    "start_time": "2022-05-29T11:02:29.758Z"
   },
   {
    "duration": 9,
    "start_time": "2022-05-29T11:02:29.798Z"
   },
   {
    "duration": 21,
    "start_time": "2022-05-29T11:02:29.809Z"
   },
   {
    "duration": 13,
    "start_time": "2022-05-29T11:02:29.832Z"
   },
   {
    "duration": 49,
    "start_time": "2022-05-29T11:02:29.846Z"
   },
   {
    "duration": 11,
    "start_time": "2022-05-29T11:02:29.897Z"
   },
   {
    "duration": 13,
    "start_time": "2022-05-29T11:02:29.910Z"
   },
   {
    "duration": 10,
    "start_time": "2022-05-29T11:02:29.926Z"
   },
   {
    "duration": 80,
    "start_time": "2022-05-29T11:02:29.939Z"
   },
   {
    "duration": 14,
    "start_time": "2022-05-29T11:02:30.021Z"
   },
   {
    "duration": 51,
    "start_time": "2022-05-29T11:02:30.037Z"
   },
   {
    "duration": 29,
    "start_time": "2022-05-29T11:02:30.092Z"
   },
   {
    "duration": 5,
    "start_time": "2022-05-29T11:02:30.124Z"
   },
   {
    "duration": 29,
    "start_time": "2022-05-29T11:02:30.133Z"
   },
   {
    "duration": 59,
    "start_time": "2022-05-29T11:02:30.164Z"
   },
   {
    "duration": 11,
    "start_time": "2022-05-29T11:02:30.226Z"
   },
   {
    "duration": 50,
    "start_time": "2022-05-29T11:02:30.239Z"
   },
   {
    "duration": 16,
    "start_time": "2022-05-29T11:02:30.292Z"
   },
   {
    "duration": 11,
    "start_time": "2022-05-29T11:02:30.310Z"
   },
   {
    "duration": 8,
    "start_time": "2022-05-29T11:02:30.330Z"
   },
   {
    "duration": 74,
    "start_time": "2022-05-29T11:02:30.341Z"
   },
   {
    "duration": 17,
    "start_time": "2022-05-29T11:02:30.417Z"
   },
   {
    "duration": 548,
    "start_time": "2022-05-29T11:02:30.436Z"
   },
   {
    "duration": 11,
    "start_time": "2022-05-29T11:02:30.986Z"
   },
   {
    "duration": 6,
    "start_time": "2022-05-29T11:02:30.999Z"
   },
   {
    "duration": 13,
    "start_time": "2022-05-29T11:02:31.007Z"
   },
   {
    "duration": 21,
    "start_time": "2022-05-29T11:02:31.022Z"
   },
   {
    "duration": 42,
    "start_time": "2022-05-29T11:02:31.050Z"
   },
   {
    "duration": 27,
    "start_time": "2022-05-29T11:02:31.094Z"
   },
   {
    "duration": 178,
    "start_time": "2022-05-29T11:02:31.123Z"
   },
   {
    "duration": 306,
    "start_time": "2022-05-29T11:02:31.302Z"
   },
   {
    "duration": 183,
    "start_time": "2022-05-29T11:02:31.609Z"
   },
   {
    "duration": 217,
    "start_time": "2022-05-29T11:02:31.794Z"
   },
   {
    "duration": 166,
    "start_time": "2022-05-29T11:02:32.014Z"
   },
   {
    "duration": 172,
    "start_time": "2022-05-29T11:02:32.184Z"
   },
   {
    "duration": 142,
    "start_time": "2022-05-29T11:02:32.358Z"
   },
   {
    "duration": 15,
    "start_time": "2022-05-29T11:02:32.505Z"
   },
   {
    "duration": 291,
    "start_time": "2022-05-29T11:02:32.522Z"
   },
   {
    "duration": 170,
    "start_time": "2022-05-29T11:02:32.815Z"
   },
   {
    "duration": 288,
    "start_time": "2022-05-29T11:02:32.987Z"
   },
   {
    "duration": 18,
    "start_time": "2022-05-29T11:02:33.278Z"
   },
   {
    "duration": 11,
    "start_time": "2022-05-29T11:02:33.304Z"
   },
   {
    "duration": 179,
    "start_time": "2022-05-29T11:02:33.317Z"
   },
   {
    "duration": 167,
    "start_time": "2022-05-29T11:02:33.497Z"
   },
   {
    "duration": 9,
    "start_time": "2022-05-29T11:02:33.666Z"
   },
   {
    "duration": 192,
    "start_time": "2022-05-29T11:02:33.677Z"
   },
   {
    "duration": 11,
    "start_time": "2022-05-29T11:02:33.873Z"
   },
   {
    "duration": 25,
    "start_time": "2022-05-29T11:02:33.886Z"
   },
   {
    "duration": 4,
    "start_time": "2022-05-29T11:02:33.914Z"
   },
   {
    "duration": 25,
    "start_time": "2022-05-29T11:02:33.920Z"
   },
   {
    "duration": 29,
    "start_time": "2022-05-29T11:02:33.947Z"
   },
   {
    "duration": 359,
    "start_time": "2022-05-29T11:02:33.978Z"
   },
   {
    "duration": 19,
    "start_time": "2022-05-29T11:02:34.339Z"
   },
   {
    "duration": 254,
    "start_time": "2022-05-29T11:02:34.360Z"
   },
   {
    "duration": 6,
    "start_time": "2022-05-29T11:02:34.616Z"
   },
   {
    "duration": 221,
    "start_time": "2022-05-29T11:02:34.625Z"
   },
   {
    "duration": 200,
    "start_time": "2022-05-29T11:02:34.848Z"
   },
   {
    "duration": 8,
    "start_time": "2022-05-29T11:02:35.050Z"
   },
   {
    "duration": 191,
    "start_time": "2022-05-29T11:02:35.060Z"
   },
   {
    "duration": 233,
    "start_time": "2022-05-29T11:02:35.253Z"
   },
   {
    "duration": 181,
    "start_time": "2022-05-29T11:02:35.489Z"
   },
   {
    "duration": 34,
    "start_time": "2022-05-29T11:02:35.673Z"
   },
   {
    "duration": 273,
    "start_time": "2022-05-29T11:02:35.709Z"
   },
   {
    "duration": 28,
    "start_time": "2022-05-29T11:02:35.984Z"
   },
   {
    "duration": 278,
    "start_time": "2022-05-29T11:02:36.014Z"
   },
   {
    "duration": 450,
    "start_time": "2022-05-29T11:02:36.294Z"
   },
   {
    "duration": 176,
    "start_time": "2022-05-29T11:02:36.746Z"
   },
   {
    "duration": 209,
    "start_time": "2022-05-29T11:02:36.924Z"
   },
   {
    "duration": 16,
    "start_time": "2022-05-29T11:02:37.136Z"
   },
   {
    "duration": 271,
    "start_time": "2022-05-29T11:02:37.154Z"
   },
   {
    "duration": 425,
    "start_time": "2022-05-29T11:02:37.428Z"
   },
   {
    "duration": 420,
    "start_time": "2022-05-29T11:02:37.858Z"
   },
   {
    "duration": 44,
    "start_time": "2022-05-29T11:16:39.779Z"
   },
   {
    "duration": 22,
    "start_time": "2022-05-29T11:20:12.504Z"
   },
   {
    "duration": 84,
    "start_time": "2022-05-29T11:20:15.627Z"
   },
   {
    "duration": 20,
    "start_time": "2022-05-29T11:20:54.175Z"
   },
   {
    "duration": 390,
    "start_time": "2022-05-29T11:20:54.197Z"
   },
   {
    "duration": 56,
    "start_time": "2022-05-29T11:20:54.589Z"
   },
   {
    "duration": 45,
    "start_time": "2022-05-29T11:20:54.648Z"
   },
   {
    "duration": 33,
    "start_time": "2022-05-29T11:20:54.695Z"
   },
   {
    "duration": 125,
    "start_time": "2022-05-29T11:20:54.732Z"
   },
   {
    "duration": 119,
    "start_time": "2022-05-29T11:20:54.867Z"
   },
   {
    "duration": 110,
    "start_time": "2022-05-29T11:20:54.992Z"
   },
   {
    "duration": 140,
    "start_time": "2022-05-29T11:20:55.107Z"
   },
   {
    "duration": 102,
    "start_time": "2022-05-29T11:20:55.257Z"
   },
   {
    "duration": 188,
    "start_time": "2022-05-29T11:20:55.365Z"
   },
   {
    "duration": 176,
    "start_time": "2022-05-29T11:20:55.559Z"
   },
   {
    "duration": 105,
    "start_time": "2022-05-29T11:20:55.748Z"
   },
   {
    "duration": 133,
    "start_time": "2022-05-29T11:20:55.870Z"
   },
   {
    "duration": 136,
    "start_time": "2022-05-29T11:20:56.013Z"
   },
   {
    "duration": 114,
    "start_time": "2022-05-29T11:20:56.161Z"
   },
   {
    "duration": 110,
    "start_time": "2022-05-29T11:20:56.281Z"
   },
   {
    "duration": 35,
    "start_time": "2022-05-29T11:20:56.398Z"
   },
   {
    "duration": 86,
    "start_time": "2022-05-29T11:20:56.438Z"
   },
   {
    "duration": 151,
    "start_time": "2022-05-29T11:20:56.528Z"
   },
   {
    "duration": 166,
    "start_time": "2022-05-29T11:20:56.686Z"
   },
   {
    "duration": 104,
    "start_time": "2022-05-29T11:20:56.858Z"
   },
   {
    "duration": 114,
    "start_time": "2022-05-29T11:20:56.967Z"
   },
   {
    "duration": 129,
    "start_time": "2022-05-29T11:20:57.095Z"
   },
   {
    "duration": 120,
    "start_time": "2022-05-29T11:20:57.243Z"
   },
   {
    "duration": 122,
    "start_time": "2022-05-29T11:20:57.377Z"
   },
   {
    "duration": 171,
    "start_time": "2022-05-29T11:20:57.505Z"
   },
   {
    "duration": 201,
    "start_time": "2022-05-29T11:20:57.682Z"
   },
   {
    "duration": 150,
    "start_time": "2022-05-29T11:20:57.889Z"
   },
   {
    "duration": 22,
    "start_time": "2022-05-29T11:20:58.053Z"
   },
   {
    "duration": 211,
    "start_time": "2022-05-29T11:20:58.081Z"
   },
   {
    "duration": 185,
    "start_time": "2022-05-29T11:20:58.298Z"
   },
   {
    "duration": 176,
    "start_time": "2022-05-29T11:20:58.489Z"
   },
   {
    "duration": 155,
    "start_time": "2022-05-29T11:20:58.670Z"
   },
   {
    "duration": 217,
    "start_time": "2022-05-29T11:20:58.834Z"
   },
   {
    "duration": 171,
    "start_time": "2022-05-29T11:20:59.058Z"
   },
   {
    "duration": 247,
    "start_time": "2022-05-29T11:20:59.235Z"
   },
   {
    "duration": 92,
    "start_time": "2022-05-29T11:20:59.490Z"
   },
   {
    "duration": 16,
    "start_time": "2022-05-29T11:20:59.588Z"
   },
   {
    "duration": 872,
    "start_time": "2022-05-29T11:20:59.610Z"
   },
   {
    "duration": 41,
    "start_time": "2022-05-29T11:21:00.489Z"
   },
   {
    "duration": 176,
    "start_time": "2022-05-29T11:21:00.543Z"
   },
   {
    "duration": 239,
    "start_time": "2022-05-29T11:21:00.732Z"
   },
   {
    "duration": 258,
    "start_time": "2022-05-29T11:21:00.973Z"
   },
   {
    "duration": 233,
    "start_time": "2022-05-29T11:21:01.239Z"
   },
   {
    "duration": 154,
    "start_time": "2022-05-29T11:21:01.475Z"
   },
   {
    "duration": 330,
    "start_time": "2022-05-29T11:21:01.632Z"
   },
   {
    "duration": 641,
    "start_time": "2022-05-29T11:21:01.967Z"
   },
   {
    "duration": 261,
    "start_time": "2022-05-29T11:21:02.611Z"
   },
   {
    "duration": 236,
    "start_time": "2022-05-29T11:21:02.874Z"
   },
   {
    "duration": 160,
    "start_time": "2022-05-29T11:21:03.113Z"
   },
   {
    "duration": 320,
    "start_time": "2022-05-29T11:21:03.279Z"
   },
   {
    "duration": 167,
    "start_time": "2022-05-29T11:21:03.606Z"
   },
   {
    "duration": 20,
    "start_time": "2022-05-29T11:21:03.780Z"
   },
   {
    "duration": 677,
    "start_time": "2022-05-29T11:21:03.809Z"
   },
   {
    "duration": 226,
    "start_time": "2022-05-29T11:21:04.495Z"
   },
   {
    "duration": 619,
    "start_time": "2022-05-29T11:21:04.728Z"
   },
   {
    "duration": 26,
    "start_time": "2022-05-29T11:21:05.355Z"
   },
   {
    "duration": 124,
    "start_time": "2022-05-29T11:21:05.391Z"
   },
   {
    "duration": 314,
    "start_time": "2022-05-29T11:21:05.527Z"
   },
   {
    "duration": 333,
    "start_time": "2022-05-29T11:21:05.846Z"
   },
   {
    "duration": 14,
    "start_time": "2022-05-29T11:21:06.186Z"
   },
   {
    "duration": 258,
    "start_time": "2022-05-29T11:21:06.209Z"
   },
   {
    "duration": 15,
    "start_time": "2022-05-29T11:21:06.474Z"
   },
   {
    "duration": 188,
    "start_time": "2022-05-29T11:21:06.496Z"
   },
   {
    "duration": 60,
    "start_time": "2022-05-29T11:21:06.687Z"
   },
   {
    "duration": 43,
    "start_time": "2022-05-29T11:21:06.750Z"
   },
   {
    "duration": 131,
    "start_time": "2022-05-29T11:21:06.798Z"
   },
   {
    "duration": 644,
    "start_time": "2022-05-29T11:21:06.937Z"
   },
   {
    "duration": 11,
    "start_time": "2022-05-29T11:21:07.583Z"
   },
   {
    "duration": 449,
    "start_time": "2022-05-29T11:21:07.597Z"
   },
   {
    "duration": 8,
    "start_time": "2022-05-29T11:21:08.049Z"
   },
   {
    "duration": 377,
    "start_time": "2022-05-29T11:21:08.064Z"
   },
   {
    "duration": 297,
    "start_time": "2022-05-29T11:21:08.448Z"
   },
   {
    "duration": 12,
    "start_time": "2022-05-29T11:21:08.751Z"
   },
   {
    "duration": 478,
    "start_time": "2022-05-29T11:21:08.769Z"
   },
   {
    "duration": 309,
    "start_time": "2022-05-29T11:21:09.249Z"
   },
   {
    "duration": 279,
    "start_time": "2022-05-29T11:21:09.565Z"
   },
   {
    "duration": 39,
    "start_time": "2022-05-29T11:21:09.850Z"
   },
   {
    "duration": 469,
    "start_time": "2022-05-29T11:21:09.896Z"
   },
   {
    "duration": 51,
    "start_time": "2022-05-29T11:21:10.372Z"
   },
   {
    "duration": 321,
    "start_time": "2022-05-29T11:21:10.430Z"
   },
   {
    "duration": 843,
    "start_time": "2022-05-29T11:21:10.759Z"
   },
   {
    "duration": 249,
    "start_time": "2022-05-29T11:21:11.604Z"
   },
   {
    "duration": 238,
    "start_time": "2022-05-29T11:21:11.854Z"
   },
   {
    "duration": 23,
    "start_time": "2022-05-29T11:21:12.096Z"
   },
   {
    "duration": 294,
    "start_time": "2022-05-29T11:21:12.121Z"
   },
   {
    "duration": 348,
    "start_time": "2022-05-29T11:21:12.417Z"
   },
   {
    "duration": 267,
    "start_time": "2022-05-29T11:21:12.768Z"
   },
   {
    "duration": 4,
    "start_time": "2022-05-29T11:23:59.418Z"
   },
   {
    "duration": 5,
    "start_time": "2022-05-29T11:24:02.958Z"
   },
   {
    "duration": 164,
    "start_time": "2022-05-29T11:24:02.966Z"
   },
   {
    "duration": 50,
    "start_time": "2022-05-29T11:24:03.133Z"
   },
   {
    "duration": 26,
    "start_time": "2022-05-29T11:24:03.185Z"
   },
   {
    "duration": 28,
    "start_time": "2022-05-29T11:24:03.218Z"
   },
   {
    "duration": 41,
    "start_time": "2022-05-29T11:24:03.248Z"
   },
   {
    "duration": 11,
    "start_time": "2022-05-29T11:24:03.291Z"
   },
   {
    "duration": 17,
    "start_time": "2022-05-29T11:24:03.304Z"
   },
   {
    "duration": 8,
    "start_time": "2022-05-29T11:24:03.324Z"
   },
   {
    "duration": 10,
    "start_time": "2022-05-29T11:24:03.334Z"
   },
   {
    "duration": 45,
    "start_time": "2022-05-29T11:24:03.348Z"
   },
   {
    "duration": 12,
    "start_time": "2022-05-29T11:24:03.395Z"
   },
   {
    "duration": 5,
    "start_time": "2022-05-29T11:24:03.409Z"
   },
   {
    "duration": 9,
    "start_time": "2022-05-29T11:24:03.416Z"
   },
   {
    "duration": 11,
    "start_time": "2022-05-29T11:24:03.427Z"
   },
   {
    "duration": 6,
    "start_time": "2022-05-29T11:24:03.441Z"
   },
   {
    "duration": 55,
    "start_time": "2022-05-29T11:24:03.449Z"
   },
   {
    "duration": 10,
    "start_time": "2022-05-29T11:24:03.506Z"
   },
   {
    "duration": 7,
    "start_time": "2022-05-29T11:24:03.518Z"
   },
   {
    "duration": 10,
    "start_time": "2022-05-29T11:24:03.527Z"
   },
   {
    "duration": 52,
    "start_time": "2022-05-29T11:24:03.539Z"
   },
   {
    "duration": 12,
    "start_time": "2022-05-29T11:24:03.594Z"
   },
   {
    "duration": 9,
    "start_time": "2022-05-29T11:24:03.608Z"
   },
   {
    "duration": 11,
    "start_time": "2022-05-29T11:24:03.619Z"
   },
   {
    "duration": 6,
    "start_time": "2022-05-29T11:24:03.632Z"
   },
   {
    "duration": 50,
    "start_time": "2022-05-29T11:24:03.640Z"
   },
   {
    "duration": 9,
    "start_time": "2022-05-29T11:24:03.692Z"
   },
   {
    "duration": 13,
    "start_time": "2022-05-29T11:24:03.703Z"
   },
   {
    "duration": 16,
    "start_time": "2022-05-29T11:24:03.721Z"
   },
   {
    "duration": 3,
    "start_time": "2022-05-29T11:24:03.739Z"
   },
   {
    "duration": 57,
    "start_time": "2022-05-29T11:24:03.744Z"
   },
   {
    "duration": 7,
    "start_time": "2022-05-29T11:24:03.803Z"
   },
   {
    "duration": 6,
    "start_time": "2022-05-29T11:24:03.812Z"
   },
   {
    "duration": 6,
    "start_time": "2022-05-29T11:24:03.821Z"
   },
   {
    "duration": 10,
    "start_time": "2022-05-29T11:24:03.829Z"
   },
   {
    "duration": 28,
    "start_time": "2022-05-29T11:24:03.844Z"
   },
   {
    "duration": 16,
    "start_time": "2022-05-29T11:24:03.878Z"
   },
   {
    "duration": 15,
    "start_time": "2022-05-29T11:24:03.897Z"
   },
   {
    "duration": 10,
    "start_time": "2022-05-29T11:24:03.914Z"
   },
   {
    "duration": 462,
    "start_time": "2022-05-29T11:24:03.926Z"
   },
   {
    "duration": 15,
    "start_time": "2022-05-29T11:24:04.391Z"
   },
   {
    "duration": 15,
    "start_time": "2022-05-29T11:24:04.408Z"
   },
   {
    "duration": 76,
    "start_time": "2022-05-29T11:24:04.429Z"
   },
   {
    "duration": 5,
    "start_time": "2022-05-29T11:24:04.507Z"
   },
   {
    "duration": 23,
    "start_time": "2022-05-29T11:24:04.514Z"
   },
   {
    "duration": 44,
    "start_time": "2022-05-29T11:24:04.539Z"
   },
   {
    "duration": 284,
    "start_time": "2022-05-29T11:24:04.585Z"
   },
   {
    "duration": 340,
    "start_time": "2022-05-29T11:24:04.872Z"
   },
   {
    "duration": 188,
    "start_time": "2022-05-29T11:24:05.214Z"
   },
   {
    "duration": 208,
    "start_time": "2022-05-29T11:24:05.405Z"
   },
   {
    "duration": 138,
    "start_time": "2022-05-29T11:24:05.615Z"
   },
   {
    "duration": 173,
    "start_time": "2022-05-29T11:24:05.762Z"
   },
   {
    "duration": 137,
    "start_time": "2022-05-29T11:24:05.937Z"
   },
   {
    "duration": 17,
    "start_time": "2022-05-29T11:24:06.076Z"
   },
   {
    "duration": 303,
    "start_time": "2022-05-29T11:24:06.095Z"
   },
   {
    "duration": 205,
    "start_time": "2022-05-29T11:24:06.401Z"
   },
   {
    "duration": 154,
    "start_time": "2022-05-29T11:24:06.608Z"
   },
   {
    "duration": 16,
    "start_time": "2022-05-29T11:24:06.764Z"
   },
   {
    "duration": 19,
    "start_time": "2022-05-29T11:24:06.782Z"
   },
   {
    "duration": 384,
    "start_time": "2022-05-29T11:24:06.803Z"
   },
   {
    "duration": 583,
    "start_time": "2022-05-29T11:24:07.189Z"
   },
   {
    "duration": 13,
    "start_time": "2022-05-29T11:24:07.775Z"
   },
   {
    "duration": 501,
    "start_time": "2022-05-29T11:24:07.792Z"
   },
   {
    "duration": 8,
    "start_time": "2022-05-29T11:24:08.296Z"
   },
   {
    "duration": 97,
    "start_time": "2022-05-29T11:24:08.313Z"
   },
   {
    "duration": 33,
    "start_time": "2022-05-29T11:24:08.412Z"
   },
   {
    "duration": 18,
    "start_time": "2022-05-29T11:24:08.447Z"
   },
   {
    "duration": 116,
    "start_time": "2022-05-29T11:24:08.468Z"
   },
   {
    "duration": 834,
    "start_time": "2022-05-29T11:24:08.585Z"
   },
   {
    "duration": 27,
    "start_time": "2022-05-29T11:24:09.421Z"
   },
   {
    "duration": 203,
    "start_time": "2022-05-29T11:24:09.449Z"
   },
   {
    "duration": 6,
    "start_time": "2022-05-29T11:24:09.654Z"
   },
   {
    "duration": 250,
    "start_time": "2022-05-29T11:24:09.662Z"
   },
   {
    "duration": 251,
    "start_time": "2022-05-29T11:24:09.913Z"
   },
   {
    "duration": 7,
    "start_time": "2022-05-29T11:24:10.166Z"
   },
   {
    "duration": 237,
    "start_time": "2022-05-29T11:24:10.175Z"
   },
   {
    "duration": 256,
    "start_time": "2022-05-29T11:24:10.414Z"
   },
   {
    "duration": 187,
    "start_time": "2022-05-29T11:24:10.672Z"
   },
   {
    "duration": 40,
    "start_time": "2022-05-29T11:24:10.861Z"
   },
   {
    "duration": 230,
    "start_time": "2022-05-29T11:24:10.903Z"
   },
   {
    "duration": 42,
    "start_time": "2022-05-29T11:24:11.135Z"
   },
   {
    "duration": 223,
    "start_time": "2022-05-29T11:24:11.178Z"
   },
   {
    "duration": 642,
    "start_time": "2022-05-29T11:24:11.408Z"
   },
   {
    "duration": 177,
    "start_time": "2022-05-29T11:24:12.057Z"
   },
   {
    "duration": 276,
    "start_time": "2022-05-29T11:24:12.244Z"
   },
   {
    "duration": 12,
    "start_time": "2022-05-29T11:24:12.522Z"
   },
   {
    "duration": 213,
    "start_time": "2022-05-29T11:24:12.536Z"
   },
   {
    "duration": 276,
    "start_time": "2022-05-29T11:24:12.751Z"
   },
   {
    "duration": 220,
    "start_time": "2022-05-29T11:24:13.030Z"
   },
   {
    "duration": 3,
    "start_time": "2022-05-29T11:36:54.337Z"
   },
   {
    "duration": 127,
    "start_time": "2022-05-29T11:36:54.356Z"
   },
   {
    "duration": 22,
    "start_time": "2022-05-29T11:36:54.485Z"
   },
   {
    "duration": 45,
    "start_time": "2022-05-29T11:36:54.509Z"
   },
   {
    "duration": 6,
    "start_time": "2022-05-29T11:36:54.555Z"
   },
   {
    "duration": 26,
    "start_time": "2022-05-29T11:36:54.566Z"
   },
   {
    "duration": 15,
    "start_time": "2022-05-29T11:36:54.594Z"
   },
   {
    "duration": 8,
    "start_time": "2022-05-29T11:36:54.611Z"
   },
   {
    "duration": 21,
    "start_time": "2022-05-29T11:36:54.621Z"
   },
   {
    "duration": 35,
    "start_time": "2022-05-29T11:36:54.646Z"
   },
   {
    "duration": 7,
    "start_time": "2022-05-29T11:36:54.683Z"
   },
   {
    "duration": 12,
    "start_time": "2022-05-29T11:36:54.692Z"
   },
   {
    "duration": 9,
    "start_time": "2022-05-29T11:36:54.706Z"
   },
   {
    "duration": 9,
    "start_time": "2022-05-29T11:36:54.717Z"
   },
   {
    "duration": 11,
    "start_time": "2022-05-29T11:36:54.730Z"
   },
   {
    "duration": 11,
    "start_time": "2022-05-29T11:36:54.743Z"
   },
   {
    "duration": 29,
    "start_time": "2022-05-29T11:36:54.756Z"
   },
   {
    "duration": 13,
    "start_time": "2022-05-29T11:36:54.787Z"
   },
   {
    "duration": 16,
    "start_time": "2022-05-29T11:36:54.802Z"
   },
   {
    "duration": 10,
    "start_time": "2022-05-29T11:36:54.819Z"
   },
   {
    "duration": 10,
    "start_time": "2022-05-29T11:36:54.830Z"
   },
   {
    "duration": 41,
    "start_time": "2022-05-29T11:36:54.844Z"
   },
   {
    "duration": 10,
    "start_time": "2022-05-29T11:36:54.887Z"
   },
   {
    "duration": 16,
    "start_time": "2022-05-29T11:36:54.900Z"
   },
   {
    "duration": 5,
    "start_time": "2022-05-29T11:36:54.918Z"
   },
   {
    "duration": 10,
    "start_time": "2022-05-29T11:36:54.925Z"
   },
   {
    "duration": 53,
    "start_time": "2022-05-29T11:36:54.937Z"
   },
   {
    "duration": 13,
    "start_time": "2022-05-29T11:36:54.992Z"
   },
   {
    "duration": 22,
    "start_time": "2022-05-29T11:36:55.008Z"
   },
   {
    "duration": 3,
    "start_time": "2022-05-29T11:36:55.032Z"
   },
   {
    "duration": 52,
    "start_time": "2022-05-29T11:36:55.037Z"
   },
   {
    "duration": 6,
    "start_time": "2022-05-29T11:36:55.091Z"
   },
   {
    "duration": 12,
    "start_time": "2022-05-29T11:36:55.099Z"
   },
   {
    "duration": 17,
    "start_time": "2022-05-29T11:36:55.113Z"
   },
   {
    "duration": 51,
    "start_time": "2022-05-29T11:36:55.132Z"
   },
   {
    "duration": 7,
    "start_time": "2022-05-29T11:36:55.185Z"
   },
   {
    "duration": 10,
    "start_time": "2022-05-29T11:36:55.194Z"
   },
   {
    "duration": 14,
    "start_time": "2022-05-29T11:36:55.206Z"
   },
   {
    "duration": 3,
    "start_time": "2022-05-29T11:36:55.222Z"
   },
   {
    "duration": 395,
    "start_time": "2022-05-29T11:36:55.227Z"
   },
   {
    "duration": 26,
    "start_time": "2022-05-29T11:36:55.624Z"
   },
   {
    "duration": 5,
    "start_time": "2022-05-29T11:36:55.656Z"
   },
   {
    "duration": 23,
    "start_time": "2022-05-29T11:36:55.668Z"
   },
   {
    "duration": 4,
    "start_time": "2022-05-29T11:36:55.693Z"
   },
   {
    "duration": 19,
    "start_time": "2022-05-29T11:36:55.699Z"
   },
   {
    "duration": 38,
    "start_time": "2022-05-29T11:36:55.719Z"
   },
   {
    "duration": 214,
    "start_time": "2022-05-29T11:36:55.759Z"
   },
   {
    "duration": 404,
    "start_time": "2022-05-29T11:36:55.986Z"
   },
   {
    "duration": 160,
    "start_time": "2022-05-29T11:36:56.392Z"
   },
   {
    "duration": 161,
    "start_time": "2022-05-29T11:36:56.560Z"
   },
   {
    "duration": 124,
    "start_time": "2022-05-29T11:36:56.723Z"
   },
   {
    "duration": 175,
    "start_time": "2022-05-29T11:36:56.851Z"
   },
   {
    "duration": 158,
    "start_time": "2022-05-29T11:36:57.028Z"
   },
   {
    "duration": 15,
    "start_time": "2022-05-29T11:36:57.188Z"
   },
   {
    "duration": 298,
    "start_time": "2022-05-29T11:36:57.205Z"
   },
   {
    "duration": 147,
    "start_time": "2022-05-29T11:36:57.506Z"
   },
   {
    "duration": 160,
    "start_time": "2022-05-29T11:36:57.659Z"
   },
   {
    "duration": 12,
    "start_time": "2022-05-29T11:36:57.821Z"
   },
   {
    "duration": 13,
    "start_time": "2022-05-29T11:36:57.835Z"
   },
   {
    "duration": 228,
    "start_time": "2022-05-29T11:36:57.858Z"
   },
   {
    "duration": 197,
    "start_time": "2022-05-29T11:36:58.090Z"
   },
   {
    "duration": 7,
    "start_time": "2022-05-29T11:36:58.288Z"
   },
   {
    "duration": 296,
    "start_time": "2022-05-29T11:36:58.297Z"
   },
   {
    "duration": 6,
    "start_time": "2022-05-29T11:36:58.595Z"
   },
   {
    "duration": 16,
    "start_time": "2022-05-29T11:36:58.602Z"
   },
   {
    "duration": 43,
    "start_time": "2022-05-29T11:36:58.620Z"
   },
   {
    "duration": 33,
    "start_time": "2022-05-29T11:36:58.664Z"
   },
   {
    "duration": 19,
    "start_time": "2022-05-29T11:36:58.699Z"
   },
   {
    "duration": 310,
    "start_time": "2022-05-29T11:36:58.720Z"
   },
   {
    "duration": 26,
    "start_time": "2022-05-29T11:36:59.031Z"
   },
   {
    "duration": 196,
    "start_time": "2022-05-29T11:36:59.059Z"
   },
   {
    "duration": 8,
    "start_time": "2022-05-29T11:36:59.264Z"
   },
   {
    "duration": 162,
    "start_time": "2022-05-29T11:36:59.273Z"
   },
   {
    "duration": 222,
    "start_time": "2022-05-29T11:36:59.436Z"
   },
   {
    "duration": 9,
    "start_time": "2022-05-29T11:36:59.660Z"
   },
   {
    "duration": 201,
    "start_time": "2022-05-29T11:36:59.671Z"
   },
   {
    "duration": 240,
    "start_time": "2022-05-29T11:36:59.873Z"
   },
   {
    "duration": 178,
    "start_time": "2022-05-29T11:37:00.115Z"
   },
   {
    "duration": 25,
    "start_time": "2022-05-29T11:37:00.295Z"
   },
   {
    "duration": 246,
    "start_time": "2022-05-29T11:37:00.321Z"
   },
   {
    "duration": 30,
    "start_time": "2022-05-29T11:37:00.570Z"
   },
   {
    "duration": 214,
    "start_time": "2022-05-29T11:37:00.602Z"
   },
   {
    "duration": 567,
    "start_time": "2022-05-29T11:37:00.818Z"
   },
   {
    "duration": 195,
    "start_time": "2022-05-29T11:37:01.387Z"
   },
   {
    "duration": 175,
    "start_time": "2022-05-29T11:37:01.584Z"
   },
   {
    "duration": 14,
    "start_time": "2022-05-29T11:37:01.761Z"
   },
   {
    "duration": 175,
    "start_time": "2022-05-29T11:37:01.777Z"
   },
   {
    "duration": 247,
    "start_time": "2022-05-29T11:37:01.953Z"
   },
   {
    "duration": 200,
    "start_time": "2022-05-29T11:37:02.202Z"
   },
   {
    "duration": 749,
    "start_time": "2022-05-29T11:37:44.186Z"
   },
   {
    "duration": 130,
    "start_time": "2022-05-29T11:37:44.938Z"
   },
   {
    "duration": 28,
    "start_time": "2022-05-29T11:37:45.070Z"
   },
   {
    "duration": 19,
    "start_time": "2022-05-29T11:37:45.100Z"
   },
   {
    "duration": 15,
    "start_time": "2022-05-29T11:37:45.123Z"
   },
   {
    "duration": 64,
    "start_time": "2022-05-29T11:37:45.139Z"
   },
   {
    "duration": 20,
    "start_time": "2022-05-29T11:37:45.205Z"
   },
   {
    "duration": 28,
    "start_time": "2022-05-29T11:37:45.227Z"
   },
   {
    "duration": 42,
    "start_time": "2022-05-29T11:37:45.256Z"
   },
   {
    "duration": 29,
    "start_time": "2022-05-29T11:37:45.300Z"
   },
   {
    "duration": 48,
    "start_time": "2022-05-29T11:37:45.331Z"
   },
   {
    "duration": 27,
    "start_time": "2022-05-29T11:37:45.380Z"
   },
   {
    "duration": 24,
    "start_time": "2022-05-29T11:37:45.409Z"
   },
   {
    "duration": 44,
    "start_time": "2022-05-29T11:37:45.438Z"
   },
   {
    "duration": 33,
    "start_time": "2022-05-29T11:37:45.484Z"
   },
   {
    "duration": 12,
    "start_time": "2022-05-29T11:37:45.519Z"
   },
   {
    "duration": 65,
    "start_time": "2022-05-29T11:37:45.532Z"
   },
   {
    "duration": 22,
    "start_time": "2022-05-29T11:37:45.599Z"
   },
   {
    "duration": 30,
    "start_time": "2022-05-29T11:37:45.622Z"
   },
   {
    "duration": 51,
    "start_time": "2022-05-29T11:37:45.654Z"
   },
   {
    "duration": 25,
    "start_time": "2022-05-29T11:37:45.707Z"
   },
   {
    "duration": 54,
    "start_time": "2022-05-29T11:37:45.734Z"
   },
   {
    "duration": 28,
    "start_time": "2022-05-29T11:37:45.790Z"
   },
   {
    "duration": 23,
    "start_time": "2022-05-29T11:37:45.820Z"
   },
   {
    "duration": 45,
    "start_time": "2022-05-29T11:37:45.844Z"
   },
   {
    "duration": 8,
    "start_time": "2022-05-29T11:37:45.891Z"
   },
   {
    "duration": 31,
    "start_time": "2022-05-29T11:37:45.901Z"
   },
   {
    "duration": 50,
    "start_time": "2022-05-29T11:37:45.934Z"
   },
   {
    "duration": 33,
    "start_time": "2022-05-29T11:37:45.986Z"
   },
   {
    "duration": 13,
    "start_time": "2022-05-29T11:37:46.021Z"
   },
   {
    "duration": 62,
    "start_time": "2022-05-29T11:37:46.036Z"
   },
   {
    "duration": 18,
    "start_time": "2022-05-29T11:37:46.100Z"
   },
   {
    "duration": 13,
    "start_time": "2022-05-29T11:37:46.120Z"
   },
   {
    "duration": 66,
    "start_time": "2022-05-29T11:37:46.135Z"
   },
   {
    "duration": 33,
    "start_time": "2022-05-29T11:37:46.203Z"
   },
   {
    "duration": 78,
    "start_time": "2022-05-29T11:37:46.237Z"
   },
   {
    "duration": 34,
    "start_time": "2022-05-29T11:37:46.317Z"
   },
   {
    "duration": 37,
    "start_time": "2022-05-29T11:37:46.354Z"
   },
   {
    "duration": 4,
    "start_time": "2022-05-29T11:37:46.393Z"
   },
   {
    "duration": 383,
    "start_time": "2022-05-29T11:37:46.399Z"
   },
   {
    "duration": 13,
    "start_time": "2022-05-29T11:37:46.786Z"
   },
   {
    "duration": 14,
    "start_time": "2022-05-29T11:37:46.800Z"
   },
   {
    "duration": 32,
    "start_time": "2022-05-29T11:37:46.815Z"
   },
   {
    "duration": 41,
    "start_time": "2022-05-29T11:37:46.849Z"
   },
   {
    "duration": 42,
    "start_time": "2022-05-29T11:37:46.894Z"
   },
   {
    "duration": 62,
    "start_time": "2022-05-29T11:37:46.938Z"
   },
   {
    "duration": 193,
    "start_time": "2022-05-29T11:37:47.002Z"
   },
   {
    "duration": 344,
    "start_time": "2022-05-29T11:37:47.197Z"
   },
   {
    "duration": 149,
    "start_time": "2022-05-29T11:37:47.552Z"
   },
   {
    "duration": 175,
    "start_time": "2022-05-29T11:37:47.703Z"
   },
   {
    "duration": 194,
    "start_time": "2022-05-29T11:37:47.879Z"
   },
   {
    "duration": 139,
    "start_time": "2022-05-29T11:37:48.078Z"
   },
   {
    "duration": 106,
    "start_time": "2022-05-29T11:37:48.219Z"
   },
   {
    "duration": 26,
    "start_time": "2022-05-29T11:37:48.327Z"
   },
   {
    "duration": 225,
    "start_time": "2022-05-29T11:37:48.355Z"
   },
   {
    "duration": 157,
    "start_time": "2022-05-29T11:37:48.582Z"
   },
   {
    "duration": 147,
    "start_time": "2022-05-29T11:37:48.740Z"
   },
   {
    "duration": 11,
    "start_time": "2022-05-29T11:37:48.889Z"
   },
   {
    "duration": 6,
    "start_time": "2022-05-29T11:37:48.902Z"
   },
   {
    "duration": 165,
    "start_time": "2022-05-29T11:37:48.909Z"
   },
   {
    "duration": 145,
    "start_time": "2022-05-29T11:37:49.076Z"
   },
   {
    "duration": 6,
    "start_time": "2022-05-29T11:37:49.223Z"
   },
   {
    "duration": 170,
    "start_time": "2022-05-29T11:37:49.248Z"
   },
   {
    "duration": 7,
    "start_time": "2022-05-29T11:37:49.420Z"
   },
   {
    "duration": 29,
    "start_time": "2022-05-29T11:37:49.429Z"
   },
   {
    "duration": 13,
    "start_time": "2022-05-29T11:37:49.461Z"
   },
   {
    "duration": 29,
    "start_time": "2022-05-29T11:37:49.476Z"
   },
   {
    "duration": 17,
    "start_time": "2022-05-29T11:37:49.507Z"
   },
   {
    "duration": 302,
    "start_time": "2022-05-29T11:37:49.526Z"
   },
   {
    "duration": 17,
    "start_time": "2022-05-29T11:37:49.830Z"
   },
   {
    "duration": 358,
    "start_time": "2022-05-29T11:37:49.851Z"
   },
   {
    "duration": 7,
    "start_time": "2022-05-29T11:37:50.211Z"
   },
   {
    "duration": 185,
    "start_time": "2022-05-29T11:37:50.220Z"
   },
   {
    "duration": 219,
    "start_time": "2022-05-29T11:37:50.406Z"
   },
   {
    "duration": 5,
    "start_time": "2022-05-29T11:37:50.627Z"
   },
   {
    "duration": 191,
    "start_time": "2022-05-29T11:37:50.634Z"
   },
   {
    "duration": 208,
    "start_time": "2022-05-29T11:37:50.826Z"
   },
   {
    "duration": 157,
    "start_time": "2022-05-29T11:37:51.046Z"
   },
   {
    "duration": 23,
    "start_time": "2022-05-29T11:37:51.204Z"
   },
   {
    "duration": 234,
    "start_time": "2022-05-29T11:37:51.228Z"
   },
   {
    "duration": 33,
    "start_time": "2022-05-29T11:37:51.473Z"
   },
   {
    "duration": 181,
    "start_time": "2022-05-29T11:37:51.507Z"
   },
   {
    "duration": 1057,
    "start_time": "2022-05-29T11:37:51.690Z"
   },
   {
    "duration": 542,
    "start_time": "2022-05-29T11:37:52.750Z"
   },
   {
    "duration": 551,
    "start_time": "2022-05-29T11:37:53.294Z"
   },
   {
    "duration": 14,
    "start_time": "2022-05-29T11:37:53.847Z"
   },
   {
    "duration": 231,
    "start_time": "2022-05-29T11:37:53.862Z"
   },
   {
    "duration": 238,
    "start_time": "2022-05-29T11:37:54.095Z"
   },
   {
    "duration": 184,
    "start_time": "2022-05-29T11:37:54.334Z"
   },
   {
    "duration": 854,
    "start_time": "2022-05-29T11:44:04.736Z"
   },
   {
    "duration": 105,
    "start_time": "2022-05-29T11:44:05.593Z"
   },
   {
    "duration": 47,
    "start_time": "2022-05-29T11:44:05.699Z"
   },
   {
    "duration": 23,
    "start_time": "2022-05-29T11:44:05.749Z"
   },
   {
    "duration": 11,
    "start_time": "2022-05-29T11:44:05.774Z"
   },
   {
    "duration": 5,
    "start_time": "2022-05-29T11:44:05.787Z"
   },
   {
    "duration": 14,
    "start_time": "2022-05-29T11:44:05.794Z"
   },
   {
    "duration": 9,
    "start_time": "2022-05-29T11:44:05.810Z"
   },
   {
    "duration": 10,
    "start_time": "2022-05-29T11:44:05.844Z"
   },
   {
    "duration": 13,
    "start_time": "2022-05-29T11:44:05.858Z"
   },
   {
    "duration": 8,
    "start_time": "2022-05-29T11:44:05.873Z"
   },
   {
    "duration": 10,
    "start_time": "2022-05-29T11:44:05.882Z"
   },
   {
    "duration": 4,
    "start_time": "2022-05-29T11:44:05.894Z"
   },
   {
    "duration": 6,
    "start_time": "2022-05-29T11:44:05.900Z"
   },
   {
    "duration": 10,
    "start_time": "2022-05-29T11:44:05.908Z"
   },
   {
    "duration": 44,
    "start_time": "2022-05-29T11:44:05.919Z"
   },
   {
    "duration": 16,
    "start_time": "2022-05-29T11:44:05.965Z"
   },
   {
    "duration": 5,
    "start_time": "2022-05-29T11:44:05.983Z"
   },
   {
    "duration": 8,
    "start_time": "2022-05-29T11:44:05.990Z"
   },
   {
    "duration": 15,
    "start_time": "2022-05-29T11:44:05.999Z"
   },
   {
    "duration": 20,
    "start_time": "2022-05-29T11:44:06.015Z"
   },
   {
    "duration": 20,
    "start_time": "2022-05-29T11:44:06.036Z"
   },
   {
    "duration": 10,
    "start_time": "2022-05-29T11:44:06.059Z"
   },
   {
    "duration": 13,
    "start_time": "2022-05-29T11:44:06.071Z"
   },
   {
    "duration": 5,
    "start_time": "2022-05-29T11:44:06.086Z"
   },
   {
    "duration": 9,
    "start_time": "2022-05-29T11:44:06.092Z"
   },
   {
    "duration": 8,
    "start_time": "2022-05-29T11:44:06.103Z"
   },
   {
    "duration": 45,
    "start_time": "2022-05-29T11:44:06.116Z"
   },
   {
    "duration": 21,
    "start_time": "2022-05-29T11:44:06.163Z"
   },
   {
    "duration": 6,
    "start_time": "2022-05-29T11:44:06.186Z"
   },
   {
    "duration": 26,
    "start_time": "2022-05-29T11:44:06.193Z"
   },
   {
    "duration": 7,
    "start_time": "2022-05-29T11:44:06.221Z"
   },
   {
    "duration": 18,
    "start_time": "2022-05-29T11:44:06.230Z"
   },
   {
    "duration": 20,
    "start_time": "2022-05-29T11:44:06.255Z"
   },
   {
    "duration": 16,
    "start_time": "2022-05-29T11:44:06.277Z"
   },
   {
    "duration": 7,
    "start_time": "2022-05-29T11:44:06.295Z"
   },
   {
    "duration": 9,
    "start_time": "2022-05-29T11:44:06.304Z"
   },
   {
    "duration": 16,
    "start_time": "2022-05-29T11:44:06.316Z"
   },
   {
    "duration": 3,
    "start_time": "2022-05-29T11:44:06.334Z"
   },
   {
    "duration": 354,
    "start_time": "2022-05-29T11:44:06.339Z"
   },
   {
    "duration": 13,
    "start_time": "2022-05-29T11:44:06.694Z"
   },
   {
    "duration": 6,
    "start_time": "2022-05-29T11:44:06.710Z"
   },
   {
    "duration": 35,
    "start_time": "2022-05-29T11:44:06.718Z"
   },
   {
    "duration": 5,
    "start_time": "2022-05-29T11:44:06.756Z"
   },
   {
    "duration": 20,
    "start_time": "2022-05-29T11:44:06.764Z"
   },
   {
    "duration": 34,
    "start_time": "2022-05-29T11:44:06.786Z"
   },
   {
    "duration": 232,
    "start_time": "2022-05-29T11:44:06.822Z"
   },
   {
    "duration": 383,
    "start_time": "2022-05-29T11:44:07.057Z"
   },
   {
    "duration": 151,
    "start_time": "2022-05-29T11:44:07.442Z"
   },
   {
    "duration": 167,
    "start_time": "2022-05-29T11:44:07.595Z"
   },
   {
    "duration": 168,
    "start_time": "2022-05-29T11:44:07.764Z"
   },
   {
    "duration": 147,
    "start_time": "2022-05-29T11:44:07.934Z"
   },
   {
    "duration": 102,
    "start_time": "2022-05-29T11:44:08.083Z"
   },
   {
    "duration": 15,
    "start_time": "2022-05-29T11:44:08.187Z"
   },
   {
    "duration": 232,
    "start_time": "2022-05-29T11:44:08.204Z"
   },
   {
    "duration": 141,
    "start_time": "2022-05-29T11:44:08.438Z"
   },
   {
    "duration": 158,
    "start_time": "2022-05-29T11:44:08.581Z"
   },
   {
    "duration": 14,
    "start_time": "2022-05-29T11:44:08.743Z"
   },
   {
    "duration": 10,
    "start_time": "2022-05-29T11:44:08.762Z"
   },
   {
    "duration": 131,
    "start_time": "2022-05-29T11:44:08.774Z"
   },
   {
    "duration": 162,
    "start_time": "2022-05-29T11:44:08.907Z"
   },
   {
    "duration": 7,
    "start_time": "2022-05-29T11:44:09.071Z"
   },
   {
    "duration": 179,
    "start_time": "2022-05-29T11:44:09.080Z"
   },
   {
    "duration": 6,
    "start_time": "2022-05-29T11:44:09.260Z"
   },
   {
    "duration": 28,
    "start_time": "2022-05-29T11:44:09.270Z"
   },
   {
    "duration": 11,
    "start_time": "2022-05-29T11:44:09.300Z"
   },
   {
    "duration": 34,
    "start_time": "2022-05-29T11:44:09.313Z"
   },
   {
    "duration": 24,
    "start_time": "2022-05-29T11:44:09.349Z"
   },
   {
    "duration": 294,
    "start_time": "2022-05-29T11:44:09.375Z"
   },
   {
    "duration": 6,
    "start_time": "2022-05-29T11:44:09.671Z"
   },
   {
    "duration": 309,
    "start_time": "2022-05-29T11:44:09.679Z"
   },
   {
    "duration": 11,
    "start_time": "2022-05-29T11:44:09.990Z"
   },
   {
    "duration": 160,
    "start_time": "2022-05-29T11:44:10.004Z"
   },
   {
    "duration": 203,
    "start_time": "2022-05-29T11:44:10.166Z"
   },
   {
    "duration": 8,
    "start_time": "2022-05-29T11:44:10.372Z"
   },
   {
    "duration": 206,
    "start_time": "2022-05-29T11:44:10.382Z"
   },
   {
    "duration": 237,
    "start_time": "2022-05-29T11:44:10.590Z"
   },
   {
    "duration": 226,
    "start_time": "2022-05-29T11:44:10.828Z"
   },
   {
    "duration": 31,
    "start_time": "2022-05-29T11:44:11.060Z"
   },
   {
    "duration": 229,
    "start_time": "2022-05-29T11:44:11.094Z"
   },
   {
    "duration": 40,
    "start_time": "2022-05-29T11:44:11.325Z"
   },
   {
    "duration": 193,
    "start_time": "2022-05-29T11:44:11.370Z"
   },
   {
    "duration": 464,
    "start_time": "2022-05-29T11:44:11.566Z"
   },
   {
    "duration": 269,
    "start_time": "2022-05-29T11:44:12.032Z"
   },
   {
    "duration": 188,
    "start_time": "2022-05-29T11:44:12.303Z"
   },
   {
    "duration": 12,
    "start_time": "2022-05-29T11:44:12.493Z"
   },
   {
    "duration": 185,
    "start_time": "2022-05-29T11:44:12.507Z"
   },
   {
    "duration": 234,
    "start_time": "2022-05-29T11:44:12.694Z"
   },
   {
    "duration": 170,
    "start_time": "2022-05-29T11:44:12.930Z"
   },
   {
    "duration": 704,
    "start_time": "2022-05-29T11:47:22.076Z"
   },
   {
    "duration": 45,
    "start_time": "2022-05-29T11:48:09.212Z"
   },
   {
    "duration": 11,
    "start_time": "2022-05-29T11:48:27.784Z"
   },
   {
    "duration": 780,
    "start_time": "2022-05-29T11:48:37.539Z"
   },
   {
    "duration": 204,
    "start_time": "2022-05-29T11:49:42.560Z"
   },
   {
    "duration": 809,
    "start_time": "2022-05-29T11:49:56.131Z"
   },
   {
    "duration": 1052,
    "start_time": "2022-05-29T11:51:46.634Z"
   },
   {
    "duration": 1020,
    "start_time": "2022-05-29T11:52:06.603Z"
   },
   {
    "duration": 740,
    "start_time": "2022-05-29T11:54:57.486Z"
   },
   {
    "duration": 802,
    "start_time": "2022-05-29T11:55:20.469Z"
   },
   {
    "duration": 953,
    "start_time": "2022-05-29T11:55:32.308Z"
   },
   {
    "duration": 883,
    "start_time": "2022-05-29T12:05:06.268Z"
   },
   {
    "duration": 177,
    "start_time": "2022-05-29T12:05:07.161Z"
   },
   {
    "duration": 43,
    "start_time": "2022-05-29T12:05:07.340Z"
   },
   {
    "duration": 31,
    "start_time": "2022-05-29T12:05:07.387Z"
   },
   {
    "duration": 14,
    "start_time": "2022-05-29T12:05:07.421Z"
   },
   {
    "duration": 38,
    "start_time": "2022-05-29T12:05:07.438Z"
   },
   {
    "duration": 25,
    "start_time": "2022-05-29T12:05:07.479Z"
   },
   {
    "duration": 9,
    "start_time": "2022-05-29T12:05:07.506Z"
   },
   {
    "duration": 17,
    "start_time": "2022-05-29T12:05:07.517Z"
   },
   {
    "duration": 34,
    "start_time": "2022-05-29T12:05:07.537Z"
   },
   {
    "duration": 11,
    "start_time": "2022-05-29T12:05:07.573Z"
   },
   {
    "duration": 20,
    "start_time": "2022-05-29T12:05:07.587Z"
   },
   {
    "duration": 5,
    "start_time": "2022-05-29T12:05:07.609Z"
   },
   {
    "duration": 8,
    "start_time": "2022-05-29T12:05:07.618Z"
   },
   {
    "duration": 18,
    "start_time": "2022-05-29T12:05:07.628Z"
   },
   {
    "duration": 25,
    "start_time": "2022-05-29T12:05:07.650Z"
   },
   {
    "duration": 19,
    "start_time": "2022-05-29T12:05:07.678Z"
   },
   {
    "duration": 9,
    "start_time": "2022-05-29T12:05:07.699Z"
   },
   {
    "duration": 19,
    "start_time": "2022-05-29T12:05:07.710Z"
   },
   {
    "duration": 15,
    "start_time": "2022-05-29T12:05:07.732Z"
   },
   {
    "duration": 35,
    "start_time": "2022-05-29T12:05:07.749Z"
   },
   {
    "duration": 10,
    "start_time": "2022-05-29T12:05:07.786Z"
   },
   {
    "duration": 8,
    "start_time": "2022-05-29T12:05:07.799Z"
   },
   {
    "duration": 10,
    "start_time": "2022-05-29T12:05:07.809Z"
   },
   {
    "duration": 21,
    "start_time": "2022-05-29T12:05:07.821Z"
   },
   {
    "duration": 27,
    "start_time": "2022-05-29T12:05:07.844Z"
   },
   {
    "duration": 11,
    "start_time": "2022-05-29T12:05:07.873Z"
   },
   {
    "duration": 12,
    "start_time": "2022-05-29T12:05:07.887Z"
   },
   {
    "duration": 42,
    "start_time": "2022-05-29T12:05:07.902Z"
   },
   {
    "duration": 7,
    "start_time": "2022-05-29T12:05:07.946Z"
   },
   {
    "duration": 36,
    "start_time": "2022-05-29T12:05:07.955Z"
   },
   {
    "duration": 7,
    "start_time": "2022-05-29T12:05:07.993Z"
   },
   {
    "duration": 7,
    "start_time": "2022-05-29T12:05:08.002Z"
   },
   {
    "duration": 6,
    "start_time": "2022-05-29T12:05:08.011Z"
   },
   {
    "duration": 32,
    "start_time": "2022-05-29T12:05:08.018Z"
   },
   {
    "duration": 22,
    "start_time": "2022-05-29T12:05:08.052Z"
   },
   {
    "duration": 10,
    "start_time": "2022-05-29T12:05:08.077Z"
   },
   {
    "duration": 15,
    "start_time": "2022-05-29T12:05:08.089Z"
   },
   {
    "duration": 5,
    "start_time": "2022-05-29T12:05:08.106Z"
   },
   {
    "duration": 455,
    "start_time": "2022-05-29T12:05:08.114Z"
   },
   {
    "duration": 14,
    "start_time": "2022-05-29T12:05:08.575Z"
   },
   {
    "duration": 6,
    "start_time": "2022-05-29T12:05:08.592Z"
   },
   {
    "duration": 17,
    "start_time": "2022-05-29T12:05:08.601Z"
   },
   {
    "duration": 8,
    "start_time": "2022-05-29T12:05:08.643Z"
   },
   {
    "duration": 29,
    "start_time": "2022-05-29T12:05:08.652Z"
   },
   {
    "duration": 31,
    "start_time": "2022-05-29T12:05:08.682Z"
   },
   {
    "duration": 254,
    "start_time": "2022-05-29T12:05:08.716Z"
   },
   {
    "duration": 305,
    "start_time": "2022-05-29T12:05:08.972Z"
   },
   {
    "duration": 294,
    "start_time": "2022-05-29T12:05:09.280Z"
   },
   {
    "duration": 186,
    "start_time": "2022-05-29T12:05:09.577Z"
   },
   {
    "duration": 213,
    "start_time": "2022-05-29T12:05:09.768Z"
   },
   {
    "duration": 164,
    "start_time": "2022-05-29T12:05:09.983Z"
   },
   {
    "duration": 114,
    "start_time": "2022-05-29T12:05:10.156Z"
   },
   {
    "duration": 21,
    "start_time": "2022-05-29T12:05:10.273Z"
   },
   {
    "duration": 281,
    "start_time": "2022-05-29T12:05:10.297Z"
   },
   {
    "duration": 145,
    "start_time": "2022-05-29T12:05:10.580Z"
   },
   {
    "duration": 150,
    "start_time": "2022-05-29T12:05:10.727Z"
   },
   {
    "duration": 14,
    "start_time": "2022-05-29T12:05:10.880Z"
   },
   {
    "duration": 13,
    "start_time": "2022-05-29T12:05:10.898Z"
   },
   {
    "duration": 158,
    "start_time": "2022-05-29T12:05:10.913Z"
   },
   {
    "duration": 205,
    "start_time": "2022-05-29T12:05:11.074Z"
   },
   {
    "duration": 8,
    "start_time": "2022-05-29T12:05:11.281Z"
   },
   {
    "duration": 218,
    "start_time": "2022-05-29T12:05:11.291Z"
   },
   {
    "duration": 7,
    "start_time": "2022-05-29T12:05:11.512Z"
   },
   {
    "duration": 35,
    "start_time": "2022-05-29T12:05:11.521Z"
   },
   {
    "duration": 18,
    "start_time": "2022-05-29T12:05:11.563Z"
   },
   {
    "duration": 16,
    "start_time": "2022-05-29T12:05:11.584Z"
   },
   {
    "duration": 40,
    "start_time": "2022-05-29T12:05:11.603Z"
   },
   {
    "duration": 352,
    "start_time": "2022-05-29T12:05:11.644Z"
   },
   {
    "duration": 7,
    "start_time": "2022-05-29T12:05:11.999Z"
   },
   {
    "duration": 310,
    "start_time": "2022-05-29T12:05:12.008Z"
   },
   {
    "duration": 5,
    "start_time": "2022-05-29T12:05:12.320Z"
   },
   {
    "duration": 171,
    "start_time": "2022-05-29T12:05:12.327Z"
   },
   {
    "duration": 269,
    "start_time": "2022-05-29T12:05:12.500Z"
   },
   {
    "duration": 7,
    "start_time": "2022-05-29T12:05:12.770Z"
   },
   {
    "duration": 206,
    "start_time": "2022-05-29T12:05:12.779Z"
   },
   {
    "duration": 238,
    "start_time": "2022-05-29T12:05:12.986Z"
   },
   {
    "duration": 172,
    "start_time": "2022-05-29T12:05:13.226Z"
   },
   {
    "duration": 62,
    "start_time": "2022-05-29T12:05:13.401Z"
   },
   {
    "duration": 1401,
    "start_time": "2022-05-29T12:05:13.466Z"
   },
   {
    "duration": 204,
    "start_time": "2022-05-29T12:05:14.869Z"
   },
   {
    "duration": 31,
    "start_time": "2022-05-29T12:05:15.076Z"
   },
   {
    "duration": 178,
    "start_time": "2022-05-29T12:05:15.110Z"
   },
   {
    "duration": 408,
    "start_time": "2022-05-29T12:05:15.290Z"
   },
   {
    "duration": 173,
    "start_time": "2022-05-29T12:05:15.700Z"
   },
   {
    "duration": 300,
    "start_time": "2022-05-29T12:05:15.875Z"
   },
   {
    "duration": 11,
    "start_time": "2022-05-29T12:05:16.177Z"
   },
   {
    "duration": 187,
    "start_time": "2022-05-29T12:05:16.190Z"
   },
   {
    "duration": 223,
    "start_time": "2022-05-29T12:05:16.379Z"
   },
   {
    "duration": 183,
    "start_time": "2022-05-29T12:05:16.604Z"
   },
   {
    "duration": 60,
    "start_time": "2022-05-29T12:08:21.900Z"
   },
   {
    "duration": 105,
    "start_time": "2022-05-29T12:10:22.522Z"
   },
   {
    "duration": 102,
    "start_time": "2022-05-29T12:10:31.530Z"
   },
   {
    "duration": 382,
    "start_time": "2022-05-29T12:12:19.235Z"
   },
   {
    "duration": 330,
    "start_time": "2022-05-29T12:13:12.288Z"
   },
   {
    "duration": 306,
    "start_time": "2022-05-29T12:14:01.958Z"
   },
   {
    "duration": 254,
    "start_time": "2022-05-29T12:25:17.623Z"
   },
   {
    "duration": 149,
    "start_time": "2022-05-29T12:25:36.209Z"
   },
   {
    "duration": 223,
    "start_time": "2022-05-29T12:27:46.929Z"
   },
   {
    "duration": 149,
    "start_time": "2022-05-29T12:28:50.080Z"
   },
   {
    "duration": 192,
    "start_time": "2022-05-29T12:28:56.995Z"
   },
   {
    "duration": 174,
    "start_time": "2022-05-29T12:29:49.707Z"
   },
   {
    "duration": 147,
    "start_time": "2022-05-29T12:30:01.641Z"
   },
   {
    "duration": 16,
    "start_time": "2022-05-29T12:31:14.600Z"
   },
   {
    "duration": 13,
    "start_time": "2022-05-29T12:31:36.475Z"
   },
   {
    "duration": 110,
    "start_time": "2022-05-29T12:38:16.000Z"
   },
   {
    "duration": 112,
    "start_time": "2022-05-29T12:38:38.014Z"
   },
   {
    "duration": 178,
    "start_time": "2022-05-29T12:39:18.401Z"
   },
   {
    "duration": 161,
    "start_time": "2022-05-29T12:39:54.294Z"
   },
   {
    "duration": 4,
    "start_time": "2022-05-29T12:53:50.375Z"
   },
   {
    "duration": 11,
    "start_time": "2022-05-29T12:55:32.989Z"
   },
   {
    "duration": 4,
    "start_time": "2022-05-29T12:56:29.075Z"
   },
   {
    "duration": 1642,
    "start_time": "2022-05-29T13:10:53.756Z"
   },
   {
    "duration": 166,
    "start_time": "2022-05-29T13:10:55.402Z"
   },
   {
    "duration": 41,
    "start_time": "2022-05-29T13:10:55.571Z"
   },
   {
    "duration": 40,
    "start_time": "2022-05-29T13:10:55.614Z"
   },
   {
    "duration": 10,
    "start_time": "2022-05-29T13:10:55.658Z"
   },
   {
    "duration": 37,
    "start_time": "2022-05-29T13:10:55.670Z"
   },
   {
    "duration": 13,
    "start_time": "2022-05-29T13:10:55.710Z"
   },
   {
    "duration": 9,
    "start_time": "2022-05-29T13:10:55.725Z"
   },
   {
    "duration": 56,
    "start_time": "2022-05-29T13:10:55.736Z"
   },
   {
    "duration": 12,
    "start_time": "2022-05-29T13:10:55.794Z"
   },
   {
    "duration": 5,
    "start_time": "2022-05-29T13:10:55.809Z"
   },
   {
    "duration": 8,
    "start_time": "2022-05-29T13:10:55.816Z"
   },
   {
    "duration": 4,
    "start_time": "2022-05-29T13:10:55.826Z"
   },
   {
    "duration": 5,
    "start_time": "2022-05-29T13:10:55.834Z"
   },
   {
    "duration": 63,
    "start_time": "2022-05-29T13:10:55.840Z"
   },
   {
    "duration": 13,
    "start_time": "2022-05-29T13:10:55.905Z"
   },
   {
    "duration": 13,
    "start_time": "2022-05-29T13:10:55.920Z"
   },
   {
    "duration": 5,
    "start_time": "2022-05-29T13:10:55.935Z"
   },
   {
    "duration": 70,
    "start_time": "2022-05-29T13:10:55.943Z"
   },
   {
    "duration": 11,
    "start_time": "2022-05-29T13:10:56.016Z"
   },
   {
    "duration": 22,
    "start_time": "2022-05-29T13:10:56.029Z"
   },
   {
    "duration": 62,
    "start_time": "2022-05-29T13:10:56.053Z"
   },
   {
    "duration": 21,
    "start_time": "2022-05-29T13:10:56.117Z"
   },
   {
    "duration": 61,
    "start_time": "2022-05-29T13:10:56.143Z"
   },
   {
    "duration": 6,
    "start_time": "2022-05-29T13:10:56.210Z"
   },
   {
    "duration": 13,
    "start_time": "2022-05-29T13:10:56.217Z"
   },
   {
    "duration": 21,
    "start_time": "2022-05-29T13:10:56.233Z"
   },
   {
    "duration": 64,
    "start_time": "2022-05-29T13:10:56.257Z"
   },
   {
    "duration": 32,
    "start_time": "2022-05-29T13:10:56.323Z"
   },
   {
    "duration": 45,
    "start_time": "2022-05-29T13:10:56.358Z"
   },
   {
    "duration": 21,
    "start_time": "2022-05-29T13:10:56.405Z"
   },
   {
    "duration": 7,
    "start_time": "2022-05-29T13:10:56.427Z"
   },
   {
    "duration": 6,
    "start_time": "2022-05-29T13:10:56.435Z"
   },
   {
    "duration": 68,
    "start_time": "2022-05-29T13:10:56.444Z"
   },
   {
    "duration": 10,
    "start_time": "2022-05-29T13:10:56.514Z"
   },
   {
    "duration": 6,
    "start_time": "2022-05-29T13:10:56.526Z"
   },
   {
    "duration": 45,
    "start_time": "2022-05-29T13:10:56.534Z"
   },
   {
    "duration": 27,
    "start_time": "2022-05-29T13:10:56.586Z"
   },
   {
    "duration": 3,
    "start_time": "2022-05-29T13:10:56.615Z"
   },
   {
    "duration": 562,
    "start_time": "2022-05-29T13:10:56.620Z"
   },
   {
    "duration": 29,
    "start_time": "2022-05-29T13:10:57.187Z"
   },
   {
    "duration": 21,
    "start_time": "2022-05-29T13:10:57.218Z"
   },
   {
    "duration": 66,
    "start_time": "2022-05-29T13:10:57.242Z"
   },
   {
    "duration": 12,
    "start_time": "2022-05-29T13:10:57.313Z"
   },
   {
    "duration": 41,
    "start_time": "2022-05-29T13:10:57.328Z"
   },
   {
    "duration": 82,
    "start_time": "2022-05-29T13:10:57.376Z"
   },
   {
    "duration": 355,
    "start_time": "2022-05-29T13:10:57.463Z"
   },
   {
    "duration": 361,
    "start_time": "2022-05-29T13:10:57.820Z"
   },
   {
    "duration": 162,
    "start_time": "2022-05-29T13:10:58.183Z"
   },
   {
    "duration": 182,
    "start_time": "2022-05-29T13:10:58.347Z"
   },
   {
    "duration": 223,
    "start_time": "2022-05-29T13:10:58.531Z"
   },
   {
    "duration": 179,
    "start_time": "2022-05-29T13:10:58.760Z"
   },
   {
    "duration": 140,
    "start_time": "2022-05-29T13:10:58.940Z"
   },
   {
    "duration": 20,
    "start_time": "2022-05-29T13:10:59.083Z"
   },
   {
    "duration": 299,
    "start_time": "2022-05-29T13:10:59.106Z"
   },
   {
    "duration": 151,
    "start_time": "2022-05-29T13:10:59.406Z"
   },
   {
    "duration": 148,
    "start_time": "2022-05-29T13:10:59.559Z"
   },
   {
    "duration": 16,
    "start_time": "2022-05-29T13:10:59.709Z"
   },
   {
    "duration": 35,
    "start_time": "2022-05-29T13:10:59.727Z"
   },
   {
    "duration": 215,
    "start_time": "2022-05-29T13:10:59.776Z"
   },
   {
    "duration": 184,
    "start_time": "2022-05-29T13:10:59.997Z"
   },
   {
    "duration": 15,
    "start_time": "2022-05-29T13:11:00.186Z"
   },
   {
    "duration": 191,
    "start_time": "2022-05-29T13:11:00.208Z"
   },
   {
    "duration": 14,
    "start_time": "2022-05-29T13:11:00.407Z"
   },
   {
    "duration": 41,
    "start_time": "2022-05-29T13:11:00.423Z"
   },
   {
    "duration": 59,
    "start_time": "2022-05-29T13:11:00.465Z"
   },
   {
    "duration": 14,
    "start_time": "2022-05-29T13:11:00.526Z"
   },
   {
    "duration": 39,
    "start_time": "2022-05-29T13:11:00.556Z"
   },
   {
    "duration": 455,
    "start_time": "2022-05-29T13:11:00.598Z"
   },
   {
    "duration": 11,
    "start_time": "2022-05-29T13:11:01.055Z"
   },
   {
    "duration": 316,
    "start_time": "2022-05-29T13:11:01.068Z"
   },
   {
    "duration": 6,
    "start_time": "2022-05-29T13:11:01.389Z"
   },
   {
    "duration": 186,
    "start_time": "2022-05-29T13:11:01.397Z"
   },
   {
    "duration": 268,
    "start_time": "2022-05-29T13:11:01.584Z"
   },
   {
    "duration": 7,
    "start_time": "2022-05-29T13:11:01.855Z"
   },
   {
    "duration": 227,
    "start_time": "2022-05-29T13:11:01.865Z"
   },
   {
    "duration": 232,
    "start_time": "2022-05-29T13:11:02.100Z"
   },
   {
    "duration": 246,
    "start_time": "2022-05-29T13:11:02.335Z"
   },
   {
    "duration": 34,
    "start_time": "2022-05-29T13:11:02.583Z"
   },
   {
    "duration": 145,
    "start_time": "2022-05-29T13:11:02.619Z"
   },
   {
    "duration": 286,
    "start_time": "2022-05-29T13:11:02.767Z"
   },
   {
    "duration": 47,
    "start_time": "2022-05-29T13:11:03.055Z"
   },
   {
    "duration": 202,
    "start_time": "2022-05-29T13:11:03.104Z"
   },
   {
    "duration": 629,
    "start_time": "2022-05-29T13:11:03.308Z"
   },
   {
    "duration": 186,
    "start_time": "2022-05-29T13:11:03.941Z"
   },
   {
    "duration": 279,
    "start_time": "2022-05-29T13:11:04.129Z"
   },
   {
    "duration": 13,
    "start_time": "2022-05-29T13:11:04.415Z"
   },
   {
    "duration": 178,
    "start_time": "2022-05-29T13:11:04.430Z"
   },
   {
    "duration": 274,
    "start_time": "2022-05-29T13:11:04.610Z"
   },
   {
    "duration": 208,
    "start_time": "2022-05-29T13:11:04.886Z"
   },
   {
    "duration": 1084,
    "start_time": "2022-05-29T15:09:04.056Z"
   },
   {
    "duration": 221,
    "start_time": "2022-05-29T15:09:05.143Z"
   },
   {
    "duration": 31,
    "start_time": "2022-05-29T15:09:05.366Z"
   },
   {
    "duration": 19,
    "start_time": "2022-05-29T15:09:05.398Z"
   },
   {
    "duration": 6,
    "start_time": "2022-05-29T15:09:05.419Z"
   },
   {
    "duration": 7,
    "start_time": "2022-05-29T15:09:05.427Z"
   },
   {
    "duration": 26,
    "start_time": "2022-05-29T15:09:05.435Z"
   },
   {
    "duration": 20,
    "start_time": "2022-05-29T15:09:05.468Z"
   },
   {
    "duration": 22,
    "start_time": "2022-05-29T15:09:05.491Z"
   },
   {
    "duration": 15,
    "start_time": "2022-05-29T15:09:05.515Z"
   },
   {
    "duration": 12,
    "start_time": "2022-05-29T15:09:05.532Z"
   },
   {
    "duration": 43,
    "start_time": "2022-05-29T15:09:05.546Z"
   },
   {
    "duration": 7,
    "start_time": "2022-05-29T15:09:05.591Z"
   },
   {
    "duration": 12,
    "start_time": "2022-05-29T15:09:05.602Z"
   },
   {
    "duration": 12,
    "start_time": "2022-05-29T15:09:05.616Z"
   },
   {
    "duration": 5,
    "start_time": "2022-05-29T15:09:05.630Z"
   },
   {
    "duration": 16,
    "start_time": "2022-05-29T15:09:05.637Z"
   },
   {
    "duration": 23,
    "start_time": "2022-05-29T15:09:05.655Z"
   },
   {
    "duration": 9,
    "start_time": "2022-05-29T15:09:05.680Z"
   },
   {
    "duration": 14,
    "start_time": "2022-05-29T15:09:05.690Z"
   },
   {
    "duration": 7,
    "start_time": "2022-05-29T15:09:05.706Z"
   },
   {
    "duration": 9,
    "start_time": "2022-05-29T15:09:05.715Z"
   },
   {
    "duration": 10,
    "start_time": "2022-05-29T15:09:05.725Z"
   },
   {
    "duration": 24,
    "start_time": "2022-05-29T15:09:05.741Z"
   },
   {
    "duration": 8,
    "start_time": "2022-05-29T15:09:05.767Z"
   },
   {
    "duration": 12,
    "start_time": "2022-05-29T15:09:05.777Z"
   },
   {
    "duration": 11,
    "start_time": "2022-05-29T15:09:05.791Z"
   },
   {
    "duration": 16,
    "start_time": "2022-05-29T15:09:05.804Z"
   },
   {
    "duration": 37,
    "start_time": "2022-05-29T15:09:05.823Z"
   },
   {
    "duration": 6,
    "start_time": "2022-05-29T15:09:05.863Z"
   },
   {
    "duration": 18,
    "start_time": "2022-05-29T15:09:05.872Z"
   },
   {
    "duration": 9,
    "start_time": "2022-05-29T15:09:05.896Z"
   },
   {
    "duration": 13,
    "start_time": "2022-05-29T15:09:05.907Z"
   },
   {
    "duration": 25,
    "start_time": "2022-05-29T15:09:05.922Z"
   },
   {
    "duration": 28,
    "start_time": "2022-05-29T15:09:05.949Z"
   },
   {
    "duration": 6,
    "start_time": "2022-05-29T15:09:05.980Z"
   },
   {
    "duration": 17,
    "start_time": "2022-05-29T15:09:05.989Z"
   },
   {
    "duration": 22,
    "start_time": "2022-05-29T15:09:06.008Z"
   },
   {
    "duration": 4,
    "start_time": "2022-05-29T15:09:06.032Z"
   },
   {
    "duration": 375,
    "start_time": "2022-05-29T15:09:06.038Z"
   },
   {
    "duration": 13,
    "start_time": "2022-05-29T15:09:06.417Z"
   },
   {
    "duration": 8,
    "start_time": "2022-05-29T15:09:06.441Z"
   },
   {
    "duration": 27,
    "start_time": "2022-05-29T15:09:06.451Z"
   },
   {
    "duration": 4,
    "start_time": "2022-05-29T15:09:06.479Z"
   },
   {
    "duration": 14,
    "start_time": "2022-05-29T15:09:06.485Z"
   },
   {
    "duration": 51,
    "start_time": "2022-05-29T15:09:06.501Z"
   },
   {
    "duration": 179,
    "start_time": "2022-05-29T15:09:06.553Z"
   },
   {
    "duration": 347,
    "start_time": "2022-05-29T15:09:06.734Z"
   },
   {
    "duration": 192,
    "start_time": "2022-05-29T15:09:07.083Z"
   },
   {
    "duration": 199,
    "start_time": "2022-05-29T15:09:07.277Z"
   },
   {
    "duration": 206,
    "start_time": "2022-05-29T15:09:07.478Z"
   },
   {
    "duration": 148,
    "start_time": "2022-05-29T15:09:07.686Z"
   },
   {
    "duration": 115,
    "start_time": "2022-05-29T15:09:07.836Z"
   },
   {
    "duration": 17,
    "start_time": "2022-05-29T15:09:07.953Z"
   },
   {
    "duration": 254,
    "start_time": "2022-05-29T15:09:07.972Z"
   },
   {
    "duration": 168,
    "start_time": "2022-05-29T15:09:08.229Z"
   },
   {
    "duration": 180,
    "start_time": "2022-05-29T15:09:08.400Z"
   },
   {
    "duration": 15,
    "start_time": "2022-05-29T15:09:08.582Z"
   },
   {
    "duration": 5,
    "start_time": "2022-05-29T15:09:08.599Z"
   },
   {
    "duration": 176,
    "start_time": "2022-05-29T15:09:08.606Z"
   },
   {
    "duration": 275,
    "start_time": "2022-05-29T15:09:08.785Z"
   },
   {
    "duration": 8,
    "start_time": "2022-05-29T15:09:09.063Z"
   },
   {
    "duration": 395,
    "start_time": "2022-05-29T15:09:09.075Z"
   },
   {
    "duration": 13,
    "start_time": "2022-05-29T15:09:09.472Z"
   },
   {
    "duration": 59,
    "start_time": "2022-05-29T15:09:09.487Z"
   },
   {
    "duration": 21,
    "start_time": "2022-05-29T15:09:09.550Z"
   },
   {
    "duration": 69,
    "start_time": "2022-05-29T15:09:09.573Z"
   },
   {
    "duration": 25,
    "start_time": "2022-05-29T15:09:09.644Z"
   },
   {
    "duration": 774,
    "start_time": "2022-05-29T15:09:09.671Z"
   },
   {
    "duration": 6,
    "start_time": "2022-05-29T15:09:10.448Z"
   },
   {
    "duration": 619,
    "start_time": "2022-05-29T15:09:10.457Z"
   },
   {
    "duration": 8,
    "start_time": "2022-05-29T15:09:11.077Z"
   },
   {
    "duration": 224,
    "start_time": "2022-05-29T15:09:11.087Z"
   },
   {
    "duration": 241,
    "start_time": "2022-05-29T15:09:11.313Z"
   },
   {
    "duration": 9,
    "start_time": "2022-05-29T15:09:11.556Z"
   },
   {
    "duration": 193,
    "start_time": "2022-05-29T15:09:11.572Z"
   },
   {
    "duration": 242,
    "start_time": "2022-05-29T15:09:11.767Z"
   },
   {
    "duration": 185,
    "start_time": "2022-05-29T15:09:12.011Z"
   },
   {
    "duration": 29,
    "start_time": "2022-05-29T15:09:12.197Z"
   },
   {
    "duration": 161,
    "start_time": "2022-05-29T15:09:12.242Z"
   },
   {
    "duration": 216,
    "start_time": "2022-05-29T15:09:12.405Z"
   },
   {
    "duration": 42,
    "start_time": "2022-05-29T15:09:12.623Z"
   },
   {
    "duration": 228,
    "start_time": "2022-05-29T15:09:12.667Z"
   },
   {
    "duration": 621,
    "start_time": "2022-05-29T15:09:12.898Z"
   },
   {
    "duration": 156,
    "start_time": "2022-05-29T15:09:13.521Z"
   },
   {
    "duration": 224,
    "start_time": "2022-05-29T15:09:13.678Z"
   },
   {
    "duration": 10,
    "start_time": "2022-05-29T15:09:13.904Z"
   },
   {
    "duration": 195,
    "start_time": "2022-05-29T15:09:13.915Z"
   },
   {
    "duration": 234,
    "start_time": "2022-05-29T15:09:14.111Z"
   },
   {
    "duration": 188,
    "start_time": "2022-05-29T15:09:14.351Z"
   },
   {
    "duration": 701,
    "start_time": "2022-05-29T17:10:13.664Z"
   },
   {
    "duration": 90,
    "start_time": "2022-05-29T17:10:14.367Z"
   },
   {
    "duration": 25,
    "start_time": "2022-05-29T17:10:14.459Z"
   },
   {
    "duration": 14,
    "start_time": "2022-05-29T17:10:14.485Z"
   },
   {
    "duration": 4,
    "start_time": "2022-05-29T17:10:14.502Z"
   },
   {
    "duration": 8,
    "start_time": "2022-05-29T17:10:14.508Z"
   },
   {
    "duration": 34,
    "start_time": "2022-05-29T17:10:14.517Z"
   },
   {
    "duration": 6,
    "start_time": "2022-05-29T17:10:14.553Z"
   },
   {
    "duration": 12,
    "start_time": "2022-05-29T17:10:14.561Z"
   },
   {
    "duration": 6,
    "start_time": "2022-05-29T17:10:14.575Z"
   },
   {
    "duration": 7,
    "start_time": "2022-05-29T17:10:14.583Z"
   },
   {
    "duration": 17,
    "start_time": "2022-05-29T17:10:14.591Z"
   },
   {
    "duration": 4,
    "start_time": "2022-05-29T17:10:14.609Z"
   },
   {
    "duration": 5,
    "start_time": "2022-05-29T17:10:14.616Z"
   },
   {
    "duration": 22,
    "start_time": "2022-05-29T17:10:14.622Z"
   },
   {
    "duration": 8,
    "start_time": "2022-05-29T17:10:14.646Z"
   },
   {
    "duration": 12,
    "start_time": "2022-05-29T17:10:14.655Z"
   },
   {
    "duration": 4,
    "start_time": "2022-05-29T17:10:14.669Z"
   },
   {
    "duration": 7,
    "start_time": "2022-05-29T17:10:14.674Z"
   },
   {
    "duration": 7,
    "start_time": "2022-05-29T17:10:14.682Z"
   },
   {
    "duration": 7,
    "start_time": "2022-05-29T17:10:14.690Z"
   },
   {
    "duration": 6,
    "start_time": "2022-05-29T17:10:14.698Z"
   },
   {
    "duration": 37,
    "start_time": "2022-05-29T17:10:14.705Z"
   },
   {
    "duration": 9,
    "start_time": "2022-05-29T17:10:14.744Z"
   },
   {
    "duration": 5,
    "start_time": "2022-05-29T17:10:14.754Z"
   },
   {
    "duration": 6,
    "start_time": "2022-05-29T17:10:14.761Z"
   },
   {
    "duration": 8,
    "start_time": "2022-05-29T17:10:14.768Z"
   },
   {
    "duration": 13,
    "start_time": "2022-05-29T17:10:14.778Z"
   },
   {
    "duration": 18,
    "start_time": "2022-05-29T17:10:14.793Z"
   },
   {
    "duration": 31,
    "start_time": "2022-05-29T17:10:14.813Z"
   },
   {
    "duration": 16,
    "start_time": "2022-05-29T17:10:14.846Z"
   },
   {
    "duration": 5,
    "start_time": "2022-05-29T17:10:14.864Z"
   },
   {
    "duration": 5,
    "start_time": "2022-05-29T17:10:14.871Z"
   },
   {
    "duration": 12,
    "start_time": "2022-05-29T17:10:14.877Z"
   },
   {
    "duration": 15,
    "start_time": "2022-05-29T17:10:14.891Z"
   },
   {
    "duration": 6,
    "start_time": "2022-05-29T17:10:14.907Z"
   },
   {
    "duration": 28,
    "start_time": "2022-05-29T17:10:14.914Z"
   },
   {
    "duration": 10,
    "start_time": "2022-05-29T17:10:14.944Z"
   },
   {
    "duration": 3,
    "start_time": "2022-05-29T17:10:14.956Z"
   },
   {
    "duration": 348,
    "start_time": "2022-05-29T17:10:14.960Z"
   },
   {
    "duration": 11,
    "start_time": "2022-05-29T17:10:15.312Z"
   },
   {
    "duration": 4,
    "start_time": "2022-05-29T17:10:15.325Z"
   },
   {
    "duration": 21,
    "start_time": "2022-05-29T17:10:15.330Z"
   },
   {
    "duration": 3,
    "start_time": "2022-05-29T17:10:15.352Z"
   },
   {
    "duration": 13,
    "start_time": "2022-05-29T17:10:15.357Z"
   },
   {
    "duration": 23,
    "start_time": "2022-05-29T17:10:15.372Z"
   },
   {
    "duration": 171,
    "start_time": "2022-05-29T17:10:15.397Z"
   },
   {
    "duration": 258,
    "start_time": "2022-05-29T17:10:15.570Z"
   },
   {
    "duration": 130,
    "start_time": "2022-05-29T17:10:15.829Z"
   },
   {
    "duration": 143,
    "start_time": "2022-05-29T17:10:15.960Z"
   },
   {
    "duration": 159,
    "start_time": "2022-05-29T17:10:16.104Z"
   },
   {
    "duration": 136,
    "start_time": "2022-05-29T17:10:16.264Z"
   },
   {
    "duration": 96,
    "start_time": "2022-05-29T17:10:16.402Z"
   },
   {
    "duration": 12,
    "start_time": "2022-05-29T17:10:16.500Z"
   },
   {
    "duration": 214,
    "start_time": "2022-05-29T17:10:16.513Z"
   },
   {
    "duration": 138,
    "start_time": "2022-05-29T17:10:16.729Z"
   },
   {
    "duration": 155,
    "start_time": "2022-05-29T17:10:16.869Z"
   },
   {
    "duration": 20,
    "start_time": "2022-05-29T17:10:17.026Z"
   },
   {
    "duration": 19,
    "start_time": "2022-05-29T17:10:17.048Z"
   },
   {
    "duration": 140,
    "start_time": "2022-05-29T17:10:17.069Z"
   },
   {
    "duration": 132,
    "start_time": "2022-05-29T17:10:17.211Z"
   },
   {
    "duration": 6,
    "start_time": "2022-05-29T17:10:17.345Z"
   },
   {
    "duration": 144,
    "start_time": "2022-05-29T17:10:17.353Z"
   },
   {
    "duration": 6,
    "start_time": "2022-05-29T17:10:17.499Z"
   },
   {
    "duration": 16,
    "start_time": "2022-05-29T17:10:17.506Z"
   },
   {
    "duration": 27,
    "start_time": "2022-05-29T17:10:17.523Z"
   },
   {
    "duration": 12,
    "start_time": "2022-05-29T17:10:17.552Z"
   },
   {
    "duration": 17,
    "start_time": "2022-05-29T17:10:17.565Z"
   },
   {
    "duration": 287,
    "start_time": "2022-05-29T17:10:17.584Z"
   },
   {
    "duration": 5,
    "start_time": "2022-05-29T17:10:17.872Z"
   },
   {
    "duration": 240,
    "start_time": "2022-05-29T17:10:17.878Z"
   },
   {
    "duration": 6,
    "start_time": "2022-05-29T17:10:18.119Z"
   },
   {
    "duration": 149,
    "start_time": "2022-05-29T17:10:18.127Z"
   },
   {
    "duration": 191,
    "start_time": "2022-05-29T17:10:18.277Z"
   },
   {
    "duration": 6,
    "start_time": "2022-05-29T17:10:18.470Z"
   },
   {
    "duration": 137,
    "start_time": "2022-05-29T17:10:18.477Z"
   },
   {
    "duration": 200,
    "start_time": "2022-05-29T17:10:18.616Z"
   },
   {
    "duration": 153,
    "start_time": "2022-05-29T17:10:18.818Z"
   },
   {
    "duration": 27,
    "start_time": "2022-05-29T17:10:18.972Z"
   },
   {
    "duration": 120,
    "start_time": "2022-05-29T17:10:19.000Z"
   },
   {
    "duration": 191,
    "start_time": "2022-05-29T17:10:19.123Z"
   },
   {
    "duration": 38,
    "start_time": "2022-05-29T17:10:19.316Z"
   },
   {
    "duration": 153,
    "start_time": "2022-05-29T17:10:19.356Z"
   },
   {
    "duration": 508,
    "start_time": "2022-05-29T17:10:19.511Z"
   },
   {
    "duration": 143,
    "start_time": "2022-05-29T17:10:20.021Z"
   },
   {
    "duration": 154,
    "start_time": "2022-05-29T17:10:20.166Z"
   },
   {
    "duration": 19,
    "start_time": "2022-05-29T17:10:20.322Z"
   },
   {
    "duration": 140,
    "start_time": "2022-05-29T17:10:20.343Z"
   },
   {
    "duration": 191,
    "start_time": "2022-05-29T17:10:20.485Z"
   },
   {
    "duration": 156,
    "start_time": "2022-05-29T17:10:20.678Z"
   },
   {
    "duration": 179,
    "start_time": "2022-05-29T17:10:52.638Z"
   },
   {
    "duration": 188,
    "start_time": "2022-05-29T17:10:58.496Z"
   },
   {
    "duration": 176,
    "start_time": "2022-05-29T17:31:32.672Z"
   },
   {
    "duration": 201,
    "start_time": "2022-05-29T17:31:36.657Z"
   },
   {
    "duration": 187,
    "start_time": "2022-05-29T17:31:46.000Z"
   },
   {
    "duration": 746,
    "start_time": "2022-05-29T17:47:28.108Z"
   },
   {
    "duration": 90,
    "start_time": "2022-05-29T17:47:28.856Z"
   },
   {
    "duration": 24,
    "start_time": "2022-05-29T17:47:28.948Z"
   },
   {
    "duration": 14,
    "start_time": "2022-05-29T17:47:28.974Z"
   },
   {
    "duration": 4,
    "start_time": "2022-05-29T17:47:28.990Z"
   },
   {
    "duration": 8,
    "start_time": "2022-05-29T17:47:28.996Z"
   },
   {
    "duration": 18,
    "start_time": "2022-05-29T17:47:29.005Z"
   },
   {
    "duration": 7,
    "start_time": "2022-05-29T17:47:29.041Z"
   },
   {
    "duration": 7,
    "start_time": "2022-05-29T17:47:29.049Z"
   },
   {
    "duration": 6,
    "start_time": "2022-05-29T17:47:29.059Z"
   },
   {
    "duration": 6,
    "start_time": "2022-05-29T17:47:29.066Z"
   },
   {
    "duration": 7,
    "start_time": "2022-05-29T17:47:29.073Z"
   },
   {
    "duration": 3,
    "start_time": "2022-05-29T17:47:29.081Z"
   },
   {
    "duration": 6,
    "start_time": "2022-05-29T17:47:29.086Z"
   },
   {
    "duration": 12,
    "start_time": "2022-05-29T17:47:29.093Z"
   },
   {
    "duration": 38,
    "start_time": "2022-05-29T17:47:29.112Z"
   },
   {
    "duration": 15,
    "start_time": "2022-05-29T17:47:29.152Z"
   },
   {
    "duration": 4,
    "start_time": "2022-05-29T17:47:29.168Z"
   },
   {
    "duration": 6,
    "start_time": "2022-05-29T17:47:29.174Z"
   },
   {
    "duration": 5,
    "start_time": "2022-05-29T17:47:29.181Z"
   },
   {
    "duration": 6,
    "start_time": "2022-05-29T17:47:29.187Z"
   },
   {
    "duration": 5,
    "start_time": "2022-05-29T17:47:29.195Z"
   },
   {
    "duration": 40,
    "start_time": "2022-05-29T17:47:29.202Z"
   },
   {
    "duration": 8,
    "start_time": "2022-05-29T17:47:29.244Z"
   },
   {
    "duration": 5,
    "start_time": "2022-05-29T17:47:29.253Z"
   },
   {
    "duration": 3,
    "start_time": "2022-05-29T17:47:29.260Z"
   },
   {
    "duration": 10,
    "start_time": "2022-05-29T17:47:29.265Z"
   },
   {
    "duration": 10,
    "start_time": "2022-05-29T17:47:29.279Z"
   },
   {
    "duration": 17,
    "start_time": "2022-05-29T17:47:29.290Z"
   },
   {
    "duration": 13,
    "start_time": "2022-05-29T17:47:29.309Z"
   },
   {
    "duration": 14,
    "start_time": "2022-05-29T17:47:29.341Z"
   },
   {
    "duration": 6,
    "start_time": "2022-05-29T17:47:29.357Z"
   },
   {
    "duration": 4,
    "start_time": "2022-05-29T17:47:29.365Z"
   },
   {
    "duration": 6,
    "start_time": "2022-05-29T17:47:29.371Z"
   },
   {
    "duration": 7,
    "start_time": "2022-05-29T17:47:29.378Z"
   },
   {
    "duration": 5,
    "start_time": "2022-05-29T17:47:29.386Z"
   },
   {
    "duration": 6,
    "start_time": "2022-05-29T17:47:29.392Z"
   },
   {
    "duration": 48,
    "start_time": "2022-05-29T17:47:29.399Z"
   },
   {
    "duration": 2,
    "start_time": "2022-05-29T17:47:29.449Z"
   },
   {
    "duration": 329,
    "start_time": "2022-05-29T17:47:29.453Z"
   },
   {
    "duration": 12,
    "start_time": "2022-05-29T17:47:29.784Z"
   },
   {
    "duration": 5,
    "start_time": "2022-05-29T17:47:29.797Z"
   },
   {
    "duration": 17,
    "start_time": "2022-05-29T17:47:29.804Z"
   },
   {
    "duration": 4,
    "start_time": "2022-05-29T17:47:29.841Z"
   },
   {
    "duration": 14,
    "start_time": "2022-05-29T17:47:29.847Z"
   },
   {
    "duration": 29,
    "start_time": "2022-05-29T17:47:29.862Z"
   },
   {
    "duration": 171,
    "start_time": "2022-05-29T17:47:29.893Z"
   },
   {
    "duration": 280,
    "start_time": "2022-05-29T17:47:30.066Z"
   },
   {
    "duration": 142,
    "start_time": "2022-05-29T17:47:30.348Z"
   },
   {
    "duration": 147,
    "start_time": "2022-05-29T17:47:30.492Z"
   },
   {
    "duration": 158,
    "start_time": "2022-05-29T17:47:30.641Z"
   },
   {
    "duration": 138,
    "start_time": "2022-05-29T17:47:30.801Z"
   },
   {
    "duration": 83,
    "start_time": "2022-05-29T17:47:30.941Z"
   },
   {
    "duration": 24,
    "start_time": "2022-05-29T17:47:31.026Z"
   },
   {
    "duration": 201,
    "start_time": "2022-05-29T17:47:31.052Z"
   },
   {
    "duration": 130,
    "start_time": "2022-05-29T17:47:31.254Z"
   },
   {
    "duration": 122,
    "start_time": "2022-05-29T17:47:31.385Z"
   },
   {
    "duration": 10,
    "start_time": "2022-05-29T17:47:31.509Z"
   },
   {
    "duration": 21,
    "start_time": "2022-05-29T17:47:31.521Z"
   },
   {
    "duration": 120,
    "start_time": "2022-05-29T17:47:31.544Z"
   },
   {
    "duration": 134,
    "start_time": "2022-05-29T17:47:31.666Z"
   },
   {
    "duration": 7,
    "start_time": "2022-05-29T17:47:31.802Z"
   },
   {
    "duration": 145,
    "start_time": "2022-05-29T17:47:31.811Z"
   },
   {
    "duration": 5,
    "start_time": "2022-05-29T17:47:31.958Z"
   },
   {
    "duration": 16,
    "start_time": "2022-05-29T17:47:31.965Z"
   },
   {
    "duration": 9,
    "start_time": "2022-05-29T17:47:31.983Z"
   },
   {
    "duration": 13,
    "start_time": "2022-05-29T17:47:31.994Z"
   },
   {
    "duration": 46,
    "start_time": "2022-05-29T17:47:32.008Z"
   },
   {
    "duration": 264,
    "start_time": "2022-05-29T17:47:32.056Z"
   },
   {
    "duration": 19,
    "start_time": "2022-05-29T17:47:32.323Z"
   },
   {
    "duration": 220,
    "start_time": "2022-05-29T17:47:32.344Z"
   },
   {
    "duration": 6,
    "start_time": "2022-05-29T17:47:32.566Z"
   },
   {
    "duration": 145,
    "start_time": "2022-05-29T17:47:32.574Z"
   },
   {
    "duration": 191,
    "start_time": "2022-05-29T17:47:32.721Z"
   },
   {
    "duration": 5,
    "start_time": "2022-05-29T17:47:32.914Z"
   },
   {
    "duration": 133,
    "start_time": "2022-05-29T17:47:32.921Z"
   },
   {
    "duration": 191,
    "start_time": "2022-05-29T17:47:33.056Z"
   },
   {
    "duration": 146,
    "start_time": "2022-05-29T17:47:33.248Z"
   },
   {
    "duration": 25,
    "start_time": "2022-05-29T17:47:33.395Z"
   },
   {
    "duration": 103,
    "start_time": "2022-05-29T17:47:33.422Z"
   },
   {
    "duration": 171,
    "start_time": "2022-05-29T17:47:33.527Z"
   },
   {
    "duration": 26,
    "start_time": "2022-05-29T17:47:33.703Z"
   },
   {
    "duration": 144,
    "start_time": "2022-05-29T17:47:33.740Z"
   },
   {
    "duration": 454,
    "start_time": "2022-05-29T17:47:33.885Z"
   },
   {
    "duration": 137,
    "start_time": "2022-05-29T17:47:34.341Z"
   },
   {
    "duration": 157,
    "start_time": "2022-05-29T17:47:34.480Z"
   },
   {
    "duration": 9,
    "start_time": "2022-05-29T17:47:34.641Z"
   },
   {
    "duration": 145,
    "start_time": "2022-05-29T17:47:34.652Z"
   },
   {
    "duration": 198,
    "start_time": "2022-05-29T17:47:34.799Z"
   },
   {
    "duration": 173,
    "start_time": "2022-05-29T17:47:34.998Z"
   },
   {
    "duration": 771,
    "start_time": "2022-05-29T18:07:56.704Z"
   },
   {
    "duration": 92,
    "start_time": "2022-05-29T18:07:57.477Z"
   },
   {
    "duration": 26,
    "start_time": "2022-05-29T18:07:57.570Z"
   },
   {
    "duration": 15,
    "start_time": "2022-05-29T18:07:57.597Z"
   },
   {
    "duration": 5,
    "start_time": "2022-05-29T18:07:57.614Z"
   },
   {
    "duration": 22,
    "start_time": "2022-05-29T18:07:57.621Z"
   },
   {
    "duration": 11,
    "start_time": "2022-05-29T18:07:57.644Z"
   },
   {
    "duration": 6,
    "start_time": "2022-05-29T18:07:57.657Z"
   },
   {
    "duration": 7,
    "start_time": "2022-05-29T18:07:57.665Z"
   },
   {
    "duration": 6,
    "start_time": "2022-05-29T18:07:57.674Z"
   },
   {
    "duration": 7,
    "start_time": "2022-05-29T18:07:57.681Z"
   },
   {
    "duration": 7,
    "start_time": "2022-05-29T18:07:57.689Z"
   },
   {
    "duration": 4,
    "start_time": "2022-05-29T18:07:57.698Z"
   },
   {
    "duration": 39,
    "start_time": "2022-05-29T18:07:57.703Z"
   },
   {
    "duration": 8,
    "start_time": "2022-05-29T18:07:57.744Z"
   },
   {
    "duration": 5,
    "start_time": "2022-05-29T18:07:57.754Z"
   },
   {
    "duration": 14,
    "start_time": "2022-05-29T18:07:57.760Z"
   },
   {
    "duration": 5,
    "start_time": "2022-05-29T18:07:57.776Z"
   },
   {
    "duration": 5,
    "start_time": "2022-05-29T18:07:57.783Z"
   },
   {
    "duration": 6,
    "start_time": "2022-05-29T18:07:57.790Z"
   },
   {
    "duration": 9,
    "start_time": "2022-05-29T18:07:57.842Z"
   },
   {
    "duration": 7,
    "start_time": "2022-05-29T18:07:57.853Z"
   },
   {
    "duration": 8,
    "start_time": "2022-05-29T18:07:57.861Z"
   },
   {
    "duration": 9,
    "start_time": "2022-05-29T18:07:57.871Z"
   },
   {
    "duration": 5,
    "start_time": "2022-05-29T18:07:57.882Z"
   },
   {
    "duration": 4,
    "start_time": "2022-05-29T18:07:57.889Z"
   },
   {
    "duration": 50,
    "start_time": "2022-05-29T18:07:57.895Z"
   },
   {
    "duration": 7,
    "start_time": "2022-05-29T18:07:57.950Z"
   },
   {
    "duration": 14,
    "start_time": "2022-05-29T18:07:57.959Z"
   },
   {
    "duration": 6,
    "start_time": "2022-05-29T18:07:57.975Z"
   },
   {
    "duration": 15,
    "start_time": "2022-05-29T18:07:57.982Z"
   },
   {
    "duration": 44,
    "start_time": "2022-05-29T18:07:57.999Z"
   },
   {
    "duration": 5,
    "start_time": "2022-05-29T18:07:58.046Z"
   },
   {
    "duration": 6,
    "start_time": "2022-05-29T18:07:58.053Z"
   },
   {
    "duration": 7,
    "start_time": "2022-05-29T18:07:58.060Z"
   },
   {
    "duration": 6,
    "start_time": "2022-05-29T18:07:58.068Z"
   },
   {
    "duration": 8,
    "start_time": "2022-05-29T18:07:58.076Z"
   },
   {
    "duration": 12,
    "start_time": "2022-05-29T18:07:58.086Z"
   },
   {
    "duration": 42,
    "start_time": "2022-05-29T18:07:58.100Z"
   },
   {
    "duration": 314,
    "start_time": "2022-05-29T18:07:58.144Z"
   },
   {
    "duration": 11,
    "start_time": "2022-05-29T18:07:58.459Z"
   },
   {
    "duration": 4,
    "start_time": "2022-05-29T18:07:58.472Z"
   },
   {
    "duration": 16,
    "start_time": "2022-05-29T18:07:58.477Z"
   },
   {
    "duration": 4,
    "start_time": "2022-05-29T18:07:58.494Z"
   },
   {
    "duration": 15,
    "start_time": "2022-05-29T18:07:58.500Z"
   },
   {
    "duration": 44,
    "start_time": "2022-05-29T18:07:58.516Z"
   },
   {
    "duration": 149,
    "start_time": "2022-05-29T18:07:58.562Z"
   },
   {
    "duration": 243,
    "start_time": "2022-05-29T18:07:58.713Z"
   },
   {
    "duration": 127,
    "start_time": "2022-05-29T18:07:58.957Z"
   },
   {
    "duration": 144,
    "start_time": "2022-05-29T18:07:59.086Z"
   },
   {
    "duration": 160,
    "start_time": "2022-05-29T18:07:59.232Z"
   },
   {
    "duration": 130,
    "start_time": "2022-05-29T18:07:59.394Z"
   },
   {
    "duration": 93,
    "start_time": "2022-05-29T18:07:59.526Z"
   },
   {
    "duration": 25,
    "start_time": "2022-05-29T18:07:59.621Z"
   },
   {
    "duration": 193,
    "start_time": "2022-05-29T18:07:59.648Z"
   },
   {
    "duration": 142,
    "start_time": "2022-05-29T18:07:59.842Z"
   },
   {
    "duration": 114,
    "start_time": "2022-05-29T18:07:59.986Z"
   },
   {
    "duration": 11,
    "start_time": "2022-05-29T18:08:00.102Z"
   },
   {
    "duration": 4,
    "start_time": "2022-05-29T18:08:00.115Z"
   },
   {
    "duration": 116,
    "start_time": "2022-05-29T18:08:00.142Z"
   },
   {
    "duration": 134,
    "start_time": "2022-05-29T18:08:00.259Z"
   },
   {
    "duration": 6,
    "start_time": "2022-05-29T18:08:00.394Z"
   },
   {
    "duration": 143,
    "start_time": "2022-05-29T18:08:00.401Z"
   },
   {
    "duration": 6,
    "start_time": "2022-05-29T18:08:00.546Z"
   },
   {
    "duration": 20,
    "start_time": "2022-05-29T18:08:00.553Z"
   },
   {
    "duration": 13,
    "start_time": "2022-05-29T18:08:00.575Z"
   },
   {
    "duration": 15,
    "start_time": "2022-05-29T18:08:00.589Z"
   },
   {
    "duration": 36,
    "start_time": "2022-05-29T18:08:00.606Z"
   },
   {
    "duration": 271,
    "start_time": "2022-05-29T18:08:00.644Z"
   },
   {
    "duration": 5,
    "start_time": "2022-05-29T18:08:00.917Z"
   },
   {
    "duration": 236,
    "start_time": "2022-05-29T18:08:00.924Z"
   },
   {
    "duration": 6,
    "start_time": "2022-05-29T18:08:01.161Z"
   },
   {
    "duration": 135,
    "start_time": "2022-05-29T18:08:01.169Z"
   },
   {
    "duration": 186,
    "start_time": "2022-05-29T18:08:01.306Z"
   },
   {
    "duration": 6,
    "start_time": "2022-05-29T18:08:01.494Z"
   },
   {
    "duration": 141,
    "start_time": "2022-05-29T18:08:01.502Z"
   },
   {
    "duration": 197,
    "start_time": "2022-05-29T18:08:01.644Z"
   },
   {
    "duration": 173,
    "start_time": "2022-05-29T18:08:01.843Z"
   },
   {
    "duration": 39,
    "start_time": "2022-05-29T18:08:02.017Z"
   },
   {
    "duration": 119,
    "start_time": "2022-05-29T18:08:02.058Z"
   },
   {
    "duration": 172,
    "start_time": "2022-05-29T18:08:02.179Z"
   },
   {
    "duration": 24,
    "start_time": "2022-05-29T18:08:02.355Z"
   },
   {
    "duration": 153,
    "start_time": "2022-05-29T18:08:02.380Z"
   },
   {
    "duration": 439,
    "start_time": "2022-05-29T18:08:02.534Z"
   },
   {
    "duration": 131,
    "start_time": "2022-05-29T18:08:02.974Z"
   },
   {
    "duration": 155,
    "start_time": "2022-05-29T18:08:03.107Z"
   },
   {
    "duration": 10,
    "start_time": "2022-05-29T18:08:03.264Z"
   },
   {
    "duration": 146,
    "start_time": "2022-05-29T18:08:03.276Z"
   },
   {
    "duration": 197,
    "start_time": "2022-05-29T18:08:03.424Z"
   },
   {
    "duration": 150,
    "start_time": "2022-05-29T18:08:03.623Z"
   },
   {
    "duration": 767,
    "start_time": "2022-05-29T18:11:04.909Z"
   },
   {
    "duration": 100,
    "start_time": "2022-05-29T18:11:05.678Z"
   },
   {
    "duration": 26,
    "start_time": "2022-05-29T18:11:05.780Z"
   },
   {
    "duration": 33,
    "start_time": "2022-05-29T18:11:05.809Z"
   },
   {
    "duration": 6,
    "start_time": "2022-05-29T18:11:05.844Z"
   },
   {
    "duration": 7,
    "start_time": "2022-05-29T18:11:05.852Z"
   },
   {
    "duration": 13,
    "start_time": "2022-05-29T18:11:05.861Z"
   },
   {
    "duration": 7,
    "start_time": "2022-05-29T18:11:05.875Z"
   },
   {
    "duration": 8,
    "start_time": "2022-05-29T18:11:05.884Z"
   },
   {
    "duration": 8,
    "start_time": "2022-05-29T18:11:05.895Z"
   },
   {
    "duration": 8,
    "start_time": "2022-05-29T18:11:05.905Z"
   },
   {
    "duration": 8,
    "start_time": "2022-05-29T18:11:05.942Z"
   },
   {
    "duration": 4,
    "start_time": "2022-05-29T18:11:05.953Z"
   },
   {
    "duration": 7,
    "start_time": "2022-05-29T18:11:05.959Z"
   },
   {
    "duration": 12,
    "start_time": "2022-05-29T18:11:05.968Z"
   },
   {
    "duration": 5,
    "start_time": "2022-05-29T18:11:05.982Z"
   },
   {
    "duration": 14,
    "start_time": "2022-05-29T18:11:05.989Z"
   },
   {
    "duration": 41,
    "start_time": "2022-05-29T18:11:06.004Z"
   },
   {
    "duration": 8,
    "start_time": "2022-05-29T18:11:06.047Z"
   },
   {
    "duration": 10,
    "start_time": "2022-05-29T18:11:06.057Z"
   },
   {
    "duration": 12,
    "start_time": "2022-05-29T18:11:06.069Z"
   },
   {
    "duration": 8,
    "start_time": "2022-05-29T18:11:06.083Z"
   },
   {
    "duration": 9,
    "start_time": "2022-05-29T18:11:06.092Z"
   },
   {
    "duration": 44,
    "start_time": "2022-05-29T18:11:06.102Z"
   },
   {
    "duration": 6,
    "start_time": "2022-05-29T18:11:06.148Z"
   },
   {
    "duration": 4,
    "start_time": "2022-05-29T18:11:06.157Z"
   },
   {
    "duration": 9,
    "start_time": "2022-05-29T18:11:06.163Z"
   },
   {
    "duration": 8,
    "start_time": "2022-05-29T18:11:06.177Z"
   },
   {
    "duration": 16,
    "start_time": "2022-05-29T18:11:06.187Z"
   },
   {
    "duration": 39,
    "start_time": "2022-05-29T18:11:06.205Z"
   },
   {
    "duration": 19,
    "start_time": "2022-05-29T18:11:06.246Z"
   },
   {
    "duration": 7,
    "start_time": "2022-05-29T18:11:06.267Z"
   },
   {
    "duration": 7,
    "start_time": "2022-05-29T18:11:06.275Z"
   },
   {
    "duration": 8,
    "start_time": "2022-05-29T18:11:06.284Z"
   },
   {
    "duration": 6,
    "start_time": "2022-05-29T18:11:06.294Z"
   },
   {
    "duration": 10,
    "start_time": "2022-05-29T18:11:06.302Z"
   },
   {
    "duration": 29,
    "start_time": "2022-05-29T18:11:06.314Z"
   },
   {
    "duration": 13,
    "start_time": "2022-05-29T18:11:06.345Z"
   },
   {
    "duration": 4,
    "start_time": "2022-05-29T18:11:06.360Z"
   },
   {
    "duration": 349,
    "start_time": "2022-05-29T18:11:06.366Z"
   },
   {
    "duration": 11,
    "start_time": "2022-05-29T18:11:06.717Z"
   },
   {
    "duration": 13,
    "start_time": "2022-05-29T18:11:06.729Z"
   },
   {
    "duration": 17,
    "start_time": "2022-05-29T18:11:06.743Z"
   },
   {
    "duration": 4,
    "start_time": "2022-05-29T18:11:06.761Z"
   },
   {
    "duration": 14,
    "start_time": "2022-05-29T18:11:06.767Z"
   },
   {
    "duration": 27,
    "start_time": "2022-05-29T18:11:06.783Z"
   },
   {
    "duration": 246,
    "start_time": "2022-05-29T18:11:06.812Z"
   },
   {
    "duration": 324,
    "start_time": "2022-05-29T18:11:07.061Z"
   },
   {
    "duration": 148,
    "start_time": "2022-05-29T18:11:07.387Z"
   },
   {
    "duration": 152,
    "start_time": "2022-05-29T18:11:07.536Z"
   },
   {
    "duration": 176,
    "start_time": "2022-05-29T18:11:07.690Z"
   },
   {
    "duration": 143,
    "start_time": "2022-05-29T18:11:07.867Z"
   },
   {
    "duration": 130,
    "start_time": "2022-05-29T18:11:08.012Z"
   },
   {
    "duration": 12,
    "start_time": "2022-05-29T18:11:08.145Z"
   },
   {
    "duration": 224,
    "start_time": "2022-05-29T18:11:08.159Z"
   },
   {
    "duration": 152,
    "start_time": "2022-05-29T18:11:08.384Z"
   },
   {
    "duration": 138,
    "start_time": "2022-05-29T18:11:08.542Z"
   },
   {
    "duration": 11,
    "start_time": "2022-05-29T18:11:08.682Z"
   },
   {
    "duration": 4,
    "start_time": "2022-05-29T18:11:08.695Z"
   },
   {
    "duration": 156,
    "start_time": "2022-05-29T18:11:08.701Z"
   },
   {
    "duration": 151,
    "start_time": "2022-05-29T18:11:08.859Z"
   },
   {
    "duration": 6,
    "start_time": "2022-05-29T18:11:09.012Z"
   },
   {
    "duration": 145,
    "start_time": "2022-05-29T18:11:09.020Z"
   },
   {
    "duration": 5,
    "start_time": "2022-05-29T18:11:09.166Z"
   },
   {
    "duration": 16,
    "start_time": "2022-05-29T18:11:09.172Z"
   },
   {
    "duration": 17,
    "start_time": "2022-05-29T18:11:09.190Z"
   },
   {
    "duration": 13,
    "start_time": "2022-05-29T18:11:09.208Z"
   },
   {
    "duration": 33,
    "start_time": "2022-05-29T18:11:09.223Z"
   },
   {
    "duration": 268,
    "start_time": "2022-05-29T18:11:09.258Z"
   },
   {
    "duration": 14,
    "start_time": "2022-05-29T18:11:09.528Z"
   },
   {
    "duration": 225,
    "start_time": "2022-05-29T18:11:09.543Z"
   },
   {
    "duration": 5,
    "start_time": "2022-05-29T18:11:09.769Z"
   },
   {
    "duration": 172,
    "start_time": "2022-05-29T18:11:09.776Z"
   },
   {
    "duration": 190,
    "start_time": "2022-05-29T18:11:09.951Z"
   },
   {
    "duration": 6,
    "start_time": "2022-05-29T18:11:10.142Z"
   },
   {
    "duration": 145,
    "start_time": "2022-05-29T18:11:10.149Z"
   },
   {
    "duration": 194,
    "start_time": "2022-05-29T18:11:10.296Z"
   },
   {
    "duration": 152,
    "start_time": "2022-05-29T18:11:10.491Z"
   },
   {
    "duration": 24,
    "start_time": "2022-05-29T18:11:10.645Z"
   },
   {
    "duration": 115,
    "start_time": "2022-05-29T18:11:10.671Z"
   },
   {
    "duration": 200,
    "start_time": "2022-05-29T18:11:10.787Z"
   },
   {
    "duration": 26,
    "start_time": "2022-05-29T18:11:10.991Z"
   },
   {
    "duration": 154,
    "start_time": "2022-05-29T18:11:11.018Z"
   },
   {
    "duration": 472,
    "start_time": "2022-05-29T18:11:11.174Z"
   },
   {
    "duration": 150,
    "start_time": "2022-05-29T18:11:11.648Z"
   },
   {
    "duration": 159,
    "start_time": "2022-05-29T18:11:11.800Z"
   },
   {
    "duration": 9,
    "start_time": "2022-05-29T18:11:11.961Z"
   },
   {
    "duration": 146,
    "start_time": "2022-05-29T18:11:11.971Z"
   },
   {
    "duration": 198,
    "start_time": "2022-05-29T18:11:12.118Z"
   },
   {
    "duration": 150,
    "start_time": "2022-05-29T18:11:12.318Z"
   },
   {
    "duration": 52,
    "start_time": "2022-05-30T18:08:15.660Z"
   },
   {
    "duration": 841,
    "start_time": "2022-05-30T18:08:33.528Z"
   },
   {
    "duration": 304,
    "start_time": "2022-05-30T18:08:34.371Z"
   },
   {
    "duration": 22,
    "start_time": "2022-05-30T18:08:34.677Z"
   },
   {
    "duration": 15,
    "start_time": "2022-05-30T18:08:34.701Z"
   },
   {
    "duration": 4,
    "start_time": "2022-05-30T18:08:34.717Z"
   },
   {
    "duration": 7,
    "start_time": "2022-05-30T18:08:34.722Z"
   },
   {
    "duration": 15,
    "start_time": "2022-05-30T18:08:34.730Z"
   },
   {
    "duration": 5,
    "start_time": "2022-05-30T18:08:34.746Z"
   },
   {
    "duration": 8,
    "start_time": "2022-05-30T18:08:34.752Z"
   },
   {
    "duration": 5,
    "start_time": "2022-05-30T18:08:34.762Z"
   },
   {
    "duration": 7,
    "start_time": "2022-05-30T18:08:34.768Z"
   },
   {
    "duration": 9,
    "start_time": "2022-05-30T18:08:34.776Z"
   },
   {
    "duration": 3,
    "start_time": "2022-05-30T18:08:34.786Z"
   },
   {
    "duration": 5,
    "start_time": "2022-05-30T18:08:34.790Z"
   },
   {
    "duration": 7,
    "start_time": "2022-05-30T18:08:34.796Z"
   },
   {
    "duration": 4,
    "start_time": "2022-05-30T18:08:34.804Z"
   },
   {
    "duration": 12,
    "start_time": "2022-05-30T18:08:34.809Z"
   },
   {
    "duration": 4,
    "start_time": "2022-05-30T18:08:34.822Z"
   },
   {
    "duration": 4,
    "start_time": "2022-05-30T18:08:34.855Z"
   },
   {
    "duration": 5,
    "start_time": "2022-05-30T18:08:34.861Z"
   },
   {
    "duration": 6,
    "start_time": "2022-05-30T18:08:34.868Z"
   },
   {
    "duration": 6,
    "start_time": "2022-05-30T18:08:34.876Z"
   },
   {
    "duration": 6,
    "start_time": "2022-05-30T18:08:34.883Z"
   },
   {
    "duration": 9,
    "start_time": "2022-05-30T18:08:34.891Z"
   },
   {
    "duration": 5,
    "start_time": "2022-05-30T18:08:34.902Z"
   },
   {
    "duration": 47,
    "start_time": "2022-05-30T18:08:34.908Z"
   },
   {
    "duration": 7,
    "start_time": "2022-05-30T18:08:34.957Z"
   },
   {
    "duration": 6,
    "start_time": "2022-05-30T18:08:34.969Z"
   },
   {
    "duration": 15,
    "start_time": "2022-05-30T18:08:34.977Z"
   },
   {
    "duration": 4,
    "start_time": "2022-05-30T18:08:34.994Z"
   },
   {
    "duration": 14,
    "start_time": "2022-05-30T18:08:34.999Z"
   },
   {
    "duration": 5,
    "start_time": "2022-05-30T18:08:35.014Z"
   },
   {
    "duration": 6,
    "start_time": "2022-05-30T18:08:35.020Z"
   },
   {
    "duration": 29,
    "start_time": "2022-05-30T18:08:35.027Z"
   },
   {
    "duration": 15,
    "start_time": "2022-05-30T18:08:35.058Z"
   },
   {
    "duration": 6,
    "start_time": "2022-05-30T18:08:35.074Z"
   },
   {
    "duration": 8,
    "start_time": "2022-05-30T18:08:35.081Z"
   },
   {
    "duration": 9,
    "start_time": "2022-05-30T18:08:35.090Z"
   },
   {
    "duration": 3,
    "start_time": "2022-05-30T18:08:35.100Z"
   },
   {
    "duration": 294,
    "start_time": "2022-05-30T18:08:35.104Z"
   },
   {
    "duration": 10,
    "start_time": "2022-05-30T18:08:35.400Z"
   },
   {
    "duration": 4,
    "start_time": "2022-05-30T18:08:35.412Z"
   },
   {
    "duration": 21,
    "start_time": "2022-05-30T18:08:35.417Z"
   },
   {
    "duration": 15,
    "start_time": "2022-05-30T18:08:35.439Z"
   },
   {
    "duration": 8,
    "start_time": "2022-05-30T18:08:35.455Z"
   },
   {
    "duration": 21,
    "start_time": "2022-05-30T18:08:35.464Z"
   },
   {
    "duration": 150,
    "start_time": "2022-05-30T18:08:35.486Z"
   },
   {
    "duration": 217,
    "start_time": "2022-05-30T18:08:35.637Z"
   },
   {
    "duration": 111,
    "start_time": "2022-05-30T18:08:35.856Z"
   },
   {
    "duration": 125,
    "start_time": "2022-05-30T18:08:35.969Z"
   },
   {
    "duration": 150,
    "start_time": "2022-05-30T18:08:36.095Z"
   },
   {
    "duration": 125,
    "start_time": "2022-05-30T18:08:36.246Z"
   },
   {
    "duration": 92,
    "start_time": "2022-05-30T18:08:36.373Z"
   },
   {
    "duration": 10,
    "start_time": "2022-05-30T18:08:36.467Z"
   },
   {
    "duration": 180,
    "start_time": "2022-05-30T18:08:36.478Z"
   },
   {
    "duration": 112,
    "start_time": "2022-05-30T18:08:36.659Z"
   },
   {
    "duration": 107,
    "start_time": "2022-05-30T18:08:36.772Z"
   },
   {
    "duration": 10,
    "start_time": "2022-05-30T18:08:36.881Z"
   },
   {
    "duration": 3,
    "start_time": "2022-05-30T18:08:36.892Z"
   },
   {
    "duration": 121,
    "start_time": "2022-05-30T18:08:36.896Z"
   },
   {
    "duration": 112,
    "start_time": "2022-05-30T18:08:37.018Z"
   },
   {
    "duration": 5,
    "start_time": "2022-05-30T18:08:37.131Z"
   },
   {
    "duration": 120,
    "start_time": "2022-05-30T18:08:37.138Z"
   },
   {
    "duration": 5,
    "start_time": "2022-05-30T18:08:37.260Z"
   },
   {
    "duration": 11,
    "start_time": "2022-05-30T18:08:37.267Z"
   },
   {
    "duration": 8,
    "start_time": "2022-05-30T18:08:37.280Z"
   },
   {
    "duration": 11,
    "start_time": "2022-05-30T18:08:37.289Z"
   },
   {
    "duration": 14,
    "start_time": "2022-05-30T18:08:37.301Z"
   },
   {
    "duration": 256,
    "start_time": "2022-05-30T18:08:37.316Z"
   },
   {
    "duration": 4,
    "start_time": "2022-05-30T18:08:37.574Z"
   },
   {
    "duration": 207,
    "start_time": "2022-05-30T18:08:37.579Z"
   },
   {
    "duration": 4,
    "start_time": "2022-05-30T18:08:37.788Z"
   },
   {
    "duration": 128,
    "start_time": "2022-05-30T18:08:37.793Z"
   },
   {
    "duration": 185,
    "start_time": "2022-05-30T18:08:37.922Z"
   },
   {
    "duration": 5,
    "start_time": "2022-05-30T18:08:38.108Z"
   },
   {
    "duration": 117,
    "start_time": "2022-05-30T18:08:38.114Z"
   },
   {
    "duration": 159,
    "start_time": "2022-05-30T18:08:38.233Z"
   },
   {
    "duration": 118,
    "start_time": "2022-05-30T18:08:38.394Z"
   },
   {
    "duration": 20,
    "start_time": "2022-05-30T18:08:38.514Z"
   },
   {
    "duration": 208,
    "start_time": "2022-05-30T18:08:38.535Z"
   },
   {
    "duration": 0,
    "start_time": "2022-05-30T18:08:38.744Z"
   },
   {
    "duration": 0,
    "start_time": "2022-05-30T18:08:38.754Z"
   },
   {
    "duration": 0,
    "start_time": "2022-05-30T18:08:38.755Z"
   },
   {
    "duration": 0,
    "start_time": "2022-05-30T18:08:38.756Z"
   },
   {
    "duration": 0,
    "start_time": "2022-05-30T18:08:38.757Z"
   },
   {
    "duration": 0,
    "start_time": "2022-05-30T18:08:38.758Z"
   },
   {
    "duration": 0,
    "start_time": "2022-05-30T18:08:38.758Z"
   },
   {
    "duration": 0,
    "start_time": "2022-05-30T18:08:38.760Z"
   },
   {
    "duration": 0,
    "start_time": "2022-05-30T18:08:38.761Z"
   },
   {
    "duration": 0,
    "start_time": "2022-05-30T18:08:38.762Z"
   },
   {
    "duration": 0,
    "start_time": "2022-05-30T18:08:38.763Z"
   },
   {
    "duration": 128,
    "start_time": "2022-05-30T18:09:14.256Z"
   },
   {
    "duration": 129,
    "start_time": "2022-05-30T18:09:28.434Z"
   },
   {
    "duration": 283,
    "start_time": "2022-05-30T18:10:04.814Z"
   },
   {
    "duration": 7,
    "start_time": "2022-05-30T18:17:05.006Z"
   },
   {
    "duration": 676,
    "start_time": "2022-05-30T18:29:06.529Z"
   },
   {
    "duration": 232,
    "start_time": "2022-05-30T18:29:07.207Z"
   },
   {
    "duration": 23,
    "start_time": "2022-05-30T18:29:07.441Z"
   },
   {
    "duration": 12,
    "start_time": "2022-05-30T18:29:07.466Z"
   },
   {
    "duration": 3,
    "start_time": "2022-05-30T18:29:07.480Z"
   },
   {
    "duration": 3,
    "start_time": "2022-05-30T18:29:07.485Z"
   },
   {
    "duration": 11,
    "start_time": "2022-05-30T18:29:07.489Z"
   },
   {
    "duration": 5,
    "start_time": "2022-05-30T18:29:07.502Z"
   },
   {
    "duration": 6,
    "start_time": "2022-05-30T18:29:07.509Z"
   },
   {
    "duration": 37,
    "start_time": "2022-05-30T18:29:07.517Z"
   },
   {
    "duration": 4,
    "start_time": "2022-05-30T18:29:07.555Z"
   },
   {
    "duration": 8,
    "start_time": "2022-05-30T18:29:07.560Z"
   },
   {
    "duration": 3,
    "start_time": "2022-05-30T18:29:07.569Z"
   },
   {
    "duration": 5,
    "start_time": "2022-05-30T18:29:07.574Z"
   },
   {
    "duration": 7,
    "start_time": "2022-05-30T18:29:07.580Z"
   },
   {
    "duration": 4,
    "start_time": "2022-05-30T18:29:07.588Z"
   },
   {
    "duration": 11,
    "start_time": "2022-05-30T18:29:07.593Z"
   },
   {
    "duration": 4,
    "start_time": "2022-05-30T18:29:07.605Z"
   },
   {
    "duration": 8,
    "start_time": "2022-05-30T18:29:07.610Z"
   },
   {
    "duration": 5,
    "start_time": "2022-05-30T18:29:07.654Z"
   },
   {
    "duration": 15,
    "start_time": "2022-05-30T18:29:07.661Z"
   },
   {
    "duration": 8,
    "start_time": "2022-05-30T18:29:07.677Z"
   },
   {
    "duration": 21,
    "start_time": "2022-05-30T18:29:07.687Z"
   },
   {
    "duration": 7,
    "start_time": "2022-05-30T18:29:07.710Z"
   },
   {
    "duration": 7,
    "start_time": "2022-05-30T18:29:07.718Z"
   },
   {
    "duration": 3,
    "start_time": "2022-05-30T18:29:07.727Z"
   },
   {
    "duration": 6,
    "start_time": "2022-05-30T18:29:07.732Z"
   },
   {
    "duration": 16,
    "start_time": "2022-05-30T18:29:07.741Z"
   },
   {
    "duration": 12,
    "start_time": "2022-05-30T18:29:07.759Z"
   },
   {
    "duration": 4,
    "start_time": "2022-05-30T18:29:07.772Z"
   },
   {
    "duration": 13,
    "start_time": "2022-05-30T18:29:07.777Z"
   },
   {
    "duration": 5,
    "start_time": "2022-05-30T18:29:07.791Z"
   },
   {
    "duration": 5,
    "start_time": "2022-05-30T18:29:07.797Z"
   },
   {
    "duration": 5,
    "start_time": "2022-05-30T18:29:07.803Z"
   },
   {
    "duration": 13,
    "start_time": "2022-05-30T18:29:07.810Z"
   },
   {
    "duration": 30,
    "start_time": "2022-05-30T18:29:07.824Z"
   },
   {
    "duration": 5,
    "start_time": "2022-05-30T18:29:07.855Z"
   },
   {
    "duration": 9,
    "start_time": "2022-05-30T18:29:07.862Z"
   },
   {
    "duration": 3,
    "start_time": "2022-05-30T18:29:07.872Z"
   },
   {
    "duration": 305,
    "start_time": "2022-05-30T18:29:07.876Z"
   },
   {
    "duration": 10,
    "start_time": "2022-05-30T18:29:08.183Z"
   },
   {
    "duration": 7,
    "start_time": "2022-05-30T18:29:08.194Z"
   },
   {
    "duration": 11,
    "start_time": "2022-05-30T18:29:08.202Z"
   },
   {
    "duration": 3,
    "start_time": "2022-05-30T18:29:08.214Z"
   },
   {
    "duration": 11,
    "start_time": "2022-05-30T18:29:08.218Z"
   },
   {
    "duration": 37,
    "start_time": "2022-05-30T18:29:08.230Z"
   },
   {
    "duration": 132,
    "start_time": "2022-05-30T18:29:08.268Z"
   },
   {
    "duration": 217,
    "start_time": "2022-05-30T18:29:08.402Z"
   },
   {
    "duration": 111,
    "start_time": "2022-05-30T18:29:08.620Z"
   },
   {
    "duration": 130,
    "start_time": "2022-05-30T18:29:08.732Z"
   },
   {
    "duration": 147,
    "start_time": "2022-05-30T18:29:08.864Z"
   },
   {
    "duration": 128,
    "start_time": "2022-05-30T18:29:09.012Z"
   },
   {
    "duration": 92,
    "start_time": "2022-05-30T18:29:09.153Z"
   },
   {
    "duration": 16,
    "start_time": "2022-05-30T18:29:09.247Z"
   },
   {
    "duration": 169,
    "start_time": "2022-05-30T18:29:09.264Z"
   },
   {
    "duration": 121,
    "start_time": "2022-05-30T18:29:09.435Z"
   },
   {
    "duration": 114,
    "start_time": "2022-05-30T18:29:09.557Z"
   },
   {
    "duration": 10,
    "start_time": "2022-05-30T18:29:09.673Z"
   },
   {
    "duration": 3,
    "start_time": "2022-05-30T18:29:09.685Z"
   },
   {
    "duration": 116,
    "start_time": "2022-05-30T18:29:09.690Z"
   },
   {
    "duration": 113,
    "start_time": "2022-05-30T18:29:09.808Z"
   },
   {
    "duration": 5,
    "start_time": "2022-05-30T18:29:09.923Z"
   },
   {
    "duration": 126,
    "start_time": "2022-05-30T18:29:09.930Z"
   },
   {
    "duration": 5,
    "start_time": "2022-05-30T18:29:10.058Z"
   },
   {
    "duration": 14,
    "start_time": "2022-05-30T18:29:10.065Z"
   },
   {
    "duration": 9,
    "start_time": "2022-05-30T18:29:10.081Z"
   },
   {
    "duration": 12,
    "start_time": "2022-05-30T18:29:10.091Z"
   },
   {
    "duration": 14,
    "start_time": "2022-05-30T18:29:10.104Z"
   },
   {
    "duration": 263,
    "start_time": "2022-05-30T18:29:10.119Z"
   },
   {
    "duration": 4,
    "start_time": "2022-05-30T18:29:10.384Z"
   },
   {
    "duration": 203,
    "start_time": "2022-05-30T18:29:10.389Z"
   },
   {
    "duration": 4,
    "start_time": "2022-05-30T18:29:10.594Z"
   },
   {
    "duration": 146,
    "start_time": "2022-05-30T18:29:10.599Z"
   },
   {
    "duration": 176,
    "start_time": "2022-05-30T18:29:10.746Z"
   },
   {
    "duration": 6,
    "start_time": "2022-05-30T18:29:10.924Z"
   },
   {
    "duration": 116,
    "start_time": "2022-05-30T18:29:10.932Z"
   },
   {
    "duration": 157,
    "start_time": "2022-05-30T18:29:11.054Z"
   },
   {
    "duration": 130,
    "start_time": "2022-05-30T18:29:11.212Z"
   },
   {
    "duration": 31,
    "start_time": "2022-05-30T18:29:11.343Z"
   },
   {
    "duration": 7,
    "start_time": "2022-05-30T18:29:11.376Z"
   },
   {
    "duration": 337,
    "start_time": "2022-05-30T18:29:11.385Z"
   },
   {
    "duration": 164,
    "start_time": "2022-05-30T18:29:11.728Z"
   },
   {
    "duration": 24,
    "start_time": "2022-05-30T18:29:11.894Z"
   },
   {
    "duration": 142,
    "start_time": "2022-05-30T18:29:11.919Z"
   },
   {
    "duration": 408,
    "start_time": "2022-05-30T18:29:12.062Z"
   },
   {
    "duration": 125,
    "start_time": "2022-05-30T18:29:12.472Z"
   },
   {
    "duration": 137,
    "start_time": "2022-05-30T18:29:12.598Z"
   },
   {
    "duration": 21,
    "start_time": "2022-05-30T18:29:12.737Z"
   },
   {
    "duration": 122,
    "start_time": "2022-05-30T18:29:12.760Z"
   },
   {
    "duration": 176,
    "start_time": "2022-05-30T18:29:12.884Z"
   },
   {
    "duration": 134,
    "start_time": "2022-05-30T18:29:13.062Z"
   },
   {
    "duration": 658,
    "start_time": "2022-05-30T18:37:17.258Z"
   },
   {
    "duration": 86,
    "start_time": "2022-05-30T18:37:17.918Z"
   },
   {
    "duration": 22,
    "start_time": "2022-05-30T18:37:18.006Z"
   },
   {
    "duration": 13,
    "start_time": "2022-05-30T18:37:18.030Z"
   },
   {
    "duration": 10,
    "start_time": "2022-05-30T18:37:18.044Z"
   },
   {
    "duration": 8,
    "start_time": "2022-05-30T18:37:18.055Z"
   },
   {
    "duration": 13,
    "start_time": "2022-05-30T18:37:18.064Z"
   },
   {
    "duration": 6,
    "start_time": "2022-05-30T18:37:18.078Z"
   },
   {
    "duration": 6,
    "start_time": "2022-05-30T18:37:18.085Z"
   },
   {
    "duration": 7,
    "start_time": "2022-05-30T18:37:18.093Z"
   },
   {
    "duration": 7,
    "start_time": "2022-05-30T18:37:18.101Z"
   },
   {
    "duration": 15,
    "start_time": "2022-05-30T18:37:18.110Z"
   },
   {
    "duration": 6,
    "start_time": "2022-05-30T18:37:18.126Z"
   },
   {
    "duration": 7,
    "start_time": "2022-05-30T18:37:18.133Z"
   },
   {
    "duration": 14,
    "start_time": "2022-05-30T18:37:18.146Z"
   },
   {
    "duration": 5,
    "start_time": "2022-05-30T18:37:18.161Z"
   },
   {
    "duration": 12,
    "start_time": "2022-05-30T18:37:18.167Z"
   },
   {
    "duration": 3,
    "start_time": "2022-05-30T18:37:18.180Z"
   },
   {
    "duration": 7,
    "start_time": "2022-05-30T18:37:18.184Z"
   },
   {
    "duration": 4,
    "start_time": "2022-05-30T18:37:18.193Z"
   },
   {
    "duration": 6,
    "start_time": "2022-05-30T18:37:18.199Z"
   },
   {
    "duration": 14,
    "start_time": "2022-05-30T18:37:18.206Z"
   },
   {
    "duration": 5,
    "start_time": "2022-05-30T18:37:18.222Z"
   },
   {
    "duration": 32,
    "start_time": "2022-05-30T18:37:18.228Z"
   },
   {
    "duration": 4,
    "start_time": "2022-05-30T18:37:18.261Z"
   },
   {
    "duration": 3,
    "start_time": "2022-05-30T18:37:18.267Z"
   },
   {
    "duration": 10,
    "start_time": "2022-05-30T18:37:18.271Z"
   },
   {
    "duration": 7,
    "start_time": "2022-05-30T18:37:18.284Z"
   },
   {
    "duration": 15,
    "start_time": "2022-05-30T18:37:18.292Z"
   },
   {
    "duration": 4,
    "start_time": "2022-05-30T18:37:18.309Z"
   },
   {
    "duration": 41,
    "start_time": "2022-05-30T18:37:18.314Z"
   },
   {
    "duration": 6,
    "start_time": "2022-05-30T18:37:18.356Z"
   },
   {
    "duration": 5,
    "start_time": "2022-05-30T18:37:18.363Z"
   },
   {
    "duration": 5,
    "start_time": "2022-05-30T18:37:18.370Z"
   },
   {
    "duration": 6,
    "start_time": "2022-05-30T18:37:18.376Z"
   },
   {
    "duration": 4,
    "start_time": "2022-05-30T18:37:18.384Z"
   },
   {
    "duration": 9,
    "start_time": "2022-05-30T18:37:18.389Z"
   },
   {
    "duration": 9,
    "start_time": "2022-05-30T18:37:18.399Z"
   },
   {
    "duration": 2,
    "start_time": "2022-05-30T18:37:18.410Z"
   },
   {
    "duration": 308,
    "start_time": "2022-05-30T18:37:18.413Z"
   },
   {
    "duration": 11,
    "start_time": "2022-05-30T18:37:18.723Z"
   },
   {
    "duration": 3,
    "start_time": "2022-05-30T18:37:18.735Z"
   },
   {
    "duration": 21,
    "start_time": "2022-05-30T18:37:18.739Z"
   },
   {
    "duration": 4,
    "start_time": "2022-05-30T18:37:18.761Z"
   },
   {
    "duration": 10,
    "start_time": "2022-05-30T18:37:18.766Z"
   },
   {
    "duration": 22,
    "start_time": "2022-05-30T18:37:18.777Z"
   },
   {
    "duration": 144,
    "start_time": "2022-05-30T18:37:18.801Z"
   },
   {
    "duration": 233,
    "start_time": "2022-05-30T18:37:18.946Z"
   },
   {
    "duration": 123,
    "start_time": "2022-05-30T18:37:19.181Z"
   },
   {
    "duration": 131,
    "start_time": "2022-05-30T18:37:19.305Z"
   },
   {
    "duration": 147,
    "start_time": "2022-05-30T18:37:19.438Z"
   },
   {
    "duration": 124,
    "start_time": "2022-05-30T18:37:19.586Z"
   },
   {
    "duration": 87,
    "start_time": "2022-05-30T18:37:19.712Z"
   },
   {
    "duration": 9,
    "start_time": "2022-05-30T18:37:19.801Z"
   },
   {
    "duration": 177,
    "start_time": "2022-05-30T18:37:19.812Z"
   },
   {
    "duration": 120,
    "start_time": "2022-05-30T18:37:19.990Z"
   },
   {
    "duration": 106,
    "start_time": "2022-05-30T18:37:20.112Z"
   },
   {
    "duration": 10,
    "start_time": "2022-05-30T18:37:20.219Z"
   },
   {
    "duration": 3,
    "start_time": "2022-05-30T18:37:20.230Z"
   },
   {
    "duration": 120,
    "start_time": "2022-05-30T18:37:20.234Z"
   },
   {
    "duration": 113,
    "start_time": "2022-05-30T18:37:20.356Z"
   },
   {
    "duration": 5,
    "start_time": "2022-05-30T18:37:20.471Z"
   },
   {
    "duration": 123,
    "start_time": "2022-05-30T18:37:20.477Z"
   },
   {
    "duration": 5,
    "start_time": "2022-05-30T18:37:20.601Z"
   },
   {
    "duration": 19,
    "start_time": "2022-05-30T18:37:20.607Z"
   },
   {
    "duration": 17,
    "start_time": "2022-05-30T18:37:20.628Z"
   },
   {
    "duration": 16,
    "start_time": "2022-05-30T18:37:20.646Z"
   },
   {
    "duration": 15,
    "start_time": "2022-05-30T18:37:20.664Z"
   },
   {
    "duration": 253,
    "start_time": "2022-05-30T18:37:20.681Z"
   },
   {
    "duration": 5,
    "start_time": "2022-05-30T18:37:20.936Z"
   },
   {
    "duration": 214,
    "start_time": "2022-05-30T18:37:20.942Z"
   },
   {
    "duration": 5,
    "start_time": "2022-05-30T18:37:21.157Z"
   },
   {
    "duration": 130,
    "start_time": "2022-05-30T18:37:21.164Z"
   },
   {
    "duration": 200,
    "start_time": "2022-05-30T18:37:21.295Z"
   },
   {
    "duration": 6,
    "start_time": "2022-05-30T18:37:21.497Z"
   },
   {
    "duration": 149,
    "start_time": "2022-05-30T18:37:21.505Z"
   },
   {
    "duration": 166,
    "start_time": "2022-05-30T18:37:21.656Z"
   },
   {
    "duration": 136,
    "start_time": "2022-05-30T18:37:21.824Z"
   },
   {
    "duration": 21,
    "start_time": "2022-05-30T18:37:21.962Z"
   },
   {
    "duration": 6,
    "start_time": "2022-05-30T18:37:21.985Z"
   },
   {
    "duration": 275,
    "start_time": "2022-05-30T18:37:21.992Z"
   },
   {
    "duration": 155,
    "start_time": "2022-05-30T18:37:22.272Z"
   },
   {
    "duration": 27,
    "start_time": "2022-05-30T18:37:22.428Z"
   },
   {
    "duration": 129,
    "start_time": "2022-05-30T18:37:22.456Z"
   },
   {
    "duration": 387,
    "start_time": "2022-05-30T18:37:22.586Z"
   },
   {
    "duration": 125,
    "start_time": "2022-05-30T18:37:22.975Z"
   },
   {
    "duration": 140,
    "start_time": "2022-05-30T18:37:23.102Z"
   },
   {
    "duration": 12,
    "start_time": "2022-05-30T18:37:23.244Z"
   },
   {
    "duration": 127,
    "start_time": "2022-05-30T18:37:23.257Z"
   },
   {
    "duration": 176,
    "start_time": "2022-05-30T18:37:23.386Z"
   },
   {
    "duration": 141,
    "start_time": "2022-05-30T18:37:23.564Z"
   }
  ],
  "kernelspec": {
   "display_name": "Python 3",
   "language": "python",
   "name": "python3"
  },
  "language_info": {
   "codemirror_mode": {
    "name": "ipython",
    "version": 3
   },
   "file_extension": ".py",
   "mimetype": "text/x-python",
   "name": "python",
   "nbconvert_exporter": "python",
   "pygments_lexer": "ipython3",
   "version": "3.9.10"
  },
  "toc": {
   "base_numbering": 1,
   "nav_menu": {},
   "number_sections": true,
   "sideBar": true,
   "skip_h1_title": true,
   "title_cell": "Содержание",
   "title_sidebar": "Contents",
   "toc_cell": true,
   "toc_position": {
    "height": "calc(100% - 180px)",
    "left": "10px",
    "top": "150px",
    "width": "283.993px"
   },
   "toc_section_display": true,
   "toc_window_display": true
  }
 },
 "nbformat": 4,
 "nbformat_minor": 4
}
