{
 "cells": [
  {
   "cell_type": "markdown",
   "metadata": {
    "toc": true
   },
   "source": [
    "<h1>Table of Contents<span class=\"tocSkip\"></span></h1>\n",
    "<div class=\"toc\"><ul class=\"toc-item\"><li><ul class=\"toc-item\"><li><span><a href=\"#Описание-проекта\" data-toc-modified-id=\"Описание-проекта-0.1\"><span class=\"toc-item-num\">0.1&nbsp;&nbsp;</span>Описание проекта</a></span></li></ul></li><li><span><a href=\"#Обзор-данных\" data-toc-modified-id=\"Обзор-данных-1\"><span class=\"toc-item-num\">1&nbsp;&nbsp;</span>Обзор данных</a></span><ul class=\"toc-item\"><li><span><a href=\"#Промежуточный-вывод\" data-toc-modified-id=\"Промежуточный-вывод-1.1\"><span class=\"toc-item-num\">1.1&nbsp;&nbsp;</span>Промежуточный вывод</a></span></li></ul></li><li><span><a href=\"#Предобработка-данных\" data-toc-modified-id=\"Предобработка-данных-2\"><span class=\"toc-item-num\">2&nbsp;&nbsp;</span>Предобработка данных</a></span><ul class=\"toc-item\"><li><span><a href=\"#Стиль-заголовков\" data-toc-modified-id=\"Стиль-заголовков-2.1\"><span class=\"toc-item-num\">2.1&nbsp;&nbsp;</span>Стиль заголовков</a></span></li><li><span><a href=\"#Изменение-типов-данных\" data-toc-modified-id=\"Изменение-типов-данных-2.2\"><span class=\"toc-item-num\">2.2&nbsp;&nbsp;</span>Изменение типов данных</a></span></li><li><span><a href=\"#Проверка-на-дубликаты\" data-toc-modified-id=\"Проверка-на-дубликаты-2.3\"><span class=\"toc-item-num\">2.3&nbsp;&nbsp;</span>Проверка на дубликаты</a></span></li><li><span><a href=\"#Промежуточный-вывод\" data-toc-modified-id=\"Промежуточный-вывод-2.4\"><span class=\"toc-item-num\">2.4&nbsp;&nbsp;</span>Промежуточный вывод</a></span></li></ul></li><li><span><a href=\"#Приоритизация-гипотез\" data-toc-modified-id=\"Приоритизация-гипотез-3\"><span class=\"toc-item-num\">3&nbsp;&nbsp;</span>Приоритизация гипотез</a></span><ul class=\"toc-item\"><li><span><a href=\"#Промежуточный-вывод\" data-toc-modified-id=\"Промежуточный-вывод-3.1\"><span class=\"toc-item-num\">3.1&nbsp;&nbsp;</span>Промежуточный вывод</a></span></li></ul></li><li><span><a href=\"#Анализ-A/B-теста\" data-toc-modified-id=\"Анализ-A/B-теста-4\"><span class=\"toc-item-num\">4&nbsp;&nbsp;</span>Анализ A/B-теста</a></span><ul class=\"toc-item\"><li><span><a href=\"#Кумулятивная-выручка-по-группам\" data-toc-modified-id=\"Кумулятивная-выручка-по-группам-4.1\"><span class=\"toc-item-num\">4.1&nbsp;&nbsp;</span>Кумулятивная выручка по группам</a></span></li><li><span><a href=\"#Кумулятивный-средний-чек-по-группам\" data-toc-modified-id=\"Кумулятивный-средний-чек-по-группам-4.2\"><span class=\"toc-item-num\">4.2&nbsp;&nbsp;</span>Кумулятивный средний чек по группам</a></span></li><li><span><a href=\"#Относительное-изменение-кумулятивного-среднего-чека-группы-B-к-группе-A\" data-toc-modified-id=\"Относительное-изменение-кумулятивного-среднего-чека-группы-B-к-группе-A-4.3\"><span class=\"toc-item-num\">4.3&nbsp;&nbsp;</span>Относительное изменение кумулятивного среднего чека группы B к группе A</a></span></li><li><span><a href=\"#Кумулятивная-конверсия-по-группам\" data-toc-modified-id=\"Кумулятивная-конверсия-по-группам-4.4\"><span class=\"toc-item-num\">4.4&nbsp;&nbsp;</span>Кумулятивная конверсия по группам</a></span></li><li><span><a href=\"#Относительное-изменение-кумулятивной-конверсии-группы-B-к-группе-A\" data-toc-modified-id=\"Относительное-изменение-кумулятивной-конверсии-группы-B-к-группе-A-4.5\"><span class=\"toc-item-num\">4.5&nbsp;&nbsp;</span>Относительное изменение кумулятивной конверсии группы B к группе A</a></span></li><li><span><a href=\"#Количество-заказов-по-пользователям\" data-toc-modified-id=\"Количество-заказов-по-пользователям-4.6\"><span class=\"toc-item-num\">4.6&nbsp;&nbsp;</span>Количество заказов по пользователям</a></span></li><li><span><a href=\"#95-й-и-99-й-перцентили-количества-заказов-на-пользователя\" data-toc-modified-id=\"95-й-и-99-й-перцентили-количества-заказов-на-пользователя-4.7\"><span class=\"toc-item-num\">4.7&nbsp;&nbsp;</span>95-й и 99-й перцентили количества заказов на пользователя</a></span></li><li><span><a href=\"#Стоимость-заказов-по-пользователям\" data-toc-modified-id=\"Стоимость-заказов-по-пользователям-4.8\"><span class=\"toc-item-num\">4.8&nbsp;&nbsp;</span>Стоимость заказов по пользователям</a></span></li><li><span><a href=\"#95-й-и-99-й-перцентили-стоимости-заказов\" data-toc-modified-id=\"95-й-и-99-й-перцентили-стоимости-заказов-4.9\"><span class=\"toc-item-num\">4.9&nbsp;&nbsp;</span>95-й и 99-й перцентили стоимости заказов</a></span></li><li><span><a href=\"#Расчёт-статистической-значимости-различий-в-конверсии-между-группами-по-«сырым»-данным\" data-toc-modified-id=\"Расчёт-статистической-значимости-различий-в-конверсии-между-группами-по-«сырым»-данным-4.10\"><span class=\"toc-item-num\">4.10&nbsp;&nbsp;</span>Расчёт статистической значимости различий в конверсии между группами по «сырым» данным</a></span></li><li><span><a href=\"#Расчёт-статистической-значимости-различий-в-среднем-чеке-заказа-между-группами-по-«сырым»-данным\" data-toc-modified-id=\"Расчёт-статистической-значимости-различий-в-среднем-чеке-заказа-между-группами-по-«сырым»-данным-4.11\"><span class=\"toc-item-num\">4.11&nbsp;&nbsp;</span>Расчёт статистической значимости различий в среднем чеке заказа между группами по «сырым» данным</a></span></li><li><span><a href=\"#Расчёт-статистической-значимости-различий-в-конверсии-между-группами-по-«очищенным»-данным\" data-toc-modified-id=\"Расчёт-статистической-значимости-различий-в-конверсии-между-группами-по-«очищенным»-данным-4.12\"><span class=\"toc-item-num\">4.12&nbsp;&nbsp;</span>Расчёт статистической значимости различий в конверсии между группами по «очищенным» данным</a></span></li><li><span><a href=\"#Расчёт-статистической-значимости-различий-в-среднем-чеке-заказа-между-группами-по-«очищенным»-данным\" data-toc-modified-id=\"Расчёт-статистической-значимости-различий-в-среднем-чеке-заказа-между-группами-по-«очищенным»-данным-4.13\"><span class=\"toc-item-num\">4.13&nbsp;&nbsp;</span>Расчёт статистической значимости различий в среднем чеке заказа между группами по «очищенным» данным</a></span></li><li><span><a href=\"#Решение-по-результатам-теста-и-промежуточные-выводы\" data-toc-modified-id=\"Решение-по-результатам-теста-и-промежуточные-выводы-4.14\"><span class=\"toc-item-num\">4.14&nbsp;&nbsp;</span>Решение по результатам теста и промежуточные выводы</a></span></li></ul></li><li><span><a href=\"#Общий-вывод\" data-toc-modified-id=\"Общий-вывод-5\"><span class=\"toc-item-num\">5&nbsp;&nbsp;</span>Общий вывод</a></span></li></ul></div>"
   ]
  },
  {
   "cell_type": "markdown",
   "metadata": {},
   "source": [
    "# Проверка гипотез и оценка А/В теста для интернет-магазина"
   ]
  },
  {
   "cell_type": "markdown",
   "metadata": {},
   "source": [
    "### Описание проекта\n",
    "Мы — аналитик крупного интернет-магазина. Вместе с отделом маркетинга мы подготовили список гипотез для увеличения выручки.\n",
    "Приоритизируем гипотезы, запустим A/B-тест и проанализируем результаты.\n",
    "\n",
    "**Цель исследования:**\n",
    "\n",
    "*1) определить наиболее перспективную гипотезу для увеличения выручки*\n",
    "\n",
    "*2) оценить результаты проведённого А/В теста.*\n",
    "\n",
    "**Описание данных**\n",
    "\n",
    "*Данные для первой части:*\n",
    "\n",
    "Файл `/datasets/hypothesis.csv`:\n",
    "\n",
    "    Hypothesis — краткое описание гипотезы;\n",
    "    Reach — охват пользователей по 10-балльной шкале;\n",
    "    Impact — влияние на пользователей по 10-балльной шкале;\n",
    "    Confidence — уверенность в гипотезе по 10-балльной шкале;\n",
    "    Efforts — затраты ресурсов на проверку гипотезы по 10-балльной шкале.\n",
    "    \n",
    "*Данные для второй части:*\n",
    "\n",
    "Файл `/datasets/orders.csv`:\n",
    "\n",
    "    transactionId — идентификатор заказа;\n",
    "    visitorId — идентификатор пользователя, совершившего заказ;\n",
    "    date — дата, когда был совершён заказ;\n",
    "    revenue — выручка заказа;\n",
    "    group — группа A/B-теста, в которую попал заказ.\n",
    "\n",
    "Файл `/datasets/visitors.csv`:\n",
    "\n",
    "    date — дата;\n",
    "    group — группа A/B-теста;\n",
    "    visitors — количество пользователей в указанную дату в указанной группе A/B-теста\n",
    "\n",
    "**Ход исследования**\n",
    "\n",
    "Предварительно разделим исследование на этапы:\n",
    " 1. Обзор данных\n",
    " 2. Предобработка данных\n",
    " 3. Приоритизация гипотез\n",
    " 4. Анализ A/B-теста\n",
    "\n",
    "О качестве данных ничего не известно. Поэтому до приоритизации гипотез и оценки результатов А/В теста понадобится обзор данных. Мы проверим данные на ошибки и оценим их влияние на исследование. Затем, на этапе предобработки мы поищем возможность исправить самые критичные ошибки данных."
   ]
  },
  {
   "cell_type": "markdown",
   "metadata": {},
   "source": [
    "## Обзор данных\n",
    "Необходимо составить первое впечатление о данных. Для этого импортируем все необходимые библиотеки:"
   ]
  },
  {
   "cell_type": "code",
   "execution_count": 1,
   "metadata": {},
   "outputs": [],
   "source": [
    "import pandas as pd\n",
    "import numpy as np\n",
    "import matplotlib.pyplot as plt\n",
    "%matplotlib inline\n",
    "import seaborn as sns\n",
    "import datetime as dt\n",
    "import scipy.stats as stats"
   ]
  },
  {
   "cell_type": "markdown",
   "metadata": {},
   "source": [
    "Загрузим в переменные данные о гипотезах, заказах и посетителях:"
   ]
  },
  {
   "cell_type": "code",
   "execution_count": 2,
   "metadata": {},
   "outputs": [],
   "source": [
    "hypothesis = pd.read_csv('/datasets/hypothesis.csv')\n",
    "orders = pd.read_csv('/datasets/orders.csv')\n",
    "visitors = pd.read_csv('/datasets/visitors.csv')"
   ]
  },
  {
   "cell_type": "markdown",
   "metadata": {},
   "source": [
    "Отобразим:\n",
    "* для `hypothesis` - весь датафрейм целиком\n",
    "* для `orders` и `visitors` - первые пять строк"
   ]
  },
  {
   "cell_type": "code",
   "execution_count": 3,
   "metadata": {},
   "outputs": [
    {
     "data": {
      "text/html": [
       "<div>\n",
       "<style scoped>\n",
       "    .dataframe tbody tr th:only-of-type {\n",
       "        vertical-align: middle;\n",
       "    }\n",
       "\n",
       "    .dataframe tbody tr th {\n",
       "        vertical-align: top;\n",
       "    }\n",
       "\n",
       "    .dataframe thead th {\n",
       "        text-align: right;\n",
       "    }\n",
       "</style>\n",
       "<table border=\"1\" class=\"dataframe\">\n",
       "  <thead>\n",
       "    <tr style=\"text-align: right;\">\n",
       "      <th></th>\n",
       "      <th>Hypothesis</th>\n",
       "      <th>Reach</th>\n",
       "      <th>Impact</th>\n",
       "      <th>Confidence</th>\n",
       "      <th>Efforts</th>\n",
       "    </tr>\n",
       "  </thead>\n",
       "  <tbody>\n",
       "    <tr>\n",
       "      <th>0</th>\n",
       "      <td>Добавить два новых канала привлечения трафика, что позволит привлекать на 30% больше пользователей</td>\n",
       "      <td>3</td>\n",
       "      <td>10</td>\n",
       "      <td>8</td>\n",
       "      <td>6</td>\n",
       "    </tr>\n",
       "    <tr>\n",
       "      <th>1</th>\n",
       "      <td>Запустить собственную службу доставки, что сократит срок доставки заказов</td>\n",
       "      <td>2</td>\n",
       "      <td>5</td>\n",
       "      <td>4</td>\n",
       "      <td>10</td>\n",
       "    </tr>\n",
       "    <tr>\n",
       "      <th>2</th>\n",
       "      <td>Добавить блоки рекомендаций товаров на сайт интернет магазина, чтобы повысить конверсию и средний чек заказа</td>\n",
       "      <td>8</td>\n",
       "      <td>3</td>\n",
       "      <td>7</td>\n",
       "      <td>3</td>\n",
       "    </tr>\n",
       "    <tr>\n",
       "      <th>3</th>\n",
       "      <td>Изменить структура категорий, что увеличит конверсию, т.к. пользователи быстрее найдут нужный товар</td>\n",
       "      <td>8</td>\n",
       "      <td>3</td>\n",
       "      <td>3</td>\n",
       "      <td>8</td>\n",
       "    </tr>\n",
       "    <tr>\n",
       "      <th>4</th>\n",
       "      <td>Изменить цвет фона главной страницы, чтобы увеличить вовлеченность пользователей</td>\n",
       "      <td>3</td>\n",
       "      <td>1</td>\n",
       "      <td>1</td>\n",
       "      <td>1</td>\n",
       "    </tr>\n",
       "    <tr>\n",
       "      <th>5</th>\n",
       "      <td>Добавить страницу отзывов клиентов о магазине, что позволит увеличить количество заказов</td>\n",
       "      <td>3</td>\n",
       "      <td>2</td>\n",
       "      <td>2</td>\n",
       "      <td>3</td>\n",
       "    </tr>\n",
       "    <tr>\n",
       "      <th>6</th>\n",
       "      <td>Показать на главной странице баннеры с актуальными акциями и распродажами, чтобы увеличить конверсию</td>\n",
       "      <td>5</td>\n",
       "      <td>3</td>\n",
       "      <td>8</td>\n",
       "      <td>3</td>\n",
       "    </tr>\n",
       "    <tr>\n",
       "      <th>7</th>\n",
       "      <td>Добавить форму подписки на все основные страницы, чтобы собрать базу клиентов для email-рассылок</td>\n",
       "      <td>10</td>\n",
       "      <td>7</td>\n",
       "      <td>8</td>\n",
       "      <td>5</td>\n",
       "    </tr>\n",
       "    <tr>\n",
       "      <th>8</th>\n",
       "      <td>Запустить акцию, дающую скидку на товар в день рождения</td>\n",
       "      <td>1</td>\n",
       "      <td>9</td>\n",
       "      <td>9</td>\n",
       "      <td>5</td>\n",
       "    </tr>\n",
       "  </tbody>\n",
       "</table>\n",
       "</div>"
      ],
      "text/plain": [
       "                                                                                                     Hypothesis  \\\n",
       "0            Добавить два новых канала привлечения трафика, что позволит привлекать на 30% больше пользователей   \n",
       "1                                     Запустить собственную службу доставки, что сократит срок доставки заказов   \n",
       "2  Добавить блоки рекомендаций товаров на сайт интернет магазина, чтобы повысить конверсию и средний чек заказа   \n",
       "3           Изменить структура категорий, что увеличит конверсию, т.к. пользователи быстрее найдут нужный товар   \n",
       "4                              Изменить цвет фона главной страницы, чтобы увеличить вовлеченность пользователей   \n",
       "5                      Добавить страницу отзывов клиентов о магазине, что позволит увеличить количество заказов   \n",
       "6          Показать на главной странице баннеры с актуальными акциями и распродажами, чтобы увеличить конверсию   \n",
       "7              Добавить форму подписки на все основные страницы, чтобы собрать базу клиентов для email-рассылок   \n",
       "8                                                       Запустить акцию, дающую скидку на товар в день рождения   \n",
       "\n",
       "   Reach  Impact  Confidence  Efforts  \n",
       "0      3      10           8        6  \n",
       "1      2       5           4       10  \n",
       "2      8       3           7        3  \n",
       "3      8       3           3        8  \n",
       "4      3       1           1        1  \n",
       "5      3       2           2        3  \n",
       "6      5       3           8        3  \n",
       "7     10       7           8        5  \n",
       "8      1       9           9        5  "
      ]
     },
     "metadata": {},
     "output_type": "display_data"
    }
   ],
   "source": [
    "pd.set_option('max_colwidth', 130)\n",
    "display(hypothesis)"
   ]
  },
  {
   "cell_type": "code",
   "execution_count": 4,
   "metadata": {},
   "outputs": [
    {
     "data": {
      "text/html": [
       "<div>\n",
       "<style scoped>\n",
       "    .dataframe tbody tr th:only-of-type {\n",
       "        vertical-align: middle;\n",
       "    }\n",
       "\n",
       "    .dataframe tbody tr th {\n",
       "        vertical-align: top;\n",
       "    }\n",
       "\n",
       "    .dataframe thead th {\n",
       "        text-align: right;\n",
       "    }\n",
       "</style>\n",
       "<table border=\"1\" class=\"dataframe\">\n",
       "  <thead>\n",
       "    <tr style=\"text-align: right;\">\n",
       "      <th></th>\n",
       "      <th>transactionId</th>\n",
       "      <th>visitorId</th>\n",
       "      <th>date</th>\n",
       "      <th>revenue</th>\n",
       "      <th>group</th>\n",
       "    </tr>\n",
       "  </thead>\n",
       "  <tbody>\n",
       "    <tr>\n",
       "      <th>0</th>\n",
       "      <td>3667963787</td>\n",
       "      <td>3312258926</td>\n",
       "      <td>2019-08-15</td>\n",
       "      <td>1650</td>\n",
       "      <td>B</td>\n",
       "    </tr>\n",
       "    <tr>\n",
       "      <th>1</th>\n",
       "      <td>2804400009</td>\n",
       "      <td>3642806036</td>\n",
       "      <td>2019-08-15</td>\n",
       "      <td>730</td>\n",
       "      <td>B</td>\n",
       "    </tr>\n",
       "    <tr>\n",
       "      <th>2</th>\n",
       "      <td>2961555356</td>\n",
       "      <td>4069496402</td>\n",
       "      <td>2019-08-15</td>\n",
       "      <td>400</td>\n",
       "      <td>A</td>\n",
       "    </tr>\n",
       "    <tr>\n",
       "      <th>3</th>\n",
       "      <td>3797467345</td>\n",
       "      <td>1196621759</td>\n",
       "      <td>2019-08-15</td>\n",
       "      <td>9759</td>\n",
       "      <td>B</td>\n",
       "    </tr>\n",
       "    <tr>\n",
       "      <th>4</th>\n",
       "      <td>2282983706</td>\n",
       "      <td>2322279887</td>\n",
       "      <td>2019-08-15</td>\n",
       "      <td>2308</td>\n",
       "      <td>B</td>\n",
       "    </tr>\n",
       "  </tbody>\n",
       "</table>\n",
       "</div>"
      ],
      "text/plain": [
       "   transactionId   visitorId        date  revenue group\n",
       "0     3667963787  3312258926  2019-08-15     1650     B\n",
       "1     2804400009  3642806036  2019-08-15      730     B\n",
       "2     2961555356  4069496402  2019-08-15      400     A\n",
       "3     3797467345  1196621759  2019-08-15     9759     B\n",
       "4     2282983706  2322279887  2019-08-15     2308     B"
      ]
     },
     "metadata": {},
     "output_type": "display_data"
    }
   ],
   "source": [
    "display(orders.head())"
   ]
  },
  {
   "cell_type": "code",
   "execution_count": 5,
   "metadata": {},
   "outputs": [
    {
     "data": {
      "text/html": [
       "<div>\n",
       "<style scoped>\n",
       "    .dataframe tbody tr th:only-of-type {\n",
       "        vertical-align: middle;\n",
       "    }\n",
       "\n",
       "    .dataframe tbody tr th {\n",
       "        vertical-align: top;\n",
       "    }\n",
       "\n",
       "    .dataframe thead th {\n",
       "        text-align: right;\n",
       "    }\n",
       "</style>\n",
       "<table border=\"1\" class=\"dataframe\">\n",
       "  <thead>\n",
       "    <tr style=\"text-align: right;\">\n",
       "      <th></th>\n",
       "      <th>date</th>\n",
       "      <th>group</th>\n",
       "      <th>visitors</th>\n",
       "    </tr>\n",
       "  </thead>\n",
       "  <tbody>\n",
       "    <tr>\n",
       "      <th>0</th>\n",
       "      <td>2019-08-01</td>\n",
       "      <td>A</td>\n",
       "      <td>719</td>\n",
       "    </tr>\n",
       "    <tr>\n",
       "      <th>1</th>\n",
       "      <td>2019-08-02</td>\n",
       "      <td>A</td>\n",
       "      <td>619</td>\n",
       "    </tr>\n",
       "    <tr>\n",
       "      <th>2</th>\n",
       "      <td>2019-08-03</td>\n",
       "      <td>A</td>\n",
       "      <td>507</td>\n",
       "    </tr>\n",
       "    <tr>\n",
       "      <th>3</th>\n",
       "      <td>2019-08-04</td>\n",
       "      <td>A</td>\n",
       "      <td>717</td>\n",
       "    </tr>\n",
       "    <tr>\n",
       "      <th>4</th>\n",
       "      <td>2019-08-05</td>\n",
       "      <td>A</td>\n",
       "      <td>756</td>\n",
       "    </tr>\n",
       "  </tbody>\n",
       "</table>\n",
       "</div>"
      ],
      "text/plain": [
       "         date group  visitors\n",
       "0  2019-08-01     A       719\n",
       "1  2019-08-02     A       619\n",
       "2  2019-08-03     A       507\n",
       "3  2019-08-04     A       717\n",
       "4  2019-08-05     A       756"
      ]
     },
     "metadata": {},
     "output_type": "display_data"
    }
   ],
   "source": [
    "display(visitors.head())"
   ]
  },
  {
   "cell_type": "markdown",
   "metadata": {},
   "source": [
    "Для получения более полной информации о датафрейме вызовем метод `info()`:"
   ]
  },
  {
   "cell_type": "code",
   "execution_count": 6,
   "metadata": {},
   "outputs": [
    {
     "data": {
      "text/plain": [
       "'-hypothesis-'"
      ]
     },
     "metadata": {},
     "output_type": "display_data"
    },
    {
     "name": "stdout",
     "output_type": "stream",
     "text": [
      "<class 'pandas.core.frame.DataFrame'>\n",
      "RangeIndex: 9 entries, 0 to 8\n",
      "Data columns (total 5 columns):\n",
      " #   Column      Non-Null Count  Dtype \n",
      "---  ------      --------------  ----- \n",
      " 0   Hypothesis  9 non-null      object\n",
      " 1   Reach       9 non-null      int64 \n",
      " 2   Impact      9 non-null      int64 \n",
      " 3   Confidence  9 non-null      int64 \n",
      " 4   Efforts     9 non-null      int64 \n",
      "dtypes: int64(4), object(1)\n",
      "memory usage: 488.0+ bytes\n"
     ]
    },
    {
     "data": {
      "text/plain": [
       "None"
      ]
     },
     "metadata": {},
     "output_type": "display_data"
    },
    {
     "data": {
      "text/plain": [
       "'-----------------'"
      ]
     },
     "metadata": {},
     "output_type": "display_data"
    },
    {
     "data": {
      "text/plain": [
       "'-orders-'"
      ]
     },
     "metadata": {},
     "output_type": "display_data"
    },
    {
     "name": "stdout",
     "output_type": "stream",
     "text": [
      "<class 'pandas.core.frame.DataFrame'>\n",
      "RangeIndex: 1197 entries, 0 to 1196\n",
      "Data columns (total 5 columns):\n",
      " #   Column         Non-Null Count  Dtype \n",
      "---  ------         --------------  ----- \n",
      " 0   transactionId  1197 non-null   int64 \n",
      " 1   visitorId      1197 non-null   int64 \n",
      " 2   date           1197 non-null   object\n",
      " 3   revenue        1197 non-null   int64 \n",
      " 4   group          1197 non-null   object\n",
      "dtypes: int64(3), object(2)\n",
      "memory usage: 46.9+ KB\n"
     ]
    },
    {
     "data": {
      "text/plain": [
       "None"
      ]
     },
     "metadata": {},
     "output_type": "display_data"
    },
    {
     "data": {
      "text/plain": [
       "'-----------------'"
      ]
     },
     "metadata": {},
     "output_type": "display_data"
    },
    {
     "data": {
      "text/plain": [
       "'-visitors-'"
      ]
     },
     "metadata": {},
     "output_type": "display_data"
    },
    {
     "name": "stdout",
     "output_type": "stream",
     "text": [
      "<class 'pandas.core.frame.DataFrame'>\n",
      "RangeIndex: 62 entries, 0 to 61\n",
      "Data columns (total 3 columns):\n",
      " #   Column    Non-Null Count  Dtype \n",
      "---  ------    --------------  ----- \n",
      " 0   date      62 non-null     object\n",
      " 1   group     62 non-null     object\n",
      " 2   visitors  62 non-null     int64 \n",
      "dtypes: int64(1), object(2)\n",
      "memory usage: 1.6+ KB\n"
     ]
    },
    {
     "data": {
      "text/plain": [
       "None"
      ]
     },
     "metadata": {},
     "output_type": "display_data"
    }
   ],
   "source": [
    "display('-hypothesis-')\n",
    "display(hypothesis.info())\n",
    "display('-----------------')\n",
    "display('-orders-')\n",
    "display(orders.info())\n",
    "display('-----------------')\n",
    "display('-visitors-')\n",
    "display(visitors.info())"
   ]
  },
  {
   "cell_type": "markdown",
   "metadata": {},
   "source": [
    "Данные представлены как категориальными, так и количественными величинами. Присутствуют даты, имеющие тип `object` вместо `datetime`. Не все столбцы датафреймов поименованы в соответствии с общепринятым стилем. Представленные типы данных - `int` и `object`.\n",
    "\n",
    "Количество значений в столбцах каждого из датафреймов не различается. Предварительно можно сказать, что пропуски в данных отсутствуют."
   ]
  },
  {
   "cell_type": "markdown",
   "metadata": {},
   "source": [
    "### Промежуточный вывод\n",
    "Перед нами представлена информация о гипотезах и результатах проведённого А/В теста.\n",
    "\n",
    "Предварительно можно утверждать, что, данных достаточно для дальнейшей приоритизации гипотез и оценки результатов А/В теста. Однако, для облегчения работы с данными, необходимо сперва привести все наименования столбцов к общепринятому стилю и провести проверку на дубликаты. Также стоит привести даты в датафреймах к формату `datetime`.\n",
    "\n",
    "Итак, чтобы двигаться дальше, нужно устранить проблемы в данных."
   ]
  },
  {
   "cell_type": "markdown",
   "metadata": {},
   "source": [
    "## Предобработка данных"
   ]
  },
  {
   "cell_type": "markdown",
   "metadata": {},
   "source": [
    "### Стиль заголовков\n",
    "Поскольку все столбцы в `hypothesis` написаны заглавными буквами, приведём их к общепринятому виду при помощи list comprehension и метода `lower()`:"
   ]
  },
  {
   "cell_type": "code",
   "execution_count": 7,
   "metadata": {},
   "outputs": [
    {
     "data": {
      "text/plain": [
       "Index(['hypothesis', 'reach', 'impact', 'confidence', 'efforts'], dtype='object')"
      ]
     },
     "execution_count": 7,
     "metadata": {},
     "output_type": "execute_result"
    }
   ],
   "source": [
    "hypothesis.columns = [x.lower() for x in hypothesis.columns]\n",
    "hypothesis.columns"
   ]
  },
  {
   "cell_type": "markdown",
   "metadata": {},
   "source": [
    "Изменим наименования столбцов в `orders`:"
   ]
  },
  {
   "cell_type": "code",
   "execution_count": 8,
   "metadata": {},
   "outputs": [
    {
     "data": {
      "text/plain": [
       "Index(['transaction_id', 'visitor_id', 'date', 'revenue', 'group'], dtype='object')"
      ]
     },
     "execution_count": 8,
     "metadata": {},
     "output_type": "execute_result"
    }
   ],
   "source": [
    "orders = orders.rename(columns={'transactionId': 'transaction_id',\n",
    "                               'visitorId': 'visitor_id'})\n",
    "orders.columns"
   ]
  },
  {
   "cell_type": "markdown",
   "metadata": {},
   "source": [
    "### Изменение типов данных\n",
    "Изменим типы данных на `datetime` в столбцах `date` датафреймов:\n",
    "* `orders`\n",
    "* `visitors`"
   ]
  },
  {
   "cell_type": "code",
   "execution_count": 9,
   "metadata": {},
   "outputs": [],
   "source": [
    "orders['date'] = pd.to_datetime(orders.date)\n",
    "visitors['date'] = pd.to_datetime(visitors.date)"
   ]
  },
  {
   "cell_type": "markdown",
   "metadata": {},
   "source": [
    "Проверим результат методом `info`:"
   ]
  },
  {
   "cell_type": "code",
   "execution_count": 10,
   "metadata": {},
   "outputs": [
    {
     "data": {
      "text/plain": [
       "'-orders-'"
      ]
     },
     "metadata": {},
     "output_type": "display_data"
    },
    {
     "name": "stdout",
     "output_type": "stream",
     "text": [
      "<class 'pandas.core.frame.DataFrame'>\n",
      "RangeIndex: 1197 entries, 0 to 1196\n",
      "Data columns (total 5 columns):\n",
      " #   Column          Non-Null Count  Dtype         \n",
      "---  ------          --------------  -----         \n",
      " 0   transaction_id  1197 non-null   int64         \n",
      " 1   visitor_id      1197 non-null   int64         \n",
      " 2   date            1197 non-null   datetime64[ns]\n",
      " 3   revenue         1197 non-null   int64         \n",
      " 4   group           1197 non-null   object        \n",
      "dtypes: datetime64[ns](1), int64(3), object(1)\n",
      "memory usage: 46.9+ KB\n"
     ]
    },
    {
     "data": {
      "text/plain": [
       "None"
      ]
     },
     "metadata": {},
     "output_type": "display_data"
    },
    {
     "data": {
      "text/plain": [
       "'-----------------'"
      ]
     },
     "metadata": {},
     "output_type": "display_data"
    },
    {
     "data": {
      "text/plain": [
       "'-visitors-'"
      ]
     },
     "metadata": {},
     "output_type": "display_data"
    },
    {
     "name": "stdout",
     "output_type": "stream",
     "text": [
      "<class 'pandas.core.frame.DataFrame'>\n",
      "RangeIndex: 62 entries, 0 to 61\n",
      "Data columns (total 3 columns):\n",
      " #   Column    Non-Null Count  Dtype         \n",
      "---  ------    --------------  -----         \n",
      " 0   date      62 non-null     datetime64[ns]\n",
      " 1   group     62 non-null     object        \n",
      " 2   visitors  62 non-null     int64         \n",
      "dtypes: datetime64[ns](1), int64(1), object(1)\n",
      "memory usage: 1.6+ KB\n"
     ]
    },
    {
     "data": {
      "text/plain": [
       "None"
      ]
     },
     "metadata": {},
     "output_type": "display_data"
    }
   ],
   "source": [
    "display('-orders-')\n",
    "display(orders.info())\n",
    "display('-----------------')\n",
    "display('-visitors-')\n",
    "display(visitors.info())"
   ]
  },
  {
   "cell_type": "markdown",
   "metadata": {},
   "source": [
    "### Проверка на дубликаты\n",
    "Посмотрим, присутствуют ли в датафреймах явные дубликаты:"
   ]
  },
  {
   "cell_type": "code",
   "execution_count": 11,
   "metadata": {},
   "outputs": [
    {
     "data": {
      "text/plain": [
       "'Дубликаты в hypothesis: 0'"
      ]
     },
     "metadata": {},
     "output_type": "display_data"
    },
    {
     "data": {
      "text/plain": [
       "'Дубликаты в orders: 0'"
      ]
     },
     "metadata": {},
     "output_type": "display_data"
    },
    {
     "data": {
      "text/plain": [
       "'Дубликаты в visitors: 0'"
      ]
     },
     "metadata": {},
     "output_type": "display_data"
    }
   ],
   "source": [
    "display(f'Дубликаты в hypothesis: {hypothesis.duplicated().sum()}')\n",
    "display(f'Дубликаты в orders: {orders.duplicated().sum()}')\n",
    "display(f'Дубликаты в visitors: {visitors.duplicated().sum()}')"
   ]
  },
  {
   "cell_type": "markdown",
   "metadata": {},
   "source": [
    "Явные дубликаты отсутствуют. Т.к. `hypothesis` был уже оценён визуально и дублированные гипотезы обнаружены не были, проверим оставшиеся датафреймы. Выведем уникальные значения столбца `group` датафреймов `orders` и `visitors`:"
   ]
  },
  {
   "cell_type": "code",
   "execution_count": 12,
   "metadata": {},
   "outputs": [
    {
     "data": {
      "text/plain": [
       "'-orders-'"
      ]
     },
     "metadata": {},
     "output_type": "display_data"
    },
    {
     "data": {
      "text/plain": [
       "B    640\n",
       "A    557\n",
       "Name: group, dtype: int64"
      ]
     },
     "metadata": {},
     "output_type": "display_data"
    },
    {
     "data": {
      "text/plain": [
       "'-----------------'"
      ]
     },
     "metadata": {},
     "output_type": "display_data"
    },
    {
     "data": {
      "text/plain": [
       "'-visitors-'"
      ]
     },
     "metadata": {},
     "output_type": "display_data"
    },
    {
     "data": {
      "text/plain": [
       "B    31\n",
       "A    31\n",
       "Name: group, dtype: int64"
      ]
     },
     "metadata": {},
     "output_type": "display_data"
    }
   ],
   "source": [
    "display('-orders-')\n",
    "display(orders.group.value_counts())\n",
    "display('-----------------')\n",
    "display('-visitors-')\n",
    "display(visitors.group.value_counts())"
   ]
  },
  {
   "cell_type": "markdown",
   "metadata": {},
   "source": [
    "Как мы видим, присутствуют только группы А и В, как и было заявлено в условии. Выборки в `visitors` по количеству не отличаются, в `orders` - отличаются примерно на 15%, что очень много и скорее всего исказит результаты.\n",
    "\n",
    "Также дополнительно проверим еще один момент - содержатся ли уникальные пользователи группы В в списке уникальных пользователей группы А:"
   ]
  },
  {
   "cell_type": "code",
   "execution_count": 13,
   "metadata": {},
   "outputs": [
    {
     "data": {
      "text/plain": [
       "'Количество уникальных пользователей группы А: 503'"
      ]
     },
     "metadata": {},
     "output_type": "display_data"
    },
    {
     "data": {
      "text/plain": [
       "'Количество уникальных пользователей группы B: 586'"
      ]
     },
     "metadata": {},
     "output_type": "display_data"
    },
    {
     "data": {
      "text/plain": [
       "'Количество совпадающих пользователей в группах: 58'"
      ]
     },
     "metadata": {},
     "output_type": "display_data"
    },
    {
     "data": {
      "text/plain": [
       "58"
      ]
     },
     "execution_count": 13,
     "metadata": {},
     "output_type": "execute_result"
    }
   ],
   "source": [
    "group_A = orders.query('group == \"A\"').visitor_id.drop_duplicates()\n",
    "group_B = orders.query('group == \"B\"').visitor_id.drop_duplicates()\n",
    "display(f'Количество уникальных пользователей группы А: {len(group_A)}')\n",
    "display(f'Количество уникальных пользователей группы B: {len(group_B)}')\n",
    "display(f'Количество совпадающих пользователей в группах: {group_B.isin(group_A).sum()}')\n",
    "group_B.isin(group_A).sum()"
   ]
  },
  {
   "cell_type": "markdown",
   "metadata": {},
   "source": [
    "В группе В содержатся 58 пользователей из группы А, что составляет примерно 10% от всей выборки. Иными словами, мы не можем знать наверняка, как тест повлиял на 10% участников группы В, а значит - и гарантировать истинность успеха или неудачи группы В мы также не можем.\n",
    "\n",
    "Выделим этих пользователей и внесём их в переменную `duplicated_users` (она потребуется в анализе А/В-теста) и для проверки выведем их количество - оно должно быть равно количеству совпадающих пользователей в группах, приведённому выше:"
   ]
  },
  {
   "cell_type": "code",
   "execution_count": 14,
   "metadata": {},
   "outputs": [
    {
     "data": {
      "text/plain": [
       "58"
      ]
     },
     "execution_count": 14,
     "metadata": {},
     "output_type": "execute_result"
    }
   ],
   "source": [
    "duplicated_users = orders.query('visitor_id in @group_A and visitor_id in @group_B').visitor_id.unique()\n",
    "len(duplicated_users)"
   ]
  },
  {
   "cell_type": "markdown",
   "metadata": {},
   "source": [
    "### Промежуточный вывод\n",
    "Предобработка выявила следующие проблемы в данных:\n",
    "\n",
    "* некорректный стиль представления заголовков\n",
    "* неудобный тип представления данных\n",
    "\n",
    "Были внесены изменения:\n",
    "\n",
    "* все заголовки были приведены к общепринятому стилю (\"snake_case\");\n",
    "\n",
    "\n",
    "* типы данных изменены на `datetime` в столбцах `date` датафреймов:\n",
    "  * `orders`\n",
    "  * `visitors`\n",
    "\n",
    "  \n",
    "В процессе предобработки нам не встретились ни явные аномалии (к примеру, отрицательные значения), ни пропуски. Вероятно, они отсутствуют. Можно предположить, что данные изначально были подготовлены для анализа результатов А/В теста.\n",
    "\n",
    "Отдельно отметим, что выборки в `orders` отличаются друг от друга примерно на 15%, а в группе В содержатся 58 пользователей из группы А, что составляет примерно 10% от всей выборки. Понаблюдаем, отразится ли это при оценке А/В теста.\n",
    "\n",
    "Теперь, когда все изменения внесены в датафрейм, можно приступить к приоритизации гипотез."
   ]
  },
  {
   "cell_type": "markdown",
   "metadata": {},
   "source": [
    "## Приоритизация гипотез"
   ]
  },
  {
   "cell_type": "markdown",
   "metadata": {},
   "source": [
    "* **Фреймворк ICE**\n",
    "\n",
    "Для установки приоритета гипотез используем фреймворк ICE. Он включает в себя:\n",
    "* `impact`\n",
    "* `сonfidence`\n",
    "* `efforts`\n",
    "\n",
    "Рассчитаем этот параметр, запишем его в переменную `ICE` и отсортируем по убыванию:"
   ]
  },
  {
   "cell_type": "code",
   "execution_count": 15,
   "metadata": {},
   "outputs": [
    {
     "data": {
      "text/html": [
       "<div>\n",
       "<style scoped>\n",
       "    .dataframe tbody tr th:only-of-type {\n",
       "        vertical-align: middle;\n",
       "    }\n",
       "\n",
       "    .dataframe tbody tr th {\n",
       "        vertical-align: top;\n",
       "    }\n",
       "\n",
       "    .dataframe thead th {\n",
       "        text-align: right;\n",
       "    }\n",
       "</style>\n",
       "<table border=\"1\" class=\"dataframe\">\n",
       "  <thead>\n",
       "    <tr style=\"text-align: right;\">\n",
       "      <th></th>\n",
       "      <th>hypothesis</th>\n",
       "      <th>ICE</th>\n",
       "    </tr>\n",
       "  </thead>\n",
       "  <tbody>\n",
       "    <tr>\n",
       "      <th>8</th>\n",
       "      <td>Запустить акцию, дающую скидку на товар в день рождения</td>\n",
       "      <td>16.200000</td>\n",
       "    </tr>\n",
       "    <tr>\n",
       "      <th>0</th>\n",
       "      <td>Добавить два новых канала привлечения трафика, что позволит привлекать на 30% больше пользователей</td>\n",
       "      <td>13.333333</td>\n",
       "    </tr>\n",
       "    <tr>\n",
       "      <th>7</th>\n",
       "      <td>Добавить форму подписки на все основные страницы, чтобы собрать базу клиентов для email-рассылок</td>\n",
       "      <td>11.200000</td>\n",
       "    </tr>\n",
       "    <tr>\n",
       "      <th>6</th>\n",
       "      <td>Показать на главной странице баннеры с актуальными акциями и распродажами, чтобы увеличить конверсию</td>\n",
       "      <td>8.000000</td>\n",
       "    </tr>\n",
       "    <tr>\n",
       "      <th>2</th>\n",
       "      <td>Добавить блоки рекомендаций товаров на сайт интернет магазина, чтобы повысить конверсию и средний чек заказа</td>\n",
       "      <td>7.000000</td>\n",
       "    </tr>\n",
       "    <tr>\n",
       "      <th>1</th>\n",
       "      <td>Запустить собственную службу доставки, что сократит срок доставки заказов</td>\n",
       "      <td>2.000000</td>\n",
       "    </tr>\n",
       "    <tr>\n",
       "      <th>5</th>\n",
       "      <td>Добавить страницу отзывов клиентов о магазине, что позволит увеличить количество заказов</td>\n",
       "      <td>1.333333</td>\n",
       "    </tr>\n",
       "    <tr>\n",
       "      <th>3</th>\n",
       "      <td>Изменить структура категорий, что увеличит конверсию, т.к. пользователи быстрее найдут нужный товар</td>\n",
       "      <td>1.125000</td>\n",
       "    </tr>\n",
       "    <tr>\n",
       "      <th>4</th>\n",
       "      <td>Изменить цвет фона главной страницы, чтобы увеличить вовлеченность пользователей</td>\n",
       "      <td>1.000000</td>\n",
       "    </tr>\n",
       "  </tbody>\n",
       "</table>\n",
       "</div>"
      ],
      "text/plain": [
       "                                                                                                     hypothesis  \\\n",
       "8                                                       Запустить акцию, дающую скидку на товар в день рождения   \n",
       "0            Добавить два новых канала привлечения трафика, что позволит привлекать на 30% больше пользователей   \n",
       "7              Добавить форму подписки на все основные страницы, чтобы собрать базу клиентов для email-рассылок   \n",
       "6          Показать на главной странице баннеры с актуальными акциями и распродажами, чтобы увеличить конверсию   \n",
       "2  Добавить блоки рекомендаций товаров на сайт интернет магазина, чтобы повысить конверсию и средний чек заказа   \n",
       "1                                     Запустить собственную службу доставки, что сократит срок доставки заказов   \n",
       "5                      Добавить страницу отзывов клиентов о магазине, что позволит увеличить количество заказов   \n",
       "3           Изменить структура категорий, что увеличит конверсию, т.к. пользователи быстрее найдут нужный товар   \n",
       "4                              Изменить цвет фона главной страницы, чтобы увеличить вовлеченность пользователей   \n",
       "\n",
       "         ICE  \n",
       "8  16.200000  \n",
       "0  13.333333  \n",
       "7  11.200000  \n",
       "6   8.000000  \n",
       "2   7.000000  \n",
       "1   2.000000  \n",
       "5   1.333333  \n",
       "3   1.125000  \n",
       "4   1.000000  "
      ]
     },
     "metadata": {},
     "output_type": "display_data"
    }
   ],
   "source": [
    "hypothesis['ICE'] = (hypothesis.impact * hypothesis.confidence) / hypothesis.efforts\n",
    "display(hypothesis[['hypothesis', 'ICE']].sort_values(by='ICE', ascending=False))"
   ]
  },
  {
   "cell_type": "markdown",
   "metadata": {},
   "source": [
    "С точки зрения фреймворка ICE, наилучшими вариантами повышения прибыли будут:\n",
    "* гипотеза 8\n",
    "* гипотеза 0\n",
    "* гипотеза 7\n",
    "\n",
    "Посмотрим, изменится ли диспозиция, если мы применим фреймворк RICE."
   ]
  },
  {
   "cell_type": "markdown",
   "metadata": {},
   "source": [
    "* **Фреймворк RICE**\n",
    "\n",
    "Далее применим фреймворк RICE. Он включает в себя уже четыре параметра:\n",
    "* `reach`\n",
    "* `impact`\n",
    "* `сonfidence`\n",
    "* `efforts`\n",
    "\n",
    "Рассчитаем его, запишем его в переменную `RICE` и отсортируем по убыванию:"
   ]
  },
  {
   "cell_type": "code",
   "execution_count": 16,
   "metadata": {},
   "outputs": [
    {
     "data": {
      "text/html": [
       "<div>\n",
       "<style scoped>\n",
       "    .dataframe tbody tr th:only-of-type {\n",
       "        vertical-align: middle;\n",
       "    }\n",
       "\n",
       "    .dataframe tbody tr th {\n",
       "        vertical-align: top;\n",
       "    }\n",
       "\n",
       "    .dataframe thead th {\n",
       "        text-align: right;\n",
       "    }\n",
       "</style>\n",
       "<table border=\"1\" class=\"dataframe\">\n",
       "  <thead>\n",
       "    <tr style=\"text-align: right;\">\n",
       "      <th></th>\n",
       "      <th>hypothesis</th>\n",
       "      <th>RICE</th>\n",
       "    </tr>\n",
       "  </thead>\n",
       "  <tbody>\n",
       "    <tr>\n",
       "      <th>7</th>\n",
       "      <td>Добавить форму подписки на все основные страницы, чтобы собрать базу клиентов для email-рассылок</td>\n",
       "      <td>112.0</td>\n",
       "    </tr>\n",
       "    <tr>\n",
       "      <th>2</th>\n",
       "      <td>Добавить блоки рекомендаций товаров на сайт интернет магазина, чтобы повысить конверсию и средний чек заказа</td>\n",
       "      <td>56.0</td>\n",
       "    </tr>\n",
       "    <tr>\n",
       "      <th>0</th>\n",
       "      <td>Добавить два новых канала привлечения трафика, что позволит привлекать на 30% больше пользователей</td>\n",
       "      <td>40.0</td>\n",
       "    </tr>\n",
       "    <tr>\n",
       "      <th>6</th>\n",
       "      <td>Показать на главной странице баннеры с актуальными акциями и распродажами, чтобы увеличить конверсию</td>\n",
       "      <td>40.0</td>\n",
       "    </tr>\n",
       "    <tr>\n",
       "      <th>8</th>\n",
       "      <td>Запустить акцию, дающую скидку на товар в день рождения</td>\n",
       "      <td>16.2</td>\n",
       "    </tr>\n",
       "    <tr>\n",
       "      <th>3</th>\n",
       "      <td>Изменить структура категорий, что увеличит конверсию, т.к. пользователи быстрее найдут нужный товар</td>\n",
       "      <td>9.0</td>\n",
       "    </tr>\n",
       "    <tr>\n",
       "      <th>1</th>\n",
       "      <td>Запустить собственную службу доставки, что сократит срок доставки заказов</td>\n",
       "      <td>4.0</td>\n",
       "    </tr>\n",
       "    <tr>\n",
       "      <th>5</th>\n",
       "      <td>Добавить страницу отзывов клиентов о магазине, что позволит увеличить количество заказов</td>\n",
       "      <td>4.0</td>\n",
       "    </tr>\n",
       "    <tr>\n",
       "      <th>4</th>\n",
       "      <td>Изменить цвет фона главной страницы, чтобы увеличить вовлеченность пользователей</td>\n",
       "      <td>3.0</td>\n",
       "    </tr>\n",
       "  </tbody>\n",
       "</table>\n",
       "</div>"
      ],
      "text/plain": [
       "                                                                                                     hypothesis  \\\n",
       "7              Добавить форму подписки на все основные страницы, чтобы собрать базу клиентов для email-рассылок   \n",
       "2  Добавить блоки рекомендаций товаров на сайт интернет магазина, чтобы повысить конверсию и средний чек заказа   \n",
       "0            Добавить два новых канала привлечения трафика, что позволит привлекать на 30% больше пользователей   \n",
       "6          Показать на главной странице баннеры с актуальными акциями и распродажами, чтобы увеличить конверсию   \n",
       "8                                                       Запустить акцию, дающую скидку на товар в день рождения   \n",
       "3           Изменить структура категорий, что увеличит конверсию, т.к. пользователи быстрее найдут нужный товар   \n",
       "1                                     Запустить собственную службу доставки, что сократит срок доставки заказов   \n",
       "5                      Добавить страницу отзывов клиентов о магазине, что позволит увеличить количество заказов   \n",
       "4                              Изменить цвет фона главной страницы, чтобы увеличить вовлеченность пользователей   \n",
       "\n",
       "    RICE  \n",
       "7  112.0  \n",
       "2   56.0  \n",
       "0   40.0  \n",
       "6   40.0  \n",
       "8   16.2  \n",
       "3    9.0  \n",
       "1    4.0  \n",
       "5    4.0  \n",
       "4    3.0  "
      ]
     },
     "metadata": {},
     "output_type": "display_data"
    }
   ],
   "source": [
    "hypothesis['RICE'] = (hypothesis.reach * hypothesis.impact * hypothesis.confidence) / hypothesis.efforts\n",
    "display(hypothesis[['hypothesis', 'RICE']].sort_values(by='RICE', ascending=False))"
   ]
  },
  {
   "cell_type": "markdown",
   "metadata": {},
   "source": [
    "В случае RICE наиболее перспективными гипотезами являются уже:\n",
    "* гипотеза 7\n",
    "* гипотеза 2\n",
    "* гипотеза 0\n",
    "* гипотеза 6"
   ]
  },
  {
   "cell_type": "markdown",
   "metadata": {},
   "source": [
    "* **Сравнение ICE и RICE**\n",
    "\n",
    "При применении RICE вместо ICE приоритизация гипотез резко изменилась: на первый план выдвинулось добавление формы подписки на все основные страницы (гипотеза 7), в то время как лидер по ICE - запуск акции на день рождения (гипотеза 8) - явно потерял свою значимость. Поскольку RICE включает в себя показатель охвата `reach`, то именно он оказал решающее влияние на смену расстановки гипотез. \n",
    "\n",
    "Степень влияния гипотезы 8 сложно недооценить - но вместе с тем она не гарантирует того, что большому количеству пользователей удастся воспользоваться специальным предложением накануне собственного дня рождения. Это можно воспринимать скорее как приятный бонус, нежели релевантное предложение для повышения прибыли на постоянном уровне.\n",
    "\n",
    "С другой стороны, добавление формы подписки на все основные страницы (гипотеза 7) обладает большим охватом и не обладает привязкой к конкретной дате. Нужно отметить, что и в ICE эта гипотеза занимает высокое место, что говорит о том, что остальные параметры, помимо охвата, хорошо сбалансированы."
   ]
  },
  {
   "cell_type": "markdown",
   "metadata": {},
   "source": [
    "Визуализируем приоритизацию гипотез. Для этого сперва проранжируем гипотезы по приоритетам согласно ICE при помощи `rank`:"
   ]
  },
  {
   "cell_type": "code",
   "execution_count": 17,
   "metadata": {
    "scrolled": true
   },
   "outputs": [
    {
     "data": {
      "text/html": [
       "<div>\n",
       "<style scoped>\n",
       "    .dataframe tbody tr th:only-of-type {\n",
       "        vertical-align: middle;\n",
       "    }\n",
       "\n",
       "    .dataframe tbody tr th {\n",
       "        vertical-align: top;\n",
       "    }\n",
       "\n",
       "    .dataframe thead th {\n",
       "        text-align: right;\n",
       "    }\n",
       "</style>\n",
       "<table border=\"1\" class=\"dataframe\">\n",
       "  <thead>\n",
       "    <tr style=\"text-align: right;\">\n",
       "      <th></th>\n",
       "      <th>hypothesis</th>\n",
       "      <th>ICE_priority</th>\n",
       "    </tr>\n",
       "  </thead>\n",
       "  <tbody>\n",
       "    <tr>\n",
       "      <th>8</th>\n",
       "      <td>Запустить акцию, дающую скидку на товар в день рождения</td>\n",
       "      <td>1.0</td>\n",
       "    </tr>\n",
       "    <tr>\n",
       "      <th>0</th>\n",
       "      <td>Добавить два новых канала привлечения трафика, что позволит привлекать на 30% больше пользователей</td>\n",
       "      <td>2.0</td>\n",
       "    </tr>\n",
       "    <tr>\n",
       "      <th>7</th>\n",
       "      <td>Добавить форму подписки на все основные страницы, чтобы собрать базу клиентов для email-рассылок</td>\n",
       "      <td>3.0</td>\n",
       "    </tr>\n",
       "    <tr>\n",
       "      <th>6</th>\n",
       "      <td>Показать на главной странице баннеры с актуальными акциями и распродажами, чтобы увеличить конверсию</td>\n",
       "      <td>4.0</td>\n",
       "    </tr>\n",
       "    <tr>\n",
       "      <th>2</th>\n",
       "      <td>Добавить блоки рекомендаций товаров на сайт интернет магазина, чтобы повысить конверсию и средний чек заказа</td>\n",
       "      <td>5.0</td>\n",
       "    </tr>\n",
       "    <tr>\n",
       "      <th>1</th>\n",
       "      <td>Запустить собственную службу доставки, что сократит срок доставки заказов</td>\n",
       "      <td>6.0</td>\n",
       "    </tr>\n",
       "    <tr>\n",
       "      <th>5</th>\n",
       "      <td>Добавить страницу отзывов клиентов о магазине, что позволит увеличить количество заказов</td>\n",
       "      <td>7.0</td>\n",
       "    </tr>\n",
       "    <tr>\n",
       "      <th>3</th>\n",
       "      <td>Изменить структура категорий, что увеличит конверсию, т.к. пользователи быстрее найдут нужный товар</td>\n",
       "      <td>8.0</td>\n",
       "    </tr>\n",
       "    <tr>\n",
       "      <th>4</th>\n",
       "      <td>Изменить цвет фона главной страницы, чтобы увеличить вовлеченность пользователей</td>\n",
       "      <td>9.0</td>\n",
       "    </tr>\n",
       "  </tbody>\n",
       "</table>\n",
       "</div>"
      ],
      "text/plain": [
       "                                                                                                     hypothesis  \\\n",
       "8                                                       Запустить акцию, дающую скидку на товар в день рождения   \n",
       "0            Добавить два новых канала привлечения трафика, что позволит привлекать на 30% больше пользователей   \n",
       "7              Добавить форму подписки на все основные страницы, чтобы собрать базу клиентов для email-рассылок   \n",
       "6          Показать на главной странице баннеры с актуальными акциями и распродажами, чтобы увеличить конверсию   \n",
       "2  Добавить блоки рекомендаций товаров на сайт интернет магазина, чтобы повысить конверсию и средний чек заказа   \n",
       "1                                     Запустить собственную службу доставки, что сократит срок доставки заказов   \n",
       "5                      Добавить страницу отзывов клиентов о магазине, что позволит увеличить количество заказов   \n",
       "3           Изменить структура категорий, что увеличит конверсию, т.к. пользователи быстрее найдут нужный товар   \n",
       "4                              Изменить цвет фона главной страницы, чтобы увеличить вовлеченность пользователей   \n",
       "\n",
       "   ICE_priority  \n",
       "8           1.0  \n",
       "0           2.0  \n",
       "7           3.0  \n",
       "6           4.0  \n",
       "2           5.0  \n",
       "1           6.0  \n",
       "5           7.0  \n",
       "3           8.0  \n",
       "4           9.0  "
      ]
     },
     "metadata": {},
     "output_type": "display_data"
    }
   ],
   "source": [
    "hypothesis['ICE_priority'] = hypothesis.ICE.rank(ascending=False, method='first')\n",
    "display(hypothesis[['hypothesis', 'ICE_priority']].sort_values(by='ICE_priority'))"
   ]
  },
  {
   "cell_type": "markdown",
   "metadata": {},
   "source": [
    "Повторим то же самое для приоритетов по RICE:"
   ]
  },
  {
   "cell_type": "code",
   "execution_count": 18,
   "metadata": {
    "scrolled": true
   },
   "outputs": [
    {
     "data": {
      "text/html": [
       "<div>\n",
       "<style scoped>\n",
       "    .dataframe tbody tr th:only-of-type {\n",
       "        vertical-align: middle;\n",
       "    }\n",
       "\n",
       "    .dataframe tbody tr th {\n",
       "        vertical-align: top;\n",
       "    }\n",
       "\n",
       "    .dataframe thead th {\n",
       "        text-align: right;\n",
       "    }\n",
       "</style>\n",
       "<table border=\"1\" class=\"dataframe\">\n",
       "  <thead>\n",
       "    <tr style=\"text-align: right;\">\n",
       "      <th></th>\n",
       "      <th>hypothesis</th>\n",
       "      <th>RICE_priority</th>\n",
       "    </tr>\n",
       "  </thead>\n",
       "  <tbody>\n",
       "    <tr>\n",
       "      <th>7</th>\n",
       "      <td>Добавить форму подписки на все основные страницы, чтобы собрать базу клиентов для email-рассылок</td>\n",
       "      <td>1.0</td>\n",
       "    </tr>\n",
       "    <tr>\n",
       "      <th>2</th>\n",
       "      <td>Добавить блоки рекомендаций товаров на сайт интернет магазина, чтобы повысить конверсию и средний чек заказа</td>\n",
       "      <td>2.0</td>\n",
       "    </tr>\n",
       "    <tr>\n",
       "      <th>0</th>\n",
       "      <td>Добавить два новых канала привлечения трафика, что позволит привлекать на 30% больше пользователей</td>\n",
       "      <td>3.0</td>\n",
       "    </tr>\n",
       "    <tr>\n",
       "      <th>6</th>\n",
       "      <td>Показать на главной странице баннеры с актуальными акциями и распродажами, чтобы увеличить конверсию</td>\n",
       "      <td>4.0</td>\n",
       "    </tr>\n",
       "    <tr>\n",
       "      <th>8</th>\n",
       "      <td>Запустить акцию, дающую скидку на товар в день рождения</td>\n",
       "      <td>5.0</td>\n",
       "    </tr>\n",
       "    <tr>\n",
       "      <th>3</th>\n",
       "      <td>Изменить структура категорий, что увеличит конверсию, т.к. пользователи быстрее найдут нужный товар</td>\n",
       "      <td>6.0</td>\n",
       "    </tr>\n",
       "    <tr>\n",
       "      <th>1</th>\n",
       "      <td>Запустить собственную службу доставки, что сократит срок доставки заказов</td>\n",
       "      <td>7.0</td>\n",
       "    </tr>\n",
       "    <tr>\n",
       "      <th>5</th>\n",
       "      <td>Добавить страницу отзывов клиентов о магазине, что позволит увеличить количество заказов</td>\n",
       "      <td>8.0</td>\n",
       "    </tr>\n",
       "    <tr>\n",
       "      <th>4</th>\n",
       "      <td>Изменить цвет фона главной страницы, чтобы увеличить вовлеченность пользователей</td>\n",
       "      <td>9.0</td>\n",
       "    </tr>\n",
       "  </tbody>\n",
       "</table>\n",
       "</div>"
      ],
      "text/plain": [
       "                                                                                                     hypothesis  \\\n",
       "7              Добавить форму подписки на все основные страницы, чтобы собрать базу клиентов для email-рассылок   \n",
       "2  Добавить блоки рекомендаций товаров на сайт интернет магазина, чтобы повысить конверсию и средний чек заказа   \n",
       "0            Добавить два новых канала привлечения трафика, что позволит привлекать на 30% больше пользователей   \n",
       "6          Показать на главной странице баннеры с актуальными акциями и распродажами, чтобы увеличить конверсию   \n",
       "8                                                       Запустить акцию, дающую скидку на товар в день рождения   \n",
       "3           Изменить структура категорий, что увеличит конверсию, т.к. пользователи быстрее найдут нужный товар   \n",
       "1                                     Запустить собственную службу доставки, что сократит срок доставки заказов   \n",
       "5                      Добавить страницу отзывов клиентов о магазине, что позволит увеличить количество заказов   \n",
       "4                              Изменить цвет фона главной страницы, чтобы увеличить вовлеченность пользователей   \n",
       "\n",
       "   RICE_priority  \n",
       "7            1.0  \n",
       "2            2.0  \n",
       "0            3.0  \n",
       "6            4.0  \n",
       "8            5.0  \n",
       "3            6.0  \n",
       "1            7.0  \n",
       "5            8.0  \n",
       "4            9.0  "
      ]
     },
     "metadata": {},
     "output_type": "display_data"
    }
   ],
   "source": [
    "hypothesis['RICE_priority'] = hypothesis.RICE.rank(ascending=False, method='first')\n",
    "display(hypothesis[['hypothesis', 'RICE_priority']].sort_values(by='RICE_priority'))"
   ]
  },
  {
   "cell_type": "markdown",
   "metadata": {},
   "source": [
    "Определим функцию `make_pretty` для визуализации расстановки приоритетов:"
   ]
  },
  {
   "cell_type": "code",
   "execution_count": 19,
   "metadata": {},
   "outputs": [],
   "source": [
    "def make_pretty(styler):\n",
    "    styler.set_caption(\"Приоритизация гипотез\")\n",
    "    styler.background_gradient(axis=None, vmin=1, vmax=9, cmap=\"YlGnBu\")\n",
    "    return styler"
   ]
  },
  {
   "cell_type": "markdown",
   "metadata": {},
   "source": [
    "Выведем гипотезы и уровни их приоритетности по ICE и RICE на экран:"
   ]
  },
  {
   "cell_type": "code",
   "execution_count": 20,
   "metadata": {},
   "outputs": [
    {
     "data": {
      "text/html": [
       "<style  type=\"text/css\" >\n",
       "#T_27a6e_row0_col1,#T_27a6e_row2_col2{\n",
       "            background-color:  #edf8b1;\n",
       "            color:  #000000;\n",
       "        }#T_27a6e_row0_col2,#T_27a6e_row7_col1{\n",
       "            background-color:  #c6e9b4;\n",
       "            color:  #000000;\n",
       "        }#T_27a6e_row1_col1,#T_27a6e_row3_col2{\n",
       "            background-color:  #1d90c0;\n",
       "            color:  #000000;\n",
       "        }#T_27a6e_row1_col2,#T_27a6e_row5_col1{\n",
       "            background-color:  #225da8;\n",
       "            color:  #f1f1f1;\n",
       "        }#T_27a6e_row2_col1,#T_27a6e_row8_col2{\n",
       "            background-color:  #40b5c4;\n",
       "            color:  #000000;\n",
       "        }#T_27a6e_row3_col1,#T_27a6e_row5_col2{\n",
       "            background-color:  #243392;\n",
       "            color:  #f1f1f1;\n",
       "        }#T_27a6e_row4_col1,#T_27a6e_row4_col2{\n",
       "            background-color:  #081d58;\n",
       "            color:  #f1f1f1;\n",
       "        }#T_27a6e_row6_col1,#T_27a6e_row6_col2{\n",
       "            background-color:  #7ecdbb;\n",
       "            color:  #000000;\n",
       "        }#T_27a6e_row7_col2,#T_27a6e_row8_col1{\n",
       "            background-color:  #ffffd9;\n",
       "            color:  #000000;\n",
       "        }</style><table id=\"T_27a6e_\" ><caption>Приоритизация гипотез</caption><thead>    <tr>        <th class=\"blank level0\" ></th>        <th class=\"col_heading level0 col0\" >hypothesis</th>        <th class=\"col_heading level0 col1\" >ICE_priority</th>        <th class=\"col_heading level0 col2\" >RICE_priority</th>    </tr></thead><tbody>\n",
       "                <tr>\n",
       "                        <th id=\"T_27a6e_level0_row0\" class=\"row_heading level0 row0\" >0</th>\n",
       "                        <td id=\"T_27a6e_row0_col0\" class=\"data row0 col0\" >Добавить два новых канала привлечения трафика, что позволит привлекать на 30% больше пользователей</td>\n",
       "                        <td id=\"T_27a6e_row0_col1\" class=\"data row0 col1\" >2.000000</td>\n",
       "                        <td id=\"T_27a6e_row0_col2\" class=\"data row0 col2\" >3.000000</td>\n",
       "            </tr>\n",
       "            <tr>\n",
       "                        <th id=\"T_27a6e_level0_row1\" class=\"row_heading level0 row1\" >1</th>\n",
       "                        <td id=\"T_27a6e_row1_col0\" class=\"data row1 col0\" >Запустить собственную службу доставки, что сократит срок доставки заказов</td>\n",
       "                        <td id=\"T_27a6e_row1_col1\" class=\"data row1 col1\" >6.000000</td>\n",
       "                        <td id=\"T_27a6e_row1_col2\" class=\"data row1 col2\" >7.000000</td>\n",
       "            </tr>\n",
       "            <tr>\n",
       "                        <th id=\"T_27a6e_level0_row2\" class=\"row_heading level0 row2\" >2</th>\n",
       "                        <td id=\"T_27a6e_row2_col0\" class=\"data row2 col0\" >Добавить блоки рекомендаций товаров на сайт интернет магазина, чтобы повысить конверсию и средний чек заказа</td>\n",
       "                        <td id=\"T_27a6e_row2_col1\" class=\"data row2 col1\" >5.000000</td>\n",
       "                        <td id=\"T_27a6e_row2_col2\" class=\"data row2 col2\" >2.000000</td>\n",
       "            </tr>\n",
       "            <tr>\n",
       "                        <th id=\"T_27a6e_level0_row3\" class=\"row_heading level0 row3\" >3</th>\n",
       "                        <td id=\"T_27a6e_row3_col0\" class=\"data row3 col0\" >Изменить структура категорий, что увеличит конверсию, т.к. пользователи быстрее найдут нужный товар</td>\n",
       "                        <td id=\"T_27a6e_row3_col1\" class=\"data row3 col1\" >8.000000</td>\n",
       "                        <td id=\"T_27a6e_row3_col2\" class=\"data row3 col2\" >6.000000</td>\n",
       "            </tr>\n",
       "            <tr>\n",
       "                        <th id=\"T_27a6e_level0_row4\" class=\"row_heading level0 row4\" >4</th>\n",
       "                        <td id=\"T_27a6e_row4_col0\" class=\"data row4 col0\" >Изменить цвет фона главной страницы, чтобы увеличить вовлеченность пользователей</td>\n",
       "                        <td id=\"T_27a6e_row4_col1\" class=\"data row4 col1\" >9.000000</td>\n",
       "                        <td id=\"T_27a6e_row4_col2\" class=\"data row4 col2\" >9.000000</td>\n",
       "            </tr>\n",
       "            <tr>\n",
       "                        <th id=\"T_27a6e_level0_row5\" class=\"row_heading level0 row5\" >5</th>\n",
       "                        <td id=\"T_27a6e_row5_col0\" class=\"data row5 col0\" >Добавить страницу отзывов клиентов о магазине, что позволит увеличить количество заказов</td>\n",
       "                        <td id=\"T_27a6e_row5_col1\" class=\"data row5 col1\" >7.000000</td>\n",
       "                        <td id=\"T_27a6e_row5_col2\" class=\"data row5 col2\" >8.000000</td>\n",
       "            </tr>\n",
       "            <tr>\n",
       "                        <th id=\"T_27a6e_level0_row6\" class=\"row_heading level0 row6\" >6</th>\n",
       "                        <td id=\"T_27a6e_row6_col0\" class=\"data row6 col0\" >Показать на главной странице баннеры с актуальными акциями и распродажами, чтобы увеличить конверсию</td>\n",
       "                        <td id=\"T_27a6e_row6_col1\" class=\"data row6 col1\" >4.000000</td>\n",
       "                        <td id=\"T_27a6e_row6_col2\" class=\"data row6 col2\" >4.000000</td>\n",
       "            </tr>\n",
       "            <tr>\n",
       "                        <th id=\"T_27a6e_level0_row7\" class=\"row_heading level0 row7\" >7</th>\n",
       "                        <td id=\"T_27a6e_row7_col0\" class=\"data row7 col0\" >Добавить форму подписки на все основные страницы, чтобы собрать базу клиентов для email-рассылок</td>\n",
       "                        <td id=\"T_27a6e_row7_col1\" class=\"data row7 col1\" >3.000000</td>\n",
       "                        <td id=\"T_27a6e_row7_col2\" class=\"data row7 col2\" >1.000000</td>\n",
       "            </tr>\n",
       "            <tr>\n",
       "                        <th id=\"T_27a6e_level0_row8\" class=\"row_heading level0 row8\" >8</th>\n",
       "                        <td id=\"T_27a6e_row8_col0\" class=\"data row8 col0\" >Запустить акцию, дающую скидку на товар в день рождения</td>\n",
       "                        <td id=\"T_27a6e_row8_col1\" class=\"data row8 col1\" >1.000000</td>\n",
       "                        <td id=\"T_27a6e_row8_col2\" class=\"data row8 col2\" >5.000000</td>\n",
       "            </tr>\n",
       "    </tbody></table>"
      ],
      "text/plain": [
       "<pandas.io.formats.style.Styler at 0x7f8965f9b8b0>"
      ]
     },
     "execution_count": 20,
     "metadata": {},
     "output_type": "execute_result"
    }
   ],
   "source": [
    "hypothesis[['hypothesis', 'ICE_priority', 'RICE_priority']].style.pipe(make_pretty)"
   ]
  },
  {
   "cell_type": "markdown",
   "metadata": {},
   "source": [
    "### Промежуточный вывод\n",
    "Для оценки значимости гипотез были применены фреймворки ICE и RICE.\n",
    "\n",
    "Наиболее приориретными с точки зрения ICE являются:\n",
    "\n",
    "* *Запустить акцию, дающую скидку на товар в день рождения* (гипотеза 8)\n",
    "\n",
    "\n",
    "* *Добавить два новых канала привлечения трафика, что позволит привлекать на 30% больше пользователей* (гипотеза 0)\n",
    "\n",
    "\n",
    "* *Добавить форму подписки на все основные страницы, чтобы собрать базу клиентов для email-рассылок* (гипотеза 7)\n",
    "\n",
    "\n",
    "С точки зрения RICE самыми предпочтительными должны быть:\n",
    "\n",
    "* *Добавить форму подписки на все основные страницы, чтобы собрать базу клиентов для email-рассылок* (гипотеза 7)\n",
    "\n",
    "\n",
    "* *Добавить блоки рекомендаций товаров на сайт интернет магазина, чтобы повысить конверсию и средний чек заказа* (гипотеза 2)\n",
    "\n",
    "\n",
    "* *Добавить два новых канала привлечения трафика, что позволит привлекать на 30% больше пользователей* (гипотеза 0)\n",
    "\n",
    "\n",
    "* *Показать на главной странице баннеры с актуальными акциями и распродажами, чтобы увеличить конверсию* (гипотеза 6)\n",
    "\n",
    "\n",
    "Отличия в расстановке приоритетов гипотез по ICE и RICE связаны с тем, что фреймворк RICE дополнительно включает в себя показатель охвата `reach`, и именно обусловил изменения. \n",
    "\n",
    "\n",
    "Кажется, самым разумным решением будет не выбирать гипотезу исходя из данных только одного фреймворка, а оценить по ним расстановку - и выбрать те гипотезы, которые занимают высокие положения в них обоих.\n",
    "\n",
    "Этими гипотезами будут:\n",
    "\n",
    "* **Добавить два новых канала привлечения трафика, что позволит привлекать на 30% больше пользователей** (гипотеза 0)\n",
    "\n",
    "\n",
    "* **Добавить форму подписки на все основные страницы, чтобы собрать базу клиентов для email-рассылок** (гипотеза 7)"
   ]
  },
  {
   "cell_type": "markdown",
   "metadata": {},
   "source": [
    "## Анализ A/B-теста"
   ]
  },
  {
   "cell_type": "markdown",
   "metadata": {},
   "source": [
    "### Кумулятивная выручка по группам\n",
    "Прежде всего, соберём все данные в датафрейм `cumulative_data`. Для этого создадим массив уникальных пар значений дат и групп теста `dates_groups`:"
   ]
  },
  {
   "cell_type": "code",
   "execution_count": 21,
   "metadata": {},
   "outputs": [
    {
     "data": {
      "text/html": [
       "<div>\n",
       "<style scoped>\n",
       "    .dataframe tbody tr th:only-of-type {\n",
       "        vertical-align: middle;\n",
       "    }\n",
       "\n",
       "    .dataframe tbody tr th {\n",
       "        vertical-align: top;\n",
       "    }\n",
       "\n",
       "    .dataframe thead th {\n",
       "        text-align: right;\n",
       "    }\n",
       "</style>\n",
       "<table border=\"1\" class=\"dataframe\">\n",
       "  <thead>\n",
       "    <tr style=\"text-align: right;\">\n",
       "      <th></th>\n",
       "      <th>date</th>\n",
       "      <th>group</th>\n",
       "    </tr>\n",
       "  </thead>\n",
       "  <tbody>\n",
       "    <tr>\n",
       "      <th>0</th>\n",
       "      <td>2019-08-15</td>\n",
       "      <td>B</td>\n",
       "    </tr>\n",
       "    <tr>\n",
       "      <th>2</th>\n",
       "      <td>2019-08-15</td>\n",
       "      <td>A</td>\n",
       "    </tr>\n",
       "    <tr>\n",
       "      <th>45</th>\n",
       "      <td>2019-08-16</td>\n",
       "      <td>A</td>\n",
       "    </tr>\n",
       "    <tr>\n",
       "      <th>47</th>\n",
       "      <td>2019-08-16</td>\n",
       "      <td>B</td>\n",
       "    </tr>\n",
       "    <tr>\n",
       "      <th>55</th>\n",
       "      <td>2019-08-01</td>\n",
       "      <td>A</td>\n",
       "    </tr>\n",
       "  </tbody>\n",
       "</table>\n",
       "</div>"
      ],
      "text/plain": [
       "         date group\n",
       "0  2019-08-15     B\n",
       "2  2019-08-15     A\n",
       "45 2019-08-16     A\n",
       "47 2019-08-16     B\n",
       "55 2019-08-01     A"
      ]
     },
     "metadata": {},
     "output_type": "display_data"
    }
   ],
   "source": [
    "dates_groups = orders[['date','group']].drop_duplicates()\n",
    "display(dates_groups.head())"
   ]
  },
  {
   "cell_type": "markdown",
   "metadata": {},
   "source": [
    "Отфильтруем совпадающих пользователей из **пункта 2.3** и сохраним срез как `orders_filtered`:"
   ]
  },
  {
   "cell_type": "code",
   "execution_count": 22,
   "metadata": {},
   "outputs": [
    {
     "data": {
      "text/html": [
       "<div>\n",
       "<style scoped>\n",
       "    .dataframe tbody tr th:only-of-type {\n",
       "        vertical-align: middle;\n",
       "    }\n",
       "\n",
       "    .dataframe tbody tr th {\n",
       "        vertical-align: top;\n",
       "    }\n",
       "\n",
       "    .dataframe thead th {\n",
       "        text-align: right;\n",
       "    }\n",
       "</style>\n",
       "<table border=\"1\" class=\"dataframe\">\n",
       "  <thead>\n",
       "    <tr style=\"text-align: right;\">\n",
       "      <th></th>\n",
       "      <th>transaction_id</th>\n",
       "      <th>visitor_id</th>\n",
       "      <th>date</th>\n",
       "      <th>revenue</th>\n",
       "      <th>group</th>\n",
       "    </tr>\n",
       "  </thead>\n",
       "  <tbody>\n",
       "    <tr>\n",
       "      <th>0</th>\n",
       "      <td>3667963787</td>\n",
       "      <td>3312258926</td>\n",
       "      <td>2019-08-15</td>\n",
       "      <td>1650</td>\n",
       "      <td>B</td>\n",
       "    </tr>\n",
       "    <tr>\n",
       "      <th>1</th>\n",
       "      <td>2804400009</td>\n",
       "      <td>3642806036</td>\n",
       "      <td>2019-08-15</td>\n",
       "      <td>730</td>\n",
       "      <td>B</td>\n",
       "    </tr>\n",
       "    <tr>\n",
       "      <th>3</th>\n",
       "      <td>3797467345</td>\n",
       "      <td>1196621759</td>\n",
       "      <td>2019-08-15</td>\n",
       "      <td>9759</td>\n",
       "      <td>B</td>\n",
       "    </tr>\n",
       "    <tr>\n",
       "      <th>4</th>\n",
       "      <td>2282983706</td>\n",
       "      <td>2322279887</td>\n",
       "      <td>2019-08-15</td>\n",
       "      <td>2308</td>\n",
       "      <td>B</td>\n",
       "    </tr>\n",
       "    <tr>\n",
       "      <th>5</th>\n",
       "      <td>182168103</td>\n",
       "      <td>935554773</td>\n",
       "      <td>2019-08-15</td>\n",
       "      <td>2210</td>\n",
       "      <td>B</td>\n",
       "    </tr>\n",
       "  </tbody>\n",
       "</table>\n",
       "</div>"
      ],
      "text/plain": [
       "   transaction_id  visitor_id       date  revenue group\n",
       "0      3667963787  3312258926 2019-08-15     1650     B\n",
       "1      2804400009  3642806036 2019-08-15      730     B\n",
       "3      3797467345  1196621759 2019-08-15     9759     B\n",
       "4      2282983706  2322279887 2019-08-15     2308     B\n",
       "5       182168103   935554773 2019-08-15     2210     B"
      ]
     },
     "metadata": {},
     "output_type": "display_data"
    }
   ],
   "source": [
    "orders_filtered = orders.query('visitor_id not in @duplicated_users')\n",
    "display(orders_filtered.head())"
   ]
  },
  {
   "cell_type": "markdown",
   "metadata": {},
   "source": [
    "При помощи массива выше получим агрегированные кумулятивные по дням данные о заказах в `orders_filtered`. Для этого:\n",
    "* получим строки из `orders_filtered`, дата которых меньше или равна дате элемента из `dates_groups`, а группа теста равна группе из `dates_groups`\n",
    "* применим агрегирующую функцию, в которой рассчитаем:\n",
    "  * максимальную дату\n",
    "  * наименование группы\n",
    "  * число уникальных ID заказов\n",
    "  * число уникальных ID пользователей\n",
    "  * сумму средних чеков\n",
    "* применим функцию к каждой строке таблицы (параметр `axis=1`)\n",
    "* отсортируем полученный датафрейм по дате и группе"
   ]
  },
  {
   "cell_type": "code",
   "execution_count": 23,
   "metadata": {},
   "outputs": [
    {
     "data": {
      "text/html": [
       "<div>\n",
       "<style scoped>\n",
       "    .dataframe tbody tr th:only-of-type {\n",
       "        vertical-align: middle;\n",
       "    }\n",
       "\n",
       "    .dataframe tbody tr th {\n",
       "        vertical-align: top;\n",
       "    }\n",
       "\n",
       "    .dataframe thead th {\n",
       "        text-align: right;\n",
       "    }\n",
       "</style>\n",
       "<table border=\"1\" class=\"dataframe\">\n",
       "  <thead>\n",
       "    <tr style=\"text-align: right;\">\n",
       "      <th></th>\n",
       "      <th>date</th>\n",
       "      <th>group</th>\n",
       "      <th>transaction_id</th>\n",
       "      <th>visitor_id</th>\n",
       "      <th>revenue</th>\n",
       "    </tr>\n",
       "  </thead>\n",
       "  <tbody>\n",
       "    <tr>\n",
       "      <th>55</th>\n",
       "      <td>2019-08-01</td>\n",
       "      <td>A</td>\n",
       "      <td>23</td>\n",
       "      <td>19</td>\n",
       "      <td>142779</td>\n",
       "    </tr>\n",
       "    <tr>\n",
       "      <th>66</th>\n",
       "      <td>2019-08-01</td>\n",
       "      <td>B</td>\n",
       "      <td>17</td>\n",
       "      <td>17</td>\n",
       "      <td>59758</td>\n",
       "    </tr>\n",
       "    <tr>\n",
       "      <th>175</th>\n",
       "      <td>2019-08-02</td>\n",
       "      <td>A</td>\n",
       "      <td>42</td>\n",
       "      <td>36</td>\n",
       "      <td>234381</td>\n",
       "    </tr>\n",
       "    <tr>\n",
       "      <th>173</th>\n",
       "      <td>2019-08-02</td>\n",
       "      <td>B</td>\n",
       "      <td>40</td>\n",
       "      <td>39</td>\n",
       "      <td>221801</td>\n",
       "    </tr>\n",
       "    <tr>\n",
       "      <th>291</th>\n",
       "      <td>2019-08-03</td>\n",
       "      <td>A</td>\n",
       "      <td>66</td>\n",
       "      <td>60</td>\n",
       "      <td>346854</td>\n",
       "    </tr>\n",
       "  </tbody>\n",
       "</table>\n",
       "</div>"
      ],
      "text/plain": [
       "          date group  transaction_id  visitor_id  revenue\n",
       "55  2019-08-01     A              23          19   142779\n",
       "66  2019-08-01     B              17          17    59758\n",
       "175 2019-08-02     A              42          36   234381\n",
       "173 2019-08-02     B              40          39   221801\n",
       "291 2019-08-03     A              66          60   346854"
      ]
     },
     "metadata": {},
     "output_type": "display_data"
    }
   ],
   "source": [
    "orders_aggregated = (\n",
    "    dates_groups\n",
    "    .apply(lambda x: orders_filtered[np.logical_and(orders_filtered['date'] <= x['date'], orders_filtered['group'] == x['group'])]\n",
    "           .agg({\n",
    "               'date' : 'max', \n",
    "               'group' : 'max', \n",
    "               'transaction_id' : 'nunique', \n",
    "               'visitor_id' : 'nunique', \n",
    "               'revenue' : 'sum'}), axis=1)\n",
    "    .sort_values(by=['date','group']))\n",
    "display(orders_aggregated.head())"
   ]
  },
  {
   "cell_type": "markdown",
   "metadata": {},
   "source": [
    "Аналогичным образом получим агрегированные кумулятивные по дням данные о посетителях интернет-магазина. Только в этом случае мы будем раccчитывать только максимальную дату, группу и накопленное количество посетителей на каждый момент времени:"
   ]
  },
  {
   "cell_type": "code",
   "execution_count": 24,
   "metadata": {},
   "outputs": [
    {
     "data": {
      "text/html": [
       "<div>\n",
       "<style scoped>\n",
       "    .dataframe tbody tr th:only-of-type {\n",
       "        vertical-align: middle;\n",
       "    }\n",
       "\n",
       "    .dataframe tbody tr th {\n",
       "        vertical-align: top;\n",
       "    }\n",
       "\n",
       "    .dataframe thead th {\n",
       "        text-align: right;\n",
       "    }\n",
       "</style>\n",
       "<table border=\"1\" class=\"dataframe\">\n",
       "  <thead>\n",
       "    <tr style=\"text-align: right;\">\n",
       "      <th></th>\n",
       "      <th>date</th>\n",
       "      <th>group</th>\n",
       "      <th>visitors</th>\n",
       "    </tr>\n",
       "  </thead>\n",
       "  <tbody>\n",
       "    <tr>\n",
       "      <th>55</th>\n",
       "      <td>2019-08-01</td>\n",
       "      <td>A</td>\n",
       "      <td>719</td>\n",
       "    </tr>\n",
       "    <tr>\n",
       "      <th>66</th>\n",
       "      <td>2019-08-01</td>\n",
       "      <td>B</td>\n",
       "      <td>713</td>\n",
       "    </tr>\n",
       "    <tr>\n",
       "      <th>175</th>\n",
       "      <td>2019-08-02</td>\n",
       "      <td>A</td>\n",
       "      <td>1338</td>\n",
       "    </tr>\n",
       "    <tr>\n",
       "      <th>173</th>\n",
       "      <td>2019-08-02</td>\n",
       "      <td>B</td>\n",
       "      <td>1294</td>\n",
       "    </tr>\n",
       "    <tr>\n",
       "      <th>291</th>\n",
       "      <td>2019-08-03</td>\n",
       "      <td>A</td>\n",
       "      <td>1845</td>\n",
       "    </tr>\n",
       "  </tbody>\n",
       "</table>\n",
       "</div>"
      ],
      "text/plain": [
       "          date group  visitors\n",
       "55  2019-08-01     A       719\n",
       "66  2019-08-01     B       713\n",
       "175 2019-08-02     A      1338\n",
       "173 2019-08-02     B      1294\n",
       "291 2019-08-03     A      1845"
      ]
     },
     "metadata": {},
     "output_type": "display_data"
    }
   ],
   "source": [
    "visitors_aggregated = (\n",
    "    dates_groups\n",
    "    .apply(lambda x: visitors[np.logical_and(visitors['date'] <= x['date'], visitors['group'] == x['group'])]\n",
    "           .agg({\n",
    "               'date' : 'max', \n",
    "               'group' : 'max', \n",
    "               'visitors' : 'sum'}), axis=1)\n",
    "    .sort_values(by=['date','group']))\n",
    "display(visitors_aggregated.head())"
   ]
  },
  {
   "cell_type": "markdown",
   "metadata": {},
   "source": [
    "И наконец, объединим кумулятивные данные в `cumulative_data`, присвоим ее столбцам понятные названия и выведем её на экран:"
   ]
  },
  {
   "cell_type": "code",
   "execution_count": 25,
   "metadata": {},
   "outputs": [
    {
     "data": {
      "text/html": [
       "<div>\n",
       "<style scoped>\n",
       "    .dataframe tbody tr th:only-of-type {\n",
       "        vertical-align: middle;\n",
       "    }\n",
       "\n",
       "    .dataframe tbody tr th {\n",
       "        vertical-align: top;\n",
       "    }\n",
       "\n",
       "    .dataframe thead th {\n",
       "        text-align: right;\n",
       "    }\n",
       "</style>\n",
       "<table border=\"1\" class=\"dataframe\">\n",
       "  <thead>\n",
       "    <tr style=\"text-align: right;\">\n",
       "      <th></th>\n",
       "      <th>date</th>\n",
       "      <th>group</th>\n",
       "      <th>orders</th>\n",
       "      <th>buyers</th>\n",
       "      <th>revenue</th>\n",
       "      <th>visitors</th>\n",
       "    </tr>\n",
       "  </thead>\n",
       "  <tbody>\n",
       "    <tr>\n",
       "      <th>0</th>\n",
       "      <td>2019-08-01</td>\n",
       "      <td>A</td>\n",
       "      <td>23</td>\n",
       "      <td>19</td>\n",
       "      <td>142779</td>\n",
       "      <td>719</td>\n",
       "    </tr>\n",
       "    <tr>\n",
       "      <th>1</th>\n",
       "      <td>2019-08-01</td>\n",
       "      <td>B</td>\n",
       "      <td>17</td>\n",
       "      <td>17</td>\n",
       "      <td>59758</td>\n",
       "      <td>713</td>\n",
       "    </tr>\n",
       "    <tr>\n",
       "      <th>2</th>\n",
       "      <td>2019-08-02</td>\n",
       "      <td>A</td>\n",
       "      <td>42</td>\n",
       "      <td>36</td>\n",
       "      <td>234381</td>\n",
       "      <td>1338</td>\n",
       "    </tr>\n",
       "    <tr>\n",
       "      <th>3</th>\n",
       "      <td>2019-08-02</td>\n",
       "      <td>B</td>\n",
       "      <td>40</td>\n",
       "      <td>39</td>\n",
       "      <td>221801</td>\n",
       "      <td>1294</td>\n",
       "    </tr>\n",
       "    <tr>\n",
       "      <th>4</th>\n",
       "      <td>2019-08-03</td>\n",
       "      <td>A</td>\n",
       "      <td>66</td>\n",
       "      <td>60</td>\n",
       "      <td>346854</td>\n",
       "      <td>1845</td>\n",
       "    </tr>\n",
       "  </tbody>\n",
       "</table>\n",
       "</div>"
      ],
      "text/plain": [
       "        date group  orders  buyers  revenue  visitors\n",
       "0 2019-08-01     A      23      19   142779       719\n",
       "1 2019-08-01     B      17      17    59758       713\n",
       "2 2019-08-02     A      42      36   234381      1338\n",
       "3 2019-08-02     B      40      39   221801      1294\n",
       "4 2019-08-03     A      66      60   346854      1845"
      ]
     },
     "metadata": {},
     "output_type": "display_data"
    }
   ],
   "source": [
    "cumulative_data = orders_aggregated.merge(visitors_aggregated, left_on=['date', 'group'], right_on=['date', 'group'])\n",
    "cumulative_data.columns = ['date', 'group', 'orders', 'buyers', 'revenue', 'visitors']\n",
    "display(cumulative_data.head())"
   ]
  },
  {
   "cell_type": "markdown",
   "metadata": {},
   "source": [
    "Выведем на экран минимальную и максимальную даты. Это пригодится нам далее при построении графиков:"
   ]
  },
  {
   "cell_type": "code",
   "execution_count": 26,
   "metadata": {},
   "outputs": [
    {
     "data": {
      "text/plain": [
       "'Minimum date in cumulative_data: 2019-08-01 00:00:00'"
      ]
     },
     "metadata": {},
     "output_type": "display_data"
    },
    {
     "data": {
      "text/plain": [
       "'Maximum date in cumulative_data: 2019-08-31 00:00:00'"
      ]
     },
     "metadata": {},
     "output_type": "display_data"
    }
   ],
   "source": [
    "display(f'Minimum date in cumulative_data: {cumulative_data.date.min()}')\n",
    "display(f'Maximum date in cumulative_data: {cumulative_data.date.max()}')"
   ]
  },
  {
   "cell_type": "markdown",
   "metadata": {},
   "source": [
    "Разделим датафрейм `cumulative_data` на две таблицы по соответствующим группам А/В теста - `cumulative_revenue_A` и `cumulative_revenue_B` (это потребуется ниже):"
   ]
  },
  {
   "cell_type": "code",
   "execution_count": 27,
   "metadata": {},
   "outputs": [],
   "source": [
    "cumulative_revenue_A = cumulative_data.query('group == \"A\"')[['date','revenue', 'orders']]\n",
    "cumulative_revenue_B = cumulative_data.query('group == \"B\"')[['date','revenue', 'orders']]"
   ]
  },
  {
   "cell_type": "markdown",
   "metadata": {},
   "source": [
    "Построим графики кумулятивной выручки по дням и группам A/B-тестирования:"
   ]
  },
  {
   "cell_type": "code",
   "execution_count": 28,
   "metadata": {},
   "outputs": [
    {
     "data": {
      "image/png": "[encoded data removed]",
      "text/plain": [
       "<Figure size 1296x576 with 1 Axes>"
      ]
     },
     "metadata": {},
     "output_type": "display_data"
    }
   ],
   "source": [
    "sns.set_style('darkgrid')\n",
    "plt.figure(figsize=(18,8))\n",
    "plt.plot(cumulative_revenue_A['date'], cumulative_revenue_A['revenue'], label='A')\n",
    "plt.plot(cumulative_revenue_B['date'], cumulative_revenue_B['revenue'], label='B')\n",
    "plt.xlim([dt.datetime(2019, 8, 1), dt.datetime(2019, 8, 31)])\n",
    "plt.title('Кумулятивная выручка по группам')\n",
    "plt.xlabel('Даты')\n",
    "plt.ylabel('Кумулятивная выручка')\n",
    "plt.legend(prop=dict(size=18), title='Группы')\n",
    "plt.show()"
   ]
  },
  {
   "cell_type": "markdown",
   "metadata": {},
   "source": [
    "Как мы видим, в обоих группах выручка почти равномерно увеличивается в течение всего теста. Однако, в группе В с 18 августа по 19 августа зафиксирован резкий рост, в то время как в группе А подобной динамики не наблюдается. Это может говорить как об увеличении числа заказов, так и о появлении аномально дорогих заказов, искажающих выборку."
   ]
  },
  {
   "cell_type": "markdown",
   "metadata": {},
   "source": [
    "### Кумулятивный средний чек по группам"
   ]
  },
  {
   "cell_type": "markdown",
   "metadata": {},
   "source": [
    "Рассчитаем средний чек для каждой из групп, разделив кумулятивную выручку на количество заказов и построим график кумулятивного среднего чека по группам. Значения кумулятивного среднего чека при этом не будем записывать в таблицу, а просто отразим их визуально:"
   ]
  },
  {
   "cell_type": "code",
   "execution_count": 29,
   "metadata": {},
   "outputs": [
    {
     "data": {
      "image/png": "[encoded data removed]",
      "text/plain": [
       "<Figure size 1296x576 with 1 Axes>"
      ]
     },
     "metadata": {},
     "output_type": "display_data"
    }
   ],
   "source": [
    "sns.set_style('darkgrid')\n",
    "plt.figure(figsize=(18,8))\n",
    "plt.plot(cumulative_revenue_A['date'], cumulative_revenue_A['revenue']/cumulative_revenue_A['orders'], label='A')\n",
    "plt.plot(cumulative_revenue_B['date'], cumulative_revenue_B['revenue']/cumulative_revenue_B['orders'], label='B')\n",
    "plt.xlim([dt.datetime(2019, 8, 1), dt.datetime(2019, 8, 31)])\n",
    "plt.title('Кумулятивный средний чек по группам')\n",
    "plt.xlabel('Даты')\n",
    "plt.ylabel('Кумулятивный средний чек')\n",
    "plt.legend(prop=dict(size=18), title='Группы')\n",
    "plt.show()"
   ]
  },
  {
   "cell_type": "markdown",
   "metadata": {},
   "source": [
    "Средний чек по обеим группам колеблется вплоть до 15 августа, после этого фиксируется превышение среднего чека в группе В над средним чеком группы А. Однако, примерно 18 августа (т.е. во второй половине теста) в группе В зарегистрирован резкий всплеск, что подтверждает теорию об аномально дорогих заказах в этой группе на тот период времени."
   ]
  },
  {
   "cell_type": "markdown",
   "metadata": {},
   "source": [
    "### Относительное изменение кумулятивного среднего чека группы B к группе A"
   ]
  },
  {
   "cell_type": "markdown",
   "metadata": {},
   "source": [
    "Построим график относительного различия для среднего чека. Для этого сперва соберём данные из `cumulative_revenue_A` и `cumulative_revenue_B` в один датафрейм:"
   ]
  },
  {
   "cell_type": "code",
   "execution_count": 30,
   "metadata": {},
   "outputs": [],
   "source": [
    "merged_cumulative_revenue = (\n",
    "    cumulative_revenue_A\n",
    "    .merge(cumulative_revenue_B, left_on='date', right_on='date', how='left', suffixes=['A', 'B'])\n",
    ")"
   ]
  },
  {
   "cell_type": "markdown",
   "metadata": {},
   "source": [
    "Найдём относительное различие кумулятивного среднего чека по формуле:\n",
    "      \n",
    "    средний чек группы B / (средний чек группы А - 1)\n",
    "    \n",
    "и построим соответствующий график:"
   ]
  },
  {
   "cell_type": "code",
   "execution_count": 31,
   "metadata": {},
   "outputs": [
    {
     "data": {
      "image/png": "[encoded data removed]",
      "text/plain": [
       "<Figure size 1296x576 with 1 Axes>"
      ]
     },
     "metadata": {},
     "output_type": "display_data"
    }
   ],
   "source": [
    "sns.set_style('darkgrid')\n",
    "plt.figure(figsize=(18,8))\n",
    "plt.plot(\n",
    "    merged_cumulative_revenue['date'], \n",
    "    (merged_cumulative_revenue['revenueB']/merged_cumulative_revenue['ordersB'])/\n",
    "    (merged_cumulative_revenue['revenueA']/merged_cumulative_revenue['ordersA'])-1)\n",
    "\n",
    "plt.xlim([dt.datetime(2019, 8, 1), dt.datetime(2019, 8, 31)])\n",
    "plt.title('Относительное изменение кумулятивного среднего чека группы B к группе A')\n",
    "plt.xlabel('Даты')\n",
    "plt.ylabel('Относительное изменение среднего чека')\n",
    "# добавляем ось X\n",
    "plt.axhline(y=0, color='black', linestyle='--')\n",
    "plt.show()"
   ]
  },
  {
   "cell_type": "markdown",
   "metadata": {},
   "source": [
    "Мы можем наблюдать, что на всём протяжении теста график различия между группами резко скачет. В частности, в период с 11 по 15 августа средний чек группы А был выше аналогичного в группе В, а начиная с 18 августа на группу В стали влиять ранее упомянутые аномально дорогие заказы. Позднее необходимо будет провести с ними дополнительную работу."
   ]
  },
  {
   "cell_type": "markdown",
   "metadata": {},
   "source": [
    "### Кумулятивная конверсия по группам"
   ]
  },
  {
   "cell_type": "markdown",
   "metadata": {},
   "source": [
    "Рассчитаем кумулятивную конверсию и внесём её в столбец датафрейма `cumulative_data`:"
   ]
  },
  {
   "cell_type": "code",
   "execution_count": 32,
   "metadata": {},
   "outputs": [],
   "source": [
    "cumulative_data['conversion'] = cumulative_data.orders / cumulative_data.visitors"
   ]
  },
  {
   "cell_type": "markdown",
   "metadata": {},
   "source": [
    "Разделим датафрейм `cumulative_data` на две таблицы по соответствующим группам А/В теста - `cumulative_data_A` и `cumulative_data_B` (это потребуется ниже):"
   ]
  },
  {
   "cell_type": "code",
   "execution_count": 33,
   "metadata": {},
   "outputs": [],
   "source": [
    "cumulative_data_A = cumulative_data.query('group == \"A\"')\n",
    "cumulative_data_B = cumulative_data.query('group == \"B\"')"
   ]
  },
  {
   "cell_type": "markdown",
   "metadata": {},
   "source": [
    "Теперь построим график кумулятивной конверсии по группам:"
   ]
  },
  {
   "cell_type": "code",
   "execution_count": 34,
   "metadata": {},
   "outputs": [
    {
     "data": {
      "image/png": "[encoded data removed]",
      "text/plain": [
       "<Figure size 1296x576 with 1 Axes>"
      ]
     },
     "metadata": {},
     "output_type": "display_data"
    }
   ],
   "source": [
    "sns.set_style('darkgrid')\n",
    "plt.figure(figsize=(18,8))\n",
    "plt.plot(cumulative_data_A['date'], cumulative_data_A['conversion'], label='A')\n",
    "plt.plot(cumulative_data_B['date'], cumulative_data_B['conversion'], label='B')\n",
    "plt.xlim([dt.datetime(2019, 8, 1), dt.datetime(2019, 8, 31)])\n",
    "plt.ylim([0.025, 0.040])\n",
    "plt.title('Кумулятивная конверсия по группам')\n",
    "plt.xlabel('Даты')\n",
    "plt.ylabel('Кумулятивная конверсия')\n",
    "plt.legend(prop=dict(size=18), title='Группы')\n",
    "plt.show()"
   ]
  },
  {
   "cell_type": "markdown",
   "metadata": {},
   "source": [
    "Конверсия групп какое-то время колебалась, но начиная с 6 августа стабилизировалась, продемонстрировав равномерное превышение конверсии группы В над конверсией группы А. Тенденции к явному снижению у конверсии В к концу теста не наблюдается."
   ]
  },
  {
   "cell_type": "markdown",
   "metadata": {},
   "source": [
    "### Относительное изменение кумулятивной конверсии группы B к группе A"
   ]
  },
  {
   "cell_type": "markdown",
   "metadata": {},
   "source": [
    "Объединим данные по конверсиям из `cumulative_data_A` и `cumulative_data_B` в один датафрейм:"
   ]
  },
  {
   "cell_type": "code",
   "execution_count": 35,
   "metadata": {},
   "outputs": [],
   "source": [
    "merged_cumulative_conversions = (\n",
    "    cumulative_data_A[['date','conversion']]\n",
    "    .merge(cumulative_data_B[['date','conversion']], left_on='date', right_on='date', how='left', suffixes=['A', 'B'])\n",
    ")"
   ]
  },
  {
   "cell_type": "markdown",
   "metadata": {},
   "source": [
    "Найдём относительное различие кумулятивной конверсии по формуле:\n",
    "      \n",
    "    конверсия группы B / (конверсия группы А - 1)\n",
    "    \n",
    "и построим соответствующий график:"
   ]
  },
  {
   "cell_type": "code",
   "execution_count": 36,
   "metadata": {},
   "outputs": [
    {
     "data": {
      "image/png": "[encoded data removed]",
      "text/plain": [
       "<Figure size 1296x576 with 1 Axes>"
      ]
     },
     "metadata": {},
     "output_type": "display_data"
    }
   ],
   "source": [
    "sns.set_style('darkgrid')\n",
    "plt.figure(figsize=(18,8))\n",
    "plt.plot(\n",
    "    merged_cumulative_conversions['date'], \n",
    "    merged_cumulative_conversions['conversionB']/\n",
    "    merged_cumulative_conversions['conversionA']-1)\n",
    "plt.xlim([dt.datetime(2019, 8, 1), dt.datetime(2019, 8, 31)])\n",
    "plt.ylim([-0.20, 0.40])\n",
    "plt.title('Относительное изменение кумулятивной конверсии группы B к группе A')\n",
    "plt.xlabel('Даты')\n",
    "plt.ylabel('Относительное изменение кумулятивной конверсии')\n",
    "# добавляем ось X\n",
    "plt.axhline(y=0, color='black', linestyle='--')\n",
    "# добавляем линию для оценки \"хвоста\"\n",
    "plt.axhline(y=0.2, color='grey', linestyle='--')\n",
    "plt.show()"
   ]
  },
  {
   "cell_type": "markdown",
   "metadata": {},
   "source": [
    "Как мы уже замечали ранее, изначально конверсии колебались, но с 6 августа конверсия группы В начала значимо превышать конверсию группы А. Ближе к концу теста превышение конверсии В составило примерно от 10 до 15% относительно конверсии в группе А. В целом можно считать обе конверсии, равно как и их относительное изменение, устоявшимися."
   ]
  },
  {
   "cell_type": "markdown",
   "metadata": {},
   "source": [
    "### Количество заказов по пользователям"
   ]
  },
  {
   "cell_type": "markdown",
   "metadata": {},
   "source": [
    "Оценим распределение количества заказов по пользователям. Для начала найдём число заказов по пользователям, сохраним это в `orders_by_users`, для удобства переименуем столбцы и выведем на экран датафрейм, отсортированный по убыванию количества заказов:"
   ]
  },
  {
   "cell_type": "code",
   "execution_count": 37,
   "metadata": {},
   "outputs": [
    {
     "data": {
      "text/html": [
       "<div>\n",
       "<style scoped>\n",
       "    .dataframe tbody tr th:only-of-type {\n",
       "        vertical-align: middle;\n",
       "    }\n",
       "\n",
       "    .dataframe tbody tr th {\n",
       "        vertical-align: top;\n",
       "    }\n",
       "\n",
       "    .dataframe thead th {\n",
       "        text-align: right;\n",
       "    }\n",
       "</style>\n",
       "<table border=\"1\" class=\"dataframe\">\n",
       "  <thead>\n",
       "    <tr style=\"text-align: right;\">\n",
       "      <th></th>\n",
       "      <th>user_id</th>\n",
       "      <th>orders</th>\n",
       "    </tr>\n",
       "  </thead>\n",
       "  <tbody>\n",
       "    <tr>\n",
       "      <th>1023</th>\n",
       "      <td>4256040402</td>\n",
       "      <td>11</td>\n",
       "    </tr>\n",
       "    <tr>\n",
       "      <th>591</th>\n",
       "      <td>2458001652</td>\n",
       "      <td>11</td>\n",
       "    </tr>\n",
       "    <tr>\n",
       "      <th>569</th>\n",
       "      <td>2378935119</td>\n",
       "      <td>9</td>\n",
       "    </tr>\n",
       "    <tr>\n",
       "      <th>487</th>\n",
       "      <td>2038680547</td>\n",
       "      <td>8</td>\n",
       "    </tr>\n",
       "    <tr>\n",
       "      <th>44</th>\n",
       "      <td>199603092</td>\n",
       "      <td>5</td>\n",
       "    </tr>\n",
       "    <tr>\n",
       "      <th>744</th>\n",
       "      <td>3062433592</td>\n",
       "      <td>5</td>\n",
       "    </tr>\n",
       "    <tr>\n",
       "      <th>55</th>\n",
       "      <td>237748145</td>\n",
       "      <td>5</td>\n",
       "    </tr>\n",
       "    <tr>\n",
       "      <th>917</th>\n",
       "      <td>3803269165</td>\n",
       "      <td>5</td>\n",
       "    </tr>\n",
       "    <tr>\n",
       "      <th>299</th>\n",
       "      <td>1230306981</td>\n",
       "      <td>5</td>\n",
       "    </tr>\n",
       "    <tr>\n",
       "      <th>897</th>\n",
       "      <td>3717692402</td>\n",
       "      <td>5</td>\n",
       "    </tr>\n",
       "  </tbody>\n",
       "</table>\n",
       "</div>"
      ],
      "text/plain": [
       "         user_id  orders\n",
       "1023  4256040402      11\n",
       "591   2458001652      11\n",
       "569   2378935119       9\n",
       "487   2038680547       8\n",
       "44     199603092       5\n",
       "744   3062433592       5\n",
       "55     237748145       5\n",
       "917   3803269165       5\n",
       "299   1230306981       5\n",
       "897   3717692402       5"
      ]
     },
     "metadata": {},
     "output_type": "display_data"
    }
   ],
   "source": [
    "orders_by_users = (\n",
    "    orders.groupby('visitor_id', as_index=False)\n",
    "    .agg({'transaction_id': 'nunique'})\n",
    ")\n",
    "orders_by_users.columns = ['user_id', 'orders']\n",
    "\n",
    "display(orders_by_users.sort_values(by='orders', ascending=False).head(10))"
   ]
  },
  {
   "cell_type": "markdown",
   "metadata": {},
   "source": [
    "Сгенерируем номера наблюдений:"
   ]
  },
  {
   "cell_type": "code",
   "execution_count": 38,
   "metadata": {},
   "outputs": [],
   "source": [
    "x_values = pd.Series(range(0, len(orders_by_users)))"
   ]
  },
  {
   "cell_type": "markdown",
   "metadata": {},
   "source": [
    "Построим график рассеяния по характеристикам выше:"
   ]
  },
  {
   "cell_type": "code",
   "execution_count": 39,
   "metadata": {},
   "outputs": [
    {
     "data": {
      "image/png": "[encoded data removed]",
      "text/plain": [
       "<Figure size 1296x576 with 1 Axes>"
      ]
     },
     "metadata": {},
     "output_type": "display_data"
    }
   ],
   "source": [
    "sns.set_style('darkgrid')\n",
    "plt.figure(figsize=(18,8))\n",
    "sns.scatterplot(data=orders_by_users, x=x_values, y='orders', alpha=0.5)\n",
    "plt.title('Количество заказов по пользователям')\n",
    "plt.xlabel('Номер наблюдения')\n",
    "plt.ylabel('Количество заказов')\n",
    "plt.show()"
   ]
  },
  {
   "cell_type": "markdown",
   "metadata": {},
   "source": [
    "В основной массе каждый пользователь сделал по одному заказу. Людей, сделавших по 4 заказа и более достаточно мало - настолько, что их можно считать аномалиями.\n",
    "\n",
    "Для того, чтобы выяснить, является ли аномальным количеством 2 или 3 заказа, воспользуемся выборочными перцентилями в пункте ниже."
   ]
  },
  {
   "cell_type": "markdown",
   "metadata": {},
   "source": [
    "### 95-й и 99-й перцентили количества заказов на пользователя"
   ]
  },
  {
   "cell_type": "markdown",
   "metadata": {},
   "source": [
    "Рассчитаем 95-й и 99-й перцентили количества заказов на пользователя при помощи метода `np.percentile()`:"
   ]
  },
  {
   "cell_type": "code",
   "execution_count": 40,
   "metadata": {},
   "outputs": [
    {
     "data": {
      "text/plain": [
       "'95 percentile: 2.0'"
      ]
     },
     "metadata": {},
     "output_type": "display_data"
    },
    {
     "data": {
      "text/plain": [
       "'99 percentile: 4.0'"
      ]
     },
     "metadata": {},
     "output_type": "display_data"
    }
   ],
   "source": [
    "display(f'95 percentile: {np.percentile(orders_by_users.orders, 95)}')\n",
    "display(f'99 percentile: {np.percentile(orders_by_users.orders, 99)}')"
   ]
  },
  {
   "cell_type": "markdown",
   "metadata": {},
   "source": [
    "То есть, 1% всех пользователей совершали более 4 заказов и 5% - более 2 заказов. Таким образом, **2 заказа можно принять как границу для определения аномальных пользователей**, и в дальнейшем провести фильтрацию по этому значению."
   ]
  },
  {
   "cell_type": "markdown",
   "metadata": {},
   "source": [
    "### Стоимость заказов по пользователям"
   ]
  },
  {
   "cell_type": "markdown",
   "metadata": {},
   "source": [
    "Далее оценим распределение стоимости заказов по пользователям. Вновь сгенерируем количество наблюдений:"
   ]
  },
  {
   "cell_type": "code",
   "execution_count": 41,
   "metadata": {},
   "outputs": [],
   "source": [
    "x_values = pd.Series(range(0, len(orders.revenue)))"
   ]
  },
  {
   "cell_type": "markdown",
   "metadata": {},
   "source": [
    "Построим диаграмму рассеяния стоимости заказов:"
   ]
  },
  {
   "cell_type": "code",
   "execution_count": 42,
   "metadata": {},
   "outputs": [
    {
     "data": {
      "image/png": "[encoded data removed]",
      "text/plain": [
       "<Figure size 1296x576 with 1 Axes>"
      ]
     },
     "metadata": {},
     "output_type": "display_data"
    }
   ],
   "source": [
    "sns.set_style('darkgrid')\n",
    "plt.figure(figsize=(18,8))\n",
    "sns.scatterplot(data=orders, x=x_values, y='revenue', alpha=0.5)\n",
    "plt.title('Стоимость заказов по пользователям')\n",
    "plt.xlabel('Номер наблюдения')\n",
    "plt.ylabel('Стоимость заказов (млн)')\n",
    "# добавляем линию для оценки основной массы стоимости заказов\n",
    "plt.axhline(y=100000, color='grey', linestyle='--')\n",
    "plt.show()"
   ]
  },
  {
   "cell_type": "markdown",
   "metadata": {},
   "source": [
    "Исходя из картины выше, основная стоимость заказов находится в диапазоне до 50 тыс. Встречаются заказы на сумму 100 тыс., 200 тыс. и даже выше 1.2 млн., но они единичны и являются скорее аномалиями.\n",
    "\n",
    "Выясним точную границу для определения аномальных заказов при помощи перцентилей ниже."
   ]
  },
  {
   "cell_type": "markdown",
   "metadata": {},
   "source": [
    "### 95-й и 99-й перцентили стоимости заказов"
   ]
  },
  {
   "cell_type": "markdown",
   "metadata": {},
   "source": [
    "Рассчитаем 95-й и 99-й перцентили стоимости заказов на пользователя при помощи метода `np.percentile()`:"
   ]
  },
  {
   "cell_type": "code",
   "execution_count": 43,
   "metadata": {},
   "outputs": [
    {
     "data": {
      "text/plain": [
       "'95 percentile: 28000.000000000004'"
      ]
     },
     "metadata": {},
     "output_type": "display_data"
    },
    {
     "data": {
      "text/plain": [
       "'99 percentile: 58233.19999999999'"
      ]
     },
     "metadata": {},
     "output_type": "display_data"
    }
   ],
   "source": [
    "display(f'95 percentile: {np.percentile(orders.revenue, 95)}')\n",
    "display(f'99 percentile: {np.percentile(orders.revenue, 99)}')"
   ]
  },
  {
   "cell_type": "markdown",
   "metadata": {},
   "source": [
    "Не более чем у 5% пользователей чек выше 28 тыс. и только у 1% он превышает 58 тыс. Это говорит о том, что все **заказы свыше 28 тыс. можно счесть аномально дорогими** и в дальнейшем их стоит исключить из выборки."
   ]
  },
  {
   "cell_type": "markdown",
   "metadata": {},
   "source": [
    "### Расчёт статистической значимости различий в конверсии между группами по «сырым» данным"
   ]
  },
  {
   "cell_type": "markdown",
   "metadata": {},
   "source": [
    "Заметим одну важную деталь. В классическом понимании конверсия - это отношение уникальных покупателей к общему количеству уникальных посетителей за всё время проведения теста. По условию задачи мы можем выяснить первое, но второе нам не известно, поскольку данные в `visitors` изначально пришли к нам агрегированными, без указаний конкретных ID. Рассчитать общее количество посетителей, просто сложив их между собой, мы тоже не можем - каждый отдельный посетитель мог посетить (и скорее всего посещал) сайт интернет-магазина более одного раза за весь период, и это отразилось в общей статистике заходов в `visitors`.\n",
    "\n",
    "Именно поэтому ниже мы *будем сравнивать распределение количества покупок на человека в разных группах*, а не считать конверсию в привычном её понимании.\n",
    "\n",
    "Сперва разделим пользователей по группам (А и В), где каждому пользователю, совершившему хотя бы 1 заказ, будет указано число этих заказов. Для удобства переименуем в новых датафреймах столбцы:"
   ]
  },
  {
   "cell_type": "code",
   "execution_count": 44,
   "metadata": {},
   "outputs": [],
   "source": [
    "orders_by_users_A = (\n",
    "    orders\n",
    "    .query('group == \"A\"')\n",
    "    .groupby('visitor_id', as_index=False)\n",
    "    .agg({'transaction_id': pd.Series.nunique})\n",
    ")\n",
    "orders_by_users_A.columns = ['user_id', 'orders']\n",
    "\n",
    "orders_by_users_B = (\n",
    "    orders\n",
    "    .query('group == \"B\"')\n",
    "    .groupby('visitor_id', as_index=False)\n",
    "    .agg({'transaction_id': pd.Series.nunique})\n",
    ")\n",
    "orders_by_users_B.columns = ['user_id', 'orders']"
   ]
  },
  {
   "cell_type": "markdown",
   "metadata": {},
   "source": [
    "Выберем из `visitors` даты и посетителей для каждой из групп. Внесём их в соответствующие датафреймы:"
   ]
  },
  {
   "cell_type": "code",
   "execution_count": 45,
   "metadata": {},
   "outputs": [
    {
     "data": {
      "text/html": [
       "<div>\n",
       "<style scoped>\n",
       "    .dataframe tbody tr th:only-of-type {\n",
       "        vertical-align: middle;\n",
       "    }\n",
       "\n",
       "    .dataframe tbody tr th {\n",
       "        vertical-align: top;\n",
       "    }\n",
       "\n",
       "    .dataframe thead th {\n",
       "        text-align: right;\n",
       "    }\n",
       "</style>\n",
       "<table border=\"1\" class=\"dataframe\">\n",
       "  <thead>\n",
       "    <tr style=\"text-align: right;\">\n",
       "      <th></th>\n",
       "      <th>date</th>\n",
       "      <th>visitors_per_date_A</th>\n",
       "    </tr>\n",
       "  </thead>\n",
       "  <tbody>\n",
       "    <tr>\n",
       "      <th>0</th>\n",
       "      <td>2019-08-01</td>\n",
       "      <td>719</td>\n",
       "    </tr>\n",
       "    <tr>\n",
       "      <th>1</th>\n",
       "      <td>2019-08-02</td>\n",
       "      <td>619</td>\n",
       "    </tr>\n",
       "    <tr>\n",
       "      <th>2</th>\n",
       "      <td>2019-08-03</td>\n",
       "      <td>507</td>\n",
       "    </tr>\n",
       "    <tr>\n",
       "      <th>3</th>\n",
       "      <td>2019-08-04</td>\n",
       "      <td>717</td>\n",
       "    </tr>\n",
       "    <tr>\n",
       "      <th>4</th>\n",
       "      <td>2019-08-05</td>\n",
       "      <td>756</td>\n",
       "    </tr>\n",
       "  </tbody>\n",
       "</table>\n",
       "</div>"
      ],
      "text/plain": [
       "        date  visitors_per_date_A\n",
       "0 2019-08-01                  719\n",
       "1 2019-08-02                  619\n",
       "2 2019-08-03                  507\n",
       "3 2019-08-04                  717\n",
       "4 2019-08-05                  756"
      ]
     },
     "metadata": {},
     "output_type": "display_data"
    }
   ],
   "source": [
    "visitors_A_daily = visitors.query('group == \"A\"')[['date', 'visitors']]\n",
    "visitors_A_daily.columns = ['date', 'visitors_per_date_A']\n",
    "display(visitors_A_daily.head())"
   ]
  },
  {
   "cell_type": "code",
   "execution_count": 46,
   "metadata": {},
   "outputs": [
    {
     "data": {
      "text/html": [
       "<div>\n",
       "<style scoped>\n",
       "    .dataframe tbody tr th:only-of-type {\n",
       "        vertical-align: middle;\n",
       "    }\n",
       "\n",
       "    .dataframe tbody tr th {\n",
       "        vertical-align: top;\n",
       "    }\n",
       "\n",
       "    .dataframe thead th {\n",
       "        text-align: right;\n",
       "    }\n",
       "</style>\n",
       "<table border=\"1\" class=\"dataframe\">\n",
       "  <thead>\n",
       "    <tr style=\"text-align: right;\">\n",
       "      <th></th>\n",
       "      <th>date</th>\n",
       "      <th>visitors_per_date_B</th>\n",
       "    </tr>\n",
       "  </thead>\n",
       "  <tbody>\n",
       "    <tr>\n",
       "      <th>31</th>\n",
       "      <td>2019-08-01</td>\n",
       "      <td>713</td>\n",
       "    </tr>\n",
       "    <tr>\n",
       "      <th>32</th>\n",
       "      <td>2019-08-02</td>\n",
       "      <td>581</td>\n",
       "    </tr>\n",
       "    <tr>\n",
       "      <th>33</th>\n",
       "      <td>2019-08-03</td>\n",
       "      <td>509</td>\n",
       "    </tr>\n",
       "    <tr>\n",
       "      <th>34</th>\n",
       "      <td>2019-08-04</td>\n",
       "      <td>770</td>\n",
       "    </tr>\n",
       "    <tr>\n",
       "      <th>35</th>\n",
       "      <td>2019-08-05</td>\n",
       "      <td>707</td>\n",
       "    </tr>\n",
       "  </tbody>\n",
       "</table>\n",
       "</div>"
      ],
      "text/plain": [
       "         date  visitors_per_date_B\n",
       "31 2019-08-01                  713\n",
       "32 2019-08-02                  581\n",
       "33 2019-08-03                  509\n",
       "34 2019-08-04                  770\n",
       "35 2019-08-05                  707"
      ]
     },
     "metadata": {},
     "output_type": "display_data"
    }
   ],
   "source": [
    "visitors_B_daily = visitors.query('group == \"B\"')[['date', 'visitors']]\n",
    "visitors_B_daily.columns = ['date', 'visitors_per_date_B']\n",
    "display(visitors_B_daily.head())"
   ]
  },
  {
   "cell_type": "markdown",
   "metadata": {},
   "source": [
    "Соберём оба датафрейма в `raw_data` и выведем его первые строки на экран:"
   ]
  },
  {
   "cell_type": "code",
   "execution_count": 47,
   "metadata": {},
   "outputs": [
    {
     "data": {
      "text/html": [
       "<div>\n",
       "<style scoped>\n",
       "    .dataframe tbody tr th:only-of-type {\n",
       "        vertical-align: middle;\n",
       "    }\n",
       "\n",
       "    .dataframe tbody tr th {\n",
       "        vertical-align: top;\n",
       "    }\n",
       "\n",
       "    .dataframe thead th {\n",
       "        text-align: right;\n",
       "    }\n",
       "</style>\n",
       "<table border=\"1\" class=\"dataframe\">\n",
       "  <thead>\n",
       "    <tr style=\"text-align: right;\">\n",
       "      <th></th>\n",
       "      <th>date</th>\n",
       "      <th>visitors_per_date_A</th>\n",
       "      <th>visitors_per_date_B</th>\n",
       "    </tr>\n",
       "  </thead>\n",
       "  <tbody>\n",
       "    <tr>\n",
       "      <th>0</th>\n",
       "      <td>2019-08-01</td>\n",
       "      <td>719</td>\n",
       "      <td>713</td>\n",
       "    </tr>\n",
       "    <tr>\n",
       "      <th>1</th>\n",
       "      <td>2019-08-02</td>\n",
       "      <td>619</td>\n",
       "      <td>581</td>\n",
       "    </tr>\n",
       "    <tr>\n",
       "      <th>2</th>\n",
       "      <td>2019-08-03</td>\n",
       "      <td>507</td>\n",
       "      <td>509</td>\n",
       "    </tr>\n",
       "    <tr>\n",
       "      <th>3</th>\n",
       "      <td>2019-08-04</td>\n",
       "      <td>717</td>\n",
       "      <td>770</td>\n",
       "    </tr>\n",
       "    <tr>\n",
       "      <th>4</th>\n",
       "      <td>2019-08-05</td>\n",
       "      <td>756</td>\n",
       "      <td>707</td>\n",
       "    </tr>\n",
       "  </tbody>\n",
       "</table>\n",
       "</div>"
      ],
      "text/plain": [
       "        date  visitors_per_date_A  visitors_per_date_B\n",
       "0 2019-08-01                  719                  713\n",
       "1 2019-08-02                  619                  581\n",
       "2 2019-08-03                  507                  509\n",
       "3 2019-08-04                  717                  770\n",
       "4 2019-08-05                  756                  707"
      ]
     },
     "metadata": {},
     "output_type": "display_data"
    }
   ],
   "source": [
    "raw_data = (\n",
    "    visitors_A_daily\n",
    "    .merge(visitors_B_daily, left_on='date', right_on='date', how='left'))\n",
    "\n",
    "display(raw_data.head())"
   ]
  },
  {
   "cell_type": "markdown",
   "metadata": {},
   "source": [
    "Объявим переменные `sample_A` и `sample_B`, в которых пользователям из разных групп будет соответствовать количество заказов. Тем, кто ничего не заказал, будут соответствовать нули. Это нужно, чтобы подготовить выборки к проверке критерием Манна-Уитни:"
   ]
  },
  {
   "cell_type": "code",
   "execution_count": 48,
   "metadata": {},
   "outputs": [],
   "source": [
    "sample_A = (pd.concat(\n",
    "    [orders_by_users_A.orders,\n",
    "     pd.Series(0, index=np.arange(\n",
    "         raw_data.visitors_per_date_A.sum() - len(orders_by_users_A.orders)), name='orders')],\n",
    "    axis=0))\n",
    "\n",
    "sample_B = (pd.concat(\n",
    "    [orders_by_users_B.orders,\n",
    "     pd.Series(0, index=np.arange(\n",
    "         raw_data.visitors_per_date_B.sum() - len(orders_by_users_B.orders)), name='orders')],\n",
    "    axis=0))"
   ]
  },
  {
   "cell_type": "markdown",
   "metadata": {},
   "source": [
    "Зададим параметр статистической значимости `alpha` равным `0.05`.\n",
    "\n",
    "Установим нулевую и альтернативную гипотезы:\n",
    "\n",
    "    Н0 - Нет различий между группами А и В.\n",
    "\n",
    "    Н1 - Есть различия между группами А и В. \n",
    "\n",
    "Применим тест Манна-Уитни и рассчитаем статистическую значимость различий в в среднем количестве заказов между группами по «сырым» данным. Дополнительно выведем относительное отличие среднего количества заказов группы В к аналогичному в группе А:"
   ]
  },
  {
   "cell_type": "code",
   "execution_count": 49,
   "metadata": {},
   "outputs": [
    {
     "name": "stdout",
     "output_type": "stream",
     "text": [
      "P-value: 0.017\n",
      "Относительное отличие: 0.138\n"
     ]
    }
   ],
   "source": [
    "print(\"P-value: {0:.3f}\".format(stats.mannwhitneyu(sample_A, sample_B)[1]))\n",
    "print(\"Относительное отличие: {0:.3f}\".format(sample_B.mean() / sample_A.mean() - 1))"
   ]
  },
  {
   "cell_type": "markdown",
   "metadata": {},
   "source": [
    "Как мы видим, рассчитанное p-value меньше ранее установленного параметра `alpha` - т.е. мы можем отвергнуть нулевую гипотезу в пользу альтернативной. Иначе говоря, предполагается, что различия в средних количествах заказа в группах есть.\n",
    "\n",
    "Согласно второму расчёту, относительное отличие среднего количества заказов группы В к аналогичному в группе А составляет примерно 14%.\n",
    "\n",
    "Далее мы будем фильтровать данные от выбросов и сравнивать результаты расчётов на \"сырых\" и очищенных данных между собой. Возможно, после очистки появятся расхождения."
   ]
  },
  {
   "cell_type": "markdown",
   "metadata": {},
   "source": [
    "### Расчёт статистической значимости различий в среднем чеке заказа между группами по «сырым» данным"
   ]
  },
  {
   "cell_type": "markdown",
   "metadata": {},
   "source": [
    "Начнём с установления нулевой и альтернативной гипотез (последняя будет двусторонней). Они будут звучать следующим образом:\n",
    "\n",
    "    Н0 - Нет различий между группами А и В.\n",
    "\n",
    "    Н1 - Есть различия между группами А и В. \n",
    "\n",
    "Применим тест Манна-Уитни и рассчитаем статистическую значимость различий в среднем чеке заказа между группами по «сырым» данным. Дополнительно выведем относительное отличие среднего чека группы В к аналогичному в группе А:"
   ]
  },
  {
   "cell_type": "code",
   "execution_count": 50,
   "metadata": {},
   "outputs": [
    {
     "data": {
      "text/plain": [
       "'P-value: 0.729'"
      ]
     },
     "metadata": {},
     "output_type": "display_data"
    },
    {
     "data": {
      "text/plain": [
       "'Относительное отличие: 0.259'"
      ]
     },
     "metadata": {},
     "output_type": "display_data"
    }
   ],
   "source": [
    "display('P-value: {0:.3f}'.format(stats.mannwhitneyu(orders[orders.group == 'A'].revenue, orders[orders.group == 'B'].revenue)[1]))\n",
    "display('Относительное отличие: {0:.3f}'.format(orders[orders.group == 'B'].revenue.mean()/orders[orders.group == 'A'].revenue.mean()-1))"
   ]
  },
  {
   "cell_type": "markdown",
   "metadata": {},
   "source": [
    "Если сравнивать с `alpha`, то рассчитанное p-value явно его превышает, что говорит о том, что отвергнуть нулевую гипотезу в пользу альтернативной мы не можем. То есть предполагается, что средние чеки в обеих группах равны.\n",
    "\n",
    "Кроме того, средний чек группы В отличается от аналогичного в группе А на целых 26%, и наблюдаемое различие не является статистически значимым. Нам потребуется очистить данные от выбросов и аномалий, границы которых были определены выше, и вновь рассчитать статистическую значимость данного параметра."
   ]
  },
  {
   "cell_type": "markdown",
   "metadata": {},
   "source": [
    "### Расчёт статистической значимости различий в конверсии между группами по «очищенным» данным"
   ]
  },
  {
   "cell_type": "markdown",
   "metadata": {},
   "source": [
    "Повторим тезис, фигурировавший в **пункте 4.10**: ввиду особенностей исходных данных мы *мы будем сравнивать распределение количества покупок на человека в разных группах, а не считать конверсию в привычном её понимании*.\n",
    "\n",
    "Ранее в **пункте 4.7** мы установили 2 заказа в качестве границы для определения количества заказов на пользователя. Сделаем срез пользователей `users_with_many_orders` с числом заказов больше 2:"
   ]
  },
  {
   "cell_type": "code",
   "execution_count": 51,
   "metadata": {},
   "outputs": [],
   "source": [
    "users_with_many_orders = pd.concat(\n",
    "    [\n",
    "      orders_by_users_A.query('orders > 2').user_id,\n",
    "      orders_by_users_B.query('orders > 2').user_id\n",
    "    ], \n",
    "    axis=0\n",
    ")"
   ]
  },
  {
   "cell_type": "markdown",
   "metadata": {},
   "source": [
    "Далее, в **пункте 4.9** мы установили, что все заказы свыше 28 тыс. можно счесть аномально дорогими. Сделаем срез пользователей `users_with_expensive_orders` с такими заказами:"
   ]
  },
  {
   "cell_type": "code",
   "execution_count": 52,
   "metadata": {},
   "outputs": [],
   "source": [
    "users_with_expensive_orders = orders.query('revenue > 28000').visitor_id"
   ]
  },
  {
   "cell_type": "markdown",
   "metadata": {},
   "source": [
    "Объединим пользователей с большим количеством заказов и пользователей с дорогими заказами в один датафрейм `abnormal_users` при помощи конкатенации, сбросим возможные дубликаты и отсортируем таблицу по возрастанию:"
   ]
  },
  {
   "cell_type": "code",
   "execution_count": 53,
   "metadata": {},
   "outputs": [],
   "source": [
    "abnormal_users = (\n",
    "    pd.concat([users_with_many_orders, users_with_expensive_orders], axis=0)\n",
    "    .drop_duplicates()\n",
    "    .sort_values()\n",
    ")"
   ]
  },
  {
   "cell_type": "markdown",
   "metadata": {},
   "source": [
    "Создадим переменные `sample_A_filtered` и `sample_B_filtered`, в которые сохраним очищенные от аномальных пользователях данные о заказах:"
   ]
  },
  {
   "cell_type": "code",
   "execution_count": 54,
   "metadata": {},
   "outputs": [],
   "source": [
    "sample_A_filtered = pd.concat(\n",
    "    [\n",
    "        orders_by_users_A[\n",
    "            np.logical_not(orders_by_users_A.user_id.isin(abnormal_users))\n",
    "        ]['orders'],\n",
    "        pd.Series(\n",
    "            0,\n",
    "            index=np.arange(\n",
    "                raw_data.visitors_per_date_A.sum() - len(orders_by_users_A.orders)\n",
    "            ),\n",
    "            name='orders',\n",
    "        ),\n",
    "    ],\n",
    "    axis=0,\n",
    ")\n",
    "\n",
    "sample_B_filtered = pd.concat(\n",
    "    [\n",
    "        orders_by_users_B[\n",
    "            np.logical_not(orders_by_users_B.user_id.isin(abnormal_users))\n",
    "        ]['orders'],\n",
    "        pd.Series(\n",
    "            0,\n",
    "            index=np.arange(\n",
    "                raw_data.visitors_per_date_B.sum() - len(orders_by_users_B.orders)\n",
    "            ),\n",
    "            name='orders',\n",
    "        ),\n",
    "    ],\n",
    "    axis=0,\n",
    ")"
   ]
  },
  {
   "cell_type": "markdown",
   "metadata": {},
   "source": [
    "Установим нулевую и альтернативную гипотезы:\n",
    "\n",
    "    Н0 - Нет различий между группами А и В.\n",
    "\n",
    "    Н1 - Есть различия между группами А и В. \n",
    "\n",
    "Применим тест Манна-Уитни и рассчитаем статистическую значимость различий в в среднем количестве заказов между группами по «очищенным» данным. Дополнительно выведем относительное отличие среднего количества заказов группы В к аналогичному в группе А:"
   ]
  },
  {
   "cell_type": "code",
   "execution_count": 55,
   "metadata": {},
   "outputs": [
    {
     "name": "stdout",
     "output_type": "stream",
     "text": [
      "P-value: 0.013\n",
      "Относительное отличие: 0.173\n"
     ]
    }
   ],
   "source": [
    "print(\"P-value: {0:.3f}\".format(stats.mannwhitneyu(sample_A_filtered, sample_B_filtered)[1]))\n",
    "print(\"Относительное отличие: {0:.3f}\".format(sample_B_filtered.mean() / sample_A_filtered.mean() - 1))"
   ]
  },
  {
   "cell_type": "markdown",
   "metadata": {},
   "source": [
    "Как мы видим, рассчитанное p-value по \"очищенным\" данным по-прежнему меньше ранее установленного параметра alpha - т.е. теперь мы с уверенностью можем отвергнуть нулевую гипотезу в пользу альтернативной. Различие в средних количествах заказов в группах есть: группа B по этому показателю превышает группу А на 17%.\n",
    "\n",
    "Статистическая значимость достигнута: группа B значительно лучше группы А."
   ]
  },
  {
   "cell_type": "markdown",
   "metadata": {},
   "source": [
    "### Расчёт статистической значимости различий в среднем чеке заказа между группами по «очищенным» данным"
   ]
  },
  {
   "cell_type": "markdown",
   "metadata": {},
   "source": [
    "Как мы уже помним, в аналогичном расчёте по \"сырым\" данным присутствовали несостыковки. Посмотрим, измпенится ли ситуация после фильтрации аномальных пользователей.\n",
    "\n",
    "Установим нулевую и альтернативную гипотезы (последняя будет двусторонней). Они будут звучать следующим образом:\n",
    "\n",
    "    Н0 - Нет различий между группами А и В.\n",
    "\n",
    "    Н1 - Есть различия между группами А и В. \n",
    "\n",
    "Применим тест Манна-Уитни и рассчитаем статистическую значимость различий в среднем чеке заказа между группами по «очищенным» данным. Дополнительно выведем относительное отличие среднего чека группы В к аналогичному в группе А:"
   ]
  },
  {
   "cell_type": "code",
   "execution_count": 56,
   "metadata": {},
   "outputs": [
    {
     "data": {
      "text/plain": [
       "'P-value: 0.738'"
      ]
     },
     "metadata": {},
     "output_type": "display_data"
    },
    {
     "data": {
      "text/plain": [
       "'Относительное отличие: -0.020'"
      ]
     },
     "metadata": {},
     "output_type": "display_data"
    }
   ],
   "source": [
    "display('P-value: {0:.3f}'.format(stats.mannwhitneyu(orders[\n",
    "        np.logical_and(orders.group == 'A', np.logical_not(orders.visitor_id.isin(abnormal_users))\n",
    "                )]['revenue'],\n",
    "            orders[np.logical_and(orders.group == 'B', np.logical_not(orders.visitor_id.isin(abnormal_users)),\n",
    "                )]['revenue'])[1])\n",
    ")\n",
    "\n",
    "display('Относительное отличие: {0:.3f}'.format(orders[np.logical_and(orders.group == 'B',\n",
    "                np.logical_not(orders.visitor_id.isin(abnormal_users)))].revenue.mean()\n",
    "        / orders[np.logical_and(orders.group == 'A',\n",
    "                np.logical_not(orders.visitor_id.isin(abnormal_users)))].revenue.mean() - 1)\n",
    ")"
   ]
  },
  {
   "cell_type": "markdown",
   "metadata": {},
   "source": [
    "Картина по \"очищенным\" данным заметно изменилась:\n",
    "\n",
    "* наблюдаемое различие изменилось с 26% превышения по группе В на 2% превышение по группе А\n",
    "\n",
    "* p-value всё ещё превышает пороговое `alpha`, т.е. различие выше не является статистически значимым и мы не можем отвергнуть нулевую гипотезу в пользу альтернативной; средние чеки в обеих группах равны.\n",
    "\n",
    "Статистическая значимость отличия так и не была достигнута."
   ]
  },
  {
   "cell_type": "markdown",
   "metadata": {},
   "source": [
    "### Решение по результатам теста и промежуточные выводы"
   ]
  },
  {
   "cell_type": "markdown",
   "metadata": {},
   "source": [
    "Анализ А/В теста подошёл к концу. По его результатам можно сказать следующее:\n",
    "\n",
    "* График различия конверсии между группами сообщает, что ближе к концу теста результаты группы В примерно на 10-15% лучше результатов в группе А; обе конверсии можно считать устоявшимися (см. **пункт 4.5**) \n",
    "\n",
    "\n",
    "* График различия среднего чека на всём протяжении теста резко менялся - в частности, он позволил выявить аномально дорогие заказы, по которым в дальнейшем была проведена фильтрация; его нельзя считать устоявшимся и по этой причине делать по нему выводы также нельзя (см. **пункт 4.3**)\n",
    "\n",
    "\n",
    "* Есть статистически значимое различие по конверсии между группами как по \"сырым\" данным, так и после фильтрации аномалий; группа B по этому показателю превышает группу А на 14% по \"сырым\" данным и на 17% - по \"очищенным\" (см. **пункт 4.10** и **пункт 4.12**)\n",
    "\n",
    "\n",
    "* По \"сырым\" и \"очищенным\" данным нет статистически значимого различия по среднему чеку между группами; до удаления аномалий относительная разница составляла 26% в пользу группы В, однако после она уменьшилась до 2%, но уже в пользу группы А (см. **пункт 4.11** и **пункт 4.13**)\n",
    "\n",
    "Поскольку статистически значимая разница по конверсии в положительную сторону присутствует, статистически значимой разницы в сторону уменьшения среднего чека нет и у результатов выше нет тенденции к изменениям, нами принято решение ***остановить тест и зафиксировать победу группы В над группой А***."
   ]
  },
  {
   "cell_type": "markdown",
   "metadata": {},
   "source": [
    "## Общий вывод"
   ]
  },
  {
   "cell_type": "markdown",
   "metadata": {},
   "source": [
    "Мы провели большую работу по приоритизации гипотез для увеличения выручки интернет-магазина, запустили A/B-тест и проанализировали его результаты.\n",
    "\n",
    "Исследование велось в несколько этапов:\n",
    "\n",
    "1. ***Обзор данных***\n",
    "\n",
    "   Информация представлена в следующих файлах:\n",
    "   *   `/datasets/hypothesis.csv` - гипотезы\n",
    "   *   `/datasets/orders.csv` - заказы\n",
    "   *   `/datasets/visitors.csv` - посещения\n",
    "   \n",
    "   \n",
    "2. ***Предобработка данных***\n",
    "\n",
    "   Были внесены следующие изменения:\n",
    "   \n",
    "   \n",
    "* все заголовки были приведены к общепринятому стилю (\"snake_case\");\n",
    "\n",
    "\n",
    "* типы данных изменены на `datetime` в столбцах `date` датафреймов:\n",
    "  * `orders`\n",
    "  * `visitors`\n",
    "\n",
    "  \n",
    "  В процессе предобработки нам не встретились ни явные аномалии (к примеру, отрицательные значения), ни пропуски. Вероятно, они отсутствуют. Можно предположить, что данные изначально были подготовлены для анализа результатов А/В теста.\n",
    "  \n",
    "  Отдельно отметим, что выборки в `orders` отличаются друг от друга примерно на 15%, а в группе В содержатся 58 пользователей из группы А, что составляет примерно 10% от всей выборки. В дальнейшем для расчёта кумулятивной выручки, среднего чека и его относительного изменения данные пользователи учтены не были.\n",
    "  \n",
    "  \n",
    "3. ***Приоритизация гипотез***\n",
    "\n",
    "\n",
    "   Для оценки значимости гипотез были применены фреймворки ICE и RICE.\n",
    "\n",
    "   Наиболее приориретными с точки зрения ICE являются:\n",
    "\n",
    "\n",
    "* Запустить акцию, дающую скидку на товар в день рождения (гипотеза 8)\n",
    "\n",
    "* Добавить два новых канала привлечения трафика, что позволит привлекать на 30% больше пользователей (гипотеза 0)\n",
    "\n",
    "* Добавить форму подписки на все основные страницы, чтобы собрать базу клиентов для email-рассылок (гипотеза 7)\n",
    "\n",
    "\n",
    "   С точки зрения RICE самыми предпочтительными должны быть:\n",
    "\n",
    "\n",
    "* Добавить форму подписки на все основные страницы, чтобы собрать базу клиентов для email-рассылок (гипотеза 7)\n",
    "\n",
    "* Добавить блоки рекомендаций товаров на сайт интернет магазина, чтобы повысить конверсию и средний чек заказа (гипотеза 2)\n",
    "\n",
    "* Добавить два новых канала привлечения трафика, что позволит привлекать на 30% больше пользователей (гипотеза 0)\n",
    "\n",
    "* Показать на главной странице баннеры с актуальными акциями и распродажами, чтобы увеличить конверсию (гипотеза 6)\n",
    "\n",
    "\n",
    "   Отличия в расстановке приоритетов гипотез по ICE и RICE связаны с тем, что фреймворк RICE дополнительно включает в себя показатель охвата `reach`, и именно обусловил изменения. \n",
    "\n",
    "\n",
    "   Самым разумным решением будет выбрать те гипотезы, которые занимают высокие положения в них обоих фреймворках:\n",
    "\n",
    "* **Добавить два новых канала привлечения трафика, что позволит привлекать на 30% больше пользователей** (гипотеза 0)\n",
    "\n",
    "\n",
    "* **Добавить форму подписки на все основные страницы, чтобы собрать базу клиентов для email-рассылок** (гипотеза 7)\n",
    "  \n",
    "  \n",
    "4. ***Анализ А/В-теста***\n",
    "\n",
    "* Кумулятивная выручка группы В с 18 августа по 19 августа резко возросла, в то время как в группе А подобной динамики не наблюдается. Это может говорить как об увеличении числа заказов, так и о появлении аномально дорогих заказов, искажающих выборку.\n",
    "\n",
    "\n",
    "* Кумулятивный средний чек по обеим группам колеблется на всём протяжении теста, делать по нему какие-либо выводы, помимо факта наличия аномально дорогих заказов, нельзя.\n",
    "\n",
    "\n",
    "* График различия среднего чека на всём протяжении теста резко менялся - в частности, он позволил выявить аномально дорогие заказы, по которым в дальнейшем была проведена фильтрация; его нельзя считать устоявшимся и по этой причине делать по нему выводы также нельзя.\n",
    "\n",
    "\n",
    "* Кумулятивная конверсия по группам какое-то время колебалась, но начиная с 6 августа стабилизировалась, продемонстрировав равномерное превышение конверсии группы В над конверсией группы А. Тенденции к явному снижению у конверсии В к концу теста не наблюдается.\n",
    "\n",
    "\n",
    "* График различия конверсии между группами сообщает, что ближе к концу теста результаты группы В примерно на 10-15% лучше результатов в группе А; обе конверсии можно считать устоявшимися.\n",
    "\n",
    "\n",
    "* По точечному графику количества заказов по пользователям можно сказать, что в основной массе каждый пользователь сделал по одному заказу.\n",
    "\n",
    "\n",
    "* 1% всех пользователей совершали более 4 заказов и 5% - более 2 заказов. Таким образом, *2 заказа можно приняли как границу для определения аномальных пользователей*.\n",
    "\n",
    "\n",
    "* Точечный график стоимостей заказов говорит о том, что основная стоимость заказов находится в диапазоне до 50 тыс. Встречаются заказы на сумму 100 тыс., 200 тыс. и даже выше 1.2 млн., но они единичны.\n",
    "\n",
    "\n",
    "* Не более чем у 5% пользователей чек выше 28 тыс. и только у 1% он превышает 58 тыс. Это говорит о том, что *все заказы свыше 28 тыс. можно счесть аномально дорогими*.\n",
    "\n",
    "\n",
    "* По результатам A/В-теста можно сказать следующее:\n",
    "\n",
    "  * Есть статистически значимое различие по конверсии между группами как по \"сырым\" данным, так и после фильтрации аномалий; группа B по этому показателю превышает группу А на 14% по \"сырым\" данным и на 17% - по \"очищенным\".\n",
    "  \n",
    "  * По \"сырым\" и \"очищенным\" данным нет статистически значимого различия по среднему чеку между группами; до удаления аномалий относительная разница составляла 26% в пользу группы В, однако после она уменьшилась до 2%, но уже в пользу группы А.\n",
    "\n",
    "  * Поскольку статистически значимая разница по конверсии в положительную сторону присутствует, статистически значимой разницы в сторону уменьшения среднего чека нет и у результатов выше нет тенденции к изменениям, нами принято решение **остановить тест и зафиксировать победу группы В над группой А**.\n",
    "  \n",
    "\n",
    "Также можно выдвинуть следующие рекомендации:\n",
    "\n",
    "* **проверить выдвинутые выше гипотезы при помощи А/В-теста**\n",
    "\n",
    "\n",
    "* **провести предварительный А/А-тест с целью исключения ложноположительного результата**."
   ]
  }
 ],
 "metadata": {
  "ExecuteTimeLog": [
   {
    "duration": 1125,
    "start_time": "2022-08-01T09:54:10.589Z"
   },
   {
    "duration": 180,
    "start_time": "2022-08-01T09:57:17.769Z"
   },
   {
    "duration": 11,
    "start_time": "2022-08-01T09:59:22.946Z"
   },
   {
    "duration": 7,
    "start_time": "2022-08-01T09:59:45.704Z"
   },
   {
    "duration": 8,
    "start_time": "2022-08-01T09:59:50.675Z"
   },
   {
    "duration": 7,
    "start_time": "2022-08-01T10:00:12.114Z"
   },
   {
    "duration": 8,
    "start_time": "2022-08-01T10:00:21.633Z"
   },
   {
    "duration": 7,
    "start_time": "2022-08-01T10:00:28.542Z"
   },
   {
    "duration": 7,
    "start_time": "2022-08-01T10:00:38.579Z"
   },
   {
    "duration": 8,
    "start_time": "2022-08-01T10:04:33.575Z"
   },
   {
    "duration": 7,
    "start_time": "2022-08-01T10:04:57.364Z"
   },
   {
    "duration": 32,
    "start_time": "2022-08-01T10:06:58.078Z"
   },
   {
    "duration": 3,
    "start_time": "2022-08-01T10:28:54.775Z"
   },
   {
    "duration": 3,
    "start_time": "2022-08-01T10:31:30.556Z"
   },
   {
    "duration": 11,
    "start_time": "2022-08-01T10:31:36.150Z"
   },
   {
    "duration": 5,
    "start_time": "2022-08-01T10:32:04.366Z"
   },
   {
    "duration": 10,
    "start_time": "2022-08-01T10:32:06.965Z"
   },
   {
    "duration": 5,
    "start_time": "2022-08-01T10:35:17.558Z"
   },
   {
    "duration": 4,
    "start_time": "2022-08-01T10:35:43.867Z"
   },
   {
    "duration": 1195,
    "start_time": "2022-08-01T10:36:08.701Z"
   },
   {
    "duration": 70,
    "start_time": "2022-08-01T10:36:09.897Z"
   },
   {
    "duration": 11,
    "start_time": "2022-08-01T10:36:09.968Z"
   },
   {
    "duration": 11,
    "start_time": "2022-08-01T10:36:09.981Z"
   },
   {
    "duration": 10,
    "start_time": "2022-08-01T10:36:09.994Z"
   },
   {
    "duration": 35,
    "start_time": "2022-08-01T10:36:10.006Z"
   },
   {
    "duration": 4,
    "start_time": "2022-08-01T10:36:10.042Z"
   },
   {
    "duration": 10,
    "start_time": "2022-08-01T10:36:10.048Z"
   },
   {
    "duration": 5,
    "start_time": "2022-08-01T10:41:45.232Z"
   },
   {
    "duration": 21,
    "start_time": "2022-08-01T10:42:51.445Z"
   },
   {
    "duration": 9,
    "start_time": "2022-08-01T10:45:09.502Z"
   },
   {
    "duration": 8,
    "start_time": "2022-08-01T10:46:49.747Z"
   },
   {
    "duration": 6,
    "start_time": "2022-08-01T10:51:54.144Z"
   },
   {
    "duration": 7,
    "start_time": "2022-08-01T11:01:02.501Z"
   },
   {
    "duration": 8,
    "start_time": "2022-08-01T11:01:36.904Z"
   },
   {
    "duration": 9,
    "start_time": "2022-08-01T11:02:04.347Z"
   },
   {
    "duration": 12,
    "start_time": "2022-08-01T11:08:26.659Z"
   },
   {
    "duration": 9,
    "start_time": "2022-08-01T12:12:00.652Z"
   },
   {
    "duration": 10,
    "start_time": "2022-08-01T12:12:13.846Z"
   },
   {
    "duration": 1060,
    "start_time": "2022-08-01T12:13:04.082Z"
   },
   {
    "duration": 69,
    "start_time": "2022-08-01T12:13:05.144Z"
   },
   {
    "duration": 15,
    "start_time": "2022-08-01T12:13:05.215Z"
   },
   {
    "duration": 9,
    "start_time": "2022-08-01T12:13:05.232Z"
   },
   {
    "duration": 10,
    "start_time": "2022-08-01T12:13:05.243Z"
   },
   {
    "duration": 44,
    "start_time": "2022-08-01T12:13:05.255Z"
   },
   {
    "duration": 5,
    "start_time": "2022-08-01T12:13:05.301Z"
   },
   {
    "duration": 15,
    "start_time": "2022-08-01T12:13:05.337Z"
   },
   {
    "duration": 29,
    "start_time": "2022-08-01T12:13:05.354Z"
   },
   {
    "duration": 31,
    "start_time": "2022-08-01T12:13:05.385Z"
   },
   {
    "duration": 10,
    "start_time": "2022-08-01T12:13:05.418Z"
   },
   {
    "duration": 30,
    "start_time": "2022-08-01T12:13:05.429Z"
   },
   {
    "duration": 15,
    "start_time": "2022-08-01T12:13:05.461Z"
   },
   {
    "duration": 10,
    "start_time": "2022-08-01T12:14:27.255Z"
   },
   {
    "duration": 1054,
    "start_time": "2022-08-01T12:15:05.563Z"
   },
   {
    "duration": 70,
    "start_time": "2022-08-01T12:15:06.619Z"
   },
   {
    "duration": 12,
    "start_time": "2022-08-01T12:15:06.691Z"
   },
   {
    "duration": 11,
    "start_time": "2022-08-01T12:15:06.705Z"
   },
   {
    "duration": 11,
    "start_time": "2022-08-01T12:15:06.718Z"
   },
   {
    "duration": 33,
    "start_time": "2022-08-01T12:15:06.730Z"
   },
   {
    "duration": 4,
    "start_time": "2022-08-01T12:15:06.764Z"
   },
   {
    "duration": 11,
    "start_time": "2022-08-01T12:15:06.770Z"
   },
   {
    "duration": 7,
    "start_time": "2022-08-01T12:15:06.783Z"
   },
   {
    "duration": 51,
    "start_time": "2022-08-01T12:15:06.792Z"
   },
   {
    "duration": 8,
    "start_time": "2022-08-01T12:15:06.845Z"
   },
   {
    "duration": 9,
    "start_time": "2022-08-01T12:15:06.855Z"
   },
   {
    "duration": 11,
    "start_time": "2022-08-01T12:15:06.866Z"
   },
   {
    "duration": 7,
    "start_time": "2022-08-01T12:15:06.879Z"
   },
   {
    "duration": 1041,
    "start_time": "2022-08-01T12:15:28.980Z"
   },
   {
    "duration": 71,
    "start_time": "2022-08-01T12:15:30.023Z"
   },
   {
    "duration": 12,
    "start_time": "2022-08-01T12:15:30.096Z"
   },
   {
    "duration": 25,
    "start_time": "2022-08-01T12:15:30.110Z"
   },
   {
    "duration": 32,
    "start_time": "2022-08-01T12:15:30.138Z"
   },
   {
    "duration": 49,
    "start_time": "2022-08-01T12:15:30.172Z"
   },
   {
    "duration": 21,
    "start_time": "2022-08-01T12:15:30.223Z"
   },
   {
    "duration": 37,
    "start_time": "2022-08-01T12:15:30.246Z"
   },
   {
    "duration": 38,
    "start_time": "2022-08-01T12:15:30.284Z"
   },
   {
    "duration": 60,
    "start_time": "2022-08-01T12:15:30.324Z"
   },
   {
    "duration": 19,
    "start_time": "2022-08-01T12:15:30.385Z"
   },
   {
    "duration": 38,
    "start_time": "2022-08-01T12:15:30.405Z"
   },
   {
    "duration": 28,
    "start_time": "2022-08-01T12:15:30.444Z"
   },
   {
    "duration": 36,
    "start_time": "2022-08-01T12:15:30.474Z"
   },
   {
    "duration": 1085,
    "start_time": "2022-08-01T12:16:00.336Z"
   },
   {
    "duration": 72,
    "start_time": "2022-08-01T12:16:01.423Z"
   },
   {
    "duration": 12,
    "start_time": "2022-08-01T12:16:01.496Z"
   },
   {
    "duration": 30,
    "start_time": "2022-08-01T12:16:01.509Z"
   },
   {
    "duration": 36,
    "start_time": "2022-08-01T12:16:01.541Z"
   },
   {
    "duration": 62,
    "start_time": "2022-08-01T12:16:01.579Z"
   },
   {
    "duration": 20,
    "start_time": "2022-08-01T12:16:01.643Z"
   },
   {
    "duration": 27,
    "start_time": "2022-08-01T12:16:01.665Z"
   },
   {
    "duration": 34,
    "start_time": "2022-08-01T12:16:01.694Z"
   },
   {
    "duration": 31,
    "start_time": "2022-08-01T12:16:01.730Z"
   },
   {
    "duration": 26,
    "start_time": "2022-08-01T12:16:01.763Z"
   },
   {
    "duration": 21,
    "start_time": "2022-08-01T12:16:01.790Z"
   },
   {
    "duration": 18,
    "start_time": "2022-08-01T12:16:01.813Z"
   },
   {
    "duration": 36,
    "start_time": "2022-08-01T12:16:01.836Z"
   },
   {
    "duration": 107,
    "start_time": "2022-08-01T12:29:04.854Z"
   },
   {
    "duration": 13,
    "start_time": "2022-08-01T12:29:09.530Z"
   },
   {
    "duration": 1344,
    "start_time": "2022-08-02T09:51:55.241Z"
   },
   {
    "duration": 187,
    "start_time": "2022-08-02T09:51:56.587Z"
   },
   {
    "duration": 14,
    "start_time": "2022-08-02T09:51:56.775Z"
   },
   {
    "duration": 18,
    "start_time": "2022-08-02T09:51:56.792Z"
   },
   {
    "duration": 15,
    "start_time": "2022-08-02T09:51:56.812Z"
   },
   {
    "duration": 40,
    "start_time": "2022-08-02T09:51:56.829Z"
   },
   {
    "duration": 5,
    "start_time": "2022-08-02T09:51:56.871Z"
   },
   {
    "duration": 14,
    "start_time": "2022-08-02T09:51:56.878Z"
   },
   {
    "duration": 22,
    "start_time": "2022-08-02T09:51:56.894Z"
   },
   {
    "duration": 38,
    "start_time": "2022-08-02T09:51:56.919Z"
   },
   {
    "duration": 12,
    "start_time": "2022-08-02T09:51:56.958Z"
   },
   {
    "duration": 10,
    "start_time": "2022-08-02T09:51:56.971Z"
   },
   {
    "duration": 38,
    "start_time": "2022-08-02T09:51:56.982Z"
   },
   {
    "duration": 11,
    "start_time": "2022-08-02T09:51:57.022Z"
   },
   {
    "duration": 57,
    "start_time": "2022-08-02T09:59:48.539Z"
   },
   {
    "duration": 85,
    "start_time": "2022-08-02T10:00:37.127Z"
   },
   {
    "duration": 5,
    "start_time": "2022-08-02T10:01:47.634Z"
   },
   {
    "duration": 4,
    "start_time": "2022-08-02T10:01:57.475Z"
   },
   {
    "duration": 1185,
    "start_time": "2022-08-02T10:02:07.284Z"
   },
   {
    "duration": 75,
    "start_time": "2022-08-02T10:02:08.471Z"
   },
   {
    "duration": 12,
    "start_time": "2022-08-02T10:02:08.548Z"
   },
   {
    "duration": 7,
    "start_time": "2022-08-02T10:02:08.562Z"
   },
   {
    "duration": 9,
    "start_time": "2022-08-02T10:02:08.571Z"
   },
   {
    "duration": 29,
    "start_time": "2022-08-02T10:02:08.582Z"
   },
   {
    "duration": 4,
    "start_time": "2022-08-02T10:02:08.612Z"
   },
   {
    "duration": 7,
    "start_time": "2022-08-02T10:02:08.617Z"
   },
   {
    "duration": 6,
    "start_time": "2022-08-02T10:02:08.625Z"
   },
   {
    "duration": 19,
    "start_time": "2022-08-02T10:02:08.633Z"
   },
   {
    "duration": 9,
    "start_time": "2022-08-02T10:02:08.653Z"
   },
   {
    "duration": 52,
    "start_time": "2022-08-02T10:02:08.664Z"
   },
   {
    "duration": 14,
    "start_time": "2022-08-02T10:02:08.718Z"
   },
   {
    "duration": 12,
    "start_time": "2022-08-02T10:02:08.733Z"
   },
   {
    "duration": 24,
    "start_time": "2022-08-02T10:02:08.746Z"
   },
   {
    "duration": 6,
    "start_time": "2022-08-02T10:02:56.126Z"
   },
   {
    "duration": 117,
    "start_time": "2022-08-02T10:04:06.124Z"
   },
   {
    "duration": 6,
    "start_time": "2022-08-02T10:05:03.288Z"
   },
   {
    "duration": 9,
    "start_time": "2022-08-02T10:10:16.798Z"
   },
   {
    "duration": 9,
    "start_time": "2022-08-02T10:10:35.056Z"
   },
   {
    "duration": 33,
    "start_time": "2022-08-02T10:11:45.328Z"
   },
   {
    "duration": 20,
    "start_time": "2022-08-02T10:13:04.717Z"
   },
   {
    "duration": 8,
    "start_time": "2022-08-02T10:13:29.621Z"
   },
   {
    "duration": 148,
    "start_time": "2022-08-02T10:13:52.058Z"
   },
   {
    "duration": 151,
    "start_time": "2022-08-02T10:14:18.323Z"
   },
   {
    "duration": 152,
    "start_time": "2022-08-02T10:20:09.152Z"
   },
   {
    "duration": 7,
    "start_time": "2022-08-02T10:34:54.097Z"
   },
   {
    "duration": 109,
    "start_time": "2022-08-02T10:36:57.172Z"
   },
   {
    "duration": 12,
    "start_time": "2022-08-02T10:41:41.222Z"
   },
   {
    "duration": 380,
    "start_time": "2022-08-02T10:45:38.839Z"
   },
   {
    "duration": 258,
    "start_time": "2022-08-02T10:45:51.073Z"
   },
   {
    "duration": 314,
    "start_time": "2022-08-02T10:46:03.030Z"
   },
   {
    "duration": 308,
    "start_time": "2022-08-02T10:46:18.946Z"
   },
   {
    "duration": 258,
    "start_time": "2022-08-02T10:47:07.245Z"
   },
   {
    "duration": 279,
    "start_time": "2022-08-02T10:47:12.732Z"
   },
   {
    "duration": 328,
    "start_time": "2022-08-02T10:47:20.682Z"
   },
   {
    "duration": 458,
    "start_time": "2022-08-02T10:49:03.962Z"
   },
   {
    "duration": 382,
    "start_time": "2022-08-02T10:49:18.989Z"
   },
   {
    "duration": 469,
    "start_time": "2022-08-02T10:49:24.534Z"
   },
   {
    "duration": 469,
    "start_time": "2022-08-02T10:55:14.668Z"
   },
   {
    "duration": 299,
    "start_time": "2022-08-02T10:55:41.483Z"
   },
   {
    "duration": 311,
    "start_time": "2022-08-02T10:56:35.569Z"
   },
   {
    "duration": 299,
    "start_time": "2022-08-02T10:56:48.780Z"
   },
   {
    "duration": 295,
    "start_time": "2022-08-02T10:57:10.681Z"
   },
   {
    "duration": 313,
    "start_time": "2022-08-02T10:58:33.132Z"
   },
   {
    "duration": 289,
    "start_time": "2022-08-02T10:59:05.026Z"
   },
   {
    "duration": 388,
    "start_time": "2022-08-02T10:59:57.985Z"
   },
   {
    "duration": 309,
    "start_time": "2022-08-02T11:00:55.363Z"
   },
   {
    "duration": 335,
    "start_time": "2022-08-02T11:01:23.184Z"
   },
   {
    "duration": 307,
    "start_time": "2022-08-02T11:01:37.940Z"
   },
   {
    "duration": 306,
    "start_time": "2022-08-02T11:02:07.052Z"
   },
   {
    "duration": 408,
    "start_time": "2022-08-02T11:02:23.738Z"
   },
   {
    "duration": 314,
    "start_time": "2022-08-02T11:02:29.926Z"
   },
   {
    "duration": 315,
    "start_time": "2022-08-02T11:02:36.044Z"
   },
   {
    "duration": 317,
    "start_time": "2022-08-02T11:02:53.527Z"
   },
   {
    "duration": 13,
    "start_time": "2022-08-02T11:14:53.451Z"
   },
   {
    "duration": 4,
    "start_time": "2022-08-02T11:18:06.268Z"
   },
   {
    "duration": 300,
    "start_time": "2022-08-02T11:18:21.677Z"
   },
   {
    "duration": 431,
    "start_time": "2022-08-02T11:22:18.594Z"
   },
   {
    "duration": 289,
    "start_time": "2022-08-02T11:23:27.860Z"
   },
   {
    "duration": 1057,
    "start_time": "2022-08-02T11:23:37.031Z"
   },
   {
    "duration": 75,
    "start_time": "2022-08-02T11:23:38.090Z"
   },
   {
    "duration": 12,
    "start_time": "2022-08-02T11:23:38.166Z"
   },
   {
    "duration": 6,
    "start_time": "2022-08-02T11:23:38.180Z"
   },
   {
    "duration": 7,
    "start_time": "2022-08-02T11:23:38.188Z"
   },
   {
    "duration": 32,
    "start_time": "2022-08-02T11:23:38.196Z"
   },
   {
    "duration": 3,
    "start_time": "2022-08-02T11:23:38.230Z"
   },
   {
    "duration": 6,
    "start_time": "2022-08-02T11:23:38.235Z"
   },
   {
    "duration": 6,
    "start_time": "2022-08-02T11:23:38.242Z"
   },
   {
    "duration": 20,
    "start_time": "2022-08-02T11:23:38.250Z"
   },
   {
    "duration": 43,
    "start_time": "2022-08-02T11:23:38.271Z"
   },
   {
    "duration": 9,
    "start_time": "2022-08-02T11:23:38.315Z"
   },
   {
    "duration": 10,
    "start_time": "2022-08-02T11:23:38.326Z"
   },
   {
    "duration": 9,
    "start_time": "2022-08-02T11:23:38.337Z"
   },
   {
    "duration": 9,
    "start_time": "2022-08-02T11:23:38.348Z"
   },
   {
    "duration": 195,
    "start_time": "2022-08-02T11:23:38.358Z"
   },
   {
    "duration": 118,
    "start_time": "2022-08-02T11:23:38.555Z"
   },
   {
    "duration": 12,
    "start_time": "2022-08-02T11:23:38.674Z"
   },
   {
    "duration": 398,
    "start_time": "2022-08-02T11:23:38.688Z"
   },
   {
    "duration": 4,
    "start_time": "2022-08-02T11:23:39.088Z"
   },
   {
    "duration": 319,
    "start_time": "2022-08-02T11:23:39.094Z"
   },
   {
    "duration": 13,
    "start_time": "2022-08-02T11:40:30.362Z"
   },
   {
    "duration": 12,
    "start_time": "2022-08-02T11:40:52.785Z"
   },
   {
    "duration": 14,
    "start_time": "2022-08-02T11:41:04.127Z"
   },
   {
    "duration": 274,
    "start_time": "2022-08-02T11:42:25.158Z"
   },
   {
    "duration": 11,
    "start_time": "2022-08-02T11:43:12.059Z"
   },
   {
    "duration": 389,
    "start_time": "2022-08-02T11:43:22.437Z"
   },
   {
    "duration": 5,
    "start_time": "2022-08-02T11:52:49.827Z"
   },
   {
    "duration": 418,
    "start_time": "2022-08-02T11:56:22.722Z"
   },
   {
    "duration": 307,
    "start_time": "2022-08-02T11:57:51.883Z"
   },
   {
    "duration": 45,
    "start_time": "2022-08-02T13:27:48.584Z"
   },
   {
    "duration": 1266,
    "start_time": "2022-08-02T13:28:03.164Z"
   },
   {
    "duration": 178,
    "start_time": "2022-08-02T13:28:04.432Z"
   },
   {
    "duration": 13,
    "start_time": "2022-08-02T13:28:04.612Z"
   },
   {
    "duration": 7,
    "start_time": "2022-08-02T13:28:04.627Z"
   },
   {
    "duration": 8,
    "start_time": "2022-08-02T13:28:04.635Z"
   },
   {
    "duration": 31,
    "start_time": "2022-08-02T13:28:04.645Z"
   },
   {
    "duration": 24,
    "start_time": "2022-08-02T13:28:04.677Z"
   },
   {
    "duration": 4,
    "start_time": "2022-08-02T13:28:04.702Z"
   },
   {
    "duration": 8,
    "start_time": "2022-08-02T13:28:04.707Z"
   },
   {
    "duration": 22,
    "start_time": "2022-08-02T13:28:04.717Z"
   },
   {
    "duration": 8,
    "start_time": "2022-08-02T13:28:04.740Z"
   },
   {
    "duration": 9,
    "start_time": "2022-08-02T13:28:04.749Z"
   },
   {
    "duration": 11,
    "start_time": "2022-08-02T13:28:04.800Z"
   },
   {
    "duration": 9,
    "start_time": "2022-08-02T13:28:04.813Z"
   },
   {
    "duration": 10,
    "start_time": "2022-08-02T13:28:04.824Z"
   },
   {
    "duration": 195,
    "start_time": "2022-08-02T13:28:04.835Z"
   },
   {
    "duration": 127,
    "start_time": "2022-08-02T13:28:05.031Z"
   },
   {
    "duration": 12,
    "start_time": "2022-08-02T13:28:05.159Z"
   },
   {
    "duration": 12,
    "start_time": "2022-08-02T13:28:05.172Z"
   },
   {
    "duration": 408,
    "start_time": "2022-08-02T13:28:05.186Z"
   },
   {
    "duration": 310,
    "start_time": "2022-08-02T13:28:05.595Z"
   },
   {
    "duration": 4,
    "start_time": "2022-08-02T13:28:05.907Z"
   },
   {
    "duration": 312,
    "start_time": "2022-08-02T13:28:05.912Z"
   },
   {
    "duration": 5,
    "start_time": "2022-08-02T13:28:06.225Z"
   },
   {
    "duration": 317,
    "start_time": "2022-08-02T13:28:06.232Z"
   },
   {
    "duration": 365,
    "start_time": "2022-08-02T13:28:06.551Z"
   },
   {
    "duration": 408,
    "start_time": "2022-08-02T13:32:49.864Z"
   },
   {
    "duration": 382,
    "start_time": "2022-08-02T13:37:34.856Z"
   },
   {
    "duration": 1099,
    "start_time": "2022-08-02T13:40:03.759Z"
   },
   {
    "duration": 72,
    "start_time": "2022-08-02T13:40:04.860Z"
   },
   {
    "duration": 13,
    "start_time": "2022-08-02T13:40:04.934Z"
   },
   {
    "duration": 26,
    "start_time": "2022-08-02T13:40:04.950Z"
   },
   {
    "duration": 30,
    "start_time": "2022-08-02T13:40:04.978Z"
   },
   {
    "duration": 53,
    "start_time": "2022-08-02T13:40:05.009Z"
   },
   {
    "duration": 5,
    "start_time": "2022-08-02T13:40:05.063Z"
   },
   {
    "duration": 29,
    "start_time": "2022-08-02T13:40:05.069Z"
   },
   {
    "duration": 21,
    "start_time": "2022-08-02T13:40:05.100Z"
   },
   {
    "duration": 39,
    "start_time": "2022-08-02T13:40:05.124Z"
   },
   {
    "duration": 11,
    "start_time": "2022-08-02T13:40:05.165Z"
   },
   {
    "duration": 24,
    "start_time": "2022-08-02T13:40:05.178Z"
   },
   {
    "duration": 24,
    "start_time": "2022-08-02T13:40:05.204Z"
   },
   {
    "duration": 12,
    "start_time": "2022-08-02T13:40:05.230Z"
   },
   {
    "duration": 18,
    "start_time": "2022-08-02T13:40:05.244Z"
   },
   {
    "duration": 169,
    "start_time": "2022-08-02T13:40:05.263Z"
   },
   {
    "duration": 129,
    "start_time": "2022-08-02T13:40:05.434Z"
   },
   {
    "duration": 12,
    "start_time": "2022-08-02T13:40:05.564Z"
   },
   {
    "duration": 25,
    "start_time": "2022-08-02T13:40:05.577Z"
   },
   {
    "duration": 355,
    "start_time": "2022-08-02T13:40:05.603Z"
   },
   {
    "duration": 4,
    "start_time": "2022-08-02T13:40:05.959Z"
   },
   {
    "duration": 326,
    "start_time": "2022-08-02T13:40:05.965Z"
   },
   {
    "duration": 9,
    "start_time": "2022-08-02T13:40:06.293Z"
   },
   {
    "duration": 321,
    "start_time": "2022-08-02T13:40:06.304Z"
   },
   {
    "duration": 364,
    "start_time": "2022-08-02T13:40:06.627Z"
   },
   {
    "duration": 240,
    "start_time": "2022-08-02T13:40:06.993Z"
   },
   {
    "duration": 235,
    "start_time": "2022-08-02T13:41:25.584Z"
   },
   {
    "duration": 365,
    "start_time": "2022-08-02T13:42:03.138Z"
   },
   {
    "duration": 1076,
    "start_time": "2022-08-02T13:46:14.299Z"
   },
   {
    "duration": 73,
    "start_time": "2022-08-02T13:46:15.376Z"
   },
   {
    "duration": 13,
    "start_time": "2022-08-02T13:46:15.451Z"
   },
   {
    "duration": 12,
    "start_time": "2022-08-02T13:46:15.466Z"
   },
   {
    "duration": 22,
    "start_time": "2022-08-02T13:46:15.480Z"
   },
   {
    "duration": 33,
    "start_time": "2022-08-02T13:46:15.504Z"
   },
   {
    "duration": 5,
    "start_time": "2022-08-02T13:46:15.538Z"
   },
   {
    "duration": 10,
    "start_time": "2022-08-02T13:46:15.544Z"
   },
   {
    "duration": 8,
    "start_time": "2022-08-02T13:46:15.555Z"
   },
   {
    "duration": 56,
    "start_time": "2022-08-02T13:46:15.565Z"
   },
   {
    "duration": 9,
    "start_time": "2022-08-02T13:46:15.623Z"
   },
   {
    "duration": 17,
    "start_time": "2022-08-02T13:46:15.633Z"
   },
   {
    "duration": 43,
    "start_time": "2022-08-02T13:46:15.651Z"
   },
   {
    "duration": 23,
    "start_time": "2022-08-02T13:46:15.695Z"
   },
   {
    "duration": 16,
    "start_time": "2022-08-02T13:46:15.720Z"
   },
   {
    "duration": 162,
    "start_time": "2022-08-02T13:46:15.738Z"
   },
   {
    "duration": 127,
    "start_time": "2022-08-02T13:46:15.901Z"
   },
   {
    "duration": 12,
    "start_time": "2022-08-02T13:46:16.030Z"
   },
   {
    "duration": 17,
    "start_time": "2022-08-02T13:46:16.043Z"
   },
   {
    "duration": 360,
    "start_time": "2022-08-02T13:46:16.061Z"
   },
   {
    "duration": 285,
    "start_time": "2022-08-02T13:46:16.423Z"
   },
   {
    "duration": 381,
    "start_time": "2022-08-02T13:46:16.710Z"
   },
   {
    "duration": 210,
    "start_time": "2022-08-02T13:46:17.093Z"
   },
   {
    "duration": 406,
    "start_time": "2022-08-02T14:01:54.095Z"
   },
   {
    "duration": 359,
    "start_time": "2022-08-02T14:02:34.343Z"
   },
   {
    "duration": 477,
    "start_time": "2022-08-02T14:02:46.201Z"
   },
   {
    "duration": 355,
    "start_time": "2022-08-02T14:04:07.459Z"
   },
   {
    "duration": 359,
    "start_time": "2022-08-02T14:04:52.347Z"
   },
   {
    "duration": 4,
    "start_time": "2022-08-02T14:20:03.557Z"
   },
   {
    "duration": 17,
    "start_time": "2022-08-02T14:20:16.284Z"
   },
   {
    "duration": 7,
    "start_time": "2022-08-02T14:23:13.944Z"
   },
   {
    "duration": 15,
    "start_time": "2022-08-02T14:23:22.600Z"
   },
   {
    "duration": 12,
    "start_time": "2022-08-02T14:23:32.556Z"
   },
   {
    "duration": 285,
    "start_time": "2022-08-02T14:28:26.189Z"
   },
   {
    "duration": 279,
    "start_time": "2022-08-02T14:29:31.868Z"
   },
   {
    "duration": 269,
    "start_time": "2022-08-02T14:29:44.658Z"
   },
   {
    "duration": 268,
    "start_time": "2022-08-02T14:36:39.461Z"
   },
   {
    "duration": 823,
    "start_time": "2022-08-02T14:38:29.553Z"
   },
   {
    "duration": 255,
    "start_time": "2022-08-02T14:38:56.140Z"
   },
   {
    "duration": 4,
    "start_time": "2022-08-02T14:39:12.871Z"
   },
   {
    "duration": 5,
    "start_time": "2022-08-02T14:39:34.580Z"
   },
   {
    "duration": 6,
    "start_time": "2022-08-02T14:46:59.499Z"
   },
   {
    "duration": 5,
    "start_time": "2022-08-02T14:47:39.236Z"
   },
   {
    "duration": 279,
    "start_time": "2022-08-02T14:49:38.038Z"
   },
   {
    "duration": 272,
    "start_time": "2022-08-02T14:50:00.744Z"
   },
   {
    "duration": 434,
    "start_time": "2022-08-02T14:50:24.668Z"
   },
   {
    "duration": 280,
    "start_time": "2022-08-02T14:50:33.847Z"
   },
   {
    "duration": 8,
    "start_time": "2022-08-02T15:01:40.873Z"
   },
   {
    "duration": 13,
    "start_time": "2022-08-02T15:12:12.031Z"
   },
   {
    "duration": 368,
    "start_time": "2022-08-02T15:12:46.571Z"
   },
   {
    "duration": 348,
    "start_time": "2022-08-02T15:16:23.928Z"
   },
   {
    "duration": 371,
    "start_time": "2022-08-02T15:16:33.135Z"
   },
   {
    "duration": 379,
    "start_time": "2022-08-02T15:17:05.188Z"
   },
   {
    "duration": 362,
    "start_time": "2022-08-02T15:17:11.992Z"
   },
   {
    "duration": 333,
    "start_time": "2022-08-02T15:18:20.832Z"
   },
   {
    "duration": 10,
    "start_time": "2022-08-02T15:48:07.764Z"
   },
   {
    "duration": 16,
    "start_time": "2022-08-02T15:48:16.053Z"
   },
   {
    "duration": 12,
    "start_time": "2022-08-02T15:48:26.524Z"
   },
   {
    "duration": 12,
    "start_time": "2022-08-02T15:48:48.569Z"
   },
   {
    "duration": 11,
    "start_time": "2022-08-02T15:48:59.424Z"
   },
   {
    "duration": 10,
    "start_time": "2022-08-02T15:50:02.333Z"
   },
   {
    "duration": 1412,
    "start_time": "2022-08-03T09:10:53.504Z"
   },
   {
    "duration": 202,
    "start_time": "2022-08-03T09:10:54.919Z"
   },
   {
    "duration": 15,
    "start_time": "2022-08-03T09:10:55.123Z"
   },
   {
    "duration": 12,
    "start_time": "2022-08-03T09:10:55.141Z"
   },
   {
    "duration": 13,
    "start_time": "2022-08-03T09:10:55.154Z"
   },
   {
    "duration": 44,
    "start_time": "2022-08-03T09:10:55.168Z"
   },
   {
    "duration": 5,
    "start_time": "2022-08-03T09:10:55.214Z"
   },
   {
    "duration": 13,
    "start_time": "2022-08-03T09:10:55.221Z"
   },
   {
    "duration": 15,
    "start_time": "2022-08-03T09:10:55.236Z"
   },
   {
    "duration": 54,
    "start_time": "2022-08-03T09:10:55.254Z"
   },
   {
    "duration": 12,
    "start_time": "2022-08-03T09:10:55.310Z"
   },
   {
    "duration": 17,
    "start_time": "2022-08-03T09:10:55.324Z"
   },
   {
    "duration": 16,
    "start_time": "2022-08-03T09:10:55.344Z"
   },
   {
    "duration": 45,
    "start_time": "2022-08-03T09:10:55.362Z"
   },
   {
    "duration": 12,
    "start_time": "2022-08-03T09:10:55.408Z"
   },
   {
    "duration": 209,
    "start_time": "2022-08-03T09:10:55.422Z"
   },
   {
    "duration": 146,
    "start_time": "2022-08-03T09:10:55.632Z"
   },
   {
    "duration": 13,
    "start_time": "2022-08-03T09:10:55.779Z"
   },
   {
    "duration": 7,
    "start_time": "2022-08-03T09:10:55.803Z"
   },
   {
    "duration": 15,
    "start_time": "2022-08-03T09:10:55.812Z"
   },
   {
    "duration": 465,
    "start_time": "2022-08-03T09:10:55.829Z"
   },
   {
    "duration": 376,
    "start_time": "2022-08-03T09:10:56.296Z"
   },
   {
    "duration": 6,
    "start_time": "2022-08-03T09:10:56.674Z"
   },
   {
    "duration": 503,
    "start_time": "2022-08-03T09:10:56.682Z"
   },
   {
    "duration": 5,
    "start_time": "2022-08-03T09:10:57.186Z"
   },
   {
    "duration": 9,
    "start_time": "2022-08-03T09:10:57.204Z"
   },
   {
    "duration": 402,
    "start_time": "2022-08-03T09:10:57.215Z"
   },
   {
    "duration": 8,
    "start_time": "2022-08-03T09:10:57.621Z"
   },
   {
    "duration": 442,
    "start_time": "2022-08-03T09:10:57.630Z"
   },
   {
    "duration": 13,
    "start_time": "2022-08-03T09:10:58.074Z"
   },
   {
    "duration": 10,
    "start_time": "2022-08-03T09:15:59.241Z"
   },
   {
    "duration": 12,
    "start_time": "2022-08-03T09:17:19.925Z"
   },
   {
    "duration": 3,
    "start_time": "2022-08-03T09:34:26.518Z"
   },
   {
    "duration": 209,
    "start_time": "2022-08-03T09:35:06.979Z"
   },
   {
    "duration": 301,
    "start_time": "2022-08-03T09:37:42.518Z"
   },
   {
    "duration": 224,
    "start_time": "2022-08-03T09:37:57.163Z"
   },
   {
    "duration": 228,
    "start_time": "2022-08-03T09:39:46.489Z"
   },
   {
    "duration": 236,
    "start_time": "2022-08-03T09:40:13.373Z"
   },
   {
    "duration": 6,
    "start_time": "2022-08-03T09:59:27.989Z"
   },
   {
    "duration": 5,
    "start_time": "2022-08-03T10:00:17.565Z"
   },
   {
    "duration": 5,
    "start_time": "2022-08-03T10:00:28.761Z"
   },
   {
    "duration": 9,
    "start_time": "2022-08-03T10:01:49.931Z"
   },
   {
    "duration": 6,
    "start_time": "2022-08-03T10:02:04.004Z"
   },
   {
    "duration": 10,
    "start_time": "2022-08-03T10:10:28.755Z"
   },
   {
    "duration": 11,
    "start_time": "2022-08-03T10:14:00.261Z"
   },
   {
    "duration": 3,
    "start_time": "2022-08-03T10:18:38.074Z"
   },
   {
    "duration": 236,
    "start_time": "2022-08-03T10:20:41.242Z"
   },
   {
    "duration": 224,
    "start_time": "2022-08-03T10:21:51.963Z"
   },
   {
    "duration": 340,
    "start_time": "2022-08-03T10:32:11.024Z"
   },
   {
    "duration": 317,
    "start_time": "2022-08-03T10:32:33.631Z"
   },
   {
    "duration": 8,
    "start_time": "2022-08-03T10:40:17.393Z"
   },
   {
    "duration": 8,
    "start_time": "2022-08-03T10:40:33.255Z"
   },
   {
    "duration": 9,
    "start_time": "2022-08-03T11:06:27.782Z"
   },
   {
    "duration": 9,
    "start_time": "2022-08-03T11:06:37.187Z"
   },
   {
    "duration": 9,
    "start_time": "2022-08-03T11:06:44.108Z"
   },
   {
    "duration": 12,
    "start_time": "2022-08-03T11:09:52.371Z"
   },
   {
    "duration": 11,
    "start_time": "2022-08-03T11:12:56.029Z"
   },
   {
    "duration": 17,
    "start_time": "2022-08-03T11:13:39.292Z"
   },
   {
    "duration": 49,
    "start_time": "2022-08-03T11:17:14.470Z"
   },
   {
    "duration": 51,
    "start_time": "2022-08-03T11:17:32.452Z"
   },
   {
    "duration": 114,
    "start_time": "2022-08-03T11:24:29.636Z"
   },
   {
    "duration": 61,
    "start_time": "2022-08-03T11:24:39.869Z"
   },
   {
    "duration": 26,
    "start_time": "2022-08-03T11:29:07.071Z"
   },
   {
    "duration": 19,
    "start_time": "2022-08-03T11:29:21.733Z"
   },
   {
    "duration": 15,
    "start_time": "2022-08-03T11:29:30.628Z"
   },
   {
    "duration": 21,
    "start_time": "2022-08-03T11:30:08.779Z"
   },
   {
    "duration": 16,
    "start_time": "2022-08-03T11:30:28.624Z"
   },
   {
    "duration": 22,
    "start_time": "2022-08-03T11:31:37.874Z"
   },
   {
    "duration": 22,
    "start_time": "2022-08-03T11:33:47.056Z"
   },
   {
    "duration": 20,
    "start_time": "2022-08-03T11:33:49.953Z"
   },
   {
    "duration": 1355,
    "start_time": "2022-08-03T13:48:32.193Z"
   },
   {
    "duration": 191,
    "start_time": "2022-08-03T13:48:33.551Z"
   },
   {
    "duration": 13,
    "start_time": "2022-08-03T13:48:33.744Z"
   },
   {
    "duration": 12,
    "start_time": "2022-08-03T13:48:33.759Z"
   },
   {
    "duration": 13,
    "start_time": "2022-08-03T13:48:33.772Z"
   },
   {
    "duration": 33,
    "start_time": "2022-08-03T13:48:33.787Z"
   },
   {
    "duration": 5,
    "start_time": "2022-08-03T13:48:33.821Z"
   },
   {
    "duration": 6,
    "start_time": "2022-08-03T13:48:33.827Z"
   },
   {
    "duration": 37,
    "start_time": "2022-08-03T13:48:33.835Z"
   },
   {
    "duration": 24,
    "start_time": "2022-08-03T13:48:33.875Z"
   },
   {
    "duration": 8,
    "start_time": "2022-08-03T13:48:33.901Z"
   },
   {
    "duration": 10,
    "start_time": "2022-08-03T13:48:33.911Z"
   },
   {
    "duration": 46,
    "start_time": "2022-08-03T13:48:33.923Z"
   },
   {
    "duration": 12,
    "start_time": "2022-08-03T13:48:33.971Z"
   },
   {
    "duration": 12,
    "start_time": "2022-08-03T13:48:33.985Z"
   },
   {
    "duration": 180,
    "start_time": "2022-08-03T13:48:33.998Z"
   },
   {
    "duration": 136,
    "start_time": "2022-08-03T13:48:34.180Z"
   },
   {
    "duration": 11,
    "start_time": "2022-08-03T13:48:34.318Z"
   },
   {
    "duration": 8,
    "start_time": "2022-08-03T13:48:34.331Z"
   },
   {
    "duration": 33,
    "start_time": "2022-08-03T13:48:34.340Z"
   },
   {
    "duration": 395,
    "start_time": "2022-08-03T13:48:34.375Z"
   },
   {
    "duration": 320,
    "start_time": "2022-08-03T13:48:34.772Z"
   },
   {
    "duration": 7,
    "start_time": "2022-08-03T13:48:35.094Z"
   },
   {
    "duration": 453,
    "start_time": "2022-08-03T13:48:35.103Z"
   },
   {
    "duration": 4,
    "start_time": "2022-08-03T13:48:35.558Z"
   },
   {
    "duration": 10,
    "start_time": "2022-08-03T13:48:35.567Z"
   },
   {
    "duration": 358,
    "start_time": "2022-08-03T13:48:35.579Z"
   },
   {
    "duration": 9,
    "start_time": "2022-08-03T13:48:35.940Z"
   },
   {
    "duration": 406,
    "start_time": "2022-08-03T13:48:35.951Z"
   },
   {
    "duration": 16,
    "start_time": "2022-08-03T13:48:36.359Z"
   },
   {
    "duration": 3,
    "start_time": "2022-08-03T13:48:36.376Z"
   },
   {
    "duration": 246,
    "start_time": "2022-08-03T13:48:36.380Z"
   },
   {
    "duration": 8,
    "start_time": "2022-08-03T13:48:36.628Z"
   },
   {
    "duration": 9,
    "start_time": "2022-08-03T13:48:36.637Z"
   },
   {
    "duration": 452,
    "start_time": "2022-08-03T13:48:36.648Z"
   },
   {
    "duration": 5,
    "start_time": "2022-08-03T13:48:37.102Z"
   },
   {
    "duration": 12,
    "start_time": "2022-08-03T13:48:37.109Z"
   },
   {
    "duration": 11,
    "start_time": "2022-08-03T13:48:37.123Z"
   },
   {
    "duration": 70,
    "start_time": "2022-08-03T13:48:37.136Z"
   },
   {
    "duration": 62,
    "start_time": "2022-08-03T13:48:37.208Z"
   },
   {
    "duration": 22,
    "start_time": "2022-08-03T13:48:37.271Z"
   },
   {
    "duration": 19,
    "start_time": "2022-08-03T13:48:37.295Z"
   },
   {
    "duration": 8,
    "start_time": "2022-08-03T13:48:37.316Z"
   },
   {
    "duration": 9,
    "start_time": "2022-08-03T13:48:37.326Z"
   },
   {
    "duration": 57,
    "start_time": "2022-08-03T13:54:01.521Z"
   },
   {
    "duration": 62,
    "start_time": "2022-08-03T13:54:20.086Z"
   },
   {
    "duration": 65,
    "start_time": "2022-08-03T13:55:31.114Z"
   },
   {
    "duration": 57,
    "start_time": "2022-08-03T13:55:41.042Z"
   },
   {
    "duration": 30,
    "start_time": "2022-08-03T14:00:16.217Z"
   },
   {
    "duration": 13,
    "start_time": "2022-08-03T14:24:32.067Z"
   },
   {
    "duration": 12,
    "start_time": "2022-08-03T14:26:42.779Z"
   },
   {
    "duration": 12,
    "start_time": "2022-08-03T14:27:23.042Z"
   },
   {
    "duration": 13,
    "start_time": "2022-08-03T14:27:33.424Z"
   },
   {
    "duration": 3,
    "start_time": "2022-08-03T15:16:48.656Z"
   },
   {
    "duration": 9,
    "start_time": "2022-08-03T15:27:12.587Z"
   },
   {
    "duration": 142,
    "start_time": "2022-08-03T15:31:22.297Z"
   },
   {
    "duration": 104,
    "start_time": "2022-08-03T15:41:28.619Z"
   },
   {
    "duration": 12,
    "start_time": "2022-08-03T15:41:42.123Z"
   },
   {
    "duration": 6,
    "start_time": "2022-08-03T15:41:56.919Z"
   },
   {
    "duration": 6,
    "start_time": "2022-08-03T15:43:44.560Z"
   },
   {
    "duration": 6,
    "start_time": "2022-08-03T15:45:00.734Z"
   },
   {
    "duration": 12,
    "start_time": "2022-08-03T15:51:32.038Z"
   },
   {
    "duration": 10,
    "start_time": "2022-08-03T15:51:56.426Z"
   },
   {
    "duration": 25,
    "start_time": "2022-08-03T15:52:12.022Z"
   },
   {
    "duration": 22,
    "start_time": "2022-08-03T15:54:45.692Z"
   },
   {
    "duration": 1221,
    "start_time": "2022-08-04T08:35:53.968Z"
   },
   {
    "duration": 204,
    "start_time": "2022-08-04T08:35:55.191Z"
   },
   {
    "duration": 17,
    "start_time": "2022-08-04T08:35:55.396Z"
   },
   {
    "duration": 17,
    "start_time": "2022-08-04T08:35:55.415Z"
   },
   {
    "duration": 10,
    "start_time": "2022-08-04T08:35:55.433Z"
   },
   {
    "duration": 34,
    "start_time": "2022-08-04T08:35:55.444Z"
   },
   {
    "duration": 5,
    "start_time": "2022-08-04T08:35:55.479Z"
   },
   {
    "duration": 25,
    "start_time": "2022-08-04T08:35:55.485Z"
   },
   {
    "duration": 6,
    "start_time": "2022-08-04T08:35:55.511Z"
   },
   {
    "duration": 30,
    "start_time": "2022-08-04T08:35:55.519Z"
   },
   {
    "duration": 8,
    "start_time": "2022-08-04T08:35:55.550Z"
   },
   {
    "duration": 9,
    "start_time": "2022-08-04T08:35:55.559Z"
   },
   {
    "duration": 46,
    "start_time": "2022-08-04T08:35:55.570Z"
   },
   {
    "duration": 13,
    "start_time": "2022-08-04T08:35:55.617Z"
   },
   {
    "duration": 9,
    "start_time": "2022-08-04T08:35:55.632Z"
   },
   {
    "duration": 166,
    "start_time": "2022-08-04T08:35:55.643Z"
   },
   {
    "duration": 122,
    "start_time": "2022-08-04T08:35:55.810Z"
   },
   {
    "duration": 12,
    "start_time": "2022-08-04T08:35:55.934Z"
   },
   {
    "duration": 9,
    "start_time": "2022-08-04T08:35:55.947Z"
   },
   {
    "duration": 9,
    "start_time": "2022-08-04T08:35:55.957Z"
   },
   {
    "duration": 361,
    "start_time": "2022-08-04T08:35:55.967Z"
   },
   {
    "duration": 286,
    "start_time": "2022-08-04T08:35:56.330Z"
   },
   {
    "duration": 5,
    "start_time": "2022-08-04T08:35:56.618Z"
   },
   {
    "duration": 407,
    "start_time": "2022-08-04T08:35:56.624Z"
   },
   {
    "duration": 4,
    "start_time": "2022-08-04T08:35:57.033Z"
   },
   {
    "duration": 21,
    "start_time": "2022-08-04T08:35:57.038Z"
   },
   {
    "duration": 354,
    "start_time": "2022-08-04T08:35:57.061Z"
   },
   {
    "duration": 8,
    "start_time": "2022-08-04T08:35:57.419Z"
   },
   {
    "duration": 349,
    "start_time": "2022-08-04T08:35:57.428Z"
   },
   {
    "duration": 10,
    "start_time": "2022-08-04T08:35:57.779Z"
   },
   {
    "duration": 17,
    "start_time": "2022-08-04T08:35:57.800Z"
   },
   {
    "duration": 206,
    "start_time": "2022-08-04T08:35:57.819Z"
   },
   {
    "duration": 6,
    "start_time": "2022-08-04T08:35:58.026Z"
   },
   {
    "duration": 27,
    "start_time": "2022-08-04T08:35:58.033Z"
   },
   {
    "duration": 409,
    "start_time": "2022-08-04T08:35:58.061Z"
   },
   {
    "duration": 7,
    "start_time": "2022-08-04T08:35:58.471Z"
   },
   {
    "duration": 35,
    "start_time": "2022-08-04T08:35:58.480Z"
   },
   {
    "duration": 10,
    "start_time": "2022-08-04T08:35:58.517Z"
   },
   {
    "duration": 50,
    "start_time": "2022-08-04T08:35:58.528Z"
   },
   {
    "duration": 49,
    "start_time": "2022-08-04T08:35:58.580Z"
   },
   {
    "duration": 23,
    "start_time": "2022-08-04T08:35:58.631Z"
   },
   {
    "duration": 21,
    "start_time": "2022-08-04T08:35:58.656Z"
   },
   {
    "duration": 68,
    "start_time": "2022-08-04T08:35:58.678Z"
   },
   {
    "duration": 59,
    "start_time": "2022-08-04T08:35:58.748Z"
   },
   {
    "duration": 38,
    "start_time": "2022-08-04T08:35:58.808Z"
   },
   {
    "duration": 165,
    "start_time": "2022-08-04T08:35:58.847Z"
   },
   {
    "duration": 7,
    "start_time": "2022-08-04T08:35:59.014Z"
   },
   {
    "duration": 26,
    "start_time": "2022-08-04T08:35:59.023Z"
   },
   {
    "duration": 10,
    "start_time": "2022-08-04T08:35:59.050Z"
   },
   {
    "duration": 7,
    "start_time": "2022-08-04T08:35:59.061Z"
   },
   {
    "duration": 10,
    "start_time": "2022-08-04T08:35:59.069Z"
   },
   {
    "duration": 6,
    "start_time": "2022-08-04T08:47:35.644Z"
   },
   {
    "duration": 10,
    "start_time": "2022-08-04T08:49:45.528Z"
   },
   {
    "duration": 7,
    "start_time": "2022-08-04T08:49:58.389Z"
   },
   {
    "duration": 5,
    "start_time": "2022-08-04T08:54:19.931Z"
   },
   {
    "duration": 7,
    "start_time": "2022-08-04T08:54:26.450Z"
   },
   {
    "duration": 5,
    "start_time": "2022-08-04T08:54:34.242Z"
   },
   {
    "duration": 6,
    "start_time": "2022-08-04T08:57:54.837Z"
   },
   {
    "duration": 4,
    "start_time": "2022-08-04T08:58:08.271Z"
   },
   {
    "duration": 7,
    "start_time": "2022-08-04T09:17:30.127Z"
   },
   {
    "duration": 100,
    "start_time": "2022-08-04T09:19:09.439Z"
   },
   {
    "duration": 7,
    "start_time": "2022-08-04T09:19:42.413Z"
   },
   {
    "duration": 8,
    "start_time": "2022-08-04T09:21:01.999Z"
   },
   {
    "duration": 1071,
    "start_time": "2022-08-04T09:21:09.859Z"
   },
   {
    "duration": 96,
    "start_time": "2022-08-04T09:21:10.932Z"
   },
   {
    "duration": 12,
    "start_time": "2022-08-04T09:21:11.030Z"
   },
   {
    "duration": 20,
    "start_time": "2022-08-04T09:21:11.043Z"
   },
   {
    "duration": 14,
    "start_time": "2022-08-04T09:21:11.064Z"
   },
   {
    "duration": 40,
    "start_time": "2022-08-04T09:21:11.080Z"
   },
   {
    "duration": 5,
    "start_time": "2022-08-04T09:21:11.121Z"
   },
   {
    "duration": 25,
    "start_time": "2022-08-04T09:21:11.128Z"
   },
   {
    "duration": 15,
    "start_time": "2022-08-04T09:21:11.155Z"
   },
   {
    "duration": 38,
    "start_time": "2022-08-04T09:21:11.172Z"
   },
   {
    "duration": 12,
    "start_time": "2022-08-04T09:21:11.212Z"
   },
   {
    "duration": 33,
    "start_time": "2022-08-04T09:21:11.226Z"
   },
   {
    "duration": 10,
    "start_time": "2022-08-04T09:21:11.260Z"
   },
   {
    "duration": 9,
    "start_time": "2022-08-04T09:21:11.272Z"
   },
   {
    "duration": 23,
    "start_time": "2022-08-04T09:21:11.283Z"
   },
   {
    "duration": 177,
    "start_time": "2022-08-04T09:21:11.308Z"
   },
   {
    "duration": 144,
    "start_time": "2022-08-04T09:21:11.487Z"
   },
   {
    "duration": 16,
    "start_time": "2022-08-04T09:21:11.633Z"
   },
   {
    "duration": 14,
    "start_time": "2022-08-04T09:21:11.651Z"
   },
   {
    "duration": 14,
    "start_time": "2022-08-04T09:21:11.666Z"
   },
   {
    "duration": 380,
    "start_time": "2022-08-04T09:21:11.682Z"
   },
   {
    "duration": 306,
    "start_time": "2022-08-04T09:21:12.064Z"
   },
   {
    "duration": 6,
    "start_time": "2022-08-04T09:21:12.371Z"
   },
   {
    "duration": 414,
    "start_time": "2022-08-04T09:21:12.379Z"
   },
   {
    "duration": 8,
    "start_time": "2022-08-04T09:21:12.799Z"
   },
   {
    "duration": 24,
    "start_time": "2022-08-04T09:21:12.809Z"
   },
   {
    "duration": 331,
    "start_time": "2022-08-04T09:21:12.835Z"
   },
   {
    "duration": 8,
    "start_time": "2022-08-04T09:21:13.170Z"
   },
   {
    "duration": 405,
    "start_time": "2022-08-04T09:21:13.179Z"
   },
   {
    "duration": 20,
    "start_time": "2022-08-04T09:21:13.585Z"
   },
   {
    "duration": 3,
    "start_time": "2022-08-04T09:21:13.607Z"
   },
   {
    "duration": 192,
    "start_time": "2022-08-04T09:21:13.612Z"
   },
   {
    "duration": 7,
    "start_time": "2022-08-04T09:21:13.805Z"
   },
   {
    "duration": 8,
    "start_time": "2022-08-04T09:21:13.814Z"
   },
   {
    "duration": 399,
    "start_time": "2022-08-04T09:21:13.824Z"
   },
   {
    "duration": 6,
    "start_time": "2022-08-04T09:21:14.225Z"
   },
   {
    "duration": 15,
    "start_time": "2022-08-04T09:21:14.233Z"
   },
   {
    "duration": 13,
    "start_time": "2022-08-04T09:21:14.250Z"
   },
   {
    "duration": 65,
    "start_time": "2022-08-04T09:21:14.265Z"
   },
   {
    "duration": 51,
    "start_time": "2022-08-04T09:21:14.332Z"
   },
   {
    "duration": 35,
    "start_time": "2022-08-04T09:21:14.385Z"
   },
   {
    "duration": 26,
    "start_time": "2022-08-04T09:21:14.422Z"
   },
   {
    "duration": 54,
    "start_time": "2022-08-04T09:21:14.449Z"
   },
   {
    "duration": 65,
    "start_time": "2022-08-04T09:21:14.506Z"
   },
   {
    "duration": 32,
    "start_time": "2022-08-04T09:21:14.572Z"
   },
   {
    "duration": 161,
    "start_time": "2022-08-04T09:21:14.609Z"
   },
   {
    "duration": 8,
    "start_time": "2022-08-04T09:21:14.772Z"
   },
   {
    "duration": 30,
    "start_time": "2022-08-04T09:21:14.782Z"
   },
   {
    "duration": 10,
    "start_time": "2022-08-04T09:21:14.817Z"
   },
   {
    "duration": 8,
    "start_time": "2022-08-04T09:21:14.828Z"
   },
   {
    "duration": 9,
    "start_time": "2022-08-04T09:21:14.837Z"
   },
   {
    "duration": 4,
    "start_time": "2022-08-04T09:21:14.848Z"
   },
   {
    "duration": 8,
    "start_time": "2022-08-04T09:21:14.854Z"
   },
   {
    "duration": 7,
    "start_time": "2022-08-04T09:21:14.864Z"
   },
   {
    "duration": 29,
    "start_time": "2022-08-04T09:21:14.872Z"
   },
   {
    "duration": 7,
    "start_time": "2022-08-04T09:21:14.903Z"
   },
   {
    "duration": 8,
    "start_time": "2022-08-04T09:23:23.693Z"
   },
   {
    "duration": 25,
    "start_time": "2022-08-04T09:26:20.198Z"
   },
   {
    "duration": 18,
    "start_time": "2022-08-04T09:27:05.643Z"
   },
   {
    "duration": 21,
    "start_time": "2022-08-04T09:27:16.134Z"
   },
   {
    "duration": 11,
    "start_time": "2022-08-04T09:44:09.049Z"
   },
   {
    "duration": 64,
    "start_time": "2022-08-04T09:59:26.537Z"
   },
   {
    "duration": 16,
    "start_time": "2022-08-04T09:59:49.615Z"
   },
   {
    "duration": 1083,
    "start_time": "2022-08-04T10:59:22.362Z"
   },
   {
    "duration": 77,
    "start_time": "2022-08-04T10:59:23.446Z"
   },
   {
    "duration": 13,
    "start_time": "2022-08-04T10:59:23.525Z"
   },
   {
    "duration": 7,
    "start_time": "2022-08-04T10:59:23.540Z"
   },
   {
    "duration": 13,
    "start_time": "2022-08-04T10:59:23.548Z"
   },
   {
    "duration": 40,
    "start_time": "2022-08-04T10:59:23.562Z"
   },
   {
    "duration": 5,
    "start_time": "2022-08-04T10:59:23.604Z"
   },
   {
    "duration": 13,
    "start_time": "2022-08-04T10:59:23.610Z"
   },
   {
    "duration": 18,
    "start_time": "2022-08-04T10:59:23.625Z"
   },
   {
    "duration": 27,
    "start_time": "2022-08-04T10:59:23.646Z"
   },
   {
    "duration": 11,
    "start_time": "2022-08-04T10:59:23.700Z"
   },
   {
    "duration": 13,
    "start_time": "2022-08-04T10:59:23.712Z"
   },
   {
    "duration": 10,
    "start_time": "2022-08-04T10:59:23.727Z"
   },
   {
    "duration": 11,
    "start_time": "2022-08-04T10:59:23.739Z"
   },
   {
    "duration": 12,
    "start_time": "2022-08-04T10:59:23.751Z"
   },
   {
    "duration": 218,
    "start_time": "2022-08-04T10:59:23.764Z"
   },
   {
    "duration": 140,
    "start_time": "2022-08-04T10:59:23.984Z"
   },
   {
    "duration": 11,
    "start_time": "2022-08-04T10:59:24.126Z"
   },
   {
    "duration": 7,
    "start_time": "2022-08-04T10:59:24.138Z"
   },
   {
    "duration": 19,
    "start_time": "2022-08-04T10:59:24.147Z"
   },
   {
    "duration": 360,
    "start_time": "2022-08-04T10:59:24.167Z"
   },
   {
    "duration": 288,
    "start_time": "2022-08-04T10:59:24.529Z"
   },
   {
    "duration": 6,
    "start_time": "2022-08-04T10:59:24.819Z"
   },
   {
    "duration": 393,
    "start_time": "2022-08-04T10:59:24.827Z"
   },
   {
    "duration": 4,
    "start_time": "2022-08-04T10:59:25.222Z"
   },
   {
    "duration": 13,
    "start_time": "2022-08-04T10:59:25.228Z"
   },
   {
    "duration": 320,
    "start_time": "2022-08-04T10:59:25.243Z"
   },
   {
    "duration": 11,
    "start_time": "2022-08-04T10:59:25.568Z"
   },
   {
    "duration": 396,
    "start_time": "2022-08-04T10:59:25.582Z"
   },
   {
    "duration": 25,
    "start_time": "2022-08-04T10:59:25.980Z"
   },
   {
    "duration": 3,
    "start_time": "2022-08-04T10:59:26.006Z"
   },
   {
    "duration": 216,
    "start_time": "2022-08-04T10:59:26.011Z"
   },
   {
    "duration": 6,
    "start_time": "2022-08-04T10:59:26.229Z"
   },
   {
    "duration": 7,
    "start_time": "2022-08-04T10:59:26.237Z"
   },
   {
    "duration": 408,
    "start_time": "2022-08-04T10:59:26.245Z"
   },
   {
    "duration": 7,
    "start_time": "2022-08-04T10:59:26.655Z"
   },
   {
    "duration": 18,
    "start_time": "2022-08-04T10:59:26.664Z"
   },
   {
    "duration": 25,
    "start_time": "2022-08-04T10:59:26.683Z"
   },
   {
    "duration": 93,
    "start_time": "2022-08-04T10:59:26.710Z"
   },
   {
    "duration": 0,
    "start_time": "2022-08-04T10:59:26.805Z"
   },
   {
    "duration": 0,
    "start_time": "2022-08-04T10:59:26.806Z"
   },
   {
    "duration": 0,
    "start_time": "2022-08-04T10:59:26.808Z"
   },
   {
    "duration": 0,
    "start_time": "2022-08-04T10:59:26.809Z"
   },
   {
    "duration": 0,
    "start_time": "2022-08-04T10:59:26.810Z"
   },
   {
    "duration": 0,
    "start_time": "2022-08-04T10:59:26.812Z"
   },
   {
    "duration": 0,
    "start_time": "2022-08-04T10:59:26.813Z"
   },
   {
    "duration": 0,
    "start_time": "2022-08-04T10:59:26.814Z"
   },
   {
    "duration": 0,
    "start_time": "2022-08-04T10:59:26.816Z"
   },
   {
    "duration": 0,
    "start_time": "2022-08-04T10:59:26.817Z"
   },
   {
    "duration": 0,
    "start_time": "2022-08-04T10:59:26.818Z"
   },
   {
    "duration": 0,
    "start_time": "2022-08-04T10:59:26.819Z"
   },
   {
    "duration": 0,
    "start_time": "2022-08-04T10:59:26.821Z"
   },
   {
    "duration": 1166,
    "start_time": "2022-08-04T11:02:10.618Z"
   },
   {
    "duration": 76,
    "start_time": "2022-08-04T11:02:11.786Z"
   },
   {
    "duration": 12,
    "start_time": "2022-08-04T11:02:11.864Z"
   },
   {
    "duration": 34,
    "start_time": "2022-08-04T11:02:11.878Z"
   },
   {
    "duration": 32,
    "start_time": "2022-08-04T11:02:11.913Z"
   },
   {
    "duration": 52,
    "start_time": "2022-08-04T11:02:11.946Z"
   },
   {
    "duration": 5,
    "start_time": "2022-08-04T11:02:11.999Z"
   },
   {
    "duration": 29,
    "start_time": "2022-08-04T11:02:12.005Z"
   },
   {
    "duration": 15,
    "start_time": "2022-08-04T11:02:12.036Z"
   },
   {
    "duration": 55,
    "start_time": "2022-08-04T11:02:12.053Z"
   },
   {
    "duration": 10,
    "start_time": "2022-08-04T11:02:12.110Z"
   },
   {
    "duration": 32,
    "start_time": "2022-08-04T11:02:12.122Z"
   },
   {
    "duration": 49,
    "start_time": "2022-08-04T11:02:12.156Z"
   },
   {
    "duration": 21,
    "start_time": "2022-08-04T11:02:12.207Z"
   },
   {
    "duration": 32,
    "start_time": "2022-08-04T11:02:12.230Z"
   },
   {
    "duration": 185,
    "start_time": "2022-08-04T11:02:12.264Z"
   },
   {
    "duration": 120,
    "start_time": "2022-08-04T11:02:12.451Z"
   },
   {
    "duration": 11,
    "start_time": "2022-08-04T11:02:12.573Z"
   },
   {
    "duration": 24,
    "start_time": "2022-08-04T11:02:12.599Z"
   },
   {
    "duration": 36,
    "start_time": "2022-08-04T11:02:12.625Z"
   },
   {
    "duration": 364,
    "start_time": "2022-08-04T11:02:12.662Z"
   },
   {
    "duration": 284,
    "start_time": "2022-08-04T11:02:13.028Z"
   },
   {
    "duration": 6,
    "start_time": "2022-08-04T11:02:13.313Z"
   },
   {
    "duration": 368,
    "start_time": "2022-08-04T11:02:13.321Z"
   },
   {
    "duration": 11,
    "start_time": "2022-08-04T11:02:13.691Z"
   },
   {
    "duration": 45,
    "start_time": "2022-08-04T11:02:13.703Z"
   },
   {
    "duration": 336,
    "start_time": "2022-08-04T11:02:13.750Z"
   },
   {
    "duration": 7,
    "start_time": "2022-08-04T11:02:14.090Z"
   },
   {
    "duration": 385,
    "start_time": "2022-08-04T11:02:14.099Z"
   },
   {
    "duration": 16,
    "start_time": "2022-08-04T11:02:14.485Z"
   },
   {
    "duration": 13,
    "start_time": "2022-08-04T11:02:14.502Z"
   },
   {
    "duration": 214,
    "start_time": "2022-08-04T11:02:14.516Z"
   },
   {
    "duration": 6,
    "start_time": "2022-08-04T11:02:14.732Z"
   },
   {
    "duration": 13,
    "start_time": "2022-08-04T11:02:14.739Z"
   },
   {
    "duration": 387,
    "start_time": "2022-08-04T11:02:14.754Z"
   },
   {
    "duration": 6,
    "start_time": "2022-08-04T11:02:15.142Z"
   },
   {
    "duration": 43,
    "start_time": "2022-08-04T11:02:15.150Z"
   },
   {
    "duration": 37,
    "start_time": "2022-08-04T11:02:15.195Z"
   },
   {
    "duration": 39,
    "start_time": "2022-08-04T11:02:15.233Z"
   },
   {
    "duration": 135,
    "start_time": "2022-08-04T11:02:15.274Z"
   },
   {
    "duration": 5,
    "start_time": "2022-08-04T11:02:15.411Z"
   },
   {
    "duration": 38,
    "start_time": "2022-08-04T11:02:15.418Z"
   },
   {
    "duration": 35,
    "start_time": "2022-08-04T11:02:15.458Z"
   },
   {
    "duration": 20,
    "start_time": "2022-08-04T11:02:15.495Z"
   },
   {
    "duration": 27,
    "start_time": "2022-08-04T11:02:15.517Z"
   },
   {
    "duration": 16,
    "start_time": "2022-08-04T11:02:15.546Z"
   },
   {
    "duration": 45,
    "start_time": "2022-08-04T11:02:15.563Z"
   },
   {
    "duration": 50,
    "start_time": "2022-08-04T11:02:15.611Z"
   },
   {
    "duration": 18,
    "start_time": "2022-08-04T11:02:15.663Z"
   },
   {
    "duration": 40,
    "start_time": "2022-08-04T11:02:15.683Z"
   },
   {
    "duration": 32,
    "start_time": "2022-08-04T11:02:15.724Z"
   },
   {
    "duration": 27,
    "start_time": "2022-08-04T11:02:15.757Z"
   },
   {
    "duration": 1094,
    "start_time": "2022-08-04T11:06:20.267Z"
   },
   {
    "duration": 75,
    "start_time": "2022-08-04T11:06:21.363Z"
   },
   {
    "duration": 18,
    "start_time": "2022-08-04T11:06:21.440Z"
   },
   {
    "duration": 14,
    "start_time": "2022-08-04T11:06:21.460Z"
   },
   {
    "duration": 28,
    "start_time": "2022-08-04T11:06:21.476Z"
   },
   {
    "duration": 48,
    "start_time": "2022-08-04T11:06:21.506Z"
   },
   {
    "duration": 5,
    "start_time": "2022-08-04T11:06:21.555Z"
   },
   {
    "duration": 20,
    "start_time": "2022-08-04T11:06:21.562Z"
   },
   {
    "duration": 8,
    "start_time": "2022-08-04T11:06:21.599Z"
   },
   {
    "duration": 30,
    "start_time": "2022-08-04T11:06:21.610Z"
   },
   {
    "duration": 9,
    "start_time": "2022-08-04T11:06:21.642Z"
   },
   {
    "duration": 11,
    "start_time": "2022-08-04T11:06:21.652Z"
   },
   {
    "duration": 12,
    "start_time": "2022-08-04T11:06:21.700Z"
   },
   {
    "duration": 11,
    "start_time": "2022-08-04T11:06:21.714Z"
   },
   {
    "duration": 10,
    "start_time": "2022-08-04T11:06:21.726Z"
   },
   {
    "duration": 182,
    "start_time": "2022-08-04T11:06:21.738Z"
   },
   {
    "duration": 130,
    "start_time": "2022-08-04T11:06:21.922Z"
   },
   {
    "duration": 11,
    "start_time": "2022-08-04T11:06:22.054Z"
   },
   {
    "duration": 16,
    "start_time": "2022-08-04T11:06:22.067Z"
   },
   {
    "duration": 34,
    "start_time": "2022-08-04T11:06:22.084Z"
   },
   {
    "duration": 428,
    "start_time": "2022-08-04T11:06:22.120Z"
   },
   {
    "duration": 304,
    "start_time": "2022-08-04T11:06:22.550Z"
   },
   {
    "duration": 6,
    "start_time": "2022-08-04T11:06:22.856Z"
   },
   {
    "duration": 421,
    "start_time": "2022-08-04T11:06:22.864Z"
   },
   {
    "duration": 4,
    "start_time": "2022-08-04T11:06:23.287Z"
   },
   {
    "duration": 7,
    "start_time": "2022-08-04T11:06:23.300Z"
   },
   {
    "duration": 330,
    "start_time": "2022-08-04T11:06:23.308Z"
   },
   {
    "duration": 7,
    "start_time": "2022-08-04T11:06:23.642Z"
   },
   {
    "duration": 361,
    "start_time": "2022-08-04T11:06:23.651Z"
   },
   {
    "duration": 12,
    "start_time": "2022-08-04T11:06:24.013Z"
   },
   {
    "duration": 2,
    "start_time": "2022-08-04T11:06:24.027Z"
   },
   {
    "duration": 195,
    "start_time": "2022-08-04T11:06:24.031Z"
   },
   {
    "duration": 6,
    "start_time": "2022-08-04T11:06:24.228Z"
   },
   {
    "duration": 4,
    "start_time": "2022-08-04T11:06:24.235Z"
   },
   {
    "duration": 381,
    "start_time": "2022-08-04T11:06:24.240Z"
   },
   {
    "duration": 6,
    "start_time": "2022-08-04T11:06:24.623Z"
   },
   {
    "duration": 130,
    "start_time": "2022-08-04T11:06:24.630Z"
   },
   {
    "duration": 8,
    "start_time": "2022-08-04T11:06:24.762Z"
   },
   {
    "duration": 39,
    "start_time": "2022-08-04T11:06:24.772Z"
   },
   {
    "duration": 28,
    "start_time": "2022-08-04T11:06:24.813Z"
   },
   {
    "duration": 7,
    "start_time": "2022-08-04T11:06:24.843Z"
   },
   {
    "duration": 24,
    "start_time": "2022-08-04T11:06:24.851Z"
   },
   {
    "duration": 11,
    "start_time": "2022-08-04T11:06:24.876Z"
   },
   {
    "duration": 12,
    "start_time": "2022-08-04T11:06:24.889Z"
   },
   {
    "duration": 12,
    "start_time": "2022-08-04T11:06:24.903Z"
   },
   {
    "duration": 15,
    "start_time": "2022-08-04T11:06:24.917Z"
   },
   {
    "duration": 11,
    "start_time": "2022-08-04T11:06:24.933Z"
   },
   {
    "duration": 27,
    "start_time": "2022-08-04T11:06:24.945Z"
   },
   {
    "duration": 15,
    "start_time": "2022-08-04T11:06:24.974Z"
   },
   {
    "duration": 12,
    "start_time": "2022-08-04T11:06:24.990Z"
   },
   {
    "duration": 14,
    "start_time": "2022-08-04T11:06:25.004Z"
   },
   {
    "duration": 12,
    "start_time": "2022-08-04T11:06:25.019Z"
   },
   {
    "duration": 1115,
    "start_time": "2022-08-04T11:07:52.149Z"
   },
   {
    "duration": 76,
    "start_time": "2022-08-04T11:07:53.266Z"
   },
   {
    "duration": 14,
    "start_time": "2022-08-04T11:07:53.344Z"
   },
   {
    "duration": 7,
    "start_time": "2022-08-04T11:07:53.360Z"
   },
   {
    "duration": 16,
    "start_time": "2022-08-04T11:07:53.369Z"
   },
   {
    "duration": 34,
    "start_time": "2022-08-04T11:07:53.387Z"
   },
   {
    "duration": 5,
    "start_time": "2022-08-04T11:07:53.422Z"
   },
   {
    "duration": 6,
    "start_time": "2022-08-04T11:07:53.429Z"
   },
   {
    "duration": 10,
    "start_time": "2022-08-04T11:07:53.437Z"
   },
   {
    "duration": 60,
    "start_time": "2022-08-04T11:07:53.449Z"
   },
   {
    "duration": 9,
    "start_time": "2022-08-04T11:07:53.511Z"
   },
   {
    "duration": 13,
    "start_time": "2022-08-04T11:07:53.522Z"
   },
   {
    "duration": 11,
    "start_time": "2022-08-04T11:07:53.536Z"
   },
   {
    "duration": 10,
    "start_time": "2022-08-04T11:07:53.549Z"
   },
   {
    "duration": 42,
    "start_time": "2022-08-04T11:07:53.561Z"
   },
   {
    "duration": 181,
    "start_time": "2022-08-04T11:07:53.605Z"
   },
   {
    "duration": 150,
    "start_time": "2022-08-04T11:07:53.788Z"
   },
   {
    "duration": 13,
    "start_time": "2022-08-04T11:07:53.940Z"
   },
   {
    "duration": 7,
    "start_time": "2022-08-04T11:07:53.955Z"
   },
   {
    "duration": 14,
    "start_time": "2022-08-04T11:07:53.964Z"
   },
   {
    "duration": 378,
    "start_time": "2022-08-04T11:07:53.979Z"
   },
   {
    "duration": 278,
    "start_time": "2022-08-04T11:07:54.358Z"
   },
   {
    "duration": 6,
    "start_time": "2022-08-04T11:07:54.637Z"
   },
   {
    "duration": 369,
    "start_time": "2022-08-04T11:07:54.645Z"
   },
   {
    "duration": 4,
    "start_time": "2022-08-04T11:07:55.016Z"
   },
   {
    "duration": 10,
    "start_time": "2022-08-04T11:07:55.022Z"
   },
   {
    "duration": 304,
    "start_time": "2022-08-04T11:07:55.034Z"
   },
   {
    "duration": 9,
    "start_time": "2022-08-04T11:07:55.342Z"
   },
   {
    "duration": 375,
    "start_time": "2022-08-04T11:07:55.352Z"
   },
   {
    "duration": 11,
    "start_time": "2022-08-04T11:07:55.729Z"
   },
   {
    "duration": 4,
    "start_time": "2022-08-04T11:07:55.741Z"
   },
   {
    "duration": 201,
    "start_time": "2022-08-04T11:07:55.747Z"
   },
   {
    "duration": 6,
    "start_time": "2022-08-04T11:07:55.949Z"
   },
   {
    "duration": 9,
    "start_time": "2022-08-04T11:07:55.957Z"
   },
   {
    "duration": 385,
    "start_time": "2022-08-04T11:07:55.967Z"
   },
   {
    "duration": 6,
    "start_time": "2022-08-04T11:07:56.353Z"
   },
   {
    "duration": 152,
    "start_time": "2022-08-04T11:07:56.361Z"
   },
   {
    "duration": 10,
    "start_time": "2022-08-04T11:07:56.515Z"
   },
   {
    "duration": 13,
    "start_time": "2022-08-04T11:07:56.527Z"
   },
   {
    "duration": 22,
    "start_time": "2022-08-04T11:07:56.542Z"
   },
   {
    "duration": 15,
    "start_time": "2022-08-04T11:07:56.565Z"
   },
   {
    "duration": 32,
    "start_time": "2022-08-04T11:07:56.582Z"
   },
   {
    "duration": 24,
    "start_time": "2022-08-04T11:07:56.616Z"
   },
   {
    "duration": 14,
    "start_time": "2022-08-04T11:07:56.642Z"
   },
   {
    "duration": 10,
    "start_time": "2022-08-04T11:07:56.658Z"
   },
   {
    "duration": 21,
    "start_time": "2022-08-04T11:07:56.670Z"
   },
   {
    "duration": 43,
    "start_time": "2022-08-04T11:07:56.693Z"
   },
   {
    "duration": 32,
    "start_time": "2022-08-04T11:07:56.737Z"
   },
   {
    "duration": 16,
    "start_time": "2022-08-04T11:07:56.771Z"
   },
   {
    "duration": 37,
    "start_time": "2022-08-04T11:07:56.788Z"
   },
   {
    "duration": 27,
    "start_time": "2022-08-04T11:07:56.827Z"
   },
   {
    "duration": 30,
    "start_time": "2022-08-04T11:07:56.856Z"
   },
   {
    "duration": 1013,
    "start_time": "2022-08-04T11:08:35.952Z"
   },
   {
    "duration": 77,
    "start_time": "2022-08-04T11:08:36.967Z"
   },
   {
    "duration": 12,
    "start_time": "2022-08-04T11:08:37.045Z"
   },
   {
    "duration": 16,
    "start_time": "2022-08-04T11:08:37.059Z"
   },
   {
    "duration": 28,
    "start_time": "2022-08-04T11:08:37.076Z"
   },
   {
    "duration": 46,
    "start_time": "2022-08-04T11:08:37.105Z"
   },
   {
    "duration": 9,
    "start_time": "2022-08-04T11:08:37.153Z"
   },
   {
    "duration": 8,
    "start_time": "2022-08-04T11:08:37.163Z"
   },
   {
    "duration": 17,
    "start_time": "2022-08-04T11:08:37.173Z"
   },
   {
    "duration": 27,
    "start_time": "2022-08-04T11:08:37.193Z"
   },
   {
    "duration": 11,
    "start_time": "2022-08-04T11:08:37.221Z"
   },
   {
    "duration": 32,
    "start_time": "2022-08-04T11:08:37.233Z"
   },
   {
    "duration": 12,
    "start_time": "2022-08-04T11:08:37.266Z"
   },
   {
    "duration": 11,
    "start_time": "2022-08-04T11:08:37.300Z"
   },
   {
    "duration": 16,
    "start_time": "2022-08-04T11:08:37.312Z"
   },
   {
    "duration": 171,
    "start_time": "2022-08-04T11:08:37.329Z"
   },
   {
    "duration": 119,
    "start_time": "2022-08-04T11:08:37.501Z"
   },
   {
    "duration": 10,
    "start_time": "2022-08-04T11:08:37.622Z"
   },
   {
    "duration": 8,
    "start_time": "2022-08-04T11:08:37.634Z"
   },
   {
    "duration": 11,
    "start_time": "2022-08-04T11:08:37.644Z"
   },
   {
    "duration": 363,
    "start_time": "2022-08-04T11:08:37.657Z"
   },
   {
    "duration": 295,
    "start_time": "2022-08-04T11:08:38.022Z"
   },
   {
    "duration": 6,
    "start_time": "2022-08-04T11:08:38.319Z"
   },
   {
    "duration": 362,
    "start_time": "2022-08-04T11:08:38.327Z"
   },
   {
    "duration": 9,
    "start_time": "2022-08-04T11:08:38.691Z"
   },
   {
    "duration": 16,
    "start_time": "2022-08-04T11:08:38.701Z"
   },
   {
    "duration": 324,
    "start_time": "2022-08-04T11:08:38.718Z"
   },
   {
    "duration": 8,
    "start_time": "2022-08-04T11:08:39.046Z"
   },
   {
    "duration": 358,
    "start_time": "2022-08-04T11:08:39.055Z"
   },
   {
    "duration": 10,
    "start_time": "2022-08-04T11:08:39.415Z"
   },
   {
    "duration": 3,
    "start_time": "2022-08-04T11:08:39.426Z"
   },
   {
    "duration": 191,
    "start_time": "2022-08-04T11:08:39.430Z"
   },
   {
    "duration": 5,
    "start_time": "2022-08-04T11:08:39.622Z"
   },
   {
    "duration": 15,
    "start_time": "2022-08-04T11:08:39.628Z"
   },
   {
    "duration": 373,
    "start_time": "2022-08-04T11:08:39.644Z"
   },
   {
    "duration": 7,
    "start_time": "2022-08-04T11:08:40.018Z"
   },
   {
    "duration": 151,
    "start_time": "2022-08-04T11:08:40.026Z"
   },
   {
    "duration": 9,
    "start_time": "2022-08-04T11:08:40.178Z"
   },
   {
    "duration": 24,
    "start_time": "2022-08-04T11:08:40.189Z"
   },
   {
    "duration": 26,
    "start_time": "2022-08-04T11:08:40.215Z"
   },
   {
    "duration": 15,
    "start_time": "2022-08-04T11:08:40.242Z"
   },
   {
    "duration": 32,
    "start_time": "2022-08-04T11:08:40.259Z"
   },
   {
    "duration": 24,
    "start_time": "2022-08-04T11:08:40.293Z"
   },
   {
    "duration": 15,
    "start_time": "2022-08-04T11:08:40.319Z"
   },
   {
    "duration": 10,
    "start_time": "2022-08-04T11:08:40.335Z"
   },
   {
    "duration": 17,
    "start_time": "2022-08-04T11:08:40.347Z"
   },
   {
    "duration": 18,
    "start_time": "2022-08-04T11:08:40.366Z"
   },
   {
    "duration": 29,
    "start_time": "2022-08-04T11:08:40.386Z"
   },
   {
    "duration": 18,
    "start_time": "2022-08-04T11:08:40.416Z"
   },
   {
    "duration": 18,
    "start_time": "2022-08-04T11:08:40.436Z"
   },
   {
    "duration": 28,
    "start_time": "2022-08-04T11:08:40.455Z"
   },
   {
    "duration": 17,
    "start_time": "2022-08-04T11:08:40.484Z"
   },
   {
    "duration": 45,
    "start_time": "2022-08-04T13:38:37.114Z"
   },
   {
    "duration": 1267,
    "start_time": "2022-08-04T13:38:46.064Z"
   },
   {
    "duration": 237,
    "start_time": "2022-08-04T13:38:47.335Z"
   },
   {
    "duration": 13,
    "start_time": "2022-08-04T13:38:47.574Z"
   },
   {
    "duration": 8,
    "start_time": "2022-08-04T13:38:47.590Z"
   },
   {
    "duration": 12,
    "start_time": "2022-08-04T13:38:47.599Z"
   },
   {
    "duration": 33,
    "start_time": "2022-08-04T13:38:47.613Z"
   },
   {
    "duration": 4,
    "start_time": "2022-08-04T13:38:47.647Z"
   },
   {
    "duration": 11,
    "start_time": "2022-08-04T13:38:47.652Z"
   },
   {
    "duration": 14,
    "start_time": "2022-08-04T13:38:47.664Z"
   },
   {
    "duration": 48,
    "start_time": "2022-08-04T13:38:47.681Z"
   },
   {
    "duration": 11,
    "start_time": "2022-08-04T13:38:47.731Z"
   },
   {
    "duration": 10,
    "start_time": "2022-08-04T13:38:47.744Z"
   },
   {
    "duration": 7,
    "start_time": "2022-08-04T13:38:47.756Z"
   },
   {
    "duration": 52,
    "start_time": "2022-08-04T13:38:47.765Z"
   },
   {
    "duration": 10,
    "start_time": "2022-08-04T13:38:47.819Z"
   },
   {
    "duration": 11,
    "start_time": "2022-08-04T13:38:47.831Z"
   },
   {
    "duration": 182,
    "start_time": "2022-08-04T13:38:47.844Z"
   },
   {
    "duration": 133,
    "start_time": "2022-08-04T13:38:48.028Z"
   },
   {
    "duration": 14,
    "start_time": "2022-08-04T13:38:48.162Z"
   },
   {
    "duration": 8,
    "start_time": "2022-08-04T13:38:48.178Z"
   },
   {
    "duration": 29,
    "start_time": "2022-08-04T13:38:48.187Z"
   },
   {
    "duration": 382,
    "start_time": "2022-08-04T13:38:48.218Z"
   },
   {
    "duration": 310,
    "start_time": "2022-08-04T13:38:48.601Z"
   },
   {
    "duration": 5,
    "start_time": "2022-08-04T13:38:48.913Z"
   },
   {
    "duration": 428,
    "start_time": "2022-08-04T13:38:48.920Z"
   },
   {
    "duration": 4,
    "start_time": "2022-08-04T13:38:49.350Z"
   },
   {
    "duration": 9,
    "start_time": "2022-08-04T13:38:49.355Z"
   },
   {
    "duration": 319,
    "start_time": "2022-08-04T13:38:49.367Z"
   },
   {
    "duration": 8,
    "start_time": "2022-08-04T13:38:49.688Z"
   },
   {
    "duration": 407,
    "start_time": "2022-08-04T13:38:49.697Z"
   },
   {
    "duration": 11,
    "start_time": "2022-08-04T13:38:50.109Z"
   },
   {
    "duration": 9,
    "start_time": "2022-08-04T13:38:50.121Z"
   },
   {
    "duration": 205,
    "start_time": "2022-08-04T13:38:50.131Z"
   },
   {
    "duration": 6,
    "start_time": "2022-08-04T13:38:50.338Z"
   },
   {
    "duration": 3,
    "start_time": "2022-08-04T13:38:50.346Z"
   },
   {
    "duration": 663,
    "start_time": "2022-08-04T13:38:50.350Z"
   },
   {
    "duration": 6,
    "start_time": "2022-08-04T13:38:51.015Z"
   },
   {
    "duration": 234,
    "start_time": "2022-08-04T13:38:51.022Z"
   },
   {
    "duration": 11,
    "start_time": "2022-08-04T13:38:51.310Z"
   },
   {
    "duration": 11,
    "start_time": "2022-08-04T13:38:51.322Z"
   },
   {
    "duration": 14,
    "start_time": "2022-08-04T13:38:51.335Z"
   },
   {
    "duration": 62,
    "start_time": "2022-08-04T13:38:51.350Z"
   },
   {
    "duration": 23,
    "start_time": "2022-08-04T13:38:51.413Z"
   },
   {
    "duration": 12,
    "start_time": "2022-08-04T13:38:51.438Z"
   },
   {
    "duration": 67,
    "start_time": "2022-08-04T13:38:51.451Z"
   },
   {
    "duration": 17,
    "start_time": "2022-08-04T13:38:51.520Z"
   },
   {
    "duration": 7,
    "start_time": "2022-08-04T13:38:51.538Z"
   },
   {
    "duration": 9,
    "start_time": "2022-08-04T13:38:51.546Z"
   },
   {
    "duration": 72,
    "start_time": "2022-08-04T13:38:51.557Z"
   },
   {
    "duration": 15,
    "start_time": "2022-08-04T13:38:51.630Z"
   },
   {
    "duration": 64,
    "start_time": "2022-08-04T13:38:51.647Z"
   },
   {
    "duration": 11,
    "start_time": "2022-08-04T13:38:51.713Z"
   },
   {
    "duration": 13,
    "start_time": "2022-08-04T13:38:51.726Z"
   },
   {
    "duration": 8,
    "start_time": "2022-08-04T13:40:00.704Z"
   },
   {
    "duration": 96,
    "start_time": "2022-08-04T13:40:41.914Z"
   },
   {
    "duration": 10,
    "start_time": "2022-08-04T13:42:37.131Z"
   },
   {
    "duration": 11,
    "start_time": "2022-08-04T13:43:30.133Z"
   },
   {
    "duration": 10,
    "start_time": "2022-08-04T13:43:38.029Z"
   },
   {
    "duration": 8,
    "start_time": "2022-08-04T13:46:17.873Z"
   },
   {
    "duration": 11,
    "start_time": "2022-08-04T13:46:31.005Z"
   },
   {
    "duration": 10,
    "start_time": "2022-08-04T13:46:55.419Z"
   },
   {
    "duration": 11,
    "start_time": "2022-08-04T13:47:14.949Z"
   },
   {
    "duration": 11,
    "start_time": "2022-08-04T13:47:37.935Z"
   },
   {
    "duration": 454,
    "start_time": "2022-08-04T13:52:15.185Z"
   },
   {
    "duration": 5,
    "start_time": "2022-08-04T13:53:57.765Z"
   },
   {
    "duration": 5,
    "start_time": "2022-08-04T13:54:07.486Z"
   },
   {
    "duration": 14,
    "start_time": "2022-08-04T13:55:50.653Z"
   },
   {
    "duration": 8,
    "start_time": "2022-08-04T13:56:06.624Z"
   },
   {
    "duration": 11,
    "start_time": "2022-08-04T13:56:32.736Z"
   },
   {
    "duration": 7,
    "start_time": "2022-08-04T13:56:53.509Z"
   },
   {
    "duration": 8,
    "start_time": "2022-08-04T13:57:14.224Z"
   },
   {
    "duration": 9,
    "start_time": "2022-08-04T13:57:49.051Z"
   },
   {
    "duration": 9,
    "start_time": "2022-08-04T13:58:00.061Z"
   },
   {
    "duration": 10,
    "start_time": "2022-08-04T14:02:59.826Z"
   },
   {
    "duration": 12,
    "start_time": "2022-08-04T14:03:29.534Z"
   },
   {
    "duration": 10,
    "start_time": "2022-08-04T14:03:38.870Z"
   },
   {
    "duration": 5,
    "start_time": "2022-08-04T14:06:20.786Z"
   },
   {
    "duration": 4,
    "start_time": "2022-08-04T14:06:34.821Z"
   },
   {
    "duration": 3,
    "start_time": "2022-08-04T14:06:47.089Z"
   },
   {
    "duration": 13,
    "start_time": "2022-08-04T14:12:03.870Z"
   },
   {
    "duration": 16,
    "start_time": "2022-08-04T14:13:33.655Z"
   },
   {
    "duration": 14,
    "start_time": "2022-08-04T14:13:44.870Z"
   },
   {
    "duration": 1079,
    "start_time": "2022-08-04T15:59:47.919Z"
   },
   {
    "duration": 72,
    "start_time": "2022-08-04T15:59:49.000Z"
   },
   {
    "duration": 12,
    "start_time": "2022-08-04T15:59:49.074Z"
   },
   {
    "duration": 7,
    "start_time": "2022-08-04T15:59:49.088Z"
   },
   {
    "duration": 10,
    "start_time": "2022-08-04T15:59:49.097Z"
   },
   {
    "duration": 37,
    "start_time": "2022-08-04T15:59:49.108Z"
   },
   {
    "duration": 4,
    "start_time": "2022-08-04T15:59:49.147Z"
   },
   {
    "duration": 8,
    "start_time": "2022-08-04T15:59:49.153Z"
   },
   {
    "duration": 8,
    "start_time": "2022-08-04T15:59:49.163Z"
   },
   {
    "duration": 55,
    "start_time": "2022-08-04T15:59:49.172Z"
   },
   {
    "duration": 10,
    "start_time": "2022-08-04T15:59:49.228Z"
   },
   {
    "duration": 12,
    "start_time": "2022-08-04T15:59:49.239Z"
   },
   {
    "duration": 13,
    "start_time": "2022-08-04T15:59:49.253Z"
   },
   {
    "duration": 11,
    "start_time": "2022-08-04T15:59:49.310Z"
   },
   {
    "duration": 10,
    "start_time": "2022-08-04T15:59:49.322Z"
   },
   {
    "duration": 10,
    "start_time": "2022-08-04T15:59:49.334Z"
   },
   {
    "duration": 182,
    "start_time": "2022-08-04T15:59:49.346Z"
   },
   {
    "duration": 137,
    "start_time": "2022-08-04T15:59:49.529Z"
   },
   {
    "duration": 12,
    "start_time": "2022-08-04T15:59:49.668Z"
   },
   {
    "duration": 28,
    "start_time": "2022-08-04T15:59:49.682Z"
   },
   {
    "duration": 9,
    "start_time": "2022-08-04T15:59:49.711Z"
   },
   {
    "duration": 375,
    "start_time": "2022-08-04T15:59:49.722Z"
   },
   {
    "duration": 332,
    "start_time": "2022-08-04T15:59:50.098Z"
   },
   {
    "duration": 6,
    "start_time": "2022-08-04T15:59:50.432Z"
   },
   {
    "duration": 387,
    "start_time": "2022-08-04T15:59:50.440Z"
   },
   {
    "duration": 5,
    "start_time": "2022-08-04T15:59:50.829Z"
   },
   {
    "duration": 10,
    "start_time": "2022-08-04T15:59:50.835Z"
   },
   {
    "duration": 319,
    "start_time": "2022-08-04T15:59:50.847Z"
   },
   {
    "duration": 8,
    "start_time": "2022-08-04T15:59:51.168Z"
   },
   {
    "duration": 394,
    "start_time": "2022-08-04T15:59:51.178Z"
   },
   {
    "duration": 13,
    "start_time": "2022-08-04T15:59:51.574Z"
   },
   {
    "duration": 4,
    "start_time": "2022-08-04T15:59:51.588Z"
   },
   {
    "duration": 202,
    "start_time": "2022-08-04T15:59:51.609Z"
   },
   {
    "duration": 5,
    "start_time": "2022-08-04T15:59:51.813Z"
   },
   {
    "duration": 5,
    "start_time": "2022-08-04T15:59:51.820Z"
   },
   {
    "duration": 412,
    "start_time": "2022-08-04T15:59:51.826Z"
   },
   {
    "duration": 6,
    "start_time": "2022-08-04T15:59:52.240Z"
   },
   {
    "duration": 142,
    "start_time": "2022-08-04T15:59:52.248Z"
   },
   {
    "duration": 10,
    "start_time": "2022-08-04T15:59:52.391Z"
   },
   {
    "duration": 9,
    "start_time": "2022-08-04T15:59:52.410Z"
   },
   {
    "duration": 14,
    "start_time": "2022-08-04T15:59:52.423Z"
   },
   {
    "duration": 9,
    "start_time": "2022-08-04T15:59:52.438Z"
   },
   {
    "duration": 26,
    "start_time": "2022-08-04T15:59:52.448Z"
   },
   {
    "duration": 11,
    "start_time": "2022-08-04T15:59:52.476Z"
   },
   {
    "duration": 8,
    "start_time": "2022-08-04T15:59:52.508Z"
   },
   {
    "duration": 8,
    "start_time": "2022-08-04T15:59:52.517Z"
   },
   {
    "duration": 11,
    "start_time": "2022-08-04T15:59:52.527Z"
   },
   {
    "duration": 8,
    "start_time": "2022-08-04T15:59:52.540Z"
   },
   {
    "duration": 29,
    "start_time": "2022-08-04T15:59:52.549Z"
   },
   {
    "duration": 29,
    "start_time": "2022-08-04T15:59:52.580Z"
   },
   {
    "duration": 1091,
    "start_time": "2022-08-04T16:13:19.565Z"
   },
   {
    "duration": 177,
    "start_time": "2022-08-04T16:13:20.657Z"
   },
   {
    "duration": 13,
    "start_time": "2022-08-04T16:13:20.836Z"
   },
   {
    "duration": 14,
    "start_time": "2022-08-04T16:13:20.850Z"
   },
   {
    "duration": 10,
    "start_time": "2022-08-04T16:13:20.866Z"
   },
   {
    "duration": 46,
    "start_time": "2022-08-04T16:13:20.878Z"
   },
   {
    "duration": 4,
    "start_time": "2022-08-04T16:13:20.926Z"
   },
   {
    "duration": 9,
    "start_time": "2022-08-04T16:13:20.932Z"
   },
   {
    "duration": 10,
    "start_time": "2022-08-04T16:13:20.942Z"
   },
   {
    "duration": 54,
    "start_time": "2022-08-04T16:13:20.954Z"
   },
   {
    "duration": 9,
    "start_time": "2022-08-04T16:13:21.010Z"
   },
   {
    "duration": 17,
    "start_time": "2022-08-04T16:13:21.021Z"
   },
   {
    "duration": 58,
    "start_time": "2022-08-04T16:13:21.039Z"
   },
   {
    "duration": 14,
    "start_time": "2022-08-04T16:13:21.101Z"
   },
   {
    "duration": 14,
    "start_time": "2022-08-04T16:13:21.117Z"
   },
   {
    "duration": 15,
    "start_time": "2022-08-04T16:13:21.132Z"
   },
   {
    "duration": 192,
    "start_time": "2022-08-04T16:13:21.148Z"
   },
   {
    "duration": 120,
    "start_time": "2022-08-04T16:13:21.341Z"
   },
   {
    "duration": 28,
    "start_time": "2022-08-04T16:13:21.463Z"
   },
   {
    "duration": 6,
    "start_time": "2022-08-04T16:13:21.493Z"
   },
   {
    "duration": 17,
    "start_time": "2022-08-04T16:13:21.501Z"
   },
   {
    "duration": 374,
    "start_time": "2022-08-04T16:13:21.520Z"
   },
   {
    "duration": 317,
    "start_time": "2022-08-04T16:13:21.896Z"
   },
   {
    "duration": 5,
    "start_time": "2022-08-04T16:13:22.215Z"
   },
   {
    "duration": 384,
    "start_time": "2022-08-04T16:13:22.222Z"
   },
   {
    "duration": 5,
    "start_time": "2022-08-04T16:13:22.608Z"
   },
   {
    "duration": 9,
    "start_time": "2022-08-04T16:13:22.615Z"
   },
   {
    "duration": 372,
    "start_time": "2022-08-04T16:13:22.626Z"
   },
   {
    "duration": 10,
    "start_time": "2022-08-04T16:13:23.001Z"
   },
   {
    "duration": 377,
    "start_time": "2022-08-04T16:13:23.013Z"
   },
   {
    "duration": 14,
    "start_time": "2022-08-04T16:13:23.392Z"
   },
   {
    "duration": 4,
    "start_time": "2022-08-04T16:13:23.407Z"
   },
   {
    "duration": 219,
    "start_time": "2022-08-04T16:13:23.413Z"
   },
   {
    "duration": 7,
    "start_time": "2022-08-04T16:13:23.634Z"
   },
   {
    "duration": 4,
    "start_time": "2022-08-04T16:13:23.642Z"
   },
   {
    "duration": 411,
    "start_time": "2022-08-04T16:13:23.647Z"
   },
   {
    "duration": 6,
    "start_time": "2022-08-04T16:13:24.060Z"
   },
   {
    "duration": 146,
    "start_time": "2022-08-04T16:13:24.067Z"
   },
   {
    "duration": 10,
    "start_time": "2022-08-04T16:13:24.215Z"
   },
   {
    "duration": 13,
    "start_time": "2022-08-04T16:13:24.226Z"
   },
   {
    "duration": 9,
    "start_time": "2022-08-04T16:13:24.243Z"
   },
   {
    "duration": 6,
    "start_time": "2022-08-04T16:13:24.253Z"
   },
   {
    "duration": 55,
    "start_time": "2022-08-04T16:13:24.261Z"
   },
   {
    "duration": 15,
    "start_time": "2022-08-04T16:13:24.318Z"
   },
   {
    "duration": 7,
    "start_time": "2022-08-04T16:13:24.335Z"
   },
   {
    "duration": 7,
    "start_time": "2022-08-04T16:13:24.344Z"
   },
   {
    "duration": 6,
    "start_time": "2022-08-04T16:13:24.352Z"
   },
   {
    "duration": 38,
    "start_time": "2022-08-04T16:13:24.360Z"
   },
   {
    "duration": 25,
    "start_time": "2022-08-04T16:13:24.399Z"
   },
   {
    "duration": 14,
    "start_time": "2022-08-04T16:13:24.425Z"
   },
   {
    "duration": 1259,
    "start_time": "2022-08-07T09:22:36.508Z"
   },
   {
    "duration": 182,
    "start_time": "2022-08-07T09:22:37.769Z"
   },
   {
    "duration": 12,
    "start_time": "2022-08-07T09:22:37.953Z"
   },
   {
    "duration": 8,
    "start_time": "2022-08-07T09:22:37.967Z"
   },
   {
    "duration": 10,
    "start_time": "2022-08-07T09:22:37.976Z"
   },
   {
    "duration": 34,
    "start_time": "2022-08-07T09:22:37.988Z"
   },
   {
    "duration": 4,
    "start_time": "2022-08-07T09:22:38.023Z"
   },
   {
    "duration": 10,
    "start_time": "2022-08-07T09:22:38.029Z"
   },
   {
    "duration": 9,
    "start_time": "2022-08-07T09:22:38.040Z"
   },
   {
    "duration": 55,
    "start_time": "2022-08-07T09:22:38.051Z"
   },
   {
    "duration": 10,
    "start_time": "2022-08-07T09:22:38.107Z"
   },
   {
    "duration": 10,
    "start_time": "2022-08-07T09:22:38.119Z"
   },
   {
    "duration": 14,
    "start_time": "2022-08-07T09:22:38.131Z"
   },
   {
    "duration": 12,
    "start_time": "2022-08-07T09:22:38.187Z"
   },
   {
    "duration": 11,
    "start_time": "2022-08-07T09:22:38.200Z"
   },
   {
    "duration": 11,
    "start_time": "2022-08-07T09:22:38.212Z"
   },
   {
    "duration": 181,
    "start_time": "2022-08-07T09:22:38.225Z"
   },
   {
    "duration": 129,
    "start_time": "2022-08-07T09:22:38.407Z"
   },
   {
    "duration": 12,
    "start_time": "2022-08-07T09:22:38.537Z"
   },
   {
    "duration": 8,
    "start_time": "2022-08-07T09:22:38.550Z"
   },
   {
    "duration": 28,
    "start_time": "2022-08-07T09:22:38.559Z"
   },
   {
    "duration": 362,
    "start_time": "2022-08-07T09:22:38.588Z"
   },
   {
    "duration": 290,
    "start_time": "2022-08-07T09:22:38.951Z"
   },
   {
    "duration": 6,
    "start_time": "2022-08-07T09:22:39.242Z"
   },
   {
    "duration": 477,
    "start_time": "2022-08-07T09:22:39.249Z"
   },
   {
    "duration": 4,
    "start_time": "2022-08-07T09:22:39.727Z"
   },
   {
    "duration": 9,
    "start_time": "2022-08-07T09:22:39.733Z"
   },
   {
    "duration": 301,
    "start_time": "2022-08-07T09:22:39.745Z"
   },
   {
    "duration": 10,
    "start_time": "2022-08-07T09:22:40.049Z"
   },
   {
    "duration": 630,
    "start_time": "2022-08-07T09:22:40.060Z"
   },
   {
    "duration": 11,
    "start_time": "2022-08-07T09:22:40.691Z"
   },
   {
    "duration": 2,
    "start_time": "2022-08-07T09:22:40.704Z"
   },
   {
    "duration": 397,
    "start_time": "2022-08-07T09:22:40.708Z"
   },
   {
    "duration": 6,
    "start_time": "2022-08-07T09:22:41.107Z"
   },
   {
    "duration": 14,
    "start_time": "2022-08-07T09:22:41.114Z"
   },
   {
    "duration": 764,
    "start_time": "2022-08-07T09:22:41.130Z"
   },
   {
    "duration": 7,
    "start_time": "2022-08-07T09:22:41.895Z"
   },
   {
    "duration": 221,
    "start_time": "2022-08-07T09:22:41.903Z"
   },
   {
    "duration": 9,
    "start_time": "2022-08-07T09:22:42.125Z"
   },
   {
    "duration": 11,
    "start_time": "2022-08-07T09:22:42.136Z"
   },
   {
    "duration": 10,
    "start_time": "2022-08-07T09:22:42.149Z"
   },
   {
    "duration": 27,
    "start_time": "2022-08-07T09:22:42.160Z"
   },
   {
    "duration": 21,
    "start_time": "2022-08-07T09:22:42.188Z"
   },
   {
    "duration": 11,
    "start_time": "2022-08-07T09:22:42.210Z"
   },
   {
    "duration": 7,
    "start_time": "2022-08-07T09:22:42.222Z"
   },
   {
    "duration": 7,
    "start_time": "2022-08-07T09:22:42.230Z"
   },
   {
    "duration": 6,
    "start_time": "2022-08-07T09:22:42.239Z"
   },
   {
    "duration": 11,
    "start_time": "2022-08-07T09:22:42.246Z"
   },
   {
    "duration": 49,
    "start_time": "2022-08-07T09:22:42.259Z"
   },
   {
    "duration": 14,
    "start_time": "2022-08-07T09:22:42.309Z"
   },
   {
    "duration": 5,
    "start_time": "2022-08-07T09:24:22.155Z"
   },
   {
    "duration": 94,
    "start_time": "2022-08-07T09:26:43.604Z"
   },
   {
    "duration": 5,
    "start_time": "2022-08-07T09:26:50.677Z"
   },
   {
    "duration": 6,
    "start_time": "2022-08-07T09:27:39.841Z"
   },
   {
    "duration": 8,
    "start_time": "2022-08-07T09:27:50.643Z"
   },
   {
    "duration": 6,
    "start_time": "2022-08-07T09:28:25.285Z"
   },
   {
    "duration": 9,
    "start_time": "2022-08-07T09:28:45.413Z"
   },
   {
    "duration": 7,
    "start_time": "2022-08-07T09:29:10.866Z"
   },
   {
    "duration": 9,
    "start_time": "2022-08-07T09:40:24.896Z"
   },
   {
    "duration": 16,
    "start_time": "2022-08-07T09:44:21.911Z"
   },
   {
    "duration": 44,
    "start_time": "2022-08-07T09:45:30.970Z"
   },
   {
    "duration": 10,
    "start_time": "2022-08-07T09:45:40.512Z"
   },
   {
    "duration": 12,
    "start_time": "2022-08-07T09:45:56.312Z"
   },
   {
    "duration": 10,
    "start_time": "2022-08-07T09:46:12.218Z"
   },
   {
    "duration": 12,
    "start_time": "2022-08-07T09:47:06.876Z"
   },
   {
    "duration": 11,
    "start_time": "2022-08-07T09:47:26.766Z"
   },
   {
    "duration": 9,
    "start_time": "2022-08-07T09:49:28.777Z"
   },
   {
    "duration": 15,
    "start_time": "2022-08-07T09:50:09.442Z"
   },
   {
    "duration": 11,
    "start_time": "2022-08-07T09:50:21.728Z"
   },
   {
    "duration": 11,
    "start_time": "2022-08-07T09:50:58.716Z"
   },
   {
    "duration": 12,
    "start_time": "2022-08-07T09:52:53.753Z"
   },
   {
    "duration": 3,
    "start_time": "2022-08-07T09:53:27.430Z"
   },
   {
    "duration": 10,
    "start_time": "2022-08-07T09:53:33.432Z"
   },
   {
    "duration": 4,
    "start_time": "2022-08-07T09:54:13.303Z"
   },
   {
    "duration": 10,
    "start_time": "2022-08-07T09:54:22.936Z"
   },
   {
    "duration": 12,
    "start_time": "2022-08-07T10:02:54.710Z"
   },
   {
    "duration": 51,
    "start_time": "2022-08-07T10:03:09.378Z"
   },
   {
    "duration": 11,
    "start_time": "2022-08-07T10:03:50.066Z"
   },
   {
    "duration": 15,
    "start_time": "2022-08-07T10:03:52.969Z"
   },
   {
    "duration": 3,
    "start_time": "2022-08-07T10:12:45.975Z"
   },
   {
    "duration": 14,
    "start_time": "2022-08-07T10:12:48.884Z"
   },
   {
    "duration": 4,
    "start_time": "2022-08-07T10:13:07.892Z"
   },
   {
    "duration": 15,
    "start_time": "2022-08-07T10:13:10.377Z"
   },
   {
    "duration": 3,
    "start_time": "2022-08-07T10:14:33.730Z"
   },
   {
    "duration": 14,
    "start_time": "2022-08-07T10:14:35.978Z"
   },
   {
    "duration": 3,
    "start_time": "2022-08-07T10:14:46.067Z"
   },
   {
    "duration": 12,
    "start_time": "2022-08-07T10:14:48.093Z"
   },
   {
    "duration": 4,
    "start_time": "2022-08-07T10:20:46.877Z"
   },
   {
    "duration": 14,
    "start_time": "2022-08-07T10:20:49.510Z"
   },
   {
    "duration": 3,
    "start_time": "2022-08-07T10:20:58.787Z"
   },
   {
    "duration": 12,
    "start_time": "2022-08-07T10:21:00.840Z"
   },
   {
    "duration": 3,
    "start_time": "2022-08-07T10:21:22.967Z"
   },
   {
    "duration": 11,
    "start_time": "2022-08-07T10:21:25.531Z"
   },
   {
    "duration": 14,
    "start_time": "2022-08-07T11:17:22.254Z"
   },
   {
    "duration": 13,
    "start_time": "2022-08-07T11:19:13.303Z"
   },
   {
    "duration": 10,
    "start_time": "2022-08-07T11:19:35.109Z"
   },
   {
    "duration": 177,
    "start_time": "2022-08-07T11:22:01.370Z"
   },
   {
    "duration": 127,
    "start_time": "2022-08-07T11:22:17.086Z"
   },
   {
    "duration": 13,
    "start_time": "2022-08-07T11:22:24.362Z"
   },
   {
    "duration": 5,
    "start_time": "2022-08-07T11:22:28.550Z"
   },
   {
    "duration": 9,
    "start_time": "2022-08-07T11:22:32.263Z"
   },
   {
    "duration": 270,
    "start_time": "2022-08-07T11:22:44.795Z"
   },
   {
    "duration": 1152,
    "start_time": "2022-08-07T11:23:30.238Z"
   },
   {
    "duration": 73,
    "start_time": "2022-08-07T11:23:31.392Z"
   },
   {
    "duration": 12,
    "start_time": "2022-08-07T11:23:31.467Z"
   },
   {
    "duration": 8,
    "start_time": "2022-08-07T11:23:31.481Z"
   },
   {
    "duration": 16,
    "start_time": "2022-08-07T11:23:31.492Z"
   },
   {
    "duration": 48,
    "start_time": "2022-08-07T11:23:31.509Z"
   },
   {
    "duration": 4,
    "start_time": "2022-08-07T11:23:31.558Z"
   },
   {
    "duration": 14,
    "start_time": "2022-08-07T11:23:31.563Z"
   },
   {
    "duration": 10,
    "start_time": "2022-08-07T11:23:31.587Z"
   },
   {
    "duration": 28,
    "start_time": "2022-08-07T11:23:31.598Z"
   },
   {
    "duration": 10,
    "start_time": "2022-08-07T11:23:31.627Z"
   },
   {
    "duration": 50,
    "start_time": "2022-08-07T11:23:31.638Z"
   },
   {
    "duration": 13,
    "start_time": "2022-08-07T11:23:31.689Z"
   },
   {
    "duration": 7,
    "start_time": "2022-08-07T11:23:31.704Z"
   },
   {
    "duration": 16,
    "start_time": "2022-08-07T11:23:31.712Z"
   },
   {
    "duration": 13,
    "start_time": "2022-08-07T11:23:31.730Z"
   },
   {
    "duration": 13,
    "start_time": "2022-08-07T11:23:31.744Z"
   },
   {
    "duration": 32,
    "start_time": "2022-08-07T11:23:31.758Z"
   },
   {
    "duration": 22,
    "start_time": "2022-08-07T11:23:31.792Z"
   },
   {
    "duration": 54,
    "start_time": "2022-08-07T11:23:31.816Z"
   },
   {
    "duration": 9,
    "start_time": "2022-08-07T11:23:31.872Z"
   },
   {
    "duration": 18,
    "start_time": "2022-08-07T11:23:31.883Z"
   },
   {
    "duration": 174,
    "start_time": "2022-08-07T11:23:31.903Z"
   },
   {
    "duration": 129,
    "start_time": "2022-08-07T11:23:32.078Z"
   },
   {
    "duration": 15,
    "start_time": "2022-08-07T11:23:32.209Z"
   },
   {
    "duration": 6,
    "start_time": "2022-08-07T11:23:32.226Z"
   },
   {
    "duration": 8,
    "start_time": "2022-08-07T11:23:32.234Z"
   },
   {
    "duration": 370,
    "start_time": "2022-08-07T11:23:32.243Z"
   },
   {
    "duration": 288,
    "start_time": "2022-08-07T11:23:32.615Z"
   },
   {
    "duration": 6,
    "start_time": "2022-08-07T11:23:32.904Z"
   },
   {
    "duration": 379,
    "start_time": "2022-08-07T11:23:32.911Z"
   },
   {
    "duration": 5,
    "start_time": "2022-08-07T11:23:33.291Z"
   },
   {
    "duration": 10,
    "start_time": "2022-08-07T11:23:33.297Z"
   },
   {
    "duration": 333,
    "start_time": "2022-08-07T11:23:33.309Z"
   },
   {
    "duration": 7,
    "start_time": "2022-08-07T11:23:33.644Z"
   },
   {
    "duration": 658,
    "start_time": "2022-08-07T11:23:33.653Z"
   },
   {
    "duration": 10,
    "start_time": "2022-08-07T11:23:34.313Z"
   },
   {
    "duration": 62,
    "start_time": "2022-08-07T11:23:34.325Z"
   },
   {
    "duration": 533,
    "start_time": "2022-08-07T11:23:34.389Z"
   },
   {
    "duration": 6,
    "start_time": "2022-08-07T11:23:34.923Z"
   },
   {
    "duration": 3,
    "start_time": "2022-08-07T11:23:34.987Z"
   },
   {
    "duration": 512,
    "start_time": "2022-08-07T11:23:34.992Z"
   },
   {
    "duration": 5,
    "start_time": "2022-08-07T11:23:35.506Z"
   },
   {
    "duration": 147,
    "start_time": "2022-08-07T11:23:35.512Z"
   },
   {
    "duration": 9,
    "start_time": "2022-08-07T11:23:35.661Z"
   },
   {
    "duration": 19,
    "start_time": "2022-08-07T11:23:35.671Z"
   },
   {
    "duration": 14,
    "start_time": "2022-08-07T11:23:35.691Z"
   },
   {
    "duration": 8,
    "start_time": "2022-08-07T11:23:35.707Z"
   },
   {
    "duration": 25,
    "start_time": "2022-08-07T11:23:35.716Z"
   },
   {
    "duration": 10,
    "start_time": "2022-08-07T11:23:35.743Z"
   },
   {
    "duration": 6,
    "start_time": "2022-08-07T11:23:35.755Z"
   },
   {
    "duration": 24,
    "start_time": "2022-08-07T11:23:35.763Z"
   },
   {
    "duration": 10,
    "start_time": "2022-08-07T11:23:35.788Z"
   },
   {
    "duration": 11,
    "start_time": "2022-08-07T11:23:35.799Z"
   },
   {
    "duration": 23,
    "start_time": "2022-08-07T11:23:35.812Z"
   },
   {
    "duration": 13,
    "start_time": "2022-08-07T11:23:35.837Z"
   },
   {
    "duration": 1090,
    "start_time": "2022-08-07T12:36:56.366Z"
   },
   {
    "duration": 70,
    "start_time": "2022-08-07T12:36:57.458Z"
   },
   {
    "duration": 15,
    "start_time": "2022-08-07T12:36:57.530Z"
   },
   {
    "duration": 15,
    "start_time": "2022-08-07T12:36:57.547Z"
   },
   {
    "duration": 12,
    "start_time": "2022-08-07T12:36:57.564Z"
   },
   {
    "duration": 33,
    "start_time": "2022-08-07T12:36:57.577Z"
   },
   {
    "duration": 5,
    "start_time": "2022-08-07T12:36:57.611Z"
   },
   {
    "duration": 9,
    "start_time": "2022-08-07T12:36:57.617Z"
   },
   {
    "duration": 11,
    "start_time": "2022-08-07T12:36:57.627Z"
   },
   {
    "duration": 50,
    "start_time": "2022-08-07T12:36:57.640Z"
   },
   {
    "duration": 10,
    "start_time": "2022-08-07T12:36:57.691Z"
   },
   {
    "duration": 12,
    "start_time": "2022-08-07T12:36:57.702Z"
   },
   {
    "duration": 13,
    "start_time": "2022-08-07T12:36:57.715Z"
   },
   {
    "duration": 6,
    "start_time": "2022-08-07T12:36:57.730Z"
   },
   {
    "duration": 53,
    "start_time": "2022-08-07T12:36:57.738Z"
   },
   {
    "duration": 11,
    "start_time": "2022-08-07T12:36:57.793Z"
   },
   {
    "duration": 15,
    "start_time": "2022-08-07T12:36:57.806Z"
   },
   {
    "duration": 11,
    "start_time": "2022-08-07T12:36:57.823Z"
   },
   {
    "duration": 6,
    "start_time": "2022-08-07T12:36:57.836Z"
   },
   {
    "duration": 72,
    "start_time": "2022-08-07T12:36:57.843Z"
   },
   {
    "duration": 12,
    "start_time": "2022-08-07T12:36:57.917Z"
   },
   {
    "duration": 14,
    "start_time": "2022-08-07T12:36:57.930Z"
   },
   {
    "duration": 189,
    "start_time": "2022-08-07T12:36:57.945Z"
   },
   {
    "duration": 127,
    "start_time": "2022-08-07T12:36:58.135Z"
   },
   {
    "duration": 24,
    "start_time": "2022-08-07T12:36:58.263Z"
   },
   {
    "duration": 5,
    "start_time": "2022-08-07T12:36:58.289Z"
   },
   {
    "duration": 8,
    "start_time": "2022-08-07T12:36:58.296Z"
   },
   {
    "duration": 409,
    "start_time": "2022-08-07T12:36:58.306Z"
   },
   {
    "duration": 308,
    "start_time": "2022-08-07T12:36:58.716Z"
   },
   {
    "duration": 6,
    "start_time": "2022-08-07T12:36:59.025Z"
   },
   {
    "duration": 334,
    "start_time": "2022-08-07T12:36:59.033Z"
   },
   {
    "duration": 4,
    "start_time": "2022-08-07T12:36:59.369Z"
   },
   {
    "duration": 17,
    "start_time": "2022-08-07T12:36:59.374Z"
   },
   {
    "duration": 317,
    "start_time": "2022-08-07T12:36:59.393Z"
   },
   {
    "duration": 8,
    "start_time": "2022-08-07T12:36:59.712Z"
   },
   {
    "duration": 368,
    "start_time": "2022-08-07T12:36:59.721Z"
   },
   {
    "duration": 10,
    "start_time": "2022-08-07T12:37:00.090Z"
   },
   {
    "duration": 3,
    "start_time": "2022-08-07T12:37:00.102Z"
   },
   {
    "duration": 275,
    "start_time": "2022-08-07T12:37:00.107Z"
   },
   {
    "duration": 6,
    "start_time": "2022-08-07T12:37:00.386Z"
   },
   {
    "duration": 3,
    "start_time": "2022-08-07T12:37:00.395Z"
   },
   {
    "duration": 331,
    "start_time": "2022-08-07T12:37:00.400Z"
   },
   {
    "duration": 5,
    "start_time": "2022-08-07T12:37:00.733Z"
   },
   {
    "duration": 154,
    "start_time": "2022-08-07T12:37:00.740Z"
   },
   {
    "duration": 14,
    "start_time": "2022-08-07T12:37:00.895Z"
   },
   {
    "duration": 28,
    "start_time": "2022-08-07T12:37:00.911Z"
   },
   {
    "duration": 33,
    "start_time": "2022-08-07T12:37:00.940Z"
   },
   {
    "duration": 26,
    "start_time": "2022-08-07T12:37:00.975Z"
   },
   {
    "duration": 44,
    "start_time": "2022-08-07T12:37:01.002Z"
   },
   {
    "duration": 20,
    "start_time": "2022-08-07T12:37:01.048Z"
   },
   {
    "duration": 30,
    "start_time": "2022-08-07T12:37:01.069Z"
   },
   {
    "duration": 38,
    "start_time": "2022-08-07T12:37:01.101Z"
   },
   {
    "duration": 31,
    "start_time": "2022-08-07T12:37:01.140Z"
   },
   {
    "duration": 41,
    "start_time": "2022-08-07T12:37:01.173Z"
   },
   {
    "duration": 38,
    "start_time": "2022-08-07T12:37:01.215Z"
   },
   {
    "duration": 14,
    "start_time": "2022-08-07T12:37:01.255Z"
   },
   {
    "duration": 4,
    "start_time": "2022-08-07T12:40:33.723Z"
   },
   {
    "duration": 107,
    "start_time": "2022-08-07T12:40:33.729Z"
   },
   {
    "duration": 8,
    "start_time": "2022-08-07T12:40:33.838Z"
   },
   {
    "duration": 44,
    "start_time": "2022-08-07T12:40:33.849Z"
   },
   {
    "duration": 20,
    "start_time": "2022-08-07T12:40:33.895Z"
   },
   {
    "duration": 46,
    "start_time": "2022-08-07T12:40:33.916Z"
   },
   {
    "duration": 7,
    "start_time": "2022-08-07T12:40:33.963Z"
   },
   {
    "duration": 14,
    "start_time": "2022-08-07T12:40:33.971Z"
   },
   {
    "duration": 9,
    "start_time": "2022-08-07T12:40:33.987Z"
   },
   {
    "duration": 41,
    "start_time": "2022-08-07T12:40:33.997Z"
   },
   {
    "duration": 9,
    "start_time": "2022-08-07T12:40:34.040Z"
   },
   {
    "duration": 24,
    "start_time": "2022-08-07T12:40:34.050Z"
   },
   {
    "duration": 22,
    "start_time": "2022-08-07T12:40:34.076Z"
   },
   {
    "duration": 9,
    "start_time": "2022-08-07T12:40:34.099Z"
   },
   {
    "duration": 20,
    "start_time": "2022-08-07T12:40:34.110Z"
   },
   {
    "duration": 18,
    "start_time": "2022-08-07T12:40:34.131Z"
   },
   {
    "duration": 23,
    "start_time": "2022-08-07T12:40:34.150Z"
   },
   {
    "duration": 25,
    "start_time": "2022-08-07T12:40:34.175Z"
   },
   {
    "duration": 12,
    "start_time": "2022-08-07T12:40:34.201Z"
   },
   {
    "duration": 23,
    "start_time": "2022-08-07T12:40:34.214Z"
   },
   {
    "duration": 17,
    "start_time": "2022-08-07T12:40:34.239Z"
   },
   {
    "duration": 19,
    "start_time": "2022-08-07T12:40:34.258Z"
   },
   {
    "duration": 160,
    "start_time": "2022-08-07T12:40:34.278Z"
   },
   {
    "duration": 122,
    "start_time": "2022-08-07T12:40:34.441Z"
   },
   {
    "duration": 21,
    "start_time": "2022-08-07T12:40:34.565Z"
   },
   {
    "duration": 12,
    "start_time": "2022-08-07T12:40:34.588Z"
   },
   {
    "duration": 16,
    "start_time": "2022-08-07T12:40:34.601Z"
   },
   {
    "duration": 287,
    "start_time": "2022-08-07T12:40:34.618Z"
   },
   {
    "duration": 295,
    "start_time": "2022-08-07T12:40:34.906Z"
   },
   {
    "duration": 7,
    "start_time": "2022-08-07T12:40:35.202Z"
   },
   {
    "duration": 381,
    "start_time": "2022-08-07T12:40:35.210Z"
   },
   {
    "duration": 5,
    "start_time": "2022-08-07T12:40:35.594Z"
   },
   {
    "duration": 15,
    "start_time": "2022-08-07T12:40:35.600Z"
   },
   {
    "duration": 332,
    "start_time": "2022-08-07T12:40:35.616Z"
   },
   {
    "duration": 8,
    "start_time": "2022-08-07T12:40:35.950Z"
   },
   {
    "duration": 474,
    "start_time": "2022-08-07T12:40:35.959Z"
   },
   {
    "duration": 13,
    "start_time": "2022-08-07T12:40:36.434Z"
   },
   {
    "duration": 4,
    "start_time": "2022-08-07T12:40:36.449Z"
   },
   {
    "duration": 228,
    "start_time": "2022-08-07T12:40:36.455Z"
   },
   {
    "duration": 7,
    "start_time": "2022-08-07T12:40:36.686Z"
   },
   {
    "duration": 4,
    "start_time": "2022-08-07T12:40:36.694Z"
   },
   {
    "duration": 310,
    "start_time": "2022-08-07T12:40:36.700Z"
   },
   {
    "duration": 7,
    "start_time": "2022-08-07T12:40:37.012Z"
   },
   {
    "duration": 166,
    "start_time": "2022-08-07T12:40:37.021Z"
   },
   {
    "duration": 9,
    "start_time": "2022-08-07T12:40:37.188Z"
   },
   {
    "duration": 10,
    "start_time": "2022-08-07T12:40:37.198Z"
   },
   {
    "duration": 10,
    "start_time": "2022-08-07T12:40:37.210Z"
   },
   {
    "duration": 7,
    "start_time": "2022-08-07T12:40:37.221Z"
   },
   {
    "duration": 26,
    "start_time": "2022-08-07T12:40:37.229Z"
   },
   {
    "duration": 35,
    "start_time": "2022-08-07T12:40:37.256Z"
   },
   {
    "duration": 7,
    "start_time": "2022-08-07T12:40:37.293Z"
   },
   {
    "duration": 6,
    "start_time": "2022-08-07T12:40:37.302Z"
   },
   {
    "duration": 11,
    "start_time": "2022-08-07T12:40:37.309Z"
   },
   {
    "duration": 14,
    "start_time": "2022-08-07T12:40:37.321Z"
   },
   {
    "duration": 23,
    "start_time": "2022-08-07T12:40:37.337Z"
   },
   {
    "duration": 34,
    "start_time": "2022-08-07T12:40:37.362Z"
   },
   {
    "duration": 1109,
    "start_time": "2022-08-07T12:40:50.159Z"
   },
   {
    "duration": 73,
    "start_time": "2022-08-07T12:40:51.270Z"
   },
   {
    "duration": 12,
    "start_time": "2022-08-07T12:40:51.344Z"
   },
   {
    "duration": 8,
    "start_time": "2022-08-07T12:40:51.358Z"
   },
   {
    "duration": 11,
    "start_time": "2022-08-07T12:40:51.368Z"
   },
   {
    "duration": 32,
    "start_time": "2022-08-07T12:40:51.380Z"
   },
   {
    "duration": 4,
    "start_time": "2022-08-07T12:40:51.413Z"
   },
   {
    "duration": 6,
    "start_time": "2022-08-07T12:40:51.419Z"
   },
   {
    "duration": 7,
    "start_time": "2022-08-07T12:40:51.426Z"
   },
   {
    "duration": 53,
    "start_time": "2022-08-07T12:40:51.435Z"
   },
   {
    "duration": 11,
    "start_time": "2022-08-07T12:40:51.490Z"
   },
   {
    "duration": 13,
    "start_time": "2022-08-07T12:40:51.502Z"
   },
   {
    "duration": 14,
    "start_time": "2022-08-07T12:40:51.516Z"
   },
   {
    "duration": 6,
    "start_time": "2022-08-07T12:40:51.531Z"
   },
   {
    "duration": 52,
    "start_time": "2022-08-07T12:40:51.538Z"
   },
   {
    "duration": 11,
    "start_time": "2022-08-07T12:40:51.591Z"
   },
   {
    "duration": 17,
    "start_time": "2022-08-07T12:40:51.603Z"
   },
   {
    "duration": 12,
    "start_time": "2022-08-07T12:40:51.621Z"
   },
   {
    "duration": 4,
    "start_time": "2022-08-07T12:40:51.635Z"
   },
   {
    "duration": 75,
    "start_time": "2022-08-07T12:40:51.641Z"
   },
   {
    "duration": 10,
    "start_time": "2022-08-07T12:40:51.718Z"
   },
   {
    "duration": 12,
    "start_time": "2022-08-07T12:40:51.730Z"
   },
   {
    "duration": 170,
    "start_time": "2022-08-07T12:40:51.744Z"
   },
   {
    "duration": 131,
    "start_time": "2022-08-07T12:40:51.916Z"
   },
   {
    "duration": 14,
    "start_time": "2022-08-07T12:40:52.049Z"
   },
   {
    "duration": 22,
    "start_time": "2022-08-07T12:40:52.065Z"
   },
   {
    "duration": 8,
    "start_time": "2022-08-07T12:40:52.089Z"
   },
   {
    "duration": 357,
    "start_time": "2022-08-07T12:40:52.100Z"
   },
   {
    "duration": 282,
    "start_time": "2022-08-07T12:40:52.459Z"
   },
   {
    "duration": 5,
    "start_time": "2022-08-07T12:40:52.743Z"
   },
   {
    "duration": 389,
    "start_time": "2022-08-07T12:40:52.750Z"
   },
   {
    "duration": 4,
    "start_time": "2022-08-07T12:40:53.141Z"
   },
   {
    "duration": 10,
    "start_time": "2022-08-07T12:40:53.146Z"
   },
   {
    "duration": 337,
    "start_time": "2022-08-07T12:40:53.157Z"
   },
   {
    "duration": 7,
    "start_time": "2022-08-07T12:40:53.496Z"
   },
   {
    "duration": 376,
    "start_time": "2022-08-07T12:40:53.505Z"
   },
   {
    "duration": 10,
    "start_time": "2022-08-07T12:40:53.886Z"
   },
   {
    "duration": 3,
    "start_time": "2022-08-07T12:40:53.897Z"
   },
   {
    "duration": 263,
    "start_time": "2022-08-07T12:40:53.901Z"
   },
   {
    "duration": 5,
    "start_time": "2022-08-07T12:40:54.166Z"
   },
   {
    "duration": 14,
    "start_time": "2022-08-07T12:40:54.173Z"
   },
   {
    "duration": 312,
    "start_time": "2022-08-07T12:40:54.188Z"
   },
   {
    "duration": 6,
    "start_time": "2022-08-07T12:40:54.501Z"
   },
   {
    "duration": 146,
    "start_time": "2022-08-07T12:40:54.508Z"
   },
   {
    "duration": 10,
    "start_time": "2022-08-07T12:40:54.656Z"
   },
   {
    "duration": 23,
    "start_time": "2022-08-07T12:40:54.668Z"
   },
   {
    "duration": 11,
    "start_time": "2022-08-07T12:40:54.693Z"
   },
   {
    "duration": 7,
    "start_time": "2022-08-07T12:40:54.705Z"
   },
   {
    "duration": 22,
    "start_time": "2022-08-07T12:40:54.713Z"
   },
   {
    "duration": 13,
    "start_time": "2022-08-07T12:40:54.737Z"
   },
   {
    "duration": 40,
    "start_time": "2022-08-07T12:40:54.751Z"
   },
   {
    "duration": 8,
    "start_time": "2022-08-07T12:40:54.793Z"
   },
   {
    "duration": 10,
    "start_time": "2022-08-07T12:40:54.803Z"
   },
   {
    "duration": 8,
    "start_time": "2022-08-07T12:40:54.815Z"
   },
   {
    "duration": 21,
    "start_time": "2022-08-07T12:40:54.824Z"
   },
   {
    "duration": 15,
    "start_time": "2022-08-07T12:40:54.847Z"
   }
  ],
  "kernelspec": {
   "display_name": "Python 3",
   "language": "python",
   "name": "python3"
  },
  "language_info": {
   "codemirror_mode": {
    "name": "ipython",
    "version": 3
   },
   "file_extension": ".py",
   "mimetype": "text/x-python",
   "name": "python",
   "nbconvert_exporter": "python",
   "pygments_lexer": "ipython3",
   "version": "3.9.10"
  },
  "toc": {
   "base_numbering": 1,
   "nav_menu": {},
   "number_sections": true,
   "sideBar": true,
   "skip_h1_title": true,
   "title_cell": "Table of Contents",
   "title_sidebar": "Contents",
   "toc_cell": true,
   "toc_position": {
    "height": "calc(100% - 180px)",
    "left": "10px",
    "top": "150px",
    "width": "198px"
   },
   "toc_section_display": true,
   "toc_window_display": true
  }
 },
 "nbformat": 4,
 "nbformat_minor": 2
}
