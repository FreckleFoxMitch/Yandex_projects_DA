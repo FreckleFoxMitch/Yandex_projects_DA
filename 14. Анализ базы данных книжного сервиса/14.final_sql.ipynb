{
 "cells": [
  {
   "cell_type": "markdown",
   "metadata": {
    "toc": true
   },
   "source": [
    "<h1>Table of Contents<span class=\"tocSkip\"></span></h1>\n",
    "<div class=\"toc\"><ul class=\"toc-item\"><li><ul class=\"toc-item\"><li><span><a href=\"#Описание-проекта\" data-toc-modified-id=\"Описание-проекта-0.1\"><span class=\"toc-item-num\">0.1&nbsp;&nbsp;</span>Описание проекта</a></span></li></ul></li><li><span><a href=\"#Создание-подключения-к-БД\" data-toc-modified-id=\"Создание-подключения-к-БД-1\"><span class=\"toc-item-num\">1&nbsp;&nbsp;</span>Создание подключения к БД</a></span></li><li><span><a href=\"#Обзор-данных\" data-toc-modified-id=\"Обзор-данных-2\"><span class=\"toc-item-num\">2&nbsp;&nbsp;</span>Обзор данных</a></span></li><li><span><a href=\"#Решение-задач\" data-toc-modified-id=\"Решение-задач-3\"><span class=\"toc-item-num\">3&nbsp;&nbsp;</span>Решение задач</a></span><ul class=\"toc-item\"><li><span><a href=\"#Посчитать,-сколько-книг-вышло-после-1-января-2000-года\" data-toc-modified-id=\"Посчитать,-сколько-книг-вышло-после-1-января-2000-года-3.1\"><span class=\"toc-item-num\">3.1&nbsp;&nbsp;</span>Посчитать, сколько книг вышло после 1 января 2000 года</a></span></li><li><span><a href=\"#Для-каждой-книги-посчитать-количество-обзоров-и-среднюю-оценку\" data-toc-modified-id=\"Для-каждой-книги-посчитать-количество-обзоров-и-среднюю-оценку-3.2\"><span class=\"toc-item-num\">3.2&nbsp;&nbsp;</span>Для каждой книги посчитать количество обзоров и среднюю оценку</a></span></li><li><span><a href=\"#Определить-издательство,-которое-выпустило-наибольшее-число-книг-толще-50-страниц\" data-toc-modified-id=\"Определить-издательство,-которое-выпустило-наибольшее-число-книг-толще-50-страниц-3.3\"><span class=\"toc-item-num\">3.3&nbsp;&nbsp;</span>Определить издательство, которое выпустило наибольшее число книг толще 50 страниц</a></span></li><li><span><a href=\"#Определить-автора-с-самой-высокой-средней-оценкой-книг-(для-книг-с-50-и-более-оценками)\" data-toc-modified-id=\"Определить-автора-с-самой-высокой-средней-оценкой-книг-(для-книг-с-50-и-более-оценками)-3.4\"><span class=\"toc-item-num\">3.4&nbsp;&nbsp;</span>Определить автора с самой высокой средней оценкой книг (для книг с 50 и более оценками)</a></span></li><li><span><a href=\"#Посчитать-среднее-количество-обзоров-от-пользователей,-которые-поставили-больше-50-оценок\" data-toc-modified-id=\"Посчитать-среднее-количество-обзоров-от-пользователей,-которые-поставили-больше-50-оценок-3.5\"><span class=\"toc-item-num\">3.5&nbsp;&nbsp;</span>Посчитать среднее количество обзоров от пользователей, которые поставили больше 50 оценок</a></span></li></ul></li><li><span><a href=\"#Общий-вывод\" data-toc-modified-id=\"Общий-вывод-4\"><span class=\"toc-item-num\">4&nbsp;&nbsp;</span>Общий вывод</a></span></li></ul></div>"
   ]
  },
  {
   "cell_type": "markdown",
   "metadata": {},
   "source": [
    "# Проект по SQL - Анализ базы данных книг"
   ]
  },
  {
   "cell_type": "markdown",
   "metadata": {},
   "source": [
    "### Описание проекта\n",
    "Компания купила крупный сервис для чтения книг по подписке. Наша первая задача как аналитика — проанализировать его базу данных. Эти данные помогут сформулировать ценностное предложение для нового продукта.\n",
    "\n",
    "**Цель исследования:**\n",
    "1. *Определить направление развития книжного сервиса.*\n",
    "\n",
    "**Описание данных**\n",
    "\n",
    "В базе данных содержится информация о книгах, издательствах, авторах, а также пользовательские обзоры книг.\n",
    "\n",
    "Таблица `books` (данные о книгах):\n",
    "\n",
    "    book_id — идентификатор книги;\n",
    "    author_id — идентификатор автора;\n",
    "    title — название книги;\n",
    "    num_pages — количество страниц;\n",
    "    publication_date — дата публикации книги;\n",
    "    publisher_id — идентификатор издателя.\n",
    "    \n",
    "Таблица `authors` (данные об авторах):\n",
    "\n",
    "    author_id — идентификатор автора;\n",
    "    author — имя автора.\n",
    "    \n",
    "Таблица `publishers` (данные об издательствах):\n",
    "\n",
    "    publisher_id — идентификатор издательства;\n",
    "    publisher — название издательства.\n",
    "    \n",
    "Таблица `ratings` (данные о пользовательских оценках книг):\n",
    "\n",
    "    rating_id — идентификатор оценки;\n",
    "    book_id — идентификатор книги;\n",
    "    username — имя пользователя, оставившего оценку;\n",
    "    rating — оценка книги.\n",
    "    \n",
    "Таблица `reviews` (данные о пользовательских обзорах):\n",
    "\n",
    "    review_id — идентификатор обзора;\n",
    "    book_id — идентификатор книги;\n",
    "    username — имя автора обзора;\n",
    "    text — текст обзора.\n",
    "\n",
    "**Схема данных**\n",
    "\n",
    "![data schema](https://pictures.s3.yandex.net/resources/scheme_1589269096.png)\n",
    "\n",
    "**Задачи:**\n",
    "\n",
    "* Посчитать, сколько книг вышло после 1 января 2000 года;\n",
    "* Для каждой книги посчитать количество обзоров и среднюю оценку;\n",
    "* Определить издательство, которое выпустило наибольшее число книг толще 50 страниц — так вы исключите из анализа брошюры;\n",
    "* Определить автора с самой высокой средней оценкой книг — учитывайте только книги с 50 и более оценками;\n",
    "* Посчитать среднее количество обзоров от пользователей, которые поставили больше 50 оценок."
   ]
  },
  {
   "cell_type": "markdown",
   "metadata": {},
   "source": [
    "## Создание подключения к БД\n",
    "Создадим подключение к базе данных:"
   ]
  },
  {
   "cell_type": "code",
   "execution_count": 1,
   "metadata": {},
   "outputs": [],
   "source": [
    "# импортируем библиотеки\n",
    "import pandas as pd\n",
    "from sqlalchemy import create_engine\n",
    "\n",
    "# устанавливаем параметры\n",
    "db_config = {'user': 'login', # имя пользователя\n",
    "'pwd': 'password', # пароль\n",
    "'host': 'localhost',\n",
    "'port': 6432, # порт подключения\n",
    "'db': 'books-db'} # название базы данных\n",
    "connection_string = 'postgresql://{}:{}@{}:{}/{}'.format(db_config['user'],\n",
    " db_config['pwd'],\n",
    " db_config['host'],\n",
    " db_config['port'],\n",
    " db_config['db'])\n",
    "\n",
    "# сохраняем коннектор\n",
    "engine = create_engine(connection_string, connect_args={'sslmode':'require'}) "
   ]
  },
  {
   "cell_type": "markdown",
   "metadata": {},
   "source": [
    "Создадим функцию `select` для выполнения SQL-запросов:"
   ]
  },
  {
   "cell_type": "code",
   "execution_count": 2,
   "metadata": {},
   "outputs": [],
   "source": [
    "def select(sql):\n",
    "    return pd.io.sql.read_sql(sql, con = engine)"
   ]
  },
  {
   "cell_type": "markdown",
   "metadata": {},
   "source": [
    "## Обзор данных\n",
    "Исследуем таблицы и выведем их первые строки:"
   ]
  },
  {
   "cell_type": "code",
   "execution_count": 3,
   "metadata": {},
   "outputs": [
    {
     "name": "stdout",
     "output_type": "stream",
     "text": [
      "\n",
      "Таблица: books\n"
     ]
    },
    {
     "data": {
      "text/html": [
       "<div>\n",
       "<style scoped>\n",
       "    .dataframe tbody tr th:only-of-type {\n",
       "        vertical-align: middle;\n",
       "    }\n",
       "\n",
       "    .dataframe tbody tr th {\n",
       "        vertical-align: top;\n",
       "    }\n",
       "\n",
       "    .dataframe thead th {\n",
       "        text-align: right;\n",
       "    }\n",
       "</style>\n",
       "<table border=\"1\" class=\"dataframe\">\n",
       "  <thead>\n",
       "    <tr style=\"text-align: right;\">\n",
       "      <th></th>\n",
       "      <th>book_id</th>\n",
       "      <th>author_id</th>\n",
       "      <th>title</th>\n",
       "      <th>num_pages</th>\n",
       "      <th>publication_date</th>\n",
       "      <th>publisher_id</th>\n",
       "    </tr>\n",
       "  </thead>\n",
       "  <tbody>\n",
       "    <tr>\n",
       "      <th>0</th>\n",
       "      <td>1</td>\n",
       "      <td>546</td>\n",
       "      <td>'Salem's Lot</td>\n",
       "      <td>594</td>\n",
       "      <td>2005-11-01</td>\n",
       "      <td>93</td>\n",
       "    </tr>\n",
       "    <tr>\n",
       "      <th>1</th>\n",
       "      <td>2</td>\n",
       "      <td>465</td>\n",
       "      <td>1 000 Places to See Before You Die</td>\n",
       "      <td>992</td>\n",
       "      <td>2003-05-22</td>\n",
       "      <td>336</td>\n",
       "    </tr>\n",
       "    <tr>\n",
       "      <th>2</th>\n",
       "      <td>3</td>\n",
       "      <td>407</td>\n",
       "      <td>13 Little Blue Envelopes (Little Blue Envelope...</td>\n",
       "      <td>322</td>\n",
       "      <td>2010-12-21</td>\n",
       "      <td>135</td>\n",
       "    </tr>\n",
       "    <tr>\n",
       "      <th>3</th>\n",
       "      <td>4</td>\n",
       "      <td>82</td>\n",
       "      <td>1491: New Revelations of the Americas Before C...</td>\n",
       "      <td>541</td>\n",
       "      <td>2006-10-10</td>\n",
       "      <td>309</td>\n",
       "    </tr>\n",
       "    <tr>\n",
       "      <th>4</th>\n",
       "      <td>5</td>\n",
       "      <td>125</td>\n",
       "      <td>1776</td>\n",
       "      <td>386</td>\n",
       "      <td>2006-07-04</td>\n",
       "      <td>268</td>\n",
       "    </tr>\n",
       "  </tbody>\n",
       "</table>\n",
       "</div>"
      ],
      "text/plain": [
       "   book_id  author_id                                              title  \\\n",
       "0        1        546                                       'Salem's Lot   \n",
       "1        2        465                 1 000 Places to See Before You Die   \n",
       "2        3        407  13 Little Blue Envelopes (Little Blue Envelope...   \n",
       "3        4         82  1491: New Revelations of the Americas Before C...   \n",
       "4        5        125                                               1776   \n",
       "\n",
       "   num_pages publication_date  publisher_id  \n",
       "0        594       2005-11-01            93  \n",
       "1        992       2003-05-22           336  \n",
       "2        322       2010-12-21           135  \n",
       "3        541       2006-10-10           309  \n",
       "4        386       2006-07-04           268  "
      ]
     },
     "metadata": {},
     "output_type": "display_data"
    },
    {
     "name": "stdout",
     "output_type": "stream",
     "text": [
      "\n",
      "Таблица: authors\n"
     ]
    },
    {
     "data": {
      "text/html": [
       "<div>\n",
       "<style scoped>\n",
       "    .dataframe tbody tr th:only-of-type {\n",
       "        vertical-align: middle;\n",
       "    }\n",
       "\n",
       "    .dataframe tbody tr th {\n",
       "        vertical-align: top;\n",
       "    }\n",
       "\n",
       "    .dataframe thead th {\n",
       "        text-align: right;\n",
       "    }\n",
       "</style>\n",
       "<table border=\"1\" class=\"dataframe\">\n",
       "  <thead>\n",
       "    <tr style=\"text-align: right;\">\n",
       "      <th></th>\n",
       "      <th>author_id</th>\n",
       "      <th>author</th>\n",
       "    </tr>\n",
       "  </thead>\n",
       "  <tbody>\n",
       "    <tr>\n",
       "      <th>0</th>\n",
       "      <td>1</td>\n",
       "      <td>A.S. Byatt</td>\n",
       "    </tr>\n",
       "    <tr>\n",
       "      <th>1</th>\n",
       "      <td>2</td>\n",
       "      <td>Aesop/Laura Harris/Laura Gibbs</td>\n",
       "    </tr>\n",
       "    <tr>\n",
       "      <th>2</th>\n",
       "      <td>3</td>\n",
       "      <td>Agatha Christie</td>\n",
       "    </tr>\n",
       "    <tr>\n",
       "      <th>3</th>\n",
       "      <td>4</td>\n",
       "      <td>Alan Brennert</td>\n",
       "    </tr>\n",
       "    <tr>\n",
       "      <th>4</th>\n",
       "      <td>5</td>\n",
       "      <td>Alan Moore/David   Lloyd</td>\n",
       "    </tr>\n",
       "  </tbody>\n",
       "</table>\n",
       "</div>"
      ],
      "text/plain": [
       "   author_id                          author\n",
       "0          1                      A.S. Byatt\n",
       "1          2  Aesop/Laura Harris/Laura Gibbs\n",
       "2          3                 Agatha Christie\n",
       "3          4                   Alan Brennert\n",
       "4          5        Alan Moore/David   Lloyd"
      ]
     },
     "metadata": {},
     "output_type": "display_data"
    },
    {
     "name": "stdout",
     "output_type": "stream",
     "text": [
      "\n",
      "Таблица: publishers\n"
     ]
    },
    {
     "data": {
      "text/html": [
       "<div>\n",
       "<style scoped>\n",
       "    .dataframe tbody tr th:only-of-type {\n",
       "        vertical-align: middle;\n",
       "    }\n",
       "\n",
       "    .dataframe tbody tr th {\n",
       "        vertical-align: top;\n",
       "    }\n",
       "\n",
       "    .dataframe thead th {\n",
       "        text-align: right;\n",
       "    }\n",
       "</style>\n",
       "<table border=\"1\" class=\"dataframe\">\n",
       "  <thead>\n",
       "    <tr style=\"text-align: right;\">\n",
       "      <th></th>\n",
       "      <th>publisher_id</th>\n",
       "      <th>publisher</th>\n",
       "    </tr>\n",
       "  </thead>\n",
       "  <tbody>\n",
       "    <tr>\n",
       "      <th>0</th>\n",
       "      <td>1</td>\n",
       "      <td>Ace</td>\n",
       "    </tr>\n",
       "    <tr>\n",
       "      <th>1</th>\n",
       "      <td>2</td>\n",
       "      <td>Ace Book</td>\n",
       "    </tr>\n",
       "    <tr>\n",
       "      <th>2</th>\n",
       "      <td>3</td>\n",
       "      <td>Ace Books</td>\n",
       "    </tr>\n",
       "    <tr>\n",
       "      <th>3</th>\n",
       "      <td>4</td>\n",
       "      <td>Ace Hardcover</td>\n",
       "    </tr>\n",
       "    <tr>\n",
       "      <th>4</th>\n",
       "      <td>5</td>\n",
       "      <td>Addison Wesley Publishing Company</td>\n",
       "    </tr>\n",
       "  </tbody>\n",
       "</table>\n",
       "</div>"
      ],
      "text/plain": [
       "   publisher_id                          publisher\n",
       "0             1                                Ace\n",
       "1             2                           Ace Book\n",
       "2             3                          Ace Books\n",
       "3             4                      Ace Hardcover\n",
       "4             5  Addison Wesley Publishing Company"
      ]
     },
     "metadata": {},
     "output_type": "display_data"
    },
    {
     "name": "stdout",
     "output_type": "stream",
     "text": [
      "\n",
      "Таблица: ratings\n"
     ]
    },
    {
     "data": {
      "text/html": [
       "<div>\n",
       "<style scoped>\n",
       "    .dataframe tbody tr th:only-of-type {\n",
       "        vertical-align: middle;\n",
       "    }\n",
       "\n",
       "    .dataframe tbody tr th {\n",
       "        vertical-align: top;\n",
       "    }\n",
       "\n",
       "    .dataframe thead th {\n",
       "        text-align: right;\n",
       "    }\n",
       "</style>\n",
       "<table border=\"1\" class=\"dataframe\">\n",
       "  <thead>\n",
       "    <tr style=\"text-align: right;\">\n",
       "      <th></th>\n",
       "      <th>rating_id</th>\n",
       "      <th>book_id</th>\n",
       "      <th>username</th>\n",
       "      <th>rating</th>\n",
       "    </tr>\n",
       "  </thead>\n",
       "  <tbody>\n",
       "    <tr>\n",
       "      <th>0</th>\n",
       "      <td>1</td>\n",
       "      <td>1</td>\n",
       "      <td>ryanfranco</td>\n",
       "      <td>4</td>\n",
       "    </tr>\n",
       "    <tr>\n",
       "      <th>1</th>\n",
       "      <td>2</td>\n",
       "      <td>1</td>\n",
       "      <td>grantpatricia</td>\n",
       "      <td>2</td>\n",
       "    </tr>\n",
       "    <tr>\n",
       "      <th>2</th>\n",
       "      <td>3</td>\n",
       "      <td>1</td>\n",
       "      <td>brandtandrea</td>\n",
       "      <td>5</td>\n",
       "    </tr>\n",
       "    <tr>\n",
       "      <th>3</th>\n",
       "      <td>4</td>\n",
       "      <td>2</td>\n",
       "      <td>lorichen</td>\n",
       "      <td>3</td>\n",
       "    </tr>\n",
       "    <tr>\n",
       "      <th>4</th>\n",
       "      <td>5</td>\n",
       "      <td>2</td>\n",
       "      <td>mariokeller</td>\n",
       "      <td>2</td>\n",
       "    </tr>\n",
       "  </tbody>\n",
       "</table>\n",
       "</div>"
      ],
      "text/plain": [
       "   rating_id  book_id       username  rating\n",
       "0          1        1     ryanfranco       4\n",
       "1          2        1  grantpatricia       2\n",
       "2          3        1   brandtandrea       5\n",
       "3          4        2       lorichen       3\n",
       "4          5        2    mariokeller       2"
      ]
     },
     "metadata": {},
     "output_type": "display_data"
    },
    {
     "name": "stdout",
     "output_type": "stream",
     "text": [
      "\n",
      "Таблица: reviews\n"
     ]
    },
    {
     "data": {
      "text/html": [
       "<div>\n",
       "<style scoped>\n",
       "    .dataframe tbody tr th:only-of-type {\n",
       "        vertical-align: middle;\n",
       "    }\n",
       "\n",
       "    .dataframe tbody tr th {\n",
       "        vertical-align: top;\n",
       "    }\n",
       "\n",
       "    .dataframe thead th {\n",
       "        text-align: right;\n",
       "    }\n",
       "</style>\n",
       "<table border=\"1\" class=\"dataframe\">\n",
       "  <thead>\n",
       "    <tr style=\"text-align: right;\">\n",
       "      <th></th>\n",
       "      <th>review_id</th>\n",
       "      <th>book_id</th>\n",
       "      <th>username</th>\n",
       "      <th>text</th>\n",
       "    </tr>\n",
       "  </thead>\n",
       "  <tbody>\n",
       "    <tr>\n",
       "      <th>0</th>\n",
       "      <td>1</td>\n",
       "      <td>1</td>\n",
       "      <td>brandtandrea</td>\n",
       "      <td>Mention society tell send professor analysis. ...</td>\n",
       "    </tr>\n",
       "    <tr>\n",
       "      <th>1</th>\n",
       "      <td>2</td>\n",
       "      <td>1</td>\n",
       "      <td>ryanfranco</td>\n",
       "      <td>Foot glass pretty audience hit themselves. Amo...</td>\n",
       "    </tr>\n",
       "    <tr>\n",
       "      <th>2</th>\n",
       "      <td>3</td>\n",
       "      <td>2</td>\n",
       "      <td>lorichen</td>\n",
       "      <td>Listen treat keep worry. Miss husband tax but ...</td>\n",
       "    </tr>\n",
       "    <tr>\n",
       "      <th>3</th>\n",
       "      <td>4</td>\n",
       "      <td>3</td>\n",
       "      <td>johnsonamanda</td>\n",
       "      <td>Finally month interesting blue could nature cu...</td>\n",
       "    </tr>\n",
       "    <tr>\n",
       "      <th>4</th>\n",
       "      <td>5</td>\n",
       "      <td>3</td>\n",
       "      <td>scotttamara</td>\n",
       "      <td>Nation purpose heavy give wait song will. List...</td>\n",
       "    </tr>\n",
       "  </tbody>\n",
       "</table>\n",
       "</div>"
      ],
      "text/plain": [
       "   review_id  book_id       username  \\\n",
       "0          1        1   brandtandrea   \n",
       "1          2        1     ryanfranco   \n",
       "2          3        2       lorichen   \n",
       "3          4        3  johnsonamanda   \n",
       "4          5        3    scotttamara   \n",
       "\n",
       "                                                text  \n",
       "0  Mention society tell send professor analysis. ...  \n",
       "1  Foot glass pretty audience hit themselves. Amo...  \n",
       "2  Listen treat keep worry. Miss husband tax but ...  \n",
       "3  Finally month interesting blue could nature cu...  \n",
       "4  Nation purpose heavy give wait song will. List...  "
      ]
     },
     "metadata": {},
     "output_type": "display_data"
    }
   ],
   "source": [
    "tables = ['books', 'authors', 'publishers', 'ratings', 'reviews']\n",
    "for table in tables:\n",
    "    print(f'\\nТаблица: {table}')\n",
    "    sql = '''SELECT *\n",
    "             FROM {}\n",
    "             LIMIT 5'''.format(table)\n",
    "    display(select(sql))"
   ]
  },
  {
   "cell_type": "markdown",
   "metadata": {},
   "source": [
    "Мы можем наблюдать, что:\n",
    "* данные представлены как количественными (`num_pages`, `rating`), так и категориальными (`author`, `publisher`) величинами;\n",
    "* все данные стандартизированы и в предобработке не нуждаются;\n",
    "* в основной таблице `books` столбцы `author` и `publisher` представлены в виде числовых кодировок, расшифровка которых содержится в соответствующих таблицах;\n",
    "* в таблицах `ratings` и `reviews` не содержится наименований книг - только их идентификаторы `book_id`, отсылающие нас к основной таблице `books`."
   ]
  },
  {
   "cell_type": "markdown",
   "metadata": {},
   "source": [
    "## Решение задач"
   ]
  },
  {
   "cell_type": "markdown",
   "metadata": {},
   "source": [
    "### Посчитать, сколько книг вышло после 1 января 2000 года\n",
    "Запишем в `sql` соответствующий запрос и выведем результат на экран:"
   ]
  },
  {
   "cell_type": "code",
   "execution_count": 4,
   "metadata": {},
   "outputs": [
    {
     "data": {
      "text/html": [
       "<div>\n",
       "<style scoped>\n",
       "    .dataframe tbody tr th:only-of-type {\n",
       "        vertical-align: middle;\n",
       "    }\n",
       "\n",
       "    .dataframe tbody tr th {\n",
       "        vertical-align: top;\n",
       "    }\n",
       "\n",
       "    .dataframe thead th {\n",
       "        text-align: right;\n",
       "    }\n",
       "</style>\n",
       "<table border=\"1\" class=\"dataframe\">\n",
       "  <thead>\n",
       "    <tr style=\"text-align: right;\">\n",
       "      <th></th>\n",
       "      <th>books_total</th>\n",
       "    </tr>\n",
       "  </thead>\n",
       "  <tbody>\n",
       "    <tr>\n",
       "      <th>0</th>\n",
       "      <td>819</td>\n",
       "    </tr>\n",
       "  </tbody>\n",
       "</table>\n",
       "</div>"
      ],
      "text/plain": [
       "   books_total\n",
       "0          819"
      ]
     },
     "execution_count": 4,
     "metadata": {},
     "output_type": "execute_result"
    }
   ],
   "source": [
    "sql = '''SELECT COUNT(book_id) AS books_total\n",
    "         FROM books\n",
    "         WHERE publication_date > '2000-01-01';\n",
    "         '''\n",
    "select(sql)"
   ]
  },
  {
   "cell_type": "markdown",
   "metadata": {},
   "source": [
    "В нашей БД содержатся данные о 819 книгах, вышедших после 1 января 2000 года."
   ]
  },
  {
   "cell_type": "markdown",
   "metadata": {},
   "source": [
    "### Для каждой книги посчитать количество обзоров и среднюю оценку\n",
    "Запишем в `sql` соответствующий запрос и выведем результат на экран:"
   ]
  },
  {
   "cell_type": "code",
   "execution_count": 5,
   "metadata": {},
   "outputs": [
    {
     "data": {
      "text/html": [
       "<div>\n",
       "<style scoped>\n",
       "    .dataframe tbody tr th:only-of-type {\n",
       "        vertical-align: middle;\n",
       "    }\n",
       "\n",
       "    .dataframe tbody tr th {\n",
       "        vertical-align: top;\n",
       "    }\n",
       "\n",
       "    .dataframe thead th {\n",
       "        text-align: right;\n",
       "    }\n",
       "</style>\n",
       "<table border=\"1\" class=\"dataframe\">\n",
       "  <thead>\n",
       "    <tr style=\"text-align: right;\">\n",
       "      <th></th>\n",
       "      <th>title</th>\n",
       "      <th>reviews_total</th>\n",
       "      <th>avg_rating</th>\n",
       "    </tr>\n",
       "  </thead>\n",
       "  <tbody>\n",
       "    <tr>\n",
       "      <th>0</th>\n",
       "      <td>Twilight (Twilight  #1)</td>\n",
       "      <td>7</td>\n",
       "      <td>3.662500</td>\n",
       "    </tr>\n",
       "    <tr>\n",
       "      <th>1</th>\n",
       "      <td>The Road</td>\n",
       "      <td>6</td>\n",
       "      <td>3.772727</td>\n",
       "    </tr>\n",
       "    <tr>\n",
       "      <th>2</th>\n",
       "      <td>The Book Thief</td>\n",
       "      <td>6</td>\n",
       "      <td>4.264151</td>\n",
       "    </tr>\n",
       "    <tr>\n",
       "      <th>3</th>\n",
       "      <td>The Glass Castle</td>\n",
       "      <td>6</td>\n",
       "      <td>4.206897</td>\n",
       "    </tr>\n",
       "    <tr>\n",
       "      <th>4</th>\n",
       "      <td>Water for Elephants</td>\n",
       "      <td>6</td>\n",
       "      <td>3.977273</td>\n",
       "    </tr>\n",
       "    <tr>\n",
       "      <th>...</th>\n",
       "      <td>...</td>\n",
       "      <td>...</td>\n",
       "      <td>...</td>\n",
       "    </tr>\n",
       "    <tr>\n",
       "      <th>989</th>\n",
       "      <td>Naked Empire (Sword of Truth  #8)</td>\n",
       "      <td>1</td>\n",
       "      <td>3.500000</td>\n",
       "    </tr>\n",
       "    <tr>\n",
       "      <th>990</th>\n",
       "      <td>Moo  Baa  La La La!</td>\n",
       "      <td>1</td>\n",
       "      <td>3.000000</td>\n",
       "    </tr>\n",
       "    <tr>\n",
       "      <th>991</th>\n",
       "      <td>Merrick (The Vampire Chronicles #7)</td>\n",
       "      <td>1</td>\n",
       "      <td>4.000000</td>\n",
       "    </tr>\n",
       "    <tr>\n",
       "      <th>992</th>\n",
       "      <td>Babyville</td>\n",
       "      <td>1</td>\n",
       "      <td>3.500000</td>\n",
       "    </tr>\n",
       "    <tr>\n",
       "      <th>993</th>\n",
       "      <td>Lysistrata</td>\n",
       "      <td>1</td>\n",
       "      <td>4.000000</td>\n",
       "    </tr>\n",
       "  </tbody>\n",
       "</table>\n",
       "<p>994 rows × 3 columns</p>\n",
       "</div>"
      ],
      "text/plain": [
       "                                   title  reviews_total  avg_rating\n",
       "0                Twilight (Twilight  #1)              7    3.662500\n",
       "1                               The Road              6    3.772727\n",
       "2                         The Book Thief              6    4.264151\n",
       "3                       The Glass Castle              6    4.206897\n",
       "4                    Water for Elephants              6    3.977273\n",
       "..                                   ...            ...         ...\n",
       "989    Naked Empire (Sword of Truth  #8)              1    3.500000\n",
       "990                  Moo  Baa  La La La!              1    3.000000\n",
       "991  Merrick (The Vampire Chronicles #7)              1    4.000000\n",
       "992                            Babyville              1    3.500000\n",
       "993                           Lysistrata              1    4.000000\n",
       "\n",
       "[994 rows x 3 columns]"
      ]
     },
     "execution_count": 5,
     "metadata": {},
     "output_type": "execute_result"
    }
   ],
   "source": [
    "sql = '''SELECT \n",
    "             b.title AS title,\n",
    "             COUNT(DISTINCT re.review_id) AS reviews_total,\n",
    "             AVG(ra.rating) AS avg_rating\n",
    "         FROM books AS b\n",
    "         INNER JOIN reviews AS re ON re.book_id = b.book_id\n",
    "         INNER JOIN ratings AS ra ON ra.book_id = b.book_id\n",
    "         GROUP BY \n",
    "              b.title, \n",
    "              b.book_id\n",
    "        ORDER BY reviews_total DESC;'''\n",
    "\n",
    "select(sql)"
   ]
  },
  {
   "cell_type": "markdown",
   "metadata": {},
   "source": [
    "Мы можем наблюдать, что в БД содержится около 1000 книг, причём количество отзывов в них далеко не всегда коррелируется с их рейтингом. \n",
    "\n",
    "В качестве примера можно рассмотреть вампирскую тематику. В ней есть как книга с большим количеством обзоров, но с не самой высокой оценкой (`Twilight (Twilight #1)`), так и книга, где всего один обзор, но оценена она при этом выше (`Merrick (The Vampire Chronicles #7)`)."
   ]
  },
  {
   "cell_type": "markdown",
   "metadata": {},
   "source": [
    "### Определить издательство, которое выпустило наибольшее число книг толще 50 страниц\n",
    "Запишем в `sql` соответствующий запрос и выведем результат на экран:"
   ]
  },
  {
   "cell_type": "code",
   "execution_count": 6,
   "metadata": {},
   "outputs": [
    {
     "data": {
      "text/html": [
       "<div>\n",
       "<style scoped>\n",
       "    .dataframe tbody tr th:only-of-type {\n",
       "        vertical-align: middle;\n",
       "    }\n",
       "\n",
       "    .dataframe tbody tr th {\n",
       "        vertical-align: top;\n",
       "    }\n",
       "\n",
       "    .dataframe thead th {\n",
       "        text-align: right;\n",
       "    }\n",
       "</style>\n",
       "<table border=\"1\" class=\"dataframe\">\n",
       "  <thead>\n",
       "    <tr style=\"text-align: right;\">\n",
       "      <th></th>\n",
       "      <th>publisher</th>\n",
       "      <th>books_total</th>\n",
       "    </tr>\n",
       "  </thead>\n",
       "  <tbody>\n",
       "    <tr>\n",
       "      <th>0</th>\n",
       "      <td>Penguin Books</td>\n",
       "      <td>42</td>\n",
       "    </tr>\n",
       "  </tbody>\n",
       "</table>\n",
       "</div>"
      ],
      "text/plain": [
       "       publisher  books_total\n",
       "0  Penguin Books           42"
      ]
     },
     "execution_count": 6,
     "metadata": {},
     "output_type": "execute_result"
    }
   ],
   "source": [
    "sql = '''SELECT \n",
    "             p.publisher as publisher, \n",
    "             COUNT(b.book_id) AS books_total\n",
    "         FROM books AS b\n",
    "         INNER JOIN publishers AS p ON b.publisher_id = p.publisher_id\n",
    "         WHERE b.num_pages > 50\n",
    "         GROUP BY publisher\n",
    "         ORDER BY books_total DESC\n",
    "         LIMIT 1;'''\n",
    "\n",
    "select(sql)"
   ]
  },
  {
   "cell_type": "markdown",
   "metadata": {},
   "source": [
    "Лидером является одно из старейших британских издательств - Penguin Books. Специализируется оно в основном на романах и серьёзной литературе - в своё время там были изданы «Прощай, оружие» Э. Хемингуэя, «Любовник леди Чаттерлей» Д. Г. Лоуренса и др."
   ]
  },
  {
   "cell_type": "markdown",
   "metadata": {},
   "source": [
    "### Определить автора с самой высокой средней оценкой книг (для книг с 50 и более оценками)\n",
    "Запишем в `sql` соответствующий запрос и выведем результат на экран:"
   ]
  },
  {
   "cell_type": "code",
   "execution_count": 7,
   "metadata": {},
   "outputs": [
    {
     "data": {
      "text/html": [
       "<div>\n",
       "<style scoped>\n",
       "    .dataframe tbody tr th:only-of-type {\n",
       "        vertical-align: middle;\n",
       "    }\n",
       "\n",
       "    .dataframe tbody tr th {\n",
       "        vertical-align: top;\n",
       "    }\n",
       "\n",
       "    .dataframe thead th {\n",
       "        text-align: right;\n",
       "    }\n",
       "</style>\n",
       "<table border=\"1\" class=\"dataframe\">\n",
       "  <thead>\n",
       "    <tr style=\"text-align: right;\">\n",
       "      <th></th>\n",
       "      <th>author</th>\n",
       "      <th>rating</th>\n",
       "    </tr>\n",
       "  </thead>\n",
       "  <tbody>\n",
       "    <tr>\n",
       "      <th>0</th>\n",
       "      <td>J.K. Rowling/Mary GrandPré</td>\n",
       "      <td>4.283844</td>\n",
       "    </tr>\n",
       "  </tbody>\n",
       "</table>\n",
       "</div>"
      ],
      "text/plain": [
       "                       author    rating\n",
       "0  J.K. Rowling/Mary GrandPré  4.283844"
      ]
     },
     "execution_count": 7,
     "metadata": {},
     "output_type": "execute_result"
    }
   ],
   "source": [
    "sql = '''WITH many_ratings AS\n",
    "  (SELECT b.book_id,\n",
    "          b.author_id,\n",
    "          a.author,\n",
    "          AVG(ra.rating) AS rating_avg\n",
    "   FROM books AS b\n",
    "   INNER JOIN ratings AS ra ON b.book_id = ra.book_id\n",
    "   INNER JOIN authors AS a ON b.author_id = a.author_id\n",
    "   GROUP BY b.book_id, a.author_id\n",
    "   HAVING COUNT(ra.rating_id) >= 50)\n",
    "   \n",
    "SELECT author, \n",
    "       AVG(rating_avg) as rating\n",
    "FROM many_ratings\n",
    "GROUP BY author\n",
    "ORDER BY rating DESC\n",
    "LIMIT 1;\n",
    "'''\n",
    "\n",
    "select(sql)"
   ]
  },
  {
   "cell_type": "markdown",
   "metadata": {},
   "source": [
    "Согласно нашей БД, наиболее признанным читателями являются книги Дж. К. Роулинг с иллюстрациями Мэри Грандпре. Именно эти издания саги о Гарри Поттере являются самыми известными, в том числе и у нас в стране."
   ]
  },
  {
   "cell_type": "markdown",
   "metadata": {},
   "source": [
    "### Посчитать среднее количество обзоров от пользователей, которые поставили больше 50 оценок\n",
    "Запишем в `sql` соответствующий запрос и выведем результат на экран:"
   ]
  },
  {
   "cell_type": "code",
   "execution_count": 8,
   "metadata": {},
   "outputs": [
    {
     "data": {
      "text/html": [
       "<div>\n",
       "<style scoped>\n",
       "    .dataframe tbody tr th:only-of-type {\n",
       "        vertical-align: middle;\n",
       "    }\n",
       "\n",
       "    .dataframe tbody tr th {\n",
       "        vertical-align: top;\n",
       "    }\n",
       "\n",
       "    .dataframe thead th {\n",
       "        text-align: right;\n",
       "    }\n",
       "</style>\n",
       "<table border=\"1\" class=\"dataframe\">\n",
       "  <thead>\n",
       "    <tr style=\"text-align: right;\">\n",
       "      <th></th>\n",
       "      <th>avg_reviews_count</th>\n",
       "    </tr>\n",
       "  </thead>\n",
       "  <tbody>\n",
       "    <tr>\n",
       "      <th>0</th>\n",
       "      <td>24.0</td>\n",
       "    </tr>\n",
       "  </tbody>\n",
       "</table>\n",
       "</div>"
      ],
      "text/plain": [
       "   avg_reviews_count\n",
       "0               24.0"
      ]
     },
     "execution_count": 8,
     "metadata": {},
     "output_type": "execute_result"
    }
   ],
   "source": [
    "sql = '''WITH review_count AS\n",
    "           (SELECT COUNT(re.text) AS reviews_count\n",
    "            FROM reviews AS re\n",
    "            FULL OUTER JOIN\n",
    "              (SELECT username,\n",
    "                      COUNT(rating_id) AS rating_count\n",
    "               FROM ratings\n",
    "               GROUP BY username) AS ra_c ON ra_c.username = re.username\n",
    "            WHERE rating_count > 50\n",
    "            GROUP BY re.username)\n",
    "   \n",
    "SELECT ROUND(AVG(reviews_count)) AS avg_reviews_count\n",
    "FROM review_count;'''\n",
    "\n",
    "select(sql)"
   ]
  },
  {
   "cell_type": "markdown",
   "metadata": {},
   "source": [
    "Среднее количество обзоров от таких активных пользователей равно 24."
   ]
  },
  {
   "cell_type": "markdown",
   "metadata": {},
   "source": [
    "## Общий вывод"
   ]
  },
  {
   "cell_type": "markdown",
   "metadata": {},
   "source": [
    "Мы провели краткий анализ данных сервиса для чтения книг по подписке. \n",
    "\n",
    "Исходя из информации, полученной из БД:\n",
    "\n",
    "* Всего в ней содержится 819 современных книг (т.е. выпущенных на последние 20 лет).\n",
    "\n",
    "* Практически на 1000 книг есть обзоры читателей и их оценки, которые, впрочем, далеко не всегда коррелируются между собой. \n",
    "\n",
    "  Если планируется внедрение рекомендательной системы, то внимание следует сосредоточить сперва на количестве отзывов, а уже потом - на средней оценке. Нередки случаи, когда у книг присутствует один-два высоких отзыва, и опираться лишь на них будет не вполне объективно.\n",
    "  \n",
    "* Лидером по выпуску внушительных фолиантов является одно из старейших британских издательств - Penguin Books. В своё время там были изданы «Прощай, оружие» Э. Хемингуэя, «Любовник леди Чаттерлей» Д. Г. Лоуренса и другие известные романы.\n",
    "\n",
    "  Если убрать из запроса к базе данных ограничение, то мы можем получить список издательств, книги которых можно рекомендовать любителям серьёзной классической литературы.\n",
    "  \n",
    "* В большинстве своём читатели отдают предпочтение более лёгкой литературе - особенно распространены иллюстрированные издания. Бесспорным фаворитом является сага о Гарри Поттере.\n",
    "\n",
    "  Опять же, слегка видоизменив запрос к базе данных, можно получить список наиболее популярных авторов и их средний читательский рейтинг. Данная информация также может быть использована в рекомендательной системе - к примеру, в качестве варианта по умолчанию для тех пользователей, кто не указал свои предпочтения.\n",
    "  \n",
    "  \n",
    "* Среднее количество обзоров от пользователей, которые поставили больше 50 оценок, - 24. Поскольку именно такие активные пользователи являются бесплатной рекламой не только книг, но и самого сервиса, для них стоит разработать систему поощрений. К примеру, можно:\n",
    "    * установить для них специальный статус (вида \"Читатель-эксперт\") с соответствующим значком в профиле и рамкой на аватаре;\n",
    "    * предложить бесплатный месячный доступ к некоторой выборке предположительно-перспективных книг взамен на 1-2 подробные рецензии."
   ]
  }
 ],
 "metadata": {
  "ExecuteTimeLog": [
   {
    "duration": 8422,
    "start_time": "2022-10-28T06:56:00.826Z"
   },
   {
    "duration": 3,
    "start_time": "2022-10-28T06:59:58.721Z"
   },
   {
    "duration": 324,
    "start_time": "2022-10-28T07:04:18.347Z"
   },
   {
    "duration": 185,
    "start_time": "2022-10-28T07:06:18.857Z"
   },
   {
    "duration": 15,
    "start_time": "2022-10-28T07:06:49.027Z"
   },
   {
    "duration": 4,
    "start_time": "2022-10-28T07:12:00.940Z"
   },
   {
    "duration": 117,
    "start_time": "2022-10-28T07:12:15.035Z"
   },
   {
    "duration": 165,
    "start_time": "2022-10-28T07:12:39.889Z"
   },
   {
    "duration": 137,
    "start_time": "2022-10-28T07:15:46.649Z"
   },
   {
    "duration": 4,
    "start_time": "2022-10-28T07:17:09.282Z"
   },
   {
    "duration": 88,
    "start_time": "2022-10-28T07:17:18.279Z"
   },
   {
    "duration": 14,
    "start_time": "2022-10-28T07:17:35.347Z"
   },
   {
    "duration": 8877,
    "start_time": "2022-10-28T07:17:42.075Z"
   },
   {
    "duration": 3,
    "start_time": "2022-10-28T07:17:50.955Z"
   },
   {
    "duration": 220,
    "start_time": "2022-10-28T07:17:50.960Z"
   },
   {
    "duration": 0,
    "start_time": "2022-10-28T07:17:51.182Z"
   },
   {
    "duration": 20,
    "start_time": "2022-10-28T07:18:03.946Z"
   },
   {
    "duration": 9482,
    "start_time": "2022-10-28T07:18:11.739Z"
   },
   {
    "duration": 4,
    "start_time": "2022-10-28T07:18:21.224Z"
   },
   {
    "duration": 93,
    "start_time": "2022-10-28T07:18:21.230Z"
   },
   {
    "duration": 25,
    "start_time": "2022-10-28T07:19:38.811Z"
   },
   {
    "duration": 24,
    "start_time": "2022-10-28T07:20:20.381Z"
   },
   {
    "duration": 14,
    "start_time": "2022-10-28T07:20:47.716Z"
   },
   {
    "duration": 16,
    "start_time": "2022-10-28T07:21:02.386Z"
   },
   {
    "duration": 14,
    "start_time": "2022-10-28T07:21:08.964Z"
   },
   {
    "duration": 32,
    "start_time": "2022-10-28T07:24:34.578Z"
   },
   {
    "duration": 32,
    "start_time": "2022-10-28T07:25:25.286Z"
   },
   {
    "duration": 40,
    "start_time": "2022-10-28T07:26:02.722Z"
   },
   {
    "duration": 26,
    "start_time": "2022-10-28T07:26:25.569Z"
   },
   {
    "duration": 83,
    "start_time": "2022-10-28T07:27:33.420Z"
   },
   {
    "duration": 304,
    "start_time": "2022-10-28T07:27:49.626Z"
   },
   {
    "duration": 57,
    "start_time": "2022-10-28T07:27:59.174Z"
   },
   {
    "duration": 60,
    "start_time": "2022-10-28T07:28:17.675Z"
   },
   {
    "duration": 73,
    "start_time": "2022-10-28T07:28:30.509Z"
   },
   {
    "duration": 238,
    "start_time": "2022-10-28T07:28:34.915Z"
   },
   {
    "duration": 163,
    "start_time": "2022-10-28T07:28:48.362Z"
   },
   {
    "duration": 349,
    "start_time": "2022-10-28T07:28:58.058Z"
   },
   {
    "duration": 58,
    "start_time": "2022-10-28T07:29:08.005Z"
   },
   {
    "duration": 65,
    "start_time": "2022-10-28T07:29:23.788Z"
   },
   {
    "duration": 124,
    "start_time": "2022-10-28T07:29:44.206Z"
   },
   {
    "duration": 58,
    "start_time": "2022-10-28T07:29:55.678Z"
   },
   {
    "duration": 9207,
    "start_time": "2022-10-28T07:30:07.687Z"
   },
   {
    "duration": 3,
    "start_time": "2022-10-28T07:30:16.896Z"
   },
   {
    "duration": 116,
    "start_time": "2022-10-28T07:30:16.900Z"
   },
   {
    "duration": 161,
    "start_time": "2022-10-28T07:49:54.995Z"
   },
   {
    "duration": 12,
    "start_time": "2022-10-28T07:51:14.370Z"
   },
   {
    "duration": 14,
    "start_time": "2022-10-28T07:51:59.343Z"
   },
   {
    "duration": 13,
    "start_time": "2022-10-28T07:52:14.328Z"
   },
   {
    "duration": 12,
    "start_time": "2022-10-28T07:52:52.766Z"
   },
   {
    "duration": 12,
    "start_time": "2022-10-28T07:53:07.821Z"
   },
   {
    "duration": 13,
    "start_time": "2022-10-28T08:02:17.053Z"
   },
   {
    "duration": 150,
    "start_time": "2022-10-28T08:08:58.602Z"
   },
   {
    "duration": 32,
    "start_time": "2022-10-28T08:10:23.349Z"
   },
   {
    "duration": 40,
    "start_time": "2022-10-28T08:10:48.465Z"
   },
   {
    "duration": 37,
    "start_time": "2022-10-28T08:10:53.572Z"
   },
   {
    "duration": 29,
    "start_time": "2022-10-28T08:13:06.406Z"
   },
   {
    "duration": 28,
    "start_time": "2022-10-28T08:14:00.704Z"
   },
   {
    "duration": 58,
    "start_time": "2022-10-28T08:16:38.346Z"
   },
   {
    "duration": 54,
    "start_time": "2022-10-28T08:17:26.112Z"
   },
   {
    "duration": 35,
    "start_time": "2022-10-28T08:18:28.488Z"
   },
   {
    "duration": 29,
    "start_time": "2022-10-28T08:19:38.202Z"
   },
   {
    "duration": 3,
    "start_time": "2022-10-28T08:25:18.036Z"
   },
   {
    "duration": 13,
    "start_time": "2022-10-28T08:25:27.342Z"
   },
   {
    "duration": 15,
    "start_time": "2022-10-28T08:25:43.281Z"
   },
   {
    "duration": 11,
    "start_time": "2022-10-28T08:25:54.363Z"
   },
   {
    "duration": 28,
    "start_time": "2022-10-28T08:26:27.909Z"
   },
   {
    "duration": 30,
    "start_time": "2022-10-28T08:26:35.105Z"
   },
   {
    "duration": 39,
    "start_time": "2022-10-28T08:28:32.051Z"
   },
   {
    "duration": 39,
    "start_time": "2022-10-28T08:28:41.043Z"
   },
   {
    "duration": 31,
    "start_time": "2022-10-28T08:29:05.702Z"
   },
   {
    "duration": 33,
    "start_time": "2022-10-28T08:29:23.838Z"
   },
   {
    "duration": 32,
    "start_time": "2022-10-28T08:30:47.871Z"
   },
   {
    "duration": 101,
    "start_time": "2022-10-28T08:31:05.792Z"
   },
   {
    "duration": 31,
    "start_time": "2022-10-28T08:31:24.466Z"
   },
   {
    "duration": 32,
    "start_time": "2022-10-28T08:36:15.944Z"
   },
   {
    "duration": 35,
    "start_time": "2022-10-28T08:36:45.648Z"
   },
   {
    "duration": 31,
    "start_time": "2022-10-28T08:37:03.182Z"
   },
   {
    "duration": 35,
    "start_time": "2022-10-28T08:37:42.893Z"
   },
   {
    "duration": 2,
    "start_time": "2022-10-28T09:18:03.803Z"
   },
   {
    "duration": 19,
    "start_time": "2022-10-28T09:18:14.831Z"
   },
   {
    "duration": 26,
    "start_time": "2022-10-28T09:19:06.265Z"
   },
   {
    "duration": 22,
    "start_time": "2022-10-28T09:22:20.869Z"
   },
   {
    "duration": 19,
    "start_time": "2022-10-28T09:23:15.052Z"
   },
   {
    "duration": 13,
    "start_time": "2022-10-28T09:23:24.844Z"
   },
   {
    "duration": 12,
    "start_time": "2022-10-28T09:26:24.931Z"
   },
   {
    "duration": 99,
    "start_time": "2022-10-28T10:01:25.771Z"
   },
   {
    "duration": 109,
    "start_time": "2022-10-28T10:02:30.246Z"
   },
   {
    "duration": 113,
    "start_time": "2022-10-28T10:05:03.016Z"
   },
   {
    "duration": 18,
    "start_time": "2022-10-28T10:06:05.462Z"
   },
   {
    "duration": 17,
    "start_time": "2022-10-28T10:07:50.096Z"
   },
   {
    "duration": 21,
    "start_time": "2022-10-28T10:08:26.884Z"
   },
   {
    "duration": 19,
    "start_time": "2022-10-28T10:09:12.384Z"
   },
   {
    "duration": 22,
    "start_time": "2022-10-28T10:13:24.078Z"
   },
   {
    "duration": 21,
    "start_time": "2022-10-28T10:21:04.339Z"
   },
   {
    "duration": 22,
    "start_time": "2022-10-28T10:22:57.836Z"
   },
   {
    "duration": 24,
    "start_time": "2022-10-28T10:23:48.443Z"
   },
   {
    "duration": 24,
    "start_time": "2022-10-28T10:23:56.714Z"
   },
   {
    "duration": 23,
    "start_time": "2022-10-28T10:24:45.727Z"
   },
   {
    "duration": 19,
    "start_time": "2022-10-28T10:25:37.484Z"
   },
   {
    "duration": 17,
    "start_time": "2022-10-28T10:28:40.785Z"
   },
   {
    "duration": 19,
    "start_time": "2022-10-28T10:29:14.095Z"
   },
   {
    "duration": 18,
    "start_time": "2022-10-28T10:30:06.767Z"
   },
   {
    "duration": 32,
    "start_time": "2022-10-28T10:31:24.252Z"
   },
   {
    "duration": 31,
    "start_time": "2022-10-28T10:31:59.741Z"
   },
   {
    "duration": 16,
    "start_time": "2022-10-28T10:32:41.291Z"
   },
   {
    "duration": 18,
    "start_time": "2022-10-28T10:32:50.765Z"
   },
   {
    "duration": 22,
    "start_time": "2022-10-28T10:38:30.902Z"
   },
   {
    "duration": 21,
    "start_time": "2022-10-28T10:39:10.262Z"
   },
   {
    "duration": 17,
    "start_time": "2022-10-28T10:39:42.680Z"
   },
   {
    "duration": 16,
    "start_time": "2022-10-28T10:52:44.338Z"
   },
   {
    "duration": 22,
    "start_time": "2022-10-28T10:52:53.967Z"
   },
   {
    "duration": 107,
    "start_time": "2022-10-28T10:54:57.647Z"
   },
   {
    "duration": 97,
    "start_time": "2022-10-28T10:55:25.996Z"
   },
   {
    "duration": 94,
    "start_time": "2022-10-28T10:55:34.102Z"
   },
   {
    "duration": 120,
    "start_time": "2022-10-28T10:55:41.390Z"
   },
   {
    "duration": 16,
    "start_time": "2022-10-28T10:55:48.017Z"
   },
   {
    "duration": 118,
    "start_time": "2022-10-28T10:56:28.451Z"
   },
   {
    "duration": 20,
    "start_time": "2022-10-28T10:56:32.353Z"
   },
   {
    "duration": 16,
    "start_time": "2022-10-28T10:56:42.384Z"
   },
   {
    "duration": 19,
    "start_time": "2022-10-28T10:56:45.998Z"
   },
   {
    "duration": 19,
    "start_time": "2022-10-28T10:56:52.313Z"
   },
   {
    "duration": 19,
    "start_time": "2022-10-28T10:58:08.004Z"
   },
   {
    "duration": 109,
    "start_time": "2022-10-28T10:58:27.171Z"
   },
   {
    "duration": 18,
    "start_time": "2022-10-28T10:58:58.238Z"
   },
   {
    "duration": 20,
    "start_time": "2022-10-28T10:59:24.250Z"
   },
   {
    "duration": 21,
    "start_time": "2022-10-28T10:59:37.929Z"
   },
   {
    "duration": 100,
    "start_time": "2022-10-28T10:59:49.508Z"
   },
   {
    "duration": 97,
    "start_time": "2022-10-28T10:59:58.800Z"
   },
   {
    "duration": 30,
    "start_time": "2022-10-28T11:00:35.807Z"
   },
   {
    "duration": 101,
    "start_time": "2022-10-28T11:01:27.696Z"
   },
   {
    "duration": 21,
    "start_time": "2022-10-28T11:01:48.787Z"
   },
   {
    "duration": 20,
    "start_time": "2022-10-28T11:02:30.485Z"
   },
   {
    "duration": 108,
    "start_time": "2022-10-28T11:03:45.235Z"
   },
   {
    "duration": 27,
    "start_time": "2022-10-28T11:05:12.043Z"
   },
   {
    "duration": 100,
    "start_time": "2022-10-28T11:05:38.575Z"
   },
   {
    "duration": 19,
    "start_time": "2022-10-28T11:06:00.945Z"
   },
   {
    "duration": 116,
    "start_time": "2022-10-28T11:06:53.331Z"
   },
   {
    "duration": 229,
    "start_time": "2022-10-28T11:07:22.263Z"
   },
   {
    "duration": 20,
    "start_time": "2022-10-28T11:07:45.715Z"
   },
   {
    "duration": 2589,
    "start_time": "2022-10-28T11:08:31.837Z"
   },
   {
    "duration": 1236,
    "start_time": "2022-10-28T11:10:37.309Z"
   },
   {
    "duration": 113,
    "start_time": "2022-10-28T11:11:40.528Z"
   },
   {
    "duration": 100,
    "start_time": "2022-10-28T11:11:55.670Z"
   },
   {
    "duration": 108,
    "start_time": "2022-10-28T11:12:07.746Z"
   },
   {
    "duration": 132,
    "start_time": "2022-10-28T11:12:16.915Z"
   },
   {
    "duration": 24,
    "start_time": "2022-10-28T11:12:41.372Z"
   },
   {
    "duration": 23,
    "start_time": "2022-10-28T11:13:43.910Z"
   },
   {
    "duration": 89,
    "start_time": "2022-10-28T11:15:01.274Z"
   },
   {
    "duration": 27,
    "start_time": "2022-10-28T11:15:21.988Z"
   },
   {
    "duration": 19,
    "start_time": "2022-10-28T11:16:03.235Z"
   },
   {
    "duration": 24,
    "start_time": "2022-10-28T11:16:46.431Z"
   },
   {
    "duration": 22,
    "start_time": "2022-10-28T11:17:03.057Z"
   },
   {
    "duration": 24,
    "start_time": "2022-10-28T11:17:10.990Z"
   },
   {
    "duration": 24,
    "start_time": "2022-10-28T11:17:28.482Z"
   },
   {
    "duration": 98,
    "start_time": "2022-10-28T11:18:13.472Z"
   },
   {
    "duration": 23,
    "start_time": "2022-10-28T11:18:32.665Z"
   },
   {
    "duration": 18,
    "start_time": "2022-10-28T11:18:59.442Z"
   },
   {
    "duration": 26,
    "start_time": "2022-10-28T11:20:23.758Z"
   },
   {
    "duration": 18,
    "start_time": "2022-10-28T11:20:54.803Z"
   },
   {
    "duration": 32,
    "start_time": "2022-10-28T11:41:02.381Z"
   },
   {
    "duration": 1257,
    "start_time": "2022-10-28T11:41:48.626Z"
   },
   {
    "duration": 106,
    "start_time": "2022-10-28T11:45:01.485Z"
   },
   {
    "duration": 282,
    "start_time": "2022-10-28T11:45:26.525Z"
   },
   {
    "duration": 16,
    "start_time": "2022-10-28T11:49:14.539Z"
   },
   {
    "duration": 19,
    "start_time": "2022-10-28T11:50:17.434Z"
   },
   {
    "duration": 116,
    "start_time": "2022-10-28T11:59:39.764Z"
   },
   {
    "duration": 23,
    "start_time": "2022-10-28T12:00:07.403Z"
   },
   {
    "duration": 15,
    "start_time": "2022-10-28T12:00:17.152Z"
   },
   {
    "duration": 102,
    "start_time": "2022-10-28T12:03:57.842Z"
   },
   {
    "duration": 18,
    "start_time": "2022-10-28T12:04:20.505Z"
   },
   {
    "duration": 18,
    "start_time": "2022-10-28T12:08:42.527Z"
   },
   {
    "duration": 16,
    "start_time": "2022-10-28T12:09:10.693Z"
   },
   {
    "duration": 24,
    "start_time": "2022-10-28T12:09:20.245Z"
   },
   {
    "duration": 15,
    "start_time": "2022-10-28T12:09:26.712Z"
   },
   {
    "duration": 105,
    "start_time": "2022-10-28T12:16:37.008Z"
   },
   {
    "duration": 15,
    "start_time": "2022-10-28T12:17:47.645Z"
   },
   {
    "duration": 8612,
    "start_time": "2022-10-28T12:54:17.309Z"
   },
   {
    "duration": 4,
    "start_time": "2022-10-28T12:54:25.923Z"
   },
   {
    "duration": 139,
    "start_time": "2022-10-28T12:54:25.929Z"
   },
   {
    "duration": 11,
    "start_time": "2022-10-28T12:54:26.070Z"
   },
   {
    "duration": 34,
    "start_time": "2022-10-28T12:54:26.084Z"
   },
   {
    "duration": 13,
    "start_time": "2022-10-28T12:54:26.120Z"
   },
   {
    "duration": 17,
    "start_time": "2022-10-28T12:54:26.134Z"
   },
   {
    "duration": 14,
    "start_time": "2022-10-28T12:54:26.153Z"
   }
  ],
  "kernelspec": {
   "display_name": "Python 3",
   "language": "python",
   "name": "python3"
  },
  "language_info": {
   "codemirror_mode": {
    "name": "ipython",
    "version": 3
   },
   "file_extension": ".py",
   "mimetype": "text/x-python",
   "name": "python",
   "nbconvert_exporter": "python",
   "pygments_lexer": "ipython3",
   "version": "3.9.10"
  },
  "toc": {
   "base_numbering": 1,
   "nav_menu": {},
   "number_sections": true,
   "sideBar": true,
   "skip_h1_title": true,
   "title_cell": "Table of Contents",
   "title_sidebar": "Contents",
   "toc_cell": true,
   "toc_position": {
    "height": "calc(100% - 180px)",
    "left": "10px",
    "top": "150px",
    "width": "235.458px"
   },
   "toc_section_display": true,
   "toc_window_display": true
  }
 },
 "nbformat": 4,
 "nbformat_minor": 2
}
