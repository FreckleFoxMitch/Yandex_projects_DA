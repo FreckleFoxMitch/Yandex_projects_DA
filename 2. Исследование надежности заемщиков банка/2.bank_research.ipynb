{
 "cells": [
  {
   "cell_type": "markdown",
   "id": "8b9aa3c1",
   "metadata": {},
   "source": [
    "# Исследование надежности заемщиков."
   ]
  },
  {
   "cell_type": "markdown",
   "id": "c00bd3e2",
   "metadata": {},
   "source": [
    "Заказчик — кредитный отдел банка. Нужно разобраться, влияет ли семейное положение и количество детей клиента на факт погашения кредита в срок. Входные данные от банка — статистика о платёжеспособности клиентов. Результаты исследования будут учтены при построении модели *кредитного скоринга* — специальной системы, которая оценивает способность потенциального заёмщика вернуть кредит банку.\n",
    "\n",
    "**Цель исследования** - ответить на четыре вопроса:\n",
    "* Есть ли зависимость между количеством детей и возвратом кредита в срок?\n",
    "* Есть ли зависимость между семейным положением и возвратом кредита в срок?\n",
    "* Есть ли зависимость между уровнем дохода и возвратом кредита в срок?\n",
    "* Как разные цели кредита влияют на его возврат в срок?\n",
    "\n",
    "На основании вышеизложенных вопросов выдвинем соответствующие **гипотезы**:\n",
    "1. *Для возврата кредита в срок важен факт наличия хотя бы одного ребенка*\n",
    "2. *Заемщики, находящиеся в официальном браке, более склонны к своевременному погашению кредита*\n",
    "3. *Средний или высокий уровень дохода также напрямую увеличивает вероятность погашения кредита*\n",
    "4. *Кредиты на образовательные цели и на покупку недвижимости с большей вероятностью будут выплачены в срок, нежели кредиты на автомобили и на проведение свадьбы*\n",
    "\n",
    "**Ход исследования**\n",
    "\n",
    "Данные о заемщиках мы получим из файла `/datasets/data.csv`. О качестве данных ничего не известно. Поэтому перед ответами на вопросы и проверкой гипотез понадобится обзор данных. \n",
    "\n",
    "Мы проверим данные на ошибки и оценим их влияние на исследование. Затем, на этапе предобработки мы поищем возможность исправить самые критичные ошибки данных.\n",
    " \n",
    "Таким образом, предварительно разделим исследование на три этапа:\n",
    " 1. Обзор данных.\n",
    " 2. Предобработка данных.\n",
    " 3. Проверка гипотез."
   ]
  },
  {
   "cell_type": "markdown",
   "id": "81f8811c",
   "metadata": {},
   "source": [
    "## Обзор данных"
   ]
  },
  {
   "cell_type": "markdown",
   "id": "83323470",
   "metadata": {},
   "source": [
    "Составим первое впечатление о данных. Для этого сперва импортируем библиотеку `pandas` и библиотеку для обработки регулярных выражений `re` (она потребуется позднее):"
   ]
  },
  {
   "cell_type": "code",
   "execution_count": 1,
   "id": "77aecf0d",
   "metadata": {},
   "outputs": [],
   "source": [
    "import pandas as pd\n",
    "import re"
   ]
  },
  {
   "cell_type": "markdown",
   "id": "474d7da8",
   "metadata": {},
   "source": [
    "Прочитаем файл `data.csv` из папки `/datasets` и сохраним его в переменной `df`:"
   ]
  },
  {
   "cell_type": "code",
   "execution_count": 2,
   "id": "6f45702b",
   "metadata": {},
   "outputs": [],
   "source": [
    "df = pd.read_csv('/datasets/data.csv')"
   ]
  },
  {
   "cell_type": "markdown",
   "id": "06ca8a8b",
   "metadata": {},
   "source": [
    "Выведем на экран первые пять строк таблицы:"
   ]
  },
  {
   "cell_type": "code",
   "execution_count": 3,
   "id": "cf0c7140",
   "metadata": {
    "scrolled": false
   },
   "outputs": [
    {
     "data": {
      "text/html": [
       "<div>\n",
       "<style scoped>\n",
       "    .dataframe tbody tr th:only-of-type {\n",
       "        vertical-align: middle;\n",
       "    }\n",
       "\n",
       "    .dataframe tbody tr th {\n",
       "        vertical-align: top;\n",
       "    }\n",
       "\n",
       "    .dataframe thead th {\n",
       "        text-align: right;\n",
       "    }\n",
       "</style>\n",
       "<table border=\"1\" class=\"dataframe\">\n",
       "  <thead>\n",
       "    <tr style=\"text-align: right;\">\n",
       "      <th></th>\n",
       "      <th>children</th>\n",
       "      <th>days_employed</th>\n",
       "      <th>dob_years</th>\n",
       "      <th>education</th>\n",
       "      <th>education_id</th>\n",
       "      <th>family_status</th>\n",
       "      <th>family_status_id</th>\n",
       "      <th>gender</th>\n",
       "      <th>income_type</th>\n",
       "      <th>debt</th>\n",
       "      <th>total_income</th>\n",
       "      <th>purpose</th>\n",
       "    </tr>\n",
       "  </thead>\n",
       "  <tbody>\n",
       "    <tr>\n",
       "      <th>0</th>\n",
       "      <td>1</td>\n",
       "      <td>-8437.673028</td>\n",
       "      <td>42</td>\n",
       "      <td>высшее</td>\n",
       "      <td>0</td>\n",
       "      <td>женат / замужем</td>\n",
       "      <td>0</td>\n",
       "      <td>F</td>\n",
       "      <td>сотрудник</td>\n",
       "      <td>0</td>\n",
       "      <td>253875.639453</td>\n",
       "      <td>покупка жилья</td>\n",
       "    </tr>\n",
       "    <tr>\n",
       "      <th>1</th>\n",
       "      <td>1</td>\n",
       "      <td>-4024.803754</td>\n",
       "      <td>36</td>\n",
       "      <td>среднее</td>\n",
       "      <td>1</td>\n",
       "      <td>женат / замужем</td>\n",
       "      <td>0</td>\n",
       "      <td>F</td>\n",
       "      <td>сотрудник</td>\n",
       "      <td>0</td>\n",
       "      <td>112080.014102</td>\n",
       "      <td>приобретение автомобиля</td>\n",
       "    </tr>\n",
       "    <tr>\n",
       "      <th>2</th>\n",
       "      <td>0</td>\n",
       "      <td>-5623.422610</td>\n",
       "      <td>33</td>\n",
       "      <td>Среднее</td>\n",
       "      <td>1</td>\n",
       "      <td>женат / замужем</td>\n",
       "      <td>0</td>\n",
       "      <td>M</td>\n",
       "      <td>сотрудник</td>\n",
       "      <td>0</td>\n",
       "      <td>145885.952297</td>\n",
       "      <td>покупка жилья</td>\n",
       "    </tr>\n",
       "    <tr>\n",
       "      <th>3</th>\n",
       "      <td>3</td>\n",
       "      <td>-4124.747207</td>\n",
       "      <td>32</td>\n",
       "      <td>среднее</td>\n",
       "      <td>1</td>\n",
       "      <td>женат / замужем</td>\n",
       "      <td>0</td>\n",
       "      <td>M</td>\n",
       "      <td>сотрудник</td>\n",
       "      <td>0</td>\n",
       "      <td>267628.550329</td>\n",
       "      <td>дополнительное образование</td>\n",
       "    </tr>\n",
       "    <tr>\n",
       "      <th>4</th>\n",
       "      <td>0</td>\n",
       "      <td>340266.072047</td>\n",
       "      <td>53</td>\n",
       "      <td>среднее</td>\n",
       "      <td>1</td>\n",
       "      <td>гражданский брак</td>\n",
       "      <td>1</td>\n",
       "      <td>F</td>\n",
       "      <td>пенсионер</td>\n",
       "      <td>0</td>\n",
       "      <td>158616.077870</td>\n",
       "      <td>сыграть свадьбу</td>\n",
       "    </tr>\n",
       "  </tbody>\n",
       "</table>\n",
       "</div>"
      ],
      "text/plain": [
       "   children  days_employed  dob_years education  education_id  \\\n",
       "0         1   -8437.673028         42    высшее             0   \n",
       "1         1   -4024.803754         36   среднее             1   \n",
       "2         0   -5623.422610         33   Среднее             1   \n",
       "3         3   -4124.747207         32   среднее             1   \n",
       "4         0  340266.072047         53   среднее             1   \n",
       "\n",
       "      family_status  family_status_id gender income_type  debt   total_income  \\\n",
       "0   женат / замужем                 0      F   сотрудник     0  253875.639453   \n",
       "1   женат / замужем                 0      F   сотрудник     0  112080.014102   \n",
       "2   женат / замужем                 0      M   сотрудник     0  145885.952297   \n",
       "3   женат / замужем                 0      M   сотрудник     0  267628.550329   \n",
       "4  гражданский брак                 1      F   пенсионер     0  158616.077870   \n",
       "\n",
       "                      purpose  \n",
       "0               покупка жилья  \n",
       "1     приобретение автомобиля  \n",
       "2               покупка жилья  \n",
       "3  дополнительное образование  \n",
       "4             сыграть свадьбу  "
      ]
     },
     "metadata": {},
     "output_type": "display_data"
    }
   ],
   "source": [
    "display(df.head())"
   ]
  },
  {
   "cell_type": "markdown",
   "id": "724e3408",
   "metadata": {},
   "source": [
    "Мы уже можем наблюдать аномалии - к примеру, отрицательное количество дней трудового стажа в столбце `days_employed` и сведения об образовании в графе `education`, написанные в разных регистрах."
   ]
  },
  {
   "cell_type": "markdown",
   "id": "94862fe6",
   "metadata": {},
   "source": [
    "Для обнаружения иных возможных артефактов в данных выведем также пять случайных строк датафрейма:"
   ]
  },
  {
   "cell_type": "code",
   "execution_count": 4,
   "id": "82045404",
   "metadata": {},
   "outputs": [
    {
     "data": {
      "text/html": [
       "<div>\n",
       "<style scoped>\n",
       "    .dataframe tbody tr th:only-of-type {\n",
       "        vertical-align: middle;\n",
       "    }\n",
       "\n",
       "    .dataframe tbody tr th {\n",
       "        vertical-align: top;\n",
       "    }\n",
       "\n",
       "    .dataframe thead th {\n",
       "        text-align: right;\n",
       "    }\n",
       "</style>\n",
       "<table border=\"1\" class=\"dataframe\">\n",
       "  <thead>\n",
       "    <tr style=\"text-align: right;\">\n",
       "      <th></th>\n",
       "      <th>children</th>\n",
       "      <th>days_employed</th>\n",
       "      <th>dob_years</th>\n",
       "      <th>education</th>\n",
       "      <th>education_id</th>\n",
       "      <th>family_status</th>\n",
       "      <th>family_status_id</th>\n",
       "      <th>gender</th>\n",
       "      <th>income_type</th>\n",
       "      <th>debt</th>\n",
       "      <th>total_income</th>\n",
       "      <th>purpose</th>\n",
       "    </tr>\n",
       "  </thead>\n",
       "  <tbody>\n",
       "    <tr>\n",
       "      <th>652</th>\n",
       "      <td>0</td>\n",
       "      <td>NaN</td>\n",
       "      <td>32</td>\n",
       "      <td>среднее</td>\n",
       "      <td>1</td>\n",
       "      <td>Не женат / не замужем</td>\n",
       "      <td>4</td>\n",
       "      <td>F</td>\n",
       "      <td>сотрудник</td>\n",
       "      <td>0</td>\n",
       "      <td>NaN</td>\n",
       "      <td>на покупку подержанного автомобиля</td>\n",
       "    </tr>\n",
       "    <tr>\n",
       "      <th>6661</th>\n",
       "      <td>0</td>\n",
       "      <td>-440.129450</td>\n",
       "      <td>57</td>\n",
       "      <td>среднее</td>\n",
       "      <td>1</td>\n",
       "      <td>гражданский брак</td>\n",
       "      <td>1</td>\n",
       "      <td>F</td>\n",
       "      <td>сотрудник</td>\n",
       "      <td>0</td>\n",
       "      <td>198403.599805</td>\n",
       "      <td>свадьба</td>\n",
       "    </tr>\n",
       "    <tr>\n",
       "      <th>7616</th>\n",
       "      <td>0</td>\n",
       "      <td>-2371.014479</td>\n",
       "      <td>29</td>\n",
       "      <td>Среднее</td>\n",
       "      <td>1</td>\n",
       "      <td>женат / замужем</td>\n",
       "      <td>0</td>\n",
       "      <td>F</td>\n",
       "      <td>госслужащий</td>\n",
       "      <td>1</td>\n",
       "      <td>112699.942196</td>\n",
       "      <td>получение образования</td>\n",
       "    </tr>\n",
       "    <tr>\n",
       "      <th>6125</th>\n",
       "      <td>2</td>\n",
       "      <td>-2970.090619</td>\n",
       "      <td>33</td>\n",
       "      <td>среднее</td>\n",
       "      <td>1</td>\n",
       "      <td>женат / замужем</td>\n",
       "      <td>0</td>\n",
       "      <td>F</td>\n",
       "      <td>сотрудник</td>\n",
       "      <td>1</td>\n",
       "      <td>146768.230358</td>\n",
       "      <td>автомобиль</td>\n",
       "    </tr>\n",
       "    <tr>\n",
       "      <th>2381</th>\n",
       "      <td>1</td>\n",
       "      <td>-5281.453025</td>\n",
       "      <td>41</td>\n",
       "      <td>неоконченное высшее</td>\n",
       "      <td>2</td>\n",
       "      <td>женат / замужем</td>\n",
       "      <td>0</td>\n",
       "      <td>M</td>\n",
       "      <td>сотрудник</td>\n",
       "      <td>0</td>\n",
       "      <td>253341.200555</td>\n",
       "      <td>высшее образование</td>\n",
       "    </tr>\n",
       "  </tbody>\n",
       "</table>\n",
       "</div>"
      ],
      "text/plain": [
       "      children  days_employed  dob_years            education  education_id  \\\n",
       "652          0            NaN         32              среднее             1   \n",
       "6661         0    -440.129450         57              среднее             1   \n",
       "7616         0   -2371.014479         29              Среднее             1   \n",
       "6125         2   -2970.090619         33              среднее             1   \n",
       "2381         1   -5281.453025         41  неоконченное высшее             2   \n",
       "\n",
       "              family_status  family_status_id gender  income_type  debt  \\\n",
       "652   Не женат / не замужем                 4      F    сотрудник     0   \n",
       "6661       гражданский брак                 1      F    сотрудник     0   \n",
       "7616        женат / замужем                 0      F  госслужащий     1   \n",
       "6125        женат / замужем                 0      F    сотрудник     1   \n",
       "2381        женат / замужем                 0      M    сотрудник     0   \n",
       "\n",
       "       total_income                             purpose  \n",
       "652             NaN  на покупку подержанного автомобиля  \n",
       "6661  198403.599805                             свадьба  \n",
       "7616  112699.942196               получение образования  \n",
       "6125  146768.230358                          автомобиль  \n",
       "2381  253341.200555                  высшее образование  "
      ]
     },
     "metadata": {},
     "output_type": "display_data"
    }
   ],
   "source": [
    "display(df.sample(5))"
   ]
  },
  {
   "cell_type": "markdown",
   "id": "c0a0418b",
   "metadata": {},
   "source": [
    "Получим общее представление о таблице:"
   ]
  },
  {
   "cell_type": "code",
   "execution_count": 5,
   "id": "00797b5b",
   "metadata": {},
   "outputs": [
    {
     "name": "stdout",
     "output_type": "stream",
     "text": [
      "<class 'pandas.core.frame.DataFrame'>\n",
      "RangeIndex: 21525 entries, 0 to 21524\n",
      "Data columns (total 12 columns):\n",
      " #   Column            Non-Null Count  Dtype  \n",
      "---  ------            --------------  -----  \n",
      " 0   children          21525 non-null  int64  \n",
      " 1   days_employed     19351 non-null  float64\n",
      " 2   dob_years         21525 non-null  int64  \n",
      " 3   education         21525 non-null  object \n",
      " 4   education_id      21525 non-null  int64  \n",
      " 5   family_status     21525 non-null  object \n",
      " 6   family_status_id  21525 non-null  int64  \n",
      " 7   gender            21525 non-null  object \n",
      " 8   income_type       21525 non-null  object \n",
      " 9   debt              21525 non-null  int64  \n",
      " 10  total_income      19351 non-null  float64\n",
      " 11  purpose           21525 non-null  object \n",
      "dtypes: float64(2), int64(5), object(5)\n",
      "memory usage: 2.0+ MB\n"
     ]
    }
   ],
   "source": [
    "df.info()"
   ]
  },
  {
   "cell_type": "markdown",
   "id": "28016e04",
   "metadata": {},
   "source": [
    "Как мы видим, в датафрейме одиннадцать столбцов, все поименованы в соответствии с общепринятым стилем. Представленные типы данных - `float`, `int` и `object`.\n",
    "\n",
    "Согласно документации к данным:\n",
    "* `children` — количество детей в семье\n",
    "* `days_employed` — общий трудовой стаж в днях\n",
    "* `dob_years` — возраст клиента в годах\n",
    "* `education` — уровень образования клиента\n",
    "* `education_id` — идентификатор уровня образования\n",
    "* `family_status` — семейное положение\n",
    "* `family_status_id` — идентификатор семейного положения\n",
    "* `gender` — пол клиента\n",
    "* `income_type` — тип занятости\n",
    "* `debt` — имел ли задолженность по возврату кредитов\n",
    "* `total_income` — ежемесячный доход\n",
    "* `purpose` — цель получения кредита\n",
    "\n",
    "Количество значений в столбцах различается. Значит, в данных есть пропущенные значения."
   ]
  },
  {
   "cell_type": "markdown",
   "id": "45d63ab1",
   "metadata": {},
   "source": [
    "**Промежуточные выводы**\n",
    "\n",
    "В каждой строке таблицы — данные о заёмщике. Всего представлено одиннадцать столбцов, что слишком объёмно и мешает восприятию информации. Хорошим решением станет разделить данные на три датафрейма: в одном будут содержаться данные для анализа и идентификаторы уровня образования и семейного положения, в двух других - \"словари\" с пояснениями к этим идентификаторам.\n",
    "\n",
    "Предварительно можно утверждать, что, данных достаточно для проверки гипотез. Однако в столбцах `days_employed` и `total_income` встречаются пропуски. Вероятно, они отражают людей без задокументированного опыта работы, - и это предположение также можно проверить уже на этапе предобработки.\n",
    "\n",
    "Интерес представляют и типы данных - в уже упомянутых столбцах `days_employed` и `total_income` представлены вещественные значения. Для упрощения дальнейшего анализа их лучше будет перевести в целочисленный формат.\n",
    "\n",
    "Как уже было указано выше, в данных присутствуют аномалии - к примеру, отрицательное количество дней трудового стажа в столбце `days_employed` и сведения об образовании в графе `education`, написанные в разных регистрах.\n",
    "\n",
    "Чтобы двигаться дальше, нужно устранить проблемы в данных."
   ]
  },
  {
   "cell_type": "markdown",
   "id": "dd2fdeef",
   "metadata": {},
   "source": [
    "## Предобработка данных"
   ]
  },
  {
   "cell_type": "markdown",
   "id": "2dfba943",
   "metadata": {},
   "source": [
    "### Заполнение пропусков\n",
    "Посчитаем, сколько в таблице пропущенных значений:"
   ]
  },
  {
   "cell_type": "code",
   "execution_count": 6,
   "id": "a7e4a774",
   "metadata": {},
   "outputs": [
    {
     "data": {
      "text/plain": [
       "children               0\n",
       "days_employed       2174\n",
       "dob_years              0\n",
       "education              0\n",
       "education_id           0\n",
       "family_status          0\n",
       "family_status_id       0\n",
       "gender                 0\n",
       "income_type            0\n",
       "debt                   0\n",
       "total_income        2174\n",
       "purpose                0\n",
       "dtype: int64"
      ]
     },
     "execution_count": 6,
     "metadata": {},
     "output_type": "execute_result"
    }
   ],
   "source": [
    "df.isna().sum()"
   ]
  },
  {
   "cell_type": "markdown",
   "id": "4bda080f",
   "metadata": {},
   "source": [
    "Мы встретились с пропусками только в столбцах `days_employed ` и `total_income`, причем их количество совпадает. Проверим, есть ли между ними взаимосвязь - т.е. пересекаются ли строчки с отсутствующими значениями между собой:"
   ]
  },
  {
   "cell_type": "code",
   "execution_count": 7,
   "id": "3b819566",
   "metadata": {
    "scrolled": true
   },
   "outputs": [
    {
     "data": {
      "text/plain": [
       "2174"
      ]
     },
     "execution_count": 7,
     "metadata": {},
     "output_type": "execute_result"
    }
   ],
   "source": [
    "df.loc[(df.days_employed.isna()) & (df.total_income.isna())]['income_type'].count()"
   ]
  },
  {
   "cell_type": "markdown",
   "id": "6a80e6c6",
   "metadata": {},
   "source": [
    "Как видно выше, взаимосвязь прямая - у заемщиков с отсутствующим в графе стажем работы размер дохода также не представлен. Чтобы определить, случайными ли являются пропуски или нет, проверим тип занятости этих заемщиков. \n",
    "Для этого выведем последние десять значений:"
   ]
  },
  {
   "cell_type": "code",
   "execution_count": 8,
   "id": "df4ab863",
   "metadata": {},
   "outputs": [
    {
     "data": {
      "text/plain": [
       "21415    пенсионер\n",
       "21423    пенсионер\n",
       "21426    сотрудник\n",
       "21432    сотрудник\n",
       "21463    сотрудник\n",
       "21489    компаньон\n",
       "21495    сотрудник\n",
       "21497    компаньон\n",
       "21502    сотрудник\n",
       "21510    сотрудник\n",
       "Name: income_type, dtype: object"
      ]
     },
     "execution_count": 8,
     "metadata": {},
     "output_type": "execute_result"
    }
   ],
   "source": [
    "df.loc[(df.days_employed.isna()) & (df.total_income.isna())]['income_type'].tail(10)"
   ]
  },
  {
   "cell_type": "markdown",
   "id": "1f8d7454",
   "metadata": {},
   "source": [
    "Поскольку представлено несколько типов занятости, то отсутствие значений, как мы и предполагали, носит случайный характер. В этом случае данные отсутствуют по технологическим причинам. Увы, восстановить значения в рамках учебного проекта не представляется возможным.\n",
    "\n",
    "Подойдем к проблеме с другой стороны. Пропуски составляют одну десятую часть от всего набора данных, что довольно много. Если сбросить все строки с пропусками, то мы рискуем исказить правдоподобность данных, что в итоге скажется на работе модели кредитного скоринга. Значит, остается только вариант заполнения недостающих данных.\n",
    "\n",
    "Проверим степень разброса значений в столбцах `days_employed` и `total_income`. Для упрощения визуализации сгруппируем данные относительно пола и применим агрегатную функцию `agg()`:"
   ]
  },
  {
   "cell_type": "code",
   "execution_count": 9,
   "id": "d011ee47",
   "metadata": {},
   "outputs": [
    {
     "data": {
      "text/html": [
       "<div>\n",
       "<style scoped>\n",
       "    .dataframe tbody tr th:only-of-type {\n",
       "        vertical-align: middle;\n",
       "    }\n",
       "\n",
       "    .dataframe tbody tr th {\n",
       "        vertical-align: top;\n",
       "    }\n",
       "\n",
       "    .dataframe thead tr th {\n",
       "        text-align: left;\n",
       "    }\n",
       "\n",
       "    .dataframe thead tr:last-of-type th {\n",
       "        text-align: right;\n",
       "    }\n",
       "</style>\n",
       "<table border=\"1\" class=\"dataframe\">\n",
       "  <thead>\n",
       "    <tr>\n",
       "      <th></th>\n",
       "      <th colspan=\"2\" halign=\"left\">days_employed</th>\n",
       "      <th colspan=\"2\" halign=\"left\">total_income</th>\n",
       "    </tr>\n",
       "    <tr>\n",
       "      <th></th>\n",
       "      <th>min</th>\n",
       "      <th>max</th>\n",
       "      <th>min</th>\n",
       "      <th>max</th>\n",
       "    </tr>\n",
       "    <tr>\n",
       "      <th>gender</th>\n",
       "      <th></th>\n",
       "      <th></th>\n",
       "      <th></th>\n",
       "      <th></th>\n",
       "    </tr>\n",
       "  </thead>\n",
       "  <tbody>\n",
       "    <tr>\n",
       "      <th>F</th>\n",
       "      <td>-18388.949901</td>\n",
       "      <td>401755.400475</td>\n",
       "      <td>20667.263793</td>\n",
       "      <td>1.715018e+06</td>\n",
       "    </tr>\n",
       "    <tr>\n",
       "      <th>M</th>\n",
       "      <td>-15267.541183</td>\n",
       "      <td>401674.466633</td>\n",
       "      <td>21205.280566</td>\n",
       "      <td>2.265604e+06</td>\n",
       "    </tr>\n",
       "    <tr>\n",
       "      <th>XNA</th>\n",
       "      <td>-2358.600502</td>\n",
       "      <td>-2358.600502</td>\n",
       "      <td>203905.157261</td>\n",
       "      <td>2.039052e+05</td>\n",
       "    </tr>\n",
       "  </tbody>\n",
       "</table>\n",
       "</div>"
      ],
      "text/plain": [
       "       days_employed                  total_income              \n",
       "                 min            max            min           max\n",
       "gender                                                          \n",
       "F      -18388.949901  401755.400475   20667.263793  1.715018e+06\n",
       "M      -15267.541183  401674.466633   21205.280566  2.265604e+06\n",
       "XNA     -2358.600502   -2358.600502  203905.157261  2.039052e+05"
      ]
     },
     "execution_count": 9,
     "metadata": {},
     "output_type": "execute_result"
    }
   ],
   "source": [
    "df.groupby('gender').agg({\n",
    "    'days_employed': ['min', 'max'],\n",
    "    'total_income': ['min', 'max']\n",
    "})"
   ]
  },
  {
   "cell_type": "markdown",
   "id": "6b82c76e",
   "metadata": {},
   "source": [
    "Сразу же обратим внимание на аномалии в `days_employed`, которые будем прорабатывать далее:\n",
    "* уже отмеченные в **пункте 1** отрицательные значения стажа;\n",
    "* максимальные значения стажа, не соответствующие действительности (401755 дней равносильны 1100 годам).\n",
    "\n",
    "Итак, в столбцах `days_employed` и `total_income` содержатся количественные значения с сильным разбросом от минимума до максимума. Самым лучшим вариантом будет заполнение пропусков медианным значением. \n",
    "\n",
    "Эти значения мы примем в разрезе значений столбца `income_type` - для каждого типа занятости мы рассчитаем медианный доход `total_income` и медианное количество дней стажа `days_employed`, и далее заполним пропуски ими. Так мы не усредним данные и меньше повлияем на распределение.\n",
    "\n",
    "Для обоснования выведем на экран данные по медианам для каждого типа занятости, используя агрегатную функцию `agg()`:"
   ]
  },
  {
   "cell_type": "code",
   "execution_count": 10,
   "id": "bbb3dd74",
   "metadata": {},
   "outputs": [
    {
     "data": {
      "text/html": [
       "<div>\n",
       "<style scoped>\n",
       "    .dataframe tbody tr th:only-of-type {\n",
       "        vertical-align: middle;\n",
       "    }\n",
       "\n",
       "    .dataframe tbody tr th {\n",
       "        vertical-align: top;\n",
       "    }\n",
       "\n",
       "    .dataframe thead th {\n",
       "        text-align: right;\n",
       "    }\n",
       "</style>\n",
       "<table border=\"1\" class=\"dataframe\">\n",
       "  <thead>\n",
       "    <tr style=\"text-align: right;\">\n",
       "      <th></th>\n",
       "      <th>days_employed</th>\n",
       "      <th>total_income</th>\n",
       "    </tr>\n",
       "    <tr>\n",
       "      <th>income_type</th>\n",
       "      <th></th>\n",
       "      <th></th>\n",
       "    </tr>\n",
       "  </thead>\n",
       "  <tbody>\n",
       "    <tr>\n",
       "      <th>безработный</th>\n",
       "      <td>366413.652744</td>\n",
       "      <td>131339.751676</td>\n",
       "    </tr>\n",
       "    <tr>\n",
       "      <th>в декрете</th>\n",
       "      <td>-3296.759962</td>\n",
       "      <td>53829.130729</td>\n",
       "    </tr>\n",
       "    <tr>\n",
       "      <th>госслужащий</th>\n",
       "      <td>-2689.368353</td>\n",
       "      <td>150447.935283</td>\n",
       "    </tr>\n",
       "    <tr>\n",
       "      <th>компаньон</th>\n",
       "      <td>-1547.382223</td>\n",
       "      <td>172357.950966</td>\n",
       "    </tr>\n",
       "    <tr>\n",
       "      <th>пенсионер</th>\n",
       "      <td>365213.306266</td>\n",
       "      <td>118514.486412</td>\n",
       "    </tr>\n",
       "    <tr>\n",
       "      <th>предприниматель</th>\n",
       "      <td>-520.848083</td>\n",
       "      <td>499163.144947</td>\n",
       "    </tr>\n",
       "    <tr>\n",
       "      <th>сотрудник</th>\n",
       "      <td>-1574.202821</td>\n",
       "      <td>142594.396847</td>\n",
       "    </tr>\n",
       "    <tr>\n",
       "      <th>студент</th>\n",
       "      <td>-578.751554</td>\n",
       "      <td>98201.625314</td>\n",
       "    </tr>\n",
       "  </tbody>\n",
       "</table>\n",
       "</div>"
      ],
      "text/plain": [
       "                 days_employed   total_income\n",
       "income_type                                  \n",
       "безработный      366413.652744  131339.751676\n",
       "в декрете         -3296.759962   53829.130729\n",
       "госслужащий       -2689.368353  150447.935283\n",
       "компаньон         -1547.382223  172357.950966\n",
       "пенсионер        365213.306266  118514.486412\n",
       "предприниматель    -520.848083  499163.144947\n",
       "сотрудник         -1574.202821  142594.396847\n",
       "студент            -578.751554   98201.625314"
      ]
     },
     "execution_count": 10,
     "metadata": {},
     "output_type": "execute_result"
    }
   ],
   "source": [
    "df.groupby('income_type').agg({\n",
    "    'days_employed': 'median',\n",
    "    'total_income': 'median'\n",
    "})"
   ]
  },
  {
   "cell_type": "markdown",
   "id": "fc29af3d",
   "metadata": {},
   "source": [
    "Мы видим, что наш медианные значения для разных типов занятости сильно разнятся - т.е. подход обоснован.\n",
    "\n",
    "Заполним пропуски в `days_employed` и `total_income` медианным значением по каждому типу занятости. Используем для этого метод `fillna()` совместно с группировкой и методом `transform()`. Последний позволит нам модифицировать медианные значения под каждый из типов занятости:"
   ]
  },
  {
   "cell_type": "code",
   "execution_count": 11,
   "id": "1b742394",
   "metadata": {},
   "outputs": [],
   "source": [
    "df['days_employed'] = df.days_employed.fillna(df.groupby(['income_type'])['days_employed'].transform('median'))\n",
    "df['total_income'] = df.total_income.fillna(df.groupby(['income_type'])['total_income'].transform('median'))"
   ]
  },
  {
   "cell_type": "markdown",
   "id": "894ca183",
   "metadata": {},
   "source": [
    "Убедимся, что в таблице не осталось пропусков. Для этого ещё раз посчитаем пропущенные значения:"
   ]
  },
  {
   "cell_type": "code",
   "execution_count": 12,
   "id": "cee27e83",
   "metadata": {},
   "outputs": [
    {
     "data": {
      "text/plain": [
       "children            0\n",
       "days_employed       0\n",
       "dob_years           0\n",
       "education           0\n",
       "education_id        0\n",
       "family_status       0\n",
       "family_status_id    0\n",
       "gender              0\n",
       "income_type         0\n",
       "debt                0\n",
       "total_income        0\n",
       "purpose             0\n",
       "dtype: int64"
      ]
     },
     "execution_count": 12,
     "metadata": {},
     "output_type": "execute_result"
    }
   ],
   "source": [
    "df.isna().sum()"
   ]
  },
  {
   "cell_type": "markdown",
   "id": "36031cf6",
   "metadata": {},
   "source": [
    "### Проверка данных на аномалии и исправления\n",
    "Мы уже неоднократно отмечали аномалии в столбце `days_employed`. В **пункте 2.1** упоминалось, что артефакты в этом столбце могут быть вызваны технологическими причинами: некорректной выгрузкой результатов в файл или ошибками при чтении файла.\n",
    "\n",
    "Сперва обработаем отрицательные значения. Данные столбца относятся к типу `float`, поэтому здесь мы можем применить метод `abs()`, возвращающий абсолютное значение числа:"
   ]
  },
  {
   "cell_type": "code",
   "execution_count": 13,
   "id": "54f99602",
   "metadata": {},
   "outputs": [],
   "source": [
    "df['days_employed'] = df.days_employed.abs()"
   ]
  },
  {
   "cell_type": "markdown",
   "id": "9e8bbcc4",
   "metadata": {},
   "source": [
    "Для самопроверки выведем пять первых строк таблицы:"
   ]
  },
  {
   "cell_type": "code",
   "execution_count": 14,
   "id": "bb4f983d",
   "metadata": {
    "scrolled": true
   },
   "outputs": [
    {
     "data": {
      "text/html": [
       "<div>\n",
       "<style scoped>\n",
       "    .dataframe tbody tr th:only-of-type {\n",
       "        vertical-align: middle;\n",
       "    }\n",
       "\n",
       "    .dataframe tbody tr th {\n",
       "        vertical-align: top;\n",
       "    }\n",
       "\n",
       "    .dataframe thead th {\n",
       "        text-align: right;\n",
       "    }\n",
       "</style>\n",
       "<table border=\"1\" class=\"dataframe\">\n",
       "  <thead>\n",
       "    <tr style=\"text-align: right;\">\n",
       "      <th></th>\n",
       "      <th>children</th>\n",
       "      <th>days_employed</th>\n",
       "      <th>dob_years</th>\n",
       "      <th>education</th>\n",
       "      <th>education_id</th>\n",
       "      <th>family_status</th>\n",
       "      <th>family_status_id</th>\n",
       "      <th>gender</th>\n",
       "      <th>income_type</th>\n",
       "      <th>debt</th>\n",
       "      <th>total_income</th>\n",
       "      <th>purpose</th>\n",
       "    </tr>\n",
       "  </thead>\n",
       "  <tbody>\n",
       "    <tr>\n",
       "      <th>0</th>\n",
       "      <td>1</td>\n",
       "      <td>8437.673028</td>\n",
       "      <td>42</td>\n",
       "      <td>высшее</td>\n",
       "      <td>0</td>\n",
       "      <td>женат / замужем</td>\n",
       "      <td>0</td>\n",
       "      <td>F</td>\n",
       "      <td>сотрудник</td>\n",
       "      <td>0</td>\n",
       "      <td>253875.639453</td>\n",
       "      <td>покупка жилья</td>\n",
       "    </tr>\n",
       "    <tr>\n",
       "      <th>1</th>\n",
       "      <td>1</td>\n",
       "      <td>4024.803754</td>\n",
       "      <td>36</td>\n",
       "      <td>среднее</td>\n",
       "      <td>1</td>\n",
       "      <td>женат / замужем</td>\n",
       "      <td>0</td>\n",
       "      <td>F</td>\n",
       "      <td>сотрудник</td>\n",
       "      <td>0</td>\n",
       "      <td>112080.014102</td>\n",
       "      <td>приобретение автомобиля</td>\n",
       "    </tr>\n",
       "    <tr>\n",
       "      <th>2</th>\n",
       "      <td>0</td>\n",
       "      <td>5623.422610</td>\n",
       "      <td>33</td>\n",
       "      <td>Среднее</td>\n",
       "      <td>1</td>\n",
       "      <td>женат / замужем</td>\n",
       "      <td>0</td>\n",
       "      <td>M</td>\n",
       "      <td>сотрудник</td>\n",
       "      <td>0</td>\n",
       "      <td>145885.952297</td>\n",
       "      <td>покупка жилья</td>\n",
       "    </tr>\n",
       "    <tr>\n",
       "      <th>3</th>\n",
       "      <td>3</td>\n",
       "      <td>4124.747207</td>\n",
       "      <td>32</td>\n",
       "      <td>среднее</td>\n",
       "      <td>1</td>\n",
       "      <td>женат / замужем</td>\n",
       "      <td>0</td>\n",
       "      <td>M</td>\n",
       "      <td>сотрудник</td>\n",
       "      <td>0</td>\n",
       "      <td>267628.550329</td>\n",
       "      <td>дополнительное образование</td>\n",
       "    </tr>\n",
       "    <tr>\n",
       "      <th>4</th>\n",
       "      <td>0</td>\n",
       "      <td>340266.072047</td>\n",
       "      <td>53</td>\n",
       "      <td>среднее</td>\n",
       "      <td>1</td>\n",
       "      <td>гражданский брак</td>\n",
       "      <td>1</td>\n",
       "      <td>F</td>\n",
       "      <td>пенсионер</td>\n",
       "      <td>0</td>\n",
       "      <td>158616.077870</td>\n",
       "      <td>сыграть свадьбу</td>\n",
       "    </tr>\n",
       "  </tbody>\n",
       "</table>\n",
       "</div>"
      ],
      "text/plain": [
       "   children  days_employed  dob_years education  education_id  \\\n",
       "0         1    8437.673028         42    высшее             0   \n",
       "1         1    4024.803754         36   среднее             1   \n",
       "2         0    5623.422610         33   Среднее             1   \n",
       "3         3    4124.747207         32   среднее             1   \n",
       "4         0  340266.072047         53   среднее             1   \n",
       "\n",
       "      family_status  family_status_id gender income_type  debt   total_income  \\\n",
       "0   женат / замужем                 0      F   сотрудник     0  253875.639453   \n",
       "1   женат / замужем                 0      F   сотрудник     0  112080.014102   \n",
       "2   женат / замужем                 0      M   сотрудник     0  145885.952297   \n",
       "3   женат / замужем                 0      M   сотрудник     0  267628.550329   \n",
       "4  гражданский брак                 1      F   пенсионер     0  158616.077870   \n",
       "\n",
       "                      purpose  \n",
       "0               покупка жилья  \n",
       "1     приобретение автомобиля  \n",
       "2               покупка жилья  \n",
       "3  дополнительное образование  \n",
       "4             сыграть свадьбу  "
      ]
     },
     "metadata": {},
     "output_type": "display_data"
    }
   ],
   "source": [
    "display(df.head())"
   ]
  },
  {
   "cell_type": "markdown",
   "id": "74b07582",
   "metadata": {},
   "source": [
    "Посмотрим, изменились ли медианные данные столбца для каждого типа занятости. Используя группировку и агрегатную функцию `agg()`, выведем их на экран:"
   ]
  },
  {
   "cell_type": "code",
   "execution_count": 15,
   "id": "e1301709",
   "metadata": {},
   "outputs": [
    {
     "data": {
      "text/html": [
       "<div>\n",
       "<style scoped>\n",
       "    .dataframe tbody tr th:only-of-type {\n",
       "        vertical-align: middle;\n",
       "    }\n",
       "\n",
       "    .dataframe tbody tr th {\n",
       "        vertical-align: top;\n",
       "    }\n",
       "\n",
       "    .dataframe thead th {\n",
       "        text-align: right;\n",
       "    }\n",
       "</style>\n",
       "<table border=\"1\" class=\"dataframe\">\n",
       "  <thead>\n",
       "    <tr style=\"text-align: right;\">\n",
       "      <th></th>\n",
       "      <th>days_employed</th>\n",
       "    </tr>\n",
       "    <tr>\n",
       "      <th>income_type</th>\n",
       "      <th></th>\n",
       "    </tr>\n",
       "  </thead>\n",
       "  <tbody>\n",
       "    <tr>\n",
       "      <th>безработный</th>\n",
       "      <td>366413.652744</td>\n",
       "    </tr>\n",
       "    <tr>\n",
       "      <th>в декрете</th>\n",
       "      <td>3296.759962</td>\n",
       "    </tr>\n",
       "    <tr>\n",
       "      <th>госслужащий</th>\n",
       "      <td>2689.368353</td>\n",
       "    </tr>\n",
       "    <tr>\n",
       "      <th>компаньон</th>\n",
       "      <td>1547.382223</td>\n",
       "    </tr>\n",
       "    <tr>\n",
       "      <th>пенсионер</th>\n",
       "      <td>365213.306266</td>\n",
       "    </tr>\n",
       "    <tr>\n",
       "      <th>предприниматель</th>\n",
       "      <td>520.848083</td>\n",
       "    </tr>\n",
       "    <tr>\n",
       "      <th>сотрудник</th>\n",
       "      <td>1574.202821</td>\n",
       "    </tr>\n",
       "    <tr>\n",
       "      <th>студент</th>\n",
       "      <td>578.751554</td>\n",
       "    </tr>\n",
       "  </tbody>\n",
       "</table>\n",
       "</div>"
      ],
      "text/plain": [
       "                 days_employed\n",
       "income_type                   \n",
       "безработный      366413.652744\n",
       "в декрете          3296.759962\n",
       "госслужащий        2689.368353\n",
       "компаньон          1547.382223\n",
       "пенсионер        365213.306266\n",
       "предприниматель     520.848083\n",
       "сотрудник          1574.202821\n",
       "студент             578.751554"
      ]
     },
     "execution_count": 15,
     "metadata": {},
     "output_type": "execute_result"
    }
   ],
   "source": [
    "df.groupby('income_type').agg({\n",
    "    'days_employed': 'median'\n",
    "})"
   ]
  },
  {
   "cell_type": "markdown",
   "id": "e4f1270c",
   "metadata": {},
   "source": [
    "При визуальном сравнении с похожей группировкой в **пункте 2.1** видно, что медианы изменились только относительно знака - из отрицательных они стали положительными. Сами же значения остались неизменными. Это говорит о том, проводить изменения по присвоению новых медиан не требуется."
   ]
  },
  {
   "cell_type": "markdown",
   "id": "294e9b5e",
   "metadata": {},
   "source": [
    "Теперь обратим внимание непосредственно на сами значения стажа. Мы уже заметили, что максимум в этом столбце эквивалентен 1100 годам, что противоречит действительности.\n",
    "\n",
    "Предположим, максимальный стаж работы для мужчин и женщин - 45 лет (с 18 лет до 63 лет). Это равно 16425 дням. Выведем на экран количество значений, выходящих за эти рамки, при помощи метода `count()`:"
   ]
  },
  {
   "cell_type": "code",
   "execution_count": 16,
   "id": "ff2adb19",
   "metadata": {},
   "outputs": [
    {
     "data": {
      "text/plain": [
       "3861"
      ]
     },
     "execution_count": 16,
     "metadata": {},
     "output_type": "execute_result"
    }
   ],
   "source": [
    "df.loc[df.days_employed > 16425, 'days_employed'].count()"
   ]
  },
  {
   "cell_type": "markdown",
   "id": "ee1a2795",
   "metadata": {},
   "source": [
    "Подобные аномалии составляют пятую часть от всего датасета - это очень много. Необходимо ввести соответствующие корректировки. Поскольку стаж работы в наших гипотезах не фигурирует и его значения не будут участвовать в анализе, ограничимся заменой этих аномалий на медианное значение по столбцу:"
   ]
  },
  {
   "cell_type": "code",
   "execution_count": 17,
   "id": "d7a8f051",
   "metadata": {},
   "outputs": [],
   "source": [
    "df.loc[df.days_employed > 16425, 'days_employed'] = df['days_employed'].median()"
   ]
  },
  {
   "cell_type": "markdown",
   "id": "b1086d0c",
   "metadata": {},
   "source": [
    "Вновь выведем сгруппированные по типам занятости показатели стажа работы:"
   ]
  },
  {
   "cell_type": "code",
   "execution_count": 18,
   "id": "0446aad7",
   "metadata": {},
   "outputs": [
    {
     "data": {
      "text/html": [
       "<div>\n",
       "<style scoped>\n",
       "    .dataframe tbody tr th:only-of-type {\n",
       "        vertical-align: middle;\n",
       "    }\n",
       "\n",
       "    .dataframe tbody tr th {\n",
       "        vertical-align: top;\n",
       "    }\n",
       "\n",
       "    .dataframe thead th {\n",
       "        text-align: right;\n",
       "    }\n",
       "</style>\n",
       "<table border=\"1\" class=\"dataframe\">\n",
       "  <thead>\n",
       "    <tr style=\"text-align: right;\">\n",
       "      <th></th>\n",
       "      <th>days_employed</th>\n",
       "    </tr>\n",
       "    <tr>\n",
       "      <th>income_type</th>\n",
       "      <th></th>\n",
       "    </tr>\n",
       "  </thead>\n",
       "  <tbody>\n",
       "    <tr>\n",
       "      <th>безработный</th>\n",
       "      <td>1993.522017</td>\n",
       "    </tr>\n",
       "    <tr>\n",
       "      <th>в декрете</th>\n",
       "      <td>3296.759962</td>\n",
       "    </tr>\n",
       "    <tr>\n",
       "      <th>госслужащий</th>\n",
       "      <td>2689.368353</td>\n",
       "    </tr>\n",
       "    <tr>\n",
       "      <th>компаньон</th>\n",
       "      <td>1547.382223</td>\n",
       "    </tr>\n",
       "    <tr>\n",
       "      <th>пенсионер</th>\n",
       "      <td>1993.522017</td>\n",
       "    </tr>\n",
       "    <tr>\n",
       "      <th>предприниматель</th>\n",
       "      <td>520.848083</td>\n",
       "    </tr>\n",
       "    <tr>\n",
       "      <th>сотрудник</th>\n",
       "      <td>1574.202821</td>\n",
       "    </tr>\n",
       "    <tr>\n",
       "      <th>студент</th>\n",
       "      <td>578.751554</td>\n",
       "    </tr>\n",
       "  </tbody>\n",
       "</table>\n",
       "</div>"
      ],
      "text/plain": [
       "                 days_employed\n",
       "income_type                   \n",
       "безработный        1993.522017\n",
       "в декрете          3296.759962\n",
       "госслужащий        2689.368353\n",
       "компаньон          1547.382223\n",
       "пенсионер          1993.522017\n",
       "предприниматель     520.848083\n",
       "сотрудник          1574.202821\n",
       "студент             578.751554"
      ]
     },
     "execution_count": 18,
     "metadata": {},
     "output_type": "execute_result"
    }
   ],
   "source": [
    "df.groupby('income_type').agg({\n",
    "    'days_employed': 'median'\n",
    "})"
   ]
  },
  {
   "cell_type": "markdown",
   "id": "d8b64d53",
   "metadata": {},
   "source": [
    "На данном этапе результат нас устраивает. Но следует учесть, что если возникнет необходимость анализа показателей в зависимости от стажа работы, то аномальные максимумы в столбце `days_employed` разумнее будет заменить на медианные значения в разрезе, к примеру, соотносимого показателя `dob_years`."
   ]
  },
  {
   "cell_type": "markdown",
   "id": "00599779",
   "metadata": {},
   "source": [
    "Далее, с помощью метода `value_counts()` проверим на наличие аномалий столбец `children`:"
   ]
  },
  {
   "cell_type": "code",
   "execution_count": 19,
   "id": "c28a4a50",
   "metadata": {},
   "outputs": [
    {
     "data": {
      "text/plain": [
       " 0     14149\n",
       " 1      4818\n",
       " 2      2055\n",
       " 3       330\n",
       " 20       76\n",
       "-1        47\n",
       " 4        41\n",
       " 5         9\n",
       "Name: children, dtype: int64"
      ]
     },
     "execution_count": 19,
     "metadata": {},
     "output_type": "execute_result"
    }
   ],
   "source": [
    "df.children.value_counts()"
   ]
  },
  {
   "cell_type": "markdown",
   "id": "864ebdd4",
   "metadata": {},
   "source": [
    "Тут наблюдается информация, явно противоречащая действительности:\n",
    "* отрицательное количество детей\n",
    "* двадцать детей у отдельно взятого родителя\n",
    "\n",
    "Последнее могло бы иметь место быть, но в единичном случае. В наших же данных представлено семьдесят шесть семей с двадцатью детьми, что приводит к мысли, что данные были внесены ошибочно.\n",
    "\n",
    "Заменим отрицательные значения в столбце `children` на положительные:"
   ]
  },
  {
   "cell_type": "code",
   "execution_count": 20,
   "id": "5b6fcff8",
   "metadata": {},
   "outputs": [],
   "source": [
    "df['children'] = df.children.abs()"
   ]
  },
  {
   "cell_type": "markdown",
   "id": "10c0eddf",
   "metadata": {},
   "source": [
    "Предположим, что значение '20' в столбце `children` - это некорректно внесённое значение '2', и нивелируем аномалию исходя из этого:"
   ]
  },
  {
   "cell_type": "code",
   "execution_count": 21,
   "id": "410cfbbc",
   "metadata": {},
   "outputs": [],
   "source": [
    "df.loc[df.children == 20, 'children'] = 2"
   ]
  },
  {
   "cell_type": "markdown",
   "id": "61e65669",
   "metadata": {},
   "source": [
    "Для проверки внесенных изменений вновь выведем на экран количество значений:"
   ]
  },
  {
   "cell_type": "code",
   "execution_count": 22,
   "id": "beb58176",
   "metadata": {},
   "outputs": [
    {
     "data": {
      "text/plain": [
       "0    14149\n",
       "1     4865\n",
       "2     2131\n",
       "3      330\n",
       "4       41\n",
       "5        9\n",
       "Name: children, dtype: int64"
      ]
     },
     "execution_count": 22,
     "metadata": {},
     "output_type": "execute_result"
    }
   ],
   "source": [
    "df.children.value_counts()"
   ]
  },
  {
   "cell_type": "markdown",
   "id": "12d19c63",
   "metadata": {},
   "source": [
    "Теперь изучим на предмет аномалий значения в столбце `gender`:"
   ]
  },
  {
   "cell_type": "code",
   "execution_count": 23,
   "id": "8e125d3b",
   "metadata": {},
   "outputs": [
    {
     "data": {
      "text/plain": [
       "F      14236\n",
       "M       7288\n",
       "XNA        1\n",
       "Name: gender, dtype: int64"
      ]
     },
     "execution_count": 23,
     "metadata": {},
     "output_type": "execute_result"
    }
   ],
   "source": [
    "df.gender.value_counts()"
   ]
  },
  {
   "cell_type": "markdown",
   "id": "f9dc6a83",
   "metadata": {},
   "source": [
    "Здесь мы наблюдаем один случай артефакта, где пол заёмщика не определён. Поскольку в данных не представлены ФИО, определить, к чему его отнести, не представляется возможным - однако это и не важно, т.к. эта аномалия встречается единожды и на статистику не повлияет. \n",
    "\n",
    "Однако, стоит отметить иную особенность - количество заёмщиков-женщин вдвое превышает количество заёмщиков-мужчин. Это - серьёзное препятствие проведению анализа по этому показателю. Если бы мы захотели провести подобное исследование, то необходимо было бы обогатить данные так, чтобы распределение по категориям \"мужчина-женщина\" стало равномерным."
   ]
  },
  {
   "cell_type": "markdown",
   "id": "5246fad7",
   "metadata": {},
   "source": [
    "Далее рассмотрим столбец `dob_years`. Поскольку переменная является количественной, логичнее всего будет вывести её минимальное и максимальное значение при помощи функции `agg()`, предварительно сгруппировав данные по типам занятости:"
   ]
  },
  {
   "cell_type": "code",
   "execution_count": 24,
   "id": "6866de33",
   "metadata": {},
   "outputs": [
    {
     "data": {
      "text/html": [
       "<div>\n",
       "<style scoped>\n",
       "    .dataframe tbody tr th:only-of-type {\n",
       "        vertical-align: middle;\n",
       "    }\n",
       "\n",
       "    .dataframe tbody tr th {\n",
       "        vertical-align: top;\n",
       "    }\n",
       "\n",
       "    .dataframe thead tr th {\n",
       "        text-align: left;\n",
       "    }\n",
       "\n",
       "    .dataframe thead tr:last-of-type th {\n",
       "        text-align: right;\n",
       "    }\n",
       "</style>\n",
       "<table border=\"1\" class=\"dataframe\">\n",
       "  <thead>\n",
       "    <tr>\n",
       "      <th></th>\n",
       "      <th colspan=\"2\" halign=\"left\">dob_years</th>\n",
       "    </tr>\n",
       "    <tr>\n",
       "      <th></th>\n",
       "      <th>min</th>\n",
       "      <th>max</th>\n",
       "    </tr>\n",
       "    <tr>\n",
       "      <th>income_type</th>\n",
       "      <th></th>\n",
       "      <th></th>\n",
       "    </tr>\n",
       "  </thead>\n",
       "  <tbody>\n",
       "    <tr>\n",
       "      <th>безработный</th>\n",
       "      <td>31</td>\n",
       "      <td>45</td>\n",
       "    </tr>\n",
       "    <tr>\n",
       "      <th>в декрете</th>\n",
       "      <td>39</td>\n",
       "      <td>39</td>\n",
       "    </tr>\n",
       "    <tr>\n",
       "      <th>госслужащий</th>\n",
       "      <td>0</td>\n",
       "      <td>75</td>\n",
       "    </tr>\n",
       "    <tr>\n",
       "      <th>компаньон</th>\n",
       "      <td>0</td>\n",
       "      <td>74</td>\n",
       "    </tr>\n",
       "    <tr>\n",
       "      <th>пенсионер</th>\n",
       "      <td>0</td>\n",
       "      <td>74</td>\n",
       "    </tr>\n",
       "    <tr>\n",
       "      <th>предприниматель</th>\n",
       "      <td>27</td>\n",
       "      <td>58</td>\n",
       "    </tr>\n",
       "    <tr>\n",
       "      <th>сотрудник</th>\n",
       "      <td>0</td>\n",
       "      <td>74</td>\n",
       "    </tr>\n",
       "    <tr>\n",
       "      <th>студент</th>\n",
       "      <td>22</td>\n",
       "      <td>22</td>\n",
       "    </tr>\n",
       "  </tbody>\n",
       "</table>\n",
       "</div>"
      ],
      "text/plain": [
       "                dob_years    \n",
       "                      min max\n",
       "income_type                  \n",
       "безработный            31  45\n",
       "в декрете              39  39\n",
       "госслужащий             0  75\n",
       "компаньон               0  74\n",
       "пенсионер               0  74\n",
       "предприниматель        27  58\n",
       "сотрудник               0  74\n",
       "студент                22  22"
      ]
     },
     "execution_count": 24,
     "metadata": {},
     "output_type": "execute_result"
    }
   ],
   "source": [
    "df.groupby('income_type').agg({\n",
    "    'dob_years': ['min', 'max']\n",
    "})"
   ]
  },
  {
   "cell_type": "markdown",
   "id": "e835a6ba",
   "metadata": {},
   "source": [
    "Нам встретились нулевые значения возраста заемщика - это явная аномалия. Выясним их количество, подсчитав их методом `count()`:"
   ]
  },
  {
   "cell_type": "code",
   "execution_count": 25,
   "id": "3d721bfd",
   "metadata": {},
   "outputs": [
    {
     "data": {
      "text/plain": [
       "101"
      ]
     },
     "execution_count": 25,
     "metadata": {},
     "output_type": "execute_result"
    }
   ],
   "source": [
    "df[df.dob_years == 0]['dob_years'].count()"
   ]
  },
  {
   "cell_type": "markdown",
   "id": "b1b201a3",
   "metadata": {},
   "source": [
    "Их количество сравнительно мало - примерно 0.5% из всей выборки данных - и не является статистически значимым показателем.\n",
    "\n",
    "С другой стороны, если бы в нашем исследовании участвовал количественный показатель возраста заёмщика, то было бы предпочтительным заменить эту аномалию на медианное значение по группе. На данном же этапе мы предпочтём не вносить в этот параметр никаких изменений.\n",
    "\n",
    "Больше аномалий не наблюдается, и мы можем двигаться дальше."
   ]
  },
  {
   "cell_type": "markdown",
   "id": "329990a0",
   "metadata": {},
   "source": [
    "### Изменение типов данных.\n",
    "Теперь рассмотрим столбцы `days_employed` и `total_income`. В них отражены данные вещественного типа, но формат их представления не слишком удобен:\n",
    "* трудовой стаж в столбце `days_employed` указан в днях, и его лучше представить как целочисленные значения\n",
    "* ежемесячный доход в `total_income` как финансовые данные предпочтительнее было бы указать с точностью до сотых, но в нашем случае для упрощения дальнейшего анализа мы также приведем к целочисленным значениям\n",
    "\n",
    "Исправим это при помощи метода `astype()`:"
   ]
  },
  {
   "cell_type": "code",
   "execution_count": 26,
   "id": "955a48a0",
   "metadata": {},
   "outputs": [],
   "source": [
    "df['days_employed'] = df.days_employed.astype('int')\n",
    "df['days_employed'] = df.total_income.astype('int')"
   ]
  },
  {
   "cell_type": "markdown",
   "id": "14da0ddd",
   "metadata": {},
   "source": [
    "Проверим изменения на выводе типов данных в этих столбцах датафрейма:"
   ]
  },
  {
   "cell_type": "code",
   "execution_count": 27,
   "id": "473a54d4",
   "metadata": {},
   "outputs": [
    {
     "data": {
      "text/plain": [
       "days_employed    int64\n",
       "days_employed    int64\n",
       "dtype: object"
      ]
     },
     "execution_count": 27,
     "metadata": {},
     "output_type": "execute_result"
    }
   ],
   "source": [
    "df[['days_employed', 'days_employed']].dtypes"
   ]
  },
  {
   "cell_type": "markdown",
   "id": "48a8de12",
   "metadata": {},
   "source": [
    "### Удаление дубликатов.\n",
    "При знакомстве с данными нам уже встречались неявные дубликаты в столбце `education`.\n",
    "Выведем количество уникальных значений в этом столбце и связанном с ним столбце `education_id` при помощи метода `nunique()`:"
   ]
  },
  {
   "cell_type": "code",
   "execution_count": 28,
   "id": "c78f8742",
   "metadata": {},
   "outputs": [
    {
     "name": "stdout",
     "output_type": "stream",
     "text": [
      "Количество уникальных значений education_id: 5\n",
      "Количество уникальных значений education: 15\n"
     ]
    }
   ],
   "source": [
    "print(f'Количество уникальных значений education_id: {df.education_id.nunique()}')\n",
    "print(f'Количество уникальных значений education: {df.education.nunique()}')"
   ]
  },
  {
   "cell_type": "markdown",
   "id": "56349402",
   "metadata": {},
   "source": [
    "Налицо явная несостыковка: количество идентификаторов и уровня образования должно совпадать.\n",
    "Уточним, какие уникальные значения содержатся в столбце `education`:"
   ]
  },
  {
   "cell_type": "code",
   "execution_count": 29,
   "id": "32ef9bf5",
   "metadata": {},
   "outputs": [
    {
     "data": {
      "text/plain": [
       "array(['ВЫСШЕЕ', 'Высшее', 'НАЧАЛЬНОЕ', 'НЕОКОНЧЕННОЕ ВЫСШЕЕ',\n",
       "       'Начальное', 'Неоконченное высшее', 'СРЕДНЕЕ', 'Среднее',\n",
       "       'УЧЕНАЯ СТЕПЕНЬ', 'Ученая степень', 'высшее', 'начальное',\n",
       "       'неоконченное высшее', 'среднее', 'ученая степень'], dtype=object)"
      ]
     },
     "execution_count": 29,
     "metadata": {},
     "output_type": "execute_result"
    }
   ],
   "source": [
    "df.education.sort_values().unique()"
   ]
  },
  {
   "cell_type": "markdown",
   "id": "342ea8ec",
   "metadata": {},
   "source": [
    "По всей видимости, данные об образовании вносились вручную - по этой причине мы видим разницу в регистрах. Чтобы привести данные к общему виду, воспользуемся методом `.lower()` для строк:"
   ]
  },
  {
   "cell_type": "code",
   "execution_count": 30,
   "id": "43758b54",
   "metadata": {},
   "outputs": [],
   "source": [
    "df['education'] = df.education.str.lower()"
   ]
  },
  {
   "cell_type": "markdown",
   "id": "46d829b0",
   "metadata": {},
   "source": [
    "Проверим количество оставшихся уникальных значений в этом столбце:"
   ]
  },
  {
   "cell_type": "code",
   "execution_count": 31,
   "id": "6e8fcd28",
   "metadata": {},
   "outputs": [
    {
     "data": {
      "text/plain": [
       "5"
      ]
     },
     "execution_count": 31,
     "metadata": {},
     "output_type": "execute_result"
    }
   ],
   "source": [
    "df.education.nunique()"
   ]
  },
  {
   "cell_type": "markdown",
   "id": "1150e6ec",
   "metadata": {},
   "source": [
    "Теперь количество идентификаторов и уровня образования совпадает.\n",
    "\n",
    "Проведем аналогичную проверку для столбцов `family_status_id` и `family_status`:"
   ]
  },
  {
   "cell_type": "code",
   "execution_count": 32,
   "id": "10709a9e",
   "metadata": {},
   "outputs": [
    {
     "name": "stdout",
     "output_type": "stream",
     "text": [
      "Количество уникальных значений family_status_id: 5\n",
      "Количество уникальных значений family_status: 5\n"
     ]
    }
   ],
   "source": [
    "print(f'Количество уникальных значений family_status_id: {df.family_status_id.nunique()}')\n",
    "print(f'Количество уникальных значений family_status: {df.family_status.nunique()}')"
   ]
  },
  {
   "cell_type": "markdown",
   "id": "402a2fca",
   "metadata": {},
   "source": [
    "Относительно этих двух столбцов нареканий нет.\n",
    "\n",
    "Теперь, когда данные приведены к общему виду, проверим их на содержание явных дубликатов при помощи метода `duplicated()`:"
   ]
  },
  {
   "cell_type": "code",
   "execution_count": 33,
   "id": "3e7f7475",
   "metadata": {},
   "outputs": [
    {
     "data": {
      "text/plain": [
       "71"
      ]
     },
     "execution_count": 33,
     "metadata": {},
     "output_type": "execute_result"
    }
   ],
   "source": [
    "df.duplicated().sum()"
   ]
  },
  {
   "cell_type": "markdown",
   "id": "31511837",
   "metadata": {},
   "source": [
    "Сбросим дублированные значения с помощью метода `drop_duplicates()` c присваиванием новых индексов:"
   ]
  },
  {
   "cell_type": "code",
   "execution_count": 34,
   "id": "3517b6de",
   "metadata": {},
   "outputs": [],
   "source": [
    "df = df.drop_duplicates().reset_index(drop=True)"
   ]
  },
  {
   "cell_type": "markdown",
   "id": "ad09d68a",
   "metadata": {},
   "source": [
    "Ещё раз посчитаем явные дубликаты в таблице и убедимся, что полностью от них избавились:"
   ]
  },
  {
   "cell_type": "code",
   "execution_count": 35,
   "id": "064d82bd",
   "metadata": {},
   "outputs": [
    {
     "data": {
      "text/plain": [
       "0"
      ]
     },
     "execution_count": 35,
     "metadata": {},
     "output_type": "execute_result"
    }
   ],
   "source": [
    "df.duplicated().sum()"
   ]
  },
  {
   "cell_type": "markdown",
   "id": "854bd404",
   "metadata": {},
   "source": [
    "### Формирование дополнительных датафреймов словарей, декомпозиция исходного датафрейма.\n",
    "В промежуточных выводах к **пункту 1** указывалось, что для упрощения восприятия данных предпочтительнее будет разделить изначальный датафрейм на три таблицы.\n",
    "\n",
    "Создадим два новых датафрейма, в которых:\n",
    "* каждому уникальному значению из `education` соответствует уникальное значение `education_id` — в первом;\n",
    "* каждому уникальному значению из `family_status` соответствует уникальное значение `family_status_id` — во втором.\n",
    "\n",
    "Создадим из исходного датафрейма \"словарь\" `education_df` и выведем на экран первые пять его строк:"
   ]
  },
  {
   "cell_type": "code",
   "execution_count": 36,
   "id": "613fe4a0",
   "metadata": {},
   "outputs": [
    {
     "data": {
      "text/html": [
       "<div>\n",
       "<style scoped>\n",
       "    .dataframe tbody tr th:only-of-type {\n",
       "        vertical-align: middle;\n",
       "    }\n",
       "\n",
       "    .dataframe tbody tr th {\n",
       "        vertical-align: top;\n",
       "    }\n",
       "\n",
       "    .dataframe thead th {\n",
       "        text-align: right;\n",
       "    }\n",
       "</style>\n",
       "<table border=\"1\" class=\"dataframe\">\n",
       "  <thead>\n",
       "    <tr style=\"text-align: right;\">\n",
       "      <th></th>\n",
       "      <th>education_id</th>\n",
       "      <th>education</th>\n",
       "    </tr>\n",
       "  </thead>\n",
       "  <tbody>\n",
       "    <tr>\n",
       "      <th>0</th>\n",
       "      <td>0</td>\n",
       "      <td>высшее</td>\n",
       "    </tr>\n",
       "    <tr>\n",
       "      <th>1</th>\n",
       "      <td>1</td>\n",
       "      <td>среднее</td>\n",
       "    </tr>\n",
       "    <tr>\n",
       "      <th>2</th>\n",
       "      <td>1</td>\n",
       "      <td>среднее</td>\n",
       "    </tr>\n",
       "    <tr>\n",
       "      <th>3</th>\n",
       "      <td>1</td>\n",
       "      <td>среднее</td>\n",
       "    </tr>\n",
       "    <tr>\n",
       "      <th>4</th>\n",
       "      <td>1</td>\n",
       "      <td>среднее</td>\n",
       "    </tr>\n",
       "  </tbody>\n",
       "</table>\n",
       "</div>"
      ],
      "text/plain": [
       "   education_id education\n",
       "0             0    высшее\n",
       "1             1   среднее\n",
       "2             1   среднее\n",
       "3             1   среднее\n",
       "4             1   среднее"
      ]
     },
     "metadata": {},
     "output_type": "display_data"
    }
   ],
   "source": [
    "education_df = df[['education_id', 'education']]\n",
    "display(education_df.head())"
   ]
  },
  {
   "cell_type": "markdown",
   "id": "48c0d28e",
   "metadata": {},
   "source": [
    "Нам встретились дубликаты. Сбросим их и выведем \"словарь\" `education_df` на экран:"
   ]
  },
  {
   "cell_type": "code",
   "execution_count": 37,
   "id": "6b312667",
   "metadata": {},
   "outputs": [
    {
     "data": {
      "text/html": [
       "<div>\n",
       "<style scoped>\n",
       "    .dataframe tbody tr th:only-of-type {\n",
       "        vertical-align: middle;\n",
       "    }\n",
       "\n",
       "    .dataframe tbody tr th {\n",
       "        vertical-align: top;\n",
       "    }\n",
       "\n",
       "    .dataframe thead th {\n",
       "        text-align: right;\n",
       "    }\n",
       "</style>\n",
       "<table border=\"1\" class=\"dataframe\">\n",
       "  <thead>\n",
       "    <tr style=\"text-align: right;\">\n",
       "      <th></th>\n",
       "      <th>education_id</th>\n",
       "      <th>education</th>\n",
       "    </tr>\n",
       "  </thead>\n",
       "  <tbody>\n",
       "    <tr>\n",
       "      <th>0</th>\n",
       "      <td>0</td>\n",
       "      <td>высшее</td>\n",
       "    </tr>\n",
       "    <tr>\n",
       "      <th>1</th>\n",
       "      <td>1</td>\n",
       "      <td>среднее</td>\n",
       "    </tr>\n",
       "    <tr>\n",
       "      <th>2</th>\n",
       "      <td>2</td>\n",
       "      <td>неоконченное высшее</td>\n",
       "    </tr>\n",
       "    <tr>\n",
       "      <th>3</th>\n",
       "      <td>3</td>\n",
       "      <td>начальное</td>\n",
       "    </tr>\n",
       "    <tr>\n",
       "      <th>4</th>\n",
       "      <td>4</td>\n",
       "      <td>ученая степень</td>\n",
       "    </tr>\n",
       "  </tbody>\n",
       "</table>\n",
       "</div>"
      ],
      "text/plain": [
       "   education_id            education\n",
       "0             0               высшее\n",
       "1             1              среднее\n",
       "2             2  неоконченное высшее\n",
       "3             3            начальное\n",
       "4             4       ученая степень"
      ]
     },
     "metadata": {},
     "output_type": "display_data"
    }
   ],
   "source": [
    "education_df = education_df.drop_duplicates().reset_index(drop=True)\n",
    "display(education_df)"
   ]
  },
  {
   "cell_type": "markdown",
   "id": "95f47e25",
   "metadata": {},
   "source": [
    "К этому \"словарю\" замечаний нет.\n",
    "\n",
    "Приступим к формированию \"словаря\" `family_status_df`:"
   ]
  },
  {
   "cell_type": "code",
   "execution_count": 38,
   "id": "d80e6cd3",
   "metadata": {},
   "outputs": [
    {
     "data": {
      "text/html": [
       "<div>\n",
       "<style scoped>\n",
       "    .dataframe tbody tr th:only-of-type {\n",
       "        vertical-align: middle;\n",
       "    }\n",
       "\n",
       "    .dataframe tbody tr th {\n",
       "        vertical-align: top;\n",
       "    }\n",
       "\n",
       "    .dataframe thead th {\n",
       "        text-align: right;\n",
       "    }\n",
       "</style>\n",
       "<table border=\"1\" class=\"dataframe\">\n",
       "  <thead>\n",
       "    <tr style=\"text-align: right;\">\n",
       "      <th></th>\n",
       "      <th>family_status_id</th>\n",
       "      <th>family_status</th>\n",
       "    </tr>\n",
       "  </thead>\n",
       "  <tbody>\n",
       "    <tr>\n",
       "      <th>0</th>\n",
       "      <td>0</td>\n",
       "      <td>женат / замужем</td>\n",
       "    </tr>\n",
       "    <tr>\n",
       "      <th>1</th>\n",
       "      <td>0</td>\n",
       "      <td>женат / замужем</td>\n",
       "    </tr>\n",
       "    <tr>\n",
       "      <th>2</th>\n",
       "      <td>0</td>\n",
       "      <td>женат / замужем</td>\n",
       "    </tr>\n",
       "    <tr>\n",
       "      <th>3</th>\n",
       "      <td>0</td>\n",
       "      <td>женат / замужем</td>\n",
       "    </tr>\n",
       "    <tr>\n",
       "      <th>4</th>\n",
       "      <td>1</td>\n",
       "      <td>гражданский брак</td>\n",
       "    </tr>\n",
       "  </tbody>\n",
       "</table>\n",
       "</div>"
      ],
      "text/plain": [
       "   family_status_id     family_status\n",
       "0                 0   женат / замужем\n",
       "1                 0   женат / замужем\n",
       "2                 0   женат / замужем\n",
       "3                 0   женат / замужем\n",
       "4                 1  гражданский брак"
      ]
     },
     "metadata": {},
     "output_type": "display_data"
    }
   ],
   "source": [
    "family_status_df = df[['family_status_id', 'family_status']]\n",
    "display(family_status_df.head())"
   ]
  },
  {
   "cell_type": "markdown",
   "id": "7dbb49d9",
   "metadata": {},
   "source": [
    "Удалим продублированные значения, оставив только уникальные, и выведем \"словарь\" `family_status_df` на экран:"
   ]
  },
  {
   "cell_type": "code",
   "execution_count": 39,
   "id": "5bfe4deb",
   "metadata": {},
   "outputs": [
    {
     "data": {
      "text/html": [
       "<div>\n",
       "<style scoped>\n",
       "    .dataframe tbody tr th:only-of-type {\n",
       "        vertical-align: middle;\n",
       "    }\n",
       "\n",
       "    .dataframe tbody tr th {\n",
       "        vertical-align: top;\n",
       "    }\n",
       "\n",
       "    .dataframe thead th {\n",
       "        text-align: right;\n",
       "    }\n",
       "</style>\n",
       "<table border=\"1\" class=\"dataframe\">\n",
       "  <thead>\n",
       "    <tr style=\"text-align: right;\">\n",
       "      <th></th>\n",
       "      <th>family_status_id</th>\n",
       "      <th>family_status</th>\n",
       "    </tr>\n",
       "  </thead>\n",
       "  <tbody>\n",
       "    <tr>\n",
       "      <th>0</th>\n",
       "      <td>0</td>\n",
       "      <td>женат / замужем</td>\n",
       "    </tr>\n",
       "    <tr>\n",
       "      <th>1</th>\n",
       "      <td>1</td>\n",
       "      <td>гражданский брак</td>\n",
       "    </tr>\n",
       "    <tr>\n",
       "      <th>2</th>\n",
       "      <td>2</td>\n",
       "      <td>вдовец / вдова</td>\n",
       "    </tr>\n",
       "    <tr>\n",
       "      <th>3</th>\n",
       "      <td>3</td>\n",
       "      <td>в разводе</td>\n",
       "    </tr>\n",
       "    <tr>\n",
       "      <th>4</th>\n",
       "      <td>4</td>\n",
       "      <td>Не женат / не замужем</td>\n",
       "    </tr>\n",
       "  </tbody>\n",
       "</table>\n",
       "</div>"
      ],
      "text/plain": [
       "   family_status_id          family_status\n",
       "0                 0        женат / замужем\n",
       "1                 1       гражданский брак\n",
       "2                 2         вдовец / вдова\n",
       "3                 3              в разводе\n",
       "4                 4  Не женат / не замужем"
      ]
     },
     "metadata": {},
     "output_type": "display_data"
    }
   ],
   "source": [
    "family_status_df = family_status_df.drop_duplicates().reset_index(drop=True)\n",
    "display(family_status_df)"
   ]
  },
  {
   "cell_type": "markdown",
   "id": "8f1a4733",
   "metadata": {},
   "source": [
    "Теперь произведём декомпозицию исходного датафрейма `df`. Удалим столбцы `education` и `family_status`, оставив только их идентификаторы: `education_id` и `family_status_id`. Новые датафреймы станут «словарями», к которым мы сможем обращаться по идентификатору:"
   ]
  },
  {
   "cell_type": "code",
   "execution_count": 40,
   "id": "09ca94e0",
   "metadata": {},
   "outputs": [],
   "source": [
    "df = df[['children', 'days_employed', 'dob_years', 'education_id', 'family_status_id', 'gender', 'income_type', 'debt', 'total_income', 'purpose']]"
   ]
  },
  {
   "cell_type": "markdown",
   "id": "4d8fced6",
   "metadata": {},
   "source": [
    "Выведем пять первых строк обновлённого датафрейма на экран:"
   ]
  },
  {
   "cell_type": "code",
   "execution_count": 41,
   "id": "08b09f52",
   "metadata": {
    "scrolled": true
   },
   "outputs": [
    {
     "data": {
      "text/html": [
       "<div>\n",
       "<style scoped>\n",
       "    .dataframe tbody tr th:only-of-type {\n",
       "        vertical-align: middle;\n",
       "    }\n",
       "\n",
       "    .dataframe tbody tr th {\n",
       "        vertical-align: top;\n",
       "    }\n",
       "\n",
       "    .dataframe thead th {\n",
       "        text-align: right;\n",
       "    }\n",
       "</style>\n",
       "<table border=\"1\" class=\"dataframe\">\n",
       "  <thead>\n",
       "    <tr style=\"text-align: right;\">\n",
       "      <th></th>\n",
       "      <th>children</th>\n",
       "      <th>days_employed</th>\n",
       "      <th>dob_years</th>\n",
       "      <th>education_id</th>\n",
       "      <th>family_status_id</th>\n",
       "      <th>gender</th>\n",
       "      <th>income_type</th>\n",
       "      <th>debt</th>\n",
       "      <th>total_income</th>\n",
       "      <th>purpose</th>\n",
       "    </tr>\n",
       "  </thead>\n",
       "  <tbody>\n",
       "    <tr>\n",
       "      <th>0</th>\n",
       "      <td>1</td>\n",
       "      <td>253875</td>\n",
       "      <td>42</td>\n",
       "      <td>0</td>\n",
       "      <td>0</td>\n",
       "      <td>F</td>\n",
       "      <td>сотрудник</td>\n",
       "      <td>0</td>\n",
       "      <td>253875.639453</td>\n",
       "      <td>покупка жилья</td>\n",
       "    </tr>\n",
       "    <tr>\n",
       "      <th>1</th>\n",
       "      <td>1</td>\n",
       "      <td>112080</td>\n",
       "      <td>36</td>\n",
       "      <td>1</td>\n",
       "      <td>0</td>\n",
       "      <td>F</td>\n",
       "      <td>сотрудник</td>\n",
       "      <td>0</td>\n",
       "      <td>112080.014102</td>\n",
       "      <td>приобретение автомобиля</td>\n",
       "    </tr>\n",
       "    <tr>\n",
       "      <th>2</th>\n",
       "      <td>0</td>\n",
       "      <td>145885</td>\n",
       "      <td>33</td>\n",
       "      <td>1</td>\n",
       "      <td>0</td>\n",
       "      <td>M</td>\n",
       "      <td>сотрудник</td>\n",
       "      <td>0</td>\n",
       "      <td>145885.952297</td>\n",
       "      <td>покупка жилья</td>\n",
       "    </tr>\n",
       "    <tr>\n",
       "      <th>3</th>\n",
       "      <td>3</td>\n",
       "      <td>267628</td>\n",
       "      <td>32</td>\n",
       "      <td>1</td>\n",
       "      <td>0</td>\n",
       "      <td>M</td>\n",
       "      <td>сотрудник</td>\n",
       "      <td>0</td>\n",
       "      <td>267628.550329</td>\n",
       "      <td>дополнительное образование</td>\n",
       "    </tr>\n",
       "    <tr>\n",
       "      <th>4</th>\n",
       "      <td>0</td>\n",
       "      <td>158616</td>\n",
       "      <td>53</td>\n",
       "      <td>1</td>\n",
       "      <td>1</td>\n",
       "      <td>F</td>\n",
       "      <td>пенсионер</td>\n",
       "      <td>0</td>\n",
       "      <td>158616.077870</td>\n",
       "      <td>сыграть свадьбу</td>\n",
       "    </tr>\n",
       "  </tbody>\n",
       "</table>\n",
       "</div>"
      ],
      "text/plain": [
       "   children  days_employed  dob_years  education_id  family_status_id gender  \\\n",
       "0         1         253875         42             0                 0      F   \n",
       "1         1         112080         36             1                 0      F   \n",
       "2         0         145885         33             1                 0      M   \n",
       "3         3         267628         32             1                 0      M   \n",
       "4         0         158616         53             1                 1      F   \n",
       "\n",
       "  income_type  debt   total_income                     purpose  \n",
       "0   сотрудник     0  253875.639453               покупка жилья  \n",
       "1   сотрудник     0  112080.014102     приобретение автомобиля  \n",
       "2   сотрудник     0  145885.952297               покупка жилья  \n",
       "3   сотрудник     0  267628.550329  дополнительное образование  \n",
       "4   пенсионер     0  158616.077870             сыграть свадьбу  "
      ]
     },
     "metadata": {},
     "output_type": "display_data"
    }
   ],
   "source": [
    "display(df.head())"
   ]
  },
  {
   "cell_type": "markdown",
   "id": "37f1bc4e",
   "metadata": {},
   "source": [
    "На этом первая часть предобработки подошла к концу. В следующих двух пунктах мы займёмся разнесением данных по категориям."
   ]
  },
  {
   "cell_type": "markdown",
   "id": "2e90701f",
   "metadata": {},
   "source": [
    "### Категоризация дохода\n",
    "В нашем датафрейме, в столбцах `total_income` и `purpose` присутствуют данные, имеющие определенное значение признака, которое встречается в наборе данных однократно. Это вполне логично: значение ежемесячного дохода (количественная переменная), как и цель получения кредита (категориальная переменная) индивидуальны для каждого заёмщика. Но делать статистические выводы по таким значениям нельзя. Поэтому с такими данными проводится *категоризация* - т.е. объединение данных по категориям.\n",
    "\n",
    "Начнём с категоризации дохода. \n",
    "Для ориентира возьмём среднерыночные показатели заработной платы и исходя из них определим категории. Пропишем функцию с ежемесячным доходом в качестве параметра, которая будет присваивать доходам категории на основании диапазонов, указанных ниже:\n",
    "* 0–30000 — 'E';\n",
    "* 30001–50000 — 'D';\n",
    "* 50001–200000 — 'C';\n",
    "* 200001–1000000 — 'B';\n",
    "* 1000001 и выше — 'A'.\n",
    "\n",
    "Например, кредитополучателю с доходом 25000 нужно назначить категорию 'E', а клиенту, получающему 235000, — 'B'."
   ]
  },
  {
   "cell_type": "code",
   "execution_count": 42,
   "id": "e6fbe9ff",
   "metadata": {},
   "outputs": [],
   "source": [
    "# определим функцию set_income_category, присваивающую категорию доходу\n",
    "def set_income_category(income):\n",
    "    # используем конструкцию try...except для обработки возможных ошибок\n",
    "    try:\n",
    "        # условие присвоения категории E\n",
    "        if 0 <= income <= 30000:\n",
    "            return 'E'\n",
    "        # условие присвоения категории D\n",
    "        elif income <= 50000:\n",
    "            return 'D'\n",
    "        # условие присвоения категории C\n",
    "        elif income <= 200000:\n",
    "            return 'C'\n",
    "        # условие присвоения категории B\n",
    "        elif income <= 1000000:\n",
    "            return 'B'\n",
    "        # условие присвоения категории A\n",
    "        elif income > 1000001:\n",
    "            return 'A'\n",
    "        # условие, если доход меньше нуля\n",
    "        elif income < 0:\n",
    "            return 'income is negative'\n",
    "    # блок except, исключающий случай, когда значение в income относится к строковому типу\n",
    "    except TypeError:\n",
    "        return 'undefined'\n",
    "# если в результатах работы функции будут присутствовать категории \"income is negative\" и \"undefined\",\n",
    "# mo это повод провести повторно пункт 2.2 и пункт 2.3 предобработки данных, соответственно"
   ]
  },
  {
   "cell_type": "markdown",
   "id": "1b3d9403",
   "metadata": {},
   "source": [
    "На основании функции `set_income_category` создадим в таблице столбец `total_income_category`:"
   ]
  },
  {
   "cell_type": "code",
   "execution_count": 43,
   "id": "7bafef99",
   "metadata": {},
   "outputs": [],
   "source": [
    "df['total_income_category'] = df.total_income.apply(set_income_category)"
   ]
  },
  {
   "cell_type": "markdown",
   "id": "b11608ed",
   "metadata": {},
   "source": [
    "Выведем пять случайных строк обновлённого датафрейма на экран:"
   ]
  },
  {
   "cell_type": "code",
   "execution_count": 44,
   "id": "98e3757c",
   "metadata": {},
   "outputs": [
    {
     "data": {
      "text/html": [
       "<div>\n",
       "<style scoped>\n",
       "    .dataframe tbody tr th:only-of-type {\n",
       "        vertical-align: middle;\n",
       "    }\n",
       "\n",
       "    .dataframe tbody tr th {\n",
       "        vertical-align: top;\n",
       "    }\n",
       "\n",
       "    .dataframe thead th {\n",
       "        text-align: right;\n",
       "    }\n",
       "</style>\n",
       "<table border=\"1\" class=\"dataframe\">\n",
       "  <thead>\n",
       "    <tr style=\"text-align: right;\">\n",
       "      <th></th>\n",
       "      <th>children</th>\n",
       "      <th>days_employed</th>\n",
       "      <th>dob_years</th>\n",
       "      <th>education_id</th>\n",
       "      <th>family_status_id</th>\n",
       "      <th>gender</th>\n",
       "      <th>income_type</th>\n",
       "      <th>debt</th>\n",
       "      <th>total_income</th>\n",
       "      <th>purpose</th>\n",
       "      <th>total_income_category</th>\n",
       "    </tr>\n",
       "  </thead>\n",
       "  <tbody>\n",
       "    <tr>\n",
       "      <th>6887</th>\n",
       "      <td>0</td>\n",
       "      <td>56516</td>\n",
       "      <td>57</td>\n",
       "      <td>1</td>\n",
       "      <td>2</td>\n",
       "      <td>F</td>\n",
       "      <td>пенсионер</td>\n",
       "      <td>0</td>\n",
       "      <td>56516.608407</td>\n",
       "      <td>покупка коммерческой недвижимости</td>\n",
       "      <td>C</td>\n",
       "    </tr>\n",
       "    <tr>\n",
       "      <th>1327</th>\n",
       "      <td>0</td>\n",
       "      <td>131592</td>\n",
       "      <td>49</td>\n",
       "      <td>1</td>\n",
       "      <td>1</td>\n",
       "      <td>F</td>\n",
       "      <td>сотрудник</td>\n",
       "      <td>0</td>\n",
       "      <td>131592.226862</td>\n",
       "      <td>сыграть свадьбу</td>\n",
       "      <td>C</td>\n",
       "    </tr>\n",
       "    <tr>\n",
       "      <th>20829</th>\n",
       "      <td>0</td>\n",
       "      <td>253236</td>\n",
       "      <td>47</td>\n",
       "      <td>0</td>\n",
       "      <td>4</td>\n",
       "      <td>F</td>\n",
       "      <td>компаньон</td>\n",
       "      <td>0</td>\n",
       "      <td>253236.120663</td>\n",
       "      <td>строительство недвижимости</td>\n",
       "      <td>B</td>\n",
       "    </tr>\n",
       "    <tr>\n",
       "      <th>15348</th>\n",
       "      <td>0</td>\n",
       "      <td>298150</td>\n",
       "      <td>38</td>\n",
       "      <td>0</td>\n",
       "      <td>0</td>\n",
       "      <td>M</td>\n",
       "      <td>компаньон</td>\n",
       "      <td>0</td>\n",
       "      <td>298150.028437</td>\n",
       "      <td>строительство собственной недвижимости</td>\n",
       "      <td>B</td>\n",
       "    </tr>\n",
       "    <tr>\n",
       "      <th>2334</th>\n",
       "      <td>0</td>\n",
       "      <td>78500</td>\n",
       "      <td>56</td>\n",
       "      <td>1</td>\n",
       "      <td>0</td>\n",
       "      <td>F</td>\n",
       "      <td>пенсионер</td>\n",
       "      <td>0</td>\n",
       "      <td>78500.291635</td>\n",
       "      <td>сделка с подержанным автомобилем</td>\n",
       "      <td>C</td>\n",
       "    </tr>\n",
       "  </tbody>\n",
       "</table>\n",
       "</div>"
      ],
      "text/plain": [
       "       children  days_employed  dob_years  education_id  family_status_id  \\\n",
       "6887          0          56516         57             1                 2   \n",
       "1327          0         131592         49             1                 1   \n",
       "20829         0         253236         47             0                 4   \n",
       "15348         0         298150         38             0                 0   \n",
       "2334          0          78500         56             1                 0   \n",
       "\n",
       "      gender income_type  debt   total_income  \\\n",
       "6887       F   пенсионер     0   56516.608407   \n",
       "1327       F   сотрудник     0  131592.226862   \n",
       "20829      F   компаньон     0  253236.120663   \n",
       "15348      M   компаньон     0  298150.028437   \n",
       "2334       F   пенсионер     0   78500.291635   \n",
       "\n",
       "                                      purpose total_income_category  \n",
       "6887        покупка коммерческой недвижимости                     C  \n",
       "1327                          сыграть свадьбу                     C  \n",
       "20829              строительство недвижимости                     B  \n",
       "15348  строительство собственной недвижимости                     B  \n",
       "2334         сделка с подержанным автомобилем                     C  "
      ]
     },
     "metadata": {},
     "output_type": "display_data"
    }
   ],
   "source": [
    "display(df.sample(5))"
   ]
  },
  {
   "cell_type": "markdown",
   "id": "32157291",
   "metadata": {},
   "source": [
    "Проверим, встречаются ли категории дохода `income is negative` или `undefined`. В случае их присутствия рекомендуется не переходить к следующему шагу и вернуться к **пункту 2.2** и **пункту 2.3** предобработки данных, дабы не допустить падения кода с ошибкой. \n",
    "Сделать проверку поможет метод `value_counts()`:"
   ]
  },
  {
   "cell_type": "code",
   "execution_count": 45,
   "id": "13422b7f",
   "metadata": {},
   "outputs": [
    {
     "data": {
      "text/plain": [
       "C    16015\n",
       "B     5042\n",
       "D      350\n",
       "A       25\n",
       "E       22\n",
       "Name: total_income_category, dtype: int64"
      ]
     },
     "execution_count": 45,
     "metadata": {},
     "output_type": "execute_result"
    }
   ],
   "source": [
    "df.total_income_category.value_counts()"
   ]
  },
  {
   "cell_type": "markdown",
   "id": "4c6fd88f",
   "metadata": {},
   "source": [
    "Вышеназванные категории нам не встретились, и мы можем двигаться дальше.\n",
    "\n",
    "Для визуализации результатов создадим сводную таблицу при помощи метода `pivot_table()`. \n",
    "Передадим ей следующие аргументы:\n",
    "* `income_type`- в качестве индексов\n",
    "* `total_income_category`- в качестве наименований столбцов\n",
    "* `total_income` - в качестве значений, которые будут отражены в таблице\n",
    "* `mean()` - в качестве агрегатной функции, которая будет применена к значениям таблицы\n",
    "\n",
    "В последнем пункте мы предпочли использовать метод расчёта среднего арифметического `mean()` вместо метода подсчеты медианы `median()`, поскольку значения дохода в рамках категорий находятся в ожидаемых пределах и колебания в них минимальны:"
   ]
  },
  {
   "cell_type": "code",
   "execution_count": 46,
   "id": "558bc4bd",
   "metadata": {},
   "outputs": [
    {
     "data": {
      "text/html": [
       "<div>\n",
       "<style scoped>\n",
       "    .dataframe tbody tr th:only-of-type {\n",
       "        vertical-align: middle;\n",
       "    }\n",
       "\n",
       "    .dataframe tbody tr th {\n",
       "        vertical-align: top;\n",
       "    }\n",
       "\n",
       "    .dataframe thead th {\n",
       "        text-align: right;\n",
       "    }\n",
       "</style>\n",
       "<table border=\"1\" class=\"dataframe\">\n",
       "  <thead>\n",
       "    <tr style=\"text-align: right;\">\n",
       "      <th>total_income_category</th>\n",
       "      <th>A</th>\n",
       "      <th>B</th>\n",
       "      <th>C</th>\n",
       "      <th>D</th>\n",
       "      <th>E</th>\n",
       "    </tr>\n",
       "    <tr>\n",
       "      <th>income_type</th>\n",
       "      <th></th>\n",
       "      <th></th>\n",
       "      <th></th>\n",
       "      <th></th>\n",
       "      <th></th>\n",
       "    </tr>\n",
       "  </thead>\n",
       "  <tbody>\n",
       "    <tr>\n",
       "      <th>безработный</th>\n",
       "      <td>NaN</td>\n",
       "      <td>202722.511368</td>\n",
       "      <td>59956.991984</td>\n",
       "      <td>NaN</td>\n",
       "      <td>NaN</td>\n",
       "    </tr>\n",
       "    <tr>\n",
       "      <th>в декрете</th>\n",
       "      <td>NaN</td>\n",
       "      <td>NaN</td>\n",
       "      <td>53829.130729</td>\n",
       "      <td>NaN</td>\n",
       "      <td>NaN</td>\n",
       "    </tr>\n",
       "    <tr>\n",
       "      <th>госслужащий</th>\n",
       "      <td>NaN</td>\n",
       "      <td>289638.274422</td>\n",
       "      <td>129891.912590</td>\n",
       "      <td>43862.783870</td>\n",
       "      <td>29200.077193</td>\n",
       "    </tr>\n",
       "    <tr>\n",
       "      <th>компаньон</th>\n",
       "      <td>1.380527e+06</td>\n",
       "      <td>301821.050392</td>\n",
       "      <td>141230.931572</td>\n",
       "      <td>44473.893177</td>\n",
       "      <td>28702.812889</td>\n",
       "    </tr>\n",
       "    <tr>\n",
       "      <th>пенсионер</th>\n",
       "      <td>NaN</td>\n",
       "      <td>277416.431715</td>\n",
       "      <td>115392.218670</td>\n",
       "      <td>42368.730703</td>\n",
       "      <td>25469.602108</td>\n",
       "    </tr>\n",
       "    <tr>\n",
       "      <th>предприниматель</th>\n",
       "      <td>NaN</td>\n",
       "      <td>499163.144947</td>\n",
       "      <td>NaN</td>\n",
       "      <td>NaN</td>\n",
       "      <td>NaN</td>\n",
       "    </tr>\n",
       "    <tr>\n",
       "      <th>сотрудник</th>\n",
       "      <td>1.277005e+06</td>\n",
       "      <td>276890.546244</td>\n",
       "      <td>127596.007685</td>\n",
       "      <td>43088.656187</td>\n",
       "      <td>25510.331556</td>\n",
       "    </tr>\n",
       "    <tr>\n",
       "      <th>студент</th>\n",
       "      <td>NaN</td>\n",
       "      <td>NaN</td>\n",
       "      <td>98201.625314</td>\n",
       "      <td>NaN</td>\n",
       "      <td>NaN</td>\n",
       "    </tr>\n",
       "  </tbody>\n",
       "</table>\n",
       "</div>"
      ],
      "text/plain": [
       "total_income_category             A              B              C  \\\n",
       "income_type                                                         \n",
       "безработный                     NaN  202722.511368   59956.991984   \n",
       "в декрете                       NaN            NaN   53829.130729   \n",
       "госслужащий                     NaN  289638.274422  129891.912590   \n",
       "компаньон              1.380527e+06  301821.050392  141230.931572   \n",
       "пенсионер                       NaN  277416.431715  115392.218670   \n",
       "предприниматель                 NaN  499163.144947            NaN   \n",
       "сотрудник              1.277005e+06  276890.546244  127596.007685   \n",
       "студент                         NaN            NaN   98201.625314   \n",
       "\n",
       "total_income_category             D             E  \n",
       "income_type                                        \n",
       "безработный                     NaN           NaN  \n",
       "в декрете                       NaN           NaN  \n",
       "госслужащий            43862.783870  29200.077193  \n",
       "компаньон              44473.893177  28702.812889  \n",
       "пенсионер              42368.730703  25469.602108  \n",
       "предприниматель                 NaN           NaN  \n",
       "сотрудник              43088.656187  25510.331556  \n",
       "студент                         NaN           NaN  "
      ]
     },
     "metadata": {},
     "output_type": "display_data"
    }
   ],
   "source": [
    "income_pivot = df.pivot_table(index='income_type',\n",
    "                             columns='total_income_category',\n",
    "                             values='total_income',\n",
    "                             aggfunc='mean')\n",
    "display(income_pivot)"
   ]
  },
  {
   "cell_type": "markdown",
   "id": "6074e7b5",
   "metadata": {},
   "source": [
    "Исходя из сводной таблицы, можно понять, какими уровнями дохода могут обладать заёмщики с тем или иным типом занятости.\n",
    "Кому-то присвоена только одна категория - как в случае студентов (категория 'C') или лиц в декрете (также категория 'C'). А кто-то, напротив, имеет разброс категорий дохода от 'A' до 'E' включительно - к примеру, сотрудники и компаньоны.\n",
    "\n",
    "Эти данные могут пригодиться нам в дальнейшем, когда мы будем проверять гипотезы."
   ]
  },
  {
   "cell_type": "markdown",
   "id": "2ee001a5",
   "metadata": {},
   "source": [
    "### Категоризация целей кредита"
   ]
  },
  {
   "cell_type": "markdown",
   "id": "1f435944",
   "metadata": {},
   "source": [
    "Прежде, чем присваивать категории целям кредита, изучим данные в столбце `purpose` и определим, на какие подстроки будет лучше ориентироваться. В этом нам поможет уже знакомый метод `value_counts()`:"
   ]
  },
  {
   "cell_type": "code",
   "execution_count": 47,
   "id": "b5cf0479",
   "metadata": {},
   "outputs": [
    {
     "data": {
      "text/plain": [
       "свадьба                                   791\n",
       "на проведение свадьбы                     768\n",
       "сыграть свадьбу                           765\n",
       "операции с недвижимостью                  675\n",
       "покупка коммерческой недвижимости         661\n",
       "операции с жильем                         652\n",
       "покупка жилья для сдачи                   651\n",
       "операции с коммерческой недвижимостью     650\n",
       "покупка жилья                             646\n",
       "жилье                                     646\n",
       "покупка жилья для семьи                   638\n",
       "строительство собственной недвижимости    635\n",
       "недвижимость                              633\n",
       "операции со своей недвижимостью           627\n",
       "строительство жилой недвижимости          624\n",
       "покупка недвижимости                      621\n",
       "покупка своего жилья                      620\n",
       "строительство недвижимости                619\n",
       "ремонт жилью                              607\n",
       "покупка жилой недвижимости                606\n",
       "на покупку своего автомобиля              505\n",
       "заняться высшим образованием              496\n",
       "автомобиль                                494\n",
       "сделка с подержанным автомобилем          486\n",
       "автомобили                                478\n",
       "на покупку подержанного автомобиля        478\n",
       "свой автомобиль                           478\n",
       "на покупку автомобиля                     471\n",
       "приобретение автомобиля                   461\n",
       "дополнительное образование                460\n",
       "сделка с автомобилем                      455\n",
       "высшее образование                        452\n",
       "образование                               447\n",
       "получение дополнительного образования     446\n",
       "получение образования                     442\n",
       "профильное образование                    436\n",
       "получение высшего образования             426\n",
       "заняться образованием                     408\n",
       "Name: purpose, dtype: int64"
      ]
     },
     "execution_count": 47,
     "metadata": {},
     "output_type": "execute_result"
    }
   ],
   "source": [
    "df.purpose.value_counts()"
   ]
  },
  {
   "cell_type": "markdown",
   "id": "05ac92f8",
   "metadata": {},
   "source": [
    "Информация в этом столбце вносилась, по всей видимости, со слов заёмщика - по этой причине присутствует так много похожих вариантов. Кроме того, данные относятся к категориальному типу. Поэтому наилучшим решением будет определение подходящих категорий. \n",
    "Исходя из представленных данных, можно выделить четыре основных типа:\n",
    "* 'операции с автомобилем'\n",
    "* 'проведение свадьбы'\n",
    "* 'получение образования'\n",
    "* 'операции с недвижимостью'\n",
    "\n",
    "С целью упрощения процесса используем поиск по шаблону при помощи метода `search()` ранее импортированного модуля `re`. Метод `search()` ищет в строке (второй параметр функции) совпадения со словом (первый параметр функции). Но вместо конкретного слова нужно указать шаблон с т.н. подстановочным знаком (или wildcard). Так, к примеру, шаблон *'автомобил?'* отражает не только само слово 'автомобиль', но и все остальные случаи его употребления - 'автомобиля', 'автомобилем' и т.д. В нашем случае подстановочным знаком будет выступать `?`, т.к. нам требуется любая одна или более букв, стоящая после заданного в шаблоне слова.\n",
    "\n",
    "Определим функцию `set_purpose_category()`, которая будет присваивать соответствующую категорию в зависимости от цели в столбце `purpose`:"
   ]
  },
  {
   "cell_type": "code",
   "execution_count": 48,
   "id": "9e95065d",
   "metadata": {},
   "outputs": [],
   "source": [
    "# определим функцию set_purpose_category, присваивающую категорию цели кредита\n",
    "def set_purpose_category(purpose):\n",
    "    # используем конструкцию try...except для обработки возможных ошибок\n",
    "    try:\n",
    "        # поиск слова 'автомобиль' по шаблону при помощи search()\n",
    "        # условие присвоения категории 'операции с автомобилем'\n",
    "        if re.search('автомобил?', purpose):\n",
    "            return 'операции с автомобилем'\n",
    "        # поиск слова 'свадьба' по шаблону при помощи search()\n",
    "        # условие присвоения категории 'проведение свадьбы'\n",
    "        elif re.search('свадьб?', purpose):\n",
    "            return 'проведение свадьбы'\n",
    "        # поиск слова 'образование' по шаблону при помощи search()\n",
    "        # условие присвоения категории 'получение образования'\n",
    "        elif re.search('образовани?', purpose):\n",
    "            return 'получение образования'\n",
    "        # поиск слова 'жилье' или слова 'недвижимость' по шаблону при помощи search()\n",
    "        # условие присвоения категории 'операции с недвижимостью'\n",
    "        elif (re.search('жиль?', purpose)) or (re.search('недвижимост?', purpose)):\n",
    "            return 'операции с недвижимостью'\n",
    "        # условие при значении, не попадающем в критерии выше\n",
    "        else:\n",
    "            return 'uncategorized'\n",
    "    # блок except, исключающий случай, когда значение в income относится к числовому типу\n",
    "    except TypeError:\n",
    "        return 'undefined'"
   ]
  },
  {
   "cell_type": "markdown",
   "id": "1024f52d",
   "metadata": {},
   "source": [
    "На основании функции `set_purpose_category` создадим в таблице столбец `purpose_category`:"
   ]
  },
  {
   "cell_type": "code",
   "execution_count": 49,
   "id": "1ceca2fe",
   "metadata": {},
   "outputs": [],
   "source": [
    "df['purpose_category'] = df.purpose.apply(set_purpose_category)"
   ]
  },
  {
   "cell_type": "markdown",
   "id": "67e8d10e",
   "metadata": {},
   "source": [
    "Выведем пять случайных строк обновлённого датафрейма на экран:"
   ]
  },
  {
   "cell_type": "code",
   "execution_count": 50,
   "id": "e8270e2d",
   "metadata": {},
   "outputs": [
    {
     "data": {
      "text/html": [
       "<div>\n",
       "<style scoped>\n",
       "    .dataframe tbody tr th:only-of-type {\n",
       "        vertical-align: middle;\n",
       "    }\n",
       "\n",
       "    .dataframe tbody tr th {\n",
       "        vertical-align: top;\n",
       "    }\n",
       "\n",
       "    .dataframe thead th {\n",
       "        text-align: right;\n",
       "    }\n",
       "</style>\n",
       "<table border=\"1\" class=\"dataframe\">\n",
       "  <thead>\n",
       "    <tr style=\"text-align: right;\">\n",
       "      <th></th>\n",
       "      <th>children</th>\n",
       "      <th>days_employed</th>\n",
       "      <th>dob_years</th>\n",
       "      <th>education_id</th>\n",
       "      <th>family_status_id</th>\n",
       "      <th>gender</th>\n",
       "      <th>income_type</th>\n",
       "      <th>debt</th>\n",
       "      <th>total_income</th>\n",
       "      <th>purpose</th>\n",
       "      <th>total_income_category</th>\n",
       "      <th>purpose_category</th>\n",
       "    </tr>\n",
       "  </thead>\n",
       "  <tbody>\n",
       "    <tr>\n",
       "      <th>14315</th>\n",
       "      <td>0</td>\n",
       "      <td>620529</td>\n",
       "      <td>49</td>\n",
       "      <td>0</td>\n",
       "      <td>0</td>\n",
       "      <td>M</td>\n",
       "      <td>госслужащий</td>\n",
       "      <td>0</td>\n",
       "      <td>620529.352931</td>\n",
       "      <td>операции с коммерческой недвижимостью</td>\n",
       "      <td>B</td>\n",
       "      <td>операции с недвижимостью</td>\n",
       "    </tr>\n",
       "    <tr>\n",
       "      <th>6274</th>\n",
       "      <td>1</td>\n",
       "      <td>96988</td>\n",
       "      <td>35</td>\n",
       "      <td>1</td>\n",
       "      <td>0</td>\n",
       "      <td>F</td>\n",
       "      <td>сотрудник</td>\n",
       "      <td>0</td>\n",
       "      <td>96988.956279</td>\n",
       "      <td>приобретение автомобиля</td>\n",
       "      <td>C</td>\n",
       "      <td>операции с автомобилем</td>\n",
       "    </tr>\n",
       "    <tr>\n",
       "      <th>10477</th>\n",
       "      <td>2</td>\n",
       "      <td>187448</td>\n",
       "      <td>46</td>\n",
       "      <td>0</td>\n",
       "      <td>0</td>\n",
       "      <td>M</td>\n",
       "      <td>компаньон</td>\n",
       "      <td>0</td>\n",
       "      <td>187448.319964</td>\n",
       "      <td>операции с коммерческой недвижимостью</td>\n",
       "      <td>C</td>\n",
       "      <td>операции с недвижимостью</td>\n",
       "    </tr>\n",
       "    <tr>\n",
       "      <th>821</th>\n",
       "      <td>0</td>\n",
       "      <td>313621</td>\n",
       "      <td>39</td>\n",
       "      <td>0</td>\n",
       "      <td>0</td>\n",
       "      <td>F</td>\n",
       "      <td>компаньон</td>\n",
       "      <td>0</td>\n",
       "      <td>313621.187264</td>\n",
       "      <td>строительство жилой недвижимости</td>\n",
       "      <td>B</td>\n",
       "      <td>операции с недвижимостью</td>\n",
       "    </tr>\n",
       "    <tr>\n",
       "      <th>8388</th>\n",
       "      <td>0</td>\n",
       "      <td>202312</td>\n",
       "      <td>51</td>\n",
       "      <td>1</td>\n",
       "      <td>0</td>\n",
       "      <td>M</td>\n",
       "      <td>сотрудник</td>\n",
       "      <td>0</td>\n",
       "      <td>202312.629076</td>\n",
       "      <td>покупка недвижимости</td>\n",
       "      <td>B</td>\n",
       "      <td>операции с недвижимостью</td>\n",
       "    </tr>\n",
       "  </tbody>\n",
       "</table>\n",
       "</div>"
      ],
      "text/plain": [
       "       children  days_employed  dob_years  education_id  family_status_id  \\\n",
       "14315         0         620529         49             0                 0   \n",
       "6274          1          96988         35             1                 0   \n",
       "10477         2         187448         46             0                 0   \n",
       "821           0         313621         39             0                 0   \n",
       "8388          0         202312         51             1                 0   \n",
       "\n",
       "      gender  income_type  debt   total_income  \\\n",
       "14315      M  госслужащий     0  620529.352931   \n",
       "6274       F    сотрудник     0   96988.956279   \n",
       "10477      M    компаньон     0  187448.319964   \n",
       "821        F    компаньон     0  313621.187264   \n",
       "8388       M    сотрудник     0  202312.629076   \n",
       "\n",
       "                                     purpose total_income_category  \\\n",
       "14315  операции с коммерческой недвижимостью                     B   \n",
       "6274                 приобретение автомобиля                     C   \n",
       "10477  операции с коммерческой недвижимостью                     C   \n",
       "821         строительство жилой недвижимости                     B   \n",
       "8388                    покупка недвижимости                     B   \n",
       "\n",
       "               purpose_category  \n",
       "14315  операции с недвижимостью  \n",
       "6274     операции с автомобилем  \n",
       "10477  операции с недвижимостью  \n",
       "821    операции с недвижимостью  \n",
       "8388   операции с недвижимостью  "
      ]
     },
     "metadata": {},
     "output_type": "display_data"
    }
   ],
   "source": [
    "display(df.sample(5))"
   ]
  },
  {
   "cell_type": "markdown",
   "id": "a3d4aa88",
   "metadata": {},
   "source": [
    "Проверим при помощи `value_counts()`, встречаются ли категории `uncategorized` или `undefined`:"
   ]
  },
  {
   "cell_type": "code",
   "execution_count": 51,
   "id": "a79f7877",
   "metadata": {},
   "outputs": [
    {
     "data": {
      "text/plain": [
       "операции с недвижимостью    10811\n",
       "операции с автомобилем       4306\n",
       "получение образования        4013\n",
       "проведение свадьбы           2324\n",
       "Name: purpose_category, dtype: int64"
      ]
     },
     "execution_count": 51,
     "metadata": {},
     "output_type": "execute_result"
    }
   ],
   "source": [
    "df.purpose_category.value_counts()"
   ]
  },
  {
   "cell_type": "markdown",
   "id": "dd0fba02",
   "metadata": {},
   "source": [
    "Вышеназванных категорий нам не встретилось - значит, наше разделение на четыре типа было обоснованным, и добавлять категории не потребуется. К тому же, с подобной категоризацией пропадает необходимость содержания столбца `purpose` в основном датафрейме, и мы можем провести декомпозицию, аналогичную **пункту 2.5**:"
   ]
  },
  {
   "cell_type": "code",
   "execution_count": 52,
   "id": "1264c021",
   "metadata": {},
   "outputs": [],
   "source": [
    "purpose_df = df[['purpose', 'purpose_category']]\n",
    "\n",
    "df = df[['children', 'days_employed', 'dob_years', 'education_id', 'family_status_id', 'gender', 'income_type', 'debt', 'total_income', 'total_income_category', 'purpose_category']]"
   ]
  },
  {
   "cell_type": "markdown",
   "id": "d374d858",
   "metadata": {},
   "source": [
    "Выведем на экран первые строки 'словаря' `purpose_df`:"
   ]
  },
  {
   "cell_type": "code",
   "execution_count": 53,
   "id": "115f5be7",
   "metadata": {},
   "outputs": [
    {
     "data": {
      "text/html": [
       "<div>\n",
       "<style scoped>\n",
       "    .dataframe tbody tr th:only-of-type {\n",
       "        vertical-align: middle;\n",
       "    }\n",
       "\n",
       "    .dataframe tbody tr th {\n",
       "        vertical-align: top;\n",
       "    }\n",
       "\n",
       "    .dataframe thead th {\n",
       "        text-align: right;\n",
       "    }\n",
       "</style>\n",
       "<table border=\"1\" class=\"dataframe\">\n",
       "  <thead>\n",
       "    <tr style=\"text-align: right;\">\n",
       "      <th></th>\n",
       "      <th>purpose</th>\n",
       "      <th>purpose_category</th>\n",
       "    </tr>\n",
       "  </thead>\n",
       "  <tbody>\n",
       "    <tr>\n",
       "      <th>0</th>\n",
       "      <td>покупка жилья</td>\n",
       "      <td>операции с недвижимостью</td>\n",
       "    </tr>\n",
       "    <tr>\n",
       "      <th>1</th>\n",
       "      <td>приобретение автомобиля</td>\n",
       "      <td>операции с автомобилем</td>\n",
       "    </tr>\n",
       "    <tr>\n",
       "      <th>2</th>\n",
       "      <td>покупка жилья</td>\n",
       "      <td>операции с недвижимостью</td>\n",
       "    </tr>\n",
       "    <tr>\n",
       "      <th>3</th>\n",
       "      <td>дополнительное образование</td>\n",
       "      <td>получение образования</td>\n",
       "    </tr>\n",
       "    <tr>\n",
       "      <th>4</th>\n",
       "      <td>сыграть свадьбу</td>\n",
       "      <td>проведение свадьбы</td>\n",
       "    </tr>\n",
       "  </tbody>\n",
       "</table>\n",
       "</div>"
      ],
      "text/plain": [
       "                      purpose          purpose_category\n",
       "0               покупка жилья  операции с недвижимостью\n",
       "1     приобретение автомобиля    операции с автомобилем\n",
       "2               покупка жилья  операции с недвижимостью\n",
       "3  дополнительное образование     получение образования\n",
       "4             сыграть свадьбу        проведение свадьбы"
      ]
     },
     "metadata": {},
     "output_type": "display_data"
    }
   ],
   "source": [
    "display(purpose_df.head())"
   ]
  },
  {
   "cell_type": "markdown",
   "id": "e28924c7",
   "metadata": {},
   "source": [
    "И выведем первые строки обновлённого датафрейма `df`:"
   ]
  },
  {
   "cell_type": "code",
   "execution_count": 54,
   "id": "09763d11",
   "metadata": {
    "scrolled": true
   },
   "outputs": [
    {
     "data": {
      "text/html": [
       "<div>\n",
       "<style scoped>\n",
       "    .dataframe tbody tr th:only-of-type {\n",
       "        vertical-align: middle;\n",
       "    }\n",
       "\n",
       "    .dataframe tbody tr th {\n",
       "        vertical-align: top;\n",
       "    }\n",
       "\n",
       "    .dataframe thead th {\n",
       "        text-align: right;\n",
       "    }\n",
       "</style>\n",
       "<table border=\"1\" class=\"dataframe\">\n",
       "  <thead>\n",
       "    <tr style=\"text-align: right;\">\n",
       "      <th></th>\n",
       "      <th>children</th>\n",
       "      <th>days_employed</th>\n",
       "      <th>dob_years</th>\n",
       "      <th>education_id</th>\n",
       "      <th>family_status_id</th>\n",
       "      <th>gender</th>\n",
       "      <th>income_type</th>\n",
       "      <th>debt</th>\n",
       "      <th>total_income</th>\n",
       "      <th>total_income_category</th>\n",
       "      <th>purpose_category</th>\n",
       "    </tr>\n",
       "  </thead>\n",
       "  <tbody>\n",
       "    <tr>\n",
       "      <th>0</th>\n",
       "      <td>1</td>\n",
       "      <td>253875</td>\n",
       "      <td>42</td>\n",
       "      <td>0</td>\n",
       "      <td>0</td>\n",
       "      <td>F</td>\n",
       "      <td>сотрудник</td>\n",
       "      <td>0</td>\n",
       "      <td>253875.639453</td>\n",
       "      <td>B</td>\n",
       "      <td>операции с недвижимостью</td>\n",
       "    </tr>\n",
       "    <tr>\n",
       "      <th>1</th>\n",
       "      <td>1</td>\n",
       "      <td>112080</td>\n",
       "      <td>36</td>\n",
       "      <td>1</td>\n",
       "      <td>0</td>\n",
       "      <td>F</td>\n",
       "      <td>сотрудник</td>\n",
       "      <td>0</td>\n",
       "      <td>112080.014102</td>\n",
       "      <td>C</td>\n",
       "      <td>операции с автомобилем</td>\n",
       "    </tr>\n",
       "    <tr>\n",
       "      <th>2</th>\n",
       "      <td>0</td>\n",
       "      <td>145885</td>\n",
       "      <td>33</td>\n",
       "      <td>1</td>\n",
       "      <td>0</td>\n",
       "      <td>M</td>\n",
       "      <td>сотрудник</td>\n",
       "      <td>0</td>\n",
       "      <td>145885.952297</td>\n",
       "      <td>C</td>\n",
       "      <td>операции с недвижимостью</td>\n",
       "    </tr>\n",
       "    <tr>\n",
       "      <th>3</th>\n",
       "      <td>3</td>\n",
       "      <td>267628</td>\n",
       "      <td>32</td>\n",
       "      <td>1</td>\n",
       "      <td>0</td>\n",
       "      <td>M</td>\n",
       "      <td>сотрудник</td>\n",
       "      <td>0</td>\n",
       "      <td>267628.550329</td>\n",
       "      <td>B</td>\n",
       "      <td>получение образования</td>\n",
       "    </tr>\n",
       "    <tr>\n",
       "      <th>4</th>\n",
       "      <td>0</td>\n",
       "      <td>158616</td>\n",
       "      <td>53</td>\n",
       "      <td>1</td>\n",
       "      <td>1</td>\n",
       "      <td>F</td>\n",
       "      <td>пенсионер</td>\n",
       "      <td>0</td>\n",
       "      <td>158616.077870</td>\n",
       "      <td>C</td>\n",
       "      <td>проведение свадьбы</td>\n",
       "    </tr>\n",
       "  </tbody>\n",
       "</table>\n",
       "</div>"
      ],
      "text/plain": [
       "   children  days_employed  dob_years  education_id  family_status_id gender  \\\n",
       "0         1         253875         42             0                 0      F   \n",
       "1         1         112080         36             1                 0      F   \n",
       "2         0         145885         33             1                 0      M   \n",
       "3         3         267628         32             1                 0      M   \n",
       "4         0         158616         53             1                 1      F   \n",
       "\n",
       "  income_type  debt   total_income total_income_category  \\\n",
       "0   сотрудник     0  253875.639453                     B   \n",
       "1   сотрудник     0  112080.014102                     C   \n",
       "2   сотрудник     0  145885.952297                     C   \n",
       "3   сотрудник     0  267628.550329                     B   \n",
       "4   пенсионер     0  158616.077870                     C   \n",
       "\n",
       "           purpose_category  \n",
       "0  операции с недвижимостью  \n",
       "1    операции с автомобилем  \n",
       "2  операции с недвижимостью  \n",
       "3     получение образования  \n",
       "4        проведение свадьбы  "
      ]
     },
     "metadata": {},
     "output_type": "display_data"
    }
   ],
   "source": [
    "display(df.head())"
   ]
  },
  {
   "cell_type": "markdown",
   "id": "87c6fc9d",
   "metadata": {},
   "source": [
    "Проводить аналогичную декомпозицию со столбцами `total_income` и `total_income_category` в **пункте 2.6**  не имеет особого смысла, т.к. в этом случае мы потеряем прямой доступ к расчётным данным в лице `total_income` и процесс анализа будет затруднён."
   ]
  },
  {
   "cell_type": "markdown",
   "id": "19924239",
   "metadata": {},
   "source": [
    "Теперь визуализируем результаты. Создадим сводную таблицу при помощи метода `pivot_table()`. \n",
    "Передадим ей следующие аргументы:\n",
    "* `income_type`- в качестве индексов\n",
    "* `purpose_category`- в качестве наименований столбцов\n",
    "* `total_income` - в качестве значений, которые будут отражены в таблице\n",
    "* `mean()` - в качестве агрегатной функции, которая будет применена к значениям таблицы\n",
    "\n",
    "Метод `mean()` был выбран по причине, аналогичной причине, указанной в **пункте 2.6**:"
   ]
  },
  {
   "cell_type": "code",
   "execution_count": 55,
   "id": "348e1f0d",
   "metadata": {},
   "outputs": [
    {
     "data": {
      "text/html": [
       "<div>\n",
       "<style scoped>\n",
       "    .dataframe tbody tr th:only-of-type {\n",
       "        vertical-align: middle;\n",
       "    }\n",
       "\n",
       "    .dataframe tbody tr th {\n",
       "        vertical-align: top;\n",
       "    }\n",
       "\n",
       "    .dataframe thead th {\n",
       "        text-align: right;\n",
       "    }\n",
       "</style>\n",
       "<table border=\"1\" class=\"dataframe\">\n",
       "  <thead>\n",
       "    <tr style=\"text-align: right;\">\n",
       "      <th>purpose_category</th>\n",
       "      <th>операции с автомобилем</th>\n",
       "      <th>операции с недвижимостью</th>\n",
       "      <th>получение образования</th>\n",
       "      <th>проведение свадьбы</th>\n",
       "    </tr>\n",
       "    <tr>\n",
       "      <th>income_type</th>\n",
       "      <th></th>\n",
       "      <th></th>\n",
       "      <th></th>\n",
       "      <th></th>\n",
       "    </tr>\n",
       "  </thead>\n",
       "  <tbody>\n",
       "    <tr>\n",
       "      <th>безработный</th>\n",
       "      <td>NaN</td>\n",
       "      <td>131339.751676</td>\n",
       "      <td>NaN</td>\n",
       "      <td>NaN</td>\n",
       "    </tr>\n",
       "    <tr>\n",
       "      <th>в декрете</th>\n",
       "      <td>53829.130729</td>\n",
       "      <td>NaN</td>\n",
       "      <td>NaN</td>\n",
       "      <td>NaN</td>\n",
       "    </tr>\n",
       "    <tr>\n",
       "      <th>госслужащий</th>\n",
       "      <td>167519.201968</td>\n",
       "      <td>168317.340644</td>\n",
       "      <td>170505.104124</td>\n",
       "      <td>171204.086554</td>\n",
       "    </tr>\n",
       "    <tr>\n",
       "      <th>компаньон</th>\n",
       "      <td>201275.930625</td>\n",
       "      <td>202543.002371</td>\n",
       "      <td>188835.106505</td>\n",
       "      <td>200091.536920</td>\n",
       "    </tr>\n",
       "    <tr>\n",
       "      <th>пенсионер</th>\n",
       "      <td>133553.726002</td>\n",
       "      <td>134913.528145</td>\n",
       "      <td>136138.185291</td>\n",
       "      <td>138445.807202</td>\n",
       "    </tr>\n",
       "    <tr>\n",
       "      <th>предприниматель</th>\n",
       "      <td>NaN</td>\n",
       "      <td>499163.144947</td>\n",
       "      <td>NaN</td>\n",
       "      <td>499163.144947</td>\n",
       "    </tr>\n",
       "    <tr>\n",
       "      <th>сотрудник</th>\n",
       "      <td>159100.948861</td>\n",
       "      <td>160894.961905</td>\n",
       "      <td>158802.712226</td>\n",
       "      <td>155575.858421</td>\n",
       "    </tr>\n",
       "    <tr>\n",
       "      <th>студент</th>\n",
       "      <td>NaN</td>\n",
       "      <td>98201.625314</td>\n",
       "      <td>NaN</td>\n",
       "      <td>NaN</td>\n",
       "    </tr>\n",
       "  </tbody>\n",
       "</table>\n",
       "</div>"
      ],
      "text/plain": [
       "purpose_category  операции с автомобилем  операции с недвижимостью  \\\n",
       "income_type                                                          \n",
       "безработный                          NaN             131339.751676   \n",
       "в декрете                   53829.130729                       NaN   \n",
       "госслужащий                167519.201968             168317.340644   \n",
       "компаньон                  201275.930625             202543.002371   \n",
       "пенсионер                  133553.726002             134913.528145   \n",
       "предприниматель                      NaN             499163.144947   \n",
       "сотрудник                  159100.948861             160894.961905   \n",
       "студент                              NaN              98201.625314   \n",
       "\n",
       "purpose_category  получение образования  проведение свадьбы  \n",
       "income_type                                                  \n",
       "безработный                         NaN                 NaN  \n",
       "в декрете                           NaN                 NaN  \n",
       "госслужащий               170505.104124       171204.086554  \n",
       "компаньон                 188835.106505       200091.536920  \n",
       "пенсионер                 136138.185291       138445.807202  \n",
       "предприниматель                     NaN       499163.144947  \n",
       "сотрудник                 158802.712226       155575.858421  \n",
       "студент                             NaN                 NaN  "
      ]
     },
     "metadata": {},
     "output_type": "display_data"
    }
   ],
   "source": [
    "purpose_pivot = df.pivot_table(index='income_type',\n",
    "                             columns='purpose_category',\n",
    "                             values='total_income',\n",
    "                             aggfunc='mean')\n",
    "display(purpose_pivot)"
   ]
  },
  {
   "cell_type": "markdown",
   "id": "ee0a0ea1",
   "metadata": {},
   "source": [
    "Здесь мы можем наблюдать интересную закономерность. В то время, как у госслужащих, компаньонов, пенсионеров и сотрудников цели кредитования разнятся, иные категории граждан берут кредиты только на конкретные цели. Например:\n",
    "* граждане без работы и студенты сосредоточены исключительно на покупке жилья,\n",
    "* предприниматели - на приобретении недвижимости и проведении свадьбы,\n",
    "* люди в декретном отпуске - на покупке автомобиля."
   ]
  },
  {
   "cell_type": "markdown",
   "id": "e2329847",
   "metadata": {},
   "source": [
    "**Промежуточные выводы**\n",
    "\n",
    "Предобработка выявила следующие проблемы в данных:\n",
    "* пропущенные значения\n",
    "* аномалии (отрицательные значения)\n",
    "* неудобный тип представления данных\n",
    "* дубликаты - явные и неявные\n",
    "\n",
    "Мы откорректировали аномалии, превратив их в абсолютные значения, и изменили типы данных, чтобы упростить работу с таблицей. Без дубликатов исследование станет более точным. Пропуски мы заменили на медианные значения с целью сохранения правдоподобности данных.\n",
    "\n",
    "Кроме того, для упрощения дальнейшего анализа было принято решение о декомпозиции исходного датафрейма и выделения из него вспомогательных \"словарей\" с расшифровками.\n",
    "\n",
    "Также мы разнесли данные по доходам и целям по соответствующим категориям и визуализировали результаты в виде сводных таблиц. В случае целей кредитования мы провели дополнительную декомпозицию датафрейма с выделением соответствующего \"словаря\".\n",
    "\n",
    "Уже на этапе предобработки мы наблюдали некоторые закономерности в данных:\n",
    "* относительно доходов:\n",
    "1. Доходы студентов и лиц в декрете относятся к категории 'C' (от пятидесяти до двухсот тысяч включительно).\n",
    "2. Доходы лиц без работы относятся к двум категориям - 'C' и 'B' (т.е. от пятидесяти тысяч до одного миллиона включительно). Это может говорить как о неправдоподобности предоставления данных заёмщиками, так и о наличии дополнительных, не указанных в таблице источников дохода. \n",
    "    \n",
    "    В любом случае, по представленным данным сложно судить однозначно, необходим запрос дополнительной информации.\n",
    "\n",
    "* относительно целей:\n",
    "1. Граждане без работы и студенты сосредоточены исключительно на покупке жилья.\n",
    "2. Люди в декретном отпуске заинтересованы в покупке автомобиля.\n",
    "3. Предприниматели берут кредиты на приобретение недвижимости и проведение свадьбы.\n",
    "\n",
    "Прежде, чем приступать к проверке наших гипотез, необходимо осуществить ещё один дополнительный шаг - и выяснить, можно ли опираться на данные столбца `income_type` в своих выводах."
   ]
  },
  {
   "cell_type": "markdown",
   "id": "e4401636",
   "metadata": {},
   "source": [
    "## Исследование типов занятости\n",
    "\n",
    "Для того, чтобы понять, являются ли данные в столбце `income_type` статистически значимыми, посмотрим на распределение его значений. Сделаем это при помощи метода `value_counts()`:"
   ]
  },
  {
   "cell_type": "code",
   "execution_count": 56,
   "id": "dfa35599",
   "metadata": {},
   "outputs": [
    {
     "data": {
      "text/plain": [
       "сотрудник          11084\n",
       "компаньон           5078\n",
       "пенсионер           3829\n",
       "госслужащий         1457\n",
       "предприниматель        2\n",
       "безработный            2\n",
       "в декрете              1\n",
       "студент                1\n",
       "Name: income_type, dtype: int64"
      ]
     },
     "execution_count": 56,
     "metadata": {},
     "output_type": "execute_result"
    }
   ],
   "source": [
    "df.income_type.value_counts()"
   ]
  },
  {
   "cell_type": "markdown",
   "id": "944cf707",
   "metadata": {},
   "source": [
    "**Промежуточные выводы**\n",
    "\n",
    "Мы видим, что некоторые категории заёмщиков - предприниматели, безработные, лица в декрете и студенты - представлены в крайне малом количестве относительно всех остальных групп граждан. Это означает, что при имеющихся данных включать в дальнейший анализ все типы занятости не имеет смысла - в результате мы получим искаженные данные, противоречащие статистике.\n",
    "\n",
    "Если мы хотим в дальнейшем проводить анализ с участием типов занятости, то лучшим решением будет уточнение и обогащение набора данных так, чтобы эти четыре категории заёмщиков были представлены в более полном виде."
   ]
  },
  {
   "cell_type": "markdown",
   "id": "c476ac7b",
   "metadata": {},
   "source": [
    "## Проверка гипотез"
   ]
  },
  {
   "cell_type": "markdown",
   "id": "d9d5d60f",
   "metadata": {},
   "source": [
    "### Влияние количества детей на возврат кредита\n",
    "\n",
    "Напомним, первая гипотеза звучит следующим образом:\n",
    "\n",
    "*Для возврата кредита в срок важен факт наличия хотя бы одного ребенка*.\n",
    "\n",
    "Проверим первое предположение при помощи сводной таблицы. Передадим методу `pivot_table()` следующие аргументы:\n",
    "* `children`- в качестве индексов\n",
    "* `debt`- в качестве наименований столбцов\n",
    "* `dob_years` - в качестве значений, которые будут отражены в таблице\n",
    "* `count()` - в качестве агрегатной функции, которая будет применена к значениям таблицы\n",
    "\n",
    "Таким образом мы рассчитаем количество людей с разным количеством детей, имеющих или не имеющих банковские задолженности:"
   ]
  },
  {
   "cell_type": "code",
   "execution_count": 57,
   "id": "623c4bdc",
   "metadata": {},
   "outputs": [
    {
     "data": {
      "text/html": [
       "<div>\n",
       "<style scoped>\n",
       "    .dataframe tbody tr th:only-of-type {\n",
       "        vertical-align: middle;\n",
       "    }\n",
       "\n",
       "    .dataframe tbody tr th {\n",
       "        vertical-align: top;\n",
       "    }\n",
       "\n",
       "    .dataframe thead th {\n",
       "        text-align: right;\n",
       "    }\n",
       "</style>\n",
       "<table border=\"1\" class=\"dataframe\">\n",
       "  <thead>\n",
       "    <tr style=\"text-align: right;\">\n",
       "      <th>debt</th>\n",
       "      <th>0</th>\n",
       "      <th>1</th>\n",
       "    </tr>\n",
       "    <tr>\n",
       "      <th>children</th>\n",
       "      <th></th>\n",
       "      <th></th>\n",
       "    </tr>\n",
       "  </thead>\n",
       "  <tbody>\n",
       "    <tr>\n",
       "      <th>0</th>\n",
       "      <td>13028.0</td>\n",
       "      <td>1063.0</td>\n",
       "    </tr>\n",
       "    <tr>\n",
       "      <th>1</th>\n",
       "      <td>4410.0</td>\n",
       "      <td>445.0</td>\n",
       "    </tr>\n",
       "    <tr>\n",
       "      <th>2</th>\n",
       "      <td>1926.0</td>\n",
       "      <td>202.0</td>\n",
       "    </tr>\n",
       "    <tr>\n",
       "      <th>3</th>\n",
       "      <td>303.0</td>\n",
       "      <td>27.0</td>\n",
       "    </tr>\n",
       "    <tr>\n",
       "      <th>4</th>\n",
       "      <td>37.0</td>\n",
       "      <td>4.0</td>\n",
       "    </tr>\n",
       "    <tr>\n",
       "      <th>5</th>\n",
       "      <td>9.0</td>\n",
       "      <td>NaN</td>\n",
       "    </tr>\n",
       "  </tbody>\n",
       "</table>\n",
       "</div>"
      ],
      "text/plain": [
       "debt            0       1\n",
       "children                 \n",
       "0         13028.0  1063.0\n",
       "1          4410.0   445.0\n",
       "2          1926.0   202.0\n",
       "3           303.0    27.0\n",
       "4            37.0     4.0\n",
       "5             9.0     NaN"
      ]
     },
     "metadata": {},
     "output_type": "display_data"
    }
   ],
   "source": [
    "children_pivot = df.pivot_table(index='children',\n",
    "                            columns='debt',\n",
    "                            values='dob_years',\n",
    "                            aggfunc='count')\n",
    "display(children_pivot)"
   ]
  },
  {
   "cell_type": "markdown",
   "id": "38bfb33f",
   "metadata": {},
   "source": [
    "#### Выводы:\n",
    "\n",
    "Данные демонстрируют следующие особенности:\n",
    "* у подавляющего большинства заёмщиков нет детей и нет задолженностей;\n",
    "* примерно одна десятая часть всех заёмщиков имеет задолженности, вне зависимости от количества детей;\n",
    "* у заёмщиков с пятью детьми задолженности отсутствуют - но общее количество таких людей крайне мало и не может служить ориентиром.\n",
    "\n",
    "Таким образом, данную гипотезу можно полностью опровергнуть."
   ]
  },
  {
   "cell_type": "markdown",
   "id": "ffdaf857",
   "metadata": {},
   "source": [
    "### Влияние семейного положения на возврат кредита\n",
    "\n",
    "Проверим вторую гипотезу:\n",
    "\n",
    "*Заемщики, находящиеся в официальном браке, более склонны к своевременному погашению кредита*.\n",
    "\n",
    "Осуществим это также при помощи сводной таблицы. Передадим методу `pivot_table()` следующие аргументы:\n",
    "* `family_status_id`- в качестве индексов\n",
    "* `debt`- в качестве наименований столбцов\n",
    "* `dob_years` - в качестве значений, которые будут отражены в таблице\n",
    "* `count()` - в качестве агрегатной функции, которая будет применена к значениям таблицы\n",
    "\n",
    "Таким образом мы рассчитаем количество людей с разным семейным положением, имеющих или не имеющих банковские задолженности:"
   ]
  },
  {
   "cell_type": "code",
   "execution_count": 58,
   "id": "ed539ac9",
   "metadata": {},
   "outputs": [
    {
     "data": {
      "text/html": [
       "<div>\n",
       "<style scoped>\n",
       "    .dataframe tbody tr th:only-of-type {\n",
       "        vertical-align: middle;\n",
       "    }\n",
       "\n",
       "    .dataframe tbody tr th {\n",
       "        vertical-align: top;\n",
       "    }\n",
       "\n",
       "    .dataframe thead th {\n",
       "        text-align: right;\n",
       "    }\n",
       "</style>\n",
       "<table border=\"1\" class=\"dataframe\">\n",
       "  <thead>\n",
       "    <tr style=\"text-align: right;\">\n",
       "      <th>debt</th>\n",
       "      <th>0</th>\n",
       "      <th>1</th>\n",
       "    </tr>\n",
       "    <tr>\n",
       "      <th>family_status_id</th>\n",
       "      <th></th>\n",
       "      <th></th>\n",
       "    </tr>\n",
       "  </thead>\n",
       "  <tbody>\n",
       "    <tr>\n",
       "      <th>0</th>\n",
       "      <td>11408</td>\n",
       "      <td>931</td>\n",
       "    </tr>\n",
       "    <tr>\n",
       "      <th>1</th>\n",
       "      <td>3763</td>\n",
       "      <td>388</td>\n",
       "    </tr>\n",
       "    <tr>\n",
       "      <th>2</th>\n",
       "      <td>896</td>\n",
       "      <td>63</td>\n",
       "    </tr>\n",
       "    <tr>\n",
       "      <th>3</th>\n",
       "      <td>1110</td>\n",
       "      <td>85</td>\n",
       "    </tr>\n",
       "    <tr>\n",
       "      <th>4</th>\n",
       "      <td>2536</td>\n",
       "      <td>274</td>\n",
       "    </tr>\n",
       "  </tbody>\n",
       "</table>\n",
       "</div>"
      ],
      "text/plain": [
       "debt                  0    1\n",
       "family_status_id            \n",
       "0                 11408  931\n",
       "1                  3763  388\n",
       "2                   896   63\n",
       "3                  1110   85\n",
       "4                  2536  274"
      ]
     },
     "metadata": {},
     "output_type": "display_data"
    }
   ],
   "source": [
    "family_pivot = df.pivot_table(index='family_status_id',\n",
    "                            columns='debt',\n",
    "                            values='dob_years',\n",
    "                            aggfunc='count')\n",
    "display(family_pivot)"
   ]
  },
  {
   "cell_type": "markdown",
   "id": "6ceddba7",
   "metadata": {},
   "source": [
    "Мы видим, что подавляющее большинство людей, не имеющих задолженностей по кредиту, относятся с категории '0' в графе `family_status_id`. Запросим информацию по этому идентификатору из \"словаря\" `family_status_df`:"
   ]
  },
  {
   "cell_type": "code",
   "execution_count": 59,
   "id": "efa2bf14",
   "metadata": {},
   "outputs": [
    {
     "data": {
      "text/plain": [
       "0    женат / замужем\n",
       "Name: family_status, dtype: object"
      ]
     },
     "execution_count": 59,
     "metadata": {},
     "output_type": "execute_result"
    }
   ],
   "source": [
    "family_status_df.loc[family_status_df.family_status_id == 0, 'family_status']"
   ]
  },
  {
   "cell_type": "markdown",
   "id": "459cd058",
   "metadata": {},
   "source": [
    "Также запросим информацию по категории '1' из \"словаря\" `family_status_df`:"
   ]
  },
  {
   "cell_type": "code",
   "execution_count": 60,
   "id": "c2bd5d48",
   "metadata": {},
   "outputs": [
    {
     "data": {
      "text/plain": [
       "1    гражданский брак\n",
       "Name: family_status, dtype: object"
      ]
     },
     "execution_count": 60,
     "metadata": {},
     "output_type": "execute_result"
    }
   ],
   "source": [
    "family_status_df.loc[family_status_df.family_status_id == 1, 'family_status']"
   ]
  },
  {
   "cell_type": "markdown",
   "id": "caa410e3",
   "metadata": {},
   "source": [
    "И наконец запросим оттуда же информацию по категории '4'`:"
   ]
  },
  {
   "cell_type": "code",
   "execution_count": 61,
   "id": "1c0413b7",
   "metadata": {},
   "outputs": [
    {
     "data": {
      "text/plain": [
       "4    Не женат / не замужем\n",
       "Name: family_status, dtype: object"
      ]
     },
     "execution_count": 61,
     "metadata": {},
     "output_type": "execute_result"
    }
   ],
   "source": [
    "family_status_df.loc[family_status_df.family_status_id == 4, 'family_status']"
   ]
  },
  {
   "cell_type": "markdown",
   "id": "35ef8829",
   "metadata": {},
   "source": [
    "#### Выводы:\n",
    "\n",
    "В данных представлено, что:\n",
    "* большинство заёмщиков без кредитных задолженностей находятся в официальном браке;\n",
    "* многие заёмщики состоят в гражданском браке или вовсе не состоят в отношениях;\n",
    "* примерно одна десятая часть всех заёмщиков имеет задолженности, вне зависимости от семейного статуса.\n",
    "\n",
    "Таким образом, гипотеза подтверждена частично:\n",
    "* с одной стороны - люди, находящиеся в браке, действительно склонны возвращать кредиты в срок;\n",
    "* с другой - одна десятая часть заёмщиков имеет кредитные задолженности, вне зависимости от вышеназванных категорий."
   ]
  },
  {
   "cell_type": "markdown",
   "id": "d0a49fbb",
   "metadata": {},
   "source": [
    "### Влияние уровня дохода на возврат кредита\n",
    "\n",
    "Настала очередь третьей гипотезы:\n",
    "\n",
    "*Средний или высокий уровень дохода также напрямую увеличивает вероятность погашения кредита*.\n",
    "\n",
    "Построим ещё одну сводную таблицу. Передадим методу `pivot_table()` следующие аргументы:\n",
    "* `total_income_category`- в качестве индексов\n",
    "* `debt`- в качестве наименований столбцов\n",
    "* `dob_years` - в качестве значений, которые будут отражены в таблице\n",
    "* `count()` - в качестве агрегатной функции, которая будет применена к значениям таблицы\n",
    "\n",
    "Таким образом мы рассчитаем количество людей с разным уровнем дохода, имеющих или не имеющих банковские задолженности:"
   ]
  },
  {
   "cell_type": "code",
   "execution_count": 62,
   "id": "7429efdb",
   "metadata": {},
   "outputs": [
    {
     "data": {
      "text/html": [
       "<div>\n",
       "<style scoped>\n",
       "    .dataframe tbody tr th:only-of-type {\n",
       "        vertical-align: middle;\n",
       "    }\n",
       "\n",
       "    .dataframe tbody tr th {\n",
       "        vertical-align: top;\n",
       "    }\n",
       "\n",
       "    .dataframe thead th {\n",
       "        text-align: right;\n",
       "    }\n",
       "</style>\n",
       "<table border=\"1\" class=\"dataframe\">\n",
       "  <thead>\n",
       "    <tr style=\"text-align: right;\">\n",
       "      <th>debt</th>\n",
       "      <th>0</th>\n",
       "      <th>1</th>\n",
       "    </tr>\n",
       "    <tr>\n",
       "      <th>total_income_category</th>\n",
       "      <th></th>\n",
       "      <th></th>\n",
       "    </tr>\n",
       "  </thead>\n",
       "  <tbody>\n",
       "    <tr>\n",
       "      <th>A</th>\n",
       "      <td>23</td>\n",
       "      <td>2</td>\n",
       "    </tr>\n",
       "    <tr>\n",
       "      <th>B</th>\n",
       "      <td>4686</td>\n",
       "      <td>356</td>\n",
       "    </tr>\n",
       "    <tr>\n",
       "      <th>C</th>\n",
       "      <td>14655</td>\n",
       "      <td>1360</td>\n",
       "    </tr>\n",
       "    <tr>\n",
       "      <th>D</th>\n",
       "      <td>329</td>\n",
       "      <td>21</td>\n",
       "    </tr>\n",
       "    <tr>\n",
       "      <th>E</th>\n",
       "      <td>20</td>\n",
       "      <td>2</td>\n",
       "    </tr>\n",
       "  </tbody>\n",
       "</table>\n",
       "</div>"
      ],
      "text/plain": [
       "debt                       0     1\n",
       "total_income_category             \n",
       "A                         23     2\n",
       "B                       4686   356\n",
       "C                      14655  1360\n",
       "D                        329    21\n",
       "E                         20     2"
      ]
     },
     "metadata": {},
     "output_type": "display_data"
    }
   ],
   "source": [
    "income_level_pivot = df.pivot_table(index='total_income_category',\n",
    "                            columns='debt',\n",
    "                            values='dob_years',\n",
    "                            aggfunc='count')\n",
    "display(income_level_pivot)"
   ]
  },
  {
   "cell_type": "markdown",
   "id": "9726d9d9",
   "metadata": {},
   "source": [
    "Уровень дохода подавляющего большинства заёмщиков относится к категории 'C'. Если мы обратимся к **пункту 2.6**, то выясним, что в денежном эквиваленте он равносилен доходу от пятидесяти до двухсот тысяч включительно. Можно сказать, это средний уровень заработной платы по Центральному региону РФ."
   ]
  },
  {
   "cell_type": "markdown",
   "id": "053a8574",
   "metadata": {},
   "source": [
    "#### Выводы:\n",
    "\n",
    "Исходя из представленных данных:\n",
    "* подавляющее большинство заёмщиков без кредитных задолженностей имеют средний уровень дохода;\n",
    "* многие заёмщики имеют уровень дохода выше среднего;\n",
    "* примерно одна десятая часть всех заёмщиков имеет задолженности, вне зависимости от уровня доходов.\n",
    "\n",
    "Таким образом, гипотеза подтверждена частично:\n",
    "* с одной стороны - средний уровень дохода влияет на факт погашения кредита в срок;\n",
    "* с другой - высокий уровень дохода не оказывает на это сильного влияния;\n",
    "* и помимо этого, одна десятая часть заёмщиков имеет кредитные задолженности, вне зависимости от вышеназванных категорий."
   ]
  },
  {
   "cell_type": "markdown",
   "id": "fa0c77a7",
   "metadata": {},
   "source": [
    "### Влияние целей кредитования на возврат кредита\n",
    "\n",
    "И наконец настала очередь последней гипотезы:\n",
    "\n",
    "*Кредиты на образовательные цели и на покупку недвижимости с большей вероятностью будут выплачены в срок, нежели кредиты на автомобили и на проведение свадьбы*.\n",
    "\n",
    "Выведем на экран очередную сводную таблицу. Передадим методу `pivot_table()` следующие аргументы:\n",
    "* `purpose_category`- в качестве индексов\n",
    "* `debt`- в качестве наименований столбцов\n",
    "* `dob_years` - в качестве значений, которые будут отражены в таблице\n",
    "* `count()` - в качестве агрегатной функции, которая будет применена к значениям таблицы\n",
    "\n",
    "Таким образом мы рассчитаем количество людей с разными целями кредитования, имеющих или не имеющих банковские задолженности:"
   ]
  },
  {
   "cell_type": "code",
   "execution_count": 63,
   "id": "a5e7c9ce",
   "metadata": {},
   "outputs": [
    {
     "data": {
      "text/html": [
       "<div>\n",
       "<style scoped>\n",
       "    .dataframe tbody tr th:only-of-type {\n",
       "        vertical-align: middle;\n",
       "    }\n",
       "\n",
       "    .dataframe tbody tr th {\n",
       "        vertical-align: top;\n",
       "    }\n",
       "\n",
       "    .dataframe thead th {\n",
       "        text-align: right;\n",
       "    }\n",
       "</style>\n",
       "<table border=\"1\" class=\"dataframe\">\n",
       "  <thead>\n",
       "    <tr style=\"text-align: right;\">\n",
       "      <th>debt</th>\n",
       "      <th>0</th>\n",
       "      <th>1</th>\n",
       "    </tr>\n",
       "    <tr>\n",
       "      <th>purpose_category</th>\n",
       "      <th></th>\n",
       "      <th></th>\n",
       "    </tr>\n",
       "  </thead>\n",
       "  <tbody>\n",
       "    <tr>\n",
       "      <th>операции с автомобилем</th>\n",
       "      <td>3903</td>\n",
       "      <td>403</td>\n",
       "    </tr>\n",
       "    <tr>\n",
       "      <th>операции с недвижимостью</th>\n",
       "      <td>10029</td>\n",
       "      <td>782</td>\n",
       "    </tr>\n",
       "    <tr>\n",
       "      <th>получение образования</th>\n",
       "      <td>3643</td>\n",
       "      <td>370</td>\n",
       "    </tr>\n",
       "    <tr>\n",
       "      <th>проведение свадьбы</th>\n",
       "      <td>2138</td>\n",
       "      <td>186</td>\n",
       "    </tr>\n",
       "  </tbody>\n",
       "</table>\n",
       "</div>"
      ],
      "text/plain": [
       "debt                          0    1\n",
       "purpose_category                    \n",
       "операции с автомобилем     3903  403\n",
       "операции с недвижимостью  10029  782\n",
       "получение образования      3643  370\n",
       "проведение свадьбы         2138  186"
      ]
     },
     "metadata": {},
     "output_type": "display_data"
    }
   ],
   "source": [
    "lending_purpose_pivot = df.pivot_table(index='purpose_category',\n",
    "                            columns='debt',\n",
    "                            values='dob_years',\n",
    "                            aggfunc='count')\n",
    "display(lending_purpose_pivot)"
   ]
  },
  {
   "cell_type": "markdown",
   "id": "bf3f27c0",
   "metadata": {},
   "source": [
    "#### Выводы:\n",
    "\n",
    "В данных прослеживаются закономерности:\n",
    "* большинство кредитов оформляются на недвижимость (ипотека) и выплачиваются в срок;\n",
    "* примерно одна десятая часть всех заёмщиков имеет задолженности, вне зависимости от категории кредитования.\n",
    "\n",
    "Т.е. наша гипотеза подтверждается частично:\n",
    "* ипотечное кредитование имеет больше шансов на своевременный возврат кредита (вероятно, это связано с длительным сроком его предоставления);\n",
    "* одна десятая часть заёмщиков имеет кредитные задолженности, вне зависимости от вышеназванных категорий."
   ]
  },
  {
   "cell_type": "markdown",
   "id": "2ca49f53",
   "metadata": {},
   "source": [
    "## Итоги исследования:"
   ]
  },
  {
   "cell_type": "markdown",
   "id": "980d8bf0",
   "metadata": {},
   "source": [
    "Мы проверили четыре гипотезы и установили:\n",
    "\n",
    "1. Количество детей у заёмщика не оказывает влияния на факт своевременного закрытия кредита.\n",
    "\n",
    "    Первая гипотеза была опровергнута.\n",
    "    \n",
    "    \n",
    "2. Люди, находящиеся в зарегистрированном браке, действительно склонны возвращать кредиты в срок.\n",
    "    \n",
    "    Вторая гипотеза была частично подтверждена.\n",
    "    \n",
    "    \n",
    "3. Средний уровень дохода также напрямую увеличивает вероятность погашения кредита.\n",
    "    \n",
    "    Третья гипотеза была частично подтверждена.\n",
    "    \n",
    "    \n",
    "4. Ипотечные кредиты с большей вероятностью будут выплачены в срок.\n",
    "\n",
    "    Четвёртая гипотеза была частично подтверждена.\n",
    "    \n",
    "На основании предоставленных данных мы можем нарисовать условный \"портрет\" типичного благонадёжного заёмщика: это человек, имеющий средний уровень дохода, состоящий в официальном браке, без детей, который оформляет ипотечное кредитование. Соответствие любой из вышеназванных характеристик может рассматриваться как условное подтверждение благонадёжности заёмщика.\n",
    "\n",
    "С другой стороны, в модели кредитного скоринга непременно должен быть учтён факт того, что одна десятая часть всех заёмщиков вне зависимости от каких-либо категорий имеет задолженности по кредитам. Проведённое выше исследование это полностью подтверждает. Это - довольно значительное количество людей, поэтому банку рекомендуется спланировать политику по снижению данной тенденции."
   ]
  }
 ],
 "metadata": {
  "ExecuteTimeLog": [
   {
    "duration": 660,
    "start_time": "2022-05-06T09:26:20.183Z"
   },
   {
    "duration": 6,
    "start_time": "2022-05-06T09:27:57.640Z"
   },
   {
    "duration": 74,
    "start_time": "2022-05-06T09:30:59.624Z"
   },
   {
    "duration": 42,
    "start_time": "2022-05-06T09:33:37.262Z"
   },
   {
    "duration": 17,
    "start_time": "2022-05-06T09:35:59.095Z"
   },
   {
    "duration": 18,
    "start_time": "2022-05-06T09:36:14.498Z"
   },
   {
    "duration": 19,
    "start_time": "2022-05-06T09:38:34.493Z"
   },
   {
    "duration": 27,
    "start_time": "2022-05-06T09:39:45.158Z"
   },
   {
    "duration": 58,
    "start_time": "2022-05-06T13:26:12.490Z"
   },
   {
    "duration": 434,
    "start_time": "2022-05-06T13:26:19.447Z"
   },
   {
    "duration": 66,
    "start_time": "2022-05-06T13:26:22.366Z"
   },
   {
    "duration": 20,
    "start_time": "2022-05-06T13:26:26.049Z"
   },
   {
    "duration": 16,
    "start_time": "2022-05-06T13:26:33.897Z"
   },
   {
    "duration": 42,
    "start_time": "2022-05-06T14:32:15.234Z"
   },
   {
    "duration": 16,
    "start_time": "2022-05-06T14:32:26.817Z"
   },
   {
    "duration": 69,
    "start_time": "2022-05-09T08:33:33.954Z"
   },
   {
    "duration": 798,
    "start_time": "2022-05-09T08:34:00.446Z"
   },
   {
    "duration": 4,
    "start_time": "2022-05-09T08:34:12.264Z"
   },
   {
    "duration": 89,
    "start_time": "2022-05-09T08:34:12.271Z"
   },
   {
    "duration": 27,
    "start_time": "2022-05-09T08:34:12.362Z"
   },
   {
    "duration": 18,
    "start_time": "2022-05-09T08:34:12.391Z"
   },
   {
    "duration": 31,
    "start_time": "2022-05-09T08:34:12.412Z"
   },
   {
    "duration": 5,
    "start_time": "2022-05-09T08:34:12.445Z"
   },
   {
    "duration": 15,
    "start_time": "2022-05-09T08:36:44.616Z"
   },
   {
    "duration": 35,
    "start_time": "2022-05-09T08:40:37.488Z"
   },
   {
    "duration": 21,
    "start_time": "2022-05-09T08:42:39.008Z"
   },
   {
    "duration": 31,
    "start_time": "2022-05-09T08:42:53.920Z"
   },
   {
    "duration": 12,
    "start_time": "2022-05-09T08:43:07.250Z"
   },
   {
    "duration": 12,
    "start_time": "2022-05-09T08:45:40.764Z"
   },
   {
    "duration": 8,
    "start_time": "2022-05-09T08:48:22.720Z"
   },
   {
    "duration": 12,
    "start_time": "2022-05-09T08:54:41.195Z"
   },
   {
    "duration": 9,
    "start_time": "2022-05-09T08:54:52.611Z"
   },
   {
    "duration": 11,
    "start_time": "2022-05-09T08:55:04.260Z"
   },
   {
    "duration": 9,
    "start_time": "2022-05-09T08:55:13.992Z"
   },
   {
    "duration": 7,
    "start_time": "2022-05-09T08:55:40.987Z"
   },
   {
    "duration": 11,
    "start_time": "2022-05-09T08:56:02.965Z"
   },
   {
    "duration": 100,
    "start_time": "2022-05-09T09:11:20.547Z"
   },
   {
    "duration": 8,
    "start_time": "2022-05-09T10:27:55.973Z"
   },
   {
    "duration": 14,
    "start_time": "2022-05-09T10:33:45.051Z"
   },
   {
    "duration": 99,
    "start_time": "2022-05-09T10:35:57.149Z"
   },
   {
    "duration": 10,
    "start_time": "2022-05-09T10:36:04.906Z"
   },
   {
    "duration": 14,
    "start_time": "2022-05-09T10:36:57.607Z"
   },
   {
    "duration": 13,
    "start_time": "2022-05-09T10:39:17.532Z"
   },
   {
    "duration": 10,
    "start_time": "2022-05-09T10:39:45.356Z"
   },
   {
    "duration": 11,
    "start_time": "2022-05-09T10:40:02.091Z"
   },
   {
    "duration": 10,
    "start_time": "2022-05-09T10:40:08.154Z"
   },
   {
    "duration": 7,
    "start_time": "2022-05-09T10:40:18.052Z"
   },
   {
    "duration": 9,
    "start_time": "2022-05-09T10:46:54.969Z"
   },
   {
    "duration": 8,
    "start_time": "2022-05-09T10:47:01.932Z"
   },
   {
    "duration": 6,
    "start_time": "2022-05-09T10:47:43.600Z"
   },
   {
    "duration": 8,
    "start_time": "2022-05-09T10:48:02.176Z"
   },
   {
    "duration": 9,
    "start_time": "2022-05-09T10:48:08.542Z"
   },
   {
    "duration": 10,
    "start_time": "2022-05-09T10:49:48.332Z"
   },
   {
    "duration": 12,
    "start_time": "2022-05-09T10:50:08.754Z"
   },
   {
    "duration": 8,
    "start_time": "2022-05-09T10:50:52.771Z"
   },
   {
    "duration": 51,
    "start_time": "2022-05-11T09:51:48.351Z"
   },
   {
    "duration": 391,
    "start_time": "2022-05-11T09:51:59.067Z"
   },
   {
    "duration": 81,
    "start_time": "2022-05-11T09:51:59.460Z"
   },
   {
    "duration": 20,
    "start_time": "2022-05-11T09:51:59.544Z"
   },
   {
    "duration": 14,
    "start_time": "2022-05-11T09:51:59.566Z"
   },
   {
    "duration": 17,
    "start_time": "2022-05-11T09:51:59.582Z"
   },
   {
    "duration": 14,
    "start_time": "2022-05-11T09:51:59.623Z"
   },
   {
    "duration": 9,
    "start_time": "2022-05-11T09:51:59.641Z"
   },
   {
    "duration": 9,
    "start_time": "2022-05-11T09:51:59.653Z"
   },
   {
    "duration": 111,
    "start_time": "2022-05-11T09:51:59.664Z"
   },
   {
    "duration": 0,
    "start_time": "2022-05-11T09:51:59.776Z"
   },
   {
    "duration": 0,
    "start_time": "2022-05-11T09:51:59.778Z"
   },
   {
    "duration": 0,
    "start_time": "2022-05-11T09:51:59.780Z"
   },
   {
    "duration": 8,
    "start_time": "2022-05-11T09:52:12.388Z"
   },
   {
    "duration": 10,
    "start_time": "2022-05-11T09:52:25.299Z"
   },
   {
    "duration": 4,
    "start_time": "2022-05-11T09:55:59.684Z"
   },
   {
    "duration": 11,
    "start_time": "2022-05-11T09:57:27.215Z"
   },
   {
    "duration": 9,
    "start_time": "2022-05-11T09:57:36.462Z"
   },
   {
    "duration": 6,
    "start_time": "2022-05-11T09:57:44.165Z"
   },
   {
    "duration": 13,
    "start_time": "2022-05-11T09:58:18.170Z"
   },
   {
    "duration": 7,
    "start_time": "2022-05-11T09:59:28.039Z"
   },
   {
    "duration": 529,
    "start_time": "2022-05-11T09:59:42.360Z"
   },
   {
    "duration": 91,
    "start_time": "2022-05-11T09:59:42.892Z"
   },
   {
    "duration": 38,
    "start_time": "2022-05-11T09:59:42.986Z"
   },
   {
    "duration": 13,
    "start_time": "2022-05-11T09:59:43.027Z"
   },
   {
    "duration": 16,
    "start_time": "2022-05-11T09:59:43.042Z"
   },
   {
    "duration": 10,
    "start_time": "2022-05-11T09:59:43.060Z"
   },
   {
    "duration": 8,
    "start_time": "2022-05-11T09:59:43.072Z"
   },
   {
    "duration": 46,
    "start_time": "2022-05-11T09:59:43.082Z"
   },
   {
    "duration": 9,
    "start_time": "2022-05-11T09:59:43.130Z"
   },
   {
    "duration": 21,
    "start_time": "2022-05-11T09:59:43.143Z"
   },
   {
    "duration": 5,
    "start_time": "2022-05-11T09:59:43.166Z"
   },
   {
    "duration": 19,
    "start_time": "2022-05-11T09:59:43.174Z"
   },
   {
    "duration": 12,
    "start_time": "2022-05-11T09:59:43.223Z"
   },
   {
    "duration": 7,
    "start_time": "2022-05-11T09:59:43.238Z"
   },
   {
    "duration": 83,
    "start_time": "2022-05-11T10:00:02.869Z"
   },
   {
    "duration": 16,
    "start_time": "2022-05-11T10:00:09.986Z"
   },
   {
    "duration": 10,
    "start_time": "2022-05-11T10:06:28.981Z"
   },
   {
    "duration": 471,
    "start_time": "2022-05-11T10:06:40.082Z"
   },
   {
    "duration": 75,
    "start_time": "2022-05-11T10:06:40.555Z"
   },
   {
    "duration": 21,
    "start_time": "2022-05-11T10:06:40.631Z"
   },
   {
    "duration": 13,
    "start_time": "2022-05-11T10:06:40.655Z"
   },
   {
    "duration": 18,
    "start_time": "2022-05-11T10:06:40.669Z"
   },
   {
    "duration": 40,
    "start_time": "2022-05-11T10:06:40.688Z"
   },
   {
    "duration": 9,
    "start_time": "2022-05-11T10:06:40.729Z"
   },
   {
    "duration": 12,
    "start_time": "2022-05-11T10:06:40.740Z"
   },
   {
    "duration": 9,
    "start_time": "2022-05-11T10:06:40.753Z"
   },
   {
    "duration": 11,
    "start_time": "2022-05-11T10:06:40.765Z"
   },
   {
    "duration": 9,
    "start_time": "2022-05-11T10:06:40.778Z"
   },
   {
    "duration": 42,
    "start_time": "2022-05-11T10:06:40.789Z"
   },
   {
    "duration": 13,
    "start_time": "2022-05-11T10:06:40.833Z"
   },
   {
    "duration": 7,
    "start_time": "2022-05-11T10:06:40.848Z"
   },
   {
    "duration": 204,
    "start_time": "2022-05-11T10:18:22.284Z"
   },
   {
    "duration": 199,
    "start_time": "2022-05-11T10:21:02.717Z"
   },
   {
    "duration": 10,
    "start_time": "2022-05-11T10:22:25.922Z"
   },
   {
    "duration": 6,
    "start_time": "2022-05-11T10:23:46.632Z"
   },
   {
    "duration": 4,
    "start_time": "2022-05-11T10:55:13.011Z"
   },
   {
    "duration": 12,
    "start_time": "2022-05-11T10:56:35.741Z"
   },
   {
    "duration": 53,
    "start_time": "2022-05-11T11:06:22.135Z"
   },
   {
    "duration": 448,
    "start_time": "2022-05-11T11:06:28.287Z"
   },
   {
    "duration": 91,
    "start_time": "2022-05-11T11:06:28.738Z"
   },
   {
    "duration": 23,
    "start_time": "2022-05-11T11:06:28.831Z"
   },
   {
    "duration": 15,
    "start_time": "2022-05-11T11:06:28.856Z"
   },
   {
    "duration": 23,
    "start_time": "2022-05-11T11:06:28.873Z"
   },
   {
    "duration": 41,
    "start_time": "2022-05-11T11:06:28.898Z"
   },
   {
    "duration": 7,
    "start_time": "2022-05-11T11:06:28.942Z"
   },
   {
    "duration": 8,
    "start_time": "2022-05-11T11:06:28.952Z"
   },
   {
    "duration": 33,
    "start_time": "2022-05-11T11:06:28.963Z"
   },
   {
    "duration": 10,
    "start_time": "2022-05-11T11:06:29.022Z"
   },
   {
    "duration": 16,
    "start_time": "2022-05-11T11:06:29.034Z"
   },
   {
    "duration": 4,
    "start_time": "2022-05-11T11:06:29.053Z"
   },
   {
    "duration": 18,
    "start_time": "2022-05-11T11:06:29.059Z"
   },
   {
    "duration": 8,
    "start_time": "2022-05-11T11:06:29.079Z"
   },
   {
    "duration": 37,
    "start_time": "2022-05-11T11:06:29.088Z"
   },
   {
    "duration": 6,
    "start_time": "2022-05-11T11:06:29.127Z"
   },
   {
    "duration": 14,
    "start_time": "2022-05-11T11:06:29.135Z"
   },
   {
    "duration": 11,
    "start_time": "2022-05-11T11:06:29.151Z"
   },
   {
    "duration": 6,
    "start_time": "2022-05-11T11:06:29.165Z"
   },
   {
    "duration": 39,
    "start_time": "2022-05-11T11:07:41.001Z"
   },
   {
    "duration": 24,
    "start_time": "2022-05-11T11:07:46.525Z"
   },
   {
    "duration": 425,
    "start_time": "2022-05-11T11:08:13.568Z"
   },
   {
    "duration": 74,
    "start_time": "2022-05-11T11:08:13.995Z"
   },
   {
    "duration": 21,
    "start_time": "2022-05-11T11:08:14.070Z"
   },
   {
    "duration": 15,
    "start_time": "2022-05-11T11:08:14.093Z"
   },
   {
    "duration": 26,
    "start_time": "2022-05-11T11:08:14.122Z"
   },
   {
    "duration": 15,
    "start_time": "2022-05-11T11:08:14.150Z"
   },
   {
    "duration": 13,
    "start_time": "2022-05-11T11:08:14.167Z"
   },
   {
    "duration": 45,
    "start_time": "2022-05-11T11:08:14.182Z"
   },
   {
    "duration": 21,
    "start_time": "2022-05-11T11:08:14.231Z"
   },
   {
    "duration": 9,
    "start_time": "2022-05-11T11:08:14.253Z"
   },
   {
    "duration": 15,
    "start_time": "2022-05-11T11:08:14.263Z"
   },
   {
    "duration": 4,
    "start_time": "2022-05-11T11:08:14.280Z"
   },
   {
    "duration": 47,
    "start_time": "2022-05-11T11:08:14.285Z"
   },
   {
    "duration": 17,
    "start_time": "2022-05-11T11:08:14.337Z"
   },
   {
    "duration": 9,
    "start_time": "2022-05-11T11:08:14.356Z"
   },
   {
    "duration": 19,
    "start_time": "2022-05-11T11:08:14.368Z"
   },
   {
    "duration": 38,
    "start_time": "2022-05-11T11:08:14.389Z"
   },
   {
    "duration": 35,
    "start_time": "2022-05-11T11:08:14.430Z"
   },
   {
    "duration": 19,
    "start_time": "2022-05-11T11:08:14.467Z"
   },
   {
    "duration": 16,
    "start_time": "2022-05-11T11:18:01.365Z"
   },
   {
    "duration": 498,
    "start_time": "2022-05-11T11:18:48.034Z"
   },
   {
    "duration": 85,
    "start_time": "2022-05-11T11:18:48.534Z"
   },
   {
    "duration": 30,
    "start_time": "2022-05-11T11:18:48.622Z"
   },
   {
    "duration": 20,
    "start_time": "2022-05-11T11:18:48.654Z"
   },
   {
    "duration": 51,
    "start_time": "2022-05-11T11:18:48.677Z"
   },
   {
    "duration": 16,
    "start_time": "2022-05-11T11:18:48.731Z"
   },
   {
    "duration": 26,
    "start_time": "2022-05-11T11:18:48.749Z"
   },
   {
    "duration": 10,
    "start_time": "2022-05-11T11:18:48.777Z"
   },
   {
    "duration": 47,
    "start_time": "2022-05-11T11:18:48.789Z"
   },
   {
    "duration": 9,
    "start_time": "2022-05-11T11:18:48.840Z"
   },
   {
    "duration": 21,
    "start_time": "2022-05-11T11:18:48.851Z"
   },
   {
    "duration": 11,
    "start_time": "2022-05-11T11:18:48.874Z"
   },
   {
    "duration": 18,
    "start_time": "2022-05-11T11:18:48.888Z"
   },
   {
    "duration": 26,
    "start_time": "2022-05-11T11:18:48.922Z"
   },
   {
    "duration": 7,
    "start_time": "2022-05-11T11:18:48.950Z"
   },
   {
    "duration": 4,
    "start_time": "2022-05-11T11:18:48.959Z"
   },
   {
    "duration": 26,
    "start_time": "2022-05-11T11:18:48.965Z"
   },
   {
    "duration": 26,
    "start_time": "2022-05-11T11:18:48.993Z"
   },
   {
    "duration": 24,
    "start_time": "2022-05-11T11:18:49.021Z"
   },
   {
    "duration": 4,
    "start_time": "2022-05-11T11:25:10.401Z"
   },
   {
    "duration": 11,
    "start_time": "2022-05-11T11:25:16.220Z"
   },
   {
    "duration": 11,
    "start_time": "2022-05-11T11:26:23.764Z"
   },
   {
    "duration": 9,
    "start_time": "2022-05-11T11:27:05.114Z"
   },
   {
    "duration": 203,
    "start_time": "2022-05-11T11:27:20.102Z"
   },
   {
    "duration": 201,
    "start_time": "2022-05-11T11:27:49.399Z"
   },
   {
    "duration": 8,
    "start_time": "2022-05-11T11:27:58.884Z"
   },
   {
    "duration": 591,
    "start_time": "2022-05-11T11:34:46.952Z"
   },
   {
    "duration": 92,
    "start_time": "2022-05-11T11:34:47.545Z"
   },
   {
    "duration": 23,
    "start_time": "2022-05-11T11:34:47.639Z"
   },
   {
    "duration": 14,
    "start_time": "2022-05-11T11:34:47.664Z"
   },
   {
    "duration": 20,
    "start_time": "2022-05-11T11:34:47.680Z"
   },
   {
    "duration": 39,
    "start_time": "2022-05-11T11:34:47.702Z"
   },
   {
    "duration": 8,
    "start_time": "2022-05-11T11:34:47.743Z"
   },
   {
    "duration": 10,
    "start_time": "2022-05-11T11:34:47.753Z"
   },
   {
    "duration": 23,
    "start_time": "2022-05-11T11:34:47.765Z"
   },
   {
    "duration": 45,
    "start_time": "2022-05-11T11:34:47.791Z"
   },
   {
    "duration": 14,
    "start_time": "2022-05-11T11:34:47.837Z"
   },
   {
    "duration": 4,
    "start_time": "2022-05-11T11:34:47.853Z"
   },
   {
    "duration": 15,
    "start_time": "2022-05-11T11:34:47.859Z"
   },
   {
    "duration": 8,
    "start_time": "2022-05-11T11:34:47.876Z"
   },
   {
    "duration": 5,
    "start_time": "2022-05-11T11:34:47.886Z"
   },
   {
    "duration": 8,
    "start_time": "2022-05-11T11:34:47.924Z"
   },
   {
    "duration": 20,
    "start_time": "2022-05-11T11:34:47.934Z"
   },
   {
    "duration": 9,
    "start_time": "2022-05-11T11:34:47.955Z"
   },
   {
    "duration": 7,
    "start_time": "2022-05-11T11:34:47.967Z"
   },
   {
    "duration": 19,
    "start_time": "2022-05-11T11:38:34.585Z"
   },
   {
    "duration": 60,
    "start_time": "2022-05-11T11:40:06.876Z"
   },
   {
    "duration": 8,
    "start_time": "2022-05-11T11:43:25.642Z"
   },
   {
    "duration": 22,
    "start_time": "2022-05-11T12:44:54.106Z"
   },
   {
    "duration": 415,
    "start_time": "2022-05-11T12:45:07.174Z"
   },
   {
    "duration": 73,
    "start_time": "2022-05-11T12:45:07.591Z"
   },
   {
    "duration": 21,
    "start_time": "2022-05-11T12:45:07.666Z"
   },
   {
    "duration": 14,
    "start_time": "2022-05-11T12:45:07.690Z"
   },
   {
    "duration": 41,
    "start_time": "2022-05-11T12:45:07.706Z"
   },
   {
    "duration": 10,
    "start_time": "2022-05-11T12:45:07.749Z"
   },
   {
    "duration": 7,
    "start_time": "2022-05-11T12:45:07.761Z"
   },
   {
    "duration": 8,
    "start_time": "2022-05-11T12:45:07.770Z"
   },
   {
    "duration": 60,
    "start_time": "2022-05-11T12:45:07.780Z"
   },
   {
    "duration": 9,
    "start_time": "2022-05-11T12:45:07.844Z"
   },
   {
    "duration": 12,
    "start_time": "2022-05-11T12:45:07.855Z"
   },
   {
    "duration": 4,
    "start_time": "2022-05-11T12:45:07.869Z"
   },
   {
    "duration": 14,
    "start_time": "2022-05-11T12:45:07.875Z"
   },
   {
    "duration": 42,
    "start_time": "2022-05-11T12:45:07.891Z"
   },
   {
    "duration": 6,
    "start_time": "2022-05-11T12:45:07.935Z"
   },
   {
    "duration": 6,
    "start_time": "2022-05-11T12:45:07.943Z"
   },
   {
    "duration": 19,
    "start_time": "2022-05-11T12:45:07.951Z"
   },
   {
    "duration": 12,
    "start_time": "2022-05-11T12:45:07.972Z"
   },
   {
    "duration": 44,
    "start_time": "2022-05-11T12:45:07.986Z"
   },
   {
    "duration": 14,
    "start_time": "2022-05-11T12:45:08.033Z"
   },
   {
    "duration": 9,
    "start_time": "2022-05-11T12:45:08.048Z"
   },
   {
    "duration": 14,
    "start_time": "2022-05-11T12:45:08.059Z"
   },
   {
    "duration": 21,
    "start_time": "2022-05-11T12:46:06.051Z"
   },
   {
    "duration": 39,
    "start_time": "2022-05-11T12:48:06.896Z"
   },
   {
    "duration": 20,
    "start_time": "2022-05-11T12:48:24.687Z"
   },
   {
    "duration": 24,
    "start_time": "2022-05-11T12:50:46.008Z"
   },
   {
    "duration": 10,
    "start_time": "2022-05-11T13:04:08.340Z"
   },
   {
    "duration": 10,
    "start_time": "2022-05-11T13:06:19.655Z"
   },
   {
    "duration": 6,
    "start_time": "2022-05-11T13:31:09.897Z"
   },
   {
    "duration": 10,
    "start_time": "2022-05-11T13:32:06.645Z"
   },
   {
    "duration": 4,
    "start_time": "2022-05-11T14:11:01.038Z"
   },
   {
    "duration": 52,
    "start_time": "2022-05-12T09:41:20.050Z"
   },
   {
    "duration": 409,
    "start_time": "2022-05-12T09:41:38.517Z"
   },
   {
    "duration": 59,
    "start_time": "2022-05-12T09:41:38.928Z"
   },
   {
    "duration": 28,
    "start_time": "2022-05-12T09:41:38.989Z"
   },
   {
    "duration": 14,
    "start_time": "2022-05-12T09:41:39.019Z"
   },
   {
    "duration": 17,
    "start_time": "2022-05-12T09:41:39.035Z"
   },
   {
    "duration": 11,
    "start_time": "2022-05-12T09:41:39.053Z"
   },
   {
    "duration": 46,
    "start_time": "2022-05-12T09:41:39.065Z"
   },
   {
    "duration": 10,
    "start_time": "2022-05-12T09:41:39.113Z"
   },
   {
    "duration": 27,
    "start_time": "2022-05-12T09:41:39.125Z"
   },
   {
    "duration": 10,
    "start_time": "2022-05-12T09:41:39.153Z"
   },
   {
    "duration": 43,
    "start_time": "2022-05-12T09:41:39.166Z"
   },
   {
    "duration": 4,
    "start_time": "2022-05-12T09:41:39.212Z"
   },
   {
    "duration": 28,
    "start_time": "2022-05-12T09:41:39.218Z"
   },
   {
    "duration": 26,
    "start_time": "2022-05-12T09:41:39.251Z"
   },
   {
    "duration": 6,
    "start_time": "2022-05-12T09:41:39.279Z"
   },
   {
    "duration": 5,
    "start_time": "2022-05-12T09:41:39.287Z"
   },
   {
    "duration": 19,
    "start_time": "2022-05-12T09:41:39.294Z"
   },
   {
    "duration": 10,
    "start_time": "2022-05-12T09:41:39.314Z"
   },
   {
    "duration": 41,
    "start_time": "2022-05-12T09:41:39.326Z"
   },
   {
    "duration": 23,
    "start_time": "2022-05-12T09:41:39.369Z"
   },
   {
    "duration": 16,
    "start_time": "2022-05-12T09:41:39.408Z"
   },
   {
    "duration": 16,
    "start_time": "2022-05-12T09:41:39.427Z"
   },
   {
    "duration": 34,
    "start_time": "2022-05-12T09:41:39.444Z"
   },
   {
    "duration": 40,
    "start_time": "2022-05-12T09:41:39.480Z"
   },
   {
    "duration": 27,
    "start_time": "2022-05-12T09:41:39.522Z"
   },
   {
    "duration": 10,
    "start_time": "2022-05-12T09:41:39.552Z"
   },
   {
    "duration": 32,
    "start_time": "2022-05-12T09:41:39.564Z"
   },
   {
    "duration": 17,
    "start_time": "2022-05-12T09:41:39.598Z"
   },
   {
    "duration": 28,
    "start_time": "2022-05-12T09:41:39.617Z"
   },
   {
    "duration": 10,
    "start_time": "2022-05-12T09:41:39.647Z"
   },
   {
    "duration": 21,
    "start_time": "2022-05-12T09:41:39.660Z"
   },
   {
    "duration": 4,
    "start_time": "2022-05-12T09:42:24.610Z"
   },
   {
    "duration": 3,
    "start_time": "2022-05-12T09:42:36.727Z"
   },
   {
    "duration": 80,
    "start_time": "2022-05-12T09:59:32.583Z"
   },
   {
    "duration": 4,
    "start_time": "2022-05-12T09:59:48.560Z"
   },
   {
    "duration": 5,
    "start_time": "2022-05-12T10:01:50.827Z"
   },
   {
    "duration": 5,
    "start_time": "2022-05-12T10:04:35.157Z"
   },
   {
    "duration": 5,
    "start_time": "2022-05-12T10:04:56.006Z"
   },
   {
    "duration": 4,
    "start_time": "2022-05-12T10:05:31.049Z"
   },
   {
    "duration": 6,
    "start_time": "2022-05-12T10:05:32.982Z"
   },
   {
    "duration": 5,
    "start_time": "2022-05-12T10:07:49.588Z"
   },
   {
    "duration": 7,
    "start_time": "2022-05-12T10:07:53.648Z"
   },
   {
    "duration": 5,
    "start_time": "2022-05-12T10:10:30.427Z"
   },
   {
    "duration": 3,
    "start_time": "2022-05-12T10:15:17.245Z"
   },
   {
    "duration": 3,
    "start_time": "2022-05-12T10:15:52.687Z"
   },
   {
    "duration": 4,
    "start_time": "2022-05-12T10:16:28.317Z"
   },
   {
    "duration": 383,
    "start_time": "2022-05-12T10:18:00.821Z"
   },
   {
    "duration": 5,
    "start_time": "2022-05-12T10:25:47.793Z"
   },
   {
    "duration": 4,
    "start_time": "2022-05-12T10:27:10.535Z"
   },
   {
    "duration": 288,
    "start_time": "2022-05-12T10:27:34.516Z"
   },
   {
    "duration": 22,
    "start_time": "2022-05-12T10:27:56.961Z"
   },
   {
    "duration": 84,
    "start_time": "2022-05-12T10:29:04.875Z"
   },
   {
    "duration": 5,
    "start_time": "2022-05-12T10:29:14.818Z"
   },
   {
    "duration": 29,
    "start_time": "2022-05-12T10:29:23.167Z"
   },
   {
    "duration": 5,
    "start_time": "2022-05-12T10:29:41.217Z"
   },
   {
    "duration": 3123,
    "start_time": "2022-05-12T10:29:44.947Z"
   },
   {
    "duration": 6,
    "start_time": "2022-05-12T10:32:15.502Z"
   },
   {
    "duration": 26,
    "start_time": "2022-05-12T10:32:20.001Z"
   },
   {
    "duration": 16,
    "start_time": "2022-05-12T10:32:30.431Z"
   },
   {
    "duration": 17,
    "start_time": "2022-05-12T10:33:28.940Z"
   },
   {
    "duration": 16,
    "start_time": "2022-05-12T10:33:39.451Z"
   },
   {
    "duration": 17,
    "start_time": "2022-05-12T10:33:46.716Z"
   },
   {
    "duration": 17,
    "start_time": "2022-05-12T10:33:53.464Z"
   },
   {
    "duration": 19,
    "start_time": "2022-05-12T10:33:59.285Z"
   },
   {
    "duration": 19,
    "start_time": "2022-05-12T10:34:15.430Z"
   },
   {
    "duration": 17,
    "start_time": "2022-05-12T10:34:35.326Z"
   },
   {
    "duration": 17,
    "start_time": "2022-05-12T10:34:46.242Z"
   },
   {
    "duration": 19,
    "start_time": "2022-05-12T10:35:19.840Z"
   },
   {
    "duration": 19,
    "start_time": "2022-05-12T10:35:26.703Z"
   },
   {
    "duration": 4,
    "start_time": "2022-05-12T10:48:58.183Z"
   },
   {
    "duration": 25,
    "start_time": "2022-05-12T10:49:04.178Z"
   },
   {
    "duration": 17,
    "start_time": "2022-05-12T11:00:51.481Z"
   },
   {
    "duration": 17,
    "start_time": "2022-05-12T11:01:00.844Z"
   },
   {
    "duration": 182,
    "start_time": "2022-05-12T11:13:14.118Z"
   },
   {
    "duration": 181,
    "start_time": "2022-05-12T11:13:36.872Z"
   },
   {
    "duration": 17,
    "start_time": "2022-05-12T11:16:07.153Z"
   },
   {
    "duration": 22,
    "start_time": "2022-05-12T11:16:27.894Z"
   },
   {
    "duration": 5,
    "start_time": "2022-05-12T11:30:38.973Z"
   },
   {
    "duration": 8,
    "start_time": "2022-05-12T12:12:18.747Z"
   },
   {
    "duration": 12,
    "start_time": "2022-05-12T12:12:23.310Z"
   },
   {
    "duration": 7,
    "start_time": "2022-05-12T12:19:24.882Z"
   },
   {
    "duration": 12,
    "start_time": "2022-05-12T12:19:47.131Z"
   },
   {
    "duration": 7,
    "start_time": "2022-05-12T12:19:52.858Z"
   },
   {
    "duration": 7,
    "start_time": "2022-05-12T12:24:33.579Z"
   },
   {
    "duration": 4,
    "start_time": "2022-05-12T12:59:54.842Z"
   },
   {
    "duration": 13,
    "start_time": "2022-05-12T13:01:19.588Z"
   },
   {
    "duration": 18,
    "start_time": "2022-05-12T13:01:40.852Z"
   },
   {
    "duration": 4,
    "start_time": "2022-05-12T13:04:47.532Z"
   },
   {
    "duration": 23,
    "start_time": "2022-05-12T13:04:54.385Z"
   },
   {
    "duration": 12,
    "start_time": "2022-05-12T13:04:57.476Z"
   },
   {
    "duration": 10,
    "start_time": "2022-05-12T13:05:09.714Z"
   },
   {
    "duration": 5,
    "start_time": "2022-05-12T13:12:16.090Z"
   },
   {
    "duration": 63,
    "start_time": "2022-05-12T13:12:20.209Z"
   },
   {
    "duration": 13,
    "start_time": "2022-05-12T13:12:23.724Z"
   },
   {
    "duration": 12,
    "start_time": "2022-05-12T13:12:37.337Z"
   },
   {
    "duration": 5,
    "start_time": "2022-05-12T13:21:21.219Z"
   },
   {
    "duration": 56,
    "start_time": "2022-05-12T13:32:19.320Z"
   },
   {
    "duration": 12,
    "start_time": "2022-05-12T13:32:22.372Z"
   },
   {
    "duration": 434,
    "start_time": "2022-05-12T13:33:04.696Z"
   },
   {
    "duration": 64,
    "start_time": "2022-05-12T13:33:05.132Z"
   },
   {
    "duration": 20,
    "start_time": "2022-05-12T13:33:05.197Z"
   },
   {
    "duration": 12,
    "start_time": "2022-05-12T13:33:05.219Z"
   },
   {
    "duration": 16,
    "start_time": "2022-05-12T13:33:05.233Z"
   },
   {
    "duration": 9,
    "start_time": "2022-05-12T13:33:05.251Z"
   },
   {
    "duration": 6,
    "start_time": "2022-05-12T13:33:05.262Z"
   },
   {
    "duration": 38,
    "start_time": "2022-05-12T13:33:05.270Z"
   },
   {
    "duration": 18,
    "start_time": "2022-05-12T13:33:05.310Z"
   },
   {
    "duration": 8,
    "start_time": "2022-05-12T13:33:05.331Z"
   },
   {
    "duration": 11,
    "start_time": "2022-05-12T13:33:05.340Z"
   },
   {
    "duration": 4,
    "start_time": "2022-05-12T13:33:05.352Z"
   },
   {
    "duration": 14,
    "start_time": "2022-05-12T13:33:05.358Z"
   },
   {
    "duration": 42,
    "start_time": "2022-05-12T13:33:05.373Z"
   },
   {
    "duration": 5,
    "start_time": "2022-05-12T13:33:05.417Z"
   },
   {
    "duration": 4,
    "start_time": "2022-05-12T13:33:05.424Z"
   },
   {
    "duration": 11,
    "start_time": "2022-05-12T13:33:05.430Z"
   },
   {
    "duration": 10,
    "start_time": "2022-05-12T13:33:05.442Z"
   },
   {
    "duration": 16,
    "start_time": "2022-05-12T13:33:05.453Z"
   },
   {
    "duration": 46,
    "start_time": "2022-05-12T13:33:05.471Z"
   },
   {
    "duration": 8,
    "start_time": "2022-05-12T13:33:05.519Z"
   },
   {
    "duration": 11,
    "start_time": "2022-05-12T13:33:05.529Z"
   },
   {
    "duration": 19,
    "start_time": "2022-05-12T13:33:05.542Z"
   },
   {
    "duration": 50,
    "start_time": "2022-05-12T13:33:05.562Z"
   },
   {
    "duration": 18,
    "start_time": "2022-05-12T13:33:05.614Z"
   },
   {
    "duration": 8,
    "start_time": "2022-05-12T13:33:05.634Z"
   },
   {
    "duration": 10,
    "start_time": "2022-05-12T13:33:05.643Z"
   },
   {
    "duration": 5,
    "start_time": "2022-05-12T13:33:05.657Z"
   },
   {
    "duration": 13,
    "start_time": "2022-05-12T13:33:05.663Z"
   },
   {
    "duration": 5,
    "start_time": "2022-05-12T13:33:05.708Z"
   },
   {
    "duration": 11,
    "start_time": "2022-05-12T13:33:05.715Z"
   },
   {
    "duration": 12,
    "start_time": "2022-05-12T13:33:05.728Z"
   },
   {
    "duration": 7,
    "start_time": "2022-05-12T13:33:05.741Z"
   },
   {
    "duration": 29,
    "start_time": "2022-05-12T13:33:05.750Z"
   },
   {
    "duration": 7,
    "start_time": "2022-05-12T13:33:05.808Z"
   },
   {
    "duration": 5,
    "start_time": "2022-05-12T13:33:05.817Z"
   },
   {
    "duration": 53,
    "start_time": "2022-05-12T13:33:05.824Z"
   },
   {
    "duration": 31,
    "start_time": "2022-05-12T13:33:05.879Z"
   },
   {
    "duration": 11,
    "start_time": "2022-05-12T13:42:19.367Z"
   },
   {
    "duration": 6,
    "start_time": "2022-05-12T13:50:54.471Z"
   },
   {
    "duration": 7,
    "start_time": "2022-05-12T13:52:32.020Z"
   },
   {
    "duration": 11,
    "start_time": "2022-05-12T13:53:28.527Z"
   },
   {
    "duration": 24,
    "start_time": "2022-05-12T14:01:25.633Z"
   },
   {
    "duration": 24,
    "start_time": "2022-05-12T14:04:56.644Z"
   },
   {
    "duration": 397,
    "start_time": "2022-05-12T14:15:32.930Z"
   },
   {
    "duration": 62,
    "start_time": "2022-05-12T14:15:33.329Z"
   },
   {
    "duration": 25,
    "start_time": "2022-05-12T14:15:33.394Z"
   },
   {
    "duration": 13,
    "start_time": "2022-05-12T14:15:33.421Z"
   },
   {
    "duration": 17,
    "start_time": "2022-05-12T14:15:33.436Z"
   },
   {
    "duration": 12,
    "start_time": "2022-05-12T14:15:33.455Z"
   },
   {
    "duration": 41,
    "start_time": "2022-05-12T14:15:33.469Z"
   },
   {
    "duration": 8,
    "start_time": "2022-05-12T14:15:33.512Z"
   },
   {
    "duration": 21,
    "start_time": "2022-05-12T14:15:33.522Z"
   },
   {
    "duration": 8,
    "start_time": "2022-05-12T14:15:33.546Z"
   },
   {
    "duration": 10,
    "start_time": "2022-05-12T14:15:33.556Z"
   },
   {
    "duration": 40,
    "start_time": "2022-05-12T14:15:33.568Z"
   },
   {
    "duration": 13,
    "start_time": "2022-05-12T14:15:33.610Z"
   },
   {
    "duration": 7,
    "start_time": "2022-05-12T14:15:33.625Z"
   },
   {
    "duration": 6,
    "start_time": "2022-05-12T14:15:33.634Z"
   },
   {
    "duration": 5,
    "start_time": "2022-05-12T14:15:33.642Z"
   },
   {
    "duration": 13,
    "start_time": "2022-05-12T14:15:33.649Z"
   },
   {
    "duration": 48,
    "start_time": "2022-05-12T14:15:33.664Z"
   },
   {
    "duration": 17,
    "start_time": "2022-05-12T14:15:33.715Z"
   },
   {
    "duration": 22,
    "start_time": "2022-05-12T14:15:33.733Z"
   },
   {
    "duration": 14,
    "start_time": "2022-05-12T14:15:33.757Z"
   },
   {
    "duration": 14,
    "start_time": "2022-05-12T14:15:33.773Z"
   },
   {
    "duration": 35,
    "start_time": "2022-05-12T14:15:33.789Z"
   },
   {
    "duration": 22,
    "start_time": "2022-05-12T14:15:33.825Z"
   },
   {
    "duration": 18,
    "start_time": "2022-05-12T14:15:33.848Z"
   },
   {
    "duration": 9,
    "start_time": "2022-05-12T14:15:33.867Z"
   },
   {
    "duration": 8,
    "start_time": "2022-05-12T14:15:33.908Z"
   },
   {
    "duration": 6,
    "start_time": "2022-05-12T14:15:33.920Z"
   },
   {
    "duration": 12,
    "start_time": "2022-05-12T14:15:33.928Z"
   },
   {
    "duration": 6,
    "start_time": "2022-05-12T14:15:33.942Z"
   },
   {
    "duration": 14,
    "start_time": "2022-05-12T14:15:33.949Z"
   },
   {
    "duration": 48,
    "start_time": "2022-05-12T14:15:33.965Z"
   },
   {
    "duration": 8,
    "start_time": "2022-05-12T14:15:34.015Z"
   },
   {
    "duration": 27,
    "start_time": "2022-05-12T14:15:34.024Z"
   },
   {
    "duration": 11,
    "start_time": "2022-05-12T14:15:34.053Z"
   },
   {
    "duration": 16,
    "start_time": "2022-05-12T14:15:34.066Z"
   },
   {
    "duration": 83,
    "start_time": "2022-05-12T14:15:34.083Z"
   },
   {
    "duration": 13,
    "start_time": "2022-05-12T14:15:34.168Z"
   },
   {
    "duration": 7,
    "start_time": "2022-05-12T14:15:34.184Z"
   },
   {
    "duration": 22,
    "start_time": "2022-05-12T14:15:34.193Z"
   },
   {
    "duration": 22,
    "start_time": "2022-05-12T14:15:34.216Z"
   },
   {
    "duration": 27,
    "start_time": "2022-05-12T14:15:34.240Z"
   },
   {
    "duration": 52,
    "start_time": "2022-05-12T14:15:34.269Z"
   },
   {
    "duration": 501,
    "start_time": "2022-05-13T09:27:29.327Z"
   },
   {
    "duration": 254,
    "start_time": "2022-05-13T09:27:29.830Z"
   },
   {
    "duration": 31,
    "start_time": "2022-05-13T09:27:30.087Z"
   },
   {
    "duration": 19,
    "start_time": "2022-05-13T09:27:30.121Z"
   },
   {
    "duration": 56,
    "start_time": "2022-05-13T09:27:30.142Z"
   },
   {
    "duration": 13,
    "start_time": "2022-05-13T09:27:30.201Z"
   },
   {
    "duration": 12,
    "start_time": "2022-05-13T09:27:30.216Z"
   },
   {
    "duration": 20,
    "start_time": "2022-05-13T09:27:30.231Z"
   },
   {
    "duration": 52,
    "start_time": "2022-05-13T09:27:30.253Z"
   },
   {
    "duration": 11,
    "start_time": "2022-05-13T09:27:30.309Z"
   },
   {
    "duration": 37,
    "start_time": "2022-05-13T09:27:30.322Z"
   },
   {
    "duration": 13,
    "start_time": "2022-05-13T09:27:30.361Z"
   },
   {
    "duration": 40,
    "start_time": "2022-05-13T09:27:30.377Z"
   },
   {
    "duration": 28,
    "start_time": "2022-05-13T09:27:30.419Z"
   },
   {
    "duration": 20,
    "start_time": "2022-05-13T09:27:30.450Z"
   },
   {
    "duration": 13,
    "start_time": "2022-05-13T09:27:30.472Z"
   },
   {
    "duration": 42,
    "start_time": "2022-05-13T09:27:30.488Z"
   },
   {
    "duration": 67,
    "start_time": "2022-05-13T09:27:30.532Z"
   },
   {
    "duration": 24,
    "start_time": "2022-05-13T09:27:30.601Z"
   },
   {
    "duration": 24,
    "start_time": "2022-05-13T09:27:30.627Z"
   },
   {
    "duration": 24,
    "start_time": "2022-05-13T09:27:30.654Z"
   },
   {
    "duration": 24,
    "start_time": "2022-05-13T09:27:30.680Z"
   },
   {
    "duration": 36,
    "start_time": "2022-05-13T09:27:30.707Z"
   },
   {
    "duration": 30,
    "start_time": "2022-05-13T09:27:30.746Z"
   },
   {
    "duration": 33,
    "start_time": "2022-05-13T09:27:30.779Z"
   },
   {
    "duration": 11,
    "start_time": "2022-05-13T09:27:30.814Z"
   },
   {
    "duration": 60,
    "start_time": "2022-05-13T09:27:30.827Z"
   },
   {
    "duration": 16,
    "start_time": "2022-05-13T09:27:30.895Z"
   },
   {
    "duration": 23,
    "start_time": "2022-05-13T09:27:30.914Z"
   },
   {
    "duration": 19,
    "start_time": "2022-05-13T09:27:30.939Z"
   },
   {
    "duration": 50,
    "start_time": "2022-05-13T09:27:30.960Z"
   },
   {
    "duration": 26,
    "start_time": "2022-05-13T09:27:31.012Z"
   },
   {
    "duration": 16,
    "start_time": "2022-05-13T09:27:31.040Z"
   },
   {
    "duration": 49,
    "start_time": "2022-05-13T09:27:31.058Z"
   },
   {
    "duration": 10,
    "start_time": "2022-05-13T09:27:31.109Z"
   },
   {
    "duration": 17,
    "start_time": "2022-05-13T09:27:31.121Z"
   },
   {
    "duration": 116,
    "start_time": "2022-05-13T09:27:31.140Z"
   },
   {
    "duration": 27,
    "start_time": "2022-05-13T09:27:31.258Z"
   },
   {
    "duration": 38,
    "start_time": "2022-05-13T09:27:31.288Z"
   },
   {
    "duration": 22,
    "start_time": "2022-05-13T09:27:31.328Z"
   },
   {
    "duration": 25,
    "start_time": "2022-05-13T09:27:31.352Z"
   },
   {
    "duration": 30,
    "start_time": "2022-05-13T09:27:31.380Z"
   },
   {
    "duration": 71,
    "start_time": "2022-05-13T09:27:31.412Z"
   },
   {
    "duration": 28,
    "start_time": "2022-05-13T09:29:31.635Z"
   },
   {
    "duration": 22,
    "start_time": "2022-05-13T09:34:26.980Z"
   },
   {
    "duration": 32,
    "start_time": "2022-05-13T09:34:42.453Z"
   },
   {
    "duration": 34,
    "start_time": "2022-05-13T09:35:00.917Z"
   },
   {
    "duration": 33,
    "start_time": "2022-05-13T09:39:09.449Z"
   },
   {
    "duration": 492,
    "start_time": "2022-05-13T09:41:09.711Z"
   },
   {
    "duration": 81,
    "start_time": "2022-05-13T09:41:10.206Z"
   },
   {
    "duration": 29,
    "start_time": "2022-05-13T09:41:10.289Z"
   },
   {
    "duration": 20,
    "start_time": "2022-05-13T09:41:10.322Z"
   },
   {
    "duration": 54,
    "start_time": "2022-05-13T09:41:10.345Z"
   },
   {
    "duration": 14,
    "start_time": "2022-05-13T09:41:10.401Z"
   },
   {
    "duration": 9,
    "start_time": "2022-05-13T09:41:10.417Z"
   },
   {
    "duration": 10,
    "start_time": "2022-05-13T09:41:10.428Z"
   },
   {
    "duration": 56,
    "start_time": "2022-05-13T09:41:10.440Z"
   },
   {
    "duration": 10,
    "start_time": "2022-05-13T09:41:10.500Z"
   },
   {
    "duration": 13,
    "start_time": "2022-05-13T09:41:10.512Z"
   },
   {
    "duration": 5,
    "start_time": "2022-05-13T09:41:10.527Z"
   },
   {
    "duration": 60,
    "start_time": "2022-05-13T09:41:10.534Z"
   },
   {
    "duration": 9,
    "start_time": "2022-05-13T09:41:10.596Z"
   },
   {
    "duration": 8,
    "start_time": "2022-05-13T09:41:10.607Z"
   },
   {
    "duration": 7,
    "start_time": "2022-05-13T09:41:10.618Z"
   },
   {
    "duration": 60,
    "start_time": "2022-05-13T09:41:10.627Z"
   },
   {
    "duration": 731,
    "start_time": "2022-05-13T09:41:10.690Z"
   },
   {
    "duration": 66,
    "start_time": "2022-05-13T09:41:11.423Z"
   },
   {
    "duration": 18,
    "start_time": "2022-05-13T09:41:11.491Z"
   },
   {
    "duration": 14,
    "start_time": "2022-05-13T09:41:11.511Z"
   },
   {
    "duration": 12,
    "start_time": "2022-05-13T09:41:11.528Z"
   },
   {
    "duration": 61,
    "start_time": "2022-05-13T09:41:11.542Z"
   },
   {
    "duration": 31,
    "start_time": "2022-05-13T09:41:11.606Z"
   },
   {
    "duration": 58,
    "start_time": "2022-05-13T09:41:11.639Z"
   },
   {
    "duration": 11,
    "start_time": "2022-05-13T09:41:11.699Z"
   },
   {
    "duration": 16,
    "start_time": "2022-05-13T09:41:11.712Z"
   },
   {
    "duration": 7,
    "start_time": "2022-05-13T09:41:11.733Z"
   },
   {
    "duration": 45,
    "start_time": "2022-05-13T09:41:11.742Z"
   },
   {
    "duration": 55,
    "start_time": "2022-05-13T09:41:11.790Z"
   },
   {
    "duration": 21,
    "start_time": "2022-05-13T09:41:11.847Z"
   },
   {
    "duration": 29,
    "start_time": "2022-05-13T09:41:11.870Z"
   },
   {
    "duration": 9,
    "start_time": "2022-05-13T09:41:11.901Z"
   },
   {
    "duration": 37,
    "start_time": "2022-05-13T09:41:11.912Z"
   },
   {
    "duration": 33,
    "start_time": "2022-05-13T09:41:11.951Z"
   },
   {
    "duration": 9,
    "start_time": "2022-05-13T09:41:11.987Z"
   },
   {
    "duration": 107,
    "start_time": "2022-05-13T09:41:11.998Z"
   },
   {
    "duration": 21,
    "start_time": "2022-05-13T09:41:12.107Z"
   },
   {
    "duration": 11,
    "start_time": "2022-05-13T09:41:12.130Z"
   },
   {
    "duration": 38,
    "start_time": "2022-05-13T09:41:12.144Z"
   },
   {
    "duration": 10,
    "start_time": "2022-05-13T09:41:12.184Z"
   },
   {
    "duration": 23,
    "start_time": "2022-05-13T09:41:12.196Z"
   },
   {
    "duration": 35,
    "start_time": "2022-05-13T09:41:12.221Z"
   },
   {
    "duration": 48,
    "start_time": "2022-05-13T09:41:12.258Z"
   },
   {
    "duration": 26,
    "start_time": "2022-05-13T09:47:07.768Z"
   },
   {
    "duration": 10,
    "start_time": "2022-05-13T09:48:03.257Z"
   },
   {
    "duration": 8,
    "start_time": "2022-05-13T09:56:45.529Z"
   },
   {
    "duration": 5,
    "start_time": "2022-05-13T10:08:20.029Z"
   },
   {
    "duration": 5,
    "start_time": "2022-05-13T10:11:21.809Z"
   },
   {
    "duration": 8,
    "start_time": "2022-05-13T10:15:33.143Z"
   },
   {
    "duration": 119,
    "start_time": "2022-05-13T10:16:07.859Z"
   },
   {
    "duration": 551,
    "start_time": "2022-05-13T10:16:28.584Z"
   },
   {
    "duration": 80,
    "start_time": "2022-05-13T10:16:29.138Z"
   },
   {
    "duration": 29,
    "start_time": "2022-05-13T10:16:29.220Z"
   },
   {
    "duration": 40,
    "start_time": "2022-05-13T10:16:29.251Z"
   },
   {
    "duration": 27,
    "start_time": "2022-05-13T10:16:29.294Z"
   },
   {
    "duration": 13,
    "start_time": "2022-05-13T10:16:29.323Z"
   },
   {
    "duration": 48,
    "start_time": "2022-05-13T10:16:29.338Z"
   },
   {
    "duration": 10,
    "start_time": "2022-05-13T10:16:29.388Z"
   },
   {
    "duration": 25,
    "start_time": "2022-05-13T10:16:29.401Z"
   },
   {
    "duration": 10,
    "start_time": "2022-05-13T10:16:29.428Z"
   },
   {
    "duration": 54,
    "start_time": "2022-05-13T10:16:29.440Z"
   },
   {
    "duration": 8,
    "start_time": "2022-05-13T10:16:29.496Z"
   },
   {
    "duration": 24,
    "start_time": "2022-05-13T10:16:29.506Z"
   },
   {
    "duration": 48,
    "start_time": "2022-05-13T10:16:29.534Z"
   },
   {
    "duration": 6,
    "start_time": "2022-05-13T10:16:29.585Z"
   },
   {
    "duration": 9,
    "start_time": "2022-05-13T10:16:29.593Z"
   },
   {
    "duration": 5,
    "start_time": "2022-05-13T10:16:29.604Z"
   },
   {
    "duration": 10,
    "start_time": "2022-05-13T10:16:29.611Z"
   },
   {
    "duration": 8,
    "start_time": "2022-05-13T10:16:29.623Z"
   },
   {
    "duration": 48,
    "start_time": "2022-05-13T10:16:29.634Z"
   },
   {
    "duration": 17,
    "start_time": "2022-05-13T10:16:29.684Z"
   },
   {
    "duration": 15,
    "start_time": "2022-05-13T10:16:29.703Z"
   },
   {
    "duration": 21,
    "start_time": "2022-05-13T10:16:29.720Z"
   },
   {
    "duration": 44,
    "start_time": "2022-05-13T10:16:29.743Z"
   },
   {
    "duration": 11,
    "start_time": "2022-05-13T10:16:29.789Z"
   },
   {
    "duration": 10,
    "start_time": "2022-05-13T10:16:29.802Z"
   },
   {
    "duration": 27,
    "start_time": "2022-05-13T10:16:29.814Z"
   },
   {
    "duration": 31,
    "start_time": "2022-05-13T10:16:29.882Z"
   },
   {
    "duration": 27,
    "start_time": "2022-05-13T10:16:29.915Z"
   },
   {
    "duration": 39,
    "start_time": "2022-05-13T10:16:29.945Z"
   },
   {
    "duration": 17,
    "start_time": "2022-05-13T10:16:29.987Z"
   },
   {
    "duration": 27,
    "start_time": "2022-05-13T10:16:30.006Z"
   },
   {
    "duration": 20,
    "start_time": "2022-05-13T10:16:30.036Z"
   },
   {
    "duration": 23,
    "start_time": "2022-05-13T10:16:30.058Z"
   },
   {
    "duration": 22,
    "start_time": "2022-05-13T10:16:30.083Z"
   },
   {
    "duration": 33,
    "start_time": "2022-05-13T10:16:30.107Z"
   },
   {
    "duration": 9,
    "start_time": "2022-05-13T10:16:30.143Z"
   },
   {
    "duration": 62,
    "start_time": "2022-05-13T10:16:30.154Z"
   },
   {
    "duration": 10,
    "start_time": "2022-05-13T10:16:30.218Z"
   },
   {
    "duration": 13,
    "start_time": "2022-05-13T10:16:30.230Z"
   },
   {
    "duration": 101,
    "start_time": "2022-05-13T10:16:30.250Z"
   },
   {
    "duration": 29,
    "start_time": "2022-05-13T10:16:30.354Z"
   },
   {
    "duration": 18,
    "start_time": "2022-05-13T10:16:30.385Z"
   },
   {
    "duration": 52,
    "start_time": "2022-05-13T10:16:30.405Z"
   },
   {
    "duration": 12,
    "start_time": "2022-05-13T10:16:30.460Z"
   },
   {
    "duration": 18,
    "start_time": "2022-05-13T10:16:30.473Z"
   },
   {
    "duration": 41,
    "start_time": "2022-05-13T10:16:30.493Z"
   },
   {
    "duration": 8,
    "start_time": "2022-05-13T10:16:30.536Z"
   },
   {
    "duration": 127,
    "start_time": "2022-05-13T10:16:30.547Z"
   },
   {
    "duration": 555,
    "start_time": "2022-05-13T10:20:49.163Z"
   },
   {
    "duration": 80,
    "start_time": "2022-05-13T10:20:49.720Z"
   },
   {
    "duration": 30,
    "start_time": "2022-05-13T10:20:49.802Z"
   },
   {
    "duration": 20,
    "start_time": "2022-05-13T10:20:49.835Z"
   },
   {
    "duration": 43,
    "start_time": "2022-05-13T10:20:49.858Z"
   },
   {
    "duration": 14,
    "start_time": "2022-05-13T10:20:49.903Z"
   },
   {
    "duration": 9,
    "start_time": "2022-05-13T10:20:49.919Z"
   },
   {
    "duration": 11,
    "start_time": "2022-05-13T10:20:49.930Z"
   },
   {
    "duration": 63,
    "start_time": "2022-05-13T10:20:49.943Z"
   },
   {
    "duration": 11,
    "start_time": "2022-05-13T10:20:50.010Z"
   },
   {
    "duration": 13,
    "start_time": "2022-05-13T10:20:50.023Z"
   },
   {
    "duration": 7,
    "start_time": "2022-05-13T10:20:50.038Z"
   },
   {
    "duration": 52,
    "start_time": "2022-05-13T10:20:50.046Z"
   },
   {
    "duration": 14,
    "start_time": "2022-05-13T10:20:50.100Z"
   },
   {
    "duration": 8,
    "start_time": "2022-05-13T10:20:50.117Z"
   },
   {
    "duration": 11,
    "start_time": "2022-05-13T10:20:50.127Z"
   },
   {
    "duration": 5,
    "start_time": "2022-05-13T10:20:50.140Z"
   },
   {
    "duration": 38,
    "start_time": "2022-05-13T10:20:50.146Z"
   },
   {
    "duration": 7,
    "start_time": "2022-05-13T10:20:50.186Z"
   },
   {
    "duration": 6,
    "start_time": "2022-05-13T10:20:50.196Z"
   },
   {
    "duration": 18,
    "start_time": "2022-05-13T10:20:50.204Z"
   },
   {
    "duration": 11,
    "start_time": "2022-05-13T10:20:50.224Z"
   },
   {
    "duration": 61,
    "start_time": "2022-05-13T10:20:50.237Z"
   },
   {
    "duration": 15,
    "start_time": "2022-05-13T10:20:50.301Z"
   },
   {
    "duration": 14,
    "start_time": "2022-05-13T10:20:50.318Z"
   },
   {
    "duration": 9,
    "start_time": "2022-05-13T10:20:50.334Z"
   },
   {
    "duration": 56,
    "start_time": "2022-05-13T10:20:50.345Z"
   },
   {
    "duration": 30,
    "start_time": "2022-05-13T10:20:50.406Z"
   },
   {
    "duration": 50,
    "start_time": "2022-05-13T10:20:50.438Z"
   },
   {
    "duration": 12,
    "start_time": "2022-05-13T10:20:50.490Z"
   },
   {
    "duration": 18,
    "start_time": "2022-05-13T10:20:50.504Z"
   },
   {
    "duration": 19,
    "start_time": "2022-05-13T10:20:50.524Z"
   },
   {
    "duration": 37,
    "start_time": "2022-05-13T10:20:50.546Z"
   },
   {
    "duration": 6,
    "start_time": "2022-05-13T10:20:50.585Z"
   },
   {
    "duration": 20,
    "start_time": "2022-05-13T10:20:50.593Z"
   },
   {
    "duration": 21,
    "start_time": "2022-05-13T10:20:50.615Z"
   },
   {
    "duration": 9,
    "start_time": "2022-05-13T10:20:50.638Z"
   },
   {
    "duration": 60,
    "start_time": "2022-05-13T10:20:50.649Z"
   },
   {
    "duration": 10,
    "start_time": "2022-05-13T10:20:50.711Z"
   },
   {
    "duration": 11,
    "start_time": "2022-05-13T10:20:50.723Z"
   },
   {
    "duration": 113,
    "start_time": "2022-05-13T10:20:50.737Z"
   },
   {
    "duration": 20,
    "start_time": "2022-05-13T10:20:50.852Z"
   },
   {
    "duration": 9,
    "start_time": "2022-05-13T10:20:50.882Z"
   },
   {
    "duration": 8,
    "start_time": "2022-05-13T10:20:50.893Z"
   },
   {
    "duration": 12,
    "start_time": "2022-05-13T10:20:50.903Z"
   },
   {
    "duration": 17,
    "start_time": "2022-05-13T10:20:50.917Z"
   },
   {
    "duration": 75,
    "start_time": "2022-05-13T10:20:50.936Z"
   },
   {
    "duration": 7,
    "start_time": "2022-05-13T10:20:51.013Z"
   },
   {
    "duration": 33,
    "start_time": "2022-05-13T10:20:51.022Z"
   },
   {
    "duration": 27,
    "start_time": "2022-05-13T10:42:25.040Z"
   },
   {
    "duration": 96,
    "start_time": "2022-05-13T10:42:54.696Z"
   },
   {
    "duration": 157,
    "start_time": "2022-05-13T10:43:10.595Z"
   },
   {
    "duration": 116,
    "start_time": "2022-05-13T10:43:19.623Z"
   },
   {
    "duration": 31,
    "start_time": "2022-05-13T10:43:39.501Z"
   },
   {
    "duration": 34,
    "start_time": "2022-05-13T10:44:16.979Z"
   },
   {
    "duration": 113,
    "start_time": "2022-05-13T10:44:42.531Z"
   },
   {
    "duration": 45,
    "start_time": "2022-05-13T10:45:10.173Z"
   },
   {
    "duration": 41,
    "start_time": "2022-05-13T10:45:20.124Z"
   },
   {
    "duration": 29,
    "start_time": "2022-05-13T10:45:53.472Z"
   },
   {
    "duration": 29,
    "start_time": "2022-05-13T10:46:07.432Z"
   },
   {
    "duration": 28,
    "start_time": "2022-05-13T10:47:57.515Z"
   },
   {
    "duration": 38,
    "start_time": "2022-05-13T10:48:14.372Z"
   },
   {
    "duration": 30,
    "start_time": "2022-05-13T10:50:41.650Z"
   },
   {
    "duration": 21,
    "start_time": "2022-05-13T11:24:27.598Z"
   },
   {
    "duration": 8,
    "start_time": "2022-05-13T11:25:03.309Z"
   },
   {
    "duration": 8,
    "start_time": "2022-05-13T11:25:53.468Z"
   },
   {
    "duration": 13,
    "start_time": "2022-05-13T11:26:03.514Z"
   },
   {
    "duration": 41,
    "start_time": "2022-05-13T11:27:48.169Z"
   },
   {
    "duration": 30,
    "start_time": "2022-05-13T11:28:02.117Z"
   },
   {
    "duration": 39,
    "start_time": "2022-05-13T11:28:26.944Z"
   },
   {
    "duration": 28,
    "start_time": "2022-05-13T11:29:33.322Z"
   },
   {
    "duration": 31,
    "start_time": "2022-05-13T11:29:43.516Z"
   },
   {
    "duration": 15,
    "start_time": "2022-05-13T11:30:55.057Z"
   },
   {
    "duration": 15,
    "start_time": "2022-05-13T11:31:33.773Z"
   },
   {
    "duration": 1155,
    "start_time": "2022-05-13T11:31:49.207Z"
   },
   {
    "duration": 9,
    "start_time": "2022-05-13T11:32:22.151Z"
   },
   {
    "duration": 1771,
    "start_time": "2022-05-13T11:32:48.139Z"
   },
   {
    "duration": 10,
    "start_time": "2022-05-13T11:33:11.621Z"
   },
   {
    "duration": 9,
    "start_time": "2022-05-13T11:33:48.544Z"
   },
   {
    "duration": 8,
    "start_time": "2022-05-13T11:34:25.783Z"
   },
   {
    "duration": 10,
    "start_time": "2022-05-13T11:36:11.921Z"
   },
   {
    "duration": 8,
    "start_time": "2022-05-13T11:36:50.063Z"
   },
   {
    "duration": 8,
    "start_time": "2022-05-13T11:37:04.662Z"
   },
   {
    "duration": 14,
    "start_time": "2022-05-13T11:37:15.985Z"
   },
   {
    "duration": 9,
    "start_time": "2022-05-13T11:37:31.230Z"
   },
   {
    "duration": 12,
    "start_time": "2022-05-13T11:37:38.195Z"
   },
   {
    "duration": 10,
    "start_time": "2022-05-13T11:39:22.851Z"
   },
   {
    "duration": 32,
    "start_time": "2022-05-13T11:50:53.106Z"
   },
   {
    "duration": 37,
    "start_time": "2022-05-13T11:51:12.010Z"
   },
   {
    "duration": 33,
    "start_time": "2022-05-13T11:52:21.281Z"
   },
   {
    "duration": 34,
    "start_time": "2022-05-13T11:52:35.979Z"
   },
   {
    "duration": 10,
    "start_time": "2022-05-13T12:02:57.699Z"
   },
   {
    "duration": 40,
    "start_time": "2022-05-13T12:06:16.114Z"
   },
   {
    "duration": 36,
    "start_time": "2022-05-13T12:08:22.271Z"
   },
   {
    "duration": 36,
    "start_time": "2022-05-13T12:08:32.869Z"
   },
   {
    "duration": 24,
    "start_time": "2022-05-13T12:10:23.237Z"
   },
   {
    "duration": 43,
    "start_time": "2022-05-13T12:10:55.523Z"
   },
   {
    "duration": 26,
    "start_time": "2022-05-13T12:14:16.365Z"
   },
   {
    "duration": 14,
    "start_time": "2022-05-13T12:21:14.770Z"
   },
   {
    "duration": 16,
    "start_time": "2022-05-13T12:42:28.646Z"
   },
   {
    "duration": 24,
    "start_time": "2022-05-13T12:55:56.846Z"
   },
   {
    "duration": 30,
    "start_time": "2022-05-13T13:19:52.779Z"
   },
   {
    "duration": 11,
    "start_time": "2022-05-13T13:21:19.277Z"
   },
   {
    "duration": 22,
    "start_time": "2022-05-13T13:21:49.626Z"
   },
   {
    "duration": 10,
    "start_time": "2022-05-13T13:22:01.848Z"
   },
   {
    "duration": 9,
    "start_time": "2022-05-13T13:22:09.225Z"
   },
   {
    "duration": 13,
    "start_time": "2022-05-13T13:22:16.275Z"
   },
   {
    "duration": 106,
    "start_time": "2022-05-13T13:23:02.368Z"
   },
   {
    "duration": 9,
    "start_time": "2022-05-13T13:23:20.301Z"
   },
   {
    "duration": 37,
    "start_time": "2022-05-13T13:49:51.798Z"
   },
   {
    "duration": 26,
    "start_time": "2022-05-13T14:19:44.505Z"
   },
   {
    "duration": 584,
    "start_time": "2022-05-13T14:54:58.047Z"
   },
   {
    "duration": 96,
    "start_time": "2022-05-13T14:54:58.633Z"
   },
   {
    "duration": 28,
    "start_time": "2022-05-13T14:54:58.732Z"
   },
   {
    "duration": 38,
    "start_time": "2022-05-13T14:54:58.764Z"
   },
   {
    "duration": 25,
    "start_time": "2022-05-13T14:54:58.804Z"
   },
   {
    "duration": 13,
    "start_time": "2022-05-13T14:54:58.831Z"
   },
   {
    "duration": 37,
    "start_time": "2022-05-13T14:54:58.846Z"
   },
   {
    "duration": 13,
    "start_time": "2022-05-13T14:54:58.887Z"
   },
   {
    "duration": 26,
    "start_time": "2022-05-13T14:54:58.903Z"
   },
   {
    "duration": 10,
    "start_time": "2022-05-13T14:54:58.933Z"
   },
   {
    "duration": 54,
    "start_time": "2022-05-13T14:54:58.946Z"
   },
   {
    "duration": 5,
    "start_time": "2022-05-13T14:54:59.002Z"
   },
   {
    "duration": 21,
    "start_time": "2022-05-13T14:54:59.009Z"
   },
   {
    "duration": 9,
    "start_time": "2022-05-13T14:54:59.032Z"
   },
   {
    "duration": 49,
    "start_time": "2022-05-13T14:54:59.043Z"
   },
   {
    "duration": 18,
    "start_time": "2022-05-13T14:54:59.095Z"
   },
   {
    "duration": 7,
    "start_time": "2022-05-13T14:54:59.115Z"
   },
   {
    "duration": 11,
    "start_time": "2022-05-13T14:54:59.124Z"
   },
   {
    "duration": 12,
    "start_time": "2022-05-13T14:54:59.137Z"
   },
   {
    "duration": 31,
    "start_time": "2022-05-13T14:54:59.152Z"
   },
   {
    "duration": 22,
    "start_time": "2022-05-13T14:54:59.185Z"
   },
   {
    "duration": 14,
    "start_time": "2022-05-13T14:54:59.209Z"
   },
   {
    "duration": 21,
    "start_time": "2022-05-13T14:54:59.225Z"
   },
   {
    "duration": 19,
    "start_time": "2022-05-13T14:54:59.285Z"
   },
   {
    "duration": 13,
    "start_time": "2022-05-13T14:54:59.307Z"
   },
   {
    "duration": 10,
    "start_time": "2022-05-13T14:54:59.322Z"
   },
   {
    "duration": 63,
    "start_time": "2022-05-13T14:54:59.335Z"
   },
   {
    "duration": 29,
    "start_time": "2022-05-13T14:54:59.404Z"
   },
   {
    "duration": 24,
    "start_time": "2022-05-13T14:54:59.435Z"
   },
   {
    "duration": 14,
    "start_time": "2022-05-13T14:54:59.484Z"
   },
   {
    "duration": 14,
    "start_time": "2022-05-13T14:54:59.500Z"
   },
   {
    "duration": 18,
    "start_time": "2022-05-13T14:54:59.516Z"
   },
   {
    "duration": 44,
    "start_time": "2022-05-13T14:54:59.537Z"
   },
   {
    "duration": 9,
    "start_time": "2022-05-13T14:54:59.584Z"
   },
   {
    "duration": 18,
    "start_time": "2022-05-13T14:54:59.597Z"
   },
   {
    "duration": 19,
    "start_time": "2022-05-13T14:54:59.617Z"
   },
   {
    "duration": 43,
    "start_time": "2022-05-13T14:54:59.639Z"
   },
   {
    "duration": 39,
    "start_time": "2022-05-13T14:54:59.685Z"
   },
   {
    "duration": 10,
    "start_time": "2022-05-13T14:54:59.726Z"
   },
   {
    "duration": 13,
    "start_time": "2022-05-13T14:54:59.739Z"
   },
   {
    "duration": 115,
    "start_time": "2022-05-13T14:54:59.754Z"
   },
   {
    "duration": 30,
    "start_time": "2022-05-13T14:54:59.871Z"
   },
   {
    "duration": 11,
    "start_time": "2022-05-13T14:54:59.904Z"
   },
   {
    "duration": 9,
    "start_time": "2022-05-13T14:54:59.918Z"
   },
   {
    "duration": 10,
    "start_time": "2022-05-13T14:54:59.929Z"
   },
   {
    "duration": 59,
    "start_time": "2022-05-13T14:54:59.941Z"
   },
   {
    "duration": 33,
    "start_time": "2022-05-13T14:55:00.003Z"
   },
   {
    "duration": 10,
    "start_time": "2022-05-13T14:55:00.038Z"
   },
   {
    "duration": 58,
    "start_time": "2022-05-13T14:55:00.050Z"
   },
   {
    "duration": 22,
    "start_time": "2022-05-13T14:55:00.110Z"
   },
   {
    "duration": 8,
    "start_time": "2022-05-13T14:55:00.134Z"
   },
   {
    "duration": 40,
    "start_time": "2022-05-13T14:55:00.144Z"
   },
   {
    "duration": 22,
    "start_time": "2022-05-13T14:55:00.187Z"
   },
   {
    "duration": 23,
    "start_time": "2022-05-13T14:55:00.211Z"
   },
   {
    "duration": 52,
    "start_time": "2022-05-13T14:55:00.237Z"
   },
   {
    "duration": 32,
    "start_time": "2022-05-13T15:11:45.615Z"
   },
   {
    "duration": 555,
    "start_time": "2022-05-13T15:13:36.143Z"
   },
   {
    "duration": 85,
    "start_time": "2022-05-13T15:13:36.702Z"
   },
   {
    "duration": 31,
    "start_time": "2022-05-13T15:13:36.790Z"
   },
   {
    "duration": 19,
    "start_time": "2022-05-13T15:13:36.824Z"
   },
   {
    "duration": 62,
    "start_time": "2022-05-13T15:13:36.845Z"
   },
   {
    "duration": 13,
    "start_time": "2022-05-13T15:13:36.909Z"
   },
   {
    "duration": 10,
    "start_time": "2022-05-13T15:13:36.924Z"
   },
   {
    "duration": 8,
    "start_time": "2022-05-13T15:13:36.937Z"
   },
   {
    "duration": 60,
    "start_time": "2022-05-13T15:13:36.947Z"
   },
   {
    "duration": 10,
    "start_time": "2022-05-13T15:13:37.011Z"
   },
   {
    "duration": 14,
    "start_time": "2022-05-13T15:13:37.023Z"
   },
   {
    "duration": 5,
    "start_time": "2022-05-13T15:13:37.038Z"
   },
   {
    "duration": 56,
    "start_time": "2022-05-13T15:13:37.045Z"
   },
   {
    "duration": 9,
    "start_time": "2022-05-13T15:13:37.104Z"
   },
   {
    "duration": 7,
    "start_time": "2022-05-13T15:13:37.115Z"
   },
   {
    "duration": 7,
    "start_time": "2022-05-13T15:13:37.124Z"
   },
   {
    "duration": 5,
    "start_time": "2022-05-13T15:13:37.133Z"
   },
   {
    "duration": 54,
    "start_time": "2022-05-13T15:13:37.140Z"
   },
   {
    "duration": 12,
    "start_time": "2022-05-13T15:13:37.197Z"
   },
   {
    "duration": 5,
    "start_time": "2022-05-13T15:13:37.212Z"
   },
   {
    "duration": 20,
    "start_time": "2022-05-13T15:13:37.219Z"
   },
   {
    "duration": 44,
    "start_time": "2022-05-13T15:13:37.241Z"
   },
   {
    "duration": 23,
    "start_time": "2022-05-13T15:13:37.289Z"
   },
   {
    "duration": 16,
    "start_time": "2022-05-13T15:13:37.315Z"
   },
   {
    "duration": 14,
    "start_time": "2022-05-13T15:13:37.334Z"
   },
   {
    "duration": 48,
    "start_time": "2022-05-13T15:13:37.351Z"
   },
   {
    "duration": 31,
    "start_time": "2022-05-13T15:13:37.402Z"
   },
   {
    "duration": 57,
    "start_time": "2022-05-13T15:13:37.439Z"
   },
   {
    "duration": 29,
    "start_time": "2022-05-13T15:13:37.499Z"
   },
   {
    "duration": 11,
    "start_time": "2022-05-13T15:13:37.531Z"
   },
   {
    "duration": 44,
    "start_time": "2022-05-13T15:13:37.545Z"
   },
   {
    "duration": 13,
    "start_time": "2022-05-13T15:13:37.592Z"
   },
   {
    "duration": 18,
    "start_time": "2022-05-13T15:13:37.607Z"
   },
   {
    "duration": 10,
    "start_time": "2022-05-13T15:13:37.627Z"
   },
   {
    "duration": 29,
    "start_time": "2022-05-13T15:13:37.639Z"
   },
   {
    "duration": 33,
    "start_time": "2022-05-13T15:13:37.671Z"
   },
   {
    "duration": 9,
    "start_time": "2022-05-13T15:13:37.708Z"
   },
   {
    "duration": 72,
    "start_time": "2022-05-13T15:13:37.719Z"
   },
   {
    "duration": 11,
    "start_time": "2022-05-13T15:13:37.796Z"
   },
   {
    "duration": 6,
    "start_time": "2022-05-13T15:13:37.809Z"
   },
   {
    "duration": 108,
    "start_time": "2022-05-13T15:13:37.817Z"
   },
   {
    "duration": 20,
    "start_time": "2022-05-13T15:13:37.927Z"
   },
   {
    "duration": 11,
    "start_time": "2022-05-13T15:13:37.950Z"
   },
   {
    "duration": 12,
    "start_time": "2022-05-13T15:13:37.989Z"
   },
   {
    "duration": 10,
    "start_time": "2022-05-13T15:13:38.004Z"
   },
   {
    "duration": 20,
    "start_time": "2022-05-13T15:13:38.016Z"
   },
   {
    "duration": 69,
    "start_time": "2022-05-13T15:13:38.038Z"
   },
   {
    "duration": 9,
    "start_time": "2022-05-13T15:13:38.110Z"
   },
   {
    "duration": 28,
    "start_time": "2022-05-13T15:13:38.121Z"
   },
   {
    "duration": 46,
    "start_time": "2022-05-13T15:13:38.152Z"
   },
   {
    "duration": 9,
    "start_time": "2022-05-13T15:13:38.201Z"
   },
   {
    "duration": 8,
    "start_time": "2022-05-13T15:13:38.212Z"
   },
   {
    "duration": 6,
    "start_time": "2022-05-13T15:13:38.223Z"
   },
   {
    "duration": 71,
    "start_time": "2022-05-13T15:13:38.231Z"
   },
   {
    "duration": 25,
    "start_time": "2022-05-13T15:13:38.305Z"
   },
   {
    "duration": 434,
    "start_time": "2022-05-13T18:35:18.372Z"
   },
   {
    "duration": 84,
    "start_time": "2022-05-13T18:35:18.808Z"
   },
   {
    "duration": 39,
    "start_time": "2022-05-13T18:35:22.591Z"
   },
   {
    "duration": 12,
    "start_time": "2022-05-13T18:35:22.631Z"
   },
   {
    "duration": 15,
    "start_time": "2022-05-13T18:35:22.645Z"
   },
   {
    "duration": 20,
    "start_time": "2022-05-13T18:35:22.662Z"
   },
   {
    "duration": 42,
    "start_time": "2022-05-13T18:35:22.684Z"
   },
   {
    "duration": 8,
    "start_time": "2022-05-13T18:35:22.728Z"
   },
   {
    "duration": 20,
    "start_time": "2022-05-13T18:35:22.737Z"
   },
   {
    "duration": 16,
    "start_time": "2022-05-13T18:35:22.759Z"
   },
   {
    "duration": 5,
    "start_time": "2022-05-13T18:35:22.777Z"
   },
   {
    "duration": 43,
    "start_time": "2022-05-13T18:35:22.784Z"
   },
   {
    "duration": 29,
    "start_time": "2022-05-13T18:35:22.828Z"
   },
   {
    "duration": 18,
    "start_time": "2022-05-13T18:35:22.860Z"
   },
   {
    "duration": 17,
    "start_time": "2022-05-13T18:35:22.880Z"
   },
   {
    "duration": 494,
    "start_time": "2022-05-13T18:36:23.454Z"
   },
   {
    "duration": 87,
    "start_time": "2022-05-13T18:36:23.952Z"
   },
   {
    "duration": 20,
    "start_time": "2022-05-13T18:36:24.042Z"
   },
   {
    "duration": 12,
    "start_time": "2022-05-13T18:36:24.064Z"
   },
   {
    "duration": 41,
    "start_time": "2022-05-13T18:36:24.077Z"
   },
   {
    "duration": 24,
    "start_time": "2022-05-13T18:36:24.120Z"
   },
   {
    "duration": 9,
    "start_time": "2022-05-13T18:36:24.146Z"
   },
   {
    "duration": 12,
    "start_time": "2022-05-13T18:36:24.157Z"
   },
   {
    "duration": 30,
    "start_time": "2022-05-13T18:36:24.171Z"
   },
   {
    "duration": 11,
    "start_time": "2022-05-13T18:36:24.205Z"
   },
   {
    "duration": 29,
    "start_time": "2022-05-13T18:36:24.217Z"
   },
   {
    "duration": 7,
    "start_time": "2022-05-13T18:36:24.248Z"
   },
   {
    "duration": 19,
    "start_time": "2022-05-13T18:36:24.256Z"
   },
   {
    "duration": 8,
    "start_time": "2022-05-13T18:36:24.276Z"
   },
   {
    "duration": 16,
    "start_time": "2022-05-13T18:36:24.285Z"
   },
   {
    "duration": 6,
    "start_time": "2022-05-13T18:36:24.303Z"
   },
   {
    "duration": 29,
    "start_time": "2022-05-13T18:36:24.311Z"
   },
   {
    "duration": 7,
    "start_time": "2022-05-13T18:36:24.342Z"
   },
   {
    "duration": 13,
    "start_time": "2022-05-13T18:36:24.350Z"
   },
   {
    "duration": 5,
    "start_time": "2022-05-13T18:36:24.365Z"
   },
   {
    "duration": 21,
    "start_time": "2022-05-13T18:36:24.372Z"
   },
   {
    "duration": 11,
    "start_time": "2022-05-13T18:36:24.395Z"
   },
   {
    "duration": 47,
    "start_time": "2022-05-13T18:36:24.409Z"
   },
   {
    "duration": 17,
    "start_time": "2022-05-13T18:36:24.458Z"
   },
   {
    "duration": 15,
    "start_time": "2022-05-13T18:36:24.477Z"
   },
   {
    "duration": 10,
    "start_time": "2022-05-13T18:36:24.494Z"
   },
   {
    "duration": 45,
    "start_time": "2022-05-13T18:36:24.506Z"
   },
   {
    "duration": 19,
    "start_time": "2022-05-13T18:36:24.556Z"
   },
   {
    "duration": 17,
    "start_time": "2022-05-13T18:36:24.577Z"
   },
   {
    "duration": 20,
    "start_time": "2022-05-13T18:36:24.598Z"
   },
   {
    "duration": 23,
    "start_time": "2022-05-13T18:36:24.620Z"
   },
   {
    "duration": 7,
    "start_time": "2022-05-13T18:36:24.645Z"
   },
   {
    "duration": 15,
    "start_time": "2022-05-13T18:36:24.654Z"
   },
   {
    "duration": 7,
    "start_time": "2022-05-13T18:36:24.671Z"
   },
   {
    "duration": 21,
    "start_time": "2022-05-13T18:36:24.679Z"
   },
   {
    "duration": 16,
    "start_time": "2022-05-13T18:36:24.703Z"
   },
   {
    "duration": 27,
    "start_time": "2022-05-13T18:36:24.722Z"
   },
   {
    "duration": 29,
    "start_time": "2022-05-13T18:36:24.751Z"
   },
   {
    "duration": 7,
    "start_time": "2022-05-13T18:36:24.782Z"
   },
   {
    "duration": 39,
    "start_time": "2022-05-13T18:36:24.791Z"
   },
   {
    "duration": 50,
    "start_time": "2022-05-13T18:36:24.832Z"
   },
   {
    "duration": 13,
    "start_time": "2022-05-13T18:36:24.883Z"
   },
   {
    "duration": 8,
    "start_time": "2022-05-13T18:36:24.897Z"
   },
   {
    "duration": 35,
    "start_time": "2022-05-13T18:36:24.907Z"
   },
   {
    "duration": 15,
    "start_time": "2022-05-13T18:36:24.944Z"
   },
   {
    "duration": 21,
    "start_time": "2022-05-13T18:36:24.962Z"
   },
   {
    "duration": 39,
    "start_time": "2022-05-13T18:36:24.985Z"
   },
   {
    "duration": 15,
    "start_time": "2022-05-13T18:36:25.029Z"
   },
   {
    "duration": 27,
    "start_time": "2022-05-13T18:36:25.045Z"
   },
   {
    "duration": 28,
    "start_time": "2022-05-13T18:36:25.074Z"
   },
   {
    "duration": 9,
    "start_time": "2022-05-13T18:36:25.104Z"
   },
   {
    "duration": 33,
    "start_time": "2022-05-13T18:36:25.114Z"
   },
   {
    "duration": 7,
    "start_time": "2022-05-13T18:36:25.149Z"
   },
   {
    "duration": 27,
    "start_time": "2022-05-13T18:36:25.158Z"
   },
   {
    "duration": 29,
    "start_time": "2022-05-13T18:36:25.187Z"
   },
   {
    "duration": 388,
    "start_time": "2022-05-13T18:40:50.144Z"
   },
   {
    "duration": 83,
    "start_time": "2022-05-13T18:40:50.534Z"
   },
   {
    "duration": 21,
    "start_time": "2022-05-13T18:40:50.619Z"
   },
   {
    "duration": 14,
    "start_time": "2022-05-13T18:40:50.643Z"
   },
   {
    "duration": 15,
    "start_time": "2022-05-13T18:40:50.659Z"
   },
   {
    "duration": 31,
    "start_time": "2022-05-13T18:40:50.676Z"
   },
   {
    "duration": 7,
    "start_time": "2022-05-13T18:40:50.708Z"
   },
   {
    "duration": 12,
    "start_time": "2022-05-13T18:40:50.717Z"
   },
   {
    "duration": 16,
    "start_time": "2022-05-13T18:40:50.731Z"
   },
   {
    "duration": 8,
    "start_time": "2022-05-13T18:40:50.751Z"
   },
   {
    "duration": 40,
    "start_time": "2022-05-13T18:40:50.761Z"
   },
   {
    "duration": 19,
    "start_time": "2022-05-13T18:40:50.807Z"
   },
   {
    "duration": 16,
    "start_time": "2022-05-13T18:40:50.828Z"
   },
   {
    "duration": 11,
    "start_time": "2022-05-13T18:40:50.845Z"
   },
   {
    "duration": 6,
    "start_time": "2022-05-13T18:40:50.858Z"
   },
   {
    "duration": 9,
    "start_time": "2022-05-13T18:40:50.865Z"
   },
   {
    "duration": 5,
    "start_time": "2022-05-13T18:40:50.876Z"
   },
   {
    "duration": 7,
    "start_time": "2022-05-13T18:40:50.883Z"
   },
   {
    "duration": 5,
    "start_time": "2022-05-13T18:40:50.900Z"
   },
   {
    "duration": 17,
    "start_time": "2022-05-13T18:40:50.907Z"
   },
   {
    "duration": 13,
    "start_time": "2022-05-13T18:40:50.927Z"
   },
   {
    "duration": 12,
    "start_time": "2022-05-13T18:40:50.941Z"
   },
   {
    "duration": 15,
    "start_time": "2022-05-13T18:40:50.955Z"
   },
   {
    "duration": 11,
    "start_time": "2022-05-13T18:40:50.971Z"
   },
   {
    "duration": 26,
    "start_time": "2022-05-13T18:40:50.983Z"
   },
   {
    "duration": 24,
    "start_time": "2022-05-13T18:40:51.011Z"
   },
   {
    "duration": 16,
    "start_time": "2022-05-13T18:40:51.037Z"
   },
   {
    "duration": 16,
    "start_time": "2022-05-13T18:40:51.057Z"
   },
   {
    "duration": 30,
    "start_time": "2022-05-13T18:40:51.075Z"
   },
   {
    "duration": 11,
    "start_time": "2022-05-13T18:40:51.108Z"
   },
   {
    "duration": 19,
    "start_time": "2022-05-13T18:40:51.120Z"
   },
   {
    "duration": 9,
    "start_time": "2022-05-13T18:40:51.140Z"
   },
   {
    "duration": 12,
    "start_time": "2022-05-13T18:40:51.151Z"
   },
   {
    "duration": 6,
    "start_time": "2022-05-13T18:40:51.165Z"
   },
   {
    "duration": 12,
    "start_time": "2022-05-13T18:40:51.173Z"
   },
   {
    "duration": 24,
    "start_time": "2022-05-13T18:40:51.187Z"
   },
   {
    "duration": 24,
    "start_time": "2022-05-13T18:40:51.212Z"
   },
   {
    "duration": 24,
    "start_time": "2022-05-13T18:40:51.238Z"
   },
   {
    "duration": 8,
    "start_time": "2022-05-13T18:40:51.264Z"
   },
   {
    "duration": 8,
    "start_time": "2022-05-13T18:40:51.274Z"
   },
   {
    "duration": 65,
    "start_time": "2022-05-13T18:40:51.283Z"
   },
   {
    "duration": 13,
    "start_time": "2022-05-13T18:40:51.349Z"
   },
   {
    "duration": 6,
    "start_time": "2022-05-13T18:40:51.363Z"
   },
   {
    "duration": 10,
    "start_time": "2022-05-13T18:40:51.371Z"
   },
   {
    "duration": 24,
    "start_time": "2022-05-13T18:40:51.382Z"
   },
   {
    "duration": 18,
    "start_time": "2022-05-13T18:40:51.408Z"
   },
   {
    "duration": 25,
    "start_time": "2022-05-13T18:40:51.427Z"
   },
   {
    "duration": 6,
    "start_time": "2022-05-13T18:40:51.454Z"
   },
   {
    "duration": 18,
    "start_time": "2022-05-13T18:40:51.462Z"
   },
   {
    "duration": 33,
    "start_time": "2022-05-13T18:40:51.482Z"
   },
   {
    "duration": 13,
    "start_time": "2022-05-13T18:40:51.517Z"
   },
   {
    "duration": 6,
    "start_time": "2022-05-13T18:40:51.532Z"
   },
   {
    "duration": 7,
    "start_time": "2022-05-13T18:40:51.539Z"
   },
   {
    "duration": 14,
    "start_time": "2022-05-13T18:40:51.548Z"
   },
   {
    "duration": 48,
    "start_time": "2022-05-13T18:40:51.563Z"
   },
   {
    "duration": 134,
    "start_time": "2022-05-14T08:34:22.863Z"
   },
   {
    "duration": 161,
    "start_time": "2022-05-14T08:42:22.716Z"
   },
   {
    "duration": 70,
    "start_time": "2022-05-14T10:21:47.832Z"
   },
   {
    "duration": 542,
    "start_time": "2022-05-14T10:21:59.850Z"
   },
   {
    "duration": 78,
    "start_time": "2022-05-14T10:22:00.396Z"
   },
   {
    "duration": 51,
    "start_time": "2022-05-14T10:22:00.476Z"
   },
   {
    "duration": 19,
    "start_time": "2022-05-14T10:22:00.531Z"
   },
   {
    "duration": 29,
    "start_time": "2022-05-14T10:22:00.552Z"
   },
   {
    "duration": 21,
    "start_time": "2022-05-14T10:22:00.583Z"
   },
   {
    "duration": 10,
    "start_time": "2022-05-14T10:22:00.624Z"
   },
   {
    "duration": 18,
    "start_time": "2022-05-14T10:22:00.637Z"
   },
   {
    "duration": 27,
    "start_time": "2022-05-14T10:22:00.657Z"
   },
   {
    "duration": 39,
    "start_time": "2022-05-14T10:22:00.688Z"
   },
   {
    "duration": 15,
    "start_time": "2022-05-14T10:22:00.729Z"
   },
   {
    "duration": 14,
    "start_time": "2022-05-14T10:22:00.747Z"
   },
   {
    "duration": 20,
    "start_time": "2022-05-14T10:22:00.763Z"
   },
   {
    "duration": 40,
    "start_time": "2022-05-14T10:22:00.786Z"
   },
   {
    "duration": 35,
    "start_time": "2022-05-14T10:22:00.828Z"
   },
   {
    "duration": 19,
    "start_time": "2022-05-14T10:22:00.866Z"
   },
   {
    "duration": 10,
    "start_time": "2022-05-14T10:22:00.887Z"
   },
   {
    "duration": 9,
    "start_time": "2022-05-14T10:22:00.900Z"
   },
   {
    "duration": 16,
    "start_time": "2022-05-14T10:22:00.912Z"
   },
   {
    "duration": 16,
    "start_time": "2022-05-14T10:22:00.931Z"
   },
   {
    "duration": 8,
    "start_time": "2022-05-14T10:22:00.950Z"
   },
   {
    "duration": 32,
    "start_time": "2022-05-14T10:22:00.961Z"
   },
   {
    "duration": 34,
    "start_time": "2022-05-14T10:22:00.996Z"
   },
   {
    "duration": 24,
    "start_time": "2022-05-14T10:22:01.033Z"
   },
   {
    "duration": 20,
    "start_time": "2022-05-14T10:22:01.059Z"
   },
   {
    "duration": 18,
    "start_time": "2022-05-14T10:22:01.081Z"
   },
   {
    "duration": 30,
    "start_time": "2022-05-14T10:22:01.102Z"
   },
   {
    "duration": 27,
    "start_time": "2022-05-14T10:22:01.138Z"
   },
   {
    "duration": 58,
    "start_time": "2022-05-14T10:22:01.167Z"
   },
   {
    "duration": 27,
    "start_time": "2022-05-14T10:22:01.227Z"
   },
   {
    "duration": 12,
    "start_time": "2022-05-14T10:22:01.256Z"
   },
   {
    "duration": 31,
    "start_time": "2022-05-14T10:22:01.270Z"
   },
   {
    "duration": 22,
    "start_time": "2022-05-14T10:22:01.303Z"
   },
   {
    "duration": 26,
    "start_time": "2022-05-14T10:22:01.327Z"
   },
   {
    "duration": 20,
    "start_time": "2022-05-14T10:22:01.356Z"
   },
   {
    "duration": 24,
    "start_time": "2022-05-14T10:22:01.379Z"
   },
   {
    "duration": 31,
    "start_time": "2022-05-14T10:22:01.406Z"
   },
   {
    "duration": 10,
    "start_time": "2022-05-14T10:22:01.439Z"
   },
   {
    "duration": 38,
    "start_time": "2022-05-14T10:22:01.451Z"
   },
   {
    "duration": 36,
    "start_time": "2022-05-14T10:22:01.490Z"
   },
   {
    "duration": 9,
    "start_time": "2022-05-14T10:22:01.529Z"
   },
   {
    "duration": 105,
    "start_time": "2022-05-14T10:22:01.541Z"
   },
   {
    "duration": 20,
    "start_time": "2022-05-14T10:22:01.649Z"
   },
   {
    "duration": 9,
    "start_time": "2022-05-14T10:22:01.672Z"
   },
   {
    "duration": 15,
    "start_time": "2022-05-14T10:22:01.684Z"
   },
   {
    "duration": 16,
    "start_time": "2022-05-14T10:22:01.725Z"
   },
   {
    "duration": 25,
    "start_time": "2022-05-14T10:22:01.743Z"
   },
   {
    "duration": 53,
    "start_time": "2022-05-14T10:22:01.771Z"
   },
   {
    "duration": 13,
    "start_time": "2022-05-14T10:22:01.826Z"
   },
   {
    "duration": 26,
    "start_time": "2022-05-14T10:22:01.842Z"
   },
   {
    "duration": 60,
    "start_time": "2022-05-14T10:22:01.871Z"
   },
   {
    "duration": 8,
    "start_time": "2022-05-14T10:22:01.934Z"
   },
   {
    "duration": 21,
    "start_time": "2022-05-14T10:22:01.945Z"
   },
   {
    "duration": 17,
    "start_time": "2022-05-14T10:22:01.969Z"
   },
   {
    "duration": 45,
    "start_time": "2022-05-14T10:22:01.988Z"
   },
   {
    "duration": 26,
    "start_time": "2022-05-14T10:22:02.035Z"
   },
   {
    "duration": 19,
    "start_time": "2022-05-14T10:22:23.804Z"
   },
   {
    "duration": 100,
    "start_time": "2022-05-14T10:23:37.259Z"
   },
   {
    "duration": 14,
    "start_time": "2022-05-14T10:23:53.110Z"
   },
   {
    "duration": 17,
    "start_time": "2022-05-14T10:25:36.498Z"
   },
   {
    "duration": 533,
    "start_time": "2022-05-14T10:26:07.072Z"
   },
   {
    "duration": 84,
    "start_time": "2022-05-14T10:26:07.608Z"
   },
   {
    "duration": 42,
    "start_time": "2022-05-14T10:26:07.695Z"
   },
   {
    "duration": 21,
    "start_time": "2022-05-14T10:26:07.740Z"
   },
   {
    "duration": 29,
    "start_time": "2022-05-14T10:26:07.764Z"
   },
   {
    "duration": 50,
    "start_time": "2022-05-14T10:26:07.795Z"
   },
   {
    "duration": 14,
    "start_time": "2022-05-14T10:26:07.847Z"
   },
   {
    "duration": 10,
    "start_time": "2022-05-14T10:26:07.863Z"
   },
   {
    "duration": 66,
    "start_time": "2022-05-14T10:26:07.876Z"
   },
   {
    "duration": 125,
    "start_time": "2022-05-14T10:26:07.945Z"
   },
   {
    "duration": 14,
    "start_time": "2022-05-14T10:26:08.072Z"
   },
   {
    "duration": 15,
    "start_time": "2022-05-14T10:26:08.089Z"
   },
   {
    "duration": 6,
    "start_time": "2022-05-14T10:26:08.106Z"
   },
   {
    "duration": 32,
    "start_time": "2022-05-14T10:26:08.117Z"
   },
   {
    "duration": 12,
    "start_time": "2022-05-14T10:26:08.152Z"
   },
   {
    "duration": 8,
    "start_time": "2022-05-14T10:26:08.166Z"
   },
   {
    "duration": 10,
    "start_time": "2022-05-14T10:26:08.176Z"
   },
   {
    "duration": 39,
    "start_time": "2022-05-14T10:26:08.188Z"
   },
   {
    "duration": 26,
    "start_time": "2022-05-14T10:26:08.231Z"
   },
   {
    "duration": 11,
    "start_time": "2022-05-14T10:26:08.259Z"
   },
   {
    "duration": 8,
    "start_time": "2022-05-14T10:26:08.273Z"
   },
   {
    "duration": 30,
    "start_time": "2022-05-14T10:26:08.284Z"
   },
   {
    "duration": 13,
    "start_time": "2022-05-14T10:26:08.326Z"
   },
   {
    "duration": 29,
    "start_time": "2022-05-14T10:26:08.344Z"
   },
   {
    "duration": 17,
    "start_time": "2022-05-14T10:26:08.376Z"
   },
   {
    "duration": 17,
    "start_time": "2022-05-14T10:26:08.425Z"
   },
   {
    "duration": 24,
    "start_time": "2022-05-14T10:26:08.445Z"
   },
   {
    "duration": 26,
    "start_time": "2022-05-14T10:26:08.472Z"
   },
   {
    "duration": 58,
    "start_time": "2022-05-14T10:26:08.500Z"
   },
   {
    "duration": 26,
    "start_time": "2022-05-14T10:26:08.560Z"
   },
   {
    "duration": 37,
    "start_time": "2022-05-14T10:26:08.588Z"
   },
   {
    "duration": 22,
    "start_time": "2022-05-14T10:26:08.628Z"
   },
   {
    "duration": 13,
    "start_time": "2022-05-14T10:26:08.653Z"
   },
   {
    "duration": 19,
    "start_time": "2022-05-14T10:26:08.669Z"
   },
   {
    "duration": 13,
    "start_time": "2022-05-14T10:26:08.690Z"
   },
   {
    "duration": 32,
    "start_time": "2022-05-14T10:26:08.725Z"
   },
   {
    "duration": 27,
    "start_time": "2022-05-14T10:26:08.760Z"
   },
   {
    "duration": 20,
    "start_time": "2022-05-14T10:26:08.789Z"
   },
   {
    "duration": 62,
    "start_time": "2022-05-14T10:26:08.811Z"
   },
   {
    "duration": 10,
    "start_time": "2022-05-14T10:26:08.876Z"
   },
   {
    "duration": 7,
    "start_time": "2022-05-14T10:26:08.892Z"
   },
   {
    "duration": 101,
    "start_time": "2022-05-14T10:26:08.901Z"
   },
   {
    "duration": 29,
    "start_time": "2022-05-14T10:26:09.004Z"
   },
   {
    "duration": 14,
    "start_time": "2022-05-14T10:26:09.036Z"
   },
   {
    "duration": 14,
    "start_time": "2022-05-14T10:26:09.054Z"
   },
   {
    "duration": 14,
    "start_time": "2022-05-14T10:26:09.070Z"
   },
   {
    "duration": 52,
    "start_time": "2022-05-14T10:26:09.086Z"
   },
   {
    "duration": 38,
    "start_time": "2022-05-14T10:26:09.141Z"
   },
   {
    "duration": 11,
    "start_time": "2022-05-14T10:26:09.182Z"
   },
   {
    "duration": 33,
    "start_time": "2022-05-14T10:26:09.225Z"
   },
   {
    "duration": 24,
    "start_time": "2022-05-14T10:26:09.261Z"
   },
   {
    "duration": 38,
    "start_time": "2022-05-14T10:26:09.287Z"
   },
   {
    "duration": 10,
    "start_time": "2022-05-14T10:26:09.327Z"
   },
   {
    "duration": 33,
    "start_time": "2022-05-14T10:26:09.341Z"
   },
   {
    "duration": 31,
    "start_time": "2022-05-14T10:26:09.377Z"
   },
   {
    "duration": 45,
    "start_time": "2022-05-14T10:26:09.410Z"
   },
   {
    "duration": 15,
    "start_time": "2022-05-14T10:29:18.003Z"
   },
   {
    "duration": 567,
    "start_time": "2022-05-14T10:29:37.089Z"
   },
   {
    "duration": 81,
    "start_time": "2022-05-14T10:29:37.660Z"
   },
   {
    "duration": 29,
    "start_time": "2022-05-14T10:29:37.743Z"
   },
   {
    "duration": 20,
    "start_time": "2022-05-14T10:29:37.775Z"
   },
   {
    "duration": 52,
    "start_time": "2022-05-14T10:29:37.797Z"
   },
   {
    "duration": 17,
    "start_time": "2022-05-14T10:29:37.852Z"
   },
   {
    "duration": 16,
    "start_time": "2022-05-14T10:29:37.872Z"
   },
   {
    "duration": 47,
    "start_time": "2022-05-14T10:29:37.891Z"
   },
   {
    "duration": 25,
    "start_time": "2022-05-14T10:29:37.942Z"
   },
   {
    "duration": 15,
    "start_time": "2022-05-14T10:29:37.971Z"
   },
   {
    "duration": 17,
    "start_time": "2022-05-14T10:29:38.023Z"
   },
   {
    "duration": 17,
    "start_time": "2022-05-14T10:29:38.043Z"
   },
   {
    "duration": 5,
    "start_time": "2022-05-14T10:29:38.062Z"
   },
   {
    "duration": 54,
    "start_time": "2022-05-14T10:29:38.070Z"
   },
   {
    "duration": 23,
    "start_time": "2022-05-14T10:29:38.128Z"
   },
   {
    "duration": 7,
    "start_time": "2022-05-14T10:29:38.154Z"
   },
   {
    "duration": 7,
    "start_time": "2022-05-14T10:29:38.163Z"
   },
   {
    "duration": 6,
    "start_time": "2022-05-14T10:29:38.173Z"
   },
   {
    "duration": 11,
    "start_time": "2022-05-14T10:29:38.181Z"
   },
   {
    "duration": 41,
    "start_time": "2022-05-14T10:29:38.194Z"
   },
   {
    "duration": 11,
    "start_time": "2022-05-14T10:29:38.238Z"
   },
   {
    "duration": 17,
    "start_time": "2022-05-14T10:29:38.251Z"
   },
   {
    "duration": 11,
    "start_time": "2022-05-14T10:29:38.270Z"
   },
   {
    "duration": 54,
    "start_time": "2022-05-14T10:29:38.283Z"
   },
   {
    "duration": 24,
    "start_time": "2022-05-14T10:29:38.340Z"
   },
   {
    "duration": 16,
    "start_time": "2022-05-14T10:29:38.366Z"
   },
   {
    "duration": 10,
    "start_time": "2022-05-14T10:29:38.384Z"
   },
   {
    "duration": 57,
    "start_time": "2022-05-14T10:29:38.399Z"
   },
   {
    "duration": 30,
    "start_time": "2022-05-14T10:29:38.459Z"
   },
   {
    "duration": 61,
    "start_time": "2022-05-14T10:29:38.491Z"
   },
   {
    "duration": 12,
    "start_time": "2022-05-14T10:29:38.555Z"
   },
   {
    "duration": 20,
    "start_time": "2022-05-14T10:29:38.569Z"
   },
   {
    "duration": 37,
    "start_time": "2022-05-14T10:29:38.591Z"
   },
   {
    "duration": 26,
    "start_time": "2022-05-14T10:29:38.632Z"
   },
   {
    "duration": 7,
    "start_time": "2022-05-14T10:29:38.661Z"
   },
   {
    "duration": 27,
    "start_time": "2022-05-14T10:29:38.670Z"
   },
   {
    "duration": 34,
    "start_time": "2022-05-14T10:29:38.699Z"
   },
   {
    "duration": 13,
    "start_time": "2022-05-14T10:29:38.736Z"
   },
   {
    "duration": 37,
    "start_time": "2022-05-14T10:29:38.751Z"
   },
   {
    "duration": 49,
    "start_time": "2022-05-14T10:29:38.790Z"
   },
   {
    "duration": 12,
    "start_time": "2022-05-14T10:29:38.842Z"
   },
   {
    "duration": 110,
    "start_time": "2022-05-14T10:29:38.856Z"
   },
   {
    "duration": 20,
    "start_time": "2022-05-14T10:29:38.968Z"
   },
   {
    "duration": 12,
    "start_time": "2022-05-14T10:29:38.991Z"
   },
   {
    "duration": 14,
    "start_time": "2022-05-14T10:29:39.026Z"
   },
   {
    "duration": 13,
    "start_time": "2022-05-14T10:29:39.044Z"
   },
   {
    "duration": 19,
    "start_time": "2022-05-14T10:29:39.060Z"
   },
   {
    "duration": 77,
    "start_time": "2022-05-14T10:29:39.082Z"
   },
   {
    "duration": 10,
    "start_time": "2022-05-14T10:29:39.162Z"
   },
   {
    "duration": 49,
    "start_time": "2022-05-14T10:29:39.175Z"
   },
   {
    "duration": 26,
    "start_time": "2022-05-14T10:29:39.227Z"
   },
   {
    "duration": 9,
    "start_time": "2022-05-14T10:29:39.255Z"
   },
   {
    "duration": 11,
    "start_time": "2022-05-14T10:29:39.266Z"
   },
   {
    "duration": 48,
    "start_time": "2022-05-14T10:29:39.279Z"
   },
   {
    "duration": 29,
    "start_time": "2022-05-14T10:29:39.332Z"
   },
   {
    "duration": 24,
    "start_time": "2022-05-14T10:29:39.363Z"
   },
   {
    "duration": 7,
    "start_time": "2022-05-14T10:31:41.901Z"
   },
   {
    "duration": 20,
    "start_time": "2022-05-14T10:35:44.581Z"
   },
   {
    "duration": 8,
    "start_time": "2022-05-14T10:37:50.994Z"
   },
   {
    "duration": 7,
    "start_time": "2022-05-14T10:38:23.316Z"
   },
   {
    "duration": 6,
    "start_time": "2022-05-14T10:38:43.957Z"
   },
   {
    "duration": 105,
    "start_time": "2022-05-14T10:52:16.163Z"
   },
   {
    "duration": 20,
    "start_time": "2022-05-14T10:52:32.354Z"
   },
   {
    "duration": 19,
    "start_time": "2022-05-14T11:13:33.423Z"
   },
   {
    "duration": 525,
    "start_time": "2022-05-14T11:13:44.572Z"
   },
   {
    "duration": 78,
    "start_time": "2022-05-14T11:13:45.099Z"
   },
   {
    "duration": 28,
    "start_time": "2022-05-14T11:13:45.180Z"
   },
   {
    "duration": 21,
    "start_time": "2022-05-14T11:13:45.223Z"
   },
   {
    "duration": 49,
    "start_time": "2022-05-14T11:13:45.246Z"
   },
   {
    "duration": 18,
    "start_time": "2022-05-14T11:13:45.297Z"
   },
   {
    "duration": 11,
    "start_time": "2022-05-14T11:13:45.325Z"
   },
   {
    "duration": 98,
    "start_time": "2022-05-14T11:13:45.339Z"
   },
   {
    "duration": 29,
    "start_time": "2022-05-14T11:13:45.439Z"
   },
   {
    "duration": 19,
    "start_time": "2022-05-14T11:13:45.474Z"
   },
   {
    "duration": 6,
    "start_time": "2022-05-14T11:13:45.495Z"
   },
   {
    "duration": 20,
    "start_time": "2022-05-14T11:13:45.525Z"
   },
   {
    "duration": 12,
    "start_time": "2022-05-14T11:13:45.548Z"
   },
   {
    "duration": 64,
    "start_time": "2022-05-14T11:13:45.563Z"
   },
   {
    "duration": 6,
    "start_time": "2022-05-14T11:13:45.630Z"
   },
   {
    "duration": 31,
    "start_time": "2022-05-14T11:13:45.638Z"
   },
   {
    "duration": 15,
    "start_time": "2022-05-14T11:13:45.671Z"
   },
   {
    "duration": 8,
    "start_time": "2022-05-14T11:13:45.688Z"
   },
   {
    "duration": 37,
    "start_time": "2022-05-14T11:13:45.698Z"
   },
   {
    "duration": 11,
    "start_time": "2022-05-14T11:13:45.737Z"
   },
   {
    "duration": 11,
    "start_time": "2022-05-14T11:13:45.750Z"
   },
   {
    "duration": 23,
    "start_time": "2022-05-14T11:13:45.763Z"
   },
   {
    "duration": 10,
    "start_time": "2022-05-14T11:13:45.789Z"
   },
   {
    "duration": 35,
    "start_time": "2022-05-14T11:13:45.802Z"
   },
   {
    "duration": 16,
    "start_time": "2022-05-14T11:13:45.840Z"
   },
   {
    "duration": 21,
    "start_time": "2022-05-14T11:13:45.859Z"
   },
   {
    "duration": 44,
    "start_time": "2022-05-14T11:13:45.883Z"
   },
   {
    "duration": 13,
    "start_time": "2022-05-14T11:13:45.935Z"
   },
   {
    "duration": 17,
    "start_time": "2022-05-14T11:13:45.950Z"
   },
   {
    "duration": 27,
    "start_time": "2022-05-14T11:13:45.970Z"
   },
   {
    "duration": 30,
    "start_time": "2022-05-14T11:13:46.024Z"
   },
   {
    "duration": 28,
    "start_time": "2022-05-14T11:13:46.056Z"
   },
   {
    "duration": 41,
    "start_time": "2022-05-14T11:13:46.087Z"
   },
   {
    "duration": 18,
    "start_time": "2022-05-14T11:13:46.131Z"
   },
   {
    "duration": 11,
    "start_time": "2022-05-14T11:13:46.151Z"
   },
   {
    "duration": 23,
    "start_time": "2022-05-14T11:13:46.164Z"
   },
   {
    "duration": 35,
    "start_time": "2022-05-14T11:13:46.190Z"
   },
   {
    "duration": 20,
    "start_time": "2022-05-14T11:13:46.228Z"
   },
   {
    "duration": 21,
    "start_time": "2022-05-14T11:13:46.250Z"
   },
   {
    "duration": 9,
    "start_time": "2022-05-14T11:13:46.274Z"
   },
   {
    "duration": 67,
    "start_time": "2022-05-14T11:13:46.286Z"
   },
   {
    "duration": 12,
    "start_time": "2022-05-14T11:13:46.356Z"
   },
   {
    "duration": 14,
    "start_time": "2022-05-14T11:13:46.372Z"
   },
   {
    "duration": 115,
    "start_time": "2022-05-14T11:13:46.390Z"
   },
   {
    "duration": 24,
    "start_time": "2022-05-14T11:13:46.507Z"
   },
   {
    "duration": 14,
    "start_time": "2022-05-14T11:13:46.534Z"
   },
   {
    "duration": 10,
    "start_time": "2022-05-14T11:13:46.551Z"
   },
   {
    "duration": 14,
    "start_time": "2022-05-14T11:13:46.563Z"
   },
   {
    "duration": 52,
    "start_time": "2022-05-14T11:13:46.579Z"
   },
   {
    "duration": 35,
    "start_time": "2022-05-14T11:13:46.634Z"
   },
   {
    "duration": 11,
    "start_time": "2022-05-14T11:13:46.671Z"
   },
   {
    "duration": 55,
    "start_time": "2022-05-14T11:13:46.684Z"
   },
   {
    "duration": 23,
    "start_time": "2022-05-14T11:13:46.741Z"
   },
   {
    "duration": 9,
    "start_time": "2022-05-14T11:13:46.766Z"
   },
   {
    "duration": 13,
    "start_time": "2022-05-14T11:13:46.778Z"
   },
   {
    "duration": 10,
    "start_time": "2022-05-14T11:13:46.826Z"
   },
   {
    "duration": 28,
    "start_time": "2022-05-14T11:13:46.838Z"
   },
   {
    "duration": 25,
    "start_time": "2022-05-14T11:13:46.868Z"
   },
   {
    "duration": 69,
    "start_time": "2022-05-14T11:28:29.112Z"
   },
   {
    "duration": 536,
    "start_time": "2022-05-14T11:29:16.017Z"
   },
   {
    "duration": 79,
    "start_time": "2022-05-14T11:29:16.555Z"
   },
   {
    "duration": 29,
    "start_time": "2022-05-14T11:29:16.637Z"
   },
   {
    "duration": 20,
    "start_time": "2022-05-14T11:29:16.668Z"
   },
   {
    "duration": 45,
    "start_time": "2022-05-14T11:29:16.691Z"
   },
   {
    "duration": 13,
    "start_time": "2022-05-14T11:29:16.739Z"
   },
   {
    "duration": 11,
    "start_time": "2022-05-14T11:29:16.754Z"
   },
   {
    "duration": 16,
    "start_time": "2022-05-14T11:29:16.767Z"
   },
   {
    "duration": 61,
    "start_time": "2022-05-14T11:29:16.785Z"
   },
   {
    "duration": 20,
    "start_time": "2022-05-14T11:29:16.849Z"
   },
   {
    "duration": 95,
    "start_time": "2022-05-14T11:29:16.871Z"
   },
   {
    "duration": 15,
    "start_time": "2022-05-14T11:29:16.969Z"
   },
   {
    "duration": 40,
    "start_time": "2022-05-14T11:29:16.987Z"
   },
   {
    "duration": 5,
    "start_time": "2022-05-14T11:29:17.034Z"
   },
   {
    "duration": 23,
    "start_time": "2022-05-14T11:29:17.041Z"
   },
   {
    "duration": 13,
    "start_time": "2022-05-14T11:29:17.067Z"
   },
   {
    "duration": 8,
    "start_time": "2022-05-14T11:29:17.082Z"
   },
   {
    "duration": 10,
    "start_time": "2022-05-14T11:29:17.124Z"
   },
   {
    "duration": 7,
    "start_time": "2022-05-14T11:29:17.137Z"
   },
   {
    "duration": 7,
    "start_time": "2022-05-14T11:29:17.147Z"
   },
   {
    "duration": 9,
    "start_time": "2022-05-14T11:29:17.157Z"
   },
   {
    "duration": 156,
    "start_time": "2022-05-14T11:29:17.169Z"
   },
   {
    "duration": 0,
    "start_time": "2022-05-14T11:29:17.330Z"
   },
   {
    "duration": 0,
    "start_time": "2022-05-14T11:29:17.332Z"
   },
   {
    "duration": 0,
    "start_time": "2022-05-14T11:29:17.334Z"
   },
   {
    "duration": 0,
    "start_time": "2022-05-14T11:29:17.336Z"
   },
   {
    "duration": 0,
    "start_time": "2022-05-14T11:29:17.338Z"
   },
   {
    "duration": 0,
    "start_time": "2022-05-14T11:29:17.340Z"
   },
   {
    "duration": 0,
    "start_time": "2022-05-14T11:29:17.342Z"
   },
   {
    "duration": 0,
    "start_time": "2022-05-14T11:29:17.344Z"
   },
   {
    "duration": 1,
    "start_time": "2022-05-14T11:29:17.346Z"
   },
   {
    "duration": 0,
    "start_time": "2022-05-14T11:29:17.349Z"
   },
   {
    "duration": 0,
    "start_time": "2022-05-14T11:29:17.351Z"
   },
   {
    "duration": 0,
    "start_time": "2022-05-14T11:29:17.353Z"
   },
   {
    "duration": 0,
    "start_time": "2022-05-14T11:29:17.355Z"
   },
   {
    "duration": 0,
    "start_time": "2022-05-14T11:29:17.357Z"
   },
   {
    "duration": 0,
    "start_time": "2022-05-14T11:29:17.359Z"
   },
   {
    "duration": 0,
    "start_time": "2022-05-14T11:29:17.361Z"
   },
   {
    "duration": 0,
    "start_time": "2022-05-14T11:29:17.363Z"
   },
   {
    "duration": 0,
    "start_time": "2022-05-14T11:29:17.366Z"
   },
   {
    "duration": 0,
    "start_time": "2022-05-14T11:29:17.368Z"
   },
   {
    "duration": 0,
    "start_time": "2022-05-14T11:29:17.426Z"
   },
   {
    "duration": 0,
    "start_time": "2022-05-14T11:29:17.428Z"
   },
   {
    "duration": 0,
    "start_time": "2022-05-14T11:29:17.430Z"
   },
   {
    "duration": 0,
    "start_time": "2022-05-14T11:29:17.432Z"
   },
   {
    "duration": 0,
    "start_time": "2022-05-14T11:29:17.435Z"
   },
   {
    "duration": 0,
    "start_time": "2022-05-14T11:29:17.436Z"
   },
   {
    "duration": 0,
    "start_time": "2022-05-14T11:29:17.438Z"
   },
   {
    "duration": 0,
    "start_time": "2022-05-14T11:29:17.440Z"
   },
   {
    "duration": 0,
    "start_time": "2022-05-14T11:29:17.443Z"
   },
   {
    "duration": 0,
    "start_time": "2022-05-14T11:29:17.445Z"
   },
   {
    "duration": 0,
    "start_time": "2022-05-14T11:29:17.447Z"
   },
   {
    "duration": 0,
    "start_time": "2022-05-14T11:29:17.449Z"
   },
   {
    "duration": 0,
    "start_time": "2022-05-14T11:29:17.451Z"
   },
   {
    "duration": 0,
    "start_time": "2022-05-14T11:29:17.453Z"
   },
   {
    "duration": 0,
    "start_time": "2022-05-14T11:29:17.455Z"
   },
   {
    "duration": 0,
    "start_time": "2022-05-14T11:29:17.457Z"
   },
   {
    "duration": 70,
    "start_time": "2022-05-14T11:30:38.668Z"
   },
   {
    "duration": 15,
    "start_time": "2022-05-14T11:30:42.898Z"
   },
   {
    "duration": 660,
    "start_time": "2022-05-14T11:33:11.598Z"
   },
   {
    "duration": 116,
    "start_time": "2022-05-14T11:33:12.262Z"
   },
   {
    "duration": 52,
    "start_time": "2022-05-14T11:33:12.380Z"
   },
   {
    "duration": 28,
    "start_time": "2022-05-14T11:33:12.436Z"
   },
   {
    "duration": 35,
    "start_time": "2022-05-14T11:33:12.466Z"
   },
   {
    "duration": 21,
    "start_time": "2022-05-14T11:33:12.526Z"
   },
   {
    "duration": 12,
    "start_time": "2022-05-14T11:33:12.550Z"
   },
   {
    "duration": 14,
    "start_time": "2022-05-14T11:33:12.566Z"
   },
   {
    "duration": 76,
    "start_time": "2022-05-14T11:33:12.582Z"
   },
   {
    "duration": 25,
    "start_time": "2022-05-14T11:33:12.664Z"
   },
   {
    "duration": 35,
    "start_time": "2022-05-14T11:33:12.692Z"
   },
   {
    "duration": 23,
    "start_time": "2022-05-14T11:33:12.730Z"
   },
   {
    "duration": 14,
    "start_time": "2022-05-14T11:33:12.757Z"
   },
   {
    "duration": 5,
    "start_time": "2022-05-14T11:33:12.773Z"
   },
   {
    "duration": 57,
    "start_time": "2022-05-14T11:33:12.780Z"
   },
   {
    "duration": 17,
    "start_time": "2022-05-14T11:33:12.839Z"
   },
   {
    "duration": 7,
    "start_time": "2022-05-14T11:33:12.858Z"
   },
   {
    "duration": 19,
    "start_time": "2022-05-14T11:33:12.867Z"
   },
   {
    "duration": 11,
    "start_time": "2022-05-14T11:33:12.888Z"
   },
   {
    "duration": 26,
    "start_time": "2022-05-14T11:33:12.901Z"
   },
   {
    "duration": 17,
    "start_time": "2022-05-14T11:33:12.929Z"
   },
   {
    "duration": 114,
    "start_time": "2022-05-14T11:33:12.948Z"
   },
   {
    "duration": 0,
    "start_time": "2022-05-14T11:33:13.068Z"
   },
   {
    "duration": 0,
    "start_time": "2022-05-14T11:33:13.070Z"
   },
   {
    "duration": 0,
    "start_time": "2022-05-14T11:33:13.072Z"
   },
   {
    "duration": 0,
    "start_time": "2022-05-14T11:33:13.074Z"
   },
   {
    "duration": 0,
    "start_time": "2022-05-14T11:33:13.077Z"
   },
   {
    "duration": 0,
    "start_time": "2022-05-14T11:33:13.079Z"
   },
   {
    "duration": 0,
    "start_time": "2022-05-14T11:33:13.081Z"
   },
   {
    "duration": 0,
    "start_time": "2022-05-14T11:33:13.083Z"
   },
   {
    "duration": 0,
    "start_time": "2022-05-14T11:33:13.085Z"
   },
   {
    "duration": 0,
    "start_time": "2022-05-14T11:33:13.087Z"
   },
   {
    "duration": 0,
    "start_time": "2022-05-14T11:33:13.126Z"
   },
   {
    "duration": 0,
    "start_time": "2022-05-14T11:33:13.128Z"
   },
   {
    "duration": 0,
    "start_time": "2022-05-14T11:33:13.130Z"
   },
   {
    "duration": 0,
    "start_time": "2022-05-14T11:33:13.132Z"
   },
   {
    "duration": 0,
    "start_time": "2022-05-14T11:33:13.135Z"
   },
   {
    "duration": 0,
    "start_time": "2022-05-14T11:33:13.137Z"
   },
   {
    "duration": 0,
    "start_time": "2022-05-14T11:33:13.139Z"
   },
   {
    "duration": 0,
    "start_time": "2022-05-14T11:33:13.142Z"
   },
   {
    "duration": 0,
    "start_time": "2022-05-14T11:33:13.144Z"
   },
   {
    "duration": 0,
    "start_time": "2022-05-14T11:33:13.146Z"
   },
   {
    "duration": 0,
    "start_time": "2022-05-14T11:33:13.149Z"
   },
   {
    "duration": 0,
    "start_time": "2022-05-14T11:33:13.151Z"
   },
   {
    "duration": 0,
    "start_time": "2022-05-14T11:33:13.153Z"
   },
   {
    "duration": 0,
    "start_time": "2022-05-14T11:33:13.155Z"
   },
   {
    "duration": 0,
    "start_time": "2022-05-14T11:33:13.157Z"
   },
   {
    "duration": 0,
    "start_time": "2022-05-14T11:33:13.159Z"
   },
   {
    "duration": 0,
    "start_time": "2022-05-14T11:33:13.161Z"
   },
   {
    "duration": 1,
    "start_time": "2022-05-14T11:33:13.162Z"
   },
   {
    "duration": 0,
    "start_time": "2022-05-14T11:33:13.224Z"
   },
   {
    "duration": 0,
    "start_time": "2022-05-14T11:33:13.226Z"
   },
   {
    "duration": 0,
    "start_time": "2022-05-14T11:33:13.228Z"
   },
   {
    "duration": 0,
    "start_time": "2022-05-14T11:33:13.230Z"
   },
   {
    "duration": 0,
    "start_time": "2022-05-14T11:33:13.233Z"
   },
   {
    "duration": 0,
    "start_time": "2022-05-14T11:33:13.234Z"
   },
   {
    "duration": 0,
    "start_time": "2022-05-14T11:33:13.237Z"
   },
   {
    "duration": 9,
    "start_time": "2022-05-14T11:34:12.722Z"
   },
   {
    "duration": 32,
    "start_time": "2022-05-14T11:34:51.267Z"
   },
   {
    "duration": 23,
    "start_time": "2022-05-14T11:36:40.602Z"
   },
   {
    "duration": 21,
    "start_time": "2022-05-14T11:36:53.448Z"
   },
   {
    "duration": 21,
    "start_time": "2022-05-14T11:37:56.140Z"
   },
   {
    "duration": 15,
    "start_time": "2022-05-14T11:58:10.262Z"
   },
   {
    "duration": 513,
    "start_time": "2022-05-14T11:58:36.933Z"
   },
   {
    "duration": 79,
    "start_time": "2022-05-14T11:58:37.449Z"
   },
   {
    "duration": 28,
    "start_time": "2022-05-14T11:58:37.531Z"
   },
   {
    "duration": 23,
    "start_time": "2022-05-14T11:58:37.562Z"
   },
   {
    "duration": 48,
    "start_time": "2022-05-14T11:58:37.587Z"
   },
   {
    "duration": 15,
    "start_time": "2022-05-14T11:58:37.638Z"
   },
   {
    "duration": 8,
    "start_time": "2022-05-14T11:58:37.656Z"
   },
   {
    "duration": 19,
    "start_time": "2022-05-14T11:58:37.666Z"
   },
   {
    "duration": 57,
    "start_time": "2022-05-14T11:58:37.688Z"
   },
   {
    "duration": 17,
    "start_time": "2022-05-14T11:58:37.749Z"
   },
   {
    "duration": 14,
    "start_time": "2022-05-14T11:58:37.768Z"
   },
   {
    "duration": 46,
    "start_time": "2022-05-14T11:58:37.785Z"
   },
   {
    "duration": 5,
    "start_time": "2022-05-14T11:58:37.833Z"
   },
   {
    "duration": 19,
    "start_time": "2022-05-14T11:58:37.840Z"
   },
   {
    "duration": 10,
    "start_time": "2022-05-14T11:58:37.862Z"
   },
   {
    "duration": 51,
    "start_time": "2022-05-14T11:58:37.874Z"
   },
   {
    "duration": 8,
    "start_time": "2022-05-14T11:58:37.927Z"
   },
   {
    "duration": 8,
    "start_time": "2022-05-14T11:58:37.937Z"
   },
   {
    "duration": 8,
    "start_time": "2022-05-14T11:58:37.947Z"
   },
   {
    "duration": 10,
    "start_time": "2022-05-14T11:58:37.957Z"
   },
   {
    "duration": 6,
    "start_time": "2022-05-14T11:58:37.969Z"
   },
   {
    "duration": 58,
    "start_time": "2022-05-14T11:58:37.977Z"
   },
   {
    "duration": 12,
    "start_time": "2022-05-14T11:58:38.037Z"
   },
   {
    "duration": 20,
    "start_time": "2022-05-14T11:58:38.051Z"
   },
   {
    "duration": 52,
    "start_time": "2022-05-14T11:58:38.073Z"
   },
   {
    "duration": 17,
    "start_time": "2022-05-14T11:58:38.127Z"
   },
   {
    "duration": 12,
    "start_time": "2022-05-14T11:58:38.146Z"
   },
   {
    "duration": 27,
    "start_time": "2022-05-14T11:58:38.164Z"
   },
   {
    "duration": 67,
    "start_time": "2022-05-14T11:58:38.194Z"
   },
   {
    "duration": 35,
    "start_time": "2022-05-14T11:58:38.263Z"
   },
   {
    "duration": 34,
    "start_time": "2022-05-14T11:58:38.301Z"
   },
   {
    "duration": 13,
    "start_time": "2022-05-14T11:58:38.338Z"
   },
   {
    "duration": 8,
    "start_time": "2022-05-14T11:58:38.353Z"
   },
   {
    "duration": 18,
    "start_time": "2022-05-14T11:58:38.364Z"
   },
   {
    "duration": 44,
    "start_time": "2022-05-14T11:58:38.384Z"
   },
   {
    "duration": 20,
    "start_time": "2022-05-14T11:58:38.431Z"
   },
   {
    "duration": 19,
    "start_time": "2022-05-14T11:58:38.453Z"
   },
   {
    "duration": 10,
    "start_time": "2022-05-14T11:58:38.474Z"
   },
   {
    "duration": 67,
    "start_time": "2022-05-14T11:58:38.486Z"
   },
   {
    "duration": 10,
    "start_time": "2022-05-14T11:58:38.555Z"
   },
   {
    "duration": 7,
    "start_time": "2022-05-14T11:58:38.567Z"
   },
   {
    "duration": 117,
    "start_time": "2022-05-14T11:58:38.576Z"
   },
   {
    "duration": 31,
    "start_time": "2022-05-14T11:58:38.695Z"
   },
   {
    "duration": 12,
    "start_time": "2022-05-14T11:58:38.729Z"
   },
   {
    "duration": 13,
    "start_time": "2022-05-14T11:58:38.743Z"
   },
   {
    "duration": 12,
    "start_time": "2022-05-14T11:58:38.758Z"
   },
   {
    "duration": 25,
    "start_time": "2022-05-14T11:58:38.772Z"
   },
   {
    "duration": 32,
    "start_time": "2022-05-14T11:58:38.824Z"
   },
   {
    "duration": 9,
    "start_time": "2022-05-14T11:58:38.859Z"
   },
   {
    "duration": 56,
    "start_time": "2022-05-14T11:58:38.870Z"
   },
   {
    "duration": 24,
    "start_time": "2022-05-14T11:58:38.928Z"
   },
   {
    "duration": 9,
    "start_time": "2022-05-14T11:58:38.954Z"
   },
   {
    "duration": 9,
    "start_time": "2022-05-14T11:58:38.965Z"
   },
   {
    "duration": 50,
    "start_time": "2022-05-14T11:58:38.976Z"
   },
   {
    "duration": 23,
    "start_time": "2022-05-14T11:58:39.029Z"
   },
   {
    "duration": 26,
    "start_time": "2022-05-14T11:58:39.055Z"
   },
   {
    "duration": 104,
    "start_time": "2022-05-14T12:02:13.500Z"
   },
   {
    "duration": 4,
    "start_time": "2022-05-14T12:02:17.843Z"
   },
   {
    "duration": 29,
    "start_time": "2022-05-14T12:02:21.259Z"
   },
   {
    "duration": 639,
    "start_time": "2022-05-14T12:02:45.461Z"
   },
   {
    "duration": 111,
    "start_time": "2022-05-14T12:02:46.103Z"
   },
   {
    "duration": 39,
    "start_time": "2022-05-14T12:02:46.217Z"
   },
   {
    "duration": 26,
    "start_time": "2022-05-14T12:02:46.259Z"
   },
   {
    "duration": 60,
    "start_time": "2022-05-14T12:02:46.289Z"
   },
   {
    "duration": 20,
    "start_time": "2022-05-14T12:02:46.352Z"
   },
   {
    "duration": 10,
    "start_time": "2022-05-14T12:02:46.374Z"
   },
   {
    "duration": 44,
    "start_time": "2022-05-14T12:02:46.387Z"
   },
   {
    "duration": 27,
    "start_time": "2022-05-14T12:02:46.434Z"
   },
   {
    "duration": 18,
    "start_time": "2022-05-14T12:02:46.463Z"
   },
   {
    "duration": 6,
    "start_time": "2022-05-14T12:02:46.484Z"
   },
   {
    "duration": 163,
    "start_time": "2022-05-14T12:02:46.492Z"
   },
   {
    "duration": 0,
    "start_time": "2022-05-14T12:02:46.660Z"
   },
   {
    "duration": 0,
    "start_time": "2022-05-14T12:02:46.661Z"
   },
   {
    "duration": 0,
    "start_time": "2022-05-14T12:02:46.663Z"
   },
   {
    "duration": 0,
    "start_time": "2022-05-14T12:02:46.665Z"
   },
   {
    "duration": 0,
    "start_time": "2022-05-14T12:02:46.666Z"
   },
   {
    "duration": 0,
    "start_time": "2022-05-14T12:02:46.668Z"
   },
   {
    "duration": 0,
    "start_time": "2022-05-14T12:02:46.670Z"
   },
   {
    "duration": 0,
    "start_time": "2022-05-14T12:02:46.672Z"
   },
   {
    "duration": 0,
    "start_time": "2022-05-14T12:02:46.675Z"
   },
   {
    "duration": 0,
    "start_time": "2022-05-14T12:02:46.676Z"
   },
   {
    "duration": 0,
    "start_time": "2022-05-14T12:02:46.678Z"
   },
   {
    "duration": 0,
    "start_time": "2022-05-14T12:02:46.680Z"
   },
   {
    "duration": 0,
    "start_time": "2022-05-14T12:02:46.682Z"
   },
   {
    "duration": 0,
    "start_time": "2022-05-14T12:02:46.684Z"
   },
   {
    "duration": 0,
    "start_time": "2022-05-14T12:02:46.725Z"
   },
   {
    "duration": 0,
    "start_time": "2022-05-14T12:02:46.727Z"
   },
   {
    "duration": 0,
    "start_time": "2022-05-14T12:02:46.729Z"
   },
   {
    "duration": 0,
    "start_time": "2022-05-14T12:02:46.731Z"
   },
   {
    "duration": 0,
    "start_time": "2022-05-14T12:02:46.732Z"
   },
   {
    "duration": 0,
    "start_time": "2022-05-14T12:02:46.734Z"
   },
   {
    "duration": 0,
    "start_time": "2022-05-14T12:02:46.736Z"
   },
   {
    "duration": 0,
    "start_time": "2022-05-14T12:02:46.738Z"
   },
   {
    "duration": 0,
    "start_time": "2022-05-14T12:02:46.740Z"
   },
   {
    "duration": 0,
    "start_time": "2022-05-14T12:02:46.741Z"
   },
   {
    "duration": 0,
    "start_time": "2022-05-14T12:02:46.743Z"
   },
   {
    "duration": 0,
    "start_time": "2022-05-14T12:02:46.745Z"
   },
   {
    "duration": 0,
    "start_time": "2022-05-14T12:02:46.747Z"
   },
   {
    "duration": 1,
    "start_time": "2022-05-14T12:02:46.748Z"
   },
   {
    "duration": 0,
    "start_time": "2022-05-14T12:02:46.750Z"
   },
   {
    "duration": 0,
    "start_time": "2022-05-14T12:02:46.752Z"
   },
   {
    "duration": 0,
    "start_time": "2022-05-14T12:02:46.754Z"
   },
   {
    "duration": 0,
    "start_time": "2022-05-14T12:02:46.756Z"
   },
   {
    "duration": 0,
    "start_time": "2022-05-14T12:02:46.757Z"
   },
   {
    "duration": 0,
    "start_time": "2022-05-14T12:02:46.759Z"
   },
   {
    "duration": 0,
    "start_time": "2022-05-14T12:02:46.760Z"
   },
   {
    "duration": 0,
    "start_time": "2022-05-14T12:02:46.825Z"
   },
   {
    "duration": 0,
    "start_time": "2022-05-14T12:02:46.826Z"
   },
   {
    "duration": 0,
    "start_time": "2022-05-14T12:02:46.828Z"
   },
   {
    "duration": 0,
    "start_time": "2022-05-14T12:02:46.829Z"
   },
   {
    "duration": 0,
    "start_time": "2022-05-14T12:02:46.830Z"
   },
   {
    "duration": 0,
    "start_time": "2022-05-14T12:02:46.832Z"
   },
   {
    "duration": 0,
    "start_time": "2022-05-14T12:02:46.833Z"
   },
   {
    "duration": 0,
    "start_time": "2022-05-14T12:02:46.834Z"
   },
   {
    "duration": 0,
    "start_time": "2022-05-14T12:02:46.836Z"
   },
   {
    "duration": 0,
    "start_time": "2022-05-14T12:02:46.838Z"
   },
   {
    "duration": 560,
    "start_time": "2022-05-14T12:03:52.285Z"
   },
   {
    "duration": 77,
    "start_time": "2022-05-14T12:03:52.848Z"
   },
   {
    "duration": 36,
    "start_time": "2022-05-14T12:03:52.927Z"
   },
   {
    "duration": 21,
    "start_time": "2022-05-14T12:03:52.966Z"
   },
   {
    "duration": 59,
    "start_time": "2022-05-14T12:03:52.990Z"
   },
   {
    "duration": 20,
    "start_time": "2022-05-14T12:03:53.052Z"
   },
   {
    "duration": 14,
    "start_time": "2022-05-14T12:03:53.075Z"
   },
   {
    "duration": 42,
    "start_time": "2022-05-14T12:03:53.091Z"
   },
   {
    "duration": 35,
    "start_time": "2022-05-14T12:03:53.136Z"
   },
   {
    "duration": 51,
    "start_time": "2022-05-14T12:03:53.175Z"
   },
   {
    "duration": 10,
    "start_time": "2022-05-14T12:03:53.228Z"
   },
   {
    "duration": 128,
    "start_time": "2022-05-14T12:03:53.241Z"
   },
   {
    "duration": 0,
    "start_time": "2022-05-14T12:03:53.373Z"
   },
   {
    "duration": 0,
    "start_time": "2022-05-14T12:03:53.375Z"
   },
   {
    "duration": 0,
    "start_time": "2022-05-14T12:03:53.377Z"
   },
   {
    "duration": 0,
    "start_time": "2022-05-14T12:03:53.378Z"
   },
   {
    "duration": 0,
    "start_time": "2022-05-14T12:03:53.381Z"
   },
   {
    "duration": 0,
    "start_time": "2022-05-14T12:03:53.382Z"
   },
   {
    "duration": 0,
    "start_time": "2022-05-14T12:03:53.384Z"
   },
   {
    "duration": 0,
    "start_time": "2022-05-14T12:03:53.385Z"
   },
   {
    "duration": 0,
    "start_time": "2022-05-14T12:03:53.387Z"
   },
   {
    "duration": 0,
    "start_time": "2022-05-14T12:03:53.388Z"
   },
   {
    "duration": 0,
    "start_time": "2022-05-14T12:03:53.390Z"
   },
   {
    "duration": 0,
    "start_time": "2022-05-14T12:03:53.424Z"
   },
   {
    "duration": 0,
    "start_time": "2022-05-14T12:03:53.426Z"
   },
   {
    "duration": 0,
    "start_time": "2022-05-14T12:03:53.428Z"
   },
   {
    "duration": 0,
    "start_time": "2022-05-14T12:03:53.430Z"
   },
   {
    "duration": 0,
    "start_time": "2022-05-14T12:03:53.431Z"
   },
   {
    "duration": 0,
    "start_time": "2022-05-14T12:03:53.432Z"
   },
   {
    "duration": 0,
    "start_time": "2022-05-14T12:03:53.433Z"
   },
   {
    "duration": 0,
    "start_time": "2022-05-14T12:03:53.435Z"
   },
   {
    "duration": 0,
    "start_time": "2022-05-14T12:03:53.436Z"
   },
   {
    "duration": 0,
    "start_time": "2022-05-14T12:03:53.437Z"
   },
   {
    "duration": 0,
    "start_time": "2022-05-14T12:03:53.438Z"
   },
   {
    "duration": 0,
    "start_time": "2022-05-14T12:03:53.439Z"
   },
   {
    "duration": 0,
    "start_time": "2022-05-14T12:03:53.441Z"
   },
   {
    "duration": 1,
    "start_time": "2022-05-14T12:03:53.442Z"
   },
   {
    "duration": 0,
    "start_time": "2022-05-14T12:03:53.444Z"
   },
   {
    "duration": 0,
    "start_time": "2022-05-14T12:03:53.446Z"
   },
   {
    "duration": 0,
    "start_time": "2022-05-14T12:03:53.447Z"
   },
   {
    "duration": 0,
    "start_time": "2022-05-14T12:03:53.448Z"
   },
   {
    "duration": 0,
    "start_time": "2022-05-14T12:03:53.449Z"
   },
   {
    "duration": 0,
    "start_time": "2022-05-14T12:03:53.451Z"
   },
   {
    "duration": 0,
    "start_time": "2022-05-14T12:03:53.452Z"
   },
   {
    "duration": 0,
    "start_time": "2022-05-14T12:03:53.453Z"
   },
   {
    "duration": 0,
    "start_time": "2022-05-14T12:03:53.455Z"
   },
   {
    "duration": 0,
    "start_time": "2022-05-14T12:03:53.456Z"
   },
   {
    "duration": 0,
    "start_time": "2022-05-14T12:03:53.458Z"
   },
   {
    "duration": 0,
    "start_time": "2022-05-14T12:03:53.459Z"
   },
   {
    "duration": 0,
    "start_time": "2022-05-14T12:03:53.461Z"
   },
   {
    "duration": 0,
    "start_time": "2022-05-14T12:03:53.465Z"
   },
   {
    "duration": 0,
    "start_time": "2022-05-14T12:03:53.467Z"
   },
   {
    "duration": 0,
    "start_time": "2022-05-14T12:03:53.529Z"
   },
   {
    "duration": 0,
    "start_time": "2022-05-14T12:03:53.531Z"
   },
   {
    "duration": 0,
    "start_time": "2022-05-14T12:03:53.533Z"
   },
   {
    "duration": 0,
    "start_time": "2022-05-14T12:03:53.535Z"
   },
   {
    "duration": 0,
    "start_time": "2022-05-14T12:03:53.537Z"
   },
   {
    "duration": 702,
    "start_time": "2022-05-14T12:06:02.877Z"
   },
   {
    "duration": 111,
    "start_time": "2022-05-14T12:06:03.582Z"
   },
   {
    "duration": 35,
    "start_time": "2022-05-14T12:06:03.696Z"
   },
   {
    "duration": 19,
    "start_time": "2022-05-14T12:06:03.735Z"
   },
   {
    "duration": 44,
    "start_time": "2022-05-14T12:06:03.756Z"
   },
   {
    "duration": 27,
    "start_time": "2022-05-14T12:06:03.802Z"
   },
   {
    "duration": 9,
    "start_time": "2022-05-14T12:06:03.831Z"
   },
   {
    "duration": 28,
    "start_time": "2022-05-14T12:06:03.842Z"
   },
   {
    "duration": 25,
    "start_time": "2022-05-14T12:06:03.873Z"
   },
   {
    "duration": 19,
    "start_time": "2022-05-14T12:06:03.924Z"
   },
   {
    "duration": 20,
    "start_time": "2022-05-14T12:06:03.945Z"
   },
   {
    "duration": 132,
    "start_time": "2022-05-14T12:06:03.967Z"
   },
   {
    "duration": 0,
    "start_time": "2022-05-14T12:06:04.102Z"
   },
   {
    "duration": 0,
    "start_time": "2022-05-14T12:06:04.104Z"
   },
   {
    "duration": 0,
    "start_time": "2022-05-14T12:06:04.105Z"
   },
   {
    "duration": 0,
    "start_time": "2022-05-14T12:06:04.107Z"
   },
   {
    "duration": 0,
    "start_time": "2022-05-14T12:06:04.108Z"
   },
   {
    "duration": 0,
    "start_time": "2022-05-14T12:06:04.109Z"
   },
   {
    "duration": 0,
    "start_time": "2022-05-14T12:06:04.110Z"
   },
   {
    "duration": 0,
    "start_time": "2022-05-14T12:06:04.111Z"
   },
   {
    "duration": 0,
    "start_time": "2022-05-14T12:06:04.125Z"
   },
   {
    "duration": 0,
    "start_time": "2022-05-14T12:06:04.127Z"
   },
   {
    "duration": 0,
    "start_time": "2022-05-14T12:06:04.128Z"
   },
   {
    "duration": 0,
    "start_time": "2022-05-14T12:06:04.129Z"
   },
   {
    "duration": 0,
    "start_time": "2022-05-14T12:06:04.131Z"
   },
   {
    "duration": 0,
    "start_time": "2022-05-14T12:06:04.132Z"
   },
   {
    "duration": 0,
    "start_time": "2022-05-14T12:06:04.133Z"
   },
   {
    "duration": 0,
    "start_time": "2022-05-14T12:06:04.135Z"
   },
   {
    "duration": 0,
    "start_time": "2022-05-14T12:06:04.136Z"
   },
   {
    "duration": 0,
    "start_time": "2022-05-14T12:06:04.138Z"
   },
   {
    "duration": 0,
    "start_time": "2022-05-14T12:06:04.139Z"
   },
   {
    "duration": 0,
    "start_time": "2022-05-14T12:06:04.141Z"
   },
   {
    "duration": 0,
    "start_time": "2022-05-14T12:06:04.142Z"
   },
   {
    "duration": 0,
    "start_time": "2022-05-14T12:06:04.144Z"
   },
   {
    "duration": 0,
    "start_time": "2022-05-14T12:06:04.145Z"
   },
   {
    "duration": 0,
    "start_time": "2022-05-14T12:06:04.147Z"
   },
   {
    "duration": 0,
    "start_time": "2022-05-14T12:06:04.148Z"
   },
   {
    "duration": 0,
    "start_time": "2022-05-14T12:06:04.150Z"
   },
   {
    "duration": 0,
    "start_time": "2022-05-14T12:06:04.151Z"
   },
   {
    "duration": 0,
    "start_time": "2022-05-14T12:06:04.153Z"
   },
   {
    "duration": 0,
    "start_time": "2022-05-14T12:06:04.154Z"
   },
   {
    "duration": 0,
    "start_time": "2022-05-14T12:06:04.156Z"
   },
   {
    "duration": 0,
    "start_time": "2022-05-14T12:06:04.157Z"
   },
   {
    "duration": 0,
    "start_time": "2022-05-14T12:06:04.159Z"
   },
   {
    "duration": 0,
    "start_time": "2022-05-14T12:06:04.160Z"
   },
   {
    "duration": 0,
    "start_time": "2022-05-14T12:06:04.162Z"
   },
   {
    "duration": 0,
    "start_time": "2022-05-14T12:06:04.163Z"
   },
   {
    "duration": 0,
    "start_time": "2022-05-14T12:06:04.225Z"
   },
   {
    "duration": 0,
    "start_time": "2022-05-14T12:06:04.226Z"
   },
   {
    "duration": 0,
    "start_time": "2022-05-14T12:06:04.228Z"
   },
   {
    "duration": 0,
    "start_time": "2022-05-14T12:06:04.229Z"
   },
   {
    "duration": 0,
    "start_time": "2022-05-14T12:06:04.230Z"
   },
   {
    "duration": 0,
    "start_time": "2022-05-14T12:06:04.231Z"
   },
   {
    "duration": 0,
    "start_time": "2022-05-14T12:06:04.233Z"
   },
   {
    "duration": 0,
    "start_time": "2022-05-14T12:06:04.234Z"
   },
   {
    "duration": 0,
    "start_time": "2022-05-14T12:06:04.236Z"
   },
   {
    "duration": 0,
    "start_time": "2022-05-14T12:06:04.237Z"
   },
   {
    "duration": 13,
    "start_time": "2022-05-14T12:06:27.874Z"
   },
   {
    "duration": 26,
    "start_time": "2022-05-14T12:07:11.332Z"
   },
   {
    "duration": 542,
    "start_time": "2022-05-14T12:09:10.617Z"
   },
   {
    "duration": 79,
    "start_time": "2022-05-14T12:09:11.162Z"
   },
   {
    "duration": 30,
    "start_time": "2022-05-14T12:09:11.244Z"
   },
   {
    "duration": 20,
    "start_time": "2022-05-14T12:09:11.278Z"
   },
   {
    "duration": 47,
    "start_time": "2022-05-14T12:09:11.300Z"
   },
   {
    "duration": 13,
    "start_time": "2022-05-14T12:09:11.350Z"
   },
   {
    "duration": 8,
    "start_time": "2022-05-14T12:09:11.365Z"
   },
   {
    "duration": 9,
    "start_time": "2022-05-14T12:09:11.375Z"
   },
   {
    "duration": 61,
    "start_time": "2022-05-14T12:09:11.386Z"
   },
   {
    "duration": 18,
    "start_time": "2022-05-14T12:09:11.450Z"
   },
   {
    "duration": 4,
    "start_time": "2022-05-14T12:09:11.470Z"
   },
   {
    "duration": 148,
    "start_time": "2022-05-14T12:09:11.476Z"
   },
   {
    "duration": 0,
    "start_time": "2022-05-14T12:09:11.628Z"
   },
   {
    "duration": 0,
    "start_time": "2022-05-14T12:09:11.630Z"
   },
   {
    "duration": 0,
    "start_time": "2022-05-14T12:09:11.631Z"
   },
   {
    "duration": 0,
    "start_time": "2022-05-14T12:09:11.633Z"
   },
   {
    "duration": 0,
    "start_time": "2022-05-14T12:09:11.636Z"
   },
   {
    "duration": 0,
    "start_time": "2022-05-14T12:09:11.637Z"
   },
   {
    "duration": 0,
    "start_time": "2022-05-14T12:09:11.640Z"
   },
   {
    "duration": 0,
    "start_time": "2022-05-14T12:09:11.642Z"
   },
   {
    "duration": 0,
    "start_time": "2022-05-14T12:09:11.644Z"
   },
   {
    "duration": 0,
    "start_time": "2022-05-14T12:09:11.646Z"
   },
   {
    "duration": 0,
    "start_time": "2022-05-14T12:09:11.649Z"
   },
   {
    "duration": 0,
    "start_time": "2022-05-14T12:09:11.651Z"
   },
   {
    "duration": 0,
    "start_time": "2022-05-14T12:09:11.653Z"
   },
   {
    "duration": 0,
    "start_time": "2022-05-14T12:09:11.655Z"
   },
   {
    "duration": 0,
    "start_time": "2022-05-14T12:09:11.658Z"
   },
   {
    "duration": 0,
    "start_time": "2022-05-14T12:09:11.660Z"
   },
   {
    "duration": 0,
    "start_time": "2022-05-14T12:09:11.662Z"
   },
   {
    "duration": 0,
    "start_time": "2022-05-14T12:09:11.664Z"
   },
   {
    "duration": 0,
    "start_time": "2022-05-14T12:09:11.666Z"
   },
   {
    "duration": 0,
    "start_time": "2022-05-14T12:09:11.727Z"
   },
   {
    "duration": 0,
    "start_time": "2022-05-14T12:09:11.729Z"
   },
   {
    "duration": 0,
    "start_time": "2022-05-14T12:09:11.731Z"
   },
   {
    "duration": 1,
    "start_time": "2022-05-14T12:09:11.733Z"
   },
   {
    "duration": 0,
    "start_time": "2022-05-14T12:09:11.736Z"
   },
   {
    "duration": 0,
    "start_time": "2022-05-14T12:09:11.738Z"
   },
   {
    "duration": 0,
    "start_time": "2022-05-14T12:09:11.740Z"
   },
   {
    "duration": 0,
    "start_time": "2022-05-14T12:09:11.742Z"
   },
   {
    "duration": 0,
    "start_time": "2022-05-14T12:09:11.745Z"
   },
   {
    "duration": 0,
    "start_time": "2022-05-14T12:09:11.747Z"
   },
   {
    "duration": 0,
    "start_time": "2022-05-14T12:09:11.749Z"
   },
   {
    "duration": 0,
    "start_time": "2022-05-14T12:09:11.751Z"
   },
   {
    "duration": 0,
    "start_time": "2022-05-14T12:09:11.753Z"
   },
   {
    "duration": 0,
    "start_time": "2022-05-14T12:09:11.756Z"
   },
   {
    "duration": 0,
    "start_time": "2022-05-14T12:09:11.757Z"
   },
   {
    "duration": 1,
    "start_time": "2022-05-14T12:09:11.759Z"
   },
   {
    "duration": 0,
    "start_time": "2022-05-14T12:09:11.825Z"
   },
   {
    "duration": 0,
    "start_time": "2022-05-14T12:09:11.827Z"
   },
   {
    "duration": 0,
    "start_time": "2022-05-14T12:09:11.829Z"
   },
   {
    "duration": 0,
    "start_time": "2022-05-14T12:09:11.831Z"
   },
   {
    "duration": 0,
    "start_time": "2022-05-14T12:09:11.833Z"
   },
   {
    "duration": 0,
    "start_time": "2022-05-14T12:09:11.835Z"
   },
   {
    "duration": 0,
    "start_time": "2022-05-14T12:09:11.837Z"
   },
   {
    "duration": 0,
    "start_time": "2022-05-14T12:09:11.839Z"
   },
   {
    "duration": 0,
    "start_time": "2022-05-14T12:09:11.841Z"
   },
   {
    "duration": 0,
    "start_time": "2022-05-14T12:09:11.843Z"
   },
   {
    "duration": 11,
    "start_time": "2022-05-14T12:10:29.618Z"
   },
   {
    "duration": 15,
    "start_time": "2022-05-14T12:10:56.510Z"
   },
   {
    "duration": 19,
    "start_time": "2022-05-14T12:11:07.291Z"
   },
   {
    "duration": 700,
    "start_time": "2022-05-14T12:14:40.488Z"
   },
   {
    "duration": 115,
    "start_time": "2022-05-14T12:14:41.192Z"
   },
   {
    "duration": 43,
    "start_time": "2022-05-14T12:14:41.309Z"
   },
   {
    "duration": 42,
    "start_time": "2022-05-14T12:14:41.355Z"
   },
   {
    "duration": 39,
    "start_time": "2022-05-14T12:14:41.399Z"
   },
   {
    "duration": 42,
    "start_time": "2022-05-14T12:14:41.440Z"
   },
   {
    "duration": 24,
    "start_time": "2022-05-14T12:14:41.484Z"
   },
   {
    "duration": 46,
    "start_time": "2022-05-14T12:14:41.511Z"
   },
   {
    "duration": 40,
    "start_time": "2022-05-14T12:14:41.559Z"
   },
   {
    "duration": 23,
    "start_time": "2022-05-14T12:14:41.603Z"
   },
   {
    "duration": 32,
    "start_time": "2022-05-14T12:14:41.628Z"
   },
   {
    "duration": 29,
    "start_time": "2022-05-14T12:14:41.663Z"
   },
   {
    "duration": 42,
    "start_time": "2022-05-14T12:14:41.694Z"
   },
   {
    "duration": 26,
    "start_time": "2022-05-14T12:14:41.739Z"
   },
   {
    "duration": 36,
    "start_time": "2022-05-14T12:14:41.767Z"
   },
   {
    "duration": 13,
    "start_time": "2022-05-14T12:14:41.806Z"
   },
   {
    "duration": 36,
    "start_time": "2022-05-14T12:14:41.822Z"
   },
   {
    "duration": 29,
    "start_time": "2022-05-14T12:14:41.860Z"
   },
   {
    "duration": 37,
    "start_time": "2022-05-14T12:14:41.892Z"
   },
   {
    "duration": 14,
    "start_time": "2022-05-14T12:14:41.931Z"
   },
   {
    "duration": 37,
    "start_time": "2022-05-14T12:14:41.947Z"
   },
   {
    "duration": 38,
    "start_time": "2022-05-14T12:14:41.986Z"
   },
   {
    "duration": 28,
    "start_time": "2022-05-14T12:14:42.026Z"
   },
   {
    "duration": 40,
    "start_time": "2022-05-14T12:14:42.056Z"
   },
   {
    "duration": 40,
    "start_time": "2022-05-14T12:14:42.098Z"
   },
   {
    "duration": 30,
    "start_time": "2022-05-14T12:14:42.140Z"
   },
   {
    "duration": 56,
    "start_time": "2022-05-14T12:14:42.172Z"
   },
   {
    "duration": 52,
    "start_time": "2022-05-14T12:14:42.234Z"
   },
   {
    "duration": 43,
    "start_time": "2022-05-14T12:14:42.288Z"
   },
   {
    "duration": 40,
    "start_time": "2022-05-14T12:14:42.333Z"
   },
   {
    "duration": 36,
    "start_time": "2022-05-14T12:14:42.375Z"
   },
   {
    "duration": 21,
    "start_time": "2022-05-14T12:14:42.413Z"
   },
   {
    "duration": 58,
    "start_time": "2022-05-14T12:14:42.436Z"
   },
   {
    "duration": 54,
    "start_time": "2022-05-14T12:14:42.496Z"
   },
   {
    "duration": 16,
    "start_time": "2022-05-14T12:14:42.553Z"
   },
   {
    "duration": 67,
    "start_time": "2022-05-14T12:14:42.572Z"
   },
   {
    "duration": 97,
    "start_time": "2022-05-14T12:14:42.643Z"
   },
   {
    "duration": 14,
    "start_time": "2022-05-14T12:14:42.742Z"
   },
   {
    "duration": 98,
    "start_time": "2022-05-14T12:14:42.758Z"
   },
   {
    "duration": 12,
    "start_time": "2022-05-14T12:14:42.858Z"
   },
   {
    "duration": 68,
    "start_time": "2022-05-14T12:14:42.872Z"
   },
   {
    "duration": 298,
    "start_time": "2022-05-14T12:14:42.943Z"
   },
   {
    "duration": 22,
    "start_time": "2022-05-14T12:14:43.245Z"
   },
   {
    "duration": 13,
    "start_time": "2022-05-14T12:14:43.326Z"
   },
   {
    "duration": 30,
    "start_time": "2022-05-14T12:14:43.342Z"
   },
   {
    "duration": 21,
    "start_time": "2022-05-14T12:14:43.375Z"
   },
   {
    "duration": 42,
    "start_time": "2022-05-14T12:14:43.399Z"
   },
   {
    "duration": 64,
    "start_time": "2022-05-14T12:14:43.443Z"
   },
   {
    "duration": 11,
    "start_time": "2022-05-14T12:14:43.509Z"
   },
   {
    "duration": 35,
    "start_time": "2022-05-14T12:14:43.522Z"
   },
   {
    "duration": 23,
    "start_time": "2022-05-14T12:14:43.560Z"
   },
   {
    "duration": 16,
    "start_time": "2022-05-14T12:14:43.586Z"
   },
   {
    "duration": 35,
    "start_time": "2022-05-14T12:14:43.604Z"
   },
   {
    "duration": 35,
    "start_time": "2022-05-14T12:14:43.641Z"
   },
   {
    "duration": 42,
    "start_time": "2022-05-14T12:14:43.679Z"
   },
   {
    "duration": 49,
    "start_time": "2022-05-14T12:14:43.723Z"
   },
   {
    "duration": 559,
    "start_time": "2022-05-14T12:20:42.809Z"
   },
   {
    "duration": 80,
    "start_time": "2022-05-14T12:20:43.371Z"
   },
   {
    "duration": 36,
    "start_time": "2022-05-14T12:20:43.454Z"
   },
   {
    "duration": 40,
    "start_time": "2022-05-14T12:20:43.492Z"
   },
   {
    "duration": 29,
    "start_time": "2022-05-14T12:20:43.537Z"
   },
   {
    "duration": 19,
    "start_time": "2022-05-14T12:20:43.569Z"
   },
   {
    "duration": 44,
    "start_time": "2022-05-14T12:20:43.591Z"
   },
   {
    "duration": 12,
    "start_time": "2022-05-14T12:20:43.638Z"
   },
   {
    "duration": 26,
    "start_time": "2022-05-14T12:20:43.652Z"
   },
   {
    "duration": 54,
    "start_time": "2022-05-14T12:20:43.681Z"
   },
   {
    "duration": 15,
    "start_time": "2022-05-14T12:20:43.737Z"
   },
   {
    "duration": 15,
    "start_time": "2022-05-14T12:20:43.754Z"
   },
   {
    "duration": 5,
    "start_time": "2022-05-14T12:20:43.771Z"
   },
   {
    "duration": 56,
    "start_time": "2022-05-14T12:20:43.783Z"
   },
   {
    "duration": 15,
    "start_time": "2022-05-14T12:20:43.842Z"
   },
   {
    "duration": 6,
    "start_time": "2022-05-14T12:20:43.859Z"
   },
   {
    "duration": 9,
    "start_time": "2022-05-14T12:20:43.867Z"
   },
   {
    "duration": 12,
    "start_time": "2022-05-14T12:20:43.878Z"
   },
   {
    "duration": 6,
    "start_time": "2022-05-14T12:20:43.924Z"
   },
   {
    "duration": 14,
    "start_time": "2022-05-14T12:20:43.932Z"
   },
   {
    "duration": 7,
    "start_time": "2022-05-14T12:20:43.948Z"
   },
   {
    "duration": 22,
    "start_time": "2022-05-14T12:20:43.958Z"
   },
   {
    "duration": 48,
    "start_time": "2022-05-14T12:20:43.983Z"
   },
   {
    "duration": 22,
    "start_time": "2022-05-14T12:20:44.033Z"
   },
   {
    "duration": 17,
    "start_time": "2022-05-14T12:20:44.058Z"
   },
   {
    "duration": 15,
    "start_time": "2022-05-14T12:20:44.077Z"
   },
   {
    "duration": 10,
    "start_time": "2022-05-14T12:20:44.125Z"
   },
   {
    "duration": 35,
    "start_time": "2022-05-14T12:20:44.138Z"
   },
   {
    "duration": 62,
    "start_time": "2022-05-14T12:20:44.175Z"
   },
   {
    "duration": 26,
    "start_time": "2022-05-14T12:20:44.239Z"
   },
   {
    "duration": 14,
    "start_time": "2022-05-14T12:20:44.268Z"
   },
   {
    "duration": 45,
    "start_time": "2022-05-14T12:20:44.284Z"
   },
   {
    "duration": 10,
    "start_time": "2022-05-14T12:20:44.332Z"
   },
   {
    "duration": 20,
    "start_time": "2022-05-14T12:20:44.344Z"
   },
   {
    "duration": 10,
    "start_time": "2022-05-14T12:20:44.367Z"
   },
   {
    "duration": 52,
    "start_time": "2022-05-14T12:20:44.380Z"
   },
   {
    "duration": 25,
    "start_time": "2022-05-14T12:20:44.436Z"
   },
   {
    "duration": 15,
    "start_time": "2022-05-14T12:20:44.464Z"
   },
   {
    "duration": 69,
    "start_time": "2022-05-14T12:20:44.482Z"
   },
   {
    "duration": 10,
    "start_time": "2022-05-14T12:20:44.553Z"
   },
   {
    "duration": 7,
    "start_time": "2022-05-14T12:20:44.568Z"
   },
   {
    "duration": 107,
    "start_time": "2022-05-14T12:20:44.577Z"
   },
   {
    "duration": 20,
    "start_time": "2022-05-14T12:20:44.687Z"
   },
   {
    "duration": 10,
    "start_time": "2022-05-14T12:20:44.725Z"
   },
   {
    "duration": 10,
    "start_time": "2022-05-14T12:20:44.737Z"
   },
   {
    "duration": 14,
    "start_time": "2022-05-14T12:20:44.749Z"
   },
   {
    "duration": 25,
    "start_time": "2022-05-14T12:20:44.766Z"
   },
   {
    "duration": 35,
    "start_time": "2022-05-14T12:20:44.827Z"
   },
   {
    "duration": 10,
    "start_time": "2022-05-14T12:20:44.864Z"
   },
   {
    "duration": 65,
    "start_time": "2022-05-14T12:20:44.878Z"
   },
   {
    "duration": 30,
    "start_time": "2022-05-14T12:20:44.945Z"
   },
   {
    "duration": 12,
    "start_time": "2022-05-14T12:20:44.978Z"
   },
   {
    "duration": 41,
    "start_time": "2022-05-14T12:20:44.992Z"
   },
   {
    "duration": 15,
    "start_time": "2022-05-14T12:20:45.036Z"
   },
   {
    "duration": 37,
    "start_time": "2022-05-14T12:20:45.054Z"
   },
   {
    "duration": 29,
    "start_time": "2022-05-14T12:20:45.126Z"
   },
   {
    "duration": 20,
    "start_time": "2022-05-14T12:51:26.151Z"
   },
   {
    "duration": 756,
    "start_time": "2022-05-14T12:52:16.427Z"
   },
   {
    "duration": 118,
    "start_time": "2022-05-14T12:52:17.187Z"
   },
   {
    "duration": 49,
    "start_time": "2022-05-14T12:52:17.308Z"
   },
   {
    "duration": 30,
    "start_time": "2022-05-14T12:52:17.362Z"
   },
   {
    "duration": 65,
    "start_time": "2022-05-14T12:52:17.394Z"
   },
   {
    "duration": 22,
    "start_time": "2022-05-14T12:52:17.462Z"
   },
   {
    "duration": 42,
    "start_time": "2022-05-14T12:52:17.487Z"
   },
   {
    "duration": 11,
    "start_time": "2022-05-14T12:52:17.533Z"
   },
   {
    "duration": 32,
    "start_time": "2022-05-14T12:52:17.547Z"
   },
   {
    "duration": 51,
    "start_time": "2022-05-14T12:52:17.585Z"
   },
   {
    "duration": 16,
    "start_time": "2022-05-14T12:52:17.639Z"
   },
   {
    "duration": 16,
    "start_time": "2022-05-14T12:52:17.657Z"
   },
   {
    "duration": 6,
    "start_time": "2022-05-14T12:52:17.676Z"
   },
   {
    "duration": 18,
    "start_time": "2022-05-14T12:52:17.724Z"
   },
   {
    "duration": 24,
    "start_time": "2022-05-14T12:52:17.745Z"
   },
   {
    "duration": 12,
    "start_time": "2022-05-14T12:52:17.771Z"
   },
   {
    "duration": 42,
    "start_time": "2022-05-14T12:52:17.787Z"
   },
   {
    "duration": 10,
    "start_time": "2022-05-14T12:52:17.831Z"
   },
   {
    "duration": 7,
    "start_time": "2022-05-14T12:52:17.843Z"
   },
   {
    "duration": 13,
    "start_time": "2022-05-14T12:52:17.853Z"
   },
   {
    "duration": 55,
    "start_time": "2022-05-14T12:52:17.869Z"
   },
   {
    "duration": 7,
    "start_time": "2022-05-14T12:52:17.927Z"
   },
   {
    "duration": 24,
    "start_time": "2022-05-14T12:52:17.936Z"
   },
   {
    "duration": 15,
    "start_time": "2022-05-14T12:52:17.962Z"
   },
   {
    "duration": 52,
    "start_time": "2022-05-14T12:52:17.979Z"
   },
   {
    "duration": 15,
    "start_time": "2022-05-14T12:52:18.034Z"
   },
   {
    "duration": 14,
    "start_time": "2022-05-14T12:52:18.053Z"
   },
   {
    "duration": 14,
    "start_time": "2022-05-14T12:52:18.074Z"
   },
   {
    "duration": 62,
    "start_time": "2022-05-14T12:52:18.090Z"
   },
   {
    "duration": 30,
    "start_time": "2022-05-14T12:52:18.154Z"
   },
   {
    "duration": 52,
    "start_time": "2022-05-14T12:52:18.187Z"
   },
   {
    "duration": 11,
    "start_time": "2022-05-14T12:52:18.242Z"
   },
   {
    "duration": 14,
    "start_time": "2022-05-14T12:52:18.256Z"
   },
   {
    "duration": 8,
    "start_time": "2022-05-14T12:52:18.273Z"
   },
   {
    "duration": 49,
    "start_time": "2022-05-14T12:52:18.283Z"
   },
   {
    "duration": 9,
    "start_time": "2022-05-14T12:52:18.335Z"
   },
   {
    "duration": 25,
    "start_time": "2022-05-14T12:52:18.347Z"
   },
   {
    "duration": 54,
    "start_time": "2022-05-14T12:52:18.376Z"
   },
   {
    "duration": 15,
    "start_time": "2022-05-14T12:52:18.433Z"
   },
   {
    "duration": 76,
    "start_time": "2022-05-14T12:52:18.451Z"
   },
   {
    "duration": 15,
    "start_time": "2022-05-14T12:52:18.530Z"
   },
   {
    "duration": 6,
    "start_time": "2022-05-14T12:52:18.547Z"
   },
   {
    "duration": 112,
    "start_time": "2022-05-14T12:52:18.556Z"
   },
   {
    "duration": 20,
    "start_time": "2022-05-14T12:52:18.670Z"
   },
   {
    "duration": 10,
    "start_time": "2022-05-14T12:52:18.692Z"
   },
   {
    "duration": 8,
    "start_time": "2022-05-14T12:52:18.726Z"
   },
   {
    "duration": 15,
    "start_time": "2022-05-14T12:52:18.736Z"
   },
   {
    "duration": 21,
    "start_time": "2022-05-14T12:52:18.754Z"
   },
   {
    "duration": 65,
    "start_time": "2022-05-14T12:52:18.777Z"
   },
   {
    "duration": 11,
    "start_time": "2022-05-14T12:52:18.845Z"
   },
   {
    "duration": 31,
    "start_time": "2022-05-14T12:52:18.858Z"
   },
   {
    "duration": 48,
    "start_time": "2022-05-14T12:52:18.891Z"
   },
   {
    "duration": 9,
    "start_time": "2022-05-14T12:52:18.942Z"
   },
   {
    "duration": 17,
    "start_time": "2022-05-14T12:52:18.954Z"
   },
   {
    "duration": 13,
    "start_time": "2022-05-14T12:52:18.973Z"
   },
   {
    "duration": 58,
    "start_time": "2022-05-14T12:52:18.988Z"
   },
   {
    "duration": 39,
    "start_time": "2022-05-14T12:52:19.048Z"
   },
   {
    "duration": 18,
    "start_time": "2022-05-14T12:59:57.302Z"
   },
   {
    "duration": 557,
    "start_time": "2022-05-14T13:02:45.301Z"
   },
   {
    "duration": 75,
    "start_time": "2022-05-14T13:02:45.861Z"
   },
   {
    "duration": 31,
    "start_time": "2022-05-14T13:02:45.939Z"
   },
   {
    "duration": 21,
    "start_time": "2022-05-14T13:02:45.973Z"
   },
   {
    "duration": 23,
    "start_time": "2022-05-14T13:02:46.027Z"
   },
   {
    "duration": 14,
    "start_time": "2022-05-14T13:02:46.052Z"
   },
   {
    "duration": 10,
    "start_time": "2022-05-14T13:02:46.068Z"
   },
   {
    "duration": 50,
    "start_time": "2022-05-14T13:02:46.080Z"
   },
   {
    "duration": 25,
    "start_time": "2022-05-14T13:02:46.132Z"
   },
   {
    "duration": 18,
    "start_time": "2022-05-14T13:02:46.159Z"
   },
   {
    "duration": 47,
    "start_time": "2022-05-14T13:02:46.179Z"
   },
   {
    "duration": 14,
    "start_time": "2022-05-14T13:02:46.228Z"
   },
   {
    "duration": 11,
    "start_time": "2022-05-14T13:02:46.244Z"
   },
   {
    "duration": 18,
    "start_time": "2022-05-14T13:02:46.260Z"
   },
   {
    "duration": 46,
    "start_time": "2022-05-14T13:02:46.281Z"
   },
   {
    "duration": 11,
    "start_time": "2022-05-14T13:02:46.329Z"
   },
   {
    "duration": 8,
    "start_time": "2022-05-14T13:02:46.342Z"
   },
   {
    "duration": 12,
    "start_time": "2022-05-14T13:02:46.352Z"
   },
   {
    "duration": 5,
    "start_time": "2022-05-14T13:02:46.366Z"
   },
   {
    "duration": 7,
    "start_time": "2022-05-14T13:02:46.374Z"
   },
   {
    "duration": 43,
    "start_time": "2022-05-14T13:02:46.383Z"
   },
   {
    "duration": 6,
    "start_time": "2022-05-14T13:02:46.428Z"
   },
   {
    "duration": 19,
    "start_time": "2022-05-14T13:02:46.437Z"
   },
   {
    "duration": 12,
    "start_time": "2022-05-14T13:02:46.458Z"
   },
   {
    "duration": 77,
    "start_time": "2022-05-14T13:02:46.473Z"
   },
   {
    "duration": 20,
    "start_time": "2022-05-14T13:02:46.553Z"
   },
   {
    "duration": 18,
    "start_time": "2022-05-14T13:02:46.576Z"
   },
   {
    "duration": 35,
    "start_time": "2022-05-14T13:02:46.596Z"
   },
   {
    "duration": 28,
    "start_time": "2022-05-14T13:02:46.633Z"
   },
   {
    "duration": 29,
    "start_time": "2022-05-14T13:02:46.663Z"
   },
   {
    "duration": 56,
    "start_time": "2022-05-14T13:02:46.694Z"
   },
   {
    "duration": 11,
    "start_time": "2022-05-14T13:02:46.753Z"
   },
   {
    "duration": 11,
    "start_time": "2022-05-14T13:02:46.767Z"
   },
   {
    "duration": 10,
    "start_time": "2022-05-14T13:02:46.780Z"
   },
   {
    "duration": 16,
    "start_time": "2022-05-14T13:02:46.826Z"
   },
   {
    "duration": 7,
    "start_time": "2022-05-14T13:02:46.845Z"
   },
   {
    "duration": 18,
    "start_time": "2022-05-14T13:02:46.854Z"
   },
   {
    "duration": 20,
    "start_time": "2022-05-14T13:02:46.874Z"
   },
   {
    "duration": 10,
    "start_time": "2022-05-14T13:02:46.925Z"
   },
   {
    "duration": 39,
    "start_time": "2022-05-14T13:02:46.938Z"
   },
   {
    "duration": 40,
    "start_time": "2022-05-14T13:02:46.985Z"
   },
   {
    "duration": 9,
    "start_time": "2022-05-14T13:02:47.028Z"
   },
   {
    "duration": 158,
    "start_time": "2022-05-14T13:02:47.040Z"
   },
   {
    "duration": 38,
    "start_time": "2022-05-14T13:02:47.201Z"
   },
   {
    "duration": 24,
    "start_time": "2022-05-14T13:02:47.242Z"
   },
   {
    "duration": 19,
    "start_time": "2022-05-14T13:02:47.269Z"
   },
   {
    "duration": 15,
    "start_time": "2022-05-14T13:02:47.292Z"
   },
   {
    "duration": 16,
    "start_time": "2022-05-14T13:02:47.325Z"
   },
   {
    "duration": 41,
    "start_time": "2022-05-14T13:02:47.344Z"
   },
   {
    "duration": 37,
    "start_time": "2022-05-14T13:02:47.388Z"
   },
   {
    "duration": 25,
    "start_time": "2022-05-14T13:02:47.427Z"
   },
   {
    "duration": 21,
    "start_time": "2022-05-14T13:02:47.454Z"
   },
   {
    "duration": 46,
    "start_time": "2022-05-14T13:02:47.478Z"
   },
   {
    "duration": 8,
    "start_time": "2022-05-14T13:02:47.527Z"
   },
   {
    "duration": 11,
    "start_time": "2022-05-14T13:02:47.538Z"
   },
   {
    "duration": 26,
    "start_time": "2022-05-14T13:02:47.551Z"
   },
   {
    "duration": 65,
    "start_time": "2022-05-14T13:02:47.579Z"
   },
   {
    "duration": 164,
    "start_time": "2022-05-14T13:09:27.890Z"
   },
   {
    "duration": 6,
    "start_time": "2022-05-14T13:09:36.692Z"
   },
   {
    "duration": 11,
    "start_time": "2022-05-14T13:12:42.921Z"
   },
   {
    "duration": 11,
    "start_time": "2022-05-14T13:31:18.869Z"
   },
   {
    "duration": 15,
    "start_time": "2022-05-14T13:34:59.768Z"
   },
   {
    "duration": 34,
    "start_time": "2022-05-14T13:36:08.637Z"
   },
   {
    "duration": 7,
    "start_time": "2022-05-14T13:36:35.654Z"
   },
   {
    "duration": 28,
    "start_time": "2022-05-14T13:39:23.875Z"
   },
   {
    "duration": 13,
    "start_time": "2022-05-14T13:44:09.405Z"
   },
   {
    "duration": 8,
    "start_time": "2022-05-14T13:44:22.504Z"
   },
   {
    "duration": 11,
    "start_time": "2022-05-14T13:50:31.616Z"
   },
   {
    "duration": 7,
    "start_time": "2022-05-14T13:50:35.422Z"
   },
   {
    "duration": 11,
    "start_time": "2022-05-14T13:51:42.004Z"
   },
   {
    "duration": 17,
    "start_time": "2022-05-14T13:52:00.707Z"
   },
   {
    "duration": 17,
    "start_time": "2022-05-14T13:52:08.601Z"
   },
   {
    "duration": 572,
    "start_time": "2022-05-14T13:53:26.352Z"
   },
   {
    "duration": 78,
    "start_time": "2022-05-14T13:53:26.928Z"
   },
   {
    "duration": 46,
    "start_time": "2022-05-14T13:53:27.008Z"
   },
   {
    "duration": 44,
    "start_time": "2022-05-14T13:53:27.057Z"
   },
   {
    "duration": 32,
    "start_time": "2022-05-14T13:53:27.105Z"
   },
   {
    "duration": 15,
    "start_time": "2022-05-14T13:53:27.139Z"
   },
   {
    "duration": 14,
    "start_time": "2022-05-14T13:53:27.157Z"
   },
   {
    "duration": 53,
    "start_time": "2022-05-14T13:53:27.173Z"
   },
   {
    "duration": 27,
    "start_time": "2022-05-14T13:53:27.228Z"
   },
   {
    "duration": 24,
    "start_time": "2022-05-14T13:53:27.258Z"
   },
   {
    "duration": 52,
    "start_time": "2022-05-14T13:53:27.285Z"
   },
   {
    "duration": 13,
    "start_time": "2022-05-14T13:53:27.340Z"
   },
   {
    "duration": 5,
    "start_time": "2022-05-14T13:53:27.356Z"
   },
   {
    "duration": 18,
    "start_time": "2022-05-14T13:53:27.366Z"
   },
   {
    "duration": 16,
    "start_time": "2022-05-14T13:53:27.426Z"
   },
   {
    "duration": 13,
    "start_time": "2022-05-14T13:53:27.444Z"
   },
   {
    "duration": 12,
    "start_time": "2022-05-14T13:53:27.459Z"
   },
   {
    "duration": 51,
    "start_time": "2022-05-14T13:53:27.474Z"
   },
   {
    "duration": 12,
    "start_time": "2022-05-14T13:53:27.528Z"
   },
   {
    "duration": 23,
    "start_time": "2022-05-14T13:53:27.543Z"
   },
   {
    "duration": 10,
    "start_time": "2022-05-14T13:53:27.569Z"
   },
   {
    "duration": 9,
    "start_time": "2022-05-14T13:53:27.582Z"
   },
   {
    "duration": 39,
    "start_time": "2022-05-14T13:53:27.594Z"
   },
   {
    "duration": 7,
    "start_time": "2022-05-14T13:53:27.636Z"
   },
   {
    "duration": 11,
    "start_time": "2022-05-14T13:53:27.646Z"
   },
   {
    "duration": 19,
    "start_time": "2022-05-14T13:53:27.660Z"
   },
   {
    "duration": 236,
    "start_time": "2022-05-14T13:53:27.682Z"
   },
   {
    "duration": 0,
    "start_time": "2022-05-14T13:53:27.928Z"
   },
   {
    "duration": 0,
    "start_time": "2022-05-14T13:53:27.930Z"
   },
   {
    "duration": 0,
    "start_time": "2022-05-14T13:53:27.933Z"
   },
   {
    "duration": 0,
    "start_time": "2022-05-14T13:53:27.935Z"
   },
   {
    "duration": 1,
    "start_time": "2022-05-14T13:53:27.937Z"
   },
   {
    "duration": 0,
    "start_time": "2022-05-14T13:53:27.940Z"
   },
   {
    "duration": 0,
    "start_time": "2022-05-14T13:53:27.942Z"
   },
   {
    "duration": 0,
    "start_time": "2022-05-14T13:53:27.944Z"
   },
   {
    "duration": 0,
    "start_time": "2022-05-14T13:53:27.946Z"
   },
   {
    "duration": 0,
    "start_time": "2022-05-14T13:53:27.948Z"
   },
   {
    "duration": 0,
    "start_time": "2022-05-14T13:53:27.951Z"
   },
   {
    "duration": 0,
    "start_time": "2022-05-14T13:53:27.953Z"
   },
   {
    "duration": 0,
    "start_time": "2022-05-14T13:53:27.955Z"
   },
   {
    "duration": 0,
    "start_time": "2022-05-14T13:53:27.957Z"
   },
   {
    "duration": 0,
    "start_time": "2022-05-14T13:53:27.959Z"
   },
   {
    "duration": 0,
    "start_time": "2022-05-14T13:53:27.962Z"
   },
   {
    "duration": 0,
    "start_time": "2022-05-14T13:53:27.964Z"
   },
   {
    "duration": 0,
    "start_time": "2022-05-14T13:53:27.966Z"
   },
   {
    "duration": 0,
    "start_time": "2022-05-14T13:53:28.025Z"
   },
   {
    "duration": 0,
    "start_time": "2022-05-14T13:53:28.027Z"
   },
   {
    "duration": 0,
    "start_time": "2022-05-14T13:53:28.030Z"
   },
   {
    "duration": 0,
    "start_time": "2022-05-14T13:53:28.032Z"
   },
   {
    "duration": 0,
    "start_time": "2022-05-14T13:53:28.035Z"
   },
   {
    "duration": 0,
    "start_time": "2022-05-14T13:53:28.037Z"
   },
   {
    "duration": 0,
    "start_time": "2022-05-14T13:53:28.040Z"
   },
   {
    "duration": 0,
    "start_time": "2022-05-14T13:53:28.042Z"
   },
   {
    "duration": 0,
    "start_time": "2022-05-14T13:53:28.044Z"
   },
   {
    "duration": 0,
    "start_time": "2022-05-14T13:53:28.046Z"
   },
   {
    "duration": 0,
    "start_time": "2022-05-14T13:53:28.048Z"
   },
   {
    "duration": 0,
    "start_time": "2022-05-14T13:53:28.050Z"
   },
   {
    "duration": 0,
    "start_time": "2022-05-14T13:53:28.052Z"
   },
   {
    "duration": 1,
    "start_time": "2022-05-14T13:53:28.053Z"
   },
   {
    "duration": 0,
    "start_time": "2022-05-14T13:53:28.055Z"
   },
   {
    "duration": 0,
    "start_time": "2022-05-14T13:53:28.058Z"
   },
   {
    "duration": 0,
    "start_time": "2022-05-14T13:53:28.060Z"
   },
   {
    "duration": 8,
    "start_time": "2022-05-14T14:03:34.194Z"
   },
   {
    "duration": 7,
    "start_time": "2022-05-14T14:03:37.439Z"
   },
   {
    "duration": 17,
    "start_time": "2022-05-14T14:04:16.336Z"
   },
   {
    "duration": 486,
    "start_time": "2022-05-14T14:04:49.056Z"
   },
   {
    "duration": 120,
    "start_time": "2022-05-14T14:04:49.545Z"
   },
   {
    "duration": 45,
    "start_time": "2022-05-14T14:04:49.668Z"
   },
   {
    "duration": 21,
    "start_time": "2022-05-14T14:04:49.725Z"
   },
   {
    "duration": 24,
    "start_time": "2022-05-14T14:04:49.749Z"
   },
   {
    "duration": 14,
    "start_time": "2022-05-14T14:04:49.775Z"
   },
   {
    "duration": 43,
    "start_time": "2022-05-14T14:04:49.791Z"
   },
   {
    "duration": 11,
    "start_time": "2022-05-14T14:04:49.836Z"
   },
   {
    "duration": 30,
    "start_time": "2022-05-14T14:04:49.850Z"
   },
   {
    "duration": 63,
    "start_time": "2022-05-14T14:04:49.883Z"
   },
   {
    "duration": 17,
    "start_time": "2022-05-14T14:04:49.949Z"
   },
   {
    "duration": 13,
    "start_time": "2022-05-14T14:04:49.968Z"
   },
   {
    "duration": 41,
    "start_time": "2022-05-14T14:04:49.984Z"
   },
   {
    "duration": 34,
    "start_time": "2022-05-14T14:04:50.030Z"
   },
   {
    "duration": 27,
    "start_time": "2022-05-14T14:04:50.066Z"
   },
   {
    "duration": 11,
    "start_time": "2022-05-14T14:04:50.096Z"
   },
   {
    "duration": 7,
    "start_time": "2022-05-14T14:04:50.126Z"
   },
   {
    "duration": 30,
    "start_time": "2022-05-14T14:04:50.135Z"
   },
   {
    "duration": 11,
    "start_time": "2022-05-14T14:04:50.168Z"
   },
   {
    "duration": 43,
    "start_time": "2022-05-14T14:04:50.182Z"
   },
   {
    "duration": 8,
    "start_time": "2022-05-14T14:04:50.228Z"
   },
   {
    "duration": 21,
    "start_time": "2022-05-14T14:04:50.239Z"
   },
   {
    "duration": 11,
    "start_time": "2022-05-14T14:04:50.262Z"
   },
   {
    "duration": 9,
    "start_time": "2022-05-14T14:04:50.275Z"
   },
   {
    "duration": 40,
    "start_time": "2022-05-14T14:04:50.286Z"
   },
   {
    "duration": 17,
    "start_time": "2022-05-14T14:04:50.328Z"
   },
   {
    "duration": 14,
    "start_time": "2022-05-14T14:04:50.348Z"
   },
   {
    "duration": 21,
    "start_time": "2022-05-14T14:04:50.364Z"
   },
   {
    "duration": 20,
    "start_time": "2022-05-14T14:04:50.388Z"
   },
   {
    "duration": 35,
    "start_time": "2022-05-14T14:04:50.410Z"
   },
   {
    "duration": 16,
    "start_time": "2022-05-14T14:04:50.448Z"
   },
   {
    "duration": 16,
    "start_time": "2022-05-14T14:04:50.467Z"
   },
   {
    "duration": 56,
    "start_time": "2022-05-14T14:04:50.486Z"
   },
   {
    "duration": 51,
    "start_time": "2022-05-14T14:04:50.546Z"
   },
   {
    "duration": 42,
    "start_time": "2022-05-14T14:04:50.600Z"
   },
   {
    "duration": 26,
    "start_time": "2022-05-14T14:04:50.645Z"
   },
   {
    "duration": 13,
    "start_time": "2022-05-14T14:04:50.673Z"
   },
   {
    "duration": 41,
    "start_time": "2022-05-14T14:04:50.688Z"
   },
   {
    "duration": 25,
    "start_time": "2022-05-14T14:04:50.731Z"
   },
   {
    "duration": 28,
    "start_time": "2022-05-14T14:04:50.758Z"
   },
   {
    "duration": 16,
    "start_time": "2022-05-14T14:04:50.792Z"
   },
   {
    "duration": 35,
    "start_time": "2022-05-14T14:04:50.810Z"
   },
   {
    "duration": 19,
    "start_time": "2022-05-14T14:04:50.848Z"
   },
   {
    "duration": 19,
    "start_time": "2022-05-14T14:04:50.870Z"
   },
   {
    "duration": 45,
    "start_time": "2022-05-14T14:04:50.891Z"
   },
   {
    "duration": 10,
    "start_time": "2022-05-14T14:04:50.938Z"
   },
   {
    "duration": 26,
    "start_time": "2022-05-14T14:04:50.951Z"
   },
   {
    "duration": 140,
    "start_time": "2022-05-14T14:04:50.980Z"
   },
   {
    "duration": 22,
    "start_time": "2022-05-14T14:04:51.122Z"
   },
   {
    "duration": 15,
    "start_time": "2022-05-14T14:04:51.146Z"
   },
   {
    "duration": 23,
    "start_time": "2022-05-14T14:04:51.163Z"
   },
   {
    "duration": 15,
    "start_time": "2022-05-14T14:04:51.188Z"
   },
   {
    "duration": 16,
    "start_time": "2022-05-14T14:04:51.224Z"
   },
   {
    "duration": 46,
    "start_time": "2022-05-14T14:04:51.242Z"
   },
   {
    "duration": 33,
    "start_time": "2022-05-14T14:04:51.291Z"
   },
   {
    "duration": 25,
    "start_time": "2022-05-14T14:04:51.327Z"
   },
   {
    "duration": 23,
    "start_time": "2022-05-14T14:04:51.354Z"
   },
   {
    "duration": 50,
    "start_time": "2022-05-14T14:04:51.379Z"
   },
   {
    "duration": 12,
    "start_time": "2022-05-14T14:04:51.431Z"
   },
   {
    "duration": 10,
    "start_time": "2022-05-14T14:04:51.445Z"
   },
   {
    "duration": 26,
    "start_time": "2022-05-14T14:04:51.457Z"
   },
   {
    "duration": 26,
    "start_time": "2022-05-14T14:04:51.525Z"
   },
   {
    "duration": 14,
    "start_time": "2022-05-14T14:24:26.160Z"
   },
   {
    "duration": 764,
    "start_time": "2022-05-14T14:24:52.104Z"
   },
   {
    "duration": 85,
    "start_time": "2022-05-14T14:24:52.872Z"
   },
   {
    "duration": 30,
    "start_time": "2022-05-14T14:24:52.960Z"
   },
   {
    "duration": 42,
    "start_time": "2022-05-14T14:24:52.993Z"
   },
   {
    "duration": 25,
    "start_time": "2022-05-14T14:24:53.038Z"
   },
   {
    "duration": 18,
    "start_time": "2022-05-14T14:24:53.066Z"
   },
   {
    "duration": 53,
    "start_time": "2022-05-14T14:24:53.086Z"
   },
   {
    "duration": 22,
    "start_time": "2022-05-14T14:24:53.142Z"
   },
   {
    "duration": 30,
    "start_time": "2022-05-14T14:24:53.166Z"
   },
   {
    "duration": 41,
    "start_time": "2022-05-14T14:24:53.200Z"
   },
   {
    "duration": 16,
    "start_time": "2022-05-14T14:24:53.243Z"
   },
   {
    "duration": 15,
    "start_time": "2022-05-14T14:24:53.261Z"
   },
   {
    "duration": 6,
    "start_time": "2022-05-14T14:24:53.324Z"
   },
   {
    "duration": 22,
    "start_time": "2022-05-14T14:24:53.333Z"
   },
   {
    "duration": 27,
    "start_time": "2022-05-14T14:24:53.359Z"
   },
   {
    "duration": 42,
    "start_time": "2022-05-14T14:24:53.388Z"
   },
   {
    "duration": 8,
    "start_time": "2022-05-14T14:24:53.433Z"
   },
   {
    "duration": 27,
    "start_time": "2022-05-14T14:24:53.444Z"
   },
   {
    "duration": 10,
    "start_time": "2022-05-14T14:24:53.474Z"
   },
   {
    "duration": 39,
    "start_time": "2022-05-14T14:24:53.488Z"
   },
   {
    "duration": 11,
    "start_time": "2022-05-14T14:24:53.530Z"
   },
   {
    "duration": 11,
    "start_time": "2022-05-14T14:24:53.544Z"
   },
   {
    "duration": 17,
    "start_time": "2022-05-14T14:24:53.557Z"
   },
   {
    "duration": 49,
    "start_time": "2022-05-14T14:24:53.577Z"
   },
   {
    "duration": 24,
    "start_time": "2022-05-14T14:24:53.629Z"
   },
   {
    "duration": 21,
    "start_time": "2022-05-14T14:24:53.655Z"
   },
   {
    "duration": 21,
    "start_time": "2022-05-14T14:24:53.678Z"
   },
   {
    "duration": 16,
    "start_time": "2022-05-14T14:24:53.729Z"
   },
   {
    "duration": 30,
    "start_time": "2022-05-14T14:24:53.748Z"
   },
   {
    "duration": 24,
    "start_time": "2022-05-14T14:24:53.780Z"
   },
   {
    "duration": 39,
    "start_time": "2022-05-14T14:24:53.806Z"
   },
   {
    "duration": 31,
    "start_time": "2022-05-14T14:24:53.847Z"
   },
   {
    "duration": 59,
    "start_time": "2022-05-14T14:24:53.881Z"
   },
   {
    "duration": 16,
    "start_time": "2022-05-14T14:24:53.943Z"
   },
   {
    "duration": 17,
    "start_time": "2022-05-14T14:24:53.962Z"
   },
   {
    "duration": 15,
    "start_time": "2022-05-14T14:24:53.982Z"
   },
   {
    "duration": 15,
    "start_time": "2022-05-14T14:24:54.024Z"
   },
   {
    "duration": 8,
    "start_time": "2022-05-14T14:24:54.041Z"
   },
   {
    "duration": 26,
    "start_time": "2022-05-14T14:24:54.052Z"
   },
   {
    "duration": 59,
    "start_time": "2022-05-14T14:24:54.081Z"
   },
   {
    "duration": 15,
    "start_time": "2022-05-14T14:24:54.143Z"
   },
   {
    "duration": 78,
    "start_time": "2022-05-14T14:24:54.161Z"
   },
   {
    "duration": 16,
    "start_time": "2022-05-14T14:24:54.241Z"
   },
   {
    "duration": 17,
    "start_time": "2022-05-14T14:24:54.259Z"
   },
   {
    "duration": 111,
    "start_time": "2022-05-14T14:24:54.278Z"
   },
   {
    "duration": 20,
    "start_time": "2022-05-14T14:24:54.392Z"
   },
   {
    "duration": 10,
    "start_time": "2022-05-14T14:24:54.424Z"
   },
   {
    "duration": 12,
    "start_time": "2022-05-14T14:24:54.436Z"
   },
   {
    "duration": 18,
    "start_time": "2022-05-14T14:24:54.450Z"
   },
   {
    "duration": 22,
    "start_time": "2022-05-14T14:24:54.470Z"
   },
   {
    "duration": 63,
    "start_time": "2022-05-14T14:24:54.494Z"
   },
   {
    "duration": 11,
    "start_time": "2022-05-14T14:24:54.561Z"
   },
   {
    "duration": 59,
    "start_time": "2022-05-14T14:24:54.575Z"
   },
   {
    "duration": 26,
    "start_time": "2022-05-14T14:24:54.638Z"
   },
   {
    "duration": 13,
    "start_time": "2022-05-14T14:24:54.666Z"
   },
   {
    "duration": 45,
    "start_time": "2022-05-14T14:24:54.682Z"
   },
   {
    "duration": 12,
    "start_time": "2022-05-14T14:24:54.729Z"
   },
   {
    "duration": 34,
    "start_time": "2022-05-14T14:24:54.743Z"
   },
   {
    "duration": 50,
    "start_time": "2022-05-14T14:24:54.780Z"
   },
   {
    "duration": 24,
    "start_time": "2022-05-14T14:28:30.154Z"
   },
   {
    "duration": 11,
    "start_time": "2022-05-14T16:32:08.214Z"
   },
   {
    "duration": 9,
    "start_time": "2022-05-14T16:32:33.291Z"
   },
   {
    "duration": 23,
    "start_time": "2022-05-14T16:35:03.147Z"
   },
   {
    "duration": 20,
    "start_time": "2022-05-14T16:37:11.825Z"
   },
   {
    "duration": 9,
    "start_time": "2022-05-14T16:47:34.827Z"
   },
   {
    "duration": 26,
    "start_time": "2022-05-14T16:48:17.449Z"
   },
   {
    "duration": 517,
    "start_time": "2022-05-14T17:15:45.146Z"
   },
   {
    "duration": 75,
    "start_time": "2022-05-14T17:15:45.666Z"
   },
   {
    "duration": 31,
    "start_time": "2022-05-14T17:15:45.743Z"
   },
   {
    "duration": 19,
    "start_time": "2022-05-14T17:15:45.777Z"
   },
   {
    "duration": 21,
    "start_time": "2022-05-14T17:15:45.825Z"
   },
   {
    "duration": 16,
    "start_time": "2022-05-14T17:15:45.848Z"
   },
   {
    "duration": 11,
    "start_time": "2022-05-14T17:15:45.866Z"
   },
   {
    "duration": 48,
    "start_time": "2022-05-14T17:15:45.879Z"
   },
   {
    "duration": 30,
    "start_time": "2022-05-14T17:15:45.929Z"
   },
   {
    "duration": 18,
    "start_time": "2022-05-14T17:15:45.963Z"
   },
   {
    "duration": 44,
    "start_time": "2022-05-14T17:15:45.983Z"
   },
   {
    "duration": 14,
    "start_time": "2022-05-14T17:15:46.030Z"
   },
   {
    "duration": 9,
    "start_time": "2022-05-14T17:15:46.046Z"
   },
   {
    "duration": 22,
    "start_time": "2022-05-14T17:15:46.058Z"
   },
   {
    "duration": 43,
    "start_time": "2022-05-14T17:15:46.083Z"
   },
   {
    "duration": 9,
    "start_time": "2022-05-14T17:15:46.128Z"
   },
   {
    "duration": 8,
    "start_time": "2022-05-14T17:15:46.139Z"
   },
   {
    "duration": 19,
    "start_time": "2022-05-14T17:15:46.150Z"
   },
   {
    "duration": 7,
    "start_time": "2022-05-14T17:15:46.171Z"
   },
   {
    "duration": 6,
    "start_time": "2022-05-14T17:15:46.180Z"
   },
   {
    "duration": 5,
    "start_time": "2022-05-14T17:15:46.225Z"
   },
   {
    "duration": 12,
    "start_time": "2022-05-14T17:15:46.232Z"
   },
   {
    "duration": 11,
    "start_time": "2022-05-14T17:15:46.246Z"
   },
   {
    "duration": 19,
    "start_time": "2022-05-14T17:15:46.259Z"
   },
   {
    "duration": 7,
    "start_time": "2022-05-14T17:15:46.280Z"
   },
   {
    "duration": 7,
    "start_time": "2022-05-14T17:15:46.325Z"
   },
   {
    "duration": 20,
    "start_time": "2022-05-14T17:15:46.334Z"
   },
   {
    "duration": 6,
    "start_time": "2022-05-14T17:15:46.359Z"
   },
   {
    "duration": 20,
    "start_time": "2022-05-14T17:15:46.367Z"
   },
   {
    "duration": 43,
    "start_time": "2022-05-14T17:15:46.389Z"
   },
   {
    "duration": 22,
    "start_time": "2022-05-14T17:15:46.434Z"
   },
   {
    "duration": 16,
    "start_time": "2022-05-14T17:15:46.458Z"
   },
   {
    "duration": 12,
    "start_time": "2022-05-14T17:15:46.477Z"
   },
   {
    "duration": 40,
    "start_time": "2022-05-14T17:15:46.492Z"
   },
   {
    "duration": 30,
    "start_time": "2022-05-14T17:15:46.534Z"
   },
   {
    "duration": 60,
    "start_time": "2022-05-14T17:15:46.567Z"
   },
   {
    "duration": 29,
    "start_time": "2022-05-14T17:15:46.629Z"
   },
   {
    "duration": 12,
    "start_time": "2022-05-14T17:15:46.661Z"
   },
   {
    "duration": 50,
    "start_time": "2022-05-14T17:15:46.676Z"
   },
   {
    "duration": 9,
    "start_time": "2022-05-14T17:15:46.728Z"
   },
   {
    "duration": 19,
    "start_time": "2022-05-14T17:15:46.740Z"
   },
   {
    "duration": 8,
    "start_time": "2022-05-14T17:15:46.761Z"
   },
   {
    "duration": 20,
    "start_time": "2022-05-14T17:15:46.771Z"
   },
   {
    "duration": 48,
    "start_time": "2022-05-14T17:15:46.794Z"
   },
   {
    "duration": 13,
    "start_time": "2022-05-14T17:15:46.844Z"
   },
   {
    "duration": 64,
    "start_time": "2022-05-14T17:15:46.860Z"
   },
   {
    "duration": 12,
    "start_time": "2022-05-14T17:15:46.926Z"
   },
   {
    "duration": 10,
    "start_time": "2022-05-14T17:15:46.941Z"
   },
   {
    "duration": 106,
    "start_time": "2022-05-14T17:15:46.953Z"
   },
   {
    "duration": 24,
    "start_time": "2022-05-14T17:15:47.062Z"
   },
   {
    "duration": 37,
    "start_time": "2022-05-14T17:15:47.089Z"
   },
   {
    "duration": 11,
    "start_time": "2022-05-14T17:15:47.128Z"
   },
   {
    "duration": 14,
    "start_time": "2022-05-14T17:15:47.142Z"
   },
   {
    "duration": 20,
    "start_time": "2022-05-14T17:15:47.159Z"
   },
   {
    "duration": 63,
    "start_time": "2022-05-14T17:15:47.181Z"
   },
   {
    "duration": 9,
    "start_time": "2022-05-14T17:15:47.246Z"
   },
   {
    "duration": 28,
    "start_time": "2022-05-14T17:15:47.257Z"
   },
   {
    "duration": 51,
    "start_time": "2022-05-14T17:15:47.288Z"
   },
   {
    "duration": 10,
    "start_time": "2022-05-14T17:15:47.341Z"
   },
   {
    "duration": 14,
    "start_time": "2022-05-14T17:15:47.353Z"
   },
   {
    "duration": 15,
    "start_time": "2022-05-14T17:15:47.370Z"
   },
   {
    "duration": 58,
    "start_time": "2022-05-14T17:15:47.387Z"
   },
   {
    "duration": 27,
    "start_time": "2022-05-14T17:15:47.447Z"
   },
   {
    "duration": 133,
    "start_time": "2022-05-14T17:42:34.878Z"
   },
   {
    "duration": 35,
    "start_time": "2022-05-14T17:42:42.708Z"
   },
   {
    "duration": 14,
    "start_time": "2022-05-14T17:51:59.117Z"
   },
   {
    "duration": 581,
    "start_time": "2022-05-15T09:27:35.539Z"
   },
   {
    "duration": 82,
    "start_time": "2022-05-15T09:27:36.123Z"
   },
   {
    "duration": 28,
    "start_time": "2022-05-15T09:27:36.207Z"
   },
   {
    "duration": 44,
    "start_time": "2022-05-15T09:27:36.238Z"
   },
   {
    "duration": 21,
    "start_time": "2022-05-15T09:27:36.284Z"
   },
   {
    "duration": 13,
    "start_time": "2022-05-15T09:27:36.307Z"
   },
   {
    "duration": 9,
    "start_time": "2022-05-15T09:27:36.322Z"
   },
   {
    "duration": 55,
    "start_time": "2022-05-15T09:27:36.333Z"
   },
   {
    "duration": 25,
    "start_time": "2022-05-15T09:27:36.390Z"
   },
   {
    "duration": 18,
    "start_time": "2022-05-15T09:27:36.419Z"
   },
   {
    "duration": 51,
    "start_time": "2022-05-15T09:27:36.439Z"
   },
   {
    "duration": 19,
    "start_time": "2022-05-15T09:27:36.493Z"
   },
   {
    "duration": 6,
    "start_time": "2022-05-15T09:27:36.515Z"
   },
   {
    "duration": 59,
    "start_time": "2022-05-15T09:27:36.523Z"
   },
   {
    "duration": 15,
    "start_time": "2022-05-15T09:27:36.585Z"
   },
   {
    "duration": 11,
    "start_time": "2022-05-15T09:27:36.603Z"
   },
   {
    "duration": 8,
    "start_time": "2022-05-15T09:27:36.616Z"
   },
   {
    "duration": 56,
    "start_time": "2022-05-15T09:27:36.626Z"
   },
   {
    "duration": 8,
    "start_time": "2022-05-15T09:27:36.684Z"
   },
   {
    "duration": 7,
    "start_time": "2022-05-15T09:27:36.694Z"
   },
   {
    "duration": 7,
    "start_time": "2022-05-15T09:27:36.703Z"
   },
   {
    "duration": 9,
    "start_time": "2022-05-15T09:27:36.712Z"
   },
   {
    "duration": 10,
    "start_time": "2022-05-15T09:27:36.723Z"
   },
   {
    "duration": 65,
    "start_time": "2022-05-15T09:27:36.735Z"
   },
   {
    "duration": 9,
    "start_time": "2022-05-15T09:27:36.803Z"
   },
   {
    "duration": 12,
    "start_time": "2022-05-15T09:27:36.814Z"
   },
   {
    "duration": 19,
    "start_time": "2022-05-15T09:27:36.828Z"
   },
   {
    "duration": 10,
    "start_time": "2022-05-15T09:27:36.881Z"
   },
   {
    "duration": 21,
    "start_time": "2022-05-15T09:27:36.894Z"
   },
   {
    "duration": 16,
    "start_time": "2022-05-15T09:27:36.917Z"
   },
   {
    "duration": 14,
    "start_time": "2022-05-15T09:27:36.935Z"
   },
   {
    "duration": 11,
    "start_time": "2022-05-15T09:27:36.982Z"
   },
   {
    "duration": 37,
    "start_time": "2022-05-15T09:27:36.995Z"
   },
   {
    "duration": 49,
    "start_time": "2022-05-15T09:27:37.035Z"
   },
   {
    "duration": 26,
    "start_time": "2022-05-15T09:27:37.086Z"
   },
   {
    "duration": 11,
    "start_time": "2022-05-15T09:27:37.114Z"
   },
   {
    "duration": 13,
    "start_time": "2022-05-15T09:27:37.127Z"
   },
   {
    "duration": 40,
    "start_time": "2022-05-15T09:27:37.143Z"
   },
   {
    "duration": 18,
    "start_time": "2022-05-15T09:27:37.185Z"
   },
   {
    "duration": 7,
    "start_time": "2022-05-15T09:27:37.205Z"
   },
   {
    "duration": 17,
    "start_time": "2022-05-15T09:27:37.215Z"
   },
   {
    "duration": 54,
    "start_time": "2022-05-15T09:27:37.235Z"
   },
   {
    "duration": 10,
    "start_time": "2022-05-15T09:27:37.292Z"
   },
   {
    "duration": 35,
    "start_time": "2022-05-15T09:27:37.305Z"
   },
   {
    "duration": 45,
    "start_time": "2022-05-15T09:27:37.343Z"
   },
   {
    "duration": 9,
    "start_time": "2022-05-15T09:27:37.391Z"
   },
   {
    "duration": 110,
    "start_time": "2022-05-15T09:27:37.402Z"
   },
   {
    "duration": 21,
    "start_time": "2022-05-15T09:27:37.515Z"
   },
   {
    "duration": 14,
    "start_time": "2022-05-15T09:27:37.539Z"
   },
   {
    "duration": 11,
    "start_time": "2022-05-15T09:27:37.583Z"
   },
   {
    "duration": 16,
    "start_time": "2022-05-15T09:27:37.596Z"
   },
   {
    "duration": 19,
    "start_time": "2022-05-15T09:27:37.614Z"
   },
   {
    "duration": 62,
    "start_time": "2022-05-15T09:27:37.635Z"
   },
   {
    "duration": 10,
    "start_time": "2022-05-15T09:27:37.699Z"
   },
   {
    "duration": 28,
    "start_time": "2022-05-15T09:27:37.710Z"
   },
   {
    "duration": 47,
    "start_time": "2022-05-15T09:27:37.739Z"
   },
   {
    "duration": 9,
    "start_time": "2022-05-15T09:27:37.788Z"
   },
   {
    "duration": 9,
    "start_time": "2022-05-15T09:27:37.800Z"
   },
   {
    "duration": 13,
    "start_time": "2022-05-15T09:27:37.811Z"
   },
   {
    "duration": 64,
    "start_time": "2022-05-15T09:27:37.826Z"
   },
   {
    "duration": 24,
    "start_time": "2022-05-15T09:27:37.892Z"
   },
   {
    "duration": 96,
    "start_time": "2022-05-15T09:33:20.067Z"
   },
   {
    "duration": 8,
    "start_time": "2022-05-15T09:33:31.008Z"
   },
   {
    "duration": 11,
    "start_time": "2022-05-15T09:37:23.752Z"
   },
   {
    "duration": 528,
    "start_time": "2022-05-15T09:38:02.777Z"
   },
   {
    "duration": 81,
    "start_time": "2022-05-15T09:38:03.307Z"
   },
   {
    "duration": 31,
    "start_time": "2022-05-15T09:38:03.390Z"
   },
   {
    "duration": 20,
    "start_time": "2022-05-15T09:38:03.426Z"
   },
   {
    "duration": 51,
    "start_time": "2022-05-15T09:38:03.449Z"
   },
   {
    "duration": 16,
    "start_time": "2022-05-15T09:38:03.503Z"
   },
   {
    "duration": 10,
    "start_time": "2022-05-15T09:38:03.522Z"
   },
   {
    "duration": 52,
    "start_time": "2022-05-15T09:38:03.535Z"
   },
   {
    "duration": 27,
    "start_time": "2022-05-15T09:38:03.590Z"
   },
   {
    "duration": 20,
    "start_time": "2022-05-15T09:38:03.622Z"
   },
   {
    "duration": 51,
    "start_time": "2022-05-15T09:38:03.644Z"
   },
   {
    "duration": 28,
    "start_time": "2022-05-15T09:38:03.697Z"
   },
   {
    "duration": 5,
    "start_time": "2022-05-15T09:38:03.727Z"
   },
   {
    "duration": 21,
    "start_time": "2022-05-15T09:38:03.734Z"
   },
   {
    "duration": 35,
    "start_time": "2022-05-15T09:38:03.757Z"
   },
   {
    "duration": 11,
    "start_time": "2022-05-15T09:38:03.794Z"
   },
   {
    "duration": 7,
    "start_time": "2022-05-15T09:38:03.807Z"
   },
   {
    "duration": 17,
    "start_time": "2022-05-15T09:38:03.815Z"
   },
   {
    "duration": 49,
    "start_time": "2022-05-15T09:38:03.834Z"
   },
   {
    "duration": 5,
    "start_time": "2022-05-15T09:38:03.885Z"
   },
   {
    "duration": 7,
    "start_time": "2022-05-15T09:38:03.892Z"
   },
   {
    "duration": 10,
    "start_time": "2022-05-15T09:38:03.901Z"
   },
   {
    "duration": 9,
    "start_time": "2022-05-15T09:38:03.913Z"
   },
   {
    "duration": 60,
    "start_time": "2022-05-15T09:38:03.924Z"
   },
   {
    "duration": 7,
    "start_time": "2022-05-15T09:38:03.987Z"
   },
   {
    "duration": 8,
    "start_time": "2022-05-15T09:38:03.996Z"
   },
   {
    "duration": 22,
    "start_time": "2022-05-15T09:38:04.006Z"
   },
   {
    "duration": 9,
    "start_time": "2022-05-15T09:38:04.034Z"
   },
   {
    "duration": 53,
    "start_time": "2022-05-15T09:38:04.045Z"
   },
   {
    "duration": 16,
    "start_time": "2022-05-15T09:38:04.100Z"
   },
   {
    "duration": 17,
    "start_time": "2022-05-15T09:38:04.118Z"
   },
   {
    "duration": 10,
    "start_time": "2022-05-15T09:38:04.138Z"
   },
   {
    "duration": 55,
    "start_time": "2022-05-15T09:38:04.151Z"
   },
   {
    "duration": 30,
    "start_time": "2022-05-15T09:38:04.208Z"
   },
   {
    "duration": 51,
    "start_time": "2022-05-15T09:38:04.241Z"
   },
   {
    "duration": 11,
    "start_time": "2022-05-15T09:38:04.295Z"
   },
   {
    "duration": 13,
    "start_time": "2022-05-15T09:38:04.308Z"
   },
   {
    "duration": 12,
    "start_time": "2022-05-15T09:38:04.323Z"
   },
   {
    "duration": 48,
    "start_time": "2022-05-15T09:38:04.337Z"
   },
   {
    "duration": 9,
    "start_time": "2022-05-15T09:38:04.387Z"
   },
   {
    "duration": 19,
    "start_time": "2022-05-15T09:38:04.398Z"
   },
   {
    "duration": 21,
    "start_time": "2022-05-15T09:38:04.420Z"
   },
   {
    "duration": 44,
    "start_time": "2022-05-15T09:38:04.443Z"
   },
   {
    "duration": 39,
    "start_time": "2022-05-15T09:38:04.489Z"
   },
   {
    "duration": 11,
    "start_time": "2022-05-15T09:38:04.530Z"
   },
   {
    "duration": 8,
    "start_time": "2022-05-15T09:38:04.544Z"
   },
   {
    "duration": 82,
    "start_time": "2022-05-15T09:38:04.582Z"
   },
   {
    "duration": 35,
    "start_time": "2022-05-15T09:38:04.667Z"
   },
   {
    "duration": 10,
    "start_time": "2022-05-15T09:38:04.705Z"
   },
   {
    "duration": 16,
    "start_time": "2022-05-15T09:38:04.717Z"
   },
   {
    "duration": 13,
    "start_time": "2022-05-15T09:38:04.736Z"
   },
   {
    "duration": 22,
    "start_time": "2022-05-15T09:38:04.787Z"
   },
   {
    "duration": 45,
    "start_time": "2022-05-15T09:38:04.811Z"
   },
   {
    "duration": 31,
    "start_time": "2022-05-15T09:38:04.859Z"
   },
   {
    "duration": 38,
    "start_time": "2022-05-15T09:38:04.892Z"
   },
   {
    "duration": 53,
    "start_time": "2022-05-15T09:38:04.933Z"
   },
   {
    "duration": 11,
    "start_time": "2022-05-15T09:38:04.989Z"
   },
   {
    "duration": 16,
    "start_time": "2022-05-15T09:38:05.002Z"
   },
   {
    "duration": 11,
    "start_time": "2022-05-15T09:38:05.021Z"
   },
   {
    "duration": 63,
    "start_time": "2022-05-15T09:38:05.034Z"
   },
   {
    "duration": 26,
    "start_time": "2022-05-15T09:38:05.099Z"
   },
   {
    "duration": 174,
    "start_time": "2022-05-15T09:42:05.207Z"
   },
   {
    "duration": 14,
    "start_time": "2022-05-15T09:42:29.487Z"
   },
   {
    "duration": 14,
    "start_time": "2022-05-15T09:42:42.666Z"
   },
   {
    "duration": 619,
    "start_time": "2022-05-15T09:42:55.785Z"
   },
   {
    "duration": 87,
    "start_time": "2022-05-15T09:42:56.406Z"
   },
   {
    "duration": 29,
    "start_time": "2022-05-15T09:42:56.495Z"
   },
   {
    "duration": 19,
    "start_time": "2022-05-15T09:42:56.526Z"
   },
   {
    "duration": 50,
    "start_time": "2022-05-15T09:42:56.547Z"
   },
   {
    "duration": 13,
    "start_time": "2022-05-15T09:42:56.599Z"
   },
   {
    "duration": 11,
    "start_time": "2022-05-15T09:42:56.614Z"
   },
   {
    "duration": 11,
    "start_time": "2022-05-15T09:42:56.628Z"
   },
   {
    "duration": 63,
    "start_time": "2022-05-15T09:42:56.641Z"
   },
   {
    "duration": 18,
    "start_time": "2022-05-15T09:42:56.708Z"
   },
   {
    "duration": 14,
    "start_time": "2022-05-15T09:42:56.728Z"
   },
   {
    "duration": 44,
    "start_time": "2022-05-15T09:42:56.745Z"
   },
   {
    "duration": 8,
    "start_time": "2022-05-15T09:42:56.791Z"
   },
   {
    "duration": 26,
    "start_time": "2022-05-15T09:42:56.802Z"
   },
   {
    "duration": 18,
    "start_time": "2022-05-15T09:42:56.831Z"
   },
   {
    "duration": 32,
    "start_time": "2022-05-15T09:42:56.851Z"
   },
   {
    "duration": 7,
    "start_time": "2022-05-15T09:42:56.885Z"
   },
   {
    "duration": 19,
    "start_time": "2022-05-15T09:42:56.895Z"
   },
   {
    "duration": 7,
    "start_time": "2022-05-15T09:42:56.916Z"
   },
   {
    "duration": 8,
    "start_time": "2022-05-15T09:42:56.925Z"
   },
   {
    "duration": 10,
    "start_time": "2022-05-15T09:42:56.935Z"
   },
   {
    "duration": 41,
    "start_time": "2022-05-15T09:42:56.948Z"
   },
   {
    "duration": 12,
    "start_time": "2022-05-15T09:42:56.991Z"
   },
   {
    "duration": 21,
    "start_time": "2022-05-15T09:42:57.005Z"
   },
   {
    "duration": 8,
    "start_time": "2022-05-15T09:42:57.029Z"
   },
   {
    "duration": 47,
    "start_time": "2022-05-15T09:42:57.040Z"
   },
   {
    "duration": 15,
    "start_time": "2022-05-15T09:42:57.089Z"
   },
   {
    "duration": 9,
    "start_time": "2022-05-15T09:42:57.110Z"
   },
   {
    "duration": 24,
    "start_time": "2022-05-15T09:42:57.121Z"
   },
   {
    "duration": 45,
    "start_time": "2022-05-15T09:42:57.147Z"
   },
   {
    "duration": 20,
    "start_time": "2022-05-15T09:42:57.194Z"
   },
   {
    "duration": 11,
    "start_time": "2022-05-15T09:42:57.216Z"
   },
   {
    "duration": 57,
    "start_time": "2022-05-15T09:42:57.229Z"
   },
   {
    "duration": 29,
    "start_time": "2022-05-15T09:42:57.289Z"
   },
   {
    "duration": 27,
    "start_time": "2022-05-15T09:42:57.321Z"
   },
   {
    "duration": 36,
    "start_time": "2022-05-15T09:42:57.350Z"
   },
   {
    "duration": 15,
    "start_time": "2022-05-15T09:42:57.389Z"
   },
   {
    "duration": 15,
    "start_time": "2022-05-15T09:42:57.407Z"
   },
   {
    "duration": 8,
    "start_time": "2022-05-15T09:42:57.424Z"
   },
   {
    "duration": 54,
    "start_time": "2022-05-15T09:42:57.435Z"
   },
   {
    "duration": 8,
    "start_time": "2022-05-15T09:42:57.492Z"
   },
   {
    "duration": 32,
    "start_time": "2022-05-15T09:42:57.502Z"
   },
   {
    "duration": 20,
    "start_time": "2022-05-15T09:42:57.537Z"
   },
   {
    "duration": 25,
    "start_time": "2022-05-15T09:42:57.559Z"
   },
   {
    "duration": 35,
    "start_time": "2022-05-15T09:42:57.586Z"
   },
   {
    "duration": 10,
    "start_time": "2022-05-15T09:42:57.623Z"
   },
   {
    "duration": 8,
    "start_time": "2022-05-15T09:42:57.635Z"
   },
   {
    "duration": 114,
    "start_time": "2022-05-15T09:42:57.645Z"
   },
   {
    "duration": 29,
    "start_time": "2022-05-15T09:42:57.761Z"
   },
   {
    "duration": 10,
    "start_time": "2022-05-15T09:42:57.793Z"
   },
   {
    "duration": 12,
    "start_time": "2022-05-15T09:42:57.806Z"
   },
   {
    "duration": 12,
    "start_time": "2022-05-15T09:42:57.820Z"
   },
   {
    "duration": 60,
    "start_time": "2022-05-15T09:42:57.835Z"
   },
   {
    "duration": 35,
    "start_time": "2022-05-15T09:42:57.897Z"
   },
   {
    "duration": 10,
    "start_time": "2022-05-15T09:42:57.935Z"
   },
   {
    "duration": 53,
    "start_time": "2022-05-15T09:42:57.948Z"
   },
   {
    "duration": 24,
    "start_time": "2022-05-15T09:42:58.004Z"
   },
   {
    "duration": 51,
    "start_time": "2022-05-15T09:42:58.031Z"
   },
   {
    "duration": 8,
    "start_time": "2022-05-15T09:42:58.085Z"
   },
   {
    "duration": 17,
    "start_time": "2022-05-15T09:42:58.095Z"
   },
   {
    "duration": 25,
    "start_time": "2022-05-15T09:42:58.115Z"
   },
   {
    "duration": 54,
    "start_time": "2022-05-15T09:42:58.142Z"
   },
   {
    "duration": 9,
    "start_time": "2022-05-15T09:44:17.144Z"
   },
   {
    "duration": 13,
    "start_time": "2022-05-15T09:44:41.469Z"
   },
   {
    "duration": 14,
    "start_time": "2022-05-15T09:58:55.181Z"
   },
   {
    "duration": 522,
    "start_time": "2022-05-15T09:59:28.326Z"
   },
   {
    "duration": 77,
    "start_time": "2022-05-15T09:59:28.851Z"
   },
   {
    "duration": 29,
    "start_time": "2022-05-15T09:59:28.930Z"
   },
   {
    "duration": 34,
    "start_time": "2022-05-15T09:59:28.962Z"
   },
   {
    "duration": 23,
    "start_time": "2022-05-15T09:59:28.998Z"
   },
   {
    "duration": 14,
    "start_time": "2022-05-15T09:59:29.023Z"
   },
   {
    "duration": 44,
    "start_time": "2022-05-15T09:59:29.039Z"
   },
   {
    "duration": 10,
    "start_time": "2022-05-15T09:59:29.085Z"
   },
   {
    "duration": 26,
    "start_time": "2022-05-15T09:59:29.097Z"
   },
   {
    "duration": 59,
    "start_time": "2022-05-15T09:59:29.126Z"
   },
   {
    "duration": 14,
    "start_time": "2022-05-15T09:59:29.188Z"
   },
   {
    "duration": 14,
    "start_time": "2022-05-15T09:59:29.205Z"
   },
   {
    "duration": 5,
    "start_time": "2022-05-15T09:59:29.221Z"
   },
   {
    "duration": 60,
    "start_time": "2022-05-15T09:59:29.229Z"
   },
   {
    "duration": 18,
    "start_time": "2022-05-15T09:59:29.291Z"
   },
   {
    "duration": 9,
    "start_time": "2022-05-15T09:59:29.311Z"
   },
   {
    "duration": 8,
    "start_time": "2022-05-15T09:59:29.322Z"
   },
   {
    "duration": 51,
    "start_time": "2022-05-15T09:59:29.332Z"
   },
   {
    "duration": 8,
    "start_time": "2022-05-15T09:59:29.386Z"
   },
   {
    "duration": 11,
    "start_time": "2022-05-15T09:59:29.396Z"
   },
   {
    "duration": 9,
    "start_time": "2022-05-15T09:59:29.409Z"
   },
   {
    "duration": 11,
    "start_time": "2022-05-15T09:59:29.420Z"
   },
   {
    "duration": 13,
    "start_time": "2022-05-15T09:59:29.433Z"
   },
   {
    "duration": 50,
    "start_time": "2022-05-15T09:59:29.448Z"
   },
   {
    "duration": 7,
    "start_time": "2022-05-15T09:59:29.500Z"
   },
   {
    "duration": 7,
    "start_time": "2022-05-15T09:59:29.509Z"
   },
   {
    "duration": 14,
    "start_time": "2022-05-15T09:59:29.518Z"
   },
   {
    "duration": 46,
    "start_time": "2022-05-15T09:59:29.538Z"
   },
   {
    "duration": 21,
    "start_time": "2022-05-15T09:59:29.586Z"
   },
   {
    "duration": 16,
    "start_time": "2022-05-15T09:59:29.609Z"
   },
   {
    "duration": 13,
    "start_time": "2022-05-15T09:59:29.627Z"
   },
   {
    "duration": 46,
    "start_time": "2022-05-15T09:59:29.642Z"
   },
   {
    "duration": 28,
    "start_time": "2022-05-15T09:59:29.691Z"
   },
   {
    "duration": 61,
    "start_time": "2022-05-15T09:59:29.722Z"
   },
   {
    "duration": 30,
    "start_time": "2022-05-15T09:59:29.785Z"
   },
   {
    "duration": 13,
    "start_time": "2022-05-15T09:59:29.817Z"
   },
   {
    "duration": 55,
    "start_time": "2022-05-15T09:59:29.832Z"
   },
   {
    "duration": 13,
    "start_time": "2022-05-15T09:59:29.889Z"
   },
   {
    "duration": 16,
    "start_time": "2022-05-15T09:59:29.905Z"
   },
   {
    "duration": 7,
    "start_time": "2022-05-15T09:59:29.924Z"
   },
   {
    "duration": 59,
    "start_time": "2022-05-15T09:59:29.933Z"
   },
   {
    "duration": 9,
    "start_time": "2022-05-15T09:59:29.995Z"
   },
   {
    "duration": 27,
    "start_time": "2022-05-15T09:59:30.006Z"
   },
   {
    "duration": 33,
    "start_time": "2022-05-15T09:59:30.036Z"
   },
   {
    "duration": 11,
    "start_time": "2022-05-15T09:59:30.072Z"
   },
   {
    "duration": 41,
    "start_time": "2022-05-15T09:59:30.085Z"
   },
   {
    "duration": 10,
    "start_time": "2022-05-15T09:59:30.128Z"
   },
   {
    "duration": 18,
    "start_time": "2022-05-15T09:59:30.140Z"
   },
   {
    "duration": 104,
    "start_time": "2022-05-15T09:59:30.161Z"
   },
   {
    "duration": 26,
    "start_time": "2022-05-15T09:59:30.267Z"
   },
   {
    "duration": 28,
    "start_time": "2022-05-15T09:59:30.295Z"
   },
   {
    "duration": 32,
    "start_time": "2022-05-15T09:59:30.326Z"
   },
   {
    "duration": 37,
    "start_time": "2022-05-15T09:59:30.361Z"
   },
   {
    "duration": 28,
    "start_time": "2022-05-15T09:59:30.401Z"
   },
   {
    "duration": 55,
    "start_time": "2022-05-15T09:59:30.431Z"
   },
   {
    "duration": 9,
    "start_time": "2022-05-15T09:59:30.489Z"
   },
   {
    "duration": 44,
    "start_time": "2022-05-15T09:59:30.501Z"
   },
   {
    "duration": 35,
    "start_time": "2022-05-15T09:59:30.547Z"
   },
   {
    "duration": 8,
    "start_time": "2022-05-15T09:59:30.584Z"
   },
   {
    "duration": 20,
    "start_time": "2022-05-15T09:59:30.595Z"
   },
   {
    "duration": 22,
    "start_time": "2022-05-15T09:59:30.618Z"
   },
   {
    "duration": 38,
    "start_time": "2022-05-15T09:59:30.643Z"
   },
   {
    "duration": 26,
    "start_time": "2022-05-15T09:59:30.683Z"
   },
   {
    "duration": 8,
    "start_time": "2022-05-15T10:04:47.593Z"
   },
   {
    "duration": 8,
    "start_time": "2022-05-15T10:04:54.739Z"
   },
   {
    "duration": 10,
    "start_time": "2022-05-15T10:05:02.209Z"
   },
   {
    "duration": 569,
    "start_time": "2022-05-15T10:12:44.542Z"
   },
   {
    "duration": 79,
    "start_time": "2022-05-15T10:12:45.114Z"
   },
   {
    "duration": 29,
    "start_time": "2022-05-15T10:12:45.195Z"
   },
   {
    "duration": 19,
    "start_time": "2022-05-15T10:12:45.227Z"
   },
   {
    "duration": 44,
    "start_time": "2022-05-15T10:12:45.249Z"
   },
   {
    "duration": 13,
    "start_time": "2022-05-15T10:12:45.295Z"
   },
   {
    "duration": 8,
    "start_time": "2022-05-15T10:12:45.311Z"
   },
   {
    "duration": 11,
    "start_time": "2022-05-15T10:12:45.321Z"
   },
   {
    "duration": 65,
    "start_time": "2022-05-15T10:12:45.334Z"
   },
   {
    "duration": 18,
    "start_time": "2022-05-15T10:12:45.402Z"
   },
   {
    "duration": 15,
    "start_time": "2022-05-15T10:12:45.422Z"
   },
   {
    "duration": 14,
    "start_time": "2022-05-15T10:12:45.439Z"
   },
   {
    "duration": 5,
    "start_time": "2022-05-15T10:12:45.482Z"
   },
   {
    "duration": 22,
    "start_time": "2022-05-15T10:12:45.489Z"
   },
   {
    "duration": 17,
    "start_time": "2022-05-15T10:12:45.513Z"
   },
   {
    "duration": 7,
    "start_time": "2022-05-15T10:12:45.532Z"
   },
   {
    "duration": 45,
    "start_time": "2022-05-15T10:12:45.541Z"
   },
   {
    "duration": 16,
    "start_time": "2022-05-15T10:12:45.588Z"
   },
   {
    "duration": 7,
    "start_time": "2022-05-15T10:12:45.606Z"
   },
   {
    "duration": 6,
    "start_time": "2022-05-15T10:12:45.615Z"
   },
   {
    "duration": 6,
    "start_time": "2022-05-15T10:12:45.623Z"
   },
   {
    "duration": 8,
    "start_time": "2022-05-15T10:12:45.631Z"
   },
   {
    "duration": 10,
    "start_time": "2022-05-15T10:12:45.682Z"
   },
   {
    "duration": 21,
    "start_time": "2022-05-15T10:12:45.694Z"
   },
   {
    "duration": 7,
    "start_time": "2022-05-15T10:12:45.717Z"
   },
   {
    "duration": 7,
    "start_time": "2022-05-15T10:12:45.725Z"
   },
   {
    "duration": 48,
    "start_time": "2022-05-15T10:12:45.734Z"
   },
   {
    "duration": 9,
    "start_time": "2022-05-15T10:12:45.787Z"
   },
   {
    "duration": 22,
    "start_time": "2022-05-15T10:12:45.798Z"
   },
   {
    "duration": 15,
    "start_time": "2022-05-15T10:12:45.822Z"
   },
   {
    "duration": 44,
    "start_time": "2022-05-15T10:12:45.839Z"
   },
   {
    "duration": 9,
    "start_time": "2022-05-15T10:12:45.885Z"
   },
   {
    "duration": 26,
    "start_time": "2022-05-15T10:12:45.896Z"
   },
   {
    "duration": 58,
    "start_time": "2022-05-15T10:12:45.924Z"
   },
   {
    "duration": 28,
    "start_time": "2022-05-15T10:12:45.984Z"
   },
   {
    "duration": 10,
    "start_time": "2022-05-15T10:12:46.014Z"
   },
   {
    "duration": 18,
    "start_time": "2022-05-15T10:12:46.026Z"
   },
   {
    "duration": 44,
    "start_time": "2022-05-15T10:12:46.046Z"
   },
   {
    "duration": 15,
    "start_time": "2022-05-15T10:12:46.092Z"
   },
   {
    "duration": 7,
    "start_time": "2022-05-15T10:12:46.110Z"
   },
   {
    "duration": 21,
    "start_time": "2022-05-15T10:12:46.120Z"
   },
   {
    "duration": 37,
    "start_time": "2022-05-15T10:12:46.144Z"
   },
   {
    "duration": 19,
    "start_time": "2022-05-15T10:12:46.184Z"
   },
   {
    "duration": 22,
    "start_time": "2022-05-15T10:12:46.206Z"
   },
   {
    "duration": 11,
    "start_time": "2022-05-15T10:12:46.231Z"
   },
   {
    "duration": 66,
    "start_time": "2022-05-15T10:12:46.244Z"
   },
   {
    "duration": 11,
    "start_time": "2022-05-15T10:12:46.312Z"
   },
   {
    "duration": 8,
    "start_time": "2022-05-15T10:12:46.325Z"
   },
   {
    "duration": 131,
    "start_time": "2022-05-15T10:12:46.336Z"
   },
   {
    "duration": 25,
    "start_time": "2022-05-15T10:12:46.469Z"
   },
   {
    "duration": 11,
    "start_time": "2022-05-15T10:12:46.496Z"
   },
   {
    "duration": 10,
    "start_time": "2022-05-15T10:12:46.509Z"
   },
   {
    "duration": 13,
    "start_time": "2022-05-15T10:12:46.521Z"
   },
   {
    "duration": 59,
    "start_time": "2022-05-15T10:12:46.536Z"
   },
   {
    "duration": 41,
    "start_time": "2022-05-15T10:12:46.598Z"
   },
   {
    "duration": 8,
    "start_time": "2022-05-15T10:12:46.642Z"
   },
   {
    "duration": 48,
    "start_time": "2022-05-15T10:12:46.653Z"
   },
   {
    "duration": 23,
    "start_time": "2022-05-15T10:12:46.703Z"
   },
   {
    "duration": 7,
    "start_time": "2022-05-15T10:12:46.728Z"
   },
   {
    "duration": 7,
    "start_time": "2022-05-15T10:12:46.738Z"
   },
   {
    "duration": 8,
    "start_time": "2022-05-15T10:12:46.781Z"
   },
   {
    "duration": 29,
    "start_time": "2022-05-15T10:12:46.792Z"
   },
   {
    "duration": 58,
    "start_time": "2022-05-15T10:12:46.823Z"
   },
   {
    "duration": 409,
    "start_time": "2022-05-16T06:06:28.011Z"
   },
   {
    "duration": 58,
    "start_time": "2022-05-16T06:06:28.422Z"
   },
   {
    "duration": 29,
    "start_time": "2022-05-16T06:06:28.482Z"
   },
   {
    "duration": 13,
    "start_time": "2022-05-16T06:06:28.513Z"
   },
   {
    "duration": 17,
    "start_time": "2022-05-16T06:06:28.527Z"
   },
   {
    "duration": 10,
    "start_time": "2022-05-16T06:06:28.546Z"
   },
   {
    "duration": 6,
    "start_time": "2022-05-16T06:06:28.557Z"
   },
   {
    "duration": 6,
    "start_time": "2022-05-16T06:06:28.564Z"
   },
   {
    "duration": 17,
    "start_time": "2022-05-16T06:06:28.607Z"
   },
   {
    "duration": 11,
    "start_time": "2022-05-16T06:06:28.627Z"
   },
   {
    "duration": 9,
    "start_time": "2022-05-16T06:06:28.640Z"
   },
   {
    "duration": 10,
    "start_time": "2022-05-16T06:06:28.650Z"
   },
   {
    "duration": 3,
    "start_time": "2022-05-16T06:06:28.662Z"
   },
   {
    "duration": 49,
    "start_time": "2022-05-16T06:06:28.667Z"
   },
   {
    "duration": 15,
    "start_time": "2022-05-16T06:06:28.718Z"
   },
   {
    "duration": 6,
    "start_time": "2022-05-16T06:06:28.734Z"
   },
   {
    "duration": 7,
    "start_time": "2022-05-16T06:06:28.742Z"
   },
   {
    "duration": 15,
    "start_time": "2022-05-16T06:06:28.750Z"
   },
   {
    "duration": 4,
    "start_time": "2022-05-16T06:06:28.767Z"
   },
   {
    "duration": 5,
    "start_time": "2022-05-16T06:06:28.773Z"
   },
   {
    "duration": 29,
    "start_time": "2022-05-16T06:06:28.780Z"
   },
   {
    "duration": 4,
    "start_time": "2022-05-16T06:06:28.811Z"
   },
   {
    "duration": 8,
    "start_time": "2022-05-16T06:06:28.817Z"
   },
   {
    "duration": 12,
    "start_time": "2022-05-16T06:06:28.827Z"
   },
   {
    "duration": 4,
    "start_time": "2022-05-16T06:06:28.841Z"
   },
   {
    "duration": 10,
    "start_time": "2022-05-16T06:06:28.847Z"
   },
   {
    "duration": 9,
    "start_time": "2022-05-16T06:06:28.859Z"
   },
   {
    "duration": 40,
    "start_time": "2022-05-16T06:06:28.872Z"
   },
   {
    "duration": 15,
    "start_time": "2022-05-16T06:06:28.914Z"
   },
   {
    "duration": 11,
    "start_time": "2022-05-16T06:06:28.931Z"
   },
   {
    "duration": 14,
    "start_time": "2022-05-16T06:06:28.943Z"
   },
   {
    "duration": 8,
    "start_time": "2022-05-16T06:06:28.959Z"
   },
   {
    "duration": 47,
    "start_time": "2022-05-16T06:06:28.969Z"
   },
   {
    "duration": 19,
    "start_time": "2022-05-16T06:06:29.018Z"
   },
   {
    "duration": 17,
    "start_time": "2022-05-16T06:06:29.038Z"
   },
   {
    "duration": 7,
    "start_time": "2022-05-16T06:06:29.057Z"
   },
   {
    "duration": 11,
    "start_time": "2022-05-16T06:06:29.066Z"
   },
   {
    "duration": 8,
    "start_time": "2022-05-16T06:06:29.107Z"
   },
   {
    "duration": 11,
    "start_time": "2022-05-16T06:06:29.116Z"
   },
   {
    "duration": 6,
    "start_time": "2022-05-16T06:06:29.128Z"
   },
   {
    "duration": 12,
    "start_time": "2022-05-16T06:06:29.135Z"
   },
   {
    "duration": 4,
    "start_time": "2022-05-16T06:06:29.149Z"
   },
   {
    "duration": 14,
    "start_time": "2022-05-16T06:06:29.155Z"
   },
   {
    "duration": 44,
    "start_time": "2022-05-16T06:06:29.171Z"
   },
   {
    "duration": 7,
    "start_time": "2022-05-16T06:06:29.216Z"
   },
   {
    "duration": 25,
    "start_time": "2022-05-16T06:06:29.224Z"
   },
   {
    "duration": 7,
    "start_time": "2022-05-16T06:06:29.251Z"
   },
   {
    "duration": 5,
    "start_time": "2022-05-16T06:06:29.259Z"
   },
   {
    "duration": 79,
    "start_time": "2022-05-16T06:06:29.265Z"
   },
   {
    "duration": 14,
    "start_time": "2022-05-16T06:06:29.345Z"
   },
   {
    "duration": 6,
    "start_time": "2022-05-16T06:06:29.361Z"
   },
   {
    "duration": 6,
    "start_time": "2022-05-16T06:06:29.369Z"
   },
   {
    "duration": 31,
    "start_time": "2022-05-16T06:06:29.377Z"
   },
   {
    "duration": 10,
    "start_time": "2022-05-16T06:06:29.410Z"
   },
   {
    "duration": 22,
    "start_time": "2022-05-16T06:06:29.421Z"
   },
   {
    "duration": 6,
    "start_time": "2022-05-16T06:06:29.445Z"
   },
   {
    "duration": 38,
    "start_time": "2022-05-16T06:06:29.453Z"
   },
   {
    "duration": 25,
    "start_time": "2022-05-16T06:06:29.492Z"
   },
   {
    "duration": 4,
    "start_time": "2022-05-16T06:06:29.519Z"
   },
   {
    "duration": 7,
    "start_time": "2022-05-16T06:06:29.525Z"
   },
   {
    "duration": 7,
    "start_time": "2022-05-16T06:06:29.533Z"
   },
   {
    "duration": 17,
    "start_time": "2022-05-16T06:06:29.542Z"
   },
   {
    "duration": 17,
    "start_time": "2022-05-16T06:06:29.560Z"
   },
   {
    "duration": 466,
    "start_time": "2022-05-16T06:10:36.889Z"
   },
   {
    "duration": 69,
    "start_time": "2022-05-16T06:10:37.357Z"
   },
   {
    "duration": 20,
    "start_time": "2022-05-16T06:10:37.428Z"
   },
   {
    "duration": 13,
    "start_time": "2022-05-16T06:10:37.450Z"
   },
   {
    "duration": 16,
    "start_time": "2022-05-16T06:10:37.465Z"
   },
   {
    "duration": 12,
    "start_time": "2022-05-16T06:10:37.507Z"
   },
   {
    "duration": 6,
    "start_time": "2022-05-16T06:10:37.521Z"
   },
   {
    "duration": 7,
    "start_time": "2022-05-16T06:10:37.529Z"
   },
   {
    "duration": 17,
    "start_time": "2022-05-16T06:10:37.537Z"
   },
   {
    "duration": 13,
    "start_time": "2022-05-16T06:10:37.556Z"
   },
   {
    "duration": 46,
    "start_time": "2022-05-16T06:10:37.570Z"
   },
   {
    "duration": 11,
    "start_time": "2022-05-16T06:10:37.618Z"
   },
   {
    "duration": 4,
    "start_time": "2022-05-16T06:10:37.631Z"
   },
   {
    "duration": 15,
    "start_time": "2022-05-16T06:10:37.636Z"
   },
   {
    "duration": 13,
    "start_time": "2022-05-16T06:10:37.653Z"
   },
   {
    "duration": 44,
    "start_time": "2022-05-16T06:10:37.667Z"
   },
   {
    "duration": 6,
    "start_time": "2022-05-16T06:10:37.713Z"
   },
   {
    "duration": 13,
    "start_time": "2022-05-16T06:10:37.721Z"
   },
   {
    "duration": 6,
    "start_time": "2022-05-16T06:10:37.736Z"
   },
   {
    "duration": 10,
    "start_time": "2022-05-16T06:10:37.744Z"
   },
   {
    "duration": 6,
    "start_time": "2022-05-16T06:10:37.756Z"
   },
   {
    "duration": 18,
    "start_time": "2022-05-16T06:10:37.763Z"
   },
   {
    "duration": 34,
    "start_time": "2022-05-16T06:10:37.783Z"
   },
   {
    "duration": 20,
    "start_time": "2022-05-16T06:10:37.819Z"
   },
   {
    "duration": 5,
    "start_time": "2022-05-16T06:10:37.842Z"
   },
   {
    "duration": 8,
    "start_time": "2022-05-16T06:10:37.848Z"
   },
   {
    "duration": 9,
    "start_time": "2022-05-16T06:10:37.857Z"
   },
   {
    "duration": 43,
    "start_time": "2022-05-16T06:10:37.871Z"
   },
   {
    "duration": 19,
    "start_time": "2022-05-16T06:10:37.918Z"
   },
   {
    "duration": 11,
    "start_time": "2022-05-16T06:10:37.940Z"
   },
   {
    "duration": 12,
    "start_time": "2022-05-16T06:10:37.953Z"
   },
   {
    "duration": 9,
    "start_time": "2022-05-16T06:10:37.967Z"
   },
   {
    "duration": 21,
    "start_time": "2022-05-16T06:10:38.008Z"
   },
   {
    "duration": 22,
    "start_time": "2022-05-16T06:10:38.031Z"
   },
   {
    "duration": 17,
    "start_time": "2022-05-16T06:10:38.055Z"
   },
   {
    "duration": 43,
    "start_time": "2022-05-16T06:10:38.074Z"
   },
   {
    "duration": 17,
    "start_time": "2022-05-16T06:10:38.119Z"
   },
   {
    "duration": 7,
    "start_time": "2022-05-16T06:10:38.138Z"
   },
   {
    "duration": 11,
    "start_time": "2022-05-16T06:10:38.147Z"
   },
   {
    "duration": 5,
    "start_time": "2022-05-16T06:10:38.159Z"
   },
   {
    "duration": 48,
    "start_time": "2022-05-16T06:10:38.166Z"
   },
   {
    "duration": 6,
    "start_time": "2022-05-16T06:10:38.216Z"
   },
   {
    "duration": 14,
    "start_time": "2022-05-16T06:10:38.224Z"
   },
   {
    "duration": 15,
    "start_time": "2022-05-16T06:10:38.240Z"
   },
   {
    "duration": 6,
    "start_time": "2022-05-16T06:10:38.257Z"
   },
   {
    "duration": 54,
    "start_time": "2022-05-16T06:10:38.265Z"
   },
   {
    "duration": 8,
    "start_time": "2022-05-16T06:10:38.320Z"
   },
   {
    "duration": 4,
    "start_time": "2022-05-16T06:10:38.330Z"
   },
   {
    "duration": 72,
    "start_time": "2022-05-16T06:10:38.336Z"
   },
   {
    "duration": 15,
    "start_time": "2022-05-16T06:10:38.409Z"
   },
   {
    "duration": 24,
    "start_time": "2022-05-16T06:10:38.425Z"
   },
   {
    "duration": 8,
    "start_time": "2022-05-16T06:10:38.451Z"
   },
   {
    "duration": 9,
    "start_time": "2022-05-16T06:10:38.461Z"
   },
   {
    "duration": 13,
    "start_time": "2022-05-16T06:10:38.471Z"
   },
   {
    "duration": 39,
    "start_time": "2022-05-16T06:10:38.486Z"
   },
   {
    "duration": 7,
    "start_time": "2022-05-16T06:10:38.527Z"
   },
   {
    "duration": 23,
    "start_time": "2022-05-16T06:10:38.536Z"
   },
   {
    "duration": 48,
    "start_time": "2022-05-16T06:10:38.561Z"
   },
   {
    "duration": 8,
    "start_time": "2022-05-16T06:10:38.611Z"
   },
   {
    "duration": 32,
    "start_time": "2022-05-16T06:10:38.621Z"
   },
   {
    "duration": 16,
    "start_time": "2022-05-16T06:10:38.655Z"
   },
   {
    "duration": 24,
    "start_time": "2022-05-16T06:10:38.674Z"
   },
   {
    "duration": 18,
    "start_time": "2022-05-16T06:10:38.700Z"
   }
  ],
  "kernelspec": {
   "display_name": "Python 3",
   "language": "python",
   "name": "python3"
  },
  "language_info": {
   "codemirror_mode": {
    "name": "ipython",
    "version": 3
   },
   "file_extension": ".py",
   "mimetype": "text/x-python",
   "name": "python",
   "nbconvert_exporter": "python",
   "pygments_lexer": "ipython3",
   "version": "3.9.10"
  },
  "toc": {
   "base_numbering": 1,
   "nav_menu": {
    "height": "279px",
    "width": "354px"
   },
   "number_sections": true,
   "sideBar": true,
   "skip_h1_title": true,
   "title_cell": "Table of Contents",
   "title_sidebar": "Contents",
   "toc_cell": false,
   "toc_position": {
    "height": "calc(100% - 180px)",
    "left": "10px",
    "top": "150px",
    "width": "238px"
   },
   "toc_section_display": true,
   "toc_window_display": false
  }
 },
 "nbformat": 4,
 "nbformat_minor": 5
}
