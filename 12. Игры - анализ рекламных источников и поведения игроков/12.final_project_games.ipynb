{
 "cells": [
  {
   "cell_type": "markdown",
   "metadata": {
    "toc": true
   },
   "source": [
    "<h1>Table of Contents<span class=\"tocSkip\"></span></h1>\n",
    "<div class=\"toc\"><ul class=\"toc-item\"><li><ul class=\"toc-item\"><li><span><a href=\"#Материалы:\" data-toc-modified-id=\"Материалы:-0.1\"><span class=\"toc-item-num\">0.1&nbsp;&nbsp;</span>Материалы:</a></span></li><li><span><a href=\"#Описание-проекта\" data-toc-modified-id=\"Описание-проекта-0.2\"><span class=\"toc-item-num\">0.2&nbsp;&nbsp;</span>Описание проекта</a></span></li></ul></li><li><span><a href=\"#Обзор-данных\" data-toc-modified-id=\"Обзор-данных-1\"><span class=\"toc-item-num\">1&nbsp;&nbsp;</span>Обзор данных</a></span><ul class=\"toc-item\"><li><span><a href=\"#Промежуточный-вывод\" data-toc-modified-id=\"Промежуточный-вывод-1.1\"><span class=\"toc-item-num\">1.1&nbsp;&nbsp;</span>Промежуточный вывод</a></span></li></ul></li><li><span><a href=\"#Предобработка-данных\" data-toc-modified-id=\"Предобработка-данных-2\"><span class=\"toc-item-num\">2&nbsp;&nbsp;</span>Предобработка данных</a></span><ul class=\"toc-item\"><li><span><a href=\"#Изменение-типов-данных\" data-toc-modified-id=\"Изменение-типов-данных-2.1\"><span class=\"toc-item-num\">2.1&nbsp;&nbsp;</span>Изменение типов данных</a></span></li><li><span><a href=\"#Обработка-пропусков\" data-toc-modified-id=\"Обработка-пропусков-2.2\"><span class=\"toc-item-num\">2.2&nbsp;&nbsp;</span>Обработка пропусков</a></span></li><li><span><a href=\"#Проверка-на-дубликаты\" data-toc-modified-id=\"Проверка-на-дубликаты-2.3\"><span class=\"toc-item-num\">2.3&nbsp;&nbsp;</span>Проверка на дубликаты</a></span></li><li><span><a href=\"#Добавление-столбца-с-датой\" data-toc-modified-id=\"Добавление-столбца-с-датой-2.4\"><span class=\"toc-item-num\">2.4&nbsp;&nbsp;</span>Добавление столбца с датой</a></span></li><li><span><a href=\"#Создание-рабочего-датафрейма\" data-toc-modified-id=\"Создание-рабочего-датафрейма-2.5\"><span class=\"toc-item-num\">2.5&nbsp;&nbsp;</span>Создание рабочего датафрейма</a></span></li><li><span><a href=\"#Промежуточный-вывод\" data-toc-modified-id=\"Промежуточный-вывод-2.6\"><span class=\"toc-item-num\">2.6&nbsp;&nbsp;</span>Промежуточный вывод</a></span></li></ul></li><li><span><a href=\"#Исследовательский-анализ-данных\" data-toc-modified-id=\"Исследовательский-анализ-данных-3\"><span class=\"toc-item-num\">3&nbsp;&nbsp;</span>Исследовательский анализ данных</a></span><ul class=\"toc-item\"><li><span><a href=\"#Динамика-стоимости-привлечения\" data-toc-modified-id=\"Динамика-стоимости-привлечения-3.1\"><span class=\"toc-item-num\">3.1&nbsp;&nbsp;</span>Динамика стоимости привлечения</a></span></li><li><span><a href=\"#Динамика-притока-новых-игроков\" data-toc-modified-id=\"Динамика-притока-новых-игроков-3.2\"><span class=\"toc-item-num\">3.2&nbsp;&nbsp;</span>Динамика притока новых игроков</a></span></li><li><span><a href=\"#Источники-привлечения-игроков\" data-toc-modified-id=\"Источники-привлечения-игроков-3.3\"><span class=\"toc-item-num\">3.3&nbsp;&nbsp;</span>Источники привлечения игроков</a></span><ul class=\"toc-item\"><li><span><a href=\"#Средняя-стоимость-привлечения\" data-toc-modified-id=\"Средняя-стоимость-привлечения-3.3.1\"><span class=\"toc-item-num\">3.3.1&nbsp;&nbsp;</span>Средняя стоимость привлечения</a></span></li><li><span><a href=\"#Количество-игроков\" data-toc-modified-id=\"Количество-игроков-3.3.2\"><span class=\"toc-item-num\">3.3.2&nbsp;&nbsp;</span>Количество игроков</a></span></li><li><span><a href=\"#Стоимость-привлечения-одного-игрока-(САС)\" data-toc-modified-id=\"Стоимость-привлечения-одного-игрока-(САС)-3.3.3\"><span class=\"toc-item-num\">3.3.3&nbsp;&nbsp;</span>Стоимость привлечения одного игрока (САС)</a></span></li><li><span><a href=\"#Активность-одного-игрока\" data-toc-modified-id=\"Активность-одного-игрока-3.3.4\"><span class=\"toc-item-num\">3.3.4&nbsp;&nbsp;</span>Активность одного игрока</a></span></li><li><span><a href=\"#Доля-победителей\" data-toc-modified-id=\"Доля-победителей-3.3.5\"><span class=\"toc-item-num\">3.3.5&nbsp;&nbsp;</span>Доля победителей</a></span></li></ul></li><li><span><a href=\"#Kоличество-и-доля-игроков-на-каждом-этапе\" data-toc-modified-id=\"Kоличество-и-доля-игроков-на-каждом-этапе-3.4\"><span class=\"toc-item-num\">3.4&nbsp;&nbsp;</span>Kоличество и доля игроков на каждом этапе</a></span></li><li><span><a href=\"#Промежуточный-вывод\" data-toc-modified-id=\"Промежуточный-вывод-3.5\"><span class=\"toc-item-num\">3.5&nbsp;&nbsp;</span>Промежуточный вывод</a></span></li></ul></li><li><span><a href=\"#Определение-и-анализ-стратегий-победителей\" data-toc-modified-id=\"Определение-и-анализ-стратегий-победителей-4\"><span class=\"toc-item-num\">4&nbsp;&nbsp;</span>Определение и анализ стратегий победителей</a></span><ul class=\"toc-item\"><li><span><a href=\"#Определение-победителей\" data-toc-modified-id=\"Определение-победителей-4.1\"><span class=\"toc-item-num\">4.1&nbsp;&nbsp;</span>Определение победителей</a></span></li><li><span><a href=\"#Определение-стратегий\" data-toc-modified-id=\"Определение-стратегий-4.2\"><span class=\"toc-item-num\">4.2&nbsp;&nbsp;</span>Определение стратегий</a></span></li><li><span><a href=\"#Количество-действий-каждого-победителя\" data-toc-modified-id=\"Количество-действий-каждого-победителя-4.3\"><span class=\"toc-item-num\">4.3&nbsp;&nbsp;</span>Количество действий каждого победителя</a></span></li><li><span><a href=\"#Создание-датафрейма-для-проверки-гипотез\" data-toc-modified-id=\"Создание-датафрейма-для-проверки-гипотез-4.4\"><span class=\"toc-item-num\">4.4&nbsp;&nbsp;</span>Создание датафрейма для проверки гипотез</a></span></li><li><span><a href=\"#Анализ-стратегий-победителей\" data-toc-modified-id=\"Анализ-стратегий-победителей-4.5\"><span class=\"toc-item-num\">4.5&nbsp;&nbsp;</span>Анализ стратегий победителей</a></span><ul class=\"toc-item\"><li><span><a href=\"#Доля-игроков-по-рекламным-источникам\" data-toc-modified-id=\"Доля-игроков-по-рекламным-источникам-4.5.1\"><span class=\"toc-item-num\">4.5.1&nbsp;&nbsp;</span>Доля игроков по рекламным источникам</a></span></li><li><span><a href=\"#Доля-построенных-объектов-по-рекламным-источникам\" data-toc-modified-id=\"Доля-построенных-объектов-по-рекламным-источникам-4.5.2\"><span class=\"toc-item-num\">4.5.2&nbsp;&nbsp;</span>Доля построенных объектов по рекламным источникам</a></span></li></ul></li><li><span><a href=\"#Промежуточный-вывод\" data-toc-modified-id=\"Промежуточный-вывод-4.6\"><span class=\"toc-item-num\">4.6&nbsp;&nbsp;</span>Промежуточный вывод</a></span></li></ul></li><li><span><a href=\"#Проверка-гипотез\" data-toc-modified-id=\"Проверка-гипотез-5\"><span class=\"toc-item-num\">5&nbsp;&nbsp;</span>Проверка гипотез</a></span><ul class=\"toc-item\"><li><span><a href=\"#Гипотеза-о-зависимости-времени-прохождения-от-стратегии\" data-toc-modified-id=\"Гипотеза-о-зависимости-времени-прохождения-от-стратегии-5.1\"><span class=\"toc-item-num\">5.1&nbsp;&nbsp;</span>Гипотеза о зависимости времени прохождения от стратегии</a></span></li><li><span><a href=\"#Гипотеза-о-равенстве-долей-pvp-игроков-из-разных-источников\" data-toc-modified-id=\"Гипотеза-о-равенстве-долей-pvp-игроков-из-разных-источников-5.2\"><span class=\"toc-item-num\">5.2&nbsp;&nbsp;</span>Гипотеза о равенстве долей pvp-игроков из разных источников</a></span></li><li><span><a href=\"#Промежуточный-вывод\" data-toc-modified-id=\"Промежуточный-вывод-5.3\"><span class=\"toc-item-num\">5.3&nbsp;&nbsp;</span>Промежуточный вывод</a></span></li></ul></li><li><span><a href=\"#Общий-вывод\" data-toc-modified-id=\"Общий-вывод-6\"><span class=\"toc-item-num\">6&nbsp;&nbsp;</span>Общий вывод</a></span></li></ul></div>"
   ]
  },
  {
   "cell_type": "markdown",
   "metadata": {},
   "source": [
    "# Игры — Анализ рекламных источников"
   ]
  },
  {
   "cell_type": "markdown",
   "metadata": {},
   "source": [
    "### Материалы:\n",
    "* [Презентация](https://docs.google.com/presentation/d/1JWYYiBa0MbPHVxHGzl5mgAtEhPUkc8lo5nZa2haJxgc/edit?usp=sharing) \n",
    "* [Дашборд](https://public.tableau.com/views/space_brothers_viz/SpaceBrothers?:language=en-US&publish=yes&:display_count=n&:origin=viz_share_link)"
   ]
  },
  {
   "cell_type": "markdown",
   "metadata": {},
   "source": [
    "### Описание проекта\n",
    "Компания «Космические братья» занимается разработкой одноимённой игры для мобильных устройств. В ней пользователи строят свою космическую программу и пытаются преуспеть в нелёгком деле колонизации галактики. Основная монетизация игры — только планируется. Но предполагается, что в приложении будет происходить показ рекламы на экране с выбором типа объекта для постройки.\n",
    "\n",
    "**Цели исследования:**\n",
    "1. *Проанализировать влияние источника перехода в игру на поведение пользователя.*\n",
    "2. *Проверить статистические гипотезы:*\n",
    "    * *Время завершения уровня различается в зависимости способа прохождения (стратегии):*\n",
    "        - *через реализацию проекта*\n",
    "        - *через победу над первым игроком.*\n",
    "    * *Для любого источника доли игроков обеих стратегий различаются.*\n",
    "\n",
    "**Описание данных**\n",
    "\n",
    "В датасете представлены данные по игре пользователей на первом уровне. Завершение первого уровня требует от игрока выполнения одного из двух условий:\n",
    "- Победа над первым врагом\n",
    "- Реализация проекта - разработка орбитальной сборки спутников\n",
    "\n",
    "*В первой части содержатся данные первых пользователей приложения — когорты пользователей, которые начали пользоваться приложением в период с 4 по 10 мая включительно.*\n",
    "\n",
    "Файл `game_actions.csv`:\n",
    "\n",
    "    event_datetime — время события;\n",
    "    event — одно из трёх событий:\n",
    "    1. building — объект построен,\n",
    "    2. finished_stage_1 — первый уровень завершён,\n",
    "    3. project — проект завершён;\n",
    "    building_type — один из трёх типов здания:\n",
    "    1. assembly_shop — сборочный цех,\n",
    "    2. spaceport — космопорт,\n",
    "    3. research_center — исследовательский центр;\n",
    "    user_id — идентификатор пользователя;\n",
    "    project_type — тип реализованного проекта;\n",
    "    \n",
    "*Вторая часть содержит информацию о рекламных активностях.*\n",
    "\n",
    "Файл `ad_costs.csv`:\n",
    "\n",
    "    day - день, в который был совершен клик по объявлению\n",
    "    source - источник трафика\n",
    "    cost - стоимость кликов\n",
    "\n",
    "Файл `user_source.csv`:\n",
    "\n",
    "    user_id - идентификатор пользователя\n",
    "    source - источник, с которого пришёл пользователь, установивший приложение\n",
    "\n",
    "**Ход исследования**\n",
    "\n",
    "Предварительно разделим исследование на этапы:\n",
    " 1. Обзор данных\n",
    " 2. Предобработка\n",
    " 3. Исследовательский анализ данных\n",
    " 4. Определение и анализ стратегии игроков\n",
    " 5. Проверка гипотез\n",
    " \n",
    "О качестве данных ничего не известно. Поэтому до проведения исследовательского анализа и проверки гипотез понадобится обзор данных. Мы проверим данные на ошибки и оценим их влияние на исследование. Затем, на этапе предобработки мы поищем возможность исправить самые критичные ошибки данных."
   ]
  },
  {
   "cell_type": "markdown",
   "metadata": {},
   "source": [
    "## Обзор данных\n",
    "Необходимо составить первое впечатление о данных. Для этого импортируем все необходимые библиотеки:"
   ]
  },
  {
   "cell_type": "code",
   "execution_count": 1,
   "metadata": {},
   "outputs": [],
   "source": [
    "# основная библиотека\n",
    "import pandas as pd\n",
    "\n",
    "# отрисовка графиков\n",
    "import matplotlib.pyplot as plt\n",
    "%matplotlib inline\n",
    "import seaborn as sns\n",
    "\n",
    "# статистические расчёты\n",
    "import numpy as np\n",
    "import scipy.stats as stats\n",
    "import math\n",
    "from statsmodels.stats.proportion import proportions_ztest\n",
    "\n",
    "# вспомогательные модули\n",
    "import os\n",
    "#import warnings\n",
    "#warnings.filterwarnings('ignore') # отключаем предупреждения"
   ]
  },
  {
   "cell_type": "markdown",
   "metadata": {},
   "source": [
    "Загрузим данные в переменные:"
   ]
  },
  {
   "cell_type": "code",
   "execution_count": 2,
   "metadata": {},
   "outputs": [],
   "source": [
    "pth1 = '/datasets/game_actions.csv'\n",
    "pth2 = '/datasets/ad_costs.csv'\n",
    "pth3 = '/datasets/user_source.csv'\n",
    "\n",
    "if os.path.exists(pth1):\n",
    "    game_actions = pd.read_csv(pth1)\n",
    "else:\n",
    "    print(f'Something is wrong in {pth1}')\n",
    "    \n",
    "if os.path.exists(pth2):\n",
    "    ad_costs = pd.read_csv(pth2)\n",
    "else:\n",
    "    print(f'Something is wrong in {pth2}')\n",
    "    \n",
    "if os.path.exists(pth3):\n",
    "    user_source = pd.read_csv(pth3)\n",
    "else:\n",
    "    print(f'Something is wrong in {pth3}')"
   ]
  },
  {
   "cell_type": "markdown",
   "metadata": {},
   "source": [
    "Отобразим первые 5 строк каждого датафрейма:"
   ]
  },
  {
   "cell_type": "code",
   "execution_count": 3,
   "metadata": {},
   "outputs": [
    {
     "data": {
      "text/html": [
       "<div>\n",
       "<style scoped>\n",
       "    .dataframe tbody tr th:only-of-type {\n",
       "        vertical-align: middle;\n",
       "    }\n",
       "\n",
       "    .dataframe tbody tr th {\n",
       "        vertical-align: top;\n",
       "    }\n",
       "\n",
       "    .dataframe thead th {\n",
       "        text-align: right;\n",
       "    }\n",
       "</style>\n",
       "<table border=\"1\" class=\"dataframe\">\n",
       "  <thead>\n",
       "    <tr style=\"text-align: right;\">\n",
       "      <th></th>\n",
       "      <th>event_datetime</th>\n",
       "      <th>event</th>\n",
       "      <th>building_type</th>\n",
       "      <th>user_id</th>\n",
       "      <th>project_type</th>\n",
       "    </tr>\n",
       "  </thead>\n",
       "  <tbody>\n",
       "    <tr>\n",
       "      <th>0</th>\n",
       "      <td>2020-05-04 00:00:01</td>\n",
       "      <td>building</td>\n",
       "      <td>assembly_shop</td>\n",
       "      <td>55e92310-cb8e-4754-b622-597e124b03de</td>\n",
       "      <td>NaN</td>\n",
       "    </tr>\n",
       "    <tr>\n",
       "      <th>1</th>\n",
       "      <td>2020-05-04 00:00:03</td>\n",
       "      <td>building</td>\n",
       "      <td>assembly_shop</td>\n",
       "      <td>c07b1c10-f477-44dc-81dc-ec82254b1347</td>\n",
       "      <td>NaN</td>\n",
       "    </tr>\n",
       "    <tr>\n",
       "      <th>2</th>\n",
       "      <td>2020-05-04 00:00:16</td>\n",
       "      <td>building</td>\n",
       "      <td>assembly_shop</td>\n",
       "      <td>6edd42cc-e753-4ff6-a947-2107cd560710</td>\n",
       "      <td>NaN</td>\n",
       "    </tr>\n",
       "    <tr>\n",
       "      <th>3</th>\n",
       "      <td>2020-05-04 00:00:16</td>\n",
       "      <td>building</td>\n",
       "      <td>assembly_shop</td>\n",
       "      <td>92c69003-d60a-444a-827f-8cc51bf6bf4c</td>\n",
       "      <td>NaN</td>\n",
       "    </tr>\n",
       "    <tr>\n",
       "      <th>4</th>\n",
       "      <td>2020-05-04 00:00:35</td>\n",
       "      <td>building</td>\n",
       "      <td>assembly_shop</td>\n",
       "      <td>cdc6bb92-0ccb-4490-9866-ef142f09139d</td>\n",
       "      <td>NaN</td>\n",
       "    </tr>\n",
       "  </tbody>\n",
       "</table>\n",
       "</div>"
      ],
      "text/plain": [
       "        event_datetime     event  building_type  \\\n",
       "0  2020-05-04 00:00:01  building  assembly_shop   \n",
       "1  2020-05-04 00:00:03  building  assembly_shop   \n",
       "2  2020-05-04 00:00:16  building  assembly_shop   \n",
       "3  2020-05-04 00:00:16  building  assembly_shop   \n",
       "4  2020-05-04 00:00:35  building  assembly_shop   \n",
       "\n",
       "                                user_id project_type  \n",
       "0  55e92310-cb8e-4754-b622-597e124b03de          NaN  \n",
       "1  c07b1c10-f477-44dc-81dc-ec82254b1347          NaN  \n",
       "2  6edd42cc-e753-4ff6-a947-2107cd560710          NaN  \n",
       "3  92c69003-d60a-444a-827f-8cc51bf6bf4c          NaN  \n",
       "4  cdc6bb92-0ccb-4490-9866-ef142f09139d          NaN  "
      ]
     },
     "metadata": {},
     "output_type": "display_data"
    }
   ],
   "source": [
    "display(game_actions.head())"
   ]
  },
  {
   "cell_type": "code",
   "execution_count": 4,
   "metadata": {},
   "outputs": [
    {
     "data": {
      "text/html": [
       "<div>\n",
       "<style scoped>\n",
       "    .dataframe tbody tr th:only-of-type {\n",
       "        vertical-align: middle;\n",
       "    }\n",
       "\n",
       "    .dataframe tbody tr th {\n",
       "        vertical-align: top;\n",
       "    }\n",
       "\n",
       "    .dataframe thead th {\n",
       "        text-align: right;\n",
       "    }\n",
       "</style>\n",
       "<table border=\"1\" class=\"dataframe\">\n",
       "  <thead>\n",
       "    <tr style=\"text-align: right;\">\n",
       "      <th></th>\n",
       "      <th>source</th>\n",
       "      <th>day</th>\n",
       "      <th>cost</th>\n",
       "    </tr>\n",
       "  </thead>\n",
       "  <tbody>\n",
       "    <tr>\n",
       "      <th>0</th>\n",
       "      <td>facebook_ads</td>\n",
       "      <td>2020-05-03</td>\n",
       "      <td>935.882786</td>\n",
       "    </tr>\n",
       "    <tr>\n",
       "      <th>1</th>\n",
       "      <td>facebook_ads</td>\n",
       "      <td>2020-05-04</td>\n",
       "      <td>548.354480</td>\n",
       "    </tr>\n",
       "    <tr>\n",
       "      <th>2</th>\n",
       "      <td>facebook_ads</td>\n",
       "      <td>2020-05-05</td>\n",
       "      <td>260.185754</td>\n",
       "    </tr>\n",
       "    <tr>\n",
       "      <th>3</th>\n",
       "      <td>facebook_ads</td>\n",
       "      <td>2020-05-06</td>\n",
       "      <td>177.982200</td>\n",
       "    </tr>\n",
       "    <tr>\n",
       "      <th>4</th>\n",
       "      <td>facebook_ads</td>\n",
       "      <td>2020-05-07</td>\n",
       "      <td>111.766796</td>\n",
       "    </tr>\n",
       "  </tbody>\n",
       "</table>\n",
       "</div>"
      ],
      "text/plain": [
       "         source         day        cost\n",
       "0  facebook_ads  2020-05-03  935.882786\n",
       "1  facebook_ads  2020-05-04  548.354480\n",
       "2  facebook_ads  2020-05-05  260.185754\n",
       "3  facebook_ads  2020-05-06  177.982200\n",
       "4  facebook_ads  2020-05-07  111.766796"
      ]
     },
     "metadata": {},
     "output_type": "display_data"
    }
   ],
   "source": [
    "display(ad_costs.head())"
   ]
  },
  {
   "cell_type": "code",
   "execution_count": 5,
   "metadata": {},
   "outputs": [
    {
     "data": {
      "text/html": [
       "<div>\n",
       "<style scoped>\n",
       "    .dataframe tbody tr th:only-of-type {\n",
       "        vertical-align: middle;\n",
       "    }\n",
       "\n",
       "    .dataframe tbody tr th {\n",
       "        vertical-align: top;\n",
       "    }\n",
       "\n",
       "    .dataframe thead th {\n",
       "        text-align: right;\n",
       "    }\n",
       "</style>\n",
       "<table border=\"1\" class=\"dataframe\">\n",
       "  <thead>\n",
       "    <tr style=\"text-align: right;\">\n",
       "      <th></th>\n",
       "      <th>user_id</th>\n",
       "      <th>source</th>\n",
       "    </tr>\n",
       "  </thead>\n",
       "  <tbody>\n",
       "    <tr>\n",
       "      <th>0</th>\n",
       "      <td>0001f83c-c6ac-4621-b7f0-8a28b283ac30</td>\n",
       "      <td>facebook_ads</td>\n",
       "    </tr>\n",
       "    <tr>\n",
       "      <th>1</th>\n",
       "      <td>00151b4f-ba38-44a8-a650-d7cf130a0105</td>\n",
       "      <td>yandex_direct</td>\n",
       "    </tr>\n",
       "    <tr>\n",
       "      <th>2</th>\n",
       "      <td>001aaea6-3d14-43f1-8ca8-7f48820f17aa</td>\n",
       "      <td>youtube_channel_reklama</td>\n",
       "    </tr>\n",
       "    <tr>\n",
       "      <th>3</th>\n",
       "      <td>001d39dc-366c-4021-9604-6a3b9ff01e25</td>\n",
       "      <td>instagram_new_adverts</td>\n",
       "    </tr>\n",
       "    <tr>\n",
       "      <th>4</th>\n",
       "      <td>002f508f-67b6-479f-814b-b05f00d4e995</td>\n",
       "      <td>facebook_ads</td>\n",
       "    </tr>\n",
       "  </tbody>\n",
       "</table>\n",
       "</div>"
      ],
      "text/plain": [
       "                                user_id                   source\n",
       "0  0001f83c-c6ac-4621-b7f0-8a28b283ac30             facebook_ads\n",
       "1  00151b4f-ba38-44a8-a650-d7cf130a0105            yandex_direct\n",
       "2  001aaea6-3d14-43f1-8ca8-7f48820f17aa  youtube_channel_reklama\n",
       "3  001d39dc-366c-4021-9604-6a3b9ff01e25    instagram_new_adverts\n",
       "4  002f508f-67b6-479f-814b-b05f00d4e995             facebook_ads"
      ]
     },
     "metadata": {},
     "output_type": "display_data"
    }
   ],
   "source": [
    "display(user_source.head())"
   ]
  },
  {
   "cell_type": "markdown",
   "metadata": {},
   "source": [
    "Для получения более полной информации о датафрейме вызовем метод `info()`:"
   ]
  },
  {
   "cell_type": "code",
   "execution_count": 6,
   "metadata": {},
   "outputs": [
    {
     "data": {
      "text/plain": [
       "'-game_actions-'"
      ]
     },
     "metadata": {},
     "output_type": "display_data"
    },
    {
     "name": "stdout",
     "output_type": "stream",
     "text": [
      "<class 'pandas.core.frame.DataFrame'>\n",
      "RangeIndex: 135640 entries, 0 to 135639\n",
      "Data columns (total 5 columns):\n",
      " #   Column          Non-Null Count   Dtype \n",
      "---  ------          --------------   ----- \n",
      " 0   event_datetime  135640 non-null  object\n",
      " 1   event           135640 non-null  object\n",
      " 2   building_type   127957 non-null  object\n",
      " 3   user_id         135640 non-null  object\n",
      " 4   project_type    1866 non-null    object\n",
      "dtypes: object(5)\n",
      "memory usage: 5.2+ MB\n"
     ]
    },
    {
     "data": {
      "text/plain": [
       "None"
      ]
     },
     "metadata": {},
     "output_type": "display_data"
    },
    {
     "data": {
      "text/plain": [
       "'-----------------'"
      ]
     },
     "metadata": {},
     "output_type": "display_data"
    },
    {
     "data": {
      "text/plain": [
       "'-ad_costs-'"
      ]
     },
     "metadata": {},
     "output_type": "display_data"
    },
    {
     "name": "stdout",
     "output_type": "stream",
     "text": [
      "<class 'pandas.core.frame.DataFrame'>\n",
      "RangeIndex: 28 entries, 0 to 27\n",
      "Data columns (total 3 columns):\n",
      " #   Column  Non-Null Count  Dtype  \n",
      "---  ------  --------------  -----  \n",
      " 0   source  28 non-null     object \n",
      " 1   day     28 non-null     object \n",
      " 2   cost    28 non-null     float64\n",
      "dtypes: float64(1), object(2)\n",
      "memory usage: 800.0+ bytes\n"
     ]
    },
    {
     "data": {
      "text/plain": [
       "None"
      ]
     },
     "metadata": {},
     "output_type": "display_data"
    },
    {
     "data": {
      "text/plain": [
       "'-----------------'"
      ]
     },
     "metadata": {},
     "output_type": "display_data"
    },
    {
     "data": {
      "text/plain": [
       "'-user_source-'"
      ]
     },
     "metadata": {},
     "output_type": "display_data"
    },
    {
     "name": "stdout",
     "output_type": "stream",
     "text": [
      "<class 'pandas.core.frame.DataFrame'>\n",
      "RangeIndex: 13576 entries, 0 to 13575\n",
      "Data columns (total 2 columns):\n",
      " #   Column   Non-Null Count  Dtype \n",
      "---  ------   --------------  ----- \n",
      " 0   user_id  13576 non-null  object\n",
      " 1   source   13576 non-null  object\n",
      "dtypes: object(2)\n",
      "memory usage: 212.2+ KB\n"
     ]
    },
    {
     "data": {
      "text/plain": [
       "None"
      ]
     },
     "metadata": {},
     "output_type": "display_data"
    }
   ],
   "source": [
    "display('-game_actions-')\n",
    "display(game_actions.info())\n",
    "display('-----------------')\n",
    "display('-ad_costs-')\n",
    "display(ad_costs.info())\n",
    "display('-----------------')\n",
    "display('-user_source-')\n",
    "display(user_source.info())"
   ]
  },
  {
   "cell_type": "markdown",
   "metadata": {},
   "source": [
    "Данные о пользователях игры представлены как категориальными (тип здания, тип события, источник трафика), так и количественными величинами (стоимость кликов). Столбцы датафреймов поименованы в соответствии с общепринятым стилем. Представленные типы данных - `float` и `object`.\n",
    "\n",
    "Количество значений в столбцах различается. Значит, в данных есть пропуски, которые необходимо исследовать."
   ]
  },
  {
   "cell_type": "markdown",
   "metadata": {},
   "source": [
    "### Промежуточный вывод\n",
    "В трёх датафреймах представлены данные первых пользователей приложения и информация об их рекламных активностях (с 4 по 10 мая включительно).\n",
    "\n",
    "Предварительно можно утверждать, что данных достаточно для дальнейшего анализа и проверки статистических гипотез. Однако, в двух столбцах датафрейма `game_actions` встречаются пропуски. До этапов расчётов и исследовательского анализа необходимо заполнить пропущенные значения - или обосновать их отсутствие.\n",
    "\n",
    "\n",
    "Интерес представляют и типы данных:\n",
    "* даты в столбце `event_datetime` датафрейма `game_actions` указаны как `object` - их оптимальнее перевести в `datetime` и выделить столбец с днём;\n",
    "* даты в столбце `day` датафрейма `ad_costs` указаны как `object` - их также предпочтительно перевести в `datetime`.\n",
    "\n",
    "Итак, чтобы двигаться дальше, нужно устранить проблемы в данных."
   ]
  },
  {
   "cell_type": "markdown",
   "metadata": {},
   "source": [
    "## Предобработка данных"
   ]
  },
  {
   "cell_type": "markdown",
   "metadata": {},
   "source": [
    "### Изменение типов данных\n",
    "Изменим типы данных на `datetime` в следующих столбцах:\n",
    "* в `game_actions` - `event_datetime`\n",
    "* в `ad_costs` - `day`"
   ]
  },
  {
   "cell_type": "code",
   "execution_count": 7,
   "metadata": {},
   "outputs": [],
   "source": [
    "game_actions['event_datetime'] = pd.to_datetime(game_actions.event_datetime)\n",
    "\n",
    "ad_costs['day'] = pd.to_datetime(ad_costs.day)"
   ]
  },
  {
   "cell_type": "markdown",
   "metadata": {},
   "source": [
    "Проверим результат методом `info`:"
   ]
  },
  {
   "cell_type": "code",
   "execution_count": 8,
   "metadata": {},
   "outputs": [
    {
     "data": {
      "text/plain": [
       "'-game_actions-'"
      ]
     },
     "metadata": {},
     "output_type": "display_data"
    },
    {
     "name": "stdout",
     "output_type": "stream",
     "text": [
      "<class 'pandas.core.frame.DataFrame'>\n",
      "RangeIndex: 135640 entries, 0 to 135639\n",
      "Data columns (total 5 columns):\n",
      " #   Column          Non-Null Count   Dtype         \n",
      "---  ------          --------------   -----         \n",
      " 0   event_datetime  135640 non-null  datetime64[ns]\n",
      " 1   event           135640 non-null  object        \n",
      " 2   building_type   127957 non-null  object        \n",
      " 3   user_id         135640 non-null  object        \n",
      " 4   project_type    1866 non-null    object        \n",
      "dtypes: datetime64[ns](1), object(4)\n",
      "memory usage: 5.2+ MB\n"
     ]
    },
    {
     "data": {
      "text/plain": [
       "None"
      ]
     },
     "metadata": {},
     "output_type": "display_data"
    },
    {
     "data": {
      "text/plain": [
       "'-----------------'"
      ]
     },
     "metadata": {},
     "output_type": "display_data"
    },
    {
     "data": {
      "text/plain": [
       "'-ad_costs-'"
      ]
     },
     "metadata": {},
     "output_type": "display_data"
    },
    {
     "name": "stdout",
     "output_type": "stream",
     "text": [
      "<class 'pandas.core.frame.DataFrame'>\n",
      "RangeIndex: 28 entries, 0 to 27\n",
      "Data columns (total 3 columns):\n",
      " #   Column  Non-Null Count  Dtype         \n",
      "---  ------  --------------  -----         \n",
      " 0   source  28 non-null     object        \n",
      " 1   day     28 non-null     datetime64[ns]\n",
      " 2   cost    28 non-null     float64       \n",
      "dtypes: datetime64[ns](1), float64(1), object(1)\n",
      "memory usage: 800.0+ bytes\n"
     ]
    },
    {
     "data": {
      "text/plain": [
       "None"
      ]
     },
     "metadata": {},
     "output_type": "display_data"
    }
   ],
   "source": [
    "display('-game_actions-')\n",
    "display(game_actions.info())\n",
    "display('-----------------')\n",
    "display('-ad_costs-')\n",
    "display(ad_costs.info())"
   ]
  },
  {
   "cell_type": "markdown",
   "metadata": {},
   "source": [
    "### Обработка пропусков\n",
    "Выше мы уже обращали внимание на содержание пропущенных значений в столбцах датафрейма `game_actions`. Оценим их в процентном соотношении:"
   ]
  },
  {
   "cell_type": "code",
   "execution_count": 9,
   "metadata": {},
   "outputs": [
    {
     "data": {
      "text/html": [
       "<style  type=\"text/css\" >\n",
       "#T_94694_row0_col0,#T_94694_row1_col0,#T_94694_row3_col0{\n",
       "            background-color:  #3b4cc0;\n",
       "            color:  #f1f1f1;\n",
       "        }#T_94694_row2_col0{\n",
       "            background-color:  #4c66d6;\n",
       "            color:  #000000;\n",
       "        }#T_94694_row4_col0{\n",
       "            background-color:  #b40426;\n",
       "            color:  #f1f1f1;\n",
       "        }</style><table id=\"T_94694_\" ><thead>    <tr>        <th class=\"blank level0\" ></th>        <th class=\"col_heading level0 col0\" >0</th>    </tr></thead><tbody>\n",
       "                <tr>\n",
       "                        <th id=\"T_94694_level0_row0\" class=\"row_heading level0 row0\" >event_datetime</th>\n",
       "                        <td id=\"T_94694_row0_col0\" class=\"data row0 col0\" >0.000000</td>\n",
       "            </tr>\n",
       "            <tr>\n",
       "                        <th id=\"T_94694_level0_row1\" class=\"row_heading level0 row1\" >event</th>\n",
       "                        <td id=\"T_94694_row1_col0\" class=\"data row1 col0\" >0.000000</td>\n",
       "            </tr>\n",
       "            <tr>\n",
       "                        <th id=\"T_94694_level0_row2\" class=\"row_heading level0 row2\" >building_type</th>\n",
       "                        <td id=\"T_94694_row2_col0\" class=\"data row2 col0\" >6.000000</td>\n",
       "            </tr>\n",
       "            <tr>\n",
       "                        <th id=\"T_94694_level0_row3\" class=\"row_heading level0 row3\" >user_id</th>\n",
       "                        <td id=\"T_94694_row3_col0\" class=\"data row3 col0\" >0.000000</td>\n",
       "            </tr>\n",
       "            <tr>\n",
       "                        <th id=\"T_94694_level0_row4\" class=\"row_heading level0 row4\" >project_type</th>\n",
       "                        <td id=\"T_94694_row4_col0\" class=\"data row4 col0\" >99.000000</td>\n",
       "            </tr>\n",
       "    </tbody></table>"
      ],
      "text/plain": [
       "<pandas.io.formats.style.Styler at 0x7f19518c7af0>"
      ]
     },
     "execution_count": 9,
     "metadata": {},
     "output_type": "execute_result"
    }
   ],
   "source": [
    "pd.DataFrame(round(game_actions.isna().mean()*100,)).style.background_gradient('coolwarm')"
   ]
  },
  {
   "cell_type": "markdown",
   "metadata": {},
   "source": [
    "Как мы можем наблюдать, в столбцах `building_type` и `project_type` присутствуют пропуски. В `building_type` их количество невелико (однако, всё же превышает допустимый 1%), тогда как в `project_type` их подавляющее большинство.\n",
    "\n",
    "Сперва рассмотрим столбец `project_type`. Для этого выведем количество уникальных значений в нём:"
   ]
  },
  {
   "cell_type": "code",
   "execution_count": 10,
   "metadata": {},
   "outputs": [
    {
     "data": {
      "text/plain": [
       "satellite_orbital_assembly    1866\n",
       "Name: project_type, dtype: int64"
      ]
     },
     "execution_count": 10,
     "metadata": {},
     "output_type": "execute_result"
    }
   ],
   "source": [
    "game_actions.project_type.value_counts()"
   ]
  },
  {
   "cell_type": "markdown",
   "metadata": {},
   "source": [
    "Согласно документации, в этом столбце отображена информация о типе реализованного проекта. На данном этапе игры он всего один - это орбитальная сборка спутников.\n",
    "\n",
    "Выведем строки, содержащие пропущенные значения. Возможно, мы поймем, чем заполнять пропущенные значения и стоит ли это делать:"
   ]
  },
  {
   "cell_type": "code",
   "execution_count": 11,
   "metadata": {},
   "outputs": [
    {
     "data": {
      "text/html": [
       "<div>\n",
       "<style scoped>\n",
       "    .dataframe tbody tr th:only-of-type {\n",
       "        vertical-align: middle;\n",
       "    }\n",
       "\n",
       "    .dataframe tbody tr th {\n",
       "        vertical-align: top;\n",
       "    }\n",
       "\n",
       "    .dataframe thead th {\n",
       "        text-align: right;\n",
       "    }\n",
       "</style>\n",
       "<table border=\"1\" class=\"dataframe\">\n",
       "  <thead>\n",
       "    <tr style=\"text-align: right;\">\n",
       "      <th></th>\n",
       "      <th>event_datetime</th>\n",
       "      <th>event</th>\n",
       "      <th>building_type</th>\n",
       "      <th>user_id</th>\n",
       "      <th>project_type</th>\n",
       "    </tr>\n",
       "  </thead>\n",
       "  <tbody>\n",
       "    <tr>\n",
       "      <th>0</th>\n",
       "      <td>2020-05-04 00:00:01</td>\n",
       "      <td>building</td>\n",
       "      <td>assembly_shop</td>\n",
       "      <td>55e92310-cb8e-4754-b622-597e124b03de</td>\n",
       "      <td>NaN</td>\n",
       "    </tr>\n",
       "    <tr>\n",
       "      <th>1</th>\n",
       "      <td>2020-05-04 00:00:03</td>\n",
       "      <td>building</td>\n",
       "      <td>assembly_shop</td>\n",
       "      <td>c07b1c10-f477-44dc-81dc-ec82254b1347</td>\n",
       "      <td>NaN</td>\n",
       "    </tr>\n",
       "    <tr>\n",
       "      <th>2</th>\n",
       "      <td>2020-05-04 00:00:16</td>\n",
       "      <td>building</td>\n",
       "      <td>assembly_shop</td>\n",
       "      <td>6edd42cc-e753-4ff6-a947-2107cd560710</td>\n",
       "      <td>NaN</td>\n",
       "    </tr>\n",
       "    <tr>\n",
       "      <th>3</th>\n",
       "      <td>2020-05-04 00:00:16</td>\n",
       "      <td>building</td>\n",
       "      <td>assembly_shop</td>\n",
       "      <td>92c69003-d60a-444a-827f-8cc51bf6bf4c</td>\n",
       "      <td>NaN</td>\n",
       "    </tr>\n",
       "    <tr>\n",
       "      <th>4</th>\n",
       "      <td>2020-05-04 00:00:35</td>\n",
       "      <td>building</td>\n",
       "      <td>assembly_shop</td>\n",
       "      <td>cdc6bb92-0ccb-4490-9866-ef142f09139d</td>\n",
       "      <td>NaN</td>\n",
       "    </tr>\n",
       "    <tr>\n",
       "      <th>...</th>\n",
       "      <td>...</td>\n",
       "      <td>...</td>\n",
       "      <td>...</td>\n",
       "      <td>...</td>\n",
       "      <td>...</td>\n",
       "    </tr>\n",
       "    <tr>\n",
       "      <th>135635</th>\n",
       "      <td>2020-06-05 00:08:06</td>\n",
       "      <td>building</td>\n",
       "      <td>research_center</td>\n",
       "      <td>f21d179f-1c4b-437e-b9c6-ab1976907195</td>\n",
       "      <td>NaN</td>\n",
       "    </tr>\n",
       "    <tr>\n",
       "      <th>135636</th>\n",
       "      <td>2020-06-05 02:25:12</td>\n",
       "      <td>finished_stage_1</td>\n",
       "      <td>NaN</td>\n",
       "      <td>515c1952-99aa-4bca-a7ea-d0449eb5385a</td>\n",
       "      <td>NaN</td>\n",
       "    </tr>\n",
       "    <tr>\n",
       "      <th>135637</th>\n",
       "      <td>2020-06-05 08:57:52</td>\n",
       "      <td>building</td>\n",
       "      <td>research_center</td>\n",
       "      <td>ed3e7d02-8a96-4be7-9998-e9813ff9c316</td>\n",
       "      <td>NaN</td>\n",
       "    </tr>\n",
       "    <tr>\n",
       "      <th>135638</th>\n",
       "      <td>2020-06-05 12:12:27</td>\n",
       "      <td>finished_stage_1</td>\n",
       "      <td>NaN</td>\n",
       "      <td>32572adb-900f-4b5d-a453-1eb1e6d88d8b</td>\n",
       "      <td>NaN</td>\n",
       "    </tr>\n",
       "    <tr>\n",
       "      <th>135639</th>\n",
       "      <td>2020-06-05 12:32:49</td>\n",
       "      <td>finished_stage_1</td>\n",
       "      <td>NaN</td>\n",
       "      <td>f21d179f-1c4b-437e-b9c6-ab1976907195</td>\n",
       "      <td>NaN</td>\n",
       "    </tr>\n",
       "  </tbody>\n",
       "</table>\n",
       "<p>133774 rows × 5 columns</p>\n",
       "</div>"
      ],
      "text/plain": [
       "            event_datetime             event    building_type  \\\n",
       "0      2020-05-04 00:00:01          building    assembly_shop   \n",
       "1      2020-05-04 00:00:03          building    assembly_shop   \n",
       "2      2020-05-04 00:00:16          building    assembly_shop   \n",
       "3      2020-05-04 00:00:16          building    assembly_shop   \n",
       "4      2020-05-04 00:00:35          building    assembly_shop   \n",
       "...                    ...               ...              ...   \n",
       "135635 2020-06-05 00:08:06          building  research_center   \n",
       "135636 2020-06-05 02:25:12  finished_stage_1              NaN   \n",
       "135637 2020-06-05 08:57:52          building  research_center   \n",
       "135638 2020-06-05 12:12:27  finished_stage_1              NaN   \n",
       "135639 2020-06-05 12:32:49  finished_stage_1              NaN   \n",
       "\n",
       "                                     user_id project_type  \n",
       "0       55e92310-cb8e-4754-b622-597e124b03de          NaN  \n",
       "1       c07b1c10-f477-44dc-81dc-ec82254b1347          NaN  \n",
       "2       6edd42cc-e753-4ff6-a947-2107cd560710          NaN  \n",
       "3       92c69003-d60a-444a-827f-8cc51bf6bf4c          NaN  \n",
       "4       cdc6bb92-0ccb-4490-9866-ef142f09139d          NaN  \n",
       "...                                      ...          ...  \n",
       "135635  f21d179f-1c4b-437e-b9c6-ab1976907195          NaN  \n",
       "135636  515c1952-99aa-4bca-a7ea-d0449eb5385a          NaN  \n",
       "135637  ed3e7d02-8a96-4be7-9998-e9813ff9c316          NaN  \n",
       "135638  32572adb-900f-4b5d-a453-1eb1e6d88d8b          NaN  \n",
       "135639  f21d179f-1c4b-437e-b9c6-ab1976907195          NaN  \n",
       "\n",
       "[133774 rows x 5 columns]"
      ]
     },
     "execution_count": 11,
     "metadata": {},
     "output_type": "execute_result"
    }
   ],
   "source": [
    "game_actions[game_actions.project_type.isna()]"
   ]
  },
  {
   "cell_type": "markdown",
   "metadata": {},
   "source": [
    "Взглянем поподробнее на столбец `event` и оценим его уникальные значения, присущие строкам с пропусками в `project_type`:"
   ]
  },
  {
   "cell_type": "code",
   "execution_count": 12,
   "metadata": {},
   "outputs": [
    {
     "data": {
      "text/plain": [
       "building            127957\n",
       "finished_stage_1      5817\n",
       "Name: event, dtype: int64"
      ]
     },
     "execution_count": 12,
     "metadata": {},
     "output_type": "execute_result"
    }
   ],
   "source": [
    "game_actions[game_actions.project_type.isna()].event.value_counts()"
   ]
  },
  {
   "cell_type": "markdown",
   "metadata": {},
   "source": [
    "Мы можем наблюдать, что б*о*льшая часть пропусков в `project_type` связана с событием `building`, и  отсутствующие значения означают то, что в результате строительства этих объектов проект не был выполнен. Т.е. наличие пропущенных значений здесь вполне закономерно.\n",
    "\n",
    "Далее мы имеем 5817 игроков, завершивших первый уровень. Каким из двух путей (реализацией проекта или победой над первым игроком) это было достигнуто - пока не известно. В нашем распоряжении нет конкретных данных о факте победы над первым игроком, но факт реализации проекта зафиксирован в `project_type`. Если рассматривать воплотивших проект игроков, то можно было бы допустить, что абсолютно все их действия вели, собственно, к его реализации, - и заменить пропуски на `satellite_orbital_assembly`. Однако, у такого решения есть недочёт: мы рискуем вмешаться в механику сбора данных, предопределив реализацию проекта ещё на стадии постройки первого здания. В реальности пользователи редко планируют собственные игровые действия настолько далеко вперёд.\n",
    "\n",
    "Исходя из тезисов, предложенных выше, замена пропусков в столбце `project_type` представляется необоснованной и излишней."
   ]
  },
  {
   "cell_type": "markdown",
   "metadata": {},
   "source": [
    "Далее изучим столбец `building_type`. Выведем строки, содержащие пропущенные значения. Возможно, у нас возникнут идеи по их заполнению:"
   ]
  },
  {
   "cell_type": "code",
   "execution_count": 13,
   "metadata": {},
   "outputs": [
    {
     "data": {
      "text/html": [
       "<div>\n",
       "<style scoped>\n",
       "    .dataframe tbody tr th:only-of-type {\n",
       "        vertical-align: middle;\n",
       "    }\n",
       "\n",
       "    .dataframe tbody tr th {\n",
       "        vertical-align: top;\n",
       "    }\n",
       "\n",
       "    .dataframe thead th {\n",
       "        text-align: right;\n",
       "    }\n",
       "</style>\n",
       "<table border=\"1\" class=\"dataframe\">\n",
       "  <thead>\n",
       "    <tr style=\"text-align: right;\">\n",
       "      <th></th>\n",
       "      <th>event_datetime</th>\n",
       "      <th>event</th>\n",
       "      <th>building_type</th>\n",
       "      <th>user_id</th>\n",
       "      <th>project_type</th>\n",
       "    </tr>\n",
       "  </thead>\n",
       "  <tbody>\n",
       "    <tr>\n",
       "      <th>6659</th>\n",
       "      <td>2020-05-04 19:47:29</td>\n",
       "      <td>finished_stage_1</td>\n",
       "      <td>NaN</td>\n",
       "      <td>ced7b368-818f-48f6-9461-2346de0892c5</td>\n",
       "      <td>NaN</td>\n",
       "    </tr>\n",
       "    <tr>\n",
       "      <th>13134</th>\n",
       "      <td>2020-05-05 13:22:09</td>\n",
       "      <td>finished_stage_1</td>\n",
       "      <td>NaN</td>\n",
       "      <td>7ef7fc89-2779-46ea-b328-9e5035b83af5</td>\n",
       "      <td>NaN</td>\n",
       "    </tr>\n",
       "    <tr>\n",
       "      <th>15274</th>\n",
       "      <td>2020-05-05 18:54:37</td>\n",
       "      <td>finished_stage_1</td>\n",
       "      <td>NaN</td>\n",
       "      <td>70db22b3-c2f4-43bc-94ea-51c8d2904a29</td>\n",
       "      <td>NaN</td>\n",
       "    </tr>\n",
       "    <tr>\n",
       "      <th>16284</th>\n",
       "      <td>2020-05-05 21:27:29</td>\n",
       "      <td>finished_stage_1</td>\n",
       "      <td>NaN</td>\n",
       "      <td>903fc9ef-ba97-4b12-9d5c-ac8d602fbd8b</td>\n",
       "      <td>NaN</td>\n",
       "    </tr>\n",
       "    <tr>\n",
       "      <th>19650</th>\n",
       "      <td>2020-05-06 06:02:22</td>\n",
       "      <td>finished_stage_1</td>\n",
       "      <td>NaN</td>\n",
       "      <td>58e077ba-feb1-4556-a5a0-d96bd04efa39</td>\n",
       "      <td>NaN</td>\n",
       "    </tr>\n",
       "    <tr>\n",
       "      <th>...</th>\n",
       "      <td>...</td>\n",
       "      <td>...</td>\n",
       "      <td>...</td>\n",
       "      <td>...</td>\n",
       "      <td>...</td>\n",
       "    </tr>\n",
       "    <tr>\n",
       "      <th>135632</th>\n",
       "      <td>2020-06-04 15:50:38</td>\n",
       "      <td>finished_stage_1</td>\n",
       "      <td>NaN</td>\n",
       "      <td>22cce310-fe10-41a2-941b-9c3d63327fea</td>\n",
       "      <td>NaN</td>\n",
       "    </tr>\n",
       "    <tr>\n",
       "      <th>135633</th>\n",
       "      <td>2020-06-04 17:56:14</td>\n",
       "      <td>finished_stage_1</td>\n",
       "      <td>NaN</td>\n",
       "      <td>d477dde8-7c22-4f23-9c4f-4ec31a1aa4c8</td>\n",
       "      <td>NaN</td>\n",
       "    </tr>\n",
       "    <tr>\n",
       "      <th>135636</th>\n",
       "      <td>2020-06-05 02:25:12</td>\n",
       "      <td>finished_stage_1</td>\n",
       "      <td>NaN</td>\n",
       "      <td>515c1952-99aa-4bca-a7ea-d0449eb5385a</td>\n",
       "      <td>NaN</td>\n",
       "    </tr>\n",
       "    <tr>\n",
       "      <th>135638</th>\n",
       "      <td>2020-06-05 12:12:27</td>\n",
       "      <td>finished_stage_1</td>\n",
       "      <td>NaN</td>\n",
       "      <td>32572adb-900f-4b5d-a453-1eb1e6d88d8b</td>\n",
       "      <td>NaN</td>\n",
       "    </tr>\n",
       "    <tr>\n",
       "      <th>135639</th>\n",
       "      <td>2020-06-05 12:32:49</td>\n",
       "      <td>finished_stage_1</td>\n",
       "      <td>NaN</td>\n",
       "      <td>f21d179f-1c4b-437e-b9c6-ab1976907195</td>\n",
       "      <td>NaN</td>\n",
       "    </tr>\n",
       "  </tbody>\n",
       "</table>\n",
       "<p>7683 rows × 5 columns</p>\n",
       "</div>"
      ],
      "text/plain": [
       "            event_datetime             event building_type  \\\n",
       "6659   2020-05-04 19:47:29  finished_stage_1           NaN   \n",
       "13134  2020-05-05 13:22:09  finished_stage_1           NaN   \n",
       "15274  2020-05-05 18:54:37  finished_stage_1           NaN   \n",
       "16284  2020-05-05 21:27:29  finished_stage_1           NaN   \n",
       "19650  2020-05-06 06:02:22  finished_stage_1           NaN   \n",
       "...                    ...               ...           ...   \n",
       "135632 2020-06-04 15:50:38  finished_stage_1           NaN   \n",
       "135633 2020-06-04 17:56:14  finished_stage_1           NaN   \n",
       "135636 2020-06-05 02:25:12  finished_stage_1           NaN   \n",
       "135638 2020-06-05 12:12:27  finished_stage_1           NaN   \n",
       "135639 2020-06-05 12:32:49  finished_stage_1           NaN   \n",
       "\n",
       "                                     user_id project_type  \n",
       "6659    ced7b368-818f-48f6-9461-2346de0892c5          NaN  \n",
       "13134   7ef7fc89-2779-46ea-b328-9e5035b83af5          NaN  \n",
       "15274   70db22b3-c2f4-43bc-94ea-51c8d2904a29          NaN  \n",
       "16284   903fc9ef-ba97-4b12-9d5c-ac8d602fbd8b          NaN  \n",
       "19650   58e077ba-feb1-4556-a5a0-d96bd04efa39          NaN  \n",
       "...                                      ...          ...  \n",
       "135632  22cce310-fe10-41a2-941b-9c3d63327fea          NaN  \n",
       "135633  d477dde8-7c22-4f23-9c4f-4ec31a1aa4c8          NaN  \n",
       "135636  515c1952-99aa-4bca-a7ea-d0449eb5385a          NaN  \n",
       "135638  32572adb-900f-4b5d-a453-1eb1e6d88d8b          NaN  \n",
       "135639  f21d179f-1c4b-437e-b9c6-ab1976907195          NaN  \n",
       "\n",
       "[7683 rows x 5 columns]"
      ]
     },
     "execution_count": 13,
     "metadata": {},
     "output_type": "execute_result"
    }
   ],
   "source": [
    "game_actions[game_actions.building_type.isna()]"
   ]
  },
  {
   "cell_type": "markdown",
   "metadata": {},
   "source": [
    "Взглянем поподробнее на столбец `event` и оценим его уникальные значения, присущие строкам с пропусками в `building_type`:"
   ]
  },
  {
   "cell_type": "code",
   "execution_count": 14,
   "metadata": {},
   "outputs": [
    {
     "data": {
      "text/plain": [
       "finished_stage_1    5817\n",
       "project             1866\n",
       "Name: event, dtype: int64"
      ]
     },
     "execution_count": 14,
     "metadata": {},
     "output_type": "execute_result"
    }
   ],
   "source": [
    "game_actions[game_actions.building_type.isna()].event.value_counts()"
   ]
  },
  {
   "cell_type": "markdown",
   "metadata": {},
   "source": [
    "Как мы видим, все пропуски приурочены либо к событию \"Первый уровень завершён\" (`finished_stage_1`), либо к завершению проекта (`project`). Это - этапы, которые не связаны с каким-либо конкретным типом объекта. Следовательно, здесь мы также можем предложить замену на значение-заглушку `object undefined`:"
   ]
  },
  {
   "cell_type": "code",
   "execution_count": 15,
   "metadata": {},
   "outputs": [],
   "source": [
    "game_actions['building_type'] = game_actions.building_type.fillna('object undefined')"
   ]
  },
  {
   "cell_type": "markdown",
   "metadata": {},
   "source": [
    "Проверим заполнение пропусков:"
   ]
  },
  {
   "cell_type": "code",
   "execution_count": 16,
   "metadata": {},
   "outputs": [
    {
     "data": {
      "text/html": [
       "<style  type=\"text/css\" >\n",
       "#T_1a4ce_row0_col0,#T_1a4ce_row1_col0,#T_1a4ce_row2_col0,#T_1a4ce_row3_col0{\n",
       "            background-color:  #3b4cc0;\n",
       "            color:  #f1f1f1;\n",
       "        }#T_1a4ce_row4_col0{\n",
       "            background-color:  #b40426;\n",
       "            color:  #f1f1f1;\n",
       "        }</style><table id=\"T_1a4ce_\" ><thead>    <tr>        <th class=\"blank level0\" ></th>        <th class=\"col_heading level0 col0\" >0</th>    </tr></thead><tbody>\n",
       "                <tr>\n",
       "                        <th id=\"T_1a4ce_level0_row0\" class=\"row_heading level0 row0\" >event_datetime</th>\n",
       "                        <td id=\"T_1a4ce_row0_col0\" class=\"data row0 col0\" >0.000000</td>\n",
       "            </tr>\n",
       "            <tr>\n",
       "                        <th id=\"T_1a4ce_level0_row1\" class=\"row_heading level0 row1\" >event</th>\n",
       "                        <td id=\"T_1a4ce_row1_col0\" class=\"data row1 col0\" >0.000000</td>\n",
       "            </tr>\n",
       "            <tr>\n",
       "                        <th id=\"T_1a4ce_level0_row2\" class=\"row_heading level0 row2\" >building_type</th>\n",
       "                        <td id=\"T_1a4ce_row2_col0\" class=\"data row2 col0\" >0.000000</td>\n",
       "            </tr>\n",
       "            <tr>\n",
       "                        <th id=\"T_1a4ce_level0_row3\" class=\"row_heading level0 row3\" >user_id</th>\n",
       "                        <td id=\"T_1a4ce_row3_col0\" class=\"data row3 col0\" >0.000000</td>\n",
       "            </tr>\n",
       "            <tr>\n",
       "                        <th id=\"T_1a4ce_level0_row4\" class=\"row_heading level0 row4\" >project_type</th>\n",
       "                        <td id=\"T_1a4ce_row4_col0\" class=\"data row4 col0\" >99.000000</td>\n",
       "            </tr>\n",
       "    </tbody></table>"
      ],
      "text/plain": [
       "<pandas.io.formats.style.Styler at 0x7f195239fee0>"
      ]
     },
     "execution_count": 16,
     "metadata": {},
     "output_type": "execute_result"
    }
   ],
   "source": [
    "pd.DataFrame(round(game_actions.isna().mean()*100,)).style.background_gradient('coolwarm')"
   ]
  },
  {
   "cell_type": "markdown",
   "metadata": {},
   "source": [
    "Мы видим, что:\n",
    "* в `building_type` пропуски отсутствуют;\n",
    "* пропущенные значения в `project_type` остались неизменными."
   ]
  },
  {
   "cell_type": "markdown",
   "metadata": {},
   "source": [
    "### Проверка на дубликаты\n",
    "Посмотрим, присутствуют ли в датафрейме явные дубликаты:"
   ]
  },
  {
   "cell_type": "code",
   "execution_count": 17,
   "metadata": {},
   "outputs": [
    {
     "data": {
      "text/plain": [
       "'Дубликаты в game_actions: 1'"
      ]
     },
     "metadata": {},
     "output_type": "display_data"
    },
    {
     "data": {
      "text/plain": [
       "'Дубликаты в ad_costs: 0'"
      ]
     },
     "metadata": {},
     "output_type": "display_data"
    },
    {
     "data": {
      "text/plain": [
       "'Дубликаты в user_source: 0'"
      ]
     },
     "metadata": {},
     "output_type": "display_data"
    }
   ],
   "source": [
    "display(f'Дубликаты в game_actions: {game_actions.duplicated().sum()}')\n",
    "display(f'Дубликаты в ad_costs: {ad_costs.duplicated().sum()}')\n",
    "display(f'Дубликаты в user_source: {user_source.duplicated().sum()}')"
   ]
  },
  {
   "cell_type": "markdown",
   "metadata": {},
   "source": [
    "Одна дублированная строка присутствует только в `game_actions`. Сбросим её и проверим результат:"
   ]
  },
  {
   "cell_type": "code",
   "execution_count": 19,
   "metadata": {},
   "outputs": [
    {
     "data": {
      "text/plain": [
       "'Дубликаты в game_actions: 0'"
      ]
     },
     "metadata": {},
     "output_type": "display_data"
    }
   ],
   "source": [
    "game_actions = game_actions.drop_duplicates()\n",
    "display(f'Дубликаты в game_actions: {game_actions.duplicated().sum()}')"
   ]
  },
  {
   "cell_type": "markdown",
   "metadata": {},
   "source": [
    "Теперь явные дубликаты во всех датафреймах отсутствуют. Выведем количество уникальных значений для категориальных величин, относительно которых могут возникнуть подозрения в неявных дубликатах.\n",
    "\n",
    "Датафрейм  `user_source`, уникальные значения в столбце `source`:"
   ]
  },
  {
   "cell_type": "code",
   "execution_count": 20,
   "metadata": {},
   "outputs": [
    {
     "data": {
      "text/plain": [
       "yandex_direct              4817\n",
       "instagram_new_adverts      3347\n",
       "facebook_ads               2726\n",
       "youtube_channel_reklama    2686\n",
       "Name: source, dtype: int64"
      ]
     },
     "execution_count": 20,
     "metadata": {},
     "output_type": "execute_result"
    }
   ],
   "source": [
    "user_source.source.value_counts()"
   ]
  },
  {
   "cell_type": "markdown",
   "metadata": {},
   "source": [
    "Датафрейм `ad_costs`, уникальные значения в столбце `source`:"
   ]
  },
  {
   "cell_type": "code",
   "execution_count": 21,
   "metadata": {},
   "outputs": [
    {
     "data": {
      "text/plain": [
       "instagram_new_adverts      7\n",
       "facebook_ads               7\n",
       "youtube_channel_reklama    7\n",
       "yandex_direct              7\n",
       "Name: source, dtype: int64"
      ]
     },
     "execution_count": 21,
     "metadata": {},
     "output_type": "execute_result"
    }
   ],
   "source": [
    "ad_costs.source.value_counts()"
   ]
  },
  {
   "cell_type": "markdown",
   "metadata": {},
   "source": [
    "Датафрейм `game_actions`, уникальные значения в столбцах `event` и `building_type`:"
   ]
  },
  {
   "cell_type": "code",
   "execution_count": 22,
   "metadata": {},
   "outputs": [
    {
     "data": {
      "text/plain": [
       "building            127956\n",
       "finished_stage_1      5817\n",
       "project               1866\n",
       "Name: event, dtype: int64"
      ]
     },
     "execution_count": 22,
     "metadata": {},
     "output_type": "execute_result"
    }
   ],
   "source": [
    "game_actions.event.value_counts()"
   ]
  },
  {
   "cell_type": "code",
   "execution_count": 23,
   "metadata": {},
   "outputs": [
    {
     "data": {
      "text/plain": [
       "spaceport           59325\n",
       "assembly_shop       54494\n",
       "research_center     14137\n",
       "object undefined     7683\n",
       "Name: building_type, dtype: int64"
      ]
     },
     "execution_count": 23,
     "metadata": {},
     "output_type": "execute_result"
    }
   ],
   "source": [
    "game_actions.building_type.value_counts()"
   ]
  },
  {
   "cell_type": "markdown",
   "metadata": {},
   "source": [
    "Ни в одном из рассматриваемых случаев неявных дубликатов не обнаружено."
   ]
  },
  {
   "cell_type": "markdown",
   "metadata": {},
   "source": [
    "### Добавление столбца с датой\n",
    "Выделим из столбца `event_datetime` датафрейма `game_actions` дату в формате `datetime`:"
   ]
  },
  {
   "cell_type": "code",
   "execution_count": 24,
   "metadata": {},
   "outputs": [],
   "source": [
    "game_actions['day'] = pd.to_datetime(game_actions['event_datetime']).dt.normalize()"
   ]
  },
  {
   "cell_type": "markdown",
   "metadata": {},
   "source": [
    "Проверим результат:"
   ]
  },
  {
   "cell_type": "code",
   "execution_count": 25,
   "metadata": {},
   "outputs": [
    {
     "name": "stdout",
     "output_type": "stream",
     "text": [
      "<class 'pandas.core.frame.DataFrame'>\n",
      "Int64Index: 135639 entries, 0 to 135639\n",
      "Data columns (total 6 columns):\n",
      " #   Column          Non-Null Count   Dtype         \n",
      "---  ------          --------------   -----         \n",
      " 0   event_datetime  135639 non-null  datetime64[ns]\n",
      " 1   event           135639 non-null  object        \n",
      " 2   building_type   135639 non-null  object        \n",
      " 3   user_id         135639 non-null  object        \n",
      " 4   project_type    1866 non-null    object        \n",
      " 5   day             135639 non-null  datetime64[ns]\n",
      "dtypes: datetime64[ns](2), object(4)\n",
      "memory usage: 7.2+ MB\n"
     ]
    }
   ],
   "source": [
    "game_actions.info()"
   ]
  },
  {
   "cell_type": "markdown",
   "metadata": {},
   "source": [
    "### Создание рабочего датафрейма\n",
    "Сперва проверим, совпадает ли уникальные пользователи у `game_actions` и `user_source`:"
   ]
  },
  {
   "cell_type": "code",
   "execution_count": 26,
   "metadata": {},
   "outputs": [
    {
     "name": "stdout",
     "output_type": "stream",
     "text": [
      "Пользователи совпадают\n"
     ]
    }
   ],
   "source": [
    "if set(game_actions.user_id.unique()) == set(user_source.user_id.unique()):\n",
    "    print('Пользователи совпадают')\n",
    "else:\n",
    "    print('Пользователи не совпадают')"
   ]
  },
  {
   "cell_type": "markdown",
   "metadata": {},
   "source": [
    "Добавим к данным `game_actions` столбец `source` из `user_source`. Получившийся результат сохраним как `game_df`:"
   ]
  },
  {
   "cell_type": "code",
   "execution_count": 27,
   "metadata": {},
   "outputs": [
    {
     "data": {
      "text/html": [
       "<div>\n",
       "<style scoped>\n",
       "    .dataframe tbody tr th:only-of-type {\n",
       "        vertical-align: middle;\n",
       "    }\n",
       "\n",
       "    .dataframe tbody tr th {\n",
       "        vertical-align: top;\n",
       "    }\n",
       "\n",
       "    .dataframe thead th {\n",
       "        text-align: right;\n",
       "    }\n",
       "</style>\n",
       "<table border=\"1\" class=\"dataframe\">\n",
       "  <thead>\n",
       "    <tr style=\"text-align: right;\">\n",
       "      <th></th>\n",
       "      <th>event_datetime</th>\n",
       "      <th>event</th>\n",
       "      <th>building_type</th>\n",
       "      <th>user_id</th>\n",
       "      <th>project_type</th>\n",
       "      <th>day</th>\n",
       "      <th>source</th>\n",
       "    </tr>\n",
       "  </thead>\n",
       "  <tbody>\n",
       "    <tr>\n",
       "      <th>0</th>\n",
       "      <td>2020-05-04 00:00:01</td>\n",
       "      <td>building</td>\n",
       "      <td>assembly_shop</td>\n",
       "      <td>55e92310-cb8e-4754-b622-597e124b03de</td>\n",
       "      <td>NaN</td>\n",
       "      <td>2020-05-04</td>\n",
       "      <td>youtube_channel_reklama</td>\n",
       "    </tr>\n",
       "    <tr>\n",
       "      <th>1</th>\n",
       "      <td>2020-05-04 00:00:03</td>\n",
       "      <td>building</td>\n",
       "      <td>assembly_shop</td>\n",
       "      <td>c07b1c10-f477-44dc-81dc-ec82254b1347</td>\n",
       "      <td>NaN</td>\n",
       "      <td>2020-05-04</td>\n",
       "      <td>facebook_ads</td>\n",
       "    </tr>\n",
       "    <tr>\n",
       "      <th>2</th>\n",
       "      <td>2020-05-04 00:00:16</td>\n",
       "      <td>building</td>\n",
       "      <td>assembly_shop</td>\n",
       "      <td>6edd42cc-e753-4ff6-a947-2107cd560710</td>\n",
       "      <td>NaN</td>\n",
       "      <td>2020-05-04</td>\n",
       "      <td>instagram_new_adverts</td>\n",
       "    </tr>\n",
       "    <tr>\n",
       "      <th>3</th>\n",
       "      <td>2020-05-04 00:00:16</td>\n",
       "      <td>building</td>\n",
       "      <td>assembly_shop</td>\n",
       "      <td>92c69003-d60a-444a-827f-8cc51bf6bf4c</td>\n",
       "      <td>NaN</td>\n",
       "      <td>2020-05-04</td>\n",
       "      <td>facebook_ads</td>\n",
       "    </tr>\n",
       "    <tr>\n",
       "      <th>4</th>\n",
       "      <td>2020-05-04 00:00:35</td>\n",
       "      <td>building</td>\n",
       "      <td>assembly_shop</td>\n",
       "      <td>cdc6bb92-0ccb-4490-9866-ef142f09139d</td>\n",
       "      <td>NaN</td>\n",
       "      <td>2020-05-04</td>\n",
       "      <td>yandex_direct</td>\n",
       "    </tr>\n",
       "  </tbody>\n",
       "</table>\n",
       "</div>"
      ],
      "text/plain": [
       "       event_datetime     event  building_type  \\\n",
       "0 2020-05-04 00:00:01  building  assembly_shop   \n",
       "1 2020-05-04 00:00:03  building  assembly_shop   \n",
       "2 2020-05-04 00:00:16  building  assembly_shop   \n",
       "3 2020-05-04 00:00:16  building  assembly_shop   \n",
       "4 2020-05-04 00:00:35  building  assembly_shop   \n",
       "\n",
       "                                user_id project_type        day  \\\n",
       "0  55e92310-cb8e-4754-b622-597e124b03de          NaN 2020-05-04   \n",
       "1  c07b1c10-f477-44dc-81dc-ec82254b1347          NaN 2020-05-04   \n",
       "2  6edd42cc-e753-4ff6-a947-2107cd560710          NaN 2020-05-04   \n",
       "3  92c69003-d60a-444a-827f-8cc51bf6bf4c          NaN 2020-05-04   \n",
       "4  cdc6bb92-0ccb-4490-9866-ef142f09139d          NaN 2020-05-04   \n",
       "\n",
       "                    source  \n",
       "0  youtube_channel_reklama  \n",
       "1             facebook_ads  \n",
       "2    instagram_new_adverts  \n",
       "3             facebook_ads  \n",
       "4            yandex_direct  "
      ]
     },
     "execution_count": 27,
     "metadata": {},
     "output_type": "execute_result"
    }
   ],
   "source": [
    "game_df = game_actions.merge(user_source, how='left', on='user_id')\n",
    "game_df.head()"
   ]
  },
  {
   "cell_type": "markdown",
   "metadata": {},
   "source": [
    "Проверим получившийся датафрейм на дубликаты:"
   ]
  },
  {
   "cell_type": "code",
   "execution_count": 28,
   "metadata": {},
   "outputs": [
    {
     "data": {
      "text/plain": [
       "0"
      ]
     },
     "execution_count": 28,
     "metadata": {},
     "output_type": "execute_result"
    }
   ],
   "source": [
    "game_df.duplicated().sum()"
   ]
  },
  {
   "cell_type": "markdown",
   "metadata": {},
   "source": [
    "Появившихся в результате слияния дубликатов не обнаружено."
   ]
  },
  {
   "cell_type": "markdown",
   "metadata": {},
   "source": [
    "### Промежуточный вывод\n",
    "Предобработка выявила следующие проблемы в данных:\n",
    "\n",
    "* неудобный тип представления данных\n",
    "* пропущенные значения\n",
    "\n",
    "Были внесены изменения:\n",
    "\n",
    "\n",
    "* тип данных изменён на `datetime` в следующих столбцах датафреймов:\n",
    "  * в датафрейме `game_actions` - столбец `event_datetime`\n",
    "  * в датафрейме `ad_costs` - столбец `day`\n",
    "\n",
    "\n",
    "* пропущенные значения в датафрейме `game_actions` заменены на:\n",
    "  * значение-заглушку `object undefined` - в столбце `building_type`\n",
    "  \n",
    "  В остальных случаях пропуски оставлены без изменения.\n",
    "\n",
    "\n",
    "* в датафрейм `game_actions` добавлен столбец `day` с датой в формате `datetime`\n",
    "\n",
    "\n",
    "* данные из `game_actions` и `user_source` объединены в датафрейм `game_df`\n",
    "\n",
    "  \n",
    "В процессе предобработки нам не встретились ни явные аномалии (к примеру, отрицательные значения), ни неявные дубликаты. Вероятно, они отсутствуют.\n",
    "\n",
    "Теперь, когда все изменения внесены в датафрейм, можно приступить к исследовательскому анализу данных."
   ]
  },
  {
   "cell_type": "markdown",
   "metadata": {},
   "source": [
    "## Исследовательский анализ данных"
   ]
  },
  {
   "cell_type": "markdown",
   "metadata": {},
   "source": [
    "Сперва установим общие для всех графиков параметры визуализации:"
   ]
  },
  {
   "cell_type": "code",
   "execution_count": 29,
   "metadata": {},
   "outputs": [],
   "source": [
    "sns.set(\n",
    "    style = 'darkgrid',\n",
    "    font_scale = 0.8,\n",
    "    rc = {'figure.figsize':(12,6)}\n",
    ")"
   ]
  },
  {
   "cell_type": "markdown",
   "metadata": {},
   "source": [
    "### Динамика стоимости привлечения\n",
    "Динамика стоимости привлечения, помимо очевидного, поможет нам определиться с временным периодом, к которому относятся все имеющиеся игроки.\n",
    "\n",
    "По данным из `ad_costs` нарисуем группу линейных графиков зависимости стоимости привлечения `cost` от дня:"
   ]
  },
  {
   "cell_type": "code",
   "execution_count": 30,
   "metadata": {},
   "outputs": [
    {
     "data": {
      "image/png": "[encoded data removed]",
      "text/plain": [
       "<Figure size 864x432 with 1 Axes>"
      ]
     },
     "metadata": {},
     "output_type": "display_data"
    }
   ],
   "source": [
    "sns.lineplot(data=ad_costs, x='day', y='cost', hue='source')\n",
    "plt.title('Динамика стоимости привлечения')\n",
    "plt.xlabel('Дни')\n",
    "plt.ylabel('Стоимость привлечения')\n",
    "plt.show()"
   ]
  },
  {
   "cell_type": "markdown",
   "metadata": {},
   "source": [
    "Мы можем наблюдать, что:\n",
    "* общий для всех источников период привлечения - с 3 по 9 мая 2020 г. (7 дней);\n",
    "* для всех каналов динамика имеет схожий характер (тенденцию к снижению ближе к концу периода)."
   ]
  },
  {
   "cell_type": "markdown",
   "metadata": {},
   "source": [
    "### Динамика притока новых игроков\n",
    "Рассмотрим игроков. Оценим динамику изменения их количества в зависимости от дня и нарисуем линейный график:"
   ]
  },
  {
   "cell_type": "code",
   "execution_count": 31,
   "metadata": {},
   "outputs": [
    {
     "data": {
      "image/png": "[encoded data removed]",
      "text/plain": [
       "<Figure size 864x432 with 1 Axes>"
      ]
     },
     "metadata": {},
     "output_type": "display_data"
    }
   ],
   "source": [
    "users_by_day = game_df.groupby('day').agg({'user_id': 'nunique'}).reset_index()\n",
    "\n",
    "sns.lineplot(data=users_by_day, x='day', y='user_id')\n",
    "plt.title('Динамика притока новых игроков')\n",
    "plt.xlabel('Дни')\n",
    "plt.ylabel('Количество уникальных игроков')\n",
    "plt.show()"
   ]
  },
  {
   "cell_type": "markdown",
   "metadata": {},
   "source": [
    "На графике 10 мая наблюдается резкий пик посещаемости (примерно 9 тыс. человек), который длится по 11 мая; далее кривая приближается к нулю. В этом нет ничего удивительного: если судить по данным привлечения, мы располагаем данными одной когорты (с 3 по 9 мая). Падение притока новых игроков к началу следующего месяца здесь является закономерным и ожидаемым явлением.\n",
    "\n",
    "Отметим, что по данной динамике нельзя судить о потере интереса к игре в принципе - лишь о влиянии конкретной рекламной кампании. Которая, к слову, спустя неделю показывает неплохие результаты: 16 мая общее количество новых игроков превышает 3.5 тыс."
   ]
  },
  {
   "cell_type": "markdown",
   "metadata": {},
   "source": [
    "### Источники привлечения игроков"
   ]
  },
  {
   "cell_type": "markdown",
   "metadata": {},
   "source": [
    "#### Средняя стоимость привлечения\n",
    "\n",
    "Рассмотрим, какова средняя стоимость привлечения по источникам. Произведём необходимую группировку и построим столбчатую диаграмму:"
   ]
  },
  {
   "cell_type": "code",
   "execution_count": 32,
   "metadata": {
    "scrolled": false
   },
   "outputs": [
    {
     "data": {
      "image/png": "[encoded data removed]",
      "text/plain": [
       "<Figure size 864x432 with 1 Axes>"
      ]
     },
     "metadata": {},
     "output_type": "display_data"
    }
   ],
   "source": [
    "costs_mean = (\n",
    "    ad_costs\n",
    "    .groupby('source')\n",
    "    .agg({'cost': 'mean'})\n",
    "    .reset_index()\n",
    "    .sort_values(by='cost', ascending=False)\n",
    ")\n",
    "\n",
    "chart = sns.barplot(x='cost', y='source', data=costs_mean, color='#4a7f8a')\n",
    "plt.title('Средняя стоимость привлечения')\n",
    "plt.xlabel('Стоимость')\n",
    "plt.ylabel('Рекламные источники')\n",
    "for p in chart.patches:\n",
    "    width = p.get_width()\n",
    "    plt.text(5+p.get_width(), p.get_y()+0.55*p.get_height(),\n",
    "             '{:1.0f}'.format(width),\n",
    "             ha='left', va='center')\n",
    "plt.show()"
   ]
  },
  {
   "cell_type": "markdown",
   "metadata": {},
   "source": [
    "Исходя из средней стоимости, самым дорогим является Яндекс.Директ, от него ненамного отстают Instagram и Facebook. Рекламное продвижение на Youtube обходится вдвое дешевле всех перечисленных источников."
   ]
  },
  {
   "cell_type": "markdown",
   "metadata": {},
   "source": [
    "#### Количество игроков\n",
    "\n",
    "Теперь взглянем, какое количество игроков привлёк каждый из источников. Произведём необходимую группировку и построим столбчатую диаграмму:"
   ]
  },
  {
   "cell_type": "code",
   "execution_count": 33,
   "metadata": {},
   "outputs": [
    {
     "data": {
      "image/png": "[encoded data removed]",
      "text/plain": [
       "<Figure size 864x432 with 1 Axes>"
      ]
     },
     "metadata": {},
     "output_type": "display_data"
    }
   ],
   "source": [
    "users_by_source = (\n",
    "    game_df\n",
    "    .groupby('source')\n",
    "    .agg({'user_id': 'nunique'})\n",
    "    .reset_index()\n",
    "    .sort_values(by='user_id', ascending=False)\n",
    ")\n",
    "\n",
    "chart = sns.barplot(x='user_id', y='source', data=users_by_source, color='#4a7f8a')\n",
    "plt.title('Количество игроков по источникам')\n",
    "plt.xlabel('Количество игроков')\n",
    "plt.ylabel('Рекламные источники')\n",
    "for p in chart.patches:\n",
    "    width = p.get_width()\n",
    "    plt.text(5+p.get_width(), p.get_y()+0.55*p.get_height(),\n",
    "             '{:1.0f}'.format(width),\n",
    "             ha='left', va='center')\n",
    "plt.show()"
   ]
  },
  {
   "cell_type": "markdown",
   "metadata": {},
   "source": [
    "Как видно выше, самый дорогой канал (Яндекс.Директ) привлёк больше всего пользователей - почти 5 тыс. игроков. Если эти игроки будут задерживаться в игре надолго, то можно будет сказать, что реклама окупилась.\n",
    "\n",
    "Обратим внимание на каналы Facebook и Youtube - количество привлечённых ими пользователей сравнительно равно. Однако, как мы видели выше, реклама на Youtube обошлась вдвое дешевле, и при прочих равных данный канал может в перспективе оказаться более выгодным."
   ]
  },
  {
   "cell_type": "markdown",
   "metadata": {},
   "source": [
    "#### Стоимость привлечения одного игрока (САС)\n",
    "\n",
    "Чтобы определить стоимость привлечения одного игрока в разбивке по каналам привлечения, необходимо провести расчёты и ряд группировок.\n",
    "\n",
    "По данным `ad_costs` рассчитаем общую сумму затрат по рекламным каналам. Агрегированный результат сохраним как `agg_table`:"
   ]
  },
  {
   "cell_type": "code",
   "execution_count": 34,
   "metadata": {},
   "outputs": [
    {
     "data": {
      "text/html": [
       "<div>\n",
       "<style scoped>\n",
       "    .dataframe tbody tr th:only-of-type {\n",
       "        vertical-align: middle;\n",
       "    }\n",
       "\n",
       "    .dataframe tbody tr th {\n",
       "        vertical-align: top;\n",
       "    }\n",
       "\n",
       "    .dataframe thead th {\n",
       "        text-align: right;\n",
       "    }\n",
       "</style>\n",
       "<table border=\"1\" class=\"dataframe\">\n",
       "  <thead>\n",
       "    <tr style=\"text-align: right;\">\n",
       "      <th></th>\n",
       "      <th>source</th>\n",
       "      <th>cost_total</th>\n",
       "    </tr>\n",
       "  </thead>\n",
       "  <tbody>\n",
       "    <tr>\n",
       "      <th>0</th>\n",
       "      <td>facebook_ads</td>\n",
       "      <td>2140.904643</td>\n",
       "    </tr>\n",
       "    <tr>\n",
       "      <th>1</th>\n",
       "      <td>instagram_new_adverts</td>\n",
       "      <td>2161.441691</td>\n",
       "    </tr>\n",
       "    <tr>\n",
       "      <th>2</th>\n",
       "      <td>yandex_direct</td>\n",
       "      <td>2233.111449</td>\n",
       "    </tr>\n",
       "    <tr>\n",
       "      <th>3</th>\n",
       "      <td>youtube_channel_reklama</td>\n",
       "      <td>1068.119204</td>\n",
       "    </tr>\n",
       "  </tbody>\n",
       "</table>\n",
       "</div>"
      ],
      "text/plain": [
       "                    source   cost_total\n",
       "0             facebook_ads  2140.904643\n",
       "1    instagram_new_adverts  2161.441691\n",
       "2            yandex_direct  2233.111449\n",
       "3  youtube_channel_reklama  1068.119204"
      ]
     },
     "execution_count": 34,
     "metadata": {},
     "output_type": "execute_result"
    }
   ],
   "source": [
    "agg_table = (\n",
    "    ad_costs\n",
    "    .groupby('source')\n",
    "    .agg({'cost': 'sum'})\n",
    "    .reset_index()\n",
    "    .rename(columns={'cost': 'cost_total'})\n",
    ")\n",
    "    \n",
    "agg_table"
   ]
  },
  {
   "cell_type": "markdown",
   "metadata": {},
   "source": [
    "Добавим к `agg_table` количество уникальных пользователей по каналам, объединив её с созданной выше `users_by_source`:"
   ]
  },
  {
   "cell_type": "code",
   "execution_count": 35,
   "metadata": {},
   "outputs": [
    {
     "data": {
      "text/html": [
       "<div>\n",
       "<style scoped>\n",
       "    .dataframe tbody tr th:only-of-type {\n",
       "        vertical-align: middle;\n",
       "    }\n",
       "\n",
       "    .dataframe tbody tr th {\n",
       "        vertical-align: top;\n",
       "    }\n",
       "\n",
       "    .dataframe thead th {\n",
       "        text-align: right;\n",
       "    }\n",
       "</style>\n",
       "<table border=\"1\" class=\"dataframe\">\n",
       "  <thead>\n",
       "    <tr style=\"text-align: right;\">\n",
       "      <th></th>\n",
       "      <th>source</th>\n",
       "      <th>cost_total</th>\n",
       "      <th>users</th>\n",
       "    </tr>\n",
       "  </thead>\n",
       "  <tbody>\n",
       "    <tr>\n",
       "      <th>0</th>\n",
       "      <td>facebook_ads</td>\n",
       "      <td>2140.904643</td>\n",
       "      <td>2726</td>\n",
       "    </tr>\n",
       "    <tr>\n",
       "      <th>1</th>\n",
       "      <td>instagram_new_adverts</td>\n",
       "      <td>2161.441691</td>\n",
       "      <td>3347</td>\n",
       "    </tr>\n",
       "    <tr>\n",
       "      <th>2</th>\n",
       "      <td>yandex_direct</td>\n",
       "      <td>2233.111449</td>\n",
       "      <td>4817</td>\n",
       "    </tr>\n",
       "    <tr>\n",
       "      <th>3</th>\n",
       "      <td>youtube_channel_reklama</td>\n",
       "      <td>1068.119204</td>\n",
       "      <td>2686</td>\n",
       "    </tr>\n",
       "  </tbody>\n",
       "</table>\n",
       "</div>"
      ],
      "text/plain": [
       "                    source   cost_total  users\n",
       "0             facebook_ads  2140.904643   2726\n",
       "1    instagram_new_adverts  2161.441691   3347\n",
       "2            yandex_direct  2233.111449   4817\n",
       "3  youtube_channel_reklama  1068.119204   2686"
      ]
     },
     "execution_count": 35,
     "metadata": {},
     "output_type": "execute_result"
    }
   ],
   "source": [
    "agg_table = agg_table.merge(users_by_source, how='left', on='source').rename(columns={'user_id': 'users'})\n",
    "agg_table"
   ]
  },
  {
   "cell_type": "markdown",
   "metadata": {},
   "source": [
    "Рассчитаем среднюю стоимость привлечения одного клиента для каждого канала и добавим результат к `agg_table`. Отсортируем таблицу по убыванию этой стоимости:"
   ]
  },
  {
   "cell_type": "code",
   "execution_count": 36,
   "metadata": {},
   "outputs": [
    {
     "data": {
      "text/html": [
       "<div>\n",
       "<style scoped>\n",
       "    .dataframe tbody tr th:only-of-type {\n",
       "        vertical-align: middle;\n",
       "    }\n",
       "\n",
       "    .dataframe tbody tr th {\n",
       "        vertical-align: top;\n",
       "    }\n",
       "\n",
       "    .dataframe thead th {\n",
       "        text-align: right;\n",
       "    }\n",
       "</style>\n",
       "<table border=\"1\" class=\"dataframe\">\n",
       "  <thead>\n",
       "    <tr style=\"text-align: right;\">\n",
       "      <th></th>\n",
       "      <th>source</th>\n",
       "      <th>cost_total</th>\n",
       "      <th>users</th>\n",
       "      <th>cost_mean</th>\n",
       "    </tr>\n",
       "  </thead>\n",
       "  <tbody>\n",
       "    <tr>\n",
       "      <th>0</th>\n",
       "      <td>facebook_ads</td>\n",
       "      <td>2140.904643</td>\n",
       "      <td>2726</td>\n",
       "      <td>0.79</td>\n",
       "    </tr>\n",
       "    <tr>\n",
       "      <th>1</th>\n",
       "      <td>instagram_new_adverts</td>\n",
       "      <td>2161.441691</td>\n",
       "      <td>3347</td>\n",
       "      <td>0.65</td>\n",
       "    </tr>\n",
       "    <tr>\n",
       "      <th>2</th>\n",
       "      <td>yandex_direct</td>\n",
       "      <td>2233.111449</td>\n",
       "      <td>4817</td>\n",
       "      <td>0.46</td>\n",
       "    </tr>\n",
       "    <tr>\n",
       "      <th>3</th>\n",
       "      <td>youtube_channel_reklama</td>\n",
       "      <td>1068.119204</td>\n",
       "      <td>2686</td>\n",
       "      <td>0.40</td>\n",
       "    </tr>\n",
       "  </tbody>\n",
       "</table>\n",
       "</div>"
      ],
      "text/plain": [
       "                    source   cost_total  users  cost_mean\n",
       "0             facebook_ads  2140.904643   2726       0.79\n",
       "1    instagram_new_adverts  2161.441691   3347       0.65\n",
       "2            yandex_direct  2233.111449   4817       0.46\n",
       "3  youtube_channel_reklama  1068.119204   2686       0.40"
      ]
     },
     "execution_count": 36,
     "metadata": {},
     "output_type": "execute_result"
    }
   ],
   "source": [
    "agg_table['cost_mean'] = round(agg_table.cost_total / agg_table.users, 2)\n",
    "\n",
    "agg_table = agg_table.sort_values(by='cost_mean', ascending=False).reset_index(drop=True)\n",
    "agg_table"
   ]
  },
  {
   "cell_type": "markdown",
   "metadata": {},
   "source": [
    "Построим столбчатую диаграмму:"
   ]
  },
  {
   "cell_type": "code",
   "execution_count": 37,
   "metadata": {},
   "outputs": [
    {
     "data": {
      "image/png": "[encoded data removed]",
      "text/plain": [
       "<Figure size 864x432 with 1 Axes>"
      ]
     },
     "metadata": {},
     "output_type": "display_data"
    }
   ],
   "source": [
    "chart = sns.barplot(x='source', y='cost_mean', data=agg_table, color='#4a7f8a')\n",
    "plt.title('Стоимость привлечения одного игрока')\n",
    "plt.xlabel('Рекламные источники')\n",
    "plt.ylabel('Средняя стоимость')\n",
    "for p in chart.patches:\n",
    "             chart.annotate(\"%.2f\" % p.get_height(), (p.get_x() + p.get_width() / 2., p.get_height()),\n",
    "                 ha='center', va='center', fontsize=12, xytext=(0, 5),\n",
    "                 textcoords='offset points')\n",
    "plt.show()"
   ]
  },
  {
   "cell_type": "markdown",
   "metadata": {},
   "source": [
    "Таким образом, в порядке возрастания стоимости привлечения одного клиента будет следующее распределение каналов:\n",
    "1. Youtube\n",
    "2. Яндекс.Директ\n",
    "3. Instagram\n",
    "4. Facebook\n",
    "\n",
    "На наш взгляд, именно на этот факт следует обратить б*о*льшее внимание при планировании следующей рекламной кампании."
   ]
  },
  {
   "cell_type": "markdown",
   "metadata": {},
   "source": [
    "#### Активность одного игрока\n",
    "\n",
    "Продолжим анализировать источники привлечения - и на этот раз рассмотрим их с точки зрения игровой активности (количества построенных зданий на игрока).\n",
    "\n",
    "Чтобы это получить, сгруппируем `game_df` по `source` и посчитаем количество `building_type`. Важное уточнение: поскольку ранее были определены этапы, при которых здание не строится, то возьмём выборку, отфильтрованную на значение-заглушку `object undefined`:"
   ]
  },
  {
   "cell_type": "code",
   "execution_count": 38,
   "metadata": {},
   "outputs": [
    {
     "data": {
      "text/html": [
       "<div>\n",
       "<style scoped>\n",
       "    .dataframe tbody tr th:only-of-type {\n",
       "        vertical-align: middle;\n",
       "    }\n",
       "\n",
       "    .dataframe tbody tr th {\n",
       "        vertical-align: top;\n",
       "    }\n",
       "\n",
       "    .dataframe thead th {\n",
       "        text-align: right;\n",
       "    }\n",
       "</style>\n",
       "<table border=\"1\" class=\"dataframe\">\n",
       "  <thead>\n",
       "    <tr style=\"text-align: right;\">\n",
       "      <th></th>\n",
       "      <th>source</th>\n",
       "      <th>buildings</th>\n",
       "    </tr>\n",
       "  </thead>\n",
       "  <tbody>\n",
       "    <tr>\n",
       "      <th>2</th>\n",
       "      <td>yandex_direct</td>\n",
       "      <td>45032</td>\n",
       "    </tr>\n",
       "    <tr>\n",
       "      <th>1</th>\n",
       "      <td>instagram_new_adverts</td>\n",
       "      <td>31815</td>\n",
       "    </tr>\n",
       "    <tr>\n",
       "      <th>0</th>\n",
       "      <td>facebook_ads</td>\n",
       "      <td>26131</td>\n",
       "    </tr>\n",
       "    <tr>\n",
       "      <th>3</th>\n",
       "      <td>youtube_channel_reklama</td>\n",
       "      <td>24978</td>\n",
       "    </tr>\n",
       "  </tbody>\n",
       "</table>\n",
       "</div>"
      ],
      "text/plain": [
       "                    source  buildings\n",
       "2            yandex_direct      45032\n",
       "1    instagram_new_adverts      31815\n",
       "0             facebook_ads      26131\n",
       "3  youtube_channel_reklama      24978"
      ]
     },
     "execution_count": 38,
     "metadata": {},
     "output_type": "execute_result"
    }
   ],
   "source": [
    "build_by_source = (\n",
    "    game_df\n",
    "    .query('building_type != \"object undefined\"')\n",
    "    .groupby('source')\n",
    "    .agg({'building_type': 'count'})\n",
    "    .reset_index()\n",
    "    .sort_values(by='building_type', ascending=False)\n",
    "    .rename(columns={'building_type': 'buildings'}))\n",
    "\n",
    "build_by_source"
   ]
  },
  {
   "cell_type": "markdown",
   "metadata": {},
   "source": [
    "Объединим эти данные с агрегированной таблицей `agg_table`, рассчитаем среднее количество зданий на игрока и выведем на экран отсортированную по убыванию таблицу:"
   ]
  },
  {
   "cell_type": "code",
   "execution_count": 39,
   "metadata": {},
   "outputs": [
    {
     "data": {
      "text/html": [
       "<div>\n",
       "<style scoped>\n",
       "    .dataframe tbody tr th:only-of-type {\n",
       "        vertical-align: middle;\n",
       "    }\n",
       "\n",
       "    .dataframe tbody tr th {\n",
       "        vertical-align: top;\n",
       "    }\n",
       "\n",
       "    .dataframe thead th {\n",
       "        text-align: right;\n",
       "    }\n",
       "</style>\n",
       "<table border=\"1\" class=\"dataframe\">\n",
       "  <thead>\n",
       "    <tr style=\"text-align: right;\">\n",
       "      <th></th>\n",
       "      <th>source</th>\n",
       "      <th>buildings_mean</th>\n",
       "    </tr>\n",
       "  </thead>\n",
       "  <tbody>\n",
       "    <tr>\n",
       "      <th>0</th>\n",
       "      <td>facebook_ads</td>\n",
       "      <td>9.59</td>\n",
       "    </tr>\n",
       "    <tr>\n",
       "      <th>1</th>\n",
       "      <td>instagram_new_adverts</td>\n",
       "      <td>9.51</td>\n",
       "    </tr>\n",
       "    <tr>\n",
       "      <th>2</th>\n",
       "      <td>yandex_direct</td>\n",
       "      <td>9.35</td>\n",
       "    </tr>\n",
       "    <tr>\n",
       "      <th>3</th>\n",
       "      <td>youtube_channel_reklama</td>\n",
       "      <td>9.30</td>\n",
       "    </tr>\n",
       "  </tbody>\n",
       "</table>\n",
       "</div>"
      ],
      "text/plain": [
       "                    source  buildings_mean\n",
       "0             facebook_ads            9.59\n",
       "1    instagram_new_adverts            9.51\n",
       "2            yandex_direct            9.35\n",
       "3  youtube_channel_reklama            9.30"
      ]
     },
     "metadata": {},
     "output_type": "display_data"
    }
   ],
   "source": [
    "agg_table = agg_table.merge(build_by_source, how='left', on='source')\n",
    "\n",
    "agg_table['buildings_mean'] = round(agg_table.buildings / agg_table.users, 2)\n",
    "\n",
    "agg_table = agg_table.sort_values(by='buildings_mean', ascending=False).reset_index(drop=True)\n",
    "display(agg_table[['source', 'buildings_mean']])"
   ]
  },
  {
   "cell_type": "markdown",
   "metadata": {},
   "source": [
    "Как мы видим, количество зданий на игрока не сильно разнится для источников: наиболее активными являются игроки с Facebook, наименее - игроки с Youtube. Однако, данная разница недостаточно велика, чтобы по ней можно было судить о преимуществах одного канала перед другим. К тому же, мы пока не исследовали влияет ли большое количество объектов на факт победы (это будет проверяться в главе с гипотезами).\n",
    "\n",
    "Вместо этого мы можем рассмотреть доли победителей по источникам привлечения."
   ]
  },
  {
   "cell_type": "markdown",
   "metadata": {},
   "source": [
    "#### Доля победителей\n",
    "Сперва рассчитаем количество победителей по источникам, отфильтровав `game_df` по условию победы (`event == \"finished_stage_1\"`). Результат сохраним в `winners_by_source`:"
   ]
  },
  {
   "cell_type": "code",
   "execution_count": 40,
   "metadata": {},
   "outputs": [
    {
     "data": {
      "text/html": [
       "<div>\n",
       "<style scoped>\n",
       "    .dataframe tbody tr th:only-of-type {\n",
       "        vertical-align: middle;\n",
       "    }\n",
       "\n",
       "    .dataframe tbody tr th {\n",
       "        vertical-align: top;\n",
       "    }\n",
       "\n",
       "    .dataframe thead th {\n",
       "        text-align: right;\n",
       "    }\n",
       "</style>\n",
       "<table border=\"1\" class=\"dataframe\">\n",
       "  <thead>\n",
       "    <tr style=\"text-align: right;\">\n",
       "      <th></th>\n",
       "      <th>source</th>\n",
       "      <th>winners</th>\n",
       "    </tr>\n",
       "  </thead>\n",
       "  <tbody>\n",
       "    <tr>\n",
       "      <th>2</th>\n",
       "      <td>yandex_direct</td>\n",
       "      <td>2042</td>\n",
       "    </tr>\n",
       "    <tr>\n",
       "      <th>1</th>\n",
       "      <td>instagram_new_adverts</td>\n",
       "      <td>1466</td>\n",
       "    </tr>\n",
       "    <tr>\n",
       "      <th>3</th>\n",
       "      <td>youtube_channel_reklama</td>\n",
       "      <td>1159</td>\n",
       "    </tr>\n",
       "    <tr>\n",
       "      <th>0</th>\n",
       "      <td>facebook_ads</td>\n",
       "      <td>1150</td>\n",
       "    </tr>\n",
       "  </tbody>\n",
       "</table>\n",
       "</div>"
      ],
      "text/plain": [
       "                    source  winners\n",
       "2            yandex_direct     2042\n",
       "1    instagram_new_adverts     1466\n",
       "3  youtube_channel_reklama     1159\n",
       "0             facebook_ads     1150"
      ]
     },
     "execution_count": 40,
     "metadata": {},
     "output_type": "execute_result"
    }
   ],
   "source": [
    "winners_by_source = (\n",
    "    game_df\n",
    "    .query('event == \"finished_stage_1\"')\n",
    "    .groupby('source')\n",
    "    .agg({'user_id': 'nunique'})\n",
    "    .reset_index()\n",
    "    .sort_values(by='user_id', ascending=False)\n",
    "    .rename(columns={'user_id': 'winners'})\n",
    ")\n",
    "winners_by_source"
   ]
  },
  {
   "cell_type": "markdown",
   "metadata": {},
   "source": [
    "Аналогично пункту выше, объединим эти данные с агрегированной таблицей `agg_table`, но в этом случае рассчитаем долю победителей для каждого источника. Выведем на экран отсортированную по убыванию таблицу:"
   ]
  },
  {
   "cell_type": "code",
   "execution_count": 41,
   "metadata": {},
   "outputs": [
    {
     "data": {
      "text/html": [
       "<div>\n",
       "<style scoped>\n",
       "    .dataframe tbody tr th:only-of-type {\n",
       "        vertical-align: middle;\n",
       "    }\n",
       "\n",
       "    .dataframe tbody tr th {\n",
       "        vertical-align: top;\n",
       "    }\n",
       "\n",
       "    .dataframe thead th {\n",
       "        text-align: right;\n",
       "    }\n",
       "</style>\n",
       "<table border=\"1\" class=\"dataframe\">\n",
       "  <thead>\n",
       "    <tr style=\"text-align: right;\">\n",
       "      <th></th>\n",
       "      <th>source</th>\n",
       "      <th>winners_share</th>\n",
       "    </tr>\n",
       "  </thead>\n",
       "  <tbody>\n",
       "    <tr>\n",
       "      <th>0</th>\n",
       "      <td>instagram_new_adverts</td>\n",
       "      <td>43.80</td>\n",
       "    </tr>\n",
       "    <tr>\n",
       "      <th>1</th>\n",
       "      <td>youtube_channel_reklama</td>\n",
       "      <td>43.15</td>\n",
       "    </tr>\n",
       "    <tr>\n",
       "      <th>2</th>\n",
       "      <td>yandex_direct</td>\n",
       "      <td>42.39</td>\n",
       "    </tr>\n",
       "    <tr>\n",
       "      <th>3</th>\n",
       "      <td>facebook_ads</td>\n",
       "      <td>42.19</td>\n",
       "    </tr>\n",
       "  </tbody>\n",
       "</table>\n",
       "</div>"
      ],
      "text/plain": [
       "                    source  winners_share\n",
       "0    instagram_new_adverts          43.80\n",
       "1  youtube_channel_reklama          43.15\n",
       "2            yandex_direct          42.39\n",
       "3             facebook_ads          42.19"
      ]
     },
     "metadata": {},
     "output_type": "display_data"
    }
   ],
   "source": [
    "agg_table = agg_table.merge(winners_by_source, how='left', on='source')\n",
    "\n",
    "agg_table['winners_share'] = round(agg_table.winners / agg_table.users * 100, 2)\n",
    "\n",
    "agg_table = agg_table.sort_values(by='winners_share', ascending=False).reset_index(drop=True)\n",
    "display(agg_table[['source', 'winners_share']])"
   ]
  },
  {
   "cell_type": "markdown",
   "metadata": {},
   "source": [
    "Исходя из данных выше, доли победителей не сильно зависят от каналов привлечения: процент победителей колеблется от 42% (Facebook) до 44% (Instagram). Опять же, данная разница недостаточно велика, чтобы по ней можно было судить о преимуществах одного канала перед другим."
   ]
  },
  {
   "cell_type": "markdown",
   "metadata": {},
   "source": [
    "### Kоличество и доля игроков на каждом этапе\n",
    "И, наконец, рассмотрим распределение количества игроков на каждом из этапов (`event`). Произведём необходимую группировку и построим столбчатую диаграмму:"
   ]
  },
  {
   "cell_type": "code",
   "execution_count": 42,
   "metadata": {
    "scrolled": false
   },
   "outputs": [
    {
     "data": {
      "image/png": "[encoded data removed]",
      "text/plain": [
       "<Figure size 864x432 with 1 Axes>"
      ]
     },
     "metadata": {},
     "output_type": "display_data"
    }
   ],
   "source": [
    "users_by_event = game_df.groupby('event').agg({'user_id': 'nunique'}).reset_index()\n",
    "\n",
    "chart = sns.barplot(x='user_id', y='event', data=users_by_event, color='#4a7f8a')\n",
    "plt.title('Количество игроков на каждом из этапов')\n",
    "plt.xlabel('Количество игроков')\n",
    "plt.ylabel('Этапы')\n",
    "for p in chart.patches:\n",
    "    width = p.get_width()\n",
    "    plt.text(5+p.get_width(), p.get_y()+0.55*p.get_height(),\n",
    "             '{:1.0f}'.format(width),\n",
    "             ha='left', va='center')\n",
    "plt.show()"
   ]
  },
  {
   "cell_type": "markdown",
   "metadata": {},
   "source": [
    "Определим долю игроков от общего их числа на каждом из этапов и построим столбчатую диаграмму:"
   ]
  },
  {
   "cell_type": "code",
   "execution_count": 43,
   "metadata": {
    "scrolled": false
   },
   "outputs": [
    {
     "data": {
      "image/png": "[encoded data removed]",
      "text/plain": [
       "<Figure size 864x432 with 1 Axes>"
      ]
     },
     "metadata": {},
     "output_type": "display_data"
    }
   ],
   "source": [
    "users_by_event['share'] = round(users_by_event.user_id / game_df.user_id.nunique() * 100, 1)\n",
    "\n",
    "chart = sns.barplot(x='share', y='event', data=users_by_event, color='#4a7f8a')\n",
    "plt.title('Доля игроков на каждом из этапов')\n",
    "plt.xlabel('Доля игроков, %')\n",
    "plt.ylabel('Этапы')\n",
    "for p in chart.patches:\n",
    "    width = p.get_width()\n",
    "    plt.text(3+p.get_width(), p.get_y()+0.55*p.get_height(),\n",
    "             '{:1.0f}%'.format(width),\n",
    "             ha='center', va='center')\n",
    "plt.show()"
   ]
  },
  {
   "cell_type": "markdown",
   "metadata": {},
   "source": [
    "Строительство объектов является основой рассматриваемой игры, поэтому 100% на этапе `building` является обязательным условием.\n",
    "\n",
    "Кроме этого, можно заметить следующее:\n",
    "* 43% игроков являются победителями первого уровня\n",
    "* всего 14% игроков завершили уровень путём реализации проекта."
   ]
  },
  {
   "cell_type": "markdown",
   "metadata": {},
   "source": [
    "Данный этап исследовательского анализа является ключевым моментом в дальнейшем определении стратегии игроков - и вот почему. \n",
    "\n",
    "Из предоставленной заказчиком информации нам известно, что завершение первого уровня требует от игрока выполнения одного из двух условий:\n",
    "\n",
    "* Победа над первым врагом\n",
    "* Реализация проекта\n",
    "\n",
    "Как мы можем наблюдать выше, первый уровень завершило 43% игроков (5817 чел.), но проект реализовало лишь 14% (1866 чел.). Информация же о победе над врагом нигде не зафиксирована. Значит, мы можем сделать вывод, что игроки, не выполнившие второе условие (реализацию проекта), завершили уровень благодаря выполнению первого условия.\n",
    "\n",
    "Эти условия можно будет в дальнейшем назвать стратегиями - и анализировать поведение игроков, уже исходя из них."
   ]
  },
  {
   "cell_type": "markdown",
   "metadata": {},
   "source": [
    "### Промежуточный вывод\n",
    "\n",
    "* **Динамика стоимости привлечения**\n",
    "\n",
    "  Исходя из графика стоимости привлечения по дням:\n",
    "  * общий для всех источников период привлечения - с 3 по 9 мая 2020 г. (7 дней);\n",
    "  * для всех каналов динамика имеет схожий характер (тенденцию к снижению ближе к концу периода).\n",
    "\n",
    "\n",
    "* **Динамика притока новых игроков**\n",
    "\n",
    "  На графике 10 мая наблюдается резкий пик посещаемости (примерно 9 тыс. человек), который длится по 11 мая; далее кривая приближается к нулю. Т.к. мы располагаем данными одной когорты (с 3 по 9 мая), падение притока новых игроков к началу следующего месяца является закономерным и ожидаемым явлением.\n",
    "\n",
    "  Отметим, что по данной динамике нельзя судить о потере интереса к игре в принципе - лишь о влиянии конкретной рекламной кампании. Спустя неделю она показывает неплохие результаты: 16 мая общее количество новых игроков превышает 3.5 тыс.\n",
    "\n",
    "\n",
    "* **Источники привлечения игроков**\n",
    "\n",
    "  Если сравнивать источники по относительным показателям, то ни по активности на пользователя, ни по доле победителей нет заметного разделения. Игроки из каждого канала в среднем строят по 9 зданий; доля победителей от общего числа игроков канала - около 43%.\n",
    "  \n",
    "  Однако, если взглянуть на САС, можно предложить следующее **ранжирование каналов (от самого выгодного к наименее выгодному)**:\n",
    "  1. **Youtube**\n",
    "  2. **Яндекс.Директ**\n",
    "  3. **Instagram**\n",
    "  4. **Facebook**\n",
    "\n",
    "  На наш взгляд, именно на этот факт следует обратить б*о*льшее внимание при планировании следующей рекламной кампании.\n",
    "\n",
    "\n",
    "* **Kоличество игроков на каждом из этапов**\n",
    "\n",
    "  Из предоставленной заказчиком информации известно, что завершение первого уровня требует от игрока выполнения одного из двух условий: победы над первым врагом либо реализации проекта.\n",
    "\n",
    "  Как видно из графика, первый уровень завершило 43% игроков (5817 чел.), но проект реализовало лишь 14% (1866 чел.). Информация же о победе над врагом нигде не зафиксирована. Значит, мы можем сделать вывод, что игроки, не выполнившие второе условие (реализацию проекта), завершили уровень благодаря выполнению первого условия.\n",
    "\n",
    "  Эти условия можно будет в дальнейшем назвать стратегиями - и анализировать поведение игроков, уже исходя из них."
   ]
  },
  {
   "cell_type": "markdown",
   "metadata": {},
   "source": [
    "## Определение и анализ стратегий победителей"
   ]
  },
  {
   "cell_type": "markdown",
   "metadata": {},
   "source": [
    "### Определение победителей\n",
    "Сперва выделим из рабочего датафрейма `game_df` информацию о победителях `winners`. Для этого выберем из `game_df` все события, не соответствующие `building`. Выведем информацию о датафрейме:"
   ]
  },
  {
   "cell_type": "code",
   "execution_count": 44,
   "metadata": {},
   "outputs": [
    {
     "name": "stdout",
     "output_type": "stream",
     "text": [
      "<class 'pandas.core.frame.DataFrame'>\n",
      "RangeIndex: 7683 entries, 0 to 7682\n",
      "Data columns (total 7 columns):\n",
      " #   Column          Non-Null Count  Dtype         \n",
      "---  ------          --------------  -----         \n",
      " 0   event_datetime  7683 non-null   datetime64[ns]\n",
      " 1   event           7683 non-null   object        \n",
      " 2   building_type   7683 non-null   object        \n",
      " 3   user_id         7683 non-null   object        \n",
      " 4   project_type    1866 non-null   object        \n",
      " 5   day             7683 non-null   datetime64[ns]\n",
      " 6   source          7683 non-null   object        \n",
      "dtypes: datetime64[ns](2), object(5)\n",
      "memory usage: 420.3+ KB\n"
     ]
    }
   ],
   "source": [
    "winners = game_df.query('event != \"building\"').reset_index(drop=True)\n",
    "winners.info()"
   ]
  },
  {
   "cell_type": "markdown",
   "metadata": {},
   "source": [
    "Исследовательский анализ уже показал нам, что:\n",
    "* уровень завершили 5817 игроков;\n",
    "* из них реализовали проект 1866 человек.\n",
    "\n",
    "Выше мы можем наблюдать, что эти значения просуммировались, что не является корректным. По всей видимости, задублировались игроки, завершившие проект - у них в `event` значится как `project`, так и `finished_stage_1`.\n",
    "\n",
    "Исправим это сбросом дубликатов, указав в `subset` столбец `user_id`, и выведем информацию по `winners`:"
   ]
  },
  {
   "cell_type": "code",
   "execution_count": 45,
   "metadata": {},
   "outputs": [
    {
     "name": "stdout",
     "output_type": "stream",
     "text": [
      "<class 'pandas.core.frame.DataFrame'>\n",
      "Int64Index: 5817 entries, 0 to 7682\n",
      "Data columns (total 7 columns):\n",
      " #   Column          Non-Null Count  Dtype         \n",
      "---  ------          --------------  -----         \n",
      " 0   event_datetime  5817 non-null   datetime64[ns]\n",
      " 1   event           5817 non-null   object        \n",
      " 2   building_type   5817 non-null   object        \n",
      " 3   user_id         5817 non-null   object        \n",
      " 4   project_type    1866 non-null   object        \n",
      " 5   day             5817 non-null   datetime64[ns]\n",
      " 6   source          5817 non-null   object        \n",
      "dtypes: datetime64[ns](2), object(5)\n",
      "memory usage: 363.6+ KB\n"
     ]
    }
   ],
   "source": [
    "winners = winners.drop_duplicates(subset=['user_id'])\n",
    "winners.info()"
   ]
  },
  {
   "cell_type": "markdown",
   "metadata": {},
   "source": [
    "Теперь дублированных игроков нет, а количество совпадает с числом завершивших уровень игроков. \n",
    "\n",
    "Проверим количество значений в столбце `event`:"
   ]
  },
  {
   "cell_type": "code",
   "execution_count": 46,
   "metadata": {},
   "outputs": [
    {
     "data": {
      "text/plain": [
       "finished_stage_1    3951\n",
       "project             1866\n",
       "Name: event, dtype: int64"
      ]
     },
     "execution_count": 46,
     "metadata": {},
     "output_type": "execute_result"
    }
   ],
   "source": [
    "winners.event.value_counts()"
   ]
  },
  {
   "cell_type": "markdown",
   "metadata": {},
   "source": [
    "Выше мы наблюдаем, что:\n",
    "* количество реализовавших проект - 1866 чел., что полностью совпадает с данными исследовательского анализа;\n",
    "* оставшийся 3951 игрок завершил уровень без реализации проекта."
   ]
  },
  {
   "cell_type": "markdown",
   "metadata": {},
   "source": [
    "### Определение стратегий\n",
    "Теперь, когда у нас есть информация о победителях, мы можем определиться с их стратегиями. \n",
    "\n",
    "В качестве условных обозначений примем, что:\n",
    "* игроки, реализовавшие проект, используют стратегию `pve` (\"player vs environment\");\n",
    "* игроки, завершившие уровень путём победы над первым врагом (т.е. не реализовавшие проект), используют стратегию `pvp` (\"player vs player\").\n",
    "\n",
    "Создадим в `winners` столбец `strategy`, в котором будут удовлетворяться данные условия:"
   ]
  },
  {
   "cell_type": "code",
   "execution_count": 47,
   "metadata": {},
   "outputs": [
    {
     "data": {
      "text/html": [
       "<div>\n",
       "<style scoped>\n",
       "    .dataframe tbody tr th:only-of-type {\n",
       "        vertical-align: middle;\n",
       "    }\n",
       "\n",
       "    .dataframe tbody tr th {\n",
       "        vertical-align: top;\n",
       "    }\n",
       "\n",
       "    .dataframe thead th {\n",
       "        text-align: right;\n",
       "    }\n",
       "</style>\n",
       "<table border=\"1\" class=\"dataframe\">\n",
       "  <thead>\n",
       "    <tr style=\"text-align: right;\">\n",
       "      <th></th>\n",
       "      <th>event_datetime</th>\n",
       "      <th>event</th>\n",
       "      <th>building_type</th>\n",
       "      <th>user_id</th>\n",
       "      <th>project_type</th>\n",
       "      <th>day</th>\n",
       "      <th>source</th>\n",
       "      <th>strategy</th>\n",
       "    </tr>\n",
       "  </thead>\n",
       "  <tbody>\n",
       "    <tr>\n",
       "      <th>0</th>\n",
       "      <td>2020-05-04 19:47:29</td>\n",
       "      <td>finished_stage_1</td>\n",
       "      <td>object undefined</td>\n",
       "      <td>ced7b368-818f-48f6-9461-2346de0892c5</td>\n",
       "      <td>NaN</td>\n",
       "      <td>2020-05-04</td>\n",
       "      <td>instagram_new_adverts</td>\n",
       "      <td>pvp</td>\n",
       "    </tr>\n",
       "    <tr>\n",
       "      <th>1</th>\n",
       "      <td>2020-05-05 13:22:09</td>\n",
       "      <td>finished_stage_1</td>\n",
       "      <td>object undefined</td>\n",
       "      <td>7ef7fc89-2779-46ea-b328-9e5035b83af5</td>\n",
       "      <td>NaN</td>\n",
       "      <td>2020-05-05</td>\n",
       "      <td>facebook_ads</td>\n",
       "      <td>pvp</td>\n",
       "    </tr>\n",
       "    <tr>\n",
       "      <th>2</th>\n",
       "      <td>2020-05-05 18:54:37</td>\n",
       "      <td>finished_stage_1</td>\n",
       "      <td>object undefined</td>\n",
       "      <td>70db22b3-c2f4-43bc-94ea-51c8d2904a29</td>\n",
       "      <td>NaN</td>\n",
       "      <td>2020-05-05</td>\n",
       "      <td>youtube_channel_reklama</td>\n",
       "      <td>pvp</td>\n",
       "    </tr>\n",
       "    <tr>\n",
       "      <th>3</th>\n",
       "      <td>2020-05-05 21:27:29</td>\n",
       "      <td>finished_stage_1</td>\n",
       "      <td>object undefined</td>\n",
       "      <td>903fc9ef-ba97-4b12-9d5c-ac8d602fbd8b</td>\n",
       "      <td>NaN</td>\n",
       "      <td>2020-05-05</td>\n",
       "      <td>youtube_channel_reklama</td>\n",
       "      <td>pvp</td>\n",
       "    </tr>\n",
       "    <tr>\n",
       "      <th>4</th>\n",
       "      <td>2020-05-06 06:02:22</td>\n",
       "      <td>finished_stage_1</td>\n",
       "      <td>object undefined</td>\n",
       "      <td>58e077ba-feb1-4556-a5a0-d96bd04efa39</td>\n",
       "      <td>NaN</td>\n",
       "      <td>2020-05-06</td>\n",
       "      <td>facebook_ads</td>\n",
       "      <td>pvp</td>\n",
       "    </tr>\n",
       "  </tbody>\n",
       "</table>\n",
       "</div>"
      ],
      "text/plain": [
       "       event_datetime             event     building_type  \\\n",
       "0 2020-05-04 19:47:29  finished_stage_1  object undefined   \n",
       "1 2020-05-05 13:22:09  finished_stage_1  object undefined   \n",
       "2 2020-05-05 18:54:37  finished_stage_1  object undefined   \n",
       "3 2020-05-05 21:27:29  finished_stage_1  object undefined   \n",
       "4 2020-05-06 06:02:22  finished_stage_1  object undefined   \n",
       "\n",
       "                                user_id project_type        day  \\\n",
       "0  ced7b368-818f-48f6-9461-2346de0892c5          NaN 2020-05-04   \n",
       "1  7ef7fc89-2779-46ea-b328-9e5035b83af5          NaN 2020-05-05   \n",
       "2  70db22b3-c2f4-43bc-94ea-51c8d2904a29          NaN 2020-05-05   \n",
       "3  903fc9ef-ba97-4b12-9d5c-ac8d602fbd8b          NaN 2020-05-05   \n",
       "4  58e077ba-feb1-4556-a5a0-d96bd04efa39          NaN 2020-05-06   \n",
       "\n",
       "                    source strategy  \n",
       "0    instagram_new_adverts      pvp  \n",
       "1             facebook_ads      pvp  \n",
       "2  youtube_channel_reklama      pvp  \n",
       "3  youtube_channel_reklama      pvp  \n",
       "4             facebook_ads      pvp  "
      ]
     },
     "execution_count": 47,
     "metadata": {},
     "output_type": "execute_result"
    }
   ],
   "source": [
    "winners['strategy'] = ['pve' if x == 'project' else 'pvp' for x in winners.event]\n",
    "winners.head()"
   ]
  },
  {
   "cell_type": "markdown",
   "metadata": {},
   "source": [
    "### Количество действий каждого победителя\n",
    "Итак, теперь у нас есть датафрейм победителей `winners` с разграничением по стратегиям. Однако, для проверки гипотез нам потребуется определить время завершения уровня.\n",
    "\n",
    "Считать время дословно, по столбцу `event_datetime`, как нам кажется, несколько лишено смысла: в условиях, отличных от игрового турнира, игрок не проявляет активность непрерывно - она разбита на временные промежутки, индивидуальные для каждого. Поэтому в данном исследовании договоримся принять, что **время завершения уровня равно количеству действий (т.е. количеству построенных объектов) игрока**, необходимых для его завершения.\n",
    "\n",
    "Чтобы их сосчитать, сперва составим список победителей:"
   ]
  },
  {
   "cell_type": "code",
   "execution_count": 48,
   "metadata": {},
   "outputs": [
    {
     "name": "stdout",
     "output_type": "stream",
     "text": [
      "Всего победителей: 5817\n"
     ]
    }
   ],
   "source": [
    "winners_list = winners.user_id.to_list()\n",
    "print(f'Всего победителей: {len(winners_list)}')"
   ]
  },
  {
   "cell_type": "markdown",
   "metadata": {},
   "source": [
    "Теперь обратимся к `game_df`. Рассчитаем общее количество действий по каждому из победителей в `winners_list`. В качестве ограничения по фильтрации укажем все типы `building_type`, кроме `object undefined` - данное значение является заглушкой, характеризующей завершение уровня/проекта; никакой объект при этом не строится. Результат группировки сохраним в `winners_actions`:"
   ]
  },
  {
   "cell_type": "code",
   "execution_count": 49,
   "metadata": {},
   "outputs": [
    {
     "data": {
      "text/html": [
       "<div>\n",
       "<style scoped>\n",
       "    .dataframe tbody tr th:only-of-type {\n",
       "        vertical-align: middle;\n",
       "    }\n",
       "\n",
       "    .dataframe tbody tr th {\n",
       "        vertical-align: top;\n",
       "    }\n",
       "\n",
       "    .dataframe thead th {\n",
       "        text-align: right;\n",
       "    }\n",
       "</style>\n",
       "<table border=\"1\" class=\"dataframe\">\n",
       "  <thead>\n",
       "    <tr style=\"text-align: right;\">\n",
       "      <th></th>\n",
       "      <th>user_id</th>\n",
       "      <th>objects_total</th>\n",
       "    </tr>\n",
       "  </thead>\n",
       "  <tbody>\n",
       "    <tr>\n",
       "      <th>0</th>\n",
       "      <td>001d39dc-366c-4021-9604-6a3b9ff01e25</td>\n",
       "      <td>8</td>\n",
       "    </tr>\n",
       "    <tr>\n",
       "      <th>1</th>\n",
       "      <td>003ee7e8-6356-4286-a715-62f22a18d2a1</td>\n",
       "      <td>8</td>\n",
       "    </tr>\n",
       "    <tr>\n",
       "      <th>2</th>\n",
       "      <td>004074f8-251a-4776-922c-8348dca1a2f6</td>\n",
       "      <td>12</td>\n",
       "    </tr>\n",
       "    <tr>\n",
       "      <th>3</th>\n",
       "      <td>00464e5e-28ed-4be6-bf44-517ef7b3937b</td>\n",
       "      <td>8</td>\n",
       "    </tr>\n",
       "    <tr>\n",
       "      <th>4</th>\n",
       "      <td>0056c007-c082-43cc-bdef-afc49bca4cb9</td>\n",
       "      <td>3</td>\n",
       "    </tr>\n",
       "  </tbody>\n",
       "</table>\n",
       "</div>"
      ],
      "text/plain": [
       "                                user_id  objects_total\n",
       "0  001d39dc-366c-4021-9604-6a3b9ff01e25              8\n",
       "1  003ee7e8-6356-4286-a715-62f22a18d2a1              8\n",
       "2  004074f8-251a-4776-922c-8348dca1a2f6             12\n",
       "3  00464e5e-28ed-4be6-bf44-517ef7b3937b              8\n",
       "4  0056c007-c082-43cc-bdef-afc49bca4cb9              3"
      ]
     },
     "execution_count": 49,
     "metadata": {},
     "output_type": "execute_result"
    }
   ],
   "source": [
    "winners_actions = (\n",
    "    game_df\n",
    "    .query('user_id in @winners_list and building_type != \"object undefined\"')\n",
    "    .groupby('user_id')\n",
    "    .agg({'building_type': ['count']})\n",
    "    .reset_index()\n",
    ")\n",
    "winners_actions.columns = ['user_id', 'objects_total']\n",
    "\n",
    "winners_actions.head()"
   ]
  },
  {
   "cell_type": "markdown",
   "metadata": {},
   "source": [
    "Аналогичным способом рассчитаем количество построенных каждым победителем космопортов. Результат сохраним как `winners_spaceports`:"
   ]
  },
  {
   "cell_type": "code",
   "execution_count": 50,
   "metadata": {},
   "outputs": [
    {
     "data": {
      "text/html": [
       "<div>\n",
       "<style scoped>\n",
       "    .dataframe tbody tr th:only-of-type {\n",
       "        vertical-align: middle;\n",
       "    }\n",
       "\n",
       "    .dataframe tbody tr th {\n",
       "        vertical-align: top;\n",
       "    }\n",
       "\n",
       "    .dataframe thead th {\n",
       "        text-align: right;\n",
       "    }\n",
       "</style>\n",
       "<table border=\"1\" class=\"dataframe\">\n",
       "  <thead>\n",
       "    <tr style=\"text-align: right;\">\n",
       "      <th></th>\n",
       "      <th>user_id</th>\n",
       "      <th>spaceports</th>\n",
       "    </tr>\n",
       "  </thead>\n",
       "  <tbody>\n",
       "    <tr>\n",
       "      <th>0</th>\n",
       "      <td>001d39dc-366c-4021-9604-6a3b9ff01e25</td>\n",
       "      <td>4</td>\n",
       "    </tr>\n",
       "    <tr>\n",
       "      <th>1</th>\n",
       "      <td>003ee7e8-6356-4286-a715-62f22a18d2a1</td>\n",
       "      <td>3</td>\n",
       "    </tr>\n",
       "    <tr>\n",
       "      <th>2</th>\n",
       "      <td>004074f8-251a-4776-922c-8348dca1a2f6</td>\n",
       "      <td>4</td>\n",
       "    </tr>\n",
       "    <tr>\n",
       "      <th>3</th>\n",
       "      <td>00464e5e-28ed-4be6-bf44-517ef7b3937b</td>\n",
       "      <td>4</td>\n",
       "    </tr>\n",
       "    <tr>\n",
       "      <th>4</th>\n",
       "      <td>0056c007-c082-43cc-bdef-afc49bca4cb9</td>\n",
       "      <td>2</td>\n",
       "    </tr>\n",
       "  </tbody>\n",
       "</table>\n",
       "</div>"
      ],
      "text/plain": [
       "                                user_id  spaceports\n",
       "0  001d39dc-366c-4021-9604-6a3b9ff01e25           4\n",
       "1  003ee7e8-6356-4286-a715-62f22a18d2a1           3\n",
       "2  004074f8-251a-4776-922c-8348dca1a2f6           4\n",
       "3  00464e5e-28ed-4be6-bf44-517ef7b3937b           4\n",
       "4  0056c007-c082-43cc-bdef-afc49bca4cb9           2"
      ]
     },
     "execution_count": 50,
     "metadata": {},
     "output_type": "execute_result"
    }
   ],
   "source": [
    "winners_spaceports = (\n",
    "    game_df\n",
    "    .query('user_id in @winners_list and building_type == \"spaceport\"')\n",
    "    .groupby('user_id')\n",
    "    .agg({'building_type': ['count']})\n",
    "    .reset_index()\n",
    ")\n",
    "winners_spaceports.columns = ['user_id', 'spaceports']\n",
    "\n",
    "winners_spaceports.head()"
   ]
  },
  {
   "cell_type": "markdown",
   "metadata": {},
   "source": [
    "Далее рассчитаем количество сборочных цехов `assembly_shop` для каждого победителя:"
   ]
  },
  {
   "cell_type": "code",
   "execution_count": 51,
   "metadata": {},
   "outputs": [
    {
     "data": {
      "text/html": [
       "<div>\n",
       "<style scoped>\n",
       "    .dataframe tbody tr th:only-of-type {\n",
       "        vertical-align: middle;\n",
       "    }\n",
       "\n",
       "    .dataframe tbody tr th {\n",
       "        vertical-align: top;\n",
       "    }\n",
       "\n",
       "    .dataframe thead th {\n",
       "        text-align: right;\n",
       "    }\n",
       "</style>\n",
       "<table border=\"1\" class=\"dataframe\">\n",
       "  <thead>\n",
       "    <tr style=\"text-align: right;\">\n",
       "      <th></th>\n",
       "      <th>user_id</th>\n",
       "      <th>shops</th>\n",
       "    </tr>\n",
       "  </thead>\n",
       "  <tbody>\n",
       "    <tr>\n",
       "      <th>0</th>\n",
       "      <td>001d39dc-366c-4021-9604-6a3b9ff01e25</td>\n",
       "      <td>4</td>\n",
       "    </tr>\n",
       "    <tr>\n",
       "      <th>1</th>\n",
       "      <td>003ee7e8-6356-4286-a715-62f22a18d2a1</td>\n",
       "      <td>4</td>\n",
       "    </tr>\n",
       "    <tr>\n",
       "      <th>2</th>\n",
       "      <td>004074f8-251a-4776-922c-8348dca1a2f6</td>\n",
       "      <td>6</td>\n",
       "    </tr>\n",
       "    <tr>\n",
       "      <th>3</th>\n",
       "      <td>00464e5e-28ed-4be6-bf44-517ef7b3937b</td>\n",
       "      <td>4</td>\n",
       "    </tr>\n",
       "    <tr>\n",
       "      <th>4</th>\n",
       "      <td>0056c007-c082-43cc-bdef-afc49bca4cb9</td>\n",
       "      <td>1</td>\n",
       "    </tr>\n",
       "  </tbody>\n",
       "</table>\n",
       "</div>"
      ],
      "text/plain": [
       "                                user_id  shops\n",
       "0  001d39dc-366c-4021-9604-6a3b9ff01e25      4\n",
       "1  003ee7e8-6356-4286-a715-62f22a18d2a1      4\n",
       "2  004074f8-251a-4776-922c-8348dca1a2f6      6\n",
       "3  00464e5e-28ed-4be6-bf44-517ef7b3937b      4\n",
       "4  0056c007-c082-43cc-bdef-afc49bca4cb9      1"
      ]
     },
     "execution_count": 51,
     "metadata": {},
     "output_type": "execute_result"
    }
   ],
   "source": [
    "winners_shops = (\n",
    "    game_df\n",
    "    .query('user_id in @winners_list and building_type == \"assembly_shop\"')\n",
    "    .groupby('user_id')\n",
    "    .agg({'building_type': ['count']})\n",
    "    .reset_index()\n",
    ")\n",
    "winners_shops.columns = ['user_id', 'shops']\n",
    "\n",
    "winners_shops.head()"
   ]
  },
  {
   "cell_type": "markdown",
   "metadata": {},
   "source": [
    "И, наконец, рассчитаем количество исследовательских центров `research_center` у каждого победителя:"
   ]
  },
  {
   "cell_type": "code",
   "execution_count": 52,
   "metadata": {},
   "outputs": [
    {
     "data": {
      "text/html": [
       "<div>\n",
       "<style scoped>\n",
       "    .dataframe tbody tr th:only-of-type {\n",
       "        vertical-align: middle;\n",
       "    }\n",
       "\n",
       "    .dataframe tbody tr th {\n",
       "        vertical-align: top;\n",
       "    }\n",
       "\n",
       "    .dataframe thead th {\n",
       "        text-align: right;\n",
       "    }\n",
       "</style>\n",
       "<table border=\"1\" class=\"dataframe\">\n",
       "  <thead>\n",
       "    <tr style=\"text-align: right;\">\n",
       "      <th></th>\n",
       "      <th>user_id</th>\n",
       "      <th>centers</th>\n",
       "    </tr>\n",
       "  </thead>\n",
       "  <tbody>\n",
       "    <tr>\n",
       "      <th>0</th>\n",
       "      <td>003ee7e8-6356-4286-a715-62f22a18d2a1</td>\n",
       "      <td>1</td>\n",
       "    </tr>\n",
       "    <tr>\n",
       "      <th>1</th>\n",
       "      <td>004074f8-251a-4776-922c-8348dca1a2f6</td>\n",
       "      <td>2</td>\n",
       "    </tr>\n",
       "    <tr>\n",
       "      <th>2</th>\n",
       "      <td>00606a1c-51e1-48d1-b053-77be528527c0</td>\n",
       "      <td>1</td>\n",
       "    </tr>\n",
       "    <tr>\n",
       "      <th>3</th>\n",
       "      <td>006380d6-67a6-45de-ab1e-6eb54ad8dbe8</td>\n",
       "      <td>2</td>\n",
       "    </tr>\n",
       "    <tr>\n",
       "      <th>4</th>\n",
       "      <td>007ad796-add4-41a5-bc2a-e11561f16cd6</td>\n",
       "      <td>2</td>\n",
       "    </tr>\n",
       "  </tbody>\n",
       "</table>\n",
       "</div>"
      ],
      "text/plain": [
       "                                user_id  centers\n",
       "0  003ee7e8-6356-4286-a715-62f22a18d2a1        1\n",
       "1  004074f8-251a-4776-922c-8348dca1a2f6        2\n",
       "2  00606a1c-51e1-48d1-b053-77be528527c0        1\n",
       "3  006380d6-67a6-45de-ab1e-6eb54ad8dbe8        2\n",
       "4  007ad796-add4-41a5-bc2a-e11561f16cd6        2"
      ]
     },
     "execution_count": 52,
     "metadata": {},
     "output_type": "execute_result"
    }
   ],
   "source": [
    "winners_centers = (\n",
    "    game_df\n",
    "    .query('user_id in @winners_list and building_type == \"research_center\"')\n",
    "    .groupby('user_id')\n",
    "    .agg({'building_type': ['count']})\n",
    "    .reset_index()\n",
    ")\n",
    "winners_centers.columns = ['user_id', 'centers']\n",
    "\n",
    "winners_centers.head()"
   ]
  },
  {
   "cell_type": "markdown",
   "metadata": {},
   "source": [
    "Для удобства объединим информацию, добавив объекты к `winners_actions`:"
   ]
  },
  {
   "cell_type": "code",
   "execution_count": 53,
   "metadata": {},
   "outputs": [
    {
     "data": {
      "text/html": [
       "<div>\n",
       "<style scoped>\n",
       "    .dataframe tbody tr th:only-of-type {\n",
       "        vertical-align: middle;\n",
       "    }\n",
       "\n",
       "    .dataframe tbody tr th {\n",
       "        vertical-align: top;\n",
       "    }\n",
       "\n",
       "    .dataframe thead th {\n",
       "        text-align: right;\n",
       "    }\n",
       "</style>\n",
       "<table border=\"1\" class=\"dataframe\">\n",
       "  <thead>\n",
       "    <tr style=\"text-align: right;\">\n",
       "      <th></th>\n",
       "      <th>user_id</th>\n",
       "      <th>objects_total</th>\n",
       "      <th>spaceports</th>\n",
       "      <th>shops</th>\n",
       "      <th>centers</th>\n",
       "    </tr>\n",
       "  </thead>\n",
       "  <tbody>\n",
       "    <tr>\n",
       "      <th>0</th>\n",
       "      <td>001d39dc-366c-4021-9604-6a3b9ff01e25</td>\n",
       "      <td>8</td>\n",
       "      <td>4.0</td>\n",
       "      <td>4</td>\n",
       "      <td>NaN</td>\n",
       "    </tr>\n",
       "    <tr>\n",
       "      <th>1</th>\n",
       "      <td>003ee7e8-6356-4286-a715-62f22a18d2a1</td>\n",
       "      <td>8</td>\n",
       "      <td>3.0</td>\n",
       "      <td>4</td>\n",
       "      <td>1.0</td>\n",
       "    </tr>\n",
       "    <tr>\n",
       "      <th>2</th>\n",
       "      <td>004074f8-251a-4776-922c-8348dca1a2f6</td>\n",
       "      <td>12</td>\n",
       "      <td>4.0</td>\n",
       "      <td>6</td>\n",
       "      <td>2.0</td>\n",
       "    </tr>\n",
       "    <tr>\n",
       "      <th>3</th>\n",
       "      <td>00464e5e-28ed-4be6-bf44-517ef7b3937b</td>\n",
       "      <td>8</td>\n",
       "      <td>4.0</td>\n",
       "      <td>4</td>\n",
       "      <td>NaN</td>\n",
       "    </tr>\n",
       "    <tr>\n",
       "      <th>4</th>\n",
       "      <td>0056c007-c082-43cc-bdef-afc49bca4cb9</td>\n",
       "      <td>3</td>\n",
       "      <td>2.0</td>\n",
       "      <td>1</td>\n",
       "      <td>NaN</td>\n",
       "    </tr>\n",
       "  </tbody>\n",
       "</table>\n",
       "</div>"
      ],
      "text/plain": [
       "                                user_id  objects_total  spaceports  shops  \\\n",
       "0  001d39dc-366c-4021-9604-6a3b9ff01e25              8         4.0      4   \n",
       "1  003ee7e8-6356-4286-a715-62f22a18d2a1              8         3.0      4   \n",
       "2  004074f8-251a-4776-922c-8348dca1a2f6             12         4.0      6   \n",
       "3  00464e5e-28ed-4be6-bf44-517ef7b3937b              8         4.0      4   \n",
       "4  0056c007-c082-43cc-bdef-afc49bca4cb9              3         2.0      1   \n",
       "\n",
       "   centers  \n",
       "0      NaN  \n",
       "1      1.0  \n",
       "2      2.0  \n",
       "3      NaN  \n",
       "4      NaN  "
      ]
     },
     "execution_count": 53,
     "metadata": {},
     "output_type": "execute_result"
    }
   ],
   "source": [
    "winners_actions = (winners_actions\n",
    "                   .merge(winners_spaceports, how='left', on='user_id')\n",
    "                   .merge(winners_shops, how='left', on='user_id')\n",
    "                   .merge(winners_centers, how='left', on='user_id'))\n",
    "\n",
    "winners_actions.head()"
   ]
  },
  {
   "cell_type": "markdown",
   "metadata": {},
   "source": [
    "Мы видим, что появились пропуски. Это было ожидаемо - каждый игрок самостоятельно выбирает, какой тип зданий ему строить, и строить объекты всех видов не является обязательным условием. \n",
    "\n",
    "Заменим пропуски нулями и выведем информацию по `winners_actions`:"
   ]
  },
  {
   "cell_type": "code",
   "execution_count": 54,
   "metadata": {},
   "outputs": [
    {
     "name": "stdout",
     "output_type": "stream",
     "text": [
      "<class 'pandas.core.frame.DataFrame'>\n",
      "Int64Index: 5817 entries, 0 to 5816\n",
      "Data columns (total 5 columns):\n",
      " #   Column         Non-Null Count  Dtype  \n",
      "---  ------         --------------  -----  \n",
      " 0   user_id        5817 non-null   object \n",
      " 1   objects_total  5817 non-null   int64  \n",
      " 2   spaceports     5817 non-null   float64\n",
      " 3   shops          5817 non-null   int64  \n",
      " 4   centers        5817 non-null   float64\n",
      "dtypes: float64(2), int64(2), object(1)\n",
      "memory usage: 272.7+ KB\n"
     ]
    }
   ],
   "source": [
    "winners_actions = winners_actions.fillna(0)\n",
    "winners_actions.info()"
   ]
  },
  {
   "cell_type": "markdown",
   "metadata": {},
   "source": [
    "Также обратим внимание, что столбцы `spaceports` и `centers` представлены типом `float`, поскольку ранее содержали значения `NaN`, относящиеся к этому типу. Изменим их значения на целочисленные и проверим результат методом `info()`:"
   ]
  },
  {
   "cell_type": "code",
   "execution_count": 55,
   "metadata": {},
   "outputs": [
    {
     "name": "stdout",
     "output_type": "stream",
     "text": [
      "<class 'pandas.core.frame.DataFrame'>\n",
      "Int64Index: 5817 entries, 0 to 5816\n",
      "Data columns (total 5 columns):\n",
      " #   Column         Non-Null Count  Dtype \n",
      "---  ------         --------------  ----- \n",
      " 0   user_id        5817 non-null   object\n",
      " 1   objects_total  5817 non-null   int64 \n",
      " 2   spaceports     5817 non-null   int64 \n",
      " 3   shops          5817 non-null   int64 \n",
      " 4   centers        5817 non-null   int64 \n",
      "dtypes: int64(4), object(1)\n",
      "memory usage: 272.7+ KB\n"
     ]
    }
   ],
   "source": [
    "winners_actions['spaceports'] = winners_actions.spaceports.astype('int')\n",
    "winners_actions['centers'] = winners_actions.centers.astype('int')\n",
    "\n",
    "winners_actions.info()"
   ]
  },
  {
   "cell_type": "markdown",
   "metadata": {},
   "source": [
    "У нас получился датафрейм с количеством действий каждого победителя. Следующим шагом объединим его с датафреймом `winners`."
   ]
  },
  {
   "cell_type": "markdown",
   "metadata": {},
   "source": [
    "### Создание датафрейма для проверки гипотез\n",
    "Наконец, создадим датафрейм для проверки статистических гипотез. Для начала объединим `winners` `winners_actions` по пользователям:"
   ]
  },
  {
   "cell_type": "code",
   "execution_count": 56,
   "metadata": {},
   "outputs": [],
   "source": [
    "winners = winners.merge(winners_actions, how='left', on='user_id')"
   ]
  },
  {
   "cell_type": "markdown",
   "metadata": {},
   "source": [
    "Для удобства оставим в `winners` столбцы:\n",
    "* `day`\n",
    "* `strategy`\n",
    "* `objects_total`\n",
    "* `spaceports`\n",
    "* `shops`\n",
    "* `centers`\n",
    "* `source`\n",
    "\n",
    "Выведем 5 первых строк получившегося датафрейма:"
   ]
  },
  {
   "cell_type": "code",
   "execution_count": 57,
   "metadata": {},
   "outputs": [
    {
     "data": {
      "text/html": [
       "<div>\n",
       "<style scoped>\n",
       "    .dataframe tbody tr th:only-of-type {\n",
       "        vertical-align: middle;\n",
       "    }\n",
       "\n",
       "    .dataframe tbody tr th {\n",
       "        vertical-align: top;\n",
       "    }\n",
       "\n",
       "    .dataframe thead th {\n",
       "        text-align: right;\n",
       "    }\n",
       "</style>\n",
       "<table border=\"1\" class=\"dataframe\">\n",
       "  <thead>\n",
       "    <tr style=\"text-align: right;\">\n",
       "      <th></th>\n",
       "      <th>user_id</th>\n",
       "      <th>day</th>\n",
       "      <th>strategy</th>\n",
       "      <th>objects_total</th>\n",
       "      <th>spaceports</th>\n",
       "      <th>shops</th>\n",
       "      <th>centers</th>\n",
       "      <th>source</th>\n",
       "    </tr>\n",
       "  </thead>\n",
       "  <tbody>\n",
       "    <tr>\n",
       "      <th>0</th>\n",
       "      <td>ced7b368-818f-48f6-9461-2346de0892c5</td>\n",
       "      <td>2020-05-04</td>\n",
       "      <td>pvp</td>\n",
       "      <td>2</td>\n",
       "      <td>1</td>\n",
       "      <td>1</td>\n",
       "      <td>0</td>\n",
       "      <td>instagram_new_adverts</td>\n",
       "    </tr>\n",
       "    <tr>\n",
       "      <th>1</th>\n",
       "      <td>7ef7fc89-2779-46ea-b328-9e5035b83af5</td>\n",
       "      <td>2020-05-05</td>\n",
       "      <td>pvp</td>\n",
       "      <td>2</td>\n",
       "      <td>1</td>\n",
       "      <td>1</td>\n",
       "      <td>0</td>\n",
       "      <td>facebook_ads</td>\n",
       "    </tr>\n",
       "    <tr>\n",
       "      <th>2</th>\n",
       "      <td>70db22b3-c2f4-43bc-94ea-51c8d2904a29</td>\n",
       "      <td>2020-05-05</td>\n",
       "      <td>pvp</td>\n",
       "      <td>2</td>\n",
       "      <td>1</td>\n",
       "      <td>1</td>\n",
       "      <td>0</td>\n",
       "      <td>youtube_channel_reklama</td>\n",
       "    </tr>\n",
       "    <tr>\n",
       "      <th>3</th>\n",
       "      <td>903fc9ef-ba97-4b12-9d5c-ac8d602fbd8b</td>\n",
       "      <td>2020-05-05</td>\n",
       "      <td>pvp</td>\n",
       "      <td>3</td>\n",
       "      <td>2</td>\n",
       "      <td>1</td>\n",
       "      <td>0</td>\n",
       "      <td>youtube_channel_reklama</td>\n",
       "    </tr>\n",
       "    <tr>\n",
       "      <th>4</th>\n",
       "      <td>58e077ba-feb1-4556-a5a0-d96bd04efa39</td>\n",
       "      <td>2020-05-06</td>\n",
       "      <td>pvp</td>\n",
       "      <td>2</td>\n",
       "      <td>1</td>\n",
       "      <td>1</td>\n",
       "      <td>0</td>\n",
       "      <td>facebook_ads</td>\n",
       "    </tr>\n",
       "  </tbody>\n",
       "</table>\n",
       "</div>"
      ],
      "text/plain": [
       "                                user_id        day strategy  objects_total  \\\n",
       "0  ced7b368-818f-48f6-9461-2346de0892c5 2020-05-04      pvp              2   \n",
       "1  7ef7fc89-2779-46ea-b328-9e5035b83af5 2020-05-05      pvp              2   \n",
       "2  70db22b3-c2f4-43bc-94ea-51c8d2904a29 2020-05-05      pvp              2   \n",
       "3  903fc9ef-ba97-4b12-9d5c-ac8d602fbd8b 2020-05-05      pvp              3   \n",
       "4  58e077ba-feb1-4556-a5a0-d96bd04efa39 2020-05-06      pvp              2   \n",
       "\n",
       "   spaceports  shops  centers                   source  \n",
       "0           1      1        0    instagram_new_adverts  \n",
       "1           1      1        0             facebook_ads  \n",
       "2           1      1        0  youtube_channel_reklama  \n",
       "3           2      1        0  youtube_channel_reklama  \n",
       "4           1      1        0             facebook_ads  "
      ]
     },
     "execution_count": 57,
     "metadata": {},
     "output_type": "execute_result"
    }
   ],
   "source": [
    "winners = winners[['user_id', 'day', 'strategy', 'objects_total', 'spaceports', 'shops', 'centers', 'source']]\n",
    "winners.head()"
   ]
  },
  {
   "cell_type": "markdown",
   "metadata": {},
   "source": [
    "Получившийся датафрейм послужит основой, удобной для группировки и последующей проверки статистических гипотез."
   ]
  },
  {
   "cell_type": "markdown",
   "metadata": {},
   "source": [
    "### Анализ стратегий победителей\n",
    "Проведём краткий анализ стратегий. Для начала сгруппируем `winners` по `source` и `strategy` - и сосчитаем количество уникальных игроков и построенных ими объектов разного вида. Результат сохраним как `winners_features`:"
   ]
  },
  {
   "cell_type": "code",
   "execution_count": 58,
   "metadata": {},
   "outputs": [
    {
     "data": {
      "text/html": [
       "<div>\n",
       "<style scoped>\n",
       "    .dataframe tbody tr th:only-of-type {\n",
       "        vertical-align: middle;\n",
       "    }\n",
       "\n",
       "    .dataframe tbody tr th {\n",
       "        vertical-align: top;\n",
       "    }\n",
       "\n",
       "    .dataframe thead th {\n",
       "        text-align: right;\n",
       "    }\n",
       "</style>\n",
       "<table border=\"1\" class=\"dataframe\">\n",
       "  <thead>\n",
       "    <tr style=\"text-align: right;\">\n",
       "      <th></th>\n",
       "      <th>source</th>\n",
       "      <th>strategy</th>\n",
       "      <th>users</th>\n",
       "      <th>objects</th>\n",
       "    </tr>\n",
       "  </thead>\n",
       "  <tbody>\n",
       "    <tr>\n",
       "      <th>0</th>\n",
       "      <td>facebook_ads</td>\n",
       "      <td>pve</td>\n",
       "      <td>391</td>\n",
       "      <td>4946</td>\n",
       "    </tr>\n",
       "    <tr>\n",
       "      <th>1</th>\n",
       "      <td>facebook_ads</td>\n",
       "      <td>pvp</td>\n",
       "      <td>759</td>\n",
       "      <td>7157</td>\n",
       "    </tr>\n",
       "    <tr>\n",
       "      <th>2</th>\n",
       "      <td>instagram_new_adverts</td>\n",
       "      <td>pve</td>\n",
       "      <td>476</td>\n",
       "      <td>6072</td>\n",
       "    </tr>\n",
       "    <tr>\n",
       "      <th>3</th>\n",
       "      <td>instagram_new_adverts</td>\n",
       "      <td>pvp</td>\n",
       "      <td>990</td>\n",
       "      <td>9306</td>\n",
       "    </tr>\n",
       "    <tr>\n",
       "      <th>4</th>\n",
       "      <td>yandex_direct</td>\n",
       "      <td>pve</td>\n",
       "      <td>620</td>\n",
       "      <td>7809</td>\n",
       "    </tr>\n",
       "    <tr>\n",
       "      <th>5</th>\n",
       "      <td>yandex_direct</td>\n",
       "      <td>pvp</td>\n",
       "      <td>1422</td>\n",
       "      <td>13332</td>\n",
       "    </tr>\n",
       "    <tr>\n",
       "      <th>6</th>\n",
       "      <td>youtube_channel_reklama</td>\n",
       "      <td>pve</td>\n",
       "      <td>379</td>\n",
       "      <td>4774</td>\n",
       "    </tr>\n",
       "    <tr>\n",
       "      <th>7</th>\n",
       "      <td>youtube_channel_reklama</td>\n",
       "      <td>pvp</td>\n",
       "      <td>780</td>\n",
       "      <td>7390</td>\n",
       "    </tr>\n",
       "  </tbody>\n",
       "</table>\n",
       "</div>"
      ],
      "text/plain": [
       "                    source strategy  users  objects\n",
       "0             facebook_ads      pve    391     4946\n",
       "1             facebook_ads      pvp    759     7157\n",
       "2    instagram_new_adverts      pve    476     6072\n",
       "3    instagram_new_adverts      pvp    990     9306\n",
       "4            yandex_direct      pve    620     7809\n",
       "5            yandex_direct      pvp   1422    13332\n",
       "6  youtube_channel_reklama      pve    379     4774\n",
       "7  youtube_channel_reklama      pvp    780     7390"
      ]
     },
     "metadata": {},
     "output_type": "display_data"
    }
   ],
   "source": [
    "winners_features = (\n",
    "    winners\n",
    "    .groupby(['source', 'strategy'])\n",
    "    .agg({'user_id': 'nunique',\n",
    "          'objects_total': 'sum'})\n",
    "    .reset_index()\n",
    "    .rename(columns={\n",
    "        'user_id': 'users', \n",
    "        'objects_total': 'objects'})\n",
    ")\n",
    "display(winners_features)"
   ]
  },
  {
   "cell_type": "markdown",
   "metadata": {},
   "source": [
    "Рассчитаем общее количество победителей и построенных ими объектов для каждого из источников. Результат сохраним как `winners_total`:"
   ]
  },
  {
   "cell_type": "code",
   "execution_count": 59,
   "metadata": {},
   "outputs": [
    {
     "data": {
      "text/html": [
       "<div>\n",
       "<style scoped>\n",
       "    .dataframe tbody tr th:only-of-type {\n",
       "        vertical-align: middle;\n",
       "    }\n",
       "\n",
       "    .dataframe tbody tr th {\n",
       "        vertical-align: top;\n",
       "    }\n",
       "\n",
       "    .dataframe thead th {\n",
       "        text-align: right;\n",
       "    }\n",
       "</style>\n",
       "<table border=\"1\" class=\"dataframe\">\n",
       "  <thead>\n",
       "    <tr style=\"text-align: right;\">\n",
       "      <th></th>\n",
       "      <th>source</th>\n",
       "      <th>users_total</th>\n",
       "      <th>objects_total</th>\n",
       "    </tr>\n",
       "  </thead>\n",
       "  <tbody>\n",
       "    <tr>\n",
       "      <th>0</th>\n",
       "      <td>facebook_ads</td>\n",
       "      <td>1150</td>\n",
       "      <td>12103</td>\n",
       "    </tr>\n",
       "    <tr>\n",
       "      <th>1</th>\n",
       "      <td>instagram_new_adverts</td>\n",
       "      <td>1466</td>\n",
       "      <td>15378</td>\n",
       "    </tr>\n",
       "    <tr>\n",
       "      <th>2</th>\n",
       "      <td>yandex_direct</td>\n",
       "      <td>2042</td>\n",
       "      <td>21141</td>\n",
       "    </tr>\n",
       "    <tr>\n",
       "      <th>3</th>\n",
       "      <td>youtube_channel_reklama</td>\n",
       "      <td>1159</td>\n",
       "      <td>12164</td>\n",
       "    </tr>\n",
       "  </tbody>\n",
       "</table>\n",
       "</div>"
      ],
      "text/plain": [
       "                    source  users_total  objects_total\n",
       "0             facebook_ads         1150          12103\n",
       "1    instagram_new_adverts         1466          15378\n",
       "2            yandex_direct         2042          21141\n",
       "3  youtube_channel_reklama         1159          12164"
      ]
     },
     "execution_count": 59,
     "metadata": {},
     "output_type": "execute_result"
    }
   ],
   "source": [
    "winners_total = (\n",
    "    winners_features\n",
    "    .groupby('source')\n",
    "    .agg({'users': 'sum', \n",
    "          'objects': 'sum'})\n",
    "    .reset_index()\n",
    "    .rename(columns={\n",
    "        'objects': 'objects_total', \n",
    "        'users': 'users_total'})\n",
    ")\n",
    "winners_total"
   ]
  },
  {
   "cell_type": "markdown",
   "metadata": {},
   "source": [
    "Объединим эти данные с `winners_features` и рассчитаем доли пользователей и построенных объектов для каждой из стратегий. Выведем таблицу на экран:"
   ]
  },
  {
   "cell_type": "code",
   "execution_count": 60,
   "metadata": {},
   "outputs": [
    {
     "data": {
      "text/html": [
       "<div>\n",
       "<style scoped>\n",
       "    .dataframe tbody tr th:only-of-type {\n",
       "        vertical-align: middle;\n",
       "    }\n",
       "\n",
       "    .dataframe tbody tr th {\n",
       "        vertical-align: top;\n",
       "    }\n",
       "\n",
       "    .dataframe thead th {\n",
       "        text-align: right;\n",
       "    }\n",
       "</style>\n",
       "<table border=\"1\" class=\"dataframe\">\n",
       "  <thead>\n",
       "    <tr style=\"text-align: right;\">\n",
       "      <th></th>\n",
       "      <th>source</th>\n",
       "      <th>strategy</th>\n",
       "      <th>users</th>\n",
       "      <th>objects</th>\n",
       "      <th>users_total</th>\n",
       "      <th>objects_total</th>\n",
       "      <th>users_share</th>\n",
       "      <th>objects_share</th>\n",
       "    </tr>\n",
       "  </thead>\n",
       "  <tbody>\n",
       "    <tr>\n",
       "      <th>0</th>\n",
       "      <td>facebook_ads</td>\n",
       "      <td>pve</td>\n",
       "      <td>391</td>\n",
       "      <td>4946</td>\n",
       "      <td>1150</td>\n",
       "      <td>12103</td>\n",
       "      <td>34.0</td>\n",
       "      <td>40.9</td>\n",
       "    </tr>\n",
       "    <tr>\n",
       "      <th>1</th>\n",
       "      <td>facebook_ads</td>\n",
       "      <td>pvp</td>\n",
       "      <td>759</td>\n",
       "      <td>7157</td>\n",
       "      <td>1150</td>\n",
       "      <td>12103</td>\n",
       "      <td>66.0</td>\n",
       "      <td>59.1</td>\n",
       "    </tr>\n",
       "    <tr>\n",
       "      <th>2</th>\n",
       "      <td>instagram_new_adverts</td>\n",
       "      <td>pve</td>\n",
       "      <td>476</td>\n",
       "      <td>6072</td>\n",
       "      <td>1466</td>\n",
       "      <td>15378</td>\n",
       "      <td>32.5</td>\n",
       "      <td>39.5</td>\n",
       "    </tr>\n",
       "    <tr>\n",
       "      <th>3</th>\n",
       "      <td>instagram_new_adverts</td>\n",
       "      <td>pvp</td>\n",
       "      <td>990</td>\n",
       "      <td>9306</td>\n",
       "      <td>1466</td>\n",
       "      <td>15378</td>\n",
       "      <td>67.5</td>\n",
       "      <td>60.5</td>\n",
       "    </tr>\n",
       "    <tr>\n",
       "      <th>4</th>\n",
       "      <td>yandex_direct</td>\n",
       "      <td>pve</td>\n",
       "      <td>620</td>\n",
       "      <td>7809</td>\n",
       "      <td>2042</td>\n",
       "      <td>21141</td>\n",
       "      <td>30.4</td>\n",
       "      <td>36.9</td>\n",
       "    </tr>\n",
       "    <tr>\n",
       "      <th>5</th>\n",
       "      <td>yandex_direct</td>\n",
       "      <td>pvp</td>\n",
       "      <td>1422</td>\n",
       "      <td>13332</td>\n",
       "      <td>2042</td>\n",
       "      <td>21141</td>\n",
       "      <td>69.6</td>\n",
       "      <td>63.1</td>\n",
       "    </tr>\n",
       "    <tr>\n",
       "      <th>6</th>\n",
       "      <td>youtube_channel_reklama</td>\n",
       "      <td>pve</td>\n",
       "      <td>379</td>\n",
       "      <td>4774</td>\n",
       "      <td>1159</td>\n",
       "      <td>12164</td>\n",
       "      <td>32.7</td>\n",
       "      <td>39.2</td>\n",
       "    </tr>\n",
       "    <tr>\n",
       "      <th>7</th>\n",
       "      <td>youtube_channel_reklama</td>\n",
       "      <td>pvp</td>\n",
       "      <td>780</td>\n",
       "      <td>7390</td>\n",
       "      <td>1159</td>\n",
       "      <td>12164</td>\n",
       "      <td>67.3</td>\n",
       "      <td>60.8</td>\n",
       "    </tr>\n",
       "  </tbody>\n",
       "</table>\n",
       "</div>"
      ],
      "text/plain": [
       "                    source strategy  users  objects  users_total  \\\n",
       "0             facebook_ads      pve    391     4946         1150   \n",
       "1             facebook_ads      pvp    759     7157         1150   \n",
       "2    instagram_new_adverts      pve    476     6072         1466   \n",
       "3    instagram_new_adverts      pvp    990     9306         1466   \n",
       "4            yandex_direct      pve    620     7809         2042   \n",
       "5            yandex_direct      pvp   1422    13332         2042   \n",
       "6  youtube_channel_reklama      pve    379     4774         1159   \n",
       "7  youtube_channel_reklama      pvp    780     7390         1159   \n",
       "\n",
       "   objects_total  users_share  objects_share  \n",
       "0          12103         34.0           40.9  \n",
       "1          12103         66.0           59.1  \n",
       "2          15378         32.5           39.5  \n",
       "3          15378         67.5           60.5  \n",
       "4          21141         30.4           36.9  \n",
       "5          21141         69.6           63.1  \n",
       "6          12164         32.7           39.2  \n",
       "7          12164         67.3           60.8  "
      ]
     },
     "execution_count": 60,
     "metadata": {},
     "output_type": "execute_result"
    }
   ],
   "source": [
    "winners_features = winners_features.merge(winners_total, how='left', on='source')\n",
    "\n",
    "winners_features['users_share'] = round(winners_features.users / winners_features.users_total * 100, 1)\n",
    "winners_features['objects_share'] = round(winners_features.objects / winners_features.objects_total * 100, 1)\n",
    "winners_features"
   ]
  },
  {
   "cell_type": "markdown",
   "metadata": {},
   "source": [
    "Отстроим по этим данным графики."
   ]
  },
  {
   "cell_type": "markdown",
   "metadata": {},
   "source": [
    "#### Доля игроков по рекламным источникам\n",
    "\n",
    "Построим столбчатую диаграмму зависимости доли игроков каждой стратегии по рекламным источникам:"
   ]
  },
  {
   "cell_type": "code",
   "execution_count": 61,
   "metadata": {
    "scrolled": false
   },
   "outputs": [
    {
     "data": {
      "image/png": "[encoded data removed]",
      "text/plain": [
       "<Figure size 864x432 with 1 Axes>"
      ]
     },
     "metadata": {},
     "output_type": "display_data"
    }
   ],
   "source": [
    "chart = sns.barplot(data=winners_features, x='source', y='users_share', hue='strategy', palette='mako')\n",
    "plt.title('Доля игроков по рекламным источникам')\n",
    "plt.xlabel('Рекламные источники')\n",
    "plt.ylabel('Доля игроков, %')\n",
    "for p in chart.patches:\n",
    "             chart.annotate(\"%.1f\" % p.get_height(), (p.get_x() + p.get_width() / 2., p.get_height()),\n",
    "                 ha='center', va='center', fontsize=9, color='black', xytext=(0, 5),\n",
    "                 textcoords='offset points')\n",
    "plt.show()"
   ]
  },
  {
   "cell_type": "markdown",
   "metadata": {},
   "source": [
    "Наблюдается следующая картина:\n",
    "* лидирует доля `pvp`-игроков;\n",
    "* соотношение `pvp` к `pve` - примерно 70:30;\n",
    "* источник привлечения не влияет на соотношение долей."
   ]
  },
  {
   "cell_type": "markdown",
   "metadata": {},
   "source": [
    "#### Доля построенных объектов по рекламным источникам\n",
    "\n",
    "Построим столбчатую диаграмму зависимости доли построенных объектов игроками каждой стратегии по рекламным источникам:"
   ]
  },
  {
   "cell_type": "code",
   "execution_count": 62,
   "metadata": {},
   "outputs": [
    {
     "data": {
      "image/png": "[encoded data removed]",
      "text/plain": [
       "<Figure size 864x432 with 1 Axes>"
      ]
     },
     "metadata": {},
     "output_type": "display_data"
    }
   ],
   "source": [
    "chart = sns.barplot(data=winners_features, x='source', y='objects_share', hue='strategy', palette='mako')\n",
    "plt.title('Доля построенных объектов по рекламным источникам')\n",
    "plt.xlabel('Рекламные источники')\n",
    "plt.ylabel('Доля объектов, %')\n",
    "for p in chart.patches:\n",
    "             chart.annotate(\"%.1f\" % p.get_height(), (p.get_x() + p.get_width() / 2., p.get_height()),\n",
    "                 ha='center', va='center', fontsize=9, color='black', xytext=(0, 5),\n",
    "                 textcoords='offset points')\n",
    "plt.show()"
   ]
  },
  {
   "cell_type": "markdown",
   "metadata": {},
   "source": [
    "По графику наблюдается схожая тенденция, что и для доли игроков по рекламным источникам:\n",
    "* `pvp`-игроки строят б*о*льшее количество объектов;\n",
    "* соотношение `pvp` к `pve` - примерно 60:40;\n",
    "* источник привлечения не влияет на соотношение долей.\n",
    "\n",
    "Первый пункт, однако, может быть связан с тем, что `pvp`-игроки в принципе превалируют во всей выборке `winners`. Вполне естественно, что чем больше игроков, тем больше зданий они строят. Чтобы посмотреть, зависит ли количество объектов от выбранной стратегии, необходим статистический тест."
   ]
  },
  {
   "cell_type": "markdown",
   "metadata": {},
   "source": [
    "### Промежуточный вывод\n",
    "\n",
    "* **Определение победителей**\n",
    "\n",
    "  Из датафрейма `game_df` была выделена информация о победителях (игроках, завершивших первый уровень) `winners`. Общее количество - 5817 чел.\n",
    "\n",
    "\n",
    "* **Определение стратегий**\n",
    "\n",
    "  В качестве обозначений было принято, что:\n",
    "  * игроки, реализовавшие проект, используют стратегию `pve` (\"player vs environment\");\n",
    "  * игроки, завершившие уровень путём победы над первым врагом (т.е. не реализовавшие проект), используют стратегию `pvp` (\"player vs player\").\n",
    "  \n",
    "  Общее количество игроков по стратегиям:\n",
    "  * `pve` - 1866 чел.\n",
    "  * `pvp` - 3951 чел.\n",
    "   \n",
    "   \n",
    "* **Количество действий каждого победителя**\n",
    "\n",
    "  В данном исследовании мы договорились принять, что **время завершения уровня равно количеству действий (т.е. количеству построенных объектов) игрока**, необходимых для его завершения.\n",
    "  \n",
    "  Для каждого игрока было рассчитано:\n",
    "  * общее количество построенных объектов `objects_total`\n",
    "  * количество космопортов `spaceports`\n",
    "  * количество сборочных цехов `shops`\n",
    "  * количество исследовательских центров `centers`\n",
    "\n",
    "\n",
    "* **Создание датафрейма для проверки гипотез**\n",
    "\n",
    "  Информация о количестве объектов была добавлена к датафрейму `winners` - и таким образом была сформирована основа для проверки статистических гипотез.\n",
    "  \n",
    "  \n",
    "* **Анализ стратегий победителей**\n",
    "\n",
    "  * *Доля игроков по рекламным источникам*\n",
    "    * лидируют `pvp`-игроки;\n",
    "    * соотношение `pvp` к `pve` - примерно 70:30;\n",
    "    * источник привлечения не влияет на соотношение долей.\n",
    "    \n",
    "  * *Доля построенных объектов по рекламным источникам*\n",
    "    * `pvp`-игроки строят б*о*льшее количество объектов;\n",
    "    * соотношение `pvp` к `pve` - примерно 60:40;\n",
    "    * источник привлечения не влияет на соотношение долей.\n",
    "\n",
    "    Большое количество объектов, построенных `pvp`-игроками может быть связано с тем, что `pvp`-игроки в принципе превалируют во всей выборке `winners`. Чтобы посмотреть, зависит ли количество объектов от выбранной стратегии, необходим статистический тест."
   ]
  },
  {
   "cell_type": "markdown",
   "metadata": {},
   "source": [
    "## Проверка гипотез"
   ]
  },
  {
   "cell_type": "markdown",
   "metadata": {},
   "source": [
    "### Гипотеза о зависимости времени прохождения от стратегии\n",
    "Первая гипотеза в развёрнутом виде звучит как: \n",
    "\n",
    "**Время завершения уровня различается в зависимости способа прохождения:**\n",
    "* **через реализацию проекта** (`pve`-стратегия)\n",
    "* **через победу над первым игроком** (`pvp`-стратегия)\n",
    "\n",
    "Иными словами, нам требуется сопоставить две генеральные совокупности (`pve` и `pvp`) - и проверить гипотезу о равенстве средних их выборок. Сделать это можно при помощи t-теста.\n",
    "\n",
    "Однако, в данном случае t-тест требует соблюдения ряда условий:\n",
    "\n",
    "* *Генеральные совокупности не должны зависеть друг от друга.*\n",
    "  \n",
    "  В данном случае пользователи выбирали стратегию, исходя из собственных предпочтений, и повлиять друг на друга не могли. Т.е. рассматриваемые генеральные совокупности друг от друга **не зависят**. \n",
    "  \n",
    "  \n",
    "* *Выборочные средние должны быть нормально распределены.*\n",
    "\n",
    "   Поскольку рассматриваемые данные довольно обширны, а величины являются непрерывными, то можно предположить, что в подобных ситуациях распределение всегда будет **стремиться к нормальному**.\n",
    "   \n",
    "   \n",
    "* *Дисперсии рассматриваемых генеральных совокупностей должны быть равны.*\n",
    "\n",
    "   В этом случае мы не можем утверждать наверняка, необходимо провести проверку. Для начала выделим два среза данных по количеству построенных объектов - `sample_1` и `sample_2` (для стратегий `pve` и `pvp`, соответственно):"
   ]
  },
  {
   "cell_type": "code",
   "execution_count": 63,
   "metadata": {},
   "outputs": [],
   "source": [
    "sample_1 = winners.query('strategy == \"pve\"').objects_total\n",
    "sample_2 = winners.query('strategy == \"pvp\"').objects_total"
   ]
  },
  {
   "cell_type": "markdown",
   "metadata": {},
   "source": [
    "Оценим дисперсии \"на глаз\" путём простого сравнения:"
   ]
  },
  {
   "cell_type": "code",
   "execution_count": 64,
   "metadata": {},
   "outputs": [
    {
     "name": "stdout",
     "output_type": "stream",
     "text": [
      "Дисперсия по pve: 4.676502331836247\n",
      "Дисперсия по pvp: 9.360717395692165\n"
     ]
    }
   ],
   "source": [
    "print(f'Дисперсия по pve: {sample_1.describe()[\"std\"]**2}\\nДисперсия по pvp: {sample_2.describe()[\"std\"] **2}')"
   ]
  },
  {
   "cell_type": "markdown",
   "metadata": {},
   "source": [
    "Даже визуально выборки различны. Дополнительно проведём тест Левене на предмет оценки равенства дисперсий:"
   ]
  },
  {
   "cell_type": "code",
   "execution_count": 65,
   "metadata": {},
   "outputs": [
    {
     "data": {
      "text/plain": [
       "9.599913255790728e-40"
      ]
     },
     "execution_count": 65,
     "metadata": {},
     "output_type": "execute_result"
    }
   ],
   "source": [
    "stat, p = stats.levene(sample_1, sample_2)\n",
    "p"
   ]
  },
  {
   "cell_type": "markdown",
   "metadata": {},
   "source": [
    "Значение вероятности крайне мало, т.е. **дисперсии выборок нельзя считать равными друг другу**. В данном случае мы примем для t-теста параметр `equal_var = False`.\n",
    "\n",
    "Сформулируем нулевую и альтернативную гипотезы:\n",
    "\n",
    "    Н0 - Средние значения в группах 1 и 2 равны.\n",
    "\n",
    "    Н1 - Средние значения в группах 1 и 2 отличны друг от друга.\n",
    "    \n",
    "Критический уровень значимости `alpha` примем равным 0.05, поскольку высокая точность в конкретном исследовании нам не требуется. Если подсчитанное `p-value` окажется ниже этого порогового значения, то это будет достаточным основанием, чтобы отвергнуть нулевую гипотезу.\n",
    "\n",
    "Проведём t-тест методом для двух независимых выборок `stats.ttest_ind()`:"
   ]
  },
  {
   "cell_type": "code",
   "execution_count": 66,
   "metadata": {},
   "outputs": [
    {
     "name": "stdout",
     "output_type": "stream",
     "text": [
      "p-значение: 0.0\n",
      "Отвергаем H0 - между средними есть значимая разница\n"
     ]
    }
   ],
   "source": [
    "alpha = .05\n",
    "\n",
    "results = stats.ttest_ind(sample_1, sample_2, equal_var = False)\n",
    "print('p-значение:', results.pvalue)\n",
    "\n",
    "if (results.pvalue < alpha):\n",
    "    print('Отвергаем H0 - между средними есть значимая разница')\n",
    "else:\n",
    "    print('Не получилось отвергнуть H0, нет оснований считать средние разными')"
   ]
  },
  {
   "cell_type": "markdown",
   "metadata": {},
   "source": [
    "Итак, количество построенных зданий у игроков `pve`- и `pvp`-стратегий отличается. Изучим, в какую сторону направлено данное отличие.\n",
    "\n",
    "Добавим в таблицу с агрегированными данными `winners_features` столбец `objects_mean` со средним количеством построенных объектов:"
   ]
  },
  {
   "cell_type": "code",
   "execution_count": 67,
   "metadata": {},
   "outputs": [
    {
     "data": {
      "text/html": [
       "<div>\n",
       "<style scoped>\n",
       "    .dataframe tbody tr th:only-of-type {\n",
       "        vertical-align: middle;\n",
       "    }\n",
       "\n",
       "    .dataframe tbody tr th {\n",
       "        vertical-align: top;\n",
       "    }\n",
       "\n",
       "    .dataframe thead th {\n",
       "        text-align: right;\n",
       "    }\n",
       "</style>\n",
       "<table border=\"1\" class=\"dataframe\">\n",
       "  <thead>\n",
       "    <tr style=\"text-align: right;\">\n",
       "      <th></th>\n",
       "      <th>source</th>\n",
       "      <th>strategy</th>\n",
       "      <th>objects_mean</th>\n",
       "    </tr>\n",
       "  </thead>\n",
       "  <tbody>\n",
       "    <tr>\n",
       "      <th>0</th>\n",
       "      <td>facebook_ads</td>\n",
       "      <td>pve</td>\n",
       "      <td>13.0</td>\n",
       "    </tr>\n",
       "    <tr>\n",
       "      <th>1</th>\n",
       "      <td>facebook_ads</td>\n",
       "      <td>pvp</td>\n",
       "      <td>9.0</td>\n",
       "    </tr>\n",
       "    <tr>\n",
       "      <th>2</th>\n",
       "      <td>instagram_new_adverts</td>\n",
       "      <td>pve</td>\n",
       "      <td>13.0</td>\n",
       "    </tr>\n",
       "    <tr>\n",
       "      <th>3</th>\n",
       "      <td>instagram_new_adverts</td>\n",
       "      <td>pvp</td>\n",
       "      <td>9.0</td>\n",
       "    </tr>\n",
       "    <tr>\n",
       "      <th>4</th>\n",
       "      <td>yandex_direct</td>\n",
       "      <td>pve</td>\n",
       "      <td>13.0</td>\n",
       "    </tr>\n",
       "    <tr>\n",
       "      <th>5</th>\n",
       "      <td>yandex_direct</td>\n",
       "      <td>pvp</td>\n",
       "      <td>9.0</td>\n",
       "    </tr>\n",
       "    <tr>\n",
       "      <th>6</th>\n",
       "      <td>youtube_channel_reklama</td>\n",
       "      <td>pve</td>\n",
       "      <td>13.0</td>\n",
       "    </tr>\n",
       "    <tr>\n",
       "      <th>7</th>\n",
       "      <td>youtube_channel_reklama</td>\n",
       "      <td>pvp</td>\n",
       "      <td>9.0</td>\n",
       "    </tr>\n",
       "  </tbody>\n",
       "</table>\n",
       "</div>"
      ],
      "text/plain": [
       "                    source strategy  objects_mean\n",
       "0             facebook_ads      pve          13.0\n",
       "1             facebook_ads      pvp           9.0\n",
       "2    instagram_new_adverts      pve          13.0\n",
       "3    instagram_new_adverts      pvp           9.0\n",
       "4            yandex_direct      pve          13.0\n",
       "5            yandex_direct      pvp           9.0\n",
       "6  youtube_channel_reklama      pve          13.0\n",
       "7  youtube_channel_reklama      pvp           9.0"
      ]
     },
     "metadata": {},
     "output_type": "display_data"
    }
   ],
   "source": [
    "winners_features['objects_mean'] = round(winners_features.objects / winners_features.users, 0)\n",
    "display(winners_features[['source', 'strategy', 'objects_mean']])"
   ]
  },
  {
   "cell_type": "markdown",
   "metadata": {},
   "source": [
    "Как мы можем наблюдать, **`pvp`-стратегия реализуется быстрее `pve`** за счёт меньшего числа построенных объектов.\n",
    "\n",
    "Занятной особенностью является и то, что среднее количество построенных объектов никак не зависит от источника привлечения - только от выбранной игроком стратегии. Технически, средние значения в рамках одной стратегии полностью совпадают. Поэтому полагать, что определённый источник привлекает людей конкретного профиля игры, нельзя."
   ]
  },
  {
   "cell_type": "markdown",
   "metadata": {},
   "source": [
    "### Гипотеза о равенстве долей pvp-игроков из разных источников"
   ]
  },
  {
   "cell_type": "markdown",
   "metadata": {},
   "source": [
    "Выше мы уже отмечали, что `pvp`-стратегия реализуется быстрее `pve` - и потому является более выигрышной. Имеет смысл рассмотреть её в разрезе источников привлечения.\n",
    "\n",
    "Вторая гипотеза в развёрнутом виде звучит как: \n",
    "\n",
    "**Доли `pvp`-игроков с различных источников совпадают**. \n",
    "\n",
    "Т.е. нам потребуется проверить гипотезу о равенстве долей, что мы будем делать при помощи z-теста. Проводить его мы будем, сравнивая каждую пару рекламных источников.\n",
    "\n",
    "Но для начала требуется подготовить данные. Сперва выберем из `winners` всех `pvp`-игроков и рассчитаем их количество, исходя из источника. Назовём таблицу `pvp_group`:"
   ]
  },
  {
   "cell_type": "code",
   "execution_count": 68,
   "metadata": {},
   "outputs": [
    {
     "data": {
      "text/html": [
       "<div>\n",
       "<style scoped>\n",
       "    .dataframe tbody tr th:only-of-type {\n",
       "        vertical-align: middle;\n",
       "    }\n",
       "\n",
       "    .dataframe tbody tr th {\n",
       "        vertical-align: top;\n",
       "    }\n",
       "\n",
       "    .dataframe thead th {\n",
       "        text-align: right;\n",
       "    }\n",
       "</style>\n",
       "<table border=\"1\" class=\"dataframe\">\n",
       "  <thead>\n",
       "    <tr style=\"text-align: right;\">\n",
       "      <th>source</th>\n",
       "      <th>facebook_ads</th>\n",
       "      <th>instagram_new_adverts</th>\n",
       "      <th>yandex_direct</th>\n",
       "      <th>youtube_channel_reklama</th>\n",
       "    </tr>\n",
       "  </thead>\n",
       "  <tbody>\n",
       "    <tr>\n",
       "      <th>user_id</th>\n",
       "      <td>759</td>\n",
       "      <td>990</td>\n",
       "      <td>1422</td>\n",
       "      <td>780</td>\n",
       "    </tr>\n",
       "  </tbody>\n",
       "</table>\n",
       "</div>"
      ],
      "text/plain": [
       "source   facebook_ads  instagram_new_adverts  yandex_direct  \\\n",
       "user_id           759                    990           1422   \n",
       "\n",
       "source   youtube_channel_reklama  \n",
       "user_id                      780  "
      ]
     },
     "execution_count": 68,
     "metadata": {},
     "output_type": "execute_result"
    }
   ],
   "source": [
    "pvp_group = (\n",
    "    winners\n",
    "    .query('strategy == \"pvp\"')\n",
    "    .pivot_table(columns='source', values='user_id', aggfunc='nunique'))\n",
    "pvp_group"
   ]
  },
  {
   "cell_type": "markdown",
   "metadata": {},
   "source": [
    "Затем рассчитаем общее количество победителей по источникам. Результат сохраним как `source_total`:"
   ]
  },
  {
   "cell_type": "code",
   "execution_count": 69,
   "metadata": {},
   "outputs": [
    {
     "data": {
      "text/html": [
       "<div>\n",
       "<style scoped>\n",
       "    .dataframe tbody tr th:only-of-type {\n",
       "        vertical-align: middle;\n",
       "    }\n",
       "\n",
       "    .dataframe tbody tr th {\n",
       "        vertical-align: top;\n",
       "    }\n",
       "\n",
       "    .dataframe thead th {\n",
       "        text-align: right;\n",
       "    }\n",
       "</style>\n",
       "<table border=\"1\" class=\"dataframe\">\n",
       "  <thead>\n",
       "    <tr style=\"text-align: right;\">\n",
       "      <th>source</th>\n",
       "      <th>facebook_ads</th>\n",
       "      <th>instagram_new_adverts</th>\n",
       "      <th>yandex_direct</th>\n",
       "      <th>youtube_channel_reklama</th>\n",
       "    </tr>\n",
       "  </thead>\n",
       "  <tbody>\n",
       "    <tr>\n",
       "      <th>user_id</th>\n",
       "      <td>1150</td>\n",
       "      <td>1466</td>\n",
       "      <td>2042</td>\n",
       "      <td>1159</td>\n",
       "    </tr>\n",
       "  </tbody>\n",
       "</table>\n",
       "</div>"
      ],
      "text/plain": [
       "source   facebook_ads  instagram_new_adverts  yandex_direct  \\\n",
       "user_id          1150                   1466           2042   \n",
       "\n",
       "source   youtube_channel_reklama  \n",
       "user_id                     1159  "
      ]
     },
     "execution_count": 69,
     "metadata": {},
     "output_type": "execute_result"
    }
   ],
   "source": [
    "source_total = (\n",
    "    winners\n",
    "    .pivot_table(columns='source', values='user_id', aggfunc='nunique'))\n",
    "source_total"
   ]
  },
  {
   "cell_type": "markdown",
   "metadata": {},
   "source": [
    "Сконкатенируем обе таблицы в финальную `pvp_test` и изменим в ней индексы:"
   ]
  },
  {
   "cell_type": "code",
   "execution_count": 70,
   "metadata": {},
   "outputs": [
    {
     "data": {
      "text/html": [
       "<div>\n",
       "<style scoped>\n",
       "    .dataframe tbody tr th:only-of-type {\n",
       "        vertical-align: middle;\n",
       "    }\n",
       "\n",
       "    .dataframe tbody tr th {\n",
       "        vertical-align: top;\n",
       "    }\n",
       "\n",
       "    .dataframe thead th {\n",
       "        text-align: right;\n",
       "    }\n",
       "</style>\n",
       "<table border=\"1\" class=\"dataframe\">\n",
       "  <thead>\n",
       "    <tr style=\"text-align: right;\">\n",
       "      <th>source</th>\n",
       "      <th>facebook_ads</th>\n",
       "      <th>instagram_new_adverts</th>\n",
       "      <th>yandex_direct</th>\n",
       "      <th>youtube_channel_reklama</th>\n",
       "    </tr>\n",
       "  </thead>\n",
       "  <tbody>\n",
       "    <tr>\n",
       "      <th>0</th>\n",
       "      <td>759</td>\n",
       "      <td>990</td>\n",
       "      <td>1422</td>\n",
       "      <td>780</td>\n",
       "    </tr>\n",
       "    <tr>\n",
       "      <th>1</th>\n",
       "      <td>1150</td>\n",
       "      <td>1466</td>\n",
       "      <td>2042</td>\n",
       "      <td>1159</td>\n",
       "    </tr>\n",
       "  </tbody>\n",
       "</table>\n",
       "</div>"
      ],
      "text/plain": [
       "source  facebook_ads  instagram_new_adverts  yandex_direct  \\\n",
       "0                759                    990           1422   \n",
       "1               1150                   1466           2042   \n",
       "\n",
       "source  youtube_channel_reklama  \n",
       "0                           780  \n",
       "1                          1159  "
      ]
     },
     "execution_count": 70,
     "metadata": {},
     "output_type": "execute_result"
    }
   ],
   "source": [
    "pvp_test = pd.concat([pvp_group, source_total])\n",
    "\n",
    "index_list = pd.Series([0, 1])\n",
    "pvp_test = pvp_test.set_index(index_list)\n",
    "\n",
    "pvp_test"
   ]
  },
  {
   "cell_type": "markdown",
   "metadata": {},
   "source": [
    "Таблица для проверки готова.\n",
    "\n",
    "Установим нулевую и альтернативную гипотезы:\n",
    "\n",
    "    Н0 - Нет различий в долях между группами 1 и 2.\n",
    "\n",
    "    Н1 - Есть различия в долях между группами 1 и 2. \n",
    "    \n",
    "Определим функцию для отрисовки таблицы с результатами теста `create_results_table`. Её параметрами будут выступать текущая выборка по стратегии и критический уровень статистической значимости `alpha` (по умолчанию равный 5%):"
   ]
  },
  {
   "cell_type": "code",
   "execution_count": 71,
   "metadata": {},
   "outputs": [],
   "source": [
    "def create_results_table(test_table, alpha=.05):\n",
    "    # создаём заготовку для таблицы с будущими результатами теста\n",
    "    pivot_results = pd.DataFrame(columns=['Источник_1', 'Источник_2', 'alpha', 'p_value', 'Результат'])\n",
    "    # записываем в список возможные варианты результатов теста\n",
    "    result_options = ['Отвергаем H0 - между долями есть значимая разница', \n",
    "                      'Не получилось отвергнуть H0, нет оснований считать доли разными']\n",
    "\n",
    "    # создаём список источников для сравнения\n",
    "    source_list = test_table.columns.to_list()\n",
    "    \n",
    "    # для каждой пары источников рассчитываем p-value\n",
    "    # т.к. тест двусторонний, в proportions_ztest используется параметр alternative='two-sided'\n",
    "    for i in range(len(source_list)):\n",
    "        current_source = source_list[i]\n",
    "        \n",
    "        for source in source_list:\n",
    "            if source != current_source:\n",
    "                count = np.array([test_table[current_source][0], test_table[source][0]])\n",
    "                nobs = np.array([test_table[current_source][1], test_table[source][1]])\n",
    "                stat, pval = proportions_ztest(count, nobs, alternative='two-sided')\n",
    "                \n",
    "                # вносим результат как строку с результатом\n",
    "                new_row = {'Источник_1': current_source,\n",
    "                           'Источник_2': source,\n",
    "                           'alpha': alpha,\n",
    "                           'p_value': round(pval, 3),\n",
    "                           'Результат': result_options[1] if pval >= alpha else result_options[0]}\n",
    "                \n",
    "                # добавляем строку в таблицу с результатами\n",
    "                pivot_results = pivot_results.append([new_row])\n",
    "    \n",
    "    # задаём новые индексы\n",
    "    pivot_results.reset_index(drop=True, inplace=True)\n",
    "    \n",
    "    # возвращаем таблицу с результатами\n",
    "    return(pivot_results)"
   ]
  },
  {
   "cell_type": "markdown",
   "metadata": {},
   "source": [
    "Выведем на экран результаты теста:"
   ]
  },
  {
   "cell_type": "code",
   "execution_count": 72,
   "metadata": {},
   "outputs": [
    {
     "data": {
      "text/html": [
       "<div>\n",
       "<style scoped>\n",
       "    .dataframe tbody tr th:only-of-type {\n",
       "        vertical-align: middle;\n",
       "    }\n",
       "\n",
       "    .dataframe tbody tr th {\n",
       "        vertical-align: top;\n",
       "    }\n",
       "\n",
       "    .dataframe thead th {\n",
       "        text-align: right;\n",
       "    }\n",
       "</style>\n",
       "<table border=\"1\" class=\"dataframe\">\n",
       "  <thead>\n",
       "    <tr style=\"text-align: right;\">\n",
       "      <th></th>\n",
       "      <th>Источник_1</th>\n",
       "      <th>Источник_2</th>\n",
       "      <th>alpha</th>\n",
       "      <th>p_value</th>\n",
       "      <th>Результат</th>\n",
       "    </tr>\n",
       "  </thead>\n",
       "  <tbody>\n",
       "    <tr>\n",
       "      <th>0</th>\n",
       "      <td>facebook_ads</td>\n",
       "      <td>instagram_new_adverts</td>\n",
       "      <td>0.05</td>\n",
       "      <td>0.409</td>\n",
       "      <td>Не получилось отвергнуть H0, нет оснований счи...</td>\n",
       "    </tr>\n",
       "    <tr>\n",
       "      <th>1</th>\n",
       "      <td>facebook_ads</td>\n",
       "      <td>yandex_direct</td>\n",
       "      <td>0.05</td>\n",
       "      <td>0.034</td>\n",
       "      <td>Отвергаем H0 - между долями есть значимая разница</td>\n",
       "    </tr>\n",
       "    <tr>\n",
       "      <th>2</th>\n",
       "      <td>facebook_ads</td>\n",
       "      <td>youtube_channel_reklama</td>\n",
       "      <td>0.05</td>\n",
       "      <td>0.508</td>\n",
       "      <td>Не получилось отвергнуть H0, нет оснований счи...</td>\n",
       "    </tr>\n",
       "    <tr>\n",
       "      <th>3</th>\n",
       "      <td>instagram_new_adverts</td>\n",
       "      <td>facebook_ads</td>\n",
       "      <td>0.05</td>\n",
       "      <td>0.409</td>\n",
       "      <td>Не получилось отвергнуть H0, нет оснований счи...</td>\n",
       "    </tr>\n",
       "    <tr>\n",
       "      <th>4</th>\n",
       "      <td>instagram_new_adverts</td>\n",
       "      <td>yandex_direct</td>\n",
       "      <td>0.05</td>\n",
       "      <td>0.184</td>\n",
       "      <td>Не получилось отвергнуть H0, нет оснований счи...</td>\n",
       "    </tr>\n",
       "    <tr>\n",
       "      <th>5</th>\n",
       "      <td>instagram_new_adverts</td>\n",
       "      <td>youtube_channel_reklama</td>\n",
       "      <td>0.05</td>\n",
       "      <td>0.900</td>\n",
       "      <td>Не получилось отвергнуть H0, нет оснований счи...</td>\n",
       "    </tr>\n",
       "    <tr>\n",
       "      <th>6</th>\n",
       "      <td>yandex_direct</td>\n",
       "      <td>facebook_ads</td>\n",
       "      <td>0.05</td>\n",
       "      <td>0.034</td>\n",
       "      <td>Отвергаем H0 - между долями есть значимая разница</td>\n",
       "    </tr>\n",
       "    <tr>\n",
       "      <th>7</th>\n",
       "      <td>yandex_direct</td>\n",
       "      <td>instagram_new_adverts</td>\n",
       "      <td>0.05</td>\n",
       "      <td>0.184</td>\n",
       "      <td>Не получилось отвергнуть H0, нет оснований счи...</td>\n",
       "    </tr>\n",
       "    <tr>\n",
       "      <th>8</th>\n",
       "      <td>yandex_direct</td>\n",
       "      <td>youtube_channel_reklama</td>\n",
       "      <td>0.05</td>\n",
       "      <td>0.170</td>\n",
       "      <td>Не получилось отвергнуть H0, нет оснований счи...</td>\n",
       "    </tr>\n",
       "    <tr>\n",
       "      <th>9</th>\n",
       "      <td>youtube_channel_reklama</td>\n",
       "      <td>facebook_ads</td>\n",
       "      <td>0.05</td>\n",
       "      <td>0.508</td>\n",
       "      <td>Не получилось отвергнуть H0, нет оснований счи...</td>\n",
       "    </tr>\n",
       "    <tr>\n",
       "      <th>10</th>\n",
       "      <td>youtube_channel_reklama</td>\n",
       "      <td>instagram_new_adverts</td>\n",
       "      <td>0.05</td>\n",
       "      <td>0.900</td>\n",
       "      <td>Не получилось отвергнуть H0, нет оснований счи...</td>\n",
       "    </tr>\n",
       "    <tr>\n",
       "      <th>11</th>\n",
       "      <td>youtube_channel_reklama</td>\n",
       "      <td>yandex_direct</td>\n",
       "      <td>0.05</td>\n",
       "      <td>0.170</td>\n",
       "      <td>Не получилось отвергнуть H0, нет оснований счи...</td>\n",
       "    </tr>\n",
       "  </tbody>\n",
       "</table>\n",
       "</div>"
      ],
      "text/plain": [
       "                 Источник_1               Источник_2  alpha  p_value  \\\n",
       "0              facebook_ads    instagram_new_adverts   0.05    0.409   \n",
       "1              facebook_ads            yandex_direct   0.05    0.034   \n",
       "2              facebook_ads  youtube_channel_reklama   0.05    0.508   \n",
       "3     instagram_new_adverts             facebook_ads   0.05    0.409   \n",
       "4     instagram_new_adverts            yandex_direct   0.05    0.184   \n",
       "5     instagram_new_adverts  youtube_channel_reklama   0.05    0.900   \n",
       "6             yandex_direct             facebook_ads   0.05    0.034   \n",
       "7             yandex_direct    instagram_new_adverts   0.05    0.184   \n",
       "8             yandex_direct  youtube_channel_reklama   0.05    0.170   \n",
       "9   youtube_channel_reklama             facebook_ads   0.05    0.508   \n",
       "10  youtube_channel_reklama    instagram_new_adverts   0.05    0.900   \n",
       "11  youtube_channel_reklama            yandex_direct   0.05    0.170   \n",
       "\n",
       "                                            Результат  \n",
       "0   Не получилось отвергнуть H0, нет оснований счи...  \n",
       "1   Отвергаем H0 - между долями есть значимая разница  \n",
       "2   Не получилось отвергнуть H0, нет оснований счи...  \n",
       "3   Не получилось отвергнуть H0, нет оснований счи...  \n",
       "4   Не получилось отвергнуть H0, нет оснований счи...  \n",
       "5   Не получилось отвергнуть H0, нет оснований счи...  \n",
       "6   Отвергаем H0 - между долями есть значимая разница  \n",
       "7   Не получилось отвергнуть H0, нет оснований счи...  \n",
       "8   Не получилось отвергнуть H0, нет оснований счи...  \n",
       "9   Не получилось отвергнуть H0, нет оснований счи...  \n",
       "10  Не получилось отвергнуть H0, нет оснований счи...  \n",
       "11  Не получилось отвергнуть H0, нет оснований счи...  "
      ]
     },
     "execution_count": 72,
     "metadata": {},
     "output_type": "execute_result"
    }
   ],
   "source": [
    "create_results_table(pvp_test)"
   ]
  },
  {
   "cell_type": "markdown",
   "metadata": {},
   "source": [
    "Статистически значимые отличия между долями обнаружены в 2 случаях из 12.\n",
    "\n",
    "Однако прежде, чем перейти к делать какие-либо выводы, стоит проверить тест на наличие ошибок."
   ]
  },
  {
   "cell_type": "markdown",
   "metadata": {},
   "source": [
    "* **Анализ характера проведённого тестирования**\n",
    "\n",
    "Выше нами проводился множественный тест. В этом случае с каждой новой проверкой гипотезы растёт вероятность *ошибки 1-го рода*.\n",
    "\n",
    "*Ошибка 1-го рода* (ложнопозитивный результат) - это ситуация, когда отвергается нулевая гипотеза H0 несмотря на то, что она верна. Для снижения групповой вероятности этой ошибки при множественном тестировании можно скорректировать уровень значимости, например с помощью поправки Бонферрони:"
   ]
  },
  {
   "cell_type": "code",
   "execution_count": 73,
   "metadata": {},
   "outputs": [
    {
     "data": {
      "text/plain": [
       "'Скорректированный уровень значимости (поправка Бонферрони): 0.004'"
      ]
     },
     "metadata": {},
     "output_type": "display_data"
    }
   ],
   "source": [
    "# выбранный критический уровень статистической значимости\n",
    "alpha_value = .05\n",
    "# количество проведённых экспериментов\n",
    "exp_number = 12\n",
    "display(f'Скорректированный уровень значимости (поправка Бонферрони): {round(alpha_value / exp_number, 3)}')"
   ]
  },
  {
   "cell_type": "markdown",
   "metadata": {},
   "source": [
    "При уровне значимости 0.05 каждый пятый раз можно получать ложноположительный результат. Поскольку в тесте выше есть два позитивных результата, которые можно заподозрить в *ошибке 1-го рода*, рекомендуется уменьшить `alpha` до величины поправки Бонферрони.\n",
    "\n",
    "Проверим это предположение:"
   ]
  },
  {
   "cell_type": "code",
   "execution_count": 74,
   "metadata": {},
   "outputs": [
    {
     "data": {
      "text/html": [
       "<div>\n",
       "<style scoped>\n",
       "    .dataframe tbody tr th:only-of-type {\n",
       "        vertical-align: middle;\n",
       "    }\n",
       "\n",
       "    .dataframe tbody tr th {\n",
       "        vertical-align: top;\n",
       "    }\n",
       "\n",
       "    .dataframe thead th {\n",
       "        text-align: right;\n",
       "    }\n",
       "</style>\n",
       "<table border=\"1\" class=\"dataframe\">\n",
       "  <thead>\n",
       "    <tr style=\"text-align: right;\">\n",
       "      <th></th>\n",
       "      <th>Источник_1</th>\n",
       "      <th>Источник_2</th>\n",
       "      <th>alpha</th>\n",
       "      <th>p_value</th>\n",
       "      <th>Результат</th>\n",
       "    </tr>\n",
       "  </thead>\n",
       "  <tbody>\n",
       "    <tr>\n",
       "      <th>0</th>\n",
       "      <td>facebook_ads</td>\n",
       "      <td>instagram_new_adverts</td>\n",
       "      <td>0.004</td>\n",
       "      <td>0.409</td>\n",
       "      <td>Не получилось отвергнуть H0, нет оснований счи...</td>\n",
       "    </tr>\n",
       "    <tr>\n",
       "      <th>1</th>\n",
       "      <td>facebook_ads</td>\n",
       "      <td>yandex_direct</td>\n",
       "      <td>0.004</td>\n",
       "      <td>0.034</td>\n",
       "      <td>Не получилось отвергнуть H0, нет оснований счи...</td>\n",
       "    </tr>\n",
       "    <tr>\n",
       "      <th>2</th>\n",
       "      <td>facebook_ads</td>\n",
       "      <td>youtube_channel_reklama</td>\n",
       "      <td>0.004</td>\n",
       "      <td>0.508</td>\n",
       "      <td>Не получилось отвергнуть H0, нет оснований счи...</td>\n",
       "    </tr>\n",
       "    <tr>\n",
       "      <th>3</th>\n",
       "      <td>instagram_new_adverts</td>\n",
       "      <td>facebook_ads</td>\n",
       "      <td>0.004</td>\n",
       "      <td>0.409</td>\n",
       "      <td>Не получилось отвергнуть H0, нет оснований счи...</td>\n",
       "    </tr>\n",
       "    <tr>\n",
       "      <th>4</th>\n",
       "      <td>instagram_new_adverts</td>\n",
       "      <td>yandex_direct</td>\n",
       "      <td>0.004</td>\n",
       "      <td>0.184</td>\n",
       "      <td>Не получилось отвергнуть H0, нет оснований счи...</td>\n",
       "    </tr>\n",
       "    <tr>\n",
       "      <th>5</th>\n",
       "      <td>instagram_new_adverts</td>\n",
       "      <td>youtube_channel_reklama</td>\n",
       "      <td>0.004</td>\n",
       "      <td>0.900</td>\n",
       "      <td>Не получилось отвергнуть H0, нет оснований счи...</td>\n",
       "    </tr>\n",
       "    <tr>\n",
       "      <th>6</th>\n",
       "      <td>yandex_direct</td>\n",
       "      <td>facebook_ads</td>\n",
       "      <td>0.004</td>\n",
       "      <td>0.034</td>\n",
       "      <td>Не получилось отвергнуть H0, нет оснований счи...</td>\n",
       "    </tr>\n",
       "    <tr>\n",
       "      <th>7</th>\n",
       "      <td>yandex_direct</td>\n",
       "      <td>instagram_new_adverts</td>\n",
       "      <td>0.004</td>\n",
       "      <td>0.184</td>\n",
       "      <td>Не получилось отвергнуть H0, нет оснований счи...</td>\n",
       "    </tr>\n",
       "    <tr>\n",
       "      <th>8</th>\n",
       "      <td>yandex_direct</td>\n",
       "      <td>youtube_channel_reklama</td>\n",
       "      <td>0.004</td>\n",
       "      <td>0.170</td>\n",
       "      <td>Не получилось отвергнуть H0, нет оснований счи...</td>\n",
       "    </tr>\n",
       "    <tr>\n",
       "      <th>9</th>\n",
       "      <td>youtube_channel_reklama</td>\n",
       "      <td>facebook_ads</td>\n",
       "      <td>0.004</td>\n",
       "      <td>0.508</td>\n",
       "      <td>Не получилось отвергнуть H0, нет оснований счи...</td>\n",
       "    </tr>\n",
       "    <tr>\n",
       "      <th>10</th>\n",
       "      <td>youtube_channel_reklama</td>\n",
       "      <td>instagram_new_adverts</td>\n",
       "      <td>0.004</td>\n",
       "      <td>0.900</td>\n",
       "      <td>Не получилось отвергнуть H0, нет оснований счи...</td>\n",
       "    </tr>\n",
       "    <tr>\n",
       "      <th>11</th>\n",
       "      <td>youtube_channel_reklama</td>\n",
       "      <td>yandex_direct</td>\n",
       "      <td>0.004</td>\n",
       "      <td>0.170</td>\n",
       "      <td>Не получилось отвергнуть H0, нет оснований счи...</td>\n",
       "    </tr>\n",
       "  </tbody>\n",
       "</table>\n",
       "</div>"
      ],
      "text/plain": [
       "                 Источник_1               Источник_2  alpha  p_value  \\\n",
       "0              facebook_ads    instagram_new_adverts  0.004    0.409   \n",
       "1              facebook_ads            yandex_direct  0.004    0.034   \n",
       "2              facebook_ads  youtube_channel_reklama  0.004    0.508   \n",
       "3     instagram_new_adverts             facebook_ads  0.004    0.409   \n",
       "4     instagram_new_adverts            yandex_direct  0.004    0.184   \n",
       "5     instagram_new_adverts  youtube_channel_reklama  0.004    0.900   \n",
       "6             yandex_direct             facebook_ads  0.004    0.034   \n",
       "7             yandex_direct    instagram_new_adverts  0.004    0.184   \n",
       "8             yandex_direct  youtube_channel_reklama  0.004    0.170   \n",
       "9   youtube_channel_reklama             facebook_ads  0.004    0.508   \n",
       "10  youtube_channel_reklama    instagram_new_adverts  0.004    0.900   \n",
       "11  youtube_channel_reklama            yandex_direct  0.004    0.170   \n",
       "\n",
       "                                            Результат  \n",
       "0   Не получилось отвергнуть H0, нет оснований счи...  \n",
       "1   Не получилось отвергнуть H0, нет оснований счи...  \n",
       "2   Не получилось отвергнуть H0, нет оснований счи...  \n",
       "3   Не получилось отвергнуть H0, нет оснований счи...  \n",
       "4   Не получилось отвергнуть H0, нет оснований счи...  \n",
       "5   Не получилось отвергнуть H0, нет оснований счи...  \n",
       "6   Не получилось отвергнуть H0, нет оснований счи...  \n",
       "7   Не получилось отвергнуть H0, нет оснований счи...  \n",
       "8   Не получилось отвергнуть H0, нет оснований счи...  \n",
       "9   Не получилось отвергнуть H0, нет оснований счи...  \n",
       "10  Не получилось отвергнуть H0, нет оснований счи...  \n",
       "11  Не получилось отвергнуть H0, нет оснований счи...  "
      ]
     },
     "execution_count": 74,
     "metadata": {},
     "output_type": "execute_result"
    }
   ],
   "source": [
    "create_results_table(pvp_test, alpha=.004)"
   ]
  },
  {
   "cell_type": "markdown",
   "metadata": {},
   "source": [
    "При корректировке уровня значимости результат изменился, что подтверждает наши сомнения в ложно-положительности изначального результата.\n",
    "\n",
    "Если подытожить - **доли `pvp`-игроков для различных источников совпадают**."
   ]
  },
  {
   "cell_type": "markdown",
   "metadata": {},
   "source": [
    "### Промежуточный вывод\n",
    "\n",
    "* **Гипотеза о зависимости времени прохождения от стратегии**\n",
    "\n",
    "  В развёрнутом виде она звучала как: \n",
    "\n",
    "  *Время завершения уровня различается в зависимости способа прохождения:*\n",
    "  * *через реализацию проекта* (`pve`-стратегия)\n",
    "  * *через победу над первым игроком* (`pvp`-стратегия)\n",
    "  \n",
    "  Для проверки использовался t-тест. По его результатам можно заключить, что **`pvp`-стратегия реализуется быстрее `pve`** за счёт меньшего числа построенных объектов.\n",
    "  \n",
    "  \n",
    "* **Гипотеза о равенстве долей pvp-игроков из разных источников**\n",
    "\n",
    "  В развёрнутом виде она звучала как:\n",
    "  \n",
    "  *Доли `pvp`-игроков с различных источников совпадают*.\n",
    "  \n",
    "  Для проверки использовался множественный z-тест, где попарно сравнивались разные источники привлечения. Статистически значимые отличия между долями были обнаружены в 2 случаях из 12.\n",
    "  \n",
    "  Данный тест ввиду характера был проверен на ошибку 1-го рода и скорректирован на поправку Бонферрони. По результатам можно заключить, что **доли `pvp`-игроков для различных источников совпадают**.\n",
    "  \n",
    "  "
   ]
  },
  {
   "cell_type": "markdown",
   "metadata": {},
   "source": [
    "## Общий вывод"
   ]
  },
  {
   "cell_type": "markdown",
   "metadata": {},
   "source": [
    "Мы провели большую работу по анализу событий, совершенных в мобильной игре «Космические братья». Мы определили предпочитаемые игроками стратегии и, исходя из них, проверили гипотезы о поведении пользователей.\n",
    "\n",
    "Исследование велось в несколько этапов:\n",
    "\n",
    "1. ***Обзор данных***\n",
    "\n",
    "   В трёх датафреймах представлены данные первых пользователей приложения и информация об их рекламных активностях (с 4 по 10 мая включительно).\n",
    "\n",
    "   \n",
    "2. ***Предобработка данных***\n",
    "\n",
    "   Были внесены следующие изменения:\n",
    "\n",
    "\n",
    "* тип данных изменён на `datetime` в следующих столбцах датафреймов:\n",
    "  * в датафрейме `game_actions` - столбец `event_datetime`\n",
    "  * в датафрейме `ad_costs` - столбец `day`\n",
    "\n",
    "\n",
    "* пропущенные значения в датафрейме `game_actions` заменены на:\n",
    "  * значение-заглушку `object undefined` - в столбце `building_type`\n",
    "  \n",
    "  В остальных случаях пропуски оставлены без изменения.\n",
    "\n",
    "\n",
    "* в датафрейм `game_actions` добавлен столбец `day` с датой в формате `datetime`\n",
    "\n",
    "\n",
    "* данные из `game_actions` и `user_source` объединены в датафрейм `game_df`  \n",
    "\n",
    "  \n",
    "  В процессе предобработки нам не встретились ни явные аномалии (к примеру, отрицательные значения), ни неявные дубликаты.\n",
    "  \n",
    "  \n",
    "3. ***Исследовательский анализ данных***\n",
    "\n",
    "\n",
    "* Исходя из графика динамики стоимости привлечения:\n",
    "  * общий для всех источников период привлечения - с 3 по 9 мая 2020 г. (7 дней);\n",
    "  * для всех каналов динамика имеет схожий характер (тенденцию к снижению ближе к концу периода).\n",
    "\n",
    "\n",
    "* На графике динамики притока новых игроков 10 мая наблюдается резкий пик посещаемости (примерно 9 тыс. человек), который длится по 11 мая; далее кривая приближается к нулю. Т.к. мы располагаем данными одной когорты (с 3 по 9 мая), падение притока новых игроков к началу следующего месяца является закономерным и ожидаемым явлением.\n",
    "\n",
    "  Отметим, что по данной динамике нельзя судить о потере интереса к игре в принципе - лишь о влиянии конкретной рекламной кампании. Спустя неделю она показывает неплохие результаты: 16 мая общее количество новых игроков превышает 3.5 тыс.\n",
    "\n",
    "\n",
    "* Если сравнивать источники привлечения по относительным показателям, то ни по активности на пользователя, ни по доле победителей нет заметного разделения. Игроки из каждого канала в среднем строят по 9 зданий; доля победителей от общего числа игроков канала - около 43%.\n",
    "  \n",
    "  Однако, если взглянуть на САС, можно предложить следующее **ранжирование каналов (от самого выгодного к наименее выгодному)**:\n",
    "  1. **Youtube**\n",
    "  2. **Яндекс.Директ**\n",
    "  3. **Instagram**\n",
    "  4. **Facebook**\n",
    "\n",
    "  На наш взгляд, именно на этот факт следует обратить б*о*льшее внимание при планировании следующей рекламной кампании.\n",
    "\n",
    "\n",
    "* Из предоставленной заказчиком информации известно, что завершение первого уровня требует от игрока выполнения одного из двух условий: победы над первым врагом либо реализации проекта.\n",
    "\n",
    "  Первый уровень завершило 43% игроков (5817 чел.), но проект реализовало лишь 14% (1866 чел.). Информация же о победе над врагом нигде не зафиксирована. Значит, мы можем сделать вывод, что игроки, не выполнившие второе условие (реализацию проекта), завершили уровень благодаря выполнению первого условия.\n",
    "\n",
    "  Эти условия можно будет в дальнейшем назвать стратегиями - и анализировать поведение игроков, уже исходя из них.\n",
    "  \n",
    "  \n",
    "4. ***Определение и анализ стратегий победителей***\n",
    "\n",
    "\n",
    "* Из датафрейма `game_df` была выделена информация о победителях (игроках, заершивших первый уровень) `winners`. Общее количество - 5817 чел.\n",
    "\n",
    "\n",
    "* В качестве обозначений было принято, что:\n",
    "  * игроки, реализовавшие проект, используют стратегию `pve` (\"player vs environment\");\n",
    "  * игроки, завершившие уровень путём победы над первым врагом (т.е. не реализовавшие проект), используют стратегию `pvp` (\"player vs player\").\n",
    "  \n",
    "  Общее количество игроков по стратегиям:\n",
    "  * `pve` - 1866 чел.\n",
    "  * `pvp` - 3951 чел.\n",
    "   \n",
    "   \n",
    "* В данном исследовании мы договорились принять, что **время завершения уровня равно количеству действий (т.е. количеству построенных объектов) игрока**, необходимых для его завершения.\n",
    "  \n",
    "  Для каждого игрока было рассчитано:\n",
    "  * общее количество построенных объектов `objects_total`\n",
    "  * количество космопортов `spaceports`\n",
    "  * количество сборочных цехов `shops`\n",
    "  * количество исследовательских центров `centers`\n",
    "\n",
    "\n",
    "* Информация о количестве объектов была добавлена к датафрейму `winners` - и таким образом была сформирована основа для проверки статистических гипотез.\n",
    "  \n",
    "  \n",
    "* Был проведён краткий анализ стратегий победителей:\n",
    "\n",
    "  * *Доля игроков по рекламным источникам*\n",
    "    * лидируют `pvp`-игроки;\n",
    "    * соотношение `pvp` к `pve` - примерно 70:30;\n",
    "    * источник привлечения не влияет на соотношение долей.\n",
    "    \n",
    "  * *Доля построенных объектов по рекламным источникам*\n",
    "    * `pvp`-игроки строят б*о*льшее количество объектов;\n",
    "    * соотношение `pvp` к `pve` - примерно 60:40;\n",
    "    * источник привлечения не влияет на соотношение долей.\n",
    "  \n",
    "\n",
    "5. ***Проверка гипотез***\n",
    "\n",
    "\n",
    "* Первая гипотеза звучала как: \n",
    "\n",
    "  *Время завершения уровня различается в зависимости способа прохождения:*\n",
    "  * *через реализацию проекта* (`pve`-стратегия)\n",
    "  * *через победу над первым игроком* (`pvp`-стратегия)\n",
    "  \n",
    "  Для проверки использовался t-тест. По его результатам можно заключить, что **`pvp`-стратегия реализуется быстрее `pve`** за счёт меньшего числа построенных объектов. **Гипотеза подтвердилась**.\n",
    "  \n",
    "  \n",
    "* Вторая гипотеза звучала как:\n",
    "  \n",
    "  *Доли `pvp`-игроков с различных источников совпадают*.\n",
    "  \n",
    "  Для проверки использовался множественный z-тест, где попарно сравнивались разные источники привлечения. Статистически значимые отличия между долями были обнаружены в 2 случаях из 12.\n",
    "  \n",
    "  Данный тест ввиду характера был проверен на ошибку 1-го рода и скорректирован на поправку Бонферрони. По результатам можно заключить, что **доли `pvp`-игроков для различных источников совпадают**. По итогу - **гипотеза подтвердилась**.\n",
    "\n",
    "\n",
    "Ввиду вышеизложенного можно выдвинуть следующие рекомендации:\n",
    "\n",
    "* *При планировании системы монетизации игры стоит сосредоточиться на `pvp`-игроках, т.к. соревновательность с другими игроками позволяет быстрее проходить уровни - и, как следствие, обладает лучшей мотивацией для удержания.*\n",
    "\n",
    "  *Исходя из информации, полученной от заказчика, `pvp`-игроки сосредоточены на строительстве объектов определённого типа - космопортах. Про `pve`-игроков конкретной информации нет. Можно расширить исследование, проанализировать профили пользователей и, к примеру, вычислить среднее количество каждого из объектов для игроков-победителей. Тогда вариантом монетизации может послужить внедрённая в игру рекомендательная система, которая при приближении к некоторому среднему будет определять выбранную игроком стратегию - и давать возможность платно ускорить процесс строительства.*\n",
    "\n",
    "\n",
    "* *Поскольку в ходе проведённого исследования мы убедились в отсутствии зависимости поведения игроков от источника привлечения, последние могут сравниваться, только исходя из САС. В ходе планирования следующей рекламной кампании следует отдавать предпочтение Youtube и Яндекс.Директ. Полный порядок ранжирования был приведён в п.3 выше.*"
   ]
  }
 ],
 "metadata": {
  "ExecuteTimeLog": [
   {
    "duration": 1421,
    "start_time": "2022-10-10T10:07:29.226Z"
   },
   {
    "duration": 87,
    "start_time": "2022-10-10T10:07:30.649Z"
   },
   {
    "duration": 104,
    "start_time": "2022-10-10T10:07:30.738Z"
   },
   {
    "duration": 0,
    "start_time": "2022-10-10T10:07:30.844Z"
   },
   {
    "duration": 0,
    "start_time": "2022-10-10T10:07:30.846Z"
   },
   {
    "duration": 612,
    "start_time": "2022-10-10T10:16:59.242Z"
   },
   {
    "duration": 359,
    "start_time": "2022-10-10T10:17:12.123Z"
   },
   {
    "duration": 1615,
    "start_time": "2022-10-10T10:17:30.164Z"
   },
   {
    "duration": 270,
    "start_time": "2022-10-10T10:17:31.781Z"
   },
   {
    "duration": 12,
    "start_time": "2022-10-10T10:17:32.053Z"
   },
   {
    "duration": 8,
    "start_time": "2022-10-10T10:17:32.066Z"
   },
   {
    "duration": 8,
    "start_time": "2022-10-10T10:17:32.076Z"
   },
   {
    "duration": 59,
    "start_time": "2022-10-10T10:18:52.774Z"
   },
   {
    "duration": 47,
    "start_time": "2022-10-10T10:29:26.302Z"
   },
   {
    "duration": 46,
    "start_time": "2022-10-10T10:29:54.539Z"
   },
   {
    "duration": 94,
    "start_time": "2022-10-10T10:30:28.556Z"
   },
   {
    "duration": 11,
    "start_time": "2022-10-10T10:31:30.531Z"
   },
   {
    "duration": 12,
    "start_time": "2022-10-10T10:32:56.040Z"
   },
   {
    "duration": 26,
    "start_time": "2022-10-10T10:33:17.464Z"
   },
   {
    "duration": 17,
    "start_time": "2022-10-10T10:33:57.357Z"
   },
   {
    "duration": 12,
    "start_time": "2022-10-10T10:34:39.036Z"
   },
   {
    "duration": 48,
    "start_time": "2022-10-10T10:35:07.317Z"
   },
   {
    "duration": 74,
    "start_time": "2022-10-10T10:36:48.683Z"
   },
   {
    "duration": 7,
    "start_time": "2022-10-10T10:37:33.225Z"
   },
   {
    "duration": 6,
    "start_time": "2022-10-10T10:38:13.230Z"
   },
   {
    "duration": 9,
    "start_time": "2022-10-10T10:38:24.417Z"
   },
   {
    "duration": 14,
    "start_time": "2022-10-10T10:39:31.489Z"
   },
   {
    "duration": 15,
    "start_time": "2022-10-10T10:39:45.074Z"
   },
   {
    "duration": 14,
    "start_time": "2022-10-10T10:41:18.133Z"
   },
   {
    "duration": 41,
    "start_time": "2022-10-10T10:42:15.115Z"
   },
   {
    "duration": 3,
    "start_time": "2022-10-10T10:44:12.775Z"
   },
   {
    "duration": 379,
    "start_time": "2022-10-10T10:46:44.476Z"
   },
   {
    "duration": 1209,
    "start_time": "2022-10-10T10:47:32.117Z"
   },
   {
    "duration": 268,
    "start_time": "2022-10-10T10:47:33.327Z"
   },
   {
    "duration": 13,
    "start_time": "2022-10-10T10:47:33.596Z"
   },
   {
    "duration": 9,
    "start_time": "2022-10-10T10:47:33.611Z"
   },
   {
    "duration": 14,
    "start_time": "2022-10-10T10:47:33.621Z"
   },
   {
    "duration": 76,
    "start_time": "2022-10-10T10:47:33.636Z"
   },
   {
    "duration": 57,
    "start_time": "2022-10-10T10:47:33.713Z"
   },
   {
    "duration": 72,
    "start_time": "2022-10-10T10:47:33.772Z"
   },
   {
    "duration": 76,
    "start_time": "2022-10-10T10:47:33.846Z"
   },
   {
    "duration": 15,
    "start_time": "2022-10-10T10:47:33.939Z"
   },
   {
    "duration": 16,
    "start_time": "2022-10-10T10:47:33.955Z"
   },
   {
    "duration": 23,
    "start_time": "2022-10-10T10:47:33.973Z"
   },
   {
    "duration": 15,
    "start_time": "2022-10-10T10:47:33.998Z"
   },
   {
    "duration": 14,
    "start_time": "2022-10-10T10:47:34.038Z"
   },
   {
    "duration": 42,
    "start_time": "2022-10-10T10:47:34.054Z"
   },
   {
    "duration": 92,
    "start_time": "2022-10-10T10:47:34.098Z"
   },
   {
    "duration": 7,
    "start_time": "2022-10-10T10:47:34.191Z"
   },
   {
    "duration": 8,
    "start_time": "2022-10-10T10:47:34.200Z"
   },
   {
    "duration": 34,
    "start_time": "2022-10-10T10:47:34.209Z"
   },
   {
    "duration": 22,
    "start_time": "2022-10-10T10:47:34.245Z"
   },
   {
    "duration": 15,
    "start_time": "2022-10-10T10:47:34.269Z"
   },
   {
    "duration": 53,
    "start_time": "2022-10-10T10:47:34.286Z"
   },
   {
    "duration": 7,
    "start_time": "2022-10-10T10:47:34.341Z"
   },
   {
    "duration": 390,
    "start_time": "2022-10-10T10:47:34.350Z"
   },
   {
    "duration": 4,
    "start_time": "2022-10-10T10:48:44.458Z"
   },
   {
    "duration": 303,
    "start_time": "2022-10-10T10:48:46.808Z"
   },
   {
    "duration": 3,
    "start_time": "2022-10-10T10:49:14.654Z"
   },
   {
    "duration": 4,
    "start_time": "2022-10-10T10:49:45.649Z"
   },
   {
    "duration": 309,
    "start_time": "2022-10-10T10:49:48.057Z"
   },
   {
    "duration": 487,
    "start_time": "2022-10-10T10:50:18.097Z"
   },
   {
    "duration": 303,
    "start_time": "2022-10-10T10:50:23.433Z"
   },
   {
    "duration": 123,
    "start_time": "2022-10-10T12:06:13.563Z"
   },
   {
    "duration": 213,
    "start_time": "2022-10-10T12:08:15.255Z"
   },
   {
    "duration": 386,
    "start_time": "2022-10-10T12:08:56.617Z"
   },
   {
    "duration": 61,
    "start_time": "2022-10-10T12:09:31.375Z"
   },
   {
    "duration": 11,
    "start_time": "2022-10-10T12:09:42.932Z"
   },
   {
    "duration": 11,
    "start_time": "2022-10-10T12:09:46.401Z"
   },
   {
    "duration": 38,
    "start_time": "2022-10-10T12:10:00.110Z"
   },
   {
    "duration": 37,
    "start_time": "2022-10-10T12:10:25.817Z"
   },
   {
    "duration": 38,
    "start_time": "2022-10-10T12:10:51.451Z"
   },
   {
    "duration": 38,
    "start_time": "2022-10-10T12:11:09.392Z"
   },
   {
    "duration": 13,
    "start_time": "2022-10-10T12:11:25.237Z"
   },
   {
    "duration": 37,
    "start_time": "2022-10-10T12:11:28.465Z"
   },
   {
    "duration": 12,
    "start_time": "2022-10-10T12:12:15.485Z"
   },
   {
    "duration": 12,
    "start_time": "2022-10-10T12:12:47.784Z"
   },
   {
    "duration": 42,
    "start_time": "2022-10-10T12:13:14.264Z"
   },
   {
    "duration": 122,
    "start_time": "2022-10-10T12:13:42.477Z"
   },
   {
    "duration": 37,
    "start_time": "2022-10-10T12:14:02.349Z"
   },
   {
    "duration": 37,
    "start_time": "2022-10-10T12:14:30.393Z"
   },
   {
    "duration": 38,
    "start_time": "2022-10-10T12:14:50.016Z"
   },
   {
    "duration": 38,
    "start_time": "2022-10-10T12:15:34.569Z"
   },
   {
    "duration": 39,
    "start_time": "2022-10-10T12:15:53.738Z"
   },
   {
    "duration": 43,
    "start_time": "2022-10-10T12:16:28.438Z"
   },
   {
    "duration": 221,
    "start_time": "2022-10-10T12:18:29.162Z"
   },
   {
    "duration": 224,
    "start_time": "2022-10-10T12:19:54.521Z"
   },
   {
    "duration": 8,
    "start_time": "2022-10-10T12:23:56.942Z"
   },
   {
    "duration": 19,
    "start_time": "2022-10-10T12:25:51.082Z"
   },
   {
    "duration": 15,
    "start_time": "2022-10-10T12:26:06.881Z"
   },
   {
    "duration": 188,
    "start_time": "2022-10-10T12:26:48.065Z"
   },
   {
    "duration": 186,
    "start_time": "2022-10-10T12:27:48.993Z"
   },
   {
    "duration": 241,
    "start_time": "2022-10-10T12:28:27.101Z"
   },
   {
    "duration": 1350,
    "start_time": "2022-10-10T12:28:37.433Z"
   },
   {
    "duration": 288,
    "start_time": "2022-10-10T12:28:38.785Z"
   },
   {
    "duration": 13,
    "start_time": "2022-10-10T12:28:39.075Z"
   },
   {
    "duration": 8,
    "start_time": "2022-10-10T12:28:39.091Z"
   },
   {
    "duration": 8,
    "start_time": "2022-10-10T12:28:39.101Z"
   },
   {
    "duration": 67,
    "start_time": "2022-10-10T12:28:39.110Z"
   },
   {
    "duration": 66,
    "start_time": "2022-10-10T12:28:39.179Z"
   },
   {
    "duration": 46,
    "start_time": "2022-10-10T12:28:39.247Z"
   },
   {
    "duration": 93,
    "start_time": "2022-10-10T12:28:39.295Z"
   },
   {
    "duration": 12,
    "start_time": "2022-10-10T12:28:39.390Z"
   },
   {
    "duration": 15,
    "start_time": "2022-10-10T12:28:39.404Z"
   },
   {
    "duration": 37,
    "start_time": "2022-10-10T12:28:39.421Z"
   },
   {
    "duration": 14,
    "start_time": "2022-10-10T12:28:39.460Z"
   },
   {
    "duration": 12,
    "start_time": "2022-10-10T12:28:39.478Z"
   },
   {
    "duration": 60,
    "start_time": "2022-10-10T12:28:39.492Z"
   },
   {
    "duration": 94,
    "start_time": "2022-10-10T12:28:39.555Z"
   },
   {
    "duration": 7,
    "start_time": "2022-10-10T12:28:39.651Z"
   },
   {
    "duration": 13,
    "start_time": "2022-10-10T12:28:39.660Z"
   },
   {
    "duration": 18,
    "start_time": "2022-10-10T12:28:39.675Z"
   },
   {
    "duration": 19,
    "start_time": "2022-10-10T12:28:39.694Z"
   },
   {
    "duration": 17,
    "start_time": "2022-10-10T12:28:39.738Z"
   },
   {
    "duration": 37,
    "start_time": "2022-10-10T12:28:39.757Z"
   },
   {
    "duration": 4,
    "start_time": "2022-10-10T12:28:39.795Z"
   },
   {
    "duration": 437,
    "start_time": "2022-10-10T12:28:39.801Z"
   },
   {
    "duration": 220,
    "start_time": "2022-10-10T12:28:40.240Z"
   },
   {
    "duration": 8,
    "start_time": "2022-10-10T12:28:40.463Z"
   },
   {
    "duration": 251,
    "start_time": "2022-10-10T12:28:40.472Z"
   },
   {
    "duration": 428,
    "start_time": "2022-10-10T12:28:40.725Z"
   },
   {
    "duration": 38,
    "start_time": "2022-10-10T12:30:19.020Z"
   },
   {
    "duration": 1414,
    "start_time": "2022-10-10T15:59:26.568Z"
   },
   {
    "duration": 617,
    "start_time": "2022-10-10T15:59:27.984Z"
   },
   {
    "duration": 13,
    "start_time": "2022-10-10T15:59:28.603Z"
   },
   {
    "duration": 28,
    "start_time": "2022-10-10T15:59:28.617Z"
   },
   {
    "duration": 47,
    "start_time": "2022-10-10T15:59:28.647Z"
   },
   {
    "duration": 79,
    "start_time": "2022-10-10T15:59:28.696Z"
   },
   {
    "duration": 38,
    "start_time": "2022-10-10T15:59:28.776Z"
   },
   {
    "duration": 70,
    "start_time": "2022-10-10T15:59:28.815Z"
   },
   {
    "duration": 72,
    "start_time": "2022-10-10T15:59:28.886Z"
   },
   {
    "duration": 27,
    "start_time": "2022-10-10T15:59:28.960Z"
   },
   {
    "duration": 32,
    "start_time": "2022-10-10T15:59:28.988Z"
   },
   {
    "duration": 49,
    "start_time": "2022-10-10T15:59:29.022Z"
   },
   {
    "duration": 14,
    "start_time": "2022-10-10T15:59:29.072Z"
   },
   {
    "duration": 43,
    "start_time": "2022-10-10T15:59:29.089Z"
   },
   {
    "duration": 41,
    "start_time": "2022-10-10T15:59:29.134Z"
   },
   {
    "duration": 123,
    "start_time": "2022-10-10T15:59:29.177Z"
   },
   {
    "duration": 6,
    "start_time": "2022-10-10T15:59:29.302Z"
   },
   {
    "duration": 26,
    "start_time": "2022-10-10T15:59:29.310Z"
   },
   {
    "duration": 19,
    "start_time": "2022-10-10T15:59:29.338Z"
   },
   {
    "duration": 26,
    "start_time": "2022-10-10T15:59:29.359Z"
   },
   {
    "duration": 17,
    "start_time": "2022-10-10T15:59:29.387Z"
   },
   {
    "duration": 37,
    "start_time": "2022-10-10T15:59:29.406Z"
   },
   {
    "duration": 8,
    "start_time": "2022-10-10T15:59:29.445Z"
   },
   {
    "duration": 383,
    "start_time": "2022-10-10T15:59:29.454Z"
   },
   {
    "duration": 205,
    "start_time": "2022-10-10T15:59:29.839Z"
   },
   {
    "duration": 424,
    "start_time": "2022-10-10T15:59:30.046Z"
   },
   {
    "duration": 313,
    "start_time": "2022-10-10T15:59:30.472Z"
   },
   {
    "duration": 37,
    "start_time": "2022-10-10T15:59:30.787Z"
   },
   {
    "duration": 10,
    "start_time": "2022-10-10T16:01:10.211Z"
   },
   {
    "duration": 8,
    "start_time": "2022-10-10T16:01:21.206Z"
   },
   {
    "duration": 12,
    "start_time": "2022-10-10T16:01:30.531Z"
   },
   {
    "duration": 8,
    "start_time": "2022-10-10T16:01:51.301Z"
   },
   {
    "duration": 10,
    "start_time": "2022-10-10T16:02:03.612Z"
   },
   {
    "duration": 26,
    "start_time": "2022-10-10T16:04:32.652Z"
   },
   {
    "duration": 80,
    "start_time": "2022-10-10T16:08:49.532Z"
   },
   {
    "duration": 36,
    "start_time": "2022-10-10T16:09:15.801Z"
   },
   {
    "duration": 67,
    "start_time": "2022-10-10T16:18:31.450Z"
   },
   {
    "duration": 26,
    "start_time": "2022-10-10T16:18:47.557Z"
   },
   {
    "duration": 14,
    "start_time": "2022-10-10T16:18:56.582Z"
   },
   {
    "duration": 44,
    "start_time": "2022-10-10T16:19:48.382Z"
   },
   {
    "duration": 32,
    "start_time": "2022-10-10T16:21:52.616Z"
   },
   {
    "duration": 25,
    "start_time": "2022-10-10T16:22:45.785Z"
   },
   {
    "duration": 30,
    "start_time": "2022-10-10T16:23:14.916Z"
   },
   {
    "duration": 11,
    "start_time": "2022-10-10T16:23:57.002Z"
   },
   {
    "duration": 61,
    "start_time": "2022-10-10T16:25:10.903Z"
   },
   {
    "duration": 59,
    "start_time": "2022-10-10T16:25:42.267Z"
   },
   {
    "duration": 66,
    "start_time": "2022-10-10T16:26:19.556Z"
   },
   {
    "duration": 59,
    "start_time": "2022-10-10T16:26:26.347Z"
   },
   {
    "duration": 60,
    "start_time": "2022-10-10T16:27:05.772Z"
   },
   {
    "duration": 1196,
    "start_time": "2022-10-10T16:27:12.650Z"
   },
   {
    "duration": 245,
    "start_time": "2022-10-10T16:27:13.848Z"
   },
   {
    "duration": 11,
    "start_time": "2022-10-10T16:27:14.094Z"
   },
   {
    "duration": 10,
    "start_time": "2022-10-10T16:27:14.107Z"
   },
   {
    "duration": 9,
    "start_time": "2022-10-10T16:27:14.118Z"
   },
   {
    "duration": 70,
    "start_time": "2022-10-10T16:27:14.128Z"
   },
   {
    "duration": 37,
    "start_time": "2022-10-10T16:27:14.200Z"
   },
   {
    "duration": 65,
    "start_time": "2022-10-10T16:27:14.239Z"
   },
   {
    "duration": 77,
    "start_time": "2022-10-10T16:27:14.306Z"
   },
   {
    "duration": 11,
    "start_time": "2022-10-10T16:27:14.385Z"
   },
   {
    "duration": 14,
    "start_time": "2022-10-10T16:27:14.397Z"
   },
   {
    "duration": 18,
    "start_time": "2022-10-10T16:27:14.412Z"
   },
   {
    "duration": 12,
    "start_time": "2022-10-10T16:27:14.432Z"
   },
   {
    "duration": 34,
    "start_time": "2022-10-10T16:27:14.446Z"
   },
   {
    "duration": 27,
    "start_time": "2022-10-10T16:27:14.481Z"
   },
   {
    "duration": 79,
    "start_time": "2022-10-10T16:27:14.509Z"
   },
   {
    "duration": 5,
    "start_time": "2022-10-10T16:27:14.590Z"
   },
   {
    "duration": 9,
    "start_time": "2022-10-10T16:27:14.597Z"
   },
   {
    "duration": 16,
    "start_time": "2022-10-10T16:27:14.607Z"
   },
   {
    "duration": 14,
    "start_time": "2022-10-10T16:27:14.624Z"
   },
   {
    "duration": 19,
    "start_time": "2022-10-10T16:27:14.640Z"
   },
   {
    "duration": 41,
    "start_time": "2022-10-10T16:27:14.660Z"
   },
   {
    "duration": 4,
    "start_time": "2022-10-10T16:27:14.702Z"
   },
   {
    "duration": 383,
    "start_time": "2022-10-10T16:27:14.708Z"
   },
   {
    "duration": 185,
    "start_time": "2022-10-10T16:27:15.093Z"
   },
   {
    "duration": 440,
    "start_time": "2022-10-10T16:27:15.280Z"
   },
   {
    "duration": 63,
    "start_time": "2022-10-10T16:27:15.722Z"
   },
   {
    "duration": 90,
    "start_time": "2022-10-10T16:27:15.788Z"
   },
   {
    "duration": 63,
    "start_time": "2022-10-10T16:27:15.879Z"
   },
   {
    "duration": 223,
    "start_time": "2022-10-10T16:27:15.944Z"
   },
   {
    "duration": 39,
    "start_time": "2022-10-10T16:27:16.168Z"
   },
   {
    "duration": 79,
    "start_time": "2022-10-10T16:31:55.276Z"
   },
   {
    "duration": 366,
    "start_time": "2022-10-10T16:33:53.155Z"
   },
   {
    "duration": 11,
    "start_time": "2022-10-10T16:37:52.886Z"
   },
   {
    "duration": 286,
    "start_time": "2022-10-10T16:40:03.249Z"
   },
   {
    "duration": 9,
    "start_time": "2022-10-10T16:43:53.474Z"
   },
   {
    "duration": 8,
    "start_time": "2022-10-10T16:44:04.437Z"
   },
   {
    "duration": 182,
    "start_time": "2022-10-10T16:45:49.595Z"
   },
   {
    "duration": 1322,
    "start_time": "2022-10-11T11:08:22.594Z"
   },
   {
    "duration": 623,
    "start_time": "2022-10-11T11:08:23.918Z"
   },
   {
    "duration": 13,
    "start_time": "2022-10-11T11:08:24.542Z"
   },
   {
    "duration": 8,
    "start_time": "2022-10-11T11:08:24.557Z"
   },
   {
    "duration": 12,
    "start_time": "2022-10-11T11:08:24.566Z"
   },
   {
    "duration": 85,
    "start_time": "2022-10-11T11:08:24.580Z"
   },
   {
    "duration": 39,
    "start_time": "2022-10-11T11:08:24.666Z"
   },
   {
    "duration": 70,
    "start_time": "2022-10-11T11:08:24.707Z"
   },
   {
    "duration": 100,
    "start_time": "2022-10-11T11:08:24.778Z"
   },
   {
    "duration": 11,
    "start_time": "2022-10-11T11:08:24.882Z"
   },
   {
    "duration": 20,
    "start_time": "2022-10-11T11:08:24.894Z"
   },
   {
    "duration": 26,
    "start_time": "2022-10-11T11:08:24.915Z"
   },
   {
    "duration": 11,
    "start_time": "2022-10-11T11:08:24.943Z"
   },
   {
    "duration": 23,
    "start_time": "2022-10-11T11:08:24.956Z"
   },
   {
    "duration": 32,
    "start_time": "2022-10-11T11:08:24.981Z"
   },
   {
    "duration": 73,
    "start_time": "2022-10-11T11:08:25.015Z"
   },
   {
    "duration": 5,
    "start_time": "2022-10-11T11:08:25.090Z"
   },
   {
    "duration": 7,
    "start_time": "2022-10-11T11:08:25.097Z"
   },
   {
    "duration": 32,
    "start_time": "2022-10-11T11:08:25.105Z"
   },
   {
    "duration": 22,
    "start_time": "2022-10-11T11:08:25.138Z"
   },
   {
    "duration": 28,
    "start_time": "2022-10-11T11:08:25.161Z"
   },
   {
    "duration": 31,
    "start_time": "2022-10-11T11:08:25.191Z"
   },
   {
    "duration": 8,
    "start_time": "2022-10-11T11:08:25.224Z"
   },
   {
    "duration": 400,
    "start_time": "2022-10-11T11:08:25.233Z"
   },
   {
    "duration": 182,
    "start_time": "2022-10-11T11:08:25.635Z"
   },
   {
    "duration": 441,
    "start_time": "2022-10-11T11:08:25.818Z"
   },
   {
    "duration": 72,
    "start_time": "2022-10-11T11:08:26.261Z"
   },
   {
    "duration": 114,
    "start_time": "2022-10-11T11:08:26.337Z"
   },
   {
    "duration": 105,
    "start_time": "2022-10-11T11:08:26.453Z"
   },
   {
    "duration": 411,
    "start_time": "2022-10-11T11:08:26.560Z"
   },
   {
    "duration": 309,
    "start_time": "2022-10-11T11:08:26.973Z"
   },
   {
    "duration": 205,
    "start_time": "2022-10-11T11:08:27.284Z"
   },
   {
    "duration": 213,
    "start_time": "2022-10-11T11:08:27.491Z"
   },
   {
    "duration": 40,
    "start_time": "2022-10-11T11:08:27.705Z"
   },
   {
    "duration": 1190,
    "start_time": "2022-10-11T11:33:11.466Z"
   },
   {
    "duration": 271,
    "start_time": "2022-10-11T11:33:12.659Z"
   },
   {
    "duration": 12,
    "start_time": "2022-10-11T11:33:12.932Z"
   },
   {
    "duration": 13,
    "start_time": "2022-10-11T11:33:12.946Z"
   },
   {
    "duration": 10,
    "start_time": "2022-10-11T11:33:12.961Z"
   },
   {
    "duration": 83,
    "start_time": "2022-10-11T11:33:12.973Z"
   },
   {
    "duration": 39,
    "start_time": "2022-10-11T11:33:13.057Z"
   },
   {
    "duration": 81,
    "start_time": "2022-10-11T11:33:13.098Z"
   },
   {
    "duration": 89,
    "start_time": "2022-10-11T11:33:13.181Z"
   },
   {
    "duration": 12,
    "start_time": "2022-10-11T11:33:13.271Z"
   },
   {
    "duration": 12,
    "start_time": "2022-10-11T11:33:13.285Z"
   },
   {
    "duration": 35,
    "start_time": "2022-10-11T11:33:13.299Z"
   },
   {
    "duration": 12,
    "start_time": "2022-10-11T11:33:13.336Z"
   },
   {
    "duration": 10,
    "start_time": "2022-10-11T11:33:13.350Z"
   },
   {
    "duration": 33,
    "start_time": "2022-10-11T11:33:13.362Z"
   },
   {
    "duration": 102,
    "start_time": "2022-10-11T11:33:13.396Z"
   },
   {
    "duration": 6,
    "start_time": "2022-10-11T11:33:13.499Z"
   },
   {
    "duration": 9,
    "start_time": "2022-10-11T11:33:13.506Z"
   },
   {
    "duration": 14,
    "start_time": "2022-10-11T11:33:13.534Z"
   },
   {
    "duration": 18,
    "start_time": "2022-10-11T11:33:13.549Z"
   },
   {
    "duration": 18,
    "start_time": "2022-10-11T11:33:13.568Z"
   },
   {
    "duration": 50,
    "start_time": "2022-10-11T11:33:13.588Z"
   },
   {
    "duration": 3,
    "start_time": "2022-10-11T11:33:13.640Z"
   },
   {
    "duration": 392,
    "start_time": "2022-10-11T11:33:13.645Z"
   },
   {
    "duration": 203,
    "start_time": "2022-10-11T11:33:14.039Z"
   },
   {
    "duration": 416,
    "start_time": "2022-10-11T11:33:14.245Z"
   },
   {
    "duration": 72,
    "start_time": "2022-10-11T11:33:14.663Z"
   },
   {
    "duration": 100,
    "start_time": "2022-10-11T11:33:14.736Z"
   },
   {
    "duration": 67,
    "start_time": "2022-10-11T11:33:14.837Z"
   },
   {
    "duration": 433,
    "start_time": "2022-10-11T11:33:14.906Z"
   },
   {
    "duration": 327,
    "start_time": "2022-10-11T11:33:15.340Z"
   },
   {
    "duration": 200,
    "start_time": "2022-10-11T11:33:15.669Z"
   },
   {
    "duration": 219,
    "start_time": "2022-10-11T11:33:15.871Z"
   },
   {
    "duration": 47,
    "start_time": "2022-10-11T11:33:16.091Z"
   },
   {
    "duration": 33,
    "start_time": "2022-10-11T11:45:37.581Z"
   },
   {
    "duration": 34,
    "start_time": "2022-10-11T11:46:13.319Z"
   },
   {
    "duration": 27,
    "start_time": "2022-10-11T11:47:02.881Z"
   },
   {
    "duration": 24,
    "start_time": "2022-10-11T11:47:10.437Z"
   },
   {
    "duration": 24,
    "start_time": "2022-10-11T11:47:12.113Z"
   },
   {
    "duration": 26,
    "start_time": "2022-10-11T11:47:13.502Z"
   },
   {
    "duration": 20,
    "start_time": "2022-10-11T11:47:47.979Z"
   },
   {
    "duration": 40,
    "start_time": "2022-10-11T11:47:56.532Z"
   },
   {
    "duration": 32,
    "start_time": "2022-10-11T11:48:32.618Z"
   },
   {
    "duration": 57533,
    "start_time": "2022-10-11T11:51:13.684Z"
   },
   {
    "duration": 23,
    "start_time": "2022-10-11T11:59:24.050Z"
   },
   {
    "duration": 24,
    "start_time": "2022-10-11T12:00:58.048Z"
   },
   {
    "duration": 1228,
    "start_time": "2022-10-11T12:04:43.199Z"
   },
   {
    "duration": 249,
    "start_time": "2022-10-11T12:04:44.429Z"
   },
   {
    "duration": 12,
    "start_time": "2022-10-11T12:04:44.680Z"
   },
   {
    "duration": 9,
    "start_time": "2022-10-11T12:04:44.693Z"
   },
   {
    "duration": 7,
    "start_time": "2022-10-11T12:04:44.704Z"
   },
   {
    "duration": 53,
    "start_time": "2022-10-11T12:04:44.712Z"
   },
   {
    "duration": 36,
    "start_time": "2022-10-11T12:04:44.766Z"
   },
   {
    "duration": 60,
    "start_time": "2022-10-11T12:04:44.803Z"
   },
   {
    "duration": 76,
    "start_time": "2022-10-11T12:04:44.865Z"
   },
   {
    "duration": 10,
    "start_time": "2022-10-11T12:04:44.943Z"
   },
   {
    "duration": 12,
    "start_time": "2022-10-11T12:04:44.955Z"
   },
   {
    "duration": 18,
    "start_time": "2022-10-11T12:04:44.969Z"
   },
   {
    "duration": 12,
    "start_time": "2022-10-11T12:04:44.988Z"
   },
   {
    "duration": 37,
    "start_time": "2022-10-11T12:04:45.003Z"
   },
   {
    "duration": 38,
    "start_time": "2022-10-11T12:04:45.041Z"
   },
   {
    "duration": 79,
    "start_time": "2022-10-11T12:04:45.081Z"
   },
   {
    "duration": 5,
    "start_time": "2022-10-11T12:04:45.161Z"
   },
   {
    "duration": 11,
    "start_time": "2022-10-11T12:04:45.168Z"
   },
   {
    "duration": 45,
    "start_time": "2022-10-11T12:04:45.180Z"
   },
   {
    "duration": 29,
    "start_time": "2022-10-11T12:04:45.227Z"
   },
   {
    "duration": 18,
    "start_time": "2022-10-11T12:04:45.258Z"
   },
   {
    "duration": 41,
    "start_time": "2022-10-11T12:04:45.278Z"
   },
   {
    "duration": 25,
    "start_time": "2022-10-11T12:04:45.321Z"
   },
   {
    "duration": 43,
    "start_time": "2022-10-11T12:04:45.347Z"
   },
   {
    "duration": 72,
    "start_time": "2022-10-11T12:04:45.392Z"
   },
   {
    "duration": 4,
    "start_time": "2022-10-11T12:04:45.465Z"
   },
   {
    "duration": 383,
    "start_time": "2022-10-11T12:04:45.470Z"
   },
   {
    "duration": 193,
    "start_time": "2022-10-11T12:04:45.854Z"
   },
   {
    "duration": 471,
    "start_time": "2022-10-11T12:04:46.049Z"
   },
   {
    "duration": 456,
    "start_time": "2022-10-11T12:04:46.522Z"
   },
   {
    "duration": 333,
    "start_time": "2022-10-11T12:04:46.980Z"
   },
   {
    "duration": 200,
    "start_time": "2022-10-11T12:04:47.315Z"
   },
   {
    "duration": 219,
    "start_time": "2022-10-11T12:04:47.516Z"
   },
   {
    "duration": 36,
    "start_time": "2022-10-11T12:04:47.737Z"
   },
   {
    "duration": 162,
    "start_time": "2022-10-11T12:05:37.931Z"
   },
   {
    "duration": 1522,
    "start_time": "2022-10-11T12:06:21.399Z"
   },
   {
    "duration": 253,
    "start_time": "2022-10-11T12:06:22.923Z"
   },
   {
    "duration": 13,
    "start_time": "2022-10-11T12:06:23.177Z"
   },
   {
    "duration": 8,
    "start_time": "2022-10-11T12:06:23.192Z"
   },
   {
    "duration": 7,
    "start_time": "2022-10-11T12:06:23.202Z"
   },
   {
    "duration": 70,
    "start_time": "2022-10-11T12:06:23.210Z"
   },
   {
    "duration": 55,
    "start_time": "2022-10-11T12:06:23.282Z"
   },
   {
    "duration": 46,
    "start_time": "2022-10-11T12:06:23.339Z"
   },
   {
    "duration": 93,
    "start_time": "2022-10-11T12:06:23.387Z"
   },
   {
    "duration": 12,
    "start_time": "2022-10-11T12:06:23.482Z"
   },
   {
    "duration": 19,
    "start_time": "2022-10-11T12:06:23.495Z"
   },
   {
    "duration": 32,
    "start_time": "2022-10-11T12:06:23.516Z"
   },
   {
    "duration": 15,
    "start_time": "2022-10-11T12:06:23.549Z"
   },
   {
    "duration": 13,
    "start_time": "2022-10-11T12:06:23.566Z"
   },
   {
    "duration": 60,
    "start_time": "2022-10-11T12:06:23.581Z"
   },
   {
    "duration": 65,
    "start_time": "2022-10-11T12:06:23.642Z"
   },
   {
    "duration": 7,
    "start_time": "2022-10-11T12:06:23.708Z"
   },
   {
    "duration": 21,
    "start_time": "2022-10-11T12:06:23.716Z"
   },
   {
    "duration": 22,
    "start_time": "2022-10-11T12:06:23.738Z"
   },
   {
    "duration": 25,
    "start_time": "2022-10-11T12:06:23.762Z"
   },
   {
    "duration": 16,
    "start_time": "2022-10-11T12:06:23.788Z"
   },
   {
    "duration": 52,
    "start_time": "2022-10-11T12:06:23.806Z"
   },
   {
    "duration": 27,
    "start_time": "2022-10-11T12:06:23.860Z"
   },
   {
    "duration": 58,
    "start_time": "2022-10-11T12:06:23.889Z"
   },
   {
    "duration": 69,
    "start_time": "2022-10-11T12:06:23.948Z"
   },
   {
    "duration": 152,
    "start_time": "2022-10-11T12:06:24.019Z"
   },
   {
    "duration": 4,
    "start_time": "2022-10-11T12:06:24.172Z"
   },
   {
    "duration": 364,
    "start_time": "2022-10-11T12:06:24.177Z"
   },
   {
    "duration": 192,
    "start_time": "2022-10-11T12:06:24.543Z"
   },
   {
    "duration": 525,
    "start_time": "2022-10-11T12:06:24.737Z"
   },
   {
    "duration": 451,
    "start_time": "2022-10-11T12:06:25.264Z"
   },
   {
    "duration": 302,
    "start_time": "2022-10-11T12:06:25.717Z"
   },
   {
    "duration": 214,
    "start_time": "2022-10-11T12:06:26.020Z"
   },
   {
    "duration": 267,
    "start_time": "2022-10-11T12:06:26.236Z"
   },
   {
    "duration": 40,
    "start_time": "2022-10-11T12:06:26.505Z"
   },
   {
    "duration": 1423,
    "start_time": "2022-10-11T12:18:35.815Z"
   },
   {
    "duration": 287,
    "start_time": "2022-10-11T12:18:37.240Z"
   },
   {
    "duration": 11,
    "start_time": "2022-10-11T12:18:37.529Z"
   },
   {
    "duration": 28,
    "start_time": "2022-10-11T12:18:37.542Z"
   },
   {
    "duration": 22,
    "start_time": "2022-10-11T12:18:37.572Z"
   },
   {
    "duration": 78,
    "start_time": "2022-10-11T12:18:37.595Z"
   },
   {
    "duration": 37,
    "start_time": "2022-10-11T12:18:37.674Z"
   },
   {
    "duration": 47,
    "start_time": "2022-10-11T12:18:37.733Z"
   },
   {
    "duration": 89,
    "start_time": "2022-10-11T12:18:37.782Z"
   },
   {
    "duration": 10,
    "start_time": "2022-10-11T12:18:37.872Z"
   },
   {
    "duration": 31,
    "start_time": "2022-10-11T12:18:37.884Z"
   },
   {
    "duration": 21,
    "start_time": "2022-10-11T12:18:37.917Z"
   },
   {
    "duration": 18,
    "start_time": "2022-10-11T12:18:37.940Z"
   },
   {
    "duration": 29,
    "start_time": "2022-10-11T12:18:37.961Z"
   },
   {
    "duration": 53,
    "start_time": "2022-10-11T12:18:37.992Z"
   },
   {
    "duration": 88,
    "start_time": "2022-10-11T12:18:38.046Z"
   },
   {
    "duration": 6,
    "start_time": "2022-10-11T12:18:38.137Z"
   },
   {
    "duration": 15,
    "start_time": "2022-10-11T12:18:38.145Z"
   },
   {
    "duration": 35,
    "start_time": "2022-10-11T12:18:38.165Z"
   },
   {
    "duration": 29,
    "start_time": "2022-10-11T12:18:38.202Z"
   },
   {
    "duration": 25,
    "start_time": "2022-10-11T12:18:38.234Z"
   },
   {
    "duration": 64,
    "start_time": "2022-10-11T12:18:38.261Z"
   },
   {
    "duration": 42,
    "start_time": "2022-10-11T12:18:38.327Z"
   },
   {
    "duration": 43,
    "start_time": "2022-10-11T12:18:38.370Z"
   },
   {
    "duration": 89,
    "start_time": "2022-10-11T12:18:38.414Z"
   },
   {
    "duration": 157,
    "start_time": "2022-10-11T12:18:38.505Z"
   },
   {
    "duration": 3,
    "start_time": "2022-10-11T12:18:38.664Z"
   },
   {
    "duration": 412,
    "start_time": "2022-10-11T12:18:38.669Z"
   },
   {
    "duration": 200,
    "start_time": "2022-10-11T12:18:39.083Z"
   },
   {
    "duration": 469,
    "start_time": "2022-10-11T12:18:39.284Z"
   },
   {
    "duration": 523,
    "start_time": "2022-10-11T12:18:39.756Z"
   },
   {
    "duration": 356,
    "start_time": "2022-10-11T12:18:40.281Z"
   },
   {
    "duration": 409,
    "start_time": "2022-10-11T12:18:40.639Z"
   },
   {
    "duration": 491,
    "start_time": "2022-10-11T12:18:41.050Z"
   },
   {
    "duration": 107,
    "start_time": "2022-10-11T12:18:41.543Z"
   },
   {
    "duration": 282,
    "start_time": "2022-10-11T12:20:49.185Z"
   },
   {
    "duration": 215,
    "start_time": "2022-10-11T12:21:14.784Z"
   },
   {
    "duration": 384,
    "start_time": "2022-10-11T12:28:54.330Z"
   },
   {
    "duration": 1208,
    "start_time": "2022-10-11T12:29:03.208Z"
   },
   {
    "duration": 251,
    "start_time": "2022-10-11T12:29:04.418Z"
   },
   {
    "duration": 11,
    "start_time": "2022-10-11T12:29:04.670Z"
   },
   {
    "duration": 14,
    "start_time": "2022-10-11T12:29:04.682Z"
   },
   {
    "duration": 14,
    "start_time": "2022-10-11T12:29:04.697Z"
   },
   {
    "duration": 57,
    "start_time": "2022-10-11T12:29:04.712Z"
   },
   {
    "duration": 36,
    "start_time": "2022-10-11T12:29:04.771Z"
   },
   {
    "duration": 58,
    "start_time": "2022-10-11T12:29:04.808Z"
   },
   {
    "duration": 85,
    "start_time": "2022-10-11T12:29:04.867Z"
   },
   {
    "duration": 11,
    "start_time": "2022-10-11T12:29:04.953Z"
   },
   {
    "duration": 13,
    "start_time": "2022-10-11T12:29:04.965Z"
   },
   {
    "duration": 17,
    "start_time": "2022-10-11T12:29:04.979Z"
   },
   {
    "duration": 11,
    "start_time": "2022-10-11T12:29:04.998Z"
   },
   {
    "duration": 12,
    "start_time": "2022-10-11T12:29:05.033Z"
   },
   {
    "duration": 34,
    "start_time": "2022-10-11T12:29:05.046Z"
   },
   {
    "duration": 87,
    "start_time": "2022-10-11T12:29:05.082Z"
   },
   {
    "duration": 6,
    "start_time": "2022-10-11T12:29:05.170Z"
   },
   {
    "duration": 8,
    "start_time": "2022-10-11T12:29:05.178Z"
   },
   {
    "duration": 21,
    "start_time": "2022-10-11T12:29:05.187Z"
   },
   {
    "duration": 29,
    "start_time": "2022-10-11T12:29:05.209Z"
   },
   {
    "duration": 17,
    "start_time": "2022-10-11T12:29:05.239Z"
   },
   {
    "duration": 30,
    "start_time": "2022-10-11T12:29:05.257Z"
   },
   {
    "duration": 45,
    "start_time": "2022-10-11T12:29:05.289Z"
   },
   {
    "duration": 43,
    "start_time": "2022-10-11T12:29:05.336Z"
   },
   {
    "duration": 85,
    "start_time": "2022-10-11T12:29:05.381Z"
   },
   {
    "duration": 151,
    "start_time": "2022-10-11T12:29:05.468Z"
   },
   {
    "duration": 3,
    "start_time": "2022-10-11T12:29:05.621Z"
   },
   {
    "duration": 385,
    "start_time": "2022-10-11T12:29:05.633Z"
   },
   {
    "duration": 363,
    "start_time": "2022-10-11T12:29:06.020Z"
   },
   {
    "duration": 264,
    "start_time": "2022-10-11T12:29:06.385Z"
   },
   {
    "duration": 465,
    "start_time": "2022-10-11T12:29:06.651Z"
   },
   {
    "duration": 193,
    "start_time": "2022-10-11T12:29:07.118Z"
   },
   {
    "duration": 209,
    "start_time": "2022-10-11T12:29:07.312Z"
   },
   {
    "duration": 337,
    "start_time": "2022-10-11T12:29:07.523Z"
   },
   {
    "duration": 178,
    "start_time": "2022-10-11T12:59:44.577Z"
   },
   {
    "duration": 1225,
    "start_time": "2022-10-11T13:00:10.980Z"
   },
   {
    "duration": 264,
    "start_time": "2022-10-11T13:00:12.207Z"
   },
   {
    "duration": 12,
    "start_time": "2022-10-11T13:00:12.473Z"
   },
   {
    "duration": 7,
    "start_time": "2022-10-11T13:00:12.487Z"
   },
   {
    "duration": 23,
    "start_time": "2022-10-11T13:00:12.495Z"
   },
   {
    "duration": 60,
    "start_time": "2022-10-11T13:00:12.520Z"
   },
   {
    "duration": 55,
    "start_time": "2022-10-11T13:00:12.581Z"
   },
   {
    "duration": 39,
    "start_time": "2022-10-11T13:00:12.638Z"
   },
   {
    "duration": 92,
    "start_time": "2022-10-11T13:00:12.679Z"
   },
   {
    "duration": 12,
    "start_time": "2022-10-11T13:00:12.773Z"
   },
   {
    "duration": 18,
    "start_time": "2022-10-11T13:00:12.786Z"
   },
   {
    "duration": 29,
    "start_time": "2022-10-11T13:00:12.806Z"
   },
   {
    "duration": 13,
    "start_time": "2022-10-11T13:00:12.836Z"
   },
   {
    "duration": 10,
    "start_time": "2022-10-11T13:00:12.851Z"
   },
   {
    "duration": 30,
    "start_time": "2022-10-11T13:00:12.862Z"
   },
   {
    "duration": 90,
    "start_time": "2022-10-11T13:00:12.893Z"
   },
   {
    "duration": 5,
    "start_time": "2022-10-11T13:00:12.985Z"
   },
   {
    "duration": 12,
    "start_time": "2022-10-11T13:00:12.992Z"
   },
   {
    "duration": 29,
    "start_time": "2022-10-11T13:00:13.005Z"
   },
   {
    "duration": 13,
    "start_time": "2022-10-11T13:00:13.036Z"
   },
   {
    "duration": 17,
    "start_time": "2022-10-11T13:00:13.050Z"
   },
   {
    "duration": 41,
    "start_time": "2022-10-11T13:00:13.068Z"
   },
   {
    "duration": 30,
    "start_time": "2022-10-11T13:00:13.111Z"
   },
   {
    "duration": 42,
    "start_time": "2022-10-11T13:00:13.143Z"
   },
   {
    "duration": 85,
    "start_time": "2022-10-11T13:00:13.186Z"
   },
   {
    "duration": 149,
    "start_time": "2022-10-11T13:00:13.273Z"
   },
   {
    "duration": 4,
    "start_time": "2022-10-11T13:00:13.423Z"
   },
   {
    "duration": 382,
    "start_time": "2022-10-11T13:00:13.433Z"
   },
   {
    "duration": 201,
    "start_time": "2022-10-11T13:00:13.817Z"
   },
   {
    "duration": 316,
    "start_time": "2022-10-11T13:00:14.020Z"
   },
   {
    "duration": 285,
    "start_time": "2022-10-11T13:00:14.337Z"
   },
   {
    "duration": 405,
    "start_time": "2022-10-11T13:00:14.624Z"
   },
   {
    "duration": 280,
    "start_time": "2022-10-11T13:00:15.033Z"
   },
   {
    "duration": 335,
    "start_time": "2022-10-11T13:00:15.314Z"
   },
   {
    "duration": 11,
    "start_time": "2022-10-11T13:24:23.735Z"
   },
   {
    "duration": 315,
    "start_time": "2022-10-11T13:32:49.986Z"
   },
   {
    "duration": 1406,
    "start_time": "2022-10-12T09:06:47.959Z"
   },
   {
    "duration": 1276,
    "start_time": "2022-10-12T09:06:49.366Z"
   },
   {
    "duration": 12,
    "start_time": "2022-10-12T09:06:50.644Z"
   },
   {
    "duration": 8,
    "start_time": "2022-10-12T09:06:50.658Z"
   },
   {
    "duration": 8,
    "start_time": "2022-10-12T09:06:50.668Z"
   },
   {
    "duration": 60,
    "start_time": "2022-10-12T09:06:50.677Z"
   },
   {
    "duration": 36,
    "start_time": "2022-10-12T09:06:50.738Z"
   },
   {
    "duration": 65,
    "start_time": "2022-10-12T09:06:50.776Z"
   },
   {
    "duration": 85,
    "start_time": "2022-10-12T09:06:50.843Z"
   },
   {
    "duration": 11,
    "start_time": "2022-10-12T09:06:50.931Z"
   },
   {
    "duration": 16,
    "start_time": "2022-10-12T09:06:50.943Z"
   },
   {
    "duration": 23,
    "start_time": "2022-10-12T09:06:50.960Z"
   },
   {
    "duration": 19,
    "start_time": "2022-10-12T09:06:50.999Z"
   },
   {
    "duration": 11,
    "start_time": "2022-10-12T09:06:51.019Z"
   },
   {
    "duration": 32,
    "start_time": "2022-10-12T09:06:51.031Z"
   },
   {
    "duration": 88,
    "start_time": "2022-10-12T09:06:51.064Z"
   },
   {
    "duration": 6,
    "start_time": "2022-10-12T09:06:51.154Z"
   },
   {
    "duration": 9,
    "start_time": "2022-10-12T09:06:51.162Z"
   },
   {
    "duration": 35,
    "start_time": "2022-10-12T09:06:51.173Z"
   },
   {
    "duration": 18,
    "start_time": "2022-10-12T09:06:51.209Z"
   },
   {
    "duration": 19,
    "start_time": "2022-10-12T09:06:51.229Z"
   },
   {
    "duration": 31,
    "start_time": "2022-10-12T09:06:51.249Z"
   },
   {
    "duration": 38,
    "start_time": "2022-10-12T09:06:51.282Z"
   },
   {
    "duration": 43,
    "start_time": "2022-10-12T09:06:51.322Z"
   },
   {
    "duration": 90,
    "start_time": "2022-10-12T09:06:51.367Z"
   },
   {
    "duration": 151,
    "start_time": "2022-10-12T09:06:51.459Z"
   },
   {
    "duration": 3,
    "start_time": "2022-10-12T09:06:51.612Z"
   },
   {
    "duration": 385,
    "start_time": "2022-10-12T09:06:51.618Z"
   },
   {
    "duration": 200,
    "start_time": "2022-10-12T09:06:52.011Z"
   },
   {
    "duration": 298,
    "start_time": "2022-10-12T09:06:52.213Z"
   },
   {
    "duration": 298,
    "start_time": "2022-10-12T09:06:52.513Z"
   },
   {
    "duration": 421,
    "start_time": "2022-10-12T09:06:52.813Z"
   },
   {
    "duration": 230,
    "start_time": "2022-10-12T09:06:53.236Z"
   },
   {
    "duration": 386,
    "start_time": "2022-10-12T09:06:53.467Z"
   },
   {
    "duration": 237,
    "start_time": "2022-10-12T09:17:12.710Z"
   },
   {
    "duration": 37,
    "start_time": "2022-10-12T09:17:21.955Z"
   },
   {
    "duration": 1262,
    "start_time": "2022-10-12T09:17:29.099Z"
   },
   {
    "duration": 262,
    "start_time": "2022-10-12T09:17:30.364Z"
   },
   {
    "duration": 13,
    "start_time": "2022-10-12T09:17:30.628Z"
   },
   {
    "duration": 19,
    "start_time": "2022-10-12T09:17:30.642Z"
   },
   {
    "duration": 35,
    "start_time": "2022-10-12T09:17:30.664Z"
   },
   {
    "duration": 58,
    "start_time": "2022-10-12T09:17:30.701Z"
   },
   {
    "duration": 56,
    "start_time": "2022-10-12T09:17:30.760Z"
   },
   {
    "duration": 44,
    "start_time": "2022-10-12T09:17:30.819Z"
   },
   {
    "duration": 89,
    "start_time": "2022-10-12T09:17:30.866Z"
   },
   {
    "duration": 11,
    "start_time": "2022-10-12T09:17:30.957Z"
   },
   {
    "duration": 29,
    "start_time": "2022-10-12T09:17:30.969Z"
   },
   {
    "duration": 20,
    "start_time": "2022-10-12T09:17:31.000Z"
   },
   {
    "duration": 13,
    "start_time": "2022-10-12T09:17:31.022Z"
   },
   {
    "duration": 12,
    "start_time": "2022-10-12T09:17:31.039Z"
   },
   {
    "duration": 56,
    "start_time": "2022-10-12T09:17:31.053Z"
   },
   {
    "duration": 70,
    "start_time": "2022-10-12T09:17:31.110Z"
   },
   {
    "duration": 18,
    "start_time": "2022-10-12T09:17:31.182Z"
   },
   {
    "duration": 13,
    "start_time": "2022-10-12T09:17:31.202Z"
   },
   {
    "duration": 17,
    "start_time": "2022-10-12T09:17:31.217Z"
   },
   {
    "duration": 20,
    "start_time": "2022-10-12T09:17:31.236Z"
   },
   {
    "duration": 38,
    "start_time": "2022-10-12T09:17:31.257Z"
   },
   {
    "duration": 36,
    "start_time": "2022-10-12T09:17:31.297Z"
   },
   {
    "duration": 26,
    "start_time": "2022-10-12T09:17:31.335Z"
   },
   {
    "duration": 56,
    "start_time": "2022-10-12T09:17:31.363Z"
   },
   {
    "duration": 75,
    "start_time": "2022-10-12T09:17:31.421Z"
   },
   {
    "duration": 147,
    "start_time": "2022-10-12T09:17:31.497Z"
   },
   {
    "duration": 3,
    "start_time": "2022-10-12T09:17:31.646Z"
   },
   {
    "duration": 384,
    "start_time": "2022-10-12T09:17:31.650Z"
   },
   {
    "duration": 216,
    "start_time": "2022-10-12T09:17:32.036Z"
   },
   {
    "duration": 288,
    "start_time": "2022-10-12T09:17:32.254Z"
   },
   {
    "duration": 310,
    "start_time": "2022-10-12T09:17:32.543Z"
   },
   {
    "duration": 402,
    "start_time": "2022-10-12T09:17:32.855Z"
   },
   {
    "duration": 215,
    "start_time": "2022-10-12T09:17:33.258Z"
   },
   {
    "duration": 362,
    "start_time": "2022-10-12T09:17:33.475Z"
   },
   {
    "duration": 12,
    "start_time": "2022-10-12T09:18:12.290Z"
   },
   {
    "duration": 11,
    "start_time": "2022-10-12T10:17:04.030Z"
   },
   {
    "duration": 18,
    "start_time": "2022-10-12T10:20:53.576Z"
   },
   {
    "duration": 16,
    "start_time": "2022-10-12T10:22:07.561Z"
   },
   {
    "duration": 5,
    "start_time": "2022-10-12T10:22:46.874Z"
   },
   {
    "duration": 19,
    "start_time": "2022-10-12T10:41:14.523Z"
   },
   {
    "duration": 20,
    "start_time": "2022-10-12T10:42:04.446Z"
   },
   {
    "duration": 16,
    "start_time": "2022-10-12T10:42:12.918Z"
   },
   {
    "duration": 16,
    "start_time": "2022-10-12T10:42:52.894Z"
   },
   {
    "duration": 153,
    "start_time": "2022-10-12T10:43:44.613Z"
   },
   {
    "duration": 9,
    "start_time": "2022-10-12T10:43:52.627Z"
   },
   {
    "duration": 19,
    "start_time": "2022-10-12T10:43:58.595Z"
   },
   {
    "duration": 15,
    "start_time": "2022-10-12T10:44:05.518Z"
   },
   {
    "duration": 12,
    "start_time": "2022-10-12T10:44:15.533Z"
   },
   {
    "duration": 10,
    "start_time": "2022-10-12T10:45:08.339Z"
   },
   {
    "duration": 14,
    "start_time": "2022-10-12T10:45:52.620Z"
   },
   {
    "duration": 6,
    "start_time": "2022-10-12T10:47:53.152Z"
   },
   {
    "duration": 774,
    "start_time": "2022-10-12T10:49:18.302Z"
   },
   {
    "duration": 15,
    "start_time": "2022-10-12T11:00:06.703Z"
   },
   {
    "duration": 20,
    "start_time": "2022-10-12T11:04:06.342Z"
   },
   {
    "duration": 18,
    "start_time": "2022-10-12T11:06:47.239Z"
   },
   {
    "duration": 18,
    "start_time": "2022-10-12T11:09:11.260Z"
   },
   {
    "duration": 11,
    "start_time": "2022-10-12T11:09:29.841Z"
   },
   {
    "duration": 13,
    "start_time": "2022-10-12T11:09:37.161Z"
   },
   {
    "duration": 17,
    "start_time": "2022-10-12T11:10:00.209Z"
   },
   {
    "duration": 20,
    "start_time": "2022-10-12T11:11:54.193Z"
   },
   {
    "duration": 11,
    "start_time": "2022-10-12T11:12:08.865Z"
   },
   {
    "duration": 13,
    "start_time": "2022-10-12T11:12:22.996Z"
   },
   {
    "duration": 12,
    "start_time": "2022-10-12T11:12:32.554Z"
   },
   {
    "duration": 15,
    "start_time": "2022-10-12T11:12:59.502Z"
   },
   {
    "duration": 19,
    "start_time": "2022-10-12T11:17:48.935Z"
   },
   {
    "duration": 18,
    "start_time": "2022-10-12T11:18:13.912Z"
   },
   {
    "duration": 19,
    "start_time": "2022-10-12T11:18:31.374Z"
   },
   {
    "duration": 22,
    "start_time": "2022-10-12T11:18:37.093Z"
   },
   {
    "duration": 25,
    "start_time": "2022-10-12T11:18:44.309Z"
   },
   {
    "duration": 4,
    "start_time": "2022-10-12T11:18:58.550Z"
   },
   {
    "duration": 16,
    "start_time": "2022-10-12T11:36:07.047Z"
   },
   {
    "duration": 7,
    "start_time": "2022-10-12T11:36:39.017Z"
   },
   {
    "duration": 1287,
    "start_time": "2022-10-12T11:37:10.763Z"
   },
   {
    "duration": 281,
    "start_time": "2022-10-12T11:37:12.052Z"
   },
   {
    "duration": 13,
    "start_time": "2022-10-12T11:37:12.335Z"
   },
   {
    "duration": 8,
    "start_time": "2022-10-12T11:37:12.350Z"
   },
   {
    "duration": 12,
    "start_time": "2022-10-12T11:37:12.360Z"
   },
   {
    "duration": 70,
    "start_time": "2022-10-12T11:37:12.373Z"
   },
   {
    "duration": 37,
    "start_time": "2022-10-12T11:37:12.445Z"
   },
   {
    "duration": 52,
    "start_time": "2022-10-12T11:37:12.495Z"
   },
   {
    "duration": 93,
    "start_time": "2022-10-12T11:37:12.548Z"
   },
   {
    "duration": 11,
    "start_time": "2022-10-12T11:37:12.642Z"
   },
   {
    "duration": 11,
    "start_time": "2022-10-12T11:37:12.655Z"
   },
   {
    "duration": 53,
    "start_time": "2022-10-12T11:37:12.668Z"
   },
   {
    "duration": 15,
    "start_time": "2022-10-12T11:37:12.724Z"
   },
   {
    "duration": 10,
    "start_time": "2022-10-12T11:37:12.742Z"
   },
   {
    "duration": 29,
    "start_time": "2022-10-12T11:37:12.753Z"
   },
   {
    "duration": 89,
    "start_time": "2022-10-12T11:37:12.783Z"
   },
   {
    "duration": 5,
    "start_time": "2022-10-12T11:37:12.874Z"
   },
   {
    "duration": 62,
    "start_time": "2022-10-12T11:37:12.880Z"
   },
   {
    "duration": 14,
    "start_time": "2022-10-12T11:37:12.945Z"
   },
   {
    "duration": 18,
    "start_time": "2022-10-12T11:37:12.960Z"
   },
   {
    "duration": 22,
    "start_time": "2022-10-12T11:37:12.979Z"
   },
   {
    "duration": 57,
    "start_time": "2022-10-12T11:37:13.007Z"
   },
   {
    "duration": 23,
    "start_time": "2022-10-12T11:37:13.066Z"
   },
   {
    "duration": 54,
    "start_time": "2022-10-12T11:37:13.091Z"
   },
   {
    "duration": 89,
    "start_time": "2022-10-12T11:37:13.146Z"
   },
   {
    "duration": 156,
    "start_time": "2022-10-12T11:37:13.237Z"
   },
   {
    "duration": 3,
    "start_time": "2022-10-12T11:37:13.395Z"
   },
   {
    "duration": 474,
    "start_time": "2022-10-12T11:37:13.404Z"
   },
   {
    "duration": 228,
    "start_time": "2022-10-12T11:37:13.879Z"
   },
   {
    "duration": 353,
    "start_time": "2022-10-12T11:37:14.108Z"
   },
   {
    "duration": 345,
    "start_time": "2022-10-12T11:37:14.462Z"
   },
   {
    "duration": 475,
    "start_time": "2022-10-12T11:37:14.809Z"
   },
   {
    "duration": 247,
    "start_time": "2022-10-12T11:37:15.285Z"
   },
   {
    "duration": 369,
    "start_time": "2022-10-12T11:37:15.543Z"
   },
   {
    "duration": 29,
    "start_time": "2022-10-12T11:37:15.913Z"
   },
   {
    "duration": 14,
    "start_time": "2022-10-12T11:37:15.944Z"
   },
   {
    "duration": 40,
    "start_time": "2022-10-12T11:37:15.959Z"
   },
   {
    "duration": 19,
    "start_time": "2022-10-12T11:37:16.003Z"
   },
   {
    "duration": 16,
    "start_time": "2022-10-12T11:40:14.314Z"
   },
   {
    "duration": 1290,
    "start_time": "2022-10-12T11:44:26.825Z"
   },
   {
    "duration": 273,
    "start_time": "2022-10-12T11:44:28.117Z"
   },
   {
    "duration": 25,
    "start_time": "2022-10-12T11:44:28.392Z"
   },
   {
    "duration": 7,
    "start_time": "2022-10-12T11:44:28.419Z"
   },
   {
    "duration": 10,
    "start_time": "2022-10-12T11:44:28.428Z"
   },
   {
    "duration": 77,
    "start_time": "2022-10-12T11:44:28.440Z"
   },
   {
    "duration": 37,
    "start_time": "2022-10-12T11:44:28.518Z"
   },
   {
    "duration": 64,
    "start_time": "2022-10-12T11:44:28.557Z"
   },
   {
    "duration": 86,
    "start_time": "2022-10-12T11:44:28.622Z"
   },
   {
    "duration": 12,
    "start_time": "2022-10-12T11:44:28.710Z"
   },
   {
    "duration": 14,
    "start_time": "2022-10-12T11:44:28.723Z"
   },
   {
    "duration": 19,
    "start_time": "2022-10-12T11:44:28.738Z"
   },
   {
    "duration": 11,
    "start_time": "2022-10-12T11:44:28.759Z"
   },
   {
    "duration": 36,
    "start_time": "2022-10-12T11:44:28.771Z"
   },
   {
    "duration": 30,
    "start_time": "2022-10-12T11:44:28.809Z"
   },
   {
    "duration": 90,
    "start_time": "2022-10-12T11:44:28.841Z"
   },
   {
    "duration": 6,
    "start_time": "2022-10-12T11:44:28.933Z"
   },
   {
    "duration": 10,
    "start_time": "2022-10-12T11:44:28.940Z"
   },
   {
    "duration": 16,
    "start_time": "2022-10-12T11:44:28.951Z"
   },
   {
    "duration": 36,
    "start_time": "2022-10-12T11:44:28.969Z"
   },
   {
    "duration": 15,
    "start_time": "2022-10-12T11:44:29.007Z"
   },
   {
    "duration": 29,
    "start_time": "2022-10-12T11:44:29.023Z"
   },
   {
    "duration": 51,
    "start_time": "2022-10-12T11:44:29.053Z"
   },
   {
    "duration": 46,
    "start_time": "2022-10-12T11:44:29.106Z"
   },
   {
    "duration": 84,
    "start_time": "2022-10-12T11:44:29.154Z"
   },
   {
    "duration": 155,
    "start_time": "2022-10-12T11:44:29.239Z"
   },
   {
    "duration": 5,
    "start_time": "2022-10-12T11:44:29.404Z"
   },
   {
    "duration": 398,
    "start_time": "2022-10-12T11:44:29.413Z"
   },
   {
    "duration": 200,
    "start_time": "2022-10-12T11:44:29.812Z"
   },
   {
    "duration": 317,
    "start_time": "2022-10-12T11:44:30.013Z"
   },
   {
    "duration": 314,
    "start_time": "2022-10-12T11:44:30.332Z"
   },
   {
    "duration": 430,
    "start_time": "2022-10-12T11:44:30.648Z"
   },
   {
    "duration": 234,
    "start_time": "2022-10-12T11:44:31.080Z"
   },
   {
    "duration": 348,
    "start_time": "2022-10-12T11:44:31.316Z"
   },
   {
    "duration": 35,
    "start_time": "2022-10-12T11:44:31.666Z"
   },
   {
    "duration": 16,
    "start_time": "2022-10-12T11:44:31.703Z"
   },
   {
    "duration": 6,
    "start_time": "2022-10-12T11:44:31.721Z"
   },
   {
    "duration": 15,
    "start_time": "2022-10-12T11:44:31.729Z"
   },
   {
    "duration": 67,
    "start_time": "2022-10-12T11:44:31.745Z"
   },
   {
    "duration": 5,
    "start_time": "2022-10-12T12:25:00.691Z"
   },
   {
    "duration": 13,
    "start_time": "2022-10-12T12:25:10.669Z"
   },
   {
    "duration": 7,
    "start_time": "2022-10-12T12:25:29.456Z"
   },
   {
    "duration": 20,
    "start_time": "2022-10-12T12:26:12.478Z"
   },
   {
    "duration": 10,
    "start_time": "2022-10-12T12:26:33.912Z"
   },
   {
    "duration": 13,
    "start_time": "2022-10-12T12:26:48.347Z"
   },
   {
    "duration": 1254,
    "start_time": "2022-10-12T12:28:32.235Z"
   },
   {
    "duration": 261,
    "start_time": "2022-10-12T12:28:33.491Z"
   },
   {
    "duration": 13,
    "start_time": "2022-10-12T12:28:33.754Z"
   },
   {
    "duration": 8,
    "start_time": "2022-10-12T12:28:33.768Z"
   },
   {
    "duration": 11,
    "start_time": "2022-10-12T12:28:33.779Z"
   },
   {
    "duration": 69,
    "start_time": "2022-10-12T12:28:33.792Z"
   },
   {
    "duration": 58,
    "start_time": "2022-10-12T12:28:33.863Z"
   },
   {
    "duration": 78,
    "start_time": "2022-10-12T12:28:33.922Z"
   },
   {
    "duration": 69,
    "start_time": "2022-10-12T12:28:34.001Z"
   },
   {
    "duration": 28,
    "start_time": "2022-10-12T12:28:34.071Z"
   },
   {
    "duration": 12,
    "start_time": "2022-10-12T12:28:34.101Z"
   },
   {
    "duration": 42,
    "start_time": "2022-10-12T12:28:34.116Z"
   },
   {
    "duration": 14,
    "start_time": "2022-10-12T12:28:34.160Z"
   },
   {
    "duration": 26,
    "start_time": "2022-10-12T12:28:34.179Z"
   },
   {
    "duration": 55,
    "start_time": "2022-10-12T12:28:34.207Z"
   },
   {
    "duration": 79,
    "start_time": "2022-10-12T12:28:34.264Z"
   },
   {
    "duration": 9,
    "start_time": "2022-10-12T12:28:34.346Z"
   },
   {
    "duration": 10,
    "start_time": "2022-10-12T12:28:34.357Z"
   },
   {
    "duration": 35,
    "start_time": "2022-10-12T12:28:34.369Z"
   },
   {
    "duration": 16,
    "start_time": "2022-10-12T12:28:34.406Z"
   },
   {
    "duration": 18,
    "start_time": "2022-10-12T12:28:34.424Z"
   },
   {
    "duration": 50,
    "start_time": "2022-10-12T12:28:34.443Z"
   },
   {
    "duration": 26,
    "start_time": "2022-10-12T12:28:34.495Z"
   },
   {
    "duration": 44,
    "start_time": "2022-10-12T12:28:34.523Z"
   },
   {
    "duration": 87,
    "start_time": "2022-10-12T12:28:34.569Z"
   },
   {
    "duration": 176,
    "start_time": "2022-10-12T12:28:34.657Z"
   },
   {
    "duration": 5,
    "start_time": "2022-10-12T12:28:34.835Z"
   },
   {
    "duration": 398,
    "start_time": "2022-10-12T12:28:34.842Z"
   },
   {
    "duration": 219,
    "start_time": "2022-10-12T12:28:35.242Z"
   },
   {
    "duration": 326,
    "start_time": "2022-10-12T12:28:35.463Z"
   },
   {
    "duration": 363,
    "start_time": "2022-10-12T12:28:35.791Z"
   },
   {
    "duration": 563,
    "start_time": "2022-10-12T12:28:36.156Z"
   },
   {
    "duration": 380,
    "start_time": "2022-10-12T12:28:36.723Z"
   },
   {
    "duration": 436,
    "start_time": "2022-10-12T12:28:37.104Z"
   },
   {
    "duration": 29,
    "start_time": "2022-10-12T12:28:37.542Z"
   },
   {
    "duration": 46,
    "start_time": "2022-10-12T12:28:37.573Z"
   },
   {
    "duration": 14,
    "start_time": "2022-10-12T12:28:37.621Z"
   },
   {
    "duration": 61,
    "start_time": "2022-10-12T12:28:37.637Z"
   },
   {
    "duration": 47,
    "start_time": "2022-10-12T12:28:37.700Z"
   },
   {
    "duration": 7,
    "start_time": "2022-10-12T12:32:38.620Z"
   },
   {
    "duration": 13,
    "start_time": "2022-10-12T12:33:00.478Z"
   },
   {
    "duration": 18,
    "start_time": "2022-10-12T12:47:22.070Z"
   },
   {
    "duration": 5,
    "start_time": "2022-10-12T12:47:36.682Z"
   },
   {
    "duration": 4,
    "start_time": "2022-10-12T12:48:14.823Z"
   },
   {
    "duration": 14,
    "start_time": "2022-10-12T12:57:51.073Z"
   },
   {
    "duration": 216,
    "start_time": "2022-10-12T13:00:45.547Z"
   },
   {
    "duration": 69,
    "start_time": "2022-10-12T13:00:59.283Z"
   },
   {
    "duration": 57,
    "start_time": "2022-10-12T13:01:10.994Z"
   },
   {
    "duration": 52,
    "start_time": "2022-10-12T13:01:30.215Z"
   },
   {
    "duration": 89,
    "start_time": "2022-10-12T13:01:47.123Z"
   },
   {
    "duration": 128,
    "start_time": "2022-10-12T13:04:24.277Z"
   },
   {
    "duration": 7708,
    "start_time": "2022-10-12T13:04:59.834Z"
   },
   {
    "duration": 14,
    "start_time": "2022-10-12T13:05:26.467Z"
   },
   {
    "duration": 16,
    "start_time": "2022-10-12T13:05:48.981Z"
   },
   {
    "duration": 28,
    "start_time": "2022-10-12T13:05:59.611Z"
   },
   {
    "duration": 69,
    "start_time": "2022-10-12T13:12:32.444Z"
   },
   {
    "duration": 52,
    "start_time": "2022-10-12T13:14:18.150Z"
   },
   {
    "duration": 81,
    "start_time": "2022-10-12T13:18:06.629Z"
   },
   {
    "duration": 49,
    "start_time": "2022-10-12T13:18:22.633Z"
   },
   {
    "duration": 20,
    "start_time": "2022-10-12T13:19:16.882Z"
   },
   {
    "duration": 10,
    "start_time": "2022-10-12T13:20:21.974Z"
   },
   {
    "duration": 59,
    "start_time": "2022-10-12T13:28:46.476Z"
   },
   {
    "duration": 1259,
    "start_time": "2022-10-12T13:29:28.231Z"
   },
   {
    "duration": 280,
    "start_time": "2022-10-12T13:29:29.492Z"
   },
   {
    "duration": 13,
    "start_time": "2022-10-12T13:29:29.773Z"
   },
   {
    "duration": 23,
    "start_time": "2022-10-12T13:29:29.788Z"
   },
   {
    "duration": 14,
    "start_time": "2022-10-12T13:29:29.813Z"
   },
   {
    "duration": 87,
    "start_time": "2022-10-12T13:29:29.829Z"
   },
   {
    "duration": 39,
    "start_time": "2022-10-12T13:29:29.918Z"
   },
   {
    "duration": 67,
    "start_time": "2022-10-12T13:29:29.958Z"
   },
   {
    "duration": 123,
    "start_time": "2022-10-12T13:29:30.027Z"
   },
   {
    "duration": 19,
    "start_time": "2022-10-12T13:29:30.153Z"
   },
   {
    "duration": 33,
    "start_time": "2022-10-12T13:29:30.174Z"
   },
   {
    "duration": 48,
    "start_time": "2022-10-12T13:29:30.212Z"
   },
   {
    "duration": 50,
    "start_time": "2022-10-12T13:29:30.262Z"
   },
   {
    "duration": 23,
    "start_time": "2022-10-12T13:29:30.315Z"
   },
   {
    "duration": 62,
    "start_time": "2022-10-12T13:29:30.340Z"
   },
   {
    "duration": 102,
    "start_time": "2022-10-12T13:29:30.403Z"
   },
   {
    "duration": 9,
    "start_time": "2022-10-12T13:29:30.510Z"
   },
   {
    "duration": 27,
    "start_time": "2022-10-12T13:29:30.521Z"
   },
   {
    "duration": 33,
    "start_time": "2022-10-12T13:29:30.550Z"
   },
   {
    "duration": 30,
    "start_time": "2022-10-12T13:29:30.585Z"
   },
   {
    "duration": 26,
    "start_time": "2022-10-12T13:29:30.617Z"
   },
   {
    "duration": 42,
    "start_time": "2022-10-12T13:29:30.645Z"
   },
   {
    "duration": 40,
    "start_time": "2022-10-12T13:29:30.689Z"
   },
   {
    "duration": 49,
    "start_time": "2022-10-12T13:29:30.731Z"
   },
   {
    "duration": 107,
    "start_time": "2022-10-12T13:29:30.781Z"
   },
   {
    "duration": 165,
    "start_time": "2022-10-12T13:29:30.896Z"
   },
   {
    "duration": 4,
    "start_time": "2022-10-12T13:29:31.063Z"
   },
   {
    "duration": 458,
    "start_time": "2022-10-12T13:29:31.071Z"
   },
   {
    "duration": 209,
    "start_time": "2022-10-12T13:29:31.531Z"
   },
   {
    "duration": 341,
    "start_time": "2022-10-12T13:29:31.742Z"
   },
   {
    "duration": 330,
    "start_time": "2022-10-12T13:29:32.085Z"
   },
   {
    "duration": 432,
    "start_time": "2022-10-12T13:29:32.417Z"
   },
   {
    "duration": 248,
    "start_time": "2022-10-12T13:29:32.851Z"
   },
   {
    "duration": 350,
    "start_time": "2022-10-12T13:29:33.106Z"
   },
   {
    "duration": 20,
    "start_time": "2022-10-12T13:29:33.458Z"
   },
   {
    "duration": 40,
    "start_time": "2022-10-12T13:29:33.479Z"
   },
   {
    "duration": 19,
    "start_time": "2022-10-12T13:29:33.521Z"
   },
   {
    "duration": 69,
    "start_time": "2022-10-12T13:29:33.542Z"
   },
   {
    "duration": 11,
    "start_time": "2022-10-12T13:29:33.613Z"
   },
   {
    "duration": 79,
    "start_time": "2022-10-12T13:29:33.626Z"
   },
   {
    "duration": 62,
    "start_time": "2022-10-12T13:29:33.709Z"
   },
   {
    "duration": 10,
    "start_time": "2022-10-12T13:29:33.772Z"
   },
   {
    "duration": 25,
    "start_time": "2022-10-12T13:29:33.795Z"
   },
   {
    "duration": 28,
    "start_time": "2022-10-12T13:29:33.822Z"
   },
   {
    "duration": 12,
    "start_time": "2022-10-12T13:29:33.852Z"
   },
   {
    "duration": 49,
    "start_time": "2022-10-12T13:30:23.995Z"
   },
   {
    "duration": 62,
    "start_time": "2022-10-12T13:30:53.455Z"
   },
   {
    "duration": 50,
    "start_time": "2022-10-12T13:33:37.261Z"
   },
   {
    "duration": 47,
    "start_time": "2022-10-12T13:34:06.391Z"
   },
   {
    "duration": 37,
    "start_time": "2022-10-12T13:37:15.156Z"
   },
   {
    "duration": 46,
    "start_time": "2022-10-12T13:38:45.795Z"
   },
   {
    "duration": 1609,
    "start_time": "2022-10-12T13:46:28.364Z"
   },
   {
    "duration": 40,
    "start_time": "2022-10-12T13:46:29.976Z"
   },
   {
    "duration": 121,
    "start_time": "2022-10-12T13:46:30.018Z"
   },
   {
    "duration": 0,
    "start_time": "2022-10-12T13:46:30.143Z"
   },
   {
    "duration": 0,
    "start_time": "2022-10-12T13:46:30.144Z"
   },
   {
    "duration": 0,
    "start_time": "2022-10-12T13:46:30.145Z"
   },
   {
    "duration": 0,
    "start_time": "2022-10-12T13:46:30.147Z"
   },
   {
    "duration": 0,
    "start_time": "2022-10-12T13:46:30.149Z"
   },
   {
    "duration": 0,
    "start_time": "2022-10-12T13:46:30.150Z"
   },
   {
    "duration": 0,
    "start_time": "2022-10-12T13:46:30.151Z"
   },
   {
    "duration": 0,
    "start_time": "2022-10-12T13:46:30.153Z"
   },
   {
    "duration": 0,
    "start_time": "2022-10-12T13:46:30.154Z"
   },
   {
    "duration": 0,
    "start_time": "2022-10-12T13:46:30.155Z"
   },
   {
    "duration": 0,
    "start_time": "2022-10-12T13:46:30.157Z"
   },
   {
    "duration": 0,
    "start_time": "2022-10-12T13:46:30.158Z"
   },
   {
    "duration": 0,
    "start_time": "2022-10-12T13:46:30.160Z"
   },
   {
    "duration": 0,
    "start_time": "2022-10-12T13:46:30.161Z"
   },
   {
    "duration": 0,
    "start_time": "2022-10-12T13:46:30.162Z"
   },
   {
    "duration": 0,
    "start_time": "2022-10-12T13:46:30.163Z"
   },
   {
    "duration": 0,
    "start_time": "2022-10-12T13:46:30.195Z"
   },
   {
    "duration": 0,
    "start_time": "2022-10-12T13:46:30.202Z"
   },
   {
    "duration": 0,
    "start_time": "2022-10-12T13:46:30.203Z"
   },
   {
    "duration": 0,
    "start_time": "2022-10-12T13:46:30.204Z"
   },
   {
    "duration": 0,
    "start_time": "2022-10-12T13:46:30.204Z"
   },
   {
    "duration": 0,
    "start_time": "2022-10-12T13:46:30.206Z"
   },
   {
    "duration": 0,
    "start_time": "2022-10-12T13:46:30.208Z"
   },
   {
    "duration": 0,
    "start_time": "2022-10-12T13:46:30.209Z"
   },
   {
    "duration": 0,
    "start_time": "2022-10-12T13:46:30.210Z"
   },
   {
    "duration": 1,
    "start_time": "2022-10-12T13:46:30.211Z"
   },
   {
    "duration": 0,
    "start_time": "2022-10-12T13:46:30.213Z"
   },
   {
    "duration": 0,
    "start_time": "2022-10-12T13:46:30.215Z"
   },
   {
    "duration": 0,
    "start_time": "2022-10-12T13:46:30.216Z"
   },
   {
    "duration": 0,
    "start_time": "2022-10-12T13:46:30.218Z"
   },
   {
    "duration": 0,
    "start_time": "2022-10-12T13:46:30.219Z"
   },
   {
    "duration": 1,
    "start_time": "2022-10-12T13:46:30.220Z"
   },
   {
    "duration": 0,
    "start_time": "2022-10-12T13:46:30.222Z"
   },
   {
    "duration": 0,
    "start_time": "2022-10-12T13:46:30.223Z"
   },
   {
    "duration": 0,
    "start_time": "2022-10-12T13:46:30.224Z"
   },
   {
    "duration": 0,
    "start_time": "2022-10-12T13:46:30.225Z"
   },
   {
    "duration": 0,
    "start_time": "2022-10-12T13:46:30.226Z"
   },
   {
    "duration": 0,
    "start_time": "2022-10-12T13:46:30.227Z"
   },
   {
    "duration": 0,
    "start_time": "2022-10-12T13:46:30.229Z"
   },
   {
    "duration": 0,
    "start_time": "2022-10-12T13:46:30.230Z"
   },
   {
    "duration": 0,
    "start_time": "2022-10-12T13:46:30.231Z"
   },
   {
    "duration": 0,
    "start_time": "2022-10-12T13:46:30.232Z"
   },
   {
    "duration": 0,
    "start_time": "2022-10-12T13:46:30.233Z"
   },
   {
    "duration": 0,
    "start_time": "2022-10-12T13:46:30.234Z"
   },
   {
    "duration": 6,
    "start_time": "2022-10-12T13:46:55.192Z"
   },
   {
    "duration": 40,
    "start_time": "2022-10-12T13:46:55.211Z"
   },
   {
    "duration": 12,
    "start_time": "2022-10-12T13:46:55.253Z"
   },
   {
    "duration": 0,
    "start_time": "2022-10-12T13:46:55.267Z"
   },
   {
    "duration": 0,
    "start_time": "2022-10-12T13:46:55.268Z"
   },
   {
    "duration": 0,
    "start_time": "2022-10-12T13:46:55.269Z"
   },
   {
    "duration": 0,
    "start_time": "2022-10-12T13:46:55.271Z"
   },
   {
    "duration": 0,
    "start_time": "2022-10-12T13:46:55.272Z"
   },
   {
    "duration": 0,
    "start_time": "2022-10-12T13:46:55.273Z"
   },
   {
    "duration": 0,
    "start_time": "2022-10-12T13:46:55.274Z"
   },
   {
    "duration": 0,
    "start_time": "2022-10-12T13:46:55.275Z"
   },
   {
    "duration": 0,
    "start_time": "2022-10-12T13:46:55.276Z"
   },
   {
    "duration": 0,
    "start_time": "2022-10-12T13:46:55.277Z"
   },
   {
    "duration": 0,
    "start_time": "2022-10-12T13:46:55.278Z"
   },
   {
    "duration": 0,
    "start_time": "2022-10-12T13:46:55.280Z"
   },
   {
    "duration": 0,
    "start_time": "2022-10-12T13:46:55.281Z"
   },
   {
    "duration": 0,
    "start_time": "2022-10-12T13:46:55.295Z"
   },
   {
    "duration": 0,
    "start_time": "2022-10-12T13:46:55.296Z"
   },
   {
    "duration": 0,
    "start_time": "2022-10-12T13:46:55.298Z"
   },
   {
    "duration": 0,
    "start_time": "2022-10-12T13:46:55.299Z"
   },
   {
    "duration": 0,
    "start_time": "2022-10-12T13:46:55.300Z"
   },
   {
    "duration": 0,
    "start_time": "2022-10-12T13:46:55.304Z"
   },
   {
    "duration": 0,
    "start_time": "2022-10-12T13:46:55.304Z"
   },
   {
    "duration": 0,
    "start_time": "2022-10-12T13:46:55.305Z"
   },
   {
    "duration": 0,
    "start_time": "2022-10-12T13:46:55.306Z"
   },
   {
    "duration": 0,
    "start_time": "2022-10-12T13:46:55.306Z"
   },
   {
    "duration": 0,
    "start_time": "2022-10-12T13:46:55.307Z"
   },
   {
    "duration": 0,
    "start_time": "2022-10-12T13:46:55.308Z"
   },
   {
    "duration": 0,
    "start_time": "2022-10-12T13:46:55.309Z"
   },
   {
    "duration": 0,
    "start_time": "2022-10-12T13:46:55.310Z"
   },
   {
    "duration": 0,
    "start_time": "2022-10-12T13:46:55.312Z"
   },
   {
    "duration": 0,
    "start_time": "2022-10-12T13:46:55.313Z"
   },
   {
    "duration": 0,
    "start_time": "2022-10-12T13:46:55.314Z"
   },
   {
    "duration": 0,
    "start_time": "2022-10-12T13:46:55.315Z"
   },
   {
    "duration": 0,
    "start_time": "2022-10-12T13:46:55.315Z"
   },
   {
    "duration": 0,
    "start_time": "2022-10-12T13:46:55.316Z"
   },
   {
    "duration": 0,
    "start_time": "2022-10-12T13:46:55.319Z"
   },
   {
    "duration": 0,
    "start_time": "2022-10-12T13:46:55.320Z"
   },
   {
    "duration": 0,
    "start_time": "2022-10-12T13:46:55.322Z"
   },
   {
    "duration": 10,
    "start_time": "2022-10-12T13:46:55.325Z"
   },
   {
    "duration": 0,
    "start_time": "2022-10-12T13:46:55.337Z"
   },
   {
    "duration": 0,
    "start_time": "2022-10-12T13:46:55.339Z"
   },
   {
    "duration": 0,
    "start_time": "2022-10-12T13:46:55.340Z"
   },
   {
    "duration": 0,
    "start_time": "2022-10-12T13:46:55.342Z"
   },
   {
    "duration": 0,
    "start_time": "2022-10-12T13:46:55.397Z"
   },
   {
    "duration": 0,
    "start_time": "2022-10-12T13:46:55.397Z"
   },
   {
    "duration": 0,
    "start_time": "2022-10-12T13:46:55.398Z"
   },
   {
    "duration": 1257,
    "start_time": "2022-10-12T13:47:29.076Z"
   },
   {
    "duration": 32,
    "start_time": "2022-10-12T13:47:30.336Z"
   },
   {
    "duration": 105,
    "start_time": "2022-10-12T13:47:30.369Z"
   },
   {
    "duration": 0,
    "start_time": "2022-10-12T13:47:30.477Z"
   },
   {
    "duration": 0,
    "start_time": "2022-10-12T13:47:30.479Z"
   },
   {
    "duration": 0,
    "start_time": "2022-10-12T13:47:30.480Z"
   },
   {
    "duration": 0,
    "start_time": "2022-10-12T13:47:30.482Z"
   },
   {
    "duration": 0,
    "start_time": "2022-10-12T13:47:30.483Z"
   },
   {
    "duration": 0,
    "start_time": "2022-10-12T13:47:30.484Z"
   },
   {
    "duration": 0,
    "start_time": "2022-10-12T13:47:30.486Z"
   },
   {
    "duration": 0,
    "start_time": "2022-10-12T13:47:30.499Z"
   },
   {
    "duration": 0,
    "start_time": "2022-10-12T13:47:30.499Z"
   },
   {
    "duration": 0,
    "start_time": "2022-10-12T13:47:30.500Z"
   },
   {
    "duration": 0,
    "start_time": "2022-10-12T13:47:30.500Z"
   },
   {
    "duration": 0,
    "start_time": "2022-10-12T13:47:30.501Z"
   },
   {
    "duration": 0,
    "start_time": "2022-10-12T13:47:30.501Z"
   },
   {
    "duration": 0,
    "start_time": "2022-10-12T13:47:30.502Z"
   },
   {
    "duration": 0,
    "start_time": "2022-10-12T13:47:30.503Z"
   },
   {
    "duration": 0,
    "start_time": "2022-10-12T13:47:30.503Z"
   },
   {
    "duration": 0,
    "start_time": "2022-10-12T13:47:30.504Z"
   },
   {
    "duration": 0,
    "start_time": "2022-10-12T13:47:30.504Z"
   },
   {
    "duration": 0,
    "start_time": "2022-10-12T13:47:30.505Z"
   },
   {
    "duration": 0,
    "start_time": "2022-10-12T13:47:30.506Z"
   },
   {
    "duration": 0,
    "start_time": "2022-10-12T13:47:30.507Z"
   },
   {
    "duration": 0,
    "start_time": "2022-10-12T13:47:30.507Z"
   },
   {
    "duration": 0,
    "start_time": "2022-10-12T13:47:30.508Z"
   },
   {
    "duration": 0,
    "start_time": "2022-10-12T13:47:30.509Z"
   },
   {
    "duration": 0,
    "start_time": "2022-10-12T13:47:30.510Z"
   },
   {
    "duration": 0,
    "start_time": "2022-10-12T13:47:30.510Z"
   },
   {
    "duration": 0,
    "start_time": "2022-10-12T13:47:30.511Z"
   },
   {
    "duration": 0,
    "start_time": "2022-10-12T13:47:30.514Z"
   },
   {
    "duration": 0,
    "start_time": "2022-10-12T13:47:30.517Z"
   },
   {
    "duration": 0,
    "start_time": "2022-10-12T13:47:30.518Z"
   },
   {
    "duration": 0,
    "start_time": "2022-10-12T13:47:30.518Z"
   },
   {
    "duration": 0,
    "start_time": "2022-10-12T13:47:30.521Z"
   },
   {
    "duration": 0,
    "start_time": "2022-10-12T13:47:30.523Z"
   },
   {
    "duration": 0,
    "start_time": "2022-10-12T13:47:30.523Z"
   },
   {
    "duration": 1,
    "start_time": "2022-10-12T13:47:30.524Z"
   },
   {
    "duration": 0,
    "start_time": "2022-10-12T13:47:30.525Z"
   },
   {
    "duration": 0,
    "start_time": "2022-10-12T13:47:30.526Z"
   },
   {
    "duration": 0,
    "start_time": "2022-10-12T13:47:30.528Z"
   },
   {
    "duration": 0,
    "start_time": "2022-10-12T13:47:30.529Z"
   },
   {
    "duration": 0,
    "start_time": "2022-10-12T13:47:30.530Z"
   },
   {
    "duration": 0,
    "start_time": "2022-10-12T13:47:30.531Z"
   },
   {
    "duration": 0,
    "start_time": "2022-10-12T13:47:30.531Z"
   },
   {
    "duration": 0,
    "start_time": "2022-10-12T13:47:30.532Z"
   },
   {
    "duration": 0,
    "start_time": "2022-10-12T13:47:30.533Z"
   },
   {
    "duration": 1322,
    "start_time": "2022-10-12T13:54:52.261Z"
   },
   {
    "duration": 32,
    "start_time": "2022-10-12T13:54:53.585Z"
   },
   {
    "duration": 97,
    "start_time": "2022-10-12T13:54:53.619Z"
   },
   {
    "duration": 0,
    "start_time": "2022-10-12T13:54:53.720Z"
   },
   {
    "duration": 0,
    "start_time": "2022-10-12T13:54:53.721Z"
   },
   {
    "duration": 0,
    "start_time": "2022-10-12T13:54:53.722Z"
   },
   {
    "duration": 0,
    "start_time": "2022-10-12T13:54:53.723Z"
   },
   {
    "duration": 0,
    "start_time": "2022-10-12T13:54:53.725Z"
   },
   {
    "duration": 0,
    "start_time": "2022-10-12T13:54:53.726Z"
   },
   {
    "duration": 0,
    "start_time": "2022-10-12T13:54:53.728Z"
   },
   {
    "duration": 0,
    "start_time": "2022-10-12T13:54:53.729Z"
   },
   {
    "duration": 0,
    "start_time": "2022-10-12T13:54:53.730Z"
   },
   {
    "duration": 0,
    "start_time": "2022-10-12T13:54:53.732Z"
   },
   {
    "duration": 0,
    "start_time": "2022-10-12T13:54:53.733Z"
   },
   {
    "duration": 0,
    "start_time": "2022-10-12T13:54:53.736Z"
   },
   {
    "duration": 0,
    "start_time": "2022-10-12T13:54:53.738Z"
   },
   {
    "duration": 0,
    "start_time": "2022-10-12T13:54:53.739Z"
   },
   {
    "duration": 0,
    "start_time": "2022-10-12T13:54:53.740Z"
   },
   {
    "duration": 0,
    "start_time": "2022-10-12T13:54:53.741Z"
   },
   {
    "duration": 0,
    "start_time": "2022-10-12T13:54:53.743Z"
   },
   {
    "duration": 0,
    "start_time": "2022-10-12T13:54:53.744Z"
   },
   {
    "duration": 0,
    "start_time": "2022-10-12T13:54:53.746Z"
   },
   {
    "duration": 0,
    "start_time": "2022-10-12T13:54:53.747Z"
   },
   {
    "duration": 1,
    "start_time": "2022-10-12T13:54:53.748Z"
   },
   {
    "duration": 0,
    "start_time": "2022-10-12T13:54:53.750Z"
   },
   {
    "duration": 0,
    "start_time": "2022-10-12T13:54:53.752Z"
   },
   {
    "duration": 0,
    "start_time": "2022-10-12T13:54:53.795Z"
   },
   {
    "duration": 0,
    "start_time": "2022-10-12T13:54:53.797Z"
   },
   {
    "duration": 0,
    "start_time": "2022-10-12T13:54:53.798Z"
   },
   {
    "duration": 0,
    "start_time": "2022-10-12T13:54:53.800Z"
   },
   {
    "duration": 0,
    "start_time": "2022-10-12T13:54:53.801Z"
   },
   {
    "duration": 0,
    "start_time": "2022-10-12T13:54:53.802Z"
   },
   {
    "duration": 0,
    "start_time": "2022-10-12T13:54:53.803Z"
   },
   {
    "duration": 0,
    "start_time": "2022-10-12T13:54:53.805Z"
   },
   {
    "duration": 0,
    "start_time": "2022-10-12T13:54:53.806Z"
   },
   {
    "duration": 0,
    "start_time": "2022-10-12T13:54:53.807Z"
   },
   {
    "duration": 0,
    "start_time": "2022-10-12T13:54:53.809Z"
   },
   {
    "duration": 0,
    "start_time": "2022-10-12T13:54:53.810Z"
   },
   {
    "duration": 0,
    "start_time": "2022-10-12T13:54:53.812Z"
   },
   {
    "duration": 0,
    "start_time": "2022-10-12T13:54:53.813Z"
   },
   {
    "duration": 0,
    "start_time": "2022-10-12T13:54:53.814Z"
   },
   {
    "duration": 0,
    "start_time": "2022-10-12T13:54:53.815Z"
   },
   {
    "duration": 0,
    "start_time": "2022-10-12T13:54:53.816Z"
   },
   {
    "duration": 0,
    "start_time": "2022-10-12T13:54:53.817Z"
   },
   {
    "duration": 0,
    "start_time": "2022-10-12T13:54:53.818Z"
   },
   {
    "duration": 0,
    "start_time": "2022-10-12T13:54:53.819Z"
   },
   {
    "duration": 0,
    "start_time": "2022-10-12T13:54:53.820Z"
   },
   {
    "duration": 1240,
    "start_time": "2022-10-12T14:06:15.460Z"
   },
   {
    "duration": 284,
    "start_time": "2022-10-12T14:06:16.702Z"
   },
   {
    "duration": 13,
    "start_time": "2022-10-12T14:06:16.987Z"
   },
   {
    "duration": 10,
    "start_time": "2022-10-12T14:06:17.002Z"
   },
   {
    "duration": 11,
    "start_time": "2022-10-12T14:06:17.015Z"
   },
   {
    "duration": 90,
    "start_time": "2022-10-12T14:06:17.028Z"
   },
   {
    "duration": 44,
    "start_time": "2022-10-12T14:06:17.120Z"
   },
   {
    "duration": 65,
    "start_time": "2022-10-12T14:06:17.166Z"
   },
   {
    "duration": 94,
    "start_time": "2022-10-12T14:06:17.233Z"
   },
   {
    "duration": 10,
    "start_time": "2022-10-12T14:06:17.329Z"
   },
   {
    "duration": 12,
    "start_time": "2022-10-12T14:06:17.341Z"
   },
   {
    "duration": 41,
    "start_time": "2022-10-12T14:06:17.355Z"
   },
   {
    "duration": 16,
    "start_time": "2022-10-12T14:06:17.398Z"
   },
   {
    "duration": 18,
    "start_time": "2022-10-12T14:06:17.417Z"
   },
   {
    "duration": 33,
    "start_time": "2022-10-12T14:06:17.437Z"
   },
   {
    "duration": 89,
    "start_time": "2022-10-12T14:06:17.472Z"
   },
   {
    "duration": 7,
    "start_time": "2022-10-12T14:06:17.563Z"
   },
   {
    "duration": 24,
    "start_time": "2022-10-12T14:06:17.572Z"
   },
   {
    "duration": 14,
    "start_time": "2022-10-12T14:06:17.598Z"
   },
   {
    "duration": 21,
    "start_time": "2022-10-12T14:06:17.614Z"
   },
   {
    "duration": 17,
    "start_time": "2022-10-12T14:06:17.637Z"
   },
   {
    "duration": 48,
    "start_time": "2022-10-12T14:06:17.656Z"
   },
   {
    "duration": 35,
    "start_time": "2022-10-12T14:06:17.706Z"
   },
   {
    "duration": 84,
    "start_time": "2022-10-12T14:06:17.743Z"
   },
   {
    "duration": 99,
    "start_time": "2022-10-12T14:06:17.829Z"
   },
   {
    "duration": 224,
    "start_time": "2022-10-12T14:06:17.931Z"
   },
   {
    "duration": 5,
    "start_time": "2022-10-12T14:06:18.157Z"
   },
   {
    "duration": 435,
    "start_time": "2022-10-12T14:06:18.164Z"
   },
   {
    "duration": 212,
    "start_time": "2022-10-12T14:06:18.601Z"
   },
   {
    "duration": 316,
    "start_time": "2022-10-12T14:06:18.815Z"
   },
   {
    "duration": 307,
    "start_time": "2022-10-12T14:06:19.132Z"
   },
   {
    "duration": 416,
    "start_time": "2022-10-12T14:06:19.440Z"
   },
   {
    "duration": 224,
    "start_time": "2022-10-12T14:06:19.859Z"
   },
   {
    "duration": 344,
    "start_time": "2022-10-12T14:06:20.085Z"
   },
   {
    "duration": 20,
    "start_time": "2022-10-12T14:06:20.431Z"
   },
   {
    "duration": 46,
    "start_time": "2022-10-12T14:06:20.453Z"
   },
   {
    "duration": 8,
    "start_time": "2022-10-12T14:06:20.501Z"
   },
   {
    "duration": 43,
    "start_time": "2022-10-12T14:06:20.511Z"
   },
   {
    "duration": 39,
    "start_time": "2022-10-12T14:06:20.556Z"
   },
   {
    "duration": 49,
    "start_time": "2022-10-12T14:06:20.597Z"
   },
   {
    "duration": 67,
    "start_time": "2022-10-12T14:06:20.650Z"
   },
   {
    "duration": 39,
    "start_time": "2022-10-12T14:06:20.719Z"
   },
   {
    "duration": 51,
    "start_time": "2022-10-12T14:06:20.761Z"
   },
   {
    "duration": 11,
    "start_time": "2022-10-12T14:06:20.814Z"
   },
   {
    "duration": 24,
    "start_time": "2022-10-12T14:06:20.827Z"
   },
   {
    "duration": 55,
    "start_time": "2022-10-12T14:06:20.854Z"
   },
   {
    "duration": 29,
    "start_time": "2022-10-12T14:06:20.910Z"
   },
   {
    "duration": 28,
    "start_time": "2022-10-12T14:27:02.663Z"
   },
   {
    "duration": 34,
    "start_time": "2022-10-12T14:27:16.457Z"
   },
   {
    "duration": 42,
    "start_time": "2022-10-12T14:27:24.504Z"
   },
   {
    "duration": 1300,
    "start_time": "2022-10-12T14:27:36.280Z"
   },
   {
    "duration": 263,
    "start_time": "2022-10-12T14:27:37.582Z"
   },
   {
    "duration": 14,
    "start_time": "2022-10-12T14:27:37.847Z"
   },
   {
    "duration": 11,
    "start_time": "2022-10-12T14:27:37.865Z"
   },
   {
    "duration": 9,
    "start_time": "2022-10-12T14:27:37.878Z"
   },
   {
    "duration": 57,
    "start_time": "2022-10-12T14:27:37.888Z"
   },
   {
    "duration": 57,
    "start_time": "2022-10-12T14:27:37.947Z"
   },
   {
    "duration": 53,
    "start_time": "2022-10-12T14:27:38.006Z"
   },
   {
    "duration": 100,
    "start_time": "2022-10-12T14:27:38.061Z"
   },
   {
    "duration": 17,
    "start_time": "2022-10-12T14:27:38.164Z"
   },
   {
    "duration": 15,
    "start_time": "2022-10-12T14:27:38.196Z"
   },
   {
    "duration": 26,
    "start_time": "2022-10-12T14:27:38.213Z"
   },
   {
    "duration": 16,
    "start_time": "2022-10-12T14:27:38.241Z"
   },
   {
    "duration": 38,
    "start_time": "2022-10-12T14:27:38.259Z"
   },
   {
    "duration": 30,
    "start_time": "2022-10-12T14:27:38.299Z"
   },
   {
    "duration": 93,
    "start_time": "2022-10-12T14:27:38.330Z"
   },
   {
    "duration": 6,
    "start_time": "2022-10-12T14:27:38.424Z"
   },
   {
    "duration": 11,
    "start_time": "2022-10-12T14:27:38.432Z"
   },
   {
    "duration": 14,
    "start_time": "2022-10-12T14:27:38.445Z"
   },
   {
    "duration": 36,
    "start_time": "2022-10-12T14:27:38.460Z"
   },
   {
    "duration": 14,
    "start_time": "2022-10-12T14:27:38.498Z"
   },
   {
    "duration": 33,
    "start_time": "2022-10-12T14:27:38.514Z"
   },
   {
    "duration": 46,
    "start_time": "2022-10-12T14:27:38.549Z"
   },
   {
    "duration": 47,
    "start_time": "2022-10-12T14:27:38.597Z"
   },
   {
    "duration": 89,
    "start_time": "2022-10-12T14:27:38.645Z"
   },
   {
    "duration": 171,
    "start_time": "2022-10-12T14:27:38.736Z"
   },
   {
    "duration": 4,
    "start_time": "2022-10-12T14:27:38.909Z"
   },
   {
    "duration": 389,
    "start_time": "2022-10-12T14:27:38.917Z"
   },
   {
    "duration": 196,
    "start_time": "2022-10-12T14:27:39.308Z"
   },
   {
    "duration": 290,
    "start_time": "2022-10-12T14:27:39.505Z"
   },
   {
    "duration": 301,
    "start_time": "2022-10-12T14:27:39.796Z"
   },
   {
    "duration": 405,
    "start_time": "2022-10-12T14:27:40.099Z"
   },
   {
    "duration": 222,
    "start_time": "2022-10-12T14:27:40.506Z"
   },
   {
    "duration": 363,
    "start_time": "2022-10-12T14:27:40.730Z"
   },
   {
    "duration": 28,
    "start_time": "2022-10-12T14:27:41.095Z"
   },
   {
    "duration": 71,
    "start_time": "2022-10-12T14:27:41.125Z"
   },
   {
    "duration": 8,
    "start_time": "2022-10-12T14:27:41.199Z"
   },
   {
    "duration": 25,
    "start_time": "2022-10-12T14:27:41.209Z"
   },
   {
    "duration": 10,
    "start_time": "2022-10-12T14:27:41.237Z"
   },
   {
    "duration": 114,
    "start_time": "2022-10-12T14:27:41.250Z"
   },
   {
    "duration": 58,
    "start_time": "2022-10-12T14:27:41.366Z"
   },
   {
    "duration": 42,
    "start_time": "2022-10-12T14:27:41.426Z"
   },
   {
    "duration": 58,
    "start_time": "2022-10-12T14:27:41.470Z"
   },
   {
    "duration": 31,
    "start_time": "2022-10-12T14:27:41.530Z"
   },
   {
    "duration": 34,
    "start_time": "2022-10-12T14:27:41.563Z"
   },
   {
    "duration": 27,
    "start_time": "2022-10-12T14:27:41.599Z"
   },
   {
    "duration": 15,
    "start_time": "2022-10-12T14:27:41.629Z"
   },
   {
    "duration": 14,
    "start_time": "2022-10-12T14:31:33.450Z"
   },
   {
    "duration": 15,
    "start_time": "2022-10-12T14:34:23.545Z"
   },
   {
    "duration": 6,
    "start_time": "2022-10-12T14:36:29.755Z"
   },
   {
    "duration": 14,
    "start_time": "2022-10-12T14:36:42.423Z"
   },
   {
    "duration": 1282,
    "start_time": "2022-10-12T14:37:49.147Z"
   },
   {
    "duration": 267,
    "start_time": "2022-10-12T14:37:50.431Z"
   },
   {
    "duration": 15,
    "start_time": "2022-10-12T14:37:50.700Z"
   },
   {
    "duration": 15,
    "start_time": "2022-10-12T14:37:50.718Z"
   },
   {
    "duration": 20,
    "start_time": "2022-10-12T14:37:50.735Z"
   },
   {
    "duration": 101,
    "start_time": "2022-10-12T14:37:50.758Z"
   },
   {
    "duration": 54,
    "start_time": "2022-10-12T14:37:50.860Z"
   },
   {
    "duration": 47,
    "start_time": "2022-10-12T14:37:50.916Z"
   },
   {
    "duration": 102,
    "start_time": "2022-10-12T14:37:50.996Z"
   },
   {
    "duration": 17,
    "start_time": "2022-10-12T14:37:51.101Z"
   },
   {
    "duration": 63,
    "start_time": "2022-10-12T14:37:51.120Z"
   },
   {
    "duration": 34,
    "start_time": "2022-10-12T14:37:51.185Z"
   },
   {
    "duration": 21,
    "start_time": "2022-10-12T14:37:51.221Z"
   },
   {
    "duration": 17,
    "start_time": "2022-10-12T14:37:51.244Z"
   },
   {
    "duration": 81,
    "start_time": "2022-10-12T14:37:51.264Z"
   },
   {
    "duration": 78,
    "start_time": "2022-10-12T14:37:51.347Z"
   },
   {
    "duration": 6,
    "start_time": "2022-10-12T14:37:51.427Z"
   },
   {
    "duration": 8,
    "start_time": "2022-10-12T14:37:51.434Z"
   },
   {
    "duration": 15,
    "start_time": "2022-10-12T14:37:51.444Z"
   },
   {
    "duration": 15,
    "start_time": "2022-10-12T14:37:51.461Z"
   },
   {
    "duration": 13,
    "start_time": "2022-10-12T14:37:51.496Z"
   },
   {
    "duration": 29,
    "start_time": "2022-10-12T14:37:51.511Z"
   },
   {
    "duration": 25,
    "start_time": "2022-10-12T14:37:51.542Z"
   },
   {
    "duration": 79,
    "start_time": "2022-10-12T14:37:51.569Z"
   },
   {
    "duration": 81,
    "start_time": "2022-10-12T14:37:51.649Z"
   },
   {
    "duration": 153,
    "start_time": "2022-10-12T14:37:51.731Z"
   },
   {
    "duration": 4,
    "start_time": "2022-10-12T14:37:51.886Z"
   },
   {
    "duration": 390,
    "start_time": "2022-10-12T14:37:51.897Z"
   },
   {
    "duration": 193,
    "start_time": "2022-10-12T14:37:52.289Z"
   },
   {
    "duration": 296,
    "start_time": "2022-10-12T14:37:52.484Z"
   },
   {
    "duration": 309,
    "start_time": "2022-10-12T14:37:52.782Z"
   },
   {
    "duration": 399,
    "start_time": "2022-10-12T14:37:53.094Z"
   },
   {
    "duration": 223,
    "start_time": "2022-10-12T14:37:53.496Z"
   },
   {
    "duration": 348,
    "start_time": "2022-10-12T14:37:53.722Z"
   },
   {
    "duration": 26,
    "start_time": "2022-10-12T14:37:54.071Z"
   },
   {
    "duration": 16,
    "start_time": "2022-10-12T14:37:54.098Z"
   },
   {
    "duration": 6,
    "start_time": "2022-10-12T14:37:54.116Z"
   },
   {
    "duration": 72,
    "start_time": "2022-10-12T14:37:54.124Z"
   },
   {
    "duration": 5,
    "start_time": "2022-10-12T14:37:54.199Z"
   },
   {
    "duration": 106,
    "start_time": "2022-10-12T14:37:54.205Z"
   },
   {
    "duration": 48,
    "start_time": "2022-10-12T14:37:54.313Z"
   },
   {
    "duration": 71,
    "start_time": "2022-10-12T14:37:54.363Z"
   },
   {
    "duration": 34,
    "start_time": "2022-10-12T14:37:54.436Z"
   },
   {
    "duration": 44,
    "start_time": "2022-10-12T14:37:54.472Z"
   },
   {
    "duration": 17,
    "start_time": "2022-10-12T14:37:54.518Z"
   },
   {
    "duration": 20,
    "start_time": "2022-10-12T14:37:54.537Z"
   },
   {
    "duration": 46,
    "start_time": "2022-10-12T14:37:54.559Z"
   },
   {
    "duration": 10,
    "start_time": "2022-10-12T14:37:54.607Z"
   },
   {
    "duration": 14,
    "start_time": "2022-10-12T14:42:55.040Z"
   },
   {
    "duration": 12,
    "start_time": "2022-10-12T14:48:21.426Z"
   },
   {
    "duration": 16,
    "start_time": "2022-10-12T14:48:44.869Z"
   },
   {
    "duration": 5,
    "start_time": "2022-10-12T14:51:10.217Z"
   },
   {
    "duration": 14,
    "start_time": "2022-10-12T14:51:31.492Z"
   },
   {
    "duration": 14,
    "start_time": "2022-10-12T14:51:48.218Z"
   },
   {
    "duration": 11,
    "start_time": "2022-10-12T14:51:54.164Z"
   },
   {
    "duration": 1302,
    "start_time": "2022-10-13T09:18:46.663Z"
   },
   {
    "duration": 277,
    "start_time": "2022-10-13T09:18:47.967Z"
   },
   {
    "duration": 14,
    "start_time": "2022-10-13T09:18:48.246Z"
   },
   {
    "duration": 8,
    "start_time": "2022-10-13T09:18:48.262Z"
   },
   {
    "duration": 9,
    "start_time": "2022-10-13T09:18:48.272Z"
   },
   {
    "duration": 62,
    "start_time": "2022-10-13T09:18:48.282Z"
   },
   {
    "duration": 61,
    "start_time": "2022-10-13T09:18:48.346Z"
   },
   {
    "duration": 41,
    "start_time": "2022-10-13T09:18:48.408Z"
   },
   {
    "duration": 86,
    "start_time": "2022-10-13T09:18:48.450Z"
   },
   {
    "duration": 11,
    "start_time": "2022-10-13T09:18:48.539Z"
   },
   {
    "duration": 12,
    "start_time": "2022-10-13T09:18:48.551Z"
   },
   {
    "duration": 37,
    "start_time": "2022-10-13T09:18:48.565Z"
   },
   {
    "duration": 12,
    "start_time": "2022-10-13T09:18:48.603Z"
   },
   {
    "duration": 9,
    "start_time": "2022-10-13T09:18:48.617Z"
   },
   {
    "duration": 28,
    "start_time": "2022-10-13T09:18:48.627Z"
   },
   {
    "duration": 105,
    "start_time": "2022-10-13T09:18:48.657Z"
   },
   {
    "duration": 8,
    "start_time": "2022-10-13T09:18:48.764Z"
   },
   {
    "duration": 22,
    "start_time": "2022-10-13T09:18:48.773Z"
   },
   {
    "duration": 13,
    "start_time": "2022-10-13T09:18:48.797Z"
   },
   {
    "duration": 29,
    "start_time": "2022-10-13T09:18:48.812Z"
   },
   {
    "duration": 21,
    "start_time": "2022-10-13T09:18:48.844Z"
   },
   {
    "duration": 46,
    "start_time": "2022-10-13T09:18:48.867Z"
   },
   {
    "duration": 27,
    "start_time": "2022-10-13T09:18:48.916Z"
   },
   {
    "duration": 68,
    "start_time": "2022-10-13T09:18:48.945Z"
   },
   {
    "duration": 81,
    "start_time": "2022-10-13T09:18:49.015Z"
   },
   {
    "duration": 150,
    "start_time": "2022-10-13T09:18:49.098Z"
   },
   {
    "duration": 3,
    "start_time": "2022-10-13T09:18:49.249Z"
   },
   {
    "duration": 398,
    "start_time": "2022-10-13T09:18:49.256Z"
   },
   {
    "duration": 204,
    "start_time": "2022-10-13T09:18:49.656Z"
   },
   {
    "duration": 329,
    "start_time": "2022-10-13T09:18:49.862Z"
   },
   {
    "duration": 290,
    "start_time": "2022-10-13T09:18:50.193Z"
   },
   {
    "duration": 392,
    "start_time": "2022-10-13T09:18:50.484Z"
   },
   {
    "duration": 223,
    "start_time": "2022-10-13T09:18:50.878Z"
   },
   {
    "duration": 346,
    "start_time": "2022-10-13T09:18:51.103Z"
   },
   {
    "duration": 45,
    "start_time": "2022-10-13T09:18:51.451Z"
   },
   {
    "duration": 20,
    "start_time": "2022-10-13T09:18:51.498Z"
   },
   {
    "duration": 7,
    "start_time": "2022-10-13T09:18:51.520Z"
   },
   {
    "duration": 16,
    "start_time": "2022-10-13T09:18:51.528Z"
   },
   {
    "duration": 4,
    "start_time": "2022-10-13T09:18:51.596Z"
   },
   {
    "duration": 49,
    "start_time": "2022-10-13T09:18:51.602Z"
   },
   {
    "duration": 74,
    "start_time": "2022-10-13T09:18:51.653Z"
   },
   {
    "duration": 38,
    "start_time": "2022-10-13T09:18:51.728Z"
   },
   {
    "duration": 50,
    "start_time": "2022-10-13T09:18:51.768Z"
   },
   {
    "duration": 25,
    "start_time": "2022-10-13T09:18:51.820Z"
   },
   {
    "duration": 14,
    "start_time": "2022-10-13T09:18:51.846Z"
   },
   {
    "duration": 40,
    "start_time": "2022-10-13T09:18:51.862Z"
   },
   {
    "duration": 14,
    "start_time": "2022-10-13T09:18:51.904Z"
   },
   {
    "duration": 17,
    "start_time": "2022-10-13T09:18:51.920Z"
   },
   {
    "duration": 14,
    "start_time": "2022-10-13T09:18:51.939Z"
   },
   {
    "duration": 58,
    "start_time": "2022-10-13T09:18:51.955Z"
   },
   {
    "duration": 15,
    "start_time": "2022-10-13T09:18:52.016Z"
   },
   {
    "duration": 5,
    "start_time": "2022-10-13T09:19:21.597Z"
   },
   {
    "duration": 278,
    "start_time": "2022-10-13T09:19:21.605Z"
   },
   {
    "duration": 8,
    "start_time": "2022-10-13T09:19:21.885Z"
   },
   {
    "duration": 11,
    "start_time": "2022-10-13T09:19:21.895Z"
   },
   {
    "duration": 8,
    "start_time": "2022-10-13T09:19:21.908Z"
   },
   {
    "duration": 81,
    "start_time": "2022-10-13T09:19:21.918Z"
   },
   {
    "duration": 32,
    "start_time": "2022-10-13T09:19:22.001Z"
   },
   {
    "duration": 66,
    "start_time": "2022-10-13T09:19:22.035Z"
   },
   {
    "duration": 31,
    "start_time": "2022-10-13T09:19:22.103Z"
   },
   {
    "duration": 11,
    "start_time": "2022-10-13T09:19:22.136Z"
   },
   {
    "duration": 14,
    "start_time": "2022-10-13T09:19:22.149Z"
   },
   {
    "duration": 44,
    "start_time": "2022-10-13T09:19:22.165Z"
   },
   {
    "duration": 13,
    "start_time": "2022-10-13T09:19:22.211Z"
   },
   {
    "duration": 14,
    "start_time": "2022-10-13T09:19:22.225Z"
   },
   {
    "duration": 36,
    "start_time": "2022-10-13T09:19:22.240Z"
   },
   {
    "duration": 86,
    "start_time": "2022-10-13T09:19:22.277Z"
   },
   {
    "duration": 6,
    "start_time": "2022-10-13T09:19:22.364Z"
   },
   {
    "duration": 25,
    "start_time": "2022-10-13T09:19:22.373Z"
   },
   {
    "duration": 16,
    "start_time": "2022-10-13T09:19:22.400Z"
   },
   {
    "duration": 18,
    "start_time": "2022-10-13T09:19:22.418Z"
   },
   {
    "duration": 123,
    "start_time": "2022-10-13T09:19:22.438Z"
   },
   {
    "duration": 33,
    "start_time": "2022-10-13T09:19:22.563Z"
   },
   {
    "duration": 26,
    "start_time": "2022-10-13T09:19:22.598Z"
   },
   {
    "duration": 42,
    "start_time": "2022-10-13T09:19:22.625Z"
   },
   {
    "duration": 89,
    "start_time": "2022-10-13T09:19:22.668Z"
   },
   {
    "duration": 197,
    "start_time": "2022-10-13T09:19:22.759Z"
   },
   {
    "duration": 4,
    "start_time": "2022-10-13T09:19:22.958Z"
   },
   {
    "duration": 332,
    "start_time": "2022-10-13T09:19:22.965Z"
   },
   {
    "duration": 201,
    "start_time": "2022-10-13T09:19:23.299Z"
   },
   {
    "duration": 309,
    "start_time": "2022-10-13T09:19:23.501Z"
   },
   {
    "duration": 223,
    "start_time": "2022-10-13T09:19:23.811Z"
   },
   {
    "duration": 408,
    "start_time": "2022-10-13T09:19:24.036Z"
   },
   {
    "duration": 224,
    "start_time": "2022-10-13T09:19:24.445Z"
   },
   {
    "duration": 43,
    "start_time": "2022-10-13T09:19:24.671Z"
   },
   {
    "duration": 23,
    "start_time": "2022-10-13T09:19:24.715Z"
   },
   {
    "duration": 14,
    "start_time": "2022-10-13T09:19:24.740Z"
   },
   {
    "duration": 6,
    "start_time": "2022-10-13T09:19:24.756Z"
   },
   {
    "duration": 33,
    "start_time": "2022-10-13T09:19:24.763Z"
   },
   {
    "duration": 8,
    "start_time": "2022-10-13T09:19:24.798Z"
   },
   {
    "duration": 52,
    "start_time": "2022-10-13T09:19:24.808Z"
   },
   {
    "duration": 53,
    "start_time": "2022-10-13T09:19:24.863Z"
   },
   {
    "duration": 37,
    "start_time": "2022-10-13T09:19:24.917Z"
   },
   {
    "duration": 50,
    "start_time": "2022-10-13T09:19:24.956Z"
   },
   {
    "duration": 27,
    "start_time": "2022-10-13T09:19:25.007Z"
   },
   {
    "duration": 13,
    "start_time": "2022-10-13T09:19:25.036Z"
   },
   {
    "duration": 14,
    "start_time": "2022-10-13T09:19:25.050Z"
   },
   {
    "duration": 38,
    "start_time": "2022-10-13T09:19:25.066Z"
   },
   {
    "duration": 13,
    "start_time": "2022-10-13T09:19:25.106Z"
   },
   {
    "duration": 10,
    "start_time": "2022-10-13T09:19:25.120Z"
   },
   {
    "duration": 28,
    "start_time": "2022-10-13T09:19:25.132Z"
   },
   {
    "duration": 37,
    "start_time": "2022-10-13T09:19:25.162Z"
   },
   {
    "duration": 1224,
    "start_time": "2022-10-13T09:19:32.150Z"
   },
   {
    "duration": 262,
    "start_time": "2022-10-13T09:19:33.376Z"
   },
   {
    "duration": 13,
    "start_time": "2022-10-13T09:19:33.640Z"
   },
   {
    "duration": 8,
    "start_time": "2022-10-13T09:19:33.656Z"
   },
   {
    "duration": 10,
    "start_time": "2022-10-13T09:19:33.666Z"
   },
   {
    "duration": 60,
    "start_time": "2022-10-13T09:19:33.678Z"
   },
   {
    "duration": 57,
    "start_time": "2022-10-13T09:19:33.740Z"
   },
   {
    "duration": 44,
    "start_time": "2022-10-13T09:19:33.798Z"
   },
   {
    "duration": 90,
    "start_time": "2022-10-13T09:19:33.843Z"
   },
   {
    "duration": 12,
    "start_time": "2022-10-13T09:19:33.936Z"
   },
   {
    "duration": 15,
    "start_time": "2022-10-13T09:19:33.949Z"
   },
   {
    "duration": 49,
    "start_time": "2022-10-13T09:19:33.966Z"
   },
   {
    "duration": 12,
    "start_time": "2022-10-13T09:19:34.017Z"
   },
   {
    "duration": 9,
    "start_time": "2022-10-13T09:19:34.031Z"
   },
   {
    "duration": 32,
    "start_time": "2022-10-13T09:19:34.042Z"
   },
   {
    "duration": 71,
    "start_time": "2022-10-13T09:19:34.095Z"
   },
   {
    "duration": 7,
    "start_time": "2022-10-13T09:19:34.168Z"
   },
   {
    "duration": 6,
    "start_time": "2022-10-13T09:19:34.195Z"
   },
   {
    "duration": 15,
    "start_time": "2022-10-13T09:19:34.202Z"
   },
   {
    "duration": 15,
    "start_time": "2022-10-13T09:19:34.219Z"
   },
   {
    "duration": 17,
    "start_time": "2022-10-13T09:19:34.236Z"
   },
   {
    "duration": 49,
    "start_time": "2022-10-13T09:19:34.255Z"
   },
   {
    "duration": 26,
    "start_time": "2022-10-13T09:19:34.305Z"
   },
   {
    "duration": 63,
    "start_time": "2022-10-13T09:19:34.333Z"
   },
   {
    "duration": 70,
    "start_time": "2022-10-13T09:19:34.398Z"
   },
   {
    "duration": 158,
    "start_time": "2022-10-13T09:19:34.470Z"
   },
   {
    "duration": 3,
    "start_time": "2022-10-13T09:19:34.630Z"
   },
   {
    "duration": 391,
    "start_time": "2022-10-13T09:19:34.637Z"
   },
   {
    "duration": 193,
    "start_time": "2022-10-13T09:19:35.029Z"
   },
   {
    "duration": 291,
    "start_time": "2022-10-13T09:19:35.224Z"
   },
   {
    "duration": 330,
    "start_time": "2022-10-13T09:19:35.516Z"
   },
   {
    "duration": 434,
    "start_time": "2022-10-13T09:19:35.848Z"
   },
   {
    "duration": 233,
    "start_time": "2022-10-13T09:19:36.284Z"
   },
   {
    "duration": 425,
    "start_time": "2022-10-13T09:19:36.520Z"
   },
   {
    "duration": 27,
    "start_time": "2022-10-13T09:19:36.947Z"
   },
   {
    "duration": 30,
    "start_time": "2022-10-13T09:19:36.976Z"
   },
   {
    "duration": 5,
    "start_time": "2022-10-13T09:19:37.008Z"
   },
   {
    "duration": 18,
    "start_time": "2022-10-13T09:19:37.014Z"
   },
   {
    "duration": 8,
    "start_time": "2022-10-13T09:19:37.034Z"
   },
   {
    "duration": 49,
    "start_time": "2022-10-13T09:19:37.096Z"
   },
   {
    "duration": 67,
    "start_time": "2022-10-13T09:19:37.147Z"
   },
   {
    "duration": 40,
    "start_time": "2022-10-13T09:19:37.216Z"
   },
   {
    "duration": 54,
    "start_time": "2022-10-13T09:19:37.257Z"
   },
   {
    "duration": 23,
    "start_time": "2022-10-13T09:19:37.313Z"
   },
   {
    "duration": 12,
    "start_time": "2022-10-13T09:19:37.338Z"
   },
   {
    "duration": 13,
    "start_time": "2022-10-13T09:19:37.351Z"
   },
   {
    "duration": 38,
    "start_time": "2022-10-13T09:19:37.366Z"
   },
   {
    "duration": 13,
    "start_time": "2022-10-13T09:19:37.405Z"
   },
   {
    "duration": 10,
    "start_time": "2022-10-13T09:19:37.420Z"
   },
   {
    "duration": 28,
    "start_time": "2022-10-13T09:19:37.432Z"
   },
   {
    "duration": 35,
    "start_time": "2022-10-13T09:19:37.462Z"
   },
   {
    "duration": 17,
    "start_time": "2022-10-13T09:26:32.181Z"
   },
   {
    "duration": 11,
    "start_time": "2022-10-13T09:41:00.451Z"
   },
   {
    "duration": 13,
    "start_time": "2022-10-13T09:41:16.607Z"
   },
   {
    "duration": 1272,
    "start_time": "2022-10-13T10:09:10.987Z"
   },
   {
    "duration": 258,
    "start_time": "2022-10-13T10:09:12.261Z"
   },
   {
    "duration": 12,
    "start_time": "2022-10-13T10:09:12.521Z"
   },
   {
    "duration": 32,
    "start_time": "2022-10-13T10:09:12.534Z"
   },
   {
    "duration": 17,
    "start_time": "2022-10-13T10:09:12.568Z"
   },
   {
    "duration": 76,
    "start_time": "2022-10-13T10:09:12.586Z"
   },
   {
    "duration": 36,
    "start_time": "2022-10-13T10:09:12.664Z"
   },
   {
    "duration": 42,
    "start_time": "2022-10-13T10:09:12.701Z"
   },
   {
    "duration": 81,
    "start_time": "2022-10-13T10:09:12.745Z"
   },
   {
    "duration": 12,
    "start_time": "2022-10-13T10:09:12.829Z"
   },
   {
    "duration": 28,
    "start_time": "2022-10-13T10:09:12.843Z"
   },
   {
    "duration": 20,
    "start_time": "2022-10-13T10:09:12.873Z"
   },
   {
    "duration": 14,
    "start_time": "2022-10-13T10:09:12.895Z"
   },
   {
    "duration": 15,
    "start_time": "2022-10-13T10:09:12.911Z"
   },
   {
    "duration": 29,
    "start_time": "2022-10-13T10:09:12.927Z"
   },
   {
    "duration": 92,
    "start_time": "2022-10-13T10:09:12.958Z"
   },
   {
    "duration": 6,
    "start_time": "2022-10-13T10:09:13.051Z"
   },
   {
    "duration": 7,
    "start_time": "2022-10-13T10:09:13.060Z"
   },
   {
    "duration": 33,
    "start_time": "2022-10-13T10:09:13.069Z"
   },
   {
    "duration": 15,
    "start_time": "2022-10-13T10:09:13.103Z"
   },
   {
    "duration": 15,
    "start_time": "2022-10-13T10:09:13.120Z"
   },
   {
    "duration": 27,
    "start_time": "2022-10-13T10:09:13.137Z"
   },
   {
    "duration": 41,
    "start_time": "2022-10-13T10:09:13.165Z"
   },
   {
    "duration": 44,
    "start_time": "2022-10-13T10:09:13.208Z"
   },
   {
    "duration": 89,
    "start_time": "2022-10-13T10:09:13.253Z"
   },
   {
    "duration": 144,
    "start_time": "2022-10-13T10:09:13.344Z"
   },
   {
    "duration": 6,
    "start_time": "2022-10-13T10:09:13.490Z"
   },
   {
    "duration": 389,
    "start_time": "2022-10-13T10:09:13.500Z"
   },
   {
    "duration": 205,
    "start_time": "2022-10-13T10:09:13.890Z"
   },
   {
    "duration": 285,
    "start_time": "2022-10-13T10:09:14.096Z"
   },
   {
    "duration": 296,
    "start_time": "2022-10-13T10:09:14.383Z"
   },
   {
    "duration": 381,
    "start_time": "2022-10-13T10:09:14.680Z"
   },
   {
    "duration": 214,
    "start_time": "2022-10-13T10:09:15.063Z"
   },
   {
    "duration": 345,
    "start_time": "2022-10-13T10:09:15.279Z"
   },
   {
    "duration": 21,
    "start_time": "2022-10-13T10:09:15.625Z"
   },
   {
    "duration": 14,
    "start_time": "2022-10-13T10:09:15.648Z"
   },
   {
    "duration": 35,
    "start_time": "2022-10-13T10:09:15.664Z"
   },
   {
    "duration": 16,
    "start_time": "2022-10-13T10:09:15.700Z"
   },
   {
    "duration": 6,
    "start_time": "2022-10-13T10:09:15.718Z"
   },
   {
    "duration": 95,
    "start_time": "2022-10-13T10:09:15.725Z"
   },
   {
    "duration": 35,
    "start_time": "2022-10-13T10:09:15.822Z"
   },
   {
    "duration": 52,
    "start_time": "2022-10-13T10:09:15.859Z"
   },
   {
    "duration": 98,
    "start_time": "2022-10-13T10:09:15.912Z"
   },
   {
    "duration": 21,
    "start_time": "2022-10-13T10:09:16.012Z"
   },
   {
    "duration": 12,
    "start_time": "2022-10-13T10:09:16.035Z"
   },
   {
    "duration": 12,
    "start_time": "2022-10-13T10:09:16.048Z"
   },
   {
    "duration": 8,
    "start_time": "2022-10-13T10:09:16.061Z"
   },
   {
    "duration": 35,
    "start_time": "2022-10-13T10:09:16.070Z"
   },
   {
    "duration": 10,
    "start_time": "2022-10-13T10:09:16.106Z"
   },
   {
    "duration": 10,
    "start_time": "2022-10-13T10:15:13.241Z"
   },
   {
    "duration": 1484,
    "start_time": "2022-10-13T10:58:29.009Z"
   },
   {
    "duration": 271,
    "start_time": "2022-10-13T10:58:30.495Z"
   },
   {
    "duration": 13,
    "start_time": "2022-10-13T10:58:30.768Z"
   },
   {
    "duration": 26,
    "start_time": "2022-10-13T10:58:30.783Z"
   },
   {
    "duration": 25,
    "start_time": "2022-10-13T10:58:30.812Z"
   },
   {
    "duration": 76,
    "start_time": "2022-10-13T10:58:30.838Z"
   },
   {
    "duration": 37,
    "start_time": "2022-10-13T10:58:30.915Z"
   },
   {
    "duration": 70,
    "start_time": "2022-10-13T10:58:30.954Z"
   },
   {
    "duration": 90,
    "start_time": "2022-10-13T10:58:31.026Z"
   },
   {
    "duration": 11,
    "start_time": "2022-10-13T10:58:31.118Z"
   },
   {
    "duration": 14,
    "start_time": "2022-10-13T10:58:31.131Z"
   },
   {
    "duration": 25,
    "start_time": "2022-10-13T10:58:31.146Z"
   },
   {
    "duration": 28,
    "start_time": "2022-10-13T10:58:31.172Z"
   },
   {
    "duration": 20,
    "start_time": "2022-10-13T10:58:31.203Z"
   },
   {
    "duration": 52,
    "start_time": "2022-10-13T10:58:31.225Z"
   },
   {
    "duration": 73,
    "start_time": "2022-10-13T10:58:31.279Z"
   },
   {
    "duration": 6,
    "start_time": "2022-10-13T10:58:31.354Z"
   },
   {
    "duration": 7,
    "start_time": "2022-10-13T10:58:31.361Z"
   },
   {
    "duration": 36,
    "start_time": "2022-10-13T10:58:31.370Z"
   },
   {
    "duration": 25,
    "start_time": "2022-10-13T10:58:31.408Z"
   },
   {
    "duration": 17,
    "start_time": "2022-10-13T10:58:31.435Z"
   },
   {
    "duration": 32,
    "start_time": "2022-10-13T10:58:31.454Z"
   },
   {
    "duration": 30,
    "start_time": "2022-10-13T10:58:31.495Z"
   },
   {
    "duration": 43,
    "start_time": "2022-10-13T10:58:31.527Z"
   },
   {
    "duration": 90,
    "start_time": "2022-10-13T10:58:31.571Z"
   },
   {
    "duration": 171,
    "start_time": "2022-10-13T10:58:31.663Z"
   },
   {
    "duration": 3,
    "start_time": "2022-10-13T10:58:31.836Z"
   },
   {
    "duration": 416,
    "start_time": "2022-10-13T10:58:31.840Z"
   },
   {
    "duration": 202,
    "start_time": "2022-10-13T10:58:32.258Z"
   },
   {
    "duration": 335,
    "start_time": "2022-10-13T10:58:32.462Z"
   },
   {
    "duration": 343,
    "start_time": "2022-10-13T10:58:32.799Z"
   },
   {
    "duration": 426,
    "start_time": "2022-10-13T10:58:33.144Z"
   },
   {
    "duration": 242,
    "start_time": "2022-10-13T10:58:33.572Z"
   },
   {
    "duration": 353,
    "start_time": "2022-10-13T10:58:33.816Z"
   },
   {
    "duration": 25,
    "start_time": "2022-10-13T10:58:34.171Z"
   },
   {
    "duration": 19,
    "start_time": "2022-10-13T10:58:34.201Z"
   },
   {
    "duration": 5,
    "start_time": "2022-10-13T10:58:34.222Z"
   },
   {
    "duration": 15,
    "start_time": "2022-10-13T10:58:34.229Z"
   },
   {
    "duration": 4,
    "start_time": "2022-10-13T10:58:34.296Z"
   },
   {
    "duration": 65,
    "start_time": "2022-10-13T10:58:34.302Z"
   },
   {
    "duration": 43,
    "start_time": "2022-10-13T10:58:34.395Z"
   },
   {
    "duration": 37,
    "start_time": "2022-10-13T10:58:34.440Z"
   },
   {
    "duration": 39,
    "start_time": "2022-10-13T10:58:34.494Z"
   },
   {
    "duration": 24,
    "start_time": "2022-10-13T10:58:34.534Z"
   },
   {
    "duration": 12,
    "start_time": "2022-10-13T10:58:34.559Z"
   },
   {
    "duration": 37,
    "start_time": "2022-10-13T10:58:34.573Z"
   },
   {
    "duration": 11,
    "start_time": "2022-10-13T10:58:34.613Z"
   },
   {
    "duration": 11,
    "start_time": "2022-10-13T10:58:34.626Z"
   },
   {
    "duration": 8,
    "start_time": "2022-10-13T10:58:34.639Z"
   },
   {
    "duration": 20,
    "start_time": "2022-10-13T10:58:34.649Z"
   },
   {
    "duration": 20,
    "start_time": "2022-10-13T10:59:34.589Z"
   },
   {
    "duration": 12,
    "start_time": "2022-10-13T11:03:50.697Z"
   },
   {
    "duration": 18,
    "start_time": "2022-10-13T11:05:39.230Z"
   },
   {
    "duration": 5,
    "start_time": "2022-10-13T11:07:54.230Z"
   },
   {
    "duration": 8,
    "start_time": "2022-10-13T11:08:50.483Z"
   },
   {
    "duration": 181,
    "start_time": "2022-10-13T11:09:51.922Z"
   },
   {
    "duration": 12,
    "start_time": "2022-10-13T11:10:39.119Z"
   },
   {
    "duration": 6,
    "start_time": "2022-10-13T11:10:42.983Z"
   },
   {
    "duration": 6,
    "start_time": "2022-10-13T11:10:45.678Z"
   },
   {
    "duration": 25,
    "start_time": "2022-10-13T11:10:50.393Z"
   },
   {
    "duration": 13,
    "start_time": "2022-10-13T11:13:09.462Z"
   },
   {
    "duration": 6,
    "start_time": "2022-10-13T11:15:16.065Z"
   },
   {
    "duration": 1912,
    "start_time": "2022-10-13T11:15:22.630Z"
   },
   {
    "duration": 5,
    "start_time": "2022-10-13T11:15:52.462Z"
   },
   {
    "duration": 24,
    "start_time": "2022-10-13T11:16:01.122Z"
   },
   {
    "duration": 1175,
    "start_time": "2022-10-13T11:17:34.041Z"
   },
   {
    "duration": 247,
    "start_time": "2022-10-13T11:17:35.218Z"
   },
   {
    "duration": 13,
    "start_time": "2022-10-13T11:17:35.466Z"
   },
   {
    "duration": 11,
    "start_time": "2022-10-13T11:17:35.481Z"
   },
   {
    "duration": 10,
    "start_time": "2022-10-13T11:17:35.494Z"
   },
   {
    "duration": 53,
    "start_time": "2022-10-13T11:17:35.505Z"
   },
   {
    "duration": 63,
    "start_time": "2022-10-13T11:17:35.560Z"
   },
   {
    "duration": 77,
    "start_time": "2022-10-13T11:17:35.625Z"
   },
   {
    "duration": 65,
    "start_time": "2022-10-13T11:17:35.703Z"
   },
   {
    "duration": 29,
    "start_time": "2022-10-13T11:17:35.770Z"
   },
   {
    "duration": 24,
    "start_time": "2022-10-13T11:17:35.801Z"
   },
   {
    "duration": 18,
    "start_time": "2022-10-13T11:17:35.827Z"
   },
   {
    "duration": 11,
    "start_time": "2022-10-13T11:17:35.847Z"
   },
   {
    "duration": 15,
    "start_time": "2022-10-13T11:17:35.859Z"
   },
   {
    "duration": 41,
    "start_time": "2022-10-13T11:17:35.876Z"
   },
   {
    "duration": 85,
    "start_time": "2022-10-13T11:17:35.918Z"
   },
   {
    "duration": 7,
    "start_time": "2022-10-13T11:17:36.005Z"
   },
   {
    "duration": 9,
    "start_time": "2022-10-13T11:17:36.013Z"
   },
   {
    "duration": 16,
    "start_time": "2022-10-13T11:17:36.024Z"
   },
   {
    "duration": 16,
    "start_time": "2022-10-13T11:17:36.042Z"
   },
   {
    "duration": 40,
    "start_time": "2022-10-13T11:17:36.060Z"
   },
   {
    "duration": 28,
    "start_time": "2022-10-13T11:17:36.103Z"
   },
   {
    "duration": 25,
    "start_time": "2022-10-13T11:17:36.132Z"
   },
   {
    "duration": 70,
    "start_time": "2022-10-13T11:17:36.159Z"
   },
   {
    "duration": 83,
    "start_time": "2022-10-13T11:17:36.231Z"
   },
   {
    "duration": 156,
    "start_time": "2022-10-13T11:17:36.316Z"
   },
   {
    "duration": 3,
    "start_time": "2022-10-13T11:17:36.474Z"
   },
   {
    "duration": 484,
    "start_time": "2022-10-13T11:17:36.480Z"
   },
   {
    "duration": 226,
    "start_time": "2022-10-13T11:17:36.966Z"
   },
   {
    "duration": 300,
    "start_time": "2022-10-13T11:17:37.195Z"
   },
   {
    "duration": 305,
    "start_time": "2022-10-13T11:17:37.496Z"
   },
   {
    "duration": 437,
    "start_time": "2022-10-13T11:17:37.802Z"
   },
   {
    "duration": 220,
    "start_time": "2022-10-13T11:17:38.241Z"
   },
   {
    "duration": 352,
    "start_time": "2022-10-13T11:17:38.462Z"
   },
   {
    "duration": 26,
    "start_time": "2022-10-13T11:17:38.817Z"
   },
   {
    "duration": 54,
    "start_time": "2022-10-13T11:17:38.845Z"
   },
   {
    "duration": 6,
    "start_time": "2022-10-13T11:17:38.901Z"
   },
   {
    "duration": 27,
    "start_time": "2022-10-13T11:17:38.909Z"
   },
   {
    "duration": 60,
    "start_time": "2022-10-13T11:17:38.938Z"
   },
   {
    "duration": 84,
    "start_time": "2022-10-13T11:17:39.000Z"
   },
   {
    "duration": 45,
    "start_time": "2022-10-13T11:17:39.088Z"
   },
   {
    "duration": 62,
    "start_time": "2022-10-13T11:17:39.135Z"
   },
   {
    "duration": 38,
    "start_time": "2022-10-13T11:17:39.199Z"
   },
   {
    "duration": 32,
    "start_time": "2022-10-13T11:17:39.239Z"
   },
   {
    "duration": 133,
    "start_time": "2022-10-13T11:17:39.273Z"
   },
   {
    "duration": 15,
    "start_time": "2022-10-13T11:17:39.408Z"
   },
   {
    "duration": 23,
    "start_time": "2022-10-13T11:17:39.425Z"
   },
   {
    "duration": 27,
    "start_time": "2022-10-13T11:17:39.450Z"
   },
   {
    "duration": 15,
    "start_time": "2022-10-13T11:17:39.479Z"
   },
   {
    "duration": 32,
    "start_time": "2022-10-13T11:17:39.496Z"
   },
   {
    "duration": 15,
    "start_time": "2022-10-13T11:17:39.530Z"
   },
   {
    "duration": 12,
    "start_time": "2022-10-13T11:17:39.547Z"
   },
   {
    "duration": 166,
    "start_time": "2022-10-13T11:17:39.561Z"
   },
   {
    "duration": 0,
    "start_time": "2022-10-13T11:17:39.728Z"
   },
   {
    "duration": 1239,
    "start_time": "2022-10-13T11:18:53.614Z"
   },
   {
    "duration": 264,
    "start_time": "2022-10-13T11:18:54.855Z"
   },
   {
    "duration": 13,
    "start_time": "2022-10-13T11:18:55.121Z"
   },
   {
    "duration": 8,
    "start_time": "2022-10-13T11:18:55.136Z"
   },
   {
    "duration": 9,
    "start_time": "2022-10-13T11:18:55.146Z"
   },
   {
    "duration": 67,
    "start_time": "2022-10-13T11:18:55.157Z"
   },
   {
    "duration": 76,
    "start_time": "2022-10-13T11:18:55.226Z"
   },
   {
    "duration": 38,
    "start_time": "2022-10-13T11:18:55.304Z"
   },
   {
    "duration": 89,
    "start_time": "2022-10-13T11:18:55.344Z"
   },
   {
    "duration": 12,
    "start_time": "2022-10-13T11:18:55.435Z"
   },
   {
    "duration": 53,
    "start_time": "2022-10-13T11:18:55.449Z"
   },
   {
    "duration": 30,
    "start_time": "2022-10-13T11:18:55.504Z"
   },
   {
    "duration": 24,
    "start_time": "2022-10-13T11:18:55.536Z"
   },
   {
    "duration": 24,
    "start_time": "2022-10-13T11:18:55.564Z"
   },
   {
    "duration": 45,
    "start_time": "2022-10-13T11:18:55.590Z"
   },
   {
    "duration": 93,
    "start_time": "2022-10-13T11:18:55.637Z"
   },
   {
    "duration": 8,
    "start_time": "2022-10-13T11:18:55.732Z"
   },
   {
    "duration": 10,
    "start_time": "2022-10-13T11:18:55.741Z"
   },
   {
    "duration": 24,
    "start_time": "2022-10-13T11:18:55.753Z"
   },
   {
    "duration": 31,
    "start_time": "2022-10-13T11:18:55.779Z"
   },
   {
    "duration": 20,
    "start_time": "2022-10-13T11:18:55.811Z"
   },
   {
    "duration": 40,
    "start_time": "2022-10-13T11:18:55.833Z"
   },
   {
    "duration": 31,
    "start_time": "2022-10-13T11:18:55.875Z"
   },
   {
    "duration": 47,
    "start_time": "2022-10-13T11:18:55.908Z"
   },
   {
    "duration": 96,
    "start_time": "2022-10-13T11:18:55.957Z"
   },
   {
    "duration": 154,
    "start_time": "2022-10-13T11:18:56.055Z"
   },
   {
    "duration": 4,
    "start_time": "2022-10-13T11:18:56.210Z"
   },
   {
    "duration": 431,
    "start_time": "2022-10-13T11:18:56.216Z"
   },
   {
    "duration": 288,
    "start_time": "2022-10-13T11:18:56.649Z"
   },
   {
    "duration": 313,
    "start_time": "2022-10-13T11:18:56.939Z"
   },
   {
    "duration": 300,
    "start_time": "2022-10-13T11:18:57.254Z"
   },
   {
    "duration": 409,
    "start_time": "2022-10-13T11:18:57.556Z"
   },
   {
    "duration": 231,
    "start_time": "2022-10-13T11:18:57.966Z"
   },
   {
    "duration": 346,
    "start_time": "2022-10-13T11:18:58.198Z"
   },
   {
    "duration": 49,
    "start_time": "2022-10-13T11:18:58.546Z"
   },
   {
    "duration": 22,
    "start_time": "2022-10-13T11:18:58.597Z"
   },
   {
    "duration": 18,
    "start_time": "2022-10-13T11:18:58.621Z"
   },
   {
    "duration": 62,
    "start_time": "2022-10-13T11:18:58.641Z"
   },
   {
    "duration": 7,
    "start_time": "2022-10-13T11:18:58.705Z"
   },
   {
    "duration": 52,
    "start_time": "2022-10-13T11:18:58.713Z"
   },
   {
    "duration": 77,
    "start_time": "2022-10-13T11:18:58.768Z"
   },
   {
    "duration": 66,
    "start_time": "2022-10-13T11:18:58.847Z"
   },
   {
    "duration": 33,
    "start_time": "2022-10-13T11:18:58.914Z"
   },
   {
    "duration": 26,
    "start_time": "2022-10-13T11:18:58.949Z"
   },
   {
    "duration": 18,
    "start_time": "2022-10-13T11:18:58.996Z"
   },
   {
    "duration": 18,
    "start_time": "2022-10-13T11:18:59.016Z"
   },
   {
    "duration": 13,
    "start_time": "2022-10-13T11:18:59.036Z"
   },
   {
    "duration": 49,
    "start_time": "2022-10-13T11:18:59.051Z"
   },
   {
    "duration": 10,
    "start_time": "2022-10-13T11:18:59.101Z"
   },
   {
    "duration": 17,
    "start_time": "2022-10-13T11:18:59.112Z"
   },
   {
    "duration": 5,
    "start_time": "2022-10-13T11:18:59.130Z"
   },
   {
    "duration": 8,
    "start_time": "2022-10-13T11:18:59.137Z"
   },
   {
    "duration": 55,
    "start_time": "2022-10-13T11:18:59.147Z"
   },
   {
    "duration": 45,
    "start_time": "2022-10-13T11:18:59.204Z"
   },
   {
    "duration": 8,
    "start_time": "2022-10-13T11:20:40.804Z"
   },
   {
    "duration": 28,
    "start_time": "2022-10-13T11:20:43.700Z"
   },
   {
    "duration": 6,
    "start_time": "2022-10-13T11:20:52.142Z"
   },
   {
    "duration": 30,
    "start_time": "2022-10-13T11:20:56.573Z"
   },
   {
    "duration": 6,
    "start_time": "2022-10-13T11:21:06.041Z"
   },
   {
    "duration": 6,
    "start_time": "2022-10-13T11:21:09.097Z"
   },
   {
    "duration": 21,
    "start_time": "2022-10-13T11:21:12.495Z"
   },
   {
    "duration": 12,
    "start_time": "2022-10-13T11:37:41.610Z"
   },
   {
    "duration": 152,
    "start_time": "2022-10-13T11:39:27.190Z"
   },
   {
    "duration": 11,
    "start_time": "2022-10-13T11:39:44.841Z"
   },
   {
    "duration": 14,
    "start_time": "2022-10-13T11:40:45.960Z"
   },
   {
    "duration": 195,
    "start_time": "2022-10-13T11:48:35.234Z"
   },
   {
    "duration": 211,
    "start_time": "2022-10-13T11:49:11.957Z"
   },
   {
    "duration": 284,
    "start_time": "2022-10-13T11:49:21.377Z"
   },
   {
    "duration": 14,
    "start_time": "2022-10-13T11:49:49.017Z"
   },
   {
    "duration": 1530,
    "start_time": "2022-10-13T11:50:01.661Z"
   },
   {
    "duration": 284,
    "start_time": "2022-10-13T11:50:03.194Z"
   },
   {
    "duration": 15,
    "start_time": "2022-10-13T11:50:03.480Z"
   },
   {
    "duration": 30,
    "start_time": "2022-10-13T11:50:03.497Z"
   },
   {
    "duration": 48,
    "start_time": "2022-10-13T11:50:03.530Z"
   },
   {
    "duration": 73,
    "start_time": "2022-10-13T11:50:03.580Z"
   },
   {
    "duration": 58,
    "start_time": "2022-10-13T11:50:03.655Z"
   },
   {
    "duration": 67,
    "start_time": "2022-10-13T11:50:03.716Z"
   },
   {
    "duration": 81,
    "start_time": "2022-10-13T11:50:03.785Z"
   },
   {
    "duration": 31,
    "start_time": "2022-10-13T11:50:03.868Z"
   },
   {
    "duration": 30,
    "start_time": "2022-10-13T11:50:03.902Z"
   },
   {
    "duration": 36,
    "start_time": "2022-10-13T11:50:03.933Z"
   },
   {
    "duration": 38,
    "start_time": "2022-10-13T11:50:03.971Z"
   },
   {
    "duration": 27,
    "start_time": "2022-10-13T11:50:04.014Z"
   },
   {
    "duration": 45,
    "start_time": "2022-10-13T11:50:04.042Z"
   },
   {
    "duration": 99,
    "start_time": "2022-10-13T11:50:04.089Z"
   },
   {
    "duration": 6,
    "start_time": "2022-10-13T11:50:04.190Z"
   },
   {
    "duration": 41,
    "start_time": "2022-10-13T11:50:04.197Z"
   },
   {
    "duration": 26,
    "start_time": "2022-10-13T11:50:04.240Z"
   },
   {
    "duration": 33,
    "start_time": "2022-10-13T11:50:04.268Z"
   },
   {
    "duration": 40,
    "start_time": "2022-10-13T11:50:04.304Z"
   },
   {
    "duration": 56,
    "start_time": "2022-10-13T11:50:04.346Z"
   },
   {
    "duration": 58,
    "start_time": "2022-10-13T11:50:04.404Z"
   },
   {
    "duration": 65,
    "start_time": "2022-10-13T11:50:04.464Z"
   },
   {
    "duration": 87,
    "start_time": "2022-10-13T11:50:04.531Z"
   },
   {
    "duration": 157,
    "start_time": "2022-10-13T11:50:04.620Z"
   },
   {
    "duration": 3,
    "start_time": "2022-10-13T11:50:04.778Z"
   },
   {
    "duration": 445,
    "start_time": "2022-10-13T11:50:04.783Z"
   },
   {
    "duration": 208,
    "start_time": "2022-10-13T11:50:05.229Z"
   },
   {
    "duration": 347,
    "start_time": "2022-10-13T11:50:05.439Z"
   },
   {
    "duration": 342,
    "start_time": "2022-10-13T11:50:05.795Z"
   },
   {
    "duration": 464,
    "start_time": "2022-10-13T11:50:06.138Z"
   },
   {
    "duration": 331,
    "start_time": "2022-10-13T11:50:06.604Z"
   },
   {
    "duration": 378,
    "start_time": "2022-10-13T11:50:06.939Z"
   },
   {
    "duration": 19,
    "start_time": "2022-10-13T11:50:07.319Z"
   },
   {
    "duration": 14,
    "start_time": "2022-10-13T11:50:07.339Z"
   },
   {
    "duration": 53,
    "start_time": "2022-10-13T11:50:07.355Z"
   },
   {
    "duration": 19,
    "start_time": "2022-10-13T11:50:07.410Z"
   },
   {
    "duration": 6,
    "start_time": "2022-10-13T11:50:07.431Z"
   },
   {
    "duration": 90,
    "start_time": "2022-10-13T11:50:07.439Z"
   },
   {
    "duration": 41,
    "start_time": "2022-10-13T11:50:07.532Z"
   },
   {
    "duration": 65,
    "start_time": "2022-10-13T11:50:07.574Z"
   },
   {
    "duration": 34,
    "start_time": "2022-10-13T11:50:07.641Z"
   },
   {
    "duration": 45,
    "start_time": "2022-10-13T11:50:07.677Z"
   },
   {
    "duration": 13,
    "start_time": "2022-10-13T11:50:07.724Z"
   },
   {
    "duration": 17,
    "start_time": "2022-10-13T11:50:07.739Z"
   },
   {
    "duration": 10,
    "start_time": "2022-10-13T11:50:07.758Z"
   },
   {
    "duration": 23,
    "start_time": "2022-10-13T11:50:07.794Z"
   },
   {
    "duration": 231,
    "start_time": "2022-10-13T11:50:07.819Z"
   },
   {
    "duration": 14,
    "start_time": "2022-10-13T11:50:08.052Z"
   },
   {
    "duration": 29,
    "start_time": "2022-10-13T11:50:08.067Z"
   },
   {
    "duration": 6,
    "start_time": "2022-10-13T11:50:08.097Z"
   },
   {
    "duration": 26,
    "start_time": "2022-10-13T11:50:08.105Z"
   },
   {
    "duration": 27,
    "start_time": "2022-10-13T11:50:08.133Z"
   },
   {
    "duration": 15,
    "start_time": "2022-10-13T11:50:08.162Z"
   },
   {
    "duration": 156,
    "start_time": "2022-10-13T11:50:59.363Z"
   },
   {
    "duration": 28,
    "start_time": "2022-10-13T11:51:07.275Z"
   },
   {
    "duration": 257,
    "start_time": "2022-10-13T11:51:22.888Z"
   },
   {
    "duration": 339,
    "start_time": "2022-10-13T11:53:17.752Z"
   },
   {
    "duration": 258,
    "start_time": "2022-10-13T11:53:27.586Z"
   },
   {
    "duration": 251,
    "start_time": "2022-10-13T11:53:34.197Z"
   },
   {
    "duration": 251,
    "start_time": "2022-10-13T11:53:42.965Z"
   },
   {
    "duration": 238,
    "start_time": "2022-10-13T11:53:55.272Z"
   },
   {
    "duration": 303,
    "start_time": "2022-10-13T11:55:26.520Z"
   },
   {
    "duration": 233,
    "start_time": "2022-10-13T11:58:36.045Z"
   },
   {
    "duration": 303,
    "start_time": "2022-10-13T12:00:27.821Z"
   },
   {
    "duration": 234,
    "start_time": "2022-10-13T12:02:47.669Z"
   },
   {
    "duration": 18,
    "start_time": "2022-10-13T12:04:25.921Z"
   },
   {
    "duration": 37,
    "start_time": "2022-10-13T12:05:07.871Z"
   },
   {
    "duration": 52,
    "start_time": "2022-10-13T12:05:26.714Z"
   },
   {
    "duration": 241,
    "start_time": "2022-10-13T12:06:03.116Z"
   },
   {
    "duration": 263,
    "start_time": "2022-10-13T12:06:26.073Z"
   },
   {
    "duration": 365,
    "start_time": "2022-10-13T12:06:52.510Z"
   },
   {
    "duration": 245,
    "start_time": "2022-10-13T12:07:32.254Z"
   },
   {
    "duration": 243,
    "start_time": "2022-10-13T12:07:58.008Z"
   },
   {
    "duration": 243,
    "start_time": "2022-10-13T12:08:20.146Z"
   },
   {
    "duration": 229,
    "start_time": "2022-10-13T12:08:30.964Z"
   },
   {
    "duration": 229,
    "start_time": "2022-10-13T12:08:50.315Z"
   },
   {
    "duration": 222,
    "start_time": "2022-10-13T12:09:44.037Z"
   },
   {
    "duration": 259,
    "start_time": "2022-10-13T12:10:00.950Z"
   },
   {
    "duration": 264,
    "start_time": "2022-10-13T12:10:26.739Z"
   },
   {
    "duration": 230,
    "start_time": "2022-10-13T12:10:49.880Z"
   },
   {
    "duration": 236,
    "start_time": "2022-10-13T12:11:07.690Z"
   },
   {
    "duration": 341,
    "start_time": "2022-10-13T12:11:58.042Z"
   },
   {
    "duration": 257,
    "start_time": "2022-10-13T12:12:12.638Z"
   },
   {
    "duration": 240,
    "start_time": "2022-10-13T12:12:54.440Z"
   },
   {
    "duration": 232,
    "start_time": "2022-10-13T12:13:10.100Z"
   },
   {
    "duration": 241,
    "start_time": "2022-10-13T12:13:37.481Z"
   },
   {
    "duration": 223,
    "start_time": "2022-10-13T12:13:45.053Z"
   },
   {
    "duration": 255,
    "start_time": "2022-10-13T12:14:05.451Z"
   },
   {
    "duration": 278,
    "start_time": "2022-10-13T12:14:17.907Z"
   },
   {
    "duration": 247,
    "start_time": "2022-10-13T12:14:48.738Z"
   },
   {
    "duration": 267,
    "start_time": "2022-10-13T12:15:25.209Z"
   },
   {
    "duration": 223,
    "start_time": "2022-10-13T12:15:39.049Z"
   },
   {
    "duration": 353,
    "start_time": "2022-10-13T12:16:01.758Z"
   },
   {
    "duration": 237,
    "start_time": "2022-10-13T12:16:36.191Z"
   },
   {
    "duration": 222,
    "start_time": "2022-10-13T12:16:41.335Z"
   },
   {
    "duration": 230,
    "start_time": "2022-10-13T12:16:59.398Z"
   },
   {
    "duration": 233,
    "start_time": "2022-10-13T12:17:40.237Z"
   },
   {
    "duration": 286,
    "start_time": "2022-10-13T12:17:46.781Z"
   },
   {
    "duration": 239,
    "start_time": "2022-10-13T12:18:03.184Z"
   },
   {
    "duration": 268,
    "start_time": "2022-10-13T12:18:24.700Z"
   },
   {
    "duration": 227,
    "start_time": "2022-10-13T12:18:40.048Z"
   },
   {
    "duration": 256,
    "start_time": "2022-10-13T12:19:14.580Z"
   },
   {
    "duration": 252,
    "start_time": "2022-10-13T12:19:45.773Z"
   },
   {
    "duration": 327,
    "start_time": "2022-10-13T12:20:21.475Z"
   },
   {
    "duration": 231,
    "start_time": "2022-10-13T12:20:35.612Z"
   },
   {
    "duration": 313,
    "start_time": "2022-10-13T12:21:07.982Z"
   },
   {
    "duration": 239,
    "start_time": "2022-10-13T12:21:23.734Z"
   },
   {
    "duration": 231,
    "start_time": "2022-10-13T12:22:20.455Z"
   },
   {
    "duration": 236,
    "start_time": "2022-10-13T12:22:28.985Z"
   },
   {
    "duration": 220,
    "start_time": "2022-10-13T12:22:56.139Z"
   },
   {
    "duration": 14,
    "start_time": "2022-10-13T12:25:50.028Z"
   },
   {
    "duration": 236,
    "start_time": "2022-10-13T12:26:53.181Z"
   },
   {
    "duration": 214,
    "start_time": "2022-10-13T12:26:59.544Z"
   },
   {
    "duration": 21,
    "start_time": "2022-10-13T12:39:39.952Z"
   },
   {
    "duration": 13,
    "start_time": "2022-10-13T13:14:43.793Z"
   },
   {
    "duration": 11,
    "start_time": "2022-10-13T13:16:28.185Z"
   },
   {
    "duration": 13,
    "start_time": "2022-10-13T13:17:41.286Z"
   },
   {
    "duration": 15,
    "start_time": "2022-10-13T13:19:11.575Z"
   },
   {
    "duration": 29,
    "start_time": "2022-10-13T13:21:24.625Z"
   },
   {
    "duration": 15,
    "start_time": "2022-10-13T13:21:37.464Z"
   },
   {
    "duration": 18,
    "start_time": "2022-10-13T13:21:56.375Z"
   },
   {
    "duration": 13,
    "start_time": "2022-10-13T13:22:07.003Z"
   },
   {
    "duration": 11,
    "start_time": "2022-10-13T13:22:12.725Z"
   },
   {
    "duration": 78,
    "start_time": "2022-10-13T13:22:28.740Z"
   },
   {
    "duration": 18,
    "start_time": "2022-10-13T13:22:32.101Z"
   },
   {
    "duration": 20,
    "start_time": "2022-10-13T13:25:19.730Z"
   },
   {
    "duration": 13,
    "start_time": "2022-10-13T13:26:56.636Z"
   },
   {
    "duration": 5,
    "start_time": "2022-10-13T13:30:14.086Z"
   },
   {
    "duration": 1505,
    "start_time": "2022-10-13T13:30:59.880Z"
   },
   {
    "duration": 6,
    "start_time": "2022-10-13T13:32:20.312Z"
   },
   {
    "duration": 28,
    "start_time": "2022-10-13T13:32:24.109Z"
   },
   {
    "duration": 5,
    "start_time": "2022-10-13T13:34:05.543Z"
   },
   {
    "duration": 24,
    "start_time": "2022-10-13T13:34:10.106Z"
   },
   {
    "duration": 1312,
    "start_time": "2022-10-14T10:20:16.361Z"
   },
   {
    "duration": 913,
    "start_time": "2022-10-14T10:20:17.675Z"
   },
   {
    "duration": 11,
    "start_time": "2022-10-14T10:20:18.589Z"
   },
   {
    "duration": 11,
    "start_time": "2022-10-14T10:20:18.601Z"
   },
   {
    "duration": 26,
    "start_time": "2022-10-14T10:20:18.614Z"
   },
   {
    "duration": 66,
    "start_time": "2022-10-14T10:20:18.641Z"
   },
   {
    "duration": 32,
    "start_time": "2022-10-14T10:20:18.709Z"
   },
   {
    "duration": 36,
    "start_time": "2022-10-14T10:20:18.742Z"
   },
   {
    "duration": 73,
    "start_time": "2022-10-14T10:20:18.779Z"
   },
   {
    "duration": 10,
    "start_time": "2022-10-14T10:20:18.854Z"
   },
   {
    "duration": 24,
    "start_time": "2022-10-14T10:20:18.865Z"
   },
   {
    "duration": 33,
    "start_time": "2022-10-14T10:20:18.891Z"
   },
   {
    "duration": 26,
    "start_time": "2022-10-14T10:20:18.925Z"
   },
   {
    "duration": 34,
    "start_time": "2022-10-14T10:20:18.954Z"
   },
   {
    "duration": 47,
    "start_time": "2022-10-14T10:20:18.989Z"
   },
   {
    "duration": 83,
    "start_time": "2022-10-14T10:20:19.038Z"
   },
   {
    "duration": 6,
    "start_time": "2022-10-14T10:20:19.122Z"
   },
   {
    "duration": 16,
    "start_time": "2022-10-14T10:20:19.129Z"
   },
   {
    "duration": 32,
    "start_time": "2022-10-14T10:20:19.146Z"
   },
   {
    "duration": 29,
    "start_time": "2022-10-14T10:20:19.180Z"
   },
   {
    "duration": 26,
    "start_time": "2022-10-14T10:20:19.210Z"
   },
   {
    "duration": 41,
    "start_time": "2022-10-14T10:20:19.237Z"
   },
   {
    "duration": 36,
    "start_time": "2022-10-14T10:20:19.279Z"
   },
   {
    "duration": 43,
    "start_time": "2022-10-14T10:20:19.317Z"
   },
   {
    "duration": 63,
    "start_time": "2022-10-14T10:20:19.362Z"
   },
   {
    "duration": 139,
    "start_time": "2022-10-14T10:20:19.427Z"
   },
   {
    "duration": 3,
    "start_time": "2022-10-14T10:20:19.568Z"
   },
   {
    "duration": 382,
    "start_time": "2022-10-14T10:20:19.573Z"
   },
   {
    "duration": 187,
    "start_time": "2022-10-14T10:20:19.957Z"
   },
   {
    "duration": 294,
    "start_time": "2022-10-14T10:20:20.145Z"
   },
   {
    "duration": 284,
    "start_time": "2022-10-14T10:20:20.441Z"
   },
   {
    "duration": 411,
    "start_time": "2022-10-14T10:20:20.727Z"
   },
   {
    "duration": 209,
    "start_time": "2022-10-14T10:20:21.140Z"
   },
   {
    "duration": 366,
    "start_time": "2022-10-14T10:20:21.352Z"
   },
   {
    "duration": 18,
    "start_time": "2022-10-14T10:20:21.719Z"
   },
   {
    "duration": 13,
    "start_time": "2022-10-14T10:20:21.739Z"
   },
   {
    "duration": 5,
    "start_time": "2022-10-14T10:20:21.754Z"
   },
   {
    "duration": 63,
    "start_time": "2022-10-14T10:20:21.761Z"
   },
   {
    "duration": 6,
    "start_time": "2022-10-14T10:20:21.825Z"
   },
   {
    "duration": 48,
    "start_time": "2022-10-14T10:20:21.832Z"
   },
   {
    "duration": 72,
    "start_time": "2022-10-14T10:20:21.884Z"
   },
   {
    "duration": 35,
    "start_time": "2022-10-14T10:20:21.958Z"
   },
   {
    "duration": 48,
    "start_time": "2022-10-14T10:20:21.994Z"
   },
   {
    "duration": 22,
    "start_time": "2022-10-14T10:20:22.044Z"
   },
   {
    "duration": 11,
    "start_time": "2022-10-14T10:20:22.067Z"
   },
   {
    "duration": 10,
    "start_time": "2022-10-14T10:20:22.080Z"
   },
   {
    "duration": 30,
    "start_time": "2022-10-14T10:20:22.092Z"
   },
   {
    "duration": 11,
    "start_time": "2022-10-14T10:20:22.124Z"
   },
   {
    "duration": 19,
    "start_time": "2022-10-14T10:20:22.136Z"
   },
   {
    "duration": 243,
    "start_time": "2022-10-14T10:20:22.156Z"
   },
   {
    "duration": 208,
    "start_time": "2022-10-14T10:20:22.400Z"
   },
   {
    "duration": 14,
    "start_time": "2022-10-14T10:20:22.610Z"
   },
   {
    "duration": 4,
    "start_time": "2022-10-14T10:20:22.626Z"
   },
   {
    "duration": 96,
    "start_time": "2022-10-14T10:20:22.632Z"
   },
   {
    "duration": 27,
    "start_time": "2022-10-14T10:20:22.729Z"
   },
   {
    "duration": 13,
    "start_time": "2022-10-14T10:20:22.757Z"
   },
   {
    "duration": 17,
    "start_time": "2022-10-14T10:20:22.771Z"
   },
   {
    "duration": 8,
    "start_time": "2022-10-14T10:20:22.789Z"
   },
   {
    "duration": 23,
    "start_time": "2022-10-14T10:20:22.799Z"
   },
   {
    "duration": 21,
    "start_time": "2022-10-14T10:20:22.823Z"
   },
   {
    "duration": 13,
    "start_time": "2022-10-14T10:20:22.845Z"
   },
   {
    "duration": 18,
    "start_time": "2022-10-14T10:28:28.605Z"
   },
   {
    "duration": 296,
    "start_time": "2022-10-14T10:30:57.734Z"
   },
   {
    "duration": 211,
    "start_time": "2022-10-14T10:31:22.748Z"
   },
   {
    "duration": 8,
    "start_time": "2022-10-14T10:45:04.489Z"
   },
   {
    "duration": 11,
    "start_time": "2022-10-14T10:46:11.681Z"
   },
   {
    "duration": 10,
    "start_time": "2022-10-14T10:46:29.097Z"
   },
   {
    "duration": 10,
    "start_time": "2022-10-14T10:55:41.543Z"
   },
   {
    "duration": 170,
    "start_time": "2022-10-14T10:59:13.912Z"
   },
   {
    "duration": 8,
    "start_time": "2022-10-14T10:59:28.421Z"
   },
   {
    "duration": 7,
    "start_time": "2022-10-14T10:59:40.696Z"
   },
   {
    "duration": 8,
    "start_time": "2022-10-14T11:00:06.814Z"
   },
   {
    "duration": 15,
    "start_time": "2022-10-14T11:00:16.587Z"
   },
   {
    "duration": 5,
    "start_time": "2022-10-14T11:02:23.332Z"
   },
   {
    "duration": 14,
    "start_time": "2022-10-14T11:05:25.397Z"
   },
   {
    "duration": 5,
    "start_time": "2022-10-14T11:05:36.027Z"
   },
   {
    "duration": 3,
    "start_time": "2022-10-14T11:05:47.682Z"
   },
   {
    "duration": 6,
    "start_time": "2022-10-14T11:06:07.453Z"
   },
   {
    "duration": 8,
    "start_time": "2022-10-14T11:07:11.759Z"
   },
   {
    "duration": 10,
    "start_time": "2022-10-14T11:07:59.142Z"
   },
   {
    "duration": 5,
    "start_time": "2022-10-14T11:08:14.605Z"
   },
   {
    "duration": 5,
    "start_time": "2022-10-14T11:09:09.056Z"
   },
   {
    "duration": 6,
    "start_time": "2022-10-14T11:09:14.853Z"
   },
   {
    "duration": 1174,
    "start_time": "2022-10-14T11:09:24.941Z"
   },
   {
    "duration": 269,
    "start_time": "2022-10-14T11:09:26.117Z"
   },
   {
    "duration": 12,
    "start_time": "2022-10-14T11:09:26.387Z"
   },
   {
    "duration": 8,
    "start_time": "2022-10-14T11:09:26.400Z"
   },
   {
    "duration": 29,
    "start_time": "2022-10-14T11:09:26.409Z"
   },
   {
    "duration": 55,
    "start_time": "2022-10-14T11:09:26.440Z"
   },
   {
    "duration": 53,
    "start_time": "2022-10-14T11:09:26.498Z"
   },
   {
    "duration": 37,
    "start_time": "2022-10-14T11:09:26.552Z"
   },
   {
    "duration": 84,
    "start_time": "2022-10-14T11:09:26.590Z"
   },
   {
    "duration": 11,
    "start_time": "2022-10-14T11:09:26.678Z"
   },
   {
    "duration": 17,
    "start_time": "2022-10-14T11:09:26.690Z"
   },
   {
    "duration": 34,
    "start_time": "2022-10-14T11:09:26.708Z"
   },
   {
    "duration": 10,
    "start_time": "2022-10-14T11:09:26.743Z"
   },
   {
    "duration": 10,
    "start_time": "2022-10-14T11:09:26.754Z"
   },
   {
    "duration": 26,
    "start_time": "2022-10-14T11:09:26.766Z"
   },
   {
    "duration": 75,
    "start_time": "2022-10-14T11:09:26.793Z"
   },
   {
    "duration": 6,
    "start_time": "2022-10-14T11:09:26.870Z"
   },
   {
    "duration": 8,
    "start_time": "2022-10-14T11:09:26.877Z"
   },
   {
    "duration": 16,
    "start_time": "2022-10-14T11:09:26.886Z"
   },
   {
    "duration": 15,
    "start_time": "2022-10-14T11:09:26.927Z"
   },
   {
    "duration": 17,
    "start_time": "2022-10-14T11:09:26.944Z"
   },
   {
    "duration": 31,
    "start_time": "2022-10-14T11:09:26.963Z"
   },
   {
    "duration": 35,
    "start_time": "2022-10-14T11:09:26.996Z"
   },
   {
    "duration": 42,
    "start_time": "2022-10-14T11:09:27.034Z"
   },
   {
    "duration": 75,
    "start_time": "2022-10-14T11:09:27.077Z"
   },
   {
    "duration": 145,
    "start_time": "2022-10-14T11:09:27.154Z"
   },
   {
    "duration": 4,
    "start_time": "2022-10-14T11:09:27.301Z"
   },
   {
    "duration": 381,
    "start_time": "2022-10-14T11:09:27.309Z"
   },
   {
    "duration": 206,
    "start_time": "2022-10-14T11:09:27.692Z"
   },
   {
    "duration": 283,
    "start_time": "2022-10-14T11:09:27.899Z"
   },
   {
    "duration": 274,
    "start_time": "2022-10-14T11:09:28.183Z"
   },
   {
    "duration": 380,
    "start_time": "2022-10-14T11:09:28.458Z"
   },
   {
    "duration": 198,
    "start_time": "2022-10-14T11:09:28.840Z"
   },
   {
    "duration": 329,
    "start_time": "2022-10-14T11:09:29.039Z"
   },
   {
    "duration": 19,
    "start_time": "2022-10-14T11:09:29.369Z"
   },
   {
    "duration": 32,
    "start_time": "2022-10-14T11:09:29.390Z"
   },
   {
    "duration": 11,
    "start_time": "2022-10-14T11:09:29.425Z"
   },
   {
    "duration": 21,
    "start_time": "2022-10-14T11:09:29.438Z"
   },
   {
    "duration": 7,
    "start_time": "2022-10-14T11:09:29.461Z"
   },
   {
    "duration": 99,
    "start_time": "2022-10-14T11:09:29.470Z"
   },
   {
    "duration": 56,
    "start_time": "2022-10-14T11:09:29.570Z"
   },
   {
    "duration": 39,
    "start_time": "2022-10-14T11:09:29.628Z"
   },
   {
    "duration": 31,
    "start_time": "2022-10-14T11:09:29.669Z"
   },
   {
    "duration": 33,
    "start_time": "2022-10-14T11:09:29.701Z"
   },
   {
    "duration": 13,
    "start_time": "2022-10-14T11:09:29.735Z"
   },
   {
    "duration": 12,
    "start_time": "2022-10-14T11:09:29.750Z"
   },
   {
    "duration": 8,
    "start_time": "2022-10-14T11:09:29.763Z"
   },
   {
    "duration": 11,
    "start_time": "2022-10-14T11:09:29.773Z"
   },
   {
    "duration": 60,
    "start_time": "2022-10-14T11:09:29.786Z"
   },
   {
    "duration": 214,
    "start_time": "2022-10-14T11:09:29.848Z"
   },
   {
    "duration": 233,
    "start_time": "2022-10-14T11:09:30.064Z"
   },
   {
    "duration": 11,
    "start_time": "2022-10-14T11:09:30.299Z"
   },
   {
    "duration": 9,
    "start_time": "2022-10-14T11:09:30.332Z"
   },
   {
    "duration": 20,
    "start_time": "2022-10-14T11:09:30.343Z"
   },
   {
    "duration": 8,
    "start_time": "2022-10-14T11:09:30.365Z"
   },
   {
    "duration": 20,
    "start_time": "2022-10-14T11:09:30.374Z"
   },
   {
    "duration": 45,
    "start_time": "2022-10-14T11:09:30.396Z"
   },
   {
    "duration": 33,
    "start_time": "2022-10-14T11:09:30.443Z"
   },
   {
    "duration": 96,
    "start_time": "2022-10-14T11:09:30.477Z"
   },
   {
    "duration": 31,
    "start_time": "2022-10-14T11:09:30.574Z"
   },
   {
    "duration": 86,
    "start_time": "2022-10-14T11:09:30.606Z"
   },
   {
    "duration": 66,
    "start_time": "2022-10-14T11:09:30.694Z"
   },
   {
    "duration": 50,
    "start_time": "2022-10-14T11:09:30.761Z"
   },
   {
    "duration": 54,
    "start_time": "2022-10-14T11:09:30.812Z"
   },
   {
    "duration": 47,
    "start_time": "2022-10-14T11:09:30.868Z"
   },
   {
    "duration": 51,
    "start_time": "2022-10-14T11:09:30.917Z"
   },
   {
    "duration": 28,
    "start_time": "2022-10-14T11:09:30.970Z"
   },
   {
    "duration": 5,
    "start_time": "2022-10-14T11:13:08.559Z"
   },
   {
    "duration": 1290,
    "start_time": "2022-10-14T11:36:47.716Z"
   },
   {
    "duration": 245,
    "start_time": "2022-10-14T11:36:49.008Z"
   },
   {
    "duration": 12,
    "start_time": "2022-10-14T11:36:49.255Z"
   },
   {
    "duration": 7,
    "start_time": "2022-10-14T11:36:49.268Z"
   },
   {
    "duration": 8,
    "start_time": "2022-10-14T11:36:49.277Z"
   },
   {
    "duration": 67,
    "start_time": "2022-10-14T11:36:49.286Z"
   },
   {
    "duration": 39,
    "start_time": "2022-10-14T11:36:49.355Z"
   },
   {
    "duration": 90,
    "start_time": "2022-10-14T11:36:49.396Z"
   },
   {
    "duration": 81,
    "start_time": "2022-10-14T11:36:49.488Z"
   },
   {
    "duration": 11,
    "start_time": "2022-10-14T11:36:49.572Z"
   },
   {
    "duration": 14,
    "start_time": "2022-10-14T11:36:49.584Z"
   },
   {
    "duration": 32,
    "start_time": "2022-10-14T11:36:49.599Z"
   },
   {
    "duration": 11,
    "start_time": "2022-10-14T11:36:49.633Z"
   },
   {
    "duration": 9,
    "start_time": "2022-10-14T11:36:49.645Z"
   },
   {
    "duration": 31,
    "start_time": "2022-10-14T11:36:49.655Z"
   },
   {
    "duration": 96,
    "start_time": "2022-10-14T11:36:49.688Z"
   },
   {
    "duration": 6,
    "start_time": "2022-10-14T11:36:49.785Z"
   },
   {
    "duration": 37,
    "start_time": "2022-10-14T11:36:49.793Z"
   },
   {
    "duration": 21,
    "start_time": "2022-10-14T11:36:49.832Z"
   },
   {
    "duration": 29,
    "start_time": "2022-10-14T11:36:49.855Z"
   },
   {
    "duration": 37,
    "start_time": "2022-10-14T11:36:49.886Z"
   },
   {
    "duration": 42,
    "start_time": "2022-10-14T11:36:49.925Z"
   },
   {
    "duration": 45,
    "start_time": "2022-10-14T11:36:49.969Z"
   },
   {
    "duration": 50,
    "start_time": "2022-10-14T11:36:50.016Z"
   },
   {
    "duration": 69,
    "start_time": "2022-10-14T11:36:50.067Z"
   },
   {
    "duration": 144,
    "start_time": "2022-10-14T11:36:50.137Z"
   },
   {
    "duration": 4,
    "start_time": "2022-10-14T11:36:50.283Z"
   },
   {
    "duration": 402,
    "start_time": "2022-10-14T11:36:50.291Z"
   },
   {
    "duration": 183,
    "start_time": "2022-10-14T11:36:50.696Z"
   },
   {
    "duration": 316,
    "start_time": "2022-10-14T11:36:50.881Z"
   },
   {
    "duration": 281,
    "start_time": "2022-10-14T11:36:51.198Z"
   },
   {
    "duration": 365,
    "start_time": "2022-10-14T11:36:51.481Z"
   },
   {
    "duration": 207,
    "start_time": "2022-10-14T11:36:51.848Z"
   },
   {
    "duration": 348,
    "start_time": "2022-10-14T11:36:52.056Z"
   },
   {
    "duration": 26,
    "start_time": "2022-10-14T11:36:52.406Z"
   },
   {
    "duration": 15,
    "start_time": "2022-10-14T11:36:52.434Z"
   },
   {
    "duration": 6,
    "start_time": "2022-10-14T11:36:52.451Z"
   },
   {
    "duration": 73,
    "start_time": "2022-10-14T11:36:52.460Z"
   },
   {
    "duration": 11,
    "start_time": "2022-10-14T11:36:52.536Z"
   },
   {
    "duration": 55,
    "start_time": "2022-10-14T11:36:52.549Z"
   },
   {
    "duration": 52,
    "start_time": "2022-10-14T11:36:52.606Z"
   },
   {
    "duration": 40,
    "start_time": "2022-10-14T11:36:52.660Z"
   },
   {
    "duration": 48,
    "start_time": "2022-10-14T11:36:52.721Z"
   },
   {
    "duration": 26,
    "start_time": "2022-10-14T11:36:52.771Z"
   },
   {
    "duration": 26,
    "start_time": "2022-10-14T11:36:52.799Z"
   },
   {
    "duration": 11,
    "start_time": "2022-10-14T11:36:52.827Z"
   },
   {
    "duration": 11,
    "start_time": "2022-10-14T11:36:52.840Z"
   },
   {
    "duration": 14,
    "start_time": "2022-10-14T11:36:52.852Z"
   },
   {
    "duration": 17,
    "start_time": "2022-10-14T11:36:52.867Z"
   },
   {
    "duration": 261,
    "start_time": "2022-10-14T11:36:52.885Z"
   },
   {
    "duration": 277,
    "start_time": "2022-10-14T11:36:53.148Z"
   },
   {
    "duration": 16,
    "start_time": "2022-10-14T11:36:53.427Z"
   },
   {
    "duration": 11,
    "start_time": "2022-10-14T11:36:53.446Z"
   },
   {
    "duration": 10,
    "start_time": "2022-10-14T11:36:53.459Z"
   },
   {
    "duration": 6,
    "start_time": "2022-10-14T11:36:53.472Z"
   },
   {
    "duration": 6,
    "start_time": "2022-10-14T11:36:53.480Z"
   },
   {
    "duration": 45,
    "start_time": "2022-10-14T11:36:53.488Z"
   },
   {
    "duration": 13,
    "start_time": "2022-10-14T11:36:53.535Z"
   },
   {
    "duration": 104,
    "start_time": "2022-10-14T11:36:53.550Z"
   },
   {
    "duration": 11,
    "start_time": "2022-10-14T11:36:53.656Z"
   },
   {
    "duration": 23,
    "start_time": "2022-10-14T11:36:53.669Z"
   },
   {
    "duration": 11,
    "start_time": "2022-10-14T11:36:53.694Z"
   },
   {
    "duration": 32,
    "start_time": "2022-10-14T11:36:53.707Z"
   },
   {
    "duration": 9,
    "start_time": "2022-10-14T11:36:53.741Z"
   },
   {
    "duration": 6,
    "start_time": "2022-10-14T11:36:53.752Z"
   },
   {
    "duration": 36,
    "start_time": "2022-10-14T11:36:53.760Z"
   },
   {
    "duration": 30,
    "start_time": "2022-10-14T11:36:53.797Z"
   },
   {
    "duration": 6,
    "start_time": "2022-10-14T11:39:15.558Z"
   },
   {
    "duration": 6,
    "start_time": "2022-10-14T11:39:21.623Z"
   },
   {
    "duration": 5,
    "start_time": "2022-10-14T12:19:31.248Z"
   },
   {
    "duration": 11,
    "start_time": "2022-10-14T12:22:14.656Z"
   },
   {
    "duration": 10,
    "start_time": "2022-10-14T12:23:03.854Z"
   },
   {
    "duration": 10,
    "start_time": "2022-10-14T12:25:10.130Z"
   },
   {
    "duration": 10,
    "start_time": "2022-10-14T12:25:19.557Z"
   },
   {
    "duration": 1132,
    "start_time": "2022-10-14T12:34:33.454Z"
   },
   {
    "duration": 235,
    "start_time": "2022-10-14T12:34:34.588Z"
   },
   {
    "duration": 11,
    "start_time": "2022-10-14T12:34:34.825Z"
   },
   {
    "duration": 7,
    "start_time": "2022-10-14T12:34:34.838Z"
   },
   {
    "duration": 9,
    "start_time": "2022-10-14T12:34:34.846Z"
   },
   {
    "duration": 69,
    "start_time": "2022-10-14T12:34:34.857Z"
   },
   {
    "duration": 34,
    "start_time": "2022-10-14T12:34:34.927Z"
   },
   {
    "duration": 59,
    "start_time": "2022-10-14T12:34:34.963Z"
   },
   {
    "duration": 59,
    "start_time": "2022-10-14T12:34:35.024Z"
   },
   {
    "duration": 9,
    "start_time": "2022-10-14T12:34:35.085Z"
   },
   {
    "duration": 28,
    "start_time": "2022-10-14T12:34:35.095Z"
   },
   {
    "duration": 16,
    "start_time": "2022-10-14T12:34:35.125Z"
   },
   {
    "duration": 10,
    "start_time": "2022-10-14T12:34:35.143Z"
   },
   {
    "duration": 8,
    "start_time": "2022-10-14T12:34:35.155Z"
   },
   {
    "duration": 25,
    "start_time": "2022-10-14T12:34:35.165Z"
   },
   {
    "duration": 88,
    "start_time": "2022-10-14T12:34:35.192Z"
   },
   {
    "duration": 6,
    "start_time": "2022-10-14T12:34:35.282Z"
   },
   {
    "duration": 10,
    "start_time": "2022-10-14T12:34:35.289Z"
   },
   {
    "duration": 28,
    "start_time": "2022-10-14T12:34:35.301Z"
   },
   {
    "duration": 52,
    "start_time": "2022-10-14T12:34:35.330Z"
   },
   {
    "duration": 18,
    "start_time": "2022-10-14T12:34:35.384Z"
   },
   {
    "duration": 26,
    "start_time": "2022-10-14T12:34:35.403Z"
   },
   {
    "duration": 24,
    "start_time": "2022-10-14T12:34:35.431Z"
   },
   {
    "duration": 41,
    "start_time": "2022-10-14T12:34:35.456Z"
   },
   {
    "duration": 81,
    "start_time": "2022-10-14T12:34:35.499Z"
   },
   {
    "duration": 143,
    "start_time": "2022-10-14T12:34:35.581Z"
   },
   {
    "duration": 4,
    "start_time": "2022-10-14T12:34:35.725Z"
   },
   {
    "duration": 397,
    "start_time": "2022-10-14T12:34:35.733Z"
   },
   {
    "duration": 215,
    "start_time": "2022-10-14T12:34:36.132Z"
   },
   {
    "duration": 269,
    "start_time": "2022-10-14T12:34:36.349Z"
   },
   {
    "duration": 270,
    "start_time": "2022-10-14T12:34:36.621Z"
   },
   {
    "duration": 357,
    "start_time": "2022-10-14T12:34:36.892Z"
   },
   {
    "duration": 217,
    "start_time": "2022-10-14T12:34:37.250Z"
   },
   {
    "duration": 325,
    "start_time": "2022-10-14T12:34:37.468Z"
   },
   {
    "duration": 28,
    "start_time": "2022-10-14T12:34:37.796Z"
   },
   {
    "duration": 18,
    "start_time": "2022-10-14T12:34:37.826Z"
   },
   {
    "duration": 6,
    "start_time": "2022-10-14T12:34:37.846Z"
   },
   {
    "duration": 80,
    "start_time": "2022-10-14T12:34:37.854Z"
   },
   {
    "duration": 7,
    "start_time": "2022-10-14T12:34:37.935Z"
   },
   {
    "duration": 47,
    "start_time": "2022-10-14T12:34:37.944Z"
   },
   {
    "duration": 53,
    "start_time": "2022-10-14T12:34:37.992Z"
   },
   {
    "duration": 33,
    "start_time": "2022-10-14T12:34:38.046Z"
   },
   {
    "duration": 50,
    "start_time": "2022-10-14T12:34:38.081Z"
   },
   {
    "duration": 21,
    "start_time": "2022-10-14T12:34:38.132Z"
   },
   {
    "duration": 10,
    "start_time": "2022-10-14T12:34:38.155Z"
   },
   {
    "duration": 11,
    "start_time": "2022-10-14T12:34:38.166Z"
   },
   {
    "duration": 10,
    "start_time": "2022-10-14T12:34:38.179Z"
   },
   {
    "duration": 32,
    "start_time": "2022-10-14T12:34:38.191Z"
   },
   {
    "duration": 17,
    "start_time": "2022-10-14T12:34:38.224Z"
   },
   {
    "duration": 228,
    "start_time": "2022-10-14T12:34:38.242Z"
   },
   {
    "duration": 226,
    "start_time": "2022-10-14T12:34:38.471Z"
   },
   {
    "duration": 8,
    "start_time": "2022-10-14T12:34:38.698Z"
   },
   {
    "duration": 18,
    "start_time": "2022-10-14T12:34:38.708Z"
   },
   {
    "duration": 5,
    "start_time": "2022-10-14T12:34:38.727Z"
   },
   {
    "duration": 5,
    "start_time": "2022-10-14T12:34:38.734Z"
   },
   {
    "duration": 12,
    "start_time": "2022-10-14T12:34:38.741Z"
   },
   {
    "duration": 16,
    "start_time": "2022-10-14T12:34:38.754Z"
   },
   {
    "duration": 4,
    "start_time": "2022-10-14T12:34:38.772Z"
   },
   {
    "duration": 135,
    "start_time": "2022-10-14T12:34:38.778Z"
   },
   {
    "duration": 37,
    "start_time": "2022-10-14T12:34:38.915Z"
   },
   {
    "duration": 21,
    "start_time": "2022-10-14T12:34:38.953Z"
   },
   {
    "duration": 18,
    "start_time": "2022-10-14T12:34:38.976Z"
   },
   {
    "duration": 9,
    "start_time": "2022-10-14T12:34:38.995Z"
   },
   {
    "duration": 7,
    "start_time": "2022-10-14T12:34:39.006Z"
   },
   {
    "duration": 31,
    "start_time": "2022-10-14T12:34:39.014Z"
   },
   {
    "duration": 14,
    "start_time": "2022-10-14T12:34:39.046Z"
   },
   {
    "duration": 12,
    "start_time": "2022-10-14T13:10:41.907Z"
   },
   {
    "duration": 18,
    "start_time": "2022-10-14T13:11:40.640Z"
   },
   {
    "duration": 10,
    "start_time": "2022-10-14T13:17:24.831Z"
   },
   {
    "duration": 4,
    "start_time": "2022-10-14T13:20:37.046Z"
   },
   {
    "duration": 3,
    "start_time": "2022-10-14T13:31:06.943Z"
   },
   {
    "duration": 5,
    "start_time": "2022-10-14T13:37:05.483Z"
   },
   {
    "duration": 198,
    "start_time": "2022-10-14T13:37:13.185Z"
   },
   {
    "duration": 4,
    "start_time": "2022-10-14T13:37:58.293Z"
   },
   {
    "duration": 5,
    "start_time": "2022-10-14T13:38:06.368Z"
   },
   {
    "duration": 24,
    "start_time": "2022-10-14T13:38:09.577Z"
   },
   {
    "duration": 3,
    "start_time": "2022-10-14T13:47:22.261Z"
   },
   {
    "duration": 26,
    "start_time": "2022-10-14T13:49:31.027Z"
   },
   {
    "duration": 23,
    "start_time": "2022-10-14T14:02:59.507Z"
   },
   {
    "duration": 16,
    "start_time": "2022-10-14T14:07:01.369Z"
   },
   {
    "duration": 1250,
    "start_time": "2022-10-14T14:14:21.905Z"
   },
   {
    "duration": 292,
    "start_time": "2022-10-14T14:14:23.156Z"
   },
   {
    "duration": 13,
    "start_time": "2022-10-14T14:14:23.450Z"
   },
   {
    "duration": 10,
    "start_time": "2022-10-14T14:14:23.464Z"
   },
   {
    "duration": 10,
    "start_time": "2022-10-14T14:14:23.475Z"
   },
   {
    "duration": 56,
    "start_time": "2022-10-14T14:14:23.487Z"
   },
   {
    "duration": 33,
    "start_time": "2022-10-14T14:14:23.545Z"
   },
   {
    "duration": 60,
    "start_time": "2022-10-14T14:14:23.580Z"
   },
   {
    "duration": 85,
    "start_time": "2022-10-14T14:14:23.642Z"
   },
   {
    "duration": 17,
    "start_time": "2022-10-14T14:14:23.730Z"
   },
   {
    "duration": 14,
    "start_time": "2022-10-14T14:14:23.748Z"
   },
   {
    "duration": 27,
    "start_time": "2022-10-14T14:14:23.764Z"
   },
   {
    "duration": 13,
    "start_time": "2022-10-14T14:14:23.793Z"
   },
   {
    "duration": 24,
    "start_time": "2022-10-14T14:14:23.807Z"
   },
   {
    "duration": 34,
    "start_time": "2022-10-14T14:14:23.833Z"
   },
   {
    "duration": 94,
    "start_time": "2022-10-14T14:14:23.869Z"
   },
   {
    "duration": 10,
    "start_time": "2022-10-14T14:14:23.965Z"
   },
   {
    "duration": 13,
    "start_time": "2022-10-14T14:14:23.976Z"
   },
   {
    "duration": 19,
    "start_time": "2022-10-14T14:14:23.991Z"
   },
   {
    "duration": 12,
    "start_time": "2022-10-14T14:14:24.022Z"
   },
   {
    "duration": 17,
    "start_time": "2022-10-14T14:14:24.036Z"
   },
   {
    "duration": 36,
    "start_time": "2022-10-14T14:14:24.054Z"
   },
   {
    "duration": 34,
    "start_time": "2022-10-14T14:14:24.092Z"
   },
   {
    "duration": 47,
    "start_time": "2022-10-14T14:14:24.128Z"
   },
   {
    "duration": 120,
    "start_time": "2022-10-14T14:14:24.177Z"
   },
   {
    "duration": 178,
    "start_time": "2022-10-14T14:14:24.299Z"
   },
   {
    "duration": 4,
    "start_time": "2022-10-14T14:14:24.479Z"
   },
   {
    "duration": 444,
    "start_time": "2022-10-14T14:14:24.487Z"
   },
   {
    "duration": 205,
    "start_time": "2022-10-14T14:14:24.934Z"
   },
   {
    "duration": 309,
    "start_time": "2022-10-14T14:14:25.142Z"
   },
   {
    "duration": 279,
    "start_time": "2022-10-14T14:14:25.453Z"
   },
   {
    "duration": 419,
    "start_time": "2022-10-14T14:14:25.734Z"
   },
   {
    "duration": 242,
    "start_time": "2022-10-14T14:14:26.155Z"
   },
   {
    "duration": 326,
    "start_time": "2022-10-14T14:14:26.399Z"
   },
   {
    "duration": 19,
    "start_time": "2022-10-14T14:14:26.726Z"
   },
   {
    "duration": 78,
    "start_time": "2022-10-14T14:14:26.746Z"
   },
   {
    "duration": 6,
    "start_time": "2022-10-14T14:14:26.825Z"
   },
   {
    "duration": 32,
    "start_time": "2022-10-14T14:14:26.833Z"
   },
   {
    "duration": 33,
    "start_time": "2022-10-14T14:14:26.867Z"
   },
   {
    "duration": 79,
    "start_time": "2022-10-14T14:14:26.902Z"
   },
   {
    "duration": 38,
    "start_time": "2022-10-14T14:14:26.982Z"
   },
   {
    "duration": 68,
    "start_time": "2022-10-14T14:14:27.021Z"
   },
   {
    "duration": 48,
    "start_time": "2022-10-14T14:14:27.091Z"
   },
   {
    "duration": 27,
    "start_time": "2022-10-14T14:14:27.141Z"
   },
   {
    "duration": 27,
    "start_time": "2022-10-14T14:14:27.170Z"
   },
   {
    "duration": 46,
    "start_time": "2022-10-14T14:14:27.199Z"
   },
   {
    "duration": 50,
    "start_time": "2022-10-14T14:14:27.247Z"
   },
   {
    "duration": 39,
    "start_time": "2022-10-14T14:14:27.298Z"
   },
   {
    "duration": 57,
    "start_time": "2022-10-14T14:14:27.338Z"
   },
   {
    "duration": 233,
    "start_time": "2022-10-14T14:14:27.397Z"
   },
   {
    "duration": 226,
    "start_time": "2022-10-14T14:14:27.632Z"
   },
   {
    "duration": 10,
    "start_time": "2022-10-14T14:14:27.859Z"
   },
   {
    "duration": 11,
    "start_time": "2022-10-14T14:14:27.870Z"
   },
   {
    "duration": 7,
    "start_time": "2022-10-14T14:14:27.883Z"
   },
   {
    "duration": 7,
    "start_time": "2022-10-14T14:14:27.891Z"
   },
   {
    "duration": 30,
    "start_time": "2022-10-14T14:14:27.900Z"
   },
   {
    "duration": 19,
    "start_time": "2022-10-14T14:14:27.931Z"
   },
   {
    "duration": 116,
    "start_time": "2022-10-14T14:14:27.952Z"
   },
   {
    "duration": 15,
    "start_time": "2022-10-14T14:14:28.070Z"
   },
   {
    "duration": 8,
    "start_time": "2022-10-14T14:14:28.087Z"
   },
   {
    "duration": 11,
    "start_time": "2022-10-14T14:14:28.096Z"
   },
   {
    "duration": 30,
    "start_time": "2022-10-14T14:14:28.108Z"
   },
   {
    "duration": 11,
    "start_time": "2022-10-14T14:14:28.139Z"
   },
   {
    "duration": 24,
    "start_time": "2022-10-14T14:14:28.151Z"
   },
   {
    "duration": 10,
    "start_time": "2022-10-14T14:14:28.177Z"
   },
   {
    "duration": 1483,
    "start_time": "2022-10-15T11:23:17.062Z"
   },
   {
    "duration": 636,
    "start_time": "2022-10-15T11:23:18.547Z"
   },
   {
    "duration": 13,
    "start_time": "2022-10-15T11:23:19.184Z"
   },
   {
    "duration": 9,
    "start_time": "2022-10-15T11:23:19.199Z"
   },
   {
    "duration": 32,
    "start_time": "2022-10-15T11:23:19.209Z"
   },
   {
    "duration": 60,
    "start_time": "2022-10-15T11:23:19.243Z"
   },
   {
    "duration": 57,
    "start_time": "2022-10-15T11:23:19.305Z"
   },
   {
    "duration": 51,
    "start_time": "2022-10-15T11:23:19.364Z"
   },
   {
    "duration": 76,
    "start_time": "2022-10-15T11:23:19.428Z"
   },
   {
    "duration": 32,
    "start_time": "2022-10-15T11:23:19.506Z"
   },
   {
    "duration": 21,
    "start_time": "2022-10-15T11:23:19.541Z"
   },
   {
    "duration": 36,
    "start_time": "2022-10-15T11:23:19.564Z"
   },
   {
    "duration": 19,
    "start_time": "2022-10-15T11:23:19.602Z"
   },
   {
    "duration": 22,
    "start_time": "2022-10-15T11:23:19.624Z"
   },
   {
    "duration": 33,
    "start_time": "2022-10-15T11:23:19.648Z"
   },
   {
    "duration": 95,
    "start_time": "2022-10-15T11:23:19.683Z"
   },
   {
    "duration": 7,
    "start_time": "2022-10-15T11:23:19.780Z"
   },
   {
    "duration": 20,
    "start_time": "2022-10-15T11:23:19.789Z"
   },
   {
    "duration": 49,
    "start_time": "2022-10-15T11:23:19.811Z"
   },
   {
    "duration": 37,
    "start_time": "2022-10-15T11:23:19.862Z"
   },
   {
    "duration": 17,
    "start_time": "2022-10-15T11:23:19.901Z"
   },
   {
    "duration": 46,
    "start_time": "2022-10-15T11:23:19.921Z"
   },
   {
    "duration": 29,
    "start_time": "2022-10-15T11:23:19.969Z"
   },
   {
    "duration": 67,
    "start_time": "2022-10-15T11:23:20.000Z"
   },
   {
    "duration": 89,
    "start_time": "2022-10-15T11:23:20.069Z"
   },
   {
    "duration": 183,
    "start_time": "2022-10-15T11:23:20.160Z"
   },
   {
    "duration": 5,
    "start_time": "2022-10-15T11:23:20.344Z"
   },
   {
    "duration": 454,
    "start_time": "2022-10-15T11:23:20.353Z"
   },
   {
    "duration": 225,
    "start_time": "2022-10-15T11:23:20.809Z"
   },
   {
    "duration": 336,
    "start_time": "2022-10-15T11:23:21.037Z"
   },
   {
    "duration": 328,
    "start_time": "2022-10-15T11:23:21.375Z"
   },
   {
    "duration": 454,
    "start_time": "2022-10-15T11:23:21.705Z"
   },
   {
    "duration": 251,
    "start_time": "2022-10-15T11:23:22.161Z"
   },
   {
    "duration": 427,
    "start_time": "2022-10-15T11:23:22.413Z"
   },
   {
    "duration": 21,
    "start_time": "2022-10-15T11:23:22.843Z"
   },
   {
    "duration": 78,
    "start_time": "2022-10-15T11:23:22.866Z"
   },
   {
    "duration": 31,
    "start_time": "2022-10-15T11:23:22.946Z"
   },
   {
    "duration": 54,
    "start_time": "2022-10-15T11:23:22.979Z"
   },
   {
    "duration": 43,
    "start_time": "2022-10-15T11:23:23.036Z"
   },
   {
    "duration": 102,
    "start_time": "2022-10-15T11:23:23.080Z"
   },
   {
    "duration": 62,
    "start_time": "2022-10-15T11:23:23.184Z"
   },
   {
    "duration": 49,
    "start_time": "2022-10-15T11:23:23.248Z"
   },
   {
    "duration": 55,
    "start_time": "2022-10-15T11:23:23.299Z"
   },
   {
    "duration": 24,
    "start_time": "2022-10-15T11:23:23.355Z"
   },
   {
    "duration": 28,
    "start_time": "2022-10-15T11:23:23.380Z"
   },
   {
    "duration": 42,
    "start_time": "2022-10-15T11:23:23.410Z"
   },
   {
    "duration": 33,
    "start_time": "2022-10-15T11:23:23.454Z"
   },
   {
    "duration": 53,
    "start_time": "2022-10-15T11:23:23.489Z"
   },
   {
    "duration": 41,
    "start_time": "2022-10-15T11:23:23.543Z"
   },
   {
    "duration": 270,
    "start_time": "2022-10-15T11:23:23.586Z"
   },
   {
    "duration": 255,
    "start_time": "2022-10-15T11:23:23.858Z"
   },
   {
    "duration": 18,
    "start_time": "2022-10-15T11:23:24.120Z"
   },
   {
    "duration": 14,
    "start_time": "2022-10-15T11:23:24.140Z"
   },
   {
    "duration": 6,
    "start_time": "2022-10-15T11:23:24.156Z"
   },
   {
    "duration": 6,
    "start_time": "2022-10-15T11:23:24.163Z"
   },
   {
    "duration": 13,
    "start_time": "2022-10-15T11:23:24.170Z"
   },
   {
    "duration": 55,
    "start_time": "2022-10-15T11:23:24.184Z"
   },
   {
    "duration": 134,
    "start_time": "2022-10-15T11:23:24.241Z"
   },
   {
    "duration": 10,
    "start_time": "2022-10-15T11:23:24.377Z"
   },
   {
    "duration": 7,
    "start_time": "2022-10-15T11:23:24.389Z"
   },
   {
    "duration": 10,
    "start_time": "2022-10-15T11:23:24.398Z"
   },
   {
    "duration": 36,
    "start_time": "2022-10-15T11:23:24.423Z"
   },
   {
    "duration": 11,
    "start_time": "2022-10-15T11:23:24.461Z"
   },
   {
    "duration": 30,
    "start_time": "2022-10-15T11:23:24.474Z"
   },
   {
    "duration": 32,
    "start_time": "2022-10-15T11:23:24.506Z"
   },
   {
    "duration": 1285,
    "start_time": "2022-10-15T12:37:58.935Z"
   },
   {
    "duration": 254,
    "start_time": "2022-10-15T12:38:00.222Z"
   },
   {
    "duration": 14,
    "start_time": "2022-10-15T12:38:00.478Z"
   },
   {
    "duration": 33,
    "start_time": "2022-10-15T12:38:00.495Z"
   },
   {
    "duration": 51,
    "start_time": "2022-10-15T12:38:00.529Z"
   },
   {
    "duration": 102,
    "start_time": "2022-10-15T12:38:00.582Z"
   },
   {
    "duration": 50,
    "start_time": "2022-10-15T12:38:00.686Z"
   },
   {
    "duration": 71,
    "start_time": "2022-10-15T12:38:00.738Z"
   },
   {
    "duration": 85,
    "start_time": "2022-10-15T12:38:00.811Z"
   },
   {
    "duration": 12,
    "start_time": "2022-10-15T12:38:00.899Z"
   },
   {
    "duration": 37,
    "start_time": "2022-10-15T12:38:00.912Z"
   },
   {
    "duration": 38,
    "start_time": "2022-10-15T12:38:00.951Z"
   },
   {
    "duration": 48,
    "start_time": "2022-10-15T12:38:00.991Z"
   },
   {
    "duration": 18,
    "start_time": "2022-10-15T12:38:01.041Z"
   },
   {
    "duration": 49,
    "start_time": "2022-10-15T12:38:01.060Z"
   },
   {
    "duration": 158,
    "start_time": "2022-10-15T12:38:01.111Z"
   },
   {
    "duration": 7,
    "start_time": "2022-10-15T12:38:01.271Z"
   },
   {
    "duration": 57,
    "start_time": "2022-10-15T12:38:01.279Z"
   },
   {
    "duration": 48,
    "start_time": "2022-10-15T12:38:01.337Z"
   },
   {
    "duration": 56,
    "start_time": "2022-10-15T12:38:01.386Z"
   },
   {
    "duration": 37,
    "start_time": "2022-10-15T12:38:01.444Z"
   },
   {
    "duration": 62,
    "start_time": "2022-10-15T12:38:01.483Z"
   },
   {
    "duration": 35,
    "start_time": "2022-10-15T12:38:01.547Z"
   },
   {
    "duration": 86,
    "start_time": "2022-10-15T12:38:01.584Z"
   },
   {
    "duration": 87,
    "start_time": "2022-10-15T12:38:01.672Z"
   },
   {
    "duration": 169,
    "start_time": "2022-10-15T12:38:01.761Z"
   },
   {
    "duration": 6,
    "start_time": "2022-10-15T12:38:01.932Z"
   },
   {
    "duration": 473,
    "start_time": "2022-10-15T12:38:01.941Z"
   },
   {
    "duration": 226,
    "start_time": "2022-10-15T12:38:02.416Z"
   },
   {
    "duration": 348,
    "start_time": "2022-10-15T12:38:02.645Z"
   },
   {
    "duration": 327,
    "start_time": "2022-10-15T12:38:02.994Z"
   },
   {
    "duration": 444,
    "start_time": "2022-10-15T12:38:03.324Z"
   },
   {
    "duration": 239,
    "start_time": "2022-10-15T12:38:03.770Z"
   },
   {
    "duration": 352,
    "start_time": "2022-10-15T12:38:04.010Z"
   },
   {
    "duration": 20,
    "start_time": "2022-10-15T12:38:04.364Z"
   },
   {
    "duration": 35,
    "start_time": "2022-10-15T12:38:04.386Z"
   },
   {
    "duration": 13,
    "start_time": "2022-10-15T12:38:04.423Z"
   },
   {
    "duration": 28,
    "start_time": "2022-10-15T12:38:04.438Z"
   },
   {
    "duration": 7,
    "start_time": "2022-10-15T12:38:04.467Z"
   },
   {
    "duration": 56,
    "start_time": "2022-10-15T12:38:04.521Z"
   },
   {
    "duration": 66,
    "start_time": "2022-10-15T12:38:04.579Z"
   },
   {
    "duration": 44,
    "start_time": "2022-10-15T12:38:04.647Z"
   },
   {
    "duration": 61,
    "start_time": "2022-10-15T12:38:04.692Z"
   },
   {
    "duration": 24,
    "start_time": "2022-10-15T12:38:04.755Z"
   },
   {
    "duration": 13,
    "start_time": "2022-10-15T12:38:04.781Z"
   },
   {
    "duration": 51,
    "start_time": "2022-10-15T12:38:04.796Z"
   },
   {
    "duration": 10,
    "start_time": "2022-10-15T12:38:04.849Z"
   },
   {
    "duration": 13,
    "start_time": "2022-10-15T12:38:04.860Z"
   },
   {
    "duration": 16,
    "start_time": "2022-10-15T12:38:04.874Z"
   },
   {
    "duration": 280,
    "start_time": "2022-10-15T12:38:04.892Z"
   },
   {
    "duration": 266,
    "start_time": "2022-10-15T12:38:05.174Z"
   },
   {
    "duration": 9,
    "start_time": "2022-10-15T12:38:05.442Z"
   },
   {
    "duration": 12,
    "start_time": "2022-10-15T12:38:05.452Z"
   },
   {
    "duration": 10,
    "start_time": "2022-10-15T12:38:05.465Z"
   },
   {
    "duration": 5,
    "start_time": "2022-10-15T12:38:05.477Z"
   },
   {
    "duration": 13,
    "start_time": "2022-10-15T12:38:05.483Z"
   },
   {
    "duration": 41,
    "start_time": "2022-10-15T12:38:05.498Z"
   },
   {
    "duration": 137,
    "start_time": "2022-10-15T12:38:05.541Z"
   },
   {
    "duration": 10,
    "start_time": "2022-10-15T12:38:05.680Z"
   },
   {
    "duration": 14,
    "start_time": "2022-10-15T12:38:05.692Z"
   },
   {
    "duration": 39,
    "start_time": "2022-10-15T12:38:05.708Z"
   },
   {
    "duration": 47,
    "start_time": "2022-10-15T12:38:05.749Z"
   },
   {
    "duration": 19,
    "start_time": "2022-10-15T12:38:05.797Z"
   },
   {
    "duration": 55,
    "start_time": "2022-10-15T12:38:05.818Z"
   },
   {
    "duration": 1275,
    "start_time": "2022-10-15T12:52:02.882Z"
   },
   {
    "duration": 256,
    "start_time": "2022-10-15T12:52:04.158Z"
   },
   {
    "duration": 21,
    "start_time": "2022-10-15T12:52:04.416Z"
   },
   {
    "duration": 15,
    "start_time": "2022-10-15T12:52:04.440Z"
   },
   {
    "duration": 16,
    "start_time": "2022-10-15T12:52:04.456Z"
   },
   {
    "duration": 90,
    "start_time": "2022-10-15T12:52:04.474Z"
   },
   {
    "duration": 85,
    "start_time": "2022-10-15T12:52:04.565Z"
   },
   {
    "duration": 85,
    "start_time": "2022-10-15T12:52:04.652Z"
   },
   {
    "duration": 95,
    "start_time": "2022-10-15T12:52:04.740Z"
   },
   {
    "duration": 16,
    "start_time": "2022-10-15T12:52:04.838Z"
   },
   {
    "duration": 16,
    "start_time": "2022-10-15T12:52:04.856Z"
   },
   {
    "duration": 29,
    "start_time": "2022-10-15T12:52:04.873Z"
   },
   {
    "duration": 35,
    "start_time": "2022-10-15T12:52:04.904Z"
   },
   {
    "duration": 12,
    "start_time": "2022-10-15T12:52:04.941Z"
   },
   {
    "duration": 37,
    "start_time": "2022-10-15T12:52:04.955Z"
   },
   {
    "duration": 100,
    "start_time": "2022-10-15T12:52:04.994Z"
   },
   {
    "duration": 8,
    "start_time": "2022-10-15T12:52:05.096Z"
   },
   {
    "duration": 46,
    "start_time": "2022-10-15T12:52:05.105Z"
   },
   {
    "duration": 39,
    "start_time": "2022-10-15T12:52:05.153Z"
   },
   {
    "duration": 60,
    "start_time": "2022-10-15T12:52:05.194Z"
   },
   {
    "duration": 144,
    "start_time": "2022-10-15T12:52:05.256Z"
   },
   {
    "duration": 57,
    "start_time": "2022-10-15T12:52:05.401Z"
   },
   {
    "duration": 33,
    "start_time": "2022-10-15T12:52:05.460Z"
   },
   {
    "duration": 72,
    "start_time": "2022-10-15T12:52:05.495Z"
   },
   {
    "duration": 90,
    "start_time": "2022-10-15T12:52:05.569Z"
   },
   {
    "duration": 183,
    "start_time": "2022-10-15T12:52:05.661Z"
   },
   {
    "duration": 5,
    "start_time": "2022-10-15T12:52:05.846Z"
   },
   {
    "duration": 482,
    "start_time": "2022-10-15T12:52:05.855Z"
   },
   {
    "duration": 228,
    "start_time": "2022-10-15T12:52:06.340Z"
   },
   {
    "duration": 397,
    "start_time": "2022-10-15T12:52:06.570Z"
   },
   {
    "duration": 389,
    "start_time": "2022-10-15T12:52:06.970Z"
   },
   {
    "duration": 575,
    "start_time": "2022-10-15T12:52:07.362Z"
   },
   {
    "duration": 266,
    "start_time": "2022-10-15T12:52:07.941Z"
   },
   {
    "duration": 391,
    "start_time": "2022-10-15T12:52:08.208Z"
   },
   {
    "duration": 50,
    "start_time": "2022-10-15T12:52:08.601Z"
   },
   {
    "duration": 16,
    "start_time": "2022-10-15T12:52:08.653Z"
   },
   {
    "duration": 63,
    "start_time": "2022-10-15T12:52:08.671Z"
   },
   {
    "duration": 30,
    "start_time": "2022-10-15T12:52:08.738Z"
   },
   {
    "duration": 10,
    "start_time": "2022-10-15T12:52:08.770Z"
   },
   {
    "duration": 103,
    "start_time": "2022-10-15T12:52:08.782Z"
   },
   {
    "duration": 62,
    "start_time": "2022-10-15T12:52:08.888Z"
   },
   {
    "duration": 56,
    "start_time": "2022-10-15T12:52:08.952Z"
   },
   {
    "duration": 72,
    "start_time": "2022-10-15T12:52:09.010Z"
   },
   {
    "duration": 32,
    "start_time": "2022-10-15T12:52:09.084Z"
   },
   {
    "duration": 25,
    "start_time": "2022-10-15T12:52:09.121Z"
   },
   {
    "duration": 20,
    "start_time": "2022-10-15T12:52:09.149Z"
   },
   {
    "duration": 15,
    "start_time": "2022-10-15T12:52:09.171Z"
   },
   {
    "duration": 24,
    "start_time": "2022-10-15T12:52:09.188Z"
   },
   {
    "duration": 30,
    "start_time": "2022-10-15T12:52:09.214Z"
   },
   {
    "duration": 293,
    "start_time": "2022-10-15T12:52:09.247Z"
   },
   {
    "duration": 264,
    "start_time": "2022-10-15T12:52:09.543Z"
   },
   {
    "duration": 14,
    "start_time": "2022-10-15T12:52:09.809Z"
   },
   {
    "duration": 15,
    "start_time": "2022-10-15T12:52:09.826Z"
   },
   {
    "duration": 13,
    "start_time": "2022-10-15T12:52:09.843Z"
   },
   {
    "duration": 13,
    "start_time": "2022-10-15T12:52:09.859Z"
   },
   {
    "duration": 26,
    "start_time": "2022-10-15T12:52:09.874Z"
   },
   {
    "duration": 47,
    "start_time": "2022-10-15T12:52:09.902Z"
   },
   {
    "duration": 134,
    "start_time": "2022-10-15T12:52:09.951Z"
   },
   {
    "duration": 12,
    "start_time": "2022-10-15T12:52:10.086Z"
   },
   {
    "duration": 4,
    "start_time": "2022-10-15T12:52:10.100Z"
   },
   {
    "duration": 10,
    "start_time": "2022-10-15T12:52:10.120Z"
   },
   {
    "duration": 39,
    "start_time": "2022-10-15T12:52:10.133Z"
   },
   {
    "duration": 308,
    "start_time": "2022-10-15T12:52:10.173Z"
   },
   {
    "duration": 76,
    "start_time": "2022-10-15T12:52:10.482Z"
   },
   {
    "duration": 1417,
    "start_time": "2022-10-16T08:59:49.294Z"
   },
   {
    "duration": 312,
    "start_time": "2022-10-16T08:59:50.714Z"
   },
   {
    "duration": 14,
    "start_time": "2022-10-16T08:59:51.028Z"
   },
   {
    "duration": 13,
    "start_time": "2022-10-16T08:59:51.045Z"
   },
   {
    "duration": 11,
    "start_time": "2022-10-16T08:59:51.060Z"
   },
   {
    "duration": 75,
    "start_time": "2022-10-16T08:59:51.072Z"
   },
   {
    "duration": 63,
    "start_time": "2022-10-16T08:59:51.148Z"
   },
   {
    "duration": 58,
    "start_time": "2022-10-16T08:59:51.213Z"
   },
   {
    "duration": 157,
    "start_time": "2022-10-16T08:59:51.273Z"
   },
   {
    "duration": 22,
    "start_time": "2022-10-16T08:59:51.434Z"
   },
   {
    "duration": 36,
    "start_time": "2022-10-16T08:59:51.459Z"
   },
   {
    "duration": 36,
    "start_time": "2022-10-16T08:59:51.498Z"
   },
   {
    "duration": 15,
    "start_time": "2022-10-16T08:59:51.536Z"
   },
   {
    "duration": 36,
    "start_time": "2022-10-16T08:59:51.553Z"
   },
   {
    "duration": 37,
    "start_time": "2022-10-16T08:59:51.592Z"
   },
   {
    "duration": 104,
    "start_time": "2022-10-16T08:59:51.631Z"
   },
   {
    "duration": 7,
    "start_time": "2022-10-16T08:59:51.737Z"
   },
   {
    "duration": 8,
    "start_time": "2022-10-16T08:59:51.745Z"
   },
   {
    "duration": 46,
    "start_time": "2022-10-16T08:59:51.755Z"
   },
   {
    "duration": 42,
    "start_time": "2022-10-16T08:59:51.803Z"
   },
   {
    "duration": 24,
    "start_time": "2022-10-16T08:59:51.849Z"
   },
   {
    "duration": 42,
    "start_time": "2022-10-16T08:59:51.876Z"
   },
   {
    "duration": 38,
    "start_time": "2022-10-16T08:59:51.920Z"
   },
   {
    "duration": 87,
    "start_time": "2022-10-16T08:59:51.960Z"
   },
   {
    "duration": 98,
    "start_time": "2022-10-16T08:59:52.049Z"
   },
   {
    "duration": 260,
    "start_time": "2022-10-16T08:59:52.151Z"
   },
   {
    "duration": 4,
    "start_time": "2022-10-16T08:59:52.413Z"
   },
   {
    "duration": 463,
    "start_time": "2022-10-16T08:59:52.422Z"
   },
   {
    "duration": 269,
    "start_time": "2022-10-16T08:59:52.887Z"
   },
   {
    "duration": 377,
    "start_time": "2022-10-16T08:59:53.158Z"
   },
   {
    "duration": 384,
    "start_time": "2022-10-16T08:59:53.536Z"
   },
   {
    "duration": 464,
    "start_time": "2022-10-16T08:59:53.922Z"
   },
   {
    "duration": 265,
    "start_time": "2022-10-16T08:59:54.390Z"
   },
   {
    "duration": 465,
    "start_time": "2022-10-16T08:59:54.656Z"
   },
   {
    "duration": 22,
    "start_time": "2022-10-16T08:59:55.123Z"
   },
   {
    "duration": 43,
    "start_time": "2022-10-16T08:59:55.146Z"
   },
   {
    "duration": 7,
    "start_time": "2022-10-16T08:59:55.191Z"
   },
   {
    "duration": 16,
    "start_time": "2022-10-16T08:59:55.200Z"
   },
   {
    "duration": 8,
    "start_time": "2022-10-16T08:59:55.218Z"
   },
   {
    "duration": 111,
    "start_time": "2022-10-16T08:59:55.228Z"
   },
   {
    "duration": 86,
    "start_time": "2022-10-16T08:59:55.341Z"
   },
   {
    "duration": 59,
    "start_time": "2022-10-16T08:59:55.430Z"
   },
   {
    "duration": 36,
    "start_time": "2022-10-16T08:59:55.491Z"
   },
   {
    "duration": 27,
    "start_time": "2022-10-16T08:59:55.529Z"
   },
   {
    "duration": 36,
    "start_time": "2022-10-16T08:59:55.558Z"
   },
   {
    "duration": 13,
    "start_time": "2022-10-16T08:59:55.596Z"
   },
   {
    "duration": 12,
    "start_time": "2022-10-16T08:59:55.611Z"
   },
   {
    "duration": 15,
    "start_time": "2022-10-16T08:59:55.624Z"
   },
   {
    "duration": 48,
    "start_time": "2022-10-16T08:59:55.641Z"
   },
   {
    "duration": 274,
    "start_time": "2022-10-16T08:59:55.691Z"
   },
   {
    "duration": 262,
    "start_time": "2022-10-16T08:59:55.967Z"
   },
   {
    "duration": 9,
    "start_time": "2022-10-16T08:59:56.231Z"
   },
   {
    "duration": 13,
    "start_time": "2022-10-16T08:59:56.242Z"
   },
   {
    "duration": 5,
    "start_time": "2022-10-16T08:59:56.257Z"
   },
   {
    "duration": 29,
    "start_time": "2022-10-16T08:59:56.264Z"
   },
   {
    "duration": 16,
    "start_time": "2022-10-16T08:59:56.294Z"
   },
   {
    "duration": 14,
    "start_time": "2022-10-16T08:59:56.313Z"
   },
   {
    "duration": 143,
    "start_time": "2022-10-16T08:59:56.329Z"
   },
   {
    "duration": 22,
    "start_time": "2022-10-16T08:59:56.474Z"
   },
   {
    "duration": 6,
    "start_time": "2022-10-16T08:59:56.498Z"
   },
   {
    "duration": 8,
    "start_time": "2022-10-16T08:59:56.505Z"
   },
   {
    "duration": 31,
    "start_time": "2022-10-16T08:59:56.515Z"
   },
   {
    "duration": 7,
    "start_time": "2022-10-16T08:59:56.547Z"
   },
   {
    "duration": 51,
    "start_time": "2022-10-16T08:59:56.556Z"
   },
   {
    "duration": 1456,
    "start_time": "2022-10-16T09:20:50.858Z"
   },
   {
    "duration": 283,
    "start_time": "2022-10-16T09:20:52.316Z"
   },
   {
    "duration": 13,
    "start_time": "2022-10-16T09:20:52.601Z"
   },
   {
    "duration": 12,
    "start_time": "2022-10-16T09:20:52.616Z"
   },
   {
    "duration": 11,
    "start_time": "2022-10-16T09:20:52.631Z"
   },
   {
    "duration": 82,
    "start_time": "2022-10-16T09:20:52.644Z"
   },
   {
    "duration": 64,
    "start_time": "2022-10-16T09:20:52.728Z"
   },
   {
    "duration": 58,
    "start_time": "2022-10-16T09:20:52.794Z"
   },
   {
    "duration": 97,
    "start_time": "2022-10-16T09:20:52.854Z"
   },
   {
    "duration": 12,
    "start_time": "2022-10-16T09:20:52.953Z"
   },
   {
    "duration": 29,
    "start_time": "2022-10-16T09:20:52.967Z"
   },
   {
    "duration": 24,
    "start_time": "2022-10-16T09:20:52.998Z"
   },
   {
    "duration": 14,
    "start_time": "2022-10-16T09:20:53.024Z"
   },
   {
    "duration": 12,
    "start_time": "2022-10-16T09:20:53.041Z"
   },
   {
    "duration": 56,
    "start_time": "2022-10-16T09:20:53.054Z"
   },
   {
    "duration": 95,
    "start_time": "2022-10-16T09:20:53.112Z"
   },
   {
    "duration": 6,
    "start_time": "2022-10-16T09:20:53.209Z"
   },
   {
    "duration": 12,
    "start_time": "2022-10-16T09:20:53.217Z"
   },
   {
    "duration": 20,
    "start_time": "2022-10-16T09:20:53.230Z"
   },
   {
    "duration": 21,
    "start_time": "2022-10-16T09:20:53.251Z"
   },
   {
    "duration": 19,
    "start_time": "2022-10-16T09:20:53.290Z"
   },
   {
    "duration": 35,
    "start_time": "2022-10-16T09:20:53.310Z"
   },
   {
    "duration": 54,
    "start_time": "2022-10-16T09:20:53.346Z"
   },
   {
    "duration": 51,
    "start_time": "2022-10-16T09:20:53.402Z"
   },
   {
    "duration": 93,
    "start_time": "2022-10-16T09:20:53.454Z"
   },
   {
    "duration": 165,
    "start_time": "2022-10-16T09:20:53.548Z"
   },
   {
    "duration": 4,
    "start_time": "2022-10-16T09:20:53.714Z"
   },
   {
    "duration": 433,
    "start_time": "2022-10-16T09:20:53.720Z"
   },
   {
    "duration": 224,
    "start_time": "2022-10-16T09:20:54.156Z"
   },
   {
    "duration": 330,
    "start_time": "2022-10-16T09:20:54.382Z"
   },
   {
    "duration": 311,
    "start_time": "2022-10-16T09:20:54.713Z"
   },
   {
    "duration": 458,
    "start_time": "2022-10-16T09:20:55.026Z"
   },
   {
    "duration": 235,
    "start_time": "2022-10-16T09:20:55.486Z"
   },
   {
    "duration": 467,
    "start_time": "2022-10-16T09:20:55.723Z"
   },
   {
    "duration": 23,
    "start_time": "2022-10-16T09:20:56.192Z"
   },
   {
    "duration": 16,
    "start_time": "2022-10-16T09:20:56.217Z"
   },
   {
    "duration": 56,
    "start_time": "2022-10-16T09:20:56.235Z"
   },
   {
    "duration": 20,
    "start_time": "2022-10-16T09:20:56.292Z"
   },
   {
    "duration": 6,
    "start_time": "2022-10-16T09:20:56.314Z"
   },
   {
    "duration": 108,
    "start_time": "2022-10-16T09:20:56.322Z"
   },
   {
    "duration": 60,
    "start_time": "2022-10-16T09:20:56.435Z"
   },
   {
    "duration": 44,
    "start_time": "2022-10-16T09:20:56.497Z"
   },
   {
    "duration": 58,
    "start_time": "2022-10-16T09:20:56.543Z"
   },
   {
    "duration": 37,
    "start_time": "2022-10-16T09:20:56.603Z"
   },
   {
    "duration": 20,
    "start_time": "2022-10-16T09:20:56.643Z"
   },
   {
    "duration": 18,
    "start_time": "2022-10-16T09:20:56.690Z"
   },
   {
    "duration": 15,
    "start_time": "2022-10-16T09:20:56.710Z"
   },
   {
    "duration": 27,
    "start_time": "2022-10-16T09:20:56.729Z"
   },
   {
    "duration": 42,
    "start_time": "2022-10-16T09:20:56.760Z"
   },
   {
    "duration": 299,
    "start_time": "2022-10-16T09:20:56.804Z"
   },
   {
    "duration": 272,
    "start_time": "2022-10-16T09:20:57.105Z"
   },
   {
    "duration": 15,
    "start_time": "2022-10-16T09:20:57.380Z"
   },
   {
    "duration": 15,
    "start_time": "2022-10-16T09:20:57.397Z"
   },
   {
    "duration": 7,
    "start_time": "2022-10-16T09:20:57.415Z"
   },
   {
    "duration": 6,
    "start_time": "2022-10-16T09:20:57.424Z"
   },
   {
    "duration": 11,
    "start_time": "2022-10-16T09:20:57.433Z"
   },
   {
    "duration": 51,
    "start_time": "2022-10-16T09:20:57.447Z"
   },
   {
    "duration": 122,
    "start_time": "2022-10-16T09:20:57.500Z"
   },
   {
    "duration": 12,
    "start_time": "2022-10-16T09:20:57.624Z"
   },
   {
    "duration": 7,
    "start_time": "2022-10-16T09:20:57.638Z"
   },
   {
    "duration": 8,
    "start_time": "2022-10-16T09:20:57.647Z"
   },
   {
    "duration": 57,
    "start_time": "2022-10-16T09:20:57.656Z"
   },
   {
    "duration": 9,
    "start_time": "2022-10-16T09:20:57.716Z"
   },
   {
    "duration": 29,
    "start_time": "2022-10-16T09:20:57.727Z"
   },
   {
    "duration": 70,
    "start_time": "2022-10-16T09:21:09.704Z"
   },
   {
    "duration": 61,
    "start_time": "2022-10-16T09:21:53.808Z"
   },
   {
    "duration": 6,
    "start_time": "2022-10-16T09:40:31.851Z"
   },
   {
    "duration": 182,
    "start_time": "2022-10-16T09:40:48.162Z"
   },
   {
    "duration": 12,
    "start_time": "2022-10-16T09:40:50.874Z"
   },
   {
    "duration": 6,
    "start_time": "2022-10-16T09:41:03.298Z"
   },
   {
    "duration": 13,
    "start_time": "2022-10-16T09:51:54.502Z"
   },
   {
    "duration": 8,
    "start_time": "2022-10-16T09:51:59.029Z"
   },
   {
    "duration": 1608,
    "start_time": "2022-10-17T08:15:15.752Z"
   },
   {
    "duration": 1008,
    "start_time": "2022-10-17T08:15:17.362Z"
   },
   {
    "duration": 19,
    "start_time": "2022-10-17T08:15:18.372Z"
   },
   {
    "duration": 43,
    "start_time": "2022-10-17T08:15:18.394Z"
   },
   {
    "duration": 18,
    "start_time": "2022-10-17T08:15:18.439Z"
   },
   {
    "duration": 91,
    "start_time": "2022-10-17T08:15:18.459Z"
   },
   {
    "duration": 87,
    "start_time": "2022-10-17T08:15:18.557Z"
   },
   {
    "duration": 86,
    "start_time": "2022-10-17T08:15:18.647Z"
   },
   {
    "duration": 95,
    "start_time": "2022-10-17T08:15:18.735Z"
   },
   {
    "duration": 20,
    "start_time": "2022-10-17T08:15:18.834Z"
   },
   {
    "duration": 46,
    "start_time": "2022-10-17T08:15:18.856Z"
   },
   {
    "duration": 56,
    "start_time": "2022-10-17T08:15:18.904Z"
   },
   {
    "duration": 19,
    "start_time": "2022-10-17T08:15:18.962Z"
   },
   {
    "duration": 43,
    "start_time": "2022-10-17T08:15:18.983Z"
   },
   {
    "duration": 77,
    "start_time": "2022-10-17T08:15:19.028Z"
   },
   {
    "duration": 123,
    "start_time": "2022-10-17T08:15:19.108Z"
   },
   {
    "duration": 76,
    "start_time": "2022-10-17T08:15:19.233Z"
   },
   {
    "duration": 7,
    "start_time": "2022-10-17T08:15:19.311Z"
   },
   {
    "duration": 33,
    "start_time": "2022-10-17T08:15:19.319Z"
   },
   {
    "duration": 28,
    "start_time": "2022-10-17T08:15:19.354Z"
   },
   {
    "duration": 42,
    "start_time": "2022-10-17T08:15:19.385Z"
   },
   {
    "duration": 26,
    "start_time": "2022-10-17T08:15:19.429Z"
   },
   {
    "duration": 46,
    "start_time": "2022-10-17T08:15:19.456Z"
   },
   {
    "duration": 42,
    "start_time": "2022-10-17T08:15:19.504Z"
   },
   {
    "duration": 62,
    "start_time": "2022-10-17T08:15:19.549Z"
   },
   {
    "duration": 87,
    "start_time": "2022-10-17T08:15:19.613Z"
   },
   {
    "duration": 188,
    "start_time": "2022-10-17T08:15:19.702Z"
   },
   {
    "duration": 4,
    "start_time": "2022-10-17T08:15:19.896Z"
   },
   {
    "duration": 499,
    "start_time": "2022-10-17T08:15:19.902Z"
   },
   {
    "duration": 240,
    "start_time": "2022-10-17T08:15:20.404Z"
   },
   {
    "duration": 382,
    "start_time": "2022-10-17T08:15:20.646Z"
   },
   {
    "duration": 354,
    "start_time": "2022-10-17T08:15:21.030Z"
   },
   {
    "duration": 504,
    "start_time": "2022-10-17T08:15:21.387Z"
   },
   {
    "duration": 324,
    "start_time": "2022-10-17T08:15:21.893Z"
   },
   {
    "duration": 459,
    "start_time": "2022-10-17T08:15:22.219Z"
   },
   {
    "duration": 22,
    "start_time": "2022-10-17T08:15:22.680Z"
   },
   {
    "duration": 16,
    "start_time": "2022-10-17T08:15:22.704Z"
   },
   {
    "duration": 7,
    "start_time": "2022-10-17T08:15:22.721Z"
   },
   {
    "duration": 73,
    "start_time": "2022-10-17T08:15:22.729Z"
   },
   {
    "duration": 5,
    "start_time": "2022-10-17T08:15:22.805Z"
   },
   {
    "duration": 118,
    "start_time": "2022-10-17T08:15:22.812Z"
   },
   {
    "duration": 76,
    "start_time": "2022-10-17T08:15:22.932Z"
   },
   {
    "duration": 48,
    "start_time": "2022-10-17T08:15:23.010Z"
   },
   {
    "duration": 54,
    "start_time": "2022-10-17T08:15:23.060Z"
   },
   {
    "duration": 25,
    "start_time": "2022-10-17T08:15:23.116Z"
   },
   {
    "duration": 13,
    "start_time": "2022-10-17T08:15:23.143Z"
   },
   {
    "duration": 42,
    "start_time": "2022-10-17T08:15:23.157Z"
   },
   {
    "duration": 11,
    "start_time": "2022-10-17T08:15:23.200Z"
   },
   {
    "duration": 12,
    "start_time": "2022-10-17T08:15:23.213Z"
   },
   {
    "duration": 17,
    "start_time": "2022-10-17T08:15:23.227Z"
   },
   {
    "duration": 313,
    "start_time": "2022-10-17T08:15:23.246Z"
   },
   {
    "duration": 251,
    "start_time": "2022-10-17T08:15:23.561Z"
   },
   {
    "duration": 9,
    "start_time": "2022-10-17T08:15:23.813Z"
   },
   {
    "duration": 9,
    "start_time": "2022-10-17T08:15:23.824Z"
   },
   {
    "duration": 5,
    "start_time": "2022-10-17T08:15:23.835Z"
   },
   {
    "duration": 6,
    "start_time": "2022-10-17T08:15:23.842Z"
   },
   {
    "duration": 51,
    "start_time": "2022-10-17T08:15:23.850Z"
   },
   {
    "duration": 16,
    "start_time": "2022-10-17T08:15:23.904Z"
   },
   {
    "duration": 125,
    "start_time": "2022-10-17T08:15:23.922Z"
   },
   {
    "duration": 11,
    "start_time": "2022-10-17T08:15:24.049Z"
   },
   {
    "duration": 6,
    "start_time": "2022-10-17T08:15:24.062Z"
   },
   {
    "duration": 22,
    "start_time": "2022-10-17T08:15:24.070Z"
   },
   {
    "duration": 31,
    "start_time": "2022-10-17T08:15:24.094Z"
   },
   {
    "duration": 10,
    "start_time": "2022-10-17T08:15:24.127Z"
   },
   {
    "duration": 28,
    "start_time": "2022-10-17T08:15:24.139Z"
   },
   {
    "duration": 1347,
    "start_time": "2022-10-17T08:25:15.199Z"
   },
   {
    "duration": 284,
    "start_time": "2022-10-17T08:25:24.991Z"
   },
   {
    "duration": 13,
    "start_time": "2022-10-17T08:25:28.758Z"
   },
   {
    "duration": 9,
    "start_time": "2022-10-17T08:25:32.472Z"
   },
   {
    "duration": 8,
    "start_time": "2022-10-17T08:25:36.182Z"
   },
   {
    "duration": 83,
    "start_time": "2022-10-17T08:25:40.254Z"
   },
   {
    "duration": 43,
    "start_time": "2022-10-17T08:26:01.130Z"
   },
   {
    "duration": 50,
    "start_time": "2022-10-17T08:26:06.949Z"
   },
   {
    "duration": 108,
    "start_time": "2022-10-17T08:30:14.469Z"
   },
   {
    "duration": 34,
    "start_time": "2022-10-17T08:35:22.215Z"
   },
   {
    "duration": 48,
    "start_time": "2022-10-17T08:36:14.017Z"
   },
   {
    "duration": 26,
    "start_time": "2022-10-17T08:38:08.899Z"
   },
   {
    "duration": 28,
    "start_time": "2022-10-17T08:38:38.711Z"
   },
   {
    "duration": 32,
    "start_time": "2022-10-17T09:02:14.871Z"
   },
   {
    "duration": 49,
    "start_time": "2022-10-17T09:12:29.890Z"
   },
   {
    "duration": 30,
    "start_time": "2022-10-17T09:14:25.416Z"
   },
   {
    "duration": 132,
    "start_time": "2022-10-17T09:47:09.631Z"
   },
   {
    "duration": 28,
    "start_time": "2022-10-17T09:47:21.008Z"
   },
   {
    "duration": 26,
    "start_time": "2022-10-17T09:48:12.849Z"
   },
   {
    "duration": 17,
    "start_time": "2022-10-17T09:51:08.674Z"
   },
   {
    "duration": 16,
    "start_time": "2022-10-17T09:54:45.970Z"
   },
   {
    "duration": 23,
    "start_time": "2022-10-17T09:54:58.424Z"
   },
   {
    "duration": 14,
    "start_time": "2022-10-17T09:55:05.850Z"
   },
   {
    "duration": 28,
    "start_time": "2022-10-17T10:35:08.506Z"
   },
   {
    "duration": 14,
    "start_time": "2022-10-17T10:35:39.517Z"
   },
   {
    "duration": 31,
    "start_time": "2022-10-17T10:35:51.014Z"
   },
   {
    "duration": 17,
    "start_time": "2022-10-17T10:36:17.106Z"
   },
   {
    "duration": 31,
    "start_time": "2022-10-17T10:36:24.362Z"
   },
   {
    "duration": 20,
    "start_time": "2022-10-17T10:38:13.072Z"
   },
   {
    "duration": 11,
    "start_time": "2022-10-17T10:39:20.963Z"
   },
   {
    "duration": 17,
    "start_time": "2022-10-17T10:47:59.848Z"
   },
   {
    "duration": 18,
    "start_time": "2022-10-17T10:48:05.058Z"
   },
   {
    "duration": 12,
    "start_time": "2022-10-17T10:50:31.018Z"
   },
   {
    "duration": 24,
    "start_time": "2022-10-17T10:52:57.437Z"
   },
   {
    "duration": 17,
    "start_time": "2022-10-17T10:53:44.534Z"
   },
   {
    "duration": 13,
    "start_time": "2022-10-17T11:15:58.120Z"
   },
   {
    "duration": 22,
    "start_time": "2022-10-17T11:25:27.904Z"
   },
   {
    "duration": 11,
    "start_time": "2022-10-17T11:26:02.806Z"
   },
   {
    "duration": 14,
    "start_time": "2022-10-17T11:26:33.122Z"
   },
   {
    "duration": 15,
    "start_time": "2022-10-17T11:27:19.917Z"
   },
   {
    "duration": 33,
    "start_time": "2022-10-17T11:27:31.310Z"
   },
   {
    "duration": 25,
    "start_time": "2022-10-17T11:28:50.881Z"
   },
   {
    "duration": 22,
    "start_time": "2022-10-17T11:29:00.860Z"
   },
   {
    "duration": 16,
    "start_time": "2022-10-17T11:29:08.426Z"
   },
   {
    "duration": 40,
    "start_time": "2022-10-17T11:29:11.093Z"
   },
   {
    "duration": 83,
    "start_time": "2022-10-17T11:54:36.750Z"
   },
   {
    "duration": 103,
    "start_time": "2022-10-17T11:55:30.568Z"
   },
   {
    "duration": 11,
    "start_time": "2022-10-17T12:03:51.046Z"
   },
   {
    "duration": 135,
    "start_time": "2022-10-17T12:05:16.416Z"
   },
   {
    "duration": 1364,
    "start_time": "2022-10-17T12:07:46.110Z"
   },
   {
    "duration": 310,
    "start_time": "2022-10-17T12:07:47.477Z"
   },
   {
    "duration": 14,
    "start_time": "2022-10-17T12:07:47.789Z"
   },
   {
    "duration": 11,
    "start_time": "2022-10-17T12:07:47.806Z"
   },
   {
    "duration": 9,
    "start_time": "2022-10-17T12:07:47.819Z"
   },
   {
    "duration": 92,
    "start_time": "2022-10-17T12:07:47.830Z"
   },
   {
    "duration": 73,
    "start_time": "2022-10-17T12:07:47.924Z"
   },
   {
    "duration": 56,
    "start_time": "2022-10-17T12:07:47.999Z"
   },
   {
    "duration": 139,
    "start_time": "2022-10-17T12:07:48.057Z"
   },
   {
    "duration": 14,
    "start_time": "2022-10-17T12:07:48.201Z"
   },
   {
    "duration": 42,
    "start_time": "2022-10-17T12:07:48.217Z"
   },
   {
    "duration": 70,
    "start_time": "2022-10-17T12:07:48.261Z"
   },
   {
    "duration": 13,
    "start_time": "2022-10-17T12:07:48.333Z"
   },
   {
    "duration": 42,
    "start_time": "2022-10-17T12:07:48.349Z"
   },
   {
    "duration": 21,
    "start_time": "2022-10-17T12:07:48.393Z"
   },
   {
    "duration": 29,
    "start_time": "2022-10-17T12:07:48.416Z"
   },
   {
    "duration": 10,
    "start_time": "2022-10-17T12:07:48.448Z"
   },
   {
    "duration": 79,
    "start_time": "2022-10-17T12:07:48.461Z"
   },
   {
    "duration": 122,
    "start_time": "2022-10-17T12:07:48.542Z"
   },
   {
    "duration": 94,
    "start_time": "2022-10-17T12:07:48.666Z"
   },
   {
    "duration": 147,
    "start_time": "2022-10-17T12:07:48.762Z"
   },
   {
    "duration": 8,
    "start_time": "2022-10-17T12:07:48.911Z"
   },
   {
    "duration": 21,
    "start_time": "2022-10-17T12:07:48.921Z"
   },
   {
    "duration": 29,
    "start_time": "2022-10-17T12:07:48.944Z"
   },
   {
    "duration": 38,
    "start_time": "2022-10-17T12:07:48.975Z"
   },
   {
    "duration": 29,
    "start_time": "2022-10-17T12:07:49.015Z"
   },
   {
    "duration": 38,
    "start_time": "2022-10-17T12:07:49.046Z"
   },
   {
    "duration": 36,
    "start_time": "2022-10-17T12:07:49.088Z"
   },
   {
    "duration": 64,
    "start_time": "2022-10-17T12:07:49.126Z"
   },
   {
    "duration": 78,
    "start_time": "2022-10-17T12:07:49.193Z"
   },
   {
    "duration": 16,
    "start_time": "2022-10-17T12:07:49.273Z"
   },
   {
    "duration": 478,
    "start_time": "2022-10-17T12:07:49.291Z"
   },
   {
    "duration": 235,
    "start_time": "2022-10-17T12:07:49.771Z"
   },
   {
    "duration": 363,
    "start_time": "2022-10-17T12:07:50.008Z"
   },
   {
    "duration": 335,
    "start_time": "2022-10-17T12:07:50.373Z"
   },
   {
    "duration": 1304,
    "start_time": "2022-10-17T12:07:50.710Z"
   },
   {
    "duration": 593,
    "start_time": "2022-10-17T12:07:52.016Z"
   },
   {
    "duration": 663,
    "start_time": "2022-10-17T12:07:52.611Z"
   },
   {
    "duration": 44,
    "start_time": "2022-10-17T12:07:53.276Z"
   },
   {
    "duration": 16,
    "start_time": "2022-10-17T12:07:53.322Z"
   },
   {
    "duration": 7,
    "start_time": "2022-10-17T12:07:53.390Z"
   },
   {
    "duration": 23,
    "start_time": "2022-10-17T12:07:53.399Z"
   },
   {
    "duration": 5,
    "start_time": "2022-10-17T12:07:53.425Z"
   },
   {
    "duration": 182,
    "start_time": "2022-10-17T12:07:53.432Z"
   },
   {
    "duration": 115,
    "start_time": "2022-10-17T12:07:53.616Z"
   },
   {
    "duration": 96,
    "start_time": "2022-10-17T12:07:53.733Z"
   },
   {
    "duration": 96,
    "start_time": "2022-10-17T12:07:53.831Z"
   },
   {
    "duration": 84,
    "start_time": "2022-10-17T12:07:53.929Z"
   },
   {
    "duration": 14,
    "start_time": "2022-10-17T12:07:54.015Z"
   },
   {
    "duration": 68,
    "start_time": "2022-10-17T12:07:54.032Z"
   },
   {
    "duration": 19,
    "start_time": "2022-10-17T12:07:54.102Z"
   },
   {
    "duration": 68,
    "start_time": "2022-10-17T12:07:54.123Z"
   },
   {
    "duration": 25,
    "start_time": "2022-10-17T12:07:54.193Z"
   },
   {
    "duration": 611,
    "start_time": "2022-10-17T12:07:54.221Z"
   },
   {
    "duration": 763,
    "start_time": "2022-10-17T12:07:54.833Z"
   },
   {
    "duration": 10,
    "start_time": "2022-10-17T12:07:55.598Z"
   },
   {
    "duration": 19,
    "start_time": "2022-10-17T12:07:55.610Z"
   },
   {
    "duration": 58,
    "start_time": "2022-10-17T12:07:55.632Z"
   },
   {
    "duration": 6,
    "start_time": "2022-10-17T12:07:55.693Z"
   },
   {
    "duration": 19,
    "start_time": "2022-10-17T12:07:55.702Z"
   },
   {
    "duration": 70,
    "start_time": "2022-10-17T12:07:55.724Z"
   },
   {
    "duration": 152,
    "start_time": "2022-10-17T12:07:55.796Z"
   },
   {
    "duration": 11,
    "start_time": "2022-10-17T12:07:55.950Z"
   },
   {
    "duration": 26,
    "start_time": "2022-10-17T12:07:55.963Z"
   },
   {
    "duration": 9,
    "start_time": "2022-10-17T12:07:55.991Z"
   },
   {
    "duration": 36,
    "start_time": "2022-10-17T12:07:56.002Z"
   },
   {
    "duration": 6,
    "start_time": "2022-10-17T12:07:56.040Z"
   },
   {
    "duration": 46,
    "start_time": "2022-10-17T12:07:56.049Z"
   },
   {
    "duration": 11,
    "start_time": "2022-10-17T12:27:41.451Z"
   },
   {
    "duration": 8,
    "start_time": "2022-10-17T12:35:54.760Z"
   },
   {
    "duration": 86,
    "start_time": "2022-10-17T12:37:53.727Z"
   },
   {
    "duration": 16,
    "start_time": "2022-10-17T12:38:12.639Z"
   },
   {
    "duration": 69,
    "start_time": "2022-10-17T12:39:48.604Z"
   },
   {
    "duration": 17,
    "start_time": "2022-10-17T12:48:39.372Z"
   },
   {
    "duration": 16,
    "start_time": "2022-10-17T12:49:33.039Z"
   },
   {
    "duration": 79,
    "start_time": "2022-10-17T12:50:40.443Z"
   },
   {
    "duration": 175,
    "start_time": "2022-10-17T12:51:53.552Z"
   },
   {
    "duration": 15,
    "start_time": "2022-10-17T12:53:01.222Z"
   },
   {
    "duration": 4,
    "start_time": "2022-10-17T12:54:27.788Z"
   },
   {
    "duration": 10,
    "start_time": "2022-10-17T12:54:36.660Z"
   },
   {
    "duration": 11,
    "start_time": "2022-10-17T12:55:00.748Z"
   },
   {
    "duration": 11,
    "start_time": "2022-10-17T12:55:14.901Z"
   },
   {
    "duration": 11,
    "start_time": "2022-10-17T12:55:29.388Z"
   },
   {
    "duration": 386,
    "start_time": "2022-10-17T12:57:34.615Z"
   },
   {
    "duration": 12,
    "start_time": "2022-10-17T13:16:05.778Z"
   },
   {
    "duration": 11,
    "start_time": "2022-10-17T13:16:48.593Z"
   },
   {
    "duration": 16,
    "start_time": "2022-10-17T13:17:12.368Z"
   },
   {
    "duration": 337,
    "start_time": "2022-10-17T13:19:20.651Z"
   },
   {
    "duration": 16,
    "start_time": "2022-10-17T13:28:01.383Z"
   },
   {
    "duration": 245,
    "start_time": "2022-10-17T13:29:39.383Z"
   },
   {
    "duration": 211,
    "start_time": "2022-10-17T13:32:49.203Z"
   },
   {
    "duration": 8,
    "start_time": "2022-10-17T13:39:34.184Z"
   },
   {
    "duration": 12,
    "start_time": "2022-10-17T13:40:23.977Z"
   },
   {
    "duration": 71,
    "start_time": "2022-10-17T13:44:01.037Z"
   },
   {
    "duration": 11,
    "start_time": "2022-10-17T13:47:35.876Z"
   },
   {
    "duration": 13,
    "start_time": "2022-10-17T13:50:20.590Z"
   },
   {
    "duration": 1331,
    "start_time": "2022-10-17T13:50:38.101Z"
   },
   {
    "duration": 292,
    "start_time": "2022-10-17T13:50:39.434Z"
   },
   {
    "duration": 15,
    "start_time": "2022-10-17T13:50:39.728Z"
   },
   {
    "duration": 13,
    "start_time": "2022-10-17T13:50:39.745Z"
   },
   {
    "duration": 16,
    "start_time": "2022-10-17T13:50:39.760Z"
   },
   {
    "duration": 79,
    "start_time": "2022-10-17T13:50:39.779Z"
   },
   {
    "duration": 69,
    "start_time": "2022-10-17T13:50:39.860Z"
   },
   {
    "duration": 85,
    "start_time": "2022-10-17T13:50:39.931Z"
   },
   {
    "duration": 114,
    "start_time": "2022-10-17T13:50:40.019Z"
   },
   {
    "duration": 13,
    "start_time": "2022-10-17T13:50:40.137Z"
   },
   {
    "duration": 42,
    "start_time": "2022-10-17T13:50:40.152Z"
   },
   {
    "duration": 31,
    "start_time": "2022-10-17T13:50:40.197Z"
   },
   {
    "duration": 10,
    "start_time": "2022-10-17T13:50:40.230Z"
   },
   {
    "duration": 51,
    "start_time": "2022-10-17T13:50:40.242Z"
   },
   {
    "duration": 21,
    "start_time": "2022-10-17T13:50:40.295Z"
   },
   {
    "duration": 17,
    "start_time": "2022-10-17T13:50:40.318Z"
   },
   {
    "duration": 17,
    "start_time": "2022-10-17T13:50:40.337Z"
   },
   {
    "duration": 59,
    "start_time": "2022-10-17T13:50:40.357Z"
   },
   {
    "duration": 97,
    "start_time": "2022-10-17T13:50:40.418Z"
   },
   {
    "duration": 114,
    "start_time": "2022-10-17T13:50:40.518Z"
   },
   {
    "duration": 136,
    "start_time": "2022-10-17T13:50:40.634Z"
   },
   {
    "duration": 19,
    "start_time": "2022-10-17T13:50:40.772Z"
   },
   {
    "duration": 12,
    "start_time": "2022-10-17T13:50:40.793Z"
   },
   {
    "duration": 22,
    "start_time": "2022-10-17T13:50:40.808Z"
   },
   {
    "duration": 26,
    "start_time": "2022-10-17T13:50:40.832Z"
   },
   {
    "duration": 22,
    "start_time": "2022-10-17T13:50:40.860Z"
   },
   {
    "duration": 37,
    "start_time": "2022-10-17T13:50:40.889Z"
   },
   {
    "duration": 29,
    "start_time": "2022-10-17T13:50:40.930Z"
   },
   {
    "duration": 65,
    "start_time": "2022-10-17T13:50:40.961Z"
   },
   {
    "duration": 97,
    "start_time": "2022-10-17T13:50:41.028Z"
   },
   {
    "duration": 4,
    "start_time": "2022-10-17T13:50:41.127Z"
   },
   {
    "duration": 472,
    "start_time": "2022-10-17T13:50:41.132Z"
   },
   {
    "duration": 344,
    "start_time": "2022-10-17T13:50:41.606Z"
   },
   {
    "duration": 208,
    "start_time": "2022-10-17T13:50:41.952Z"
   },
   {
    "duration": 350,
    "start_time": "2022-10-17T13:50:42.161Z"
   },
   {
    "duration": 13,
    "start_time": "2022-10-17T13:50:42.513Z"
   },
   {
    "duration": 26,
    "start_time": "2022-10-17T13:50:42.528Z"
   },
   {
    "duration": 267,
    "start_time": "2022-10-17T13:50:42.556Z"
   },
   {
    "duration": 81,
    "start_time": "2022-10-17T13:50:42.825Z"
   },
   {
    "duration": 135,
    "start_time": "2022-10-17T13:50:42.909Z"
   },
   {
    "duration": 0,
    "start_time": "2022-10-17T13:50:43.045Z"
   },
   {
    "duration": 1,
    "start_time": "2022-10-17T13:50:43.046Z"
   },
   {
    "duration": 0,
    "start_time": "2022-10-17T13:50:43.048Z"
   },
   {
    "duration": 0,
    "start_time": "2022-10-17T13:50:43.049Z"
   },
   {
    "duration": 0,
    "start_time": "2022-10-17T13:50:43.050Z"
   },
   {
    "duration": 0,
    "start_time": "2022-10-17T13:50:43.052Z"
   },
   {
    "duration": 0,
    "start_time": "2022-10-17T13:50:43.053Z"
   },
   {
    "duration": 0,
    "start_time": "2022-10-17T13:50:43.054Z"
   },
   {
    "duration": 0,
    "start_time": "2022-10-17T13:50:43.055Z"
   },
   {
    "duration": 0,
    "start_time": "2022-10-17T13:50:43.056Z"
   },
   {
    "duration": 0,
    "start_time": "2022-10-17T13:50:43.057Z"
   },
   {
    "duration": 0,
    "start_time": "2022-10-17T13:50:43.058Z"
   },
   {
    "duration": 0,
    "start_time": "2022-10-17T13:50:43.059Z"
   },
   {
    "duration": 0,
    "start_time": "2022-10-17T13:50:43.060Z"
   },
   {
    "duration": 0,
    "start_time": "2022-10-17T13:50:43.061Z"
   },
   {
    "duration": 0,
    "start_time": "2022-10-17T13:50:43.062Z"
   },
   {
    "duration": 0,
    "start_time": "2022-10-17T13:50:43.064Z"
   },
   {
    "duration": 0,
    "start_time": "2022-10-17T13:50:43.090Z"
   },
   {
    "duration": 0,
    "start_time": "2022-10-17T13:50:43.091Z"
   },
   {
    "duration": 0,
    "start_time": "2022-10-17T13:50:43.093Z"
   },
   {
    "duration": 0,
    "start_time": "2022-10-17T13:50:43.094Z"
   },
   {
    "duration": 0,
    "start_time": "2022-10-17T13:50:43.096Z"
   },
   {
    "duration": 0,
    "start_time": "2022-10-17T13:50:43.097Z"
   },
   {
    "duration": 0,
    "start_time": "2022-10-17T13:50:43.098Z"
   },
   {
    "duration": 0,
    "start_time": "2022-10-17T13:50:43.099Z"
   },
   {
    "duration": 0,
    "start_time": "2022-10-17T13:50:43.101Z"
   },
   {
    "duration": 0,
    "start_time": "2022-10-17T13:50:43.102Z"
   },
   {
    "duration": 0,
    "start_time": "2022-10-17T13:50:43.104Z"
   },
   {
    "duration": 0,
    "start_time": "2022-10-17T13:50:43.105Z"
   },
   {
    "duration": 0,
    "start_time": "2022-10-17T13:50:43.106Z"
   },
   {
    "duration": 0,
    "start_time": "2022-10-17T13:50:43.108Z"
   },
   {
    "duration": 0,
    "start_time": "2022-10-17T13:50:43.109Z"
   },
   {
    "duration": 0,
    "start_time": "2022-10-17T13:50:43.110Z"
   },
   {
    "duration": 0,
    "start_time": "2022-10-17T13:50:43.112Z"
   },
   {
    "duration": 0,
    "start_time": "2022-10-17T13:50:43.113Z"
   },
   {
    "duration": 0,
    "start_time": "2022-10-17T13:50:43.114Z"
   },
   {
    "duration": 0,
    "start_time": "2022-10-17T13:50:43.115Z"
   },
   {
    "duration": 14,
    "start_time": "2022-10-17T13:52:45.340Z"
   },
   {
    "duration": 13,
    "start_time": "2022-10-17T13:52:52.917Z"
   },
   {
    "duration": 13,
    "start_time": "2022-10-17T13:54:30.699Z"
   },
   {
    "duration": 17,
    "start_time": "2022-10-17T13:54:49.176Z"
   },
   {
    "duration": 16,
    "start_time": "2022-10-17T13:55:12.457Z"
   },
   {
    "duration": 16,
    "start_time": "2022-10-17T13:55:29.401Z"
   },
   {
    "duration": 1312,
    "start_time": "2022-10-17T13:56:08.340Z"
   },
   {
    "duration": 305,
    "start_time": "2022-10-17T13:56:09.654Z"
   },
   {
    "duration": 13,
    "start_time": "2022-10-17T13:56:09.961Z"
   },
   {
    "duration": 28,
    "start_time": "2022-10-17T13:56:09.976Z"
   },
   {
    "duration": 25,
    "start_time": "2022-10-17T13:56:10.006Z"
   },
   {
    "duration": 95,
    "start_time": "2022-10-17T13:56:10.033Z"
   },
   {
    "duration": 61,
    "start_time": "2022-10-17T13:56:10.130Z"
   },
   {
    "duration": 51,
    "start_time": "2022-10-17T13:56:10.193Z"
   },
   {
    "duration": 109,
    "start_time": "2022-10-17T13:56:10.247Z"
   },
   {
    "duration": 30,
    "start_time": "2022-10-17T13:56:10.359Z"
   },
   {
    "duration": 35,
    "start_time": "2022-10-17T13:56:10.391Z"
   },
   {
    "duration": 36,
    "start_time": "2022-10-17T13:56:10.428Z"
   },
   {
    "duration": 24,
    "start_time": "2022-10-17T13:56:10.465Z"
   },
   {
    "duration": 32,
    "start_time": "2022-10-17T13:56:10.491Z"
   },
   {
    "duration": 29,
    "start_time": "2022-10-17T13:56:10.525Z"
   },
   {
    "duration": 40,
    "start_time": "2022-10-17T13:56:10.556Z"
   },
   {
    "duration": 16,
    "start_time": "2022-10-17T13:56:10.599Z"
   },
   {
    "duration": 54,
    "start_time": "2022-10-17T13:56:10.617Z"
   },
   {
    "duration": 95,
    "start_time": "2022-10-17T13:56:10.673Z"
   },
   {
    "duration": 78,
    "start_time": "2022-10-17T13:56:10.770Z"
   },
   {
    "duration": 143,
    "start_time": "2022-10-17T13:56:10.851Z"
   },
   {
    "duration": 7,
    "start_time": "2022-10-17T13:56:10.996Z"
   },
   {
    "duration": 46,
    "start_time": "2022-10-17T13:56:11.005Z"
   },
   {
    "duration": 26,
    "start_time": "2022-10-17T13:56:11.053Z"
   },
   {
    "duration": 45,
    "start_time": "2022-10-17T13:56:11.081Z"
   },
   {
    "duration": 21,
    "start_time": "2022-10-17T13:56:11.127Z"
   },
   {
    "duration": 50,
    "start_time": "2022-10-17T13:56:11.150Z"
   },
   {
    "duration": 32,
    "start_time": "2022-10-17T13:56:11.205Z"
   },
   {
    "duration": 51,
    "start_time": "2022-10-17T13:56:11.238Z"
   },
   {
    "duration": 81,
    "start_time": "2022-10-17T13:56:11.291Z"
   },
   {
    "duration": 16,
    "start_time": "2022-10-17T13:56:11.374Z"
   },
   {
    "duration": 480,
    "start_time": "2022-10-17T13:56:11.392Z"
   },
   {
    "duration": 328,
    "start_time": "2022-10-17T13:56:11.874Z"
   },
   {
    "duration": 236,
    "start_time": "2022-10-17T13:56:12.204Z"
   },
   {
    "duration": 361,
    "start_time": "2022-10-17T13:56:12.442Z"
   },
   {
    "duration": 15,
    "start_time": "2022-10-17T13:56:12.805Z"
   },
   {
    "duration": 32,
    "start_time": "2022-10-17T13:56:12.823Z"
   },
   {
    "duration": 33,
    "start_time": "2022-10-17T13:56:12.857Z"
   },
   {
    "duration": 155,
    "start_time": "2022-10-17T13:56:12.892Z"
   },
   {
    "duration": 0,
    "start_time": "2022-10-17T13:56:13.049Z"
   },
   {
    "duration": 0,
    "start_time": "2022-10-17T13:56:13.050Z"
   },
   {
    "duration": 0,
    "start_time": "2022-10-17T13:56:13.052Z"
   },
   {
    "duration": 0,
    "start_time": "2022-10-17T13:56:13.053Z"
   },
   {
    "duration": 0,
    "start_time": "2022-10-17T13:56:13.054Z"
   },
   {
    "duration": 0,
    "start_time": "2022-10-17T13:56:13.055Z"
   },
   {
    "duration": 0,
    "start_time": "2022-10-17T13:56:13.056Z"
   },
   {
    "duration": 0,
    "start_time": "2022-10-17T13:56:13.058Z"
   },
   {
    "duration": 0,
    "start_time": "2022-10-17T13:56:13.059Z"
   },
   {
    "duration": 0,
    "start_time": "2022-10-17T13:56:13.060Z"
   },
   {
    "duration": 0,
    "start_time": "2022-10-17T13:56:13.061Z"
   },
   {
    "duration": 0,
    "start_time": "2022-10-17T13:56:13.063Z"
   },
   {
    "duration": 0,
    "start_time": "2022-10-17T13:56:13.064Z"
   },
   {
    "duration": 0,
    "start_time": "2022-10-17T13:56:13.088Z"
   },
   {
    "duration": 0,
    "start_time": "2022-10-17T13:56:13.090Z"
   },
   {
    "duration": 0,
    "start_time": "2022-10-17T13:56:13.091Z"
   },
   {
    "duration": 0,
    "start_time": "2022-10-17T13:56:13.092Z"
   },
   {
    "duration": 0,
    "start_time": "2022-10-17T13:56:13.093Z"
   },
   {
    "duration": 0,
    "start_time": "2022-10-17T13:56:13.095Z"
   },
   {
    "duration": 0,
    "start_time": "2022-10-17T13:56:13.096Z"
   },
   {
    "duration": 0,
    "start_time": "2022-10-17T13:56:13.097Z"
   },
   {
    "duration": 0,
    "start_time": "2022-10-17T13:56:13.098Z"
   },
   {
    "duration": 0,
    "start_time": "2022-10-17T13:56:13.099Z"
   },
   {
    "duration": 0,
    "start_time": "2022-10-17T13:56:13.100Z"
   },
   {
    "duration": 0,
    "start_time": "2022-10-17T13:56:13.101Z"
   },
   {
    "duration": 0,
    "start_time": "2022-10-17T13:56:13.102Z"
   },
   {
    "duration": 0,
    "start_time": "2022-10-17T13:56:13.103Z"
   },
   {
    "duration": 0,
    "start_time": "2022-10-17T13:56:13.104Z"
   },
   {
    "duration": 0,
    "start_time": "2022-10-17T13:56:13.105Z"
   },
   {
    "duration": 0,
    "start_time": "2022-10-17T13:56:13.107Z"
   },
   {
    "duration": 0,
    "start_time": "2022-10-17T13:56:13.108Z"
   },
   {
    "duration": 0,
    "start_time": "2022-10-17T13:56:13.109Z"
   },
   {
    "duration": 0,
    "start_time": "2022-10-17T13:56:13.110Z"
   },
   {
    "duration": 0,
    "start_time": "2022-10-17T13:56:13.111Z"
   },
   {
    "duration": 0,
    "start_time": "2022-10-17T13:56:13.112Z"
   },
   {
    "duration": 12,
    "start_time": "2022-10-17T13:56:47.445Z"
   },
   {
    "duration": 1352,
    "start_time": "2022-10-17T13:56:56.364Z"
   },
   {
    "duration": 286,
    "start_time": "2022-10-17T13:56:57.718Z"
   },
   {
    "duration": 14,
    "start_time": "2022-10-17T13:56:58.006Z"
   },
   {
    "duration": 8,
    "start_time": "2022-10-17T13:56:58.022Z"
   },
   {
    "duration": 9,
    "start_time": "2022-10-17T13:56:58.032Z"
   },
   {
    "duration": 79,
    "start_time": "2022-10-17T13:56:58.043Z"
   },
   {
    "duration": 73,
    "start_time": "2022-10-17T13:56:58.124Z"
   },
   {
    "duration": 64,
    "start_time": "2022-10-17T13:56:58.199Z"
   },
   {
    "duration": 89,
    "start_time": "2022-10-17T13:56:58.265Z"
   },
   {
    "duration": 12,
    "start_time": "2022-10-17T13:56:58.357Z"
   },
   {
    "duration": 42,
    "start_time": "2022-10-17T13:56:58.371Z"
   },
   {
    "duration": 29,
    "start_time": "2022-10-17T13:56:58.415Z"
   },
   {
    "duration": 8,
    "start_time": "2022-10-17T13:56:58.445Z"
   },
   {
    "duration": 49,
    "start_time": "2022-10-17T13:56:58.455Z"
   },
   {
    "duration": 17,
    "start_time": "2022-10-17T13:56:58.506Z"
   },
   {
    "duration": 14,
    "start_time": "2022-10-17T13:56:58.525Z"
   },
   {
    "duration": 13,
    "start_time": "2022-10-17T13:56:58.540Z"
   },
   {
    "duration": 60,
    "start_time": "2022-10-17T13:56:58.555Z"
   },
   {
    "duration": 80,
    "start_time": "2022-10-17T13:56:58.617Z"
   },
   {
    "duration": 59,
    "start_time": "2022-10-17T13:56:58.699Z"
   },
   {
    "duration": 148,
    "start_time": "2022-10-17T13:56:58.760Z"
   },
   {
    "duration": 7,
    "start_time": "2022-10-17T13:56:58.910Z"
   },
   {
    "duration": 10,
    "start_time": "2022-10-17T13:56:58.918Z"
   },
   {
    "duration": 31,
    "start_time": "2022-10-17T13:56:58.930Z"
   },
   {
    "duration": 34,
    "start_time": "2022-10-17T13:56:58.963Z"
   },
   {
    "duration": 34,
    "start_time": "2022-10-17T13:56:58.998Z"
   },
   {
    "duration": 38,
    "start_time": "2022-10-17T13:56:59.034Z"
   },
   {
    "duration": 29,
    "start_time": "2022-10-17T13:56:59.077Z"
   },
   {
    "duration": 43,
    "start_time": "2022-10-17T13:56:59.108Z"
   },
   {
    "duration": 100,
    "start_time": "2022-10-17T13:56:59.152Z"
   },
   {
    "duration": 3,
    "start_time": "2022-10-17T13:56:59.254Z"
   },
   {
    "duration": 445,
    "start_time": "2022-10-17T13:56:59.259Z"
   },
   {
    "duration": 331,
    "start_time": "2022-10-17T13:56:59.705Z"
   },
   {
    "duration": 215,
    "start_time": "2022-10-17T13:57:00.038Z"
   },
   {
    "duration": 335,
    "start_time": "2022-10-17T13:57:00.255Z"
   },
   {
    "duration": 12,
    "start_time": "2022-10-17T13:57:00.592Z"
   },
   {
    "duration": 33,
    "start_time": "2022-10-17T13:57:00.606Z"
   },
   {
    "duration": 25,
    "start_time": "2022-10-17T13:57:00.641Z"
   },
   {
    "duration": 140,
    "start_time": "2022-10-17T13:57:00.668Z"
   },
   {
    "duration": 0,
    "start_time": "2022-10-17T13:57:00.810Z"
   },
   {
    "duration": 0,
    "start_time": "2022-10-17T13:57:00.811Z"
   },
   {
    "duration": 0,
    "start_time": "2022-10-17T13:57:00.813Z"
   },
   {
    "duration": 0,
    "start_time": "2022-10-17T13:57:00.814Z"
   },
   {
    "duration": 0,
    "start_time": "2022-10-17T13:57:00.816Z"
   },
   {
    "duration": 0,
    "start_time": "2022-10-17T13:57:00.817Z"
   },
   {
    "duration": 0,
    "start_time": "2022-10-17T13:57:00.819Z"
   },
   {
    "duration": 0,
    "start_time": "2022-10-17T13:57:00.821Z"
   },
   {
    "duration": 0,
    "start_time": "2022-10-17T13:57:00.822Z"
   },
   {
    "duration": 0,
    "start_time": "2022-10-17T13:57:00.823Z"
   },
   {
    "duration": 0,
    "start_time": "2022-10-17T13:57:00.824Z"
   },
   {
    "duration": 0,
    "start_time": "2022-10-17T13:57:00.825Z"
   },
   {
    "duration": 0,
    "start_time": "2022-10-17T13:57:00.827Z"
   },
   {
    "duration": 0,
    "start_time": "2022-10-17T13:57:00.828Z"
   },
   {
    "duration": 0,
    "start_time": "2022-10-17T13:57:00.830Z"
   },
   {
    "duration": 0,
    "start_time": "2022-10-17T13:57:00.834Z"
   },
   {
    "duration": 1,
    "start_time": "2022-10-17T13:57:00.835Z"
   },
   {
    "duration": 0,
    "start_time": "2022-10-17T13:57:00.837Z"
   },
   {
    "duration": 0,
    "start_time": "2022-10-17T13:57:00.838Z"
   },
   {
    "duration": 0,
    "start_time": "2022-10-17T13:57:00.843Z"
   },
   {
    "duration": 0,
    "start_time": "2022-10-17T13:57:00.844Z"
   },
   {
    "duration": 0,
    "start_time": "2022-10-17T13:57:00.890Z"
   },
   {
    "duration": 0,
    "start_time": "2022-10-17T13:57:00.891Z"
   },
   {
    "duration": 1,
    "start_time": "2022-10-17T13:57:00.892Z"
   },
   {
    "duration": 0,
    "start_time": "2022-10-17T13:57:00.894Z"
   },
   {
    "duration": 0,
    "start_time": "2022-10-17T13:57:00.895Z"
   },
   {
    "duration": 0,
    "start_time": "2022-10-17T13:57:00.897Z"
   },
   {
    "duration": 0,
    "start_time": "2022-10-17T13:57:00.898Z"
   },
   {
    "duration": 0,
    "start_time": "2022-10-17T13:57:00.899Z"
   },
   {
    "duration": 0,
    "start_time": "2022-10-17T13:57:00.901Z"
   },
   {
    "duration": 0,
    "start_time": "2022-10-17T13:57:00.902Z"
   },
   {
    "duration": 0,
    "start_time": "2022-10-17T13:57:00.903Z"
   },
   {
    "duration": 0,
    "start_time": "2022-10-17T13:57:00.904Z"
   },
   {
    "duration": 0,
    "start_time": "2022-10-17T13:57:00.906Z"
   },
   {
    "duration": 0,
    "start_time": "2022-10-17T13:57:00.907Z"
   },
   {
    "duration": 380,
    "start_time": "2022-10-17T13:59:55.437Z"
   },
   {
    "duration": 398,
    "start_time": "2022-10-17T14:00:30.659Z"
   },
   {
    "duration": 392,
    "start_time": "2022-10-17T14:02:00.057Z"
   },
   {
    "duration": 203,
    "start_time": "2022-10-17T14:04:39.386Z"
   },
   {
    "duration": 203,
    "start_time": "2022-10-17T14:04:55.106Z"
   },
   {
    "duration": 201,
    "start_time": "2022-10-17T14:05:36.177Z"
   },
   {
    "duration": 193,
    "start_time": "2022-10-17T14:06:39.125Z"
   },
   {
    "duration": 192,
    "start_time": "2022-10-17T14:06:49.642Z"
   },
   {
    "duration": 1398,
    "start_time": "2022-10-18T09:28:44.182Z"
   },
   {
    "duration": 712,
    "start_time": "2022-10-18T09:28:45.582Z"
   },
   {
    "duration": 12,
    "start_time": "2022-10-18T09:28:46.296Z"
   },
   {
    "duration": 14,
    "start_time": "2022-10-18T09:28:46.311Z"
   },
   {
    "duration": 22,
    "start_time": "2022-10-18T09:28:46.327Z"
   },
   {
    "duration": 65,
    "start_time": "2022-10-18T09:28:46.351Z"
   },
   {
    "duration": 39,
    "start_time": "2022-10-18T09:28:46.418Z"
   },
   {
    "duration": 71,
    "start_time": "2022-10-18T09:28:46.459Z"
   },
   {
    "duration": 87,
    "start_time": "2022-10-18T09:28:46.531Z"
   },
   {
    "duration": 11,
    "start_time": "2022-10-18T09:28:46.621Z"
   },
   {
    "duration": 32,
    "start_time": "2022-10-18T09:28:46.634Z"
   },
   {
    "duration": 45,
    "start_time": "2022-10-18T09:28:46.668Z"
   },
   {
    "duration": 7,
    "start_time": "2022-10-18T09:28:46.715Z"
   },
   {
    "duration": 32,
    "start_time": "2022-10-18T09:28:46.724Z"
   },
   {
    "duration": 16,
    "start_time": "2022-10-18T09:28:46.758Z"
   },
   {
    "duration": 11,
    "start_time": "2022-10-18T09:28:46.776Z"
   },
   {
    "duration": 10,
    "start_time": "2022-10-18T09:28:46.809Z"
   },
   {
    "duration": 36,
    "start_time": "2022-10-18T09:28:46.820Z"
   },
   {
    "duration": 77,
    "start_time": "2022-10-18T09:28:46.858Z"
   },
   {
    "duration": 54,
    "start_time": "2022-10-18T09:28:46.936Z"
   },
   {
    "duration": 122,
    "start_time": "2022-10-18T09:28:46.991Z"
   },
   {
    "duration": 6,
    "start_time": "2022-10-18T09:28:47.114Z"
   },
   {
    "duration": 22,
    "start_time": "2022-10-18T09:28:47.122Z"
   },
   {
    "duration": 25,
    "start_time": "2022-10-18T09:28:47.146Z"
   },
   {
    "duration": 24,
    "start_time": "2022-10-18T09:28:47.172Z"
   },
   {
    "duration": 20,
    "start_time": "2022-10-18T09:28:47.198Z"
   },
   {
    "duration": 38,
    "start_time": "2022-10-18T09:28:47.220Z"
   },
   {
    "duration": 30,
    "start_time": "2022-10-18T09:28:47.262Z"
   },
   {
    "duration": 45,
    "start_time": "2022-10-18T09:28:47.294Z"
   },
   {
    "duration": 80,
    "start_time": "2022-10-18T09:28:47.341Z"
   },
   {
    "duration": 4,
    "start_time": "2022-10-18T09:28:47.422Z"
   },
   {
    "duration": 391,
    "start_time": "2022-10-18T09:28:47.428Z"
   },
   {
    "duration": 302,
    "start_time": "2022-10-18T09:28:47.821Z"
   },
   {
    "duration": 189,
    "start_time": "2022-10-18T09:28:48.124Z"
   },
   {
    "duration": 280,
    "start_time": "2022-10-18T09:28:48.314Z"
   },
   {
    "duration": 13,
    "start_time": "2022-10-18T09:28:48.596Z"
   },
   {
    "duration": 20,
    "start_time": "2022-10-18T09:28:48.611Z"
   },
   {
    "duration": 30,
    "start_time": "2022-10-18T09:28:48.633Z"
   },
   {
    "duration": 162,
    "start_time": "2022-10-18T09:28:48.665Z"
   },
   {
    "duration": 277,
    "start_time": "2022-10-18T09:28:48.829Z"
   },
   {
    "duration": 214,
    "start_time": "2022-10-18T09:28:49.109Z"
   },
   {
    "duration": 385,
    "start_time": "2022-10-18T09:28:49.325Z"
   },
   {
    "duration": 218,
    "start_time": "2022-10-18T09:28:49.711Z"
   },
   {
    "duration": 418,
    "start_time": "2022-10-18T09:28:49.931Z"
   },
   {
    "duration": 58,
    "start_time": "2022-10-18T09:28:50.351Z"
   },
   {
    "duration": 14,
    "start_time": "2022-10-18T09:28:50.411Z"
   },
   {
    "duration": 5,
    "start_time": "2022-10-18T09:28:50.427Z"
   },
   {
    "duration": 18,
    "start_time": "2022-10-18T09:28:50.433Z"
   },
   {
    "duration": 58,
    "start_time": "2022-10-18T09:28:50.453Z"
   },
   {
    "duration": 46,
    "start_time": "2022-10-18T09:28:50.513Z"
   },
   {
    "duration": 49,
    "start_time": "2022-10-18T09:28:50.560Z"
   },
   {
    "duration": 38,
    "start_time": "2022-10-18T09:28:50.610Z"
   },
   {
    "duration": 31,
    "start_time": "2022-10-18T09:28:50.649Z"
   },
   {
    "duration": 41,
    "start_time": "2022-10-18T09:28:50.682Z"
   },
   {
    "duration": 10,
    "start_time": "2022-10-18T09:28:50.725Z"
   },
   {
    "duration": 11,
    "start_time": "2022-10-18T09:28:50.737Z"
   },
   {
    "duration": 13,
    "start_time": "2022-10-18T09:28:50.749Z"
   },
   {
    "duration": 11,
    "start_time": "2022-10-18T09:28:50.764Z"
   },
   {
    "duration": 47,
    "start_time": "2022-10-18T09:28:50.777Z"
   },
   {
    "duration": 245,
    "start_time": "2022-10-18T09:28:50.826Z"
   },
   {
    "duration": 223,
    "start_time": "2022-10-18T09:28:51.073Z"
   },
   {
    "duration": 16,
    "start_time": "2022-10-18T09:28:51.297Z"
   },
   {
    "duration": 9,
    "start_time": "2022-10-18T09:28:51.314Z"
   },
   {
    "duration": 9,
    "start_time": "2022-10-18T09:28:51.325Z"
   },
   {
    "duration": 22,
    "start_time": "2022-10-18T09:28:51.336Z"
   },
   {
    "duration": 18,
    "start_time": "2022-10-18T09:28:51.360Z"
   },
   {
    "duration": 27,
    "start_time": "2022-10-18T09:28:51.379Z"
   },
   {
    "duration": 19,
    "start_time": "2022-10-18T09:28:51.408Z"
   },
   {
    "duration": 9,
    "start_time": "2022-10-18T09:28:51.428Z"
   },
   {
    "duration": 14,
    "start_time": "2022-10-18T09:28:51.438Z"
   },
   {
    "duration": 24,
    "start_time": "2022-10-18T09:28:51.453Z"
   },
   {
    "duration": 42,
    "start_time": "2022-10-18T09:28:51.478Z"
   },
   {
    "duration": 8,
    "start_time": "2022-10-18T09:28:51.522Z"
   },
   {
    "duration": 23,
    "start_time": "2022-10-18T09:28:51.531Z"
   },
   {
    "duration": 1170,
    "start_time": "2022-10-18T09:37:52.414Z"
   },
   {
    "duration": 250,
    "start_time": "2022-10-18T09:37:53.586Z"
   },
   {
    "duration": 14,
    "start_time": "2022-10-18T09:37:53.838Z"
   },
   {
    "duration": 44,
    "start_time": "2022-10-18T09:37:53.854Z"
   },
   {
    "duration": 19,
    "start_time": "2022-10-18T09:37:53.900Z"
   },
   {
    "duration": 88,
    "start_time": "2022-10-18T09:37:53.921Z"
   },
   {
    "duration": 56,
    "start_time": "2022-10-18T09:37:54.011Z"
   },
   {
    "duration": 55,
    "start_time": "2022-10-18T09:37:54.069Z"
   },
   {
    "duration": 85,
    "start_time": "2022-10-18T09:37:54.125Z"
   },
   {
    "duration": 13,
    "start_time": "2022-10-18T09:37:54.213Z"
   },
   {
    "duration": 48,
    "start_time": "2022-10-18T09:37:54.228Z"
   },
   {
    "duration": 31,
    "start_time": "2022-10-18T09:37:54.278Z"
   },
   {
    "duration": 8,
    "start_time": "2022-10-18T09:37:54.310Z"
   },
   {
    "duration": 43,
    "start_time": "2022-10-18T09:37:54.320Z"
   },
   {
    "duration": 37,
    "start_time": "2022-10-18T09:37:54.365Z"
   },
   {
    "duration": 46,
    "start_time": "2022-10-18T09:37:54.404Z"
   },
   {
    "duration": 30,
    "start_time": "2022-10-18T09:37:54.453Z"
   },
   {
    "duration": 79,
    "start_time": "2022-10-18T09:37:54.485Z"
   },
   {
    "duration": 110,
    "start_time": "2022-10-18T09:37:54.567Z"
   },
   {
    "duration": 69,
    "start_time": "2022-10-18T09:37:54.679Z"
   },
   {
    "duration": 141,
    "start_time": "2022-10-18T09:37:54.750Z"
   },
   {
    "duration": 6,
    "start_time": "2022-10-18T09:37:54.893Z"
   },
   {
    "duration": 16,
    "start_time": "2022-10-18T09:37:54.909Z"
   },
   {
    "duration": 44,
    "start_time": "2022-10-18T09:37:54.927Z"
   },
   {
    "duration": 45,
    "start_time": "2022-10-18T09:37:54.972Z"
   },
   {
    "duration": 27,
    "start_time": "2022-10-18T09:37:55.018Z"
   },
   {
    "duration": 44,
    "start_time": "2022-10-18T09:37:55.047Z"
   },
   {
    "duration": 35,
    "start_time": "2022-10-18T09:37:55.096Z"
   },
   {
    "duration": 59,
    "start_time": "2022-10-18T09:37:55.132Z"
   },
   {
    "duration": 117,
    "start_time": "2022-10-18T09:37:55.193Z"
   },
   {
    "duration": 4,
    "start_time": "2022-10-18T09:37:55.312Z"
   },
   {
    "duration": 383,
    "start_time": "2022-10-18T09:37:55.318Z"
   },
   {
    "duration": 295,
    "start_time": "2022-10-18T09:37:55.702Z"
   },
   {
    "duration": 271,
    "start_time": "2022-10-18T09:37:55.999Z"
   },
   {
    "duration": 338,
    "start_time": "2022-10-18T09:37:56.272Z"
   },
   {
    "duration": 15,
    "start_time": "2022-10-18T09:37:56.612Z"
   },
   {
    "duration": 23,
    "start_time": "2022-10-18T09:37:56.629Z"
   },
   {
    "duration": 27,
    "start_time": "2022-10-18T09:37:56.654Z"
   },
   {
    "duration": 259,
    "start_time": "2022-10-18T09:37:56.683Z"
   },
   {
    "duration": 219,
    "start_time": "2022-10-18T09:37:56.944Z"
   },
   {
    "duration": 368,
    "start_time": "2022-10-18T09:37:57.165Z"
   },
   {
    "duration": 79,
    "start_time": "2022-10-18T09:37:57.535Z"
   },
   {
    "duration": 15,
    "start_time": "2022-10-18T09:37:57.616Z"
   },
   {
    "duration": 16,
    "start_time": "2022-10-18T09:37:57.633Z"
   },
   {
    "duration": 70,
    "start_time": "2022-10-18T09:37:57.651Z"
   },
   {
    "duration": 27,
    "start_time": "2022-10-18T09:37:57.723Z"
   },
   {
    "duration": 76,
    "start_time": "2022-10-18T09:37:57.752Z"
   },
   {
    "duration": 57,
    "start_time": "2022-10-18T09:37:57.830Z"
   },
   {
    "duration": 56,
    "start_time": "2022-10-18T09:37:57.889Z"
   },
   {
    "duration": 33,
    "start_time": "2022-10-18T09:37:57.947Z"
   },
   {
    "duration": 53,
    "start_time": "2022-10-18T09:37:57.983Z"
   },
   {
    "duration": 14,
    "start_time": "2022-10-18T09:37:58.038Z"
   },
   {
    "duration": 11,
    "start_time": "2022-10-18T09:37:58.054Z"
   },
   {
    "duration": 46,
    "start_time": "2022-10-18T09:37:58.066Z"
   },
   {
    "duration": 18,
    "start_time": "2022-10-18T09:37:58.114Z"
   },
   {
    "duration": 15,
    "start_time": "2022-10-18T09:37:58.133Z"
   },
   {
    "duration": 234,
    "start_time": "2022-10-18T09:37:58.150Z"
   },
   {
    "duration": 224,
    "start_time": "2022-10-18T09:37:58.385Z"
   },
   {
    "duration": 13,
    "start_time": "2022-10-18T09:37:58.611Z"
   },
   {
    "duration": 19,
    "start_time": "2022-10-18T09:37:58.626Z"
   },
   {
    "duration": 7,
    "start_time": "2022-10-18T09:37:58.648Z"
   },
   {
    "duration": 8,
    "start_time": "2022-10-18T09:37:58.656Z"
   },
   {
    "duration": 17,
    "start_time": "2022-10-18T09:37:58.666Z"
   },
   {
    "duration": 26,
    "start_time": "2022-10-18T09:37:58.684Z"
   },
   {
    "duration": 101,
    "start_time": "2022-10-18T09:37:58.711Z"
   },
   {
    "duration": 10,
    "start_time": "2022-10-18T09:37:58.813Z"
   },
   {
    "duration": 19,
    "start_time": "2022-10-18T09:37:58.824Z"
   },
   {
    "duration": 8,
    "start_time": "2022-10-18T09:37:58.845Z"
   },
   {
    "duration": 44,
    "start_time": "2022-10-18T09:37:58.854Z"
   },
   {
    "duration": 26,
    "start_time": "2022-10-18T09:37:58.899Z"
   },
   {
    "duration": 28,
    "start_time": "2022-10-18T09:37:58.926Z"
   },
   {
    "duration": 8,
    "start_time": "2022-10-18T09:41:47.683Z"
   },
   {
    "duration": 10,
    "start_time": "2022-10-18T09:41:58.525Z"
   },
   {
    "duration": 13,
    "start_time": "2022-10-18T09:42:34.031Z"
   },
   {
    "duration": 39,
    "start_time": "2022-10-18T09:53:57.512Z"
   },
   {
    "duration": 33,
    "start_time": "2022-10-18T09:55:26.045Z"
   },
   {
    "duration": 16,
    "start_time": "2022-10-18T10:19:25.683Z"
   },
   {
    "duration": 8,
    "start_time": "2022-10-18T10:21:18.919Z"
   },
   {
    "duration": 11,
    "start_time": "2022-10-18T10:23:33.360Z"
   },
   {
    "duration": 13,
    "start_time": "2022-10-18T10:24:42.835Z"
   },
   {
    "duration": 219,
    "start_time": "2022-10-18T10:39:23.845Z"
   },
   {
    "duration": 25,
    "start_time": "2022-10-18T10:40:28.667Z"
   },
   {
    "duration": 172,
    "start_time": "2022-10-18T10:52:47.922Z"
   },
   {
    "duration": 15,
    "start_time": "2022-10-18T10:53:02.945Z"
   },
   {
    "duration": 1202,
    "start_time": "2022-10-18T10:53:10.179Z"
   },
   {
    "duration": 219,
    "start_time": "2022-10-18T10:53:11.383Z"
   },
   {
    "duration": 12,
    "start_time": "2022-10-18T10:53:11.603Z"
   },
   {
    "duration": 8,
    "start_time": "2022-10-18T10:53:11.618Z"
   },
   {
    "duration": 10,
    "start_time": "2022-10-18T10:53:11.627Z"
   },
   {
    "duration": 82,
    "start_time": "2022-10-18T10:53:11.639Z"
   },
   {
    "duration": 37,
    "start_time": "2022-10-18T10:53:11.723Z"
   },
   {
    "duration": 63,
    "start_time": "2022-10-18T10:53:11.762Z"
   },
   {
    "duration": 65,
    "start_time": "2022-10-18T10:53:11.826Z"
   },
   {
    "duration": 19,
    "start_time": "2022-10-18T10:53:11.908Z"
   },
   {
    "duration": 38,
    "start_time": "2022-10-18T10:53:11.929Z"
   },
   {
    "duration": 48,
    "start_time": "2022-10-18T10:53:11.968Z"
   },
   {
    "duration": 9,
    "start_time": "2022-10-18T10:53:12.017Z"
   },
   {
    "duration": 24,
    "start_time": "2022-10-18T10:53:12.027Z"
   },
   {
    "duration": 16,
    "start_time": "2022-10-18T10:53:12.053Z"
   },
   {
    "duration": 17,
    "start_time": "2022-10-18T10:53:12.070Z"
   },
   {
    "duration": 28,
    "start_time": "2022-10-18T10:53:12.089Z"
   },
   {
    "duration": 27,
    "start_time": "2022-10-18T10:53:12.118Z"
   },
   {
    "duration": 87,
    "start_time": "2022-10-18T10:53:12.146Z"
   },
   {
    "duration": 55,
    "start_time": "2022-10-18T10:53:12.234Z"
   },
   {
    "duration": 131,
    "start_time": "2022-10-18T10:53:12.290Z"
   },
   {
    "duration": 6,
    "start_time": "2022-10-18T10:53:12.423Z"
   },
   {
    "duration": 30,
    "start_time": "2022-10-18T10:53:12.431Z"
   },
   {
    "duration": 49,
    "start_time": "2022-10-18T10:53:12.462Z"
   },
   {
    "duration": 18,
    "start_time": "2022-10-18T10:53:12.512Z"
   },
   {
    "duration": 16,
    "start_time": "2022-10-18T10:53:12.532Z"
   },
   {
    "duration": 32,
    "start_time": "2022-10-18T10:53:12.550Z"
   },
   {
    "duration": 37,
    "start_time": "2022-10-18T10:53:12.586Z"
   },
   {
    "duration": 40,
    "start_time": "2022-10-18T10:53:12.625Z"
   },
   {
    "duration": 92,
    "start_time": "2022-10-18T10:53:12.667Z"
   },
   {
    "duration": 4,
    "start_time": "2022-10-18T10:53:12.760Z"
   },
   {
    "duration": 378,
    "start_time": "2022-10-18T10:53:12.766Z"
   },
   {
    "duration": 308,
    "start_time": "2022-10-18T10:53:13.145Z"
   },
   {
    "duration": 191,
    "start_time": "2022-10-18T10:53:13.454Z"
   },
   {
    "duration": 270,
    "start_time": "2022-10-18T10:53:13.648Z"
   },
   {
    "duration": 10,
    "start_time": "2022-10-18T10:53:13.920Z"
   },
   {
    "duration": 12,
    "start_time": "2022-10-18T10:53:13.931Z"
   },
   {
    "duration": 12,
    "start_time": "2022-10-18T10:53:13.945Z"
   },
   {
    "duration": 179,
    "start_time": "2022-10-18T10:53:13.958Z"
   },
   {
    "duration": 52,
    "start_time": "2022-10-18T10:53:14.139Z"
   },
   {
    "duration": 24,
    "start_time": "2022-10-18T10:53:14.193Z"
   },
   {
    "duration": 19,
    "start_time": "2022-10-18T10:53:14.218Z"
   },
   {
    "duration": 18,
    "start_time": "2022-10-18T10:53:14.238Z"
   },
   {
    "duration": 9,
    "start_time": "2022-10-18T10:53:14.257Z"
   },
   {
    "duration": 11,
    "start_time": "2022-10-18T10:53:14.268Z"
   },
   {
    "duration": 13,
    "start_time": "2022-10-18T10:53:14.309Z"
   },
   {
    "duration": 261,
    "start_time": "2022-10-18T10:53:14.323Z"
   },
   {
    "duration": 351,
    "start_time": "2022-10-18T10:53:14.586Z"
   },
   {
    "duration": 18,
    "start_time": "2022-10-18T10:53:14.938Z"
   },
   {
    "duration": 13,
    "start_time": "2022-10-18T10:53:14.957Z"
   },
   {
    "duration": 5,
    "start_time": "2022-10-18T10:53:14.971Z"
   },
   {
    "duration": 14,
    "start_time": "2022-10-18T10:53:15.009Z"
   },
   {
    "duration": 9,
    "start_time": "2022-10-18T10:53:15.024Z"
   },
   {
    "duration": 97,
    "start_time": "2022-10-18T10:53:15.035Z"
   },
   {
    "duration": 38,
    "start_time": "2022-10-18T10:53:15.134Z"
   },
   {
    "duration": 54,
    "start_time": "2022-10-18T10:53:15.174Z"
   },
   {
    "duration": 32,
    "start_time": "2022-10-18T10:53:15.230Z"
   },
   {
    "duration": 26,
    "start_time": "2022-10-18T10:53:15.263Z"
   },
   {
    "duration": 29,
    "start_time": "2022-10-18T10:53:15.290Z"
   },
   {
    "duration": 11,
    "start_time": "2022-10-18T10:53:15.321Z"
   },
   {
    "duration": 9,
    "start_time": "2022-10-18T10:53:15.333Z"
   },
   {
    "duration": 13,
    "start_time": "2022-10-18T10:53:15.343Z"
   },
   {
    "duration": 16,
    "start_time": "2022-10-18T10:53:15.357Z"
   },
   {
    "duration": 266,
    "start_time": "2022-10-18T10:53:15.375Z"
   },
   {
    "duration": 235,
    "start_time": "2022-10-18T10:53:15.643Z"
   },
   {
    "duration": 8,
    "start_time": "2022-10-18T10:53:15.880Z"
   },
   {
    "duration": 19,
    "start_time": "2022-10-18T10:53:15.890Z"
   },
   {
    "duration": 6,
    "start_time": "2022-10-18T10:53:15.910Z"
   },
   {
    "duration": 8,
    "start_time": "2022-10-18T10:53:15.918Z"
   },
   {
    "duration": 10,
    "start_time": "2022-10-18T10:53:15.928Z"
   },
   {
    "duration": 13,
    "start_time": "2022-10-18T10:53:15.940Z"
   },
   {
    "duration": 112,
    "start_time": "2022-10-18T10:53:15.954Z"
   },
   {
    "duration": 10,
    "start_time": "2022-10-18T10:53:16.067Z"
   },
   {
    "duration": 6,
    "start_time": "2022-10-18T10:53:16.078Z"
   },
   {
    "duration": 24,
    "start_time": "2022-10-18T10:53:16.085Z"
   },
   {
    "duration": 29,
    "start_time": "2022-10-18T10:53:16.110Z"
   },
   {
    "duration": 5,
    "start_time": "2022-10-18T10:53:16.140Z"
   },
   {
    "duration": 27,
    "start_time": "2022-10-18T10:53:16.147Z"
   },
   {
    "duration": 10,
    "start_time": "2022-10-18T10:54:02.142Z"
   },
   {
    "duration": 1475,
    "start_time": "2022-10-18T10:56:24.512Z"
   },
   {
    "duration": 356,
    "start_time": "2022-10-18T10:56:25.989Z"
   },
   {
    "duration": 13,
    "start_time": "2022-10-18T10:56:26.347Z"
   },
   {
    "duration": 9,
    "start_time": "2022-10-18T10:56:26.362Z"
   },
   {
    "duration": 12,
    "start_time": "2022-10-18T10:56:26.372Z"
   },
   {
    "duration": 70,
    "start_time": "2022-10-18T10:56:26.385Z"
   },
   {
    "duration": 63,
    "start_time": "2022-10-18T10:56:26.456Z"
   },
   {
    "duration": 54,
    "start_time": "2022-10-18T10:56:26.521Z"
   },
   {
    "duration": 75,
    "start_time": "2022-10-18T10:56:26.577Z"
   },
   {
    "duration": 10,
    "start_time": "2022-10-18T10:56:26.653Z"
   },
   {
    "duration": 47,
    "start_time": "2022-10-18T10:56:26.665Z"
   },
   {
    "duration": 27,
    "start_time": "2022-10-18T10:56:26.714Z"
   },
   {
    "duration": 9,
    "start_time": "2022-10-18T10:56:26.743Z"
   },
   {
    "duration": 22,
    "start_time": "2022-10-18T10:56:26.753Z"
   },
   {
    "duration": 42,
    "start_time": "2022-10-18T10:56:26.777Z"
   },
   {
    "duration": 11,
    "start_time": "2022-10-18T10:56:26.820Z"
   },
   {
    "duration": 15,
    "start_time": "2022-10-18T10:56:26.833Z"
   },
   {
    "duration": 27,
    "start_time": "2022-10-18T10:56:26.850Z"
   },
   {
    "duration": 87,
    "start_time": "2022-10-18T10:56:26.879Z"
   },
   {
    "duration": 63,
    "start_time": "2022-10-18T10:56:26.968Z"
   },
   {
    "duration": 116,
    "start_time": "2022-10-18T10:56:27.033Z"
   },
   {
    "duration": 7,
    "start_time": "2022-10-18T10:56:27.151Z"
   },
   {
    "duration": 13,
    "start_time": "2022-10-18T10:56:27.160Z"
   },
   {
    "duration": 17,
    "start_time": "2022-10-18T10:56:27.177Z"
   },
   {
    "duration": 26,
    "start_time": "2022-10-18T10:56:27.195Z"
   },
   {
    "duration": 25,
    "start_time": "2022-10-18T10:56:27.223Z"
   },
   {
    "duration": 42,
    "start_time": "2022-10-18T10:56:27.249Z"
   },
   {
    "duration": 29,
    "start_time": "2022-10-18T10:56:27.293Z"
   },
   {
    "duration": 41,
    "start_time": "2022-10-18T10:56:27.324Z"
   },
   {
    "duration": 85,
    "start_time": "2022-10-18T10:56:27.367Z"
   },
   {
    "duration": 3,
    "start_time": "2022-10-18T10:56:27.453Z"
   },
   {
    "duration": 400,
    "start_time": "2022-10-18T10:56:27.457Z"
   },
   {
    "duration": 288,
    "start_time": "2022-10-18T10:56:27.859Z"
   },
   {
    "duration": 185,
    "start_time": "2022-10-18T10:56:28.149Z"
   },
   {
    "duration": 273,
    "start_time": "2022-10-18T10:56:28.336Z"
   },
   {
    "duration": 10,
    "start_time": "2022-10-18T10:56:28.611Z"
   },
   {
    "duration": 11,
    "start_time": "2022-10-18T10:56:28.623Z"
   },
   {
    "duration": 11,
    "start_time": "2022-10-18T10:56:28.635Z"
   },
   {
    "duration": 184,
    "start_time": "2022-10-18T10:56:28.647Z"
   },
   {
    "duration": 53,
    "start_time": "2022-10-18T10:56:28.832Z"
   },
   {
    "duration": 27,
    "start_time": "2022-10-18T10:56:28.886Z"
   },
   {
    "duration": 29,
    "start_time": "2022-10-18T10:56:28.915Z"
   },
   {
    "duration": 17,
    "start_time": "2022-10-18T10:56:28.945Z"
   },
   {
    "duration": 12,
    "start_time": "2022-10-18T10:56:28.964Z"
   },
   {
    "duration": 12,
    "start_time": "2022-10-18T10:56:28.977Z"
   },
   {
    "duration": 28,
    "start_time": "2022-10-18T10:56:28.991Z"
   },
   {
    "duration": 211,
    "start_time": "2022-10-18T10:56:29.021Z"
   },
   {
    "duration": 376,
    "start_time": "2022-10-18T10:56:29.235Z"
   },
   {
    "duration": 26,
    "start_time": "2022-10-18T10:56:29.613Z"
   },
   {
    "duration": 14,
    "start_time": "2022-10-18T10:56:29.640Z"
   },
   {
    "duration": 56,
    "start_time": "2022-10-18T10:56:29.655Z"
   },
   {
    "duration": 16,
    "start_time": "2022-10-18T10:56:29.712Z"
   },
   {
    "duration": 9,
    "start_time": "2022-10-18T10:56:29.731Z"
   },
   {
    "duration": 91,
    "start_time": "2022-10-18T10:56:29.742Z"
   },
   {
    "duration": 36,
    "start_time": "2022-10-18T10:56:29.835Z"
   },
   {
    "duration": 49,
    "start_time": "2022-10-18T10:56:29.873Z"
   },
   {
    "duration": 29,
    "start_time": "2022-10-18T10:56:29.924Z"
   },
   {
    "duration": 20,
    "start_time": "2022-10-18T10:56:29.955Z"
   },
   {
    "duration": 37,
    "start_time": "2022-10-18T10:56:29.977Z"
   },
   {
    "duration": 16,
    "start_time": "2022-10-18T10:56:30.016Z"
   },
   {
    "duration": 11,
    "start_time": "2022-10-18T10:56:30.034Z"
   },
   {
    "duration": 12,
    "start_time": "2022-10-18T10:56:30.047Z"
   },
   {
    "duration": 14,
    "start_time": "2022-10-18T10:56:30.061Z"
   },
   {
    "duration": 250,
    "start_time": "2022-10-18T10:56:30.076Z"
   },
   {
    "duration": 281,
    "start_time": "2022-10-18T10:56:30.328Z"
   },
   {
    "duration": 11,
    "start_time": "2022-10-18T10:56:30.611Z"
   },
   {
    "duration": 30,
    "start_time": "2022-10-18T10:56:30.624Z"
   },
   {
    "duration": 27,
    "start_time": "2022-10-18T10:56:30.656Z"
   },
   {
    "duration": 6,
    "start_time": "2022-10-18T10:56:30.689Z"
   },
   {
    "duration": 20,
    "start_time": "2022-10-18T10:56:30.697Z"
   },
   {
    "duration": 19,
    "start_time": "2022-10-18T10:56:30.719Z"
   },
   {
    "duration": 36,
    "start_time": "2022-10-18T10:56:30.740Z"
   },
   {
    "duration": 10,
    "start_time": "2022-10-18T10:56:30.778Z"
   },
   {
    "duration": 37,
    "start_time": "2022-10-18T10:56:30.789Z"
   },
   {
    "duration": 81,
    "start_time": "2022-10-18T10:56:30.828Z"
   },
   {
    "duration": 43,
    "start_time": "2022-10-18T10:56:30.911Z"
   },
   {
    "duration": 7,
    "start_time": "2022-10-18T10:56:30.956Z"
   },
   {
    "duration": 38,
    "start_time": "2022-10-18T10:56:30.964Z"
   },
   {
    "duration": 7,
    "start_time": "2022-10-18T11:04:57.432Z"
   },
   {
    "duration": 14,
    "start_time": "2022-10-18T11:05:26.758Z"
   },
   {
    "duration": 23,
    "start_time": "2022-10-18T11:05:53.423Z"
   },
   {
    "duration": 7,
    "start_time": "2022-10-18T11:09:52.214Z"
   },
   {
    "duration": 7,
    "start_time": "2022-10-18T11:09:54.660Z"
   },
   {
    "duration": 23,
    "start_time": "2022-10-18T11:10:26.572Z"
   },
   {
    "duration": 7,
    "start_time": "2022-10-18T11:10:28.714Z"
   },
   {
    "duration": 30,
    "start_time": "2022-10-18T11:10:54.268Z"
   },
   {
    "duration": 8,
    "start_time": "2022-10-18T11:10:57.073Z"
   },
   {
    "duration": 170,
    "start_time": "2022-10-18T11:14:31.339Z"
   },
   {
    "duration": 175,
    "start_time": "2022-10-18T11:15:36.807Z"
   },
   {
    "duration": 169,
    "start_time": "2022-10-18T11:15:45.543Z"
   },
   {
    "duration": 174,
    "start_time": "2022-10-18T11:15:51.033Z"
   },
   {
    "duration": 180,
    "start_time": "2022-10-18T11:15:55.162Z"
   },
   {
    "duration": 173,
    "start_time": "2022-10-18T11:16:06.030Z"
   },
   {
    "duration": 178,
    "start_time": "2022-10-18T11:16:12.653Z"
   },
   {
    "duration": 163,
    "start_time": "2022-10-18T11:16:35.218Z"
   },
   {
    "duration": 166,
    "start_time": "2022-10-18T11:16:53.619Z"
   },
   {
    "duration": 176,
    "start_time": "2022-10-18T11:17:01.657Z"
   },
   {
    "duration": 176,
    "start_time": "2022-10-18T11:17:13.500Z"
   },
   {
    "duration": 171,
    "start_time": "2022-10-18T11:25:03.680Z"
   },
   {
    "duration": 182,
    "start_time": "2022-10-18T11:25:08.537Z"
   },
   {
    "duration": 188,
    "start_time": "2022-10-18T11:25:24.184Z"
   },
   {
    "duration": 272,
    "start_time": "2022-10-18T11:25:38.432Z"
   },
   {
    "duration": 169,
    "start_time": "2022-10-18T11:31:28.485Z"
   },
   {
    "duration": 170,
    "start_time": "2022-10-18T11:31:38.738Z"
   },
   {
    "duration": 31,
    "start_time": "2022-10-18T11:34:40.390Z"
   },
   {
    "duration": 15,
    "start_time": "2022-10-18T13:22:14.255Z"
   },
   {
    "duration": 244,
    "start_time": "2022-10-18T13:22:24.227Z"
   },
   {
    "duration": 8,
    "start_time": "2022-10-18T13:24:28.255Z"
   },
   {
    "duration": 9,
    "start_time": "2022-10-18T13:24:49.684Z"
   },
   {
    "duration": 9,
    "start_time": "2022-10-18T13:25:12.968Z"
   },
   {
    "duration": 15,
    "start_time": "2022-10-18T13:27:08.952Z"
   },
   {
    "duration": 8,
    "start_time": "2022-10-18T13:27:22.888Z"
   },
   {
    "duration": 204,
    "start_time": "2022-10-18T13:27:40.444Z"
   },
   {
    "duration": 8,
    "start_time": "2022-10-18T13:33:08.929Z"
   },
   {
    "duration": 11,
    "start_time": "2022-10-18T13:33:17.943Z"
   },
   {
    "duration": 14,
    "start_time": "2022-10-18T13:34:51.859Z"
   },
   {
    "duration": 12,
    "start_time": "2022-10-18T13:35:04.203Z"
   },
   {
    "duration": 13,
    "start_time": "2022-10-18T13:54:43.075Z"
   },
   {
    "duration": 12,
    "start_time": "2022-10-18T13:55:49.795Z"
   },
   {
    "duration": 11,
    "start_time": "2022-10-18T13:58:23.439Z"
   },
   {
    "duration": 20,
    "start_time": "2022-10-18T14:03:30.043Z"
   },
   {
    "duration": 208,
    "start_time": "2022-10-18T14:06:51.744Z"
   },
   {
    "duration": 349,
    "start_time": "2022-10-18T14:07:45.125Z"
   },
   {
    "duration": 204,
    "start_time": "2022-10-18T14:07:53.443Z"
   },
   {
    "duration": 208,
    "start_time": "2022-10-18T14:08:13.668Z"
   },
   {
    "duration": 214,
    "start_time": "2022-10-18T14:08:29.300Z"
   },
   {
    "duration": 214,
    "start_time": "2022-10-18T14:14:30.218Z"
   },
   {
    "duration": 218,
    "start_time": "2022-10-18T14:14:54.161Z"
   },
   {
    "duration": 295,
    "start_time": "2022-10-18T14:20:17.786Z"
   },
   {
    "duration": 1213,
    "start_time": "2022-10-18T14:20:38.484Z"
   },
   {
    "duration": 226,
    "start_time": "2022-10-18T14:20:39.699Z"
   },
   {
    "duration": 12,
    "start_time": "2022-10-18T14:20:39.927Z"
   },
   {
    "duration": 7,
    "start_time": "2022-10-18T14:20:39.941Z"
   },
   {
    "duration": 9,
    "start_time": "2022-10-18T14:20:39.949Z"
   },
   {
    "duration": 71,
    "start_time": "2022-10-18T14:20:39.960Z"
   },
   {
    "duration": 38,
    "start_time": "2022-10-18T14:20:40.033Z"
   },
   {
    "duration": 67,
    "start_time": "2022-10-18T14:20:40.072Z"
   },
   {
    "duration": 88,
    "start_time": "2022-10-18T14:20:40.140Z"
   },
   {
    "duration": 10,
    "start_time": "2022-10-18T14:20:40.231Z"
   },
   {
    "duration": 25,
    "start_time": "2022-10-18T14:20:40.243Z"
   },
   {
    "duration": 43,
    "start_time": "2022-10-18T14:20:40.270Z"
   },
   {
    "duration": 8,
    "start_time": "2022-10-18T14:20:40.314Z"
   },
   {
    "duration": 21,
    "start_time": "2022-10-18T14:20:40.323Z"
   },
   {
    "duration": 15,
    "start_time": "2022-10-18T14:20:40.345Z"
   },
   {
    "duration": 12,
    "start_time": "2022-10-18T14:20:40.362Z"
   },
   {
    "duration": 34,
    "start_time": "2022-10-18T14:20:40.375Z"
   },
   {
    "duration": 31,
    "start_time": "2022-10-18T14:20:40.411Z"
   },
   {
    "duration": 74,
    "start_time": "2022-10-18T14:20:40.444Z"
   },
   {
    "duration": 54,
    "start_time": "2022-10-18T14:20:40.520Z"
   },
   {
    "duration": 126,
    "start_time": "2022-10-18T14:20:40.576Z"
   },
   {
    "duration": 7,
    "start_time": "2022-10-18T14:20:40.704Z"
   },
   {
    "duration": 8,
    "start_time": "2022-10-18T14:20:40.713Z"
   },
   {
    "duration": 13,
    "start_time": "2022-10-18T14:20:40.722Z"
   },
   {
    "duration": 20,
    "start_time": "2022-10-18T14:20:40.737Z"
   },
   {
    "duration": 15,
    "start_time": "2022-10-18T14:20:40.758Z"
   },
   {
    "duration": 50,
    "start_time": "2022-10-18T14:20:40.774Z"
   },
   {
    "duration": 22,
    "start_time": "2022-10-18T14:20:40.828Z"
   },
   {
    "duration": 35,
    "start_time": "2022-10-18T14:20:40.852Z"
   },
   {
    "duration": 82,
    "start_time": "2022-10-18T14:20:40.889Z"
   },
   {
    "duration": 3,
    "start_time": "2022-10-18T14:20:40.972Z"
   },
   {
    "duration": 384,
    "start_time": "2022-10-18T14:20:40.976Z"
   },
   {
    "duration": 290,
    "start_time": "2022-10-18T14:20:41.362Z"
   },
   {
    "duration": 204,
    "start_time": "2022-10-18T14:20:41.654Z"
   },
   {
    "duration": 275,
    "start_time": "2022-10-18T14:20:41.860Z"
   },
   {
    "duration": 11,
    "start_time": "2022-10-18T14:20:42.137Z"
   },
   {
    "duration": 32,
    "start_time": "2022-10-18T14:20:42.149Z"
   },
   {
    "duration": 29,
    "start_time": "2022-10-18T14:20:42.183Z"
   },
   {
    "duration": 170,
    "start_time": "2022-10-18T14:20:42.213Z"
   },
   {
    "duration": 59,
    "start_time": "2022-10-18T14:20:42.385Z"
   },
   {
    "duration": 12,
    "start_time": "2022-10-18T14:20:42.445Z"
   },
   {
    "duration": 42,
    "start_time": "2022-10-18T14:20:42.459Z"
   },
   {
    "duration": 19,
    "start_time": "2022-10-18T14:20:42.502Z"
   },
   {
    "duration": 216,
    "start_time": "2022-10-18T14:20:42.522Z"
   },
   {
    "duration": 182,
    "start_time": "2022-10-18T14:20:42.740Z"
   },
   {
    "duration": 19,
    "start_time": "2022-10-18T14:20:42.924Z"
   },
   {
    "duration": 24,
    "start_time": "2022-10-18T14:20:42.944Z"
   },
   {
    "duration": 30,
    "start_time": "2022-10-18T14:20:42.969Z"
   },
   {
    "duration": 34,
    "start_time": "2022-10-18T14:20:43.001Z"
   },
   {
    "duration": 20,
    "start_time": "2022-10-18T14:20:43.037Z"
   },
   {
    "duration": 59,
    "start_time": "2022-10-18T14:20:43.059Z"
   },
   {
    "duration": 38,
    "start_time": "2022-10-18T14:20:43.119Z"
   },
   {
    "duration": 38,
    "start_time": "2022-10-18T14:20:43.159Z"
   },
   {
    "duration": 37,
    "start_time": "2022-10-18T14:20:43.198Z"
   },
   {
    "duration": 21,
    "start_time": "2022-10-18T14:20:43.237Z"
   },
   {
    "duration": 18,
    "start_time": "2022-10-18T14:20:43.260Z"
   },
   {
    "duration": 30,
    "start_time": "2022-10-18T14:20:43.279Z"
   },
   {
    "duration": 15,
    "start_time": "2022-10-18T14:20:43.310Z"
   },
   {
    "duration": 31,
    "start_time": "2022-10-18T14:20:43.326Z"
   },
   {
    "duration": 39,
    "start_time": "2022-10-18T14:20:43.358Z"
   },
   {
    "duration": 29,
    "start_time": "2022-10-18T14:20:43.399Z"
   },
   {
    "duration": 125,
    "start_time": "2022-10-18T14:20:43.429Z"
   },
   {
    "duration": 0,
    "start_time": "2022-10-18T14:20:43.555Z"
   },
   {
    "duration": 0,
    "start_time": "2022-10-18T14:20:43.556Z"
   },
   {
    "duration": 0,
    "start_time": "2022-10-18T14:20:43.557Z"
   },
   {
    "duration": 0,
    "start_time": "2022-10-18T14:20:43.558Z"
   },
   {
    "duration": 0,
    "start_time": "2022-10-18T14:20:43.559Z"
   },
   {
    "duration": 0,
    "start_time": "2022-10-18T14:20:43.560Z"
   },
   {
    "duration": 0,
    "start_time": "2022-10-18T14:20:43.561Z"
   },
   {
    "duration": 0,
    "start_time": "2022-10-18T14:20:43.563Z"
   },
   {
    "duration": 0,
    "start_time": "2022-10-18T14:20:43.564Z"
   },
   {
    "duration": 0,
    "start_time": "2022-10-18T14:20:43.565Z"
   },
   {
    "duration": 0,
    "start_time": "2022-10-18T14:20:43.566Z"
   },
   {
    "duration": 0,
    "start_time": "2022-10-18T14:20:43.567Z"
   },
   {
    "duration": 0,
    "start_time": "2022-10-18T14:20:43.568Z"
   },
   {
    "duration": 0,
    "start_time": "2022-10-18T14:20:43.569Z"
   },
   {
    "duration": 0,
    "start_time": "2022-10-18T14:20:43.570Z"
   },
   {
    "duration": 1100,
    "start_time": "2022-10-18T14:21:32.667Z"
   },
   {
    "duration": 213,
    "start_time": "2022-10-18T14:21:33.769Z"
   },
   {
    "duration": 12,
    "start_time": "2022-10-18T14:21:33.983Z"
   },
   {
    "duration": 8,
    "start_time": "2022-10-18T14:21:33.996Z"
   },
   {
    "duration": 9,
    "start_time": "2022-10-18T14:21:34.006Z"
   },
   {
    "duration": 68,
    "start_time": "2022-10-18T14:21:34.016Z"
   },
   {
    "duration": 41,
    "start_time": "2022-10-18T14:21:34.086Z"
   },
   {
    "duration": 35,
    "start_time": "2022-10-18T14:21:34.129Z"
   },
   {
    "duration": 85,
    "start_time": "2022-10-18T14:21:34.165Z"
   },
   {
    "duration": 11,
    "start_time": "2022-10-18T14:21:34.251Z"
   },
   {
    "duration": 31,
    "start_time": "2022-10-18T14:21:34.263Z"
   },
   {
    "duration": 37,
    "start_time": "2022-10-18T14:21:34.295Z"
   },
   {
    "duration": 8,
    "start_time": "2022-10-18T14:21:34.333Z"
   },
   {
    "duration": 25,
    "start_time": "2022-10-18T14:21:34.343Z"
   },
   {
    "duration": 40,
    "start_time": "2022-10-18T14:21:34.370Z"
   },
   {
    "duration": 14,
    "start_time": "2022-10-18T14:21:34.412Z"
   },
   {
    "duration": 17,
    "start_time": "2022-10-18T14:21:34.427Z"
   },
   {
    "duration": 42,
    "start_time": "2022-10-18T14:21:34.446Z"
   },
   {
    "duration": 84,
    "start_time": "2022-10-18T14:21:34.490Z"
   },
   {
    "duration": 78,
    "start_time": "2022-10-18T14:21:34.576Z"
   },
   {
    "duration": 132,
    "start_time": "2022-10-18T14:21:34.656Z"
   },
   {
    "duration": 6,
    "start_time": "2022-10-18T14:21:34.790Z"
   },
   {
    "duration": 12,
    "start_time": "2022-10-18T14:21:34.798Z"
   },
   {
    "duration": 16,
    "start_time": "2022-10-18T14:21:34.812Z"
   },
   {
    "duration": 18,
    "start_time": "2022-10-18T14:21:34.830Z"
   },
   {
    "duration": 16,
    "start_time": "2022-10-18T14:21:34.850Z"
   },
   {
    "duration": 48,
    "start_time": "2022-10-18T14:21:34.867Z"
   },
   {
    "duration": 23,
    "start_time": "2022-10-18T14:21:34.916Z"
   },
   {
    "duration": 33,
    "start_time": "2022-10-18T14:21:34.940Z"
   },
   {
    "duration": 84,
    "start_time": "2022-10-18T14:21:34.974Z"
   },
   {
    "duration": 3,
    "start_time": "2022-10-18T14:21:35.060Z"
   },
   {
    "duration": 374,
    "start_time": "2022-10-18T14:21:35.064Z"
   },
   {
    "duration": 282,
    "start_time": "2022-10-18T14:21:35.439Z"
   },
   {
    "duration": 175,
    "start_time": "2022-10-18T14:21:35.723Z"
   },
   {
    "duration": 259,
    "start_time": "2022-10-18T14:21:35.900Z"
   },
   {
    "duration": 10,
    "start_time": "2022-10-18T14:21:36.160Z"
   },
   {
    "duration": 16,
    "start_time": "2022-10-18T14:21:36.172Z"
   },
   {
    "duration": 25,
    "start_time": "2022-10-18T14:21:36.190Z"
   },
   {
    "duration": 169,
    "start_time": "2022-10-18T14:21:36.216Z"
   },
   {
    "duration": 61,
    "start_time": "2022-10-18T14:21:36.386Z"
   },
   {
    "duration": 12,
    "start_time": "2022-10-18T14:21:36.451Z"
   },
   {
    "duration": 21,
    "start_time": "2022-10-18T14:21:36.464Z"
   },
   {
    "duration": 32,
    "start_time": "2022-10-18T14:21:36.487Z"
   },
   {
    "duration": 222,
    "start_time": "2022-10-18T14:21:36.520Z"
   },
   {
    "duration": 181,
    "start_time": "2022-10-18T14:21:36.743Z"
   },
   {
    "duration": 25,
    "start_time": "2022-10-18T14:21:36.926Z"
   },
   {
    "duration": 15,
    "start_time": "2022-10-18T14:21:36.954Z"
   },
   {
    "duration": 5,
    "start_time": "2022-10-18T14:21:36.970Z"
   },
   {
    "duration": 39,
    "start_time": "2022-10-18T14:21:36.976Z"
   },
   {
    "duration": 5,
    "start_time": "2022-10-18T14:21:37.016Z"
   },
   {
    "duration": 45,
    "start_time": "2022-10-18T14:21:37.022Z"
   },
   {
    "duration": 45,
    "start_time": "2022-10-18T14:21:37.069Z"
   },
   {
    "duration": 34,
    "start_time": "2022-10-18T14:21:37.115Z"
   },
   {
    "duration": 29,
    "start_time": "2022-10-18T14:21:37.150Z"
   },
   {
    "duration": 44,
    "start_time": "2022-10-18T14:21:37.181Z"
   },
   {
    "duration": 11,
    "start_time": "2022-10-18T14:21:37.226Z"
   },
   {
    "duration": 9,
    "start_time": "2022-10-18T14:21:37.239Z"
   },
   {
    "duration": 10,
    "start_time": "2022-10-18T14:21:37.250Z"
   },
   {
    "duration": 13,
    "start_time": "2022-10-18T14:21:37.262Z"
   },
   {
    "duration": 45,
    "start_time": "2022-10-18T14:21:37.276Z"
   },
   {
    "duration": 14,
    "start_time": "2022-10-18T14:21:37.323Z"
   },
   {
    "duration": 14,
    "start_time": "2022-10-18T14:21:37.338Z"
   },
   {
    "duration": 221,
    "start_time": "2022-10-18T14:21:37.354Z"
   },
   {
    "duration": 212,
    "start_time": "2022-10-18T14:21:37.576Z"
   },
   {
    "duration": 8,
    "start_time": "2022-10-18T14:21:37.789Z"
   },
   {
    "duration": 16,
    "start_time": "2022-10-18T14:21:37.798Z"
   },
   {
    "duration": 6,
    "start_time": "2022-10-18T14:21:37.815Z"
   },
   {
    "duration": 6,
    "start_time": "2022-10-18T14:21:37.822Z"
   },
   {
    "duration": 130,
    "start_time": "2022-10-18T14:21:37.829Z"
   },
   {
    "duration": 1,
    "start_time": "2022-10-18T14:21:37.961Z"
   },
   {
    "duration": 0,
    "start_time": "2022-10-18T14:21:37.963Z"
   },
   {
    "duration": 0,
    "start_time": "2022-10-18T14:21:37.965Z"
   },
   {
    "duration": 0,
    "start_time": "2022-10-18T14:21:37.966Z"
   },
   {
    "duration": 0,
    "start_time": "2022-10-18T14:21:37.968Z"
   },
   {
    "duration": 0,
    "start_time": "2022-10-18T14:21:37.969Z"
   },
   {
    "duration": 0,
    "start_time": "2022-10-18T14:21:37.970Z"
   },
   {
    "duration": 0,
    "start_time": "2022-10-18T14:21:37.972Z"
   },
   {
    "duration": 10,
    "start_time": "2022-10-18T14:35:26.825Z"
   },
   {
    "duration": 10,
    "start_time": "2022-10-18T14:36:06.777Z"
   },
   {
    "duration": 12,
    "start_time": "2022-10-18T14:39:08.227Z"
   },
   {
    "duration": 1515,
    "start_time": "2022-10-19T09:19:39.092Z"
   },
   {
    "duration": 989,
    "start_time": "2022-10-19T09:19:40.611Z"
   },
   {
    "duration": 19,
    "start_time": "2022-10-19T09:19:41.602Z"
   },
   {
    "duration": 8,
    "start_time": "2022-10-19T09:19:41.623Z"
   },
   {
    "duration": 17,
    "start_time": "2022-10-19T09:19:41.633Z"
   },
   {
    "duration": 72,
    "start_time": "2022-10-19T09:19:41.652Z"
   },
   {
    "duration": 38,
    "start_time": "2022-10-19T09:19:41.725Z"
   },
   {
    "duration": 88,
    "start_time": "2022-10-19T09:19:41.765Z"
   },
   {
    "duration": 90,
    "start_time": "2022-10-19T09:19:41.855Z"
   },
   {
    "duration": 11,
    "start_time": "2022-10-19T09:19:41.948Z"
   },
   {
    "duration": 49,
    "start_time": "2022-10-19T09:19:41.961Z"
   },
   {
    "duration": 39,
    "start_time": "2022-10-19T09:19:42.012Z"
   },
   {
    "duration": 11,
    "start_time": "2022-10-19T09:19:42.053Z"
   },
   {
    "duration": 48,
    "start_time": "2022-10-19T09:19:42.066Z"
   },
   {
    "duration": 24,
    "start_time": "2022-10-19T09:19:42.116Z"
   },
   {
    "duration": 13,
    "start_time": "2022-10-19T09:19:42.141Z"
   },
   {
    "duration": 12,
    "start_time": "2022-10-19T09:19:42.156Z"
   },
   {
    "duration": 50,
    "start_time": "2022-10-19T09:19:42.171Z"
   },
   {
    "duration": 109,
    "start_time": "2022-10-19T09:19:42.223Z"
   },
   {
    "duration": 96,
    "start_time": "2022-10-19T09:19:42.334Z"
   },
   {
    "duration": 112,
    "start_time": "2022-10-19T09:19:42.432Z"
   },
   {
    "duration": 8,
    "start_time": "2022-10-19T09:19:42.546Z"
   },
   {
    "duration": 7,
    "start_time": "2022-10-19T09:19:42.556Z"
   },
   {
    "duration": 41,
    "start_time": "2022-10-19T09:19:42.565Z"
   },
   {
    "duration": 17,
    "start_time": "2022-10-19T09:19:42.608Z"
   },
   {
    "duration": 16,
    "start_time": "2022-10-19T09:19:42.627Z"
   },
   {
    "duration": 67,
    "start_time": "2022-10-19T09:19:42.645Z"
   },
   {
    "duration": 40,
    "start_time": "2022-10-19T09:19:42.719Z"
   },
   {
    "duration": 63,
    "start_time": "2022-10-19T09:19:42.761Z"
   },
   {
    "duration": 65,
    "start_time": "2022-10-19T09:19:42.826Z"
   },
   {
    "duration": 4,
    "start_time": "2022-10-19T09:19:42.906Z"
   },
   {
    "duration": 368,
    "start_time": "2022-10-19T09:19:42.912Z"
   },
   {
    "duration": 286,
    "start_time": "2022-10-19T09:19:43.282Z"
   },
   {
    "duration": 183,
    "start_time": "2022-10-19T09:19:43.570Z"
   },
   {
    "duration": 281,
    "start_time": "2022-10-19T09:19:43.755Z"
   },
   {
    "duration": 14,
    "start_time": "2022-10-19T09:19:44.038Z"
   },
   {
    "duration": 16,
    "start_time": "2022-10-19T09:19:44.054Z"
   },
   {
    "duration": 34,
    "start_time": "2022-10-19T09:19:44.072Z"
   },
   {
    "duration": 177,
    "start_time": "2022-10-19T09:19:44.108Z"
   },
   {
    "duration": 61,
    "start_time": "2022-10-19T09:19:44.287Z"
   },
   {
    "duration": 15,
    "start_time": "2022-10-19T09:19:44.349Z"
   },
   {
    "duration": 40,
    "start_time": "2022-10-19T09:19:44.366Z"
   },
   {
    "duration": 16,
    "start_time": "2022-10-19T09:19:44.407Z"
   },
   {
    "duration": 298,
    "start_time": "2022-10-19T09:19:44.425Z"
   },
   {
    "duration": 191,
    "start_time": "2022-10-19T09:19:44.725Z"
   },
   {
    "duration": 18,
    "start_time": "2022-10-19T09:19:44.917Z"
   },
   {
    "duration": 13,
    "start_time": "2022-10-19T09:19:44.936Z"
   },
   {
    "duration": 9,
    "start_time": "2022-10-19T09:19:44.950Z"
   },
   {
    "duration": 46,
    "start_time": "2022-10-19T09:19:44.960Z"
   },
   {
    "duration": 4,
    "start_time": "2022-10-19T09:19:45.008Z"
   },
   {
    "duration": 76,
    "start_time": "2022-10-19T09:19:45.014Z"
   },
   {
    "duration": 66,
    "start_time": "2022-10-19T09:19:45.092Z"
   },
   {
    "duration": 34,
    "start_time": "2022-10-19T09:19:45.160Z"
   },
   {
    "duration": 42,
    "start_time": "2022-10-19T09:19:45.206Z"
   },
   {
    "duration": 22,
    "start_time": "2022-10-19T09:19:45.250Z"
   },
   {
    "duration": 39,
    "start_time": "2022-10-19T09:19:45.273Z"
   },
   {
    "duration": 16,
    "start_time": "2022-10-19T09:19:45.314Z"
   },
   {
    "duration": 14,
    "start_time": "2022-10-19T09:19:45.332Z"
   },
   {
    "duration": 15,
    "start_time": "2022-10-19T09:19:45.348Z"
   },
   {
    "duration": 49,
    "start_time": "2022-10-19T09:19:45.365Z"
   },
   {
    "duration": 16,
    "start_time": "2022-10-19T09:19:45.416Z"
   },
   {
    "duration": 20,
    "start_time": "2022-10-19T09:19:45.434Z"
   },
   {
    "duration": 261,
    "start_time": "2022-10-19T09:19:45.456Z"
   },
   {
    "duration": 254,
    "start_time": "2022-10-19T09:19:45.719Z"
   },
   {
    "duration": 10,
    "start_time": "2022-10-19T09:19:45.976Z"
   },
   {
    "duration": 22,
    "start_time": "2022-10-19T09:19:45.987Z"
   },
   {
    "duration": 13,
    "start_time": "2022-10-19T09:19:46.011Z"
   },
   {
    "duration": 13,
    "start_time": "2022-10-19T09:19:46.026Z"
   },
   {
    "duration": 47,
    "start_time": "2022-10-19T09:19:46.041Z"
   },
   {
    "duration": 17,
    "start_time": "2022-10-19T09:19:46.090Z"
   },
   {
    "duration": 21,
    "start_time": "2022-10-19T09:19:46.109Z"
   },
   {
    "duration": 11,
    "start_time": "2022-10-19T09:19:46.132Z"
   },
   {
    "duration": 14,
    "start_time": "2022-10-19T09:19:46.145Z"
   },
   {
    "duration": 19,
    "start_time": "2022-10-19T09:19:46.161Z"
   },
   {
    "duration": 45,
    "start_time": "2022-10-19T09:19:46.182Z"
   },
   {
    "duration": 5,
    "start_time": "2022-10-19T09:19:46.230Z"
   },
   {
    "duration": 38,
    "start_time": "2022-10-19T09:19:46.236Z"
   },
   {
    "duration": 9,
    "start_time": "2022-10-19T09:27:08.692Z"
   },
   {
    "duration": 15,
    "start_time": "2022-10-19T09:35:04.571Z"
   },
   {
    "duration": 11,
    "start_time": "2022-10-19T09:44:17.369Z"
   },
   {
    "duration": 18,
    "start_time": "2022-10-19T09:45:52.388Z"
   },
   {
    "duration": 5,
    "start_time": "2022-10-19T09:49:15.772Z"
   },
   {
    "duration": 122,
    "start_time": "2022-10-19T10:05:06.146Z"
   },
   {
    "duration": 10,
    "start_time": "2022-10-19T10:05:44.939Z"
   },
   {
    "duration": 75,
    "start_time": "2022-10-19T10:05:53.165Z"
   },
   {
    "duration": 4,
    "start_time": "2022-10-19T10:05:57.038Z"
   },
   {
    "duration": 6,
    "start_time": "2022-10-19T10:07:40.905Z"
   },
   {
    "duration": 11,
    "start_time": "2022-10-19T10:08:03.853Z"
   },
   {
    "duration": 12,
    "start_time": "2022-10-19T10:08:31.778Z"
   },
   {
    "duration": 5,
    "start_time": "2022-10-19T10:09:19.854Z"
   },
   {
    "duration": 5,
    "start_time": "2022-10-19T10:09:28.460Z"
   },
   {
    "duration": 5,
    "start_time": "2022-10-19T10:10:33.632Z"
   },
   {
    "duration": 9,
    "start_time": "2022-10-19T10:10:37.409Z"
   },
   {
    "duration": 5,
    "start_time": "2022-10-19T10:16:26.846Z"
   },
   {
    "duration": 4,
    "start_time": "2022-10-19T10:16:33.098Z"
   },
   {
    "duration": 1290,
    "start_time": "2022-10-19T10:16:56.904Z"
   },
   {
    "duration": 250,
    "start_time": "2022-10-19T10:16:58.196Z"
   },
   {
    "duration": 13,
    "start_time": "2022-10-19T10:16:58.447Z"
   },
   {
    "duration": 9,
    "start_time": "2022-10-19T10:16:58.462Z"
   },
   {
    "duration": 9,
    "start_time": "2022-10-19T10:16:58.473Z"
   },
   {
    "duration": 78,
    "start_time": "2022-10-19T10:16:58.484Z"
   },
   {
    "duration": 61,
    "start_time": "2022-10-19T10:16:58.564Z"
   },
   {
    "duration": 53,
    "start_time": "2022-10-19T10:16:58.627Z"
   },
   {
    "duration": 109,
    "start_time": "2022-10-19T10:16:58.682Z"
   },
   {
    "duration": 28,
    "start_time": "2022-10-19T10:16:58.793Z"
   },
   {
    "duration": 44,
    "start_time": "2022-10-19T10:16:58.823Z"
   },
   {
    "duration": 25,
    "start_time": "2022-10-19T10:16:58.868Z"
   },
   {
    "duration": 13,
    "start_time": "2022-10-19T10:16:58.894Z"
   },
   {
    "duration": 26,
    "start_time": "2022-10-19T10:16:58.909Z"
   },
   {
    "duration": 18,
    "start_time": "2022-10-19T10:16:58.937Z"
   },
   {
    "duration": 13,
    "start_time": "2022-10-19T10:16:58.957Z"
   },
   {
    "duration": 35,
    "start_time": "2022-10-19T10:16:58.972Z"
   },
   {
    "duration": 29,
    "start_time": "2022-10-19T10:16:59.009Z"
   },
   {
    "duration": 83,
    "start_time": "2022-10-19T10:16:59.040Z"
   },
   {
    "duration": 62,
    "start_time": "2022-10-19T10:16:59.124Z"
   },
   {
    "duration": 126,
    "start_time": "2022-10-19T10:16:59.187Z"
   },
   {
    "duration": 8,
    "start_time": "2022-10-19T10:16:59.315Z"
   },
   {
    "duration": 16,
    "start_time": "2022-10-19T10:16:59.325Z"
   },
   {
    "duration": 15,
    "start_time": "2022-10-19T10:16:59.343Z"
   },
   {
    "duration": 20,
    "start_time": "2022-10-19T10:16:59.360Z"
   },
   {
    "duration": 34,
    "start_time": "2022-10-19T10:16:59.383Z"
   },
   {
    "duration": 32,
    "start_time": "2022-10-19T10:16:59.419Z"
   },
   {
    "duration": 23,
    "start_time": "2022-10-19T10:16:59.456Z"
   },
   {
    "duration": 59,
    "start_time": "2022-10-19T10:16:59.481Z"
   },
   {
    "duration": 75,
    "start_time": "2022-10-19T10:16:59.542Z"
   },
   {
    "duration": 4,
    "start_time": "2022-10-19T10:16:59.619Z"
   },
   {
    "duration": 396,
    "start_time": "2022-10-19T10:16:59.625Z"
   },
   {
    "duration": 314,
    "start_time": "2022-10-19T10:17:00.023Z"
   },
   {
    "duration": 193,
    "start_time": "2022-10-19T10:17:00.339Z"
   },
   {
    "duration": 303,
    "start_time": "2022-10-19T10:17:00.534Z"
   },
   {
    "duration": 11,
    "start_time": "2022-10-19T10:17:00.840Z"
   },
   {
    "duration": 31,
    "start_time": "2022-10-19T10:17:00.853Z"
   },
   {
    "duration": 16,
    "start_time": "2022-10-19T10:17:00.885Z"
   },
   {
    "duration": 209,
    "start_time": "2022-10-19T10:17:00.905Z"
   },
   {
    "duration": 50,
    "start_time": "2022-10-19T10:17:01.116Z"
   },
   {
    "duration": 13,
    "start_time": "2022-10-19T10:17:01.167Z"
   },
   {
    "duration": 65,
    "start_time": "2022-10-19T10:17:01.182Z"
   },
   {
    "duration": 34,
    "start_time": "2022-10-19T10:17:01.248Z"
   },
   {
    "duration": 218,
    "start_time": "2022-10-19T10:17:01.284Z"
   },
   {
    "duration": 188,
    "start_time": "2022-10-19T10:17:01.505Z"
   },
   {
    "duration": 24,
    "start_time": "2022-10-19T10:17:01.695Z"
   },
   {
    "duration": 35,
    "start_time": "2022-10-19T10:17:01.721Z"
   },
   {
    "duration": 12,
    "start_time": "2022-10-19T10:17:01.758Z"
   },
   {
    "duration": 27,
    "start_time": "2022-10-19T10:17:01.771Z"
   },
   {
    "duration": 33,
    "start_time": "2022-10-19T10:17:01.799Z"
   },
   {
    "duration": 61,
    "start_time": "2022-10-19T10:17:01.834Z"
   },
   {
    "duration": 40,
    "start_time": "2022-10-19T10:17:01.896Z"
   },
   {
    "duration": 38,
    "start_time": "2022-10-19T10:17:01.937Z"
   },
   {
    "duration": 38,
    "start_time": "2022-10-19T10:17:01.976Z"
   },
   {
    "duration": 24,
    "start_time": "2022-10-19T10:17:02.016Z"
   },
   {
    "duration": 25,
    "start_time": "2022-10-19T10:17:02.042Z"
   },
   {
    "duration": 18,
    "start_time": "2022-10-19T10:17:02.069Z"
   },
   {
    "duration": 17,
    "start_time": "2022-10-19T10:17:02.089Z"
   },
   {
    "duration": 10,
    "start_time": "2022-10-19T10:17:02.108Z"
   },
   {
    "duration": 16,
    "start_time": "2022-10-19T10:17:02.119Z"
   },
   {
    "duration": 10,
    "start_time": "2022-10-19T10:17:02.137Z"
   },
   {
    "duration": 19,
    "start_time": "2022-10-19T10:17:02.149Z"
   },
   {
    "duration": 270,
    "start_time": "2022-10-19T10:17:02.169Z"
   },
   {
    "duration": 226,
    "start_time": "2022-10-19T10:17:02.441Z"
   },
   {
    "duration": 9,
    "start_time": "2022-10-19T10:17:02.669Z"
   },
   {
    "duration": 10,
    "start_time": "2022-10-19T10:17:02.679Z"
   },
   {
    "duration": 6,
    "start_time": "2022-10-19T10:17:02.706Z"
   },
   {
    "duration": 16,
    "start_time": "2022-10-19T10:17:02.714Z"
   },
   {
    "duration": 31,
    "start_time": "2022-10-19T10:17:02.732Z"
   },
   {
    "duration": 16,
    "start_time": "2022-10-19T10:17:02.764Z"
   },
   {
    "duration": 30,
    "start_time": "2022-10-19T10:17:02.782Z"
   },
   {
    "duration": 13,
    "start_time": "2022-10-19T10:17:02.815Z"
   },
   {
    "duration": 10,
    "start_time": "2022-10-19T10:17:02.830Z"
   },
   {
    "duration": 13,
    "start_time": "2022-10-19T10:17:02.842Z"
   },
   {
    "duration": 29,
    "start_time": "2022-10-19T10:17:02.857Z"
   },
   {
    "duration": 9,
    "start_time": "2022-10-19T10:17:02.888Z"
   },
   {
    "duration": 33,
    "start_time": "2022-10-19T10:17:02.898Z"
   },
   {
    "duration": 17,
    "start_time": "2022-10-19T10:17:02.932Z"
   },
   {
    "duration": 19,
    "start_time": "2022-10-19T10:17:02.951Z"
   },
   {
    "duration": 9,
    "start_time": "2022-10-19T10:17:02.972Z"
   },
   {
    "duration": 6,
    "start_time": "2022-10-19T10:17:02.982Z"
   },
   {
    "duration": 13,
    "start_time": "2022-10-19T10:17:02.992Z"
   },
   {
    "duration": 14,
    "start_time": "2022-10-19T10:17:03.007Z"
   },
   {
    "duration": 4,
    "start_time": "2022-10-19T10:17:35.264Z"
   },
   {
    "duration": 5,
    "start_time": "2022-10-19T10:18:44.454Z"
   },
   {
    "duration": 5,
    "start_time": "2022-10-19T10:18:52.778Z"
   },
   {
    "duration": 4,
    "start_time": "2022-10-19T10:19:00.253Z"
   },
   {
    "duration": 5,
    "start_time": "2022-10-19T10:24:37.669Z"
   },
   {
    "duration": 5,
    "start_time": "2022-10-19T10:28:22.221Z"
   },
   {
    "duration": 4,
    "start_time": "2022-10-19T10:28:35.596Z"
   },
   {
    "duration": 18,
    "start_time": "2022-10-19T10:48:37.298Z"
   },
   {
    "duration": 12,
    "start_time": "2022-10-19T10:50:01.128Z"
   },
   {
    "duration": 13,
    "start_time": "2022-10-19T10:50:59.147Z"
   },
   {
    "duration": 13,
    "start_time": "2022-10-19T10:52:54.718Z"
   },
   {
    "duration": 6,
    "start_time": "2022-10-19T10:54:11.471Z"
   },
   {
    "duration": 69,
    "start_time": "2022-10-19T10:54:56.129Z"
   },
   {
    "duration": 122,
    "start_time": "2022-10-19T10:55:00.405Z"
   },
   {
    "duration": 6,
    "start_time": "2022-10-19T10:55:10.954Z"
   },
   {
    "duration": 15,
    "start_time": "2022-10-19T10:55:45.509Z"
   },
   {
    "duration": 15,
    "start_time": "2022-10-19T10:55:58.187Z"
   },
   {
    "duration": 17,
    "start_time": "2022-10-19T10:57:09.083Z"
   },
   {
    "duration": 99,
    "start_time": "2022-10-19T10:58:50.660Z"
   },
   {
    "duration": 19,
    "start_time": "2022-10-19T10:58:58.400Z"
   },
   {
    "duration": 10,
    "start_time": "2022-10-19T11:00:14.277Z"
   },
   {
    "duration": 3,
    "start_time": "2022-10-19T11:01:39.535Z"
   },
   {
    "duration": 3,
    "start_time": "2022-10-19T11:01:44.938Z"
   },
   {
    "duration": 11,
    "start_time": "2022-10-19T11:07:23.296Z"
   },
   {
    "duration": 5,
    "start_time": "2022-10-19T11:14:32.545Z"
   },
   {
    "duration": 18,
    "start_time": "2022-10-19T11:15:46.143Z"
   },
   {
    "duration": 5,
    "start_time": "2022-10-19T11:16:11.763Z"
   },
   {
    "duration": 2408,
    "start_time": "2022-10-19T11:20:11.282Z"
   },
   {
    "duration": 1488,
    "start_time": "2022-10-19T11:20:50.394Z"
   },
   {
    "duration": 14,
    "start_time": "2022-10-19T11:22:00.812Z"
   },
   {
    "duration": 3,
    "start_time": "2022-10-19T11:22:06.021Z"
   },
   {
    "duration": 10,
    "start_time": "2022-10-19T11:27:07.848Z"
   },
   {
    "duration": 11,
    "start_time": "2022-10-19T11:29:07.238Z"
   },
   {
    "duration": 11,
    "start_time": "2022-10-19T11:30:28.928Z"
   },
   {
    "duration": 10,
    "start_time": "2022-10-19T11:30:43.542Z"
   },
   {
    "duration": 1025,
    "start_time": "2022-10-19T11:33:12.713Z"
   },
   {
    "duration": 1866,
    "start_time": "2022-10-19T11:35:15.764Z"
   },
   {
    "duration": 3,
    "start_time": "2022-10-19T11:35:37.213Z"
   },
   {
    "duration": 13,
    "start_time": "2022-10-19T11:36:43.575Z"
   },
   {
    "duration": 14,
    "start_time": "2022-10-19T11:37:11.092Z"
   },
   {
    "duration": 7,
    "start_time": "2022-10-19T11:37:19.802Z"
   },
   {
    "duration": 9,
    "start_time": "2022-10-19T11:39:02.267Z"
   },
   {
    "duration": 16,
    "start_time": "2022-10-19T11:42:50.958Z"
   },
   {
    "duration": 15,
    "start_time": "2022-10-19T11:44:35.708Z"
   },
   {
    "duration": 9,
    "start_time": "2022-10-19T11:46:47.048Z"
   },
   {
    "duration": 14,
    "start_time": "2022-10-19T11:47:50.506Z"
   },
   {
    "duration": 1323,
    "start_time": "2022-10-19T11:48:22.414Z"
   },
   {
    "duration": 295,
    "start_time": "2022-10-19T11:48:23.739Z"
   },
   {
    "duration": 14,
    "start_time": "2022-10-19T11:48:24.036Z"
   },
   {
    "duration": 16,
    "start_time": "2022-10-19T11:48:24.053Z"
   },
   {
    "duration": 9,
    "start_time": "2022-10-19T11:48:24.071Z"
   },
   {
    "duration": 92,
    "start_time": "2022-10-19T11:48:24.082Z"
   },
   {
    "duration": 58,
    "start_time": "2022-10-19T11:48:24.176Z"
   },
   {
    "duration": 72,
    "start_time": "2022-10-19T11:48:24.236Z"
   },
   {
    "duration": 95,
    "start_time": "2022-10-19T11:48:24.311Z"
   },
   {
    "duration": 12,
    "start_time": "2022-10-19T11:48:24.409Z"
   },
   {
    "duration": 27,
    "start_time": "2022-10-19T11:48:24.423Z"
   },
   {
    "duration": 54,
    "start_time": "2022-10-19T11:48:24.452Z"
   },
   {
    "duration": 12,
    "start_time": "2022-10-19T11:48:24.509Z"
   },
   {
    "duration": 32,
    "start_time": "2022-10-19T11:48:24.523Z"
   },
   {
    "duration": 26,
    "start_time": "2022-10-19T11:48:24.557Z"
   },
   {
    "duration": 19,
    "start_time": "2022-10-19T11:48:24.606Z"
   },
   {
    "duration": 9,
    "start_time": "2022-10-19T11:48:24.626Z"
   },
   {
    "duration": 30,
    "start_time": "2022-10-19T11:48:24.637Z"
   },
   {
    "duration": 86,
    "start_time": "2022-10-19T11:48:24.669Z"
   },
   {
    "duration": 83,
    "start_time": "2022-10-19T11:48:24.757Z"
   },
   {
    "duration": 138,
    "start_time": "2022-10-19T11:48:24.842Z"
   },
   {
    "duration": 8,
    "start_time": "2022-10-19T11:48:24.983Z"
   },
   {
    "duration": 20,
    "start_time": "2022-10-19T11:48:24.993Z"
   },
   {
    "duration": 21,
    "start_time": "2022-10-19T11:48:25.015Z"
   },
   {
    "duration": 27,
    "start_time": "2022-10-19T11:48:25.038Z"
   },
   {
    "duration": 22,
    "start_time": "2022-10-19T11:48:25.067Z"
   },
   {
    "duration": 36,
    "start_time": "2022-10-19T11:48:25.092Z"
   },
   {
    "duration": 33,
    "start_time": "2022-10-19T11:48:25.132Z"
   },
   {
    "duration": 75,
    "start_time": "2022-10-19T11:48:25.167Z"
   },
   {
    "duration": 122,
    "start_time": "2022-10-19T11:48:25.244Z"
   },
   {
    "duration": 4,
    "start_time": "2022-10-19T11:48:25.368Z"
   },
   {
    "duration": 434,
    "start_time": "2022-10-19T11:48:25.374Z"
   },
   {
    "duration": 351,
    "start_time": "2022-10-19T11:48:25.810Z"
   },
   {
    "duration": 202,
    "start_time": "2022-10-19T11:48:26.163Z"
   },
   {
    "duration": 285,
    "start_time": "2022-10-19T11:48:26.367Z"
   },
   {
    "duration": 11,
    "start_time": "2022-10-19T11:48:26.654Z"
   },
   {
    "duration": 15,
    "start_time": "2022-10-19T11:48:26.667Z"
   },
   {
    "duration": 28,
    "start_time": "2022-10-19T11:48:26.684Z"
   },
   {
    "duration": 189,
    "start_time": "2022-10-19T11:48:26.715Z"
   },
   {
    "duration": 53,
    "start_time": "2022-10-19T11:48:26.907Z"
   },
   {
    "duration": 19,
    "start_time": "2022-10-19T11:48:26.962Z"
   },
   {
    "duration": 37,
    "start_time": "2022-10-19T11:48:26.982Z"
   },
   {
    "duration": 15,
    "start_time": "2022-10-19T11:48:27.021Z"
   },
   {
    "duration": 231,
    "start_time": "2022-10-19T11:48:27.038Z"
   },
   {
    "duration": 290,
    "start_time": "2022-10-19T11:48:27.271Z"
   },
   {
    "duration": 30,
    "start_time": "2022-10-19T11:48:27.563Z"
   },
   {
    "duration": 25,
    "start_time": "2022-10-19T11:48:27.605Z"
   },
   {
    "duration": 13,
    "start_time": "2022-10-19T11:48:27.632Z"
   },
   {
    "duration": 19,
    "start_time": "2022-10-19T11:48:27.647Z"
   },
   {
    "duration": 10,
    "start_time": "2022-10-19T11:48:27.667Z"
   },
   {
    "duration": 60,
    "start_time": "2022-10-19T11:48:27.679Z"
   },
   {
    "duration": 52,
    "start_time": "2022-10-19T11:48:27.741Z"
   },
   {
    "duration": 37,
    "start_time": "2022-10-19T11:48:27.805Z"
   },
   {
    "duration": 63,
    "start_time": "2022-10-19T11:48:27.844Z"
   },
   {
    "duration": 35,
    "start_time": "2022-10-19T11:48:27.908Z"
   },
   {
    "duration": 20,
    "start_time": "2022-10-19T11:48:27.945Z"
   },
   {
    "duration": 22,
    "start_time": "2022-10-19T11:48:27.967Z"
   },
   {
    "duration": 14,
    "start_time": "2022-10-19T11:48:28.005Z"
   },
   {
    "duration": 29,
    "start_time": "2022-10-19T11:48:28.020Z"
   },
   {
    "duration": 29,
    "start_time": "2022-10-19T11:48:28.051Z"
   },
   {
    "duration": 29,
    "start_time": "2022-10-19T11:48:28.083Z"
   },
   {
    "duration": 20,
    "start_time": "2022-10-19T11:48:28.114Z"
   },
   {
    "duration": 239,
    "start_time": "2022-10-19T11:48:28.136Z"
   },
   {
    "duration": 314,
    "start_time": "2022-10-19T11:48:28.377Z"
   },
   {
    "duration": 17,
    "start_time": "2022-10-19T11:48:28.693Z"
   },
   {
    "duration": 11,
    "start_time": "2022-10-19T11:48:28.712Z"
   },
   {
    "duration": 6,
    "start_time": "2022-10-19T11:48:28.725Z"
   },
   {
    "duration": 7,
    "start_time": "2022-10-19T11:48:28.733Z"
   },
   {
    "duration": 14,
    "start_time": "2022-10-19T11:48:28.742Z"
   },
   {
    "duration": 15,
    "start_time": "2022-10-19T11:48:28.758Z"
   },
   {
    "duration": 52,
    "start_time": "2022-10-19T11:48:28.775Z"
   },
   {
    "duration": 12,
    "start_time": "2022-10-19T11:48:28.829Z"
   },
   {
    "duration": 11,
    "start_time": "2022-10-19T11:48:28.843Z"
   },
   {
    "duration": 11,
    "start_time": "2022-10-19T11:48:28.856Z"
   },
   {
    "duration": 53,
    "start_time": "2022-10-19T11:48:28.869Z"
   },
   {
    "duration": 4,
    "start_time": "2022-10-19T11:48:28.924Z"
   },
   {
    "duration": 27,
    "start_time": "2022-10-19T11:48:28.929Z"
   },
   {
    "duration": 22,
    "start_time": "2022-10-19T11:48:28.958Z"
   },
   {
    "duration": 32,
    "start_time": "2022-10-19T11:48:28.982Z"
   },
   {
    "duration": 11,
    "start_time": "2022-10-19T11:48:29.016Z"
   },
   {
    "duration": 43,
    "start_time": "2022-10-19T11:48:29.029Z"
   },
   {
    "duration": 26,
    "start_time": "2022-10-19T11:48:29.079Z"
   },
   {
    "duration": 9,
    "start_time": "2022-10-19T11:48:29.107Z"
   },
   {
    "duration": 16,
    "start_time": "2022-10-19T11:48:29.119Z"
   },
   {
    "duration": 4,
    "start_time": "2022-10-19T11:48:29.137Z"
   },
   {
    "duration": 136,
    "start_time": "2022-10-19T11:48:29.143Z"
   },
   {
    "duration": 0,
    "start_time": "2022-10-19T11:48:29.281Z"
   },
   {
    "duration": 0,
    "start_time": "2022-10-19T11:48:29.282Z"
   },
   {
    "duration": 0,
    "start_time": "2022-10-19T11:48:29.284Z"
   },
   {
    "duration": 8,
    "start_time": "2022-10-19T11:49:18.600Z"
   },
   {
    "duration": 4,
    "start_time": "2022-10-19T12:00:25.285Z"
   },
   {
    "duration": 9,
    "start_time": "2022-10-19T12:00:30.176Z"
   },
   {
    "duration": 1268,
    "start_time": "2022-10-19T12:01:00.061Z"
   },
   {
    "duration": 244,
    "start_time": "2022-10-19T12:01:01.331Z"
   },
   {
    "duration": 13,
    "start_time": "2022-10-19T12:01:01.576Z"
   },
   {
    "duration": 28,
    "start_time": "2022-10-19T12:01:01.591Z"
   },
   {
    "duration": 35,
    "start_time": "2022-10-19T12:01:01.621Z"
   },
   {
    "duration": 85,
    "start_time": "2022-10-19T12:01:01.658Z"
   },
   {
    "duration": 34,
    "start_time": "2022-10-19T12:01:01.744Z"
   },
   {
    "duration": 62,
    "start_time": "2022-10-19T12:01:01.780Z"
   },
   {
    "duration": 85,
    "start_time": "2022-10-19T12:01:01.843Z"
   },
   {
    "duration": 10,
    "start_time": "2022-10-19T12:01:01.930Z"
   },
   {
    "duration": 64,
    "start_time": "2022-10-19T12:01:01.942Z"
   },
   {
    "duration": 26,
    "start_time": "2022-10-19T12:01:02.008Z"
   },
   {
    "duration": 10,
    "start_time": "2022-10-19T12:01:02.035Z"
   },
   {
    "duration": 32,
    "start_time": "2022-10-19T12:01:02.047Z"
   },
   {
    "duration": 31,
    "start_time": "2022-10-19T12:01:02.080Z"
   },
   {
    "duration": 12,
    "start_time": "2022-10-19T12:01:02.112Z"
   },
   {
    "duration": 10,
    "start_time": "2022-10-19T12:01:02.126Z"
   },
   {
    "duration": 29,
    "start_time": "2022-10-19T12:01:02.138Z"
   },
   {
    "duration": 79,
    "start_time": "2022-10-19T12:01:02.169Z"
   },
   {
    "duration": 72,
    "start_time": "2022-10-19T12:01:02.251Z"
   },
   {
    "duration": 114,
    "start_time": "2022-10-19T12:01:02.325Z"
   },
   {
    "duration": 6,
    "start_time": "2022-10-19T12:01:02.440Z"
   },
   {
    "duration": 8,
    "start_time": "2022-10-19T12:01:02.447Z"
   },
   {
    "duration": 20,
    "start_time": "2022-10-19T12:01:02.457Z"
   },
   {
    "duration": 41,
    "start_time": "2022-10-19T12:01:02.479Z"
   },
   {
    "duration": 31,
    "start_time": "2022-10-19T12:01:02.522Z"
   },
   {
    "duration": 41,
    "start_time": "2022-10-19T12:01:02.554Z"
   },
   {
    "duration": 38,
    "start_time": "2022-10-19T12:01:02.601Z"
   },
   {
    "duration": 63,
    "start_time": "2022-10-19T12:01:02.642Z"
   },
   {
    "duration": 72,
    "start_time": "2022-10-19T12:01:02.708Z"
   },
   {
    "duration": 3,
    "start_time": "2022-10-19T12:01:02.782Z"
   },
   {
    "duration": 427,
    "start_time": "2022-10-19T12:01:02.787Z"
   },
   {
    "duration": 280,
    "start_time": "2022-10-19T12:01:03.215Z"
   },
   {
    "duration": 178,
    "start_time": "2022-10-19T12:01:03.496Z"
   },
   {
    "duration": 275,
    "start_time": "2022-10-19T12:01:03.675Z"
   },
   {
    "duration": 11,
    "start_time": "2022-10-19T12:01:03.951Z"
   },
   {
    "duration": 18,
    "start_time": "2022-10-19T12:01:03.964Z"
   },
   {
    "duration": 31,
    "start_time": "2022-10-19T12:01:03.984Z"
   },
   {
    "duration": 163,
    "start_time": "2022-10-19T12:01:04.016Z"
   },
   {
    "duration": 59,
    "start_time": "2022-10-19T12:01:04.180Z"
   },
   {
    "duration": 15,
    "start_time": "2022-10-19T12:01:04.241Z"
   },
   {
    "duration": 26,
    "start_time": "2022-10-19T12:01:04.258Z"
   },
   {
    "duration": 31,
    "start_time": "2022-10-19T12:01:04.286Z"
   },
   {
    "duration": 226,
    "start_time": "2022-10-19T12:01:04.319Z"
   },
   {
    "duration": 173,
    "start_time": "2022-10-19T12:01:04.547Z"
   },
   {
    "duration": 21,
    "start_time": "2022-10-19T12:01:04.722Z"
   },
   {
    "duration": 15,
    "start_time": "2022-10-19T12:01:04.744Z"
   },
   {
    "duration": 5,
    "start_time": "2022-10-19T12:01:04.760Z"
   },
   {
    "duration": 40,
    "start_time": "2022-10-19T12:01:04.766Z"
   },
   {
    "duration": 6,
    "start_time": "2022-10-19T12:01:04.808Z"
   },
   {
    "duration": 47,
    "start_time": "2022-10-19T12:01:04.815Z"
   },
   {
    "duration": 65,
    "start_time": "2022-10-19T12:01:04.864Z"
   },
   {
    "duration": 38,
    "start_time": "2022-10-19T12:01:04.931Z"
   },
   {
    "duration": 48,
    "start_time": "2022-10-19T12:01:04.970Z"
   },
   {
    "duration": 22,
    "start_time": "2022-10-19T12:01:05.020Z"
   },
   {
    "duration": 15,
    "start_time": "2022-10-19T12:01:05.044Z"
   },
   {
    "duration": 15,
    "start_time": "2022-10-19T12:01:05.061Z"
   },
   {
    "duration": 33,
    "start_time": "2022-10-19T12:01:05.077Z"
   },
   {
    "duration": 13,
    "start_time": "2022-10-19T12:01:05.111Z"
   },
   {
    "duration": 22,
    "start_time": "2022-10-19T12:01:05.126Z"
   },
   {
    "duration": 14,
    "start_time": "2022-10-19T12:01:05.150Z"
   },
   {
    "duration": 57,
    "start_time": "2022-10-19T12:01:05.166Z"
   },
   {
    "duration": 262,
    "start_time": "2022-10-19T12:01:05.225Z"
   },
   {
    "duration": 222,
    "start_time": "2022-10-19T12:01:05.489Z"
   },
   {
    "duration": 8,
    "start_time": "2022-10-19T12:01:05.713Z"
   },
   {
    "duration": 10,
    "start_time": "2022-10-19T12:01:05.723Z"
   },
   {
    "duration": 9,
    "start_time": "2022-10-19T12:01:05.735Z"
   },
   {
    "duration": 8,
    "start_time": "2022-10-19T12:01:05.746Z"
   },
   {
    "duration": 21,
    "start_time": "2022-10-19T12:01:05.755Z"
   },
   {
    "duration": 29,
    "start_time": "2022-10-19T12:01:05.778Z"
   },
   {
    "duration": 19,
    "start_time": "2022-10-19T12:01:05.809Z"
   },
   {
    "duration": 9,
    "start_time": "2022-10-19T12:01:05.829Z"
   },
   {
    "duration": 7,
    "start_time": "2022-10-19T12:01:05.840Z"
   },
   {
    "duration": 10,
    "start_time": "2022-10-19T12:01:05.849Z"
   },
   {
    "duration": 45,
    "start_time": "2022-10-19T12:01:05.861Z"
   },
   {
    "duration": 7,
    "start_time": "2022-10-19T12:01:05.908Z"
   },
   {
    "duration": 26,
    "start_time": "2022-10-19T12:01:05.917Z"
   },
   {
    "duration": 18,
    "start_time": "2022-10-19T12:01:05.944Z"
   },
   {
    "duration": 14,
    "start_time": "2022-10-19T12:01:05.964Z"
   },
   {
    "duration": 37,
    "start_time": "2022-10-19T12:01:05.980Z"
   },
   {
    "duration": 26,
    "start_time": "2022-10-19T12:01:06.018Z"
   },
   {
    "duration": 22,
    "start_time": "2022-10-19T12:01:06.052Z"
   },
   {
    "duration": 29,
    "start_time": "2022-10-19T12:01:06.077Z"
   },
   {
    "duration": 11,
    "start_time": "2022-10-19T12:01:06.108Z"
   },
   {
    "duration": 12,
    "start_time": "2022-10-19T12:01:06.122Z"
   },
   {
    "duration": 5,
    "start_time": "2022-10-19T12:01:06.135Z"
   },
   {
    "duration": 166,
    "start_time": "2022-10-19T12:01:06.142Z"
   },
   {
    "duration": 0,
    "start_time": "2022-10-19T12:01:06.310Z"
   },
   {
    "duration": 0,
    "start_time": "2022-10-19T12:01:06.311Z"
   },
   {
    "duration": 0,
    "start_time": "2022-10-19T12:01:06.312Z"
   },
   {
    "duration": 8,
    "start_time": "2022-10-19T12:01:50.543Z"
   },
   {
    "duration": 9,
    "start_time": "2022-10-19T12:05:48.661Z"
   },
   {
    "duration": 7,
    "start_time": "2022-10-19T12:05:56.039Z"
   },
   {
    "duration": 1186,
    "start_time": "2022-10-19T12:06:28.180Z"
   },
   {
    "duration": 236,
    "start_time": "2022-10-19T12:06:29.369Z"
   },
   {
    "duration": 12,
    "start_time": "2022-10-19T12:06:29.607Z"
   },
   {
    "duration": 9,
    "start_time": "2022-10-19T12:06:29.622Z"
   },
   {
    "duration": 11,
    "start_time": "2022-10-19T12:06:29.632Z"
   },
   {
    "duration": 75,
    "start_time": "2022-10-19T12:06:29.644Z"
   },
   {
    "duration": 50,
    "start_time": "2022-10-19T12:06:29.720Z"
   },
   {
    "duration": 61,
    "start_time": "2022-10-19T12:06:29.771Z"
   },
   {
    "duration": 73,
    "start_time": "2022-10-19T12:06:29.833Z"
   },
   {
    "duration": 10,
    "start_time": "2022-10-19T12:06:29.909Z"
   },
   {
    "duration": 28,
    "start_time": "2022-10-19T12:06:29.921Z"
   },
   {
    "duration": 25,
    "start_time": "2022-10-19T12:06:29.951Z"
   },
   {
    "duration": 35,
    "start_time": "2022-10-19T12:06:29.978Z"
   },
   {
    "duration": 31,
    "start_time": "2022-10-19T12:06:30.015Z"
   },
   {
    "duration": 16,
    "start_time": "2022-10-19T12:06:30.048Z"
   },
   {
    "duration": 10,
    "start_time": "2022-10-19T12:06:30.066Z"
   },
   {
    "duration": 31,
    "start_time": "2022-10-19T12:06:30.077Z"
   },
   {
    "duration": 32,
    "start_time": "2022-10-19T12:06:30.109Z"
   },
   {
    "duration": 75,
    "start_time": "2022-10-19T12:06:30.143Z"
   },
   {
    "duration": 57,
    "start_time": "2022-10-19T12:06:30.219Z"
   },
   {
    "duration": 137,
    "start_time": "2022-10-19T12:06:30.277Z"
   },
   {
    "duration": 6,
    "start_time": "2022-10-19T12:06:30.416Z"
   },
   {
    "duration": 29,
    "start_time": "2022-10-19T12:06:30.423Z"
   },
   {
    "duration": 36,
    "start_time": "2022-10-19T12:06:30.454Z"
   },
   {
    "duration": 21,
    "start_time": "2022-10-19T12:06:30.492Z"
   },
   {
    "duration": 21,
    "start_time": "2022-10-19T12:06:30.515Z"
   },
   {
    "duration": 48,
    "start_time": "2022-10-19T12:06:30.538Z"
   },
   {
    "duration": 26,
    "start_time": "2022-10-19T12:06:30.590Z"
   },
   {
    "duration": 39,
    "start_time": "2022-10-19T12:06:30.618Z"
   },
   {
    "duration": 81,
    "start_time": "2022-10-19T12:06:30.659Z"
   },
   {
    "duration": 3,
    "start_time": "2022-10-19T12:06:30.742Z"
   },
   {
    "duration": 381,
    "start_time": "2022-10-19T12:06:30.747Z"
   },
   {
    "duration": 276,
    "start_time": "2022-10-19T12:06:31.129Z"
   },
   {
    "duration": 177,
    "start_time": "2022-10-19T12:06:31.406Z"
   },
   {
    "duration": 288,
    "start_time": "2022-10-19T12:06:31.585Z"
   },
   {
    "duration": 10,
    "start_time": "2022-10-19T12:06:31.876Z"
   },
   {
    "duration": 26,
    "start_time": "2022-10-19T12:06:31.888Z"
   },
   {
    "duration": 13,
    "start_time": "2022-10-19T12:06:31.916Z"
   },
   {
    "duration": 185,
    "start_time": "2022-10-19T12:06:31.932Z"
   },
   {
    "duration": 47,
    "start_time": "2022-10-19T12:06:32.119Z"
   },
   {
    "duration": 13,
    "start_time": "2022-10-19T12:06:32.167Z"
   },
   {
    "duration": 34,
    "start_time": "2022-10-19T12:06:32.181Z"
   },
   {
    "duration": 20,
    "start_time": "2022-10-19T12:06:32.218Z"
   },
   {
    "duration": 235,
    "start_time": "2022-10-19T12:06:32.240Z"
   },
   {
    "duration": 177,
    "start_time": "2022-10-19T12:06:32.476Z"
   },
   {
    "duration": 27,
    "start_time": "2022-10-19T12:06:32.655Z"
   },
   {
    "duration": 26,
    "start_time": "2022-10-19T12:06:32.684Z"
   },
   {
    "duration": 6,
    "start_time": "2022-10-19T12:06:32.712Z"
   },
   {
    "duration": 18,
    "start_time": "2022-10-19T12:06:32.720Z"
   },
   {
    "duration": 6,
    "start_time": "2022-10-19T12:06:32.740Z"
   },
   {
    "duration": 63,
    "start_time": "2022-10-19T12:06:32.748Z"
   },
   {
    "duration": 42,
    "start_time": "2022-10-19T12:06:32.813Z"
   },
   {
    "duration": 71,
    "start_time": "2022-10-19T12:06:32.857Z"
   },
   {
    "duration": 41,
    "start_time": "2022-10-19T12:06:32.930Z"
   },
   {
    "duration": 37,
    "start_time": "2022-10-19T12:06:32.972Z"
   },
   {
    "duration": 11,
    "start_time": "2022-10-19T12:06:33.011Z"
   },
   {
    "duration": 11,
    "start_time": "2022-10-19T12:06:33.023Z"
   },
   {
    "duration": 11,
    "start_time": "2022-10-19T12:06:33.036Z"
   },
   {
    "duration": 16,
    "start_time": "2022-10-19T12:06:33.048Z"
   },
   {
    "duration": 42,
    "start_time": "2022-10-19T12:06:33.065Z"
   },
   {
    "duration": 11,
    "start_time": "2022-10-19T12:06:33.109Z"
   },
   {
    "duration": 18,
    "start_time": "2022-10-19T12:06:33.122Z"
   },
   {
    "duration": 250,
    "start_time": "2022-10-19T12:06:33.142Z"
   },
   {
    "duration": 226,
    "start_time": "2022-10-19T12:06:33.394Z"
   },
   {
    "duration": 11,
    "start_time": "2022-10-19T12:06:33.622Z"
   },
   {
    "duration": 12,
    "start_time": "2022-10-19T12:06:33.635Z"
   },
   {
    "duration": 6,
    "start_time": "2022-10-19T12:06:33.649Z"
   },
   {
    "duration": 5,
    "start_time": "2022-10-19T12:06:33.657Z"
   },
   {
    "duration": 42,
    "start_time": "2022-10-19T12:06:33.664Z"
   },
   {
    "duration": 15,
    "start_time": "2022-10-19T12:06:33.708Z"
   },
   {
    "duration": 22,
    "start_time": "2022-10-19T12:06:33.725Z"
   },
   {
    "duration": 9,
    "start_time": "2022-10-19T12:06:33.749Z"
   },
   {
    "duration": 5,
    "start_time": "2022-10-19T12:06:33.760Z"
   },
   {
    "duration": 7,
    "start_time": "2022-10-19T12:06:33.767Z"
   },
   {
    "duration": 54,
    "start_time": "2022-10-19T12:06:33.776Z"
   },
   {
    "duration": 7,
    "start_time": "2022-10-19T12:06:33.832Z"
   },
   {
    "duration": 26,
    "start_time": "2022-10-19T12:06:33.840Z"
   },
   {
    "duration": 17,
    "start_time": "2022-10-19T12:06:33.868Z"
   },
   {
    "duration": 21,
    "start_time": "2022-10-19T12:06:33.887Z"
   },
   {
    "duration": 8,
    "start_time": "2022-10-19T12:06:33.909Z"
   },
   {
    "duration": 20,
    "start_time": "2022-10-19T12:06:33.919Z"
   },
   {
    "duration": 13,
    "start_time": "2022-10-19T12:06:33.943Z"
   },
   {
    "duration": 8,
    "start_time": "2022-10-19T12:06:33.957Z"
   },
   {
    "duration": 42,
    "start_time": "2022-10-19T12:06:33.966Z"
   },
   {
    "duration": 6,
    "start_time": "2022-10-19T12:06:34.010Z"
   },
   {
    "duration": 100,
    "start_time": "2022-10-19T12:06:34.017Z"
   },
   {
    "duration": 0,
    "start_time": "2022-10-19T12:06:34.119Z"
   },
   {
    "duration": 0,
    "start_time": "2022-10-19T12:06:34.121Z"
   },
   {
    "duration": 0,
    "start_time": "2022-10-19T12:06:34.122Z"
   },
   {
    "duration": 10,
    "start_time": "2022-10-19T12:10:03.880Z"
   },
   {
    "duration": 14,
    "start_time": "2022-10-19T12:11:20.371Z"
   },
   {
    "duration": 6,
    "start_time": "2022-10-19T12:11:23.861Z"
   },
   {
    "duration": 6,
    "start_time": "2022-10-19T12:11:26.519Z"
   },
   {
    "duration": 5,
    "start_time": "2022-10-19T12:11:30.541Z"
   },
   {
    "duration": 5,
    "start_time": "2022-10-19T12:15:24.123Z"
   },
   {
    "duration": 140,
    "start_time": "2022-10-19T12:15:57.509Z"
   },
   {
    "duration": 1021,
    "start_time": "2022-10-19T12:17:25.667Z"
   },
   {
    "duration": 8,
    "start_time": "2022-10-19T12:18:00.731Z"
   },
   {
    "duration": 12,
    "start_time": "2022-10-19T12:18:17.392Z"
   },
   {
    "duration": 12,
    "start_time": "2022-10-19T12:21:47.224Z"
   },
   {
    "duration": 10,
    "start_time": "2022-10-19T12:22:04.698Z"
   },
   {
    "duration": 12,
    "start_time": "2022-10-19T12:22:46.113Z"
   },
   {
    "duration": 11,
    "start_time": "2022-10-19T12:23:09.203Z"
   },
   {
    "duration": 12,
    "start_time": "2022-10-19T12:23:32.531Z"
   },
   {
    "duration": 6,
    "start_time": "2022-10-19T12:38:34.304Z"
   },
   {
    "duration": 16,
    "start_time": "2022-10-19T12:39:28.551Z"
   },
   {
    "duration": 9,
    "start_time": "2022-10-19T12:40:16.353Z"
   },
   {
    "duration": 21,
    "start_time": "2022-10-19T12:40:20.643Z"
   },
   {
    "duration": 12,
    "start_time": "2022-10-19T12:40:39.343Z"
   },
   {
    "duration": 55,
    "start_time": "2022-10-19T12:40:42.501Z"
   },
   {
    "duration": 39,
    "start_time": "2022-10-19T12:42:09.336Z"
   },
   {
    "duration": 41,
    "start_time": "2022-10-19T12:42:28.825Z"
   },
   {
    "duration": 6,
    "start_time": "2022-10-19T12:43:08.542Z"
   },
   {
    "duration": 56,
    "start_time": "2022-10-19T12:43:11.654Z"
   },
   {
    "duration": 50,
    "start_time": "2022-10-19T12:43:15.823Z"
   },
   {
    "duration": 17,
    "start_time": "2022-10-19T13:07:16.592Z"
   },
   {
    "duration": 15,
    "start_time": "2022-10-19T13:07:24.714Z"
   },
   {
    "duration": 7,
    "start_time": "2022-10-19T13:07:29.204Z"
   },
   {
    "duration": 7,
    "start_time": "2022-10-19T13:07:39.146Z"
   },
   {
    "duration": 8,
    "start_time": "2022-10-19T13:07:46.961Z"
   },
   {
    "duration": 897,
    "start_time": "2022-10-19T13:08:11.830Z"
   },
   {
    "duration": 7,
    "start_time": "2022-10-19T13:08:33.544Z"
   },
   {
    "duration": 14,
    "start_time": "2022-10-19T13:08:52.616Z"
   },
   {
    "duration": 1386,
    "start_time": "2022-10-19T13:10:14.120Z"
   },
   {
    "duration": 325,
    "start_time": "2022-10-19T13:10:15.510Z"
   },
   {
    "duration": 15,
    "start_time": "2022-10-19T13:10:15.838Z"
   },
   {
    "duration": 9,
    "start_time": "2022-10-19T13:10:15.857Z"
   },
   {
    "duration": 12,
    "start_time": "2022-10-19T13:10:15.868Z"
   },
   {
    "duration": 68,
    "start_time": "2022-10-19T13:10:15.882Z"
   },
   {
    "duration": 57,
    "start_time": "2022-10-19T13:10:15.951Z"
   },
   {
    "duration": 43,
    "start_time": "2022-10-19T13:10:16.010Z"
   },
   {
    "duration": 125,
    "start_time": "2022-10-19T13:10:16.055Z"
   },
   {
    "duration": 12,
    "start_time": "2022-10-19T13:10:16.181Z"
   },
   {
    "duration": 50,
    "start_time": "2022-10-19T13:10:16.194Z"
   },
   {
    "duration": 46,
    "start_time": "2022-10-19T13:10:16.250Z"
   },
   {
    "duration": 42,
    "start_time": "2022-10-19T13:10:16.298Z"
   },
   {
    "duration": 29,
    "start_time": "2022-10-19T13:10:16.345Z"
   },
   {
    "duration": 25,
    "start_time": "2022-10-19T13:10:16.379Z"
   },
   {
    "duration": 18,
    "start_time": "2022-10-19T13:10:16.407Z"
   },
   {
    "duration": 20,
    "start_time": "2022-10-19T13:10:16.427Z"
   },
   {
    "duration": 46,
    "start_time": "2022-10-19T13:10:16.450Z"
   },
   {
    "duration": 113,
    "start_time": "2022-10-19T13:10:16.498Z"
   },
   {
    "duration": 99,
    "start_time": "2022-10-19T13:10:16.613Z"
   },
   {
    "duration": 194,
    "start_time": "2022-10-19T13:10:16.714Z"
   },
   {
    "duration": 8,
    "start_time": "2022-10-19T13:10:16.910Z"
   },
   {
    "duration": 13,
    "start_time": "2022-10-19T13:10:16.920Z"
   },
   {
    "duration": 24,
    "start_time": "2022-10-19T13:10:16.935Z"
   },
   {
    "duration": 25,
    "start_time": "2022-10-19T13:10:16.961Z"
   },
   {
    "duration": 29,
    "start_time": "2022-10-19T13:10:16.988Z"
   },
   {
    "duration": 45,
    "start_time": "2022-10-19T13:10:17.019Z"
   },
   {
    "duration": 25,
    "start_time": "2022-10-19T13:10:17.066Z"
   },
   {
    "duration": 56,
    "start_time": "2022-10-19T13:10:17.092Z"
   },
   {
    "duration": 88,
    "start_time": "2022-10-19T13:10:17.149Z"
   },
   {
    "duration": 4,
    "start_time": "2022-10-19T13:10:17.239Z"
   },
   {
    "duration": 519,
    "start_time": "2022-10-19T13:10:17.244Z"
   },
   {
    "duration": 411,
    "start_time": "2022-10-19T13:10:17.765Z"
   },
   {
    "duration": 252,
    "start_time": "2022-10-19T13:10:18.178Z"
   },
   {
    "duration": 330,
    "start_time": "2022-10-19T13:10:18.432Z"
   },
   {
    "duration": 13,
    "start_time": "2022-10-19T13:10:18.764Z"
   },
   {
    "duration": 42,
    "start_time": "2022-10-19T13:10:18.780Z"
   },
   {
    "duration": 52,
    "start_time": "2022-10-19T13:10:18.826Z"
   },
   {
    "duration": 244,
    "start_time": "2022-10-19T13:10:18.880Z"
   },
   {
    "duration": 60,
    "start_time": "2022-10-19T13:10:19.126Z"
   },
   {
    "duration": 22,
    "start_time": "2022-10-19T13:10:19.190Z"
   },
   {
    "duration": 32,
    "start_time": "2022-10-19T13:10:19.214Z"
   },
   {
    "duration": 16,
    "start_time": "2022-10-19T13:10:19.248Z"
   },
   {
    "duration": 263,
    "start_time": "2022-10-19T13:10:19.266Z"
   },
   {
    "duration": 282,
    "start_time": "2022-10-19T13:10:19.531Z"
   },
   {
    "duration": 27,
    "start_time": "2022-10-19T13:10:19.815Z"
   },
   {
    "duration": 20,
    "start_time": "2022-10-19T13:10:19.844Z"
   },
   {
    "duration": 7,
    "start_time": "2022-10-19T13:10:19.867Z"
   },
   {
    "duration": 22,
    "start_time": "2022-10-19T13:10:19.906Z"
   },
   {
    "duration": 7,
    "start_time": "2022-10-19T13:10:19.932Z"
   },
   {
    "duration": 88,
    "start_time": "2022-10-19T13:10:19.941Z"
   },
   {
    "duration": 78,
    "start_time": "2022-10-19T13:10:20.031Z"
   },
   {
    "duration": 60,
    "start_time": "2022-10-19T13:10:20.112Z"
   },
   {
    "duration": 64,
    "start_time": "2022-10-19T13:10:20.174Z"
   },
   {
    "duration": 38,
    "start_time": "2022-10-19T13:10:20.240Z"
   },
   {
    "duration": 28,
    "start_time": "2022-10-19T13:10:20.280Z"
   },
   {
    "duration": 19,
    "start_time": "2022-10-19T13:10:20.310Z"
   },
   {
    "duration": 20,
    "start_time": "2022-10-19T13:10:20.330Z"
   },
   {
    "duration": 31,
    "start_time": "2022-10-19T13:10:20.352Z"
   },
   {
    "duration": 31,
    "start_time": "2022-10-19T13:10:20.385Z"
   },
   {
    "duration": 17,
    "start_time": "2022-10-19T13:10:20.418Z"
   },
   {
    "duration": 42,
    "start_time": "2022-10-19T13:10:20.437Z"
   },
   {
    "duration": 319,
    "start_time": "2022-10-19T13:10:20.481Z"
   },
   {
    "duration": 273,
    "start_time": "2022-10-19T13:10:20.802Z"
   },
   {
    "duration": 9,
    "start_time": "2022-10-19T13:10:21.080Z"
   },
   {
    "duration": 18,
    "start_time": "2022-10-19T13:10:21.091Z"
   },
   {
    "duration": 6,
    "start_time": "2022-10-19T13:10:21.111Z"
   },
   {
    "duration": 11,
    "start_time": "2022-10-19T13:10:21.121Z"
   },
   {
    "duration": 11,
    "start_time": "2022-10-19T13:10:21.134Z"
   },
   {
    "duration": 18,
    "start_time": "2022-10-19T13:10:21.146Z"
   },
   {
    "duration": 42,
    "start_time": "2022-10-19T13:10:21.165Z"
   },
   {
    "duration": 12,
    "start_time": "2022-10-19T13:10:21.210Z"
   },
   {
    "duration": 7,
    "start_time": "2022-10-19T13:10:21.224Z"
   },
   {
    "duration": 16,
    "start_time": "2022-10-19T13:10:21.233Z"
   },
   {
    "duration": 31,
    "start_time": "2022-10-19T13:10:21.250Z"
   },
   {
    "duration": 23,
    "start_time": "2022-10-19T13:10:21.283Z"
   },
   {
    "duration": 34,
    "start_time": "2022-10-19T13:10:21.308Z"
   },
   {
    "duration": 28,
    "start_time": "2022-10-19T13:10:21.344Z"
   },
   {
    "duration": 42,
    "start_time": "2022-10-19T13:10:21.374Z"
   },
   {
    "duration": 12,
    "start_time": "2022-10-19T13:10:21.418Z"
   },
   {
    "duration": 11,
    "start_time": "2022-10-19T13:10:21.432Z"
   },
   {
    "duration": 9,
    "start_time": "2022-10-19T13:10:21.446Z"
   },
   {
    "duration": 187,
    "start_time": "2022-10-19T13:10:21.457Z"
   },
   {
    "duration": 0,
    "start_time": "2022-10-19T13:10:21.646Z"
   },
   {
    "duration": 0,
    "start_time": "2022-10-19T13:10:21.647Z"
   },
   {
    "duration": 0,
    "start_time": "2022-10-19T13:10:21.648Z"
   },
   {
    "duration": 0,
    "start_time": "2022-10-19T13:10:21.649Z"
   },
   {
    "duration": 0,
    "start_time": "2022-10-19T13:10:21.650Z"
   },
   {
    "duration": 0,
    "start_time": "2022-10-19T13:10:21.651Z"
   },
   {
    "duration": 0,
    "start_time": "2022-10-19T13:10:21.652Z"
   },
   {
    "duration": 9,
    "start_time": "2022-10-19T13:13:43.060Z"
   },
   {
    "duration": 1566,
    "start_time": "2022-10-19T13:14:54.668Z"
   },
   {
    "duration": 265,
    "start_time": "2022-10-19T13:14:56.237Z"
   },
   {
    "duration": 16,
    "start_time": "2022-10-19T13:14:56.506Z"
   },
   {
    "duration": 11,
    "start_time": "2022-10-19T13:14:56.525Z"
   },
   {
    "duration": 16,
    "start_time": "2022-10-19T13:14:56.538Z"
   },
   {
    "duration": 80,
    "start_time": "2022-10-19T13:14:56.556Z"
   },
   {
    "duration": 67,
    "start_time": "2022-10-19T13:14:56.638Z"
   },
   {
    "duration": 57,
    "start_time": "2022-10-19T13:14:56.707Z"
   },
   {
    "duration": 81,
    "start_time": "2022-10-19T13:14:56.767Z"
   },
   {
    "duration": 17,
    "start_time": "2022-10-19T13:14:56.853Z"
   },
   {
    "duration": 52,
    "start_time": "2022-10-19T13:14:56.872Z"
   },
   {
    "duration": 43,
    "start_time": "2022-10-19T13:14:56.926Z"
   },
   {
    "duration": 12,
    "start_time": "2022-10-19T13:14:56.970Z"
   },
   {
    "duration": 48,
    "start_time": "2022-10-19T13:14:56.984Z"
   },
   {
    "duration": 26,
    "start_time": "2022-10-19T13:14:57.034Z"
   },
   {
    "duration": 13,
    "start_time": "2022-10-19T13:14:57.062Z"
   },
   {
    "duration": 9,
    "start_time": "2022-10-19T13:14:57.105Z"
   },
   {
    "duration": 46,
    "start_time": "2022-10-19T13:14:57.116Z"
   },
   {
    "duration": 110,
    "start_time": "2022-10-19T13:14:57.163Z"
   },
   {
    "duration": 77,
    "start_time": "2022-10-19T13:14:57.275Z"
   },
   {
    "duration": 145,
    "start_time": "2022-10-19T13:14:57.353Z"
   },
   {
    "duration": 9,
    "start_time": "2022-10-19T13:14:57.499Z"
   },
   {
    "duration": 23,
    "start_time": "2022-10-19T13:14:57.509Z"
   },
   {
    "duration": 24,
    "start_time": "2022-10-19T13:14:57.533Z"
   },
   {
    "duration": 31,
    "start_time": "2022-10-19T13:14:57.559Z"
   },
   {
    "duration": 69,
    "start_time": "2022-10-19T13:14:57.592Z"
   },
   {
    "duration": 73,
    "start_time": "2022-10-19T13:14:57.663Z"
   },
   {
    "duration": 56,
    "start_time": "2022-10-19T13:14:57.741Z"
   },
   {
    "duration": 74,
    "start_time": "2022-10-19T13:14:57.800Z"
   },
   {
    "duration": 105,
    "start_time": "2022-10-19T13:14:57.876Z"
   },
   {
    "duration": 4,
    "start_time": "2022-10-19T13:14:57.984Z"
   },
   {
    "duration": 571,
    "start_time": "2022-10-19T13:14:57.990Z"
   },
   {
    "duration": 441,
    "start_time": "2022-10-19T13:14:58.565Z"
   },
   {
    "duration": 228,
    "start_time": "2022-10-19T13:14:59.008Z"
   },
   {
    "duration": 304,
    "start_time": "2022-10-19T13:14:59.238Z"
   },
   {
    "duration": 16,
    "start_time": "2022-10-19T13:14:59.544Z"
   },
   {
    "duration": 34,
    "start_time": "2022-10-19T13:14:59.562Z"
   },
   {
    "duration": 13,
    "start_time": "2022-10-19T13:14:59.598Z"
   },
   {
    "duration": 198,
    "start_time": "2022-10-19T13:14:59.613Z"
   },
   {
    "duration": 68,
    "start_time": "2022-10-19T13:14:59.812Z"
   },
   {
    "duration": 29,
    "start_time": "2022-10-19T13:14:59.882Z"
   },
   {
    "duration": 27,
    "start_time": "2022-10-19T13:14:59.913Z"
   },
   {
    "duration": 19,
    "start_time": "2022-10-19T13:14:59.942Z"
   },
   {
    "duration": 243,
    "start_time": "2022-10-19T13:14:59.964Z"
   },
   {
    "duration": 203,
    "start_time": "2022-10-19T13:15:00.209Z"
   },
   {
    "duration": 27,
    "start_time": "2022-10-19T13:15:00.414Z"
   },
   {
    "duration": 55,
    "start_time": "2022-10-19T13:15:00.443Z"
   },
   {
    "duration": 23,
    "start_time": "2022-10-19T13:15:00.503Z"
   },
   {
    "duration": 41,
    "start_time": "2022-10-19T13:15:00.528Z"
   },
   {
    "duration": 27,
    "start_time": "2022-10-19T13:15:00.573Z"
   },
   {
    "duration": 111,
    "start_time": "2022-10-19T13:15:00.603Z"
   },
   {
    "duration": 58,
    "start_time": "2022-10-19T13:15:00.716Z"
   },
   {
    "duration": 75,
    "start_time": "2022-10-19T13:15:00.776Z"
   },
   {
    "duration": 59,
    "start_time": "2022-10-19T13:15:00.853Z"
   },
   {
    "duration": 36,
    "start_time": "2022-10-19T13:15:00.914Z"
   },
   {
    "duration": 16,
    "start_time": "2022-10-19T13:15:00.952Z"
   },
   {
    "duration": 117,
    "start_time": "2022-10-19T13:15:00.970Z"
   },
   {
    "duration": 13,
    "start_time": "2022-10-19T13:15:01.093Z"
   },
   {
    "duration": 45,
    "start_time": "2022-10-19T13:15:01.108Z"
   },
   {
    "duration": 25,
    "start_time": "2022-10-19T13:15:01.155Z"
   },
   {
    "duration": 21,
    "start_time": "2022-10-19T13:15:01.182Z"
   },
   {
    "duration": 51,
    "start_time": "2022-10-19T13:15:01.205Z"
   },
   {
    "duration": 295,
    "start_time": "2022-10-19T13:15:01.258Z"
   },
   {
    "duration": 266,
    "start_time": "2022-10-19T13:15:01.555Z"
   },
   {
    "duration": 12,
    "start_time": "2022-10-19T13:15:01.825Z"
   },
   {
    "duration": 62,
    "start_time": "2022-10-19T13:15:01.839Z"
   },
   {
    "duration": 33,
    "start_time": "2022-10-19T13:15:01.904Z"
   },
   {
    "duration": 33,
    "start_time": "2022-10-19T13:15:01.939Z"
   },
   {
    "duration": 27,
    "start_time": "2022-10-19T13:15:01.974Z"
   },
   {
    "duration": 18,
    "start_time": "2022-10-19T13:15:02.003Z"
   },
   {
    "duration": 26,
    "start_time": "2022-10-19T13:15:02.023Z"
   },
   {
    "duration": 33,
    "start_time": "2022-10-19T13:15:02.051Z"
   },
   {
    "duration": 55,
    "start_time": "2022-10-19T13:15:02.086Z"
   },
   {
    "duration": 39,
    "start_time": "2022-10-19T13:15:02.144Z"
   },
   {
    "duration": 65,
    "start_time": "2022-10-19T13:15:02.184Z"
   },
   {
    "duration": 7,
    "start_time": "2022-10-19T13:15:02.252Z"
   },
   {
    "duration": 39,
    "start_time": "2022-10-19T13:15:02.261Z"
   },
   {
    "duration": 28,
    "start_time": "2022-10-19T13:15:02.302Z"
   },
   {
    "duration": 21,
    "start_time": "2022-10-19T13:15:02.332Z"
   },
   {
    "duration": 10,
    "start_time": "2022-10-19T13:15:02.355Z"
   },
   {
    "duration": 8,
    "start_time": "2022-10-19T13:15:02.367Z"
   },
   {
    "duration": 159,
    "start_time": "2022-10-19T13:15:02.381Z"
   },
   {
    "duration": 0,
    "start_time": "2022-10-19T13:15:02.542Z"
   },
   {
    "duration": 0,
    "start_time": "2022-10-19T13:15:02.544Z"
   },
   {
    "duration": 0,
    "start_time": "2022-10-19T13:15:02.545Z"
   },
   {
    "duration": 0,
    "start_time": "2022-10-19T13:15:02.547Z"
   },
   {
    "duration": 0,
    "start_time": "2022-10-19T13:15:02.548Z"
   },
   {
    "duration": 8,
    "start_time": "2022-10-19T13:15:43.193Z"
   },
   {
    "duration": 45,
    "start_time": "2022-10-19T13:15:45.811Z"
   },
   {
    "duration": 52,
    "start_time": "2022-10-19T13:15:50.178Z"
   },
   {
    "duration": 1449,
    "start_time": "2022-10-19T13:17:01.968Z"
   },
   {
    "duration": 285,
    "start_time": "2022-10-19T13:17:03.421Z"
   },
   {
    "duration": 16,
    "start_time": "2022-10-19T13:17:03.708Z"
   },
   {
    "duration": 11,
    "start_time": "2022-10-19T13:17:03.727Z"
   },
   {
    "duration": 16,
    "start_time": "2022-10-19T13:17:03.740Z"
   },
   {
    "duration": 108,
    "start_time": "2022-10-19T13:17:03.758Z"
   },
   {
    "duration": 58,
    "start_time": "2022-10-19T13:17:03.868Z"
   },
   {
    "duration": 77,
    "start_time": "2022-10-19T13:17:03.929Z"
   },
   {
    "duration": 96,
    "start_time": "2022-10-19T13:17:04.009Z"
   },
   {
    "duration": 15,
    "start_time": "2022-10-19T13:17:04.109Z"
   },
   {
    "duration": 40,
    "start_time": "2022-10-19T13:17:04.126Z"
   },
   {
    "duration": 57,
    "start_time": "2022-10-19T13:17:04.169Z"
   },
   {
    "duration": 18,
    "start_time": "2022-10-19T13:17:04.230Z"
   },
   {
    "duration": 46,
    "start_time": "2022-10-19T13:17:04.250Z"
   },
   {
    "duration": 22,
    "start_time": "2022-10-19T13:17:04.299Z"
   },
   {
    "duration": 17,
    "start_time": "2022-10-19T13:17:04.322Z"
   },
   {
    "duration": 10,
    "start_time": "2022-10-19T13:17:04.341Z"
   },
   {
    "duration": 29,
    "start_time": "2022-10-19T13:17:04.353Z"
   },
   {
    "duration": 68,
    "start_time": "2022-10-19T13:17:04.404Z"
   },
   {
    "duration": 72,
    "start_time": "2022-10-19T13:17:04.474Z"
   },
   {
    "duration": 133,
    "start_time": "2022-10-19T13:17:04.547Z"
   },
   {
    "duration": 9,
    "start_time": "2022-10-19T13:17:04.682Z"
   },
   {
    "duration": 21,
    "start_time": "2022-10-19T13:17:04.695Z"
   },
   {
    "duration": 31,
    "start_time": "2022-10-19T13:17:04.724Z"
   },
   {
    "duration": 15,
    "start_time": "2022-10-19T13:17:04.757Z"
   },
   {
    "duration": 26,
    "start_time": "2022-10-19T13:17:04.773Z"
   },
   {
    "duration": 47,
    "start_time": "2022-10-19T13:17:04.806Z"
   },
   {
    "duration": 53,
    "start_time": "2022-10-19T13:17:04.859Z"
   },
   {
    "duration": 63,
    "start_time": "2022-10-19T13:17:04.915Z"
   },
   {
    "duration": 134,
    "start_time": "2022-10-19T13:17:04.980Z"
   },
   {
    "duration": 5,
    "start_time": "2022-10-19T13:17:05.116Z"
   },
   {
    "duration": 489,
    "start_time": "2022-10-19T13:17:05.123Z"
   },
   {
    "duration": 312,
    "start_time": "2022-10-19T13:17:05.615Z"
   },
   {
    "duration": 201,
    "start_time": "2022-10-19T13:17:05.929Z"
   },
   {
    "duration": 331,
    "start_time": "2022-10-19T13:17:06.132Z"
   },
   {
    "duration": 15,
    "start_time": "2022-10-19T13:17:06.465Z"
   },
   {
    "duration": 28,
    "start_time": "2022-10-19T13:17:06.481Z"
   },
   {
    "duration": 13,
    "start_time": "2022-10-19T13:17:06.513Z"
   },
   {
    "duration": 186,
    "start_time": "2022-10-19T13:17:06.528Z"
   },
   {
    "duration": 69,
    "start_time": "2022-10-19T13:17:06.716Z"
   },
   {
    "duration": 34,
    "start_time": "2022-10-19T13:17:06.787Z"
   },
   {
    "duration": 18,
    "start_time": "2022-10-19T13:17:06.823Z"
   },
   {
    "duration": 23,
    "start_time": "2022-10-19T13:17:06.844Z"
   },
   {
    "duration": 360,
    "start_time": "2022-10-19T13:17:06.869Z"
   },
   {
    "duration": 283,
    "start_time": "2022-10-19T13:17:07.231Z"
   },
   {
    "duration": 29,
    "start_time": "2022-10-19T13:17:07.516Z"
   },
   {
    "duration": 26,
    "start_time": "2022-10-19T13:17:07.548Z"
   },
   {
    "duration": 18,
    "start_time": "2022-10-19T13:17:07.576Z"
   },
   {
    "duration": 32,
    "start_time": "2022-10-19T13:17:07.606Z"
   },
   {
    "duration": 11,
    "start_time": "2022-10-19T13:17:07.642Z"
   },
   {
    "duration": 90,
    "start_time": "2022-10-19T13:17:07.656Z"
   },
   {
    "duration": 73,
    "start_time": "2022-10-19T13:17:07.748Z"
   },
   {
    "duration": 59,
    "start_time": "2022-10-19T13:17:07.824Z"
   },
   {
    "duration": 65,
    "start_time": "2022-10-19T13:17:07.885Z"
   },
   {
    "duration": 44,
    "start_time": "2022-10-19T13:17:07.952Z"
   },
   {
    "duration": 43,
    "start_time": "2022-10-19T13:17:08.005Z"
   },
   {
    "duration": 16,
    "start_time": "2022-10-19T13:17:08.050Z"
   },
   {
    "duration": 13,
    "start_time": "2022-10-19T13:17:08.068Z"
   },
   {
    "duration": 21,
    "start_time": "2022-10-19T13:17:08.087Z"
   },
   {
    "duration": 25,
    "start_time": "2022-10-19T13:17:08.110Z"
   },
   {
    "duration": 13,
    "start_time": "2022-10-19T13:17:08.137Z"
   },
   {
    "duration": 21,
    "start_time": "2022-10-19T13:17:08.152Z"
   },
   {
    "duration": 273,
    "start_time": "2022-10-19T13:17:08.175Z"
   },
   {
    "duration": 243,
    "start_time": "2022-10-19T13:17:08.450Z"
   },
   {
    "duration": 16,
    "start_time": "2022-10-19T13:17:08.695Z"
   },
   {
    "duration": 11,
    "start_time": "2022-10-19T13:17:08.713Z"
   },
   {
    "duration": 6,
    "start_time": "2022-10-19T13:17:08.727Z"
   },
   {
    "duration": 8,
    "start_time": "2022-10-19T13:17:08.735Z"
   },
   {
    "duration": 23,
    "start_time": "2022-10-19T13:17:08.744Z"
   },
   {
    "duration": 48,
    "start_time": "2022-10-19T13:17:08.769Z"
   },
   {
    "duration": 28,
    "start_time": "2022-10-19T13:17:08.820Z"
   },
   {
    "duration": 15,
    "start_time": "2022-10-19T13:17:08.851Z"
   },
   {
    "duration": 9,
    "start_time": "2022-10-19T13:17:08.868Z"
   },
   {
    "duration": 8,
    "start_time": "2022-10-19T13:17:08.904Z"
   },
   {
    "duration": 47,
    "start_time": "2022-10-19T13:17:08.914Z"
   },
   {
    "duration": 7,
    "start_time": "2022-10-19T13:17:08.964Z"
   },
   {
    "duration": 50,
    "start_time": "2022-10-19T13:17:08.973Z"
   },
   {
    "duration": 47,
    "start_time": "2022-10-19T13:17:09.025Z"
   },
   {
    "duration": 22,
    "start_time": "2022-10-19T13:17:09.074Z"
   },
   {
    "duration": 11,
    "start_time": "2022-10-19T13:17:09.105Z"
   },
   {
    "duration": 10,
    "start_time": "2022-10-19T13:17:09.118Z"
   },
   {
    "duration": 88,
    "start_time": "2022-10-19T13:17:09.135Z"
   },
   {
    "duration": 69,
    "start_time": "2022-10-19T13:17:09.225Z"
   },
   {
    "duration": 11,
    "start_time": "2022-10-19T13:17:09.306Z"
   },
   {
    "duration": 12,
    "start_time": "2022-10-19T13:17:09.319Z"
   },
   {
    "duration": 8,
    "start_time": "2022-10-19T13:17:09.333Z"
   },
   {
    "duration": 20,
    "start_time": "2022-10-19T13:17:09.344Z"
   },
   {
    "duration": 1446,
    "start_time": "2022-10-19T13:17:46.380Z"
   },
   {
    "duration": 279,
    "start_time": "2022-10-19T13:17:47.829Z"
   },
   {
    "duration": 16,
    "start_time": "2022-10-19T13:17:48.110Z"
   },
   {
    "duration": 9,
    "start_time": "2022-10-19T13:17:48.129Z"
   },
   {
    "duration": 11,
    "start_time": "2022-10-19T13:17:48.140Z"
   },
   {
    "duration": 89,
    "start_time": "2022-10-19T13:17:48.153Z"
   },
   {
    "duration": 62,
    "start_time": "2022-10-19T13:17:48.244Z"
   },
   {
    "duration": 40,
    "start_time": "2022-10-19T13:17:48.308Z"
   },
   {
    "duration": 85,
    "start_time": "2022-10-19T13:17:48.350Z"
   },
   {
    "duration": 11,
    "start_time": "2022-10-19T13:17:48.438Z"
   },
   {
    "duration": 28,
    "start_time": "2022-10-19T13:17:48.450Z"
   },
   {
    "duration": 50,
    "start_time": "2022-10-19T13:17:48.479Z"
   },
   {
    "duration": 9,
    "start_time": "2022-10-19T13:17:48.530Z"
   },
   {
    "duration": 22,
    "start_time": "2022-10-19T13:17:48.540Z"
   },
   {
    "duration": 21,
    "start_time": "2022-10-19T13:17:48.563Z"
   },
   {
    "duration": 32,
    "start_time": "2022-10-19T13:17:48.586Z"
   },
   {
    "duration": 12,
    "start_time": "2022-10-19T13:17:48.620Z"
   },
   {
    "duration": 36,
    "start_time": "2022-10-19T13:17:48.634Z"
   },
   {
    "duration": 92,
    "start_time": "2022-10-19T13:17:48.671Z"
   },
   {
    "duration": 88,
    "start_time": "2022-10-19T13:17:48.764Z"
   },
   {
    "duration": 143,
    "start_time": "2022-10-19T13:17:48.854Z"
   },
   {
    "duration": 9,
    "start_time": "2022-10-19T13:17:48.998Z"
   },
   {
    "duration": 20,
    "start_time": "2022-10-19T13:17:49.009Z"
   },
   {
    "duration": 27,
    "start_time": "2022-10-19T13:17:49.031Z"
   },
   {
    "duration": 17,
    "start_time": "2022-10-19T13:17:49.059Z"
   },
   {
    "duration": 27,
    "start_time": "2022-10-19T13:17:49.078Z"
   },
   {
    "duration": 44,
    "start_time": "2022-10-19T13:17:49.108Z"
   },
   {
    "duration": 55,
    "start_time": "2022-10-19T13:17:49.158Z"
   },
   {
    "duration": 45,
    "start_time": "2022-10-19T13:17:49.215Z"
   },
   {
    "duration": 88,
    "start_time": "2022-10-19T13:17:49.262Z"
   },
   {
    "duration": 4,
    "start_time": "2022-10-19T13:17:49.351Z"
   },
   {
    "duration": 394,
    "start_time": "2022-10-19T13:17:49.357Z"
   },
   {
    "duration": 356,
    "start_time": "2022-10-19T13:17:49.753Z"
   },
   {
    "duration": 191,
    "start_time": "2022-10-19T13:17:50.111Z"
   },
   {
    "duration": 291,
    "start_time": "2022-10-19T13:17:50.305Z"
   },
   {
    "duration": 18,
    "start_time": "2022-10-19T13:17:50.598Z"
   },
   {
    "duration": 13,
    "start_time": "2022-10-19T13:17:50.618Z"
   },
   {
    "duration": 16,
    "start_time": "2022-10-19T13:17:50.633Z"
   },
   {
    "duration": 210,
    "start_time": "2022-10-19T13:17:50.651Z"
   },
   {
    "duration": 60,
    "start_time": "2022-10-19T13:17:50.863Z"
   },
   {
    "duration": 15,
    "start_time": "2022-10-19T13:17:50.926Z"
   },
   {
    "duration": 22,
    "start_time": "2022-10-19T13:17:50.943Z"
   },
   {
    "duration": 39,
    "start_time": "2022-10-19T13:17:50.967Z"
   },
   {
    "duration": 212,
    "start_time": "2022-10-19T13:17:51.009Z"
   },
   {
    "duration": 186,
    "start_time": "2022-10-19T13:17:51.223Z"
   },
   {
    "duration": 18,
    "start_time": "2022-10-19T13:17:51.411Z"
   },
   {
    "duration": 13,
    "start_time": "2022-10-19T13:17:51.431Z"
   },
   {
    "duration": 6,
    "start_time": "2022-10-19T13:17:51.447Z"
   },
   {
    "duration": 24,
    "start_time": "2022-10-19T13:17:51.454Z"
   },
   {
    "duration": 28,
    "start_time": "2022-10-19T13:17:51.480Z"
   },
   {
    "duration": 49,
    "start_time": "2022-10-19T13:17:51.510Z"
   },
   {
    "duration": 54,
    "start_time": "2022-10-19T13:17:51.560Z"
   },
   {
    "duration": 56,
    "start_time": "2022-10-19T13:17:51.616Z"
   },
   {
    "duration": 64,
    "start_time": "2022-10-19T13:17:51.674Z"
   },
   {
    "duration": 23,
    "start_time": "2022-10-19T13:17:51.740Z"
   },
   {
    "duration": 15,
    "start_time": "2022-10-19T13:17:51.765Z"
   },
   {
    "duration": 37,
    "start_time": "2022-10-19T13:17:51.782Z"
   },
   {
    "duration": 13,
    "start_time": "2022-10-19T13:17:51.822Z"
   },
   {
    "duration": 21,
    "start_time": "2022-10-19T13:17:51.838Z"
   },
   {
    "duration": 20,
    "start_time": "2022-10-19T13:17:51.860Z"
   },
   {
    "duration": 36,
    "start_time": "2022-10-19T13:17:51.882Z"
   },
   {
    "duration": 18,
    "start_time": "2022-10-19T13:17:51.920Z"
   },
   {
    "duration": 253,
    "start_time": "2022-10-19T13:17:51.940Z"
   },
   {
    "duration": 231,
    "start_time": "2022-10-19T13:17:52.196Z"
   },
   {
    "duration": 11,
    "start_time": "2022-10-19T13:17:52.429Z"
   },
   {
    "duration": 9,
    "start_time": "2022-10-19T13:17:52.442Z"
   },
   {
    "duration": 8,
    "start_time": "2022-10-19T13:17:52.454Z"
   },
   {
    "duration": 7,
    "start_time": "2022-10-19T13:17:52.464Z"
   },
   {
    "duration": 39,
    "start_time": "2022-10-19T13:17:52.473Z"
   },
   {
    "duration": 17,
    "start_time": "2022-10-19T13:17:52.514Z"
   },
   {
    "duration": 51,
    "start_time": "2022-10-19T13:17:52.533Z"
   },
   {
    "duration": 11,
    "start_time": "2022-10-19T13:17:52.586Z"
   },
   {
    "duration": 5,
    "start_time": "2022-10-19T13:17:52.606Z"
   },
   {
    "duration": 16,
    "start_time": "2022-10-19T13:17:52.613Z"
   },
   {
    "duration": 40,
    "start_time": "2022-10-19T13:17:52.631Z"
   },
   {
    "duration": 5,
    "start_time": "2022-10-19T13:17:52.673Z"
   },
   {
    "duration": 52,
    "start_time": "2022-10-19T13:17:52.680Z"
   },
   {
    "duration": 27,
    "start_time": "2022-10-19T13:17:52.735Z"
   },
   {
    "duration": 24,
    "start_time": "2022-10-19T13:17:52.765Z"
   },
   {
    "duration": 9,
    "start_time": "2022-10-19T13:17:52.805Z"
   },
   {
    "duration": 14,
    "start_time": "2022-10-19T13:17:52.816Z"
   },
   {
    "duration": 55,
    "start_time": "2022-10-19T13:17:52.836Z"
   },
   {
    "duration": 69,
    "start_time": "2022-10-19T13:17:52.894Z"
   },
   {
    "duration": 6,
    "start_time": "2022-10-19T13:17:52.965Z"
   },
   {
    "duration": 21,
    "start_time": "2022-10-19T13:17:52.973Z"
   },
   {
    "duration": 17,
    "start_time": "2022-10-19T13:17:52.996Z"
   },
   {
    "duration": 16,
    "start_time": "2022-10-19T13:17:53.015Z"
   },
   {
    "duration": 5,
    "start_time": "2022-10-19T13:27:11.185Z"
   },
   {
    "duration": 53,
    "start_time": "2022-10-19T13:29:11.723Z"
   },
   {
    "duration": 1097,
    "start_time": "2022-10-19T14:13:01.348Z"
   },
   {
    "duration": 246,
    "start_time": "2022-10-19T14:13:02.447Z"
   },
   {
    "duration": 74,
    "start_time": "2022-10-19T14:13:02.695Z"
   },
   {
    "duration": 7,
    "start_time": "2022-10-19T14:13:02.771Z"
   },
   {
    "duration": 22,
    "start_time": "2022-10-19T14:13:02.780Z"
   },
   {
    "duration": 95,
    "start_time": "2022-10-19T14:13:02.803Z"
   },
   {
    "duration": 47,
    "start_time": "2022-10-19T14:13:02.899Z"
   },
   {
    "duration": 40,
    "start_time": "2022-10-19T14:13:02.947Z"
   },
   {
    "duration": 67,
    "start_time": "2022-10-19T14:13:03.007Z"
   },
   {
    "duration": 10,
    "start_time": "2022-10-19T14:13:03.077Z"
   },
   {
    "duration": 43,
    "start_time": "2022-10-19T14:13:03.104Z"
   },
   {
    "duration": 23,
    "start_time": "2022-10-19T14:13:03.149Z"
   },
   {
    "duration": 7,
    "start_time": "2022-10-19T14:13:03.173Z"
   },
   {
    "duration": 32,
    "start_time": "2022-10-19T14:13:03.182Z"
   },
   {
    "duration": 21,
    "start_time": "2022-10-19T14:13:03.215Z"
   },
   {
    "duration": 12,
    "start_time": "2022-10-19T14:13:03.238Z"
   },
   {
    "duration": 9,
    "start_time": "2022-10-19T14:13:03.252Z"
   },
   {
    "duration": 44,
    "start_time": "2022-10-19T14:13:03.263Z"
   },
   {
    "duration": 65,
    "start_time": "2022-10-19T14:13:03.308Z"
   },
   {
    "duration": 80,
    "start_time": "2022-10-19T14:13:03.374Z"
   },
   {
    "duration": 114,
    "start_time": "2022-10-19T14:13:03.456Z"
   },
   {
    "duration": 6,
    "start_time": "2022-10-19T14:13:03.571Z"
   },
   {
    "duration": 9,
    "start_time": "2022-10-19T14:13:03.578Z"
   },
   {
    "duration": 36,
    "start_time": "2022-10-19T14:13:03.588Z"
   },
   {
    "duration": 21,
    "start_time": "2022-10-19T14:13:03.626Z"
   },
   {
    "duration": 14,
    "start_time": "2022-10-19T14:13:03.648Z"
   },
   {
    "duration": 28,
    "start_time": "2022-10-19T14:13:03.663Z"
   },
   {
    "duration": 25,
    "start_time": "2022-10-19T14:13:03.716Z"
   },
   {
    "duration": 38,
    "start_time": "2022-10-19T14:13:03.743Z"
   },
   {
    "duration": 81,
    "start_time": "2022-10-19T14:13:03.783Z"
   },
   {
    "duration": 3,
    "start_time": "2022-10-19T14:13:03.866Z"
   },
   {
    "duration": 369,
    "start_time": "2022-10-19T14:13:03.871Z"
   },
   {
    "duration": 295,
    "start_time": "2022-10-19T14:13:04.242Z"
   },
   {
    "duration": 198,
    "start_time": "2022-10-19T14:13:04.539Z"
   },
   {
    "duration": 235,
    "start_time": "2022-10-19T14:13:04.739Z"
   },
   {
    "duration": 11,
    "start_time": "2022-10-19T14:13:04.976Z"
   },
   {
    "duration": 25,
    "start_time": "2022-10-19T14:13:04.988Z"
   },
   {
    "duration": 23,
    "start_time": "2022-10-19T14:13:05.014Z"
   },
   {
    "duration": 234,
    "start_time": "2022-10-19T14:13:05.039Z"
   },
   {
    "duration": 57,
    "start_time": "2022-10-19T14:13:05.274Z"
   },
   {
    "duration": 12,
    "start_time": "2022-10-19T14:13:05.332Z"
   },
   {
    "duration": 19,
    "start_time": "2022-10-19T14:13:05.345Z"
   },
   {
    "duration": 16,
    "start_time": "2022-10-19T14:13:05.365Z"
   },
   {
    "duration": 223,
    "start_time": "2022-10-19T14:13:05.383Z"
   },
   {
    "duration": 178,
    "start_time": "2022-10-19T14:13:05.607Z"
   },
   {
    "duration": 29,
    "start_time": "2022-10-19T14:13:05.787Z"
   },
   {
    "duration": 16,
    "start_time": "2022-10-19T14:13:05.821Z"
   },
   {
    "duration": 6,
    "start_time": "2022-10-19T14:13:05.838Z"
   },
   {
    "duration": 21,
    "start_time": "2022-10-19T14:13:05.845Z"
   },
   {
    "duration": 7,
    "start_time": "2022-10-19T14:13:05.867Z"
   },
   {
    "duration": 62,
    "start_time": "2022-10-19T14:13:05.875Z"
   },
   {
    "duration": 39,
    "start_time": "2022-10-19T14:13:05.939Z"
   },
   {
    "duration": 63,
    "start_time": "2022-10-19T14:13:05.980Z"
   },
   {
    "duration": 29,
    "start_time": "2022-10-19T14:13:06.044Z"
   },
   {
    "duration": 36,
    "start_time": "2022-10-19T14:13:06.075Z"
   },
   {
    "duration": 13,
    "start_time": "2022-10-19T14:13:06.115Z"
   },
   {
    "duration": 14,
    "start_time": "2022-10-19T14:13:06.129Z"
   },
   {
    "duration": 9,
    "start_time": "2022-10-19T14:13:06.144Z"
   },
   {
    "duration": 11,
    "start_time": "2022-10-19T14:13:06.154Z"
   },
   {
    "duration": 17,
    "start_time": "2022-10-19T14:13:06.167Z"
   },
   {
    "duration": 19,
    "start_time": "2022-10-19T14:13:06.206Z"
   },
   {
    "duration": 27,
    "start_time": "2022-10-19T14:13:06.227Z"
   },
   {
    "duration": 241,
    "start_time": "2022-10-19T14:13:06.256Z"
   },
   {
    "duration": 238,
    "start_time": "2022-10-19T14:13:06.498Z"
   },
   {
    "duration": 8,
    "start_time": "2022-10-19T14:13:06.737Z"
   },
   {
    "duration": 10,
    "start_time": "2022-10-19T14:13:06.746Z"
   },
   {
    "duration": 5,
    "start_time": "2022-10-19T14:13:06.757Z"
   },
   {
    "duration": 5,
    "start_time": "2022-10-19T14:13:06.764Z"
   },
   {
    "duration": 51,
    "start_time": "2022-10-19T14:13:06.771Z"
   },
   {
    "duration": 11,
    "start_time": "2022-10-19T14:13:06.826Z"
   },
   {
    "duration": 34,
    "start_time": "2022-10-19T14:13:06.839Z"
   },
   {
    "duration": 13,
    "start_time": "2022-10-19T14:13:06.875Z"
   },
   {
    "duration": 6,
    "start_time": "2022-10-19T14:13:06.890Z"
   },
   {
    "duration": 25,
    "start_time": "2022-10-19T14:13:06.898Z"
   },
   {
    "duration": 41,
    "start_time": "2022-10-19T14:13:06.925Z"
   },
   {
    "duration": 10,
    "start_time": "2022-10-19T14:13:06.968Z"
   },
   {
    "duration": 37,
    "start_time": "2022-10-19T14:13:06.980Z"
   },
   {
    "duration": 29,
    "start_time": "2022-10-19T14:13:07.018Z"
   },
   {
    "duration": 13,
    "start_time": "2022-10-19T14:13:07.048Z"
   },
   {
    "duration": 7,
    "start_time": "2022-10-19T14:13:07.063Z"
   },
   {
    "duration": 10,
    "start_time": "2022-10-19T14:13:07.072Z"
   },
   {
    "duration": 45,
    "start_time": "2022-10-19T14:13:07.087Z"
   },
   {
    "duration": 9,
    "start_time": "2022-10-19T14:13:07.134Z"
   },
   {
    "duration": 66,
    "start_time": "2022-10-19T14:13:07.144Z"
   },
   {
    "duration": 1134,
    "start_time": "2022-10-19T14:16:44.469Z"
   },
   {
    "duration": 263,
    "start_time": "2022-10-19T14:16:45.605Z"
   },
   {
    "duration": 11,
    "start_time": "2022-10-19T14:16:45.869Z"
   },
   {
    "duration": 7,
    "start_time": "2022-10-19T14:16:45.883Z"
   },
   {
    "duration": 7,
    "start_time": "2022-10-19T14:16:45.891Z"
   },
   {
    "duration": 58,
    "start_time": "2022-10-19T14:16:45.899Z"
   },
   {
    "duration": 58,
    "start_time": "2022-10-19T14:16:45.959Z"
   },
   {
    "duration": 43,
    "start_time": "2022-10-19T14:16:46.018Z"
   },
   {
    "duration": 77,
    "start_time": "2022-10-19T14:16:46.063Z"
   },
   {
    "duration": 9,
    "start_time": "2022-10-19T14:16:46.144Z"
   },
   {
    "duration": 23,
    "start_time": "2022-10-19T14:16:46.155Z"
   },
   {
    "duration": 48,
    "start_time": "2022-10-19T14:16:46.180Z"
   },
   {
    "duration": 8,
    "start_time": "2022-10-19T14:16:46.230Z"
   },
   {
    "duration": 22,
    "start_time": "2022-10-19T14:16:46.239Z"
   },
   {
    "duration": 22,
    "start_time": "2022-10-19T14:16:46.262Z"
   },
   {
    "duration": 34,
    "start_time": "2022-10-19T14:16:46.285Z"
   },
   {
    "duration": 12,
    "start_time": "2022-10-19T14:16:46.321Z"
   },
   {
    "duration": 27,
    "start_time": "2022-10-19T14:16:46.334Z"
   },
   {
    "duration": 85,
    "start_time": "2022-10-19T14:16:46.363Z"
   },
   {
    "duration": 49,
    "start_time": "2022-10-19T14:16:46.450Z"
   },
   {
    "duration": 118,
    "start_time": "2022-10-19T14:16:46.500Z"
   },
   {
    "duration": 6,
    "start_time": "2022-10-19T14:16:46.619Z"
   },
   {
    "duration": 7,
    "start_time": "2022-10-19T14:16:46.627Z"
   },
   {
    "duration": 13,
    "start_time": "2022-10-19T14:16:46.635Z"
   },
   {
    "duration": 13,
    "start_time": "2022-10-19T14:16:46.650Z"
   },
   {
    "duration": 15,
    "start_time": "2022-10-19T14:16:46.664Z"
   },
   {
    "duration": 51,
    "start_time": "2022-10-19T14:16:46.681Z"
   },
   {
    "duration": 22,
    "start_time": "2022-10-19T14:16:46.736Z"
   },
   {
    "duration": 60,
    "start_time": "2022-10-19T14:16:46.760Z"
   },
   {
    "duration": 64,
    "start_time": "2022-10-19T14:16:46.821Z"
   },
   {
    "duration": 6,
    "start_time": "2022-10-19T14:16:46.886Z"
   },
   {
    "duration": 374,
    "start_time": "2022-10-19T14:16:46.894Z"
   },
   {
    "duration": 313,
    "start_time": "2022-10-19T14:16:47.270Z"
   },
   {
    "duration": 234,
    "start_time": "2022-10-19T14:16:47.585Z"
   },
   {
    "duration": 231,
    "start_time": "2022-10-19T14:16:47.820Z"
   },
   {
    "duration": 10,
    "start_time": "2022-10-19T14:16:48.052Z"
   },
   {
    "duration": 15,
    "start_time": "2022-10-19T14:16:48.064Z"
   },
   {
    "duration": 36,
    "start_time": "2022-10-19T14:16:48.081Z"
   },
   {
    "duration": 241,
    "start_time": "2022-10-19T14:16:48.118Z"
   },
   {
    "duration": 64,
    "start_time": "2022-10-19T14:16:48.361Z"
   },
   {
    "duration": 25,
    "start_time": "2022-10-19T14:16:48.426Z"
   },
   {
    "duration": 20,
    "start_time": "2022-10-19T14:16:48.453Z"
   },
   {
    "duration": 16,
    "start_time": "2022-10-19T14:16:48.475Z"
   },
   {
    "duration": 199,
    "start_time": "2022-10-19T14:16:48.513Z"
   },
   {
    "duration": 170,
    "start_time": "2022-10-19T14:16:48.719Z"
   },
   {
    "duration": 21,
    "start_time": "2022-10-19T14:16:48.891Z"
   },
   {
    "duration": 14,
    "start_time": "2022-10-19T14:16:48.918Z"
   },
   {
    "duration": 5,
    "start_time": "2022-10-19T14:16:48.933Z"
   },
   {
    "duration": 13,
    "start_time": "2022-10-19T14:16:48.940Z"
   },
   {
    "duration": 6,
    "start_time": "2022-10-19T14:16:48.954Z"
   },
   {
    "duration": 67,
    "start_time": "2022-10-19T14:16:48.961Z"
   },
   {
    "duration": 42,
    "start_time": "2022-10-19T14:16:49.029Z"
   },
   {
    "duration": 49,
    "start_time": "2022-10-19T14:16:49.073Z"
   },
   {
    "duration": 29,
    "start_time": "2022-10-19T14:16:49.124Z"
   },
   {
    "duration": 19,
    "start_time": "2022-10-19T14:16:49.155Z"
   },
   {
    "duration": 43,
    "start_time": "2022-10-19T14:16:49.176Z"
   },
   {
    "duration": 12,
    "start_time": "2022-10-19T14:16:49.222Z"
   },
   {
    "duration": 9,
    "start_time": "2022-10-19T14:16:49.235Z"
   },
   {
    "duration": 12,
    "start_time": "2022-10-19T14:16:49.245Z"
   },
   {
    "duration": 16,
    "start_time": "2022-10-19T14:16:49.258Z"
   },
   {
    "duration": 42,
    "start_time": "2022-10-19T14:16:49.275Z"
   },
   {
    "duration": 17,
    "start_time": "2022-10-19T14:16:49.319Z"
   },
   {
    "duration": 228,
    "start_time": "2022-10-19T14:16:49.337Z"
   },
   {
    "duration": 235,
    "start_time": "2022-10-19T14:16:49.567Z"
   },
   {
    "duration": 12,
    "start_time": "2022-10-19T14:16:49.803Z"
   },
   {
    "duration": 14,
    "start_time": "2022-10-19T14:16:49.819Z"
   },
   {
    "duration": 7,
    "start_time": "2022-10-19T14:16:49.835Z"
   },
   {
    "duration": 6,
    "start_time": "2022-10-19T14:16:49.843Z"
   },
   {
    "duration": 22,
    "start_time": "2022-10-19T14:16:49.850Z"
   },
   {
    "duration": 34,
    "start_time": "2022-10-19T14:16:49.874Z"
   },
   {
    "duration": 25,
    "start_time": "2022-10-19T14:16:49.909Z"
   },
   {
    "duration": 10,
    "start_time": "2022-10-19T14:16:49.936Z"
   },
   {
    "duration": 5,
    "start_time": "2022-10-19T14:16:49.948Z"
   },
   {
    "duration": 7,
    "start_time": "2022-10-19T14:16:49.954Z"
   },
   {
    "duration": 54,
    "start_time": "2022-10-19T14:16:49.963Z"
   },
   {
    "duration": 10,
    "start_time": "2022-10-19T14:16:50.020Z"
   },
   {
    "duration": 28,
    "start_time": "2022-10-19T14:16:50.032Z"
   },
   {
    "duration": 21,
    "start_time": "2022-10-19T14:16:50.062Z"
   },
   {
    "duration": 20,
    "start_time": "2022-10-19T14:16:50.085Z"
   },
   {
    "duration": 10,
    "start_time": "2022-10-19T14:16:50.112Z"
   },
   {
    "duration": 9,
    "start_time": "2022-10-19T14:16:50.124Z"
   },
   {
    "duration": 41,
    "start_time": "2022-10-19T14:16:50.137Z"
   },
   {
    "duration": 9,
    "start_time": "2022-10-19T14:16:50.179Z"
   },
   {
    "duration": 60,
    "start_time": "2022-10-19T14:16:50.190Z"
   },
   {
    "duration": 1401,
    "start_time": "2022-10-20T13:04:00.338Z"
   },
   {
    "duration": 986,
    "start_time": "2022-10-20T13:04:01.741Z"
   },
   {
    "duration": 12,
    "start_time": "2022-10-20T13:04:02.728Z"
   },
   {
    "duration": 7,
    "start_time": "2022-10-20T13:04:02.742Z"
   },
   {
    "duration": 8,
    "start_time": "2022-10-20T13:04:02.750Z"
   },
   {
    "duration": 59,
    "start_time": "2022-10-20T13:04:02.760Z"
   },
   {
    "duration": 41,
    "start_time": "2022-10-20T13:04:02.821Z"
   },
   {
    "duration": 69,
    "start_time": "2022-10-20T13:04:02.864Z"
   },
   {
    "duration": 98,
    "start_time": "2022-10-20T13:04:02.934Z"
   },
   {
    "duration": 12,
    "start_time": "2022-10-20T13:04:03.034Z"
   },
   {
    "duration": 27,
    "start_time": "2022-10-20T13:04:03.047Z"
   },
   {
    "duration": 39,
    "start_time": "2022-10-20T13:04:03.076Z"
   },
   {
    "duration": 9,
    "start_time": "2022-10-20T13:04:03.117Z"
   },
   {
    "duration": 23,
    "start_time": "2022-10-20T13:04:03.127Z"
   },
   {
    "duration": 42,
    "start_time": "2022-10-20T13:04:03.152Z"
   },
   {
    "duration": 15,
    "start_time": "2022-10-20T13:04:03.196Z"
   },
   {
    "duration": 9,
    "start_time": "2022-10-20T13:04:03.213Z"
   },
   {
    "duration": 31,
    "start_time": "2022-10-20T13:04:03.223Z"
   },
   {
    "duration": 93,
    "start_time": "2022-10-20T13:04:03.256Z"
   },
   {
    "duration": 69,
    "start_time": "2022-10-20T13:04:03.350Z"
   },
   {
    "duration": 128,
    "start_time": "2022-10-20T13:04:03.420Z"
   },
   {
    "duration": 5,
    "start_time": "2022-10-20T13:04:03.550Z"
   },
   {
    "duration": 8,
    "start_time": "2022-10-20T13:04:03.557Z"
   },
   {
    "duration": 30,
    "start_time": "2022-10-20T13:04:03.566Z"
   },
   {
    "duration": 18,
    "start_time": "2022-10-20T13:04:03.597Z"
   },
   {
    "duration": 18,
    "start_time": "2022-10-20T13:04:03.616Z"
   },
   {
    "duration": 30,
    "start_time": "2022-10-20T13:04:03.636Z"
   },
   {
    "duration": 50,
    "start_time": "2022-10-20T13:04:03.670Z"
   },
   {
    "duration": 53,
    "start_time": "2022-10-20T13:04:03.722Z"
   },
   {
    "duration": 73,
    "start_time": "2022-10-20T13:04:03.794Z"
   },
   {
    "duration": 3,
    "start_time": "2022-10-20T13:04:03.868Z"
   },
   {
    "duration": 433,
    "start_time": "2022-10-20T13:04:03.873Z"
   },
   {
    "duration": 336,
    "start_time": "2022-10-20T13:04:04.308Z"
   },
   {
    "duration": 212,
    "start_time": "2022-10-20T13:04:04.646Z"
   },
   {
    "duration": 271,
    "start_time": "2022-10-20T13:04:04.860Z"
   },
   {
    "duration": 12,
    "start_time": "2022-10-20T13:04:05.132Z"
   },
   {
    "duration": 11,
    "start_time": "2022-10-20T13:04:05.194Z"
   },
   {
    "duration": 16,
    "start_time": "2022-10-20T13:04:05.207Z"
   },
   {
    "duration": 590,
    "start_time": "2022-10-20T13:04:05.225Z"
   },
   {
    "duration": 120,
    "start_time": "2022-10-20T13:04:05.817Z"
   },
   {
    "duration": 66,
    "start_time": "2022-10-20T13:04:05.938Z"
   },
   {
    "duration": 24,
    "start_time": "2022-10-20T13:04:06.006Z"
   },
   {
    "duration": 65,
    "start_time": "2022-10-20T13:04:06.031Z"
   },
   {
    "duration": 510,
    "start_time": "2022-10-20T13:04:06.098Z"
   },
   {
    "duration": 498,
    "start_time": "2022-10-20T13:04:06.610Z"
   },
   {
    "duration": 27,
    "start_time": "2022-10-20T13:04:07.111Z"
   },
   {
    "duration": 76,
    "start_time": "2022-10-20T13:04:07.140Z"
   },
   {
    "duration": 8,
    "start_time": "2022-10-20T13:04:07.217Z"
   },
   {
    "duration": 79,
    "start_time": "2022-10-20T13:04:07.227Z"
   },
   {
    "duration": 4,
    "start_time": "2022-10-20T13:04:07.308Z"
   },
   {
    "duration": 125,
    "start_time": "2022-10-20T13:04:07.314Z"
   },
   {
    "duration": 96,
    "start_time": "2022-10-20T13:04:07.441Z"
   },
   {
    "duration": 98,
    "start_time": "2022-10-20T13:04:07.538Z"
   },
   {
    "duration": 86,
    "start_time": "2022-10-20T13:04:07.638Z"
   },
   {
    "duration": 80,
    "start_time": "2022-10-20T13:04:07.725Z"
   },
   {
    "duration": 14,
    "start_time": "2022-10-20T13:04:07.807Z"
   },
   {
    "duration": 14,
    "start_time": "2022-10-20T13:04:07.822Z"
   },
   {
    "duration": 63,
    "start_time": "2022-10-20T13:04:07.838Z"
   },
   {
    "duration": 12,
    "start_time": "2022-10-20T13:04:07.910Z"
   },
   {
    "duration": 21,
    "start_time": "2022-10-20T13:04:07.924Z"
   },
   {
    "duration": 63,
    "start_time": "2022-10-20T13:04:07.946Z"
   },
   {
    "duration": 85,
    "start_time": "2022-10-20T13:04:08.010Z"
   },
   {
    "duration": 543,
    "start_time": "2022-10-20T13:04:08.096Z"
   },
   {
    "duration": 561,
    "start_time": "2022-10-20T13:04:08.641Z"
   },
   {
    "duration": 13,
    "start_time": "2022-10-20T13:04:09.203Z"
   },
   {
    "duration": 15,
    "start_time": "2022-10-20T13:04:09.218Z"
   },
   {
    "duration": 14,
    "start_time": "2022-10-20T13:04:09.235Z"
   },
   {
    "duration": 5,
    "start_time": "2022-10-20T13:04:09.251Z"
   },
   {
    "duration": 49,
    "start_time": "2022-10-20T13:04:09.257Z"
   },
   {
    "duration": 16,
    "start_time": "2022-10-20T13:04:09.308Z"
   },
   {
    "duration": 19,
    "start_time": "2022-10-20T13:04:09.325Z"
   },
   {
    "duration": 10,
    "start_time": "2022-10-20T13:04:09.346Z"
   },
   {
    "duration": 8,
    "start_time": "2022-10-20T13:04:09.358Z"
   },
   {
    "duration": 28,
    "start_time": "2022-10-20T13:04:09.367Z"
   },
   {
    "duration": 39,
    "start_time": "2022-10-20T13:04:09.397Z"
   },
   {
    "duration": 8,
    "start_time": "2022-10-20T13:04:09.438Z"
   },
   {
    "duration": 26,
    "start_time": "2022-10-20T13:04:09.448Z"
   },
   {
    "duration": 25,
    "start_time": "2022-10-20T13:04:09.476Z"
   },
   {
    "duration": 15,
    "start_time": "2022-10-20T13:04:09.502Z"
   },
   {
    "duration": 10,
    "start_time": "2022-10-20T13:04:09.519Z"
   },
   {
    "duration": 23,
    "start_time": "2022-10-20T13:04:09.531Z"
   },
   {
    "duration": 62,
    "start_time": "2022-10-20T13:04:09.559Z"
   },
   {
    "duration": 5,
    "start_time": "2022-10-20T13:04:09.622Z"
   },
   {
    "duration": 39,
    "start_time": "2022-10-20T13:04:09.629Z"
   },
   {
    "duration": 33,
    "start_time": "2022-10-20T13:28:19.996Z"
   },
   {
    "duration": 1199,
    "start_time": "2022-10-20T13:37:18.051Z"
   },
   {
    "duration": 272,
    "start_time": "2022-10-20T13:37:19.252Z"
   },
   {
    "duration": 14,
    "start_time": "2022-10-20T13:37:19.526Z"
   },
   {
    "duration": 21,
    "start_time": "2022-10-20T13:37:19.542Z"
   },
   {
    "duration": 20,
    "start_time": "2022-10-20T13:37:19.565Z"
   },
   {
    "duration": 69,
    "start_time": "2022-10-20T13:37:19.587Z"
   },
   {
    "duration": 50,
    "start_time": "2022-10-20T13:37:19.658Z"
   },
   {
    "duration": 48,
    "start_time": "2022-10-20T13:37:19.710Z"
   },
   {
    "duration": 90,
    "start_time": "2022-10-20T13:37:19.760Z"
   },
   {
    "duration": 12,
    "start_time": "2022-10-20T13:37:19.852Z"
   },
   {
    "duration": 46,
    "start_time": "2022-10-20T13:37:19.866Z"
   },
   {
    "duration": 34,
    "start_time": "2022-10-20T13:37:19.914Z"
   },
   {
    "duration": 17,
    "start_time": "2022-10-20T13:37:19.949Z"
   },
   {
    "duration": 31,
    "start_time": "2022-10-20T13:37:19.968Z"
   },
   {
    "duration": 25,
    "start_time": "2022-10-20T13:37:20.001Z"
   },
   {
    "duration": 39,
    "start_time": "2022-10-20T13:37:20.028Z"
   },
   {
    "duration": 80,
    "start_time": "2022-10-20T13:37:20.069Z"
   },
   {
    "duration": 68,
    "start_time": "2022-10-20T13:37:20.150Z"
   },
   {
    "duration": 137,
    "start_time": "2022-10-20T13:37:20.219Z"
   },
   {
    "duration": 6,
    "start_time": "2022-10-20T13:37:20.358Z"
   },
   {
    "duration": 13,
    "start_time": "2022-10-20T13:37:20.366Z"
   },
   {
    "duration": 30,
    "start_time": "2022-10-20T13:37:20.381Z"
   },
   {
    "duration": 33,
    "start_time": "2022-10-20T13:37:20.414Z"
   },
   {
    "duration": 28,
    "start_time": "2022-10-20T13:37:20.448Z"
   },
   {
    "duration": 47,
    "start_time": "2022-10-20T13:37:20.478Z"
   },
   {
    "duration": 30,
    "start_time": "2022-10-20T13:37:20.526Z"
   },
   {
    "duration": 58,
    "start_time": "2022-10-20T13:37:20.558Z"
   },
   {
    "duration": 77,
    "start_time": "2022-10-20T13:37:20.621Z"
   },
   {
    "duration": 6,
    "start_time": "2022-10-20T13:37:20.700Z"
   },
   {
    "duration": 474,
    "start_time": "2022-10-20T13:37:20.707Z"
   },
   {
    "duration": 369,
    "start_time": "2022-10-20T13:37:21.182Z"
   },
   {
    "duration": 208,
    "start_time": "2022-10-20T13:37:21.553Z"
   },
   {
    "duration": 250,
    "start_time": "2022-10-20T13:37:21.762Z"
   },
   {
    "duration": 13,
    "start_time": "2022-10-20T13:37:22.014Z"
   },
   {
    "duration": 18,
    "start_time": "2022-10-20T13:37:22.028Z"
   },
   {
    "duration": 13,
    "start_time": "2022-10-20T13:37:22.048Z"
   },
   {
    "duration": 296,
    "start_time": "2022-10-20T13:37:22.063Z"
   },
   {
    "duration": 70,
    "start_time": "2022-10-20T13:37:22.360Z"
   },
   {
    "duration": 16,
    "start_time": "2022-10-20T13:37:22.432Z"
   },
   {
    "duration": 30,
    "start_time": "2022-10-20T13:37:22.449Z"
   },
   {
    "duration": 21,
    "start_time": "2022-10-20T13:37:22.482Z"
   },
   {
    "duration": 244,
    "start_time": "2022-10-20T13:37:22.505Z"
   },
   {
    "duration": 210,
    "start_time": "2022-10-20T13:37:22.751Z"
   },
   {
    "duration": 34,
    "start_time": "2022-10-20T13:37:22.963Z"
   },
   {
    "duration": 25,
    "start_time": "2022-10-20T13:37:23.000Z"
   },
   {
    "duration": 14,
    "start_time": "2022-10-20T13:37:23.028Z"
   },
   {
    "duration": 20,
    "start_time": "2022-10-20T13:37:23.043Z"
   },
   {
    "duration": 10,
    "start_time": "2022-10-20T13:37:23.065Z"
   },
   {
    "duration": 69,
    "start_time": "2022-10-20T13:37:23.077Z"
   },
   {
    "duration": 52,
    "start_time": "2022-10-20T13:37:23.147Z"
   },
   {
    "duration": 42,
    "start_time": "2022-10-20T13:37:23.201Z"
   },
   {
    "duration": 51,
    "start_time": "2022-10-20T13:37:23.244Z"
   },
   {
    "duration": 27,
    "start_time": "2022-10-20T13:37:23.297Z"
   },
   {
    "duration": 12,
    "start_time": "2022-10-20T13:37:23.326Z"
   },
   {
    "duration": 12,
    "start_time": "2022-10-20T13:37:23.339Z"
   },
   {
    "duration": 9,
    "start_time": "2022-10-20T13:37:23.352Z"
   },
   {
    "duration": 13,
    "start_time": "2022-10-20T13:37:23.395Z"
   },
   {
    "duration": 18,
    "start_time": "2022-10-20T13:37:23.410Z"
   },
   {
    "duration": 12,
    "start_time": "2022-10-20T13:37:23.430Z"
   },
   {
    "duration": 51,
    "start_time": "2022-10-20T13:37:23.444Z"
   },
   {
    "duration": 272,
    "start_time": "2022-10-20T13:37:23.496Z"
   },
   {
    "duration": 262,
    "start_time": "2022-10-20T13:37:23.770Z"
   },
   {
    "duration": 8,
    "start_time": "2022-10-20T13:37:24.034Z"
   },
   {
    "duration": 11,
    "start_time": "2022-10-20T13:37:24.044Z"
   },
   {
    "duration": 8,
    "start_time": "2022-10-20T13:37:24.057Z"
   },
   {
    "duration": 28,
    "start_time": "2022-10-20T13:37:24.067Z"
   },
   {
    "duration": 15,
    "start_time": "2022-10-20T13:37:24.096Z"
   },
   {
    "duration": 32,
    "start_time": "2022-10-20T13:37:24.113Z"
   },
   {
    "duration": 22,
    "start_time": "2022-10-20T13:37:24.146Z"
   },
   {
    "duration": 11,
    "start_time": "2022-10-20T13:37:24.171Z"
   },
   {
    "duration": 30,
    "start_time": "2022-10-20T13:37:24.183Z"
   },
   {
    "duration": 10,
    "start_time": "2022-10-20T13:37:24.215Z"
   },
   {
    "duration": 33,
    "start_time": "2022-10-20T13:37:24.226Z"
   },
   {
    "duration": 16,
    "start_time": "2022-10-20T13:37:24.260Z"
   },
   {
    "duration": 26,
    "start_time": "2022-10-20T13:37:24.278Z"
   },
   {
    "duration": 24,
    "start_time": "2022-10-20T13:37:24.306Z"
   },
   {
    "duration": 15,
    "start_time": "2022-10-20T13:37:24.333Z"
   },
   {
    "duration": 8,
    "start_time": "2022-10-20T13:37:24.350Z"
   },
   {
    "duration": 7,
    "start_time": "2022-10-20T13:37:24.360Z"
   },
   {
    "duration": 75,
    "start_time": "2022-10-20T13:37:24.368Z"
   },
   {
    "duration": 6,
    "start_time": "2022-10-20T13:37:24.445Z"
   },
   {
    "duration": 62,
    "start_time": "2022-10-20T13:37:24.455Z"
   },
   {
    "duration": 1181,
    "start_time": "2022-10-20T14:11:30.844Z"
   },
   {
    "duration": 261,
    "start_time": "2022-10-20T14:11:32.028Z"
   },
   {
    "duration": 15,
    "start_time": "2022-10-20T14:11:32.290Z"
   },
   {
    "duration": 14,
    "start_time": "2022-10-20T14:11:32.307Z"
   },
   {
    "duration": 10,
    "start_time": "2022-10-20T14:11:32.322Z"
   },
   {
    "duration": 81,
    "start_time": "2022-10-20T14:11:32.333Z"
   },
   {
    "duration": 37,
    "start_time": "2022-10-20T14:11:32.415Z"
   },
   {
    "duration": 69,
    "start_time": "2022-10-20T14:11:32.454Z"
   },
   {
    "duration": 84,
    "start_time": "2022-10-20T14:11:32.525Z"
   },
   {
    "duration": 15,
    "start_time": "2022-10-20T14:11:32.613Z"
   },
   {
    "duration": 27,
    "start_time": "2022-10-20T14:11:32.630Z"
   },
   {
    "duration": 46,
    "start_time": "2022-10-20T14:11:32.659Z"
   },
   {
    "duration": 19,
    "start_time": "2022-10-20T14:11:32.709Z"
   },
   {
    "duration": 13,
    "start_time": "2022-10-20T14:11:32.729Z"
   },
   {
    "duration": 8,
    "start_time": "2022-10-20T14:11:32.744Z"
   },
   {
    "duration": 53,
    "start_time": "2022-10-20T14:11:32.753Z"
   },
   {
    "duration": 65,
    "start_time": "2022-10-20T14:11:32.809Z"
   },
   {
    "duration": 76,
    "start_time": "2022-10-20T14:11:32.875Z"
   },
   {
    "duration": 136,
    "start_time": "2022-10-20T14:11:32.953Z"
   },
   {
    "duration": 8,
    "start_time": "2022-10-20T14:11:33.094Z"
   },
   {
    "duration": 14,
    "start_time": "2022-10-20T14:11:33.103Z"
   },
   {
    "duration": 17,
    "start_time": "2022-10-20T14:11:33.118Z"
   },
   {
    "duration": 16,
    "start_time": "2022-10-20T14:11:33.137Z"
   },
   {
    "duration": 16,
    "start_time": "2022-10-20T14:11:33.154Z"
   },
   {
    "duration": 46,
    "start_time": "2022-10-20T14:11:33.172Z"
   },
   {
    "duration": 25,
    "start_time": "2022-10-20T14:11:33.220Z"
   },
   {
    "duration": 61,
    "start_time": "2022-10-20T14:11:33.246Z"
   },
   {
    "duration": 71,
    "start_time": "2022-10-20T14:11:33.311Z"
   },
   {
    "duration": 21,
    "start_time": "2022-10-20T14:11:33.384Z"
   },
   {
    "duration": 452,
    "start_time": "2022-10-20T14:11:33.407Z"
   },
   {
    "duration": 574,
    "start_time": "2022-10-20T14:11:33.861Z"
   },
   {
    "duration": 460,
    "start_time": "2022-10-20T14:11:34.437Z"
   },
   {
    "duration": 523,
    "start_time": "2022-10-20T14:11:34.899Z"
   },
   {
    "duration": 16,
    "start_time": "2022-10-20T14:11:35.424Z"
   },
   {
    "duration": 17,
    "start_time": "2022-10-20T14:11:35.495Z"
   },
   {
    "duration": 12,
    "start_time": "2022-10-20T14:11:35.513Z"
   },
   {
    "duration": 527,
    "start_time": "2022-10-20T14:11:35.527Z"
   },
   {
    "duration": 60,
    "start_time": "2022-10-20T14:11:36.055Z"
   },
   {
    "duration": 16,
    "start_time": "2022-10-20T14:11:36.117Z"
   },
   {
    "duration": 19,
    "start_time": "2022-10-20T14:11:36.134Z"
   },
   {
    "duration": 14,
    "start_time": "2022-10-20T14:11:36.155Z"
   },
   {
    "duration": 235,
    "start_time": "2022-10-20T14:11:36.195Z"
   },
   {
    "duration": 225,
    "start_time": "2022-10-20T14:11:36.431Z"
   },
   {
    "duration": 39,
    "start_time": "2022-10-20T14:11:36.658Z"
   },
   {
    "duration": 19,
    "start_time": "2022-10-20T14:11:36.699Z"
   },
   {
    "duration": 9,
    "start_time": "2022-10-20T14:11:36.720Z"
   },
   {
    "duration": 23,
    "start_time": "2022-10-20T14:11:36.730Z"
   },
   {
    "duration": 15,
    "start_time": "2022-10-20T14:11:36.755Z"
   },
   {
    "duration": 71,
    "start_time": "2022-10-20T14:11:36.772Z"
   },
   {
    "duration": 55,
    "start_time": "2022-10-20T14:11:36.845Z"
   },
   {
    "duration": 53,
    "start_time": "2022-10-20T14:11:36.902Z"
   },
   {
    "duration": 61,
    "start_time": "2022-10-20T14:11:36.957Z"
   },
   {
    "duration": 24,
    "start_time": "2022-10-20T14:11:37.020Z"
   },
   {
    "duration": 13,
    "start_time": "2022-10-20T14:11:37.046Z"
   },
   {
    "duration": 35,
    "start_time": "2022-10-20T14:11:37.060Z"
   },
   {
    "duration": 21,
    "start_time": "2022-10-20T14:11:37.096Z"
   },
   {
    "duration": 12,
    "start_time": "2022-10-20T14:11:37.119Z"
   },
   {
    "duration": 18,
    "start_time": "2022-10-20T14:11:37.133Z"
   },
   {
    "duration": 12,
    "start_time": "2022-10-20T14:11:37.153Z"
   },
   {
    "duration": 43,
    "start_time": "2022-10-20T14:11:37.167Z"
   },
   {
    "duration": 260,
    "start_time": "2022-10-20T14:11:37.212Z"
   },
   {
    "duration": 252,
    "start_time": "2022-10-20T14:11:37.475Z"
   },
   {
    "duration": 9,
    "start_time": "2022-10-20T14:11:37.729Z"
   },
   {
    "duration": 11,
    "start_time": "2022-10-20T14:11:37.739Z"
   },
   {
    "duration": 5,
    "start_time": "2022-10-20T14:11:37.752Z"
   },
   {
    "duration": 5,
    "start_time": "2022-10-20T14:11:37.760Z"
   },
   {
    "duration": 41,
    "start_time": "2022-10-20T14:11:37.766Z"
   },
   {
    "duration": 20,
    "start_time": "2022-10-20T14:11:37.808Z"
   },
   {
    "duration": 15,
    "start_time": "2022-10-20T14:11:37.831Z"
   },
   {
    "duration": 8,
    "start_time": "2022-10-20T14:11:37.848Z"
   },
   {
    "duration": 42,
    "start_time": "2022-10-20T14:11:37.859Z"
   },
   {
    "duration": 54,
    "start_time": "2022-10-20T14:11:37.903Z"
   },
   {
    "duration": 6,
    "start_time": "2022-10-20T14:11:37.959Z"
   },
   {
    "duration": 52,
    "start_time": "2022-10-20T14:11:37.967Z"
   },
   {
    "duration": 1171,
    "start_time": "2022-10-20T15:16:30.862Z"
   },
   {
    "duration": 247,
    "start_time": "2022-10-20T15:16:32.035Z"
   },
   {
    "duration": 11,
    "start_time": "2022-10-20T15:16:32.283Z"
   },
   {
    "duration": 9,
    "start_time": "2022-10-20T15:16:32.296Z"
   },
   {
    "duration": 11,
    "start_time": "2022-10-20T15:16:32.306Z"
   },
   {
    "duration": 76,
    "start_time": "2022-10-20T15:16:32.319Z"
   },
   {
    "duration": 38,
    "start_time": "2022-10-20T15:16:32.397Z"
   },
   {
    "duration": 60,
    "start_time": "2022-10-20T15:16:32.436Z"
   },
   {
    "duration": 71,
    "start_time": "2022-10-20T15:16:32.498Z"
   },
   {
    "duration": 27,
    "start_time": "2022-10-20T15:16:32.572Z"
   },
   {
    "duration": 32,
    "start_time": "2022-10-20T15:16:32.601Z"
   },
   {
    "duration": 29,
    "start_time": "2022-10-20T15:16:32.635Z"
   },
   {
    "duration": 41,
    "start_time": "2022-10-20T15:16:32.666Z"
   },
   {
    "duration": 13,
    "start_time": "2022-10-20T15:16:32.709Z"
   },
   {
    "duration": 10,
    "start_time": "2022-10-20T15:16:32.724Z"
   },
   {
    "duration": 58,
    "start_time": "2022-10-20T15:16:32.736Z"
   },
   {
    "duration": 65,
    "start_time": "2022-10-20T15:16:32.797Z"
   },
   {
    "duration": 72,
    "start_time": "2022-10-20T15:16:32.864Z"
   },
   {
    "duration": 125,
    "start_time": "2022-10-20T15:16:32.937Z"
   },
   {
    "duration": 6,
    "start_time": "2022-10-20T15:16:33.064Z"
   },
   {
    "duration": 8,
    "start_time": "2022-10-20T15:16:33.071Z"
   },
   {
    "duration": 13,
    "start_time": "2022-10-20T15:16:33.095Z"
   },
   {
    "duration": 15,
    "start_time": "2022-10-20T15:16:33.109Z"
   },
   {
    "duration": 18,
    "start_time": "2022-10-20T15:16:33.125Z"
   },
   {
    "duration": 28,
    "start_time": "2022-10-20T15:16:33.145Z"
   },
   {
    "duration": 43,
    "start_time": "2022-10-20T15:16:33.174Z"
   },
   {
    "duration": 43,
    "start_time": "2022-10-20T15:16:33.219Z"
   },
   {
    "duration": 95,
    "start_time": "2022-10-20T15:16:33.266Z"
   },
   {
    "duration": 3,
    "start_time": "2022-10-20T15:16:33.363Z"
   },
   {
    "duration": 406,
    "start_time": "2022-10-20T15:16:33.367Z"
   },
   {
    "duration": 309,
    "start_time": "2022-10-20T15:16:33.774Z"
   },
   {
    "duration": 197,
    "start_time": "2022-10-20T15:16:34.085Z"
   },
   {
    "duration": 233,
    "start_time": "2022-10-20T15:16:34.283Z"
   },
   {
    "duration": 11,
    "start_time": "2022-10-20T15:16:34.518Z"
   },
   {
    "duration": 19,
    "start_time": "2022-10-20T15:16:34.531Z"
   },
   {
    "duration": 12,
    "start_time": "2022-10-20T15:16:34.552Z"
   },
   {
    "duration": 266,
    "start_time": "2022-10-20T15:16:34.566Z"
   },
   {
    "duration": 50,
    "start_time": "2022-10-20T15:16:34.833Z"
   },
   {
    "duration": 14,
    "start_time": "2022-10-20T15:16:34.894Z"
   },
   {
    "duration": 20,
    "start_time": "2022-10-20T15:16:34.910Z"
   },
   {
    "duration": 15,
    "start_time": "2022-10-20T15:16:34.931Z"
   },
   {
    "duration": 242,
    "start_time": "2022-10-20T15:16:34.948Z"
   },
   {
    "duration": 190,
    "start_time": "2022-10-20T15:16:35.194Z"
   },
   {
    "duration": 26,
    "start_time": "2022-10-20T15:16:35.386Z"
   },
   {
    "duration": 15,
    "start_time": "2022-10-20T15:16:35.414Z"
   },
   {
    "duration": 5,
    "start_time": "2022-10-20T15:16:35.431Z"
   },
   {
    "duration": 18,
    "start_time": "2022-10-20T15:16:35.438Z"
   },
   {
    "duration": 7,
    "start_time": "2022-10-20T15:16:35.457Z"
   },
   {
    "duration": 73,
    "start_time": "2022-10-20T15:16:35.465Z"
   },
   {
    "duration": 40,
    "start_time": "2022-10-20T15:16:35.539Z"
   },
   {
    "duration": 52,
    "start_time": "2022-10-20T15:16:35.581Z"
   },
   {
    "duration": 34,
    "start_time": "2022-10-20T15:16:35.634Z"
   },
   {
    "duration": 43,
    "start_time": "2022-10-20T15:16:35.669Z"
   },
   {
    "duration": 16,
    "start_time": "2022-10-20T15:16:35.714Z"
   },
   {
    "duration": 14,
    "start_time": "2022-10-20T15:16:35.731Z"
   },
   {
    "duration": 15,
    "start_time": "2022-10-20T15:16:35.747Z"
   },
   {
    "duration": 34,
    "start_time": "2022-10-20T15:16:35.764Z"
   },
   {
    "duration": 17,
    "start_time": "2022-10-20T15:16:35.799Z"
   },
   {
    "duration": 12,
    "start_time": "2022-10-20T15:16:35.817Z"
   },
   {
    "duration": 17,
    "start_time": "2022-10-20T15:16:35.831Z"
   },
   {
    "duration": 257,
    "start_time": "2022-10-20T15:16:35.850Z"
   },
   {
    "duration": 241,
    "start_time": "2022-10-20T15:16:36.113Z"
   },
   {
    "duration": 8,
    "start_time": "2022-10-20T15:16:36.355Z"
   },
   {
    "duration": 9,
    "start_time": "2022-10-20T15:16:36.364Z"
   },
   {
    "duration": 20,
    "start_time": "2022-10-20T15:16:36.375Z"
   },
   {
    "duration": 5,
    "start_time": "2022-10-20T15:16:36.397Z"
   },
   {
    "duration": 16,
    "start_time": "2022-10-20T15:16:36.403Z"
   },
   {
    "duration": 19,
    "start_time": "2022-10-20T15:16:36.420Z"
   },
   {
    "duration": 14,
    "start_time": "2022-10-20T15:16:36.441Z"
   },
   {
    "duration": 8,
    "start_time": "2022-10-20T15:16:36.457Z"
   },
   {
    "duration": 31,
    "start_time": "2022-10-20T15:16:36.467Z"
   },
   {
    "duration": 49,
    "start_time": "2022-10-20T15:16:36.500Z"
   },
   {
    "duration": 5,
    "start_time": "2022-10-20T15:16:36.551Z"
   },
   {
    "duration": 65,
    "start_time": "2022-10-20T15:16:36.558Z"
   },
   {
    "duration": 1187,
    "start_time": "2022-10-20T15:20:44.231Z"
   },
   {
    "duration": 264,
    "start_time": "2022-10-20T15:20:45.420Z"
   },
   {
    "duration": 13,
    "start_time": "2022-10-20T15:20:45.686Z"
   },
   {
    "duration": 9,
    "start_time": "2022-10-20T15:20:45.701Z"
   },
   {
    "duration": 8,
    "start_time": "2022-10-20T15:20:45.712Z"
   },
   {
    "duration": 86,
    "start_time": "2022-10-20T15:20:45.721Z"
   },
   {
    "duration": 39,
    "start_time": "2022-10-20T15:20:45.808Z"
   },
   {
    "duration": 61,
    "start_time": "2022-10-20T15:20:45.848Z"
   },
   {
    "duration": 89,
    "start_time": "2022-10-20T15:20:45.911Z"
   },
   {
    "duration": 11,
    "start_time": "2022-10-20T15:20:46.004Z"
   },
   {
    "duration": 27,
    "start_time": "2022-10-20T15:20:46.017Z"
   },
   {
    "duration": 26,
    "start_time": "2022-10-20T15:20:46.045Z"
   },
   {
    "duration": 35,
    "start_time": "2022-10-20T15:20:46.073Z"
   },
   {
    "duration": 16,
    "start_time": "2022-10-20T15:20:46.111Z"
   },
   {
    "duration": 10,
    "start_time": "2022-10-20T15:20:46.128Z"
   },
   {
    "duration": 30,
    "start_time": "2022-10-20T15:20:46.139Z"
   },
   {
    "duration": 68,
    "start_time": "2022-10-20T15:20:46.194Z"
   },
   {
    "duration": 73,
    "start_time": "2022-10-20T15:20:46.264Z"
   },
   {
    "duration": 128,
    "start_time": "2022-10-20T15:20:46.339Z"
   },
   {
    "duration": 6,
    "start_time": "2022-10-20T15:20:46.468Z"
   },
   {
    "duration": 7,
    "start_time": "2022-10-20T15:20:46.475Z"
   },
   {
    "duration": 15,
    "start_time": "2022-10-20T15:20:46.495Z"
   },
   {
    "duration": 20,
    "start_time": "2022-10-20T15:20:46.512Z"
   },
   {
    "duration": 23,
    "start_time": "2022-10-20T15:20:46.534Z"
   },
   {
    "duration": 49,
    "start_time": "2022-10-20T15:20:46.559Z"
   },
   {
    "duration": 24,
    "start_time": "2022-10-20T15:20:46.610Z"
   },
   {
    "duration": 71,
    "start_time": "2022-10-20T15:20:46.636Z"
   },
   {
    "duration": 98,
    "start_time": "2022-10-20T15:20:46.713Z"
   },
   {
    "duration": 6,
    "start_time": "2022-10-20T15:20:46.813Z"
   },
   {
    "duration": 432,
    "start_time": "2022-10-20T15:20:46.821Z"
   },
   {
    "duration": 319,
    "start_time": "2022-10-20T15:20:47.254Z"
   },
   {
    "duration": 211,
    "start_time": "2022-10-20T15:20:47.575Z"
   },
   {
    "duration": 236,
    "start_time": "2022-10-20T15:20:47.788Z"
   },
   {
    "duration": 12,
    "start_time": "2022-10-20T15:20:48.026Z"
   },
   {
    "duration": 12,
    "start_time": "2022-10-20T15:20:48.039Z"
   },
   {
    "duration": 10,
    "start_time": "2022-10-20T15:20:48.053Z"
   },
   {
    "duration": 281,
    "start_time": "2022-10-20T15:20:48.067Z"
   },
   {
    "duration": 63,
    "start_time": "2022-10-20T15:20:48.350Z"
   },
   {
    "duration": 14,
    "start_time": "2022-10-20T15:20:48.414Z"
   },
   {
    "duration": 23,
    "start_time": "2022-10-20T15:20:48.430Z"
   },
   {
    "duration": 15,
    "start_time": "2022-10-20T15:20:48.454Z"
   },
   {
    "duration": 240,
    "start_time": "2022-10-20T15:20:48.471Z"
   },
   {
    "duration": 188,
    "start_time": "2022-10-20T15:20:48.713Z"
   },
   {
    "duration": 20,
    "start_time": "2022-10-20T15:20:48.902Z"
   },
   {
    "duration": 15,
    "start_time": "2022-10-20T15:20:48.923Z"
   },
   {
    "duration": 5,
    "start_time": "2022-10-20T15:20:48.939Z"
   },
   {
    "duration": 15,
    "start_time": "2022-10-20T15:20:48.946Z"
   },
   {
    "duration": 8,
    "start_time": "2022-10-20T15:20:48.963Z"
   },
   {
    "duration": 69,
    "start_time": "2022-10-20T15:20:48.972Z"
   },
   {
    "duration": 57,
    "start_time": "2022-10-20T15:20:49.042Z"
   },
   {
    "duration": 38,
    "start_time": "2022-10-20T15:20:49.100Z"
   },
   {
    "duration": 31,
    "start_time": "2022-10-20T15:20:49.140Z"
   },
   {
    "duration": 42,
    "start_time": "2022-10-20T15:20:49.172Z"
   },
   {
    "duration": 12,
    "start_time": "2022-10-20T15:20:49.215Z"
   },
   {
    "duration": 12,
    "start_time": "2022-10-20T15:20:49.229Z"
   },
   {
    "duration": 9,
    "start_time": "2022-10-20T15:20:49.243Z"
   },
   {
    "duration": 11,
    "start_time": "2022-10-20T15:20:49.253Z"
   },
   {
    "duration": 44,
    "start_time": "2022-10-20T15:20:49.266Z"
   },
   {
    "duration": 12,
    "start_time": "2022-10-20T15:20:49.311Z"
   },
   {
    "duration": 17,
    "start_time": "2022-10-20T15:20:49.325Z"
   },
   {
    "duration": 266,
    "start_time": "2022-10-20T15:20:49.343Z"
   },
   {
    "duration": 240,
    "start_time": "2022-10-20T15:20:49.611Z"
   },
   {
    "duration": 9,
    "start_time": "2022-10-20T15:20:49.852Z"
   },
   {
    "duration": 12,
    "start_time": "2022-10-20T15:20:49.862Z"
   },
   {
    "duration": 20,
    "start_time": "2022-10-20T15:20:49.875Z"
   },
   {
    "duration": 5,
    "start_time": "2022-10-20T15:20:49.897Z"
   },
   {
    "duration": 14,
    "start_time": "2022-10-20T15:20:49.904Z"
   },
   {
    "duration": 18,
    "start_time": "2022-10-20T15:20:49.919Z"
   },
   {
    "duration": 15,
    "start_time": "2022-10-20T15:20:49.938Z"
   },
   {
    "duration": 8,
    "start_time": "2022-10-20T15:20:49.954Z"
   },
   {
    "duration": 34,
    "start_time": "2022-10-20T15:20:49.964Z"
   },
   {
    "duration": 50,
    "start_time": "2022-10-20T15:20:50.000Z"
   },
   {
    "duration": 6,
    "start_time": "2022-10-20T15:20:50.051Z"
   },
   {
    "duration": 66,
    "start_time": "2022-10-20T15:20:50.059Z"
   }
  ],
  "kernelspec": {
   "display_name": "Python 3",
   "language": "python",
   "name": "python3"
  },
  "language_info": {
   "codemirror_mode": {
    "name": "ipython",
    "version": 3
   },
   "file_extension": ".py",
   "mimetype": "text/x-python",
   "name": "python",
   "nbconvert_exporter": "python",
   "pygments_lexer": "ipython3",
   "version": "3.9.10"
  },
  "toc": {
   "base_numbering": 1,
   "nav_menu": {},
   "number_sections": true,
   "sideBar": true,
   "skip_h1_title": true,
   "title_cell": "Table of Contents",
   "title_sidebar": "Contents",
   "toc_cell": true,
   "toc_position": {
    "height": "calc(100% - 180px)",
    "left": "10px",
    "top": "150px",
    "width": "225.448px"
   },
   "toc_section_display": true,
   "toc_window_display": true
  }
 },
 "nbformat": 4,
 "nbformat_minor": 2
}
